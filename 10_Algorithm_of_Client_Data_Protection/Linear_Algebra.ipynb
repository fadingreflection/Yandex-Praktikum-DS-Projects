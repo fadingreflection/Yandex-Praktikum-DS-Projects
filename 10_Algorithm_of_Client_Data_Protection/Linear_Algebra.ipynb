{
 "cells": [
  {
   "cell_type": "markdown",
   "metadata": {
    "toc": true
   },
   "source": [
    "<h1>Содержание<span class=\"tocSkip\"></span></h1>\n",
    "<div class=\"toc\"><ul class=\"toc-item\"><li><span><a href=\"#Загрузка-данных\" data-toc-modified-id=\"Загрузка-данных-1\"><span class=\"toc-item-num\">1&nbsp;&nbsp;</span>Загрузка данных</a></span><ul class=\"toc-item\"><li><span><a href=\"#Импорт-модулей-и-библиотек\" data-toc-modified-id=\"Импорт-модулей-и-библиотек-1.1\"><span class=\"toc-item-num\">1.1&nbsp;&nbsp;</span>Импорт модулей и библиотек</a></span></li><li><span><a href=\"#Первичный-взгляд-на-данные\" data-toc-modified-id=\"Первичный-взгляд-на-данные-1.2\"><span class=\"toc-item-num\">1.2&nbsp;&nbsp;</span>Первичный взгляд на данные</a></span></li></ul></li><li><span><a href=\"#Умножение-матриц\" data-toc-modified-id=\"Умножение-матриц-2\"><span class=\"toc-item-num\">2&nbsp;&nbsp;</span>Умножение матриц</a></span></li><li><span><a href=\"#Алгоритм-преобразования\" data-toc-modified-id=\"Алгоритм-преобразования-3\"><span class=\"toc-item-num\">3&nbsp;&nbsp;</span>Алгоритм преобразования</a></span><ul class=\"toc-item\"><li><span><a href=\"#Для-начала-сгенерируем-обратимую-матрицу,-помня,-что-она-должна-быть-соразмерна-матрице-фич-и-непременно-квадратная\" data-toc-modified-id=\"Для-начала-сгенерируем-обратимую-матрицу,-помня,-что-она-должна-быть-соразмерна-матрице-фич-и-непременно-квадратная-3.1\"><span class=\"toc-item-num\">3.1&nbsp;&nbsp;</span>Для начала сгенерируем обратимую матрицу, помня, что она должна быть соразмерна матрице фич и непременно квадратная</a></span></li><li><span><a href=\"#Теперь-разделим-данные-на-фичи-и-таргет-и-произведем-скалирование-признаков.\" data-toc-modified-id=\"Теперь-разделим-данные-на-фичи-и-таргет-и-произведем-скалирование-признаков.-3.2\"><span class=\"toc-item-num\">3.2&nbsp;&nbsp;</span>Теперь разделим данные на фичи и таргет и произведем скалирование признаков.</a></span></li><li><span><a href=\"#Рассчитаем-весА-для-признаков-по-формуле\" data-toc-modified-id=\"Рассчитаем-весА-для-признаков-по-формуле-3.3\"><span class=\"toc-item-num\">3.3&nbsp;&nbsp;</span>Рассчитаем весА для признаков по формуле</a></span></li><li><span><a href=\"#и-получим-предсказания-по-формуле\" data-toc-modified-id=\"и-получим-предсказания-по-формуле-3.4\"><span class=\"toc-item-num\">3.4&nbsp;&nbsp;</span>и получим предсказания по формуле</a></span></li></ul></li><li><span><a href=\"#Проверка-алгоритма\" data-toc-modified-id=\"Проверка-алгоритма-4\"><span class=\"toc-item-num\">4&nbsp;&nbsp;</span>Проверка алгоритма</a></span><ul class=\"toc-item\"><li><span><a href=\"#Проверим-модель-на-масштабированных-исходных-данных\" data-toc-modified-id=\"Проверим-модель-на-масштабированных-исходных-данных-4.1\"><span class=\"toc-item-num\">4.1&nbsp;&nbsp;</span>Проверим модель на масштабированных исходных данных</a></span></li><li><span><a href=\"#Проверим-модель-на-измененных-фичах\" data-toc-modified-id=\"Проверим-модель-на-измененных-фичах-4.2\"><span class=\"toc-item-num\">4.2&nbsp;&nbsp;</span>Проверим модель на измененных фичах</a></span></li></ul></li><li><span><a href=\"#Чек-лист-проверки\" data-toc-modified-id=\"Чек-лист-проверки-5\"><span class=\"toc-item-num\">5&nbsp;&nbsp;</span>Чек-лист проверки</a></span></li></ul></div>"
   ]
  },
  {
   "cell_type": "markdown",
   "metadata": {},
   "source": [
    "# Защита персональных данных клиентов"
   ]
  },
  {
   "cell_type": "markdown",
   "metadata": {},
   "source": [
    "Вам нужно защитить данные клиентов страховой компании «Хоть потоп». Разработайте такой метод преобразования данных, чтобы по ним было сложно восстановить персональную информацию. Обоснуйте корректность его работы.\n",
    "\n",
    "Нужно защитить данные, чтобы при преобразовании качество моделей машинного обучения не ухудшилось. Подбирать наилучшую модель не требуется."
   ]
  },
  {
   "cell_type": "markdown",
   "metadata": {},
   "source": [
    "## Загрузка данных"
   ]
  },
  {
   "cell_type": "markdown",
   "metadata": {},
   "source": [
    "### Импорт модулей и библиотек"
   ]
  },
  {
   "cell_type": "code",
   "execution_count": 1,
   "metadata": {},
   "outputs": [],
   "source": [
    "import pandas as pd\n",
    "import numpy as np\n",
    "from sklearn.preprocessing import StandardScaler\n",
    "from sklearn.linear_model import LinearRegression\n",
    "from sklearn.metrics import r2_score, mean_squared_error"
   ]
  },
  {
   "cell_type": "markdown",
   "metadata": {},
   "source": [
    "### Первичный взгляд на данные"
   ]
  },
  {
   "cell_type": "code",
   "execution_count": 2,
   "metadata": {},
   "outputs": [
    {
     "name": "stdout",
     "output_type": "stream",
     "text": [
      "(5000, 5)\n",
      "Пол                  0\n",
      "Возраст              0\n",
      "Зарплата             0\n",
      "Члены семьи          0\n",
      "Страховые выплаты    0\n",
      "dtype: int64\n",
      "153\n"
     ]
    }
   ],
   "source": [
    "#загрузим данные\n",
    "data = pd.read_csv('/datasets/insurance.csv')\n",
    "print(data.shape)\n",
    "data.head(5)\n",
    "\n",
    "#проверим пропуски\n",
    "print(data.isna().sum())\n",
    "print(data.duplicated().sum())"
   ]
  },
  {
   "cell_type": "markdown",
   "metadata": {},
   "source": [
    "<b>Вывод:</b> 4 фичи и один целевой признак. 5000 наблюдений, пропусков нет. Дубликаты присутствуют, но их нецелесообразно удалять, т.к. могут быть лица одного пола и возраста, с равным кол-вом членов семьи и равным доходом. Оставим их."
   ]
  },
  {
   "cell_type": "markdown",
   "metadata": {},
   "source": [
    "## Умножение матриц"
   ]
  },
  {
   "cell_type": "markdown",
   "metadata": {},
   "source": [
    "В этом задании вы можете записывать формулы в *Jupyter Notebook.*\n",
    "\n",
    "Чтобы записать формулу внутри текста, окружите её символами доллара \\\\$; если снаружи —  двойными символами \\\\$\\\\$. Эти формулы записываются на языке вёрстки *LaTeX.* \n",
    "\n",
    "Для примера мы записали формулы линейной регрессии. Можете их скопировать и отредактировать, чтобы решить задачу.\n",
    "\n",
    "Работать в *LaTeX* необязательно."
   ]
  },
  {
   "cell_type": "markdown",
   "metadata": {},
   "source": [
    "Обозначения:\n",
    "\n",
    "- $X$ — матрица признаков (нулевой столбец состоит из единиц)\n",
    "\n",
    "- $y$ — вектор целевого признака\n",
    "\n",
    "- $P$ — матрица, на которую умножаются признаки\n",
    "\n",
    "- $w$ — вектор весов линейной регрессии (нулевой элемент равен сдвигу)"
   ]
  },
  {
   "cell_type": "markdown",
   "metadata": {},
   "source": [
    "Предсказания:\n",
    "\n",
    "$$\n",
    "a = Xw\n",
    "$$\n",
    "\n",
    "Задача обучения:\n",
    "\n",
    "$$\n",
    "w = \\arg\\min_w MSE(Xw, y)\n",
    "$$\n",
    "\n",
    "Формула обучения:\n",
    "\n",
    "$$\n",
    "w = (X^T X)^{-1} X^T y\n",
    "$$"
   ]
  },
  {
   "cell_type": "markdown",
   "metadata": {},
   "source": [
    "<b>Задача:</b> Признаки умножают на обратимую матрицу. Изменится ли качество линейной регрессии? (Её можно обучить заново.)\n",
    "\n",
    "a. Изменится. Приведите примеры матриц.\n",
    "\n",
    "b. Не изменится. Укажите, как связаны параметры линейной регрессии в исходной задаче и в преобразованной."
   ]
  },
  {
   "cell_type": "markdown",
   "metadata": {},
   "source": [
    "**Ответ:** качество модели не изменится\n",
    "\n",
    "**Обоснование:** ключевые формулы, с которыми мы работаем выглядят следующим образом:\n",
    "$$\n",
    "a = Xw\n",
    "$$\n",
    "\n",
    "$$\n",
    "w = (X^T X)^{-1} X^T y\n",
    "$$\n",
    "\n",
    "Следовательно, полная формула получения предсказаний будет выглядеть как:\n",
    "$$\n",
    "a = Х((X^T X)^{-1} X^T y)\n",
    "$$\n",
    "\n",
    "Раскроем скобки:\n",
    "$$\n",
    "a = Х(X^T)^{-1}X^{-1} X^T y\n",
    "$$\n",
    "\n",
    "Перегруппируем формулу:\n",
    "$$\n",
    "a = ХX^{-1}(X^T)^{-1}X^T y\n",
    "$$\n",
    "\n",
    "Проверим, что рассуждения верны. Пусть $P$ - обратимая матрица; представим новую матрицу фич  как произведение старой  на $P$:\n",
    "\n",
    "$X1 = XP$\n",
    "\n",
    "Подставим новое значение в формулу нахождения весов:\n",
    "$\n",
    "w1 = ((XP^T)XP^-1)(XP)^Ty\n",
    "$\n",
    "\n",
    "Раскроем первое произведение $(XP)^T$:\n",
    "\n",
    "$\n",
    "w1 = ((P^T X^T XP)^{-1})P^TX^Ty\n",
    "$\n",
    "\n",
    "Перегруппируем множители в скобках:\n",
    "\n",
    "$((P^T(X^T X)P)^{-1})P^TX^Ty\n",
    "$\n",
    "\n",
    "Раскроем скобки $(P^T(X^T X)P)^{-1}$ :\n",
    "\n",
    "$\n",
    "w1 = P^{-1}(X^T X)^{-1} (P^T)^{-1} P^T X^T y\n",
    "$\n",
    "\n",
    "Так как  по условию $P$ - обратимая матрица, произведение  $PP^{-1}$равно $E$, равно как и:\n",
    "$\n",
    "P^T(P^T)^{-1} = E\n",
    "$\n",
    "\n",
    "Получается:\n",
    "$\n",
    "w1 = P^{-1}(X^T X)^{-1} E X^T y = P^{-1}(X^T X)^{-1} X^T y\n",
    "$\n",
    "\n",
    "Таким образом, справа получаем формулу для расчета $w$:\n",
    "\n",
    "$\n",
    "w1 = P^{-1}(X^T X)^{-1} X^T y = P^{-1}w\n",
    "$\n",
    "\n",
    "Подставляем 𝑤1 в формулу для предсказаний (а1):\n",
    "\n",
    "$\n",
    "a1 = (XP)W1 = (XP)P^{-1}w\n",
    "$\n",
    "\n",
    "\n",
    "Так как  по условию матрица $P$ обратимая, то $PP^{-1} = E$, следовательно:\n",
    "$\n",
    "a1 = (XP)P^{-1}w = XPP^{-1}w = XEw = Xw = a\n",
    "$\n",
    "\n",
    "Что и требовалось доказать"
   ]
  },
  {
   "cell_type": "markdown",
   "metadata": {},
   "source": [
    "## Алгоритм преобразования"
   ]
  },
  {
   "cell_type": "markdown",
   "metadata": {},
   "source": [
    "**Алгоритм**\n",
    "\n",
    "Чтобы защитить данные и при этом не потерять качество показателей модели, нужно создать алгоритм, который будет умножать матрицу признаков на обратимую матрицу $Р$\n",
    "\n",
    "Соответственно, алгоритм нужно:\n",
    "- создать\n",
    "- умножить матрицу признаков на обратимую матрицу"
   ]
  },
  {
   "cell_type": "markdown",
   "metadata": {},
   "source": [
    "**Обоснование**\n",
    "\n",
    "Как уже было доказано выше, качество модели линейной регрессии не изменится при умножении фич на обратимую матрицу"
   ]
  },
  {
   "cell_type": "markdown",
   "metadata": {},
   "source": [
    "### Для начала сгенерируем обратимую матрицу, помня, что она должна быть соразмерна матрице фич и непременно квадратная"
   ]
  },
  {
   "cell_type": "code",
   "execution_count": 3,
   "metadata": {},
   "outputs": [
    {
     "data": {
      "text/plain": [
       "array([[-1.99124768,  0.85481488,  0.78105473,  0.34501743],\n",
       "       [ 0.45164751, -0.35158339, -0.48780654,  0.39561126],\n",
       "       [-0.78020385,  0.11433781,  1.04408754, -0.37986456],\n",
       "       [ 2.32105822, -0.61296214, -1.34039794, -0.35360835]])"
      ]
     },
     "execution_count": 3,
     "metadata": {},
     "output_type": "execute_result"
    }
   ],
   "source": [
    "#создадим матрицу размера 4х4\n",
    "matrix = np.random.normal(100, size = (4,4))\n",
    "\n",
    "#проверим ее на обратимость\n",
    "np.linalg.inv(matrix)"
   ]
  },
  {
   "cell_type": "markdown",
   "metadata": {},
   "source": [
    "### Теперь разделим данные на фичи и таргет и произведем скалирование признаков."
   ]
  },
  {
   "cell_type": "code",
   "execution_count": 4,
   "metadata": {},
   "outputs": [
    {
     "name": "stdout",
     "output_type": "stream",
     "text": [
      "5000 5000\n"
     ]
    }
   ],
   "source": [
    "#разделим данные\n",
    "data_x = data.drop(['Страховые выплаты'], axis = 1)\n",
    "data_y = data['Страховые выплаты']\n",
    "\n",
    "#проверим размерность\n",
    "print(len(data_x), len(data_y))\n",
    "\n",
    "#произведем скалирование фич\n",
    "scaler = StandardScaler()\n",
    "scaler.fit(data_x)\n",
    "data_x_scaled = scaler.transform(data_x)"
   ]
  },
  {
   "cell_type": "markdown",
   "metadata": {},
   "source": [
    "### Рассчитаем весА для признаков по формуле \n",
    "$$\n",
    "w = (X^T X)^{-1} X^T y\n",
    "$$\n",
    "\n",
    "### и получим предсказания по формуле\n",
    "\n",
    "$$\n",
    "𝑎 = 𝑋𝑤\n",
    "$$"
   ]
  },
  {
   "cell_type": "code",
   "execution_count": 5,
   "metadata": {},
   "outputs": [
    {
     "data": {
      "text/plain": [
       "-5.71632324808391e-12"
      ]
     },
     "execution_count": 5,
     "metadata": {},
     "output_type": "execute_result"
    }
   ],
   "source": [
    "#рассчитаем веса для масштаб. исходных пр-ков\n",
    "w = np.linalg.inv(data_x_scaled.T @ data_x_scaled)@data_x_scaled.T@data_y\n",
    "#расчитаем вектор предсказаний для исходных пр-ов \n",
    "a = data_x_scaled @ w\n",
    "\n",
    "#умножим матрицу фич на обратимую матрицу\n",
    "data_x_scaled_p = data_x_scaled @ matrix\n",
    "\n",
    "#расчитаем веса для преобразованных признаков \n",
    "w1 = np.linalg.inv(data_x_scaled_p.T @ data_x_scaled_p)@data_x_scaled_p.T@data_y\n",
    "#расчитаем вектор предсказаний для преобразованным пр-ов\n",
    "a1 = data_x_scaled_p @ w1\n",
    "\n",
    "#создадим вектор разности между а и а1 :\n",
    "loss = a - a1\n",
    "#просуммируем все элементы вектора и оценим кол-во потерь\n",
    "loss.sum()"
   ]
  },
  {
   "cell_type": "markdown",
   "metadata": {},
   "source": [
    "<b>Вывод:</b> как мы видим, на 5000 строк ошибка минимальная. Из этого предполагаем, что $a = a1$, качество модели не ухудшилось. Проверим это на практике"
   ]
  },
  {
   "cell_type": "markdown",
   "metadata": {},
   "source": [
    "## Проверка алгоритма"
   ]
  },
  {
   "cell_type": "markdown",
   "metadata": {},
   "source": [
    "### Проверим модель на масштабированных исходных данных"
   ]
  },
  {
   "cell_type": "code",
   "execution_count": 6,
   "metadata": {},
   "outputs": [
    {
     "name": "stdout",
     "output_type": "stream",
     "text": [
      "MSE составляет: 0.12334688941710859\n",
      "R2_Score на исходных данных составляет:  0.4249455028666801\n"
     ]
    }
   ],
   "source": [
    "#создадим модель линейной регрессии\n",
    "model = LinearRegression(normalize = True)\n",
    "\n",
    "#обучим ее на масштабированных признаках\n",
    "model.fit(data_x_scaled, data_y)\n",
    "#получим предсказания\n",
    "predictions = model.predict(data_x_scaled)\n",
    "#рассчитаем MSE\n",
    "mse = mean_squared_error(data_y, predictions)\n",
    "print('MSE составляет:', mse)\n",
    "print('R2_Score на исходных данных составляет: ',r2_score(data_y, predictions))"
   ]
  },
  {
   "cell_type": "markdown",
   "metadata": {},
   "source": [
    "### Проверим модель на измененных фичах"
   ]
  },
  {
   "cell_type": "code",
   "execution_count": 7,
   "metadata": {},
   "outputs": [
    {
     "name": "stdout",
     "output_type": "stream",
     "text": [
      "MSE составляет: 0.1233468894171088\n",
      "R2_Score на измененных данных составляет:  0.4249455028666792\n"
     ]
    }
   ],
   "source": [
    "#обучим модель на измененных признаках\n",
    "model.fit(data_x_scaled_p, data_y)\n",
    "#получим предсказания\n",
    "predictions = model.predict(data_x_scaled_p)\n",
    "#рассчитаем MSE\n",
    "mse = mean_squared_error(data_y, predictions)\n",
    "print('MSE составляет:', mse)\n",
    "print('R2_Score на измененных данных составляет: ',r2_score(data_y, predictions))"
   ]
  },
  {
   "cell_type": "markdown",
   "metadata": {},
   "source": [
    "<b>Вывод:</b> разницы в показателях не выявлено, что на исходных масштабированных данных, что после преобразования фич с помощью обратимой матрицы предсказания линейной регрессии остаются такими же."
   ]
  },
  {
   "cell_type": "markdown",
   "metadata": {},
   "source": [
    "## Чек-лист проверки"
   ]
  },
  {
   "cell_type": "markdown",
   "metadata": {},
   "source": [
    "Поставьте 'x' в выполненных пунктах. Далее нажмите Shift+Enter."
   ]
  },
  {
   "cell_type": "markdown",
   "metadata": {},
   "source": [
    "- [x]  Jupyter Notebook открыт\n",
    "- [x]  Весь код выполняется без ошибок\n",
    "- [x]  Ячейки с кодом расположены в порядке исполнения\n",
    "- [x]  Выполнен шаг 1: данные загружены\n",
    "- [x]  Выполнен шаг 2: получен ответ на вопрос об умножении матриц\n",
    "    - [x]  Указан правильный вариант ответа\n",
    "    - [x]  Вариант обоснован\n",
    "- [x]  Выполнен шаг 3: предложен алгоритм преобразования\n",
    "    - [x]  Алгоритм описан\n",
    "    - [x]  Алгоритм обоснован\n",
    "- [x]  Выполнен шаг 4: алгоритм проверен\n",
    "    - [x]  Алгоритм реализован\n",
    "    - [x]  Проведено сравнение качества моделей до и после преобразования"
   ]
  }
 ],
 "metadata": {
  "ExecuteTimeLog": [
   {
    "duration": 413,
    "start_time": "2022-04-02T12:35:52.796Z"
   },
   {
    "duration": 65,
    "start_time": "2022-04-02T12:35:54.614Z"
   },
   {
    "duration": 7,
    "start_time": "2022-04-02T12:35:58.728Z"
   },
   {
    "duration": 42,
    "start_time": "2022-04-02T12:36:03.142Z"
   },
   {
    "duration": 20,
    "start_time": "2022-04-02T12:36:13.645Z"
   },
   {
    "duration": 24,
    "start_time": "2022-04-02T12:36:20.054Z"
   },
   {
    "duration": 3,
    "start_time": "2022-04-02T12:41:12.240Z"
   },
   {
    "duration": 23,
    "start_time": "2022-04-02T12:41:14.225Z"
   },
   {
    "duration": 762,
    "start_time": "2022-04-02T12:51:43.590Z"
   },
   {
    "duration": 8,
    "start_time": "2022-04-02T12:51:54.055Z"
   },
   {
    "duration": 42,
    "start_time": "2022-04-02T12:52:22.112Z"
   },
   {
    "duration": 128,
    "start_time": "2022-04-02T12:52:39.087Z"
   },
   {
    "duration": 2,
    "start_time": "2022-04-02T12:52:43.533Z"
   },
   {
    "duration": 52,
    "start_time": "2022-04-02T15:50:37.102Z"
   },
   {
    "duration": 68,
    "start_time": "2022-04-02T17:08:44.823Z"
   },
   {
    "duration": 3,
    "start_time": "2022-04-02T17:08:53.461Z"
   },
   {
    "duration": 47,
    "start_time": "2022-04-02T17:08:53.471Z"
   },
   {
    "duration": 9,
    "start_time": "2022-04-02T17:08:58.537Z"
   },
   {
    "duration": 3,
    "start_time": "2022-04-02T17:09:06.302Z"
   },
   {
    "duration": 8,
    "start_time": "2022-04-02T17:09:36.110Z"
   },
   {
    "duration": 4,
    "start_time": "2022-04-02T17:10:07.909Z"
   },
   {
    "duration": 19,
    "start_time": "2022-04-02T17:10:30.927Z"
   },
   {
    "duration": 24,
    "start_time": "2022-04-02T17:10:46.385Z"
   },
   {
    "duration": 5,
    "start_time": "2022-04-02T17:11:19.194Z"
   },
   {
    "duration": 6,
    "start_time": "2022-04-02T17:12:05.173Z"
   },
   {
    "duration": 16,
    "start_time": "2022-04-02T17:15:24.569Z"
   },
   {
    "duration": 13,
    "start_time": "2022-04-02T17:15:30.517Z"
   },
   {
    "duration": 14,
    "start_time": "2022-04-02T17:15:48.090Z"
   },
   {
    "duration": 4,
    "start_time": "2022-04-02T17:15:59.893Z"
   },
   {
    "duration": 4,
    "start_time": "2022-04-02T17:16:15.695Z"
   },
   {
    "duration": 11,
    "start_time": "2022-04-02T17:17:36.009Z"
   },
   {
    "duration": 11,
    "start_time": "2022-04-02T17:17:45.050Z"
   },
   {
    "duration": 4,
    "start_time": "2022-04-02T17:18:17.935Z"
   },
   {
    "duration": 9,
    "start_time": "2022-04-02T17:18:23.549Z"
   },
   {
    "duration": 13,
    "start_time": "2022-04-02T17:18:29.502Z"
   },
   {
    "duration": 11,
    "start_time": "2022-04-02T17:18:41.559Z"
   },
   {
    "duration": 14,
    "start_time": "2022-04-02T17:22:18.139Z"
   },
   {
    "duration": 11,
    "start_time": "2022-04-02T17:22:26.701Z"
   },
   {
    "duration": 11,
    "start_time": "2022-04-02T17:23:52.636Z"
   },
   {
    "duration": 42,
    "start_time": "2022-04-02T17:23:57.489Z"
   },
   {
    "duration": 13,
    "start_time": "2022-04-02T17:24:00.205Z"
   },
   {
    "duration": 18,
    "start_time": "2022-04-02T17:28:21.580Z"
   },
   {
    "duration": 15,
    "start_time": "2022-04-02T17:31:34.563Z"
   },
   {
    "duration": 14,
    "start_time": "2022-04-02T17:33:17.819Z"
   },
   {
    "duration": 110,
    "start_time": "2022-04-02T17:35:18.923Z"
   },
   {
    "duration": 13,
    "start_time": "2022-04-02T17:36:25.516Z"
   },
   {
    "duration": 11,
    "start_time": "2022-04-02T17:38:36.249Z"
   },
   {
    "duration": 163,
    "start_time": "2022-04-02T17:39:03.470Z"
   },
   {
    "duration": 102,
    "start_time": "2022-04-02T17:39:46.431Z"
   },
   {
    "duration": 3,
    "start_time": "2022-04-02T17:40:08.201Z"
   },
   {
    "duration": 35,
    "start_time": "2022-04-02T17:40:08.215Z"
   },
   {
    "duration": 6,
    "start_time": "2022-04-02T17:40:08.252Z"
   },
   {
    "duration": 83,
    "start_time": "2022-04-02T17:40:08.260Z"
   },
   {
    "duration": 77,
    "start_time": "2022-04-02T17:40:40.857Z"
   },
   {
    "duration": 20,
    "start_time": "2022-04-02T17:41:36.253Z"
   },
   {
    "duration": 50,
    "start_time": "2022-04-02T17:41:46.985Z"
   },
   {
    "duration": 8,
    "start_time": "2022-04-02T17:41:53.578Z"
   },
   {
    "duration": 9,
    "start_time": "2022-04-02T17:42:53.696Z"
   },
   {
    "duration": 23,
    "start_time": "2022-04-02T17:43:44.087Z"
   },
   {
    "duration": 15,
    "start_time": "2022-04-02T17:49:20.095Z"
   },
   {
    "duration": 14,
    "start_time": "2022-04-02T17:49:46.875Z"
   },
   {
    "duration": 14,
    "start_time": "2022-04-02T17:50:14.390Z"
   },
   {
    "duration": 14,
    "start_time": "2022-04-02T17:50:24.063Z"
   },
   {
    "duration": 8,
    "start_time": "2022-04-02T17:50:53.598Z"
   },
   {
    "duration": 3,
    "start_time": "2022-04-02T17:51:37.620Z"
   },
   {
    "duration": 10,
    "start_time": "2022-04-02T17:51:42.181Z"
   },
   {
    "duration": 10,
    "start_time": "2022-04-02T17:52:28.552Z"
   },
   {
    "duration": 25,
    "start_time": "2022-04-02T17:58:26.648Z"
   },
   {
    "duration": 22,
    "start_time": "2022-04-02T17:58:49.113Z"
   },
   {
    "duration": 91425,
    "start_time": "2022-04-03T11:33:03.738Z"
   },
   {
    "duration": 69,
    "start_time": "2022-04-03T11:34:35.165Z"
   },
   {
    "duration": 14,
    "start_time": "2022-04-03T11:43:29.056Z"
   },
   {
    "duration": 12,
    "start_time": "2022-04-03T11:44:06.934Z"
   },
   {
    "duration": 76,
    "start_time": "2022-04-03T11:44:08.625Z"
   },
   {
    "duration": 24,
    "start_time": "2022-04-03T11:44:48.092Z"
   },
   {
    "duration": 8,
    "start_time": "2022-04-03T11:44:49.058Z"
   }
  ],
  "kernelspec": {
   "display_name": "Python 3 (ipykernel)",
   "language": "python",
   "name": "python3"
  },
  "language_info": {
   "codemirror_mode": {
    "name": "ipython",
    "version": 3
   },
   "file_extension": ".py",
   "mimetype": "text/x-python",
   "name": "python",
   "nbconvert_exporter": "python",
   "pygments_lexer": "ipython3",
   "version": "3.9.7"
  },
  "toc": {
   "base_numbering": 1,
   "nav_menu": {},
   "number_sections": true,
   "sideBar": true,
   "skip_h1_title": true,
   "title_cell": "Содержание",
   "title_sidebar": "Contents",
   "toc_cell": true,
   "toc_position": {},
   "toc_section_display": true,
   "toc_window_display": true
  }
 },
 "nbformat": 4,
 "nbformat_minor": 2
}
