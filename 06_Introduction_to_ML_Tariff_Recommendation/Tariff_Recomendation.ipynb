{
 "cells": [
  {
   "cell_type": "markdown",
   "metadata": {},
   "source": [
    "# Рекомендация тарифов"
   ]
  },
  {
   "cell_type": "markdown",
   "metadata": {},
   "source": [
    "В вашем распоряжении данные о поведении пользователей тарифов. Нужно построить модель для задачи классификации, которая выберет подходящий тариф. \n",
    "\n",
    "Постройте модель с максимально большим значением *accuracy*. Нужно довести долю правильных ответов по крайней мере до 0.75."
   ]
  },
  {
   "cell_type": "markdown",
   "metadata": {},
   "source": [
    "<b> Этапы задачи </b>\n",
    "1. Импорт необходимых библиотек и модулей\n",
    "2. Открытие файла и первичный взгляд на данные\n",
    "3. Разбивка данные на тренировочную и тестовую выборки.\n",
    "4. Проверка модели на адекватности с помощью Dummy\n",
    "5. Проверка модели \"решающего дерева\"\n",
    "6. Проверка модели \"случайного леса\"\n",
    "7. Проверка модели логистической регрессии\n",
    "7. Тестирование всех моделей на тестовой выборке. Сравнение показетелей.\n",
    "8. Выбор оптимальной модели и общий вывод."
   ]
  },
  {
   "cell_type": "markdown",
   "metadata": {},
   "source": [
    "## Откройте и изучите файл"
   ]
  },
  {
   "cell_type": "markdown",
   "metadata": {},
   "source": [
    "### Импорт библиотек и модулей"
   ]
  },
  {
   "cell_type": "code",
   "execution_count": 93,
   "metadata": {},
   "outputs": [],
   "source": [
    "import time\n",
    "\n",
    "#импортируем библиотеки\n",
    "import pandas as pd\n",
    "\n",
    "#импортируем встроенные ф-ции sklearn\n",
    "from sklearn.model_selection import train_test_split, GridSearchCV\n",
    "from sklearn.metrics import accuracy_score\n",
    "\n",
    "#импортируем алгоритмы обучения модели\n",
    "from sklearn.tree import DecisionTreeClassifier\n",
    "from sklearn.ensemble import RandomForestClassifier\n",
    "from sklearn.linear_model import LogisticRegression\n",
    "from sklearn.dummy import DummyClassifier as dummy_clf"
   ]
  },
  {
   "cell_type": "markdown",
   "metadata": {},
   "source": [
    "### Первичный взгляд на данные"
   ]
  },
  {
   "cell_type": "code",
   "execution_count": 94,
   "metadata": {},
   "outputs": [
    {
     "name": "stdout",
     "output_type": "stream",
     "text": [
      "Количество пропусков в датасете: calls       0\n",
      "minutes     0\n",
      "messages    0\n",
      "mb_used     0\n",
      "is_ultra    0\n",
      "dtype: int64\n",
      "(3214, 5)\n"
     ]
    },
    {
     "data": {
      "text/html": [
       "<div>\n",
       "<style scoped>\n",
       "    .dataframe tbody tr th:only-of-type {\n",
       "        vertical-align: middle;\n",
       "    }\n",
       "\n",
       "    .dataframe tbody tr th {\n",
       "        vertical-align: top;\n",
       "    }\n",
       "\n",
       "    .dataframe thead th {\n",
       "        text-align: right;\n",
       "    }\n",
       "</style>\n",
       "<table border=\"1\" class=\"dataframe\">\n",
       "  <thead>\n",
       "    <tr style=\"text-align: right;\">\n",
       "      <th></th>\n",
       "      <th>calls</th>\n",
       "      <th>minutes</th>\n",
       "      <th>messages</th>\n",
       "      <th>mb_used</th>\n",
       "      <th>is_ultra</th>\n",
       "    </tr>\n",
       "  </thead>\n",
       "  <tbody>\n",
       "    <tr>\n",
       "      <th>0</th>\n",
       "      <td>40.0</td>\n",
       "      <td>311.90</td>\n",
       "      <td>83.0</td>\n",
       "      <td>19915.42</td>\n",
       "      <td>0</td>\n",
       "    </tr>\n",
       "    <tr>\n",
       "      <th>1</th>\n",
       "      <td>85.0</td>\n",
       "      <td>516.75</td>\n",
       "      <td>56.0</td>\n",
       "      <td>22696.96</td>\n",
       "      <td>0</td>\n",
       "    </tr>\n",
       "    <tr>\n",
       "      <th>2</th>\n",
       "      <td>77.0</td>\n",
       "      <td>467.66</td>\n",
       "      <td>86.0</td>\n",
       "      <td>21060.45</td>\n",
       "      <td>0</td>\n",
       "    </tr>\n",
       "    <tr>\n",
       "      <th>3</th>\n",
       "      <td>106.0</td>\n",
       "      <td>745.53</td>\n",
       "      <td>81.0</td>\n",
       "      <td>8437.39</td>\n",
       "      <td>1</td>\n",
       "    </tr>\n",
       "    <tr>\n",
       "      <th>4</th>\n",
       "      <td>66.0</td>\n",
       "      <td>418.74</td>\n",
       "      <td>1.0</td>\n",
       "      <td>14502.75</td>\n",
       "      <td>0</td>\n",
       "    </tr>\n",
       "  </tbody>\n",
       "</table>\n",
       "</div>"
      ],
      "text/plain": [
       "   calls  minutes  messages   mb_used  is_ultra\n",
       "0   40.0   311.90      83.0  19915.42         0\n",
       "1   85.0   516.75      56.0  22696.96         0\n",
       "2   77.0   467.66      86.0  21060.45         0\n",
       "3  106.0   745.53      81.0   8437.39         1\n",
       "4   66.0   418.74       1.0  14502.75         0"
      ]
     },
     "execution_count": 94,
     "metadata": {},
     "output_type": "execute_result"
    }
   ],
   "source": [
    "data = pd.read_csv('/datasets/users_behavior.csv')\n",
    "print('Количество пропусков в датасете:', data.isna().sum())\n",
    "print(data.shape)\n",
    "data.head(5)"
   ]
  },
  {
   "cell_type": "markdown",
   "metadata": {},
   "source": [
    "<b>ВЫВОД:</b> 3214 наблюдений в датасете, 4 признака и один целевой признак. Типы данные - floatы. Пропусков нет, предобработка не требуется. "
   ]
  },
  {
   "cell_type": "markdown",
   "metadata": {},
   "source": [
    "## Разбейте данные на выборки"
   ]
  },
  {
   "cell_type": "code",
   "execution_count": 95,
   "metadata": {},
   "outputs": [],
   "source": [
    "# отделим фичи от таргетов\n",
    "features = data.drop(['is_ultra'], axis = 1)\n",
    "target = data['is_ultra']"
   ]
  },
  {
   "cell_type": "code",
   "execution_count": 96,
   "metadata": {},
   "outputs": [
    {
     "name": "stdout",
     "output_type": "stream",
     "text": [
      "Размерность обучающей выборки:\n",
      "2571\n",
      "Размерность тестовой выборки:\n",
      "643\n"
     ]
    }
   ],
   "source": [
    "# разобьем данные на выборки\n",
    "features_train, features_test, target_train, target_test = train_test_split(features, target,\n",
    "                                                                             test_size = 0.2, random_state = 42)\n",
    "\n",
    "#проверим соотношение выборок\n",
    "print('Размерность обучающей выборки:', len(features_train), \n",
    "      'Размерность тестовой выборки:',len(features_test), sep = '\\n')"
   ]
  },
  {
   "cell_type": "markdown",
   "metadata": {},
   "source": [
    "## Исследуйте модели"
   ]
  },
  {
   "cell_type": "markdown",
   "metadata": {},
   "source": [
    "### Проверка модели на адекватность с помощью Dummy"
   ]
  },
  {
   "cell_type": "code",
   "execution_count": 105,
   "metadata": {},
   "outputs": [
    {
     "name": "stdout",
     "output_type": "stream",
     "text": [
      "Accuracy случайной модели на тестовой выборке составила 0.7076205287713841\n"
     ]
    }
   ],
   "source": [
    "model_dummy = dummy_clf(strategy = 'most_frequent')\n",
    "model_dummy.fit(features_train,target_train)\n",
    "print('Accuracy случайной модели на тестовой выборке составила',model_dummy.score(features_test, target_test))"
   ]
  },
  {
   "cell_type": "markdown",
   "metadata": {},
   "source": [
    "<b>ВЫВОД:</b> показатели случайной модели довольно высокие. Используем это как стартовую точку, выше которой должно быть значение accuracy."
   ]
  },
  {
   "cell_type": "code",
   "execution_count": 98,
   "metadata": {},
   "outputs": [],
   "source": [
    "# создадим пустой список для сохранения результатов предсказаний\n",
    "results = []\n",
    "models = ['Decisio Tree', 'Random Forest', 'Logistic Regression']"
   ]
  },
  {
   "cell_type": "markdown",
   "metadata": {},
   "source": [
    "### Исследование модели решающего дерева. \n",
    "При обучении мы будем tune-ть:\n",
    "- criterion (gini vs entropy)\n",
    "- random_state - зададим значение 42 для обеспечения постоянства результатов\n",
    "- min_samples_leaf - возьмем значения от 1 до 50"
   ]
  },
  {
   "cell_type": "code",
   "execution_count": 99,
   "metadata": {},
   "outputs": [],
   "source": [
    "# создадим сетку параметров\n",
    "params = {'max_depth' : [5, 10, 15],\n",
    "         'criterion' : ['gini', 'entropy'],\n",
    "         'min_samples_leaf' : [1, 5, 9, 20, 30, 40]}"
   ]
  },
  {
   "cell_type": "code",
   "execution_count": 100,
   "metadata": {},
   "outputs": [
    {
     "name": "stdout",
     "output_type": "stream",
     "text": [
      "CPU times: user 3 µs, sys: 0 ns, total: 3 µs\n",
      "Wall time: 5.25 µs\n",
      "DecisionTreeClassifier(criterion='entropy', max_depth=5, min_samples_leaf=20,\n",
      "                       random_state=42)\n"
     ]
    }
   ],
   "source": [
    "%time\n",
    "# найдем лучшую модель поиском по сетке\n",
    "tree_clf = DecisionTreeClassifier(random_state = 42)\n",
    "grid_model = GridSearchCV(estimator = tree_clf,\n",
    "                         param_grid  = params,\n",
    "                         scoring = 'accuracy',\n",
    "                         verbose = 0,\n",
    "                         n_jobs = -1,\n",
    "                         cv = 3)\n",
    "grid_model.fit(features_train, target_train)\n",
    "print(grid_model.best_estimator_)"
   ]
  },
  {
   "cell_type": "code",
   "execution_count": 101,
   "metadata": {},
   "outputs": [
    {
     "name": "stdout",
     "output_type": "stream",
     "text": [
      "Лучший показатель accuracy дерева решений равен 0.8118195956454122\n"
     ]
    }
   ],
   "source": [
    "# объявим лучшую модель дерева решений\n",
    "best_tree = grid_model.best_estimator_\n",
    "\n",
    "# проверим модель на тестовой выборке\n",
    "predictions = best_tree.predict(features_test)\n",
    "result = accuracy_score(pd.Series(predictions), target_test)\n",
    "results.append(result)\n",
    "print('Лучший показатель accuracy дерева решений равен', result)"
   ]
  },
  {
   "cell_type": "markdown",
   "metadata": {},
   "source": [
    "### Исследование модели случайного леса\n",
    "\n",
    "При исследовании будем тестировать 4 параметра:\n",
    "- критерий (джини vs энтропия)\n",
    "- msx_depth\n",
    "- min_samples_leaf (минимальное число наблюдений в терминальном узле)\n",
    "- n_estimators (число оценщиков)"
   ]
  },
  {
   "cell_type": "code",
   "execution_count": 102,
   "metadata": {},
   "outputs": [],
   "source": [
    "# создадим сетку параметров\n",
    "params = {'max_depth' : [5, 10, 15],\n",
    "         'criterion' : ['gini', 'entropy'],\n",
    "         'min_samples_leaf' : [1, 5, 9, 20, 30, 40],\n",
    "         'n_estimators' : [5,10,15,20,30]}"
   ]
  },
  {
   "cell_type": "code",
   "execution_count": 103,
   "metadata": {},
   "outputs": [
    {
     "name": "stdout",
     "output_type": "stream",
     "text": [
      "CPU times: user 3 µs, sys: 0 ns, total: 3 µs\n",
      "Wall time: 6.91 µs\n",
      "RandomForestClassifier(max_depth=10, n_estimators=30, random_state=42)\n"
     ]
    }
   ],
   "source": [
    "%time\n",
    "# найдем лучшую модель поиском по сетке\n",
    "forest_clf = RandomForestClassifier(random_state = 42)\n",
    "grid_model = GridSearchCV(estimator = forest_clf,\n",
    "                         param_grid  = params,\n",
    "                         scoring = 'accuracy',\n",
    "                         verbose = 0,\n",
    "                         n_jobs = -1,\n",
    "                         cv = 3)\n",
    "grid_model.fit(features_train, target_train)\n",
    "print(grid_model.best_estimator_)"
   ]
  },
  {
   "cell_type": "code",
   "execution_count": 104,
   "metadata": {},
   "outputs": [
    {
     "name": "stdout",
     "output_type": "stream",
     "text": [
      "Лучший показатель accuracy случайного леса равен 0.8195956454121306\n"
     ]
    }
   ],
   "source": [
    "# сохраним лучшую модель\n",
    "best_forest = grid_model.best_estimator_\n",
    "\n",
    "# проверим модель на тестовой выборке\n",
    "predictions = best_forest.predict(features_test)\n",
    "result = accuracy_score(pd.Series(predictions), target_test)\n",
    "results.append(result)\n",
    "print('Лучший показатель accuracy случайного леса равен', result)"
   ]
  },
  {
   "cell_type": "markdown",
   "metadata": {},
   "source": [
    "### Изучение модели логистической регрессии"
   ]
  },
  {
   "cell_type": "code",
   "execution_count": 120,
   "metadata": {},
   "outputs": [
    {
     "name": "stdout",
     "output_type": "stream",
     "text": [
      "Наилучший показатель accuracy логистической регрессии: 0.7200622083981337\n"
     ]
    }
   ],
   "source": [
    "model = LogisticRegression(random_state = 42, solver = 'liblinear')\n",
    "model.fit(features_train, target_train) \n",
    "predictions = model.predict(features_test) \n",
    "result = accuracy_score(target_test, predictions)\n",
    "results.append(result)\n",
    "    \n",
    "print('Наилучший показатель accuracy логистической регрессии:', result)"
   ]
  },
  {
   "cell_type": "markdown",
   "metadata": {},
   "source": [
    "## Проверьте модель на тестовой выборке"
   ]
  },
  {
   "cell_type": "code",
   "execution_count": 124,
   "metadata": {},
   "outputs": [
    {
     "data": {
      "text/html": [
       "<div>\n",
       "<style scoped>\n",
       "    .dataframe tbody tr th:only-of-type {\n",
       "        vertical-align: middle;\n",
       "    }\n",
       "\n",
       "    .dataframe tbody tr th {\n",
       "        vertical-align: top;\n",
       "    }\n",
       "\n",
       "    .dataframe thead th {\n",
       "        text-align: right;\n",
       "    }\n",
       "</style>\n",
       "<table border=\"1\" class=\"dataframe\">\n",
       "  <thead>\n",
       "    <tr style=\"text-align: right;\">\n",
       "      <th></th>\n",
       "      <th>Accuracy Score</th>\n",
       "    </tr>\n",
       "  </thead>\n",
       "  <tbody>\n",
       "    <tr>\n",
       "      <th>Decisio Tree</th>\n",
       "      <td>0.811820</td>\n",
       "    </tr>\n",
       "    <tr>\n",
       "      <th>Random Forest</th>\n",
       "      <td>0.819596</td>\n",
       "    </tr>\n",
       "    <tr>\n",
       "      <th>Logistic Regression</th>\n",
       "      <td>0.720062</td>\n",
       "    </tr>\n",
       "  </tbody>\n",
       "</table>\n",
       "</div>"
      ],
      "text/plain": [
       "                     Accuracy Score\n",
       "Decisio Tree               0.811820\n",
       "Random Forest              0.819596\n",
       "Logistic Regression        0.720062"
      ]
     },
     "execution_count": 124,
     "metadata": {},
     "output_type": "execute_result"
    }
   ],
   "source": [
    "pd.DataFrame(index = models, columns = ['Accuracy Score'], data = results)"
   ]
  },
  {
   "cell_type": "markdown",
   "metadata": {},
   "source": [
    "<b>ВЫВОД:</b> на тестовой выборке лучше всего показала себя модель случайного леса, дерево решений - на втором месте, хуже всего сработала линейная регрессия."
   ]
  },
  {
   "cell_type": "markdown",
   "metadata": {},
   "source": [
    "## Чек-лист готовности проекта"
   ]
  },
  {
   "cell_type": "markdown",
   "metadata": {},
   "source": [
    "Поставьте 'x' в выполненных пунктах. Далее нажмите Shift+Enter."
   ]
  },
  {
   "cell_type": "markdown",
   "metadata": {},
   "source": [
    "- [x] Jupyter Notebook открыт\n",
    "- [x] Весь код исполняется без ошибок\n",
    "- [x] Ячейки с кодом расположены в порядке исполнения\n",
    "- [x] Выполнено задание 1: данные загружены и изучены\n",
    "- [x] Выполнено задание 2: данные разбиты на выборки\n",
    "- [x] Выполнено задание 3: проведено исследование моделей\n",
    "    - [x] Рассмотрено больше одной модели\n",
    "    - [x] Рассмотрено хотя бы 3 значения гипепараметров для какой-нибудь модели\n",
    "    - [x] Написаны выводы по результатам исследования\n",
    "- [x] Выполнено задание 3: Проведено тестирование\n",
    "- [x] Удалось достичь accuracy не меньше 0.75\n"
   ]
  }
 ],
 "metadata": {
  "ExecuteTimeLog": [
   {
    "duration": 293,
    "start_time": "2022-01-31T20:28:24.555Z"
   },
   {
    "duration": 83,
    "start_time": "2022-01-31T20:28:30.287Z"
   },
   {
    "duration": 909,
    "start_time": "2022-01-31T20:28:38.377Z"
   },
   {
    "duration": 520,
    "start_time": "2022-01-31T20:29:27.561Z"
   },
   {
    "duration": 19,
    "start_time": "2022-01-31T20:29:30.636Z"
   },
   {
    "duration": 38,
    "start_time": "2022-01-31T20:29:35.664Z"
   },
   {
    "duration": 258,
    "start_time": "2022-01-31T20:46:39.360Z"
   },
   {
    "duration": 4,
    "start_time": "2022-01-31T20:46:45.587Z"
   },
   {
    "duration": 6,
    "start_time": "2022-01-31T20:46:48.014Z"
   },
   {
    "duration": 233,
    "start_time": "2022-01-31T20:50:53.947Z"
   },
   {
    "duration": 6,
    "start_time": "2022-01-31T20:51:57.155Z"
   },
   {
    "duration": 216,
    "start_time": "2022-01-31T20:52:47.125Z"
   },
   {
    "duration": 216,
    "start_time": "2022-01-31T20:53:22.739Z"
   },
   {
    "duration": 9,
    "start_time": "2022-01-31T20:55:05.013Z"
   },
   {
    "duration": 207,
    "start_time": "2022-01-31T20:58:48.766Z"
   },
   {
    "duration": 12,
    "start_time": "2022-01-31T21:00:14.935Z"
   },
   {
    "duration": 18,
    "start_time": "2022-01-31T21:00:20.839Z"
   },
   {
    "duration": 73,
    "start_time": "2022-01-31T21:01:40.188Z"
   },
   {
    "duration": -639,
    "start_time": "2022-01-31T21:01:40.901Z"
   },
   {
    "duration": -647,
    "start_time": "2022-01-31T21:01:40.910Z"
   },
   {
    "duration": 8,
    "start_time": "2022-01-31T21:01:40.542Z"
   },
   {
    "duration": 79,
    "start_time": "2022-01-31T21:01:40.552Z"
   },
   {
    "duration": 229,
    "start_time": "2022-01-31T21:03:10.734Z"
   },
   {
    "duration": 3,
    "start_time": "2022-01-31T21:03:36.790Z"
   },
   {
    "duration": 3,
    "start_time": "2022-01-31T21:03:40.729Z"
   },
   {
    "duration": 32,
    "start_time": "2022-01-31T21:03:40.736Z"
   },
   {
    "duration": 4,
    "start_time": "2022-01-31T21:03:40.771Z"
   },
   {
    "duration": 11,
    "start_time": "2022-01-31T21:03:40.778Z"
   },
   {
    "duration": 235,
    "start_time": "2022-01-31T21:03:40.792Z"
   },
   {
    "duration": 17,
    "start_time": "2022-01-31T21:04:10.479Z"
   },
   {
    "duration": 20,
    "start_time": "2022-01-31T21:04:18.351Z"
   },
   {
    "duration": 218,
    "start_time": "2022-01-31T21:13:14.232Z"
   },
   {
    "duration": 220,
    "start_time": "2022-01-31T21:13:30.874Z"
   },
   {
    "duration": 58,
    "start_time": "2022-01-31T21:13:58.179Z"
   },
   {
    "duration": 554,
    "start_time": "2022-01-31T21:14:32.950Z"
   },
   {
    "duration": 1210,
    "start_time": "2022-01-31T21:14:50.958Z"
   },
   {
    "duration": 2680,
    "start_time": "2022-01-31T21:15:00.251Z"
   },
   {
    "duration": 576,
    "start_time": "2022-01-31T21:15:07.278Z"
   },
   {
    "duration": 265,
    "start_time": "2022-01-31T21:23:50.330Z"
   },
   {
    "duration": 248,
    "start_time": "2022-01-31T21:44:01.486Z"
   },
   {
    "duration": 255,
    "start_time": "2022-01-31T21:44:16.537Z"
   },
   {
    "duration": 244,
    "start_time": "2022-01-31T21:45:06.338Z"
   },
   {
    "duration": 255,
    "start_time": "2022-01-31T21:45:17.278Z"
   },
   {
    "duration": 215,
    "start_time": "2022-01-31T21:45:46.054Z"
   },
   {
    "duration": 232,
    "start_time": "2022-01-31T21:45:53.812Z"
   },
   {
    "duration": 5391,
    "start_time": "2022-01-31T21:47:06.017Z"
   },
   {
    "duration": 252,
    "start_time": "2022-01-31T21:47:48.526Z"
   },
   {
    "duration": 5,
    "start_time": "2022-01-31T21:48:25.229Z"
   },
   {
    "duration": 12,
    "start_time": "2022-01-31T21:48:46.605Z"
   },
   {
    "duration": 260,
    "start_time": "2022-01-31T21:49:02.376Z"
   },
   {
    "duration": 5,
    "start_time": "2022-01-31T21:49:59.559Z"
   },
   {
    "duration": 251,
    "start_time": "2022-01-31T21:50:20.134Z"
   },
   {
    "duration": 2343,
    "start_time": "2022-01-31T21:51:09.627Z"
   },
   {
    "duration": 5,
    "start_time": "2022-01-31T21:51:32.875Z"
   },
   {
    "duration": 787,
    "start_time": "2022-01-31T21:51:54.695Z"
   },
   {
    "duration": 230,
    "start_time": "2022-01-31T21:53:48.738Z"
   },
   {
    "duration": 258,
    "start_time": "2022-01-31T21:54:10.316Z"
   },
   {
    "duration": 234,
    "start_time": "2022-01-31T21:54:28.981Z"
   },
   {
    "duration": 887,
    "start_time": "2022-01-31T21:58:04.045Z"
   },
   {
    "duration": 247,
    "start_time": "2022-01-31T21:59:05.583Z"
   },
   {
    "duration": 846,
    "start_time": "2022-01-31T21:59:16.491Z"
   },
   {
    "duration": 2420,
    "start_time": "2022-01-31T21:59:30.104Z"
   },
   {
    "duration": 11368,
    "start_time": "2022-01-31T21:59:49.673Z"
   },
   {
    "duration": 82,
    "start_time": "2022-02-01T11:22:26.258Z"
   },
   {
    "duration": 309,
    "start_time": "2022-02-01T11:24:22.710Z"
   },
   {
    "duration": 786,
    "start_time": "2022-02-01T11:24:27.029Z"
   },
   {
    "duration": 1146,
    "start_time": "2022-02-01T11:24:30.714Z"
   },
   {
    "duration": 36,
    "start_time": "2022-02-01T11:24:32.339Z"
   },
   {
    "duration": 29,
    "start_time": "2022-02-01T11:24:46.903Z"
   },
   {
    "duration": 20,
    "start_time": "2022-02-01T11:24:51.107Z"
   },
   {
    "duration": 26,
    "start_time": "2022-02-01T11:24:54.985Z"
   },
   {
    "duration": 25,
    "start_time": "2022-02-01T11:24:57.498Z"
   },
   {
    "duration": 26,
    "start_time": "2022-02-01T11:24:59.795Z"
   },
   {
    "duration": 3,
    "start_time": "2022-02-01T11:34:18.753Z"
   },
   {
    "duration": 24,
    "start_time": "2022-02-01T11:34:18.789Z"
   },
   {
    "duration": 4,
    "start_time": "2022-02-01T11:34:18.814Z"
   },
   {
    "duration": 9,
    "start_time": "2022-02-01T11:34:22.873Z"
   },
   {
    "duration": 8,
    "start_time": "2022-02-01T11:35:20.342Z"
   },
   {
    "duration": 72,
    "start_time": "2022-02-01T11:54:03.000Z"
   },
   {
    "duration": 300,
    "start_time": "2022-02-01T11:55:17.347Z"
   },
   {
    "duration": 6261,
    "start_time": "2022-02-01T12:02:45.130Z"
   },
   {
    "duration": 57249,
    "start_time": "2022-02-01T12:03:46.319Z"
   },
   {
    "duration": 1135,
    "start_time": "2022-02-01T12:13:10.533Z"
   },
   {
    "duration": 35,
    "start_time": "2022-02-01T12:13:11.670Z"
   },
   {
    "duration": 4,
    "start_time": "2022-02-01T12:13:11.708Z"
   },
   {
    "duration": 14,
    "start_time": "2022-02-01T12:13:11.715Z"
   },
   {
    "duration": 329,
    "start_time": "2022-02-01T12:13:11.731Z"
   },
   {
    "duration": 26773,
    "start_time": "2022-02-01T12:13:12.062Z"
   },
   {
    "duration": 59659,
    "start_time": "2022-02-01T12:14:01.421Z"
   },
   {
    "duration": 57853,
    "start_time": "2022-02-01T12:16:49.167Z"
   },
   {
    "duration": 1146,
    "start_time": "2022-02-01T12:18:56.002Z"
   },
   {
    "duration": 31,
    "start_time": "2022-02-01T12:18:57.151Z"
   },
   {
    "duration": 4,
    "start_time": "2022-02-01T12:18:57.184Z"
   },
   {
    "duration": 36,
    "start_time": "2022-02-01T12:18:57.190Z"
   },
   {
    "duration": 320,
    "start_time": "2022-02-01T12:18:57.228Z"
   },
   {
    "duration": -425,
    "start_time": "2022-02-01T12:22:04.890Z"
   },
   {
    "duration": 1082,
    "start_time": "2022-02-01T12:22:14.307Z"
   },
   {
    "duration": 31,
    "start_time": "2022-02-01T12:22:15.391Z"
   },
   {
    "duration": 4,
    "start_time": "2022-02-01T12:22:15.424Z"
   },
   {
    "duration": 10,
    "start_time": "2022-02-01T12:22:15.430Z"
   },
   {
    "duration": 325,
    "start_time": "2022-02-01T12:22:15.441Z"
   },
   {
    "duration": 101624,
    "start_time": "2022-02-01T12:22:15.767Z"
   },
   {
    "duration": 315,
    "start_time": "2022-02-01T12:23:57.393Z"
   },
   {
    "duration": 297,
    "start_time": "2022-02-01T12:25:17.418Z"
   },
   {
    "duration": 310,
    "start_time": "2022-02-01T12:25:51.349Z"
   },
   {
    "duration": 292250,
    "start_time": "2022-02-01T12:26:31.302Z"
   },
   {
    "duration": 3,
    "start_time": "2022-02-01T12:31:37.457Z"
   },
   {
    "duration": 27,
    "start_time": "2022-02-01T12:31:37.471Z"
   },
   {
    "duration": 4,
    "start_time": "2022-02-01T12:31:37.499Z"
   },
   {
    "duration": 19,
    "start_time": "2022-02-01T12:31:37.505Z"
   },
   {
    "duration": 326,
    "start_time": "2022-02-01T12:31:37.526Z"
   },
   {
    "duration": 33893,
    "start_time": "2022-02-01T12:31:39.949Z"
   },
   {
    "duration": 34339,
    "start_time": "2022-02-01T12:35:47.237Z"
   },
   {
    "duration": 6780,
    "start_time": "2022-02-01T12:37:01.635Z"
   },
   {
    "duration": 26647,
    "start_time": "2022-02-01T12:37:29.722Z"
   },
   {
    "duration": 106108,
    "start_time": "2022-02-01T12:38:31.059Z"
   },
   {
    "duration": 232,
    "start_time": "2022-02-01T12:40:45.143Z"
   },
   {
    "duration": 22,
    "start_time": "2022-02-01T12:40:57.702Z"
   },
   {
    "duration": 388,
    "start_time": "2022-02-01T12:41:39.082Z"
   },
   {
    "duration": 306,
    "start_time": "2022-02-01T12:41:56.651Z"
   },
   {
    "duration": 4,
    "start_time": "2022-02-01T12:42:07.938Z"
   },
   {
    "duration": 24,
    "start_time": "2022-02-01T12:42:07.946Z"
   },
   {
    "duration": 4,
    "start_time": "2022-02-01T12:42:07.972Z"
   },
   {
    "duration": 12,
    "start_time": "2022-02-01T12:42:07.978Z"
   },
   {
    "duration": 302,
    "start_time": "2022-02-01T12:42:11.345Z"
   },
   {
    "duration": 315,
    "start_time": "2022-02-01T12:42:31.206Z"
   },
   {
    "duration": 6549,
    "start_time": "2022-02-01T12:43:12.321Z"
   },
   {
    "duration": 243,
    "start_time": "2022-02-01T12:45:37.072Z"
   },
   {
    "duration": 6585,
    "start_time": "2022-02-01T12:45:45.657Z"
   },
   {
    "duration": 6781,
    "start_time": "2022-02-01T12:46:05.445Z"
   },
   {
    "duration": 27063,
    "start_time": "2022-02-01T12:46:39.139Z"
   },
   {
    "duration": 78,
    "start_time": "2022-02-01T12:48:32.687Z"
   },
   {
    "duration": 66324,
    "start_time": "2022-02-01T12:48:41.511Z"
   },
   {
    "duration": 3,
    "start_time": "2022-02-01T12:49:50.384Z"
   },
   {
    "duration": 24,
    "start_time": "2022-02-01T12:49:50.396Z"
   },
   {
    "duration": 4,
    "start_time": "2022-02-01T12:49:50.421Z"
   },
   {
    "duration": 13,
    "start_time": "2022-02-01T12:49:50.427Z"
   },
   {
    "duration": 345,
    "start_time": "2022-02-01T12:49:50.442Z"
   },
   {
    "duration": 13820,
    "start_time": "2022-02-01T12:50:01.851Z"
   },
   {
    "duration": 323,
    "start_time": "2022-02-01T12:50:32.411Z"
   },
   {
    "duration": 339,
    "start_time": "2022-02-01T12:51:06.376Z"
   },
   {
    "duration": 331,
    "start_time": "2022-02-01T12:51:14.892Z"
   },
   {
    "duration": 333,
    "start_time": "2022-02-01T12:51:21.888Z"
   },
   {
    "duration": 95208,
    "start_time": "2022-02-01T12:52:22.189Z"
   },
   {
    "duration": 4,
    "start_time": "2022-02-01T12:54:00.194Z"
   },
   {
    "duration": 39,
    "start_time": "2022-02-01T12:54:00.208Z"
   },
   {
    "duration": 13,
    "start_time": "2022-02-01T12:54:00.249Z"
   },
   {
    "duration": 25,
    "start_time": "2022-02-01T12:54:00.265Z"
   },
   {
    "duration": 357,
    "start_time": "2022-02-01T12:54:00.292Z"
   },
   {
    "duration": 69305,
    "start_time": "2022-02-01T12:54:48.938Z"
   },
   {
    "duration": 4,
    "start_time": "2022-02-01T12:56:00.686Z"
   },
   {
    "duration": 25,
    "start_time": "2022-02-01T12:56:00.700Z"
   },
   {
    "duration": 4,
    "start_time": "2022-02-01T12:56:00.727Z"
   },
   {
    "duration": 10,
    "start_time": "2022-02-01T12:56:00.733Z"
   },
   {
    "duration": 338,
    "start_time": "2022-02-01T12:56:00.745Z"
   },
   {
    "duration": 53069,
    "start_time": "2022-02-01T12:56:04.401Z"
   },
   {
    "duration": 3,
    "start_time": "2022-02-01T12:57:00.373Z"
   },
   {
    "duration": 33,
    "start_time": "2022-02-01T12:57:00.378Z"
   },
   {
    "duration": 4,
    "start_time": "2022-02-01T12:57:00.413Z"
   },
   {
    "duration": 17,
    "start_time": "2022-02-01T12:57:00.420Z"
   },
   {
    "duration": 339,
    "start_time": "2022-02-01T12:57:00.440Z"
   },
   {
    "duration": 12935,
    "start_time": "2022-02-01T12:57:04.715Z"
   },
   {
    "duration": 12706,
    "start_time": "2022-02-01T12:57:45.502Z"
   },
   {
    "duration": 25094,
    "start_time": "2022-02-01T12:58:51.160Z"
   },
   {
    "duration": 12755,
    "start_time": "2022-02-01T12:59:53.889Z"
   },
   {
    "duration": 26587,
    "start_time": "2022-02-01T13:01:42.656Z"
   },
   {
    "duration": 12731,
    "start_time": "2022-02-01T13:03:53.204Z"
   },
   {
    "duration": 25578,
    "start_time": "2022-02-01T13:04:33.463Z"
   },
   {
    "duration": 25404,
    "start_time": "2022-02-01T13:05:31.436Z"
   },
   {
    "duration": 38754,
    "start_time": "2022-02-01T13:06:38.651Z"
   },
   {
    "duration": 58104,
    "start_time": "2022-02-01T13:08:11.730Z"
   },
   {
    "duration": 10607,
    "start_time": "2022-02-01T13:10:19.541Z"
   },
   {
    "duration": 17121,
    "start_time": "2022-02-01T13:10:52.726Z"
   },
   {
    "duration": 34469,
    "start_time": "2022-02-01T13:11:19.973Z"
   },
   {
    "duration": 34731,
    "start_time": "2022-02-01T13:12:45.212Z"
   },
   {
    "duration": 34659,
    "start_time": "2022-02-01T13:16:54.855Z"
   },
   {
    "duration": 26370,
    "start_time": "2022-02-01T13:18:35.279Z"
   },
   {
    "duration": 26355,
    "start_time": "2022-02-01T13:20:36.295Z"
   },
   {
    "duration": 27118,
    "start_time": "2022-02-01T13:21:17.064Z"
   },
   {
    "duration": 143913,
    "start_time": "2022-02-01T13:24:17.145Z"
   },
   {
    "duration": 3,
    "start_time": "2022-02-01T13:26:43.629Z"
   },
   {
    "duration": 42,
    "start_time": "2022-02-01T13:26:43.639Z"
   },
   {
    "duration": 4,
    "start_time": "2022-02-01T13:26:43.683Z"
   },
   {
    "duration": 10,
    "start_time": "2022-02-01T13:26:43.689Z"
   },
   {
    "duration": 17147,
    "start_time": "2022-02-01T13:26:43.701Z"
   },
   {
    "duration": 106998,
    "start_time": "2022-02-01T13:27:00.850Z"
   },
   {
    "duration": 3,
    "start_time": "2022-02-01T13:28:51.661Z"
   },
   {
    "duration": 23,
    "start_time": "2022-02-01T13:28:51.674Z"
   },
   {
    "duration": 4,
    "start_time": "2022-02-01T13:28:51.699Z"
   },
   {
    "duration": 8,
    "start_time": "2022-02-01T13:28:51.705Z"
   },
   {
    "duration": 17350,
    "start_time": "2022-02-01T13:28:51.716Z"
   },
   {
    "duration": 10390,
    "start_time": "2022-02-01T13:29:09.068Z"
   },
   {
    "duration": 4,
    "start_time": "2022-02-01T13:29:20.851Z"
   },
   {
    "duration": 24,
    "start_time": "2022-02-01T13:29:20.865Z"
   },
   {
    "duration": 4,
    "start_time": "2022-02-01T13:29:20.890Z"
   },
   {
    "duration": 14,
    "start_time": "2022-02-01T13:29:20.896Z"
   },
   {
    "duration": 17134,
    "start_time": "2022-02-01T13:29:20.912Z"
   },
   {
    "duration": 37085,
    "start_time": "2022-02-01T13:37:52.814Z"
   },
   {
    "duration": -498,
    "start_time": "2022-02-01T13:38:30.399Z"
   },
   {
    "duration": 3,
    "start_time": "2022-02-01T13:38:33.909Z"
   },
   {
    "duration": 27,
    "start_time": "2022-02-01T13:38:33.923Z"
   },
   {
    "duration": 5,
    "start_time": "2022-02-01T13:38:33.952Z"
   },
   {
    "duration": 23,
    "start_time": "2022-02-01T13:38:33.959Z"
   },
   {
    "duration": 1178,
    "start_time": "2022-02-01T13:41:29.468Z"
   },
   {
    "duration": 34,
    "start_time": "2022-02-01T13:41:30.648Z"
   },
   {
    "duration": 3,
    "start_time": "2022-02-01T13:41:30.684Z"
   },
   {
    "duration": 10,
    "start_time": "2022-02-01T13:41:30.698Z"
   },
   {
    "duration": 17199,
    "start_time": "2022-02-01T13:41:30.710Z"
   },
   {
    "duration": 54184,
    "start_time": "2022-02-01T13:42:05.728Z"
   },
   {
    "duration": 4,
    "start_time": "2022-02-01T13:43:00.926Z"
   },
   {
    "duration": 42,
    "start_time": "2022-02-01T13:43:00.943Z"
   },
   {
    "duration": 4,
    "start_time": "2022-02-01T13:43:00.987Z"
   },
   {
    "duration": 15,
    "start_time": "2022-02-01T13:43:00.993Z"
   },
   {
    "duration": 17789,
    "start_time": "2022-02-01T13:43:01.010Z"
   },
   {
    "duration": 1936,
    "start_time": "2022-02-01T13:43:18.801Z"
   },
   {
    "duration": 123943,
    "start_time": "2022-02-01T13:45:23.002Z"
   },
   {
    "duration": 226107,
    "start_time": "2022-02-01T13:48:51.324Z"
   },
   {
    "duration": 24618,
    "start_time": "2022-02-01T13:53:48.867Z"
   },
   {
    "duration": 88836,
    "start_time": "2022-02-01T13:55:01.876Z"
   },
   {
    "duration": 148397,
    "start_time": "2022-02-01T13:58:41.862Z"
   },
   {
    "duration": 94014,
    "start_time": "2022-02-01T14:01:23.121Z"
   },
   {
    "duration": 93641,
    "start_time": "2022-02-01T14:03:41.277Z"
   },
   {
    "duration": 110596,
    "start_time": "2022-02-01T14:07:00.500Z"
   },
   {
    "duration": 234786,
    "start_time": "2022-02-01T14:10:12.980Z"
   },
   {
    "duration": 19350,
    "start_time": "2022-02-01T14:14:10.792Z"
   },
   {
    "duration": 3590,
    "start_time": "2022-02-01T14:14:55.688Z"
   },
   {
    "duration": 45476,
    "start_time": "2022-02-01T14:15:13.067Z"
   },
   {
    "duration": 102251,
    "start_time": "2022-02-01T14:17:02.861Z"
   },
   {
    "duration": 136397,
    "start_time": "2022-02-01T14:19:32.012Z"
   },
   {
    "duration": 21163,
    "start_time": "2022-02-01T14:23:27.283Z"
   },
   {
    "duration": 21665,
    "start_time": "2022-02-01T14:24:08.034Z"
   },
   {
    "duration": 21345,
    "start_time": "2022-02-01T14:24:38.153Z"
   },
   {
    "duration": 22908,
    "start_time": "2022-02-01T14:25:35.924Z"
   },
   {
    "duration": 110916,
    "start_time": "2022-02-01T14:26:27.643Z"
   },
   {
    "duration": 131293,
    "start_time": "2022-02-01T14:29:07.206Z"
   },
   {
    "duration": 12236,
    "start_time": "2022-02-01T14:34:00.684Z"
   },
   {
    "duration": 1923,
    "start_time": "2022-02-01T14:37:18.230Z"
   },
   {
    "duration": 26852,
    "start_time": "2022-02-01T14:38:14.153Z"
   },
   {
    "duration": 21,
    "start_time": "2022-02-01T14:42:55.791Z"
   },
   {
    "duration": 24,
    "start_time": "2022-02-01T14:43:02.301Z"
   },
   {
    "duration": 22,
    "start_time": "2022-02-01T14:45:05.290Z"
   },
   {
    "duration": 13,
    "start_time": "2022-02-01T14:46:06.492Z"
   },
   {
    "duration": 3,
    "start_time": "2022-02-01T14:46:24.176Z"
   },
   {
    "duration": 26,
    "start_time": "2022-02-01T14:46:24.230Z"
   },
   {
    "duration": 3,
    "start_time": "2022-02-01T14:46:24.268Z"
   },
   {
    "duration": 9,
    "start_time": "2022-02-01T14:46:24.298Z"
   },
   {
    "duration": 17239,
    "start_time": "2022-02-01T14:46:24.335Z"
   },
   {
    "duration": 2031,
    "start_time": "2022-02-01T14:46:41.576Z"
   },
   {
    "duration": 6555,
    "start_time": "2022-02-01T14:46:43.609Z"
   },
   {
    "duration": 302,
    "start_time": "2022-02-01T14:47:30.705Z"
   },
   {
    "duration": 242,
    "start_time": "2022-02-01T14:48:22.598Z"
   },
   {
    "duration": 27478,
    "start_time": "2022-02-01T14:48:39.428Z"
   },
   {
    "duration": 23,
    "start_time": "2022-02-01T14:49:44.232Z"
   },
   {
    "duration": 20,
    "start_time": "2022-02-01T14:50:25.118Z"
   },
   {
    "duration": 22,
    "start_time": "2022-02-01T14:50:55.529Z"
   },
   {
    "duration": 265,
    "start_time": "2022-02-01T14:52:59.565Z"
   },
   {
    "duration": 26,
    "start_time": "2022-02-01T14:53:59.584Z"
   },
   {
    "duration": 278,
    "start_time": "2022-02-01T14:57:51.354Z"
   },
   {
    "duration": 225,
    "start_time": "2022-02-01T14:58:24.650Z"
   },
   {
    "duration": 8037,
    "start_time": "2022-02-01T14:58:43.505Z"
   },
   {
    "duration": 858,
    "start_time": "2022-02-01T15:00:01.954Z"
   },
   {
    "duration": 782,
    "start_time": "2022-02-01T15:00:55.742Z"
   },
   {
    "duration": 76628,
    "start_time": "2022-02-01T15:01:45.336Z"
   },
   {
    "duration": 76,
    "start_time": "2022-02-01T15:04:53.363Z"
   },
   {
    "duration": 15,
    "start_time": "2022-02-01T15:05:07.434Z"
   },
   {
    "duration": 16,
    "start_time": "2022-02-01T15:05:32.793Z"
   },
   {
    "duration": 13,
    "start_time": "2022-02-01T15:05:47.434Z"
   },
   {
    "duration": 15,
    "start_time": "2022-02-01T15:06:24.464Z"
   },
   {
    "duration": 14,
    "start_time": "2022-02-01T15:07:07.752Z"
   },
   {
    "duration": 1647,
    "start_time": "2022-02-01T18:40:15.042Z"
   },
   {
    "duration": 31,
    "start_time": "2022-02-01T18:40:16.691Z"
   },
   {
    "duration": 4,
    "start_time": "2022-02-01T18:40:16.724Z"
   },
   {
    "duration": 307,
    "start_time": "2022-02-01T18:43:10.752Z"
   },
   {
    "duration": 3,
    "start_time": "2022-02-01T18:43:15.174Z"
   },
   {
    "duration": 25,
    "start_time": "2022-02-01T18:43:15.206Z"
   },
   {
    "duration": 4,
    "start_time": "2022-02-01T18:43:15.233Z"
   },
   {
    "duration": 8,
    "start_time": "2022-02-01T18:43:15.246Z"
   },
   {
    "duration": 3,
    "start_time": "2022-02-01T18:43:28.856Z"
   },
   {
    "duration": 24,
    "start_time": "2022-02-01T18:43:28.885Z"
   },
   {
    "duration": 4,
    "start_time": "2022-02-01T18:43:28.911Z"
   },
   {
    "duration": 10,
    "start_time": "2022-02-01T18:43:28.916Z"
   },
   {
    "duration": 180,
    "start_time": "2022-02-01T18:43:32.682Z"
   },
   {
    "duration": 2521,
    "start_time": "2022-02-01T18:43:49.034Z"
   },
   {
    "duration": 13268,
    "start_time": "2022-02-01T18:43:59.452Z"
   },
   {
    "duration": 564,
    "start_time": "2022-02-01T18:44:22.991Z"
   },
   {
    "duration": 239,
    "start_time": "2022-02-01T18:47:02.357Z"
   },
   {
    "duration": 218,
    "start_time": "2022-02-01T18:47:11.630Z"
   },
   {
    "duration": 238,
    "start_time": "2022-02-01T18:47:27.246Z"
   },
   {
    "duration": 330169,
    "start_time": "2022-02-01T18:47:52.180Z"
   },
   {
    "duration": 3,
    "start_time": "2022-02-01T18:53:26.721Z"
   },
   {
    "duration": 28,
    "start_time": "2022-02-01T18:53:26.744Z"
   },
   {
    "duration": 4,
    "start_time": "2022-02-01T18:53:26.775Z"
   },
   {
    "duration": 13,
    "start_time": "2022-02-01T18:53:26.781Z"
   },
   {
    "duration": 598,
    "start_time": "2022-02-01T18:53:26.798Z"
   },
   {
    "duration": 17903,
    "start_time": "2022-02-01T18:57:24.686Z"
   },
   {
    "duration": 22591,
    "start_time": "2022-02-01T18:57:44.357Z"
   },
   {
    "duration": 601,
    "start_time": "2022-02-01T19:16:02.029Z"
   },
   {
    "duration": 581,
    "start_time": "2022-02-01T19:16:27.966Z"
   },
   {
    "duration": 4,
    "start_time": "2022-02-01T19:20:25.259Z"
   },
   {
    "duration": 9,
    "start_time": "2022-02-01T19:20:31.737Z"
   },
   {
    "duration": 501,
    "start_time": "2022-02-01T19:20:38.525Z"
   },
   {
    "duration": 4,
    "start_time": "2022-02-01T19:21:24.145Z"
   },
   {
    "duration": 8,
    "start_time": "2022-02-01T19:21:28.771Z"
   },
   {
    "duration": 586,
    "start_time": "2022-02-01T19:21:32.277Z"
   },
   {
    "duration": 70776,
    "start_time": "2022-02-01T19:23:50.159Z"
   },
   {
    "duration": 4,
    "start_time": "2022-02-01T19:25:05.214Z"
   },
   {
    "duration": 26,
    "start_time": "2022-02-01T19:25:05.239Z"
   },
   {
    "duration": 4,
    "start_time": "2022-02-01T19:25:05.266Z"
   },
   {
    "duration": 9,
    "start_time": "2022-02-01T19:25:05.547Z"
   },
   {
    "duration": 69231,
    "start_time": "2022-02-01T19:25:17.879Z"
   },
   {
    "duration": 33632,
    "start_time": "2022-02-01T19:27:38.690Z"
   },
   {
    "duration": 1263,
    "start_time": "2022-02-01T19:31:00.443Z"
   },
   {
    "duration": 1256,
    "start_time": "2022-02-01T19:33:00.193Z"
   },
   {
    "duration": 1217,
    "start_time": "2022-02-01T19:33:16.187Z"
   },
   {
    "duration": 1160,
    "start_time": "2022-02-01T19:33:31.450Z"
   },
   {
    "duration": 71,
    "start_time": "2022-02-01T19:36:36.205Z"
   },
   {
    "duration": 11370,
    "start_time": "2022-02-01T19:36:54.691Z"
   },
   {
    "duration": 11365,
    "start_time": "2022-02-01T19:37:21.961Z"
   },
   {
    "duration": 21627,
    "start_time": "2022-02-01T19:37:48.467Z"
   },
   {
    "duration": 11179,
    "start_time": "2022-02-01T19:43:22.249Z"
   },
   {
    "duration": 225,
    "start_time": "2022-02-01T19:46:33.866Z"
   },
   {
    "duration": 10948,
    "start_time": "2022-02-01T19:47:15.737Z"
   },
   {
    "duration": 10409,
    "start_time": "2022-02-01T19:48:15.293Z"
   },
   {
    "duration": 170,
    "start_time": "2022-02-02T13:49:51.480Z"
   },
   {
    "duration": 1148,
    "start_time": "2022-02-02T13:50:01.644Z"
   },
   {
    "duration": 33,
    "start_time": "2022-02-02T13:50:02.794Z"
   },
   {
    "duration": 3,
    "start_time": "2022-02-02T13:50:02.829Z"
   },
   {
    "duration": 18,
    "start_time": "2022-02-02T13:50:02.834Z"
   },
   {
    "duration": 11816,
    "start_time": "2022-02-02T13:50:05.315Z"
   },
   {
    "duration": 21,
    "start_time": "2022-02-02T13:51:10.306Z"
   },
   {
    "duration": 183,
    "start_time": "2022-02-02T13:51:26.413Z"
   },
   {
    "duration": 190,
    "start_time": "2022-02-02T13:51:57.916Z"
   },
   {
    "duration": 22,
    "start_time": "2022-02-02T13:52:09.377Z"
   },
   {
    "duration": 27,
    "start_time": "2022-02-02T13:52:43.173Z"
   },
   {
    "duration": 18,
    "start_time": "2022-02-02T13:53:06.205Z"
   },
   {
    "duration": 22,
    "start_time": "2022-02-02T13:53:36.745Z"
   },
   {
    "duration": 805,
    "start_time": "2022-02-02T14:19:10.706Z"
   },
   {
    "duration": 560,
    "start_time": "2022-02-02T14:19:41.172Z"
   },
   {
    "duration": 1043,
    "start_time": "2022-02-02T14:20:06.407Z"
   },
   {
    "duration": 840,
    "start_time": "2022-02-02T14:20:24.071Z"
   },
   {
    "duration": 1846,
    "start_time": "2022-02-02T14:22:26.182Z"
   },
   {
    "duration": 1820,
    "start_time": "2022-02-02T14:23:15.195Z"
   },
   {
    "duration": 1879,
    "start_time": "2022-02-02T14:23:26.967Z"
   },
   {
    "duration": 1884,
    "start_time": "2022-02-02T14:23:41.850Z"
   },
   {
    "duration": 1826,
    "start_time": "2022-02-02T14:24:24.142Z"
   },
   {
    "duration": 1969,
    "start_time": "2022-02-02T14:24:52.329Z"
   },
   {
    "duration": 1843,
    "start_time": "2022-02-02T14:25:08.443Z"
   },
   {
    "duration": 1861,
    "start_time": "2022-02-02T14:25:24.946Z"
   },
   {
    "duration": 20597,
    "start_time": "2022-02-02T14:26:25.377Z"
   },
   {
    "duration": 528,
    "start_time": "2022-02-02T14:39:19.745Z"
   },
   {
    "duration": 133156,
    "start_time": "2022-02-02T14:39:26.001Z"
   },
   {
    "duration": 1031,
    "start_time": "2022-02-02T14:43:11.760Z"
   },
   {
    "duration": 31,
    "start_time": "2022-02-02T14:43:12.793Z"
   },
   {
    "duration": 3,
    "start_time": "2022-02-02T14:43:12.826Z"
   },
   {
    "duration": 12,
    "start_time": "2022-02-02T14:43:12.831Z"
   },
   {
    "duration": 1824,
    "start_time": "2022-02-02T14:43:12.844Z"
   },
   {
    "duration": 167342,
    "start_time": "2022-02-02T14:43:14.670Z"
   },
   {
    "duration": 166,
    "start_time": "2022-02-02T14:46:01.848Z"
   },
   {
    "duration": 110,
    "start_time": "2022-02-02T14:46:01.905Z"
   },
   {
    "duration": 41,
    "start_time": "2022-02-02T14:46:01.975Z"
   },
   {
    "duration": 3,
    "start_time": "2022-02-02T14:46:05.777Z"
   },
   {
    "duration": 24,
    "start_time": "2022-02-02T14:46:05.799Z"
   },
   {
    "duration": 4,
    "start_time": "2022-02-02T14:46:05.824Z"
   },
   {
    "duration": 9,
    "start_time": "2022-02-02T14:46:05.847Z"
   },
   {
    "duration": 1980,
    "start_time": "2022-02-02T14:46:13.659Z"
   },
   {
    "duration": 123745,
    "start_time": "2022-02-02T14:46:55.487Z"
   },
   {
    "duration": 113984,
    "start_time": "2022-02-02T14:49:31.205Z"
   },
   {
    "duration": 327058,
    "start_time": "2022-02-02T14:52:30.604Z"
   },
   {
    "duration": 114345,
    "start_time": "2022-02-02T15:00:11.032Z"
   },
   {
    "duration": 145,
    "start_time": "2022-02-02T15:08:14.035Z"
   },
   {
    "duration": 139,
    "start_time": "2022-02-02T15:09:02.729Z"
   },
   {
    "duration": 169,
    "start_time": "2022-02-02T15:09:17.651Z"
   },
   {
    "duration": 183,
    "start_time": "2022-02-02T15:09:31.352Z"
   },
   {
    "duration": 191,
    "start_time": "2022-02-02T15:09:40.976Z"
   },
   {
    "duration": 254,
    "start_time": "2022-02-02T15:09:50.557Z"
   },
   {
    "duration": 251,
    "start_time": "2022-02-02T15:10:07.963Z"
   },
   {
    "duration": 145,
    "start_time": "2022-02-02T15:12:09.007Z"
   },
   {
    "duration": 15,
    "start_time": "2022-02-02T15:13:35.800Z"
   },
   {
    "duration": 15,
    "start_time": "2022-02-02T15:13:43.360Z"
   },
   {
    "duration": 15,
    "start_time": "2022-02-02T15:13:53.938Z"
   },
   {
    "duration": 14,
    "start_time": "2022-02-02T15:13:57.877Z"
   },
   {
    "duration": 143,
    "start_time": "2022-02-02T15:15:06.910Z"
   },
   {
    "duration": 16,
    "start_time": "2022-02-02T15:18:45.046Z"
   },
   {
    "duration": 215,
    "start_time": "2022-02-02T15:19:41.143Z"
   },
   {
    "duration": 15,
    "start_time": "2022-02-02T15:20:00.221Z"
   },
   {
    "duration": 11,
    "start_time": "2022-02-02T15:21:25.411Z"
   },
   {
    "duration": 11,
    "start_time": "2022-02-02T15:21:39.872Z"
   },
   {
    "duration": 10,
    "start_time": "2022-02-02T15:22:44.243Z"
   },
   {
    "duration": 5,
    "start_time": "2022-02-02T15:24:19.131Z"
   },
   {
    "duration": 111833,
    "start_time": "2022-02-02T15:26:58.727Z"
   },
   {
    "duration": 10,
    "start_time": "2022-02-02T15:33:12.361Z"
   },
   {
    "duration": 6,
    "start_time": "2022-02-02T15:33:50.417Z"
   },
   {
    "duration": 15,
    "start_time": "2022-02-02T15:35:00.941Z"
   },
   {
    "duration": 5,
    "start_time": "2022-02-02T15:35:22.176Z"
   },
   {
    "duration": 10,
    "start_time": "2022-02-02T16:01:30.538Z"
   },
   {
    "duration": 19,
    "start_time": "2022-02-02T16:02:04.127Z"
   },
   {
    "duration": 129,
    "start_time": "2022-02-02T16:46:21.364Z"
   },
   {
    "duration": 136,
    "start_time": "2022-02-02T16:46:33.300Z"
   },
   {
    "duration": 141,
    "start_time": "2022-02-02T16:46:46.643Z"
   },
   {
    "duration": 18,
    "start_time": "2022-02-02T16:47:13.016Z"
   },
   {
    "duration": 13,
    "start_time": "2022-02-02T16:50:42.386Z"
   },
   {
    "duration": 14,
    "start_time": "2022-02-02T16:51:14.428Z"
   },
   {
    "duration": 13,
    "start_time": "2022-02-02T16:51:17.342Z"
   },
   {
    "duration": 149,
    "start_time": "2022-02-02T16:51:44.919Z"
   },
   {
    "duration": 13,
    "start_time": "2022-02-02T16:51:49.890Z"
   },
   {
    "duration": 7,
    "start_time": "2022-02-02T17:29:45.754Z"
   },
   {
    "duration": 7,
    "start_time": "2022-02-02T17:29:54.553Z"
   },
   {
    "duration": 18,
    "start_time": "2022-02-02T17:30:01.378Z"
   },
   {
    "duration": 202,
    "start_time": "2022-02-02T17:49:11.681Z"
   },
   {
    "duration": 8,
    "start_time": "2022-02-02T17:49:21.561Z"
   },
   {
    "duration": 9,
    "start_time": "2022-02-02T17:49:50.525Z"
   },
   {
    "duration": 8,
    "start_time": "2022-02-02T17:50:04.401Z"
   },
   {
    "duration": 144,
    "start_time": "2022-02-02T18:01:06.106Z"
   },
   {
    "duration": 2,
    "start_time": "2022-02-02T18:02:52.568Z"
   },
   {
    "duration": 3,
    "start_time": "2022-02-02T18:03:17.255Z"
   },
   {
    "duration": 139,
    "start_time": "2022-02-02T18:06:03.513Z"
   },
   {
    "duration": 168,
    "start_time": "2022-02-02T18:06:24.374Z"
   },
   {
    "duration": 5,
    "start_time": "2022-02-02T18:06:52.329Z"
   },
   {
    "duration": 132,
    "start_time": "2022-02-02T18:07:38.677Z"
   },
   {
    "duration": 5,
    "start_time": "2022-02-02T18:08:10.017Z"
   },
   {
    "duration": 5,
    "start_time": "2022-02-02T18:09:15.324Z"
   },
   {
    "duration": 7,
    "start_time": "2022-02-02T18:09:47.379Z"
   },
   {
    "duration": 6,
    "start_time": "2022-02-02T18:10:02.314Z"
   },
   {
    "duration": 6,
    "start_time": "2022-02-02T18:12:06.847Z"
   },
   {
    "duration": 6,
    "start_time": "2022-02-02T18:12:33.458Z"
   },
   {
    "duration": 7,
    "start_time": "2022-02-02T18:12:47.458Z"
   },
   {
    "duration": 8,
    "start_time": "2022-02-02T18:13:20.447Z"
   },
   {
    "duration": 6,
    "start_time": "2022-02-02T18:13:33.726Z"
   },
   {
    "duration": 168,
    "start_time": "2022-02-02T18:15:25.235Z"
   },
   {
    "duration": 127,
    "start_time": "2022-02-02T18:15:31.539Z"
   },
   {
    "duration": 7,
    "start_time": "2022-02-02T18:15:44.222Z"
   },
   {
    "duration": 6,
    "start_time": "2022-02-02T18:16:18.323Z"
   },
   {
    "duration": 3,
    "start_time": "2022-02-02T18:18:26.636Z"
   },
   {
    "duration": 7,
    "start_time": "2022-02-02T18:19:25.798Z"
   },
   {
    "duration": 45,
    "start_time": "2022-02-02T18:20:23.772Z"
   },
   {
    "duration": 42,
    "start_time": "2022-02-02T18:21:55.980Z"
   },
   {
    "duration": 3,
    "start_time": "2022-02-02T18:22:16.395Z"
   },
   {
    "duration": 7,
    "start_time": "2022-02-02T18:22:22.063Z"
   },
   {
    "duration": 3,
    "start_time": "2022-02-02T18:22:54.982Z"
   },
   {
    "duration": 35,
    "start_time": "2022-02-02T18:22:54.987Z"
   },
   {
    "duration": 4,
    "start_time": "2022-02-02T18:22:55.024Z"
   },
   {
    "duration": 13,
    "start_time": "2022-02-02T18:22:55.030Z"
   },
   {
    "duration": 1797,
    "start_time": "2022-02-02T18:22:55.044Z"
   },
   {
    "duration": 110889,
    "start_time": "2022-02-02T18:22:56.843Z"
   },
   {
    "duration": 14,
    "start_time": "2022-02-02T18:24:47.734Z"
   },
   {
    "duration": 14,
    "start_time": "2022-02-02T18:24:47.758Z"
   },
   {
    "duration": 6,
    "start_time": "2022-02-02T18:24:47.774Z"
   },
   {
    "duration": 9,
    "start_time": "2022-02-02T18:24:47.782Z"
   },
   {
    "duration": 53,
    "start_time": "2022-02-02T20:24:31.906Z"
   },
   {
    "duration": 45,
    "start_time": "2022-02-02T20:26:54.893Z"
   },
   {
    "duration": 49,
    "start_time": "2022-02-02T20:29:53.088Z"
   },
   {
    "duration": 42,
    "start_time": "2022-02-02T20:30:14.953Z"
   },
   {
    "duration": 50,
    "start_time": "2022-02-02T20:32:00.979Z"
   },
   {
    "duration": 45,
    "start_time": "2022-05-15T16:11:27.114Z"
   },
   {
    "duration": 1333,
    "start_time": "2022-05-15T16:11:31.734Z"
   },
   {
    "duration": 39,
    "start_time": "2022-05-15T16:11:35.271Z"
   },
   {
    "duration": 29,
    "start_time": "2022-05-15T16:12:04.623Z"
   },
   {
    "duration": 21,
    "start_time": "2022-05-15T16:13:02.279Z"
   },
   {
    "duration": 4,
    "start_time": "2022-05-15T16:15:43.061Z"
   },
   {
    "duration": 9,
    "start_time": "2022-05-15T16:17:15.960Z"
   },
   {
    "duration": 124,
    "start_time": "2022-05-15T16:17:21.282Z"
   },
   {
    "duration": 64,
    "start_time": "2022-05-15T16:17:25.606Z"
   },
   {
    "duration": 117,
    "start_time": "2022-05-15T16:17:34.901Z"
   },
   {
    "duration": 107,
    "start_time": "2022-05-15T16:17:38.930Z"
   },
   {
    "duration": 8,
    "start_time": "2022-05-15T16:18:43.695Z"
   },
   {
    "duration": 9,
    "start_time": "2022-05-15T16:19:13.122Z"
   },
   {
    "duration": 9,
    "start_time": "2022-05-15T16:19:19.599Z"
   },
   {
    "duration": 5,
    "start_time": "2022-05-15T16:24:23.023Z"
   },
   {
    "duration": 4,
    "start_time": "2022-05-15T16:24:34.198Z"
   },
   {
    "duration": 29,
    "start_time": "2022-05-15T16:24:34.211Z"
   },
   {
    "duration": 5,
    "start_time": "2022-05-15T16:24:34.242Z"
   },
   {
    "duration": 12,
    "start_time": "2022-05-15T16:24:34.249Z"
   },
   {
    "duration": 6,
    "start_time": "2022-05-15T16:24:40.399Z"
   },
   {
    "duration": 4,
    "start_time": "2022-05-15T16:27:14.726Z"
   },
   {
    "duration": 22,
    "start_time": "2022-05-15T16:27:14.740Z"
   },
   {
    "duration": 4,
    "start_time": "2022-05-15T16:27:14.765Z"
   },
   {
    "duration": 11,
    "start_time": "2022-05-15T16:27:14.771Z"
   },
   {
    "duration": 6,
    "start_time": "2022-05-15T16:27:17.440Z"
   },
   {
    "duration": 6,
    "start_time": "2022-05-15T16:29:52.336Z"
   },
   {
    "duration": 3,
    "start_time": "2022-05-15T16:32:38.071Z"
   },
   {
    "duration": 4,
    "start_time": "2022-05-15T16:32:45.094Z"
   },
   {
    "duration": 5,
    "start_time": "2022-05-15T16:44:05.166Z"
   },
   {
    "duration": 3,
    "start_time": "2022-05-15T16:44:19.026Z"
   },
   {
    "duration": 4,
    "start_time": "2022-05-15T16:44:30.869Z"
   },
   {
    "duration": 10,
    "start_time": "2022-05-15T16:44:36.782Z"
   },
   {
    "duration": 3,
    "start_time": "2022-05-15T16:44:44.073Z"
   },
   {
    "duration": 1629,
    "start_time": "2022-05-15T16:44:46.337Z"
   },
   {
    "duration": 1591,
    "start_time": "2022-05-15T16:45:18.732Z"
   },
   {
    "duration": 3,
    "start_time": "2022-05-15T16:45:33.711Z"
   },
   {
    "duration": 1713,
    "start_time": "2022-05-15T16:45:40.950Z"
   },
   {
    "duration": 3,
    "start_time": "2022-05-15T16:45:58.344Z"
   },
   {
    "duration": 874,
    "start_time": "2022-05-15T16:46:03.435Z"
   },
   {
    "duration": 6,
    "start_time": "2022-05-15T16:50:59.078Z"
   },
   {
    "duration": 6,
    "start_time": "2022-05-15T16:51:04.992Z"
   },
   {
    "duration": 4,
    "start_time": "2022-05-15T16:51:08.354Z"
   },
   {
    "duration": 868,
    "start_time": "2022-05-15T16:51:10.221Z"
   },
   {
    "duration": 911,
    "start_time": "2022-05-15T16:51:35.183Z"
   },
   {
    "duration": 892,
    "start_time": "2022-05-15T16:51:48.188Z"
   },
   {
    "duration": 3,
    "start_time": "2022-05-15T16:52:02.228Z"
   },
   {
    "duration": 24,
    "start_time": "2022-05-15T16:52:02.241Z"
   },
   {
    "duration": 4,
    "start_time": "2022-05-15T16:52:02.267Z"
   },
   {
    "duration": 22,
    "start_time": "2022-05-15T16:52:02.272Z"
   },
   {
    "duration": 14,
    "start_time": "2022-05-15T16:52:02.296Z"
   },
   {
    "duration": 18,
    "start_time": "2022-05-15T16:52:02.312Z"
   },
   {
    "duration": 1623,
    "start_time": "2022-05-15T16:52:13.930Z"
   },
   {
    "duration": 859,
    "start_time": "2022-05-15T16:52:20.279Z"
   },
   {
    "duration": 3,
    "start_time": "2022-05-15T16:52:47.822Z"
   },
   {
    "duration": 901,
    "start_time": "2022-05-15T16:52:53.783Z"
   },
   {
    "duration": 3,
    "start_time": "2022-05-15T16:53:17.450Z"
   },
   {
    "duration": 864,
    "start_time": "2022-05-15T16:53:20.340Z"
   },
   {
    "duration": 110,
    "start_time": "2022-05-15T16:55:38.435Z"
   },
   {
    "duration": 98,
    "start_time": "2022-05-15T16:55:44.839Z"
   },
   {
    "duration": 3,
    "start_time": "2022-05-15T16:55:49.681Z"
   },
   {
    "duration": 23,
    "start_time": "2022-05-15T16:55:51.614Z"
   },
   {
    "duration": 3,
    "start_time": "2022-05-15T16:56:12.549Z"
   },
   {
    "duration": 872,
    "start_time": "2022-05-15T16:56:14.132Z"
   },
   {
    "duration": 3,
    "start_time": "2022-05-15T16:59:26.940Z"
   },
   {
    "duration": 23326,
    "start_time": "2022-05-15T17:00:43.311Z"
   },
   {
    "duration": 4,
    "start_time": "2022-05-15T17:01:28.553Z"
   },
   {
    "duration": 26999,
    "start_time": "2022-05-15T17:01:30.246Z"
   },
   {
    "duration": 3,
    "start_time": "2022-05-15T17:02:14.346Z"
   },
   {
    "duration": 25705,
    "start_time": "2022-05-15T17:02:16.109Z"
   },
   {
    "duration": 3,
    "start_time": "2022-05-15T17:05:09.279Z"
   },
   {
    "duration": 23,
    "start_time": "2022-05-15T17:06:07.885Z"
   },
   {
    "duration": 3,
    "start_time": "2022-05-15T17:06:23.923Z"
   },
   {
    "duration": 36,
    "start_time": "2022-05-15T17:06:23.933Z"
   },
   {
    "duration": 4,
    "start_time": "2022-05-15T17:06:23.971Z"
   },
   {
    "duration": 13,
    "start_time": "2022-05-15T17:06:23.977Z"
   },
   {
    "duration": 7,
    "start_time": "2022-05-15T17:06:23.992Z"
   },
   {
    "duration": 2,
    "start_time": "2022-05-15T17:06:24.001Z"
   },
   {
    "duration": 6,
    "start_time": "2022-05-15T17:06:24.004Z"
   },
   {
    "duration": 925,
    "start_time": "2022-05-15T17:06:30.642Z"
   },
   {
    "duration": 931,
    "start_time": "2022-05-15T17:08:20.041Z"
   },
   {
    "duration": 25,
    "start_time": "2022-05-15T17:10:16.563Z"
   },
   {
    "duration": 13,
    "start_time": "2022-05-15T17:10:33.358Z"
   },
   {
    "duration": 4,
    "start_time": "2022-05-15T17:10:38.137Z"
   },
   {
    "duration": 10,
    "start_time": "2022-05-15T17:10:52.327Z"
   },
   {
    "duration": 14,
    "start_time": "2022-05-15T17:12:19.563Z"
   },
   {
    "duration": 27,
    "start_time": "2022-05-15T17:12:24.755Z"
   },
   {
    "duration": 28,
    "start_time": "2022-05-15T17:12:40.557Z"
   },
   {
    "duration": 15,
    "start_time": "2022-05-15T17:13:11.094Z"
   },
   {
    "duration": 17,
    "start_time": "2022-05-15T17:13:41.015Z"
   },
   {
    "duration": 8,
    "start_time": "2022-05-15T17:14:30.888Z"
   },
   {
    "duration": 6,
    "start_time": "2022-05-15T17:14:53.938Z"
   },
   {
    "duration": 6,
    "start_time": "2022-05-15T17:17:00.252Z"
   },
   {
    "duration": 4,
    "start_time": "2022-05-15T17:17:05.543Z"
   },
   {
    "duration": 28,
    "start_time": "2022-05-15T17:17:05.553Z"
   },
   {
    "duration": 3,
    "start_time": "2022-05-15T17:17:05.583Z"
   },
   {
    "duration": 35,
    "start_time": "2022-05-15T17:17:05.588Z"
   },
   {
    "duration": 16,
    "start_time": "2022-05-15T17:17:05.625Z"
   },
   {
    "duration": 7,
    "start_time": "2022-05-15T17:17:05.642Z"
   },
   {
    "duration": 5,
    "start_time": "2022-05-15T17:17:05.651Z"
   },
   {
    "duration": 926,
    "start_time": "2022-05-15T17:17:05.658Z"
   },
   {
    "duration": 6,
    "start_time": "2022-05-15T17:17:06.585Z"
   },
   {
    "duration": 7,
    "start_time": "2022-05-15T17:17:06.592Z"
   },
   {
    "duration": 35495,
    "start_time": "2022-05-15T17:17:06.601Z"
   },
   {
    "duration": 12,
    "start_time": "2022-05-15T17:17:54.681Z"
   },
   {
    "duration": 5,
    "start_time": "2022-05-15T17:19:02.297Z"
   },
   {
    "duration": 215,
    "start_time": "2022-05-15T17:21:22.657Z"
   },
   {
    "duration": 51,
    "start_time": "2022-05-15T17:21:28.337Z"
   },
   {
    "duration": 449,
    "start_time": "2022-05-15T17:21:43.813Z"
   },
   {
    "duration": 412,
    "start_time": "2022-05-15T17:22:09.678Z"
   },
   {
    "duration": 484,
    "start_time": "2022-05-15T17:22:24.078Z"
   },
   {
    "duration": 13,
    "start_time": "2022-05-15T17:23:38.279Z"
   },
   {
    "duration": 22,
    "start_time": "2022-05-15T17:23:44.606Z"
   },
   {
    "duration": 18,
    "start_time": "2022-05-15T17:23:50.541Z"
   },
   {
    "duration": 18,
    "start_time": "2022-05-15T17:23:53.716Z"
   },
   {
    "duration": 20,
    "start_time": "2022-05-15T17:23:56.908Z"
   },
   {
    "duration": 21,
    "start_time": "2022-05-15T17:24:00.591Z"
   },
   {
    "duration": 14,
    "start_time": "2022-05-15T17:24:04.682Z"
   },
   {
    "duration": 15,
    "start_time": "2022-05-15T17:24:17.591Z"
   },
   {
    "duration": 14,
    "start_time": "2022-05-15T17:24:23.109Z"
   },
   {
    "duration": 19,
    "start_time": "2022-05-15T17:24:33.266Z"
   },
   {
    "duration": 6,
    "start_time": "2022-05-15T17:24:43.362Z"
   },
   {
    "duration": 10,
    "start_time": "2022-05-15T17:25:03.063Z"
   },
   {
    "duration": 19,
    "start_time": "2022-05-15T17:25:19.441Z"
   },
   {
    "duration": 8,
    "start_time": "2022-05-15T17:25:28.297Z"
   }
  ],
  "kernelspec": {
   "display_name": "Python 3 (ipykernel)",
   "language": "python",
   "name": "python3"
  },
  "language_info": {
   "codemirror_mode": {
    "name": "ipython",
    "version": 3
   },
   "file_extension": ".py",
   "mimetype": "text/x-python",
   "name": "python",
   "nbconvert_exporter": "python",
   "pygments_lexer": "ipython3",
   "version": "3.9.5"
  },
  "toc": {
   "base_numbering": 1,
   "nav_menu": {},
   "number_sections": true,
   "sideBar": true,
   "skip_h1_title": true,
   "title_cell": "Table of Contents",
   "title_sidebar": "Contents",
   "toc_cell": false,
   "toc_position": {},
   "toc_section_display": true,
   "toc_window_display": false
  }
 },
 "nbformat": 4,
 "nbformat_minor": 2
}
