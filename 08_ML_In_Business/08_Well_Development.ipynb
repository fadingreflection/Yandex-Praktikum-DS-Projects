{
 "cells": [
  {
   "cell_type": "markdown",
   "metadata": {},
   "source": [
    "# Выбор локации для скважины"
   ]
  },
  {
   "cell_type": "markdown",
   "metadata": {},
   "source": [
    "Предоставлены пробы нефти в трёх регионах: в каждом 10 000 месторождений, где измерили качество нефти и объём её запасов. Нужно построить модель машинного обучения, которая поможет определить регион, где добыча принесёт наибольшую прибыль. Проанализируйте возможную прибыль и риски техникой *Bootstrap.*\n",
    "\n",
    "Шаги для выбора локации:\n",
    "\n",
    "- В избранном регионе ищут месторождения, для каждого определяют значения признаков;\n",
    "- Строят модель и оценивают объём запасов;\n",
    "- Выбирают месторождения с самым высокими оценками значений. Количество месторождений зависит от бюджета компании и стоимости разработки одной скважины;\n",
    "- Прибыль равна суммарной прибыли отобранных месторождений."
   ]
  },
  {
   "cell_type": "markdown",
   "metadata": {},
   "source": [
    "## Загрузка и подготовка данных"
   ]
  },
  {
   "cell_type": "markdown",
   "metadata": {},
   "source": [
    "### Импорт библиотек и модулей"
   ]
  },
  {
   "cell_type": "code",
   "execution_count": 11,
   "metadata": {},
   "outputs": [],
   "source": [
    "import pandas as pd\n",
    "import numpy as np\n",
    "import seaborn as sns\n",
    "from matplotlib import pyplot as plt\n",
    "from math import ceil\n",
    "\n",
    "from sklearn.model_selection import train_test_split\n",
    "from sklearn.linear_model import LinearRegression\n",
    "from sklearn.metrics import mean_squared_error\n",
    "from sklearn.metrics import mean_absolute_error\n",
    "from sklearn.metrics import r2_score\n",
    "from sklearn.preprocessing import MinMaxScaler\n",
    "from scipy.stats import t\n",
    "\n",
    "pd.options.mode.chained_assignment = None\n",
    "\n",
    "#сохраним нужные данные в константы\n",
    "WELL_NUM_RESEARCH = 500\n",
    "WELL_NUM = 200\n",
    "BUDGET_LIM = 10**10\n",
    "BARREL_PRICE = 450\n",
    "RISK_TRESHOLD = 0.025"
   ]
  },
  {
   "cell_type": "markdown",
   "metadata": {},
   "source": [
    "### Загрузка и первичный осмотр данных"
   ]
  },
  {
   "cell_type": "code",
   "execution_count": 12,
   "metadata": {},
   "outputs": [
    {
     "data": {
      "text/html": [
       "<div>\n",
       "<style scoped>\n",
       "    .dataframe tbody tr th:only-of-type {\n",
       "        vertical-align: middle;\n",
       "    }\n",
       "\n",
       "    .dataframe tbody tr th {\n",
       "        vertical-align: top;\n",
       "    }\n",
       "\n",
       "    .dataframe thead th {\n",
       "        text-align: right;\n",
       "    }\n",
       "</style>\n",
       "<table border=\"1\" class=\"dataframe\">\n",
       "  <thead>\n",
       "    <tr style=\"text-align: right;\">\n",
       "      <th></th>\n",
       "      <th>id</th>\n",
       "      <th>f0</th>\n",
       "      <th>f1</th>\n",
       "      <th>f2</th>\n",
       "      <th>product</th>\n",
       "    </tr>\n",
       "  </thead>\n",
       "  <tbody>\n",
       "    <tr>\n",
       "      <th>42214</th>\n",
       "      <td>8wd0D</td>\n",
       "      <td>0.618166</td>\n",
       "      <td>0.778863</td>\n",
       "      <td>3.719244</td>\n",
       "      <td>52.154437</td>\n",
       "    </tr>\n",
       "    <tr>\n",
       "      <th>521</th>\n",
       "      <td>qa8qq</td>\n",
       "      <td>-0.538434</td>\n",
       "      <td>0.943164</td>\n",
       "      <td>4.455122</td>\n",
       "      <td>78.403915</td>\n",
       "    </tr>\n",
       "    <tr>\n",
       "      <th>35412</th>\n",
       "      <td>mAxKm</td>\n",
       "      <td>-0.767276</td>\n",
       "      <td>0.782809</td>\n",
       "      <td>7.502054</td>\n",
       "      <td>151.794298</td>\n",
       "    </tr>\n",
       "  </tbody>\n",
       "</table>\n",
       "</div>"
      ],
      "text/plain": [
       "          id        f0        f1        f2     product\n",
       "42214  8wd0D  0.618166  0.778863  3.719244   52.154437\n",
       "521    qa8qq -0.538434  0.943164  4.455122   78.403915\n",
       "35412  mAxKm -0.767276  0.782809  7.502054  151.794298"
      ]
     },
     "metadata": {},
     "output_type": "display_data"
    },
    {
     "name": "stdout",
     "output_type": "stream",
     "text": [
      "Дубликатов в данных: 0\n",
      "Пропусков в данных: id         0\n",
      "f0         0\n",
      "f1         0\n",
      "f2         0\n",
      "product    0\n",
      "dtype: int64\n"
     ]
    },
    {
     "data": {
      "text/html": [
       "<div>\n",
       "<style scoped>\n",
       "    .dataframe tbody tr th:only-of-type {\n",
       "        vertical-align: middle;\n",
       "    }\n",
       "\n",
       "    .dataframe tbody tr th {\n",
       "        vertical-align: top;\n",
       "    }\n",
       "\n",
       "    .dataframe thead th {\n",
       "        text-align: right;\n",
       "    }\n",
       "</style>\n",
       "<table border=\"1\" class=\"dataframe\">\n",
       "  <thead>\n",
       "    <tr style=\"text-align: right;\">\n",
       "      <th></th>\n",
       "      <th>id</th>\n",
       "      <th>f0</th>\n",
       "      <th>f1</th>\n",
       "      <th>f2</th>\n",
       "      <th>product</th>\n",
       "    </tr>\n",
       "  </thead>\n",
       "  <tbody>\n",
       "    <tr>\n",
       "      <th>84766</th>\n",
       "      <td>qrwW9</td>\n",
       "      <td>13.782957</td>\n",
       "      <td>-8.663393</td>\n",
       "      <td>2.000847</td>\n",
       "      <td>53.906522</td>\n",
       "    </tr>\n",
       "    <tr>\n",
       "      <th>79816</th>\n",
       "      <td>AyNTJ</td>\n",
       "      <td>-15.124924</td>\n",
       "      <td>-10.186379</td>\n",
       "      <td>5.001266</td>\n",
       "      <td>137.945408</td>\n",
       "    </tr>\n",
       "    <tr>\n",
       "      <th>32832</th>\n",
       "      <td>odVIP</td>\n",
       "      <td>13.583417</td>\n",
       "      <td>-3.502521</td>\n",
       "      <td>3.005498</td>\n",
       "      <td>80.859783</td>\n",
       "    </tr>\n",
       "  </tbody>\n",
       "</table>\n",
       "</div>"
      ],
      "text/plain": [
       "          id         f0         f1        f2     product\n",
       "84766  qrwW9  13.782957  -8.663393  2.000847   53.906522\n",
       "79816  AyNTJ -15.124924 -10.186379  5.001266  137.945408\n",
       "32832  odVIP  13.583417  -3.502521  3.005498   80.859783"
      ]
     },
     "metadata": {},
     "output_type": "display_data"
    },
    {
     "name": "stdout",
     "output_type": "stream",
     "text": [
      "Дубликатов в данных: 0\n",
      "Пропусков в данных: id         0\n",
      "f0         0\n",
      "f1         0\n",
      "f2         0\n",
      "product    0\n",
      "dtype: int64\n"
     ]
    },
    {
     "data": {
      "text/html": [
       "<div>\n",
       "<style scoped>\n",
       "    .dataframe tbody tr th:only-of-type {\n",
       "        vertical-align: middle;\n",
       "    }\n",
       "\n",
       "    .dataframe tbody tr th {\n",
       "        vertical-align: top;\n",
       "    }\n",
       "\n",
       "    .dataframe thead th {\n",
       "        text-align: right;\n",
       "    }\n",
       "</style>\n",
       "<table border=\"1\" class=\"dataframe\">\n",
       "  <thead>\n",
       "    <tr style=\"text-align: right;\">\n",
       "      <th></th>\n",
       "      <th>id</th>\n",
       "      <th>f0</th>\n",
       "      <th>f1</th>\n",
       "      <th>f2</th>\n",
       "      <th>product</th>\n",
       "    </tr>\n",
       "  </thead>\n",
       "  <tbody>\n",
       "    <tr>\n",
       "      <th>57203</th>\n",
       "      <td>QRAfH</td>\n",
       "      <td>0.698773</td>\n",
       "      <td>2.122086</td>\n",
       "      <td>5.330025</td>\n",
       "      <td>158.694066</td>\n",
       "    </tr>\n",
       "    <tr>\n",
       "      <th>34727</th>\n",
       "      <td>sxFp7</td>\n",
       "      <td>-0.970851</td>\n",
       "      <td>-0.198292</td>\n",
       "      <td>7.214525</td>\n",
       "      <td>131.947962</td>\n",
       "    </tr>\n",
       "    <tr>\n",
       "      <th>20902</th>\n",
       "      <td>Bygah</td>\n",
       "      <td>-1.377428</td>\n",
       "      <td>2.355767</td>\n",
       "      <td>9.496089</td>\n",
       "      <td>188.470534</td>\n",
       "    </tr>\n",
       "  </tbody>\n",
       "</table>\n",
       "</div>"
      ],
      "text/plain": [
       "          id        f0        f1        f2     product\n",
       "57203  QRAfH  0.698773  2.122086  5.330025  158.694066\n",
       "34727  sxFp7 -0.970851 -0.198292  7.214525  131.947962\n",
       "20902  Bygah -1.377428  2.355767  9.496089  188.470534"
      ]
     },
     "metadata": {},
     "output_type": "display_data"
    },
    {
     "name": "stdout",
     "output_type": "stream",
     "text": [
      "Дубликатов в данных: 0\n",
      "Пропусков в данных: id         0\n",
      "f0         0\n",
      "f1         0\n",
      "f2         0\n",
      "product    0\n",
      "dtype: int64\n"
     ]
    }
   ],
   "source": [
    "data = [pd.read_csv('/datasets/geo_data_0.csv'), pd.read_csv('/datasets/geo_data_1.csv'), pd.read_csv('/datasets/geo_data_2.csv')]\n",
    "for dataset in data:\n",
    "    display(dataset.sample(3))\n",
    "    print('Дубликатов в данных:', dataset.duplicated().sum())\n",
    "    print('Пропусков в данных:', dataset.isna().sum())"
   ]
  },
  {
   "cell_type": "markdown",
   "metadata": {},
   "source": [
    "<u>Промежуточный вывод:</u> дубликатов и пропусков не обнаружено"
   ]
  },
  {
   "cell_type": "markdown",
   "metadata": {},
   "source": [
    "### Проверка данных на аномалии"
   ]
  },
  {
   "cell_type": "code",
   "execution_count": 13,
   "metadata": {},
   "outputs": [
    {
     "data": {
      "image/png": "[encoded data removed]",
      "text/plain": [
       "<Figure size 576x216 with 1 Axes>"
      ]
     },
     "metadata": {
      "needs_background": "light"
     },
     "output_type": "display_data"
    },
    {
     "data": {
      "image/png": "[encoded data removed]",
      "text/plain": [
       "<Figure size 576x216 with 1 Axes>"
      ]
     },
     "metadata": {
      "needs_background": "light"
     },
     "output_type": "display_data"
    },
    {
     "data": {
      "image/png": "[encoded data removed]",
      "text/plain": [
       "<Figure size 576x216 with 1 Axes>"
      ]
     },
     "metadata": {
      "needs_background": "light"
     },
     "output_type": "display_data"
    }
   ],
   "source": [
    "count = 1\n",
    "for dataset in data:\n",
    "    dataset.plot(kind = 'box', figsize=(8,3))\n",
    "    plt.title(f'Размах показателей {count} месторождения')\n",
    "    count+=1"
   ]
  },
  {
   "cell_type": "markdown",
   "metadata": {},
   "source": [
    "<u>Промежуточный вывод:</u> \"ящики с усами\" помогают увидеть сходство между 1 и 3 месторождением и явные отличия второго, ввиду меньшего размаха в плане кол-ва баррелей, а также отсутствия выборосов в показателе f2. Также сами \"ящики\" в случае второго месторождения шире, след-но диапазон \"нормальных\" значений больше. Выбросы в случае месторождений 1 и 3 симметричны сверху и снизу."
   ]
  },
  {
   "cell_type": "markdown",
   "metadata": {},
   "source": [
    "### Корреляционный анализ данных"
   ]
  },
  {
   "cell_type": "code",
   "execution_count": 14,
   "metadata": {},
   "outputs": [
    {
     "data": {
      "text/html": [
       "<div>\n",
       "<style scoped>\n",
       "    .dataframe tbody tr th:only-of-type {\n",
       "        vertical-align: middle;\n",
       "    }\n",
       "\n",
       "    .dataframe tbody tr th {\n",
       "        vertical-align: top;\n",
       "    }\n",
       "\n",
       "    .dataframe thead th {\n",
       "        text-align: right;\n",
       "    }\n",
       "</style>\n",
       "<table border=\"1\" class=\"dataframe\">\n",
       "  <thead>\n",
       "    <tr style=\"text-align: right;\">\n",
       "      <th></th>\n",
       "      <th>f0</th>\n",
       "      <th>f1</th>\n",
       "      <th>f2</th>\n",
       "      <th>product</th>\n",
       "    </tr>\n",
       "  </thead>\n",
       "  <tbody>\n",
       "    <tr>\n",
       "      <th>f0</th>\n",
       "      <td>1.000000</td>\n",
       "      <td>-0.440723</td>\n",
       "      <td>-0.003153</td>\n",
       "      <td>0.143536</td>\n",
       "    </tr>\n",
       "    <tr>\n",
       "      <th>f1</th>\n",
       "      <td>-0.440723</td>\n",
       "      <td>1.000000</td>\n",
       "      <td>0.001724</td>\n",
       "      <td>-0.192356</td>\n",
       "    </tr>\n",
       "    <tr>\n",
       "      <th>f2</th>\n",
       "      <td>-0.003153</td>\n",
       "      <td>0.001724</td>\n",
       "      <td>1.000000</td>\n",
       "      <td>0.483663</td>\n",
       "    </tr>\n",
       "    <tr>\n",
       "      <th>product</th>\n",
       "      <td>0.143536</td>\n",
       "      <td>-0.192356</td>\n",
       "      <td>0.483663</td>\n",
       "      <td>1.000000</td>\n",
       "    </tr>\n",
       "  </tbody>\n",
       "</table>\n",
       "</div>"
      ],
      "text/plain": [
       "               f0        f1        f2   product\n",
       "f0       1.000000 -0.440723 -0.003153  0.143536\n",
       "f1      -0.440723  1.000000  0.001724 -0.192356\n",
       "f2      -0.003153  0.001724  1.000000  0.483663\n",
       "product  0.143536 -0.192356  0.483663  1.000000"
      ]
     },
     "metadata": {},
     "output_type": "display_data"
    },
    {
     "data": {
      "text/html": [
       "<div>\n",
       "<style scoped>\n",
       "    .dataframe tbody tr th:only-of-type {\n",
       "        vertical-align: middle;\n",
       "    }\n",
       "\n",
       "    .dataframe tbody tr th {\n",
       "        vertical-align: top;\n",
       "    }\n",
       "\n",
       "    .dataframe thead th {\n",
       "        text-align: right;\n",
       "    }\n",
       "</style>\n",
       "<table border=\"1\" class=\"dataframe\">\n",
       "  <thead>\n",
       "    <tr style=\"text-align: right;\">\n",
       "      <th></th>\n",
       "      <th>f0</th>\n",
       "      <th>f1</th>\n",
       "      <th>f2</th>\n",
       "      <th>product</th>\n",
       "    </tr>\n",
       "  </thead>\n",
       "  <tbody>\n",
       "    <tr>\n",
       "      <th>f0</th>\n",
       "      <td>1.000000</td>\n",
       "      <td>0.182287</td>\n",
       "      <td>-0.001777</td>\n",
       "      <td>-0.030491</td>\n",
       "    </tr>\n",
       "    <tr>\n",
       "      <th>f1</th>\n",
       "      <td>0.182287</td>\n",
       "      <td>1.000000</td>\n",
       "      <td>-0.002595</td>\n",
       "      <td>-0.010155</td>\n",
       "    </tr>\n",
       "    <tr>\n",
       "      <th>f2</th>\n",
       "      <td>-0.001777</td>\n",
       "      <td>-0.002595</td>\n",
       "      <td>1.000000</td>\n",
       "      <td>0.999397</td>\n",
       "    </tr>\n",
       "    <tr>\n",
       "      <th>product</th>\n",
       "      <td>-0.030491</td>\n",
       "      <td>-0.010155</td>\n",
       "      <td>0.999397</td>\n",
       "      <td>1.000000</td>\n",
       "    </tr>\n",
       "  </tbody>\n",
       "</table>\n",
       "</div>"
      ],
      "text/plain": [
       "               f0        f1        f2   product\n",
       "f0       1.000000  0.182287 -0.001777 -0.030491\n",
       "f1       0.182287  1.000000 -0.002595 -0.010155\n",
       "f2      -0.001777 -0.002595  1.000000  0.999397\n",
       "product -0.030491 -0.010155  0.999397  1.000000"
      ]
     },
     "metadata": {},
     "output_type": "display_data"
    },
    {
     "data": {
      "text/html": [
       "<div>\n",
       "<style scoped>\n",
       "    .dataframe tbody tr th:only-of-type {\n",
       "        vertical-align: middle;\n",
       "    }\n",
       "\n",
       "    .dataframe tbody tr th {\n",
       "        vertical-align: top;\n",
       "    }\n",
       "\n",
       "    .dataframe thead th {\n",
       "        text-align: right;\n",
       "    }\n",
       "</style>\n",
       "<table border=\"1\" class=\"dataframe\">\n",
       "  <thead>\n",
       "    <tr style=\"text-align: right;\">\n",
       "      <th></th>\n",
       "      <th>f0</th>\n",
       "      <th>f1</th>\n",
       "      <th>f2</th>\n",
       "      <th>product</th>\n",
       "    </tr>\n",
       "  </thead>\n",
       "  <tbody>\n",
       "    <tr>\n",
       "      <th>f0</th>\n",
       "      <td>1.000000</td>\n",
       "      <td>0.000528</td>\n",
       "      <td>-0.000448</td>\n",
       "      <td>-0.001987</td>\n",
       "    </tr>\n",
       "    <tr>\n",
       "      <th>f1</th>\n",
       "      <td>0.000528</td>\n",
       "      <td>1.000000</td>\n",
       "      <td>0.000779</td>\n",
       "      <td>-0.001012</td>\n",
       "    </tr>\n",
       "    <tr>\n",
       "      <th>f2</th>\n",
       "      <td>-0.000448</td>\n",
       "      <td>0.000779</td>\n",
       "      <td>1.000000</td>\n",
       "      <td>0.445871</td>\n",
       "    </tr>\n",
       "    <tr>\n",
       "      <th>product</th>\n",
       "      <td>-0.001987</td>\n",
       "      <td>-0.001012</td>\n",
       "      <td>0.445871</td>\n",
       "      <td>1.000000</td>\n",
       "    </tr>\n",
       "  </tbody>\n",
       "</table>\n",
       "</div>"
      ],
      "text/plain": [
       "               f0        f1        f2   product\n",
       "f0       1.000000  0.000528 -0.000448 -0.001987\n",
       "f1       0.000528  1.000000  0.000779 -0.001012\n",
       "f2      -0.000448  0.000779  1.000000  0.445871\n",
       "product -0.001987 -0.001012  0.445871  1.000000"
      ]
     },
     "metadata": {},
     "output_type": "display_data"
    }
   ],
   "source": [
    "for dataset in data:\n",
    "    display(dataset.corr())"
   ]
  },
  {
   "cell_type": "markdown",
   "metadata": {},
   "source": [
    "<u>Промежуточный вывод:</u> гипотеза подтверждается - месторождения 1 и 3 действительно похожи по корреляционным показателям. Месторождение 2 имеет почти идеальную положительную корреляцию между показателем f2 и кол-вом баррелей нефти. Скорее всего, именно в случае этого месторождения модель предсказаний будет работать лучше всего.\n",
    "\n",
    "Также очевиден тот факт, что сильнее всего с кол-вом баррелей нефти в месторождении связан именно показатель f2."
   ]
  },
  {
   "cell_type": "markdown",
   "metadata": {},
   "source": [
    "### Вывод по этапу:\n",
    "- данные соответствуют критериям clean data (выбросы не убираем, тк они симметричны и поэтому, скорее всего, нейтрализуют друг друга)\n",
    "- подтверждается гипотеза о схожести 1 и 3 месторождений\n",
    "- 2 месторождение сильно отличается от двух других\n",
    "- в случае месторождения 2 обнаружена очень сильная положительная корреляция показателя f2 и кол-вом баррелей нефти\n",
    "- с кол-вом баррелей нефти сильнее всего связан показатель f2\n",
    "    "
   ]
  },
  {
   "cell_type": "markdown",
   "metadata": {},
   "source": [
    "## Обучение и проверка модели"
   ]
  },
  {
   "cell_type": "markdown",
   "metadata": {},
   "source": [
    "### Разбивка данных на фичи и таргет"
   ]
  },
  {
   "cell_type": "code",
   "execution_count": 15,
   "metadata": {},
   "outputs": [
    {
     "name": "stdout",
     "output_type": "stream",
     "text": [
      "Количество таргетов в списке: 3\n",
      "Количество фич в списке: 3\n"
     ]
    },
    {
     "data": {
      "text/html": [
       "<div>\n",
       "<style scoped>\n",
       "    .dataframe tbody tr th:only-of-type {\n",
       "        vertical-align: middle;\n",
       "    }\n",
       "\n",
       "    .dataframe tbody tr th {\n",
       "        vertical-align: top;\n",
       "    }\n",
       "\n",
       "    .dataframe thead th {\n",
       "        text-align: right;\n",
       "    }\n",
       "</style>\n",
       "<table border=\"1\" class=\"dataframe\">\n",
       "  <thead>\n",
       "    <tr style=\"text-align: right;\">\n",
       "      <th></th>\n",
       "      <th>f0</th>\n",
       "      <th>f1</th>\n",
       "      <th>f2</th>\n",
       "    </tr>\n",
       "  </thead>\n",
       "  <tbody>\n",
       "    <tr>\n",
       "      <th>46348</th>\n",
       "      <td>1.094542</td>\n",
       "      <td>0.072682</td>\n",
       "      <td>9.797778</td>\n",
       "    </tr>\n",
       "    <tr>\n",
       "      <th>98106</th>\n",
       "      <td>0.944224</td>\n",
       "      <td>0.455562</td>\n",
       "      <td>7.529533</td>\n",
       "    </tr>\n",
       "    <tr>\n",
       "      <th>59996</th>\n",
       "      <td>0.642145</td>\n",
       "      <td>-0.378765</td>\n",
       "      <td>2.062776</td>\n",
       "    </tr>\n",
       "  </tbody>\n",
       "</table>\n",
       "</div>"
      ],
      "text/plain": [
       "             f0        f1        f2\n",
       "46348  1.094542  0.072682  9.797778\n",
       "98106  0.944224  0.455562  7.529533\n",
       "59996  0.642145 -0.378765  2.062776"
      ]
     },
     "metadata": {},
     "output_type": "display_data"
    },
    {
     "data": {
      "text/html": [
       "<div>\n",
       "<style scoped>\n",
       "    .dataframe tbody tr th:only-of-type {\n",
       "        vertical-align: middle;\n",
       "    }\n",
       "\n",
       "    .dataframe tbody tr th {\n",
       "        vertical-align: top;\n",
       "    }\n",
       "\n",
       "    .dataframe thead th {\n",
       "        text-align: right;\n",
       "    }\n",
       "</style>\n",
       "<table border=\"1\" class=\"dataframe\">\n",
       "  <thead>\n",
       "    <tr style=\"text-align: right;\">\n",
       "      <th></th>\n",
       "      <th>f0</th>\n",
       "      <th>f1</th>\n",
       "      <th>f2</th>\n",
       "    </tr>\n",
       "  </thead>\n",
       "  <tbody>\n",
       "    <tr>\n",
       "      <th>20750</th>\n",
       "      <td>6.762048</td>\n",
       "      <td>-7.991576</td>\n",
       "      <td>0.995634</td>\n",
       "    </tr>\n",
       "    <tr>\n",
       "      <th>90688</th>\n",
       "      <td>-21.591349</td>\n",
       "      <td>-6.309025</td>\n",
       "      <td>3.992360</td>\n",
       "    </tr>\n",
       "    <tr>\n",
       "      <th>14238</th>\n",
       "      <td>-3.032344</td>\n",
       "      <td>-12.474891</td>\n",
       "      <td>3.000128</td>\n",
       "    </tr>\n",
       "  </tbody>\n",
       "</table>\n",
       "</div>"
      ],
      "text/plain": [
       "              f0         f1        f2\n",
       "20750   6.762048  -7.991576  0.995634\n",
       "90688 -21.591349  -6.309025  3.992360\n",
       "14238  -3.032344 -12.474891  3.000128"
      ]
     },
     "metadata": {},
     "output_type": "display_data"
    },
    {
     "data": {
      "text/html": [
       "<div>\n",
       "<style scoped>\n",
       "    .dataframe tbody tr th:only-of-type {\n",
       "        vertical-align: middle;\n",
       "    }\n",
       "\n",
       "    .dataframe tbody tr th {\n",
       "        vertical-align: top;\n",
       "    }\n",
       "\n",
       "    .dataframe thead th {\n",
       "        text-align: right;\n",
       "    }\n",
       "</style>\n",
       "<table border=\"1\" class=\"dataframe\">\n",
       "  <thead>\n",
       "    <tr style=\"text-align: right;\">\n",
       "      <th></th>\n",
       "      <th>f0</th>\n",
       "      <th>f1</th>\n",
       "      <th>f2</th>\n",
       "    </tr>\n",
       "  </thead>\n",
       "  <tbody>\n",
       "    <tr>\n",
       "      <th>58179</th>\n",
       "      <td>-0.568845</td>\n",
       "      <td>-0.867067</td>\n",
       "      <td>9.160006</td>\n",
       "    </tr>\n",
       "    <tr>\n",
       "      <th>47686</th>\n",
       "      <td>1.430719</td>\n",
       "      <td>0.004242</td>\n",
       "      <td>0.558422</td>\n",
       "    </tr>\n",
       "    <tr>\n",
       "      <th>5506</th>\n",
       "      <td>3.341717</td>\n",
       "      <td>0.615271</td>\n",
       "      <td>3.388700</td>\n",
       "    </tr>\n",
       "  </tbody>\n",
       "</table>\n",
       "</div>"
      ],
      "text/plain": [
       "             f0        f1        f2\n",
       "58179 -0.568845 -0.867067  9.160006\n",
       "47686  1.430719  0.004242  0.558422\n",
       "5506   3.341717  0.615271  3.388700"
      ]
     },
     "metadata": {},
     "output_type": "display_data"
    },
    {
     "data": {
      "text/plain": [
       "48445    138.390533\n",
       "93893    107.069011\n",
       "30720    110.100707\n",
       "Name: product, dtype: float64"
      ]
     },
     "metadata": {},
     "output_type": "display_data"
    },
    {
     "data": {
      "text/plain": [
       "72413    107.813044\n",
       "3068     107.813044\n",
       "58944    110.992147\n",
       "Name: product, dtype: float64"
      ]
     },
     "metadata": {},
     "output_type": "display_data"
    },
    {
     "data": {
      "text/plain": [
       "16683    115.795886\n",
       "96675     28.403768\n",
       "91243    136.874004\n",
       "Name: product, dtype: float64"
      ]
     },
     "metadata": {},
     "output_type": "display_data"
    }
   ],
   "source": [
    "#создадим пустые списки для ЦП и features\n",
    "target_list = []\n",
    "features_list = []\n",
    "#циклом сохраним ЦП и features в нужные списки\n",
    "for dataset in data:\n",
    "    target_list.append(dataset['product'])\n",
    "    features_list.append(dataset.drop(['product', 'id'], axis = 1))\n",
    "\n",
    "#проверим кол-во списков в списках    \n",
    "print('Количество таргетов в списке:', len(target_list))\n",
    "print('Количество фич в списке:', len(features_list))\n",
    "\n",
    "#проверим features\n",
    "for feature in features_list:\n",
    "    display(feature.sample(3))\n",
    "\n",
    "#проверим target\n",
    "for target in target_list:\n",
    "    display(target.sample(3))"
   ]
  },
  {
   "cell_type": "markdown",
   "metadata": {},
   "source": [
    "### Разделение данных на обучающую и валидационную выборки"
   ]
  },
  {
   "cell_type": "code",
   "execution_count": 16,
   "metadata": {},
   "outputs": [
    {
     "name": "stdout",
     "output_type": "stream",
     "text": [
      "[75000, 75000, 75000]\n",
      "[25000, 25000, 25000]\n",
      "[75000, 75000, 75000]\n",
      "[25000, 25000, 25000]\n"
     ]
    }
   ],
   "source": [
    "features_train_list = []\n",
    "features_valid_list = []\n",
    "target_train_list = []\n",
    "target_valid_list = []\n",
    "for i in range(len(features_list)):\n",
    "    features_train, features_valid, target_train, target_valid = train_test_split(features_list[i], target_list[i],\n",
    "                                                                                  test_size = 0.25, random_state = 42) \n",
    "    features_train_list.append(features_train)\n",
    "    features_valid_list.append(features_valid)\n",
    "    target_train_list.append(target_train)\n",
    "    target_valid_list.append(target_valid)\n",
    "\n",
    "\n",
    "# проверим соотношение данных\n",
    "print([len(x) for x in features_train_list])\n",
    "print([len(x) for x in features_valid_list])\n",
    "print([len(x) for x in target_train_list])\n",
    "print([len(x) for x in  target_valid_list])"
   ]
  },
  {
   "cell_type": "markdown",
   "metadata": {},
   "source": [
    "### Обучение линейной регрессии на обучающих выборках"
   ]
  },
  {
   "cell_type": "code",
   "execution_count": 17,
   "metadata": {},
   "outputs": [
    {
     "name": "stdout",
     "output_type": "stream",
     "text": [
      "Показатель RMSE равен: 37.75660035026169\n",
      "Показатель качества модели составляет: 0.2728287328173471\n",
      "Среднее предсказанное значение составляет: 92.39879990657768\n",
      "\n",
      "Показатель RMSE равен: 0.890280100102884\n",
      "Показатель качества модели составляет: 0.9996245232002449\n",
      "Среднее предсказанное значение составляет: 68.71287803913762\n",
      "\n",
      "Показатель RMSE равен: 40.145872311342174\n",
      "Показатель качества модели составляет: 0.19634705977280487\n",
      "Среднее предсказанное значение составляет: 94.77102387765939\n",
      "\n"
     ]
    }
   ],
   "source": [
    "pred_results = []\n",
    "predictions_list = []\n",
    "model = LinearRegression()\n",
    "for i in range(len(features_list)):\n",
    "    model.fit(features_train_list[i], target_train_list[i])\n",
    "    predictions = model.predict(features_valid_list[i])\n",
    "    predictions_list.append(predictions)\n",
    "    rmse = (mean_squared_error(target_valid_list[i].values, predictions))**0.5\n",
    "    print('Показатель RMSE равен:', rmse)\n",
    "    print('Показатель качества модели составляет:', r2_score(target_valid_list[i].values, predictions))\n",
    "    print('Среднее предсказанное значение составляет:', predictions.mean())\n",
    "    pred_model = [rmse, r2_score(target_valid_list[i].values, predictions), predictions.mean()]\n",
    "    pred_results.append(pred_model)\n",
    "    print()"
   ]
  },
  {
   "cell_type": "code",
   "execution_count": 18,
   "metadata": {},
   "outputs": [
    {
     "data": {
      "text/html": [
       "<div>\n",
       "<style scoped>\n",
       "    .dataframe tbody tr th:only-of-type {\n",
       "        vertical-align: middle;\n",
       "    }\n",
       "\n",
       "    .dataframe tbody tr th {\n",
       "        vertical-align: top;\n",
       "    }\n",
       "\n",
       "    .dataframe thead th {\n",
       "        text-align: right;\n",
       "    }\n",
       "</style>\n",
       "<table border=\"1\" class=\"dataframe\">\n",
       "  <thead>\n",
       "    <tr style=\"text-align: right;\">\n",
       "      <th></th>\n",
       "      <th>RMSE</th>\n",
       "      <th>R2_score</th>\n",
       "      <th>Предсказанное зн-е</th>\n",
       "    </tr>\n",
       "  </thead>\n",
       "  <tbody>\n",
       "    <tr>\n",
       "      <th>1</th>\n",
       "      <td>37.756600</td>\n",
       "      <td>0.272829</td>\n",
       "      <td>92.398800</td>\n",
       "    </tr>\n",
       "    <tr>\n",
       "      <th>2</th>\n",
       "      <td>0.890280</td>\n",
       "      <td>0.999625</td>\n",
       "      <td>68.712878</td>\n",
       "    </tr>\n",
       "    <tr>\n",
       "      <th>3</th>\n",
       "      <td>40.145872</td>\n",
       "      <td>0.196347</td>\n",
       "      <td>94.771024</td>\n",
       "    </tr>\n",
       "  </tbody>\n",
       "</table>\n",
       "</div>"
      ],
      "text/plain": [
       "        RMSE  R2_score  Предсказанное зн-е\n",
       "1  37.756600  0.272829           92.398800\n",
       "2   0.890280  0.999625           68.712878\n",
       "3  40.145872  0.196347           94.771024"
      ]
     },
     "metadata": {},
     "output_type": "display_data"
    }
   ],
   "source": [
    "#соберем полученные данные в одну таблицу\n",
    "joint_data = pd.DataFrame(index = [1,2,3], columns = ['RMSE', 'R2_score', 'Предсказанное зн-е'],\n",
    "            data = pred_results)\n",
    "display(joint_data)"
   ]
  },
  {
   "cell_type": "markdown",
   "metadata": {},
   "source": [
    "<b>Вывод по этапу:</b> гипотеза все еще подтверждается: среднее предсказание по запасам почти совпадает в случае 1 и 3 модели, но качество модели оставляет желать лучшего. Зато очень высокое качество модели в случае 2 месторождения, но там предсказание по запасам ниже примерно на треть."
   ]
  },
  {
   "cell_type": "markdown",
   "metadata": {},
   "source": [
    "## Подготовка к расчёту прибыли"
   ]
  },
  {
   "cell_type": "markdown",
   "metadata": {},
   "source": [
    "### Расчет предельной стоимости разработки и необходимого запаса сырья"
   ]
  },
  {
   "cell_type": "code",
   "execution_count": 19,
   "metadata": {},
   "outputs": [
    {
     "name": "stdout",
     "output_type": "stream",
     "text": [
      "Предельная стоимость разработки одной скважины составляет: 50000000.0\n",
      "Минимальный запас сырья в скважине должен составлять 112 тысяч баррелей\n"
     ]
    }
   ],
   "source": [
    "#рассчитаем предельную стоимость разработки скважины\n",
    "well_dev_cost = BUDGET_LIM / WELL_NUM\n",
    "print('Предельная стоимость разработки одной скважины составляет:', well_dev_cost)\n",
    "\n",
    "#рассчитаем необходимый запас сырья в тыс., чтобы не уйти в минус\n",
    "min_barrel_per_well = ceil(well_dev_cost / (BARREL_PRICE * 1000))\n",
    "\n",
    "print('Минимальный запас сырья в скважине должен составлять', min_barrel_per_well,\n",
    "      'тысяч баррелей')"
   ]
  },
  {
   "cell_type": "markdown",
   "metadata": {},
   "source": [
    "<b>Сравним полученный объем сырья со средним по регионам</b>"
   ]
  },
  {
   "cell_type": "code",
   "execution_count": 20,
   "metadata": {},
   "outputs": [
    {
     "data": {
      "text/html": [
       "<div>\n",
       "<style scoped>\n",
       "    .dataframe tbody tr th:only-of-type {\n",
       "        vertical-align: middle;\n",
       "    }\n",
       "\n",
       "    .dataframe tbody tr th {\n",
       "        vertical-align: top;\n",
       "    }\n",
       "\n",
       "    .dataframe thead th {\n",
       "        text-align: right;\n",
       "    }\n",
       "</style>\n",
       "<table border=\"1\" class=\"dataframe\">\n",
       "  <thead>\n",
       "    <tr style=\"text-align: right;\">\n",
       "      <th></th>\n",
       "      <th>RMSE</th>\n",
       "      <th>R2_score</th>\n",
       "      <th>Предсказанное зн-е</th>\n",
       "    </tr>\n",
       "  </thead>\n",
       "  <tbody>\n",
       "    <tr>\n",
       "      <th>1</th>\n",
       "      <td>37.756600</td>\n",
       "      <td>0.272829</td>\n",
       "      <td>92.398800</td>\n",
       "    </tr>\n",
       "    <tr>\n",
       "      <th>2</th>\n",
       "      <td>0.890280</td>\n",
       "      <td>0.999625</td>\n",
       "      <td>68.712878</td>\n",
       "    </tr>\n",
       "    <tr>\n",
       "      <th>3</th>\n",
       "      <td>40.145872</td>\n",
       "      <td>0.196347</td>\n",
       "      <td>94.771024</td>\n",
       "    </tr>\n",
       "  </tbody>\n",
       "</table>\n",
       "</div>"
      ],
      "text/plain": [
       "        RMSE  R2_score  Предсказанное зн-е\n",
       "1  37.756600  0.272829           92.398800\n",
       "2   0.890280  0.999625           68.712878\n",
       "3  40.145872  0.196347           94.771024"
      ]
     },
     "execution_count": 20,
     "metadata": {},
     "output_type": "execute_result"
    }
   ],
   "source": [
    "#вызовем таблицу joint_data\n",
    "joint_data"
   ]
  },
  {
   "cell_type": "markdown",
   "metadata": {},
   "source": [
    "<b>Вывод по этапу:</b> судя по предсказаниям модели, ни в одном из регионов в среднем не наблюдается порогового значения. Однако в 1 и 3 регионе разница не столь большая по сравнению со 2 - там значение едва ли превышает половину от требуемого. Тем не менее, мы разрабатываем всего 200 скважин, а не все, поэтому не исключено, что есть \"плодовитые\" скважины, а есть те, где запасы почти на нуле. Поэтому задача состоит в том, чтобы найти среди скважин наиболее прибыльные по всем трем регионам."
   ]
  },
  {
   "cell_type": "markdown",
   "metadata": {},
   "source": [
    "## Расчёт прибыли и рисков "
   ]
  },
  {
   "cell_type": "markdown",
   "metadata": {},
   "source": [
    "### Создание ф-ции расчета прибыли"
   ]
  },
  {
   "cell_type": "code",
   "execution_count": 21,
   "metadata": {
    "scrolled": true
   },
   "outputs": [
    {
     "name": "stdout",
     "output_type": "stream",
     "text": [
      "Предполагаемая прибыль по 1 месторождению составляет 3359141114.462181\n",
      "Предполагаемая прибыль по 2 месторождению составляет 2415086696.681507\n",
      "Предполагаемая прибыль по 3 месторождению составляет 2598571759.374111\n"
     ]
    }
   ],
   "source": [
    "def predicted_revenue(target, predictions, count):\n",
    "    top_wells = pd.Series(predictions).sort_values(ascending=False).head(count)\n",
    "    predicted_profit = (target.loc[top_wells.index] * 1000 * BARREL_PRICE).sum()\n",
    "    return predicted_profit - (well_dev_cost * count)\n",
    "\n",
    "count = 1\n",
    "for i in range(len(target_valid_list)):\n",
    "    print(f'Предполагаемая прибыль по {count} месторождению составляет', \n",
    "          predicted_revenue(target_valid_list[i].reset_index(drop = True), predictions_list[i], WELL_NUM))\n",
    "    count+=1"
   ]
  },
  {
   "cell_type": "markdown",
   "metadata": {},
   "source": [
    "### Применение bootstrap для нахождения распределения прибыли"
   ]
  },
  {
   "cell_type": "code",
   "execution_count": 23,
   "metadata": {},
   "outputs": [],
   "source": [
    "random_state = np.random.RandomState(seed = 42)\n",
    "bootstrap_samples = 1000\n",
    "revenues = []\n",
    "\n",
    "for i in range(len(target_valid_list)):\n",
    "    revenue = []\n",
    "    for j in range(bootstrap_samples):\n",
    "        target_subsample = target_valid_list[i].reset_index(drop= True).sample(WELL_NUM_RESEARCH, \n",
    "                                                                         replace=True,\n",
    "                                                                         random_state=random_state)\n",
    "        predictions_subsample = pd.Series(predictions_list[i]).loc[target_subsample.index]\n",
    "        revenue.append(predicted_revenue(target_subsample, predictions_subsample, WELL_NUM)) \n",
    "\n",
    "    revenues.append(revenue)    "
   ]
  },
  {
   "cell_type": "markdown",
   "metadata": {},
   "source": [
    "### Визуализация данных бутстрепа"
   ]
  },
  {
   "cell_type": "code",
   "execution_count": 43,
   "metadata": {},
   "outputs": [
    {
     "data": {
      "image/png": "[encoded data removed]",
      "text/plain": [
       "<Figure size 576x360 with 1 Axes>"
      ]
     },
     "metadata": {
      "needs_background": "light"
     },
     "output_type": "display_data"
    }
   ],
   "source": [
    "for revenue in revenues:\n",
    "    pd.Series(revenue).plot(kind = 'hist', legend = True, figsize = (8,5), bins = 150, grid = True)\n",
    "    plt.title('Распеределение запасов нефти по месторождениям')\n",
    "    plt.legend(['Мест-е 1', 'Мест-е 2', 'Мест-е .3'])"
   ]
  },
  {
   "cell_type": "markdown",
   "metadata": {},
   "source": [
    "<u>Промежуточный вывод:</u> как видно, распределение прибыли нормальное во всех случаях, средних значений в случае 2 месторождения больше. У 3 месторождения длиннее хвосты в сторону больших значений."
   ]
  },
  {
   "cell_type": "markdown",
   "metadata": {},
   "source": [
    "### Расчет средней прибыли, 95%-ого доверительного интервала и риска убытков"
   ]
  },
  {
   "cell_type": "code",
   "execution_count": 58,
   "metadata": {},
   "outputs": [
    {
     "data": {
      "text/html": [
       "<div>\n",
       "<style scoped>\n",
       "    .dataframe tbody tr th:only-of-type {\n",
       "        vertical-align: middle;\n",
       "    }\n",
       "\n",
       "    .dataframe tbody tr th {\n",
       "        vertical-align: top;\n",
       "    }\n",
       "\n",
       "    .dataframe thead th {\n",
       "        text-align: right;\n",
       "    }\n",
       "</style>\n",
       "<table border=\"1\" class=\"dataframe\">\n",
       "  <thead>\n",
       "    <tr style=\"text-align: right;\">\n",
       "      <th></th>\n",
       "      <th>Estimated Profit</th>\n",
       "    </tr>\n",
       "  </thead>\n",
       "  <tbody>\n",
       "    <tr>\n",
       "      <th>1</th>\n",
       "      <td>6.061226e+08</td>\n",
       "    </tr>\n",
       "    <tr>\n",
       "      <th>2</th>\n",
       "      <td>6.624132e+08</td>\n",
       "    </tr>\n",
       "    <tr>\n",
       "      <th>3</th>\n",
       "      <td>5.920520e+08</td>\n",
       "    </tr>\n",
       "  </tbody>\n",
       "</table>\n",
       "</div>"
      ],
      "text/plain": [
       "   Estimated Profit\n",
       "1      6.061226e+08\n",
       "2      6.624132e+08\n",
       "3      5.920520e+08"
      ]
     },
     "metadata": {},
     "output_type": "display_data"
    }
   ],
   "source": [
    "#рассчитаем среднюю прибыль по месторождениям\n",
    "estimated_profit = pd.DataFrame(index = [1,2,3], columns = ['Estimated Profit'],\n",
    "                                data = [pd.Series(x).mean() for x in revenues])\n",
    "display(estimated_profit)"
   ]
  },
  {
   "cell_type": "code",
   "execution_count": 95,
   "metadata": {},
   "outputs": [
    {
     "data": {
      "text/html": [
       "<div>\n",
       "<style scoped>\n",
       "    .dataframe tbody tr th:only-of-type {\n",
       "        vertical-align: middle;\n",
       "    }\n",
       "\n",
       "    .dataframe tbody tr th {\n",
       "        vertical-align: top;\n",
       "    }\n",
       "\n",
       "    .dataframe thead th {\n",
       "        text-align: right;\n",
       "    }\n",
       "</style>\n",
       "<table border=\"1\" class=\"dataframe\">\n",
       "  <thead>\n",
       "    <tr style=\"text-align: right;\">\n",
       "      <th></th>\n",
       "      <th>1</th>\n",
       "      <th>2</th>\n",
       "      <th>3</th>\n",
       "    </tr>\n",
       "  </thead>\n",
       "  <tbody>\n",
       "    <tr>\n",
       "      <th>Confidence Intervals</th>\n",
       "      <td>[583497202, 623025136]</td>\n",
       "      <td>[637899068, 666706921]</td>\n",
       "      <td>[557285060, 593923803]</td>\n",
       "    </tr>\n",
       "    <tr>\n",
       "      <th>Standard Deviation</th>\n",
       "      <td>[312885587]</td>\n",
       "      <td>[268161964]</td>\n",
       "      <td>[323852767]</td>\n",
       "    </tr>\n",
       "  </tbody>\n",
       "</table>\n",
       "</div>"
      ],
      "text/plain": [
       "                                           1                       2  \\\n",
       "Confidence Intervals  [583497202, 623025136]  [637899068, 666706921]   \n",
       "Standard Deviation               [312885587]             [268161964]   \n",
       "\n",
       "                                           3  \n",
       "Confidence Intervals  [557285060, 593923803]  \n",
       "Standard Deviation               [323852767]  "
      ]
     },
     "metadata": {},
     "output_type": "display_data"
    }
   ],
   "source": [
    "#рассчитаем 95% доверительный интервал\n",
    "CONF_INTERVAL = 0.05\n",
    "lower = (1 - CONF_INTERVAL) / 2\n",
    "upper = (1 + CONF_INTERVAL) / 2\n",
    "intervals = []\n",
    "deviation = []\n",
    "\n",
    "for revenue in revenues:\n",
    "    intervals.append([int(pd.Series(revenue).quantile(lower)), int(pd.Series(revenue).quantile(upper))])\n",
    "    deviation.append([int(pd.Series(revenue).std())])\n",
    "\n",
    "#соберем рез-ты в таблицу\n",
    "conf_intervals = pd.DataFrame(index = ['Confidence Intervals', 'Standard Deviation'],\n",
    "                              columns = [1,2,3], data = [intervals, deviation])\n",
    "display(conf_intervals)"
   ]
  },
  {
   "cell_type": "code",
   "execution_count": 89,
   "metadata": {},
   "outputs": [
    {
     "data": {
      "text/html": [
       "<div>\n",
       "<style scoped>\n",
       "    .dataframe tbody tr th:only-of-type {\n",
       "        vertical-align: middle;\n",
       "    }\n",
       "\n",
       "    .dataframe tbody tr th {\n",
       "        vertical-align: top;\n",
       "    }\n",
       "\n",
       "    .dataframe thead th {\n",
       "        text-align: right;\n",
       "    }\n",
       "</style>\n",
       "<table border=\"1\" class=\"dataframe\">\n",
       "  <thead>\n",
       "    <tr style=\"text-align: right;\">\n",
       "      <th></th>\n",
       "      <th>Potential Loss</th>\n",
       "    </tr>\n",
       "  </thead>\n",
       "  <tbody>\n",
       "    <tr>\n",
       "      <th>1</th>\n",
       "      <td>-2.389651e+09</td>\n",
       "    </tr>\n",
       "    <tr>\n",
       "      <th>2</th>\n",
       "      <td>-3.400096e+08</td>\n",
       "    </tr>\n",
       "    <tr>\n",
       "      <th>3</th>\n",
       "      <td>-2.611455e+09</td>\n",
       "    </tr>\n",
       "  </tbody>\n",
       "</table>\n",
       "</div>"
      ],
      "text/plain": [
       "   Potential Loss\n",
       "1   -2.389651e+09\n",
       "2   -3.400096e+08\n",
       "3   -2.611455e+09"
      ]
     },
     "metadata": {},
     "output_type": "display_data"
    }
   ],
   "source": [
    "#учтем риск убытков\n",
    "loss = []\n",
    "for revenue in revenues:\n",
    "    loss.append(sum([x for x in revenue if x<0]))\n",
    "\n",
    "potential_loss = pd.DataFrame(index = [1,2,3], columns = ['Potential Loss'], data = loss)\n",
    "display(potential_loss)"
   ]
  },
  {
   "cell_type": "code",
   "execution_count": 111,
   "metadata": {
    "scrolled": true
   },
   "outputs": [
    {
     "data": {
      "text/html": [
       "<div>\n",
       "<style scoped>\n",
       "    .dataframe tbody tr th:only-of-type {\n",
       "        vertical-align: middle;\n",
       "    }\n",
       "\n",
       "    .dataframe tbody tr th {\n",
       "        vertical-align: top;\n",
       "    }\n",
       "\n",
       "    .dataframe thead th {\n",
       "        text-align: right;\n",
       "    }\n",
       "</style>\n",
       "<table border=\"1\" class=\"dataframe\">\n",
       "  <thead>\n",
       "    <tr style=\"text-align: right;\">\n",
       "      <th></th>\n",
       "      <th>Ожидаемая прибыль</th>\n",
       "      <th>Доверительный интервал</th>\n",
       "      <th>Убытки</th>\n",
       "    </tr>\n",
       "  </thead>\n",
       "  <tbody>\n",
       "    <tr>\n",
       "      <th>Месторождение 1</th>\n",
       "      <td>6.061226e+08</td>\n",
       "      <td>[583497202, 623025136]</td>\n",
       "      <td>-2.389651e+09</td>\n",
       "    </tr>\n",
       "    <tr>\n",
       "      <th>Месторождение 2</th>\n",
       "      <td>6.624132e+08</td>\n",
       "      <td>[637899068, 666706921]</td>\n",
       "      <td>-3.400096e+08</td>\n",
       "    </tr>\n",
       "    <tr>\n",
       "      <th>Месторождение 3</th>\n",
       "      <td>5.920520e+08</td>\n",
       "      <td>[557285060, 593923803]</td>\n",
       "      <td>-2.611455e+09</td>\n",
       "    </tr>\n",
       "  </tbody>\n",
       "</table>\n",
       "</div>"
      ],
      "text/plain": [
       "                 Ожидаемая прибыль  Доверительный интервал        Убытки\n",
       "Месторождение 1       6.061226e+08  [583497202, 623025136] -2.389651e+09\n",
       "Месторождение 2       6.624132e+08  [637899068, 666706921] -3.400096e+08\n",
       "Месторождение 3       5.920520e+08  [557285060, 593923803] -2.611455e+09"
      ]
     },
     "metadata": {},
     "output_type": "display_data"
    }
   ],
   "source": [
    "# сведем данные в единую таблицу\n",
    "total_table = pd.DataFrame(index = ['Месторождение 1', 'Месторождение 2', 'Месторождение 3'],\n",
    "                          columns = ['Ожидаемая прибыль', 'Доверительный интервал', 'Убытки'])\n",
    "total_table['Ожидаемая прибыль'] = estimated_profit.values\n",
    "total_table['Убытки'] = potential_loss.values\n",
    "total_table['Доверительный интервал'] = list(conf_intervals.iloc[0])\n",
    "display(total_table)"
   ]
  },
  {
   "cell_type": "markdown",
   "metadata": {},
   "source": [
    "### Вывод:\n",
    "- первое месторождение характеризуется средней доходностью и широким доверительным интервалом. Убытки на нем наименьшие относительно других месторождений.\n",
    "- второе месторождение характеризуется самой высокой доходностью и узким доверительым интервалом. Даже бОльшие убытки не умаляют его прибыльности.\n",
    "- третье месторождение характеризуется самой низкой доходностью и широким доверительным интервалом. Убыточность средняя.\n",
    "\n",
    "По результатам, я бы однозначно рекомендовала вести разработки в месторождении номер 2 ввиду:\n",
    "- точных предсказаний модели (99% правильных ответов)\n",
    "- самой высокой прибыли месторождения\n",
    "- узкого доверительного интвервала, делающего предсказания модели надежными"
   ]
  },
  {
   "cell_type": "markdown",
   "metadata": {},
   "source": [
    "## Чек-лист готовности проекта"
   ]
  },
  {
   "cell_type": "markdown",
   "metadata": {},
   "source": [
    "Поставьте 'x' в выполненных пунктах. Далее нажмите Shift+Enter."
   ]
  },
  {
   "cell_type": "markdown",
   "metadata": {},
   "source": [
    "- [x]  Jupyter Notebook открыт\n",
    "- [x]  Весь код выполняется без ошибок\n",
    "- [x]  Ячейки с кодом расположены в порядке исполнения\n",
    "- [x]  Выполнен шаг 1: данные подготовлены\n",
    "- [x]  Выполнен шаг 2: модели обучены и проверены\n",
    "    - [x]  Данные корректно разбиты на обучающую и валидационную выборки\n",
    "    - [x]  Модели обучены, предсказания сделаны\n",
    "    - [x]  Предсказания и правильные ответы на валидационной выборке сохранены\n",
    "    - [x]  На экране напечатаны результаты\n",
    "    - [x]  Сделаны выводы\n",
    "- [x]  Выполнен шаг 3: проведена подготовка к расчёту прибыли\n",
    "    - [x]  Для всех ключевых значений созданы константы Python\n",
    "    - [x]  Посчитано минимальное среднее количество продукта в месторождениях региона, достаточное для разработки\n",
    "    - [x]  По предыдущему пункту сделаны выводы\n",
    "    - [x]  Написана функция расчёта прибыли\n",
    "- [x]  Выполнен шаг 4: посчитаны риски и прибыль\n",
    "    - [x]  Проведена процедура *Bootstrap*\n",
    "    - [x]  Все параметры бутстрепа соответствуют условию\n",
    "    - [x]  Найдены все нужные величины\n",
    "    - [x]  Предложен регион для разработки месторождения\n",
    "    - [x]  Выбор региона обоснован"
   ]
  }
 ],
 "metadata": {
  "ExecuteTimeLog": [
   {
    "duration": 1363,
    "start_time": "2022-03-01T08:13:24.136Z"
   },
   {
    "duration": 154,
    "start_time": "2022-03-01T08:13:42.813Z"
   },
   {
    "duration": 146,
    "start_time": "2022-03-01T08:14:02.387Z"
   },
   {
    "duration": 194,
    "start_time": "2022-03-01T08:14:09.735Z"
   },
   {
    "duration": 157,
    "start_time": "2022-03-01T08:14:15.056Z"
   },
   {
    "duration": 461,
    "start_time": "2022-03-01T08:18:05.890Z"
   },
   {
    "duration": 459,
    "start_time": "2022-03-01T08:18:10.009Z"
   },
   {
    "duration": 449,
    "start_time": "2022-03-01T08:18:13.278Z"
   },
   {
    "duration": 3,
    "start_time": "2022-03-01T08:21:27.054Z"
   },
   {
    "duration": 57,
    "start_time": "2022-03-01T08:24:30.772Z"
   },
   {
    "duration": 7,
    "start_time": "2022-03-01T08:24:58.289Z"
   },
   {
    "duration": 429,
    "start_time": "2022-03-01T08:25:24.897Z"
   },
   {
    "duration": 287,
    "start_time": "2022-03-01T08:25:34.268Z"
   },
   {
    "duration": 4,
    "start_time": "2022-03-01T08:25:52.610Z"
   },
   {
    "duration": 421,
    "start_time": "2022-03-01T08:25:52.620Z"
   },
   {
    "duration": 3,
    "start_time": "2022-03-01T08:25:53.043Z"
   },
   {
    "duration": 368,
    "start_time": "2022-03-01T08:25:54.676Z"
   },
   {
    "duration": 4,
    "start_time": "2022-03-01T08:26:52.032Z"
   },
   {
    "duration": 421,
    "start_time": "2022-03-01T08:26:52.041Z"
   },
   {
    "duration": 2,
    "start_time": "2022-03-01T08:26:52.465Z"
   },
   {
    "duration": 288,
    "start_time": "2022-03-01T08:26:55.310Z"
   },
   {
    "duration": 284,
    "start_time": "2022-03-01T08:27:03.003Z"
   },
   {
    "duration": 21,
    "start_time": "2022-03-01T08:27:06.684Z"
   },
   {
    "duration": 21,
    "start_time": "2022-03-01T08:27:30.123Z"
   },
   {
    "duration": 19,
    "start_time": "2022-03-01T08:28:12.554Z"
   },
   {
    "duration": 24,
    "start_time": "2022-03-01T08:32:29.709Z"
   },
   {
    "duration": 266,
    "start_time": "2022-03-01T08:32:42.034Z"
   },
   {
    "duration": 319,
    "start_time": "2022-03-01T08:32:49.396Z"
   },
   {
    "duration": 271,
    "start_time": "2022-03-01T08:32:55.148Z"
   },
   {
    "duration": 25,
    "start_time": "2022-03-01T08:32:59.704Z"
   },
   {
    "duration": 36,
    "start_time": "2022-03-01T08:33:15.514Z"
   },
   {
    "duration": 19,
    "start_time": "2022-03-01T08:33:49.306Z"
   },
   {
    "duration": 28,
    "start_time": "2022-03-01T08:34:24.197Z"
   },
   {
    "duration": 275,
    "start_time": "2022-03-01T08:34:38.675Z"
   },
   {
    "duration": 91,
    "start_time": "2022-03-01T08:34:51.310Z"
   },
   {
    "duration": 29,
    "start_time": "2022-03-01T08:34:57.586Z"
   },
   {
    "duration": 36,
    "start_time": "2022-03-01T08:35:15.877Z"
   },
   {
    "duration": 43,
    "start_time": "2022-03-01T08:35:25.727Z"
   },
   {
    "duration": 265,
    "start_time": "2022-03-01T08:39:01.378Z"
   },
   {
    "duration": 6,
    "start_time": "2022-03-01T08:39:13.491Z"
   },
   {
    "duration": 11,
    "start_time": "2022-03-01T08:40:54.203Z"
   },
   {
    "duration": 15,
    "start_time": "2022-03-01T08:41:02.667Z"
   },
   {
    "duration": 15,
    "start_time": "2022-03-01T08:41:10.012Z"
   },
   {
    "duration": 6,
    "start_time": "2022-03-01T08:41:46.967Z"
   },
   {
    "duration": 424,
    "start_time": "2022-03-01T08:42:15.899Z"
   },
   {
    "duration": 4,
    "start_time": "2022-03-01T08:42:55.141Z"
   },
   {
    "duration": 412,
    "start_time": "2022-03-01T08:42:58.753Z"
   },
   {
    "duration": 429,
    "start_time": "2022-03-01T08:43:02.815Z"
   },
   {
    "duration": 11,
    "start_time": "2022-03-01T08:43:46.873Z"
   },
   {
    "duration": 23,
    "start_time": "2022-03-01T08:44:31.860Z"
   },
   {
    "duration": 26,
    "start_time": "2022-03-01T08:44:45.578Z"
   },
   {
    "duration": 36,
    "start_time": "2022-03-01T08:44:54.592Z"
   },
   {
    "duration": 36,
    "start_time": "2022-03-01T08:45:02.926Z"
   },
   {
    "duration": 27,
    "start_time": "2022-03-01T08:45:12.018Z"
   },
   {
    "duration": 24,
    "start_time": "2022-03-01T08:46:45.523Z"
   },
   {
    "duration": 25,
    "start_time": "2022-03-01T08:47:24.813Z"
   },
   {
    "duration": 6,
    "start_time": "2022-03-01T08:49:23.194Z"
   },
   {
    "duration": 681,
    "start_time": "2022-03-01T08:49:23.207Z"
   },
   {
    "duration": 3,
    "start_time": "2022-03-01T08:49:23.892Z"
   },
   {
    "duration": 878,
    "start_time": "2022-03-01T08:49:26.208Z"
   },
   {
    "duration": 39,
    "start_time": "2022-03-01T08:50:21.841Z"
   },
   {
    "duration": 322,
    "start_time": "2022-03-01T08:56:59.775Z"
   },
   {
    "duration": 316,
    "start_time": "2022-03-01T08:57:11.552Z"
   },
   {
    "duration": 4,
    "start_time": "2022-03-01T08:57:26.473Z"
   },
   {
    "duration": 425,
    "start_time": "2022-03-01T08:57:26.479Z"
   },
   {
    "duration": 3,
    "start_time": "2022-03-01T08:57:26.907Z"
   },
   {
    "duration": 54,
    "start_time": "2022-03-01T08:57:26.912Z"
   },
   {
    "duration": 7,
    "start_time": "2022-03-01T08:57:26.968Z"
   },
   {
    "duration": 20,
    "start_time": "2022-03-01T08:57:26.977Z"
   },
   {
    "duration": 52,
    "start_time": "2022-03-01T08:57:26.999Z"
   },
   {
    "duration": 26,
    "start_time": "2022-03-01T08:57:27.054Z"
   },
   {
    "duration": 34,
    "start_time": "2022-03-01T08:57:29.617Z"
   },
   {
    "duration": 319,
    "start_time": "2022-03-01T08:57:59.607Z"
   },
   {
    "duration": 491,
    "start_time": "2022-03-01T08:58:09.647Z"
   },
   {
    "duration": 394,
    "start_time": "2022-03-01T08:58:53.255Z"
   },
   {
    "duration": 306,
    "start_time": "2022-03-01T08:59:23.746Z"
   },
   {
    "duration": 16,
    "start_time": "2022-03-01T08:59:55.582Z"
   },
   {
    "duration": 15,
    "start_time": "2022-03-01T09:00:10.881Z"
   },
   {
    "duration": 14,
    "start_time": "2022-03-01T09:00:23.250Z"
   },
   {
    "duration": 18,
    "start_time": "2022-03-01T09:00:31.256Z"
   },
   {
    "duration": 16,
    "start_time": "2022-03-01T09:00:45.481Z"
   },
   {
    "duration": 430,
    "start_time": "2022-03-01T09:00:59.497Z"
   },
   {
    "duration": 20,
    "start_time": "2022-03-01T09:01:31.601Z"
   },
   {
    "duration": 303,
    "start_time": "2022-03-01T09:02:18.115Z"
   },
   {
    "duration": 17,
    "start_time": "2022-03-01T09:02:43.437Z"
   },
   {
    "duration": 15,
    "start_time": "2022-03-01T09:02:51.871Z"
   },
   {
    "duration": 301,
    "start_time": "2022-03-01T09:03:09.145Z"
   },
   {
    "duration": 330,
    "start_time": "2022-03-01T09:04:15.317Z"
   },
   {
    "duration": 394,
    "start_time": "2022-03-01T09:04:20.739Z"
   },
   {
    "duration": 5,
    "start_time": "2022-03-01T09:06:21.289Z"
   },
   {
    "duration": 17,
    "start_time": "2022-03-01T09:06:34.910Z"
   },
   {
    "duration": 285,
    "start_time": "2022-03-01T09:06:50.780Z"
   },
   {
    "duration": 367,
    "start_time": "2022-03-01T09:07:08.785Z"
   },
   {
    "duration": 14,
    "start_time": "2022-03-01T09:07:13.185Z"
   },
   {
    "duration": 18,
    "start_time": "2022-03-01T09:07:20.739Z"
   },
   {
    "duration": 4,
    "start_time": "2022-03-01T09:08:55.185Z"
   },
   {
    "duration": 397,
    "start_time": "2022-03-01T09:08:55.201Z"
   },
   {
    "duration": 4,
    "start_time": "2022-03-01T09:08:55.601Z"
   },
   {
    "duration": 59,
    "start_time": "2022-03-01T09:08:55.609Z"
   },
   {
    "duration": 5,
    "start_time": "2022-03-01T09:08:55.671Z"
   },
   {
    "duration": 23,
    "start_time": "2022-03-01T09:08:55.679Z"
   },
   {
    "duration": 57,
    "start_time": "2022-03-01T09:08:55.705Z"
   },
   {
    "duration": 19,
    "start_time": "2022-03-01T09:08:58.814Z"
   },
   {
    "duration": 17,
    "start_time": "2022-03-01T09:09:01.800Z"
   },
   {
    "duration": 20,
    "start_time": "2022-03-01T09:09:33.793Z"
   },
   {
    "duration": 18,
    "start_time": "2022-03-01T09:10:44.925Z"
   },
   {
    "duration": 16,
    "start_time": "2022-03-01T09:10:49.626Z"
   },
   {
    "duration": 5,
    "start_time": "2022-03-01T09:13:20.713Z"
   },
   {
    "duration": 331,
    "start_time": "2022-03-01T09:15:51.302Z"
   },
   {
    "duration": 258,
    "start_time": "2022-03-01T09:16:39.329Z"
   },
   {
    "duration": 277,
    "start_time": "2022-03-01T09:16:43.568Z"
   },
   {
    "duration": 7,
    "start_time": "2022-03-01T09:19:30.727Z"
   },
   {
    "duration": 9,
    "start_time": "2022-03-01T09:19:36.979Z"
   },
   {
    "duration": 5,
    "start_time": "2022-03-01T09:19:46.636Z"
   },
   {
    "duration": 395,
    "start_time": "2022-03-01T09:19:46.658Z"
   },
   {
    "duration": 3,
    "start_time": "2022-03-01T09:19:47.055Z"
   },
   {
    "duration": 39,
    "start_time": "2022-03-01T09:19:47.061Z"
   },
   {
    "duration": 4,
    "start_time": "2022-03-01T09:19:47.102Z"
   },
   {
    "duration": 56,
    "start_time": "2022-03-01T09:19:47.108Z"
   },
   {
    "duration": 9,
    "start_time": "2022-03-01T09:19:47.167Z"
   },
   {
    "duration": 18,
    "start_time": "2022-03-01T09:19:47.178Z"
   },
   {
    "duration": 17,
    "start_time": "2022-03-01T09:19:47.199Z"
   },
   {
    "duration": 15,
    "start_time": "2022-03-01T09:19:49.926Z"
   },
   {
    "duration": 11,
    "start_time": "2022-03-01T09:20:37.121Z"
   },
   {
    "duration": 5,
    "start_time": "2022-03-01T09:20:40.329Z"
   },
   {
    "duration": 420,
    "start_time": "2022-03-01T09:20:40.338Z"
   },
   {
    "duration": 3,
    "start_time": "2022-03-01T09:20:40.760Z"
   },
   {
    "duration": 44,
    "start_time": "2022-03-01T09:20:40.766Z"
   },
   {
    "duration": 4,
    "start_time": "2022-03-01T09:20:40.813Z"
   },
   {
    "duration": 19,
    "start_time": "2022-03-01T09:20:40.851Z"
   },
   {
    "duration": 4,
    "start_time": "2022-03-01T09:20:46.430Z"
   },
   {
    "duration": 417,
    "start_time": "2022-03-01T09:20:46.440Z"
   },
   {
    "duration": 2,
    "start_time": "2022-03-01T09:20:46.860Z"
   },
   {
    "duration": 38,
    "start_time": "2022-03-01T09:20:46.865Z"
   },
   {
    "duration": 4,
    "start_time": "2022-03-01T09:20:46.905Z"
   },
   {
    "duration": 18,
    "start_time": "2022-03-01T09:20:46.951Z"
   },
   {
    "duration": 11,
    "start_time": "2022-03-01T09:20:46.972Z"
   },
   {
    "duration": 17,
    "start_time": "2022-03-01T09:20:46.986Z"
   },
   {
    "duration": 50,
    "start_time": "2022-03-01T09:20:47.006Z"
   },
   {
    "duration": 20,
    "start_time": "2022-03-01T09:20:50.913Z"
   },
   {
    "duration": 5,
    "start_time": "2022-03-01T09:23:05.832Z"
   },
   {
    "duration": 18,
    "start_time": "2022-03-01T09:23:31.004Z"
   },
   {
    "duration": 19,
    "start_time": "2022-03-01T09:23:53.850Z"
   },
   {
    "duration": 4,
    "start_time": "2022-03-01T09:30:32.580Z"
   },
   {
    "duration": 422,
    "start_time": "2022-03-01T09:30:32.590Z"
   },
   {
    "duration": 3,
    "start_time": "2022-03-01T09:30:33.015Z"
   },
   {
    "duration": 54,
    "start_time": "2022-03-01T09:30:33.021Z"
   },
   {
    "duration": 4,
    "start_time": "2022-03-01T09:30:33.077Z"
   },
   {
    "duration": 21,
    "start_time": "2022-03-01T09:30:33.083Z"
   },
   {
    "duration": 5,
    "start_time": "2022-03-01T09:30:39.786Z"
   },
   {
    "duration": 440,
    "start_time": "2022-03-01T09:30:39.819Z"
   },
   {
    "duration": 3,
    "start_time": "2022-03-01T09:30:40.261Z"
   },
   {
    "duration": 40,
    "start_time": "2022-03-01T09:30:40.267Z"
   },
   {
    "duration": 4,
    "start_time": "2022-03-01T09:30:40.309Z"
   },
   {
    "duration": 19,
    "start_time": "2022-03-01T09:30:40.351Z"
   },
   {
    "duration": 3,
    "start_time": "2022-03-01T09:30:40.373Z"
   },
   {
    "duration": 21,
    "start_time": "2022-03-01T09:30:40.379Z"
   },
   {
    "duration": 59,
    "start_time": "2022-03-01T09:30:40.404Z"
   },
   {
    "duration": 30,
    "start_time": "2022-03-01T09:30:49.021Z"
   },
   {
    "duration": 22,
    "start_time": "2022-03-01T09:32:15.851Z"
   },
   {
    "duration": 19,
    "start_time": "2022-03-01T09:32:19.941Z"
   },
   {
    "duration": 19,
    "start_time": "2022-03-01T09:32:23.959Z"
   },
   {
    "duration": 20,
    "start_time": "2022-03-01T09:32:33.219Z"
   },
   {
    "duration": 22,
    "start_time": "2022-03-01T09:33:31.944Z"
   },
   {
    "duration": 11,
    "start_time": "2022-03-01T10:01:15.544Z"
   },
   {
    "duration": 19,
    "start_time": "2022-03-01T10:01:25.579Z"
   },
   {
    "duration": 17,
    "start_time": "2022-03-01T10:02:16.448Z"
   },
   {
    "duration": 16,
    "start_time": "2022-03-01T10:02:39.389Z"
   },
   {
    "duration": 27,
    "start_time": "2022-03-01T10:03:32.456Z"
   },
   {
    "duration": 24,
    "start_time": "2022-03-01T10:03:49.064Z"
   },
   {
    "duration": 65,
    "start_time": "2022-03-01T10:04:17.485Z"
   },
   {
    "duration": 19,
    "start_time": "2022-03-01T10:05:15.301Z"
   },
   {
    "duration": 370,
    "start_time": "2022-03-01T10:08:09.385Z"
   },
   {
    "duration": 19,
    "start_time": "2022-03-01T10:08:31.801Z"
   },
   {
    "duration": 19,
    "start_time": "2022-03-01T10:09:11.955Z"
   },
   {
    "duration": 19,
    "start_time": "2022-03-01T10:09:51.382Z"
   },
   {
    "duration": 19,
    "start_time": "2022-03-01T10:09:58.183Z"
   },
   {
    "duration": 44,
    "start_time": "2022-03-01T10:15:12.634Z"
   },
   {
    "duration": 22328,
    "start_time": "2022-03-01T10:18:16.284Z"
   },
   {
    "duration": 23090,
    "start_time": "2022-03-01T10:18:39.308Z"
   },
   {
    "duration": 23175,
    "start_time": "2022-03-01T10:20:12.381Z"
   },
   {
    "duration": 250,
    "start_time": "2022-03-01T10:21:20.010Z"
   },
   {
    "duration": 90,
    "start_time": "2022-03-01T10:23:20.048Z"
   },
   {
    "duration": 14,
    "start_time": "2022-03-01T10:23:35.360Z"
   },
   {
    "duration": 263,
    "start_time": "2022-03-01T10:24:49.987Z"
   },
   {
    "duration": 295,
    "start_time": "2022-03-01T10:25:00.900Z"
   },
   {
    "duration": 13,
    "start_time": "2022-03-01T10:25:34.695Z"
   },
   {
    "duration": 13,
    "start_time": "2022-03-01T10:27:08.677Z"
   },
   {
    "duration": 22281,
    "start_time": "2022-03-01T10:28:02.781Z"
   },
   {
    "duration": 317,
    "start_time": "2022-03-01T10:29:22.935Z"
   },
   {
    "duration": 413,
    "start_time": "2022-03-01T10:29:46.108Z"
   },
   {
    "duration": 450,
    "start_time": "2022-03-01T10:30:08.911Z"
   },
   {
    "duration": 417,
    "start_time": "2022-03-01T10:30:55.224Z"
   },
   {
    "duration": 294,
    "start_time": "2022-03-01T10:31:55.503Z"
   },
   {
    "duration": 575,
    "start_time": "2022-03-01T10:32:13.240Z"
   },
   {
    "duration": 956,
    "start_time": "2022-03-01T10:32:26.435Z"
   },
   {
    "duration": 269,
    "start_time": "2022-03-01T10:36:25.341Z"
   },
   {
    "duration": 22,
    "start_time": "2022-03-01T10:36:30.312Z"
   },
   {
    "duration": 993,
    "start_time": "2022-03-01T10:36:55.869Z"
   },
   {
    "duration": 22,
    "start_time": "2022-03-01T10:36:58.718Z"
   },
   {
    "duration": 317,
    "start_time": "2022-03-01T10:37:22.498Z"
   },
   {
    "duration": 260,
    "start_time": "2022-03-01T10:37:28.465Z"
   },
   {
    "duration": 300,
    "start_time": "2022-03-01T10:37:31.148Z"
   },
   {
    "duration": 308,
    "start_time": "2022-03-01T10:37:37.919Z"
   },
   {
    "duration": 56,
    "start_time": "2022-03-01T10:37:42.616Z"
   },
   {
    "duration": 6,
    "start_time": "2022-03-01T10:38:19.040Z"
   },
   {
    "duration": 292,
    "start_time": "2022-03-01T10:38:32.750Z"
   },
   {
    "duration": 306,
    "start_time": "2022-03-01T10:39:26.710Z"
   },
   {
    "duration": 488,
    "start_time": "2022-03-01T10:39:47.437Z"
   },
   {
    "duration": 300,
    "start_time": "2022-03-01T10:40:08.780Z"
   },
   {
    "duration": 268,
    "start_time": "2022-03-01T10:43:06.253Z"
   },
   {
    "duration": 305,
    "start_time": "2022-03-01T10:43:13.229Z"
   },
   {
    "duration": 310,
    "start_time": "2022-03-01T10:43:35.728Z"
   },
   {
    "duration": 282,
    "start_time": "2022-03-01T10:44:52.248Z"
   },
   {
    "duration": 14,
    "start_time": "2022-03-01T10:45:05.956Z"
   },
   {
    "duration": 26,
    "start_time": "2022-03-01T10:45:15.124Z"
   },
   {
    "duration": 788,
    "start_time": "2022-03-01T10:45:26.595Z"
   },
   {
    "duration": 27,
    "start_time": "2022-03-01T10:45:47.034Z"
   },
   {
    "duration": 25,
    "start_time": "2022-03-01T10:46:28.571Z"
   },
   {
    "duration": 6,
    "start_time": "2022-03-01T11:22:54.295Z"
   },
   {
    "duration": 8,
    "start_time": "2022-03-01T11:23:05.348Z"
   },
   {
    "duration": 9,
    "start_time": "2022-03-01T11:23:10.309Z"
   },
   {
    "duration": 445,
    "start_time": "2022-03-01T12:05:56.831Z"
   },
   {
    "duration": 168,
    "start_time": "2022-03-01T12:06:49.616Z"
   },
   {
    "duration": 192,
    "start_time": "2022-03-01T12:07:29.531Z"
   },
   {
    "duration": 196,
    "start_time": "2022-03-01T12:07:42.347Z"
   },
   {
    "duration": 891,
    "start_time": "2022-03-01T12:10:03.400Z"
   },
   {
    "duration": 894,
    "start_time": "2022-03-01T12:11:47.718Z"
   },
   {
    "duration": 925,
    "start_time": "2022-03-01T12:12:10.262Z"
   },
   {
    "duration": 44,
    "start_time": "2022-03-01T12:16:23.186Z"
   },
   {
    "duration": 49,
    "start_time": "2022-03-01T12:32:45.426Z"
   },
   {
    "duration": 4,
    "start_time": "2022-03-01T12:33:30.687Z"
   },
   {
    "duration": 20,
    "start_time": "2022-03-01T12:34:30.694Z"
   },
   {
    "duration": 20,
    "start_time": "2022-03-01T12:34:53.922Z"
   },
   {
    "duration": 21,
    "start_time": "2022-03-01T12:35:21.000Z"
   },
   {
    "duration": 21,
    "start_time": "2022-03-01T12:43:37.546Z"
   },
   {
    "duration": 19,
    "start_time": "2022-03-01T12:43:47.270Z"
   },
   {
    "duration": 19,
    "start_time": "2022-03-01T12:43:56.169Z"
   },
   {
    "duration": 13,
    "start_time": "2022-03-01T12:44:13.756Z"
   },
   {
    "duration": 6,
    "start_time": "2022-03-01T12:53:58.680Z"
   },
   {
    "duration": 5,
    "start_time": "2022-03-01T12:54:44.218Z"
   },
   {
    "duration": 8,
    "start_time": "2022-03-01T12:56:45.024Z"
   },
   {
    "duration": 8,
    "start_time": "2022-03-01T12:57:42.984Z"
   },
   {
    "duration": 8,
    "start_time": "2022-03-01T12:57:49.793Z"
   },
   {
    "duration": 265,
    "start_time": "2022-03-01T12:58:55.952Z"
   },
   {
    "duration": 304,
    "start_time": "2022-03-01T12:59:07.436Z"
   },
   {
    "duration": 261,
    "start_time": "2022-03-01T12:59:10.543Z"
   },
   {
    "duration": 321,
    "start_time": "2022-03-01T12:59:25.203Z"
   },
   {
    "duration": 248,
    "start_time": "2022-03-01T12:59:29.306Z"
   },
   {
    "duration": 470,
    "start_time": "2022-03-01T13:01:10.424Z"
   },
   {
    "duration": 7,
    "start_time": "2022-03-01T13:01:19.274Z"
   },
   {
    "duration": 268,
    "start_time": "2022-03-01T13:02:11.832Z"
   },
   {
    "duration": 94,
    "start_time": "2022-03-01T13:02:23.686Z"
   },
   {
    "duration": 284,
    "start_time": "2022-03-01T13:02:28.335Z"
   },
   {
    "duration": 4,
    "start_time": "2022-03-01T13:02:41.252Z"
   },
   {
    "duration": 7,
    "start_time": "2022-03-01T13:02:50.176Z"
   },
   {
    "duration": 7,
    "start_time": "2022-03-01T13:03:10.815Z"
   },
   {
    "duration": 5,
    "start_time": "2022-03-01T13:03:48.438Z"
   },
   {
    "duration": 13,
    "start_time": "2022-03-01T13:03:55.590Z"
   },
   {
    "duration": 531,
    "start_time": "2022-03-01T13:04:09.107Z"
   },
   {
    "duration": 10,
    "start_time": "2022-03-01T13:04:16.466Z"
   },
   {
    "duration": 4,
    "start_time": "2022-03-01T13:05:19.917Z"
   },
   {
    "duration": 6,
    "start_time": "2022-03-01T13:05:46.333Z"
   },
   {
    "duration": 10,
    "start_time": "2022-03-01T13:06:45.479Z"
   },
   {
    "duration": 5,
    "start_time": "2022-03-01T13:07:48.782Z"
   },
   {
    "duration": 464,
    "start_time": "2022-03-01T13:07:48.795Z"
   },
   {
    "duration": 200,
    "start_time": "2022-03-01T13:07:49.262Z"
   },
   {
    "duration": 1116,
    "start_time": "2022-03-01T13:07:49.465Z"
   },
   {
    "duration": 39,
    "start_time": "2022-03-01T13:07:50.583Z"
   },
   {
    "duration": 73,
    "start_time": "2022-03-01T13:07:50.625Z"
   },
   {
    "duration": 5,
    "start_time": "2022-03-01T13:07:50.701Z"
   },
   {
    "duration": 57,
    "start_time": "2022-03-01T13:07:50.709Z"
   },
   {
    "duration": 20,
    "start_time": "2022-03-01T13:07:50.771Z"
   },
   {
    "duration": 21,
    "start_time": "2022-03-01T13:07:50.795Z"
   },
   {
    "duration": 47,
    "start_time": "2022-03-01T13:07:50.819Z"
   },
   {
    "duration": 189,
    "start_time": "2022-03-01T13:07:50.870Z"
   },
   {
    "duration": 109,
    "start_time": "2022-03-01T13:07:51.061Z"
   },
   {
    "duration": 103,
    "start_time": "2022-03-01T13:07:51.260Z"
   },
   {
    "duration": 5,
    "start_time": "2022-03-01T13:07:51.365Z"
   },
   {
    "duration": 24,
    "start_time": "2022-03-01T13:07:51.372Z"
   },
   {
    "duration": 11,
    "start_time": "2022-03-01T13:07:51.398Z"
   },
   {
    "duration": 20,
    "start_time": "2022-03-01T13:16:36.383Z"
   },
   {
    "duration": 44,
    "start_time": "2022-03-01T13:16:57.407Z"
   },
   {
    "duration": 20,
    "start_time": "2022-03-01T13:17:15.303Z"
   },
   {
    "duration": 14,
    "start_time": "2022-03-01T13:17:21.230Z"
   },
   {
    "duration": 4,
    "start_time": "2022-03-01T13:23:53.043Z"
   },
   {
    "duration": 421,
    "start_time": "2022-03-01T13:24:56.620Z"
   },
   {
    "duration": 16,
    "start_time": "2022-03-01T13:25:25.744Z"
   },
   {
    "duration": 27,
    "start_time": "2022-03-01T13:27:55.195Z"
   },
   {
    "duration": 384,
    "start_time": "2022-03-01T13:28:44.909Z"
   },
   {
    "duration": 271,
    "start_time": "2022-03-01T13:28:53.661Z"
   },
   {
    "duration": 284,
    "start_time": "2022-03-01T13:29:17.345Z"
   },
   {
    "duration": 5,
    "start_time": "2022-03-01T13:29:23.175Z"
   },
   {
    "duration": 429,
    "start_time": "2022-03-01T13:29:23.191Z"
   },
   {
    "duration": 205,
    "start_time": "2022-03-01T13:29:23.623Z"
   },
   {
    "duration": 938,
    "start_time": "2022-03-01T13:29:23.831Z"
   },
   {
    "duration": 44,
    "start_time": "2022-03-01T13:29:24.772Z"
   },
   {
    "duration": 71,
    "start_time": "2022-03-01T13:29:24.818Z"
   },
   {
    "duration": 5,
    "start_time": "2022-03-01T13:29:24.891Z"
   },
   {
    "duration": 54,
    "start_time": "2022-03-01T13:29:24.898Z"
   },
   {
    "duration": 19,
    "start_time": "2022-03-01T13:29:24.955Z"
   },
   {
    "duration": 18,
    "start_time": "2022-03-01T13:29:24.977Z"
   },
   {
    "duration": 153,
    "start_time": "2022-03-01T13:29:24.997Z"
   },
   {
    "duration": 97,
    "start_time": "2022-03-01T13:29:25.154Z"
   },
   {
    "duration": 110,
    "start_time": "2022-03-01T13:29:25.255Z"
   },
   {
    "duration": 200,
    "start_time": "2022-03-01T13:29:25.368Z"
   },
   {
    "duration": 20,
    "start_time": "2022-03-01T13:29:25.571Z"
   },
   {
    "duration": 21,
    "start_time": "2022-03-01T13:29:25.594Z"
   },
   {
    "duration": 11,
    "start_time": "2022-03-01T13:29:25.617Z"
   },
   {
    "duration": 279,
    "start_time": "2022-03-01T13:29:28.874Z"
   },
   {
    "duration": 26,
    "start_time": "2022-03-01T13:30:40.406Z"
   },
   {
    "duration": 25,
    "start_time": "2022-03-01T13:30:52.692Z"
   },
   {
    "duration": 298,
    "start_time": "2022-03-01T13:33:51.302Z"
   },
   {
    "duration": 6,
    "start_time": "2022-03-01T13:34:07.381Z"
   },
   {
    "duration": 25,
    "start_time": "2022-03-01T13:34:15.864Z"
   },
   {
    "duration": 1030,
    "start_time": "2022-03-01T13:42:18.950Z"
   },
   {
    "duration": 4,
    "start_time": "2022-03-01T13:42:27.391Z"
   },
   {
    "duration": 5,
    "start_time": "2022-03-01T13:43:46.302Z"
   },
   {
    "duration": 24,
    "start_time": "2022-03-01T13:44:39.896Z"
   },
   {
    "duration": 255,
    "start_time": "2022-03-01T13:47:08.465Z"
   },
   {
    "duration": 285,
    "start_time": "2022-03-01T13:48:23.128Z"
   },
   {
    "duration": 270,
    "start_time": "2022-03-01T13:48:47.791Z"
   },
   {
    "duration": 2788,
    "start_time": "2022-03-01T13:49:04.132Z"
   },
   {
    "duration": 2798,
    "start_time": "2022-03-01T13:49:15.782Z"
   },
   {
    "duration": 2722,
    "start_time": "2022-03-01T13:49:58.509Z"
   },
   {
    "duration": 2714,
    "start_time": "2022-03-01T13:50:07.711Z"
   },
   {
    "duration": 5477,
    "start_time": "2022-03-01T13:52:47.609Z"
   },
   {
    "duration": 8132,
    "start_time": "2022-03-01T13:53:34.734Z"
   },
   {
    "duration": 8396,
    "start_time": "2022-03-01T13:54:09.729Z"
   },
   {
    "duration": 8125,
    "start_time": "2022-03-01T13:54:53.482Z"
   },
   {
    "duration": 265,
    "start_time": "2022-03-01T13:55:41.079Z"
   },
   {
    "duration": 285,
    "start_time": "2022-03-01T13:55:51.375Z"
   },
   {
    "duration": 348,
    "start_time": "2022-03-01T13:56:10.497Z"
   },
   {
    "duration": 370,
    "start_time": "2022-03-01T13:56:51.130Z"
   },
   {
    "duration": 387,
    "start_time": "2022-03-01T13:56:58.371Z"
   },
   {
    "duration": 386,
    "start_time": "2022-03-01T13:57:08.795Z"
   },
   {
    "duration": 386,
    "start_time": "2022-03-01T13:57:18.323Z"
   },
   {
    "duration": 329,
    "start_time": "2022-03-01T13:57:32.156Z"
   },
   {
    "duration": 636,
    "start_time": "2022-03-01T13:57:45.468Z"
   },
   {
    "duration": 605,
    "start_time": "2022-03-01T13:57:51.824Z"
   },
   {
    "duration": 389,
    "start_time": "2022-03-01T13:57:58.375Z"
   },
   {
    "duration": 408,
    "start_time": "2022-03-01T13:58:18.565Z"
   },
   {
    "duration": 421,
    "start_time": "2022-03-01T13:58:54.493Z"
   },
   {
    "duration": 856,
    "start_time": "2022-03-01T14:04:10.581Z"
   },
   {
    "duration": 960,
    "start_time": "2022-03-01T14:04:46.326Z"
   },
   {
    "duration": 516,
    "start_time": "2022-03-01T14:05:07.735Z"
   },
   {
    "duration": 696,
    "start_time": "2022-03-01T14:05:24.486Z"
   },
   {
    "duration": 503,
    "start_time": "2022-03-01T14:05:39.865Z"
   },
   {
    "duration": 599,
    "start_time": "2022-03-01T14:05:49.198Z"
   },
   {
    "duration": 732,
    "start_time": "2022-03-01T14:06:11.499Z"
   },
   {
    "duration": 710,
    "start_time": "2022-03-01T14:06:21.286Z"
   },
   {
    "duration": 435,
    "start_time": "2022-03-01T14:07:13.042Z"
   },
   {
    "duration": 654,
    "start_time": "2022-03-01T14:07:57.348Z"
   },
   {
    "duration": 384,
    "start_time": "2022-03-01T14:08:04.003Z"
   },
   {
    "duration": 414,
    "start_time": "2022-03-01T14:08:15.930Z"
   },
   {
    "duration": 397,
    "start_time": "2022-03-01T14:08:22.940Z"
   },
   {
    "duration": 696,
    "start_time": "2022-03-01T14:08:48.350Z"
   },
   {
    "duration": 705,
    "start_time": "2022-03-01T14:08:53.203Z"
   },
   {
    "duration": 944,
    "start_time": "2022-03-01T14:09:00.041Z"
   },
   {
    "duration": 533,
    "start_time": "2022-03-01T14:10:01.097Z"
   },
   {
    "duration": 508,
    "start_time": "2022-03-01T14:10:13.390Z"
   },
   {
    "duration": 417,
    "start_time": "2022-03-01T14:10:52.237Z"
   },
   {
    "duration": 426,
    "start_time": "2022-03-01T14:10:56.052Z"
   },
   {
    "duration": 324,
    "start_time": "2022-03-01T14:12:07.645Z"
   },
   {
    "duration": 267,
    "start_time": "2022-03-01T14:12:36.949Z"
   },
   {
    "duration": 7,
    "start_time": "2022-03-01T14:12:59.700Z"
   },
   {
    "duration": 8,
    "start_time": "2022-03-01T14:13:49.786Z"
   },
   {
    "duration": 8,
    "start_time": "2022-03-01T14:14:10.442Z"
   },
   {
    "duration": 7,
    "start_time": "2022-03-01T14:18:06.890Z"
   },
   {
    "duration": 258,
    "start_time": "2022-03-01T14:19:39.123Z"
   },
   {
    "duration": 303,
    "start_time": "2022-03-01T14:20:11.597Z"
   },
   {
    "duration": 251,
    "start_time": "2022-03-01T14:20:18.863Z"
   },
   {
    "duration": 86,
    "start_time": "2022-03-01T14:21:58.842Z"
   },
   {
    "duration": 8,
    "start_time": "2022-03-01T14:22:55.004Z"
   },
   {
    "duration": 12,
    "start_time": "2022-03-01T14:24:28.243Z"
   },
   {
    "duration": 11,
    "start_time": "2022-03-01T14:25:41.601Z"
   },
   {
    "duration": 20,
    "start_time": "2022-03-01T14:25:46.998Z"
   },
   {
    "duration": 20,
    "start_time": "2022-03-01T14:26:06.760Z"
   },
   {
    "duration": 22,
    "start_time": "2022-03-01T14:26:11.785Z"
   },
   {
    "duration": 17,
    "start_time": "2022-03-01T14:26:17.416Z"
   },
   {
    "duration": 16,
    "start_time": "2022-03-01T14:26:25.859Z"
   },
   {
    "duration": 18,
    "start_time": "2022-03-01T14:26:30.703Z"
   },
   {
    "duration": 18,
    "start_time": "2022-03-01T14:26:35.653Z"
   },
   {
    "duration": 17,
    "start_time": "2022-03-01T14:29:08.285Z"
   },
   {
    "duration": 277,
    "start_time": "2022-03-01T14:30:26.106Z"
   },
   {
    "duration": 248,
    "start_time": "2022-03-01T14:30:36.433Z"
   },
   {
    "duration": 269,
    "start_time": "2022-03-01T14:30:41.574Z"
   },
   {
    "duration": 26,
    "start_time": "2022-03-01T14:30:52.402Z"
   },
   {
    "duration": 258,
    "start_time": "2022-03-01T14:31:20.250Z"
   },
   {
    "duration": 260,
    "start_time": "2022-03-01T14:32:19.351Z"
   },
   {
    "duration": 26,
    "start_time": "2022-03-01T14:32:34.317Z"
   },
   {
    "duration": 8,
    "start_time": "2022-03-01T14:32:42.768Z"
   },
   {
    "duration": 8,
    "start_time": "2022-03-01T14:32:49.811Z"
   },
   {
    "duration": 79,
    "start_time": "2022-03-01T14:32:56.350Z"
   },
   {
    "duration": 413,
    "start_time": "2022-03-01T14:34:16.077Z"
   },
   {
    "duration": 396,
    "start_time": "2022-03-01T14:34:37.546Z"
   },
   {
    "duration": 6,
    "start_time": "2022-03-01T14:34:58.205Z"
   },
   {
    "duration": 13,
    "start_time": "2022-03-01T14:35:37.557Z"
   },
   {
    "duration": 298,
    "start_time": "2022-03-01T14:36:43.525Z"
   },
   {
    "duration": 650,
    "start_time": "2022-03-01T14:37:05.701Z"
   },
   {
    "duration": 13,
    "start_time": "2022-03-01T14:37:12.831Z"
   },
   {
    "duration": 21,
    "start_time": "2022-03-01T14:37:24.383Z"
   },
   {
    "duration": 347,
    "start_time": "2022-03-01T14:38:14.718Z"
   },
   {
    "duration": 291,
    "start_time": "2022-03-01T14:38:25.663Z"
   },
   {
    "duration": 21,
    "start_time": "2022-03-01T14:39:01.879Z"
   },
   {
    "duration": 7,
    "start_time": "2022-03-01T14:39:36.579Z"
   },
   {
    "duration": 10,
    "start_time": "2022-03-01T14:39:52.688Z"
   },
   {
    "duration": 12,
    "start_time": "2022-03-01T14:40:01.940Z"
   },
   {
    "duration": 13,
    "start_time": "2022-03-01T14:40:08.600Z"
   },
   {
    "duration": 15,
    "start_time": "2022-03-01T14:40:53.851Z"
   },
   {
    "duration": 15,
    "start_time": "2022-03-01T14:40:59.680Z"
   },
   {
    "duration": 15,
    "start_time": "2022-03-01T14:41:27.217Z"
   },
   {
    "duration": 14,
    "start_time": "2022-03-01T14:43:12.432Z"
   },
   {
    "duration": 301,
    "start_time": "2022-03-01T14:44:01.899Z"
   },
   {
    "duration": 85,
    "start_time": "2022-03-01T14:44:41.102Z"
   },
   {
    "duration": 100,
    "start_time": "2022-03-01T14:45:09.250Z"
   },
   {
    "duration": 695,
    "start_time": "2022-03-01T14:45:20.933Z"
   },
   {
    "duration": 682,
    "start_time": "2022-03-01T14:45:39.502Z"
   },
   {
    "duration": 660,
    "start_time": "2022-03-01T14:46:42.525Z"
   },
   {
    "duration": 26,
    "start_time": "2022-03-01T14:46:58.563Z"
   },
   {
    "duration": 286,
    "start_time": "2022-03-01T14:54:03.601Z"
   },
   {
    "duration": 82,
    "start_time": "2022-03-01T14:54:22.827Z"
   },
   {
    "duration": 14,
    "start_time": "2022-03-01T14:54:25.555Z"
   },
   {
    "duration": 19,
    "start_time": "2022-03-01T14:54:32.600Z"
   },
   {
    "duration": 266,
    "start_time": "2022-03-01T14:54:55.991Z"
   },
   {
    "duration": 19,
    "start_time": "2022-03-01T14:55:20.593Z"
   },
   {
    "duration": 284,
    "start_time": "2022-03-01T14:55:40.881Z"
   },
   {
    "duration": 17,
    "start_time": "2022-03-01T14:55:55.038Z"
   },
   {
    "duration": 289,
    "start_time": "2022-03-01T14:56:06.161Z"
   },
   {
    "duration": 19,
    "start_time": "2022-03-01T14:56:26.790Z"
   },
   {
    "duration": 19,
    "start_time": "2022-03-01T14:56:35.575Z"
   },
   {
    "duration": 20,
    "start_time": "2022-03-01T14:56:52.671Z"
   },
   {
    "duration": 20,
    "start_time": "2022-03-01T14:57:02.105Z"
   },
   {
    "duration": 35,
    "start_time": "2022-03-01T14:57:18.082Z"
   },
   {
    "duration": 17,
    "start_time": "2022-03-01T14:57:32.611Z"
   },
   {
    "duration": 12,
    "start_time": "2022-03-01T14:59:20.903Z"
   },
   {
    "duration": 259,
    "start_time": "2022-03-01T15:00:39.856Z"
   },
   {
    "duration": 1160,
    "start_time": "2022-03-01T15:00:56.568Z"
   },
   {
    "duration": 275,
    "start_time": "2022-03-01T15:01:12.888Z"
   },
   {
    "duration": 281,
    "start_time": "2022-03-01T15:01:34.342Z"
   },
   {
    "duration": 354,
    "start_time": "2022-03-01T15:02:09.796Z"
   },
   {
    "duration": 268,
    "start_time": "2022-03-01T15:03:03.844Z"
   },
   {
    "duration": 11,
    "start_time": "2022-03-01T15:04:04.916Z"
   },
   {
    "duration": 14,
    "start_time": "2022-03-01T15:04:11.476Z"
   },
   {
    "duration": 13,
    "start_time": "2022-03-01T15:04:33.278Z"
   },
   {
    "duration": 18,
    "start_time": "2022-03-01T15:05:37.172Z"
   },
   {
    "duration": 19,
    "start_time": "2022-03-01T15:05:44.906Z"
   },
   {
    "duration": 271,
    "start_time": "2022-03-01T15:05:56.474Z"
   },
   {
    "duration": 11,
    "start_time": "2022-03-01T15:06:21.643Z"
   },
   {
    "duration": 22,
    "start_time": "2022-03-01T15:06:23.652Z"
   },
   {
    "duration": 19,
    "start_time": "2022-03-01T15:06:25.006Z"
   },
   {
    "duration": 289,
    "start_time": "2022-03-01T15:06:33.801Z"
   },
   {
    "duration": 10,
    "start_time": "2022-03-01T15:06:44.623Z"
   },
   {
    "duration": 299,
    "start_time": "2022-03-01T15:06:58.424Z"
   },
   {
    "duration": 9,
    "start_time": "2022-03-01T15:07:12.839Z"
   },
   {
    "duration": 5,
    "start_time": "2022-03-01T15:07:20.270Z"
   },
   {
    "duration": 14,
    "start_time": "2022-03-01T15:07:30.815Z"
   },
   {
    "duration": 14,
    "start_time": "2022-03-01T15:08:01.630Z"
   },
   {
    "duration": 14,
    "start_time": "2022-03-01T15:08:23.745Z"
   },
   {
    "duration": 1310,
    "start_time": "2022-03-01T15:32:27.340Z"
   },
   {
    "duration": 413,
    "start_time": "2022-03-01T15:32:28.653Z"
   },
   {
    "duration": 160,
    "start_time": "2022-03-01T15:32:29.069Z"
   },
   {
    "duration": 692,
    "start_time": "2022-03-01T15:32:29.232Z"
   },
   {
    "duration": 35,
    "start_time": "2022-03-01T15:32:29.926Z"
   },
   {
    "duration": 60,
    "start_time": "2022-03-01T15:32:29.963Z"
   },
   {
    "duration": 3,
    "start_time": "2022-03-01T15:32:30.025Z"
   },
   {
    "duration": 35,
    "start_time": "2022-03-01T15:32:30.030Z"
   },
   {
    "duration": 43,
    "start_time": "2022-03-01T15:32:30.069Z"
   },
   {
    "duration": 23,
    "start_time": "2022-03-01T15:32:30.115Z"
   },
   {
    "duration": 68,
    "start_time": "2022-03-01T15:32:30.140Z"
   },
   {
    "duration": 192,
    "start_time": "2022-03-01T15:32:30.211Z"
   },
   {
    "duration": 134,
    "start_time": "2022-03-01T15:32:30.405Z"
   },
   {
    "duration": 184,
    "start_time": "2022-03-01T15:32:30.542Z"
   },
   {
    "duration": 31,
    "start_time": "2022-03-01T15:32:30.728Z"
   },
   {
    "duration": 61,
    "start_time": "2022-03-01T15:32:30.761Z"
   },
   {
    "duration": 36,
    "start_time": "2022-03-01T15:32:30.824Z"
   },
   {
    "duration": 49,
    "start_time": "2022-03-01T15:32:30.862Z"
   },
   {
    "duration": 20,
    "start_time": "2022-03-01T15:32:40.768Z"
   },
   {
    "duration": 20,
    "start_time": "2022-03-01T15:32:43.643Z"
   },
   {
    "duration": 4,
    "start_time": "2022-03-01T15:33:23.698Z"
   },
   {
    "duration": 5,
    "start_time": "2022-03-01T15:33:24.226Z"
   },
   {
    "duration": 22,
    "start_time": "2022-03-01T15:33:26.991Z"
   },
   {
    "duration": 22,
    "start_time": "2022-03-01T15:33:32.604Z"
   },
   {
    "duration": 3,
    "start_time": "2022-03-01T15:33:45.355Z"
   },
   {
    "duration": 5,
    "start_time": "2022-03-01T15:33:45.689Z"
   },
   {
    "duration": 11,
    "start_time": "2022-03-01T15:33:46.038Z"
   },
   {
    "duration": 20,
    "start_time": "2022-03-01T15:33:48.042Z"
   },
   {
    "duration": 22,
    "start_time": "2022-03-01T15:39:38.757Z"
   },
   {
    "duration": 21,
    "start_time": "2022-03-01T15:39:42.027Z"
   },
   {
    "duration": 21,
    "start_time": "2022-03-01T15:39:45.039Z"
   },
   {
    "duration": 19,
    "start_time": "2022-03-01T15:39:48.606Z"
   },
   {
    "duration": 20,
    "start_time": "2022-03-01T15:40:21.198Z"
   },
   {
    "duration": 20,
    "start_time": "2022-03-01T15:40:43.622Z"
   },
   {
    "duration": 296,
    "start_time": "2022-03-01T15:40:56.449Z"
   },
   {
    "duration": 6,
    "start_time": "2022-03-01T15:41:02.808Z"
   },
   {
    "duration": 4,
    "start_time": "2022-03-01T15:41:09.452Z"
   },
   {
    "duration": 22,
    "start_time": "2022-03-01T15:41:40.322Z"
   },
   {
    "duration": 20,
    "start_time": "2022-03-01T15:41:44.352Z"
   },
   {
    "duration": 21,
    "start_time": "2022-03-01T15:41:47.421Z"
   },
   {
    "duration": 4,
    "start_time": "2022-03-01T17:57:59.732Z"
   },
   {
    "duration": 4,
    "start_time": "2022-03-01T18:00:33.988Z"
   },
   {
    "duration": 293,
    "start_time": "2022-03-01T18:01:08.392Z"
   },
   {
    "duration": 1476,
    "start_time": "2022-03-01T18:01:27.202Z"
   },
   {
    "duration": 576,
    "start_time": "2022-03-01T18:01:28.680Z"
   },
   {
    "duration": 223,
    "start_time": "2022-03-01T18:01:29.260Z"
   },
   {
    "duration": 975,
    "start_time": "2022-03-01T18:01:29.485Z"
   },
   {
    "duration": 48,
    "start_time": "2022-03-01T18:01:30.462Z"
   },
   {
    "duration": 73,
    "start_time": "2022-03-01T18:01:30.513Z"
   },
   {
    "duration": 6,
    "start_time": "2022-03-01T18:01:30.588Z"
   },
   {
    "duration": 72,
    "start_time": "2022-03-01T18:01:30.599Z"
   },
   {
    "duration": 23,
    "start_time": "2022-03-01T18:01:30.675Z"
   },
   {
    "duration": 56,
    "start_time": "2022-03-01T18:01:30.700Z"
   },
   {
    "duration": 96,
    "start_time": "2022-03-01T18:01:30.759Z"
   },
   {
    "duration": 109,
    "start_time": "2022-03-01T18:01:30.860Z"
   },
   {
    "duration": 114,
    "start_time": "2022-03-01T18:01:31.054Z"
   },
   {
    "duration": 105,
    "start_time": "2022-03-01T18:01:31.254Z"
   },
   {
    "duration": 18,
    "start_time": "2022-03-01T18:01:31.362Z"
   },
   {
    "duration": 7,
    "start_time": "2022-03-01T18:01:39.092Z"
   },
   {
    "duration": 6,
    "start_time": "2022-03-01T18:04:04.196Z"
   },
   {
    "duration": 7,
    "start_time": "2022-03-01T18:04:13.738Z"
   },
   {
    "duration": 8,
    "start_time": "2022-03-01T18:04:18.007Z"
   },
   {
    "duration": 10,
    "start_time": "2022-03-01T18:04:28.786Z"
   },
   {
    "duration": 322,
    "start_time": "2022-03-01T18:08:05.576Z"
   },
   {
    "duration": 6,
    "start_time": "2022-03-01T18:08:28.099Z"
   },
   {
    "duration": 6,
    "start_time": "2022-03-01T18:09:21.539Z"
   },
   {
    "duration": 236,
    "start_time": "2022-03-01T18:09:40.069Z"
   },
   {
    "duration": 6,
    "start_time": "2022-03-01T18:09:47.872Z"
   },
   {
    "duration": 14,
    "start_time": "2022-03-01T18:10:04.782Z"
   },
   {
    "duration": 6,
    "start_time": "2022-03-01T18:10:23.146Z"
   },
   {
    "duration": 44,
    "start_time": "2022-03-01T18:11:56.206Z"
   },
   {
    "duration": 43,
    "start_time": "2022-03-01T18:13:53.656Z"
   },
   {
    "duration": 41,
    "start_time": "2022-03-01T18:14:33.876Z"
   },
   {
    "duration": 456,
    "start_time": "2022-03-01T18:14:39.301Z"
   },
   {
    "duration": 40,
    "start_time": "2022-03-01T18:15:24.647Z"
   },
   {
    "duration": 5,
    "start_time": "2022-03-01T18:15:34.921Z"
   },
   {
    "duration": 452,
    "start_time": "2022-03-01T18:15:34.942Z"
   },
   {
    "duration": 201,
    "start_time": "2022-03-01T18:15:35.397Z"
   },
   {
    "duration": 1000,
    "start_time": "2022-03-01T18:15:35.601Z"
   },
   {
    "duration": 57,
    "start_time": "2022-03-01T18:15:36.604Z"
   },
   {
    "duration": 47,
    "start_time": "2022-03-01T18:15:36.664Z"
   },
   {
    "duration": 5,
    "start_time": "2022-03-01T18:15:36.713Z"
   },
   {
    "duration": 20,
    "start_time": "2022-03-01T18:15:36.752Z"
   },
   {
    "duration": 25,
    "start_time": "2022-03-01T18:15:36.776Z"
   },
   {
    "duration": 58,
    "start_time": "2022-03-01T18:15:36.805Z"
   },
   {
    "duration": 87,
    "start_time": "2022-03-01T18:15:36.866Z"
   },
   {
    "duration": 196,
    "start_time": "2022-03-01T18:15:36.957Z"
   },
   {
    "duration": 106,
    "start_time": "2022-03-01T18:15:37.156Z"
   },
   {
    "duration": 193,
    "start_time": "2022-03-01T18:15:37.265Z"
   },
   {
    "duration": 4,
    "start_time": "2022-03-01T18:15:37.460Z"
   },
   {
    "duration": 15,
    "start_time": "2022-03-01T18:15:37.467Z"
   },
   {
    "duration": 12,
    "start_time": "2022-03-01T18:15:37.484Z"
   },
   {
    "duration": 35,
    "start_time": "2022-03-01T18:15:39.974Z"
   },
   {
    "duration": 26,
    "start_time": "2022-03-01T18:15:54.486Z"
   },
   {
    "duration": 8119,
    "start_time": "2022-03-01T18:21:50.397Z"
   },
   {
    "duration": 8215,
    "start_time": "2022-03-01T18:22:57.381Z"
   },
   {
    "duration": 607,
    "start_time": "2022-03-01T18:23:22.261Z"
   },
   {
    "duration": 12,
    "start_time": "2022-03-01T18:23:55.435Z"
   },
   {
    "duration": 13280,
    "start_time": "2022-03-01T18:29:35.252Z"
   },
   {
    "duration": 8534,
    "start_time": "2022-03-01T18:30:15.067Z"
   },
   {
    "duration": 399,
    "start_time": "2022-03-01T18:31:18.669Z"
   },
   {
    "duration": 8923,
    "start_time": "2022-03-01T18:33:36.299Z"
   },
   {
    "duration": 9359,
    "start_time": "2022-03-01T18:34:22.475Z"
   },
   {
    "duration": 24,
    "start_time": "2022-03-01T18:35:51.084Z"
   },
   {
    "duration": 9528,
    "start_time": "2022-03-01T18:36:18.866Z"
   },
   {
    "duration": 374,
    "start_time": "2022-03-01T18:36:47.691Z"
   },
   {
    "duration": 12,
    "start_time": "2022-03-01T18:37:56.139Z"
   },
   {
    "duration": 19,
    "start_time": "2022-03-01T18:38:28.863Z"
   },
   {
    "duration": 276,
    "start_time": "2022-03-01T18:38:48.513Z"
   },
   {
    "duration": 85,
    "start_time": "2022-03-01T18:58:33.161Z"
   },
   {
    "duration": 81,
    "start_time": "2022-03-01T18:58:56.350Z"
   },
   {
    "duration": 256,
    "start_time": "2022-03-01T18:59:05.491Z"
   },
   {
    "duration": 269,
    "start_time": "2022-03-01T18:59:35.777Z"
   },
   {
    "duration": 124,
    "start_time": "2022-03-01T19:00:03.094Z"
   },
   {
    "duration": 98,
    "start_time": "2022-03-01T19:00:09.937Z"
   },
   {
    "duration": 8,
    "start_time": "2022-03-01T19:00:16.945Z"
   },
   {
    "duration": 9,
    "start_time": "2022-03-01T19:00:43.431Z"
   },
   {
    "duration": 17,
    "start_time": "2022-03-01T19:01:45.911Z"
   },
   {
    "duration": 273,
    "start_time": "2022-03-01T19:02:17.725Z"
   },
   {
    "duration": 13,
    "start_time": "2022-03-01T19:02:47.289Z"
   },
   {
    "duration": 14,
    "start_time": "2022-03-01T19:02:53.280Z"
   },
   {
    "duration": 25,
    "start_time": "2022-03-01T19:02:56.132Z"
   },
   {
    "duration": 26,
    "start_time": "2022-03-01T19:03:25.847Z"
   },
   {
    "duration": 260,
    "start_time": "2022-03-01T19:04:50.143Z"
   },
   {
    "duration": 286,
    "start_time": "2022-03-01T19:05:02.003Z"
   },
   {
    "duration": 368,
    "start_time": "2022-03-01T19:05:39.272Z"
   },
   {
    "duration": 258,
    "start_time": "2022-03-01T19:06:47.233Z"
   },
   {
    "duration": 15,
    "start_time": "2022-03-01T19:06:59.668Z"
   },
   {
    "duration": 18,
    "start_time": "2022-03-01T19:07:30.344Z"
   },
   {
    "duration": 26,
    "start_time": "2022-03-01T19:07:36.078Z"
   },
   {
    "duration": 24,
    "start_time": "2022-03-01T19:08:13.260Z"
   },
   {
    "duration": 21,
    "start_time": "2022-03-01T19:08:17.025Z"
   },
   {
    "duration": 25,
    "start_time": "2022-03-01T19:09:55.420Z"
   },
   {
    "duration": 17,
    "start_time": "2022-03-01T19:10:26.070Z"
   },
   {
    "duration": 17,
    "start_time": "2022-03-01T19:10:41.232Z"
   },
   {
    "duration": 17,
    "start_time": "2022-03-01T19:10:52.762Z"
   },
   {
    "duration": 22,
    "start_time": "2022-03-01T19:11:54.286Z"
   },
   {
    "duration": 16,
    "start_time": "2022-03-01T19:12:09.857Z"
   },
   {
    "duration": 23,
    "start_time": "2022-03-01T19:12:36.137Z"
   },
   {
    "duration": 290,
    "start_time": "2022-03-01T19:12:52.257Z"
   },
   {
    "duration": 271,
    "start_time": "2022-03-01T19:13:01.082Z"
   },
   {
    "duration": 445,
    "start_time": "2022-03-01T19:13:07.346Z"
   },
   {
    "duration": 20,
    "start_time": "2022-03-01T19:13:33.819Z"
   },
   {
    "duration": 300,
    "start_time": "2022-03-01T19:14:08.768Z"
   },
   {
    "duration": 261,
    "start_time": "2022-03-01T19:14:11.560Z"
   },
   {
    "duration": 21,
    "start_time": "2022-03-01T19:14:26.220Z"
   },
   {
    "duration": 265,
    "start_time": "2022-03-01T19:14:57.677Z"
   },
   {
    "duration": 277,
    "start_time": "2022-03-01T19:15:49.695Z"
   },
   {
    "duration": 19,
    "start_time": "2022-03-01T19:15:55.216Z"
   },
   {
    "duration": 17,
    "start_time": "2022-03-01T19:16:09.517Z"
   },
   {
    "duration": 5,
    "start_time": "2022-03-01T19:18:03.845Z"
   },
   {
    "duration": 10,
    "start_time": "2022-03-01T19:18:09.370Z"
   },
   {
    "duration": 94,
    "start_time": "2022-03-01T19:18:21.157Z"
   },
   {
    "duration": 11,
    "start_time": "2022-03-01T19:18:26.234Z"
   },
   {
    "duration": 8,
    "start_time": "2022-03-01T19:19:37.982Z"
   },
   {
    "duration": 15,
    "start_time": "2022-03-01T19:20:47.775Z"
   },
   {
    "duration": 83,
    "start_time": "2022-03-01T19:23:18.965Z"
   },
   {
    "duration": 21,
    "start_time": "2022-03-01T19:23:23.850Z"
   },
   {
    "duration": 16,
    "start_time": "2022-03-01T19:24:15.551Z"
   },
   {
    "duration": 15,
    "start_time": "2022-03-01T19:24:49.196Z"
   },
   {
    "duration": 15,
    "start_time": "2022-03-01T19:25:00.228Z"
   },
   {
    "duration": 14,
    "start_time": "2022-03-01T19:25:19.796Z"
   },
   {
    "duration": 279,
    "start_time": "2022-03-01T19:26:07.641Z"
   },
   {
    "duration": 288,
    "start_time": "2022-03-01T19:26:17.464Z"
   },
   {
    "duration": 279,
    "start_time": "2022-03-01T19:26:25.024Z"
   },
   {
    "duration": 258,
    "start_time": "2022-03-01T19:26:38.356Z"
   },
   {
    "duration": 274,
    "start_time": "2022-03-01T19:27:04.305Z"
   },
   {
    "duration": 13,
    "start_time": "2022-03-01T19:27:22.099Z"
   },
   {
    "duration": 699,
    "start_time": "2022-03-01T19:27:36.576Z"
   },
   {
    "duration": 657,
    "start_time": "2022-03-01T19:28:39.911Z"
   },
   {
    "duration": 701,
    "start_time": "2022-03-01T19:30:03.519Z"
   },
   {
    "duration": 17,
    "start_time": "2022-03-01T19:30:43.474Z"
   },
   {
    "duration": 23,
    "start_time": "2022-03-01T19:31:31.717Z"
   },
   {
    "duration": 593,
    "start_time": "2022-03-01T19:31:50.970Z"
   },
   {
    "duration": 271,
    "start_time": "2022-03-01T19:32:07.823Z"
   },
   {
    "duration": 1726,
    "start_time": "2022-03-01T19:32:20.052Z"
   },
   {
    "duration": 524,
    "start_time": "2022-03-01T19:32:35.256Z"
   },
   {
    "duration": 24,
    "start_time": "2022-03-01T19:32:49.581Z"
   },
   {
    "duration": 81,
    "start_time": "2022-03-01T19:37:02.200Z"
   },
   {
    "duration": 86,
    "start_time": "2022-03-01T19:41:10.823Z"
   },
   {
    "duration": 84,
    "start_time": "2022-03-01T19:43:48.067Z"
   },
   {
    "duration": 403,
    "start_time": "2022-03-01T19:44:01.378Z"
   },
   {
    "duration": 12,
    "start_time": "2022-03-01T19:44:07.368Z"
   },
   {
    "duration": 23,
    "start_time": "2022-03-01T19:44:09.668Z"
   },
   {
    "duration": 19,
    "start_time": "2022-03-01T19:47:14.531Z"
   },
   {
    "duration": 20,
    "start_time": "2022-03-01T19:47:18.736Z"
   },
   {
    "duration": 1654,
    "start_time": "2022-05-20T18:27:30.936Z"
   },
   {
    "duration": 1125,
    "start_time": "2022-05-20T18:29:33.104Z"
   },
   {
    "duration": 569,
    "start_time": "2022-05-20T18:31:09.133Z"
   },
   {
    "duration": 475,
    "start_time": "2022-05-20T18:31:13.381Z"
   },
   {
    "duration": 682,
    "start_time": "2022-05-20T18:31:28.756Z"
   },
   {
    "duration": 1704,
    "start_time": "2022-05-20T18:33:51.805Z"
   },
   {
    "duration": 1712,
    "start_time": "2022-05-20T18:34:08.817Z"
   },
   {
    "duration": 11,
    "start_time": "2022-05-20T18:35:19.427Z"
   },
   {
    "duration": 653,
    "start_time": "2022-05-20T18:35:41.421Z"
   },
   {
    "duration": 1532,
    "start_time": "2022-05-20T18:36:02.762Z"
   },
   {
    "duration": 628,
    "start_time": "2022-05-20T18:37:52.020Z"
   },
   {
    "duration": 1533,
    "start_time": "2022-05-20T18:38:02.791Z"
   },
   {
    "duration": 1562,
    "start_time": "2022-05-20T18:38:14.326Z"
   },
   {
    "duration": 1514,
    "start_time": "2022-05-20T18:38:32.724Z"
   },
   {
    "duration": 1639,
    "start_time": "2022-05-20T18:38:43.151Z"
   },
   {
    "duration": 1493,
    "start_time": "2022-05-20T18:38:56.763Z"
   },
   {
    "duration": 876,
    "start_time": "2022-05-20T18:39:19.437Z"
   },
   {
    "duration": 917,
    "start_time": "2022-05-20T18:39:25.294Z"
   },
   {
    "duration": 579,
    "start_time": "2022-05-20T18:39:33.372Z"
   },
   {
    "duration": 461,
    "start_time": "2022-05-20T18:39:54.427Z"
   },
   {
    "duration": 621,
    "start_time": "2022-05-20T18:40:05.400Z"
   },
   {
    "duration": 624,
    "start_time": "2022-05-20T18:40:12.400Z"
   },
   {
    "duration": 748,
    "start_time": "2022-05-20T18:40:19.523Z"
   },
   {
    "duration": 601,
    "start_time": "2022-05-20T18:40:26.380Z"
   },
   {
    "duration": 621,
    "start_time": "2022-05-20T18:40:38.340Z"
   },
   {
    "duration": 603,
    "start_time": "2022-05-20T18:40:51.489Z"
   },
   {
    "duration": 681,
    "start_time": "2022-05-20T18:40:58.153Z"
   },
   {
    "duration": 361,
    "start_time": "2022-05-20T18:41:26.089Z"
   },
   {
    "duration": 464,
    "start_time": "2022-05-20T18:43:52.678Z"
   },
   {
    "duration": 466,
    "start_time": "2022-05-20T18:43:59.248Z"
   },
   {
    "duration": 464,
    "start_time": "2022-05-20T18:44:18.285Z"
   },
   {
    "duration": 579,
    "start_time": "2022-05-20T18:44:47.529Z"
   },
   {
    "duration": 20,
    "start_time": "2022-05-20T18:46:50.243Z"
   },
   {
    "duration": 39,
    "start_time": "2022-05-20T18:46:56.009Z"
   },
   {
    "duration": 43,
    "start_time": "2022-05-20T18:57:50.902Z"
   },
   {
    "duration": 12,
    "start_time": "2022-05-20T19:18:49.784Z"
   },
   {
    "duration": 23,
    "start_time": "2022-05-20T19:19:01.529Z"
   },
   {
    "duration": 20,
    "start_time": "2022-05-20T19:20:18.408Z"
   },
   {
    "duration": 21,
    "start_time": "2022-05-20T19:20:51.676Z"
   },
   {
    "duration": 24,
    "start_time": "2022-05-20T19:21:01.054Z"
   },
   {
    "duration": 22,
    "start_time": "2022-05-20T19:21:30.065Z"
   },
   {
    "duration": 29,
    "start_time": "2022-05-20T19:28:27.432Z"
   },
   {
    "duration": 39,
    "start_time": "2022-05-20T19:28:35.263Z"
   },
   {
    "duration": 41,
    "start_time": "2022-05-20T19:28:41.076Z"
   },
   {
    "duration": 36,
    "start_time": "2022-05-20T19:28:49.952Z"
   },
   {
    "duration": 39,
    "start_time": "2022-05-20T19:29:15.780Z"
   },
   {
    "duration": 42,
    "start_time": "2022-05-20T19:29:46.112Z"
   },
   {
    "duration": 31,
    "start_time": "2022-05-20T19:29:51.386Z"
   },
   {
    "duration": 129,
    "start_time": "2022-05-20T19:34:57.637Z"
   },
   {
    "duration": 177,
    "start_time": "2022-05-20T19:35:10.300Z"
   },
   {
    "duration": 190,
    "start_time": "2022-05-20T19:38:21.687Z"
   },
   {
    "duration": 4,
    "start_time": "2022-05-20T19:38:31.063Z"
   },
   {
    "duration": 9,
    "start_time": "2022-05-20T19:38:43.787Z"
   },
   {
    "duration": 371,
    "start_time": "2022-05-20T19:48:25.103Z"
   },
   {
    "duration": 10,
    "start_time": "2022-05-20T19:48:28.670Z"
   },
   {
    "duration": 4,
    "start_time": "2022-05-20T19:48:35.252Z"
   },
   {
    "duration": 10,
    "start_time": "2022-05-20T19:48:40.360Z"
   },
   {
    "duration": 21,
    "start_time": "2022-05-20T19:51:17.162Z"
   },
   {
    "duration": 23,
    "start_time": "2022-05-20T19:51:53.657Z"
   },
   {
    "duration": 18,
    "start_time": "2022-05-20T19:52:41.124Z"
   },
   {
    "duration": 8,
    "start_time": "2022-05-20T19:54:15.663Z"
   },
   {
    "duration": 21,
    "start_time": "2022-05-20T19:54:28.602Z"
   },
   {
    "duration": 24,
    "start_time": "2022-05-20T19:54:38.911Z"
   },
   {
    "duration": 280,
    "start_time": "2022-05-20T19:57:28.788Z"
   },
   {
    "duration": 5717,
    "start_time": "2022-05-20T20:54:37.147Z"
   },
   {
    "duration": 15,
    "start_time": "2022-05-20T20:54:53.502Z"
   },
   {
    "duration": 5,
    "start_time": "2022-05-20T20:56:19.091Z"
   },
   {
    "duration": 5392,
    "start_time": "2022-05-20T20:56:53.787Z"
   },
   {
    "duration": 4,
    "start_time": "2022-05-20T20:56:59.182Z"
   },
   {
    "duration": 5,
    "start_time": "2022-05-20T20:57:06.014Z"
   },
   {
    "duration": 24,
    "start_time": "2022-05-20T20:57:37.925Z"
   },
   {
    "duration": 5625,
    "start_time": "2022-05-20T20:57:47.962Z"
   },
   {
    "duration": 15,
    "start_time": "2022-05-20T20:57:54.543Z"
   },
   {
    "duration": 5600,
    "start_time": "2022-05-20T20:59:05.410Z"
   },
   {
    "duration": 16,
    "start_time": "2022-05-20T20:59:11.012Z"
   },
   {
    "duration": 4,
    "start_time": "2022-05-20T20:59:18.122Z"
   },
   {
    "duration": 18,
    "start_time": "2022-05-20T20:59:35.958Z"
   },
   {
    "duration": 5,
    "start_time": "2022-05-20T21:01:33.767Z"
   },
   {
    "duration": 5577,
    "start_time": "2022-05-20T21:01:43.581Z"
   },
   {
    "duration": 6,
    "start_time": "2022-05-20T21:01:49.160Z"
   },
   {
    "duration": 1799,
    "start_time": "2022-05-20T21:02:03.596Z"
   },
   {
    "duration": 1815,
    "start_time": "2022-05-20T21:02:24.279Z"
   },
   {
    "duration": 5636,
    "start_time": "2022-05-20T21:02:57.741Z"
   },
   {
    "duration": 4,
    "start_time": "2022-05-20T21:03:03.379Z"
   },
   {
    "duration": 63,
    "start_time": "2022-05-20T21:03:12.296Z"
   },
   {
    "duration": 7,
    "start_time": "2022-05-20T21:03:33.626Z"
   },
   {
    "duration": 149,
    "start_time": "2022-05-20T21:03:37.923Z"
   },
   {
    "duration": 162,
    "start_time": "2022-05-20T21:03:44.040Z"
   },
   {
    "duration": 1247,
    "start_time": "2022-05-20T21:05:57.397Z"
   },
   {
    "duration": 635,
    "start_time": "2022-05-20T21:05:58.646Z"
   },
   {
    "duration": 506,
    "start_time": "2022-05-20T21:05:59.283Z"
   },
   {
    "duration": 40,
    "start_time": "2022-05-20T21:05:59.791Z"
   },
   {
    "duration": 6,
    "start_time": "2022-05-20T21:05:59.833Z"
   },
   {
    "duration": 0,
    "start_time": "2022-05-20T21:05:59.865Z"
   },
   {
    "duration": 0,
    "start_time": "2022-05-20T21:05:59.866Z"
   },
   {
    "duration": 0,
    "start_time": "2022-05-20T21:05:59.868Z"
   },
   {
    "duration": 0,
    "start_time": "2022-05-20T21:05:59.869Z"
   },
   {
    "duration": 0,
    "start_time": "2022-05-20T21:05:59.871Z"
   },
   {
    "duration": 0,
    "start_time": "2022-05-20T21:05:59.872Z"
   },
   {
    "duration": 0,
    "start_time": "2022-05-20T21:05:59.873Z"
   },
   {
    "duration": 4,
    "start_time": "2022-05-20T21:06:41.057Z"
   },
   {
    "duration": 557,
    "start_time": "2022-05-20T21:06:41.064Z"
   },
   {
    "duration": 510,
    "start_time": "2022-05-20T21:06:41.623Z"
   },
   {
    "duration": 63,
    "start_time": "2022-05-20T21:06:42.136Z"
   },
   {
    "duration": 5,
    "start_time": "2022-05-20T21:06:42.201Z"
   },
   {
    "duration": 0,
    "start_time": "2022-05-20T21:06:42.208Z"
   },
   {
    "duration": 0,
    "start_time": "2022-05-20T21:06:42.210Z"
   },
   {
    "duration": 0,
    "start_time": "2022-05-20T21:06:42.212Z"
   },
   {
    "duration": 0,
    "start_time": "2022-05-20T21:06:42.213Z"
   },
   {
    "duration": 0,
    "start_time": "2022-05-20T21:06:42.215Z"
   },
   {
    "duration": 0,
    "start_time": "2022-05-20T21:06:42.216Z"
   },
   {
    "duration": 0,
    "start_time": "2022-05-20T21:06:42.217Z"
   },
   {
    "duration": 5,
    "start_time": "2022-05-20T21:07:24.598Z"
   },
   {
    "duration": 594,
    "start_time": "2022-05-20T21:07:24.609Z"
   },
   {
    "duration": 492,
    "start_time": "2022-05-20T21:07:25.205Z"
   },
   {
    "duration": 39,
    "start_time": "2022-05-20T21:07:25.698Z"
   },
   {
    "duration": 56,
    "start_time": "2022-05-20T21:07:25.740Z"
   },
   {
    "duration": 35,
    "start_time": "2022-05-20T21:07:25.798Z"
   },
   {
    "duration": 335,
    "start_time": "2022-05-20T21:07:25.835Z"
   },
   {
    "duration": 95,
    "start_time": "2022-05-20T21:07:26.172Z"
   },
   {
    "duration": 9,
    "start_time": "2022-05-20T21:07:26.270Z"
   },
   {
    "duration": 20,
    "start_time": "2022-05-20T21:07:26.281Z"
   },
   {
    "duration": 167,
    "start_time": "2022-05-20T21:07:26.304Z"
   },
   {
    "duration": 62714,
    "start_time": "2022-05-20T21:07:45.302Z"
   },
   {
    "duration": 5773,
    "start_time": "2022-05-20T21:09:04.445Z"
   },
   {
    "duration": 167,
    "start_time": "2022-05-20T21:09:10.220Z"
   },
   {
    "duration": 195,
    "start_time": "2022-05-20T21:10:40.948Z"
   },
   {
    "duration": 220,
    "start_time": "2022-05-20T21:10:48.080Z"
   },
   {
    "duration": 272,
    "start_time": "2022-05-20T21:11:02.229Z"
   },
   {
    "duration": 251,
    "start_time": "2022-05-20T21:11:09.129Z"
   },
   {
    "duration": 245,
    "start_time": "2022-05-20T21:11:14.415Z"
   },
   {
    "duration": 216,
    "start_time": "2022-05-20T21:11:25.248Z"
   },
   {
    "duration": 927,
    "start_time": "2022-05-20T21:11:29.692Z"
   },
   {
    "duration": 277,
    "start_time": "2022-05-20T21:11:54.801Z"
   },
   {
    "duration": 800,
    "start_time": "2022-05-20T21:11:58.429Z"
   },
   {
    "duration": 889,
    "start_time": "2022-05-20T21:12:05.991Z"
   },
   {
    "duration": 946,
    "start_time": "2022-05-20T21:12:20.179Z"
   },
   {
    "duration": 963,
    "start_time": "2022-05-20T21:12:42.108Z"
   },
   {
    "duration": 990,
    "start_time": "2022-05-20T21:12:59.001Z"
   },
   {
    "duration": 17,
    "start_time": "2022-05-20T21:13:59.293Z"
   },
   {
    "duration": 1599,
    "start_time": "2022-05-20T21:14:10.185Z"
   },
   {
    "duration": 956,
    "start_time": "2022-05-20T21:14:25.597Z"
   },
   {
    "duration": 1032,
    "start_time": "2022-05-20T21:14:58.960Z"
   },
   {
    "duration": 975,
    "start_time": "2022-05-20T21:15:08.157Z"
   },
   {
    "duration": 964,
    "start_time": "2022-05-20T21:15:44.122Z"
   },
   {
    "duration": 16,
    "start_time": "2022-05-20T21:18:01.478Z"
   },
   {
    "duration": 11,
    "start_time": "2022-05-20T21:19:16.303Z"
   },
   {
    "duration": 13,
    "start_time": "2022-05-20T21:23:48.100Z"
   },
   {
    "duration": 15,
    "start_time": "2022-05-20T21:24:05.615Z"
   },
   {
    "duration": 21,
    "start_time": "2022-05-20T21:24:15.668Z"
   },
   {
    "duration": 29,
    "start_time": "2022-05-20T21:24:35.669Z"
   },
   {
    "duration": 27,
    "start_time": "2022-05-20T21:25:03.723Z"
   },
   {
    "duration": 22,
    "start_time": "2022-05-20T21:25:19.946Z"
   },
   {
    "duration": 17,
    "start_time": "2022-05-20T21:27:40.834Z"
   },
   {
    "duration": 23,
    "start_time": "2022-05-20T21:27:56.331Z"
   },
   {
    "duration": 21,
    "start_time": "2022-05-20T21:28:04.918Z"
   },
   {
    "duration": 22,
    "start_time": "2022-05-20T21:28:14.839Z"
   },
   {
    "duration": 32,
    "start_time": "2022-05-20T21:28:57.555Z"
   },
   {
    "duration": 20,
    "start_time": "2022-05-20T21:30:35.853Z"
   },
   {
    "duration": 10,
    "start_time": "2022-05-20T21:30:44.258Z"
   },
   {
    "duration": 10,
    "start_time": "2022-05-20T21:33:58.279Z"
   },
   {
    "duration": 11,
    "start_time": "2022-05-20T21:35:45.031Z"
   },
   {
    "duration": 5,
    "start_time": "2022-05-20T21:35:49.228Z"
   },
   {
    "duration": 6,
    "start_time": "2022-05-20T21:35:57.063Z"
   },
   {
    "duration": 16,
    "start_time": "2022-05-20T21:36:35.094Z"
   },
   {
    "duration": 9,
    "start_time": "2022-05-20T21:37:01.277Z"
   },
   {
    "duration": 7,
    "start_time": "2022-05-20T21:37:10.386Z"
   },
   {
    "duration": 9,
    "start_time": "2022-05-20T21:38:08.585Z"
   },
   {
    "duration": 9,
    "start_time": "2022-05-20T21:38:53.533Z"
   },
   {
    "duration": 16,
    "start_time": "2022-05-20T21:39:13.929Z"
   },
   {
    "duration": 5,
    "start_time": "2022-05-20T21:39:47.827Z"
   },
   {
    "duration": 5,
    "start_time": "2022-05-20T21:39:55.534Z"
   },
   {
    "duration": 10,
    "start_time": "2022-05-20T21:40:14.489Z"
   },
   {
    "duration": 9,
    "start_time": "2022-05-20T21:41:12.384Z"
   },
   {
    "duration": 23,
    "start_time": "2022-05-20T21:41:26.853Z"
   },
   {
    "duration": 13,
    "start_time": "2022-05-20T21:41:40.939Z"
   },
   {
    "duration": 12,
    "start_time": "2022-05-20T21:43:10.910Z"
   },
   {
    "duration": 10,
    "start_time": "2022-05-20T21:43:32.706Z"
   },
   {
    "duration": 8,
    "start_time": "2022-05-20T21:43:41.827Z"
   },
   {
    "duration": 19,
    "start_time": "2022-05-20T21:45:00.214Z"
   },
   {
    "duration": 21,
    "start_time": "2022-05-20T21:57:55.375Z"
   },
   {
    "duration": 19,
    "start_time": "2022-05-20T21:58:04.448Z"
   },
   {
    "duration": 20,
    "start_time": "2022-05-20T21:59:21.146Z"
   },
   {
    "duration": 21,
    "start_time": "2022-05-20T21:59:42.991Z"
   },
   {
    "duration": 12,
    "start_time": "2022-05-20T22:00:22.326Z"
   },
   {
    "duration": 9,
    "start_time": "2022-05-20T22:01:07.977Z"
   },
   {
    "duration": 11,
    "start_time": "2022-05-20T22:01:18.786Z"
   },
   {
    "duration": 17,
    "start_time": "2022-05-20T22:02:36.560Z"
   },
   {
    "duration": 9,
    "start_time": "2022-05-20T22:02:45.278Z"
   },
   {
    "duration": 5,
    "start_time": "2022-05-20T22:02:57.518Z"
   },
   {
    "duration": 10,
    "start_time": "2022-05-20T22:03:04.892Z"
   },
   {
    "duration": 13,
    "start_time": "2022-05-20T22:03:18.772Z"
   },
   {
    "duration": 11,
    "start_time": "2022-05-20T22:03:41.620Z"
   },
   {
    "duration": 19,
    "start_time": "2022-05-20T22:04:11.918Z"
   },
   {
    "duration": 20,
    "start_time": "2022-05-20T22:04:16.777Z"
   },
   {
    "duration": 24,
    "start_time": "2022-05-20T22:05:06.674Z"
   },
   {
    "duration": 20,
    "start_time": "2022-05-20T22:05:39.271Z"
   },
   {
    "duration": 13,
    "start_time": "2022-05-20T22:06:34.636Z"
   },
   {
    "duration": 326,
    "start_time": "2022-05-20T22:06:54.321Z"
   },
   {
    "duration": 391,
    "start_time": "2022-05-20T22:07:02.810Z"
   },
   {
    "duration": 5,
    "start_time": "2022-05-20T22:07:17.744Z"
   },
   {
    "duration": 20,
    "start_time": "2022-05-20T22:07:36.853Z"
   },
   {
    "duration": 28,
    "start_time": "2022-05-20T22:08:30.960Z"
   },
   {
    "duration": 9,
    "start_time": "2022-05-20T22:08:51.665Z"
   },
   {
    "duration": 10,
    "start_time": "2022-05-20T22:09:26.885Z"
   },
   {
    "duration": 12,
    "start_time": "2022-05-20T22:09:36.555Z"
   },
   {
    "duration": 12,
    "start_time": "2022-05-20T22:10:00.980Z"
   },
   {
    "duration": 13,
    "start_time": "2022-05-20T22:10:08.593Z"
   },
   {
    "duration": 7,
    "start_time": "2022-05-20T22:10:42.500Z"
   },
   {
    "duration": 17,
    "start_time": "2022-05-20T22:10:48.968Z"
   },
   {
    "duration": 14,
    "start_time": "2022-05-20T22:11:01.909Z"
   },
   {
    "duration": 13,
    "start_time": "2022-05-20T22:11:11.078Z"
   },
   {
    "duration": 13,
    "start_time": "2022-05-20T22:12:10.364Z"
   }
  ],
  "kernelspec": {
   "display_name": "Python 3 (ipykernel)",
   "language": "python",
   "name": "python3"
  },
  "language_info": {
   "codemirror_mode": {
    "name": "ipython",
    "version": 3
   },
   "file_extension": ".py",
   "mimetype": "text/x-python",
   "name": "python",
   "nbconvert_exporter": "python",
   "pygments_lexer": "ipython3",
   "version": "3.9.7"
  },
  "toc": {
   "base_numbering": 1,
   "nav_menu": {},
   "number_sections": true,
   "sideBar": true,
   "skip_h1_title": true,
   "title_cell": "Table of Contents",
   "title_sidebar": "Contents",
   "toc_cell": false,
   "toc_position": {},
   "toc_section_display": true,
   "toc_window_display": false
  }
 },
 "nbformat": 4,
 "nbformat_minor": 2
}
