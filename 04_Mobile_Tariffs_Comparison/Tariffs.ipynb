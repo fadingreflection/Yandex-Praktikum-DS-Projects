{
 "cells": [
  {
   "cell_type": "markdown",
   "metadata": {},
   "source": [
    "# Определение перспективного тарифа для телеком-компании\n",
    "    \n",
    "<b>Цель проекта: </b> определить, какой тариф приносит больше денег: smart или ultra\n",
    "        \n",
    "<b>Имеющиеся данные: </b>\n",
    "- данные по 500 пользователям\n",
    "- данные с описанием тарифных пакетов\n",
    "- данные по звонкам пользователей\n",
    "- данные по отправленным пользователями сообщениям\n",
    "- данные по использованному пользователями трафику\n",
    "\n",
    "<b>План работы: </b>\n",
    "- загрузить и изучить данные\n",
    "- исправить ошибки в данных, если таковые есть\n",
    "- создать единую сводную таблицу по активности пользователей и условиям тарифов\n",
    "- провести анализ данных по звонкам, смс и трафику пользователей в зависимости от их тарифа, описать распределения\n",
    "- проверить гипотезу о равенстве выручки тарифов\n",
    "- проверить гипотезу о равенстве выручки пользователей из Москвы и регионов"
   ]
  },
  {
   "cell_type": "markdown",
   "metadata": {},
   "source": [
    "## Загрузка и первичный анализ данных"
   ]
  },
  {
   "cell_type": "markdown",
   "metadata": {},
   "source": [
    "### Импорт модулей и билиотек"
   ]
  },
  {
   "cell_type": "code",
   "execution_count": 351,
   "metadata": {},
   "outputs": [],
   "source": [
    "import pandas as pd\n",
    "import matplotlib.pyplot as plt\n",
    "import numpy as np\n",
    "from scipy import stats as st"
   ]
  },
  {
   "cell_type": "markdown",
   "metadata": {},
   "source": [
    "### Загрузка данных"
   ]
  },
  {
   "cell_type": "code",
   "execution_count": 352,
   "metadata": {},
   "outputs": [],
   "source": [
    "data_calls = pd.read_csv('/datasets/calls.csv')\n",
    "data_internet = pd.read_csv('/datasets/internet.csv')\n",
    "data_messages = pd.read_csv('/datasets/messages.csv')\n",
    "data_tariffs = pd.read_csv('/datasets/tariffs.csv')\n",
    "data_users = pd.read_csv('/datasets/users.csv')"
   ]
  },
  {
   "cell_type": "markdown",
   "metadata": {},
   "source": [
    "### Первичный взгляд на данные"
   ]
  },
  {
   "cell_type": "code",
   "execution_count": 353,
   "metadata": {},
   "outputs": [
    {
     "name": "stdout",
     "output_type": "stream",
     "text": [
      "(202607, 4)\n"
     ]
    },
    {
     "data": {
      "text/html": [
       "<div>\n",
       "<style scoped>\n",
       "    .dataframe tbody tr th:only-of-type {\n",
       "        vertical-align: middle;\n",
       "    }\n",
       "\n",
       "    .dataframe tbody tr th {\n",
       "        vertical-align: top;\n",
       "    }\n",
       "\n",
       "    .dataframe thead th {\n",
       "        text-align: right;\n",
       "    }\n",
       "</style>\n",
       "<table border=\"1\" class=\"dataframe\">\n",
       "  <thead>\n",
       "    <tr style=\"text-align: right;\">\n",
       "      <th></th>\n",
       "      <th>id</th>\n",
       "      <th>call_date</th>\n",
       "      <th>duration</th>\n",
       "      <th>user_id</th>\n",
       "    </tr>\n",
       "  </thead>\n",
       "  <tbody>\n",
       "    <tr>\n",
       "      <th>150315</th>\n",
       "      <td>1377_1162</td>\n",
       "      <td>2018-06-29</td>\n",
       "      <td>22.52</td>\n",
       "      <td>1377</td>\n",
       "    </tr>\n",
       "    <tr>\n",
       "      <th>114641</th>\n",
       "      <td>1293_57</td>\n",
       "      <td>2018-09-14</td>\n",
       "      <td>0.00</td>\n",
       "      <td>1293</td>\n",
       "    </tr>\n",
       "  </tbody>\n",
       "</table>\n",
       "</div>"
      ],
      "text/plain": [
       "               id   call_date  duration  user_id\n",
       "150315  1377_1162  2018-06-29     22.52     1377\n",
       "114641    1293_57  2018-09-14      0.00     1293"
      ]
     },
     "metadata": {},
     "output_type": "display_data"
    },
    {
     "name": "stdout",
     "output_type": "stream",
     "text": [
      "(149396, 5)\n"
     ]
    },
    {
     "data": {
      "text/html": [
       "<div>\n",
       "<style scoped>\n",
       "    .dataframe tbody tr th:only-of-type {\n",
       "        vertical-align: middle;\n",
       "    }\n",
       "\n",
       "    .dataframe tbody tr th {\n",
       "        vertical-align: top;\n",
       "    }\n",
       "\n",
       "    .dataframe thead th {\n",
       "        text-align: right;\n",
       "    }\n",
       "</style>\n",
       "<table border=\"1\" class=\"dataframe\">\n",
       "  <thead>\n",
       "    <tr style=\"text-align: right;\">\n",
       "      <th></th>\n",
       "      <th>Unnamed: 0</th>\n",
       "      <th>id</th>\n",
       "      <th>mb_used</th>\n",
       "      <th>session_date</th>\n",
       "      <th>user_id</th>\n",
       "    </tr>\n",
       "  </thead>\n",
       "  <tbody>\n",
       "    <tr>\n",
       "      <th>113166</th>\n",
       "      <td>113166</td>\n",
       "      <td>1382_159</td>\n",
       "      <td>603.08</td>\n",
       "      <td>2018-04-08</td>\n",
       "      <td>1382</td>\n",
       "    </tr>\n",
       "    <tr>\n",
       "      <th>119524</th>\n",
       "      <td>119524</td>\n",
       "      <td>1403_79</td>\n",
       "      <td>161.52</td>\n",
       "      <td>2018-06-09</td>\n",
       "      <td>1403</td>\n",
       "    </tr>\n",
       "  </tbody>\n",
       "</table>\n",
       "</div>"
      ],
      "text/plain": [
       "        Unnamed: 0        id  mb_used session_date  user_id\n",
       "113166      113166  1382_159   603.08   2018-04-08     1382\n",
       "119524      119524   1403_79   161.52   2018-06-09     1403"
      ]
     },
     "metadata": {},
     "output_type": "display_data"
    },
    {
     "name": "stdout",
     "output_type": "stream",
     "text": [
      "(123036, 3)\n"
     ]
    },
    {
     "data": {
      "text/html": [
       "<div>\n",
       "<style scoped>\n",
       "    .dataframe tbody tr th:only-of-type {\n",
       "        vertical-align: middle;\n",
       "    }\n",
       "\n",
       "    .dataframe tbody tr th {\n",
       "        vertical-align: top;\n",
       "    }\n",
       "\n",
       "    .dataframe thead th {\n",
       "        text-align: right;\n",
       "    }\n",
       "</style>\n",
       "<table border=\"1\" class=\"dataframe\">\n",
       "  <thead>\n",
       "    <tr style=\"text-align: right;\">\n",
       "      <th></th>\n",
       "      <th>id</th>\n",
       "      <th>message_date</th>\n",
       "      <th>user_id</th>\n",
       "    </tr>\n",
       "  </thead>\n",
       "  <tbody>\n",
       "    <tr>\n",
       "      <th>94306</th>\n",
       "      <td>1385_1015</td>\n",
       "      <td>2018-05-12</td>\n",
       "      <td>1385</td>\n",
       "    </tr>\n",
       "    <tr>\n",
       "      <th>21958</th>\n",
       "      <td>1092_239</td>\n",
       "      <td>2018-12-05</td>\n",
       "      <td>1092</td>\n",
       "    </tr>\n",
       "  </tbody>\n",
       "</table>\n",
       "</div>"
      ],
      "text/plain": [
       "              id message_date  user_id\n",
       "94306  1385_1015   2018-05-12     1385\n",
       "21958   1092_239   2018-12-05     1092"
      ]
     },
     "metadata": {},
     "output_type": "display_data"
    },
    {
     "name": "stdout",
     "output_type": "stream",
     "text": [
      "(2, 8)\n"
     ]
    },
    {
     "data": {
      "text/html": [
       "<div>\n",
       "<style scoped>\n",
       "    .dataframe tbody tr th:only-of-type {\n",
       "        vertical-align: middle;\n",
       "    }\n",
       "\n",
       "    .dataframe tbody tr th {\n",
       "        vertical-align: top;\n",
       "    }\n",
       "\n",
       "    .dataframe thead th {\n",
       "        text-align: right;\n",
       "    }\n",
       "</style>\n",
       "<table border=\"1\" class=\"dataframe\">\n",
       "  <thead>\n",
       "    <tr style=\"text-align: right;\">\n",
       "      <th></th>\n",
       "      <th>messages_included</th>\n",
       "      <th>mb_per_month_included</th>\n",
       "      <th>minutes_included</th>\n",
       "      <th>rub_monthly_fee</th>\n",
       "      <th>rub_per_gb</th>\n",
       "      <th>rub_per_message</th>\n",
       "      <th>rub_per_minute</th>\n",
       "      <th>tariff_name</th>\n",
       "    </tr>\n",
       "  </thead>\n",
       "  <tbody>\n",
       "    <tr>\n",
       "      <th>0</th>\n",
       "      <td>50</td>\n",
       "      <td>15360</td>\n",
       "      <td>500</td>\n",
       "      <td>550</td>\n",
       "      <td>200</td>\n",
       "      <td>3</td>\n",
       "      <td>3</td>\n",
       "      <td>smart</td>\n",
       "    </tr>\n",
       "    <tr>\n",
       "      <th>1</th>\n",
       "      <td>1000</td>\n",
       "      <td>30720</td>\n",
       "      <td>3000</td>\n",
       "      <td>1950</td>\n",
       "      <td>150</td>\n",
       "      <td>1</td>\n",
       "      <td>1</td>\n",
       "      <td>ultra</td>\n",
       "    </tr>\n",
       "  </tbody>\n",
       "</table>\n",
       "</div>"
      ],
      "text/plain": [
       "   messages_included  mb_per_month_included  minutes_included  \\\n",
       "0                 50                  15360               500   \n",
       "1               1000                  30720              3000   \n",
       "\n",
       "   rub_monthly_fee  rub_per_gb  rub_per_message  rub_per_minute tariff_name  \n",
       "0              550         200                3               3       smart  \n",
       "1             1950         150                1               1       ultra  "
      ]
     },
     "metadata": {},
     "output_type": "display_data"
    },
    {
     "name": "stdout",
     "output_type": "stream",
     "text": [
      "(500, 8)\n"
     ]
    },
    {
     "data": {
      "text/html": [
       "<div>\n",
       "<style scoped>\n",
       "    .dataframe tbody tr th:only-of-type {\n",
       "        vertical-align: middle;\n",
       "    }\n",
       "\n",
       "    .dataframe tbody tr th {\n",
       "        vertical-align: top;\n",
       "    }\n",
       "\n",
       "    .dataframe thead th {\n",
       "        text-align: right;\n",
       "    }\n",
       "</style>\n",
       "<table border=\"1\" class=\"dataframe\">\n",
       "  <thead>\n",
       "    <tr style=\"text-align: right;\">\n",
       "      <th></th>\n",
       "      <th>user_id</th>\n",
       "      <th>age</th>\n",
       "      <th>churn_date</th>\n",
       "      <th>city</th>\n",
       "      <th>first_name</th>\n",
       "      <th>last_name</th>\n",
       "      <th>reg_date</th>\n",
       "      <th>tariff</th>\n",
       "    </tr>\n",
       "  </thead>\n",
       "  <tbody>\n",
       "    <tr>\n",
       "      <th>119</th>\n",
       "      <td>1119</td>\n",
       "      <td>53</td>\n",
       "      <td>NaN</td>\n",
       "      <td>Петрозаводск</td>\n",
       "      <td>Олег</td>\n",
       "      <td>Сухарев</td>\n",
       "      <td>2018-04-22</td>\n",
       "      <td>smart</td>\n",
       "    </tr>\n",
       "    <tr>\n",
       "      <th>238</th>\n",
       "      <td>1238</td>\n",
       "      <td>57</td>\n",
       "      <td>NaN</td>\n",
       "      <td>Ростов-на-Дону</td>\n",
       "      <td>Радислав</td>\n",
       "      <td>Наумов</td>\n",
       "      <td>2018-01-08</td>\n",
       "      <td>smart</td>\n",
       "    </tr>\n",
       "  </tbody>\n",
       "</table>\n",
       "</div>"
      ],
      "text/plain": [
       "     user_id  age churn_date            city first_name last_name    reg_date  \\\n",
       "119     1119   53        NaN    Петрозаводск       Олег   Сухарев  2018-04-22   \n",
       "238     1238   57        NaN  Ростов-на-Дону   Радислав    Наумов  2018-01-08   \n",
       "\n",
       "    tariff  \n",
       "119  smart  \n",
       "238  smart  "
      ]
     },
     "metadata": {},
     "output_type": "display_data"
    }
   ],
   "source": [
    "data_list = [data_calls, data_internet, data_messages, data_tariffs, data_users]\n",
    "for data in data_list:\n",
    "    print(data.shape)\n",
    "    display(data.sample(2))  "
   ]
  },
  {
   "cell_type": "markdown",
   "metadata": {},
   "source": [
    "<b>ВЫВОД:</b> количество признаков варьируется от 4 до 8, в таблице с интернетом выявлен лишний столбец, дублирующий индексы. Удалим лишний столбец, переименуем tariff в tariff_name для удобства и проверим дубликаты и пропуски."
   ]
  },
  {
   "cell_type": "code",
   "execution_count": 354,
   "metadata": {},
   "outputs": [
    {
     "data": {
      "text/html": [
       "<div>\n",
       "<style scoped>\n",
       "    .dataframe tbody tr th:only-of-type {\n",
       "        vertical-align: middle;\n",
       "    }\n",
       "\n",
       "    .dataframe tbody tr th {\n",
       "        vertical-align: top;\n",
       "    }\n",
       "\n",
       "    .dataframe thead th {\n",
       "        text-align: right;\n",
       "    }\n",
       "</style>\n",
       "<table border=\"1\" class=\"dataframe\">\n",
       "  <thead>\n",
       "    <tr style=\"text-align: right;\">\n",
       "      <th></th>\n",
       "      <th>id</th>\n",
       "      <th>mb_used</th>\n",
       "      <th>session_date</th>\n",
       "      <th>user_id</th>\n",
       "    </tr>\n",
       "  </thead>\n",
       "  <tbody>\n",
       "    <tr>\n",
       "      <th>0</th>\n",
       "      <td>1000_0</td>\n",
       "      <td>112.95</td>\n",
       "      <td>2018-11-25</td>\n",
       "      <td>1000</td>\n",
       "    </tr>\n",
       "    <tr>\n",
       "      <th>1</th>\n",
       "      <td>1000_1</td>\n",
       "      <td>1052.81</td>\n",
       "      <td>2018-09-07</td>\n",
       "      <td>1000</td>\n",
       "    </tr>\n",
       "    <tr>\n",
       "      <th>2</th>\n",
       "      <td>1000_2</td>\n",
       "      <td>1197.26</td>\n",
       "      <td>2018-06-25</td>\n",
       "      <td>1000</td>\n",
       "    </tr>\n",
       "  </tbody>\n",
       "</table>\n",
       "</div>"
      ],
      "text/plain": [
       "       id  mb_used session_date  user_id\n",
       "0  1000_0   112.95   2018-11-25     1000\n",
       "1  1000_1  1052.81   2018-09-07     1000\n",
       "2  1000_2  1197.26   2018-06-25     1000"
      ]
     },
     "metadata": {},
     "output_type": "display_data"
    },
    {
     "data": {
      "text/html": [
       "<div>\n",
       "<style scoped>\n",
       "    .dataframe tbody tr th:only-of-type {\n",
       "        vertical-align: middle;\n",
       "    }\n",
       "\n",
       "    .dataframe tbody tr th {\n",
       "        vertical-align: top;\n",
       "    }\n",
       "\n",
       "    .dataframe thead th {\n",
       "        text-align: right;\n",
       "    }\n",
       "</style>\n",
       "<table border=\"1\" class=\"dataframe\">\n",
       "  <thead>\n",
       "    <tr style=\"text-align: right;\">\n",
       "      <th></th>\n",
       "      <th>user_id</th>\n",
       "      <th>age</th>\n",
       "      <th>churn_date</th>\n",
       "      <th>city</th>\n",
       "      <th>first_name</th>\n",
       "      <th>last_name</th>\n",
       "      <th>reg_date</th>\n",
       "      <th>tariff_name</th>\n",
       "    </tr>\n",
       "  </thead>\n",
       "  <tbody>\n",
       "    <tr>\n",
       "      <th>0</th>\n",
       "      <td>1000</td>\n",
       "      <td>52</td>\n",
       "      <td>NaN</td>\n",
       "      <td>Краснодар</td>\n",
       "      <td>Рафаил</td>\n",
       "      <td>Верещагин</td>\n",
       "      <td>2018-05-25</td>\n",
       "      <td>ultra</td>\n",
       "    </tr>\n",
       "    <tr>\n",
       "      <th>1</th>\n",
       "      <td>1001</td>\n",
       "      <td>41</td>\n",
       "      <td>NaN</td>\n",
       "      <td>Москва</td>\n",
       "      <td>Иван</td>\n",
       "      <td>Ежов</td>\n",
       "      <td>2018-11-01</td>\n",
       "      <td>smart</td>\n",
       "    </tr>\n",
       "    <tr>\n",
       "      <th>2</th>\n",
       "      <td>1002</td>\n",
       "      <td>59</td>\n",
       "      <td>NaN</td>\n",
       "      <td>Стерлитамак</td>\n",
       "      <td>Евгений</td>\n",
       "      <td>Абрамович</td>\n",
       "      <td>2018-06-17</td>\n",
       "      <td>smart</td>\n",
       "    </tr>\n",
       "  </tbody>\n",
       "</table>\n",
       "</div>"
      ],
      "text/plain": [
       "   user_id  age churn_date         city first_name  last_name    reg_date  \\\n",
       "0     1000   52        NaN    Краснодар     Рафаил  Верещагин  2018-05-25   \n",
       "1     1001   41        NaN       Москва       Иван       Ежов  2018-11-01   \n",
       "2     1002   59        NaN  Стерлитамак    Евгений  Абрамович  2018-06-17   \n",
       "\n",
       "  tariff_name  \n",
       "0       ultra  \n",
       "1       smart  \n",
       "2       smart  "
      ]
     },
     "metadata": {},
     "output_type": "display_data"
    }
   ],
   "source": [
    "# удалим ненужный столбец в данных с трафиком\n",
    "data_internet.drop('Unnamed: 0', axis = 1, inplace=True)\n",
    "\n",
    "# проверим изменения\n",
    "display(data_internet.head(3))\n",
    "\n",
    "#переименуем столбец \n",
    "data_users = data_users.rename(columns = {'tariff' : 'tariff_name'})\n",
    "display(data_users.head(3))"
   ]
  },
  {
   "cell_type": "markdown",
   "metadata": {},
   "source": [
    "### Проверка данных на дубликаты и пропуски"
   ]
  },
  {
   "cell_type": "code",
   "execution_count": 355,
   "metadata": {},
   "outputs": [
    {
     "data": {
      "text/plain": [
       "0"
      ]
     },
     "metadata": {},
     "output_type": "display_data"
    },
    {
     "data": {
      "text/html": [
       "<div>\n",
       "<style scoped>\n",
       "    .dataframe tbody tr th:only-of-type {\n",
       "        vertical-align: middle;\n",
       "    }\n",
       "\n",
       "    .dataframe tbody tr th {\n",
       "        vertical-align: top;\n",
       "    }\n",
       "\n",
       "    .dataframe thead th {\n",
       "        text-align: right;\n",
       "    }\n",
       "</style>\n",
       "<table border=\"1\" class=\"dataframe\">\n",
       "  <thead>\n",
       "    <tr style=\"text-align: right;\">\n",
       "      <th></th>\n",
       "      <th>0</th>\n",
       "    </tr>\n",
       "  </thead>\n",
       "  <tbody>\n",
       "    <tr>\n",
       "      <th>id</th>\n",
       "      <td>0</td>\n",
       "    </tr>\n",
       "    <tr>\n",
       "      <th>call_date</th>\n",
       "      <td>0</td>\n",
       "    </tr>\n",
       "    <tr>\n",
       "      <th>duration</th>\n",
       "      <td>0</td>\n",
       "    </tr>\n",
       "  </tbody>\n",
       "</table>\n",
       "</div>"
      ],
      "text/plain": [
       "           0\n",
       "id         0\n",
       "call_date  0\n",
       "duration   0"
      ]
     },
     "metadata": {},
     "output_type": "display_data"
    },
    {
     "data": {
      "text/plain": [
       "0"
      ]
     },
     "metadata": {},
     "output_type": "display_data"
    },
    {
     "data": {
      "text/html": [
       "<div>\n",
       "<style scoped>\n",
       "    .dataframe tbody tr th:only-of-type {\n",
       "        vertical-align: middle;\n",
       "    }\n",
       "\n",
       "    .dataframe tbody tr th {\n",
       "        vertical-align: top;\n",
       "    }\n",
       "\n",
       "    .dataframe thead th {\n",
       "        text-align: right;\n",
       "    }\n",
       "</style>\n",
       "<table border=\"1\" class=\"dataframe\">\n",
       "  <thead>\n",
       "    <tr style=\"text-align: right;\">\n",
       "      <th></th>\n",
       "      <th>0</th>\n",
       "    </tr>\n",
       "  </thead>\n",
       "  <tbody>\n",
       "    <tr>\n",
       "      <th>id</th>\n",
       "      <td>0</td>\n",
       "    </tr>\n",
       "    <tr>\n",
       "      <th>mb_used</th>\n",
       "      <td>0</td>\n",
       "    </tr>\n",
       "    <tr>\n",
       "      <th>session_date</th>\n",
       "      <td>0</td>\n",
       "    </tr>\n",
       "  </tbody>\n",
       "</table>\n",
       "</div>"
      ],
      "text/plain": [
       "              0\n",
       "id            0\n",
       "mb_used       0\n",
       "session_date  0"
      ]
     },
     "metadata": {},
     "output_type": "display_data"
    },
    {
     "data": {
      "text/plain": [
       "0"
      ]
     },
     "metadata": {},
     "output_type": "display_data"
    },
    {
     "data": {
      "text/html": [
       "<div>\n",
       "<style scoped>\n",
       "    .dataframe tbody tr th:only-of-type {\n",
       "        vertical-align: middle;\n",
       "    }\n",
       "\n",
       "    .dataframe tbody tr th {\n",
       "        vertical-align: top;\n",
       "    }\n",
       "\n",
       "    .dataframe thead th {\n",
       "        text-align: right;\n",
       "    }\n",
       "</style>\n",
       "<table border=\"1\" class=\"dataframe\">\n",
       "  <thead>\n",
       "    <tr style=\"text-align: right;\">\n",
       "      <th></th>\n",
       "      <th>0</th>\n",
       "    </tr>\n",
       "  </thead>\n",
       "  <tbody>\n",
       "    <tr>\n",
       "      <th>id</th>\n",
       "      <td>0</td>\n",
       "    </tr>\n",
       "    <tr>\n",
       "      <th>message_date</th>\n",
       "      <td>0</td>\n",
       "    </tr>\n",
       "    <tr>\n",
       "      <th>user_id</th>\n",
       "      <td>0</td>\n",
       "    </tr>\n",
       "  </tbody>\n",
       "</table>\n",
       "</div>"
      ],
      "text/plain": [
       "              0\n",
       "id            0\n",
       "message_date  0\n",
       "user_id       0"
      ]
     },
     "metadata": {},
     "output_type": "display_data"
    },
    {
     "data": {
      "text/plain": [
       "0"
      ]
     },
     "metadata": {},
     "output_type": "display_data"
    },
    {
     "data": {
      "text/html": [
       "<div>\n",
       "<style scoped>\n",
       "    .dataframe tbody tr th:only-of-type {\n",
       "        vertical-align: middle;\n",
       "    }\n",
       "\n",
       "    .dataframe tbody tr th {\n",
       "        vertical-align: top;\n",
       "    }\n",
       "\n",
       "    .dataframe thead th {\n",
       "        text-align: right;\n",
       "    }\n",
       "</style>\n",
       "<table border=\"1\" class=\"dataframe\">\n",
       "  <thead>\n",
       "    <tr style=\"text-align: right;\">\n",
       "      <th></th>\n",
       "      <th>0</th>\n",
       "    </tr>\n",
       "  </thead>\n",
       "  <tbody>\n",
       "    <tr>\n",
       "      <th>messages_included</th>\n",
       "      <td>0</td>\n",
       "    </tr>\n",
       "    <tr>\n",
       "      <th>mb_per_month_included</th>\n",
       "      <td>0</td>\n",
       "    </tr>\n",
       "    <tr>\n",
       "      <th>minutes_included</th>\n",
       "      <td>0</td>\n",
       "    </tr>\n",
       "  </tbody>\n",
       "</table>\n",
       "</div>"
      ],
      "text/plain": [
       "                       0\n",
       "messages_included      0\n",
       "mb_per_month_included  0\n",
       "minutes_included       0"
      ]
     },
     "metadata": {},
     "output_type": "display_data"
    },
    {
     "data": {
      "text/plain": [
       "0"
      ]
     },
     "metadata": {},
     "output_type": "display_data"
    },
    {
     "data": {
      "text/html": [
       "<div>\n",
       "<style scoped>\n",
       "    .dataframe tbody tr th:only-of-type {\n",
       "        vertical-align: middle;\n",
       "    }\n",
       "\n",
       "    .dataframe tbody tr th {\n",
       "        vertical-align: top;\n",
       "    }\n",
       "\n",
       "    .dataframe thead th {\n",
       "        text-align: right;\n",
       "    }\n",
       "</style>\n",
       "<table border=\"1\" class=\"dataframe\">\n",
       "  <thead>\n",
       "    <tr style=\"text-align: right;\">\n",
       "      <th></th>\n",
       "      <th>0</th>\n",
       "    </tr>\n",
       "  </thead>\n",
       "  <tbody>\n",
       "    <tr>\n",
       "      <th>churn_date</th>\n",
       "      <td>462</td>\n",
       "    </tr>\n",
       "    <tr>\n",
       "      <th>user_id</th>\n",
       "      <td>0</td>\n",
       "    </tr>\n",
       "    <tr>\n",
       "      <th>age</th>\n",
       "      <td>0</td>\n",
       "    </tr>\n",
       "  </tbody>\n",
       "</table>\n",
       "</div>"
      ],
      "text/plain": [
       "              0\n",
       "churn_date  462\n",
       "user_id       0\n",
       "age           0"
      ]
     },
     "metadata": {},
     "output_type": "display_data"
    }
   ],
   "source": [
    "for data in data_list:\n",
    "    display(data.duplicated().sum())\n",
    "    display(pd.DataFrame(data.isna().sum().sort_values(ascending = False).head(3)))"
   ]
  },
  {
   "cell_type": "markdown",
   "metadata": {},
   "source": [
    "<b>ВЫВОД:</b> дубликатов нет, пропуски только в одном датасете - churn_data - дата, когда пользователь прекратил пользоваться тарифом. Если есть пропуск, значит, он все еще является пользователем. Заполнение пропусков не требуется."
   ]
  },
  {
   "cell_type": "markdown",
   "metadata": {},
   "source": [
    "## Предобработка данных"
   ]
  },
  {
   "cell_type": "markdown",
   "metadata": {},
   "source": [
    "### Замена типов данных"
   ]
  },
  {
   "cell_type": "code",
   "execution_count": 356,
   "metadata": {},
   "outputs": [
    {
     "data": {
      "text/plain": [
       "id                      object\n",
       "mb_used                float64\n",
       "session_date    datetime64[ns]\n",
       "user_id                  int64\n",
       "dtype: object"
      ]
     },
     "execution_count": 356,
     "metadata": {},
     "output_type": "execute_result"
    }
   ],
   "source": [
    "data_internet['session_date'] = pd.to_datetime(data_internet['session_date'])\n",
    "data_calls['call_date'] = pd.to_datetime(data_calls['call_date']) \n",
    "data_messages['message_date'] = pd.to_datetime(data_messages['message_date']) \n",
    "data_users['churn_date'] = pd.to_datetime(data_users['churn_date']) \n",
    "\n",
    "# проверим изменения\n",
    "data_internet.dtypes"
   ]
  },
  {
   "cell_type": "markdown",
   "metadata": {},
   "source": [
    "### Добавление необходимых данных"
   ]
  },
  {
   "cell_type": "code",
   "execution_count": 357,
   "metadata": {},
   "outputs": [
    {
     "data": {
      "text/html": [
       "<div>\n",
       "<style scoped>\n",
       "    .dataframe tbody tr th:only-of-type {\n",
       "        vertical-align: middle;\n",
       "    }\n",
       "\n",
       "    .dataframe tbody tr th {\n",
       "        vertical-align: top;\n",
       "    }\n",
       "\n",
       "    .dataframe thead th {\n",
       "        text-align: right;\n",
       "    }\n",
       "</style>\n",
       "<table border=\"1\" class=\"dataframe\">\n",
       "  <thead>\n",
       "    <tr style=\"text-align: right;\">\n",
       "      <th></th>\n",
       "      <th>id</th>\n",
       "      <th>mb_used</th>\n",
       "      <th>session_date</th>\n",
       "      <th>user_id</th>\n",
       "      <th>month</th>\n",
       "    </tr>\n",
       "  </thead>\n",
       "  <tbody>\n",
       "    <tr>\n",
       "      <th>28400</th>\n",
       "      <td>1099_64</td>\n",
       "      <td>948.52</td>\n",
       "      <td>2018-11-15</td>\n",
       "      <td>1099</td>\n",
       "      <td>11</td>\n",
       "    </tr>\n",
       "    <tr>\n",
       "      <th>113907</th>\n",
       "      <td>1385_115</td>\n",
       "      <td>350.07</td>\n",
       "      <td>2018-12-18</td>\n",
       "      <td>1385</td>\n",
       "      <td>12</td>\n",
       "    </tr>\n",
       "  </tbody>\n",
       "</table>\n",
       "</div>"
      ],
      "text/plain": [
       "              id  mb_used session_date  user_id  month\n",
       "28400    1099_64   948.52   2018-11-15     1099     11\n",
       "113907  1385_115   350.07   2018-12-18     1385     12"
      ]
     },
     "execution_count": 357,
     "metadata": {},
     "output_type": "execute_result"
    }
   ],
   "source": [
    "# создадим столбец с месяцами\n",
    "data_internet['month'] = data_internet['session_date'].dt.month\n",
    "data_calls['month'] = data_calls['call_date'].dt.month\n",
    "data_messages['month'] = data_messages['message_date'].dt.month\n",
    "data_users['churn_date'] = data_users['churn_date'].dt.month\n",
    "\n",
    "# проверим изменения\n",
    "data_internet.sample(2)"
   ]
  },
  {
   "cell_type": "markdown",
   "metadata": {},
   "source": [
    "### Первичная аггрегация таблиц"
   ]
  },
  {
   "cell_type": "code",
   "execution_count": 358,
   "metadata": {},
   "outputs": [
    {
     "data": {
      "text/html": [
       "<div>\n",
       "<style scoped>\n",
       "    .dataframe tbody tr th:only-of-type {\n",
       "        vertical-align: middle;\n",
       "    }\n",
       "\n",
       "    .dataframe tbody tr th {\n",
       "        vertical-align: top;\n",
       "    }\n",
       "\n",
       "    .dataframe thead th {\n",
       "        text-align: right;\n",
       "    }\n",
       "</style>\n",
       "<table border=\"1\" class=\"dataframe\">\n",
       "  <thead>\n",
       "    <tr style=\"text-align: right;\">\n",
       "      <th></th>\n",
       "      <th>user_id</th>\n",
       "      <th>churn_date</th>\n",
       "      <th>city</th>\n",
       "      <th>reg_date</th>\n",
       "      <th>tariff_name</th>\n",
       "      <th>messages_included</th>\n",
       "      <th>mb_per_month_included</th>\n",
       "      <th>minutes_included</th>\n",
       "      <th>rub_monthly_fee</th>\n",
       "      <th>rub_per_gb</th>\n",
       "      <th>rub_per_message</th>\n",
       "      <th>rub_per_minute</th>\n",
       "    </tr>\n",
       "  </thead>\n",
       "  <tbody>\n",
       "    <tr>\n",
       "      <th>112</th>\n",
       "      <td>1380</td>\n",
       "      <td>NaN</td>\n",
       "      <td>Ростов-на-Дону</td>\n",
       "      <td>2018-05-07</td>\n",
       "      <td>ultra</td>\n",
       "      <td>1000</td>\n",
       "      <td>30720</td>\n",
       "      <td>3000</td>\n",
       "      <td>1950</td>\n",
       "      <td>150</td>\n",
       "      <td>1</td>\n",
       "      <td>1</td>\n",
       "    </tr>\n",
       "    <tr>\n",
       "      <th>260</th>\n",
       "      <td>1153</td>\n",
       "      <td>NaN</td>\n",
       "      <td>Ульяновск</td>\n",
       "      <td>2018-10-18</td>\n",
       "      <td>smart</td>\n",
       "      <td>50</td>\n",
       "      <td>15360</td>\n",
       "      <td>500</td>\n",
       "      <td>550</td>\n",
       "      <td>200</td>\n",
       "      <td>3</td>\n",
       "      <td>3</td>\n",
       "    </tr>\n",
       "    <tr>\n",
       "      <th>290</th>\n",
       "      <td>1191</td>\n",
       "      <td>10.0</td>\n",
       "      <td>Набережные Челны</td>\n",
       "      <td>2018-06-30</td>\n",
       "      <td>smart</td>\n",
       "      <td>50</td>\n",
       "      <td>15360</td>\n",
       "      <td>500</td>\n",
       "      <td>550</td>\n",
       "      <td>200</td>\n",
       "      <td>3</td>\n",
       "      <td>3</td>\n",
       "    </tr>\n",
       "  </tbody>\n",
       "</table>\n",
       "</div>"
      ],
      "text/plain": [
       "     user_id  churn_date              city    reg_date tariff_name  \\\n",
       "112     1380         NaN    Ростов-на-Дону  2018-05-07       ultra   \n",
       "260     1153         NaN         Ульяновск  2018-10-18       smart   \n",
       "290     1191        10.0  Набережные Челны  2018-06-30       smart   \n",
       "\n",
       "     messages_included  mb_per_month_included  minutes_included  \\\n",
       "112               1000                  30720              3000   \n",
       "260                 50                  15360               500   \n",
       "290                 50                  15360               500   \n",
       "\n",
       "     rub_monthly_fee  rub_per_gb  rub_per_message  rub_per_minute  \n",
       "112             1950         150                1               1  \n",
       "260              550         200                3               3  \n",
       "290              550         200                3               3  "
      ]
     },
     "execution_count": 358,
     "metadata": {},
     "output_type": "execute_result"
    }
   ],
   "source": [
    "# добавим пользователям тарифные условия\n",
    "data_users = data_users.merge(data_tariffs, on = 'tariff_name')\n",
    "\n",
    "# удалим лишние столбцы\n",
    "data_users.drop(['age', 'first_name', 'last_name'], axis = 1, inplace = True)\n",
    "data_users.sample(3)"
   ]
  },
  {
   "cell_type": "markdown",
   "metadata": {},
   "source": [
    "<b>ПРОМЕЖУТОЧНЫЙ ВЫВОД:</b> теперь переменная data_users хранит инфу по всем клиентам, их тарифам и дефолтным условиям."
   ]
  },
  {
   "cell_type": "code",
   "execution_count": 359,
   "metadata": {},
   "outputs": [
    {
     "data": {
      "text/html": [
       "<div>\n",
       "<style scoped>\n",
       "    .dataframe tbody tr th:only-of-type {\n",
       "        vertical-align: middle;\n",
       "    }\n",
       "\n",
       "    .dataframe tbody tr th {\n",
       "        vertical-align: top;\n",
       "    }\n",
       "\n",
       "    .dataframe thead th {\n",
       "        text-align: right;\n",
       "    }\n",
       "</style>\n",
       "<table border=\"1\" class=\"dataframe\">\n",
       "  <thead>\n",
       "    <tr style=\"text-align: right;\">\n",
       "      <th></th>\n",
       "      <th>id</th>\n",
       "      <th>call_date</th>\n",
       "      <th>duration</th>\n",
       "      <th>user_id</th>\n",
       "      <th>month</th>\n",
       "      <th>churn_date</th>\n",
       "      <th>city</th>\n",
       "      <th>reg_date</th>\n",
       "      <th>tariff_name</th>\n",
       "      <th>minutes_included</th>\n",
       "      <th>rub_monthly_fee</th>\n",
       "      <th>rub_per_minute</th>\n",
       "    </tr>\n",
       "  </thead>\n",
       "  <tbody>\n",
       "    <tr>\n",
       "      <th>43856</th>\n",
       "      <td>1110_138</td>\n",
       "      <td>2018-05-16</td>\n",
       "      <td>11.28</td>\n",
       "      <td>1110</td>\n",
       "      <td>5</td>\n",
       "      <td>NaN</td>\n",
       "      <td>Петрозаводск</td>\n",
       "      <td>2018-05-06</td>\n",
       "      <td>smart</td>\n",
       "      <td>500</td>\n",
       "      <td>550</td>\n",
       "      <td>3</td>\n",
       "    </tr>\n",
       "    <tr>\n",
       "      <th>111855</th>\n",
       "      <td>1287_217</td>\n",
       "      <td>2018-10-09</td>\n",
       "      <td>6.76</td>\n",
       "      <td>1287</td>\n",
       "      <td>10</td>\n",
       "      <td>NaN</td>\n",
       "      <td>Севастополь</td>\n",
       "      <td>2018-09-23</td>\n",
       "      <td>smart</td>\n",
       "      <td>500</td>\n",
       "      <td>550</td>\n",
       "      <td>3</td>\n",
       "    </tr>\n",
       "    <tr>\n",
       "      <th>190151</th>\n",
       "      <td>1468_122</td>\n",
       "      <td>2018-12-11</td>\n",
       "      <td>2.46</td>\n",
       "      <td>1468</td>\n",
       "      <td>12</td>\n",
       "      <td>NaN</td>\n",
       "      <td>Тамбов</td>\n",
       "      <td>2018-02-11</td>\n",
       "      <td>smart</td>\n",
       "      <td>500</td>\n",
       "      <td>550</td>\n",
       "      <td>3</td>\n",
       "    </tr>\n",
       "  </tbody>\n",
       "</table>\n",
       "</div>"
      ],
      "text/plain": [
       "              id  call_date  duration  user_id  month  churn_date  \\\n",
       "43856   1110_138 2018-05-16     11.28     1110      5         NaN   \n",
       "111855  1287_217 2018-10-09      6.76     1287     10         NaN   \n",
       "190151  1468_122 2018-12-11      2.46     1468     12         NaN   \n",
       "\n",
       "                city    reg_date tariff_name  minutes_included  \\\n",
       "43856   Петрозаводск  2018-05-06       smart               500   \n",
       "111855   Севастополь  2018-09-23       smart               500   \n",
       "190151        Тамбов  2018-02-11       smart               500   \n",
       "\n",
       "        rub_monthly_fee  rub_per_minute  \n",
       "43856               550               3  \n",
       "111855              550               3  \n",
       "190151              550               3  "
      ]
     },
     "metadata": {},
     "output_type": "display_data"
    },
    {
     "data": {
      "text/html": [
       "<div>\n",
       "<style scoped>\n",
       "    .dataframe tbody tr th:only-of-type {\n",
       "        vertical-align: middle;\n",
       "    }\n",
       "\n",
       "    .dataframe tbody tr th {\n",
       "        vertical-align: top;\n",
       "    }\n",
       "\n",
       "    .dataframe thead th {\n",
       "        text-align: right;\n",
       "    }\n",
       "</style>\n",
       "<table border=\"1\" class=\"dataframe\">\n",
       "  <thead>\n",
       "    <tr style=\"text-align: right;\">\n",
       "      <th></th>\n",
       "      <th>id</th>\n",
       "      <th>message_date</th>\n",
       "      <th>user_id</th>\n",
       "      <th>month</th>\n",
       "      <th>churn_date</th>\n",
       "      <th>city</th>\n",
       "      <th>reg_date</th>\n",
       "      <th>tariff_name</th>\n",
       "      <th>messages_included</th>\n",
       "      <th>rub_monthly_fee</th>\n",
       "      <th>rub_per_message</th>\n",
       "    </tr>\n",
       "  </thead>\n",
       "  <tbody>\n",
       "    <tr>\n",
       "      <th>20024</th>\n",
       "      <td>1089_27</td>\n",
       "      <td>2018-05-16</td>\n",
       "      <td>1089</td>\n",
       "      <td>5</td>\n",
       "      <td>NaN</td>\n",
       "      <td>Иркутск</td>\n",
       "      <td>2018-02-24</td>\n",
       "      <td>ultra</td>\n",
       "      <td>1000</td>\n",
       "      <td>1950</td>\n",
       "      <td>1</td>\n",
       "    </tr>\n",
       "    <tr>\n",
       "      <th>22592</th>\n",
       "      <td>1094_40</td>\n",
       "      <td>2018-12-17</td>\n",
       "      <td>1094</td>\n",
       "      <td>12</td>\n",
       "      <td>NaN</td>\n",
       "      <td>Новосибирск</td>\n",
       "      <td>2018-05-28</td>\n",
       "      <td>ultra</td>\n",
       "      <td>1000</td>\n",
       "      <td>1950</td>\n",
       "      <td>1</td>\n",
       "    </tr>\n",
       "    <tr>\n",
       "      <th>97569</th>\n",
       "      <td>1400_141</td>\n",
       "      <td>2018-12-24</td>\n",
       "      <td>1400</td>\n",
       "      <td>12</td>\n",
       "      <td>NaN</td>\n",
       "      <td>Москва</td>\n",
       "      <td>2018-08-24</td>\n",
       "      <td>smart</td>\n",
       "      <td>50</td>\n",
       "      <td>550</td>\n",
       "      <td>3</td>\n",
       "    </tr>\n",
       "  </tbody>\n",
       "</table>\n",
       "</div>"
      ],
      "text/plain": [
       "             id message_date  user_id  month  churn_date         city  \\\n",
       "20024   1089_27   2018-05-16     1089      5         NaN      Иркутск   \n",
       "22592   1094_40   2018-12-17     1094     12         NaN  Новосибирск   \n",
       "97569  1400_141   2018-12-24     1400     12         NaN       Москва   \n",
       "\n",
       "         reg_date tariff_name  messages_included  rub_monthly_fee  \\\n",
       "20024  2018-02-24       ultra               1000             1950   \n",
       "22592  2018-05-28       ultra               1000             1950   \n",
       "97569  2018-08-24       smart                 50              550   \n",
       "\n",
       "       rub_per_message  \n",
       "20024                1  \n",
       "22592                1  \n",
       "97569                3  "
      ]
     },
     "metadata": {},
     "output_type": "display_data"
    },
    {
     "data": {
      "text/html": [
       "<div>\n",
       "<style scoped>\n",
       "    .dataframe tbody tr th:only-of-type {\n",
       "        vertical-align: middle;\n",
       "    }\n",
       "\n",
       "    .dataframe tbody tr th {\n",
       "        vertical-align: top;\n",
       "    }\n",
       "\n",
       "    .dataframe thead th {\n",
       "        text-align: right;\n",
       "    }\n",
       "</style>\n",
       "<table border=\"1\" class=\"dataframe\">\n",
       "  <thead>\n",
       "    <tr style=\"text-align: right;\">\n",
       "      <th></th>\n",
       "      <th>id</th>\n",
       "      <th>mb_used</th>\n",
       "      <th>session_date</th>\n",
       "      <th>user_id</th>\n",
       "      <th>month</th>\n",
       "      <th>churn_date</th>\n",
       "      <th>city</th>\n",
       "      <th>reg_date</th>\n",
       "      <th>tariff_name</th>\n",
       "      <th>mb_per_month_included</th>\n",
       "      <th>rub_monthly_fee</th>\n",
       "      <th>rub_per_gb</th>\n",
       "    </tr>\n",
       "  </thead>\n",
       "  <tbody>\n",
       "    <tr>\n",
       "      <th>122827</th>\n",
       "      <td>1413_232</td>\n",
       "      <td>0.00</td>\n",
       "      <td>2018-12-30</td>\n",
       "      <td>1413</td>\n",
       "      <td>12</td>\n",
       "      <td>NaN</td>\n",
       "      <td>Новосибирск</td>\n",
       "      <td>2018-08-19</td>\n",
       "      <td>smart</td>\n",
       "      <td>15360</td>\n",
       "      <td>550</td>\n",
       "      <td>200</td>\n",
       "    </tr>\n",
       "    <tr>\n",
       "      <th>24187</th>\n",
       "      <td>1083_67</td>\n",
       "      <td>662.53</td>\n",
       "      <td>2018-09-20</td>\n",
       "      <td>1083</td>\n",
       "      <td>9</td>\n",
       "      <td>NaN</td>\n",
       "      <td>Сочи</td>\n",
       "      <td>2018-04-24</td>\n",
       "      <td>smart</td>\n",
       "      <td>15360</td>\n",
       "      <td>550</td>\n",
       "      <td>200</td>\n",
       "    </tr>\n",
       "    <tr>\n",
       "      <th>57706</th>\n",
       "      <td>1193_245</td>\n",
       "      <td>567.59</td>\n",
       "      <td>2018-09-20</td>\n",
       "      <td>1193</td>\n",
       "      <td>9</td>\n",
       "      <td>NaN</td>\n",
       "      <td>Тамбов</td>\n",
       "      <td>2018-01-01</td>\n",
       "      <td>smart</td>\n",
       "      <td>15360</td>\n",
       "      <td>550</td>\n",
       "      <td>200</td>\n",
       "    </tr>\n",
       "  </tbody>\n",
       "</table>\n",
       "</div>"
      ],
      "text/plain": [
       "              id  mb_used session_date  user_id  month  churn_date  \\\n",
       "122827  1413_232     0.00   2018-12-30     1413     12         NaN   \n",
       "24187    1083_67   662.53   2018-09-20     1083      9         NaN   \n",
       "57706   1193_245   567.59   2018-09-20     1193      9         NaN   \n",
       "\n",
       "               city    reg_date tariff_name  mb_per_month_included  \\\n",
       "122827  Новосибирск  2018-08-19       smart                  15360   \n",
       "24187          Сочи  2018-04-24       smart                  15360   \n",
       "57706        Тамбов  2018-01-01       smart                  15360   \n",
       "\n",
       "        rub_monthly_fee  rub_per_gb  \n",
       "122827              550         200  \n",
       "24187               550         200  \n",
       "57706               550         200  "
      ]
     },
     "metadata": {},
     "output_type": "display_data"
    }
   ],
   "source": [
    "# аггрегируем все данные активности с пользователями\n",
    "data_calls = data_calls.merge(data_users, on = 'user_id')\n",
    "data_messages = data_messages.merge(data_users, on = 'user_id')\n",
    "data_internet = data_internet.merge(data_users, on = 'user_id')\n",
    "\n",
    "# удалим лишние столбцы\n",
    "data_calls.drop(['messages_included', 'mb_per_month_included', 'rub_per_gb','rub_per_message'], axis =1, inplace = True)\n",
    "data_messages.drop(['minutes_included', 'mb_per_month_included', 'rub_per_gb','rub_per_minute'], axis =1, inplace = True)\n",
    "data_internet.drop(['messages_included', 'minutes_included', 'rub_per_minute','rub_per_message'], axis =1, inplace = True)\n",
    "\n",
    "# проверим данные\n",
    "display(data_calls.sample(3))\n",
    "display(data_messages.sample(3))\n",
    "display(data_internet.sample(3))"
   ]
  },
  {
   "cell_type": "markdown",
   "metadata": {},
   "source": [
    "### Аггрегация звонков пользователей и расчет лишних минут"
   ]
  },
  {
   "cell_type": "code",
   "execution_count": 360,
   "metadata": {},
   "outputs": [
    {
     "data": {
      "text/html": [
       "<div>\n",
       "<style scoped>\n",
       "    .dataframe tbody tr th:only-of-type {\n",
       "        vertical-align: middle;\n",
       "    }\n",
       "\n",
       "    .dataframe tbody tr th {\n",
       "        vertical-align: top;\n",
       "    }\n",
       "\n",
       "    .dataframe thead th {\n",
       "        text-align: right;\n",
       "    }\n",
       "</style>\n",
       "<table border=\"1\" class=\"dataframe\">\n",
       "  <thead>\n",
       "    <tr style=\"text-align: right;\">\n",
       "      <th></th>\n",
       "      <th>id</th>\n",
       "      <th>call_date</th>\n",
       "      <th>duration</th>\n",
       "      <th>user_id</th>\n",
       "      <th>month</th>\n",
       "      <th>churn_date</th>\n",
       "      <th>city</th>\n",
       "      <th>reg_date</th>\n",
       "      <th>tariff_name</th>\n",
       "      <th>minutes_included</th>\n",
       "      <th>rub_monthly_fee</th>\n",
       "      <th>rub_per_minute</th>\n",
       "    </tr>\n",
       "  </thead>\n",
       "  <tbody>\n",
       "    <tr>\n",
       "      <th>156572</th>\n",
       "      <td>1386_87</td>\n",
       "      <td>2018-11-16</td>\n",
       "      <td>12.0</td>\n",
       "      <td>1386</td>\n",
       "      <td>11</td>\n",
       "      <td>NaN</td>\n",
       "      <td>Новосибирск</td>\n",
       "      <td>2018-08-13</td>\n",
       "      <td>smart</td>\n",
       "      <td>500</td>\n",
       "      <td>550</td>\n",
       "      <td>3</td>\n",
       "    </tr>\n",
       "    <tr>\n",
       "      <th>99901</th>\n",
       "      <td>1254_331</td>\n",
       "      <td>2018-02-11</td>\n",
       "      <td>1.0</td>\n",
       "      <td>1254</td>\n",
       "      <td>2</td>\n",
       "      <td>8.0</td>\n",
       "      <td>Москва</td>\n",
       "      <td>2018-01-04</td>\n",
       "      <td>ultra</td>\n",
       "      <td>3000</td>\n",
       "      <td>1950</td>\n",
       "      <td>1</td>\n",
       "    </tr>\n",
       "    <tr>\n",
       "      <th>74216</th>\n",
       "      <td>1186_38</td>\n",
       "      <td>2018-07-10</td>\n",
       "      <td>4.0</td>\n",
       "      <td>1186</td>\n",
       "      <td>7</td>\n",
       "      <td>NaN</td>\n",
       "      <td>Самара</td>\n",
       "      <td>2018-02-02</td>\n",
       "      <td>smart</td>\n",
       "      <td>500</td>\n",
       "      <td>550</td>\n",
       "      <td>3</td>\n",
       "    </tr>\n",
       "  </tbody>\n",
       "</table>\n",
       "</div>"
      ],
      "text/plain": [
       "              id  call_date  duration  user_id  month  churn_date  \\\n",
       "156572   1386_87 2018-11-16      12.0     1386     11         NaN   \n",
       "99901   1254_331 2018-02-11       1.0     1254      2         8.0   \n",
       "74216    1186_38 2018-07-10       4.0     1186      7         NaN   \n",
       "\n",
       "               city    reg_date tariff_name  minutes_included  \\\n",
       "156572  Новосибирск  2018-08-13       smart               500   \n",
       "99901        Москва  2018-01-04       ultra              3000   \n",
       "74216        Самара  2018-02-02       smart               500   \n",
       "\n",
       "        rub_monthly_fee  rub_per_minute  \n",
       "156572              550               3  \n",
       "99901              1950               1  \n",
       "74216               550               3  "
      ]
     },
     "execution_count": 360,
     "metadata": {},
     "output_type": "execute_result"
    }
   ],
   "source": [
    "# округлим звонки согласно условию\n",
    "data_calls['duration'] = np.ceil(data_calls['duration'])\n",
    "\n",
    "# проверим изменения\n",
    "data_calls.sample(3)"
   ]
  },
  {
   "cell_type": "code",
   "execution_count": 361,
   "metadata": {},
   "outputs": [
    {
     "data": {
      "text/html": [
       "<div>\n",
       "<style scoped>\n",
       "    .dataframe tbody tr th:only-of-type {\n",
       "        vertical-align: middle;\n",
       "    }\n",
       "\n",
       "    .dataframe tbody tr th {\n",
       "        vertical-align: top;\n",
       "    }\n",
       "\n",
       "    .dataframe thead th {\n",
       "        text-align: right;\n",
       "    }\n",
       "</style>\n",
       "<table border=\"1\" class=\"dataframe\">\n",
       "  <thead>\n",
       "    <tr style=\"text-align: right;\">\n",
       "      <th></th>\n",
       "      <th></th>\n",
       "      <th>duration</th>\n",
       "      <th>calls_number</th>\n",
       "      <th>minutes_included</th>\n",
       "      <th>rub_monthly_fee</th>\n",
       "      <th>rub_per_minute</th>\n",
       "      <th>tariff_name</th>\n",
       "      <th>city</th>\n",
       "    </tr>\n",
       "    <tr>\n",
       "      <th>user_id</th>\n",
       "      <th>month</th>\n",
       "      <th></th>\n",
       "      <th></th>\n",
       "      <th></th>\n",
       "      <th></th>\n",
       "      <th></th>\n",
       "      <th></th>\n",
       "      <th></th>\n",
       "    </tr>\n",
       "  </thead>\n",
       "  <tbody>\n",
       "    <tr>\n",
       "      <th rowspan=\"3\" valign=\"top\">1000</th>\n",
       "      <th>5</th>\n",
       "      <td>159.0</td>\n",
       "      <td>22</td>\n",
       "      <td>3000</td>\n",
       "      <td>1950</td>\n",
       "      <td>1</td>\n",
       "      <td>ultra</td>\n",
       "      <td>Краснодар</td>\n",
       "    </tr>\n",
       "    <tr>\n",
       "      <th>6</th>\n",
       "      <td>172.0</td>\n",
       "      <td>43</td>\n",
       "      <td>3000</td>\n",
       "      <td>1950</td>\n",
       "      <td>1</td>\n",
       "      <td>ultra</td>\n",
       "      <td>Краснодар</td>\n",
       "    </tr>\n",
       "    <tr>\n",
       "      <th>7</th>\n",
       "      <td>340.0</td>\n",
       "      <td>47</td>\n",
       "      <td>3000</td>\n",
       "      <td>1950</td>\n",
       "      <td>1</td>\n",
       "      <td>ultra</td>\n",
       "      <td>Краснодар</td>\n",
       "    </tr>\n",
       "  </tbody>\n",
       "</table>\n",
       "</div>"
      ],
      "text/plain": [
       "               duration  calls_number  minutes_included  rub_monthly_fee  \\\n",
       "user_id month                                                              \n",
       "1000    5         159.0            22              3000             1950   \n",
       "        6         172.0            43              3000             1950   \n",
       "        7         340.0            47              3000             1950   \n",
       "\n",
       "               rub_per_minute tariff_name       city  \n",
       "user_id month                                         \n",
       "1000    5                   1       ultra  Краснодар  \n",
       "        6                   1       ultra  Краснодар  \n",
       "        7                   1       ultra  Краснодар  "
      ]
     },
     "metadata": {},
     "output_type": "display_data"
    },
    {
     "data": {
      "text/html": [
       "<div>\n",
       "<style scoped>\n",
       "    .dataframe tbody tr th:only-of-type {\n",
       "        vertical-align: middle;\n",
       "    }\n",
       "\n",
       "    .dataframe tbody tr th {\n",
       "        vertical-align: top;\n",
       "    }\n",
       "\n",
       "    .dataframe thead th {\n",
       "        text-align: right;\n",
       "    }\n",
       "</style>\n",
       "<table border=\"1\" class=\"dataframe\">\n",
       "  <thead>\n",
       "    <tr style=\"text-align: right;\">\n",
       "      <th></th>\n",
       "      <th></th>\n",
       "      <th>duration</th>\n",
       "      <th>calls_number</th>\n",
       "      <th>minutes_included</th>\n",
       "      <th>rub_monthly_fee</th>\n",
       "      <th>rub_per_minute</th>\n",
       "      <th>tariff_name</th>\n",
       "      <th>city</th>\n",
       "      <th>excess_minutes</th>\n",
       "    </tr>\n",
       "    <tr>\n",
       "      <th>user_id</th>\n",
       "      <th>month</th>\n",
       "      <th></th>\n",
       "      <th></th>\n",
       "      <th></th>\n",
       "      <th></th>\n",
       "      <th></th>\n",
       "      <th></th>\n",
       "      <th></th>\n",
       "      <th></th>\n",
       "    </tr>\n",
       "  </thead>\n",
       "  <tbody>\n",
       "    <tr>\n",
       "      <th rowspan=\"3\" valign=\"top\">1000</th>\n",
       "      <th>5</th>\n",
       "      <td>159.0</td>\n",
       "      <td>22</td>\n",
       "      <td>3000</td>\n",
       "      <td>1950</td>\n",
       "      <td>1</td>\n",
       "      <td>ultra</td>\n",
       "      <td>Краснодар</td>\n",
       "      <td>0.0</td>\n",
       "    </tr>\n",
       "    <tr>\n",
       "      <th>6</th>\n",
       "      <td>172.0</td>\n",
       "      <td>43</td>\n",
       "      <td>3000</td>\n",
       "      <td>1950</td>\n",
       "      <td>1</td>\n",
       "      <td>ultra</td>\n",
       "      <td>Краснодар</td>\n",
       "      <td>0.0</td>\n",
       "    </tr>\n",
       "    <tr>\n",
       "      <th>7</th>\n",
       "      <td>340.0</td>\n",
       "      <td>47</td>\n",
       "      <td>3000</td>\n",
       "      <td>1950</td>\n",
       "      <td>1</td>\n",
       "      <td>ultra</td>\n",
       "      <td>Краснодар</td>\n",
       "      <td>0.0</td>\n",
       "    </tr>\n",
       "  </tbody>\n",
       "</table>\n",
       "</div>"
      ],
      "text/plain": [
       "               duration  calls_number  minutes_included  rub_monthly_fee  \\\n",
       "user_id month                                                              \n",
       "1000    5         159.0            22              3000             1950   \n",
       "        6         172.0            43              3000             1950   \n",
       "        7         340.0            47              3000             1950   \n",
       "\n",
       "               rub_per_minute tariff_name       city  excess_minutes  \n",
       "user_id month                                                         \n",
       "1000    5                   1       ultra  Краснодар             0.0  \n",
       "        6                   1       ultra  Краснодар             0.0  \n",
       "        7                   1       ultra  Краснодар             0.0  "
      ]
     },
     "execution_count": 361,
     "metadata": {},
     "output_type": "execute_result"
    }
   ],
   "source": [
    "# аггрегируем звонки по месяцам\n",
    "total_calls = pd.DataFrame(data_calls.groupby(['user_id','month']).agg({'duration' : 'sum',\n",
    "                                                                        'call_date' : 'count',\n",
    "                                                                       'minutes_included':'first',\n",
    "                                                                       'rub_monthly_fee': 'first',\n",
    "                                                                        'rub_per_minute' : 'first',\n",
    "                                                                       'tariff_name':'first', 'city':'first'}))\n",
    "# поправим название столбца\n",
    "total_calls = total_calls.rename(columns = {'call_date' : 'calls_number'})\n",
    "\n",
    "# проверим результат\n",
    "display(total_calls.head(3))\n",
    "\n",
    "# добавим столбец с излишками минут\n",
    "total_calls['excess_minutes'] = total_calls['minutes_included'] - total_calls['duration']\n",
    "\n",
    "# поправим значения излишков\n",
    "def correct_excess(value):\n",
    "    excess = value\n",
    "    if excess > 0:\n",
    "        return 0\n",
    "    else:\n",
    "        return abs(value)\n",
    "total_calls['excess_minutes'] = total_calls['excess_minutes'].apply(correct_excess)\n",
    "\n",
    "# проверим изменения\n",
    "total_calls.head(3)"
   ]
  },
  {
   "cell_type": "markdown",
   "metadata": {},
   "source": [
    "### Аггрегация смс пользователей и подсчет смс вне тарифного пакета"
   ]
  },
  {
   "cell_type": "code",
   "execution_count": 362,
   "metadata": {},
   "outputs": [
    {
     "data": {
      "text/html": [
       "<div>\n",
       "<style scoped>\n",
       "    .dataframe tbody tr th:only-of-type {\n",
       "        vertical-align: middle;\n",
       "    }\n",
       "\n",
       "    .dataframe tbody tr th {\n",
       "        vertical-align: top;\n",
       "    }\n",
       "\n",
       "    .dataframe thead th {\n",
       "        text-align: right;\n",
       "    }\n",
       "</style>\n",
       "<table border=\"1\" class=\"dataframe\">\n",
       "  <thead>\n",
       "    <tr style=\"text-align: right;\">\n",
       "      <th></th>\n",
       "      <th></th>\n",
       "      <th>message_count</th>\n",
       "      <th>messages_included</th>\n",
       "      <th>rub_per_message</th>\n",
       "    </tr>\n",
       "    <tr>\n",
       "      <th>user_id</th>\n",
       "      <th>month</th>\n",
       "      <th></th>\n",
       "      <th></th>\n",
       "      <th></th>\n",
       "    </tr>\n",
       "  </thead>\n",
       "  <tbody>\n",
       "    <tr>\n",
       "      <th rowspan=\"3\" valign=\"top\">1000</th>\n",
       "      <th>5</th>\n",
       "      <td>22</td>\n",
       "      <td>1000</td>\n",
       "      <td>1</td>\n",
       "    </tr>\n",
       "    <tr>\n",
       "      <th>6</th>\n",
       "      <td>60</td>\n",
       "      <td>1000</td>\n",
       "      <td>1</td>\n",
       "    </tr>\n",
       "    <tr>\n",
       "      <th>7</th>\n",
       "      <td>75</td>\n",
       "      <td>1000</td>\n",
       "      <td>1</td>\n",
       "    </tr>\n",
       "  </tbody>\n",
       "</table>\n",
       "</div>"
      ],
      "text/plain": [
       "               message_count  messages_included  rub_per_message\n",
       "user_id month                                                   \n",
       "1000    5                 22               1000                1\n",
       "        6                 60               1000                1\n",
       "        7                 75               1000                1"
      ]
     },
     "metadata": {},
     "output_type": "display_data"
    },
    {
     "data": {
      "text/html": [
       "<div>\n",
       "<style scoped>\n",
       "    .dataframe tbody tr th:only-of-type {\n",
       "        vertical-align: middle;\n",
       "    }\n",
       "\n",
       "    .dataframe tbody tr th {\n",
       "        vertical-align: top;\n",
       "    }\n",
       "\n",
       "    .dataframe thead th {\n",
       "        text-align: right;\n",
       "    }\n",
       "</style>\n",
       "<table border=\"1\" class=\"dataframe\">\n",
       "  <thead>\n",
       "    <tr style=\"text-align: right;\">\n",
       "      <th></th>\n",
       "      <th></th>\n",
       "      <th>message_count</th>\n",
       "      <th>messages_included</th>\n",
       "      <th>rub_per_message</th>\n",
       "      <th>excess_messages</th>\n",
       "    </tr>\n",
       "    <tr>\n",
       "      <th>user_id</th>\n",
       "      <th>month</th>\n",
       "      <th></th>\n",
       "      <th></th>\n",
       "      <th></th>\n",
       "      <th></th>\n",
       "    </tr>\n",
       "  </thead>\n",
       "  <tbody>\n",
       "    <tr>\n",
       "      <th rowspan=\"3\" valign=\"top\">1000</th>\n",
       "      <th>5</th>\n",
       "      <td>22</td>\n",
       "      <td>1000</td>\n",
       "      <td>1</td>\n",
       "      <td>0</td>\n",
       "    </tr>\n",
       "    <tr>\n",
       "      <th>6</th>\n",
       "      <td>60</td>\n",
       "      <td>1000</td>\n",
       "      <td>1</td>\n",
       "      <td>0</td>\n",
       "    </tr>\n",
       "    <tr>\n",
       "      <th>7</th>\n",
       "      <td>75</td>\n",
       "      <td>1000</td>\n",
       "      <td>1</td>\n",
       "      <td>0</td>\n",
       "    </tr>\n",
       "  </tbody>\n",
       "</table>\n",
       "</div>"
      ],
      "text/plain": [
       "               message_count  messages_included  rub_per_message  \\\n",
       "user_id month                                                      \n",
       "1000    5                 22               1000                1   \n",
       "        6                 60               1000                1   \n",
       "        7                 75               1000                1   \n",
       "\n",
       "               excess_messages  \n",
       "user_id month                   \n",
       "1000    5                    0  \n",
       "        6                    0  \n",
       "        7                    0  "
      ]
     },
     "execution_count": 362,
     "metadata": {},
     "output_type": "execute_result"
    }
   ],
   "source": [
    "# аггрегируем количество смс по месяцам\n",
    "total_messages = pd.DataFrame(data_messages.groupby(['user_id','month']).agg({'message_date' : 'count',\n",
    "                                                                       'messages_included':'first',\n",
    "                                                                             'rub_per_message' : 'first'}))\n",
    "\n",
    "total_messages = total_messages.rename(columns = {'message_date':'message_count'})\n",
    "\n",
    "# проверим данные\n",
    "display(total_messages.head(3))\n",
    "\n",
    "# добавим столбец с излишками смс\n",
    "total_messages['excess_messages'] = total_messages['messages_included'] - total_messages['message_count']\n",
    "\n",
    "# поправим излишки\n",
    "total_messages['excess_messages'] = total_messages['excess_messages'].apply(correct_excess)\n",
    "\n",
    "# проверим данные\n",
    "total_messages.head(3)"
   ]
  },
  {
   "cell_type": "markdown",
   "metadata": {},
   "source": [
    "### Аггрегация трафика пользователей и подсчет трафика вне тарифного пакета"
   ]
  },
  {
   "cell_type": "code",
   "execution_count": 363,
   "metadata": {},
   "outputs": [
    {
     "data": {
      "text/html": [
       "<div>\n",
       "<style scoped>\n",
       "    .dataframe tbody tr th:only-of-type {\n",
       "        vertical-align: middle;\n",
       "    }\n",
       "\n",
       "    .dataframe tbody tr th {\n",
       "        vertical-align: top;\n",
       "    }\n",
       "\n",
       "    .dataframe thead th {\n",
       "        text-align: right;\n",
       "    }\n",
       "</style>\n",
       "<table border=\"1\" class=\"dataframe\">\n",
       "  <thead>\n",
       "    <tr style=\"text-align: right;\">\n",
       "      <th></th>\n",
       "      <th></th>\n",
       "      <th>mb_used</th>\n",
       "      <th>mb_per_month_included</th>\n",
       "      <th>rub_per_gb</th>\n",
       "    </tr>\n",
       "    <tr>\n",
       "      <th>user_id</th>\n",
       "      <th>month</th>\n",
       "      <th></th>\n",
       "      <th></th>\n",
       "      <th></th>\n",
       "    </tr>\n",
       "  </thead>\n",
       "  <tbody>\n",
       "    <tr>\n",
       "      <th rowspan=\"3\" valign=\"top\">1000</th>\n",
       "      <th>5</th>\n",
       "      <td>2253.49</td>\n",
       "      <td>30720</td>\n",
       "      <td>150</td>\n",
       "    </tr>\n",
       "    <tr>\n",
       "      <th>6</th>\n",
       "      <td>23233.77</td>\n",
       "      <td>30720</td>\n",
       "      <td>150</td>\n",
       "    </tr>\n",
       "    <tr>\n",
       "      <th>7</th>\n",
       "      <td>14003.64</td>\n",
       "      <td>30720</td>\n",
       "      <td>150</td>\n",
       "    </tr>\n",
       "  </tbody>\n",
       "</table>\n",
       "</div>"
      ],
      "text/plain": [
       "                mb_used  mb_per_month_included  rub_per_gb\n",
       "user_id month                                             \n",
       "1000    5       2253.49                  30720         150\n",
       "        6      23233.77                  30720         150\n",
       "        7      14003.64                  30720         150"
      ]
     },
     "metadata": {},
     "output_type": "display_data"
    },
    {
     "data": {
      "text/html": [
       "<div>\n",
       "<style scoped>\n",
       "    .dataframe tbody tr th:only-of-type {\n",
       "        vertical-align: middle;\n",
       "    }\n",
       "\n",
       "    .dataframe tbody tr th {\n",
       "        vertical-align: top;\n",
       "    }\n",
       "\n",
       "    .dataframe thead th {\n",
       "        text-align: right;\n",
       "    }\n",
       "</style>\n",
       "<table border=\"1\" class=\"dataframe\">\n",
       "  <thead>\n",
       "    <tr style=\"text-align: right;\">\n",
       "      <th></th>\n",
       "      <th></th>\n",
       "      <th>mb_used</th>\n",
       "      <th>mb_per_month_included</th>\n",
       "      <th>rub_per_gb</th>\n",
       "      <th>excess_mb</th>\n",
       "      <th>excess_gb</th>\n",
       "    </tr>\n",
       "    <tr>\n",
       "      <th>user_id</th>\n",
       "      <th>month</th>\n",
       "      <th></th>\n",
       "      <th></th>\n",
       "      <th></th>\n",
       "      <th></th>\n",
       "      <th></th>\n",
       "    </tr>\n",
       "  </thead>\n",
       "  <tbody>\n",
       "    <tr>\n",
       "      <th rowspan=\"3\" valign=\"top\">1000</th>\n",
       "      <th>5</th>\n",
       "      <td>2253.49</td>\n",
       "      <td>30720</td>\n",
       "      <td>150</td>\n",
       "      <td>0.0</td>\n",
       "      <td>0.0</td>\n",
       "    </tr>\n",
       "    <tr>\n",
       "      <th>6</th>\n",
       "      <td>23233.77</td>\n",
       "      <td>30720</td>\n",
       "      <td>150</td>\n",
       "      <td>0.0</td>\n",
       "      <td>0.0</td>\n",
       "    </tr>\n",
       "    <tr>\n",
       "      <th>7</th>\n",
       "      <td>14003.64</td>\n",
       "      <td>30720</td>\n",
       "      <td>150</td>\n",
       "      <td>0.0</td>\n",
       "      <td>0.0</td>\n",
       "    </tr>\n",
       "  </tbody>\n",
       "</table>\n",
       "</div>"
      ],
      "text/plain": [
       "                mb_used  mb_per_month_included  rub_per_gb  excess_mb  \\\n",
       "user_id month                                                           \n",
       "1000    5       2253.49                  30720         150        0.0   \n",
       "        6      23233.77                  30720         150        0.0   \n",
       "        7      14003.64                  30720         150        0.0   \n",
       "\n",
       "               excess_gb  \n",
       "user_id month             \n",
       "1000    5            0.0  \n",
       "        6            0.0  \n",
       "        7            0.0  "
      ]
     },
     "execution_count": 363,
     "metadata": {},
     "output_type": "execute_result"
    }
   ],
   "source": [
    "# аггрегируем трафик\n",
    "total_internet = pd.DataFrame(data_internet.groupby(['user_id','month']).agg({'mb_used' : 'sum',\n",
    "                                                                       'mb_per_month_included':'first',\n",
    "                                                                             'rub_per_gb' : 'first'}))\n",
    "# проверим данные\n",
    "display(total_internet.head(3))\n",
    "\n",
    "# добавим столбец с излишками смс\n",
    "total_internet['excess_mb'] = total_internet['mb_per_month_included'] - total_internet['mb_used']\n",
    "\n",
    "# поправим излишки\n",
    "total_internet['excess_mb'] = total_internet['excess_mb'].apply(correct_excess)\n",
    "\n",
    "# добавим излишки в гб\n",
    "total_internet['excess_gb'] = np.ceil(total_internet['excess_mb'] / 1024)\n",
    "\n",
    "# проверим данные\n",
    "total_internet.head(3)"
   ]
  },
  {
   "cell_type": "markdown",
   "metadata": {},
   "source": [
    "### Итоговая аггрегация таблиц"
   ]
  },
  {
   "cell_type": "code",
   "execution_count": 364,
   "metadata": {},
   "outputs": [
    {
     "data": {
      "text/html": [
       "<div>\n",
       "<style scoped>\n",
       "    .dataframe tbody tr th:only-of-type {\n",
       "        vertical-align: middle;\n",
       "    }\n",
       "\n",
       "    .dataframe tbody tr th {\n",
       "        vertical-align: top;\n",
       "    }\n",
       "\n",
       "    .dataframe thead th {\n",
       "        text-align: right;\n",
       "    }\n",
       "</style>\n",
       "<table border=\"1\" class=\"dataframe\">\n",
       "  <thead>\n",
       "    <tr style=\"text-align: right;\">\n",
       "      <th></th>\n",
       "      <th></th>\n",
       "      <th>duration</th>\n",
       "      <th>calls_number</th>\n",
       "      <th>minutes_included</th>\n",
       "      <th>rub_monthly_fee</th>\n",
       "      <th>rub_per_minute</th>\n",
       "      <th>tariff_name</th>\n",
       "      <th>city</th>\n",
       "      <th>excess_minutes</th>\n",
       "      <th>message_count</th>\n",
       "      <th>messages_included</th>\n",
       "      <th>rub_per_message</th>\n",
       "      <th>excess_messages</th>\n",
       "      <th>mb_used</th>\n",
       "      <th>mb_per_month_included</th>\n",
       "      <th>rub_per_gb</th>\n",
       "      <th>excess_mb</th>\n",
       "      <th>excess_gb</th>\n",
       "    </tr>\n",
       "    <tr>\n",
       "      <th>user_id</th>\n",
       "      <th>month</th>\n",
       "      <th></th>\n",
       "      <th></th>\n",
       "      <th></th>\n",
       "      <th></th>\n",
       "      <th></th>\n",
       "      <th></th>\n",
       "      <th></th>\n",
       "      <th></th>\n",
       "      <th></th>\n",
       "      <th></th>\n",
       "      <th></th>\n",
       "      <th></th>\n",
       "      <th></th>\n",
       "      <th></th>\n",
       "      <th></th>\n",
       "      <th></th>\n",
       "      <th></th>\n",
       "    </tr>\n",
       "  </thead>\n",
       "  <tbody>\n",
       "    <tr>\n",
       "      <th rowspan=\"3\" valign=\"top\">1000</th>\n",
       "      <th>5</th>\n",
       "      <td>159.0</td>\n",
       "      <td>22.0</td>\n",
       "      <td>3000.0</td>\n",
       "      <td>1950.0</td>\n",
       "      <td>1.0</td>\n",
       "      <td>ultra</td>\n",
       "      <td>Краснодар</td>\n",
       "      <td>0.0</td>\n",
       "      <td>22.0</td>\n",
       "      <td>1000.0</td>\n",
       "      <td>1.0</td>\n",
       "      <td>0.0</td>\n",
       "      <td>2253.49</td>\n",
       "      <td>30720.0</td>\n",
       "      <td>150.0</td>\n",
       "      <td>0.0</td>\n",
       "      <td>0.0</td>\n",
       "    </tr>\n",
       "    <tr>\n",
       "      <th>6</th>\n",
       "      <td>172.0</td>\n",
       "      <td>43.0</td>\n",
       "      <td>3000.0</td>\n",
       "      <td>1950.0</td>\n",
       "      <td>1.0</td>\n",
       "      <td>ultra</td>\n",
       "      <td>Краснодар</td>\n",
       "      <td>0.0</td>\n",
       "      <td>60.0</td>\n",
       "      <td>1000.0</td>\n",
       "      <td>1.0</td>\n",
       "      <td>0.0</td>\n",
       "      <td>23233.77</td>\n",
       "      <td>30720.0</td>\n",
       "      <td>150.0</td>\n",
       "      <td>0.0</td>\n",
       "      <td>0.0</td>\n",
       "    </tr>\n",
       "    <tr>\n",
       "      <th>7</th>\n",
       "      <td>340.0</td>\n",
       "      <td>47.0</td>\n",
       "      <td>3000.0</td>\n",
       "      <td>1950.0</td>\n",
       "      <td>1.0</td>\n",
       "      <td>ultra</td>\n",
       "      <td>Краснодар</td>\n",
       "      <td>0.0</td>\n",
       "      <td>75.0</td>\n",
       "      <td>1000.0</td>\n",
       "      <td>1.0</td>\n",
       "      <td>0.0</td>\n",
       "      <td>14003.64</td>\n",
       "      <td>30720.0</td>\n",
       "      <td>150.0</td>\n",
       "      <td>0.0</td>\n",
       "      <td>0.0</td>\n",
       "    </tr>\n",
       "  </tbody>\n",
       "</table>\n",
       "</div>"
      ],
      "text/plain": [
       "               duration  calls_number  minutes_included  rub_monthly_fee  \\\n",
       "user_id month                                                              \n",
       "1000    5         159.0          22.0            3000.0           1950.0   \n",
       "        6         172.0          43.0            3000.0           1950.0   \n",
       "        7         340.0          47.0            3000.0           1950.0   \n",
       "\n",
       "               rub_per_minute tariff_name       city  excess_minutes  \\\n",
       "user_id month                                                          \n",
       "1000    5                 1.0       ultra  Краснодар             0.0   \n",
       "        6                 1.0       ultra  Краснодар             0.0   \n",
       "        7                 1.0       ultra  Краснодар             0.0   \n",
       "\n",
       "               message_count  messages_included  rub_per_message  \\\n",
       "user_id month                                                      \n",
       "1000    5               22.0             1000.0              1.0   \n",
       "        6               60.0             1000.0              1.0   \n",
       "        7               75.0             1000.0              1.0   \n",
       "\n",
       "               excess_messages   mb_used  mb_per_month_included  rub_per_gb  \\\n",
       "user_id month                                                                 \n",
       "1000    5                  0.0   2253.49                30720.0       150.0   \n",
       "        6                  0.0  23233.77                30720.0       150.0   \n",
       "        7                  0.0  14003.64                30720.0       150.0   \n",
       "\n",
       "               excess_mb  excess_gb  \n",
       "user_id month                        \n",
       "1000    5            0.0        0.0  \n",
       "        6            0.0        0.0  \n",
       "        7            0.0        0.0  "
      ]
     },
     "execution_count": 364,
     "metadata": {},
     "output_type": "execute_result"
    }
   ],
   "source": [
    "final_data = total_calls.merge(total_messages, on = ['user_id', 'month'], how = 'outer')\n",
    "final_data = final_data.merge(total_internet, on = ['user_id', 'month'], how = 'outer')\n",
    "final_data.head(3)"
   ]
  },
  {
   "cell_type": "markdown",
   "metadata": {},
   "source": [
    "<b>ВЫВОД:</b> итоговая таблица почти готова. Осталось добавить помесячную прибыль с каждого клиента."
   ]
  },
  {
   "cell_type": "markdown",
   "metadata": {},
   "source": [
    "### Подсчет дополнительных расходов клиентов и помесячной прибыли с каждого клиента"
   ]
  },
  {
   "cell_type": "code",
   "execution_count": 365,
   "metadata": {},
   "outputs": [
    {
     "data": {
      "text/html": [
       "<div>\n",
       "<style scoped>\n",
       "    .dataframe tbody tr th:only-of-type {\n",
       "        vertical-align: middle;\n",
       "    }\n",
       "\n",
       "    .dataframe tbody tr th {\n",
       "        vertical-align: top;\n",
       "    }\n",
       "\n",
       "    .dataframe thead th {\n",
       "        text-align: right;\n",
       "    }\n",
       "</style>\n",
       "<table border=\"1\" class=\"dataframe\">\n",
       "  <thead>\n",
       "    <tr style=\"text-align: right;\">\n",
       "      <th></th>\n",
       "      <th></th>\n",
       "      <th>duration</th>\n",
       "      <th>calls_number</th>\n",
       "      <th>minutes_included</th>\n",
       "      <th>rub_monthly_fee</th>\n",
       "      <th>rub_per_minute</th>\n",
       "      <th>tariff_name</th>\n",
       "      <th>city</th>\n",
       "      <th>excess_minutes</th>\n",
       "      <th>message_count</th>\n",
       "      <th>messages_included</th>\n",
       "      <th>...</th>\n",
       "      <th>excess_messages</th>\n",
       "      <th>mb_used</th>\n",
       "      <th>mb_per_month_included</th>\n",
       "      <th>rub_per_gb</th>\n",
       "      <th>excess_mb</th>\n",
       "      <th>excess_gb</th>\n",
       "      <th>excess_traffic_fee</th>\n",
       "      <th>excess_minutes_fee</th>\n",
       "      <th>excess_messages_fee</th>\n",
       "      <th>total_revenue</th>\n",
       "    </tr>\n",
       "    <tr>\n",
       "      <th>user_id</th>\n",
       "      <th>month</th>\n",
       "      <th></th>\n",
       "      <th></th>\n",
       "      <th></th>\n",
       "      <th></th>\n",
       "      <th></th>\n",
       "      <th></th>\n",
       "      <th></th>\n",
       "      <th></th>\n",
       "      <th></th>\n",
       "      <th></th>\n",
       "      <th></th>\n",
       "      <th></th>\n",
       "      <th></th>\n",
       "      <th></th>\n",
       "      <th></th>\n",
       "      <th></th>\n",
       "      <th></th>\n",
       "      <th></th>\n",
       "      <th></th>\n",
       "      <th></th>\n",
       "      <th></th>\n",
       "    </tr>\n",
       "  </thead>\n",
       "  <tbody>\n",
       "    <tr>\n",
       "      <th>1356</th>\n",
       "      <th>11</th>\n",
       "      <td>1030.0</td>\n",
       "      <td>145.0</td>\n",
       "      <td>3000.0</td>\n",
       "      <td>1950.0</td>\n",
       "      <td>1.0</td>\n",
       "      <td>ultra</td>\n",
       "      <td>Москва</td>\n",
       "      <td>0.0</td>\n",
       "      <td>162.0</td>\n",
       "      <td>1000.0</td>\n",
       "      <td>...</td>\n",
       "      <td>0.0</td>\n",
       "      <td>23748.89</td>\n",
       "      <td>30720.0</td>\n",
       "      <td>150.0</td>\n",
       "      <td>0.0</td>\n",
       "      <td>0.0</td>\n",
       "      <td>0.0</td>\n",
       "      <td>0.0</td>\n",
       "      <td>0.0</td>\n",
       "      <td>1950.0</td>\n",
       "    </tr>\n",
       "    <tr>\n",
       "      <th>1232</th>\n",
       "      <th>10</th>\n",
       "      <td>233.0</td>\n",
       "      <td>30.0</td>\n",
       "      <td>500.0</td>\n",
       "      <td>550.0</td>\n",
       "      <td>3.0</td>\n",
       "      <td>smart</td>\n",
       "      <td>Томск</td>\n",
       "      <td>0.0</td>\n",
       "      <td>25.0</td>\n",
       "      <td>50.0</td>\n",
       "      <td>...</td>\n",
       "      <td>0.0</td>\n",
       "      <td>8503.09</td>\n",
       "      <td>15360.0</td>\n",
       "      <td>200.0</td>\n",
       "      <td>0.0</td>\n",
       "      <td>0.0</td>\n",
       "      <td>0.0</td>\n",
       "      <td>0.0</td>\n",
       "      <td>0.0</td>\n",
       "      <td>550.0</td>\n",
       "    </tr>\n",
       "    <tr>\n",
       "      <th>1279</th>\n",
       "      <th>11</th>\n",
       "      <td>606.0</td>\n",
       "      <td>87.0</td>\n",
       "      <td>500.0</td>\n",
       "      <td>550.0</td>\n",
       "      <td>3.0</td>\n",
       "      <td>smart</td>\n",
       "      <td>Омск</td>\n",
       "      <td>106.0</td>\n",
       "      <td>1.0</td>\n",
       "      <td>50.0</td>\n",
       "      <td>...</td>\n",
       "      <td>0.0</td>\n",
       "      <td>11213.93</td>\n",
       "      <td>15360.0</td>\n",
       "      <td>200.0</td>\n",
       "      <td>0.0</td>\n",
       "      <td>0.0</td>\n",
       "      <td>0.0</td>\n",
       "      <td>318.0</td>\n",
       "      <td>0.0</td>\n",
       "      <td>868.0</td>\n",
       "    </tr>\n",
       "  </tbody>\n",
       "</table>\n",
       "<p>3 rows × 21 columns</p>\n",
       "</div>"
      ],
      "text/plain": [
       "               duration  calls_number  minutes_included  rub_monthly_fee  \\\n",
       "user_id month                                                              \n",
       "1356    11       1030.0         145.0            3000.0           1950.0   \n",
       "1232    10        233.0          30.0             500.0            550.0   \n",
       "1279    11        606.0          87.0             500.0            550.0   \n",
       "\n",
       "               rub_per_minute tariff_name    city  excess_minutes  \\\n",
       "user_id month                                                       \n",
       "1356    11                1.0       ultra  Москва             0.0   \n",
       "1232    10                3.0       smart   Томск             0.0   \n",
       "1279    11                3.0       smart    Омск           106.0   \n",
       "\n",
       "               message_count  messages_included  ...  excess_messages  \\\n",
       "user_id month                                    ...                    \n",
       "1356    11             162.0             1000.0  ...              0.0   \n",
       "1232    10              25.0               50.0  ...              0.0   \n",
       "1279    11               1.0               50.0  ...              0.0   \n",
       "\n",
       "                mb_used  mb_per_month_included  rub_per_gb  excess_mb  \\\n",
       "user_id month                                                           \n",
       "1356    11     23748.89                30720.0       150.0        0.0   \n",
       "1232    10      8503.09                15360.0       200.0        0.0   \n",
       "1279    11     11213.93                15360.0       200.0        0.0   \n",
       "\n",
       "               excess_gb  excess_traffic_fee  excess_minutes_fee  \\\n",
       "user_id month                                                      \n",
       "1356    11           0.0                 0.0                 0.0   \n",
       "1232    10           0.0                 0.0                 0.0   \n",
       "1279    11           0.0                 0.0               318.0   \n",
       "\n",
       "               excess_messages_fee  total_revenue  \n",
       "user_id month                                      \n",
       "1356    11                     0.0         1950.0  \n",
       "1232    10                     0.0          550.0  \n",
       "1279    11                     0.0          868.0  \n",
       "\n",
       "[3 rows x 21 columns]"
      ]
     },
     "execution_count": 365,
     "metadata": {},
     "output_type": "execute_result"
    }
   ],
   "source": [
    "# добавим траты на лишний трафик\n",
    "final_data['excess_traffic_fee'] = final_data['excess_gb'] * final_data['rub_per_gb']\n",
    "\n",
    "# траты на лишние минуты\n",
    "final_data['excess_minutes_fee'] = final_data['excess_minutes'] * final_data['rub_per_minute']\n",
    "\n",
    "# и траты на лишние смс\n",
    "final_data['excess_messages_fee'] = final_data['excess_messages'] * final_data['rub_per_message']\n",
    "\n",
    "# добавим столбец с общей прибылью\n",
    "final_data['total_revenue'] = final_data['rub_monthly_fee'] + final_data['excess_traffic_fee'] + final_data['excess_minutes_fee'] + final_data['excess_messages_fee']\n",
    "\n",
    "# проверим данные\n",
    "final_data.sample(3)"
   ]
  },
  {
   "cell_type": "markdown",
   "metadata": {},
   "source": [
    "### Вывод:\n",
    "Таблица готова полностью. Перейдем к анализу данных. На данном этапе нужно будет найти:\n",
    "- среднее кол-во минут разговора, сообщений и объёма интернет-трафика для пользователей каждого тарифа в месяц\n",
    "- дисперсию и стандартное отклонение показателей\n",
    "\n",
    "А также:\n",
    "\n",
    "- построить гистограммы\n",
    "- описать распределения"
   ]
  },
  {
   "cell_type": "markdown",
   "metadata": {},
   "source": [
    "## Исследовательский анализ данных"
   ]
  },
  {
   "cell_type": "markdown",
   "metadata": {},
   "source": [
    "### Исследование среднего количества звонков, смс и трафика пользователей обоих тарифов, а также дисперсии и std данных показателей"
   ]
  },
  {
   "cell_type": "code",
   "execution_count": 366,
   "metadata": {},
   "outputs": [
    {
     "data": {
      "text/html": [
       "<div>\n",
       "<style scoped>\n",
       "    .dataframe tbody tr th:only-of-type {\n",
       "        vertical-align: middle;\n",
       "    }\n",
       "\n",
       "    .dataframe tbody tr th {\n",
       "        vertical-align: top;\n",
       "    }\n",
       "\n",
       "    .dataframe thead tr th {\n",
       "        text-align: left;\n",
       "    }\n",
       "\n",
       "    .dataframe thead tr:last-of-type th {\n",
       "        text-align: right;\n",
       "    }\n",
       "</style>\n",
       "<table border=\"1\" class=\"dataframe\">\n",
       "  <thead>\n",
       "    <tr>\n",
       "      <th></th>\n",
       "      <th colspan=\"5\" halign=\"left\">mean</th>\n",
       "      <th colspan=\"5\" halign=\"left\">var</th>\n",
       "      <th colspan=\"5\" halign=\"left\">std</th>\n",
       "    </tr>\n",
       "    <tr>\n",
       "      <th></th>\n",
       "      <th>calls_number</th>\n",
       "      <th>duration</th>\n",
       "      <th>mb_used</th>\n",
       "      <th>message_count</th>\n",
       "      <th>total_revenue</th>\n",
       "      <th>calls_number</th>\n",
       "      <th>duration</th>\n",
       "      <th>mb_used</th>\n",
       "      <th>message_count</th>\n",
       "      <th>total_revenue</th>\n",
       "      <th>calls_number</th>\n",
       "      <th>duration</th>\n",
       "      <th>mb_used</th>\n",
       "      <th>message_count</th>\n",
       "      <th>total_revenue</th>\n",
       "    </tr>\n",
       "    <tr>\n",
       "      <th>tariff_name</th>\n",
       "      <th></th>\n",
       "      <th></th>\n",
       "      <th></th>\n",
       "      <th></th>\n",
       "      <th></th>\n",
       "      <th></th>\n",
       "      <th></th>\n",
       "      <th></th>\n",
       "      <th></th>\n",
       "      <th></th>\n",
       "      <th></th>\n",
       "      <th></th>\n",
       "      <th></th>\n",
       "      <th></th>\n",
       "      <th></th>\n",
       "    </tr>\n",
       "  </thead>\n",
       "  <tbody>\n",
       "    <tr>\n",
       "      <th>smart</th>\n",
       "      <td>58.621233</td>\n",
       "      <td>419.062978</td>\n",
       "      <td>16216.661274</td>\n",
       "      <td>38.747390</td>\n",
       "      <td>1290.677807</td>\n",
       "      <td>665.438829</td>\n",
       "      <td>35844.189551</td>\n",
       "      <td>3.442759e+07</td>\n",
       "      <td>719.172709</td>\n",
       "      <td>677052.568551</td>\n",
       "      <td>25.796101</td>\n",
       "      <td>189.325618</td>\n",
       "      <td>5867.503083</td>\n",
       "      <td>26.817396</td>\n",
       "      <td>822.832042</td>\n",
       "    </tr>\n",
       "    <tr>\n",
       "      <th>ultra</th>\n",
       "      <td>76.016824</td>\n",
       "      <td>545.451104</td>\n",
       "      <td>19669.283603</td>\n",
       "      <td>61.195538</td>\n",
       "      <td>2048.936170</td>\n",
       "      <td>1798.043927</td>\n",
       "      <td>94203.418396</td>\n",
       "      <td>9.957100e+07</td>\n",
       "      <td>1999.574067</td>\n",
       "      <td>110817.774882</td>\n",
       "      <td>42.403348</td>\n",
       "      <td>306.925754</td>\n",
       "      <td>9978.527025</td>\n",
       "      <td>44.716597</td>\n",
       "      <td>332.893038</td>\n",
       "    </tr>\n",
       "  </tbody>\n",
       "</table>\n",
       "</div>"
      ],
      "text/plain": [
       "                    mean                                          \\\n",
       "            calls_number    duration       mb_used message_count   \n",
       "tariff_name                                                        \n",
       "smart          58.621233  419.062978  16216.661274     38.747390   \n",
       "ultra          76.016824  545.451104  19669.283603     61.195538   \n",
       "\n",
       "                                   var                              \\\n",
       "            total_revenue calls_number      duration       mb_used   \n",
       "tariff_name                                                          \n",
       "smart         1290.677807   665.438829  35844.189551  3.442759e+07   \n",
       "ultra         2048.936170  1798.043927  94203.418396  9.957100e+07   \n",
       "\n",
       "                                                  std              \\\n",
       "            message_count  total_revenue calls_number    duration   \n",
       "tariff_name                                                         \n",
       "smart          719.172709  677052.568551    25.796101  189.325618   \n",
       "ultra         1999.574067  110817.774882    42.403348  306.925754   \n",
       "\n",
       "                                                      \n",
       "                 mb_used message_count total_revenue  \n",
       "tariff_name                                           \n",
       "smart        5867.503083     26.817396    822.832042  \n",
       "ultra        9978.527025     44.716597    332.893038  "
      ]
     },
     "execution_count": 366,
     "metadata": {},
     "output_type": "execute_result"
    }
   ],
   "source": [
    "final_data.pivot_table(index = 'tariff_name', values = ['calls_number','duration',\n",
    "                                       'message_count', 'mb_used', 'total_revenue'], aggfunc = ['mean', 'var','std'])"
   ]
  },
  {
   "cell_type": "markdown",
   "metadata": {},
   "source": [
    "<b>Выводы: </b>\n",
    "  - в среднем, пользователи smart совершают 58 звонков продолжительностью 419 минут, std составляет 27 сообщений и 190 минут соответственно, в среднем они тратят около 16 гб с отклонением около 6 гб и в среднем отправляют около 33 смс с отклонением в 26-27 смс.\n",
    "  - в среднем, пользователи ultra совершают 76 звонков продолжительностью 545 минут при std равном 42 звонка и 306 минут, в среднем они тратят 19669 мб с отклонением в ~10000 мб и отправляют в среднем 61 смс с отклонением в 44 смс.\n",
    "  - в среднем, пользователи тарифа smart тратят меньше времени на разговоры, отправляют меньше смс и тратят меньше трафика. \n",
    "  - дисперсия двух выборок не равна и в случае тарифа ultra почти в три раза больше."
   ]
  },
  {
   "cell_type": "markdown",
   "metadata": {},
   "source": [
    "### Визуализация поведения пользователей"
   ]
  },
  {
   "cell_type": "code",
   "execution_count": 367,
   "metadata": {},
   "outputs": [
    {
     "data": {
      "text/plain": [
       "<matplotlib.legend.Legend at 0x7f86c7999cd0>"
      ]
     },
     "execution_count": 367,
     "metadata": {},
     "output_type": "execute_result"
    },
    {
     "data": {
      "image/png": "[encoded data removed]",
      "text/plain": [
       "<Figure size 504x360 with 1 Axes>"
      ]
     },
     "metadata": {
      "needs_background": "light"
     },
     "output_type": "display_data"
    }
   ],
   "source": [
    "# построим гистограммы для длительности звонков\n",
    "final_data[final_data['tariff_name'] =='smart']['duration'].hist(bins = 90, label = 'Smart Duration', figsize = (7,5))\n",
    "final_data[final_data['tariff_name'] =='ultra']['duration'].hist(bins = 90, alpha = 0.7, label = 'Ultra Duration')\n",
    "plt.title('Сравнение длительности звонков пользователей тарифов Smart и Ultra')\n",
    "plt.legend()"
   ]
  },
  {
   "cell_type": "markdown",
   "metadata": {},
   "source": [
    "<b>ВЫВОД:</b> гистограмма длительности звонков пользователей тарифа smart являет собой нормальное распределение с четким пиком в середине и снижением по краям.\n",
    "Гистограмма длительности звонков пользователей тарифа ultra стремится к нормальному, но не унимодально и сильно скошено вправо.\n",
    "В случае тарифа ultra можно говорить об аномально больших значениях продолжительности звонков - выбросах, влияющих на скос.\n",
    "Пропускают звонки пользователи обоих тарифов примерно одинаково часто."
   ]
  },
  {
   "cell_type": "code",
   "execution_count": 368,
   "metadata": {},
   "outputs": [
    {
     "data": {
      "text/plain": [
       "<matplotlib.legend.Legend at 0x7f86c4c6dfa0>"
      ]
     },
     "execution_count": 368,
     "metadata": {},
     "output_type": "execute_result"
    },
    {
     "data": {
      "image/png": "[encoded data removed]",
      "text/plain": [
       "<Figure size 504x360 with 1 Axes>"
      ]
     },
     "metadata": {
      "needs_background": "light"
     },
     "output_type": "display_data"
    }
   ],
   "source": [
    "# построим гистограммы для количества смс\n",
    "final_data[final_data['tariff_name'] =='smart']['message_count'].hist(bins = 50, label = 'Smart SMS', figsize = (7,5))\n",
    "final_data[final_data['tariff_name'] =='ultra']['message_count'].hist(bins = 50, alpha = 0.7, label = 'Ultra SMS')\n",
    "plt.title('Сравнение количества смс, отправленных пользователями тарифов Smart и Ultra')\n",
    "plt.legend()"
   ]
  },
  {
   "cell_type": "markdown",
   "metadata": {},
   "source": [
    "<b>ВЫВОД:</b> в обоих случаях гистограммы вытянуты вправо. При этом наблюдается тенденция к поступательному снижению - вероятность получить пользователя, отправляющего больше смс снижается пропорционально количеству."
   ]
  },
  {
   "cell_type": "code",
   "execution_count": 369,
   "metadata": {},
   "outputs": [
    {
     "data": {
      "text/plain": [
       "<matplotlib.legend.Legend at 0x7f86c49c6700>"
      ]
     },
     "execution_count": 369,
     "metadata": {},
     "output_type": "execute_result"
    },
    {
     "data": {
      "image/png": "[encoded data removed]",
      "text/plain": [
       "<Figure size 504x360 with 1 Axes>"
      ]
     },
     "metadata": {
      "needs_background": "light"
     },
     "output_type": "display_data"
    }
   ],
   "source": [
    "# построим гистограммы для трафика\n",
    "final_data[final_data['tariff_name'] =='smart']['mb_used'].hist(bins = 90, label = 'Smart MB', figsize = (7,5))\n",
    "final_data[final_data['tariff_name'] =='ultra']['mb_used'].hist(bins = 90, alpha = 0.7, label = 'Ultra MB')\n",
    "plt.title('Сравнение объема трафика, израсходованного пользователями тарифов Smart и Ultra')\n",
    "plt.legend()"
   ]
  },
  {
   "cell_type": "markdown",
   "metadata": {},
   "source": [
    "<b>ВЫВОД:</b> в случае клиентов тарифа smart наблюдается нормальное распределение с четким пиком посередине. В случае пользователей ultra распределение нормальное, но более сглаженное. При этом, судя по графику, пользователи smart чаще превышают месячный лимит тарифа по сравнению с пользователями ultra."
   ]
  },
  {
   "cell_type": "markdown",
   "metadata": {},
   "source": [
    "## Статистическая проверка гипотез"
   ]
  },
  {
   "cell_type": "markdown",
   "metadata": {},
   "source": [
    "### Проверка гипотезы: \"средняя выручка пользователей тарифов «Ультра» и «Смарт» различаются\"."
   ]
  },
  {
   "cell_type": "markdown",
   "metadata": {},
   "source": [
    "- Н0: средняя выручка пользователей ultra равна средней выручке польз. smart\n",
    "- H1: средняя выручка пользователей ultra не равна средней выручке пользователей smart "
   ]
  },
  {
   "cell_type": "code",
   "execution_count": 370,
   "metadata": {},
   "outputs": [],
   "source": [
    "# заполним пропуски нулями, т.к. тест не обработает пропуски\n",
    "smart_users = final_data[final_data['tariff_name'] =='smart'].fillna(0)\n",
    "ultra_users = final_data[final_data['tariff_name'] =='ultra'].fillna(0)"
   ]
  },
  {
   "cell_type": "code",
   "execution_count": 371,
   "metadata": {},
   "outputs": [
    {
     "name": "stdout",
     "output_type": "stream",
     "text": [
      "p-значение:  5.138306503578729e-47\n",
      "Можно отвергнуть нулевую гипотезу\n",
      "Выручка по тарифу ultra больше\n"
     ]
    }
   ],
   "source": [
    "# проведем тест на равенство средних двух выборок\n",
    "alpha = 0.05\n",
    "results = st.ttest_ind(smart_users['total_revenue'], ultra_users['total_revenue'], equal_var = False)\n",
    "print('p-значение: ', results.pvalue)\n",
    "\n",
    "if results.pvalue < alpha:\n",
    "    print('Можно отвергнуть нулевую гипотезу') \n",
    "    if results.pvalue / 2 < alpha and smart_users['total_revenue'].mean() < ultra_users['total_revenue'].mean():\n",
    "        print('Выручка по тарифу ultra больше')\n",
    "    else:\n",
    "        print('Выручка по тарифу smart больше')\n",
    "else:\n",
    "    print('Нельзя отвергнуть гипотезу')"
   ]
  },
  {
   "cell_type": "markdown",
   "metadata": {},
   "source": [
    "<b>ВЫВОД:</b> первая гипотеза подтвердилась. Выручка по тарифам различается. "
   ]
  },
  {
   "cell_type": "markdown",
   "metadata": {},
   "source": [
    "### Проверка гипотезы \"средняя выручка пользователей из Москвы отличается от средней выручки по другим регионам\"."
   ]
  },
  {
   "cell_type": "code",
   "execution_count": 375,
   "metadata": {},
   "outputs": [],
   "source": [
    "# возьмем нужные срезы из датасета \n",
    "moscow_users = final_data.query('city == \"Москва\"').fillna(0)\n",
    "other_users = final_data.query('city != \"Москва\"').fillna(0)"
   ]
  },
  {
   "cell_type": "code",
   "execution_count": 376,
   "metadata": {},
   "outputs": [
    {
     "name": "stdout",
     "output_type": "stream",
     "text": [
      "p-значение:  0.9290050577097656\n",
      "Нельзя отвергнуть нулевую гипотезу\n"
     ]
    }
   ],
   "source": [
    "# проведем тест сравнения для двух совокупностей\n",
    "alpha = 0.05\n",
    "results = st.ttest_ind(moscow_users['total_revenue'], other_users['total_revenue'])\n",
    "print('p-значение: ', results.pvalue)\n",
    "\n",
    "if results.pvalue < alpha:\n",
    "    print('Можно отвергнуть нулевую гипотезу, выручка по регионам различается')\n",
    "else:\n",
    "    print('Нельзя отвергнуть нулевую гипотезу')"
   ]
  },
  {
   "cell_type": "markdown",
   "metadata": {},
   "source": [
    "<b>ВЫВОД:</b> гипотеза не подтвердилась. Что москвичи, что пользователи других городов и регионов, приносят одинаковую прибыль."
   ]
  },
  {
   "cell_type": "markdown",
   "metadata": {},
   "source": [
    "## Общий вывод:\n",
    "- в ходе исследования подтвердилась гипотеза о том, что выручка по тарифам различается, при этом выручка с тарифа ultra превышает выручку с тарифа smart. Следует отметить, что это при том, что пользователей ultra более чем в два раза меньше по сравнению с пользователями smart. Значит, фиксированный больший размер абонентской платы все же превышает дополнительные расходы за лишние трафик и звонки.\n",
    "- вторая гипотеза не подтвердилась. Неважно, в каком регионе обитает пользователь - количество денег, полученное с него примерно одинаковое."
   ]
  }
 ],
 "metadata": {
  "ExecuteTimeLog": [
   {
    "duration": 1516,
    "start_time": "2021-12-27T13:45:06.696Z"
   },
   {
    "duration": 347,
    "start_time": "2021-12-27T13:45:49.422Z"
   },
   {
    "duration": 304,
    "start_time": "2021-12-27T13:46:03.183Z"
   },
   {
    "duration": 1458,
    "start_time": "2021-12-27T13:46:08.077Z"
   },
   {
    "duration": 1803,
    "start_time": "2021-12-27T13:46:10.548Z"
   },
   {
    "duration": 233,
    "start_time": "2021-12-27T13:46:25.640Z"
   },
   {
    "duration": 643,
    "start_time": "2021-12-27T13:49:20.911Z"
   },
   {
    "duration": 448,
    "start_time": "2021-12-27T13:51:35.757Z"
   },
   {
    "duration": 518,
    "start_time": "2021-12-27T13:51:41.295Z"
   },
   {
    "duration": 530,
    "start_time": "2021-12-27T13:53:01.784Z"
   },
   {
    "duration": 623,
    "start_time": "2021-12-27T13:54:03.073Z"
   },
   {
    "duration": 514,
    "start_time": "2021-12-27T13:54:20.745Z"
   },
   {
    "duration": 515,
    "start_time": "2021-12-27T13:55:31.184Z"
   },
   {
    "duration": 507,
    "start_time": "2021-12-27T13:55:35.839Z"
   },
   {
    "duration": 9,
    "start_time": "2021-12-27T13:56:22.782Z"
   },
   {
    "duration": 243,
    "start_time": "2021-12-27T13:57:02.686Z"
   },
   {
    "duration": 14,
    "start_time": "2021-12-27T13:57:18.795Z"
   },
   {
    "duration": 14,
    "start_time": "2021-12-27T13:59:21.259Z"
   },
   {
    "duration": 19,
    "start_time": "2021-12-27T13:59:44.964Z"
   },
   {
    "duration": 131,
    "start_time": "2021-12-27T14:01:40.326Z"
   },
   {
    "duration": 143,
    "start_time": "2021-12-27T14:02:21.865Z"
   },
   {
    "duration": 125,
    "start_time": "2021-12-27T14:03:59.553Z"
   },
   {
    "duration": 256,
    "start_time": "2021-12-27T14:05:58.442Z"
   },
   {
    "duration": 15,
    "start_time": "2021-12-27T14:06:16.483Z"
   },
   {
    "duration": 122,
    "start_time": "2021-12-27T14:06:47.007Z"
   },
   {
    "duration": 10,
    "start_time": "2021-12-27T14:07:51.059Z"
   },
   {
    "duration": 8,
    "start_time": "2021-12-27T14:08:30.043Z"
   },
   {
    "duration": 442,
    "start_time": "2021-12-27T14:08:49.841Z"
   },
   {
    "duration": 7,
    "start_time": "2021-12-27T14:09:05.410Z"
   },
   {
    "duration": 7,
    "start_time": "2021-12-27T14:09:11.569Z"
   },
   {
    "duration": 8,
    "start_time": "2021-12-27T14:09:14.672Z"
   },
   {
    "duration": 11,
    "start_time": "2021-12-27T14:10:51.209Z"
   },
   {
    "duration": 10127,
    "start_time": "2021-12-27T14:11:10.742Z"
   },
   {
    "duration": 452,
    "start_time": "2021-12-27T14:13:17.262Z"
   },
   {
    "duration": 4,
    "start_time": "2021-12-27T14:13:22.277Z"
   },
   {
    "duration": 526,
    "start_time": "2021-12-27T14:13:22.291Z"
   },
   {
    "duration": 14,
    "start_time": "2021-12-27T14:13:22.820Z"
   },
   {
    "duration": 24,
    "start_time": "2021-12-27T14:13:22.838Z"
   },
   {
    "duration": 155,
    "start_time": "2021-12-27T14:13:22.864Z"
   },
   {
    "duration": 104,
    "start_time": "2021-12-27T14:13:23.022Z"
   },
   {
    "duration": 139,
    "start_time": "2021-12-27T14:13:23.129Z"
   },
   {
    "duration": 19,
    "start_time": "2021-12-27T14:13:30.466Z"
   },
   {
    "duration": 330,
    "start_time": "2021-12-27T14:49:49.403Z"
   },
   {
    "duration": 321,
    "start_time": "2021-12-27T14:50:07.057Z"
   },
   {
    "duration": 313,
    "start_time": "2021-12-27T14:50:25.752Z"
   },
   {
    "duration": 339,
    "start_time": "2021-12-27T14:50:36.062Z"
   },
   {
    "duration": 299,
    "start_time": "2021-12-27T14:50:48.844Z"
   },
   {
    "duration": 192,
    "start_time": "2021-12-27T14:51:02.632Z"
   },
   {
    "duration": 100,
    "start_time": "2021-12-27T14:51:19.462Z"
   },
   {
    "duration": 101,
    "start_time": "2021-12-27T14:51:44.790Z"
   },
   {
    "duration": 83,
    "start_time": "2021-12-27T14:52:18.204Z"
   },
   {
    "duration": 83,
    "start_time": "2021-12-27T14:52:40.353Z"
   },
   {
    "duration": 288,
    "start_time": "2021-12-28T09:09:20.295Z"
   },
   {
    "duration": 1174,
    "start_time": "2021-12-28T09:09:35.510Z"
   },
   {
    "duration": 439,
    "start_time": "2021-12-28T09:09:36.686Z"
   },
   {
    "duration": 14,
    "start_time": "2021-12-28T09:09:38.789Z"
   },
   {
    "duration": 15,
    "start_time": "2021-12-28T09:09:50.868Z"
   },
   {
    "duration": 13,
    "start_time": "2021-12-28T09:10:40.269Z"
   },
   {
    "duration": 14,
    "start_time": "2021-12-28T09:10:43.751Z"
   },
   {
    "duration": 18,
    "start_time": "2021-12-28T09:11:31.642Z"
   },
   {
    "duration": 18,
    "start_time": "2021-12-28T09:12:01.974Z"
   },
   {
    "duration": 16,
    "start_time": "2021-12-28T09:12:16.537Z"
   },
   {
    "duration": 17,
    "start_time": "2021-12-28T09:12:52.570Z"
   },
   {
    "duration": 18,
    "start_time": "2021-12-28T09:13:07.321Z"
   },
   {
    "duration": 18,
    "start_time": "2021-12-28T09:13:27.128Z"
   },
   {
    "duration": 278,
    "start_time": "2021-12-28T09:14:02.328Z"
   },
   {
    "duration": 28,
    "start_time": "2021-12-28T09:14:11.581Z"
   },
   {
    "duration": 13,
    "start_time": "2021-12-28T09:15:18.681Z"
   },
   {
    "duration": 168,
    "start_time": "2021-12-28T09:18:36.789Z"
   },
   {
    "duration": 124,
    "start_time": "2021-12-28T09:18:41.986Z"
   },
   {
    "duration": 132,
    "start_time": "2021-12-28T09:18:49.359Z"
   },
   {
    "duration": 165,
    "start_time": "2021-12-28T09:19:34.417Z"
   },
   {
    "duration": 77,
    "start_time": "2021-12-28T09:22:33.669Z"
   },
   {
    "duration": 75,
    "start_time": "2021-12-28T09:22:38.933Z"
   },
   {
    "duration": 109,
    "start_time": "2021-12-28T09:24:03.549Z"
   },
   {
    "duration": 71,
    "start_time": "2021-12-28T09:24:05.793Z"
   },
   {
    "duration": 76,
    "start_time": "2021-12-28T09:25:12.504Z"
   },
   {
    "duration": 5436,
    "start_time": "2021-12-28T09:25:20.934Z"
   },
   {
    "duration": 3,
    "start_time": "2021-12-28T09:25:43.443Z"
   },
   {
    "duration": 551,
    "start_time": "2021-12-28T09:25:43.450Z"
   },
   {
    "duration": 15,
    "start_time": "2021-12-28T09:25:44.004Z"
   },
   {
    "duration": 12,
    "start_time": "2021-12-28T09:25:44.022Z"
   },
   {
    "duration": 149,
    "start_time": "2021-12-28T09:25:44.036Z"
   },
   {
    "duration": 81,
    "start_time": "2021-12-28T09:25:44.187Z"
   },
   {
    "duration": 107,
    "start_time": "2021-12-28T09:25:44.270Z"
   },
   {
    "duration": 113,
    "start_time": "2021-12-28T09:29:17.305Z"
   },
   {
    "duration": 16,
    "start_time": "2021-12-28T09:31:26.166Z"
   },
   {
    "duration": 110,
    "start_time": "2021-12-28T09:33:10.757Z"
   },
   {
    "duration": 35,
    "start_time": "2021-12-28T11:04:10.382Z"
   },
   {
    "duration": 243,
    "start_time": "2021-12-28T11:05:48.038Z"
   },
   {
    "duration": 27,
    "start_time": "2021-12-28T11:05:53.028Z"
   },
   {
    "duration": 226,
    "start_time": "2021-12-28T11:06:26.975Z"
   },
   {
    "duration": 222,
    "start_time": "2021-12-28T11:28:02.598Z"
   },
   {
    "duration": 116,
    "start_time": "2021-12-28T11:28:38.677Z"
   },
   {
    "duration": 250,
    "start_time": "2021-12-28T11:28:40.507Z"
   },
   {
    "duration": 226,
    "start_time": "2021-12-28T11:29:44.755Z"
   },
   {
    "duration": 170,
    "start_time": "2021-12-28T11:39:50.335Z"
   },
   {
    "duration": 113,
    "start_time": "2021-12-28T12:59:35.101Z"
   },
   {
    "duration": 12,
    "start_time": "2021-12-28T12:59:55.737Z"
   },
   {
    "duration": 239,
    "start_time": "2021-12-28T13:00:30.215Z"
   },
   {
    "duration": 365,
    "start_time": "2021-12-28T13:01:17.986Z"
   },
   {
    "duration": 232,
    "start_time": "2021-12-28T13:01:22.843Z"
   },
   {
    "duration": 1133,
    "start_time": "2021-12-28T13:01:46.200Z"
   },
   {
    "duration": 269,
    "start_time": "2021-12-28T13:02:41.941Z"
   },
   {
    "duration": 295,
    "start_time": "2021-12-28T13:03:04.917Z"
   },
   {
    "duration": 312,
    "start_time": "2021-12-28T13:04:25.116Z"
   },
   {
    "duration": 25,
    "start_time": "2021-12-28T13:04:31.367Z"
   },
   {
    "duration": 24,
    "start_time": "2021-12-28T13:04:40.579Z"
   },
   {
    "duration": 26,
    "start_time": "2021-12-28T13:04:49.413Z"
   },
   {
    "duration": 46,
    "start_time": "2021-12-28T13:06:03.171Z"
   },
   {
    "duration": 51,
    "start_time": "2021-12-28T13:06:13.283Z"
   },
   {
    "duration": 51,
    "start_time": "2021-12-28T13:06:50.708Z"
   },
   {
    "duration": 94,
    "start_time": "2021-12-28T13:09:14.567Z"
   },
   {
    "duration": 129,
    "start_time": "2021-12-28T13:09:20.506Z"
   },
   {
    "duration": 86,
    "start_time": "2021-12-28T13:09:53.758Z"
   },
   {
    "duration": 100,
    "start_time": "2021-12-28T13:11:11.763Z"
   },
   {
    "duration": 81,
    "start_time": "2021-12-28T13:11:55.175Z"
   },
   {
    "duration": 77,
    "start_time": "2021-12-28T13:12:40.742Z"
   },
   {
    "duration": 82,
    "start_time": "2021-12-28T13:13:04.497Z"
   },
   {
    "duration": 80,
    "start_time": "2021-12-28T13:13:55.354Z"
   },
   {
    "duration": 278,
    "start_time": "2021-12-28T13:15:19.362Z"
   },
   {
    "duration": 90,
    "start_time": "2021-12-28T13:15:33.758Z"
   },
   {
    "duration": 100,
    "start_time": "2021-12-28T13:15:43.975Z"
   },
   {
    "duration": 283,
    "start_time": "2021-12-28T13:16:55.987Z"
   },
   {
    "duration": 549,
    "start_time": "2021-12-28T13:17:30.814Z"
   },
   {
    "duration": 117,
    "start_time": "2021-12-28T13:17:49.581Z"
   },
   {
    "duration": 83,
    "start_time": "2021-12-28T13:18:20.517Z"
   },
   {
    "duration": 116,
    "start_time": "2021-12-28T13:20:52.925Z"
   },
   {
    "duration": 106,
    "start_time": "2021-12-28T13:23:40.584Z"
   },
   {
    "duration": 117,
    "start_time": "2021-12-28T13:23:58.738Z"
   },
   {
    "duration": 112,
    "start_time": "2021-12-28T13:25:03.637Z"
   },
   {
    "duration": 110,
    "start_time": "2021-12-28T13:25:14.328Z"
   },
   {
    "duration": 115,
    "start_time": "2021-12-28T13:25:33.960Z"
   },
   {
    "duration": 112,
    "start_time": "2021-12-28T13:25:46.798Z"
   },
   {
    "duration": 209,
    "start_time": "2021-12-28T13:31:06.083Z"
   },
   {
    "duration": 98,
    "start_time": "2021-12-28T13:31:15.794Z"
   },
   {
    "duration": 17,
    "start_time": "2021-12-28T13:31:29.567Z"
   },
   {
    "duration": 86,
    "start_time": "2021-12-28T13:32:42.889Z"
   },
   {
    "duration": -365,
    "start_time": "2021-12-28T13:32:58.265Z"
   },
   {
    "duration": 3,
    "start_time": "2021-12-28T13:33:01.142Z"
   },
   {
    "duration": 433,
    "start_time": "2021-12-28T13:33:01.150Z"
   },
   {
    "duration": 14,
    "start_time": "2021-12-28T13:33:01.584Z"
   },
   {
    "duration": 12,
    "start_time": "2021-12-28T13:33:01.600Z"
   },
   {
    "duration": 186,
    "start_time": "2021-12-28T13:33:01.614Z"
   },
   {
    "duration": 86,
    "start_time": "2021-12-28T13:33:01.802Z"
   },
   {
    "duration": 115,
    "start_time": "2021-12-28T13:33:01.890Z"
   },
   {
    "duration": 126,
    "start_time": "2021-12-28T13:33:02.008Z"
   },
   {
    "duration": 5281,
    "start_time": "2021-12-28T13:33:05.598Z"
   },
   {
    "duration": 7,
    "start_time": "2021-12-28T13:33:52.472Z"
   },
   {
    "duration": 12,
    "start_time": "2021-12-28T13:34:05.525Z"
   },
   {
    "duration": 49,
    "start_time": "2021-12-28T13:35:20.378Z"
   },
   {
    "duration": 52,
    "start_time": "2021-12-28T13:35:33.935Z"
   },
   {
    "duration": 366,
    "start_time": "2021-12-28T21:06:03.282Z"
   },
   {
    "duration": 1548,
    "start_time": "2021-12-28T21:06:13.919Z"
   },
   {
    "duration": 594,
    "start_time": "2021-12-28T21:06:15.469Z"
   },
   {
    "duration": 19,
    "start_time": "2021-12-28T21:06:16.066Z"
   },
   {
    "duration": 22,
    "start_time": "2021-12-28T21:06:16.088Z"
   },
   {
    "duration": 247,
    "start_time": "2021-12-28T21:06:16.112Z"
   },
   {
    "duration": 116,
    "start_time": "2021-12-28T21:06:16.368Z"
   },
   {
    "duration": 181,
    "start_time": "2021-12-28T21:06:16.487Z"
   },
   {
    "duration": 182,
    "start_time": "2021-12-28T21:06:16.671Z"
   },
   {
    "duration": 474,
    "start_time": "2021-12-28T21:06:27.835Z"
   },
   {
    "duration": 56,
    "start_time": "2021-12-28T21:07:38.106Z"
   },
   {
    "duration": 167,
    "start_time": "2021-12-29T08:28:41.556Z"
   },
   {
    "duration": 1168,
    "start_time": "2021-12-29T08:28:45.464Z"
   },
   {
    "duration": 427,
    "start_time": "2021-12-29T08:28:46.634Z"
   },
   {
    "duration": 16,
    "start_time": "2021-12-29T08:28:47.063Z"
   },
   {
    "duration": 15,
    "start_time": "2021-12-29T08:28:47.081Z"
   },
   {
    "duration": 172,
    "start_time": "2021-12-29T08:28:47.098Z"
   },
   {
    "duration": 81,
    "start_time": "2021-12-29T08:28:47.272Z"
   },
   {
    "duration": 117,
    "start_time": "2021-12-29T08:28:47.355Z"
   },
   {
    "duration": 131,
    "start_time": "2021-12-29T08:28:47.474Z"
   },
   {
    "duration": 54,
    "start_time": "2021-12-29T08:28:47.867Z"
   },
   {
    "duration": 44,
    "start_time": "2021-12-29T08:29:07.287Z"
   },
   {
    "duration": 50,
    "start_time": "2021-12-29T08:29:53.865Z"
   },
   {
    "duration": 39,
    "start_time": "2021-12-29T08:30:17.195Z"
   },
   {
    "duration": 46,
    "start_time": "2021-12-29T08:32:00.318Z"
   },
   {
    "duration": 51,
    "start_time": "2021-12-29T08:34:22.852Z"
   },
   {
    "duration": 300,
    "start_time": "2021-12-29T08:34:40.505Z"
   },
   {
    "duration": 403,
    "start_time": "2021-12-29T08:34:52.690Z"
   },
   {
    "duration": 262,
    "start_time": "2021-12-29T08:35:03.458Z"
   },
   {
    "duration": 47,
    "start_time": "2021-12-29T08:35:24.874Z"
   },
   {
    "duration": 45,
    "start_time": "2021-12-29T08:35:33.344Z"
   },
   {
    "duration": 50,
    "start_time": "2021-12-29T08:36:09.365Z"
   },
   {
    "duration": 89,
    "start_time": "2021-12-29T08:36:57.997Z"
   },
   {
    "duration": 46,
    "start_time": "2021-12-29T08:37:09.368Z"
   },
   {
    "duration": 180,
    "start_time": "2021-12-29T08:37:43.957Z"
   },
   {
    "duration": 184,
    "start_time": "2021-12-29T08:37:52.945Z"
   },
   {
    "duration": 189,
    "start_time": "2021-12-29T08:37:59.241Z"
   },
   {
    "duration": 200,
    "start_time": "2021-12-29T08:38:11.821Z"
   },
   {
    "duration": 204,
    "start_time": "2021-12-29T08:38:27.641Z"
   },
   {
    "duration": 185,
    "start_time": "2021-12-29T08:39:28.914Z"
   },
   {
    "duration": 2924,
    "start_time": "2021-12-29T08:39:51.568Z"
   },
   {
    "duration": 42,
    "start_time": "2021-12-29T08:40:05.672Z"
   },
   {
    "duration": 52,
    "start_time": "2021-12-29T08:40:22.224Z"
   },
   {
    "duration": 54,
    "start_time": "2021-12-29T08:41:24.786Z"
   },
   {
    "duration": 39,
    "start_time": "2021-12-29T08:49:01.773Z"
   },
   {
    "duration": 270,
    "start_time": "2021-12-29T08:49:33.809Z"
   },
   {
    "duration": 274,
    "start_time": "2021-12-29T09:21:44.942Z"
   },
   {
    "duration": 163,
    "start_time": "2021-12-29T09:23:06.830Z"
   },
   {
    "duration": 182,
    "start_time": "2021-12-29T09:23:17.282Z"
   },
   {
    "duration": 48,
    "start_time": "2021-12-29T09:23:27.644Z"
   },
   {
    "duration": 43,
    "start_time": "2021-12-29T09:23:38.428Z"
   },
   {
    "duration": 11,
    "start_time": "2021-12-29T09:26:14.580Z"
   },
   {
    "duration": 12,
    "start_time": "2021-12-29T09:27:09.765Z"
   },
   {
    "duration": 49,
    "start_time": "2021-12-29T09:29:30.980Z"
   },
   {
    "duration": 48,
    "start_time": "2021-12-29T09:29:48.909Z"
   },
   {
    "duration": 34,
    "start_time": "2021-12-29T09:32:38.049Z"
   },
   {
    "duration": 50,
    "start_time": "2021-12-29T09:36:00.985Z"
   },
   {
    "duration": 151,
    "start_time": "2021-12-29T09:36:43.918Z"
   },
   {
    "duration": 128,
    "start_time": "2021-12-29T09:37:18.081Z"
   },
   {
    "duration": 138,
    "start_time": "2021-12-29T09:37:52.901Z"
   },
   {
    "duration": 30,
    "start_time": "2021-12-29T09:38:39.314Z"
   },
   {
    "duration": 30,
    "start_time": "2021-12-29T09:40:09.492Z"
   },
   {
    "duration": 53,
    "start_time": "2021-12-29T09:42:15.913Z"
   },
   {
    "duration": 156,
    "start_time": "2021-12-29T09:42:21.548Z"
   },
   {
    "duration": 12,
    "start_time": "2021-12-29T09:42:34.540Z"
   },
   {
    "duration": 34,
    "start_time": "2021-12-29T09:42:41.532Z"
   },
   {
    "duration": 22,
    "start_time": "2021-12-29T09:43:08.915Z"
   },
   {
    "duration": 78,
    "start_time": "2021-12-29T09:50:08.297Z"
   },
   {
    "duration": 116,
    "start_time": "2021-12-29T09:51:36.618Z"
   },
   {
    "duration": 198,
    "start_time": "2021-12-29T09:54:03.624Z"
   },
   {
    "duration": 136,
    "start_time": "2021-12-29T09:57:17.927Z"
   },
   {
    "duration": 195,
    "start_time": "2021-12-29T10:07:12.622Z"
   },
   {
    "duration": 50,
    "start_time": "2021-12-29T10:07:28.188Z"
   },
   {
    "duration": 194,
    "start_time": "2021-12-29T10:07:41.769Z"
   },
   {
    "duration": 51,
    "start_time": "2021-12-29T10:07:58.890Z"
   },
   {
    "duration": 3860,
    "start_time": "2021-12-29T10:08:34.162Z"
   },
   {
    "duration": 51,
    "start_time": "2021-12-29T10:08:55.963Z"
   },
   {
    "duration": 105,
    "start_time": "2021-12-29T10:09:50.902Z"
   },
   {
    "duration": 3,
    "start_time": "2021-12-29T10:09:54.623Z"
   },
   {
    "duration": 415,
    "start_time": "2021-12-29T10:09:54.636Z"
   },
   {
    "duration": 15,
    "start_time": "2021-12-29T10:09:55.053Z"
   },
   {
    "duration": 11,
    "start_time": "2021-12-29T10:09:55.211Z"
   },
   {
    "duration": 157,
    "start_time": "2021-12-29T10:09:55.224Z"
   },
   {
    "duration": 69,
    "start_time": "2021-12-29T10:09:55.383Z"
   },
   {
    "duration": 122,
    "start_time": "2021-12-29T10:09:55.454Z"
   },
   {
    "duration": 44,
    "start_time": "2021-12-29T10:09:58.273Z"
   },
   {
    "duration": 55,
    "start_time": "2021-12-29T10:10:13.561Z"
   },
   {
    "duration": 82,
    "start_time": "2021-12-29T10:12:00.747Z"
   },
   {
    "duration": 93,
    "start_time": "2021-12-29T10:12:11.649Z"
   },
   {
    "duration": 183,
    "start_time": "2021-12-29T10:13:50.501Z"
   },
   {
    "duration": 109,
    "start_time": "2021-12-29T10:14:24.160Z"
   },
   {
    "duration": 96,
    "start_time": "2021-12-29T10:14:38.739Z"
   },
   {
    "duration": 46,
    "start_time": "2021-12-29T10:22:58.263Z"
   },
   {
    "duration": 639,
    "start_time": "2021-12-29T10:23:12.104Z"
   },
   {
    "duration": 109,
    "start_time": "2021-12-29T10:23:22.283Z"
   },
   {
    "duration": 88,
    "start_time": "2021-12-29T10:25:29.669Z"
   },
   {
    "duration": 360,
    "start_time": "2021-12-29T10:27:00.917Z"
   },
   {
    "duration": 96,
    "start_time": "2021-12-29T10:28:24.279Z"
   },
   {
    "duration": 150,
    "start_time": "2021-12-29T10:28:37.524Z"
   },
   {
    "duration": 96,
    "start_time": "2021-12-29T10:29:39.077Z"
   },
   {
    "duration": 86,
    "start_time": "2021-12-29T10:35:55.095Z"
   },
   {
    "duration": 237,
    "start_time": "2021-12-29T10:36:20.119Z"
   },
   {
    "duration": 229,
    "start_time": "2021-12-29T10:37:16.038Z"
   },
   {
    "duration": 163,
    "start_time": "2021-12-29T10:39:01.701Z"
   },
   {
    "duration": 464,
    "start_time": "2021-12-29T10:39:30.983Z"
   },
   {
    "duration": 83,
    "start_time": "2021-12-29T10:39:50.828Z"
   },
   {
    "duration": 100,
    "start_time": "2021-12-29T10:40:07.692Z"
   },
   {
    "duration": 90,
    "start_time": "2021-12-29T10:40:44.355Z"
   },
   {
    "duration": 85,
    "start_time": "2021-12-29T10:40:49.883Z"
   },
   {
    "duration": 90,
    "start_time": "2021-12-29T10:41:05.970Z"
   },
   {
    "duration": 50,
    "start_time": "2021-12-29T10:43:01.324Z"
   },
   {
    "duration": 53,
    "start_time": "2021-12-29T10:45:24.712Z"
   },
   {
    "duration": 43,
    "start_time": "2021-12-29T10:49:10.694Z"
   },
   {
    "duration": 45,
    "start_time": "2021-12-29T10:50:52.976Z"
   },
   {
    "duration": 165,
    "start_time": "2021-12-29T10:51:08.003Z"
   },
   {
    "duration": 103,
    "start_time": "2021-12-29T10:51:24.524Z"
   },
   {
    "duration": 92,
    "start_time": "2021-12-29T10:51:34.638Z"
   },
   {
    "duration": 95,
    "start_time": "2021-12-29T10:52:51.841Z"
   },
   {
    "duration": 76,
    "start_time": "2021-12-29T10:52:58.597Z"
   },
   {
    "duration": 26,
    "start_time": "2021-12-29T10:53:23.705Z"
   },
   {
    "duration": 338,
    "start_time": "2021-12-29T10:53:57.711Z"
   },
   {
    "duration": 170,
    "start_time": "2021-12-29T10:54:13.437Z"
   },
   {
    "duration": 21,
    "start_time": "2021-12-29T10:54:26.146Z"
   },
   {
    "duration": 49,
    "start_time": "2021-12-29T10:55:04.355Z"
   },
   {
    "duration": 32,
    "start_time": "2021-12-29T10:55:22.904Z"
   },
   {
    "duration": 30,
    "start_time": "2021-12-29T10:57:06.016Z"
   },
   {
    "duration": 126,
    "start_time": "2021-12-29T10:57:48.447Z"
   },
   {
    "duration": 35,
    "start_time": "2021-12-29T10:58:14.605Z"
   },
   {
    "duration": 28,
    "start_time": "2021-12-29T10:58:25.894Z"
   },
   {
    "duration": 27,
    "start_time": "2021-12-29T10:58:34.892Z"
   },
   {
    "duration": 29,
    "start_time": "2021-12-29T11:02:45.732Z"
   },
   {
    "duration": 22,
    "start_time": "2021-12-29T11:05:21.879Z"
   },
   {
    "duration": 19,
    "start_time": "2021-12-29T11:05:51.845Z"
   },
   {
    "duration": 41,
    "start_time": "2021-12-29T11:05:58.190Z"
   },
   {
    "duration": 21,
    "start_time": "2021-12-29T11:06:34.692Z"
   },
   {
    "duration": 41,
    "start_time": "2021-12-29T11:06:40.458Z"
   },
   {
    "duration": 7,
    "start_time": "2021-12-29T11:07:25.403Z"
   },
   {
    "duration": 8,
    "start_time": "2021-12-29T11:08:38.721Z"
   },
   {
    "duration": 168,
    "start_time": "2021-12-29T11:10:59.876Z"
   },
   {
    "duration": 152,
    "start_time": "2021-12-29T11:11:19.351Z"
   },
   {
    "duration": 136,
    "start_time": "2021-12-29T11:11:22.912Z"
   },
   {
    "duration": 11,
    "start_time": "2021-12-29T11:11:27.661Z"
   },
   {
    "duration": 142,
    "start_time": "2021-12-29T11:11:46.801Z"
   },
   {
    "duration": 18,
    "start_time": "2021-12-29T11:12:04.966Z"
   },
   {
    "duration": 350,
    "start_time": "2021-12-29T11:12:40.785Z"
   },
   {
    "duration": 136,
    "start_time": "2021-12-29T11:12:51.558Z"
   },
   {
    "duration": 155,
    "start_time": "2021-12-29T11:13:01.420Z"
   },
   {
    "duration": 18,
    "start_time": "2021-12-29T11:13:23.946Z"
   },
   {
    "duration": 18,
    "start_time": "2021-12-29T11:14:23.618Z"
   },
   {
    "duration": 145,
    "start_time": "2021-12-29T11:14:30.979Z"
   },
   {
    "duration": 138,
    "start_time": "2021-12-29T11:15:06.134Z"
   },
   {
    "duration": 17,
    "start_time": "2021-12-29T11:15:19.325Z"
   },
   {
    "duration": 27,
    "start_time": "2021-12-29T11:15:31.119Z"
   },
   {
    "duration": 151,
    "start_time": "2021-12-29T11:18:24.783Z"
   },
   {
    "duration": 10,
    "start_time": "2021-12-29T11:19:03.519Z"
   },
   {
    "duration": 9,
    "start_time": "2021-12-29T11:19:05.995Z"
   },
   {
    "duration": 26,
    "start_time": "2021-12-29T11:19:14.986Z"
   },
   {
    "duration": 3943,
    "start_time": "2021-12-29T11:19:59.329Z"
   },
   {
    "duration": 3573,
    "start_time": "2021-12-29T11:20:06.922Z"
   },
   {
    "duration": 3,
    "start_time": "2021-12-29T11:20:50.939Z"
   },
   {
    "duration": 401,
    "start_time": "2021-12-29T11:20:50.949Z"
   },
   {
    "duration": 13,
    "start_time": "2021-12-29T11:20:51.352Z"
   },
   {
    "duration": 11,
    "start_time": "2021-12-29T11:20:51.367Z"
   },
   {
    "duration": 137,
    "start_time": "2021-12-29T11:20:51.380Z"
   },
   {
    "duration": 74,
    "start_time": "2021-12-29T11:20:51.519Z"
   },
   {
    "duration": 98,
    "start_time": "2021-12-29T11:20:51.595Z"
   },
   {
    "duration": 105,
    "start_time": "2021-12-29T11:20:51.695Z"
   },
   {
    "duration": 51,
    "start_time": "2021-12-29T11:20:51.802Z"
   },
   {
    "duration": 59,
    "start_time": "2021-12-29T11:20:51.855Z"
   },
   {
    "duration": 31,
    "start_time": "2021-12-29T11:20:51.915Z"
   },
   {
    "duration": 9,
    "start_time": "2021-12-29T11:21:16.453Z"
   },
   {
    "duration": 26,
    "start_time": "2021-12-29T11:22:14.911Z"
   },
   {
    "duration": 11,
    "start_time": "2021-12-29T11:22:34.645Z"
   },
   {
    "duration": 12,
    "start_time": "2021-12-29T11:22:59.003Z"
   },
   {
    "duration": 26,
    "start_time": "2021-12-29T11:23:04.909Z"
   },
   {
    "duration": 14,
    "start_time": "2021-12-29T11:26:29.651Z"
   },
   {
    "duration": 19,
    "start_time": "2021-12-29T11:26:37.875Z"
   },
   {
    "duration": 30,
    "start_time": "2021-12-29T11:27:26.205Z"
   },
   {
    "duration": 19,
    "start_time": "2021-12-29T11:28:43.046Z"
   },
   {
    "duration": 19,
    "start_time": "2021-12-29T11:30:37.440Z"
   },
   {
    "duration": 39,
    "start_time": "2021-12-29T11:30:45.584Z"
   },
   {
    "duration": 33,
    "start_time": "2021-12-29T11:31:02.579Z"
   },
   {
    "duration": 86,
    "start_time": "2021-12-29T11:32:07.024Z"
   },
   {
    "duration": 45,
    "start_time": "2021-12-29T11:34:22.424Z"
   },
   {
    "duration": 164,
    "start_time": "2021-12-29T11:34:27.636Z"
   },
   {
    "duration": 25,
    "start_time": "2021-12-29T13:21:29.327Z"
   },
   {
    "duration": 45,
    "start_time": "2021-12-29T13:22:13.453Z"
   },
   {
    "duration": 25,
    "start_time": "2021-12-29T13:22:59.265Z"
   },
   {
    "duration": 23,
    "start_time": "2021-12-29T13:25:03.199Z"
   },
   {
    "duration": 22,
    "start_time": "2021-12-29T13:25:29.305Z"
   },
   {
    "duration": 3,
    "start_time": "2021-12-29T13:25:58.541Z"
   },
   {
    "duration": 362,
    "start_time": "2021-12-29T13:25:58.570Z"
   },
   {
    "duration": 12,
    "start_time": "2021-12-29T13:25:58.934Z"
   },
   {
    "duration": 11,
    "start_time": "2021-12-29T13:25:58.948Z"
   },
   {
    "duration": 128,
    "start_time": "2021-12-29T13:25:58.960Z"
   },
   {
    "duration": 59,
    "start_time": "2021-12-29T13:25:59.090Z"
   },
   {
    "duration": 104,
    "start_time": "2021-12-29T13:25:59.150Z"
   },
   {
    "duration": 100,
    "start_time": "2021-12-29T13:25:59.255Z"
   },
   {
    "duration": 57,
    "start_time": "2021-12-29T13:25:59.357Z"
   },
   {
    "duration": 41,
    "start_time": "2021-12-29T13:25:59.416Z"
   },
   {
    "duration": 46,
    "start_time": "2021-12-29T13:25:59.458Z"
   },
   {
    "duration": 23,
    "start_time": "2021-12-29T13:26:03.923Z"
   },
   {
    "duration": 45,
    "start_time": "2021-12-29T13:29:32.398Z"
   },
   {
    "duration": 44,
    "start_time": "2021-12-29T13:29:39.677Z"
   },
   {
    "duration": 240,
    "start_time": "2021-12-29T13:29:56.076Z"
   },
   {
    "duration": 4015,
    "start_time": "2021-12-29T13:30:06.125Z"
   },
   {
    "duration": 4491,
    "start_time": "2021-12-29T13:31:14.079Z"
   },
   {
    "duration": 3440,
    "start_time": "2021-12-29T13:32:14.903Z"
   },
   {
    "duration": 3595,
    "start_time": "2021-12-29T13:32:39.923Z"
   },
   {
    "duration": 11,
    "start_time": "2021-12-29T13:32:54.741Z"
   },
   {
    "duration": 10,
    "start_time": "2021-12-29T13:33:22.337Z"
   },
   {
    "duration": 12,
    "start_time": "2021-12-29T13:33:38.237Z"
   },
   {
    "duration": 11,
    "start_time": "2021-12-29T13:33:47.376Z"
   },
   {
    "duration": 147,
    "start_time": "2021-12-29T13:34:05.537Z"
   },
   {
    "duration": 12,
    "start_time": "2021-12-29T13:34:49.427Z"
   },
   {
    "duration": 12,
    "start_time": "2021-12-29T13:35:10.786Z"
   },
   {
    "duration": 296,
    "start_time": "2021-12-29T13:36:02.767Z"
   },
   {
    "duration": 26,
    "start_time": "2021-12-29T13:39:12.426Z"
   },
   {
    "duration": 25,
    "start_time": "2021-12-29T13:39:39.310Z"
   },
   {
    "duration": 27,
    "start_time": "2021-12-29T13:39:54.610Z"
   },
   {
    "duration": 20,
    "start_time": "2021-12-29T13:40:45.971Z"
   },
   {
    "duration": 21,
    "start_time": "2021-12-29T13:41:36.859Z"
   },
   {
    "duration": 20,
    "start_time": "2021-12-29T13:41:39.644Z"
   },
   {
    "duration": 114,
    "start_time": "2021-12-29T13:41:49.635Z"
   },
   {
    "duration": 20,
    "start_time": "2021-12-29T13:41:54.309Z"
   },
   {
    "duration": 3,
    "start_time": "2021-12-29T13:41:58.364Z"
   },
   {
    "duration": 379,
    "start_time": "2021-12-29T13:41:58.371Z"
   },
   {
    "duration": 11,
    "start_time": "2021-12-29T13:41:58.752Z"
   },
   {
    "duration": 12,
    "start_time": "2021-12-29T13:41:58.765Z"
   },
   {
    "duration": 124,
    "start_time": "2021-12-29T13:41:58.778Z"
   },
   {
    "duration": 58,
    "start_time": "2021-12-29T13:41:58.904Z"
   },
   {
    "duration": 95,
    "start_time": "2021-12-29T13:41:58.963Z"
   },
   {
    "duration": 103,
    "start_time": "2021-12-29T13:41:59.060Z"
   },
   {
    "duration": 56,
    "start_time": "2021-12-29T13:41:59.165Z"
   },
   {
    "duration": 42,
    "start_time": "2021-12-29T13:41:59.223Z"
   },
   {
    "duration": 21,
    "start_time": "2021-12-29T13:42:01.123Z"
   },
   {
    "duration": 32,
    "start_time": "2021-12-29T13:42:12.365Z"
   },
   {
    "duration": 4018,
    "start_time": "2021-12-29T13:43:15.509Z"
   },
   {
    "duration": 335,
    "start_time": "2021-12-29T13:43:54.116Z"
   },
   {
    "duration": 265,
    "start_time": "2021-12-29T13:44:33.592Z"
   },
   {
    "duration": 22,
    "start_time": "2021-12-29T13:44:49.510Z"
   },
   {
    "duration": 23,
    "start_time": "2021-12-29T13:44:55.875Z"
   },
   {
    "duration": 47,
    "start_time": "2021-12-29T13:45:32.737Z"
   },
   {
    "duration": 247,
    "start_time": "2021-12-29T13:45:41.107Z"
   },
   {
    "duration": 167,
    "start_time": "2021-12-29T13:46:06.908Z"
   },
   {
    "duration": 176,
    "start_time": "2021-12-29T13:46:22.956Z"
   },
   {
    "duration": 246,
    "start_time": "2021-12-29T13:46:58.020Z"
   },
   {
    "duration": 149,
    "start_time": "2021-12-29T13:47:33.699Z"
   },
   {
    "duration": 161,
    "start_time": "2021-12-29T13:48:05.404Z"
   },
   {
    "duration": 33,
    "start_time": "2021-12-29T13:48:34.754Z"
   },
   {
    "duration": 3741,
    "start_time": "2021-12-29T13:49:47.810Z"
   },
   {
    "duration": 3764,
    "start_time": "2021-12-29T13:50:05.172Z"
   },
   {
    "duration": 3725,
    "start_time": "2021-12-29T13:50:19.040Z"
   },
   {
    "duration": 22,
    "start_time": "2021-12-29T13:50:33.126Z"
   },
   {
    "duration": 22,
    "start_time": "2021-12-29T13:50:41.714Z"
   },
   {
    "duration": 23,
    "start_time": "2021-12-29T13:50:48.454Z"
   },
   {
    "duration": 21,
    "start_time": "2021-12-29T13:50:53.856Z"
   },
   {
    "duration": 22,
    "start_time": "2021-12-29T13:51:06.754Z"
   },
   {
    "duration": 33,
    "start_time": "2021-12-29T13:51:17.622Z"
   },
   {
    "duration": 146,
    "start_time": "2021-12-29T13:55:06.335Z"
   },
   {
    "duration": 1169,
    "start_time": "2021-12-29T13:57:33.012Z"
   },
   {
    "duration": 20,
    "start_time": "2021-12-29T13:57:51.561Z"
   },
   {
    "duration": 22,
    "start_time": "2021-12-29T13:58:30.108Z"
   },
   {
    "duration": 817,
    "start_time": "2021-12-29T13:59:19.322Z"
   },
   {
    "duration": 512,
    "start_time": "2021-12-29T14:00:18.358Z"
   },
   {
    "duration": 156,
    "start_time": "2021-12-29T14:01:37.478Z"
   },
   {
    "duration": 3902,
    "start_time": "2021-12-29T14:03:01.754Z"
   },
   {
    "duration": 32,
    "start_time": "2021-12-29T14:05:43.746Z"
   },
   {
    "duration": 174,
    "start_time": "2021-12-29T14:07:03.459Z"
   },
   {
    "duration": 172,
    "start_time": "2021-12-29T14:07:18.555Z"
   },
   {
    "duration": 3,
    "start_time": "2021-12-29T14:07:24.844Z"
   },
   {
    "duration": 393,
    "start_time": "2021-12-29T14:07:24.858Z"
   },
   {
    "duration": 13,
    "start_time": "2021-12-29T14:07:25.253Z"
   },
   {
    "duration": 10,
    "start_time": "2021-12-29T14:07:25.268Z"
   },
   {
    "duration": 127,
    "start_time": "2021-12-29T14:07:28.256Z"
   },
   {
    "duration": 96,
    "start_time": "2021-12-29T14:07:59.327Z"
   },
   {
    "duration": 235,
    "start_time": "2021-12-29T14:08:25.166Z"
   },
   {
    "duration": 2860,
    "start_time": "2021-12-29T14:08:41.876Z"
   },
   {
    "duration": 148,
    "start_time": "2021-12-29T14:09:02.932Z"
   },
   {
    "duration": 3,
    "start_time": "2021-12-29T14:09:11.157Z"
   },
   {
    "duration": 384,
    "start_time": "2021-12-29T14:09:11.187Z"
   },
   {
    "duration": 12,
    "start_time": "2021-12-29T14:09:11.573Z"
   },
   {
    "duration": 11,
    "start_time": "2021-12-29T14:09:11.587Z"
   },
   {
    "duration": 2942,
    "start_time": "2021-12-29T14:09:30.531Z"
   },
   {
    "duration": 2953,
    "start_time": "2021-12-29T14:10:14.459Z"
   },
   {
    "duration": 3,
    "start_time": "2021-12-29T14:10:21.988Z"
   },
   {
    "duration": 382,
    "start_time": "2021-12-29T14:10:22.002Z"
   },
   {
    "duration": 14,
    "start_time": "2021-12-29T14:10:22.386Z"
   },
   {
    "duration": 12,
    "start_time": "2021-12-29T14:10:22.403Z"
   },
   {
    "duration": 2864,
    "start_time": "2021-12-29T14:10:24.741Z"
   },
   {
    "duration": 3,
    "start_time": "2021-12-29T14:10:41.098Z"
   },
   {
    "duration": 368,
    "start_time": "2021-12-29T14:10:41.108Z"
   },
   {
    "duration": 11,
    "start_time": "2021-12-29T14:10:41.478Z"
   },
   {
    "duration": 27,
    "start_time": "2021-12-29T14:10:41.491Z"
   },
   {
    "duration": 2904,
    "start_time": "2021-12-29T14:10:45.632Z"
   },
   {
    "duration": 91,
    "start_time": "2021-12-29T14:11:14.975Z"
   },
   {
    "duration": 2826,
    "start_time": "2021-12-29T14:11:49.832Z"
   },
   {
    "duration": 3,
    "start_time": "2021-12-29T14:12:00.693Z"
   },
   {
    "duration": 378,
    "start_time": "2021-12-29T14:12:00.702Z"
   },
   {
    "duration": 13,
    "start_time": "2021-12-29T14:12:01.081Z"
   },
   {
    "duration": 24,
    "start_time": "2021-12-29T14:12:01.096Z"
   },
   {
    "duration": 2842,
    "start_time": "2021-12-29T14:12:01.122Z"
   },
   {
    "duration": 2835,
    "start_time": "2021-12-29T14:12:03.966Z"
   },
   {
    "duration": 3,
    "start_time": "2021-12-29T14:12:57.095Z"
   },
   {
    "duration": 362,
    "start_time": "2021-12-29T14:12:57.102Z"
   },
   {
    "duration": 11,
    "start_time": "2021-12-29T14:12:57.466Z"
   },
   {
    "duration": 10,
    "start_time": "2021-12-29T14:12:57.479Z"
   },
   {
    "duration": 2813,
    "start_time": "2021-12-29T14:12:57.491Z"
   },
   {
    "duration": 74,
    "start_time": "2021-12-29T14:13:02.002Z"
   },
   {
    "duration": 4,
    "start_time": "2021-12-29T14:14:17.808Z"
   },
   {
    "duration": 399,
    "start_time": "2021-12-29T14:14:17.814Z"
   },
   {
    "duration": 13,
    "start_time": "2021-12-29T14:14:18.215Z"
   },
   {
    "duration": 11,
    "start_time": "2021-12-29T14:14:18.230Z"
   },
   {
    "duration": 2932,
    "start_time": "2021-12-29T14:14:18.243Z"
   },
   {
    "duration": 1736,
    "start_time": "2021-12-29T14:14:21.177Z"
   },
   {
    "duration": 2176,
    "start_time": "2021-12-29T14:15:22.722Z"
   },
   {
    "duration": 93,
    "start_time": "2021-12-29T14:15:34.820Z"
   },
   {
    "duration": 52,
    "start_time": "2021-12-29T14:15:45.055Z"
   },
   {
    "duration": 44,
    "start_time": "2021-12-29T14:15:51.457Z"
   },
   {
    "duration": 22,
    "start_time": "2021-12-29T14:15:59.926Z"
   },
   {
    "duration": 25,
    "start_time": "2021-12-29T14:16:13.376Z"
   },
   {
    "duration": 4147,
    "start_time": "2021-12-29T14:17:22.185Z"
   },
   {
    "duration": 11,
    "start_time": "2021-12-29T14:17:43.399Z"
   },
   {
    "duration": 26,
    "start_time": "2021-12-29T14:18:02.333Z"
   },
   {
    "duration": 9,
    "start_time": "2021-12-29T14:18:12.713Z"
   },
   {
    "duration": 22,
    "start_time": "2021-12-29T14:18:22.945Z"
   },
   {
    "duration": 52,
    "start_time": "2021-12-29T14:20:36.210Z"
   },
   {
    "duration": 9,
    "start_time": "2021-12-29T14:20:45.511Z"
   },
   {
    "duration": 245,
    "start_time": "2021-12-29T14:21:07.120Z"
   },
   {
    "duration": 260,
    "start_time": "2021-12-29T14:21:29.692Z"
   },
   {
    "duration": 36,
    "start_time": "2021-12-29T14:23:59.869Z"
   },
   {
    "duration": 3029,
    "start_time": "2021-12-29T14:26:08.996Z"
   },
   {
    "duration": 3064,
    "start_time": "2021-12-29T14:26:23.112Z"
   },
   {
    "duration": 2,
    "start_time": "2021-12-29T14:26:36.650Z"
   },
   {
    "duration": 361,
    "start_time": "2021-12-29T14:26:36.658Z"
   },
   {
    "duration": 12,
    "start_time": "2021-12-29T14:26:37.021Z"
   },
   {
    "duration": 14,
    "start_time": "2021-12-29T14:26:37.034Z"
   },
   {
    "duration": 2862,
    "start_time": "2021-12-29T14:26:42.537Z"
   },
   {
    "duration": 3,
    "start_time": "2021-12-29T14:27:04.219Z"
   },
   {
    "duration": 379,
    "start_time": "2021-12-29T14:27:04.232Z"
   },
   {
    "duration": 13,
    "start_time": "2021-12-29T14:27:04.613Z"
   },
   {
    "duration": 32,
    "start_time": "2021-12-29T14:27:04.629Z"
   },
   {
    "duration": 2890,
    "start_time": "2021-12-29T14:27:07.214Z"
   },
   {
    "duration": 171,
    "start_time": "2021-12-29T14:27:42.435Z"
   },
   {
    "duration": 157,
    "start_time": "2021-12-29T14:28:34.517Z"
   },
   {
    "duration": 2,
    "start_time": "2021-12-29T14:28:47.668Z"
   },
   {
    "duration": 382,
    "start_time": "2021-12-29T14:28:47.676Z"
   },
   {
    "duration": 13,
    "start_time": "2021-12-29T14:28:48.060Z"
   },
   {
    "duration": 13,
    "start_time": "2021-12-29T14:28:48.075Z"
   },
   {
    "duration": 6429,
    "start_time": "2021-12-29T14:28:51.598Z"
   },
   {
    "duration": 3,
    "start_time": "2021-12-29T14:29:10.524Z"
   },
   {
    "duration": 401,
    "start_time": "2021-12-29T14:29:10.529Z"
   },
   {
    "duration": 12,
    "start_time": "2021-12-29T14:29:10.932Z"
   },
   {
    "duration": 16,
    "start_time": "2021-12-29T14:29:10.945Z"
   },
   {
    "duration": 2817,
    "start_time": "2021-12-29T14:29:20.039Z"
   },
   {
    "duration": 2787,
    "start_time": "2021-12-29T14:34:21.154Z"
   },
   {
    "duration": 3,
    "start_time": "2021-12-29T14:34:29.479Z"
   },
   {
    "duration": 361,
    "start_time": "2021-12-29T14:34:29.486Z"
   },
   {
    "duration": 12,
    "start_time": "2021-12-29T14:34:29.849Z"
   },
   {
    "duration": 12,
    "start_time": "2021-12-29T14:34:29.863Z"
   },
   {
    "duration": 2843,
    "start_time": "2021-12-29T14:34:33.092Z"
   },
   {
    "duration": 35,
    "start_time": "2021-12-29T14:35:50.457Z"
   },
   {
    "duration": 106,
    "start_time": "2021-12-29T14:39:29.208Z"
   },
   {
    "duration": 162,
    "start_time": "2021-12-29T14:39:34.149Z"
   },
   {
    "duration": 201,
    "start_time": "2021-12-29T14:39:46.807Z"
   },
   {
    "duration": 159,
    "start_time": "2021-12-29T14:39:49.742Z"
   },
   {
    "duration": 162,
    "start_time": "2021-12-29T14:40:00.418Z"
   },
   {
    "duration": 20,
    "start_time": "2021-12-29T14:40:11.180Z"
   },
   {
    "duration": 33,
    "start_time": "2021-12-29T14:40:16.776Z"
   },
   {
    "duration": 26,
    "start_time": "2021-12-29T14:40:26.712Z"
   },
   {
    "duration": 3,
    "start_time": "2021-12-29T14:42:13.985Z"
   },
   {
    "duration": 375,
    "start_time": "2021-12-29T14:42:13.990Z"
   },
   {
    "duration": 12,
    "start_time": "2021-12-29T14:42:14.367Z"
   },
   {
    "duration": 10,
    "start_time": "2021-12-29T14:42:14.381Z"
   },
   {
    "duration": 2899,
    "start_time": "2021-12-29T14:42:14.393Z"
   },
   {
    "duration": 1710,
    "start_time": "2021-12-29T14:42:17.294Z"
   },
   {
    "duration": 2145,
    "start_time": "2021-12-29T14:42:19.005Z"
   },
   {
    "duration": 108,
    "start_time": "2021-12-29T14:42:21.152Z"
   },
   {
    "duration": 55,
    "start_time": "2021-12-29T14:42:21.262Z"
   },
   {
    "duration": 43,
    "start_time": "2021-12-29T14:42:21.319Z"
   },
   {
    "duration": 43,
    "start_time": "2021-12-29T14:42:21.363Z"
   },
   {
    "duration": 264,
    "start_time": "2021-12-29T14:42:21.408Z"
   },
   {
    "duration": 27,
    "start_time": "2021-12-29T14:43:20.139Z"
   },
   {
    "duration": 4,
    "start_time": "2021-12-29T14:45:32.844Z"
   },
   {
    "duration": 398,
    "start_time": "2021-12-29T14:45:32.888Z"
   },
   {
    "duration": 11,
    "start_time": "2021-12-29T14:45:33.288Z"
   },
   {
    "duration": 10,
    "start_time": "2021-12-29T14:45:33.301Z"
   },
   {
    "duration": 2880,
    "start_time": "2021-12-29T14:45:33.313Z"
   },
   {
    "duration": 1735,
    "start_time": "2021-12-29T14:45:36.195Z"
   },
   {
    "duration": 2051,
    "start_time": "2021-12-29T14:45:37.931Z"
   },
   {
    "duration": 108,
    "start_time": "2021-12-29T14:45:39.984Z"
   },
   {
    "duration": 115,
    "start_time": "2021-12-29T14:45:40.094Z"
   },
   {
    "duration": 43,
    "start_time": "2021-12-29T14:45:40.211Z"
   },
   {
    "duration": 36,
    "start_time": "2021-12-29T14:45:40.256Z"
   },
   {
    "duration": 25,
    "start_time": "2021-12-29T14:45:40.294Z"
   },
   {
    "duration": 11,
    "start_time": "2021-12-29T14:47:18.992Z"
   },
   {
    "duration": 23,
    "start_time": "2021-12-29T14:47:24.481Z"
   },
   {
    "duration": 43,
    "start_time": "2021-12-29T14:48:10.813Z"
   },
   {
    "duration": 3,
    "start_time": "2021-12-29T14:48:41.405Z"
   },
   {
    "duration": 397,
    "start_time": "2021-12-29T14:48:41.410Z"
   },
   {
    "duration": 32,
    "start_time": "2021-12-29T14:48:41.809Z"
   },
   {
    "duration": 3,
    "start_time": "2021-12-29T14:49:23.008Z"
   },
   {
    "duration": 399,
    "start_time": "2021-12-29T14:49:23.016Z"
   },
   {
    "duration": 33,
    "start_time": "2021-12-29T14:49:23.417Z"
   },
   {
    "duration": 12,
    "start_time": "2021-12-29T14:49:23.452Z"
   },
   {
    "duration": 2855,
    "start_time": "2021-12-29T14:49:23.466Z"
   },
   {
    "duration": 1673,
    "start_time": "2021-12-29T14:49:26.323Z"
   },
   {
    "duration": 2104,
    "start_time": "2021-12-29T14:49:27.998Z"
   },
   {
    "duration": 103,
    "start_time": "2021-12-29T14:49:30.104Z"
   },
   {
    "duration": 51,
    "start_time": "2021-12-29T14:49:30.209Z"
   },
   {
    "duration": 60,
    "start_time": "2021-12-29T14:49:30.262Z"
   },
   {
    "duration": 23,
    "start_time": "2021-12-29T14:49:30.324Z"
   },
   {
    "duration": 24,
    "start_time": "2021-12-29T14:49:30.349Z"
   },
   {
    "duration": 31,
    "start_time": "2021-12-29T14:50:45.579Z"
   },
   {
    "duration": 29,
    "start_time": "2021-12-29T14:55:41.896Z"
   },
   {
    "duration": 176,
    "start_time": "2021-12-29T14:57:08.489Z"
   },
   {
    "duration": 169,
    "start_time": "2021-12-29T14:57:15.420Z"
   },
   {
    "duration": 44,
    "start_time": "2021-12-29T14:57:38.531Z"
   },
   {
    "duration": 33,
    "start_time": "2021-12-29T14:58:14.367Z"
   },
   {
    "duration": 29,
    "start_time": "2021-12-29T14:59:37.530Z"
   },
   {
    "duration": 226,
    "start_time": "2021-12-29T15:00:35.992Z"
   },
   {
    "duration": 153,
    "start_time": "2021-12-29T15:00:55.578Z"
   },
   {
    "duration": 216,
    "start_time": "2021-12-29T15:01:06.998Z"
   },
   {
    "duration": 32,
    "start_time": "2021-12-29T15:01:16.059Z"
   },
   {
    "duration": 18,
    "start_time": "2021-12-29T15:03:11.353Z"
   },
   {
    "duration": 49,
    "start_time": "2021-12-29T15:07:04.995Z"
   },
   {
    "duration": 2,
    "start_time": "2021-12-29T15:07:47.853Z"
   },
   {
    "duration": 411,
    "start_time": "2021-12-29T15:07:47.857Z"
   },
   {
    "duration": 34,
    "start_time": "2021-12-29T15:07:48.270Z"
   },
   {
    "duration": 11,
    "start_time": "2021-12-29T15:07:48.306Z"
   },
   {
    "duration": 2885,
    "start_time": "2021-12-29T15:07:48.319Z"
   },
   {
    "duration": 1803,
    "start_time": "2021-12-29T15:07:51.206Z"
   },
   {
    "duration": 2050,
    "start_time": "2021-12-29T15:07:53.010Z"
   },
   {
    "duration": 108,
    "start_time": "2021-12-29T15:07:55.063Z"
   },
   {
    "duration": 60,
    "start_time": "2021-12-29T15:07:55.173Z"
   },
   {
    "duration": 43,
    "start_time": "2021-12-29T15:07:55.235Z"
   },
   {
    "duration": 39,
    "start_time": "2021-12-29T15:07:55.280Z"
   },
   {
    "duration": 30,
    "start_time": "2021-12-29T15:07:55.321Z"
   },
   {
    "duration": 18,
    "start_time": "2021-12-29T15:08:42.585Z"
   },
   {
    "duration": 157,
    "start_time": "2021-12-29T15:09:33.768Z"
   },
   {
    "duration": 52,
    "start_time": "2021-12-29T15:09:51.086Z"
   },
   {
    "duration": 866,
    "start_time": "2021-12-29T15:10:03.663Z"
   },
   {
    "duration": 1663,
    "start_time": "2021-12-29T15:15:06.617Z"
   },
   {
    "duration": 1598,
    "start_time": "2021-12-29T15:15:19.651Z"
   },
   {
    "duration": 1697,
    "start_time": "2021-12-29T15:15:44.824Z"
   },
   {
    "duration": 248,
    "start_time": "2021-12-29T15:16:35.919Z"
   },
   {
    "duration": 228,
    "start_time": "2021-12-29T15:18:17.163Z"
   },
   {
    "duration": 1130,
    "start_time": "2021-12-29T15:22:45.045Z"
   },
   {
    "duration": 242,
    "start_time": "2021-12-29T15:24:10.710Z"
   },
   {
    "duration": 12,
    "start_time": "2021-12-29T15:26:07.212Z"
   },
   {
    "duration": 22,
    "start_time": "2021-12-29T15:27:48.523Z"
   },
   {
    "duration": 3502,
    "start_time": "2021-12-29T15:28:45.271Z"
   },
   {
    "duration": 3,
    "start_time": "2021-12-29T15:28:58.646Z"
   },
   {
    "duration": 400,
    "start_time": "2021-12-29T15:28:58.675Z"
   },
   {
    "duration": 34,
    "start_time": "2021-12-29T15:28:59.077Z"
   },
   {
    "duration": 10,
    "start_time": "2021-12-29T15:28:59.113Z"
   },
   {
    "duration": 2871,
    "start_time": "2021-12-29T15:28:59.125Z"
   },
   {
    "duration": 1695,
    "start_time": "2021-12-29T15:29:01.997Z"
   },
   {
    "duration": 2191,
    "start_time": "2021-12-29T15:29:03.693Z"
   },
   {
    "duration": 122,
    "start_time": "2021-12-29T15:29:05.885Z"
   },
   {
    "duration": 57,
    "start_time": "2021-12-29T15:29:06.009Z"
   },
   {
    "duration": 65,
    "start_time": "2021-12-29T15:29:06.067Z"
   },
   {
    "duration": 30,
    "start_time": "2021-12-29T15:29:06.134Z"
   },
   {
    "duration": 41,
    "start_time": "2021-12-29T15:29:06.166Z"
   },
   {
    "duration": 8,
    "start_time": "2021-12-29T15:29:43.781Z"
   },
   {
    "duration": 107,
    "start_time": "2021-12-29T15:31:09.779Z"
   },
   {
    "duration": 146,
    "start_time": "2021-12-29T15:40:42.532Z"
   },
   {
    "duration": 11,
    "start_time": "2021-12-29T15:40:57.168Z"
   },
   {
    "duration": 27,
    "start_time": "2021-12-29T15:43:02.484Z"
   },
   {
    "duration": 21,
    "start_time": "2021-12-29T15:43:59.638Z"
   },
   {
    "duration": 28,
    "start_time": "2021-12-29T15:49:35.629Z"
   },
   {
    "duration": 41,
    "start_time": "2021-12-29T15:49:40.306Z"
   },
   {
    "duration": 158,
    "start_time": "2021-12-29T15:53:26.762Z"
   },
   {
    "duration": 165,
    "start_time": "2021-12-29T15:53:47.564Z"
   },
   {
    "duration": 3,
    "start_time": "2021-12-29T15:55:19.733Z"
   },
   {
    "duration": 416,
    "start_time": "2021-12-29T15:55:19.738Z"
   },
   {
    "duration": 33,
    "start_time": "2021-12-29T15:55:20.156Z"
   },
   {
    "duration": 11,
    "start_time": "2021-12-29T15:55:20.191Z"
   },
   {
    "duration": 2851,
    "start_time": "2021-12-29T15:55:20.203Z"
   },
   {
    "duration": 1744,
    "start_time": "2021-12-29T15:55:23.056Z"
   },
   {
    "duration": 2118,
    "start_time": "2021-12-29T15:55:24.802Z"
   },
   {
    "duration": 104,
    "start_time": "2021-12-29T15:55:26.923Z"
   },
   {
    "duration": 53,
    "start_time": "2021-12-29T15:55:27.029Z"
   },
   {
    "duration": 45,
    "start_time": "2021-12-29T15:55:27.092Z"
   },
   {
    "duration": 5,
    "start_time": "2021-12-29T15:55:27.139Z"
   },
   {
    "duration": 47,
    "start_time": "2021-12-29T15:55:27.146Z"
   },
   {
    "duration": 3468,
    "start_time": "2021-12-29T15:55:27.194Z"
   },
   {
    "duration": -934,
    "start_time": "2021-12-29T15:55:31.598Z"
   },
   {
    "duration": 27,
    "start_time": "2021-12-29T15:56:35.058Z"
   },
   {
    "duration": 32,
    "start_time": "2021-12-29T15:58:02.785Z"
   },
   {
    "duration": 4,
    "start_time": "2021-12-29T16:00:36.745Z"
   },
   {
    "duration": 8,
    "start_time": "2021-12-29T16:00:46.096Z"
   },
   {
    "duration": 3431,
    "start_time": "2021-12-29T16:09:37.817Z"
   },
   {
    "duration": 3502,
    "start_time": "2021-12-29T16:11:21.530Z"
   },
   {
    "duration": 3682,
    "start_time": "2021-12-29T16:12:02.793Z"
   },
   {
    "duration": 800,
    "start_time": "2021-12-29T16:12:16.412Z"
   },
   {
    "duration": 59,
    "start_time": "2021-12-29T16:12:30.628Z"
   },
   {
    "duration": 71,
    "start_time": "2021-12-29T16:12:43.542Z"
   },
   {
    "duration": 76,
    "start_time": "2021-12-29T16:13:30.265Z"
   },
   {
    "duration": 153,
    "start_time": "2021-12-29T16:16:22.256Z"
   },
   {
    "duration": 9,
    "start_time": "2021-12-29T16:16:26.542Z"
   },
   {
    "duration": 18,
    "start_time": "2021-12-29T16:16:30.489Z"
   },
   {
    "duration": 49,
    "start_time": "2021-12-29T16:18:07.018Z"
   },
   {
    "duration": 153,
    "start_time": "2021-12-29T16:18:11.697Z"
   },
   {
    "duration": 318,
    "start_time": "2021-12-29T16:18:22.582Z"
   },
   {
    "duration": 483,
    "start_time": "2021-12-29T16:21:33.609Z"
   },
   {
    "duration": 11,
    "start_time": "2021-12-29T16:22:29.208Z"
   },
   {
    "duration": 181,
    "start_time": "2021-12-29T16:25:55.392Z"
   },
   {
    "duration": 7,
    "start_time": "2021-12-29T16:26:01.291Z"
   },
   {
    "duration": 294,
    "start_time": "2021-12-29T16:27:21.440Z"
   },
   {
    "duration": 233,
    "start_time": "2021-12-29T16:27:50.578Z"
   },
   {
    "duration": 229,
    "start_time": "2021-12-29T16:28:10.685Z"
   },
   {
    "duration": 234,
    "start_time": "2021-12-29T16:29:49.105Z"
   },
   {
    "duration": 234,
    "start_time": "2021-12-29T16:30:06.708Z"
   },
   {
    "duration": 552,
    "start_time": "2021-12-29T16:31:41.441Z"
   },
   {
    "duration": 535,
    "start_time": "2021-12-29T16:32:25.064Z"
   },
   {
    "duration": 539,
    "start_time": "2021-12-29T16:32:36.275Z"
   },
   {
    "duration": 426,
    "start_time": "2021-12-29T16:32:49.995Z"
   },
   {
    "duration": 390,
    "start_time": "2021-12-29T16:32:54.964Z"
   },
   {
    "duration": 397,
    "start_time": "2021-12-29T16:33:00.107Z"
   },
   {
    "duration": 2580,
    "start_time": "2021-12-29T16:33:27.659Z"
   },
   {
    "duration": 646,
    "start_time": "2021-12-29T16:33:38.382Z"
   },
   {
    "duration": 768,
    "start_time": "2021-12-29T16:33:56.030Z"
   },
   {
    "duration": 534,
    "start_time": "2021-12-29T16:35:03.547Z"
   },
   {
    "duration": 6060,
    "start_time": "2021-12-29T16:50:29.267Z"
   },
   {
    "duration": 4,
    "start_time": "2021-12-29T16:50:53.389Z"
   },
   {
    "duration": 420,
    "start_time": "2021-12-29T16:50:53.408Z"
   },
   {
    "duration": 2491,
    "start_time": "2021-12-29T16:50:56.144Z"
   },
   {
    "duration": 2447,
    "start_time": "2021-12-29T16:51:14.209Z"
   },
   {
    "duration": 58,
    "start_time": "2021-12-29T16:51:28.538Z"
   },
   {
    "duration": 46,
    "start_time": "2021-12-29T16:51:33.952Z"
   },
   {
    "duration": 3528,
    "start_time": "2021-12-29T16:51:37.859Z"
   },
   {
    "duration": 168,
    "start_time": "2021-12-29T16:51:51.493Z"
   },
   {
    "duration": 902,
    "start_time": "2021-12-29T16:52:19.981Z"
   },
   {
    "duration": 2718,
    "start_time": "2021-12-29T16:53:24.910Z"
   },
   {
    "duration": 26,
    "start_time": "2021-12-29T16:53:56.543Z"
   },
   {
    "duration": 1785,
    "start_time": "2021-12-29T16:54:34.082Z"
   },
   {
    "duration": 164,
    "start_time": "2021-12-29T16:55:03.205Z"
   },
   {
    "duration": 3,
    "start_time": "2021-12-29T16:57:18.315Z"
   },
   {
    "duration": 418,
    "start_time": "2021-12-29T16:57:18.321Z"
   },
   {
    "duration": 27,
    "start_time": "2021-12-29T16:57:51.963Z"
   },
   {
    "duration": 2488,
    "start_time": "2021-12-29T16:58:05.625Z"
   },
   {
    "duration": 2,
    "start_time": "2021-12-29T16:58:24.974Z"
   },
   {
    "duration": 398,
    "start_time": "2021-12-29T16:58:24.987Z"
   },
   {
    "duration": 3143,
    "start_time": "2021-12-29T16:58:29.367Z"
   },
   {
    "duration": 30,
    "start_time": "2021-12-29T17:00:11.346Z"
   },
   {
    "duration": 3,
    "start_time": "2021-12-29T17:00:38.988Z"
   },
   {
    "duration": 411,
    "start_time": "2021-12-29T17:00:38.993Z"
   },
   {
    "duration": 27,
    "start_time": "2021-12-29T17:00:43.211Z"
   },
   {
    "duration": 307,
    "start_time": "2021-12-29T17:05:45.602Z"
   },
   {
    "duration": 24,
    "start_time": "2021-12-29T17:05:57.943Z"
   },
   {
    "duration": 132,
    "start_time": "2021-12-29T17:06:08.744Z"
   },
   {
    "duration": 44,
    "start_time": "2021-12-29T17:06:14.302Z"
   },
   {
    "duration": 379,
    "start_time": "2021-12-29T20:36:13.552Z"
   },
   {
    "duration": 1488,
    "start_time": "2021-12-29T20:36:21.239Z"
   },
   {
    "duration": 530,
    "start_time": "2021-12-29T20:36:22.730Z"
   },
   {
    "duration": 451,
    "start_time": "2021-12-29T20:36:24.056Z"
   },
   {
    "duration": 34,
    "start_time": "2021-12-29T20:36:37.003Z"
   },
   {
    "duration": 30,
    "start_time": "2021-12-29T20:40:48.076Z"
   },
   {
    "duration": 377,
    "start_time": "2021-12-29T20:41:00.437Z"
   },
   {
    "duration": 23,
    "start_time": "2021-12-29T20:41:31.416Z"
   },
   {
    "duration": 25,
    "start_time": "2021-12-29T20:41:41.277Z"
   },
   {
    "duration": 25,
    "start_time": "2021-12-29T20:42:17.997Z"
   },
   {
    "duration": 25,
    "start_time": "2021-12-29T20:42:27.755Z"
   },
   {
    "duration": 19,
    "start_time": "2021-12-29T20:42:51.197Z"
   },
   {
    "duration": 26,
    "start_time": "2021-12-29T20:43:21.332Z"
   },
   {
    "duration": 9,
    "start_time": "2021-12-29T20:43:49.662Z"
   },
   {
    "duration": 27,
    "start_time": "2021-12-29T20:43:57.232Z"
   },
   {
    "duration": 226,
    "start_time": "2021-12-29T20:46:01.784Z"
   },
   {
    "duration": 126,
    "start_time": "2021-12-29T20:46:53.833Z"
   },
   {
    "duration": 166,
    "start_time": "2021-12-29T20:47:32.186Z"
   },
   {
    "duration": 389,
    "start_time": "2021-12-29T20:52:06.576Z"
   },
   {
    "duration": 341,
    "start_time": "2021-12-29T20:52:13.058Z"
   },
   {
    "duration": 1837,
    "start_time": "2021-12-29T20:52:17.964Z"
   },
   {
    "duration": 539,
    "start_time": "2021-12-29T20:52:19.804Z"
   },
   {
    "duration": 24,
    "start_time": "2021-12-29T20:52:20.346Z"
   },
   {
    "duration": 20,
    "start_time": "2021-12-29T20:52:20.372Z"
   },
   {
    "duration": 25,
    "start_time": "2021-12-29T20:52:20.395Z"
   },
   {
    "duration": 332,
    "start_time": "2021-12-29T20:52:20.423Z"
   },
   {
    "duration": 142,
    "start_time": "2021-12-29T20:52:20.758Z"
   },
   {
    "duration": 238,
    "start_time": "2021-12-29T20:52:20.904Z"
   },
   {
    "duration": 490,
    "start_time": "2021-12-29T20:52:32.223Z"
   },
   {
    "duration": 377,
    "start_time": "2021-12-29T20:52:56.258Z"
   },
   {
    "duration": 1599,
    "start_time": "2021-12-29T20:53:00.753Z"
   },
   {
    "duration": 520,
    "start_time": "2021-12-29T20:53:02.355Z"
   },
   {
    "duration": 22,
    "start_time": "2021-12-29T20:53:02.878Z"
   },
   {
    "duration": 20,
    "start_time": "2021-12-29T20:53:02.903Z"
   },
   {
    "duration": 51,
    "start_time": "2021-12-29T20:53:02.925Z"
   },
   {
    "duration": 231,
    "start_time": "2021-12-29T20:53:02.978Z"
   },
   {
    "duration": 122,
    "start_time": "2021-12-29T20:53:03.211Z"
   },
   {
    "duration": 174,
    "start_time": "2021-12-29T20:53:03.336Z"
   },
   {
    "duration": 385,
    "start_time": "2021-12-29T20:55:56.519Z"
   },
   {
    "duration": 1440,
    "start_time": "2021-12-29T20:56:00.386Z"
   },
   {
    "duration": 523,
    "start_time": "2021-12-29T20:56:01.829Z"
   },
   {
    "duration": 23,
    "start_time": "2021-12-29T20:56:02.355Z"
   },
   {
    "duration": 22,
    "start_time": "2021-12-29T20:56:02.381Z"
   },
   {
    "duration": 60,
    "start_time": "2021-12-29T20:56:02.406Z"
   },
   {
    "duration": 228,
    "start_time": "2021-12-29T20:56:02.469Z"
   },
   {
    "duration": 118,
    "start_time": "2021-12-29T20:56:02.700Z"
   },
   {
    "duration": 178,
    "start_time": "2021-12-29T20:56:02.821Z"
   },
   {
    "duration": 421,
    "start_time": "2021-12-29T20:56:03.001Z"
   },
   {
    "duration": 408,
    "start_time": "2021-12-29T20:56:22.755Z"
   },
   {
    "duration": 856,
    "start_time": "2021-12-29T20:57:29.968Z"
   },
   {
    "duration": 109,
    "start_time": "2021-12-29T20:58:46.061Z"
   },
   {
    "duration": 82,
    "start_time": "2021-12-29T20:58:57.260Z"
   },
   {
    "duration": 128,
    "start_time": "2021-12-29T21:00:17.889Z"
   },
   {
    "duration": 184,
    "start_time": "2021-12-29T21:00:48.866Z"
   },
   {
    "duration": 80,
    "start_time": "2021-12-29T21:01:54.179Z"
   },
   {
    "duration": 391,
    "start_time": "2021-12-29T21:02:10.541Z"
   },
   {
    "duration": 183,
    "start_time": "2021-12-29T21:02:15.587Z"
   },
   {
    "duration": 447,
    "start_time": "2021-12-29T21:06:26.158Z"
   },
   {
    "duration": 9290,
    "start_time": "2021-12-29T21:08:14.715Z"
   },
   {
    "duration": 4,
    "start_time": "2021-12-29T21:08:35.705Z"
   },
   {
    "duration": 524,
    "start_time": "2021-12-29T21:08:35.711Z"
   },
   {
    "duration": 25,
    "start_time": "2021-12-29T21:08:36.239Z"
   },
   {
    "duration": 20,
    "start_time": "2021-12-29T21:08:36.267Z"
   },
   {
    "duration": 25,
    "start_time": "2021-12-29T21:08:36.290Z"
   },
   {
    "duration": 221,
    "start_time": "2021-12-29T21:08:36.317Z"
   },
   {
    "duration": 122,
    "start_time": "2021-12-29T21:08:36.541Z"
   },
   {
    "duration": 148,
    "start_time": "2021-12-29T21:08:38.572Z"
   },
   {
    "duration": 4,
    "start_time": "2021-12-29T21:10:00.559Z"
   },
   {
    "duration": 594,
    "start_time": "2021-12-29T21:10:00.579Z"
   },
   {
    "duration": 29,
    "start_time": "2021-12-29T21:10:01.177Z"
   },
   {
    "duration": 22,
    "start_time": "2021-12-29T21:10:01.211Z"
   },
   {
    "duration": 46,
    "start_time": "2021-12-29T21:10:01.237Z"
   },
   {
    "duration": 233,
    "start_time": "2021-12-29T21:10:01.286Z"
   },
   {
    "duration": 118,
    "start_time": "2021-12-29T21:10:01.522Z"
   },
   {
    "duration": 7220,
    "start_time": "2021-12-29T21:10:08.258Z"
   },
   {
    "duration": 4,
    "start_time": "2021-12-29T21:10:17.795Z"
   },
   {
    "duration": 521,
    "start_time": "2021-12-29T21:10:17.803Z"
   },
   {
    "duration": 23,
    "start_time": "2021-12-29T21:10:18.328Z"
   },
   {
    "duration": 18,
    "start_time": "2021-12-29T21:10:18.354Z"
   },
   {
    "duration": 24,
    "start_time": "2021-12-29T21:10:18.374Z"
   },
   {
    "duration": 222,
    "start_time": "2021-12-29T21:10:18.400Z"
   },
   {
    "duration": 116,
    "start_time": "2021-12-29T21:10:18.624Z"
   },
   {
    "duration": 2560,
    "start_time": "2021-12-29T21:10:19.494Z"
   },
   {
    "duration": 4,
    "start_time": "2021-12-29T21:11:30.069Z"
   },
   {
    "duration": 544,
    "start_time": "2021-12-29T21:11:30.076Z"
   },
   {
    "duration": 27,
    "start_time": "2021-12-29T21:11:30.624Z"
   },
   {
    "duration": 17,
    "start_time": "2021-12-29T21:11:30.653Z"
   },
   {
    "duration": 25,
    "start_time": "2021-12-29T21:11:30.673Z"
   },
   {
    "duration": 227,
    "start_time": "2021-12-29T21:11:30.701Z"
   },
   {
    "duration": 114,
    "start_time": "2021-12-29T21:11:30.931Z"
   },
   {
    "duration": 152,
    "start_time": "2021-12-29T21:11:31.925Z"
   },
   {
    "duration": 408,
    "start_time": "2021-12-29T21:12:14.476Z"
   },
   {
    "duration": 162,
    "start_time": "2021-12-29T21:12:21.046Z"
   },
   {
    "duration": 10470,
    "start_time": "2021-12-29T21:13:52.327Z"
   },
   {
    "duration": 124,
    "start_time": "2021-12-29T21:14:05.025Z"
   },
   {
    "duration": 522,
    "start_time": "2021-12-29T21:17:37.535Z"
   },
   {
    "duration": 284,
    "start_time": "2021-12-29T21:18:11.863Z"
   },
   {
    "duration": 148,
    "start_time": "2021-12-29T21:19:53.748Z"
   },
   {
    "duration": 112,
    "start_time": "2021-12-29T21:20:02.898Z"
   },
   {
    "duration": 5,
    "start_time": "2021-12-29T21:20:14.254Z"
   },
   {
    "duration": 520,
    "start_time": "2021-12-29T21:20:14.330Z"
   },
   {
    "duration": 21,
    "start_time": "2021-12-29T21:20:14.852Z"
   },
   {
    "duration": 16,
    "start_time": "2021-12-29T21:20:14.875Z"
   },
   {
    "duration": 26,
    "start_time": "2021-12-29T21:20:14.893Z"
   },
   {
    "duration": 224,
    "start_time": "2021-12-29T21:20:14.921Z"
   },
   {
    "duration": 113,
    "start_time": "2021-12-29T21:20:15.148Z"
   },
   {
    "duration": 164,
    "start_time": "2021-12-29T21:20:15.263Z"
   },
   {
    "duration": 64,
    "start_time": "2021-12-29T21:20:18.144Z"
   },
   {
    "duration": 101,
    "start_time": "2021-12-29T21:20:50.219Z"
   },
   {
    "duration": 48,
    "start_time": "2021-12-29T21:22:54.112Z"
   },
   {
    "duration": 127,
    "start_time": "2021-12-29T21:23:51.106Z"
   },
   {
    "duration": 125,
    "start_time": "2021-12-29T21:24:28.007Z"
   },
   {
    "duration": 114,
    "start_time": "2021-12-29T21:24:52.646Z"
   },
   {
    "duration": 2331,
    "start_time": "2021-12-29T21:28:04.664Z"
   },
   {
    "duration": 3215,
    "start_time": "2021-12-29T21:30:02.224Z"
   },
   {
    "duration": 2407,
    "start_time": "2021-12-29T21:31:18.873Z"
   },
   {
    "duration": 2375,
    "start_time": "2021-12-29T21:31:48.776Z"
   },
   {
    "duration": 403,
    "start_time": "2021-12-29T21:32:40.332Z"
   },
   {
    "duration": 103,
    "start_time": "2021-12-29T21:33:00.276Z"
   },
   {
    "duration": 124,
    "start_time": "2021-12-29T21:33:07.934Z"
   },
   {
    "duration": 66,
    "start_time": "2021-12-29T21:35:17.660Z"
   },
   {
    "duration": 56,
    "start_time": "2021-12-29T21:36:13.253Z"
   },
   {
    "duration": 9688,
    "start_time": "2021-12-29T21:37:14.687Z"
   },
   {
    "duration": -763,
    "start_time": "2021-12-29T21:37:35.747Z"
   },
   {
    "duration": -772,
    "start_time": "2021-12-29T21:37:35.758Z"
   },
   {
    "duration": -789,
    "start_time": "2021-12-29T21:37:35.777Z"
   },
   {
    "duration": -802,
    "start_time": "2021-12-29T21:37:35.791Z"
   },
   {
    "duration": -840,
    "start_time": "2021-12-29T21:37:35.831Z"
   },
   {
    "duration": -868,
    "start_time": "2021-12-29T21:37:35.862Z"
   },
   {
    "duration": -881,
    "start_time": "2021-12-29T21:37:35.877Z"
   },
   {
    "duration": -893,
    "start_time": "2021-12-29T21:37:35.891Z"
   },
   {
    "duration": -904,
    "start_time": "2021-12-29T21:37:35.904Z"
   },
   {
    "duration": -911,
    "start_time": "2021-12-29T21:37:35.913Z"
   },
   {
    "duration": 8895,
    "start_time": "2021-12-29T21:37:42.155Z"
   },
   {
    "duration": 63,
    "start_time": "2021-12-29T21:38:05.547Z"
   },
   {
    "duration": 45,
    "start_time": "2021-12-29T21:38:55.265Z"
   },
   {
    "duration": 50,
    "start_time": "2021-12-29T21:40:03.020Z"
   },
   {
    "duration": 58,
    "start_time": "2021-12-29T21:42:39.531Z"
   },
   {
    "duration": 125,
    "start_time": "2021-12-29T21:43:57.238Z"
   },
   {
    "duration": 1452,
    "start_time": "2021-12-29T21:45:54.680Z"
   },
   {
    "duration": 527,
    "start_time": "2021-12-29T21:45:56.134Z"
   },
   {
    "duration": 21,
    "start_time": "2021-12-29T21:45:56.664Z"
   },
   {
    "duration": 19,
    "start_time": "2021-12-29T21:45:56.688Z"
   },
   {
    "duration": 52,
    "start_time": "2021-12-29T21:45:56.709Z"
   },
   {
    "duration": 220,
    "start_time": "2021-12-29T21:45:56.764Z"
   },
   {
    "duration": 110,
    "start_time": "2021-12-29T21:45:56.986Z"
   },
   {
    "duration": 168,
    "start_time": "2021-12-29T21:45:57.099Z"
   },
   {
    "duration": 94,
    "start_time": "2021-12-29T21:45:57.270Z"
   },
   {
    "duration": 48,
    "start_time": "2021-12-29T21:45:57.366Z"
   },
   {
    "duration": 83,
    "start_time": "2021-12-29T21:45:57.416Z"
   },
   {
    "duration": 578,
    "start_time": "2021-12-29T21:46:20.981Z"
   },
   {
    "duration": 366,
    "start_time": "2021-12-29T21:47:08.533Z"
   },
   {
    "duration": 355,
    "start_time": "2021-12-29T21:47:41.492Z"
   },
   {
    "duration": 435,
    "start_time": "2021-12-29T21:50:04.995Z"
   },
   {
    "duration": 148,
    "start_time": "2021-12-29T21:50:21.648Z"
   },
   {
    "duration": 124,
    "start_time": "2021-12-29T21:52:42.023Z"
   },
   {
    "duration": 403,
    "start_time": "2021-12-29T21:55:31.456Z"
   },
   {
    "duration": 156,
    "start_time": "2021-12-29T21:56:09.597Z"
   },
   {
    "duration": 227,
    "start_time": "2021-12-29T21:58:20.897Z"
   },
   {
    "duration": 136,
    "start_time": "2021-12-29T21:59:21.508Z"
   },
   {
    "duration": 143,
    "start_time": "2021-12-29T21:59:28.542Z"
   },
   {
    "duration": 163,
    "start_time": "2021-12-29T21:59:34.145Z"
   },
   {
    "duration": 163,
    "start_time": "2021-12-29T22:02:19.812Z"
   },
   {
    "duration": 115,
    "start_time": "2021-12-29T22:04:21.053Z"
   },
   {
    "duration": 165,
    "start_time": "2021-12-29T22:04:33.451Z"
   },
   {
    "duration": 162,
    "start_time": "2021-12-29T22:05:09.425Z"
   },
   {
    "duration": 169,
    "start_time": "2021-12-29T22:08:07.440Z"
   },
   {
    "duration": 499,
    "start_time": "2021-12-29T22:10:05.588Z"
   },
   {
    "duration": 798,
    "start_time": "2021-12-29T22:12:42.616Z"
   },
   {
    "duration": 1074,
    "start_time": "2021-12-29T22:14:29.866Z"
   },
   {
    "duration": 1066,
    "start_time": "2021-12-29T22:14:40.019Z"
   },
   {
    "duration": 1157,
    "start_time": "2021-12-29T22:14:44.754Z"
   },
   {
    "duration": 1044,
    "start_time": "2021-12-29T22:15:09.669Z"
   },
   {
    "duration": 4,
    "start_time": "2021-12-29T22:15:44.354Z"
   },
   {
    "duration": 537,
    "start_time": "2021-12-29T22:15:44.361Z"
   },
   {
    "duration": 24,
    "start_time": "2021-12-29T22:15:44.901Z"
   },
   {
    "duration": 18,
    "start_time": "2021-12-29T22:15:44.928Z"
   },
   {
    "duration": 36,
    "start_time": "2021-12-29T22:15:44.949Z"
   },
   {
    "duration": 237,
    "start_time": "2021-12-29T22:15:44.987Z"
   },
   {
    "duration": 115,
    "start_time": "2021-12-29T22:15:45.226Z"
   },
   {
    "duration": 188,
    "start_time": "2021-12-29T22:15:45.344Z"
   },
   {
    "duration": 86,
    "start_time": "2021-12-29T22:15:45.537Z"
   },
   {
    "duration": 65,
    "start_time": "2021-12-29T22:15:45.626Z"
   },
   {
    "duration": 77,
    "start_time": "2021-12-29T22:15:45.694Z"
   },
   {
    "duration": 1116,
    "start_time": "2021-12-29T22:15:49.008Z"
   },
   {
    "duration": 110,
    "start_time": "2021-12-29T22:16:08.716Z"
   },
   {
    "duration": 809,
    "start_time": "2021-12-29T22:16:51.948Z"
   },
   {
    "duration": 32,
    "start_time": "2021-12-29T22:17:42.437Z"
   },
   {
    "duration": 1039,
    "start_time": "2021-12-29T22:18:38.194Z"
   },
   {
    "duration": 1028,
    "start_time": "2021-12-29T22:19:51.409Z"
   },
   {
    "duration": 1012,
    "start_time": "2021-12-29T22:20:05.332Z"
   },
   {
    "duration": 1001,
    "start_time": "2021-12-29T22:20:27.404Z"
   },
   {
    "duration": 1054,
    "start_time": "2021-12-29T22:22:49.417Z"
   },
   {
    "duration": 969,
    "start_time": "2021-12-29T22:24:00.864Z"
   },
   {
    "duration": 984,
    "start_time": "2021-12-29T22:25:21.975Z"
   },
   {
    "duration": 30,
    "start_time": "2021-12-29T22:25:31.832Z"
   },
   {
    "duration": 1332,
    "start_time": "2021-12-29T22:26:27.405Z"
   },
   {
    "duration": 972,
    "start_time": "2021-12-29T22:26:47.271Z"
   },
   {
    "duration": 33,
    "start_time": "2021-12-29T22:26:51.216Z"
   },
   {
    "duration": 107,
    "start_time": "2021-12-29T22:30:33.200Z"
   },
   {
    "duration": 115,
    "start_time": "2021-12-29T22:30:49.411Z"
   },
   {
    "duration": 115,
    "start_time": "2021-12-29T22:30:59.040Z"
   },
   {
    "duration": 2335,
    "start_time": "2021-12-29T22:31:15.876Z"
   },
   {
    "duration": 1612,
    "start_time": "2021-12-29T22:31:42.482Z"
   },
   {
    "duration": 3,
    "start_time": "2021-12-29T22:32:18.773Z"
   },
   {
    "duration": 523,
    "start_time": "2021-12-29T22:32:18.782Z"
   },
   {
    "duration": 24,
    "start_time": "2021-12-29T22:32:19.308Z"
   },
   {
    "duration": 17,
    "start_time": "2021-12-29T22:32:19.335Z"
   },
   {
    "duration": 27,
    "start_time": "2021-12-29T22:32:19.356Z"
   },
   {
    "duration": 211,
    "start_time": "2021-12-29T22:32:19.385Z"
   },
   {
    "duration": 132,
    "start_time": "2021-12-29T22:32:19.599Z"
   },
   {
    "duration": 165,
    "start_time": "2021-12-29T22:32:19.733Z"
   },
   {
    "duration": 90,
    "start_time": "2021-12-29T22:32:19.901Z"
   },
   {
    "duration": 48,
    "start_time": "2021-12-29T22:32:19.993Z"
   },
   {
    "duration": 61,
    "start_time": "2021-12-29T22:32:20.059Z"
   },
   {
    "duration": 1581,
    "start_time": "2021-12-29T22:32:22.470Z"
   },
   {
    "duration": 2789,
    "start_time": "2021-12-29T22:33:28.747Z"
   },
   {
    "duration": 1008,
    "start_time": "2021-12-29T22:33:54.442Z"
   },
   {
    "duration": 30,
    "start_time": "2021-12-29T22:34:03.926Z"
   },
   {
    "duration": 2483,
    "start_time": "2021-12-29T22:34:33.746Z"
   },
   {
    "duration": 1034,
    "start_time": "2021-12-29T22:34:49.729Z"
   },
   {
    "duration": 170,
    "start_time": "2021-12-29T22:35:55.735Z"
   },
   {
    "duration": 169,
    "start_time": "2021-12-29T22:36:32.655Z"
   },
   {
    "duration": 387,
    "start_time": "2021-12-29T22:42:59.176Z"
   },
   {
    "duration": 360,
    "start_time": "2021-12-29T22:43:40.347Z"
   },
   {
    "duration": 383,
    "start_time": "2021-12-29T22:44:00.003Z"
   },
   {
    "duration": 8276,
    "start_time": "2021-12-29T22:45:36.052Z"
   },
   {
    "duration": 8087,
    "start_time": "2021-12-29T22:45:54.787Z"
   },
   {
    "duration": 8672,
    "start_time": "2021-12-29T22:47:05.909Z"
   },
   {
    "duration": 118,
    "start_time": "2021-12-29T22:48:35.662Z"
   },
   {
    "duration": 11,
    "start_time": "2021-12-29T22:52:21.603Z"
   },
   {
    "duration": 38,
    "start_time": "2021-12-29T22:52:30.991Z"
   },
   {
    "duration": 67,
    "start_time": "2021-12-29T22:55:33.826Z"
   },
   {
    "duration": 123,
    "start_time": "2021-12-29T22:58:42.329Z"
   },
   {
    "duration": 369,
    "start_time": "2021-12-29T22:58:50.421Z"
   },
   {
    "duration": 353,
    "start_time": "2021-12-29T22:59:08.309Z"
   },
   {
    "duration": 106,
    "start_time": "2021-12-29T23:00:42.171Z"
   },
   {
    "duration": 476,
    "start_time": "2021-12-29T23:02:29.564Z"
   },
   {
    "duration": 402,
    "start_time": "2021-12-29T23:02:37.459Z"
   },
   {
    "duration": 89,
    "start_time": "2021-12-29T23:03:08.227Z"
   },
   {
    "duration": 31,
    "start_time": "2021-12-29T23:07:53.219Z"
   },
   {
    "duration": 36,
    "start_time": "2021-12-29T23:08:23.933Z"
   },
   {
    "duration": 35,
    "start_time": "2021-12-29T23:08:47.951Z"
   },
   {
    "duration": 38,
    "start_time": "2021-12-29T23:09:48.717Z"
   },
   {
    "duration": 41,
    "start_time": "2021-12-29T23:11:56.972Z"
   },
   {
    "duration": 46,
    "start_time": "2021-12-29T23:12:19.832Z"
   },
   {
    "duration": 46,
    "start_time": "2021-12-29T23:12:32.103Z"
   },
   {
    "duration": 43,
    "start_time": "2021-12-29T23:12:37.400Z"
   },
   {
    "duration": 40,
    "start_time": "2021-12-29T23:13:05.114Z"
   },
   {
    "duration": 9114,
    "start_time": "2021-12-29T23:15:24.895Z"
   },
   {
    "duration": 75,
    "start_time": "2021-12-29T23:15:47.012Z"
   },
   {
    "duration": 46,
    "start_time": "2021-12-29T23:16:57.513Z"
   },
   {
    "duration": 50,
    "start_time": "2021-12-29T23:18:11.285Z"
   },
   {
    "duration": 77,
    "start_time": "2021-12-29T23:19:30.156Z"
   },
   {
    "duration": 76,
    "start_time": "2021-12-29T23:19:53.025Z"
   },
   {
    "duration": 76,
    "start_time": "2021-12-29T23:20:20.435Z"
   },
   {
    "duration": 74,
    "start_time": "2021-12-29T23:20:29.051Z"
   },
   {
    "duration": 50,
    "start_time": "2021-12-29T23:22:15.195Z"
   },
   {
    "duration": 357,
    "start_time": "2021-12-29T23:22:28.975Z"
   },
   {
    "duration": 398,
    "start_time": "2021-12-29T23:23:16.208Z"
   },
   {
    "duration": 449,
    "start_time": "2021-12-29T23:23:55.200Z"
   },
   {
    "duration": 48,
    "start_time": "2021-12-29T23:27:32.039Z"
   },
   {
    "duration": 52,
    "start_time": "2021-12-29T23:28:02.983Z"
   },
   {
    "duration": 389,
    "start_time": "2021-12-29T23:28:33.659Z"
   },
   {
    "duration": 56,
    "start_time": "2021-12-29T23:29:45.063Z"
   },
   {
    "duration": 58,
    "start_time": "2021-12-29T23:30:17.718Z"
   },
   {
    "duration": 51,
    "start_time": "2021-12-29T23:33:19.288Z"
   },
   {
    "duration": 116,
    "start_time": "2021-12-29T23:33:54.621Z"
   },
   {
    "duration": 75,
    "start_time": "2021-12-29T23:35:01.614Z"
   },
   {
    "duration": 72,
    "start_time": "2021-12-29T23:35:16.505Z"
   },
   {
    "duration": 54,
    "start_time": "2021-12-29T23:35:30.093Z"
   },
   {
    "duration": 73,
    "start_time": "2021-12-29T23:35:39.682Z"
   },
   {
    "duration": 358,
    "start_time": "2021-12-29T23:37:39.457Z"
   },
   {
    "duration": 33,
    "start_time": "2021-12-29T23:38:27.432Z"
   },
   {
    "duration": 71,
    "start_time": "2021-12-29T23:38:33.531Z"
   },
   {
    "duration": 51,
    "start_time": "2021-12-29T23:40:00.544Z"
   },
   {
    "duration": 50,
    "start_time": "2021-12-29T23:40:28.726Z"
   },
   {
    "duration": 52,
    "start_time": "2021-12-29T23:41:18.643Z"
   },
   {
    "duration": 77,
    "start_time": "2021-12-29T23:42:03.414Z"
   },
   {
    "duration": 33,
    "start_time": "2021-12-29T23:43:31.480Z"
   },
   {
    "duration": 71,
    "start_time": "2021-12-29T23:43:45.594Z"
   },
   {
    "duration": 8731,
    "start_time": "2021-12-29T23:44:11.870Z"
   },
   {
    "duration": 4,
    "start_time": "2021-12-29T23:44:47.608Z"
   },
   {
    "duration": 516,
    "start_time": "2021-12-29T23:44:47.619Z"
   },
   {
    "duration": 20,
    "start_time": "2021-12-29T23:44:48.138Z"
   },
   {
    "duration": 14,
    "start_time": "2021-12-29T23:44:48.161Z"
   },
   {
    "duration": 24,
    "start_time": "2021-12-29T23:44:48.178Z"
   },
   {
    "duration": 202,
    "start_time": "2021-12-29T23:44:48.204Z"
   },
   {
    "duration": 111,
    "start_time": "2021-12-29T23:44:48.409Z"
   },
   {
    "duration": 158,
    "start_time": "2021-12-29T23:44:48.523Z"
   },
   {
    "duration": 78,
    "start_time": "2021-12-29T23:44:48.684Z"
   },
   {
    "duration": 47,
    "start_time": "2021-12-29T23:44:48.764Z"
   },
   {
    "duration": 83,
    "start_time": "2021-12-29T23:44:48.814Z"
   },
   {
    "duration": 196,
    "start_time": "2021-12-29T23:44:48.900Z"
   },
   {
    "duration": 860,
    "start_time": "2021-12-29T23:44:49.099Z"
   },
   {
    "duration": 138,
    "start_time": "2021-12-29T23:44:49.961Z"
   },
   {
    "duration": 35,
    "start_time": "2021-12-29T23:44:50.101Z"
   },
   {
    "duration": 125,
    "start_time": "2021-12-29T23:44:50.138Z"
   },
   {
    "duration": 39,
    "start_time": "2021-12-29T23:44:50.266Z"
   },
   {
    "duration": 8333,
    "start_time": "2021-12-29T23:45:09.346Z"
   },
   {
    "duration": 78,
    "start_time": "2021-12-29T23:45:43.609Z"
   },
   {
    "duration": 86,
    "start_time": "2021-12-29T23:46:43.794Z"
   },
   {
    "duration": 68,
    "start_time": "2021-12-29T23:47:17.898Z"
   },
   {
    "duration": 4,
    "start_time": "2021-12-29T23:50:09.175Z"
   },
   {
    "duration": 522,
    "start_time": "2021-12-29T23:50:09.183Z"
   },
   {
    "duration": 21,
    "start_time": "2021-12-29T23:50:09.708Z"
   },
   {
    "duration": 15,
    "start_time": "2021-12-29T23:50:09.732Z"
   },
   {
    "duration": 25,
    "start_time": "2021-12-29T23:50:09.750Z"
   },
   {
    "duration": 190,
    "start_time": "2021-12-29T23:50:09.777Z"
   },
   {
    "duration": 109,
    "start_time": "2021-12-29T23:50:09.970Z"
   },
   {
    "duration": 150,
    "start_time": "2021-12-29T23:50:10.082Z"
   },
   {
    "duration": 81,
    "start_time": "2021-12-29T23:50:10.236Z"
   },
   {
    "duration": 58,
    "start_time": "2021-12-29T23:50:10.320Z"
   },
   {
    "duration": 58,
    "start_time": "2021-12-29T23:50:10.380Z"
   },
   {
    "duration": 191,
    "start_time": "2021-12-29T23:50:10.459Z"
   },
   {
    "duration": 917,
    "start_time": "2021-12-29T23:50:10.653Z"
   },
   {
    "duration": 143,
    "start_time": "2021-12-29T23:50:11.573Z"
   },
   {
    "duration": 44,
    "start_time": "2021-12-29T23:50:11.718Z"
   },
   {
    "duration": 123,
    "start_time": "2021-12-29T23:50:11.764Z"
   },
   {
    "duration": 40,
    "start_time": "2021-12-29T23:50:11.890Z"
   },
   {
    "duration": 69,
    "start_time": "2021-12-29T23:50:14.359Z"
   },
   {
    "duration": 365,
    "start_time": "2021-12-29T23:53:14.975Z"
   },
   {
    "duration": 351,
    "start_time": "2021-12-29T23:53:32.030Z"
   },
   {
    "duration": 64,
    "start_time": "2021-12-29T23:53:37.750Z"
   },
   {
    "duration": 41,
    "start_time": "2021-12-29T23:53:50.638Z"
   },
   {
    "duration": 68,
    "start_time": "2021-12-29T23:56:51.901Z"
   },
   {
    "duration": 1080,
    "start_time": "2021-12-30T13:48:33.575Z"
   },
   {
    "duration": 394,
    "start_time": "2021-12-30T13:48:34.657Z"
   },
   {
    "duration": 14,
    "start_time": "2021-12-30T13:48:35.053Z"
   },
   {
    "duration": 12,
    "start_time": "2021-12-30T13:48:35.068Z"
   },
   {
    "duration": 14,
    "start_time": "2021-12-30T13:48:35.081Z"
   },
   {
    "duration": 135,
    "start_time": "2021-12-30T13:48:35.097Z"
   },
   {
    "duration": 71,
    "start_time": "2021-12-30T13:48:35.234Z"
   },
   {
    "duration": 113,
    "start_time": "2021-12-30T13:48:35.307Z"
   },
   {
    "duration": 66,
    "start_time": "2021-12-30T13:48:35.422Z"
   },
   {
    "duration": 30,
    "start_time": "2021-12-30T13:48:35.489Z"
   },
   {
    "duration": 42,
    "start_time": "2021-12-30T13:48:35.528Z"
   },
   {
    "duration": 140,
    "start_time": "2021-12-30T13:48:35.571Z"
   },
   {
    "duration": 445,
    "start_time": "2021-12-30T13:48:35.712Z"
   },
   {
    "duration": 96,
    "start_time": "2021-12-30T13:48:36.158Z"
   },
   {
    "duration": 20,
    "start_time": "2021-12-30T13:48:36.256Z"
   },
   {
    "duration": 80,
    "start_time": "2021-12-30T13:48:36.277Z"
   },
   {
    "duration": 24,
    "start_time": "2021-12-30T13:48:36.358Z"
   },
   {
    "duration": 63,
    "start_time": "2021-12-30T13:48:36.383Z"
   },
   {
    "duration": 13,
    "start_time": "2021-12-30T13:49:01.272Z"
   },
   {
    "duration": 32,
    "start_time": "2021-12-30T13:49:41.624Z"
   },
   {
    "duration": 62,
    "start_time": "2021-12-30T13:50:18.590Z"
   },
   {
    "duration": 95,
    "start_time": "2021-12-30T13:50:41.293Z"
   },
   {
    "duration": 101,
    "start_time": "2021-12-30T13:51:12.991Z"
   },
   {
    "duration": 22,
    "start_time": "2021-12-30T13:51:49.821Z"
   },
   {
    "duration": 54,
    "start_time": "2021-12-30T13:52:01.059Z"
   },
   {
    "duration": 20,
    "start_time": "2021-12-30T13:52:09.374Z"
   },
   {
    "duration": 42,
    "start_time": "2021-12-30T13:52:36.310Z"
   },
   {
    "duration": 47,
    "start_time": "2021-12-30T13:55:25.425Z"
   },
   {
    "duration": 35,
    "start_time": "2021-12-30T13:57:42.224Z"
   },
   {
    "duration": 8,
    "start_time": "2021-12-30T13:59:32.748Z"
   },
   {
    "duration": 6,
    "start_time": "2021-12-30T13:59:36.914Z"
   },
   {
    "duration": 6,
    "start_time": "2021-12-30T13:59:40.299Z"
   },
   {
    "duration": 17,
    "start_time": "2021-12-30T13:59:45.949Z"
   },
   {
    "duration": 78,
    "start_time": "2021-12-30T14:00:18.413Z"
   },
   {
    "duration": 77,
    "start_time": "2021-12-30T14:00:26.345Z"
   },
   {
    "duration": 45,
    "start_time": "2021-12-30T14:00:46.523Z"
   },
   {
    "duration": 43,
    "start_time": "2021-12-30T14:00:53.773Z"
   },
   {
    "duration": 57,
    "start_time": "2021-12-30T14:01:33.302Z"
   },
   {
    "duration": 44,
    "start_time": "2021-12-30T14:02:04.641Z"
   },
   {
    "duration": 40,
    "start_time": "2021-12-30T14:02:32.200Z"
   },
   {
    "duration": 30,
    "start_time": "2021-12-30T14:02:38.125Z"
   },
   {
    "duration": 41,
    "start_time": "2021-12-30T14:02:53.166Z"
   },
   {
    "duration": 37,
    "start_time": "2021-12-30T14:02:58.607Z"
   },
   {
    "duration": 230,
    "start_time": "2021-12-30T14:05:19.071Z"
   },
   {
    "duration": 32,
    "start_time": "2021-12-30T14:07:09.138Z"
   },
   {
    "duration": 35,
    "start_time": "2021-12-30T14:07:19.002Z"
   },
   {
    "duration": 8902,
    "start_time": "2021-12-30T14:10:02.456Z"
   },
   {
    "duration": 29,
    "start_time": "2021-12-30T14:10:31.209Z"
   },
   {
    "duration": 37,
    "start_time": "2021-12-30T14:13:00.587Z"
   },
   {
    "duration": 25,
    "start_time": "2021-12-30T14:14:32.058Z"
   },
   {
    "duration": 25,
    "start_time": "2021-12-30T14:15:08.102Z"
   },
   {
    "duration": 25,
    "start_time": "2021-12-30T14:15:41.665Z"
   },
   {
    "duration": 23,
    "start_time": "2021-12-30T14:15:58.092Z"
   },
   {
    "duration": 38,
    "start_time": "2021-12-30T14:16:15.157Z"
   },
   {
    "duration": 42,
    "start_time": "2021-12-30T14:17:02.687Z"
   },
   {
    "duration": 41,
    "start_time": "2021-12-30T14:20:35.855Z"
   },
   {
    "duration": 42,
    "start_time": "2021-12-30T14:20:46.986Z"
   },
   {
    "duration": 24,
    "start_time": "2021-12-30T14:20:51.249Z"
   },
   {
    "duration": 22,
    "start_time": "2021-12-30T14:21:18.859Z"
   },
   {
    "duration": 39,
    "start_time": "2021-12-30T14:21:23.497Z"
   },
   {
    "duration": 4,
    "start_time": "2021-12-30T14:28:38.756Z"
   },
   {
    "duration": 3,
    "start_time": "2021-12-30T14:28:57.956Z"
   },
   {
    "duration": 3,
    "start_time": "2021-12-30T14:29:15.741Z"
   },
   {
    "duration": 4,
    "start_time": "2021-12-30T14:29:28.429Z"
   },
   {
    "duration": 4,
    "start_time": "2021-12-30T14:29:35.798Z"
   },
   {
    "duration": 104,
    "start_time": "2021-12-30T14:30:20.252Z"
   },
   {
    "duration": 2,
    "start_time": "2021-12-30T14:30:23.782Z"
   },
   {
    "duration": 370,
    "start_time": "2021-12-30T14:30:23.861Z"
   },
   {
    "duration": 12,
    "start_time": "2021-12-30T14:30:24.233Z"
   },
   {
    "duration": 8,
    "start_time": "2021-12-30T14:30:24.247Z"
   },
   {
    "duration": 14,
    "start_time": "2021-12-30T14:30:24.257Z"
   },
   {
    "duration": 126,
    "start_time": "2021-12-30T14:30:24.273Z"
   },
   {
    "duration": 67,
    "start_time": "2021-12-30T14:30:24.400Z"
   },
   {
    "duration": 93,
    "start_time": "2021-12-30T14:30:24.468Z"
   },
   {
    "duration": 43,
    "start_time": "2021-12-30T14:30:24.562Z"
   },
   {
    "duration": 85,
    "start_time": "2021-12-30T14:30:24.607Z"
   },
   {
    "duration": 39,
    "start_time": "2021-12-30T14:30:24.693Z"
   },
   {
    "duration": 118,
    "start_time": "2021-12-30T14:30:24.734Z"
   },
   {
    "duration": 235,
    "start_time": "2021-12-30T14:30:24.853Z"
   },
   {
    "duration": 83,
    "start_time": "2021-12-30T14:30:25.089Z"
   },
   {
    "duration": 16,
    "start_time": "2021-12-30T14:30:25.173Z"
   },
   {
    "duration": 69,
    "start_time": "2021-12-30T14:30:25.190Z"
   },
   {
    "duration": 20,
    "start_time": "2021-12-30T14:30:25.260Z"
   },
   {
    "duration": 91,
    "start_time": "2021-12-30T14:30:29.226Z"
   },
   {
    "duration": 91,
    "start_time": "2021-12-30T14:30:38.064Z"
   },
   {
    "duration": 89,
    "start_time": "2021-12-30T14:30:42.132Z"
   },
   {
    "duration": 98,
    "start_time": "2021-12-30T14:30:54.464Z"
   },
   {
    "duration": 298,
    "start_time": "2021-12-30T14:30:58.261Z"
   },
   {
    "duration": 246,
    "start_time": "2021-12-30T14:31:13.087Z"
   },
   {
    "duration": 258,
    "start_time": "2021-12-30T14:31:30.986Z"
   },
   {
    "duration": 245,
    "start_time": "2021-12-30T14:31:46.190Z"
   },
   {
    "duration": 261,
    "start_time": "2021-12-30T14:32:50.194Z"
   },
   {
    "duration": 396,
    "start_time": "2021-12-30T15:40:14.347Z"
   },
   {
    "duration": 1353,
    "start_time": "2021-12-30T15:40:47.492Z"
   },
   {
    "duration": 498,
    "start_time": "2021-12-30T15:40:48.847Z"
   },
   {
    "duration": 17,
    "start_time": "2021-12-30T15:40:49.347Z"
   },
   {
    "duration": 22,
    "start_time": "2021-12-30T15:40:49.366Z"
   },
   {
    "duration": 24,
    "start_time": "2021-12-30T15:40:49.390Z"
   },
   {
    "duration": 185,
    "start_time": "2021-12-30T15:40:49.416Z"
   },
   {
    "duration": 76,
    "start_time": "2021-12-30T15:40:49.603Z"
   },
   {
    "duration": 100,
    "start_time": "2021-12-30T15:40:49.681Z"
   },
   {
    "duration": 59,
    "start_time": "2021-12-30T15:40:49.783Z"
   },
   {
    "duration": 30,
    "start_time": "2021-12-30T15:40:49.844Z"
   },
   {
    "duration": 52,
    "start_time": "2021-12-30T15:40:49.876Z"
   },
   {
    "duration": 117,
    "start_time": "2021-12-30T15:40:49.930Z"
   },
   {
    "duration": 236,
    "start_time": "2021-12-30T15:40:50.049Z"
   },
   {
    "duration": 92,
    "start_time": "2021-12-30T15:40:50.287Z"
   },
   {
    "duration": 18,
    "start_time": "2021-12-30T15:40:50.381Z"
   },
   {
    "duration": 75,
    "start_time": "2021-12-30T15:40:50.400Z"
   },
   {
    "duration": 21,
    "start_time": "2021-12-30T15:40:50.477Z"
   },
   {
    "duration": 814,
    "start_time": "2021-12-30T15:40:52.406Z"
   },
   {
    "duration": 7828,
    "start_time": "2021-12-30T15:43:27.008Z"
   },
   {
    "duration": 1402,
    "start_time": "2021-12-30T15:43:48.534Z"
   },
   {
    "duration": 1492,
    "start_time": "2021-12-30T15:44:07.740Z"
   },
   {
    "duration": 719,
    "start_time": "2021-12-30T15:47:52.644Z"
   },
   {
    "duration": 107,
    "start_time": "2021-12-30T15:53:20.951Z"
   },
   {
    "duration": 802,
    "start_time": "2021-12-30T15:53:33.650Z"
   },
   {
    "duration": 127,
    "start_time": "2021-12-30T15:54:09.292Z"
   },
   {
    "duration": 917,
    "start_time": "2021-12-30T15:55:57.346Z"
   },
   {
    "duration": 741,
    "start_time": "2021-12-30T15:56:50.004Z"
   },
   {
    "duration": 926,
    "start_time": "2021-12-30T15:57:22.798Z"
   },
   {
    "duration": 1516,
    "start_time": "2021-12-30T15:59:56.288Z"
   },
   {
    "duration": 578,
    "start_time": "2021-12-30T16:05:00.567Z"
   },
   {
    "duration": 266,
    "start_time": "2021-12-30T16:05:16.920Z"
   },
   {
    "duration": 289,
    "start_time": "2021-12-30T16:05:27.537Z"
   },
   {
    "duration": 38,
    "start_time": "2021-12-30T16:05:31.584Z"
   },
   {
    "duration": 28,
    "start_time": "2021-12-30T16:05:52.076Z"
   },
   {
    "duration": 24,
    "start_time": "2021-12-30T16:06:42.567Z"
   },
   {
    "duration": 24,
    "start_time": "2021-12-30T16:07:10.814Z"
   },
   {
    "duration": 279,
    "start_time": "2021-12-30T16:08:01.867Z"
   },
   {
    "duration": 24,
    "start_time": "2021-12-30T16:08:25.704Z"
   },
   {
    "duration": 223,
    "start_time": "2021-12-30T16:10:22.176Z"
   },
   {
    "duration": 312,
    "start_time": "2021-12-30T16:22:17.338Z"
   },
   {
    "duration": 317,
    "start_time": "2021-12-30T16:22:23.160Z"
   },
   {
    "duration": 316,
    "start_time": "2021-12-30T16:22:53.383Z"
   },
   {
    "duration": 11,
    "start_time": "2021-12-30T16:23:10.115Z"
   },
   {
    "duration": 9,
    "start_time": "2021-12-30T16:23:33.045Z"
   },
   {
    "duration": 333,
    "start_time": "2021-12-30T16:30:51.446Z"
   },
   {
    "duration": 6,
    "start_time": "2021-12-30T16:31:52.011Z"
   },
   {
    "duration": 238,
    "start_time": "2021-12-30T16:32:15.969Z"
   },
   {
    "duration": 1592,
    "start_time": "2021-12-30T16:33:32.847Z"
   },
   {
    "duration": 1334,
    "start_time": "2021-12-30T16:33:41.231Z"
   },
   {
    "duration": 1308,
    "start_time": "2021-12-30T16:33:54.245Z"
   },
   {
    "duration": 1326,
    "start_time": "2021-12-30T16:34:46.659Z"
   },
   {
    "duration": 227,
    "start_time": "2021-12-30T16:39:05.829Z"
   },
   {
    "duration": 1084,
    "start_time": "2021-12-30T16:54:38.817Z"
   },
   {
    "duration": 1070,
    "start_time": "2021-12-30T16:55:01.589Z"
   },
   {
    "duration": 3,
    "start_time": "2021-12-30T16:55:06.730Z"
   },
   {
    "duration": 345,
    "start_time": "2021-12-30T16:55:06.749Z"
   },
   {
    "duration": 13,
    "start_time": "2021-12-30T16:55:07.096Z"
   },
   {
    "duration": 10,
    "start_time": "2021-12-30T16:55:07.110Z"
   },
   {
    "duration": 13,
    "start_time": "2021-12-30T16:55:07.121Z"
   },
   {
    "duration": 112,
    "start_time": "2021-12-30T16:55:07.135Z"
   },
   {
    "duration": 61,
    "start_time": "2021-12-30T16:55:07.248Z"
   },
   {
    "duration": 95,
    "start_time": "2021-12-30T16:55:07.310Z"
   },
   {
    "duration": 44,
    "start_time": "2021-12-30T16:55:07.637Z"
   },
   {
    "duration": 29,
    "start_time": "2021-12-30T16:55:07.683Z"
   },
   {
    "duration": 44,
    "start_time": "2021-12-30T16:55:07.714Z"
   },
   {
    "duration": 115,
    "start_time": "2021-12-30T16:55:07.760Z"
   },
   {
    "duration": 232,
    "start_time": "2021-12-30T16:55:07.876Z"
   },
   {
    "duration": 86,
    "start_time": "2021-12-30T16:55:08.110Z"
   },
   {
    "duration": 16,
    "start_time": "2021-12-30T16:55:08.198Z"
   },
   {
    "duration": 57,
    "start_time": "2021-12-30T16:55:08.227Z"
   },
   {
    "duration": 19,
    "start_time": "2021-12-30T16:55:08.286Z"
   },
   {
    "duration": 33,
    "start_time": "2021-12-30T16:55:08.307Z"
   },
   {
    "duration": 283,
    "start_time": "2021-12-30T16:55:12.795Z"
   },
   {
    "duration": 41,
    "start_time": "2021-12-30T17:01:57.961Z"
   },
   {
    "duration": 580,
    "start_time": "2021-12-30T17:09:22.856Z"
   },
   {
    "duration": 485,
    "start_time": "2021-12-30T17:13:47.185Z"
   },
   {
    "duration": 1023,
    "start_time": "2021-12-30T17:14:04.838Z"
   },
   {
    "duration": 826,
    "start_time": "2021-12-30T17:15:58.159Z"
   },
   {
    "duration": 812,
    "start_time": "2021-12-30T17:16:27.800Z"
   },
   {
    "duration": 1092,
    "start_time": "2021-12-30T17:17:18.987Z"
   },
   {
    "duration": 1065,
    "start_time": "2021-12-30T17:17:45.287Z"
   },
   {
    "duration": 11,
    "start_time": "2021-12-30T17:25:04.977Z"
   },
   {
    "duration": 11,
    "start_time": "2021-12-30T17:25:47.590Z"
   },
   {
    "duration": 1118,
    "start_time": "2021-12-30T17:25:55.907Z"
   },
   {
    "duration": 1163,
    "start_time": "2021-12-30T17:26:51.406Z"
   },
   {
    "duration": 2,
    "start_time": "2021-12-30T17:27:42.760Z"
   },
   {
    "duration": 355,
    "start_time": "2021-12-30T17:27:42.776Z"
   },
   {
    "duration": 12,
    "start_time": "2021-12-30T17:27:43.133Z"
   },
   {
    "duration": 9,
    "start_time": "2021-12-30T17:27:43.146Z"
   },
   {
    "duration": 14,
    "start_time": "2021-12-30T17:27:43.156Z"
   },
   {
    "duration": 126,
    "start_time": "2021-12-30T17:27:43.171Z"
   },
   {
    "duration": 64,
    "start_time": "2021-12-30T17:27:43.298Z"
   },
   {
    "duration": 89,
    "start_time": "2021-12-30T17:27:43.363Z"
   },
   {
    "duration": 44,
    "start_time": "2021-12-30T17:27:43.454Z"
   },
   {
    "duration": 41,
    "start_time": "2021-12-30T17:27:43.500Z"
   },
   {
    "duration": 36,
    "start_time": "2021-12-30T17:27:43.543Z"
   },
   {
    "duration": 123,
    "start_time": "2021-12-30T17:27:43.580Z"
   },
   {
    "duration": 251,
    "start_time": "2021-12-30T17:27:43.705Z"
   },
   {
    "duration": 96,
    "start_time": "2021-12-30T17:27:43.958Z"
   },
   {
    "duration": 21,
    "start_time": "2021-12-30T17:27:44.056Z"
   },
   {
    "duration": 82,
    "start_time": "2021-12-30T17:27:44.078Z"
   },
   {
    "duration": 25,
    "start_time": "2021-12-30T17:27:44.162Z"
   },
   {
    "duration": 61,
    "start_time": "2021-12-30T17:27:44.189Z"
   },
   {
    "duration": 1037,
    "start_time": "2021-12-30T17:27:44.251Z"
   },
   {
    "duration": 1136,
    "start_time": "2021-12-30T17:27:49.405Z"
   },
   {
    "duration": 1080,
    "start_time": "2021-12-30T17:28:51.972Z"
   },
   {
    "duration": 3,
    "start_time": "2021-12-30T17:28:59.551Z"
   },
   {
    "duration": 359,
    "start_time": "2021-12-30T17:28:59.564Z"
   },
   {
    "duration": 12,
    "start_time": "2021-12-30T17:28:59.925Z"
   },
   {
    "duration": 10,
    "start_time": "2021-12-30T17:28:59.938Z"
   },
   {
    "duration": 17,
    "start_time": "2021-12-30T17:28:59.949Z"
   },
   {
    "duration": 127,
    "start_time": "2021-12-30T17:28:59.968Z"
   },
   {
    "duration": 78,
    "start_time": "2021-12-30T17:29:00.097Z"
   },
   {
    "duration": 89,
    "start_time": "2021-12-30T17:29:00.177Z"
   },
   {
    "duration": 44,
    "start_time": "2021-12-30T17:29:00.269Z"
   },
   {
    "duration": 39,
    "start_time": "2021-12-30T17:29:00.315Z"
   },
   {
    "duration": 37,
    "start_time": "2021-12-30T17:29:00.356Z"
   },
   {
    "duration": 129,
    "start_time": "2021-12-30T17:29:00.394Z"
   },
   {
    "duration": 234,
    "start_time": "2021-12-30T17:29:00.527Z"
   },
   {
    "duration": 86,
    "start_time": "2021-12-30T17:29:00.762Z"
   },
   {
    "duration": 17,
    "start_time": "2021-12-30T17:29:00.850Z"
   },
   {
    "duration": 70,
    "start_time": "2021-12-30T17:29:00.868Z"
   },
   {
    "duration": 21,
    "start_time": "2021-12-30T17:29:00.940Z"
   },
   {
    "duration": 52,
    "start_time": "2021-12-30T17:29:00.962Z"
   },
   {
    "duration": 495,
    "start_time": "2021-12-30T17:29:01.016Z"
   },
   {
    "duration": 12,
    "start_time": "2021-12-30T18:16:54.300Z"
   },
   {
    "duration": 15,
    "start_time": "2021-12-30T18:17:12.513Z"
   },
   {
    "duration": 2,
    "start_time": "2021-12-30T18:18:33.123Z"
   },
   {
    "duration": 352,
    "start_time": "2021-12-30T18:18:33.139Z"
   },
   {
    "duration": 12,
    "start_time": "2021-12-30T18:18:33.493Z"
   },
   {
    "duration": 9,
    "start_time": "2021-12-30T18:18:33.507Z"
   },
   {
    "duration": 14,
    "start_time": "2021-12-30T18:18:33.518Z"
   },
   {
    "duration": 111,
    "start_time": "2021-12-30T18:18:33.533Z"
   },
   {
    "duration": 63,
    "start_time": "2021-12-30T18:18:33.645Z"
   },
   {
    "duration": 88,
    "start_time": "2021-12-30T18:18:33.709Z"
   },
   {
    "duration": 47,
    "start_time": "2021-12-30T18:18:42.819Z"
   },
   {
    "duration": 30,
    "start_time": "2021-12-30T18:19:01.483Z"
   },
   {
    "duration": 38,
    "start_time": "2021-12-30T18:19:09.004Z"
   },
   {
    "duration": 105,
    "start_time": "2021-12-30T18:20:40.295Z"
   },
   {
    "duration": 128,
    "start_time": "2021-12-30T18:20:55.286Z"
   },
   {
    "duration": 6912,
    "start_time": "2021-12-30T18:24:03.106Z"
   },
   {
    "duration": 7101,
    "start_time": "2021-12-30T18:24:55.313Z"
   },
   {
    "duration": 8898,
    "start_time": "2021-12-30T18:25:39.124Z"
   },
   {
    "duration": 3,
    "start_time": "2021-12-30T18:25:57.630Z"
   },
   {
    "duration": 354,
    "start_time": "2021-12-30T18:25:57.635Z"
   },
   {
    "duration": 13,
    "start_time": "2021-12-30T18:25:57.990Z"
   },
   {
    "duration": 9,
    "start_time": "2021-12-30T18:25:58.004Z"
   },
   {
    "duration": 14,
    "start_time": "2021-12-30T18:25:58.015Z"
   },
   {
    "duration": 105,
    "start_time": "2021-12-30T18:25:58.031Z"
   },
   {
    "duration": 59,
    "start_time": "2021-12-30T18:25:58.138Z"
   },
   {
    "duration": 94,
    "start_time": "2021-12-30T18:25:58.198Z"
   },
   {
    "duration": 57,
    "start_time": "2021-12-30T18:25:58.294Z"
   },
   {
    "duration": 28,
    "start_time": "2021-12-30T18:25:58.353Z"
   },
   {
    "duration": 49,
    "start_time": "2021-12-30T18:25:58.383Z"
   },
   {
    "duration": 135,
    "start_time": "2021-12-30T18:25:59.033Z"
   },
   {
    "duration": 234,
    "start_time": "2021-12-30T18:25:59.170Z"
   },
   {
    "duration": 18,
    "start_time": "2021-12-30T18:26:06.346Z"
   },
   {
    "duration": 4,
    "start_time": "2021-12-30T18:44:55.748Z"
   },
   {
    "duration": 16,
    "start_time": "2021-12-30T18:45:12.255Z"
   },
   {
    "duration": 21,
    "start_time": "2021-12-30T18:47:52.945Z"
   },
   {
    "duration": 2,
    "start_time": "2021-12-30T18:48:24.999Z"
   },
   {
    "duration": 405,
    "start_time": "2021-12-30T18:48:25.003Z"
   },
   {
    "duration": 13,
    "start_time": "2021-12-30T18:48:25.409Z"
   },
   {
    "duration": 9,
    "start_time": "2021-12-30T18:48:25.424Z"
   },
   {
    "duration": 15,
    "start_time": "2021-12-30T18:48:25.434Z"
   },
   {
    "duration": 113,
    "start_time": "2021-12-30T18:48:25.451Z"
   },
   {
    "duration": 64,
    "start_time": "2021-12-30T18:48:25.565Z"
   },
   {
    "duration": 102,
    "start_time": "2021-12-30T18:48:26.330Z"
   },
   {
    "duration": 45,
    "start_time": "2021-12-30T18:48:26.433Z"
   },
   {
    "duration": 30,
    "start_time": "2021-12-30T18:48:26.480Z"
   },
   {
    "duration": 38,
    "start_time": "2021-12-30T18:48:26.527Z"
   },
   {
    "duration": 141,
    "start_time": "2021-12-30T18:48:26.566Z"
   },
   {
    "duration": 235,
    "start_time": "2021-12-30T18:48:26.709Z"
   },
   {
    "duration": 17,
    "start_time": "2021-12-30T18:48:26.946Z"
   },
   {
    "duration": 92,
    "start_time": "2021-12-30T18:48:26.965Z"
   },
   {
    "duration": 19,
    "start_time": "2021-12-30T18:48:27.058Z"
   },
   {
    "duration": 43,
    "start_time": "2021-12-30T18:48:27.078Z"
   },
   {
    "duration": 82,
    "start_time": "2021-12-30T18:48:27.123Z"
   },
   {
    "duration": 23,
    "start_time": "2021-12-30T18:48:31.068Z"
   },
   {
    "duration": 2,
    "start_time": "2021-12-30T18:48:43.614Z"
   },
   {
    "duration": 350,
    "start_time": "2021-12-30T18:48:43.619Z"
   },
   {
    "duration": 13,
    "start_time": "2021-12-30T18:48:43.971Z"
   },
   {
    "duration": 10,
    "start_time": "2021-12-30T18:48:43.986Z"
   },
   {
    "duration": 15,
    "start_time": "2021-12-30T18:48:43.998Z"
   },
   {
    "duration": 175,
    "start_time": "2021-12-30T18:48:44.015Z"
   },
   {
    "duration": 73,
    "start_time": "2021-12-30T18:48:44.191Z"
   },
   {
    "duration": 89,
    "start_time": "2021-12-30T18:48:44.266Z"
   },
   {
    "duration": 47,
    "start_time": "2021-12-30T18:48:44.357Z"
   },
   {
    "duration": 48,
    "start_time": "2021-12-30T18:48:44.406Z"
   },
   {
    "duration": 40,
    "start_time": "2021-12-30T18:48:44.455Z"
   },
   {
    "duration": 148,
    "start_time": "2021-12-30T18:48:44.497Z"
   },
   {
    "duration": 243,
    "start_time": "2021-12-30T18:48:44.646Z"
   },
   {
    "duration": 17,
    "start_time": "2021-12-30T18:48:44.891Z"
   },
   {
    "duration": 103,
    "start_time": "2021-12-30T18:48:44.909Z"
   },
   {
    "duration": 28,
    "start_time": "2021-12-30T18:48:45.013Z"
   },
   {
    "duration": 18,
    "start_time": "2021-12-30T18:48:45.042Z"
   },
   {
    "duration": 82,
    "start_time": "2021-12-30T18:48:45.061Z"
   },
   {
    "duration": 21,
    "start_time": "2021-12-30T18:48:48.990Z"
   },
   {
    "duration": 44,
    "start_time": "2021-12-30T18:49:34.019Z"
   },
   {
    "duration": 8564,
    "start_time": "2021-12-30T18:53:55.587Z"
   },
   {
    "duration": 7278,
    "start_time": "2021-12-30T18:54:09.069Z"
   },
   {
    "duration": 28,
    "start_time": "2021-12-30T18:54:39.804Z"
   },
   {
    "duration": 28,
    "start_time": "2021-12-30T18:56:23.306Z"
   },
   {
    "duration": 25,
    "start_time": "2021-12-30T18:57:12.394Z"
   },
   {
    "duration": 302,
    "start_time": "2021-12-30T18:59:32.137Z"
   },
   {
    "duration": 284,
    "start_time": "2021-12-30T19:00:27.643Z"
   },
   {
    "duration": 3,
    "start_time": "2021-12-30T19:00:31.680Z"
   },
   {
    "duration": 338,
    "start_time": "2021-12-30T19:00:31.685Z"
   },
   {
    "duration": 12,
    "start_time": "2021-12-30T19:00:32.025Z"
   },
   {
    "duration": 10,
    "start_time": "2021-12-30T19:00:32.039Z"
   },
   {
    "duration": 14,
    "start_time": "2021-12-30T19:00:32.050Z"
   },
   {
    "duration": 131,
    "start_time": "2021-12-30T19:00:32.065Z"
   },
   {
    "duration": 66,
    "start_time": "2021-12-30T19:00:32.197Z"
   },
   {
    "duration": 87,
    "start_time": "2021-12-30T19:00:32.265Z"
   },
   {
    "duration": 47,
    "start_time": "2021-12-30T19:00:32.355Z"
   },
   {
    "duration": 47,
    "start_time": "2021-12-30T19:00:32.404Z"
   },
   {
    "duration": 38,
    "start_time": "2021-12-30T19:00:32.453Z"
   },
   {
    "duration": 144,
    "start_time": "2021-12-30T19:00:32.493Z"
   },
   {
    "duration": 239,
    "start_time": "2021-12-30T19:00:32.639Z"
   },
   {
    "duration": 17,
    "start_time": "2021-12-30T19:00:32.880Z"
   },
   {
    "duration": 108,
    "start_time": "2021-12-30T19:00:32.899Z"
   },
   {
    "duration": 32,
    "start_time": "2021-12-30T19:00:33.008Z"
   },
   {
    "duration": 20,
    "start_time": "2021-12-30T19:00:33.042Z"
   },
   {
    "duration": 85,
    "start_time": "2021-12-30T19:00:33.063Z"
   },
   {
    "duration": 21,
    "start_time": "2021-12-30T19:00:33.150Z"
   },
   {
    "duration": 294,
    "start_time": "2021-12-30T19:00:40.305Z"
   },
   {
    "duration": 25,
    "start_time": "2021-12-30T19:01:27.799Z"
   },
   {
    "duration": 54,
    "start_time": "2021-12-30T19:06:18.345Z"
   },
   {
    "duration": 77,
    "start_time": "2021-12-30T19:06:51.433Z"
   },
   {
    "duration": 310,
    "start_time": "2021-12-30T19:07:40.850Z"
   },
   {
    "duration": 342,
    "start_time": "2021-12-30T19:08:02.088Z"
   },
   {
    "duration": 612,
    "start_time": "2021-12-30T19:09:04.563Z"
   },
   {
    "duration": 990,
    "start_time": "2021-12-30T19:09:16.461Z"
   },
   {
    "duration": 353,
    "start_time": "2021-12-30T19:09:17.453Z"
   },
   {
    "duration": 12,
    "start_time": "2021-12-30T19:09:17.808Z"
   },
   {
    "duration": 15,
    "start_time": "2021-12-30T19:09:17.822Z"
   },
   {
    "duration": 14,
    "start_time": "2021-12-30T19:09:17.838Z"
   },
   {
    "duration": 140,
    "start_time": "2021-12-30T19:09:17.854Z"
   },
   {
    "duration": 77,
    "start_time": "2021-12-30T19:09:17.995Z"
   },
   {
    "duration": 91,
    "start_time": "2021-12-30T19:09:18.075Z"
   },
   {
    "duration": 65,
    "start_time": "2021-12-30T19:09:18.168Z"
   },
   {
    "duration": 30,
    "start_time": "2021-12-30T19:09:18.235Z"
   },
   {
    "duration": 37,
    "start_time": "2021-12-30T19:09:18.267Z"
   },
   {
    "duration": 149,
    "start_time": "2021-12-30T19:09:18.305Z"
   },
   {
    "duration": 239,
    "start_time": "2021-12-30T19:09:18.456Z"
   },
   {
    "duration": 17,
    "start_time": "2021-12-30T19:09:18.696Z"
   },
   {
    "duration": 81,
    "start_time": "2021-12-30T19:09:18.715Z"
   },
   {
    "duration": 31,
    "start_time": "2021-12-30T19:09:18.797Z"
   },
   {
    "duration": 15,
    "start_time": "2021-12-30T19:09:18.829Z"
   },
   {
    "duration": 68,
    "start_time": "2021-12-30T19:09:18.846Z"
   },
   {
    "duration": 29,
    "start_time": "2021-12-30T19:09:18.916Z"
   },
   {
    "duration": 25,
    "start_time": "2021-12-30T19:09:18.946Z"
   },
   {
    "duration": 580,
    "start_time": "2021-12-30T19:09:18.972Z"
   },
   {
    "duration": -1758,
    "start_time": "2021-12-30T19:09:21.312Z"
   },
   {
    "duration": -1804,
    "start_time": "2021-12-30T19:09:21.358Z"
   },
   {
    "duration": 275,
    "start_time": "2021-12-30T19:09:34.053Z"
   },
   {
    "duration": 2077,
    "start_time": "2021-12-30T19:10:09.544Z"
   },
   {
    "duration": 517,
    "start_time": "2021-12-30T19:10:56.405Z"
   },
   {
    "duration": 1033,
    "start_time": "2021-12-30T19:11:04.321Z"
   },
   {
    "duration": 352,
    "start_time": "2021-12-30T19:11:05.355Z"
   },
   {
    "duration": 14,
    "start_time": "2021-12-30T19:11:05.708Z"
   },
   {
    "duration": 12,
    "start_time": "2021-12-30T19:11:05.723Z"
   },
   {
    "duration": 13,
    "start_time": "2021-12-30T19:11:05.737Z"
   },
   {
    "duration": 130,
    "start_time": "2021-12-30T19:11:05.751Z"
   },
   {
    "duration": 70,
    "start_time": "2021-12-30T19:11:05.883Z"
   },
   {
    "duration": 96,
    "start_time": "2021-12-30T19:11:05.955Z"
   },
   {
    "duration": 52,
    "start_time": "2021-12-30T19:11:06.053Z"
   },
   {
    "duration": 47,
    "start_time": "2021-12-30T19:11:06.106Z"
   },
   {
    "duration": 35,
    "start_time": "2021-12-30T19:11:06.155Z"
   },
   {
    "duration": 139,
    "start_time": "2021-12-30T19:11:06.192Z"
   },
   {
    "duration": 234,
    "start_time": "2021-12-30T19:11:06.333Z"
   },
   {
    "duration": 19,
    "start_time": "2021-12-30T19:11:06.568Z"
   },
   {
    "duration": 95,
    "start_time": "2021-12-30T19:11:06.588Z"
   },
   {
    "duration": 18,
    "start_time": "2021-12-30T19:11:06.685Z"
   },
   {
    "duration": 27,
    "start_time": "2021-12-30T19:11:06.704Z"
   },
   {
    "duration": 58,
    "start_time": "2021-12-30T19:11:06.732Z"
   },
   {
    "duration": 37,
    "start_time": "2021-12-30T19:11:06.791Z"
   },
   {
    "duration": 25,
    "start_time": "2021-12-30T19:11:06.829Z"
   },
   {
    "duration": 27,
    "start_time": "2021-12-30T19:11:06.855Z"
   },
   {
    "duration": 80,
    "start_time": "2021-12-30T19:11:08.914Z"
   },
   {
    "duration": 472,
    "start_time": "2021-12-30T19:14:22.497Z"
   },
   {
    "duration": 1066,
    "start_time": "2021-12-30T19:14:30.792Z"
   },
   {
    "duration": 350,
    "start_time": "2021-12-30T19:14:31.859Z"
   },
   {
    "duration": 13,
    "start_time": "2021-12-30T19:14:32.211Z"
   },
   {
    "duration": 12,
    "start_time": "2021-12-30T19:14:32.225Z"
   },
   {
    "duration": 14,
    "start_time": "2021-12-30T19:14:32.238Z"
   },
   {
    "duration": 142,
    "start_time": "2021-12-30T19:14:32.253Z"
   },
   {
    "duration": 71,
    "start_time": "2021-12-30T19:14:32.397Z"
   },
   {
    "duration": 97,
    "start_time": "2021-12-30T19:14:32.471Z"
   },
   {
    "duration": 64,
    "start_time": "2021-12-30T19:14:32.571Z"
   },
   {
    "duration": 33,
    "start_time": "2021-12-30T19:14:32.636Z"
   },
   {
    "duration": 57,
    "start_time": "2021-12-30T19:14:32.671Z"
   },
   {
    "duration": 136,
    "start_time": "2021-12-30T19:14:32.730Z"
   },
   {
    "duration": 248,
    "start_time": "2021-12-30T19:14:32.868Z"
   },
   {
    "duration": 23,
    "start_time": "2021-12-30T19:14:33.117Z"
   },
   {
    "duration": 87,
    "start_time": "2021-12-30T19:14:33.141Z"
   },
   {
    "duration": 18,
    "start_time": "2021-12-30T19:14:33.230Z"
   },
   {
    "duration": 15,
    "start_time": "2021-12-30T19:14:33.249Z"
   },
   {
    "duration": 80,
    "start_time": "2021-12-30T19:14:33.265Z"
   },
   {
    "duration": 22,
    "start_time": "2021-12-30T19:14:33.346Z"
   },
   {
    "duration": 24,
    "start_time": "2021-12-30T19:14:33.370Z"
   },
   {
    "duration": 49,
    "start_time": "2021-12-30T19:14:33.396Z"
   },
   {
    "duration": 388,
    "start_time": "2021-12-30T19:14:56.769Z"
   },
   {
    "duration": 1037,
    "start_time": "2021-12-30T19:15:20.014Z"
   },
   {
    "duration": 353,
    "start_time": "2021-12-30T19:15:21.053Z"
   },
   {
    "duration": 12,
    "start_time": "2021-12-30T19:15:21.408Z"
   },
   {
    "duration": 15,
    "start_time": "2021-12-30T19:15:21.422Z"
   },
   {
    "duration": 25,
    "start_time": "2021-12-30T19:15:21.438Z"
   },
   {
    "duration": 140,
    "start_time": "2021-12-30T19:15:21.464Z"
   },
   {
    "duration": 64,
    "start_time": "2021-12-30T19:15:21.605Z"
   },
   {
    "duration": 97,
    "start_time": "2021-12-30T19:15:21.671Z"
   },
   {
    "duration": 58,
    "start_time": "2021-12-30T19:15:21.770Z"
   },
   {
    "duration": 31,
    "start_time": "2021-12-30T19:15:21.829Z"
   },
   {
    "duration": 37,
    "start_time": "2021-12-30T19:15:21.861Z"
   },
   {
    "duration": 148,
    "start_time": "2021-12-30T19:15:21.899Z"
   },
   {
    "duration": 229,
    "start_time": "2021-12-30T19:15:22.048Z"
   },
   {
    "duration": 17,
    "start_time": "2021-12-30T19:15:22.278Z"
   },
   {
    "duration": 92,
    "start_time": "2021-12-30T19:15:22.296Z"
   },
   {
    "duration": 16,
    "start_time": "2021-12-30T19:15:22.389Z"
   },
   {
    "duration": 23,
    "start_time": "2021-12-30T19:15:22.407Z"
   },
   {
    "duration": 59,
    "start_time": "2021-12-30T19:15:22.431Z"
   },
   {
    "duration": 37,
    "start_time": "2021-12-30T19:15:22.491Z"
   },
   {
    "duration": 25,
    "start_time": "2021-12-30T19:15:22.529Z"
   },
   {
    "duration": 26,
    "start_time": "2021-12-30T19:15:22.555Z"
   },
   {
    "duration": 401,
    "start_time": "2021-12-30T19:15:31.875Z"
   },
   {
    "duration": 39,
    "start_time": "2021-12-30T19:20:06.432Z"
   },
   {
    "duration": 3,
    "start_time": "2021-12-30T19:20:38.110Z"
   },
   {
    "duration": 350,
    "start_time": "2021-12-30T19:20:38.114Z"
   },
   {
    "duration": 12,
    "start_time": "2021-12-30T19:20:38.466Z"
   },
   {
    "duration": 9,
    "start_time": "2021-12-30T19:20:38.479Z"
   },
   {
    "duration": 14,
    "start_time": "2021-12-30T19:20:38.490Z"
   },
   {
    "duration": 111,
    "start_time": "2021-12-30T19:20:38.506Z"
   },
   {
    "duration": 65,
    "start_time": "2021-12-30T19:20:38.618Z"
   },
   {
    "duration": 90,
    "start_time": "2021-12-30T19:20:38.686Z"
   },
   {
    "duration": 54,
    "start_time": "2021-12-30T19:20:38.777Z"
   },
   {
    "duration": 29,
    "start_time": "2021-12-30T19:20:38.833Z"
   },
   {
    "duration": 37,
    "start_time": "2021-12-30T19:20:38.863Z"
   },
   {
    "duration": 145,
    "start_time": "2021-12-30T19:20:38.902Z"
   },
   {
    "duration": 337,
    "start_time": "2021-12-30T19:20:39.048Z"
   },
   {
    "duration": 17,
    "start_time": "2021-12-30T19:20:39.387Z"
   },
   {
    "duration": 91,
    "start_time": "2021-12-30T19:20:39.405Z"
   },
   {
    "duration": 30,
    "start_time": "2021-12-30T19:20:39.498Z"
   },
   {
    "duration": 17,
    "start_time": "2021-12-30T19:20:39.529Z"
   },
   {
    "duration": 61,
    "start_time": "2021-12-30T19:20:39.547Z"
   },
   {
    "duration": 33,
    "start_time": "2021-12-30T19:20:39.609Z"
   },
   {
    "duration": 24,
    "start_time": "2021-12-30T19:20:39.644Z"
   },
   {
    "duration": 27,
    "start_time": "2021-12-30T19:20:39.669Z"
   },
   {
    "duration": 62,
    "start_time": "2021-12-30T19:20:39.697Z"
   },
   {
    "duration": 48,
    "start_time": "2021-12-30T19:20:51.302Z"
   },
   {
    "duration": 4282,
    "start_time": "2021-12-30T19:23:46.337Z"
   },
   {
    "duration": 1066,
    "start_time": "2021-12-30T19:24:33.191Z"
   },
   {
    "duration": 349,
    "start_time": "2021-12-30T19:24:34.259Z"
   },
   {
    "duration": 13,
    "start_time": "2021-12-30T19:24:34.610Z"
   },
   {
    "duration": 11,
    "start_time": "2021-12-30T19:24:34.624Z"
   },
   {
    "duration": 14,
    "start_time": "2021-12-30T19:24:34.636Z"
   },
   {
    "duration": 145,
    "start_time": "2021-12-30T19:24:34.652Z"
   },
   {
    "duration": 71,
    "start_time": "2021-12-30T19:24:34.799Z"
   },
   {
    "duration": 92,
    "start_time": "2021-12-30T19:24:34.872Z"
   },
   {
    "duration": 64,
    "start_time": "2021-12-30T19:24:34.966Z"
   },
   {
    "duration": 30,
    "start_time": "2021-12-30T19:24:35.032Z"
   },
   {
    "duration": 37,
    "start_time": "2021-12-30T19:24:35.064Z"
   },
   {
    "duration": 148,
    "start_time": "2021-12-30T19:24:35.102Z"
   },
   {
    "duration": 236,
    "start_time": "2021-12-30T19:24:35.251Z"
   },
   {
    "duration": 17,
    "start_time": "2021-12-30T19:24:35.488Z"
   },
   {
    "duration": 86,
    "start_time": "2021-12-30T19:24:35.506Z"
   },
   {
    "duration": 18,
    "start_time": "2021-12-30T19:24:35.594Z"
   },
   {
    "duration": 16,
    "start_time": "2021-12-30T19:24:35.627Z"
   },
   {
    "duration": 63,
    "start_time": "2021-12-30T19:24:35.644Z"
   },
   {
    "duration": 34,
    "start_time": "2021-12-30T19:24:35.708Z"
   },
   {
    "duration": 23,
    "start_time": "2021-12-30T19:24:35.744Z"
   },
   {
    "duration": 27,
    "start_time": "2021-12-30T19:24:35.768Z"
   },
   {
    "duration": 1049,
    "start_time": "2021-12-30T19:24:51.805Z"
   },
   {
    "duration": 354,
    "start_time": "2021-12-30T19:24:52.855Z"
   },
   {
    "duration": 13,
    "start_time": "2021-12-30T19:24:53.210Z"
   },
   {
    "duration": 11,
    "start_time": "2021-12-30T19:24:53.225Z"
   },
   {
    "duration": 15,
    "start_time": "2021-12-30T19:24:53.237Z"
   },
   {
    "duration": 137,
    "start_time": "2021-12-30T19:24:53.253Z"
   },
   {
    "duration": 65,
    "start_time": "2021-12-30T19:24:53.392Z"
   },
   {
    "duration": 93,
    "start_time": "2021-12-30T19:24:53.459Z"
   },
   {
    "duration": 56,
    "start_time": "2021-12-30T19:24:53.554Z"
   },
   {
    "duration": 33,
    "start_time": "2021-12-30T19:24:53.627Z"
   },
   {
    "duration": 39,
    "start_time": "2021-12-30T19:24:53.661Z"
   },
   {
    "duration": 155,
    "start_time": "2021-12-30T19:24:53.702Z"
   },
   {
    "duration": 251,
    "start_time": "2021-12-30T19:24:53.858Z"
   },
   {
    "duration": 24,
    "start_time": "2021-12-30T19:24:54.110Z"
   },
   {
    "duration": 78,
    "start_time": "2021-12-30T19:24:54.135Z"
   },
   {
    "duration": 25,
    "start_time": "2021-12-30T19:24:54.215Z"
   },
   {
    "duration": 15,
    "start_time": "2021-12-30T19:24:54.242Z"
   },
   {
    "duration": 76,
    "start_time": "2021-12-30T19:24:54.258Z"
   },
   {
    "duration": 21,
    "start_time": "2021-12-30T19:24:54.336Z"
   },
   {
    "duration": 24,
    "start_time": "2021-12-30T19:24:54.359Z"
   },
   {
    "duration": 47,
    "start_time": "2021-12-30T19:24:54.384Z"
   },
   {
    "duration": 4150,
    "start_time": "2021-12-30T19:24:54.432Z"
   },
   {
    "duration": 53,
    "start_time": "2021-12-30T19:28:13.995Z"
   },
   {
    "duration": 12,
    "start_time": "2021-12-30T19:31:32.909Z"
   },
   {
    "duration": 16,
    "start_time": "2021-12-30T19:32:20.978Z"
   },
   {
    "duration": 81,
    "start_time": "2021-12-30T19:33:15.455Z"
   },
   {
    "duration": 46,
    "start_time": "2021-12-30T19:34:22.944Z"
   },
   {
    "duration": 7473,
    "start_time": "2021-12-30T19:35:18.957Z"
   },
   {
    "duration": 3,
    "start_time": "2021-12-30T19:35:45.964Z"
   },
   {
    "duration": 329,
    "start_time": "2021-12-30T19:35:45.977Z"
   },
   {
    "duration": 13,
    "start_time": "2021-12-30T19:35:46.308Z"
   },
   {
    "duration": 10,
    "start_time": "2021-12-30T19:35:46.323Z"
   },
   {
    "duration": 15,
    "start_time": "2021-12-30T19:35:46.335Z"
   },
   {
    "duration": 135,
    "start_time": "2021-12-30T19:35:46.351Z"
   },
   {
    "duration": 71,
    "start_time": "2021-12-30T19:35:46.488Z"
   },
   {
    "duration": 87,
    "start_time": "2021-12-30T19:35:51.185Z"
   },
   {
    "duration": 7447,
    "start_time": "2021-12-30T19:36:31.878Z"
   },
   {
    "duration": 2,
    "start_time": "2021-12-30T19:37:06.530Z"
   },
   {
    "duration": 351,
    "start_time": "2021-12-30T19:37:06.551Z"
   },
   {
    "duration": 12,
    "start_time": "2021-12-30T19:37:06.904Z"
   },
   {
    "duration": 9,
    "start_time": "2021-12-30T19:37:06.918Z"
   },
   {
    "duration": 14,
    "start_time": "2021-12-30T19:37:06.928Z"
   },
   {
    "duration": 131,
    "start_time": "2021-12-30T19:37:06.943Z"
   },
   {
    "duration": 71,
    "start_time": "2021-12-30T19:37:07.075Z"
   },
   {
    "duration": 91,
    "start_time": "2021-12-30T19:37:14.134Z"
   },
   {
    "duration": 51,
    "start_time": "2021-12-30T19:37:53.982Z"
   },
   {
    "duration": 3,
    "start_time": "2021-12-30T19:38:32.592Z"
   },
   {
    "duration": 346,
    "start_time": "2021-12-30T19:38:32.601Z"
   },
   {
    "duration": 13,
    "start_time": "2021-12-30T19:38:32.949Z"
   },
   {
    "duration": 12,
    "start_time": "2021-12-30T19:38:32.964Z"
   },
   {
    "duration": 16,
    "start_time": "2021-12-30T19:38:32.978Z"
   },
   {
    "duration": 131,
    "start_time": "2021-12-30T19:38:32.996Z"
   },
   {
    "duration": 57,
    "start_time": "2021-12-30T19:38:33.128Z"
   },
   {
    "duration": 77,
    "start_time": "2021-12-30T19:38:37.998Z"
   },
   {
    "duration": 7287,
    "start_time": "2021-12-30T19:39:00.430Z"
   },
   {
    "duration": 3,
    "start_time": "2021-12-30T19:39:08.183Z"
   },
   {
    "duration": 350,
    "start_time": "2021-12-30T19:39:08.192Z"
   },
   {
    "duration": 13,
    "start_time": "2021-12-30T19:39:08.544Z"
   },
   {
    "duration": 8,
    "start_time": "2021-12-30T19:39:08.559Z"
   },
   {
    "duration": 14,
    "start_time": "2021-12-30T19:39:08.569Z"
   },
   {
    "duration": 115,
    "start_time": "2021-12-30T19:39:08.585Z"
   },
   {
    "duration": 61,
    "start_time": "2021-12-30T19:39:08.702Z"
   },
   {
    "duration": 131,
    "start_time": "2021-12-30T19:39:15.253Z"
   },
   {
    "duration": 298,
    "start_time": "2021-12-30T19:42:35.916Z"
   },
   {
    "duration": 1082,
    "start_time": "2021-12-30T19:42:43.295Z"
   },
   {
    "duration": 374,
    "start_time": "2021-12-30T19:42:44.378Z"
   },
   {
    "duration": 16,
    "start_time": "2021-12-30T19:42:44.754Z"
   },
   {
    "duration": 14,
    "start_time": "2021-12-30T19:42:44.772Z"
   },
   {
    "duration": 16,
    "start_time": "2021-12-30T19:42:44.788Z"
   },
   {
    "duration": 145,
    "start_time": "2021-12-30T19:42:44.806Z"
   },
   {
    "duration": 80,
    "start_time": "2021-12-30T19:42:44.953Z"
   },
   {
    "duration": 96,
    "start_time": "2021-12-30T19:42:45.035Z"
   },
   {
    "duration": 505,
    "start_time": "2021-12-30T19:42:51.401Z"
   },
   {
    "duration": 343,
    "start_time": "2021-12-30T19:43:26.221Z"
   },
   {
    "duration": 278,
    "start_time": "2021-12-30T19:49:35.715Z"
   },
   {
    "duration": 1003,
    "start_time": "2021-12-30T19:54:50.352Z"
   },
   {
    "duration": 360,
    "start_time": "2021-12-30T19:54:51.357Z"
   },
   {
    "duration": 14,
    "start_time": "2021-12-30T19:54:51.719Z"
   },
   {
    "duration": 12,
    "start_time": "2021-12-30T19:54:51.734Z"
   },
   {
    "duration": 16,
    "start_time": "2021-12-30T19:54:51.747Z"
   },
   {
    "duration": 151,
    "start_time": "2021-12-30T19:54:51.764Z"
   },
   {
    "duration": 65,
    "start_time": "2021-12-30T19:54:51.916Z"
   },
   {
    "duration": 93,
    "start_time": "2021-12-30T19:54:51.983Z"
   },
   {
    "duration": 323,
    "start_time": "2021-12-30T19:57:31.625Z"
   },
   {
    "duration": 1063,
    "start_time": "2021-12-30T19:57:37.796Z"
   },
   {
    "duration": 459,
    "start_time": "2021-12-30T19:57:38.860Z"
   },
   {
    "duration": 14,
    "start_time": "2021-12-30T19:57:39.321Z"
   },
   {
    "duration": 11,
    "start_time": "2021-12-30T19:57:39.337Z"
   },
   {
    "duration": 15,
    "start_time": "2021-12-30T19:57:39.349Z"
   },
   {
    "duration": 159,
    "start_time": "2021-12-30T19:57:39.365Z"
   },
   {
    "duration": 58,
    "start_time": "2021-12-30T19:57:39.525Z"
   },
   {
    "duration": 97,
    "start_time": "2021-12-30T19:57:39.585Z"
   },
   {
    "duration": 350,
    "start_time": "2021-12-30T19:57:44.514Z"
   },
   {
    "duration": 38,
    "start_time": "2021-12-30T19:58:18.727Z"
   },
   {
    "duration": 74,
    "start_time": "2021-12-30T20:00:06.482Z"
   },
   {
    "duration": 46,
    "start_time": "2021-12-30T20:00:19.980Z"
   },
   {
    "duration": 89,
    "start_time": "2021-12-30T20:07:07.079Z"
   },
   {
    "duration": 2,
    "start_time": "2021-12-30T20:08:39.503Z"
   },
   {
    "duration": 372,
    "start_time": "2021-12-30T20:08:39.507Z"
   },
   {
    "duration": 13,
    "start_time": "2021-12-30T20:08:39.881Z"
   },
   {
    "duration": 10,
    "start_time": "2021-12-30T20:08:39.895Z"
   },
   {
    "duration": 14,
    "start_time": "2021-12-30T20:08:39.907Z"
   },
   {
    "duration": 122,
    "start_time": "2021-12-30T20:08:39.923Z"
   },
   {
    "duration": 56,
    "start_time": "2021-12-30T20:08:40.047Z"
   },
   {
    "duration": 99,
    "start_time": "2021-12-30T20:08:40.106Z"
   },
   {
    "duration": 66,
    "start_time": "2021-12-30T20:08:40.207Z"
   },
   {
    "duration": 32,
    "start_time": "2021-12-30T20:08:58.009Z"
   },
   {
    "duration": 130,
    "start_time": "2021-12-30T20:09:22.592Z"
   },
   {
    "duration": 232,
    "start_time": "2021-12-30T20:09:35.162Z"
   },
   {
    "duration": 23,
    "start_time": "2021-12-30T20:09:44.037Z"
   },
   {
    "duration": 78,
    "start_time": "2021-12-30T20:10:10.409Z"
   },
   {
    "duration": 18,
    "start_time": "2021-12-30T20:10:16.355Z"
   },
   {
    "duration": 16,
    "start_time": "2021-12-30T20:10:22.763Z"
   },
   {
    "duration": 272,
    "start_time": "2021-12-30T20:10:29.677Z"
   },
   {
    "duration": 2,
    "start_time": "2021-12-30T20:10:50.502Z"
   },
   {
    "duration": 352,
    "start_time": "2021-12-30T20:10:50.506Z"
   },
   {
    "duration": 12,
    "start_time": "2021-12-30T20:10:50.860Z"
   },
   {
    "duration": 9,
    "start_time": "2021-12-30T20:10:50.873Z"
   },
   {
    "duration": 15,
    "start_time": "2021-12-30T20:10:50.883Z"
   },
   {
    "duration": 101,
    "start_time": "2021-12-30T20:10:50.899Z"
   },
   {
    "duration": 60,
    "start_time": "2021-12-30T20:10:51.001Z"
   },
   {
    "duration": 87,
    "start_time": "2021-12-30T20:10:51.063Z"
   },
   {
    "duration": 43,
    "start_time": "2021-12-30T20:10:51.151Z"
   },
   {
    "duration": 44,
    "start_time": "2021-12-30T20:10:51.195Z"
   },
   {
    "duration": 38,
    "start_time": "2021-12-30T20:10:51.241Z"
   },
   {
    "duration": 147,
    "start_time": "2021-12-30T20:10:51.281Z"
   },
   {
    "duration": 235,
    "start_time": "2021-12-30T20:10:51.429Z"
   },
   {
    "duration": 16,
    "start_time": "2021-12-30T20:10:51.666Z"
   },
   {
    "duration": 95,
    "start_time": "2021-12-30T20:10:51.684Z"
   },
   {
    "duration": 17,
    "start_time": "2021-12-30T20:10:51.780Z"
   },
   {
    "duration": 16,
    "start_time": "2021-12-30T20:10:51.798Z"
   },
   {
    "duration": 63,
    "start_time": "2021-12-30T20:10:57.083Z"
   },
   {
    "duration": 24,
    "start_time": "2021-12-30T20:11:08.268Z"
   },
   {
    "duration": 25,
    "start_time": "2021-12-30T20:11:21.918Z"
   },
   {
    "duration": 1126,
    "start_time": "2021-12-30T20:37:41.165Z"
   },
   {
    "duration": 8502,
    "start_time": "2021-12-30T20:38:00.477Z"
   },
   {
    "duration": 8479,
    "start_time": "2021-12-30T20:38:49.300Z"
   },
   {
    "duration": -977,
    "start_time": "2021-12-30T20:48:41.506Z"
   },
   {
    "duration": -996,
    "start_time": "2021-12-30T20:48:41.525Z"
   },
   {
    "duration": -1008,
    "start_time": "2021-12-30T20:48:41.538Z"
   },
   {
    "duration": -1016,
    "start_time": "2021-12-30T20:48:41.547Z"
   },
   {
    "duration": -1032,
    "start_time": "2021-12-30T20:48:41.564Z"
   },
   {
    "duration": -1051,
    "start_time": "2021-12-30T20:48:41.583Z"
   },
   {
    "duration": -1061,
    "start_time": "2021-12-30T20:48:41.594Z"
   },
   {
    "duration": -1108,
    "start_time": "2021-12-30T20:48:41.642Z"
   },
   {
    "duration": -1121,
    "start_time": "2021-12-30T20:48:41.656Z"
   },
   {
    "duration": -1133,
    "start_time": "2021-12-30T20:48:41.669Z"
   },
   {
    "duration": -1140,
    "start_time": "2021-12-30T20:48:41.677Z"
   },
   {
    "duration": -1150,
    "start_time": "2021-12-30T20:48:41.688Z"
   },
   {
    "duration": -1159,
    "start_time": "2021-12-30T20:48:41.698Z"
   },
   {
    "duration": -1170,
    "start_time": "2021-12-30T20:48:41.710Z"
   },
   {
    "duration": -1178,
    "start_time": "2021-12-30T20:48:41.719Z"
   },
   {
    "duration": -1188,
    "start_time": "2021-12-30T20:48:41.729Z"
   },
   {
    "duration": -1230,
    "start_time": "2021-12-30T20:48:41.772Z"
   },
   {
    "duration": -1242,
    "start_time": "2021-12-30T20:48:41.785Z"
   },
   {
    "duration": -1255,
    "start_time": "2021-12-30T20:48:41.799Z"
   },
   {
    "duration": -1266,
    "start_time": "2021-12-30T20:48:41.811Z"
   },
   {
    "duration": -1274,
    "start_time": "2021-12-30T20:48:41.820Z"
   },
   {
    "duration": 1002,
    "start_time": "2021-12-30T20:49:05.844Z"
   },
   {
    "duration": 356,
    "start_time": "2021-12-30T20:49:06.847Z"
   },
   {
    "duration": 12,
    "start_time": "2021-12-30T20:49:07.206Z"
   },
   {
    "duration": 11,
    "start_time": "2021-12-30T20:49:07.220Z"
   },
   {
    "duration": 14,
    "start_time": "2021-12-30T20:49:07.232Z"
   },
   {
    "duration": 132,
    "start_time": "2021-12-30T20:49:07.248Z"
   },
   {
    "duration": 69,
    "start_time": "2021-12-30T20:49:07.381Z"
   },
   {
    "duration": 89,
    "start_time": "2021-12-30T20:49:07.452Z"
   },
   {
    "duration": 54,
    "start_time": "2021-12-30T20:49:07.543Z"
   },
   {
    "duration": 49,
    "start_time": "2021-12-30T20:49:07.599Z"
   },
   {
    "duration": 36,
    "start_time": "2021-12-30T20:49:07.650Z"
   },
   {
    "duration": 142,
    "start_time": "2021-12-30T20:49:07.688Z"
   },
   {
    "duration": 230,
    "start_time": "2021-12-30T20:49:07.831Z"
   },
   {
    "duration": 17,
    "start_time": "2021-12-30T20:49:08.062Z"
   },
   {
    "duration": 90,
    "start_time": "2021-12-30T20:49:08.080Z"
   },
   {
    "duration": 16,
    "start_time": "2021-12-30T20:49:08.171Z"
   },
   {
    "duration": 14,
    "start_time": "2021-12-30T20:49:08.189Z"
   },
   {
    "duration": 74,
    "start_time": "2021-12-30T20:49:08.204Z"
   },
   {
    "duration": 21,
    "start_time": "2021-12-30T20:49:08.280Z"
   },
   {
    "duration": 40,
    "start_time": "2021-12-30T20:49:08.302Z"
   },
   {
    "duration": 57091,
    "start_time": "2021-12-30T20:49:19.890Z"
   },
   {
    "duration": 30,
    "start_time": "2021-12-30T20:52:10.221Z"
   },
   {
    "duration": 7873,
    "start_time": "2021-12-30T21:07:50.147Z"
   },
   {
    "duration": 340,
    "start_time": "2021-12-30T21:08:13.794Z"
   },
   {
    "duration": 2007,
    "start_time": "2021-12-30T21:10:42.507Z"
   },
   {
    "duration": 1921,
    "start_time": "2021-12-30T21:11:10.424Z"
   },
   {
    "duration": 339,
    "start_time": "2021-12-30T21:12:41.174Z"
   },
   {
    "duration": 717,
    "start_time": "2021-12-30T21:15:33.967Z"
   },
   {
    "duration": 245,
    "start_time": "2021-12-30T21:15:52.733Z"
   },
   {
    "duration": 3,
    "start_time": "2021-12-30T21:16:14.785Z"
   },
   {
    "duration": 358,
    "start_time": "2021-12-30T21:16:14.793Z"
   },
   {
    "duration": 12,
    "start_time": "2021-12-30T21:16:15.153Z"
   },
   {
    "duration": 17,
    "start_time": "2021-12-30T21:16:15.166Z"
   },
   {
    "duration": 15,
    "start_time": "2021-12-30T21:16:15.184Z"
   },
   {
    "duration": 102,
    "start_time": "2021-12-30T21:16:15.201Z"
   },
   {
    "duration": 61,
    "start_time": "2021-12-30T21:16:15.305Z"
   },
   {
    "duration": 88,
    "start_time": "2021-12-30T21:16:15.367Z"
   },
   {
    "duration": 44,
    "start_time": "2021-12-30T21:16:15.457Z"
   },
   {
    "duration": 50,
    "start_time": "2021-12-30T21:16:15.502Z"
   },
   {
    "duration": 37,
    "start_time": "2021-12-30T21:16:15.553Z"
   },
   {
    "duration": 144,
    "start_time": "2021-12-30T21:16:15.591Z"
   },
   {
    "duration": 235,
    "start_time": "2021-12-30T21:16:15.736Z"
   },
   {
    "duration": 16,
    "start_time": "2021-12-30T21:16:15.973Z"
   },
   {
    "duration": 94,
    "start_time": "2021-12-30T21:16:15.990Z"
   },
   {
    "duration": 17,
    "start_time": "2021-12-30T21:16:16.086Z"
   },
   {
    "duration": 29,
    "start_time": "2021-12-30T21:16:16.104Z"
   },
   {
    "duration": 59,
    "start_time": "2021-12-30T21:16:16.134Z"
   },
   {
    "duration": 40,
    "start_time": "2021-12-30T21:16:16.195Z"
   },
   {
    "duration": 23,
    "start_time": "2021-12-30T21:16:16.236Z"
   },
   {
    "duration": 245,
    "start_time": "2021-12-30T21:16:33.139Z"
   },
   {
    "duration": 269,
    "start_time": "2021-12-30T21:16:56.255Z"
   },
   {
    "duration": 225,
    "start_time": "2021-12-30T21:21:03.475Z"
   },
   {
    "duration": 233,
    "start_time": "2021-12-30T21:24:03.855Z"
   },
   {
    "duration": 244,
    "start_time": "2021-12-30T21:24:14.830Z"
   },
   {
    "duration": 240,
    "start_time": "2021-12-30T21:24:33.517Z"
   },
   {
    "duration": 224,
    "start_time": "2021-12-30T21:24:40.463Z"
   },
   {
    "duration": 222,
    "start_time": "2021-12-30T21:30:20.554Z"
   },
   {
    "duration": 239,
    "start_time": "2021-12-30T21:30:26.310Z"
   },
   {
    "duration": 254,
    "start_time": "2021-12-30T21:31:17.849Z"
   },
   {
    "duration": 3,
    "start_time": "2021-12-30T21:31:26.277Z"
   },
   {
    "duration": 346,
    "start_time": "2021-12-30T21:31:26.281Z"
   },
   {
    "duration": 13,
    "start_time": "2021-12-30T21:31:26.629Z"
   },
   {
    "duration": 9,
    "start_time": "2021-12-30T21:31:26.643Z"
   },
   {
    "duration": 16,
    "start_time": "2021-12-30T21:31:26.654Z"
   },
   {
    "duration": 123,
    "start_time": "2021-12-30T21:31:26.671Z"
   },
   {
    "duration": 64,
    "start_time": "2021-12-30T21:31:26.796Z"
   },
   {
    "duration": 83,
    "start_time": "2021-12-30T21:31:26.862Z"
   },
   {
    "duration": 46,
    "start_time": "2021-12-30T21:31:26.947Z"
   },
   {
    "duration": 41,
    "start_time": "2021-12-30T21:31:26.995Z"
   },
   {
    "duration": 39,
    "start_time": "2021-12-30T21:31:27.037Z"
   },
   {
    "duration": 143,
    "start_time": "2021-12-30T21:31:27.077Z"
   },
   {
    "duration": 231,
    "start_time": "2021-12-30T21:31:27.222Z"
   },
   {
    "duration": 17,
    "start_time": "2021-12-30T21:31:27.454Z"
   },
   {
    "duration": 97,
    "start_time": "2021-12-30T21:31:27.472Z"
   },
   {
    "duration": 16,
    "start_time": "2021-12-30T21:31:27.570Z"
   },
   {
    "duration": 15,
    "start_time": "2021-12-30T21:31:27.587Z"
   },
   {
    "duration": 75,
    "start_time": "2021-12-30T21:31:27.604Z"
   },
   {
    "duration": 21,
    "start_time": "2021-12-30T21:31:27.681Z"
   },
   {
    "duration": 40,
    "start_time": "2021-12-30T21:31:27.703Z"
   },
   {
    "duration": 230,
    "start_time": "2021-12-30T21:31:27.745Z"
   },
   {
    "duration": 228,
    "start_time": "2021-12-30T21:31:27.977Z"
   },
   {
    "duration": 229,
    "start_time": "2021-12-30T21:31:28.207Z"
   },
   {
    "duration": 244,
    "start_time": "2021-12-30T21:31:31.202Z"
   },
   {
    "duration": 244,
    "start_time": "2021-12-30T21:32:28.459Z"
   },
   {
    "duration": 2,
    "start_time": "2021-12-30T21:33:12.216Z"
   },
   {
    "duration": 342,
    "start_time": "2021-12-30T21:33:12.233Z"
   },
   {
    "duration": 12,
    "start_time": "2021-12-30T21:33:12.577Z"
   },
   {
    "duration": 9,
    "start_time": "2021-12-30T21:33:12.590Z"
   },
   {
    "duration": 14,
    "start_time": "2021-12-30T21:33:12.601Z"
   },
   {
    "duration": 102,
    "start_time": "2021-12-30T21:33:12.617Z"
   },
   {
    "duration": 57,
    "start_time": "2021-12-30T21:33:12.721Z"
   },
   {
    "duration": 88,
    "start_time": "2021-12-30T21:33:12.779Z"
   },
   {
    "duration": 44,
    "start_time": "2021-12-30T21:33:12.869Z"
   },
   {
    "duration": 38,
    "start_time": "2021-12-30T21:33:12.915Z"
   },
   {
    "duration": 36,
    "start_time": "2021-12-30T21:33:12.955Z"
   },
   {
    "duration": 137,
    "start_time": "2021-12-30T21:33:12.992Z"
   },
   {
    "duration": 234,
    "start_time": "2021-12-30T21:33:13.130Z"
   },
   {
    "duration": 16,
    "start_time": "2021-12-30T21:33:13.366Z"
   },
   {
    "duration": 93,
    "start_time": "2021-12-30T21:33:13.384Z"
   },
   {
    "duration": 16,
    "start_time": "2021-12-30T21:33:13.478Z"
   },
   {
    "duration": 14,
    "start_time": "2021-12-30T21:33:13.495Z"
   },
   {
    "duration": 71,
    "start_time": "2021-12-30T21:33:13.510Z"
   },
   {
    "duration": 21,
    "start_time": "2021-12-30T21:33:13.582Z"
   },
   {
    "duration": 45,
    "start_time": "2021-12-30T21:33:13.604Z"
   },
   {
    "duration": 227,
    "start_time": "2021-12-30T21:33:13.651Z"
   },
   {
    "duration": 227,
    "start_time": "2021-12-30T21:33:13.880Z"
   },
   {
    "duration": 228,
    "start_time": "2021-12-30T21:33:14.109Z"
   },
   {
    "duration": 243,
    "start_time": "2021-12-30T21:33:20.905Z"
   },
   {
    "duration": 438,
    "start_time": "2021-12-30T21:38:34.127Z"
   },
   {
    "duration": 499,
    "start_time": "2021-12-30T21:38:39.290Z"
   },
   {
    "duration": 224,
    "start_time": "2021-12-30T21:41:42.746Z"
   },
   {
    "duration": 27,
    "start_time": "2021-12-30T21:41:47.447Z"
   },
   {
    "duration": 55,
    "start_time": "2021-12-30T21:43:57.992Z"
   },
   {
    "duration": 34,
    "start_time": "2021-12-30T21:44:18.478Z"
   },
   {
    "duration": 24,
    "start_time": "2021-12-30T21:44:48.294Z"
   },
   {
    "duration": 48,
    "start_time": "2021-12-30T21:44:53.989Z"
   },
   {
    "duration": 758,
    "start_time": "2021-12-30T21:49:57.495Z"
   },
   {
    "duration": 226,
    "start_time": "2021-12-30T21:52:01.303Z"
   },
   {
    "duration": 739,
    "start_time": "2021-12-30T21:54:43.048Z"
   },
   {
    "duration": 3,
    "start_time": "2021-12-30T21:55:06.993Z"
   },
   {
    "duration": 425,
    "start_time": "2021-12-30T21:55:07.001Z"
   },
   {
    "duration": 16,
    "start_time": "2021-12-30T21:55:07.428Z"
   },
   {
    "duration": 10,
    "start_time": "2021-12-30T21:55:07.446Z"
   },
   {
    "duration": 14,
    "start_time": "2021-12-30T21:55:07.458Z"
   },
   {
    "duration": 124,
    "start_time": "2021-12-30T21:55:07.473Z"
   },
   {
    "duration": 65,
    "start_time": "2021-12-30T21:55:07.599Z"
   },
   {
    "duration": 90,
    "start_time": "2021-12-30T21:55:07.666Z"
   },
   {
    "duration": 43,
    "start_time": "2021-12-30T21:55:07.759Z"
   },
   {
    "duration": 42,
    "start_time": "2021-12-30T21:55:07.804Z"
   },
   {
    "duration": 36,
    "start_time": "2021-12-30T21:55:07.847Z"
   },
   {
    "duration": 139,
    "start_time": "2021-12-30T21:55:07.885Z"
   },
   {
    "duration": 231,
    "start_time": "2021-12-30T21:55:08.027Z"
   },
   {
    "duration": 17,
    "start_time": "2021-12-30T21:55:08.259Z"
   },
   {
    "duration": 93,
    "start_time": "2021-12-30T21:55:08.277Z"
   },
   {
    "duration": 18,
    "start_time": "2021-12-30T21:55:08.372Z"
   },
   {
    "duration": 16,
    "start_time": "2021-12-30T21:55:08.391Z"
   },
   {
    "duration": 75,
    "start_time": "2021-12-30T21:55:08.408Z"
   },
   {
    "duration": 20,
    "start_time": "2021-12-30T21:55:08.484Z"
   },
   {
    "duration": 35,
    "start_time": "2021-12-30T21:55:08.506Z"
   },
   {
    "duration": 241,
    "start_time": "2021-12-30T21:55:08.543Z"
   },
   {
    "duration": 227,
    "start_time": "2021-12-30T21:55:08.786Z"
   },
   {
    "duration": 225,
    "start_time": "2021-12-30T21:55:09.014Z"
   },
   {
    "duration": 443,
    "start_time": "2021-12-30T21:55:09.242Z"
   },
   {
    "duration": 231,
    "start_time": "2021-12-30T21:55:09.687Z"
   },
   {
    "duration": 714,
    "start_time": "2021-12-30T21:55:17.304Z"
   },
   {
    "duration": 751,
    "start_time": "2021-12-30T21:57:13.146Z"
   },
   {
    "duration": 8,
    "start_time": "2021-12-30T21:58:30.630Z"
   },
   {
    "duration": 284,
    "start_time": "2021-12-30T21:58:51.412Z"
   },
   {
    "duration": 31,
    "start_time": "2021-12-30T21:59:06.997Z"
   },
   {
    "duration": 289,
    "start_time": "2021-12-30T22:02:18.494Z"
   },
   {
    "duration": 5,
    "start_time": "2021-12-30T22:02:30.203Z"
   },
   {
    "duration": 8294,
    "start_time": "2021-12-30T22:07:00.986Z"
   },
   {
    "duration": 2,
    "start_time": "2021-12-30T22:07:21.596Z"
   },
   {
    "duration": 373,
    "start_time": "2021-12-30T22:07:21.600Z"
   },
   {
    "duration": 11,
    "start_time": "2021-12-30T22:07:21.975Z"
   },
   {
    "duration": 10,
    "start_time": "2021-12-30T22:07:21.988Z"
   },
   {
    "duration": 16,
    "start_time": "2021-12-30T22:07:21.999Z"
   },
   {
    "duration": 110,
    "start_time": "2021-12-30T22:07:22.017Z"
   },
   {
    "duration": 53,
    "start_time": "2021-12-30T22:07:22.129Z"
   },
   {
    "duration": 83,
    "start_time": "2021-12-30T22:07:22.184Z"
   },
   {
    "duration": 45,
    "start_time": "2021-12-30T22:07:22.268Z"
   },
   {
    "duration": 29,
    "start_time": "2021-12-30T22:07:22.326Z"
   },
   {
    "duration": 36,
    "start_time": "2021-12-30T22:07:22.357Z"
   },
   {
    "duration": 147,
    "start_time": "2021-12-30T22:07:22.394Z"
   },
   {
    "duration": 231,
    "start_time": "2021-12-30T22:07:22.542Z"
   },
   {
    "duration": 17,
    "start_time": "2021-12-30T22:07:22.775Z"
   },
   {
    "duration": 95,
    "start_time": "2021-12-30T22:07:22.793Z"
   },
   {
    "duration": 17,
    "start_time": "2021-12-30T22:07:22.889Z"
   },
   {
    "duration": 28,
    "start_time": "2021-12-30T22:07:22.907Z"
   },
   {
    "duration": 93,
    "start_time": "2021-12-30T22:07:22.937Z"
   },
   {
    "duration": 35,
    "start_time": "2021-12-30T22:07:23.033Z"
   },
   {
    "duration": 58,
    "start_time": "2021-12-30T22:07:23.070Z"
   },
   {
    "duration": 507,
    "start_time": "2021-12-30T22:07:23.130Z"
   },
   {
    "duration": 422,
    "start_time": "2021-12-30T22:07:23.639Z"
   },
   {
    "duration": 517,
    "start_time": "2021-12-30T22:07:24.063Z"
   },
   {
    "duration": 1023,
    "start_time": "2021-12-30T22:07:24.582Z"
   },
   {
    "duration": 522,
    "start_time": "2021-12-30T22:07:25.607Z"
   },
   {
    "duration": 6943,
    "start_time": "2021-12-30T22:07:44.559Z"
   },
   {
    "duration": 8399,
    "start_time": "2021-12-30T22:08:11.690Z"
   },
   {
    "duration": 7901,
    "start_time": "2021-12-30T22:08:58.916Z"
   },
   {
    "duration": 7500,
    "start_time": "2021-12-30T22:09:14.428Z"
   },
   {
    "duration": 317,
    "start_time": "2021-12-30T22:09:40.694Z"
   },
   {
    "duration": 83,
    "start_time": "2021-12-30T22:09:46.381Z"
   },
   {
    "duration": 24,
    "start_time": "2021-12-30T22:12:40.524Z"
   },
   {
    "duration": 493,
    "start_time": "2021-12-30T22:13:11.177Z"
   },
   {
    "duration": 269,
    "start_time": "2021-12-30T22:13:42.519Z"
   },
   {
    "duration": 2619,
    "start_time": "2021-12-30T22:13:55.952Z"
   },
   {
    "duration": 2692,
    "start_time": "2021-12-30T22:14:29.439Z"
   },
   {
    "duration": 3,
    "start_time": "2021-12-30T22:16:39.602Z"
   },
   {
    "duration": 370,
    "start_time": "2021-12-30T22:16:39.612Z"
   },
   {
    "duration": 14,
    "start_time": "2021-12-30T22:16:39.984Z"
   },
   {
    "duration": 9,
    "start_time": "2021-12-30T22:16:40.000Z"
   },
   {
    "duration": 18,
    "start_time": "2021-12-30T22:16:40.010Z"
   },
   {
    "duration": 103,
    "start_time": "2021-12-30T22:16:40.030Z"
   },
   {
    "duration": 53,
    "start_time": "2021-12-30T22:16:40.134Z"
   },
   {
    "duration": 94,
    "start_time": "2021-12-30T22:16:40.189Z"
   },
   {
    "duration": 53,
    "start_time": "2021-12-30T22:16:40.285Z"
   },
   {
    "duration": 30,
    "start_time": "2021-12-30T22:16:40.339Z"
   },
   {
    "duration": 36,
    "start_time": "2021-12-30T22:16:40.371Z"
   },
   {
    "duration": 148,
    "start_time": "2021-12-30T22:16:40.409Z"
   },
   {
    "duration": 310,
    "start_time": "2021-12-30T22:16:40.559Z"
   },
   {
    "duration": 16,
    "start_time": "2021-12-30T22:16:40.871Z"
   },
   {
    "duration": 88,
    "start_time": "2021-12-30T22:16:40.889Z"
   },
   {
    "duration": 18,
    "start_time": "2021-12-30T22:16:40.979Z"
   },
   {
    "duration": 30,
    "start_time": "2021-12-30T22:16:40.998Z"
   },
   {
    "duration": 59,
    "start_time": "2021-12-30T22:16:41.030Z"
   },
   {
    "duration": 23,
    "start_time": "2021-12-30T22:16:41.091Z"
   },
   {
    "duration": 25,
    "start_time": "2021-12-30T22:16:41.127Z"
   },
   {
    "duration": 238,
    "start_time": "2021-12-30T22:16:41.154Z"
   },
   {
    "duration": 226,
    "start_time": "2021-12-30T22:16:41.394Z"
   },
   {
    "duration": 230,
    "start_time": "2021-12-30T22:16:41.622Z"
   },
   {
    "duration": 555,
    "start_time": "2021-12-30T22:16:41.855Z"
   },
   {
    "duration": 239,
    "start_time": "2021-12-30T22:16:42.412Z"
   },
   {
    "duration": 294,
    "start_time": "2021-12-30T22:16:48.623Z"
   },
   {
    "duration": 757,
    "start_time": "2021-12-30T22:17:47.915Z"
   },
   {
    "duration": 3,
    "start_time": "2021-12-30T22:17:51.959Z"
   },
   {
    "duration": 357,
    "start_time": "2021-12-30T22:17:51.972Z"
   },
   {
    "duration": 14,
    "start_time": "2021-12-30T22:17:52.331Z"
   },
   {
    "duration": 10,
    "start_time": "2021-12-30T22:17:52.347Z"
   },
   {
    "duration": 15,
    "start_time": "2021-12-30T22:17:52.359Z"
   },
   {
    "duration": 134,
    "start_time": "2021-12-30T22:17:52.376Z"
   },
   {
    "duration": 62,
    "start_time": "2021-12-30T22:17:52.512Z"
   },
   {
    "duration": 93,
    "start_time": "2021-12-30T22:17:52.576Z"
   },
   {
    "duration": 70,
    "start_time": "2021-12-30T22:17:52.672Z"
   },
   {
    "duration": 43,
    "start_time": "2021-12-30T22:17:52.745Z"
   },
   {
    "duration": 64,
    "start_time": "2021-12-30T22:17:52.790Z"
   },
   {
    "duration": 193,
    "start_time": "2021-12-30T22:17:52.856Z"
   },
   {
    "duration": 267,
    "start_time": "2021-12-30T22:17:53.051Z"
   },
   {
    "duration": 22,
    "start_time": "2021-12-30T22:17:53.320Z"
   },
   {
    "duration": 84,
    "start_time": "2021-12-30T22:17:53.344Z"
   },
   {
    "duration": 18,
    "start_time": "2021-12-30T22:17:53.430Z"
   },
   {
    "duration": 17,
    "start_time": "2021-12-30T22:17:53.449Z"
   },
   {
    "duration": 89,
    "start_time": "2021-12-30T22:17:53.468Z"
   },
   {
    "duration": 23,
    "start_time": "2021-12-30T22:17:53.559Z"
   },
   {
    "duration": 44,
    "start_time": "2021-12-30T22:17:53.584Z"
   },
   {
    "duration": 231,
    "start_time": "2021-12-30T22:17:53.630Z"
   },
   {
    "duration": 230,
    "start_time": "2021-12-30T22:17:53.863Z"
   },
   {
    "duration": 241,
    "start_time": "2021-12-30T22:17:54.094Z"
   },
   {
    "duration": 455,
    "start_time": "2021-12-30T22:17:54.338Z"
   },
   {
    "duration": 234,
    "start_time": "2021-12-30T22:17:54.795Z"
   },
   {
    "duration": 719,
    "start_time": "2021-12-30T22:17:56.888Z"
   },
   {
    "duration": 296,
    "start_time": "2021-12-30T22:19:04.180Z"
   },
   {
    "duration": 788,
    "start_time": "2021-12-30T22:19:56.763Z"
   },
   {
    "duration": 2,
    "start_time": "2021-12-30T22:20:00.964Z"
   },
   {
    "duration": 365,
    "start_time": "2021-12-30T22:20:00.979Z"
   },
   {
    "duration": 14,
    "start_time": "2021-12-30T22:20:01.346Z"
   },
   {
    "duration": 13,
    "start_time": "2021-12-30T22:20:01.362Z"
   },
   {
    "duration": 22,
    "start_time": "2021-12-30T22:20:01.377Z"
   },
   {
    "duration": 122,
    "start_time": "2021-12-30T22:20:01.401Z"
   },
   {
    "duration": 55,
    "start_time": "2021-12-30T22:20:01.524Z"
   },
   {
    "duration": 93,
    "start_time": "2021-12-30T22:20:01.580Z"
   },
   {
    "duration": 52,
    "start_time": "2021-12-30T22:20:01.676Z"
   },
   {
    "duration": 32,
    "start_time": "2021-12-30T22:20:01.730Z"
   },
   {
    "duration": 36,
    "start_time": "2021-12-30T22:20:01.764Z"
   },
   {
    "duration": 156,
    "start_time": "2021-12-30T22:20:01.802Z"
   },
   {
    "duration": 337,
    "start_time": "2021-12-30T22:20:01.960Z"
   },
   {
    "duration": 17,
    "start_time": "2021-12-30T22:20:02.298Z"
   },
   {
    "duration": 86,
    "start_time": "2021-12-30T22:20:02.317Z"
   },
   {
    "duration": 29,
    "start_time": "2021-12-30T22:20:02.404Z"
   },
   {
    "duration": 17,
    "start_time": "2021-12-30T22:20:02.434Z"
   },
   {
    "duration": 58,
    "start_time": "2021-12-30T22:20:02.453Z"
   },
   {
    "duration": 22,
    "start_time": "2021-12-30T22:20:02.527Z"
   },
   {
    "duration": 26,
    "start_time": "2021-12-30T22:20:02.550Z"
   },
   {
    "duration": 250,
    "start_time": "2021-12-30T22:20:02.577Z"
   },
   {
    "duration": 263,
    "start_time": "2021-12-30T22:20:02.829Z"
   },
   {
    "duration": 235,
    "start_time": "2021-12-30T22:20:03.093Z"
   },
   {
    "duration": 449,
    "start_time": "2021-12-30T22:20:03.332Z"
   },
   {
    "duration": 236,
    "start_time": "2021-12-30T22:20:03.783Z"
   },
   {
    "duration": 2222,
    "start_time": "2021-12-30T22:20:04.269Z"
   },
   {
    "duration": 1050,
    "start_time": "2021-12-30T22:20:28.281Z"
   },
   {
    "duration": 3,
    "start_time": "2021-12-30T22:20:32.442Z"
   },
   {
    "duration": 510,
    "start_time": "2021-12-30T22:20:32.461Z"
   },
   {
    "duration": 17,
    "start_time": "2021-12-30T22:20:32.973Z"
   },
   {
    "duration": 24,
    "start_time": "2021-12-30T22:20:32.993Z"
   },
   {
    "duration": 15,
    "start_time": "2021-12-30T22:20:33.019Z"
   },
   {
    "duration": 113,
    "start_time": "2021-12-30T22:20:33.036Z"
   },
   {
    "duration": 53,
    "start_time": "2021-12-30T22:20:33.151Z"
   },
   {
    "duration": 86,
    "start_time": "2021-12-30T22:20:33.206Z"
   },
   {
    "duration": 53,
    "start_time": "2021-12-30T22:20:33.294Z"
   },
   {
    "duration": 29,
    "start_time": "2021-12-30T22:20:33.349Z"
   },
   {
    "duration": 48,
    "start_time": "2021-12-30T22:20:33.380Z"
   },
   {
    "duration": 134,
    "start_time": "2021-12-30T22:20:33.429Z"
   },
   {
    "duration": 236,
    "start_time": "2021-12-30T22:20:33.564Z"
   },
   {
    "duration": 16,
    "start_time": "2021-12-30T22:20:33.802Z"
   },
   {
    "duration": 76,
    "start_time": "2021-12-30T22:20:33.827Z"
   },
   {
    "duration": 31,
    "start_time": "2021-12-30T22:20:33.905Z"
   },
   {
    "duration": 23,
    "start_time": "2021-12-30T22:20:33.937Z"
   },
   {
    "duration": 79,
    "start_time": "2021-12-30T22:20:33.962Z"
   },
   {
    "duration": 21,
    "start_time": "2021-12-30T22:20:34.043Z"
   },
   {
    "duration": 33,
    "start_time": "2021-12-30T22:20:34.066Z"
   },
   {
    "duration": 229,
    "start_time": "2021-12-30T22:20:34.101Z"
   },
   {
    "duration": 342,
    "start_time": "2021-12-30T22:20:34.332Z"
   },
   {
    "duration": 224,
    "start_time": "2021-12-30T22:20:34.676Z"
   },
   {
    "duration": 447,
    "start_time": "2021-12-30T22:20:34.902Z"
   },
   {
    "duration": 233,
    "start_time": "2021-12-30T22:20:35.351Z"
   },
   {
    "duration": 903,
    "start_time": "2021-12-30T22:20:35.585Z"
   },
   {
    "duration": 710,
    "start_time": "2021-12-30T22:20:40.807Z"
   },
   {
    "duration": 293,
    "start_time": "2021-12-30T22:21:48.865Z"
   },
   {
    "duration": 708,
    "start_time": "2021-12-30T22:24:34.539Z"
   },
   {
    "duration": 3,
    "start_time": "2021-12-30T22:24:38.467Z"
   },
   {
    "duration": 364,
    "start_time": "2021-12-30T22:24:38.479Z"
   },
   {
    "duration": 19,
    "start_time": "2021-12-30T22:24:38.846Z"
   },
   {
    "duration": 14,
    "start_time": "2021-12-30T22:24:38.867Z"
   },
   {
    "duration": 22,
    "start_time": "2021-12-30T22:24:38.883Z"
   },
   {
    "duration": 172,
    "start_time": "2021-12-30T22:24:38.907Z"
   },
   {
    "duration": 94,
    "start_time": "2021-12-30T22:24:39.081Z"
   },
   {
    "duration": 89,
    "start_time": "2021-12-30T22:24:39.176Z"
   },
   {
    "duration": 45,
    "start_time": "2021-12-30T22:24:39.268Z"
   },
   {
    "duration": 39,
    "start_time": "2021-12-30T22:24:39.315Z"
   },
   {
    "duration": 35,
    "start_time": "2021-12-30T22:24:39.356Z"
   },
   {
    "duration": 151,
    "start_time": "2021-12-30T22:24:39.393Z"
   },
   {
    "duration": 243,
    "start_time": "2021-12-30T22:24:39.546Z"
   },
   {
    "duration": 18,
    "start_time": "2021-12-30T22:24:39.790Z"
   },
   {
    "duration": 86,
    "start_time": "2021-12-30T22:24:39.809Z"
   },
   {
    "duration": 36,
    "start_time": "2021-12-30T22:24:39.897Z"
   },
   {
    "duration": 16,
    "start_time": "2021-12-30T22:24:39.934Z"
   },
   {
    "duration": 77,
    "start_time": "2021-12-30T22:24:39.951Z"
   },
   {
    "duration": 22,
    "start_time": "2021-12-30T22:24:40.029Z"
   },
   {
    "duration": 23,
    "start_time": "2021-12-30T22:24:40.053Z"
   },
   {
    "duration": 322,
    "start_time": "2021-12-30T22:24:40.078Z"
   },
   {
    "duration": 233,
    "start_time": "2021-12-30T22:24:40.402Z"
   },
   {
    "duration": 235,
    "start_time": "2021-12-30T22:24:40.636Z"
   },
   {
    "duration": 450,
    "start_time": "2021-12-30T22:24:40.874Z"
   },
   {
    "duration": 233,
    "start_time": "2021-12-30T22:24:41.326Z"
   },
   {
    "duration": 292,
    "start_time": "2021-12-30T22:24:41.601Z"
   },
   {
    "duration": 814,
    "start_time": "2021-12-30T22:29:22.720Z"
   },
   {
    "duration": 2,
    "start_time": "2021-12-30T22:29:27.278Z"
   },
   {
    "duration": 356,
    "start_time": "2021-12-30T22:29:27.288Z"
   },
   {
    "duration": 13,
    "start_time": "2021-12-30T22:29:27.646Z"
   },
   {
    "duration": 9,
    "start_time": "2021-12-30T22:29:27.661Z"
   },
   {
    "duration": 19,
    "start_time": "2021-12-30T22:29:27.672Z"
   },
   {
    "duration": 103,
    "start_time": "2021-12-30T22:29:27.692Z"
   },
   {
    "duration": 62,
    "start_time": "2021-12-30T22:29:27.797Z"
   },
   {
    "duration": 85,
    "start_time": "2021-12-30T22:29:27.861Z"
   },
   {
    "duration": 44,
    "start_time": "2021-12-30T22:29:27.948Z"
   },
   {
    "duration": 45,
    "start_time": "2021-12-30T22:29:27.995Z"
   },
   {
    "duration": 36,
    "start_time": "2021-12-30T22:29:28.042Z"
   },
   {
    "duration": 139,
    "start_time": "2021-12-30T22:29:28.079Z"
   },
   {
    "duration": 247,
    "start_time": "2021-12-30T22:29:28.220Z"
   },
   {
    "duration": 18,
    "start_time": "2021-12-30T22:29:28.468Z"
   },
   {
    "duration": 94,
    "start_time": "2021-12-30T22:29:28.487Z"
   },
   {
    "duration": 17,
    "start_time": "2021-12-30T22:29:28.582Z"
   },
   {
    "duration": 27,
    "start_time": "2021-12-30T22:29:28.601Z"
   },
   {
    "duration": 61,
    "start_time": "2021-12-30T22:29:28.630Z"
   },
   {
    "duration": 38,
    "start_time": "2021-12-30T22:29:28.693Z"
   },
   {
    "duration": 24,
    "start_time": "2021-12-30T22:29:28.733Z"
   },
   {
    "duration": 237,
    "start_time": "2021-12-30T22:29:28.758Z"
   },
   {
    "duration": 336,
    "start_time": "2021-12-30T22:29:28.996Z"
   },
   {
    "duration": 231,
    "start_time": "2021-12-30T22:29:29.333Z"
   },
   {
    "duration": 450,
    "start_time": "2021-12-30T22:29:29.567Z"
   },
   {
    "duration": 235,
    "start_time": "2021-12-30T22:29:30.019Z"
   },
   {
    "duration": 729,
    "start_time": "2021-12-30T22:29:31.431Z"
   },
   {
    "duration": 307,
    "start_time": "2021-12-30T22:30:02.671Z"
   },
   {
    "duration": 266,
    "start_time": "2021-12-30T22:31:05.681Z"
   },
   {
    "duration": 265,
    "start_time": "2021-12-30T22:31:17.530Z"
   },
   {
    "duration": 2,
    "start_time": "2021-12-30T22:31:25.676Z"
   },
   {
    "duration": 499,
    "start_time": "2021-12-30T22:31:25.690Z"
   },
   {
    "duration": 18,
    "start_time": "2021-12-30T22:31:26.192Z"
   },
   {
    "duration": 15,
    "start_time": "2021-12-30T22:31:26.212Z"
   },
   {
    "duration": 23,
    "start_time": "2021-12-30T22:31:26.229Z"
   },
   {
    "duration": 113,
    "start_time": "2021-12-30T22:31:26.253Z"
   },
   {
    "duration": 65,
    "start_time": "2021-12-30T22:31:26.368Z"
   },
   {
    "duration": 76,
    "start_time": "2021-12-30T22:31:26.435Z"
   },
   {
    "duration": 58,
    "start_time": "2021-12-30T22:31:26.514Z"
   },
   {
    "duration": 30,
    "start_time": "2021-12-30T22:31:26.574Z"
   },
   {
    "duration": 54,
    "start_time": "2021-12-30T22:31:26.606Z"
   },
   {
    "duration": 136,
    "start_time": "2021-12-30T22:31:26.661Z"
   },
   {
    "duration": 240,
    "start_time": "2021-12-30T22:31:26.799Z"
   },
   {
    "duration": 19,
    "start_time": "2021-12-30T22:31:27.040Z"
   },
   {
    "duration": 90,
    "start_time": "2021-12-30T22:31:27.061Z"
   },
   {
    "duration": 18,
    "start_time": "2021-12-30T22:31:27.152Z"
   },
   {
    "duration": 14,
    "start_time": "2021-12-30T22:31:27.172Z"
   },
   {
    "duration": 83,
    "start_time": "2021-12-30T22:31:27.188Z"
   },
   {
    "duration": 21,
    "start_time": "2021-12-30T22:31:27.273Z"
   },
   {
    "duration": 38,
    "start_time": "2021-12-30T22:31:27.295Z"
   },
   {
    "duration": 228,
    "start_time": "2021-12-30T22:31:27.335Z"
   },
   {
    "duration": 228,
    "start_time": "2021-12-30T22:31:27.565Z"
   },
   {
    "duration": 226,
    "start_time": "2021-12-30T22:31:27.795Z"
   },
   {
    "duration": 447,
    "start_time": "2021-12-30T22:31:28.024Z"
   },
   {
    "duration": 228,
    "start_time": "2021-12-30T22:31:28.473Z"
   },
   {
    "duration": 293,
    "start_time": "2021-12-30T22:31:29.965Z"
   },
   {
    "duration": 697,
    "start_time": "2021-12-30T22:33:11.751Z"
   },
   {
    "duration": 2,
    "start_time": "2021-12-30T22:33:15.951Z"
   },
   {
    "duration": 361,
    "start_time": "2021-12-30T22:33:15.967Z"
   },
   {
    "duration": 12,
    "start_time": "2021-12-30T22:33:16.330Z"
   },
   {
    "duration": 10,
    "start_time": "2021-12-30T22:33:16.344Z"
   },
   {
    "duration": 15,
    "start_time": "2021-12-30T22:33:16.355Z"
   },
   {
    "duration": 122,
    "start_time": "2021-12-30T22:33:16.372Z"
   },
   {
    "duration": 60,
    "start_time": "2021-12-30T22:33:16.496Z"
   },
   {
    "duration": 89,
    "start_time": "2021-12-30T22:33:16.557Z"
   },
   {
    "duration": 44,
    "start_time": "2021-12-30T22:33:16.648Z"
   },
   {
    "duration": 42,
    "start_time": "2021-12-30T22:33:16.694Z"
   },
   {
    "duration": 37,
    "start_time": "2021-12-30T22:33:16.737Z"
   },
   {
    "duration": 138,
    "start_time": "2021-12-30T22:33:16.776Z"
   },
   {
    "duration": 233,
    "start_time": "2021-12-30T22:33:16.916Z"
   },
   {
    "duration": 29,
    "start_time": "2021-12-30T22:33:17.151Z"
   },
   {
    "duration": 136,
    "start_time": "2021-12-30T22:33:17.182Z"
   },
   {
    "duration": 27,
    "start_time": "2021-12-30T22:33:17.320Z"
   },
   {
    "duration": 23,
    "start_time": "2021-12-30T22:33:17.349Z"
   },
   {
    "duration": 106,
    "start_time": "2021-12-30T22:33:17.374Z"
   },
   {
    "duration": 33,
    "start_time": "2021-12-30T22:33:17.482Z"
   },
   {
    "duration": 24,
    "start_time": "2021-12-30T22:33:17.527Z"
   },
   {
    "duration": 516,
    "start_time": "2021-12-30T22:33:17.552Z"
   },
   {
    "duration": 520,
    "start_time": "2021-12-30T22:33:18.070Z"
   },
   {
    "duration": 511,
    "start_time": "2021-12-30T22:33:18.593Z"
   },
   {
    "duration": 1024,
    "start_time": "2021-12-30T22:33:19.108Z"
   },
   {
    "duration": 523,
    "start_time": "2021-12-30T22:33:20.134Z"
   },
   {
    "duration": 626,
    "start_time": "2021-12-30T22:33:22.942Z"
   },
   {
    "duration": 593,
    "start_time": "2021-12-30T22:34:23.188Z"
   },
   {
    "duration": 2,
    "start_time": "2021-12-30T22:34:29.341Z"
   },
   {
    "duration": 451,
    "start_time": "2021-12-30T22:34:29.351Z"
   },
   {
    "duration": 19,
    "start_time": "2021-12-30T22:34:29.804Z"
   },
   {
    "duration": 14,
    "start_time": "2021-12-30T22:34:29.825Z"
   },
   {
    "duration": 22,
    "start_time": "2021-12-30T22:34:29.841Z"
   },
   {
    "duration": 169,
    "start_time": "2021-12-30T22:34:29.865Z"
   },
   {
    "duration": 98,
    "start_time": "2021-12-30T22:34:30.037Z"
   },
   {
    "duration": 135,
    "start_time": "2021-12-30T22:34:30.138Z"
   },
   {
    "duration": 74,
    "start_time": "2021-12-30T22:34:30.277Z"
   },
   {
    "duration": 44,
    "start_time": "2021-12-30T22:34:30.354Z"
   },
   {
    "duration": 55,
    "start_time": "2021-12-30T22:34:30.400Z"
   },
   {
    "duration": 136,
    "start_time": "2021-12-30T22:34:30.456Z"
   },
   {
    "duration": 241,
    "start_time": "2021-12-30T22:34:30.594Z"
   },
   {
    "duration": 17,
    "start_time": "2021-12-30T22:34:30.837Z"
   },
   {
    "duration": 96,
    "start_time": "2021-12-30T22:34:30.856Z"
   },
   {
    "duration": 18,
    "start_time": "2021-12-30T22:34:30.954Z"
   },
   {
    "duration": 15,
    "start_time": "2021-12-30T22:34:30.974Z"
   },
   {
    "duration": 82,
    "start_time": "2021-12-30T22:34:30.991Z"
   },
   {
    "duration": 24,
    "start_time": "2021-12-30T22:34:31.075Z"
   },
   {
    "duration": 43,
    "start_time": "2021-12-30T22:34:31.101Z"
   },
   {
    "duration": 232,
    "start_time": "2021-12-30T22:34:31.145Z"
   },
   {
    "duration": 229,
    "start_time": "2021-12-30T22:34:31.379Z"
   },
   {
    "duration": 233,
    "start_time": "2021-12-30T22:34:31.610Z"
   },
   {
    "duration": 445,
    "start_time": "2021-12-30T22:34:31.845Z"
   },
   {
    "duration": 235,
    "start_time": "2021-12-30T22:34:32.292Z"
   },
   {
    "duration": 298,
    "start_time": "2021-12-30T22:34:32.529Z"
   },
   {
    "duration": 265,
    "start_time": "2021-12-30T22:34:35.199Z"
   },
   {
    "duration": 269,
    "start_time": "2021-12-30T22:34:52.416Z"
   },
   {
    "duration": 2,
    "start_time": "2021-12-30T22:34:56.254Z"
   },
   {
    "duration": 343,
    "start_time": "2021-12-30T22:34:56.262Z"
   },
   {
    "duration": 14,
    "start_time": "2021-12-30T22:34:56.606Z"
   },
   {
    "duration": 10,
    "start_time": "2021-12-30T22:34:56.622Z"
   },
   {
    "duration": 16,
    "start_time": "2021-12-30T22:34:56.634Z"
   },
   {
    "duration": 110,
    "start_time": "2021-12-30T22:34:56.652Z"
   },
   {
    "duration": 52,
    "start_time": "2021-12-30T22:34:56.764Z"
   },
   {
    "duration": 80,
    "start_time": "2021-12-30T22:34:56.827Z"
   },
   {
    "duration": 55,
    "start_time": "2021-12-30T22:34:56.910Z"
   },
   {
    "duration": 32,
    "start_time": "2021-12-30T22:34:56.967Z"
   },
   {
    "duration": 59,
    "start_time": "2021-12-30T22:34:57.001Z"
   },
   {
    "duration": 136,
    "start_time": "2021-12-30T22:34:57.062Z"
   },
   {
    "duration": 238,
    "start_time": "2021-12-30T22:34:57.200Z"
   },
   {
    "duration": 19,
    "start_time": "2021-12-30T22:34:57.439Z"
   },
   {
    "duration": 99,
    "start_time": "2021-12-30T22:34:57.460Z"
   },
   {
    "duration": 19,
    "start_time": "2021-12-30T22:34:57.560Z"
   },
   {
    "duration": 21,
    "start_time": "2021-12-30T22:34:57.580Z"
   },
   {
    "duration": 77,
    "start_time": "2021-12-30T22:34:57.602Z"
   },
   {
    "duration": 22,
    "start_time": "2021-12-30T22:34:57.681Z"
   },
   {
    "duration": 45,
    "start_time": "2021-12-30T22:34:57.704Z"
   },
   {
    "duration": 491,
    "start_time": "2021-12-30T22:34:57.751Z"
   },
   {
    "duration": 514,
    "start_time": "2021-12-30T22:34:58.244Z"
   },
   {
    "duration": 514,
    "start_time": "2021-12-30T22:34:58.761Z"
   },
   {
    "duration": 577,
    "start_time": "2021-12-30T22:34:59.279Z"
   },
   {
    "duration": 236,
    "start_time": "2021-12-30T22:34:59.858Z"
   },
   {
    "duration": 722,
    "start_time": "2021-12-30T22:35:00.200Z"
   },
   {
    "duration": 3,
    "start_time": "2021-12-30T22:35:15.021Z"
   },
   {
    "duration": 348,
    "start_time": "2021-12-30T22:35:15.034Z"
   },
   {
    "duration": 13,
    "start_time": "2021-12-30T22:35:15.384Z"
   },
   {
    "duration": 9,
    "start_time": "2021-12-30T22:35:15.399Z"
   },
   {
    "duration": 16,
    "start_time": "2021-12-30T22:35:15.410Z"
   },
   {
    "duration": 102,
    "start_time": "2021-12-30T22:35:15.427Z"
   },
   {
    "duration": 54,
    "start_time": "2021-12-30T22:35:15.530Z"
   },
   {
    "duration": 98,
    "start_time": "2021-12-30T22:35:15.585Z"
   },
   {
    "duration": 55,
    "start_time": "2021-12-30T22:35:15.685Z"
   },
   {
    "duration": 28,
    "start_time": "2021-12-30T22:35:15.742Z"
   },
   {
    "duration": 36,
    "start_time": "2021-12-30T22:35:15.772Z"
   },
   {
    "duration": 153,
    "start_time": "2021-12-30T22:35:15.809Z"
   },
   {
    "duration": 235,
    "start_time": "2021-12-30T22:35:15.963Z"
   },
   {
    "duration": 29,
    "start_time": "2021-12-30T22:35:16.199Z"
   },
   {
    "duration": 77,
    "start_time": "2021-12-30T22:35:16.230Z"
   },
   {
    "duration": 28,
    "start_time": "2021-12-30T22:35:16.308Z"
   },
   {
    "duration": 15,
    "start_time": "2021-12-30T22:35:16.338Z"
   },
   {
    "duration": 78,
    "start_time": "2021-12-30T22:35:16.355Z"
   },
   {
    "duration": 23,
    "start_time": "2021-12-30T22:35:16.434Z"
   },
   {
    "duration": 25,
    "start_time": "2021-12-30T22:35:16.458Z"
   },
   {
    "duration": 303,
    "start_time": "2021-12-30T22:35:16.485Z"
   },
   {
    "duration": 234,
    "start_time": "2021-12-30T22:35:16.790Z"
   },
   {
    "duration": 229,
    "start_time": "2021-12-30T22:35:17.026Z"
   },
   {
    "duration": 454,
    "start_time": "2021-12-30T22:35:17.257Z"
   },
   {
    "duration": 236,
    "start_time": "2021-12-30T22:35:17.714Z"
   },
   {
    "duration": 713,
    "start_time": "2021-12-30T22:35:19.921Z"
   },
   {
    "duration": 625,
    "start_time": "2021-12-30T22:35:27.387Z"
   },
   {
    "duration": 4,
    "start_time": "2021-12-30T22:35:44.148Z"
   },
   {
    "duration": 524,
    "start_time": "2021-12-30T22:35:44.159Z"
   },
   {
    "duration": 18,
    "start_time": "2021-12-30T22:35:44.686Z"
   },
   {
    "duration": 14,
    "start_time": "2021-12-30T22:35:44.706Z"
   },
   {
    "duration": 28,
    "start_time": "2021-12-30T22:35:44.722Z"
   },
   {
    "duration": 150,
    "start_time": "2021-12-30T22:35:44.752Z"
   },
   {
    "duration": 93,
    "start_time": "2021-12-30T22:35:44.905Z"
   },
   {
    "duration": 137,
    "start_time": "2021-12-30T22:35:45.001Z"
   },
   {
    "duration": 65,
    "start_time": "2021-12-30T22:35:45.142Z"
   },
   {
    "duration": 60,
    "start_time": "2021-12-30T22:35:45.210Z"
   },
   {
    "duration": 69,
    "start_time": "2021-12-30T22:35:45.272Z"
   },
   {
    "duration": 197,
    "start_time": "2021-12-30T22:35:45.344Z"
   },
   {
    "duration": 552,
    "start_time": "2021-12-30T22:35:45.544Z"
   },
   {
    "duration": 33,
    "start_time": "2021-12-30T22:35:46.098Z"
   },
   {
    "duration": 80,
    "start_time": "2021-12-30T22:35:46.132Z"
   },
   {
    "duration": 29,
    "start_time": "2021-12-30T22:35:46.214Z"
   },
   {
    "duration": 17,
    "start_time": "2021-12-30T22:35:46.245Z"
   },
   {
    "duration": 87,
    "start_time": "2021-12-30T22:35:46.264Z"
   },
   {
    "duration": 23,
    "start_time": "2021-12-30T22:35:46.353Z"
   },
   {
    "duration": 50,
    "start_time": "2021-12-30T22:35:46.378Z"
   },
   {
    "duration": 249,
    "start_time": "2021-12-30T22:35:46.430Z"
   },
   {
    "duration": 247,
    "start_time": "2021-12-30T22:35:46.681Z"
   },
   {
    "duration": 248,
    "start_time": "2021-12-30T22:35:46.930Z"
   },
   {
    "duration": 450,
    "start_time": "2021-12-30T22:35:47.182Z"
   },
   {
    "duration": 242,
    "start_time": "2021-12-30T22:35:47.634Z"
   },
   {
    "duration": 290,
    "start_time": "2021-12-30T22:36:09.838Z"
   },
   {
    "duration": 274,
    "start_time": "2021-12-30T22:36:16.485Z"
   },
   {
    "duration": 264,
    "start_time": "2021-12-30T22:36:23.016Z"
   },
   {
    "duration": 276,
    "start_time": "2021-12-30T22:39:07.396Z"
   },
   {
    "duration": 252,
    "start_time": "2021-12-30T22:39:30.945Z"
   },
   {
    "duration": 243,
    "start_time": "2021-12-30T22:39:51.503Z"
   },
   {
    "duration": 257,
    "start_time": "2021-12-30T22:39:58.229Z"
   },
   {
    "duration": 2,
    "start_time": "2021-12-30T22:40:03.389Z"
   },
   {
    "duration": 352,
    "start_time": "2021-12-30T22:40:03.404Z"
   },
   {
    "duration": 14,
    "start_time": "2021-12-30T22:40:03.758Z"
   },
   {
    "duration": 10,
    "start_time": "2021-12-30T22:40:03.774Z"
   },
   {
    "duration": 15,
    "start_time": "2021-12-30T22:40:03.785Z"
   },
   {
    "duration": 103,
    "start_time": "2021-12-30T22:40:03.801Z"
   },
   {
    "duration": 63,
    "start_time": "2021-12-30T22:40:03.905Z"
   },
   {
    "duration": 78,
    "start_time": "2021-12-30T22:40:03.970Z"
   },
   {
    "duration": 115,
    "start_time": "2021-12-30T22:40:04.051Z"
   },
   {
    "duration": 30,
    "start_time": "2021-12-30T22:40:04.168Z"
   },
   {
    "duration": 50,
    "start_time": "2021-12-30T22:40:04.200Z"
   },
   {
    "duration": 137,
    "start_time": "2021-12-30T22:40:04.251Z"
   },
   {
    "duration": 238,
    "start_time": "2021-12-30T22:40:04.390Z"
   },
   {
    "duration": 19,
    "start_time": "2021-12-30T22:40:04.629Z"
   },
   {
    "duration": 97,
    "start_time": "2021-12-30T22:40:04.649Z"
   },
   {
    "duration": 18,
    "start_time": "2021-12-30T22:40:04.748Z"
   },
   {
    "duration": 32,
    "start_time": "2021-12-30T22:40:04.767Z"
   },
   {
    "duration": 78,
    "start_time": "2021-12-30T22:40:04.801Z"
   },
   {
    "duration": 23,
    "start_time": "2021-12-30T22:40:04.880Z"
   },
   {
    "duration": 61,
    "start_time": "2021-12-30T22:40:04.905Z"
   },
   {
    "duration": 228,
    "start_time": "2021-12-30T22:40:04.968Z"
   },
   {
    "duration": 225,
    "start_time": "2021-12-30T22:40:05.197Z"
   },
   {
    "duration": 227,
    "start_time": "2021-12-30T22:40:05.423Z"
   },
   {
    "duration": 450,
    "start_time": "2021-12-30T22:40:05.653Z"
   },
   {
    "duration": 234,
    "start_time": "2021-12-30T22:40:06.105Z"
   },
   {
    "duration": 2454,
    "start_time": "2021-12-30T22:40:06.972Z"
   },
   {
    "duration": 244,
    "start_time": "2021-12-30T22:40:19.847Z"
   },
   {
    "duration": 2,
    "start_time": "2021-12-30T22:40:30.655Z"
   },
   {
    "duration": 354,
    "start_time": "2021-12-30T22:40:30.664Z"
   },
   {
    "duration": 14,
    "start_time": "2021-12-30T22:40:31.020Z"
   },
   {
    "duration": 9,
    "start_time": "2021-12-30T22:40:31.037Z"
   },
   {
    "duration": 23,
    "start_time": "2021-12-30T22:40:31.048Z"
   },
   {
    "duration": 115,
    "start_time": "2021-12-30T22:40:31.073Z"
   },
   {
    "duration": 67,
    "start_time": "2021-12-30T22:40:31.190Z"
   },
   {
    "duration": 96,
    "start_time": "2021-12-30T22:40:31.258Z"
   },
   {
    "duration": 45,
    "start_time": "2021-12-30T22:40:31.357Z"
   },
   {
    "duration": 42,
    "start_time": "2021-12-30T22:40:31.404Z"
   },
   {
    "duration": 36,
    "start_time": "2021-12-30T22:40:31.448Z"
   },
   {
    "duration": 149,
    "start_time": "2021-12-30T22:40:31.485Z"
   },
   {
    "duration": 235,
    "start_time": "2021-12-30T22:40:31.636Z"
   },
   {
    "duration": 17,
    "start_time": "2021-12-30T22:40:31.872Z"
   },
   {
    "duration": 94,
    "start_time": "2021-12-30T22:40:31.891Z"
   },
   {
    "duration": 16,
    "start_time": "2021-12-30T22:40:31.987Z"
   },
   {
    "duration": 30,
    "start_time": "2021-12-30T22:40:32.005Z"
   },
   {
    "duration": 61,
    "start_time": "2021-12-30T22:40:32.036Z"
   },
   {
    "duration": 35,
    "start_time": "2021-12-30T22:40:32.098Z"
   },
   {
    "duration": 25,
    "start_time": "2021-12-30T22:40:32.134Z"
   },
   {
    "duration": 236,
    "start_time": "2021-12-30T22:40:32.160Z"
   },
   {
    "duration": 230,
    "start_time": "2021-12-30T22:40:32.397Z"
   },
   {
    "duration": 225,
    "start_time": "2021-12-30T22:40:32.628Z"
   },
   {
    "duration": 464,
    "start_time": "2021-12-30T22:40:32.855Z"
   },
   {
    "duration": 245,
    "start_time": "2021-12-30T22:40:33.321Z"
   },
   {
    "duration": 264,
    "start_time": "2021-12-30T22:40:37.181Z"
   },
   {
    "duration": 240,
    "start_time": "2021-12-30T22:40:59.703Z"
   },
   {
    "duration": 1037,
    "start_time": "2021-12-30T22:41:16.025Z"
   },
   {
    "duration": 388,
    "start_time": "2021-12-30T22:41:17.064Z"
   },
   {
    "duration": 15,
    "start_time": "2021-12-30T22:41:17.454Z"
   },
   {
    "duration": 13,
    "start_time": "2021-12-30T22:41:17.471Z"
   },
   {
    "duration": 17,
    "start_time": "2021-12-30T22:41:17.485Z"
   },
   {
    "duration": 128,
    "start_time": "2021-12-30T22:41:17.504Z"
   },
   {
    "duration": 76,
    "start_time": "2021-12-30T22:41:17.633Z"
   },
   {
    "duration": 93,
    "start_time": "2021-12-30T22:41:17.711Z"
   },
   {
    "duration": 76,
    "start_time": "2021-12-30T22:41:17.806Z"
   },
   {
    "duration": 44,
    "start_time": "2021-12-30T22:41:17.884Z"
   },
   {
    "duration": 37,
    "start_time": "2021-12-30T22:41:17.929Z"
   },
   {
    "duration": 148,
    "start_time": "2021-12-30T22:41:17.968Z"
   },
   {
    "duration": 239,
    "start_time": "2021-12-30T22:41:18.117Z"
   },
   {
    "duration": 19,
    "start_time": "2021-12-30T22:41:18.358Z"
   },
   {
    "duration": 95,
    "start_time": "2021-12-30T22:41:18.379Z"
   },
   {
    "duration": 18,
    "start_time": "2021-12-30T22:41:18.476Z"
   },
   {
    "duration": 32,
    "start_time": "2021-12-30T22:41:18.496Z"
   },
   {
    "duration": 62,
    "start_time": "2021-12-30T22:41:18.530Z"
   },
   {
    "duration": 40,
    "start_time": "2021-12-30T22:41:18.594Z"
   },
   {
    "duration": 26,
    "start_time": "2021-12-30T22:41:18.635Z"
   },
   {
    "duration": 244,
    "start_time": "2021-12-30T22:41:18.663Z"
   },
   {
    "duration": 232,
    "start_time": "2021-12-30T22:41:18.908Z"
   },
   {
    "duration": 310,
    "start_time": "2021-12-30T22:41:19.143Z"
   },
   {
    "duration": 716,
    "start_time": "2021-12-30T22:41:19.456Z"
   },
   {
    "duration": 230,
    "start_time": "2021-12-30T22:41:20.174Z"
   },
   {
    "duration": 277,
    "start_time": "2021-12-30T22:41:23.100Z"
   },
   {
    "duration": 267,
    "start_time": "2021-12-30T22:41:30.178Z"
   },
   {
    "duration": 580,
    "start_time": "2021-12-30T22:43:24.140Z"
   },
   {
    "duration": 3,
    "start_time": "2021-12-30T22:43:29.991Z"
   },
   {
    "duration": 461,
    "start_time": "2021-12-30T22:43:30.005Z"
   },
   {
    "duration": 16,
    "start_time": "2021-12-30T22:43:30.469Z"
   },
   {
    "duration": 10,
    "start_time": "2021-12-30T22:43:30.487Z"
   },
   {
    "duration": 14,
    "start_time": "2021-12-30T22:43:30.499Z"
   },
   {
    "duration": 102,
    "start_time": "2021-12-30T22:43:30.515Z"
   },
   {
    "duration": 56,
    "start_time": "2021-12-30T22:43:30.619Z"
   },
   {
    "duration": 92,
    "start_time": "2021-12-30T22:43:30.677Z"
   },
   {
    "duration": 41,
    "start_time": "2021-12-30T22:43:30.772Z"
   },
   {
    "duration": 40,
    "start_time": "2021-12-30T22:43:30.815Z"
   },
   {
    "duration": 38,
    "start_time": "2021-12-30T22:43:30.856Z"
   },
   {
    "duration": 148,
    "start_time": "2021-12-30T22:43:30.895Z"
   },
   {
    "duration": 388,
    "start_time": "2021-12-30T22:43:31.045Z"
   },
   {
    "duration": 18,
    "start_time": "2021-12-30T22:43:31.434Z"
   },
   {
    "duration": 104,
    "start_time": "2021-12-30T22:43:31.454Z"
   },
   {
    "duration": 19,
    "start_time": "2021-12-30T22:43:31.560Z"
   },
   {
    "duration": 29,
    "start_time": "2021-12-30T22:43:31.581Z"
   },
   {
    "duration": 87,
    "start_time": "2021-12-30T22:43:31.611Z"
   },
   {
    "duration": 22,
    "start_time": "2021-12-30T22:43:31.700Z"
   },
   {
    "duration": 41,
    "start_time": "2021-12-30T22:43:31.723Z"
   },
   {
    "duration": 223,
    "start_time": "2021-12-30T22:43:31.765Z"
   },
   {
    "duration": 227,
    "start_time": "2021-12-30T22:43:31.990Z"
   },
   {
    "duration": 224,
    "start_time": "2021-12-30T22:43:32.218Z"
   },
   {
    "duration": 448,
    "start_time": "2021-12-30T22:43:32.444Z"
   },
   {
    "duration": 250,
    "start_time": "2021-12-30T22:43:32.894Z"
   },
   {
    "duration": 797,
    "start_time": "2021-12-30T22:43:34.496Z"
   },
   {
    "duration": 299,
    "start_time": "2021-12-30T22:43:42.754Z"
   },
   {
    "duration": 727,
    "start_time": "2021-12-30T22:44:14.541Z"
   },
   {
    "duration": 3,
    "start_time": "2021-12-30T22:44:19.154Z"
   },
   {
    "duration": 358,
    "start_time": "2021-12-30T22:44:19.166Z"
   },
   {
    "duration": 12,
    "start_time": "2021-12-30T22:44:19.526Z"
   },
   {
    "duration": 9,
    "start_time": "2021-12-30T22:44:19.539Z"
   },
   {
    "duration": 15,
    "start_time": "2021-12-30T22:44:19.550Z"
   },
   {
    "duration": 124,
    "start_time": "2021-12-30T22:44:19.566Z"
   },
   {
    "duration": 58,
    "start_time": "2021-12-30T22:44:19.692Z"
   },
   {
    "duration": 90,
    "start_time": "2021-12-30T22:44:19.752Z"
   },
   {
    "duration": 44,
    "start_time": "2021-12-30T22:44:19.845Z"
   },
   {
    "duration": 41,
    "start_time": "2021-12-30T22:44:19.891Z"
   },
   {
    "duration": 37,
    "start_time": "2021-12-30T22:44:19.934Z"
   },
   {
    "duration": 143,
    "start_time": "2021-12-30T22:44:19.973Z"
   },
   {
    "duration": 236,
    "start_time": "2021-12-30T22:44:20.118Z"
   },
   {
    "duration": 17,
    "start_time": "2021-12-30T22:44:20.356Z"
   },
   {
    "duration": 90,
    "start_time": "2021-12-30T22:44:20.374Z"
   },
   {
    "duration": 18,
    "start_time": "2021-12-30T22:44:20.465Z"
   },
   {
    "duration": 20,
    "start_time": "2021-12-30T22:44:20.484Z"
   },
   {
    "duration": 75,
    "start_time": "2021-12-30T22:44:20.506Z"
   },
   {
    "duration": 24,
    "start_time": "2021-12-30T22:44:20.583Z"
   },
   {
    "duration": 25,
    "start_time": "2021-12-30T22:44:20.627Z"
   },
   {
    "duration": 239,
    "start_time": "2021-12-30T22:44:20.654Z"
   },
   {
    "duration": 238,
    "start_time": "2021-12-30T22:44:20.895Z"
   },
   {
    "duration": 229,
    "start_time": "2021-12-30T22:44:21.135Z"
   },
   {
    "duration": 450,
    "start_time": "2021-12-30T22:44:21.367Z"
   },
   {
    "duration": 230,
    "start_time": "2021-12-30T22:44:21.819Z"
   },
   {
    "duration": 290,
    "start_time": "2021-12-30T22:44:23.068Z"
   },
   {
    "duration": 269,
    "start_time": "2021-12-30T22:44:55.785Z"
   },
   {
    "duration": 267,
    "start_time": "2021-12-30T22:45:27.567Z"
   },
   {
    "duration": 2,
    "start_time": "2021-12-30T22:45:31.799Z"
   },
   {
    "duration": 353,
    "start_time": "2021-12-30T22:45:31.808Z"
   },
   {
    "duration": 13,
    "start_time": "2021-12-30T22:45:32.162Z"
   },
   {
    "duration": 9,
    "start_time": "2021-12-30T22:45:32.177Z"
   },
   {
    "duration": 15,
    "start_time": "2021-12-30T22:45:32.188Z"
   },
   {
    "duration": 101,
    "start_time": "2021-12-30T22:45:32.204Z"
   },
   {
    "duration": 62,
    "start_time": "2021-12-30T22:45:32.306Z"
   },
   {
    "duration": 86,
    "start_time": "2021-12-30T22:45:32.369Z"
   },
   {
    "duration": 45,
    "start_time": "2021-12-30T22:45:32.458Z"
   },
   {
    "duration": 45,
    "start_time": "2021-12-30T22:45:32.505Z"
   },
   {
    "duration": 36,
    "start_time": "2021-12-30T22:45:32.552Z"
   },
   {
    "duration": 146,
    "start_time": "2021-12-30T22:45:32.589Z"
   },
   {
    "duration": 244,
    "start_time": "2021-12-30T22:45:32.737Z"
   },
   {
    "duration": 20,
    "start_time": "2021-12-30T22:45:32.983Z"
   },
   {
    "duration": 139,
    "start_time": "2021-12-30T22:45:33.005Z"
   },
   {
    "duration": 27,
    "start_time": "2021-12-30T22:45:33.146Z"
   },
   {
    "duration": 26,
    "start_time": "2021-12-30T22:45:33.175Z"
   },
   {
    "duration": 103,
    "start_time": "2021-12-30T22:45:33.203Z"
   },
   {
    "duration": 40,
    "start_time": "2021-12-30T22:45:33.308Z"
   },
   {
    "duration": 40,
    "start_time": "2021-12-30T22:45:33.350Z"
   },
   {
    "duration": 535,
    "start_time": "2021-12-30T22:45:33.392Z"
   },
   {
    "duration": 519,
    "start_time": "2021-12-30T22:45:33.930Z"
   },
   {
    "duration": 517,
    "start_time": "2021-12-30T22:45:34.451Z"
   },
   {
    "duration": 1036,
    "start_time": "2021-12-30T22:45:34.972Z"
   },
   {
    "duration": 524,
    "start_time": "2021-12-30T22:45:36.010Z"
   },
   {
    "duration": 297,
    "start_time": "2021-12-30T22:45:36.844Z"
   },
   {
    "duration": 313,
    "start_time": "2021-12-30T22:45:47.747Z"
   },
   {
    "duration": 544,
    "start_time": "2021-12-30T22:46:06.028Z"
   },
   {
    "duration": 266,
    "start_time": "2021-12-30T22:47:13.691Z"
   },
   {
    "duration": 266,
    "start_time": "2021-12-30T22:47:45.922Z"
   },
   {
    "duration": 248,
    "start_time": "2021-12-30T22:54:36.691Z"
   },
   {
    "duration": 255,
    "start_time": "2021-12-30T22:54:48.807Z"
   },
   {
    "duration": 2445,
    "start_time": "2021-12-30T22:55:34.314Z"
   },
   {
    "duration": 3,
    "start_time": "2021-12-30T22:55:42.984Z"
   },
   {
    "duration": 377,
    "start_time": "2021-12-30T22:55:43.062Z"
   },
   {
    "duration": 13,
    "start_time": "2021-12-30T22:55:43.441Z"
   },
   {
    "duration": 9,
    "start_time": "2021-12-30T22:55:43.456Z"
   },
   {
    "duration": 14,
    "start_time": "2021-12-30T22:55:43.466Z"
   },
   {
    "duration": 111,
    "start_time": "2021-12-30T22:55:43.482Z"
   },
   {
    "duration": 62,
    "start_time": "2021-12-30T22:55:43.594Z"
   },
   {
    "duration": 85,
    "start_time": "2021-12-30T22:55:43.657Z"
   },
   {
    "duration": 44,
    "start_time": "2021-12-30T22:55:43.744Z"
   },
   {
    "duration": 42,
    "start_time": "2021-12-30T22:55:43.790Z"
   },
   {
    "duration": 39,
    "start_time": "2021-12-30T22:55:43.833Z"
   },
   {
    "duration": 157,
    "start_time": "2021-12-30T22:55:43.874Z"
   },
   {
    "duration": 263,
    "start_time": "2021-12-30T22:55:44.032Z"
   },
   {
    "duration": 32,
    "start_time": "2021-12-30T22:55:44.296Z"
   },
   {
    "duration": 83,
    "start_time": "2021-12-30T22:55:44.330Z"
   },
   {
    "duration": 27,
    "start_time": "2021-12-30T22:55:44.415Z"
   },
   {
    "duration": 16,
    "start_time": "2021-12-30T22:55:44.444Z"
   },
   {
    "duration": 82,
    "start_time": "2021-12-30T22:55:44.461Z"
   },
   {
    "duration": 23,
    "start_time": "2021-12-30T22:55:44.545Z"
   },
   {
    "duration": 25,
    "start_time": "2021-12-30T22:55:44.570Z"
   },
   {
    "duration": 253,
    "start_time": "2021-12-30T22:55:44.597Z"
   },
   {
    "duration": 246,
    "start_time": "2021-12-30T22:55:44.851Z"
   },
   {
    "duration": 232,
    "start_time": "2021-12-30T22:55:45.098Z"
   },
   {
    "duration": 448,
    "start_time": "2021-12-30T22:55:45.332Z"
   },
   {
    "duration": 227,
    "start_time": "2021-12-30T22:55:45.781Z"
   },
   {
    "duration": 2347,
    "start_time": "2021-12-30T22:55:46.229Z"
   },
   {
    "duration": 2197,
    "start_time": "2021-12-30T22:56:37.774Z"
   },
   {
    "duration": 2194,
    "start_time": "2021-12-30T22:57:26.008Z"
   },
   {
    "duration": 3,
    "start_time": "2021-12-30T22:57:31.757Z"
   },
   {
    "duration": 376,
    "start_time": "2021-12-30T22:57:31.765Z"
   },
   {
    "duration": 14,
    "start_time": "2021-12-30T22:57:32.142Z"
   },
   {
    "duration": 9,
    "start_time": "2021-12-30T22:57:32.158Z"
   },
   {
    "duration": 24,
    "start_time": "2021-12-30T22:57:32.168Z"
   },
   {
    "duration": 102,
    "start_time": "2021-12-30T22:57:32.193Z"
   },
   {
    "duration": 57,
    "start_time": "2021-12-30T22:57:32.297Z"
   },
   {
    "duration": 83,
    "start_time": "2021-12-30T22:57:32.356Z"
   },
   {
    "duration": 45,
    "start_time": "2021-12-30T22:57:32.441Z"
   },
   {
    "duration": 46,
    "start_time": "2021-12-30T22:57:32.488Z"
   },
   {
    "duration": 37,
    "start_time": "2021-12-30T22:57:32.535Z"
   },
   {
    "duration": 140,
    "start_time": "2021-12-30T22:57:32.573Z"
   },
   {
    "duration": 237,
    "start_time": "2021-12-30T22:57:32.714Z"
   },
   {
    "duration": 19,
    "start_time": "2021-12-30T22:57:32.953Z"
   },
   {
    "duration": 102,
    "start_time": "2021-12-30T22:57:32.974Z"
   },
   {
    "duration": 18,
    "start_time": "2021-12-30T22:57:33.078Z"
   },
   {
    "duration": 30,
    "start_time": "2021-12-30T22:57:33.098Z"
   },
   {
    "duration": 59,
    "start_time": "2021-12-30T22:57:33.130Z"
   },
   {
    "duration": 39,
    "start_time": "2021-12-30T22:57:33.191Z"
   },
   {
    "duration": 26,
    "start_time": "2021-12-30T22:57:33.231Z"
   },
   {
    "duration": 252,
    "start_time": "2021-12-30T22:57:33.258Z"
   },
   {
    "duration": 226,
    "start_time": "2021-12-30T22:57:33.512Z"
   },
   {
    "duration": 231,
    "start_time": "2021-12-30T22:57:33.739Z"
   },
   {
    "duration": 446,
    "start_time": "2021-12-30T22:57:33.973Z"
   },
   {
    "duration": 235,
    "start_time": "2021-12-30T22:57:34.421Z"
   },
   {
    "duration": 2378,
    "start_time": "2021-12-30T22:57:36.702Z"
   },
   {
    "duration": 270,
    "start_time": "2021-12-30T22:58:14.130Z"
   },
   {
    "duration": 265,
    "start_time": "2021-12-30T22:58:45.052Z"
   },
   {
    "duration": 246,
    "start_time": "2021-12-30T22:59:51.464Z"
   },
   {
    "duration": 241,
    "start_time": "2021-12-30T23:01:58.654Z"
   },
   {
    "duration": 706,
    "start_time": "2021-12-30T23:02:06.890Z"
   },
   {
    "duration": 2,
    "start_time": "2021-12-30T23:02:12.570Z"
   },
   {
    "duration": 351,
    "start_time": "2021-12-30T23:02:12.578Z"
   },
   {
    "duration": 12,
    "start_time": "2021-12-30T23:02:12.931Z"
   },
   {
    "duration": 9,
    "start_time": "2021-12-30T23:02:12.944Z"
   },
   {
    "duration": 14,
    "start_time": "2021-12-30T23:02:12.955Z"
   },
   {
    "duration": 113,
    "start_time": "2021-12-30T23:02:12.971Z"
   },
   {
    "duration": 57,
    "start_time": "2021-12-30T23:02:13.086Z"
   },
   {
    "duration": 84,
    "start_time": "2021-12-30T23:02:13.144Z"
   },
   {
    "duration": 45,
    "start_time": "2021-12-30T23:02:13.230Z"
   },
   {
    "duration": 29,
    "start_time": "2021-12-30T23:02:13.276Z"
   },
   {
    "duration": 53,
    "start_time": "2021-12-30T23:02:13.307Z"
   },
   {
    "duration": 133,
    "start_time": "2021-12-30T23:02:13.362Z"
   },
   {
    "duration": 236,
    "start_time": "2021-12-30T23:02:13.497Z"
   },
   {
    "duration": 19,
    "start_time": "2021-12-30T23:02:13.735Z"
   },
   {
    "duration": 95,
    "start_time": "2021-12-30T23:02:13.755Z"
   },
   {
    "duration": 18,
    "start_time": "2021-12-30T23:02:13.852Z"
   },
   {
    "duration": 18,
    "start_time": "2021-12-30T23:02:13.871Z"
   },
   {
    "duration": 75,
    "start_time": "2021-12-30T23:02:13.890Z"
   },
   {
    "duration": 22,
    "start_time": "2021-12-30T23:02:13.967Z"
   },
   {
    "duration": 41,
    "start_time": "2021-12-30T23:02:13.991Z"
   },
   {
    "duration": 245,
    "start_time": "2021-12-30T23:02:14.033Z"
   },
   {
    "duration": 230,
    "start_time": "2021-12-30T23:02:14.279Z"
   },
   {
    "duration": 231,
    "start_time": "2021-12-30T23:02:14.510Z"
   },
   {
    "duration": 444,
    "start_time": "2021-12-30T23:02:14.744Z"
   },
   {
    "duration": 235,
    "start_time": "2021-12-30T23:02:15.190Z"
   },
   {
    "duration": 729,
    "start_time": "2021-12-30T23:02:17.049Z"
   },
   {
    "duration": 692,
    "start_time": "2021-12-30T23:02:45.897Z"
   },
   {
    "duration": 3,
    "start_time": "2021-12-30T23:02:50.745Z"
   },
   {
    "duration": 352,
    "start_time": "2021-12-30T23:02:50.749Z"
   },
   {
    "duration": 12,
    "start_time": "2021-12-30T23:02:51.103Z"
   },
   {
    "duration": 8,
    "start_time": "2021-12-30T23:02:51.117Z"
   },
   {
    "duration": 14,
    "start_time": "2021-12-30T23:02:51.127Z"
   },
   {
    "duration": 117,
    "start_time": "2021-12-30T23:02:51.143Z"
   },
   {
    "duration": 65,
    "start_time": "2021-12-30T23:02:51.262Z"
   },
   {
    "duration": 75,
    "start_time": "2021-12-30T23:02:51.329Z"
   },
   {
    "duration": 57,
    "start_time": "2021-12-30T23:02:51.406Z"
   },
   {
    "duration": 29,
    "start_time": "2021-12-30T23:02:51.465Z"
   },
   {
    "duration": 49,
    "start_time": "2021-12-30T23:02:51.495Z"
   },
   {
    "duration": 133,
    "start_time": "2021-12-30T23:02:51.546Z"
   },
   {
    "duration": 233,
    "start_time": "2021-12-30T23:02:51.681Z"
   },
   {
    "duration": 21,
    "start_time": "2021-12-30T23:02:51.915Z"
   },
   {
    "duration": 77,
    "start_time": "2021-12-30T23:02:51.937Z"
   },
   {
    "duration": 26,
    "start_time": "2021-12-30T23:02:52.015Z"
   },
   {
    "duration": 17,
    "start_time": "2021-12-30T23:02:52.043Z"
   },
   {
    "duration": 70,
    "start_time": "2021-12-30T23:02:52.061Z"
   },
   {
    "duration": 21,
    "start_time": "2021-12-30T23:02:52.133Z"
   },
   {
    "duration": 26,
    "start_time": "2021-12-30T23:02:52.156Z"
   },
   {
    "duration": 303,
    "start_time": "2021-12-30T23:02:52.183Z"
   },
   {
    "duration": 225,
    "start_time": "2021-12-30T23:02:52.488Z"
   },
   {
    "duration": 227,
    "start_time": "2021-12-30T23:02:52.715Z"
   },
   {
    "duration": 445,
    "start_time": "2021-12-30T23:02:52.943Z"
   },
   {
    "duration": 235,
    "start_time": "2021-12-30T23:02:53.389Z"
   },
   {
    "duration": 726,
    "start_time": "2021-12-30T23:02:53.668Z"
   },
   {
    "duration": 282,
    "start_time": "2021-12-30T23:03:08.734Z"
   },
   {
    "duration": 260,
    "start_time": "2021-12-30T23:03:24.713Z"
   },
   {
    "duration": 297,
    "start_time": "2021-12-30T23:03:45.871Z"
   },
   {
    "duration": 2,
    "start_time": "2021-12-30T23:03:50.949Z"
   },
   {
    "duration": 358,
    "start_time": "2021-12-30T23:03:50.959Z"
   },
   {
    "duration": 11,
    "start_time": "2021-12-30T23:03:51.319Z"
   },
   {
    "duration": 9,
    "start_time": "2021-12-30T23:03:51.332Z"
   },
   {
    "duration": 14,
    "start_time": "2021-12-30T23:03:51.343Z"
   },
   {
    "duration": 113,
    "start_time": "2021-12-30T23:03:51.358Z"
   },
   {
    "duration": 62,
    "start_time": "2021-12-30T23:03:51.473Z"
   },
   {
    "duration": 90,
    "start_time": "2021-12-30T23:03:51.537Z"
   },
   {
    "duration": 46,
    "start_time": "2021-12-30T23:03:51.630Z"
   },
   {
    "duration": 30,
    "start_time": "2021-12-30T23:03:51.678Z"
   },
   {
    "duration": 54,
    "start_time": "2021-12-30T23:03:51.710Z"
   },
   {
    "duration": 141,
    "start_time": "2021-12-30T23:03:51.765Z"
   },
   {
    "duration": 336,
    "start_time": "2021-12-30T23:03:51.908Z"
   },
   {
    "duration": 17,
    "start_time": "2021-12-30T23:03:52.246Z"
   },
   {
    "duration": 96,
    "start_time": "2021-12-30T23:03:52.264Z"
   },
   {
    "duration": 17,
    "start_time": "2021-12-30T23:03:52.361Z"
   },
   {
    "duration": 16,
    "start_time": "2021-12-30T23:03:52.380Z"
   },
   {
    "duration": 76,
    "start_time": "2021-12-30T23:03:52.397Z"
   },
   {
    "duration": 21,
    "start_time": "2021-12-30T23:03:52.474Z"
   },
   {
    "duration": 36,
    "start_time": "2021-12-30T23:03:52.497Z"
   },
   {
    "duration": 232,
    "start_time": "2021-12-30T23:03:52.534Z"
   },
   {
    "duration": 225,
    "start_time": "2021-12-30T23:03:52.768Z"
   },
   {
    "duration": 231,
    "start_time": "2021-12-30T23:03:52.995Z"
   },
   {
    "duration": 441,
    "start_time": "2021-12-30T23:03:53.229Z"
   },
   {
    "duration": 235,
    "start_time": "2021-12-30T23:03:53.672Z"
   },
   {
    "duration": 290,
    "start_time": "2021-12-30T23:03:53.908Z"
   },
   {
    "duration": 284,
    "start_time": "2021-12-30T23:03:57.017Z"
   },
   {
    "duration": 280,
    "start_time": "2021-12-30T23:04:03.910Z"
   },
   {
    "duration": 568,
    "start_time": "2021-12-30T23:04:14.244Z"
   },
   {
    "duration": 280,
    "start_time": "2021-12-30T23:04:46.590Z"
   },
   {
    "duration": 5,
    "start_time": "2021-12-30T23:04:51.810Z"
   },
   {
    "duration": 350,
    "start_time": "2021-12-30T23:04:51.816Z"
   },
   {
    "duration": 12,
    "start_time": "2021-12-30T23:04:52.168Z"
   },
   {
    "duration": 9,
    "start_time": "2021-12-30T23:04:52.182Z"
   },
   {
    "duration": 15,
    "start_time": "2021-12-30T23:04:52.192Z"
   },
   {
    "duration": 97,
    "start_time": "2021-12-30T23:04:52.208Z"
   },
   {
    "duration": 57,
    "start_time": "2021-12-30T23:04:52.307Z"
   },
   {
    "duration": 83,
    "start_time": "2021-12-30T23:04:52.366Z"
   },
   {
    "duration": 43,
    "start_time": "2021-12-30T23:04:52.451Z"
   },
   {
    "duration": 42,
    "start_time": "2021-12-30T23:04:52.496Z"
   },
   {
    "duration": 37,
    "start_time": "2021-12-30T23:04:52.540Z"
   },
   {
    "duration": 144,
    "start_time": "2021-12-30T23:04:52.579Z"
   },
   {
    "duration": 231,
    "start_time": "2021-12-30T23:04:52.725Z"
   },
   {
    "duration": 19,
    "start_time": "2021-12-30T23:04:52.957Z"
   },
   {
    "duration": 94,
    "start_time": "2021-12-30T23:04:52.978Z"
   },
   {
    "duration": 18,
    "start_time": "2021-12-30T23:04:53.074Z"
   },
   {
    "duration": 16,
    "start_time": "2021-12-30T23:04:53.093Z"
   },
   {
    "duration": 59,
    "start_time": "2021-12-30T23:04:53.127Z"
   },
   {
    "duration": 22,
    "start_time": "2021-12-30T23:04:53.188Z"
   },
   {
    "duration": 37,
    "start_time": "2021-12-30T23:04:53.212Z"
   },
   {
    "duration": 236,
    "start_time": "2021-12-30T23:04:53.251Z"
   },
   {
    "duration": 238,
    "start_time": "2021-12-30T23:04:53.489Z"
   },
   {
    "duration": 234,
    "start_time": "2021-12-30T23:04:53.729Z"
   },
   {
    "duration": 463,
    "start_time": "2021-12-30T23:04:53.964Z"
   },
   {
    "duration": 227,
    "start_time": "2021-12-30T23:04:54.429Z"
   },
   {
    "duration": 287,
    "start_time": "2021-12-30T23:04:54.658Z"
   },
   {
    "duration": 264,
    "start_time": "2021-12-30T23:05:08.996Z"
   },
   {
    "duration": 278,
    "start_time": "2021-12-30T23:05:36.092Z"
   },
   {
    "duration": 3,
    "start_time": "2021-12-30T23:05:39.637Z"
   },
   {
    "duration": 358,
    "start_time": "2021-12-30T23:05:39.647Z"
   },
   {
    "duration": 12,
    "start_time": "2021-12-30T23:05:40.006Z"
   },
   {
    "duration": 9,
    "start_time": "2021-12-30T23:05:40.020Z"
   },
   {
    "duration": 18,
    "start_time": "2021-12-30T23:05:40.030Z"
   },
   {
    "duration": 112,
    "start_time": "2021-12-30T23:05:40.049Z"
   },
   {
    "duration": 52,
    "start_time": "2021-12-30T23:05:40.163Z"
   },
   {
    "duration": 75,
    "start_time": "2021-12-30T23:05:40.227Z"
   },
   {
    "duration": 57,
    "start_time": "2021-12-30T23:05:40.304Z"
   },
   {
    "duration": 29,
    "start_time": "2021-12-30T23:05:40.363Z"
   },
   {
    "duration": 50,
    "start_time": "2021-12-30T23:05:40.393Z"
   },
   {
    "duration": 131,
    "start_time": "2021-12-30T23:05:40.444Z"
   },
   {
    "duration": 238,
    "start_time": "2021-12-30T23:05:40.577Z"
   },
   {
    "duration": 23,
    "start_time": "2021-12-30T23:05:40.816Z"
   },
   {
    "duration": 87,
    "start_time": "2021-12-30T23:05:40.841Z"
   },
   {
    "duration": 19,
    "start_time": "2021-12-30T23:05:40.929Z"
   },
   {
    "duration": 15,
    "start_time": "2021-12-30T23:05:40.949Z"
   },
   {
    "duration": 86,
    "start_time": "2021-12-30T23:05:40.965Z"
   },
   {
    "duration": 22,
    "start_time": "2021-12-30T23:05:41.053Z"
   },
   {
    "duration": 26,
    "start_time": "2021-12-30T23:05:41.076Z"
   },
   {
    "duration": 289,
    "start_time": "2021-12-30T23:05:41.103Z"
   },
   {
    "duration": 227,
    "start_time": "2021-12-30T23:05:41.396Z"
   },
   {
    "duration": 234,
    "start_time": "2021-12-30T23:05:41.626Z"
   },
   {
    "duration": 454,
    "start_time": "2021-12-30T23:05:41.863Z"
   },
   {
    "duration": 236,
    "start_time": "2021-12-30T23:05:42.318Z"
   },
   {
    "duration": 294,
    "start_time": "2021-12-30T23:05:43.998Z"
   },
   {
    "duration": 267,
    "start_time": "2021-12-30T23:06:15.445Z"
   },
   {
    "duration": 3,
    "start_time": "2021-12-30T23:06:23.382Z"
   },
   {
    "duration": 340,
    "start_time": "2021-12-30T23:06:23.393Z"
   },
   {
    "duration": 14,
    "start_time": "2021-12-30T23:06:23.734Z"
   },
   {
    "duration": 9,
    "start_time": "2021-12-30T23:06:23.750Z"
   },
   {
    "duration": 15,
    "start_time": "2021-12-30T23:06:23.760Z"
   },
   {
    "duration": 122,
    "start_time": "2021-12-30T23:06:23.777Z"
   },
   {
    "duration": 61,
    "start_time": "2021-12-30T23:06:23.900Z"
   },
   {
    "duration": 84,
    "start_time": "2021-12-30T23:06:23.962Z"
   },
   {
    "duration": 44,
    "start_time": "2021-12-30T23:06:24.048Z"
   },
   {
    "duration": 42,
    "start_time": "2021-12-30T23:06:24.094Z"
   },
   {
    "duration": 37,
    "start_time": "2021-12-30T23:06:24.138Z"
   },
   {
    "duration": 145,
    "start_time": "2021-12-30T23:06:24.177Z"
   },
   {
    "duration": 236,
    "start_time": "2021-12-30T23:06:24.323Z"
   },
   {
    "duration": 19,
    "start_time": "2021-12-30T23:06:24.560Z"
   },
   {
    "duration": 91,
    "start_time": "2021-12-30T23:06:24.581Z"
   },
   {
    "duration": 19,
    "start_time": "2021-12-30T23:06:24.673Z"
   },
   {
    "duration": 35,
    "start_time": "2021-12-30T23:06:24.693Z"
   },
   {
    "duration": 60,
    "start_time": "2021-12-30T23:06:24.729Z"
   },
   {
    "duration": 21,
    "start_time": "2021-12-30T23:06:24.790Z"
   },
   {
    "duration": 25,
    "start_time": "2021-12-30T23:06:24.827Z"
   },
   {
    "duration": 237,
    "start_time": "2021-12-30T23:06:24.853Z"
   },
   {
    "duration": 228,
    "start_time": "2021-12-30T23:06:25.092Z"
   },
   {
    "duration": 226,
    "start_time": "2021-12-30T23:06:25.321Z"
   },
   {
    "duration": 447,
    "start_time": "2021-12-30T23:06:25.549Z"
   },
   {
    "duration": 230,
    "start_time": "2021-12-30T23:06:25.998Z"
   },
   {
    "duration": 720,
    "start_time": "2021-12-30T23:06:28.609Z"
   },
   {
    "duration": 288,
    "start_time": "2021-12-30T23:06:45.669Z"
   },
   {
    "duration": 250,
    "start_time": "2021-12-30T23:08:11.772Z"
   },
   {
    "duration": 253,
    "start_time": "2021-12-30T23:11:21.332Z"
   },
   {
    "duration": 327,
    "start_time": "2021-12-30T23:11:43.907Z"
   },
   {
    "duration": 272,
    "start_time": "2021-12-30T23:12:01.330Z"
   },
   {
    "duration": 533,
    "start_time": "2021-12-30T23:14:55.488Z"
   },
   {
    "duration": 243,
    "start_time": "2021-12-30T23:15:04.149Z"
   },
   {
    "duration": 261,
    "start_time": "2021-12-30T23:16:36.750Z"
   },
   {
    "duration": 3,
    "start_time": "2021-12-30T23:16:42.740Z"
   },
   {
    "duration": 403,
    "start_time": "2021-12-30T23:16:42.758Z"
   },
   {
    "duration": 13,
    "start_time": "2021-12-30T23:16:43.163Z"
   },
   {
    "duration": 9,
    "start_time": "2021-12-30T23:16:43.177Z"
   },
   {
    "duration": 15,
    "start_time": "2021-12-30T23:16:43.188Z"
   },
   {
    "duration": 104,
    "start_time": "2021-12-30T23:16:43.204Z"
   },
   {
    "duration": 58,
    "start_time": "2021-12-30T23:16:43.309Z"
   },
   {
    "duration": 94,
    "start_time": "2021-12-30T23:16:43.369Z"
   },
   {
    "duration": 46,
    "start_time": "2021-12-30T23:16:43.465Z"
   },
   {
    "duration": 43,
    "start_time": "2021-12-30T23:16:43.513Z"
   },
   {
    "duration": 38,
    "start_time": "2021-12-30T23:16:43.557Z"
   },
   {
    "duration": 146,
    "start_time": "2021-12-30T23:16:43.597Z"
   },
   {
    "duration": 253,
    "start_time": "2021-12-30T23:16:43.745Z"
   },
   {
    "duration": 31,
    "start_time": "2021-12-30T23:16:43.999Z"
   },
   {
    "duration": 100,
    "start_time": "2021-12-30T23:16:44.032Z"
   },
   {
    "duration": 32,
    "start_time": "2021-12-30T23:16:44.134Z"
   },
   {
    "duration": 29,
    "start_time": "2021-12-30T23:16:44.168Z"
   },
   {
    "duration": 127,
    "start_time": "2021-12-30T23:16:44.200Z"
   },
   {
    "duration": 40,
    "start_time": "2021-12-30T23:16:44.329Z"
   },
   {
    "duration": 64,
    "start_time": "2021-12-30T23:16:44.371Z"
   },
   {
    "duration": 305,
    "start_time": "2021-12-30T23:16:44.437Z"
   },
   {
    "duration": 251,
    "start_time": "2021-12-30T23:16:44.743Z"
   },
   {
    "duration": 260,
    "start_time": "2021-12-30T23:16:44.996Z"
   },
   {
    "duration": 484,
    "start_time": "2021-12-30T23:16:45.260Z"
   },
   {
    "duration": 253,
    "start_time": "2021-12-30T23:16:45.746Z"
   },
   {
    "duration": 313,
    "start_time": "2021-12-30T23:16:46.000Z"
   },
   {
    "duration": 705,
    "start_time": "2021-12-30T23:17:36.064Z"
   },
   {
    "duration": 2,
    "start_time": "2021-12-30T23:17:40.085Z"
   },
   {
    "duration": 379,
    "start_time": "2021-12-30T23:17:40.096Z"
   },
   {
    "duration": 12,
    "start_time": "2021-12-30T23:17:40.476Z"
   },
   {
    "duration": 10,
    "start_time": "2021-12-30T23:17:40.489Z"
   },
   {
    "duration": 15,
    "start_time": "2021-12-30T23:17:40.501Z"
   },
   {
    "duration": 106,
    "start_time": "2021-12-30T23:17:40.518Z"
   },
   {
    "duration": 53,
    "start_time": "2021-12-30T23:17:40.626Z"
   },
   {
    "duration": 88,
    "start_time": "2021-12-30T23:17:40.681Z"
   },
   {
    "duration": 44,
    "start_time": "2021-12-30T23:17:40.772Z"
   },
   {
    "duration": 29,
    "start_time": "2021-12-30T23:17:40.826Z"
   },
   {
    "duration": 34,
    "start_time": "2021-12-30T23:17:40.857Z"
   },
   {
    "duration": 148,
    "start_time": "2021-12-30T23:17:40.893Z"
   },
   {
    "duration": 238,
    "start_time": "2021-12-30T23:17:41.042Z"
   },
   {
    "duration": 16,
    "start_time": "2021-12-30T23:17:41.282Z"
   },
   {
    "duration": 90,
    "start_time": "2021-12-30T23:17:41.300Z"
   },
   {
    "duration": 16,
    "start_time": "2021-12-30T23:17:41.392Z"
   },
   {
    "duration": 26,
    "start_time": "2021-12-30T23:17:41.410Z"
   },
   {
    "duration": 59,
    "start_time": "2021-12-30T23:17:41.438Z"
   },
   {
    "duration": 37,
    "start_time": "2021-12-30T23:17:41.498Z"
   },
   {
    "duration": 24,
    "start_time": "2021-12-30T23:17:41.537Z"
   },
   {
    "duration": 238,
    "start_time": "2021-12-30T23:17:41.562Z"
   },
   {
    "duration": 240,
    "start_time": "2021-12-30T23:17:41.802Z"
   },
   {
    "duration": 231,
    "start_time": "2021-12-30T23:17:42.044Z"
   },
   {
    "duration": 550,
    "start_time": "2021-12-30T23:17:42.277Z"
   },
   {
    "duration": 335,
    "start_time": "2021-12-30T23:17:42.828Z"
   },
   {
    "duration": 305,
    "start_time": "2021-12-30T23:17:43.164Z"
   },
   {
    "duration": 704,
    "start_time": "2021-12-30T23:18:26.861Z"
   },
   {
    "duration": 3,
    "start_time": "2021-12-30T23:18:31.543Z"
   },
   {
    "duration": 348,
    "start_time": "2021-12-30T23:18:31.549Z"
   },
   {
    "duration": 12,
    "start_time": "2021-12-30T23:18:31.899Z"
   },
   {
    "duration": 9,
    "start_time": "2021-12-30T23:18:31.913Z"
   },
   {
    "duration": 14,
    "start_time": "2021-12-30T23:18:31.924Z"
   },
   {
    "duration": 106,
    "start_time": "2021-12-30T23:18:31.939Z"
   },
   {
    "duration": 52,
    "start_time": "2021-12-30T23:18:32.046Z"
   },
   {
    "duration": 92,
    "start_time": "2021-12-30T23:18:32.100Z"
   },
   {
    "duration": 60,
    "start_time": "2021-12-30T23:18:32.195Z"
   },
   {
    "duration": 29,
    "start_time": "2021-12-30T23:18:32.257Z"
   },
   {
    "duration": 55,
    "start_time": "2021-12-30T23:18:32.288Z"
   },
   {
    "duration": 135,
    "start_time": "2021-12-30T23:18:32.344Z"
   },
   {
    "duration": 236,
    "start_time": "2021-12-30T23:18:32.480Z"
   },
   {
    "duration": 22,
    "start_time": "2021-12-30T23:18:32.718Z"
   },
   {
    "duration": 91,
    "start_time": "2021-12-30T23:18:32.741Z"
   },
   {
    "duration": 18,
    "start_time": "2021-12-30T23:18:32.833Z"
   },
   {
    "duration": 16,
    "start_time": "2021-12-30T23:18:32.852Z"
   },
   {
    "duration": 82,
    "start_time": "2021-12-30T23:18:32.869Z"
   },
   {
    "duration": 21,
    "start_time": "2021-12-30T23:18:32.953Z"
   },
   {
    "duration": 33,
    "start_time": "2021-12-30T23:18:32.976Z"
   },
   {
    "duration": 241,
    "start_time": "2021-12-30T23:18:33.010Z"
   },
   {
    "duration": 509,
    "start_time": "2021-12-30T23:18:33.252Z"
   },
   {
    "duration": 518,
    "start_time": "2021-12-30T23:18:33.763Z"
   },
   {
    "duration": 1019,
    "start_time": "2021-12-30T23:18:34.285Z"
   },
   {
    "duration": 524,
    "start_time": "2021-12-30T23:18:35.307Z"
   },
   {
    "duration": 635,
    "start_time": "2021-12-30T23:18:35.833Z"
   },
   {
    "duration": 218,
    "start_time": "2021-12-30T23:19:58.294Z"
   },
   {
    "duration": 587,
    "start_time": "2021-12-30T23:24:15.896Z"
   },
   {
    "duration": 273,
    "start_time": "2021-12-30T23:25:30.306Z"
   },
   {
    "duration": 277,
    "start_time": "2021-12-30T23:25:38.187Z"
   },
   {
    "duration": 581,
    "start_time": "2021-12-30T23:25:56.403Z"
   },
   {
    "duration": 2,
    "start_time": "2021-12-30T23:26:04.541Z"
   },
   {
    "duration": 343,
    "start_time": "2021-12-30T23:26:04.551Z"
   },
   {
    "duration": 14,
    "start_time": "2021-12-30T23:26:04.896Z"
   },
   {
    "duration": 12,
    "start_time": "2021-12-30T23:26:04.911Z"
   },
   {
    "duration": 16,
    "start_time": "2021-12-30T23:26:04.925Z"
   },
   {
    "duration": 120,
    "start_time": "2021-12-30T23:26:04.943Z"
   },
   {
    "duration": 63,
    "start_time": "2021-12-30T23:26:05.065Z"
   },
   {
    "duration": 77,
    "start_time": "2021-12-30T23:26:05.130Z"
   },
   {
    "duration": 62,
    "start_time": "2021-12-30T23:26:05.209Z"
   },
   {
    "duration": 30,
    "start_time": "2021-12-30T23:26:05.272Z"
   },
   {
    "duration": 53,
    "start_time": "2021-12-30T23:26:05.303Z"
   },
   {
    "duration": 134,
    "start_time": "2021-12-30T23:26:05.358Z"
   },
   {
    "duration": 241,
    "start_time": "2021-12-30T23:26:05.494Z"
   },
   {
    "duration": 19,
    "start_time": "2021-12-30T23:26:05.737Z"
   },
   {
    "duration": 92,
    "start_time": "2021-12-30T23:26:05.757Z"
   },
   {
    "duration": 18,
    "start_time": "2021-12-30T23:26:05.850Z"
   },
   {
    "duration": 17,
    "start_time": "2021-12-30T23:26:05.870Z"
   },
   {
    "duration": 75,
    "start_time": "2021-12-30T23:26:05.888Z"
   },
   {
    "duration": 21,
    "start_time": "2021-12-30T23:26:05.965Z"
   },
   {
    "duration": 40,
    "start_time": "2021-12-30T23:26:05.988Z"
   },
   {
    "duration": 233,
    "start_time": "2021-12-30T23:26:06.029Z"
   },
   {
    "duration": 233,
    "start_time": "2021-12-30T23:26:06.264Z"
   },
   {
    "duration": 229,
    "start_time": "2021-12-30T23:26:06.498Z"
   },
   {
    "duration": 460,
    "start_time": "2021-12-30T23:26:06.730Z"
   },
   {
    "duration": 231,
    "start_time": "2021-12-30T23:26:07.192Z"
   },
   {
    "duration": 318,
    "start_time": "2021-12-30T23:26:08.874Z"
   },
   {
    "duration": 269,
    "start_time": "2021-12-30T23:26:19.510Z"
   },
   {
    "duration": 3,
    "start_time": "2021-12-30T23:26:25.975Z"
   },
   {
    "duration": 491,
    "start_time": "2021-12-30T23:26:25.980Z"
   },
   {
    "duration": 12,
    "start_time": "2021-12-30T23:26:26.473Z"
   },
   {
    "duration": 10,
    "start_time": "2021-12-30T23:26:26.487Z"
   },
   {
    "duration": 15,
    "start_time": "2021-12-30T23:26:26.498Z"
   },
   {
    "duration": 100,
    "start_time": "2021-12-30T23:26:26.514Z"
   },
   {
    "duration": 54,
    "start_time": "2021-12-30T23:26:26.616Z"
   },
   {
    "duration": 86,
    "start_time": "2021-12-30T23:26:26.672Z"
   },
   {
    "duration": 42,
    "start_time": "2021-12-30T23:26:26.761Z"
   },
   {
    "duration": 41,
    "start_time": "2021-12-30T23:26:26.805Z"
   },
   {
    "duration": 38,
    "start_time": "2021-12-30T23:26:26.848Z"
   },
   {
    "duration": 151,
    "start_time": "2021-12-30T23:26:26.888Z"
   },
   {
    "duration": 448,
    "start_time": "2021-12-30T23:26:27.041Z"
   },
   {
    "duration": 37,
    "start_time": "2021-12-30T23:26:27.490Z"
   },
   {
    "duration": 81,
    "start_time": "2021-12-30T23:26:27.529Z"
   },
   {
    "duration": 31,
    "start_time": "2021-12-30T23:26:27.612Z"
   },
   {
    "duration": 16,
    "start_time": "2021-12-30T23:26:27.644Z"
   },
   {
    "duration": 75,
    "start_time": "2021-12-30T23:26:27.661Z"
   },
   {
    "duration": 21,
    "start_time": "2021-12-30T23:26:27.738Z"
   },
   {
    "duration": 24,
    "start_time": "2021-12-30T23:26:27.761Z"
   },
   {
    "duration": 236,
    "start_time": "2021-12-30T23:26:27.786Z"
   },
   {
    "duration": 231,
    "start_time": "2021-12-30T23:26:28.023Z"
   },
   {
    "duration": 228,
    "start_time": "2021-12-30T23:26:28.256Z"
   },
   {
    "duration": 445,
    "start_time": "2021-12-30T23:26:28.485Z"
   },
   {
    "duration": 302,
    "start_time": "2021-12-30T23:26:28.931Z"
   },
   {
    "duration": 708,
    "start_time": "2021-12-30T23:26:31.196Z"
   },
   {
    "duration": 707,
    "start_time": "2021-12-30T23:26:49.452Z"
   },
   {
    "duration": 3,
    "start_time": "2021-12-30T23:26:54.759Z"
   },
   {
    "duration": 345,
    "start_time": "2021-12-30T23:26:54.775Z"
   },
   {
    "duration": 12,
    "start_time": "2021-12-30T23:26:55.122Z"
   },
   {
    "duration": 8,
    "start_time": "2021-12-30T23:26:55.136Z"
   },
   {
    "duration": 17,
    "start_time": "2021-12-30T23:26:55.145Z"
   },
   {
    "duration": 119,
    "start_time": "2021-12-30T23:26:55.163Z"
   },
   {
    "duration": 62,
    "start_time": "2021-12-30T23:26:55.283Z"
   },
   {
    "duration": 83,
    "start_time": "2021-12-30T23:26:55.346Z"
   },
   {
    "duration": 43,
    "start_time": "2021-12-30T23:26:55.431Z"
   },
   {
    "duration": 29,
    "start_time": "2021-12-30T23:26:55.476Z"
   },
   {
    "duration": 52,
    "start_time": "2021-12-30T23:26:55.507Z"
   },
   {
    "duration": 134,
    "start_time": "2021-12-30T23:26:55.560Z"
   },
   {
    "duration": 298,
    "start_time": "2021-12-30T23:26:55.696Z"
   },
   {
    "duration": 16,
    "start_time": "2021-12-30T23:26:55.996Z"
   },
   {
    "duration": 86,
    "start_time": "2021-12-30T23:26:56.014Z"
   },
   {
    "duration": 29,
    "start_time": "2021-12-30T23:26:56.101Z"
   },
   {
    "duration": 15,
    "start_time": "2021-12-30T23:26:56.132Z"
   },
   {
    "duration": 57,
    "start_time": "2021-12-30T23:26:56.149Z"
   },
   {
    "duration": 34,
    "start_time": "2021-12-30T23:26:56.208Z"
   },
   {
    "duration": 23,
    "start_time": "2021-12-30T23:26:56.243Z"
   },
   {
    "duration": 235,
    "start_time": "2021-12-30T23:26:56.268Z"
   },
   {
    "duration": 231,
    "start_time": "2021-12-30T23:26:56.505Z"
   },
   {
    "duration": 230,
    "start_time": "2021-12-30T23:26:56.738Z"
   },
   {
    "duration": 456,
    "start_time": "2021-12-30T23:26:56.971Z"
   },
   {
    "duration": 232,
    "start_time": "2021-12-30T23:26:57.429Z"
   },
   {
    "duration": 712,
    "start_time": "2021-12-30T23:26:57.663Z"
   },
   {
    "duration": 742,
    "start_time": "2021-12-30T23:26:58.693Z"
   },
   {
    "duration": 2,
    "start_time": "2021-12-30T23:27:04.520Z"
   },
   {
    "duration": 338,
    "start_time": "2021-12-30T23:27:04.527Z"
   },
   {
    "duration": 12,
    "start_time": "2021-12-30T23:27:04.867Z"
   },
   {
    "duration": 11,
    "start_time": "2021-12-30T23:27:04.880Z"
   },
   {
    "duration": 19,
    "start_time": "2021-12-30T23:27:04.892Z"
   },
   {
    "duration": 98,
    "start_time": "2021-12-30T23:27:04.912Z"
   },
   {
    "duration": 62,
    "start_time": "2021-12-30T23:27:05.012Z"
   },
   {
    "duration": 81,
    "start_time": "2021-12-30T23:27:05.075Z"
   },
   {
    "duration": 44,
    "start_time": "2021-12-30T23:27:05.159Z"
   },
   {
    "duration": 43,
    "start_time": "2021-12-30T23:27:05.205Z"
   },
   {
    "duration": 36,
    "start_time": "2021-12-30T23:27:05.249Z"
   },
   {
    "duration": 141,
    "start_time": "2021-12-30T23:27:05.287Z"
   },
   {
    "duration": 242,
    "start_time": "2021-12-30T23:27:05.429Z"
   },
   {
    "duration": 16,
    "start_time": "2021-12-30T23:27:05.673Z"
   },
   {
    "duration": 93,
    "start_time": "2021-12-30T23:27:05.691Z"
   },
   {
    "duration": 17,
    "start_time": "2021-12-30T23:27:05.785Z"
   },
   {
    "duration": 27,
    "start_time": "2021-12-30T23:27:05.803Z"
   },
   {
    "duration": 61,
    "start_time": "2021-12-30T23:27:05.831Z"
   },
   {
    "duration": 35,
    "start_time": "2021-12-30T23:27:05.893Z"
   },
   {
    "duration": 26,
    "start_time": "2021-12-30T23:27:05.929Z"
   },
   {
    "duration": 234,
    "start_time": "2021-12-30T23:27:05.957Z"
   },
   {
    "duration": 234,
    "start_time": "2021-12-30T23:27:06.193Z"
   },
   {
    "duration": 225,
    "start_time": "2021-12-30T23:27:06.428Z"
   },
   {
    "duration": 441,
    "start_time": "2021-12-30T23:27:06.656Z"
   },
   {
    "duration": 229,
    "start_time": "2021-12-30T23:27:07.099Z"
   },
   {
    "duration": 704,
    "start_time": "2021-12-30T23:27:11.431Z"
   },
   {
    "duration": 788,
    "start_time": "2021-12-30T23:27:29.948Z"
   },
   {
    "duration": 2,
    "start_time": "2021-12-30T23:27:35.494Z"
   },
   {
    "duration": 352,
    "start_time": "2021-12-30T23:27:35.504Z"
   },
   {
    "duration": 14,
    "start_time": "2021-12-30T23:27:35.857Z"
   },
   {
    "duration": 10,
    "start_time": "2021-12-30T23:27:35.873Z"
   },
   {
    "duration": 15,
    "start_time": "2021-12-30T23:27:35.885Z"
   },
   {
    "duration": 106,
    "start_time": "2021-12-30T23:27:35.902Z"
   },
   {
    "duration": 59,
    "start_time": "2021-12-30T23:27:36.010Z"
   },
   {
    "duration": 84,
    "start_time": "2021-12-30T23:27:36.070Z"
   },
   {
    "duration": 45,
    "start_time": "2021-12-30T23:27:36.156Z"
   },
   {
    "duration": 43,
    "start_time": "2021-12-30T23:27:36.203Z"
   },
   {
    "duration": 36,
    "start_time": "2021-12-30T23:27:36.247Z"
   },
   {
    "duration": 143,
    "start_time": "2021-12-30T23:27:36.285Z"
   },
   {
    "duration": 237,
    "start_time": "2021-12-30T23:27:36.429Z"
   },
   {
    "duration": 16,
    "start_time": "2021-12-30T23:27:36.668Z"
   },
   {
    "duration": 94,
    "start_time": "2021-12-30T23:27:36.686Z"
   },
   {
    "duration": 17,
    "start_time": "2021-12-30T23:27:36.781Z"
   },
   {
    "duration": 29,
    "start_time": "2021-12-30T23:27:36.799Z"
   },
   {
    "duration": 58,
    "start_time": "2021-12-30T23:27:36.829Z"
   },
   {
    "duration": 22,
    "start_time": "2021-12-30T23:27:36.889Z"
   },
   {
    "duration": 25,
    "start_time": "2021-12-30T23:27:36.927Z"
   },
   {
    "duration": 248,
    "start_time": "2021-12-30T23:27:36.953Z"
   },
   {
    "duration": 235,
    "start_time": "2021-12-30T23:27:37.203Z"
   },
   {
    "duration": 234,
    "start_time": "2021-12-30T23:27:37.440Z"
   },
   {
    "duration": 459,
    "start_time": "2021-12-30T23:27:37.677Z"
   },
   {
    "duration": 237,
    "start_time": "2021-12-30T23:27:38.137Z"
   },
   {
    "duration": 707,
    "start_time": "2021-12-30T23:27:38.376Z"
   },
   {
    "duration": 316,
    "start_time": "2021-12-30T23:27:43.840Z"
   },
   {
    "duration": 282,
    "start_time": "2021-12-30T23:28:15.245Z"
   },
   {
    "duration": 3,
    "start_time": "2021-12-30T23:28:29.938Z"
   },
   {
    "duration": 356,
    "start_time": "2021-12-30T23:28:29.949Z"
   },
   {
    "duration": 13,
    "start_time": "2021-12-30T23:28:30.307Z"
   },
   {
    "duration": 11,
    "start_time": "2021-12-30T23:28:30.322Z"
   },
   {
    "duration": 15,
    "start_time": "2021-12-30T23:28:30.335Z"
   },
   {
    "duration": 114,
    "start_time": "2021-12-30T23:28:30.351Z"
   },
   {
    "duration": 61,
    "start_time": "2021-12-30T23:28:30.466Z"
   },
   {
    "duration": 74,
    "start_time": "2021-12-30T23:28:30.529Z"
   },
   {
    "duration": 57,
    "start_time": "2021-12-30T23:28:30.605Z"
   },
   {
    "duration": 29,
    "start_time": "2021-12-30T23:28:30.664Z"
   },
   {
    "duration": 49,
    "start_time": "2021-12-30T23:28:30.694Z"
   },
   {
    "duration": 135,
    "start_time": "2021-12-30T23:28:30.745Z"
   },
   {
    "duration": 235,
    "start_time": "2021-12-30T23:28:30.881Z"
   },
   {
    "duration": 23,
    "start_time": "2021-12-30T23:28:31.117Z"
   },
   {
    "duration": 86,
    "start_time": "2021-12-30T23:28:31.142Z"
   },
   {
    "duration": 16,
    "start_time": "2021-12-30T23:28:31.229Z"
   },
   {
    "duration": 14,
    "start_time": "2021-12-30T23:28:31.246Z"
   },
   {
    "duration": 75,
    "start_time": "2021-12-30T23:28:31.261Z"
   },
   {
    "duration": 22,
    "start_time": "2021-12-30T23:28:31.338Z"
   },
   {
    "duration": 24,
    "start_time": "2021-12-30T23:28:31.362Z"
   },
   {
    "duration": 245,
    "start_time": "2021-12-30T23:28:31.388Z"
   },
   {
    "duration": 234,
    "start_time": "2021-12-30T23:28:31.634Z"
   },
   {
    "duration": 243,
    "start_time": "2021-12-30T23:28:31.869Z"
   },
   {
    "duration": 447,
    "start_time": "2021-12-30T23:28:32.115Z"
   },
   {
    "duration": 228,
    "start_time": "2021-12-30T23:28:32.564Z"
   },
   {
    "duration": 283,
    "start_time": "2021-12-30T23:28:33.125Z"
   },
   {
    "duration": 309,
    "start_time": "2021-12-30T23:29:17.805Z"
   },
   {
    "duration": 257,
    "start_time": "2021-12-30T23:29:36.754Z"
   },
   {
    "duration": 30,
    "start_time": "2021-12-30T23:35:53.730Z"
   },
   {
    "duration": 2,
    "start_time": "2021-12-30T23:38:09.490Z"
   },
   {
    "duration": 349,
    "start_time": "2021-12-30T23:38:09.503Z"
   },
   {
    "duration": 14,
    "start_time": "2021-12-30T23:38:09.853Z"
   },
   {
    "duration": 9,
    "start_time": "2021-12-30T23:38:09.869Z"
   },
   {
    "duration": 17,
    "start_time": "2021-12-30T23:38:09.880Z"
   },
   {
    "duration": 101,
    "start_time": "2021-12-30T23:38:09.899Z"
   },
   {
    "duration": 64,
    "start_time": "2021-12-30T23:38:10.002Z"
   },
   {
    "duration": 86,
    "start_time": "2021-12-30T23:38:10.067Z"
   },
   {
    "duration": 45,
    "start_time": "2021-12-30T23:38:10.156Z"
   },
   {
    "duration": 46,
    "start_time": "2021-12-30T23:38:10.202Z"
   },
   {
    "duration": 37,
    "start_time": "2021-12-30T23:38:10.249Z"
   },
   {
    "duration": 140,
    "start_time": "2021-12-30T23:38:10.288Z"
   },
   {
    "duration": 236,
    "start_time": "2021-12-30T23:38:10.429Z"
   },
   {
    "duration": 87,
    "start_time": "2021-12-30T23:38:10.667Z"
   },
   {
    "duration": 16,
    "start_time": "2021-12-30T23:38:10.755Z"
   },
   {
    "duration": 71,
    "start_time": "2021-12-30T23:38:10.772Z"
   },
   {
    "duration": 6,
    "start_time": "2021-12-30T23:38:10.844Z"
   },
   {
    "duration": 26,
    "start_time": "2021-12-30T23:38:10.851Z"
   },
   {
    "duration": 234,
    "start_time": "2021-12-30T23:38:10.878Z"
   },
   {
    "duration": 229,
    "start_time": "2021-12-30T23:38:11.114Z"
   },
   {
    "duration": 231,
    "start_time": "2021-12-30T23:38:11.345Z"
   },
   {
    "duration": 450,
    "start_time": "2021-12-30T23:38:11.577Z"
   },
   {
    "duration": 230,
    "start_time": "2021-12-30T23:38:12.028Z"
   },
   {
    "duration": 280,
    "start_time": "2021-12-30T23:38:12.260Z"
   },
   {
    "duration": 32,
    "start_time": "2021-12-30T23:38:12.542Z"
   },
   {
    "duration": 52,
    "start_time": "2021-12-30T23:38:12.576Z"
   },
   {
    "duration": 18,
    "start_time": "2021-12-30T23:39:17.435Z"
   },
   {
    "duration": 35,
    "start_time": "2021-12-30T23:39:25.889Z"
   },
   {
    "duration": 34,
    "start_time": "2021-12-30T23:39:48.415Z"
   },
   {
    "duration": 34,
    "start_time": "2021-12-30T23:40:35.859Z"
   },
   {
    "duration": 4,
    "start_time": "2021-12-30T23:42:10.566Z"
   },
   {
    "duration": 35,
    "start_time": "2021-12-30T23:42:15.553Z"
   },
   {
    "duration": 33,
    "start_time": "2021-12-30T23:42:22.681Z"
   },
   {
    "duration": 242,
    "start_time": "2021-12-30T23:58:09.506Z"
   },
   {
    "duration": 90,
    "start_time": "2021-12-30T23:58:26.718Z"
   },
   {
    "duration": 3,
    "start_time": "2021-12-30T23:59:57.272Z"
   },
   {
    "duration": 377,
    "start_time": "2021-12-30T23:59:57.287Z"
   },
   {
    "duration": 14,
    "start_time": "2021-12-30T23:59:57.665Z"
   },
   {
    "duration": 10,
    "start_time": "2021-12-30T23:59:57.681Z"
   },
   {
    "duration": 15,
    "start_time": "2021-12-30T23:59:57.693Z"
   },
   {
    "duration": 105,
    "start_time": "2021-12-30T23:59:57.710Z"
   },
   {
    "duration": 54,
    "start_time": "2021-12-30T23:59:57.817Z"
   },
   {
    "duration": 94,
    "start_time": "2021-12-30T23:59:57.873Z"
   },
   {
    "duration": 46,
    "start_time": "2021-12-30T23:59:57.970Z"
   },
   {
    "duration": 30,
    "start_time": "2021-12-30T23:59:58.028Z"
   },
   {
    "duration": 38,
    "start_time": "2021-12-30T23:59:58.060Z"
   },
   {
    "duration": 153,
    "start_time": "2021-12-30T23:59:58.100Z"
   },
   {
    "duration": 238,
    "start_time": "2021-12-30T23:59:58.255Z"
   },
   {
    "duration": 88,
    "start_time": "2021-12-30T23:59:58.495Z"
   },
   {
    "duration": 17,
    "start_time": "2021-12-30T23:59:58.584Z"
   },
   {
    "duration": 71,
    "start_time": "2021-12-30T23:59:58.603Z"
   },
   {
    "duration": 6,
    "start_time": "2021-12-30T23:59:58.676Z"
   },
   {
    "duration": 25,
    "start_time": "2021-12-30T23:59:58.684Z"
   },
   {
    "duration": 242,
    "start_time": "2021-12-30T23:59:58.711Z"
   },
   {
    "duration": 228,
    "start_time": "2021-12-30T23:59:58.954Z"
   },
   {
    "duration": 225,
    "start_time": "2021-12-30T23:59:59.184Z"
   },
   {
    "duration": 448,
    "start_time": "2021-12-30T23:59:59.410Z"
   },
   {
    "duration": 236,
    "start_time": "2021-12-30T23:59:59.860Z"
   },
   {
    "duration": 283,
    "start_time": "2021-12-31T00:00:00.099Z"
   },
   {
    "duration": 125,
    "start_time": "2021-12-31T00:00:00.384Z"
   },
   {
    "duration": -543,
    "start_time": "2021-12-31T00:00:01.053Z"
   },
   {
    "duration": -576,
    "start_time": "2021-12-31T00:00:01.087Z"
   },
   {
    "duration": 90,
    "start_time": "2021-12-31T00:00:21.246Z"
   },
   {
    "duration": 89,
    "start_time": "2021-12-31T00:00:42.316Z"
   },
   {
    "duration": 5,
    "start_time": "2021-12-31T00:01:08.438Z"
   },
   {
    "duration": 30,
    "start_time": "2021-12-31T00:01:14.341Z"
   },
   {
    "duration": 28,
    "start_time": "2021-12-31T00:01:22.725Z"
   },
   {
    "duration": 7,
    "start_time": "2021-12-31T00:01:40.867Z"
   },
   {
    "duration": 6,
    "start_time": "2021-12-31T00:02:35.771Z"
   },
   {
    "duration": 286,
    "start_time": "2021-12-31T00:08:05.609Z"
   },
   {
    "duration": 304,
    "start_time": "2021-12-31T00:09:38.723Z"
   },
   {
    "duration": 87,
    "start_time": "2021-12-31T00:09:57.615Z"
   },
   {
    "duration": 6,
    "start_time": "2021-12-31T00:10:03.673Z"
   },
   {
    "duration": 30,
    "start_time": "2021-12-31T00:10:10.235Z"
   },
   {
    "duration": 8,
    "start_time": "2021-12-31T00:12:36.010Z"
   },
   {
    "duration": 8,
    "start_time": "2021-12-31T00:12:51.741Z"
   },
   {
    "duration": 8,
    "start_time": "2021-12-31T00:12:55.426Z"
   },
   {
    "duration": 31,
    "start_time": "2021-12-31T00:13:03.738Z"
   },
   {
    "duration": 31,
    "start_time": "2021-12-31T00:13:27.266Z"
   },
   {
    "duration": 9,
    "start_time": "2021-12-31T00:13:39.685Z"
   },
   {
    "duration": 10,
    "start_time": "2021-12-31T00:13:46.133Z"
   },
   {
    "duration": 10,
    "start_time": "2021-12-31T00:13:55.172Z"
   },
   {
    "duration": 12,
    "start_time": "2021-12-31T00:15:45.247Z"
   },
   {
    "duration": 31,
    "start_time": "2021-12-31T00:31:19.647Z"
   },
   {
    "duration": 19,
    "start_time": "2021-12-31T00:31:58.556Z"
   },
   {
    "duration": 10,
    "start_time": "2021-12-31T00:32:47.272Z"
   },
   {
    "duration": 11,
    "start_time": "2021-12-31T00:32:58.813Z"
   },
   {
    "duration": 11,
    "start_time": "2021-12-31T00:36:17.859Z"
   },
   {
    "duration": 11,
    "start_time": "2021-12-31T00:40:52.701Z"
   },
   {
    "duration": 10,
    "start_time": "2021-12-31T00:41:04.732Z"
   },
   {
    "duration": 12,
    "start_time": "2021-12-31T00:42:03.835Z"
   },
   {
    "duration": 306,
    "start_time": "2021-12-31T01:24:28.475Z"
   },
   {
    "duration": 2,
    "start_time": "2021-12-31T01:24:42.535Z"
   },
   {
    "duration": 348,
    "start_time": "2021-12-31T01:24:42.552Z"
   },
   {
    "duration": 296,
    "start_time": "2021-12-31T01:24:45.329Z"
   },
   {
    "duration": 314,
    "start_time": "2021-12-31T01:26:01.414Z"
   },
   {
    "duration": 1044,
    "start_time": "2021-12-31T01:26:05.813Z"
   },
   {
    "duration": 354,
    "start_time": "2021-12-31T01:26:06.858Z"
   },
   {
    "duration": 341,
    "start_time": "2021-12-31T01:26:09.927Z"
   },
   {
    "duration": 325,
    "start_time": "2021-12-31T01:26:28.999Z"
   },
   {
    "duration": 1088,
    "start_time": "2021-12-31T01:26:34.031Z"
   },
   {
    "duration": 358,
    "start_time": "2021-12-31T01:26:35.121Z"
   },
   {
    "duration": 354,
    "start_time": "2021-12-31T01:26:37.748Z"
   },
   {
    "duration": 367,
    "start_time": "2021-12-31T18:22:56.184Z"
   },
   {
    "duration": 1448,
    "start_time": "2021-12-31T18:23:00.914Z"
   },
   {
    "duration": 549,
    "start_time": "2021-12-31T18:23:02.365Z"
   },
   {
    "duration": 81,
    "start_time": "2021-12-31T18:23:04.994Z"
   },
   {
    "duration": 423,
    "start_time": "2021-12-31T18:24:04.653Z"
   },
   {
    "duration": 414,
    "start_time": "2021-12-31T18:24:24.086Z"
   },
   {
    "duration": 437,
    "start_time": "2021-12-31T18:26:08.968Z"
   },
   {
    "duration": 525,
    "start_time": "2021-12-31T18:26:46.656Z"
   },
   {
    "duration": 7,
    "start_time": "2021-12-31T18:29:08.860Z"
   },
   {
    "duration": 7575,
    "start_time": "2021-12-31T18:30:28.886Z"
   },
   {
    "duration": 7315,
    "start_time": "2021-12-31T18:33:16.951Z"
   },
   {
    "duration": 4,
    "start_time": "2021-12-31T18:33:29.375Z"
   },
   {
    "duration": 579,
    "start_time": "2021-12-31T18:33:29.423Z"
   },
   {
    "duration": 420,
    "start_time": "2021-12-31T18:33:30.004Z"
   },
   {
    "duration": 101,
    "start_time": "2021-12-31T18:34:06.158Z"
   },
   {
    "duration": 7787,
    "start_time": "2021-12-31T18:34:16.802Z"
   },
   {
    "duration": 4,
    "start_time": "2021-12-31T18:34:28.476Z"
   },
   {
    "duration": 556,
    "start_time": "2021-12-31T18:34:29.144Z"
   },
   {
    "duration": 416,
    "start_time": "2021-12-31T18:34:29.703Z"
   },
   {
    "duration": 110,
    "start_time": "2021-12-31T18:34:30.879Z"
   },
   {
    "duration": -1245,
    "start_time": "2021-12-31T18:35:42.176Z"
   },
   {
    "duration": -1269,
    "start_time": "2021-12-31T18:35:42.201Z"
   },
   {
    "duration": -1285,
    "start_time": "2021-12-31T18:35:42.219Z"
   },
   {
    "duration": -1294,
    "start_time": "2021-12-31T18:35:42.229Z"
   },
   {
    "duration": 7907,
    "start_time": "2021-12-31T18:35:55.085Z"
   },
   {
    "duration": -1194,
    "start_time": "2021-12-31T18:36:04.189Z"
   },
   {
    "duration": -1220,
    "start_time": "2021-12-31T18:36:04.216Z"
   },
   {
    "duration": -1241,
    "start_time": "2021-12-31T18:36:04.239Z"
   },
   {
    "duration": 7355,
    "start_time": "2021-12-31T18:36:03.930Z"
   },
   {
    "duration": 3,
    "start_time": "2021-12-31T18:36:22.470Z"
   },
   {
    "duration": 526,
    "start_time": "2021-12-31T18:36:22.479Z"
   },
   {
    "duration": 393,
    "start_time": "2021-12-31T18:36:23.007Z"
   },
   {
    "duration": 1393,
    "start_time": "2021-12-31T18:36:23.403Z"
   },
   {
    "duration": 8752,
    "start_time": "2021-12-31T18:36:29.558Z"
   },
   {
    "duration": 4,
    "start_time": "2021-12-31T18:37:07.456Z"
   },
   {
    "duration": 509,
    "start_time": "2021-12-31T18:37:07.468Z"
   },
   {
    "duration": 417,
    "start_time": "2021-12-31T18:37:07.979Z"
   },
   {
    "duration": 99,
    "start_time": "2021-12-31T18:37:12.616Z"
   },
   {
    "duration": 4,
    "start_time": "2021-12-31T18:37:41.932Z"
   },
   {
    "duration": 539,
    "start_time": "2021-12-31T18:37:41.938Z"
   },
   {
    "duration": 415,
    "start_time": "2021-12-31T18:37:42.480Z"
   },
   {
    "duration": 1402,
    "start_time": "2021-12-31T18:38:04.430Z"
   },
   {
    "duration": 7420,
    "start_time": "2021-12-31T18:38:27.837Z"
   },
   {
    "duration": -1408,
    "start_time": "2021-12-31T18:38:36.667Z"
   },
   {
    "duration": -1528,
    "start_time": "2021-12-31T18:38:36.789Z"
   },
   {
    "duration": -1574,
    "start_time": "2021-12-31T18:38:36.836Z"
   },
   {
    "duration": 7475,
    "start_time": "2021-12-31T18:38:40.294Z"
   },
   {
    "duration": 4,
    "start_time": "2021-12-31T18:39:02.608Z"
   },
   {
    "duration": 540,
    "start_time": "2021-12-31T18:39:02.619Z"
   },
   {
    "duration": 446,
    "start_time": "2021-12-31T18:39:03.161Z"
   },
   {
    "duration": 1384,
    "start_time": "2021-12-31T18:39:11.535Z"
   },
   {
    "duration": 4,
    "start_time": "2021-12-31T18:40:05.750Z"
   },
   {
    "duration": 2000,
    "start_time": "2021-12-31T18:40:05.756Z"
   },
   {
    "duration": 391,
    "start_time": "2021-12-31T18:40:07.759Z"
   },
   {
    "duration": 1865,
    "start_time": "2021-12-31T18:40:15.286Z"
   },
   {
    "duration": 7863,
    "start_time": "2021-12-31T18:40:52.462Z"
   },
   {
    "duration": -1314,
    "start_time": "2021-12-31T18:41:01.644Z"
   },
   {
    "duration": -1334,
    "start_time": "2021-12-31T18:41:01.666Z"
   },
   {
    "duration": -1351,
    "start_time": "2021-12-31T18:41:01.685Z"
   },
   {
    "duration": 7166,
    "start_time": "2021-12-31T18:41:06.110Z"
   },
   {
    "duration": 3,
    "start_time": "2021-12-31T18:41:24.448Z"
   },
   {
    "duration": 551,
    "start_time": "2021-12-31T18:41:24.454Z"
   },
   {
    "duration": 391,
    "start_time": "2021-12-31T18:41:25.008Z"
   },
   {
    "duration": 4,
    "start_time": "2021-12-31T18:42:02.688Z"
   },
   {
    "duration": 526,
    "start_time": "2021-12-31T18:42:02.708Z"
   },
   {
    "duration": 414,
    "start_time": "2021-12-31T18:42:03.236Z"
   },
   {
    "duration": 14,
    "start_time": "2021-12-31T18:42:03.653Z"
   },
   {
    "duration": 1677,
    "start_time": "2021-12-31T18:42:18.256Z"
   },
   {
    "duration": 101,
    "start_time": "2021-12-31T18:42:54.815Z"
   },
   {
    "duration": 108,
    "start_time": "2021-12-31T18:43:18.980Z"
   },
   {
    "duration": 94,
    "start_time": "2021-12-31T18:43:48.338Z"
   },
   {
    "duration": 1369,
    "start_time": "2021-12-31T18:44:12.635Z"
   },
   {
    "duration": 1884,
    "start_time": "2021-12-31T18:47:04.334Z"
   },
   {
    "duration": 560,
    "start_time": "2021-12-31T18:47:06.220Z"
   },
   {
    "duration": 435,
    "start_time": "2021-12-31T18:47:06.783Z"
   },
   {
    "duration": 6,
    "start_time": "2021-12-31T18:47:07.221Z"
   },
   {
    "duration": 1121,
    "start_time": "2021-12-31T18:48:08.416Z"
   },
   {
    "duration": 53586,
    "start_time": "2021-12-31T18:50:33.942Z"
   },
   {
    "duration": 40,
    "start_time": "2021-12-31T18:52:15.530Z"
   },
   {
    "duration": 107,
    "start_time": "2021-12-31T18:54:54.326Z"
   },
   {
    "duration": 526,
    "start_time": "2021-12-31T18:58:02.703Z"
   },
   {
    "duration": 229,
    "start_time": "2021-12-31T18:58:30.582Z"
   },
   {
    "duration": 311,
    "start_time": "2021-12-31T18:58:44.774Z"
   },
   {
    "duration": 4,
    "start_time": "2021-12-31T18:59:01.889Z"
   },
   {
    "duration": 531,
    "start_time": "2021-12-31T18:59:01.901Z"
   },
   {
    "duration": 411,
    "start_time": "2021-12-31T18:59:02.435Z"
   },
   {
    "duration": 5,
    "start_time": "2021-12-31T18:59:02.849Z"
   },
   {
    "duration": 3,
    "start_time": "2021-12-31T19:02:54.275Z"
   },
   {
    "duration": 535,
    "start_time": "2021-12-31T19:02:54.281Z"
   },
   {
    "duration": 393,
    "start_time": "2021-12-31T19:02:54.818Z"
   },
   {
    "duration": 5,
    "start_time": "2021-12-31T19:02:55.213Z"
   },
   {
    "duration": 376,
    "start_time": "2021-12-31T19:04:11.337Z"
   },
   {
    "duration": 1462,
    "start_time": "2021-12-31T19:04:14.908Z"
   },
   {
    "duration": 561,
    "start_time": "2021-12-31T19:04:16.372Z"
   },
   {
    "duration": 431,
    "start_time": "2021-12-31T19:04:16.937Z"
   },
   {
    "duration": 5,
    "start_time": "2021-12-31T19:04:17.371Z"
   },
   {
    "duration": 75363,
    "start_time": "2021-12-31T19:04:17.380Z"
   },
   {
    "duration": 45,
    "start_time": "2021-12-31T19:05:32.746Z"
   },
   {
    "duration": 340,
    "start_time": "2021-12-31T19:05:32.911Z"
   },
   {
    "duration": 3,
    "start_time": "2021-12-31T19:06:26.494Z"
   },
   {
    "duration": 486,
    "start_time": "2021-12-31T19:06:26.506Z"
   },
   {
    "duration": 411,
    "start_time": "2021-12-31T19:06:26.995Z"
   },
   {
    "duration": 6,
    "start_time": "2021-12-31T19:06:27.409Z"
   },
   {
    "duration": 77003,
    "start_time": "2021-12-31T19:06:27.418Z"
   },
   {
    "duration": 47,
    "start_time": "2021-12-31T19:07:44.424Z"
   },
   {
    "duration": 17,
    "start_time": "2021-12-31T19:07:44.474Z"
   },
   {
    "duration": 1506,
    "start_time": "2021-12-31T19:08:00.149Z"
   },
   {
    "duration": 549,
    "start_time": "2021-12-31T19:08:01.658Z"
   },
   {
    "duration": 435,
    "start_time": "2021-12-31T19:08:02.210Z"
   },
   {
    "duration": 18,
    "start_time": "2021-12-31T19:08:02.649Z"
   },
   {
    "duration": 75695,
    "start_time": "2021-12-31T19:08:02.670Z"
   },
   {
    "duration": 37,
    "start_time": "2021-12-31T19:09:18.368Z"
   },
   {
    "duration": 386,
    "start_time": "2021-12-31T19:09:18.408Z"
   },
   {
    "duration": -1291,
    "start_time": "2021-12-31T19:09:20.087Z"
   },
   {
    "duration": 3,
    "start_time": "2021-12-31T19:09:34.065Z"
   },
   {
    "duration": 546,
    "start_time": "2021-12-31T19:09:34.078Z"
   },
   {
    "duration": 416,
    "start_time": "2021-12-31T19:09:34.626Z"
   },
   {
    "duration": 6,
    "start_time": "2021-12-31T19:09:35.045Z"
   },
   {
    "duration": 76128,
    "start_time": "2021-12-31T19:09:35.053Z"
   },
   {
    "duration": 33,
    "start_time": "2021-12-31T19:10:51.184Z"
   },
   {
    "duration": 174,
    "start_time": "2021-12-31T19:10:51.220Z"
   },
   {
    "duration": 39,
    "start_time": "2021-12-31T19:10:51.396Z"
   },
   {
    "duration": 4,
    "start_time": "2021-12-31T19:10:54.219Z"
   },
   {
    "duration": 515,
    "start_time": "2021-12-31T19:10:56.590Z"
   },
   {
    "duration": 397,
    "start_time": "2021-12-31T19:10:57.906Z"
   },
   {
    "duration": 7,
    "start_time": "2021-12-31T19:11:01.403Z"
   },
   {
    "duration": 76403,
    "start_time": "2021-12-31T19:11:02.879Z"
   },
   {
    "duration": 33,
    "start_time": "2021-12-31T19:12:19.285Z"
   },
   {
    "duration": 157,
    "start_time": "2021-12-31T19:12:19.320Z"
   },
   {
    "duration": 37,
    "start_time": "2021-12-31T19:12:19.480Z"
   },
   {
    "duration": 4,
    "start_time": "2021-12-31T19:17:53.044Z"
   },
   {
    "duration": 581,
    "start_time": "2021-12-31T19:17:53.051Z"
   },
   {
    "duration": 420,
    "start_time": "2021-12-31T19:17:53.636Z"
   },
   {
    "duration": 12,
    "start_time": "2021-12-31T19:17:54.059Z"
   },
   {
    "duration": 86714,
    "start_time": "2021-12-31T19:17:54.074Z"
   },
   {
    "duration": 82,
    "start_time": "2021-12-31T19:19:20.791Z"
   },
   {
    "duration": 152,
    "start_time": "2021-12-31T19:19:20.875Z"
   },
   {
    "duration": 70,
    "start_time": "2021-12-31T19:19:21.030Z"
   },
   {
    "duration": 226,
    "start_time": "2021-12-31T19:30:47.288Z"
   },
   {
    "duration": 124,
    "start_time": "2021-12-31T19:31:09.744Z"
   },
   {
    "duration": 147,
    "start_time": "2021-12-31T19:31:14.149Z"
   },
   {
    "duration": 156,
    "start_time": "2021-12-31T19:32:21.570Z"
   },
   {
    "duration": 592,
    "start_time": "2021-12-31T19:33:31.506Z"
   },
   {
    "duration": 504,
    "start_time": "2021-12-31T19:37:00.636Z"
   },
   {
    "duration": 8418,
    "start_time": "2021-12-31T19:37:30.059Z"
   },
   {
    "duration": 112,
    "start_time": "2021-12-31T19:37:58.041Z"
   },
   {
    "duration": 39,
    "start_time": "2021-12-31T19:38:30.222Z"
   },
   {
    "duration": 159,
    "start_time": "2021-12-31T19:45:43.383Z"
   },
   {
    "duration": 10,
    "start_time": "2021-12-31T19:46:21.521Z"
   },
   {
    "duration": 45,
    "start_time": "2021-12-31T19:46:27.554Z"
   },
   {
    "duration": 318,
    "start_time": "2021-12-31T19:46:43.463Z"
   },
   {
    "duration": 44,
    "start_time": "2021-12-31T19:48:37.100Z"
   },
   {
    "duration": 72,
    "start_time": "2021-12-31T19:49:36.620Z"
   },
   {
    "duration": 4,
    "start_time": "2021-12-31T19:53:16.111Z"
   },
   {
    "duration": 480,
    "start_time": "2021-12-31T19:53:16.125Z"
   },
   {
    "duration": 380,
    "start_time": "2021-12-31T19:53:16.607Z"
   },
   {
    "duration": 5,
    "start_time": "2021-12-31T19:53:16.990Z"
   },
   {
    "duration": 76556,
    "start_time": "2021-12-31T19:53:16.998Z"
   },
   {
    "duration": 37,
    "start_time": "2021-12-31T19:54:33.556Z"
   },
   {
    "duration": 155,
    "start_time": "2021-12-31T19:54:33.596Z"
   },
   {
    "duration": 48,
    "start_time": "2021-12-31T19:54:33.753Z"
   },
   {
    "duration": 441,
    "start_time": "2021-12-31T19:54:33.804Z"
   },
   {
    "duration": -1117,
    "start_time": "2021-12-31T19:54:35.364Z"
   },
   {
    "duration": -1134,
    "start_time": "2021-12-31T19:54:35.383Z"
   },
   {
    "duration": -1141,
    "start_time": "2021-12-31T19:54:35.391Z"
   },
   {
    "duration": -1149,
    "start_time": "2021-12-31T19:54:35.400Z"
   },
   {
    "duration": -1155,
    "start_time": "2021-12-31T19:54:35.408Z"
   },
   {
    "duration": -1171,
    "start_time": "2021-12-31T19:54:35.425Z"
   },
   {
    "duration": 347,
    "start_time": "2021-12-31T19:55:24.942Z"
   },
   {
    "duration": 4,
    "start_time": "2021-12-31T19:57:25.099Z"
   },
   {
    "duration": 510,
    "start_time": "2021-12-31T19:57:25.118Z"
   },
   {
    "duration": 398,
    "start_time": "2021-12-31T19:57:25.631Z"
   },
   {
    "duration": 6,
    "start_time": "2021-12-31T19:57:26.032Z"
   },
   {
    "duration": 34,
    "start_time": "2021-12-31T19:57:45.834Z"
   },
   {
    "duration": 140,
    "start_time": "2021-12-31T19:58:10.965Z"
   },
   {
    "duration": 35,
    "start_time": "2021-12-31T19:58:14.822Z"
   },
   {
    "duration": 1515,
    "start_time": "2021-12-31T20:00:09.521Z"
   },
   {
    "duration": 535,
    "start_time": "2021-12-31T20:00:11.039Z"
   },
   {
    "duration": 429,
    "start_time": "2021-12-31T20:00:11.577Z"
   },
   {
    "duration": 5,
    "start_time": "2021-12-31T20:00:12.009Z"
   },
   {
    "duration": 74241,
    "start_time": "2021-12-31T20:00:12.017Z"
   },
   {
    "duration": 44,
    "start_time": "2021-12-31T20:01:26.261Z"
   },
   {
    "duration": 307,
    "start_time": "2021-12-31T20:01:26.308Z"
   },
   {
    "duration": 53,
    "start_time": "2021-12-31T20:01:26.620Z"
   },
   {
    "duration": 587,
    "start_time": "2021-12-31T20:01:26.677Z"
   },
   {
    "duration": -1292,
    "start_time": "2021-12-31T20:01:28.560Z"
   },
   {
    "duration": -1322,
    "start_time": "2021-12-31T20:01:28.591Z"
   },
   {
    "duration": -1339,
    "start_time": "2021-12-31T20:01:28.609Z"
   },
   {
    "duration": -1396,
    "start_time": "2021-12-31T20:01:28.668Z"
   },
   {
    "duration": -1415,
    "start_time": "2021-12-31T20:01:28.688Z"
   },
   {
    "duration": -1425,
    "start_time": "2021-12-31T20:01:28.700Z"
   },
   {
    "duration": -1438,
    "start_time": "2021-12-31T20:01:28.714Z"
   },
   {
    "duration": -1446,
    "start_time": "2021-12-31T20:01:28.724Z"
   },
   {
    "duration": -1457,
    "start_time": "2021-12-31T20:01:28.736Z"
   },
   {
    "duration": -1465,
    "start_time": "2021-12-31T20:01:28.745Z"
   },
   {
    "duration": -1477,
    "start_time": "2021-12-31T20:01:28.758Z"
   },
   {
    "duration": -1516,
    "start_time": "2021-12-31T20:01:28.799Z"
   },
   {
    "duration": -1538,
    "start_time": "2021-12-31T20:01:28.822Z"
   },
   {
    "duration": -1571,
    "start_time": "2021-12-31T20:01:28.856Z"
   },
   {
    "duration": -1590,
    "start_time": "2021-12-31T20:01:28.876Z"
   },
   {
    "duration": -1600,
    "start_time": "2021-12-31T20:01:28.888Z"
   },
   {
    "duration": -1674,
    "start_time": "2021-12-31T20:01:28.964Z"
   },
   {
    "duration": -1803,
    "start_time": "2021-12-31T20:01:29.106Z"
   },
   {
    "duration": -1825,
    "start_time": "2021-12-31T20:01:29.129Z"
   },
   {
    "duration": -1836,
    "start_time": "2021-12-31T20:01:29.142Z"
   },
   {
    "duration": 4,
    "start_time": "2021-12-31T20:01:35.756Z"
   },
   {
    "duration": 506,
    "start_time": "2021-12-31T20:01:36.527Z"
   },
   {
    "duration": 413,
    "start_time": "2021-12-31T20:01:37.455Z"
   },
   {
    "duration": 6,
    "start_time": "2021-12-31T20:01:40.899Z"
   },
   {
    "duration": 75280,
    "start_time": "2021-12-31T20:01:42.264Z"
   },
   {
    "duration": 44,
    "start_time": "2021-12-31T20:02:57.547Z"
   },
   {
    "duration": 157,
    "start_time": "2021-12-31T20:02:57.594Z"
   },
   {
    "duration": 54,
    "start_time": "2021-12-31T20:02:57.753Z"
   },
   {
    "duration": 4,
    "start_time": "2021-12-31T20:02:57.809Z"
   },
   {
    "duration": 548,
    "start_time": "2021-12-31T20:02:57.816Z"
   },
   {
    "duration": 400,
    "start_time": "2021-12-31T20:02:58.367Z"
   },
   {
    "duration": 6,
    "start_time": "2021-12-31T20:02:58.769Z"
   },
   {
    "duration": 75408,
    "start_time": "2021-12-31T20:03:25.917Z"
   },
   {
    "duration": 82,
    "start_time": "2021-12-31T20:04:41.328Z"
   },
   {
    "duration": 37,
    "start_time": "2021-12-31T20:04:41.412Z"
   },
   {
    "duration": 146,
    "start_time": "2021-12-31T20:04:51.789Z"
   },
   {
    "duration": 41,
    "start_time": "2021-12-31T20:04:58.282Z"
   },
   {
    "duration": 416,
    "start_time": "2021-12-31T20:06:17.531Z"
   },
   {
    "duration": 8507,
    "start_time": "2021-12-31T20:06:39.182Z"
   },
   {
    "duration": 3,
    "start_time": "2021-12-31T20:07:01.305Z"
   },
   {
    "duration": 543,
    "start_time": "2021-12-31T20:07:01.311Z"
   },
   {
    "duration": 442,
    "start_time": "2021-12-31T20:07:01.857Z"
   },
   {
    "duration": 7,
    "start_time": "2021-12-31T20:07:02.302Z"
   },
   {
    "duration": 74163,
    "start_time": "2021-12-31T20:07:02.311Z"
   },
   {
    "duration": 90,
    "start_time": "2021-12-31T20:08:16.477Z"
   },
   {
    "duration": 38,
    "start_time": "2021-12-31T20:08:16.569Z"
   },
   {
    "duration": 156,
    "start_time": "2021-12-31T20:08:16.611Z"
   },
   {
    "duration": 7843,
    "start_time": "2021-12-31T20:08:16.769Z"
   },
   {
    "duration": 4,
    "start_time": "2021-12-31T20:09:13.444Z"
   },
   {
    "duration": 505,
    "start_time": "2021-12-31T20:09:15.594Z"
   },
   {
    "duration": 403,
    "start_time": "2021-12-31T20:09:20.510Z"
   },
   {
    "duration": 8,
    "start_time": "2021-12-31T20:09:28.728Z"
   },
   {
    "duration": 75485,
    "start_time": "2021-12-31T20:09:30.979Z"
   },
   {
    "duration": 74,
    "start_time": "2021-12-31T20:10:46.467Z"
   },
   {
    "duration": 51,
    "start_time": "2021-12-31T20:10:46.544Z"
   },
   {
    "duration": 73,
    "start_time": "2021-12-31T20:11:26.593Z"
   },
   {
    "duration": 48,
    "start_time": "2021-12-31T20:11:31.594Z"
   },
   {
    "duration": 3,
    "start_time": "2021-12-31T20:11:53.912Z"
   },
   {
    "duration": 472,
    "start_time": "2021-12-31T20:11:53.922Z"
   },
   {
    "duration": 403,
    "start_time": "2021-12-31T20:11:54.397Z"
   },
   {
    "duration": 6,
    "start_time": "2021-12-31T20:11:54.803Z"
   },
   {
    "duration": 74429,
    "start_time": "2021-12-31T20:11:54.811Z"
   },
   {
    "duration": 81,
    "start_time": "2021-12-31T20:13:09.243Z"
   },
   {
    "duration": 45,
    "start_time": "2021-12-31T20:13:09.376Z"
   },
   {
    "duration": 4,
    "start_time": "2021-12-31T20:13:23.406Z"
   },
   {
    "duration": 484,
    "start_time": "2021-12-31T20:13:23.416Z"
   },
   {
    "duration": 392,
    "start_time": "2021-12-31T20:13:23.902Z"
   },
   {
    "duration": 6,
    "start_time": "2021-12-31T20:13:24.297Z"
   },
   {
    "duration": 1504,
    "start_time": "2021-12-31T20:14:36.753Z"
   },
   {
    "duration": 537,
    "start_time": "2021-12-31T20:14:38.260Z"
   },
   {
    "duration": 425,
    "start_time": "2021-12-31T20:14:38.800Z"
   },
   {
    "duration": 6,
    "start_time": "2021-12-31T20:14:39.228Z"
   },
   {
    "duration": 75788,
    "start_time": "2021-12-31T20:14:39.236Z"
   },
   {
    "duration": 87,
    "start_time": "2021-12-31T20:15:55.027Z"
   },
   {
    "duration": 38,
    "start_time": "2021-12-31T20:15:55.116Z"
   },
   {
    "duration": 205,
    "start_time": "2021-12-31T20:15:55.169Z"
   },
   {
    "duration": 7,
    "start_time": "2021-12-31T20:15:55.378Z"
   },
   {
    "duration": 310,
    "start_time": "2021-12-31T20:15:55.388Z"
   },
   {
    "duration": 542,
    "start_time": "2021-12-31T20:15:55.701Z"
   },
   {
    "duration": 138,
    "start_time": "2021-12-31T20:15:56.245Z"
   },
   {
    "duration": 36,
    "start_time": "2021-12-31T20:15:56.386Z"
   },
   {
    "duration": 190,
    "start_time": "2021-12-31T20:15:56.424Z"
   },
   {
    "duration": 59,
    "start_time": "2021-12-31T20:15:56.616Z"
   },
   {
    "duration": 89,
    "start_time": "2021-12-31T20:15:56.678Z"
   },
   {
    "duration": 8857,
    "start_time": "2021-12-31T20:15:56.769Z"
   },
   {
    "duration": -1215,
    "start_time": "2021-12-31T20:16:06.843Z"
   },
   {
    "duration": -1240,
    "start_time": "2021-12-31T20:16:06.870Z"
   },
   {
    "duration": -1255,
    "start_time": "2021-12-31T20:16:06.887Z"
   },
   {
    "duration": -1266,
    "start_time": "2021-12-31T20:16:06.899Z"
   },
   {
    "duration": -1275,
    "start_time": "2021-12-31T20:16:06.910Z"
   },
   {
    "duration": -1321,
    "start_time": "2021-12-31T20:16:06.957Z"
   },
   {
    "duration": -1337,
    "start_time": "2021-12-31T20:16:06.975Z"
   },
   {
    "duration": -1350,
    "start_time": "2021-12-31T20:16:06.989Z"
   },
   {
    "duration": -1363,
    "start_time": "2021-12-31T20:16:07.004Z"
   },
   {
    "duration": -1374,
    "start_time": "2021-12-31T20:16:07.016Z"
   },
   {
    "duration": 40,
    "start_time": "2021-12-31T20:16:18.461Z"
   },
   {
    "duration": 117,
    "start_time": "2021-12-31T20:20:54.859Z"
   },
   {
    "duration": 104,
    "start_time": "2021-12-31T20:21:52.440Z"
   },
   {
    "duration": 69,
    "start_time": "2021-12-31T20:22:18.563Z"
   },
   {
    "duration": 102,
    "start_time": "2021-12-31T20:24:32.604Z"
   },
   {
    "duration": 7489,
    "start_time": "2021-12-31T20:26:20.023Z"
   },
   {
    "duration": 81,
    "start_time": "2021-12-31T20:26:44.491Z"
   },
   {
    "duration": 101,
    "start_time": "2021-12-31T20:26:54.874Z"
   },
   {
    "duration": 69,
    "start_time": "2021-12-31T20:27:40.371Z"
   },
   {
    "duration": 51,
    "start_time": "2021-12-31T20:28:36.565Z"
   },
   {
    "duration": 76,
    "start_time": "2021-12-31T20:28:48.690Z"
   },
   {
    "duration": 34,
    "start_time": "2021-12-31T20:29:31.100Z"
   },
   {
    "duration": 32,
    "start_time": "2021-12-31T20:30:11.457Z"
   },
   {
    "duration": 38,
    "start_time": "2021-12-31T20:31:14.895Z"
   },
   {
    "duration": 225,
    "start_time": "2021-12-31T20:33:15.704Z"
   },
   {
    "duration": 1032,
    "start_time": "2021-12-31T20:33:21.866Z"
   },
   {
    "duration": 118,
    "start_time": "2021-12-31T20:33:34.854Z"
   },
   {
    "duration": 39,
    "start_time": "2021-12-31T20:33:44.115Z"
   },
   {
    "duration": 139,
    "start_time": "2021-12-31T20:34:13.197Z"
   },
   {
    "duration": 51,
    "start_time": "2021-12-31T20:34:22.552Z"
   },
   {
    "duration": 50,
    "start_time": "2021-12-31T20:34:29.276Z"
   },
   {
    "duration": 41,
    "start_time": "2021-12-31T20:34:45.897Z"
   },
   {
    "duration": 154,
    "start_time": "2021-12-31T20:36:42.989Z"
   },
   {
    "duration": 655,
    "start_time": "2021-12-31T20:36:43.147Z"
   },
   {
    "duration": 130,
    "start_time": "2021-12-31T20:36:43.806Z"
   },
   {
    "duration": 55,
    "start_time": "2021-12-31T20:36:43.939Z"
   },
   {
    "duration": 212,
    "start_time": "2021-12-31T20:36:43.997Z"
   },
   {
    "duration": 63,
    "start_time": "2021-12-31T20:36:44.212Z"
   },
   {
    "duration": 35,
    "start_time": "2021-12-31T20:36:44.279Z"
   },
   {
    "duration": 560,
    "start_time": "2021-12-31T20:36:44.319Z"
   },
   {
    "duration": 596,
    "start_time": "2021-12-31T20:36:44.882Z"
   },
   {
    "duration": 529,
    "start_time": "2021-12-31T20:36:45.480Z"
   },
   {
    "duration": 1114,
    "start_time": "2021-12-31T20:36:46.012Z"
   },
   {
    "duration": 618,
    "start_time": "2021-12-31T20:36:47.129Z"
   },
   {
    "duration": 552,
    "start_time": "2021-12-31T20:36:47.750Z"
   },
   {
    "duration": 9,
    "start_time": "2021-12-31T20:36:48.305Z"
   },
   {
    "duration": 7973,
    "start_time": "2021-12-31T20:36:48.316Z"
   },
   {
    "duration": -1098,
    "start_time": "2021-12-31T20:36:57.391Z"
   },
   {
    "duration": -1108,
    "start_time": "2021-12-31T20:36:57.403Z"
   },
   {
    "duration": -1124,
    "start_time": "2021-12-31T20:36:57.421Z"
   },
   {
    "duration": 34,
    "start_time": "2021-12-31T20:37:27.964Z"
   },
   {
    "duration": 43,
    "start_time": "2021-12-31T20:37:39.041Z"
   },
   {
    "duration": 34,
    "start_time": "2021-12-31T20:39:29.873Z"
   },
   {
    "duration": 29,
    "start_time": "2021-12-31T20:39:50.233Z"
   },
   {
    "duration": 47,
    "start_time": "2021-12-31T20:40:15.359Z"
   },
   {
    "duration": 51,
    "start_time": "2021-12-31T20:40:34.530Z"
   },
   {
    "duration": 48,
    "start_time": "2021-12-31T20:40:59.356Z"
   },
   {
    "duration": 62,
    "start_time": "2021-12-31T20:41:06.479Z"
   },
   {
    "duration": 66,
    "start_time": "2021-12-31T20:41:10.667Z"
   },
   {
    "duration": 66,
    "start_time": "2021-12-31T20:41:49.639Z"
   },
   {
    "duration": 94,
    "start_time": "2021-12-31T20:41:52.886Z"
   },
   {
    "duration": 319,
    "start_time": "2022-01-01T12:04:32.282Z"
   },
   {
    "duration": 1072,
    "start_time": "2022-01-01T12:04:44.707Z"
   },
   {
    "duration": 372,
    "start_time": "2022-01-01T12:04:45.780Z"
   },
   {
    "duration": 250,
    "start_time": "2022-01-01T12:04:46.154Z"
   },
   {
    "duration": 3,
    "start_time": "2022-01-01T12:04:46.406Z"
   },
   {
    "duration": 34339,
    "start_time": "2022-01-01T12:04:46.411Z"
   },
   {
    "duration": 43,
    "start_time": "2022-01-01T12:05:20.752Z"
   },
   {
    "duration": 20,
    "start_time": "2022-01-01T12:05:20.796Z"
   },
   {
    "duration": 111,
    "start_time": "2022-01-01T12:05:20.827Z"
   },
   {
    "duration": 20,
    "start_time": "2022-01-01T12:05:20.939Z"
   },
   {
    "duration": 146,
    "start_time": "2022-01-01T12:05:20.961Z"
   },
   {
    "duration": 238,
    "start_time": "2022-01-01T12:05:21.108Z"
   },
   {
    "duration": 72,
    "start_time": "2022-01-01T12:05:21.347Z"
   },
   {
    "duration": 23,
    "start_time": "2022-01-01T12:05:21.420Z"
   },
   {
    "duration": 103,
    "start_time": "2022-01-01T12:05:21.445Z"
   },
   {
    "duration": 24,
    "start_time": "2022-01-01T12:05:21.550Z"
   },
   {
    "duration": 29,
    "start_time": "2022-01-01T12:05:21.575Z"
   },
   {
    "duration": 15,
    "start_time": "2022-01-01T12:06:02.627Z"
   },
   {
    "duration": 10,
    "start_time": "2022-01-01T12:07:14.623Z"
   },
   {
    "duration": 101,
    "start_time": "2022-01-01T12:07:55.379Z"
   },
   {
    "duration": 2,
    "start_time": "2022-01-01T12:11:28.798Z"
   },
   {
    "duration": 346,
    "start_time": "2022-01-01T12:11:28.802Z"
   },
   {
    "duration": 212,
    "start_time": "2022-01-01T12:11:29.149Z"
   },
   {
    "duration": 4,
    "start_time": "2022-01-01T12:11:29.363Z"
   },
   {
    "duration": 34571,
    "start_time": "2022-01-01T12:11:29.368Z"
   },
   {
    "duration": 44,
    "start_time": "2022-01-01T12:12:03.940Z"
   },
   {
    "duration": 8,
    "start_time": "2022-01-01T12:12:03.985Z"
   },
   {
    "duration": 24,
    "start_time": "2022-01-01T12:12:17.252Z"
   },
   {
    "duration": 14,
    "start_time": "2022-01-01T12:12:38.437Z"
   },
   {
    "duration": 10,
    "start_time": "2022-01-01T12:12:49.667Z"
   },
   {
    "duration": 13,
    "start_time": "2022-01-01T12:13:00.045Z"
   },
   {
    "duration": 26,
    "start_time": "2022-01-01T12:14:11.963Z"
   },
   {
    "duration": 24,
    "start_time": "2022-01-01T12:14:32.717Z"
   },
   {
    "duration": 340,
    "start_time": "2022-01-01T12:15:22.582Z"
   },
   {
    "duration": 292,
    "start_time": "2022-01-01T12:15:33.403Z"
   },
   {
    "duration": 108,
    "start_time": "2022-01-01T12:15:47.686Z"
   },
   {
    "duration": 203,
    "start_time": "2022-01-01T12:15:49.767Z"
   },
   {
    "duration": 3,
    "start_time": "2022-01-01T12:15:57.085Z"
   },
   {
    "duration": 332,
    "start_time": "2022-01-01T12:15:57.095Z"
   },
   {
    "duration": 220,
    "start_time": "2022-01-01T12:15:57.429Z"
   },
   {
    "duration": 4,
    "start_time": "2022-01-01T12:15:57.652Z"
   },
   {
    "duration": 34331,
    "start_time": "2022-01-01T12:15:57.658Z"
   },
   {
    "duration": 52,
    "start_time": "2022-01-01T12:16:31.991Z"
   },
   {
    "duration": 18,
    "start_time": "2022-01-01T12:16:32.044Z"
   },
   {
    "duration": 83,
    "start_time": "2022-01-01T12:16:32.063Z"
   },
   {
    "duration": 164,
    "start_time": "2022-01-01T12:16:39.507Z"
   },
   {
    "duration": 3,
    "start_time": "2022-01-01T12:17:02.523Z"
   },
   {
    "duration": 332,
    "start_time": "2022-01-01T12:17:02.533Z"
   },
   {
    "duration": 224,
    "start_time": "2022-01-01T12:17:02.866Z"
   },
   {
    "duration": 5,
    "start_time": "2022-01-01T12:17:03.092Z"
   },
   {
    "duration": 48,
    "start_time": "2022-01-01T12:17:40.492Z"
   },
   {
    "duration": 18,
    "start_time": "2022-01-01T12:17:40.541Z"
   },
   {
    "duration": 2,
    "start_time": "2022-01-01T12:17:40.560Z"
   },
   {
    "duration": 327,
    "start_time": "2022-01-01T12:17:40.564Z"
   },
   {
    "duration": 219,
    "start_time": "2022-01-01T12:17:40.892Z"
   },
   {
    "duration": 4,
    "start_time": "2022-01-01T12:17:41.113Z"
   },
   {
    "duration": 34388,
    "start_time": "2022-01-01T12:17:41.118Z"
   },
   {
    "duration": 22,
    "start_time": "2022-01-01T12:18:15.508Z"
   },
   {
    "duration": 74,
    "start_time": "2022-01-01T12:18:25.798Z"
   },
   {
    "duration": 168,
    "start_time": "2022-01-01T12:18:30.453Z"
   },
   {
    "duration": 319,
    "start_time": "2022-01-01T12:19:47.563Z"
   },
   {
    "duration": 2,
    "start_time": "2022-01-01T12:20:37.145Z"
   },
   {
    "duration": 342,
    "start_time": "2022-01-01T12:20:40.442Z"
   },
   {
    "duration": 215,
    "start_time": "2022-01-01T12:20:45.116Z"
   },
   {
    "duration": 4,
    "start_time": "2022-01-01T12:21:00.737Z"
   },
   {
    "duration": 34506,
    "start_time": "2022-01-01T12:21:03.014Z"
   },
   {
    "duration": 44,
    "start_time": "2022-01-01T12:21:37.522Z"
   },
   {
    "duration": 19,
    "start_time": "2022-01-01T12:21:37.568Z"
   },
   {
    "duration": 79,
    "start_time": "2022-01-01T12:21:52.248Z"
   },
   {
    "duration": 169,
    "start_time": "2022-01-01T12:22:13.877Z"
   },
   {
    "duration": 97,
    "start_time": "2022-01-01T12:22:54.946Z"
   },
   {
    "duration": 98,
    "start_time": "2022-01-01T12:23:09.548Z"
   },
   {
    "duration": 83,
    "start_time": "2022-01-01T12:23:36.218Z"
   },
   {
    "duration": 225,
    "start_time": "2022-01-01T12:23:57.539Z"
   },
   {
    "duration": 68,
    "start_time": "2022-01-01T12:25:03.471Z"
   },
   {
    "duration": 80,
    "start_time": "2022-01-01T12:25:14.369Z"
   },
   {
    "duration": 69,
    "start_time": "2022-01-01T12:25:29.086Z"
   },
   {
    "duration": 273,
    "start_time": "2022-01-01T12:25:36.228Z"
   },
   {
    "duration": 59,
    "start_time": "2022-01-01T12:26:17.897Z"
   },
   {
    "duration": 20,
    "start_time": "2022-01-01T12:26:37.640Z"
   },
   {
    "duration": 47,
    "start_time": "2022-01-01T12:27:04.440Z"
   },
   {
    "duration": 11,
    "start_time": "2022-01-01T12:27:50.944Z"
   },
   {
    "duration": 22,
    "start_time": "2022-01-01T12:28:58.254Z"
   },
   {
    "duration": 17,
    "start_time": "2022-01-01T12:30:56.619Z"
   },
   {
    "duration": 2,
    "start_time": "2022-01-01T12:32:45.112Z"
   },
   {
    "duration": 6,
    "start_time": "2022-01-01T12:33:12.996Z"
   },
   {
    "duration": 7,
    "start_time": "2022-01-01T12:38:56.072Z"
   },
   {
    "duration": 6,
    "start_time": "2022-01-01T12:39:36.244Z"
   },
   {
    "duration": 7,
    "start_time": "2022-01-01T12:41:37.699Z"
   },
   {
    "duration": 6,
    "start_time": "2022-01-01T12:41:40.618Z"
   },
   {
    "duration": 6,
    "start_time": "2022-01-01T12:41:59.836Z"
   },
   {
    "duration": 7,
    "start_time": "2022-01-01T12:42:13.210Z"
   },
   {
    "duration": 6,
    "start_time": "2022-01-01T12:42:16.304Z"
   },
   {
    "duration": 8,
    "start_time": "2022-01-01T12:42:50.439Z"
   },
   {
    "duration": 6,
    "start_time": "2022-01-01T12:42:53.348Z"
   },
   {
    "duration": 7,
    "start_time": "2022-01-01T12:44:36.707Z"
   },
   {
    "duration": 5,
    "start_time": "2022-01-01T12:44:55.656Z"
   },
   {
    "duration": 6,
    "start_time": "2022-01-01T12:44:58.435Z"
   },
   {
    "duration": 6,
    "start_time": "2022-01-01T12:45:29.038Z"
   },
   {
    "duration": 6,
    "start_time": "2022-01-01T12:45:32.066Z"
   },
   {
    "duration": 24,
    "start_time": "2022-01-01T12:45:55.417Z"
   },
   {
    "duration": 24,
    "start_time": "2022-01-01T12:46:24.307Z"
   },
   {
    "duration": 6,
    "start_time": "2022-01-01T12:47:25.327Z"
   },
   {
    "duration": 28,
    "start_time": "2022-01-01T12:47:32.850Z"
   },
   {
    "duration": 6,
    "start_time": "2022-01-01T12:47:52.394Z"
   },
   {
    "duration": 6,
    "start_time": "2022-01-01T12:48:00.451Z"
   },
   {
    "duration": 11,
    "start_time": "2022-01-01T12:59:48.086Z"
   },
   {
    "duration": 10,
    "start_time": "2022-01-01T13:00:05.520Z"
   },
   {
    "duration": 285,
    "start_time": "2022-01-01T13:00:19.332Z"
   },
   {
    "duration": 10,
    "start_time": "2022-01-01T13:00:28.764Z"
   },
   {
    "duration": 281,
    "start_time": "2022-01-01T13:02:32.588Z"
   },
   {
    "duration": 41,
    "start_time": "2022-01-01T13:06:18.411Z"
   },
   {
    "duration": 39,
    "start_time": "2022-01-01T13:06:29.783Z"
   },
   {
    "duration": 54,
    "start_time": "2022-01-01T13:06:45.276Z"
   },
   {
    "duration": 95,
    "start_time": "2022-01-01T13:07:26.769Z"
   },
   {
    "duration": 5,
    "start_time": "2022-01-01T13:12:01.390Z"
   },
   {
    "duration": 4,
    "start_time": "2022-01-01T13:13:25.427Z"
   },
   {
    "duration": 317,
    "start_time": "2022-01-01T17:09:12.890Z"
   },
   {
    "duration": 1044,
    "start_time": "2022-01-01T17:09:22.608Z"
   },
   {
    "duration": 361,
    "start_time": "2022-01-01T17:09:23.653Z"
   },
   {
    "duration": 255,
    "start_time": "2022-01-01T17:09:24.016Z"
   },
   {
    "duration": 5,
    "start_time": "2022-01-01T17:09:24.273Z"
   },
   {
    "duration": 36376,
    "start_time": "2022-01-01T17:09:24.279Z"
   },
   {
    "duration": 45,
    "start_time": "2022-01-01T17:10:00.657Z"
   },
   {
    "duration": 30,
    "start_time": "2022-01-01T17:10:00.703Z"
   },
   {
    "duration": 115,
    "start_time": "2022-01-01T17:10:00.735Z"
   },
   {
    "duration": 186,
    "start_time": "2022-01-01T17:10:00.852Z"
   },
   {
    "duration": 92,
    "start_time": "2022-01-01T17:10:01.039Z"
   },
   {
    "duration": 237,
    "start_time": "2022-01-01T17:10:01.133Z"
   },
   {
    "duration": 62,
    "start_time": "2022-01-01T17:10:01.372Z"
   },
   {
    "duration": 19,
    "start_time": "2022-01-01T17:10:01.436Z"
   },
   {
    "duration": 52,
    "start_time": "2022-01-01T17:10:01.457Z"
   },
   {
    "duration": 23,
    "start_time": "2022-01-01T17:10:01.511Z"
   },
   {
    "duration": 21,
    "start_time": "2022-01-01T17:10:01.535Z"
   },
   {
    "duration": 17,
    "start_time": "2022-01-01T17:10:01.557Z"
   },
   {
    "duration": 6,
    "start_time": "2022-01-01T17:10:01.575Z"
   },
   {
    "duration": 6,
    "start_time": "2022-01-01T17:10:01.583Z"
   },
   {
    "duration": 48,
    "start_time": "2022-01-01T17:10:01.591Z"
   },
   {
    "duration": 95,
    "start_time": "2022-01-01T17:10:50.642Z"
   },
   {
    "duration": 95,
    "start_time": "2022-01-01T17:41:30.259Z"
   },
   {
    "duration": 158,
    "start_time": "2022-01-01T17:45:06.112Z"
   },
   {
    "duration": 275,
    "start_time": "2022-01-01T17:45:38.802Z"
   },
   {
    "duration": 660,
    "start_time": "2022-01-01T17:46:46.918Z"
   },
   {
    "duration": 546,
    "start_time": "2022-01-01T17:46:51.639Z"
   },
   {
    "duration": 421,
    "start_time": "2022-01-01T17:47:40.618Z"
   },
   {
    "duration": 742,
    "start_time": "2022-01-01T17:48:00.250Z"
   },
   {
    "duration": 481,
    "start_time": "2022-01-01T17:48:21.878Z"
   },
   {
    "duration": 662,
    "start_time": "2022-01-01T17:48:38.268Z"
   },
   {
    "duration": 626,
    "start_time": "2022-01-01T17:48:59.218Z"
   },
   {
    "duration": 536,
    "start_time": "2022-01-01T17:50:03.553Z"
   },
   {
    "duration": 299,
    "start_time": "2022-01-01T17:50:16.625Z"
   },
   {
    "duration": 163,
    "start_time": "2022-01-01T17:51:20.993Z"
   },
   {
    "duration": 161,
    "start_time": "2022-01-01T17:51:37.045Z"
   },
   {
    "duration": 184,
    "start_time": "2022-01-01T17:52:00.918Z"
   },
   {
    "duration": 250,
    "start_time": "2022-01-01T17:52:13.700Z"
   },
   {
    "duration": 176,
    "start_time": "2022-01-01T17:52:46.801Z"
   },
   {
    "duration": 167,
    "start_time": "2022-01-01T17:53:15.527Z"
   },
   {
    "duration": 415,
    "start_time": "2022-01-01T17:53:57.855Z"
   },
   {
    "duration": 369,
    "start_time": "2022-01-01T17:54:28.409Z"
   },
   {
    "duration": 284,
    "start_time": "2022-01-01T17:54:40.586Z"
   },
   {
    "duration": 478,
    "start_time": "2022-01-01T17:55:04.003Z"
   },
   {
    "duration": 163,
    "start_time": "2022-01-01T17:57:12.392Z"
   },
   {
    "duration": 285,
    "start_time": "2022-01-01T17:57:30.691Z"
   },
   {
    "duration": 90,
    "start_time": "2022-01-01T18:10:03.127Z"
   },
   {
    "duration": 379,
    "start_time": "2022-01-05T12:54:40.853Z"
   },
   {
    "duration": 1495,
    "start_time": "2022-01-05T12:54:56.502Z"
   },
   {
    "duration": 510,
    "start_time": "2022-01-05T12:54:58.001Z"
   },
   {
    "duration": 415,
    "start_time": "2022-01-05T12:54:58.514Z"
   },
   {
    "duration": 7,
    "start_time": "2022-01-05T12:54:58.932Z"
   },
   {
    "duration": 76942,
    "start_time": "2022-01-05T12:54:58.942Z"
   },
   {
    "duration": 79,
    "start_time": "2022-01-05T12:56:15.887Z"
   },
   {
    "duration": 49,
    "start_time": "2022-01-05T12:56:15.968Z"
   },
   {
    "duration": 171,
    "start_time": "2022-01-05T12:56:16.022Z"
   },
   {
    "duration": 270,
    "start_time": "2022-01-05T12:56:16.196Z"
   },
   {
    "duration": 172,
    "start_time": "2022-01-05T12:56:16.469Z"
   },
   {
    "duration": 535,
    "start_time": "2022-01-05T12:56:16.644Z"
   },
   {
    "duration": 114,
    "start_time": "2022-01-05T12:56:17.182Z"
   },
   {
    "duration": 45,
    "start_time": "2022-01-05T12:56:17.299Z"
   },
   {
    "duration": 102,
    "start_time": "2022-01-05T12:56:17.346Z"
   },
   {
    "duration": 16,
    "start_time": "2022-01-05T12:56:17.450Z"
   },
   {
    "duration": 60,
    "start_time": "2022-01-05T12:56:17.469Z"
   },
   {
    "duration": 30,
    "start_time": "2022-01-05T12:56:17.532Z"
   },
   {
    "duration": 12,
    "start_time": "2022-01-05T12:56:17.565Z"
   },
   {
    "duration": 41,
    "start_time": "2022-01-05T12:56:17.579Z"
   },
   {
    "duration": 45,
    "start_time": "2022-01-05T12:56:17.624Z"
   },
   {
    "duration": 213,
    "start_time": "2022-01-05T12:56:17.672Z"
   },
   {
    "duration": 785,
    "start_time": "2022-01-05T12:56:17.888Z"
   },
   {
    "duration": 365,
    "start_time": "2022-01-05T12:56:18.676Z"
   },
   {
    "duration": 1159,
    "start_time": "2022-01-05T13:04:35.378Z"
   },
   {
    "duration": 1027,
    "start_time": "2022-01-05T13:04:54.382Z"
   },
   {
    "duration": 750,
    "start_time": "2022-01-05T13:05:26.247Z"
   },
   {
    "duration": 738,
    "start_time": "2022-01-05T13:05:57.913Z"
   },
   {
    "duration": 994,
    "start_time": "2022-01-05T13:07:57.383Z"
   },
   {
    "duration": 355,
    "start_time": "2022-01-05T13:09:54.955Z"
   },
   {
    "duration": 110,
    "start_time": "2022-01-05T13:31:56.358Z"
   },
   {
    "duration": 335,
    "start_time": "2022-01-05T13:32:03.375Z"
   },
   {
    "duration": 341,
    "start_time": "2022-01-05T13:32:35.393Z"
   },
   {
    "duration": 7,
    "start_time": "2022-01-05T13:32:45.318Z"
   },
   {
    "duration": 6,
    "start_time": "2022-01-05T14:10:13.000Z"
   },
   {
    "duration": 6,
    "start_time": "2022-01-05T14:10:21.219Z"
   },
   {
    "duration": 7,
    "start_time": "2022-01-05T14:10:35.430Z"
   },
   {
    "duration": 7,
    "start_time": "2022-01-05T14:10:43.837Z"
   },
   {
    "duration": 7,
    "start_time": "2022-01-05T14:10:50.526Z"
   },
   {
    "duration": 7,
    "start_time": "2022-01-05T14:11:01.500Z"
   },
   {
    "duration": 338,
    "start_time": "2022-01-05T14:30:21.750Z"
   },
   {
    "duration": 6,
    "start_time": "2022-01-05T14:30:41.083Z"
   },
   {
    "duration": 7,
    "start_time": "2022-01-05T14:41:57.378Z"
   },
   {
    "duration": 8,
    "start_time": "2022-01-05T14:42:19.526Z"
   },
   {
    "duration": 183,
    "start_time": "2022-01-05T14:48:39.163Z"
   },
   {
    "duration": 277,
    "start_time": "2022-01-05T14:49:49.358Z"
   },
   {
    "duration": 416,
    "start_time": "2022-01-05T14:57:05.263Z"
   },
   {
    "duration": 334,
    "start_time": "2022-01-05T14:57:32.132Z"
   },
   {
    "duration": 321,
    "start_time": "2022-01-05T14:58:24.511Z"
   },
   {
    "duration": 7,
    "start_time": "2022-01-05T14:58:46.387Z"
   },
   {
    "duration": 10,
    "start_time": "2022-01-05T14:59:02.732Z"
   },
   {
    "duration": 8,
    "start_time": "2022-01-05T14:59:23.414Z"
   },
   {
    "duration": 11,
    "start_time": "2022-01-05T15:00:12.755Z"
   },
   {
    "duration": 247,
    "start_time": "2022-01-05T21:13:28.697Z"
   },
   {
    "duration": 1120,
    "start_time": "2022-01-05T21:13:52.891Z"
   },
   {
    "duration": 396,
    "start_time": "2022-01-05T21:13:54.013Z"
   },
   {
    "duration": 298,
    "start_time": "2022-01-05T21:13:54.411Z"
   },
   {
    "duration": 4,
    "start_time": "2022-01-05T21:13:54.711Z"
   },
   {
    "duration": 38960,
    "start_time": "2022-01-05T21:13:54.717Z"
   },
   {
    "duration": 52,
    "start_time": "2022-01-05T21:14:33.679Z"
   },
   {
    "duration": 42,
    "start_time": "2022-01-05T21:14:33.733Z"
   },
   {
    "duration": 132,
    "start_time": "2022-01-05T21:14:33.778Z"
   },
   {
    "duration": 211,
    "start_time": "2022-01-05T21:14:33.912Z"
   },
   {
    "duration": 111,
    "start_time": "2022-01-05T21:14:34.124Z"
   },
   {
    "duration": 278,
    "start_time": "2022-01-05T21:14:34.236Z"
   },
   {
    "duration": 79,
    "start_time": "2022-01-05T21:14:34.516Z"
   },
   {
    "duration": 25,
    "start_time": "2022-01-05T21:14:34.597Z"
   },
   {
    "duration": 75,
    "start_time": "2022-01-05T21:14:34.624Z"
   },
   {
    "duration": 10,
    "start_time": "2022-01-05T21:14:34.701Z"
   },
   {
    "duration": 22,
    "start_time": "2022-01-05T21:14:34.713Z"
   },
   {
    "duration": 34,
    "start_time": "2022-01-05T21:14:34.737Z"
   },
   {
    "duration": 6,
    "start_time": "2022-01-05T21:14:34.773Z"
   },
   {
    "duration": 8,
    "start_time": "2022-01-05T21:14:34.780Z"
   },
   {
    "duration": 31,
    "start_time": "2022-01-05T21:14:34.790Z"
   },
   {
    "duration": 170,
    "start_time": "2022-01-05T21:14:34.824Z"
   },
   {
    "duration": 470,
    "start_time": "2022-01-05T21:14:34.996Z"
   },
   {
    "duration": 332,
    "start_time": "2022-01-05T21:14:35.470Z"
   },
   {
    "duration": 489,
    "start_time": "2022-01-05T21:14:35.804Z"
   },
   {
    "duration": 349,
    "start_time": "2022-01-05T21:26:01.941Z"
   },
   {
    "duration": 241,
    "start_time": "2022-01-05T21:26:11.286Z"
   },
   {
    "duration": 6,
    "start_time": "2022-01-05T21:26:26.339Z"
   },
   {
    "duration": 6,
    "start_time": "2022-01-05T21:28:27.617Z"
   },
   {
    "duration": 6,
    "start_time": "2022-01-05T21:28:59.407Z"
   },
   {
    "duration": 30,
    "start_time": "2022-01-05T21:30:51.075Z"
   },
   {
    "duration": 7,
    "start_time": "2022-01-05T21:31:47.501Z"
   },
   {
    "duration": 7,
    "start_time": "2022-01-05T21:32:11.871Z"
   },
   {
    "duration": 5,
    "start_time": "2022-01-05T21:33:18.704Z"
   },
   {
    "duration": 6,
    "start_time": "2022-01-05T21:33:42.954Z"
   },
   {
    "duration": 6,
    "start_time": "2022-01-05T21:33:52.043Z"
   },
   {
    "duration": 4,
    "start_time": "2022-01-05T21:34:02.625Z"
   },
   {
    "duration": 4,
    "start_time": "2022-01-05T21:34:09.011Z"
   },
   {
    "duration": 11,
    "start_time": "2022-01-05T21:35:01.486Z"
   },
   {
    "duration": 4,
    "start_time": "2022-01-05T21:35:17.735Z"
   },
   {
    "duration": 214,
    "start_time": "2022-01-05T21:36:49.937Z"
   },
   {
    "duration": 6,
    "start_time": "2022-01-05T21:37:35.436Z"
   },
   {
    "duration": 6,
    "start_time": "2022-01-05T21:46:31.299Z"
   },
   {
    "duration": 7,
    "start_time": "2022-01-05T21:56:53.829Z"
   },
   {
    "duration": 6,
    "start_time": "2022-01-05T21:58:05.440Z"
   },
   {
    "duration": 7,
    "start_time": "2022-01-05T22:01:06.454Z"
   },
   {
    "duration": 206,
    "start_time": "2022-01-05T22:04:16.390Z"
   },
   {
    "duration": 8,
    "start_time": "2022-01-05T22:04:41.802Z"
   },
   {
    "duration": 8,
    "start_time": "2022-01-05T22:06:25.810Z"
   },
   {
    "duration": 9,
    "start_time": "2022-01-05T22:06:43.460Z"
   },
   {
    "duration": 8,
    "start_time": "2022-01-05T22:07:48.006Z"
   },
   {
    "duration": 7,
    "start_time": "2022-01-05T22:09:58.134Z"
   },
   {
    "duration": 7,
    "start_time": "2022-01-05T22:10:27.305Z"
   },
   {
    "duration": 6,
    "start_time": "2022-01-05T22:12:33.941Z"
   },
   {
    "duration": 5,
    "start_time": "2022-01-05T22:14:22.863Z"
   },
   {
    "duration": 7,
    "start_time": "2022-01-05T22:14:32.961Z"
   },
   {
    "duration": 5,
    "start_time": "2022-01-05T22:14:51.859Z"
   },
   {
    "duration": 5,
    "start_time": "2022-01-05T22:15:24.064Z"
   },
   {
    "duration": 215,
    "start_time": "2022-01-05T22:20:24.689Z"
   },
   {
    "duration": 5,
    "start_time": "2022-01-05T22:20:57.866Z"
   },
   {
    "duration": 6,
    "start_time": "2022-01-05T22:29:42.129Z"
   },
   {
    "duration": 6,
    "start_time": "2022-01-05T22:30:10.525Z"
   },
   {
    "duration": 90,
    "start_time": "2022-01-05T22:30:45.279Z"
   },
   {
    "duration": 9,
    "start_time": "2022-01-05T22:30:56.979Z"
   },
   {
    "duration": 6,
    "start_time": "2022-01-05T22:31:39.753Z"
   },
   {
    "duration": 6,
    "start_time": "2022-01-05T22:31:54.755Z"
   },
   {
    "duration": 6,
    "start_time": "2022-01-05T22:32:02.356Z"
   },
   {
    "duration": 5,
    "start_time": "2022-01-05T22:32:25.482Z"
   },
   {
    "duration": 5,
    "start_time": "2022-01-05T22:32:34.863Z"
   },
   {
    "duration": 344,
    "start_time": "2022-01-05T22:33:20.759Z"
   },
   {
    "duration": 4,
    "start_time": "2022-01-05T22:33:42.322Z"
   },
   {
    "duration": 5,
    "start_time": "2022-01-05T22:33:47.714Z"
   },
   {
    "duration": 5,
    "start_time": "2022-01-05T22:33:55.318Z"
   },
   {
    "duration": 6,
    "start_time": "2022-01-05T22:34:41.049Z"
   },
   {
    "duration": 8,
    "start_time": "2022-01-05T22:36:14.485Z"
   },
   {
    "duration": 7,
    "start_time": "2022-01-05T22:38:57.776Z"
   },
   {
    "duration": 212,
    "start_time": "2022-01-05T22:43:29.221Z"
   },
   {
    "duration": 143,
    "start_time": "2022-01-05T22:43:36.768Z"
   },
   {
    "duration": 5,
    "start_time": "2022-01-05T22:43:40.558Z"
   },
   {
    "duration": 5,
    "start_time": "2022-01-05T22:45:48.422Z"
   },
   {
    "duration": 5,
    "start_time": "2022-01-05T22:49:11.805Z"
   },
   {
    "duration": 260,
    "start_time": "2022-01-06T10:40:00.163Z"
   },
   {
    "duration": 634,
    "start_time": "2022-01-06T10:40:17.132Z"
   },
   {
    "duration": 355,
    "start_time": "2022-01-06T10:40:17.768Z"
   },
   {
    "duration": 253,
    "start_time": "2022-01-06T10:40:18.124Z"
   },
   {
    "duration": 4,
    "start_time": "2022-01-06T10:40:18.379Z"
   },
   {
    "duration": 35176,
    "start_time": "2022-01-06T10:40:18.385Z"
   },
   {
    "duration": 48,
    "start_time": "2022-01-06T10:40:53.562Z"
   },
   {
    "duration": 34,
    "start_time": "2022-01-06T10:40:53.612Z"
   },
   {
    "duration": 124,
    "start_time": "2022-01-06T10:40:53.648Z"
   },
   {
    "duration": 188,
    "start_time": "2022-01-06T10:40:53.774Z"
   },
   {
    "duration": 97,
    "start_time": "2022-01-06T10:40:53.964Z"
   },
   {
    "duration": 238,
    "start_time": "2022-01-06T10:40:54.063Z"
   },
   {
    "duration": 69,
    "start_time": "2022-01-06T10:40:54.302Z"
   },
   {
    "duration": 20,
    "start_time": "2022-01-06T10:40:54.373Z"
   },
   {
    "duration": 78,
    "start_time": "2022-01-06T10:40:54.394Z"
   },
   {
    "duration": 12,
    "start_time": "2022-01-06T10:40:54.473Z"
   },
   {
    "duration": 43,
    "start_time": "2022-01-06T10:40:54.486Z"
   },
   {
    "duration": 50,
    "start_time": "2022-01-06T10:40:54.530Z"
   },
   {
    "duration": 25,
    "start_time": "2022-01-06T10:40:54.582Z"
   },
   {
    "duration": 42,
    "start_time": "2022-01-06T10:40:54.608Z"
   },
   {
    "duration": 78,
    "start_time": "2022-01-06T10:40:54.652Z"
   },
   {
    "duration": 99,
    "start_time": "2022-01-06T10:40:54.732Z"
   },
   {
    "duration": 451,
    "start_time": "2022-01-06T10:40:54.833Z"
   },
   {
    "duration": 206,
    "start_time": "2022-01-06T10:40:55.287Z"
   },
   {
    "duration": 301,
    "start_time": "2022-01-06T10:40:55.494Z"
   },
   {
    "duration": 377,
    "start_time": "2022-01-06T10:40:55.797Z"
   },
   {
    "duration": 102,
    "start_time": "2022-01-06T10:40:56.175Z"
   },
   {
    "duration": 5,
    "start_time": "2022-01-06T10:40:56.278Z"
   },
   {
    "duration": 5,
    "start_time": "2022-01-06T10:40:56.292Z"
   },
   {
    "duration": 3,
    "start_time": "2022-01-06T10:41:07.399Z"
   },
   {
    "duration": 4,
    "start_time": "2022-01-06T10:41:45.829Z"
   },
   {
    "duration": 5094,
    "start_time": "2022-01-06T10:44:28.364Z"
   },
   {
    "duration": 10,
    "start_time": "2022-01-06T10:45:41.627Z"
   },
   {
    "duration": 7,
    "start_time": "2022-01-06T10:49:36.765Z"
   },
   {
    "duration": 5,
    "start_time": "2022-01-06T10:50:21.080Z"
   },
   {
    "duration": 6,
    "start_time": "2022-01-06T10:56:31.164Z"
   },
   {
    "duration": 75,
    "start_time": "2022-01-06T11:01:26.944Z"
   },
   {
    "duration": 6,
    "start_time": "2022-01-06T11:01:31.896Z"
   },
   {
    "duration": 6,
    "start_time": "2022-01-06T11:02:30.320Z"
   },
   {
    "duration": 5,
    "start_time": "2022-01-06T11:03:14.129Z"
   },
   {
    "duration": 879,
    "start_time": "2022-01-07T11:43:17.775Z"
   },
   {
    "duration": 106,
    "start_time": "2022-01-07T11:53:38.105Z"
   },
   {
    "duration": 1345,
    "start_time": "2022-01-07T11:54:45.500Z"
   },
   {
    "duration": 481,
    "start_time": "2022-01-07T11:54:46.848Z"
   },
   {
    "duration": 374,
    "start_time": "2022-01-07T11:54:47.332Z"
   },
   {
    "duration": 19,
    "start_time": "2022-01-07T11:54:47.709Z"
   },
   {
    "duration": 107781,
    "start_time": "2022-01-07T11:54:47.731Z"
   },
   {
    "duration": 74,
    "start_time": "2022-01-07T11:56:35.515Z"
   },
   {
    "duration": 56,
    "start_time": "2022-01-07T11:56:35.592Z"
   },
   {
    "duration": 170,
    "start_time": "2022-01-07T11:56:35.654Z"
   },
   {
    "duration": 260,
    "start_time": "2022-01-07T11:56:35.827Z"
   },
   {
    "duration": 164,
    "start_time": "2022-01-07T11:56:36.090Z"
   },
   {
    "duration": 520,
    "start_time": "2022-01-07T11:56:36.257Z"
   },
   {
    "duration": 110,
    "start_time": "2022-01-07T11:56:36.781Z"
   },
   {
    "duration": 51,
    "start_time": "2022-01-07T11:56:36.893Z"
   },
   {
    "duration": 107,
    "start_time": "2022-01-07T11:56:36.946Z"
   },
   {
    "duration": 16,
    "start_time": "2022-01-07T11:56:37.056Z"
   },
   {
    "duration": 51,
    "start_time": "2022-01-07T11:56:37.074Z"
   },
   {
    "duration": 28,
    "start_time": "2022-01-07T11:56:37.128Z"
   },
   {
    "duration": 10,
    "start_time": "2022-01-07T11:56:37.158Z"
   },
   {
    "duration": 10,
    "start_time": "2022-01-07T11:56:37.170Z"
   },
   {
    "duration": 80,
    "start_time": "2022-01-07T11:56:37.182Z"
   },
   {
    "duration": 198,
    "start_time": "2022-01-07T11:56:37.265Z"
   },
   {
    "duration": 977,
    "start_time": "2022-01-07T11:56:37.465Z"
   },
   {
    "duration": -1180,
    "start_time": "2022-01-07T11:56:39.625Z"
   },
   {
    "duration": -1192,
    "start_time": "2022-01-07T11:56:39.638Z"
   },
   {
    "duration": -1205,
    "start_time": "2022-01-07T11:56:39.653Z"
   },
   {
    "duration": -1217,
    "start_time": "2022-01-07T11:56:39.667Z"
   },
   {
    "duration": -1231,
    "start_time": "2022-01-07T11:56:39.682Z"
   },
   {
    "duration": 747,
    "start_time": "2022-01-07T12:03:11.762Z"
   },
   {
    "duration": 928,
    "start_time": "2022-01-07T12:03:49.364Z"
   },
   {
    "duration": 735,
    "start_time": "2022-01-07T12:05:27.314Z"
   },
   {
    "duration": 758,
    "start_time": "2022-01-07T12:05:57.164Z"
   },
   {
    "duration": 385,
    "start_time": "2022-01-07T12:06:21.143Z"
   },
   {
    "duration": 634,
    "start_time": "2022-01-07T12:07:17.242Z"
   },
   {
    "duration": 338,
    "start_time": "2022-01-07T12:15:44.650Z"
   },
   {
    "duration": 4,
    "start_time": "2022-01-07T12:16:06.828Z"
   },
   {
    "duration": 497,
    "start_time": "2022-01-07T12:16:06.838Z"
   },
   {
    "duration": 356,
    "start_time": "2022-01-07T12:16:07.338Z"
   },
   {
    "duration": 5,
    "start_time": "2022-01-07T12:16:07.697Z"
   },
   {
    "duration": 121222,
    "start_time": "2022-01-07T12:16:07.724Z"
   },
   {
    "duration": 93,
    "start_time": "2022-01-07T12:18:08.949Z"
   },
   {
    "duration": 42,
    "start_time": "2022-01-07T12:18:09.045Z"
   },
   {
    "duration": 176,
    "start_time": "2022-01-07T12:18:09.090Z"
   },
   {
    "duration": 245,
    "start_time": "2022-01-07T12:18:09.272Z"
   },
   {
    "duration": 166,
    "start_time": "2022-01-07T12:18:09.520Z"
   },
   {
    "duration": 766,
    "start_time": "2022-01-07T12:18:09.688Z"
   },
   {
    "duration": 174,
    "start_time": "2022-01-07T12:18:10.457Z"
   },
   {
    "duration": 56,
    "start_time": "2022-01-07T12:18:10.634Z"
   },
   {
    "duration": 147,
    "start_time": "2022-01-07T12:18:10.694Z"
   },
   {
    "duration": 23,
    "start_time": "2022-01-07T12:18:10.843Z"
   },
   {
    "duration": 62,
    "start_time": "2022-01-07T12:18:10.869Z"
   },
   {
    "duration": 31,
    "start_time": "2022-01-07T12:18:10.934Z"
   },
   {
    "duration": 11,
    "start_time": "2022-01-07T12:18:10.967Z"
   },
   {
    "duration": 46,
    "start_time": "2022-01-07T12:18:10.981Z"
   },
   {
    "duration": 45,
    "start_time": "2022-01-07T12:18:11.030Z"
   },
   {
    "duration": 218,
    "start_time": "2022-01-07T12:18:11.078Z"
   },
   {
    "duration": 981,
    "start_time": "2022-01-07T12:18:11.298Z"
   },
   {
    "duration": 424,
    "start_time": "2022-01-07T12:18:12.282Z"
   },
   {
    "duration": 746,
    "start_time": "2022-01-07T12:18:12.710Z"
   },
   {
    "duration": 319,
    "start_time": "2022-01-07T12:18:13.459Z"
   },
   {
    "duration": -1257,
    "start_time": "2022-01-07T12:18:15.038Z"
   },
   {
    "duration": -1274,
    "start_time": "2022-01-07T12:18:15.057Z"
   },
   {
    "duration": 9,
    "start_time": "2022-01-07T12:20:10.542Z"
   },
   {
    "duration": 9,
    "start_time": "2022-01-07T12:20:34.288Z"
   },
   {
    "duration": 311,
    "start_time": "2022-01-07T12:31:31.067Z"
   },
   {
    "duration": 350,
    "start_time": "2022-01-07T12:31:59.531Z"
   },
   {
    "duration": 383,
    "start_time": "2022-01-07T12:32:08.722Z"
   },
   {
    "duration": 306,
    "start_time": "2022-01-07T12:32:58.504Z"
   },
   {
    "duration": 366,
    "start_time": "2022-01-07T12:33:56.849Z"
   },
   {
    "duration": 338,
    "start_time": "2022-01-07T12:34:13.605Z"
   },
   {
    "duration": 400,
    "start_time": "2022-01-07T12:34:24.538Z"
   },
   {
    "duration": 76,
    "start_time": "2022-01-07T12:34:39.136Z"
   },
   {
    "duration": 139,
    "start_time": "2022-01-07T12:39:09.216Z"
   },
   {
    "duration": 10,
    "start_time": "2022-01-07T12:39:23.409Z"
   },
   {
    "duration": 101,
    "start_time": "2022-01-08T03:37:29.340Z"
   },
   {
    "duration": 1402,
    "start_time": "2022-01-08T03:37:37.828Z"
   },
   {
    "duration": 512,
    "start_time": "2022-01-08T03:37:39.425Z"
   },
   {
    "duration": 398,
    "start_time": "2022-01-08T03:37:41.337Z"
   },
   {
    "duration": 6,
    "start_time": "2022-01-08T03:37:41.804Z"
   },
   {
    "duration": 75303,
    "start_time": "2022-01-08T03:37:41.960Z"
   },
   {
    "duration": 71,
    "start_time": "2022-01-08T03:38:57.265Z"
   },
   {
    "duration": 51,
    "start_time": "2022-01-08T03:38:57.339Z"
   },
   {
    "duration": 180,
    "start_time": "2022-01-08T03:38:57.393Z"
   },
   {
    "duration": 277,
    "start_time": "2022-01-08T03:38:57.575Z"
   },
   {
    "duration": 170,
    "start_time": "2022-01-08T03:38:57.854Z"
   },
   {
    "duration": 41,
    "start_time": "2022-01-08T03:38:58.027Z"
   },
   {
    "duration": 253,
    "start_time": "2022-01-08T09:51:23.439Z"
   },
   {
    "duration": 1066,
    "start_time": "2022-01-08T09:51:27.599Z"
   },
   {
    "duration": 359,
    "start_time": "2022-01-08T09:51:28.667Z"
   },
   {
    "duration": 260,
    "start_time": "2022-01-08T09:51:29.028Z"
   },
   {
    "duration": 4,
    "start_time": "2022-01-08T09:51:29.290Z"
   },
   {
    "duration": 35995,
    "start_time": "2022-01-08T09:51:29.295Z"
   },
   {
    "duration": 55,
    "start_time": "2022-01-08T09:52:05.291Z"
   },
   {
    "duration": 22,
    "start_time": "2022-01-08T09:52:05.348Z"
   },
   {
    "duration": 123,
    "start_time": "2022-01-08T09:52:05.372Z"
   },
   {
    "duration": 187,
    "start_time": "2022-01-08T09:52:05.497Z"
   },
   {
    "duration": 3120,
    "start_time": "2022-01-08T09:52:05.685Z"
   },
   {
    "duration": 3,
    "start_time": "2022-01-08T09:55:49.953Z"
   },
   {
    "duration": 359,
    "start_time": "2022-01-08T09:55:49.963Z"
   },
   {
    "duration": 234,
    "start_time": "2022-01-08T09:55:50.324Z"
   },
   {
    "duration": 4,
    "start_time": "2022-01-08T09:55:50.559Z"
   },
   {
    "duration": 36149,
    "start_time": "2022-01-08T09:55:50.565Z"
   },
   {
    "duration": 51,
    "start_time": "2022-01-08T09:56:26.715Z"
   },
   {
    "duration": 20,
    "start_time": "2022-01-08T09:56:26.767Z"
   },
   {
    "duration": 97,
    "start_time": "2022-01-08T09:56:26.789Z"
   },
   {
    "duration": 168,
    "start_time": "2022-01-08T09:56:26.888Z"
   },
   {
    "duration": 3176,
    "start_time": "2022-01-08T09:56:27.058Z"
   },
   {
    "duration": 113,
    "start_time": "2022-01-08T09:56:30.240Z"
   },
   {
    "duration": 24,
    "start_time": "2022-01-08T09:56:30.355Z"
   },
   {
    "duration": 79,
    "start_time": "2022-01-08T09:56:30.381Z"
   },
   {
    "duration": 25,
    "start_time": "2022-01-08T09:56:30.461Z"
   },
   {
    "duration": 76,
    "start_time": "2022-01-08T09:56:30.488Z"
   },
   {
    "duration": 11,
    "start_time": "2022-01-08T09:56:30.565Z"
   },
   {
    "duration": 28,
    "start_time": "2022-01-08T09:56:30.577Z"
   },
   {
    "duration": 35,
    "start_time": "2022-01-08T09:56:30.607Z"
   },
   {
    "duration": 9,
    "start_time": "2022-01-08T09:56:30.644Z"
   },
   {
    "duration": 9,
    "start_time": "2022-01-08T09:56:30.655Z"
   },
   {
    "duration": 35,
    "start_time": "2022-01-08T09:56:30.665Z"
   },
   {
    "duration": 140,
    "start_time": "2022-01-08T09:56:30.702Z"
   },
   {
    "duration": 50,
    "start_time": "2022-01-08T09:56:30.844Z"
   },
   {
    "duration": 620,
    "start_time": "2022-01-08T09:56:30.898Z"
   },
   {
    "duration": 270,
    "start_time": "2022-01-08T09:56:31.520Z"
   },
   {
    "duration": 377,
    "start_time": "2022-01-08T09:56:31.792Z"
   },
   {
    "duration": 7,
    "start_time": "2022-01-08T09:56:32.171Z"
   },
   {
    "duration": 126,
    "start_time": "2022-01-08T09:56:32.179Z"
   },
   {
    "duration": 5,
    "start_time": "2022-01-08T09:56:32.306Z"
   },
   {
    "duration": 3436,
    "start_time": "2022-05-12T17:54:24.385Z"
   },
   {
    "duration": 544,
    "start_time": "2022-05-12T17:54:27.831Z"
   },
   {
    "duration": 148,
    "start_time": "2022-05-12T17:54:30.647Z"
   },
   {
    "duration": 160,
    "start_time": "2022-05-12T17:54:41.138Z"
   },
   {
    "duration": 166,
    "start_time": "2022-05-12T17:54:55.845Z"
   },
   {
    "duration": 175,
    "start_time": "2022-05-12T17:55:19.542Z"
   },
   {
    "duration": 23,
    "start_time": "2022-05-12T17:55:29.448Z"
   },
   {
    "duration": 12,
    "start_time": "2022-05-12T17:55:54.805Z"
   },
   {
    "duration": 6,
    "start_time": "2022-05-12T17:56:04.478Z"
   },
   {
    "duration": 5,
    "start_time": "2022-05-12T17:56:30.314Z"
   },
   {
    "duration": 5,
    "start_time": "2022-05-12T17:56:37.146Z"
   },
   {
    "duration": 4,
    "start_time": "2022-05-12T17:56:41.098Z"
   },
   {
    "duration": 590,
    "start_time": "2022-05-12T17:56:41.113Z"
   },
   {
    "duration": 7,
    "start_time": "2022-05-12T17:56:45.484Z"
   },
   {
    "duration": 2165,
    "start_time": "2022-05-12T17:56:59.598Z"
   },
   {
    "duration": 710,
    "start_time": "2022-05-12T17:57:01.767Z"
   },
   {
    "duration": 4,
    "start_time": "2022-05-12T17:57:06.796Z"
   },
   {
    "duration": 290,
    "start_time": "2022-05-12T17:57:37.497Z"
   },
   {
    "duration": 14,
    "start_time": "2022-05-12T17:58:32.816Z"
   },
   {
    "duration": 49,
    "start_time": "2022-05-12T17:58:42.265Z"
   },
   {
    "duration": 13,
    "start_time": "2022-05-12T17:58:55.332Z"
   },
   {
    "duration": 133,
    "start_time": "2022-05-12T17:59:02.878Z"
   },
   {
    "duration": 675,
    "start_time": "2022-05-12T17:59:37.183Z"
   },
   {
    "duration": 630,
    "start_time": "2022-05-12T17:59:55.962Z"
   },
   {
    "duration": 13,
    "start_time": "2022-05-12T18:00:40.868Z"
   },
   {
    "duration": 5,
    "start_time": "2022-05-12T18:00:51.832Z"
   },
   {
    "duration": 703,
    "start_time": "2022-05-12T18:01:10.204Z"
   },
   {
    "duration": 72,
    "start_time": "2022-05-12T18:01:27.270Z"
   },
   {
    "duration": 73,
    "start_time": "2022-05-12T18:01:53.672Z"
   },
   {
    "duration": 22,
    "start_time": "2022-05-12T18:07:23.402Z"
   },
   {
    "duration": 21,
    "start_time": "2022-05-12T18:08:19.274Z"
   },
   {
    "duration": 4,
    "start_time": "2022-05-12T18:08:28.607Z"
   },
   {
    "duration": 535,
    "start_time": "2022-05-12T18:08:28.620Z"
   },
   {
    "duration": 75,
    "start_time": "2022-05-12T18:08:29.157Z"
   },
   {
    "duration": 31,
    "start_time": "2022-05-12T18:08:32.708Z"
   },
   {
    "duration": 404,
    "start_time": "2022-05-12T18:10:21.020Z"
   },
   {
    "duration": 162,
    "start_time": "2022-05-12T18:11:07.762Z"
   },
   {
    "duration": 383,
    "start_time": "2022-05-12T18:12:11.500Z"
   },
   {
    "duration": 106,
    "start_time": "2022-05-12T18:16:55.824Z"
   },
   {
    "duration": 92,
    "start_time": "2022-05-12T18:17:11.800Z"
   },
   {
    "duration": 125,
    "start_time": "2022-05-12T18:17:23.606Z"
   },
   {
    "duration": 85,
    "start_time": "2022-05-12T18:17:35.694Z"
   },
   {
    "duration": 91,
    "start_time": "2022-05-12T18:17:43.860Z"
   },
   {
    "duration": 361,
    "start_time": "2022-05-12T18:19:30.192Z"
   },
   {
    "duration": 434,
    "start_time": "2022-05-12T18:19:51.761Z"
   },
   {
    "duration": 478,
    "start_time": "2022-05-12T18:20:04.148Z"
   },
   {
    "duration": 113,
    "start_time": "2022-05-12T18:21:28.669Z"
   },
   {
    "duration": 21,
    "start_time": "2022-05-12T18:22:26.520Z"
   },
   {
    "duration": 44,
    "start_time": "2022-05-12T18:22:30.255Z"
   },
   {
    "duration": 32,
    "start_time": "2022-05-12T18:23:39.638Z"
   },
   {
    "duration": 121,
    "start_time": "2022-05-12T18:26:12.564Z"
   },
   {
    "duration": 28,
    "start_time": "2022-05-12T18:26:20.211Z"
   },
   {
    "duration": 412,
    "start_time": "2022-05-12T18:27:31.136Z"
   },
   {
    "duration": 4,
    "start_time": "2022-05-12T18:28:11.923Z"
   },
   {
    "duration": 508,
    "start_time": "2022-05-12T18:28:11.929Z"
   },
   {
    "duration": 88,
    "start_time": "2022-05-12T18:28:12.440Z"
   },
   {
    "duration": 32,
    "start_time": "2022-05-12T18:28:12.530Z"
   },
   {
    "duration": 410,
    "start_time": "2022-05-12T18:28:12.565Z"
   },
   {
    "duration": 133,
    "start_time": "2022-05-12T18:28:12.978Z"
   },
   {
    "duration": 94,
    "start_time": "2022-05-12T18:28:13.113Z"
   },
   {
    "duration": 34,
    "start_time": "2022-05-12T18:28:13.209Z"
   },
   {
    "duration": 75,
    "start_time": "2022-05-12T18:28:34.074Z"
   },
   {
    "duration": 19,
    "start_time": "2022-05-12T18:28:36.821Z"
   },
   {
    "duration": 135,
    "start_time": "2022-05-12T18:28:50.987Z"
   },
   {
    "duration": 18,
    "start_time": "2022-05-12T18:28:53.938Z"
   },
   {
    "duration": 239,
    "start_time": "2022-05-12T18:29:09.559Z"
   },
   {
    "duration": 147,
    "start_time": "2022-05-12T18:29:18.982Z"
   },
   {
    "duration": 3,
    "start_time": "2022-05-12T18:29:33.013Z"
   },
   {
    "duration": 485,
    "start_time": "2022-05-12T18:29:33.019Z"
   },
   {
    "duration": 76,
    "start_time": "2022-05-12T18:29:33.506Z"
   },
   {
    "duration": 60,
    "start_time": "2022-05-12T18:29:33.585Z"
   },
   {
    "duration": 412,
    "start_time": "2022-05-12T18:29:33.649Z"
   },
   {
    "duration": 198,
    "start_time": "2022-05-12T18:29:34.064Z"
   },
   {
    "duration": 126,
    "start_time": "2022-05-12T18:29:34.264Z"
   },
   {
    "duration": 47,
    "start_time": "2022-05-12T18:29:34.393Z"
   },
   {
    "duration": 194,
    "start_time": "2022-05-12T18:29:34.443Z"
   },
   {
    "duration": 47,
    "start_time": "2022-05-12T18:29:42.171Z"
   },
   {
    "duration": 71,
    "start_time": "2022-05-12T18:31:19.344Z"
   },
   {
    "duration": 9,
    "start_time": "2022-05-12T18:32:50.103Z"
   },
   {
    "duration": 1860,
    "start_time": "2022-05-12T18:32:54.794Z"
   },
   {
    "duration": 497,
    "start_time": "2022-05-12T18:32:56.657Z"
   },
   {
    "duration": 69,
    "start_time": "2022-05-12T18:32:57.157Z"
   },
   {
    "duration": 34,
    "start_time": "2022-05-12T18:32:57.229Z"
   },
   {
    "duration": 462,
    "start_time": "2022-05-12T18:32:57.265Z"
   },
   {
    "duration": 135,
    "start_time": "2022-05-12T18:32:57.729Z"
   },
   {
    "duration": 95,
    "start_time": "2022-05-12T18:32:57.866Z"
   },
   {
    "duration": 25,
    "start_time": "2022-05-12T18:32:57.963Z"
   },
   {
    "duration": 193,
    "start_time": "2022-05-12T18:32:57.990Z"
   },
   {
    "duration": 188,
    "start_time": "2022-05-12T18:33:03.989Z"
   },
   {
    "duration": 97,
    "start_time": "2022-05-12T18:33:25.381Z"
   },
   {
    "duration": 614,
    "start_time": "2022-05-12T18:33:57.830Z"
   },
   {
    "duration": 46,
    "start_time": "2022-05-12T18:34:20.217Z"
   },
   {
    "duration": 29,
    "start_time": "2022-05-12T18:36:51.818Z"
   },
   {
    "duration": 6,
    "start_time": "2022-05-12T18:37:48.526Z"
   },
   {
    "duration": 31,
    "start_time": "2022-05-12T18:37:55.234Z"
   },
   {
    "duration": 4,
    "start_time": "2022-05-12T18:38:20.114Z"
   },
   {
    "duration": 494,
    "start_time": "2022-05-12T18:38:20.132Z"
   },
   {
    "duration": 101,
    "start_time": "2022-05-12T18:38:20.628Z"
   },
   {
    "duration": 33,
    "start_time": "2022-05-12T18:38:20.731Z"
   },
   {
    "duration": 419,
    "start_time": "2022-05-12T18:38:20.768Z"
   },
   {
    "duration": 142,
    "start_time": "2022-05-12T18:38:21.190Z"
   },
   {
    "duration": 99,
    "start_time": "2022-05-12T18:38:21.335Z"
   },
   {
    "duration": 25,
    "start_time": "2022-05-12T18:38:21.436Z"
   },
   {
    "duration": 309,
    "start_time": "2022-05-12T18:38:21.464Z"
   },
   {
    "duration": 42,
    "start_time": "2022-05-12T18:38:26.085Z"
   },
   {
    "duration": 4,
    "start_time": "2022-05-12T18:38:44.668Z"
   },
   {
    "duration": 473,
    "start_time": "2022-05-12T18:38:44.691Z"
   },
   {
    "duration": 69,
    "start_time": "2022-05-12T18:38:45.167Z"
   },
   {
    "duration": 32,
    "start_time": "2022-05-12T18:38:45.238Z"
   },
   {
    "duration": 395,
    "start_time": "2022-05-12T18:38:45.273Z"
   },
   {
    "duration": 131,
    "start_time": "2022-05-12T18:38:45.671Z"
   },
   {
    "duration": 93,
    "start_time": "2022-05-12T18:38:45.805Z"
   },
   {
    "duration": 36,
    "start_time": "2022-05-12T18:38:45.900Z"
   },
   {
    "duration": 305,
    "start_time": "2022-05-12T18:38:45.938Z"
   },
   {
    "duration": 49,
    "start_time": "2022-05-12T18:38:52.350Z"
   },
   {
    "duration": 4,
    "start_time": "2022-05-12T18:39:50.167Z"
   },
   {
    "duration": 575,
    "start_time": "2022-05-12T18:39:50.181Z"
   },
   {
    "duration": 92,
    "start_time": "2022-05-12T18:39:50.760Z"
   },
   {
    "duration": 51,
    "start_time": "2022-05-12T18:39:50.855Z"
   },
   {
    "duration": 477,
    "start_time": "2022-05-12T18:39:50.925Z"
   },
   {
    "duration": 161,
    "start_time": "2022-05-12T18:39:51.404Z"
   },
   {
    "duration": 102,
    "start_time": "2022-05-12T18:39:51.567Z"
   },
   {
    "duration": 30,
    "start_time": "2022-05-12T18:39:51.672Z"
   },
   {
    "duration": 349,
    "start_time": "2022-05-12T18:39:51.705Z"
   },
   {
    "duration": 40,
    "start_time": "2022-05-12T18:40:13.065Z"
   },
   {
    "duration": 9,
    "start_time": "2022-05-12T18:44:17.053Z"
   },
   {
    "duration": 24,
    "start_time": "2022-05-12T18:45:06.047Z"
   },
   {
    "duration": 30,
    "start_time": "2022-05-12T18:45:20.548Z"
   },
   {
    "duration": 30,
    "start_time": "2022-05-12T18:47:49.480Z"
   },
   {
    "duration": 36,
    "start_time": "2022-05-12T18:49:06.623Z"
   },
   {
    "duration": 11,
    "start_time": "2022-05-12T18:49:19.257Z"
   },
   {
    "duration": 12,
    "start_time": "2022-05-12T18:49:24.235Z"
   },
   {
    "duration": 17,
    "start_time": "2022-05-12T18:49:34.356Z"
   },
   {
    "duration": 24,
    "start_time": "2022-05-12T18:49:51.195Z"
   },
   {
    "duration": 24,
    "start_time": "2022-05-12T18:54:26.328Z"
   },
   {
    "duration": 18,
    "start_time": "2022-05-12T19:01:51.163Z"
   },
   {
    "duration": 45,
    "start_time": "2022-05-12T19:02:03.238Z"
   },
   {
    "duration": 5,
    "start_time": "2022-05-12T19:02:11.271Z"
   },
   {
    "duration": 459,
    "start_time": "2022-05-12T19:02:11.281Z"
   },
   {
    "duration": 81,
    "start_time": "2022-05-12T19:02:11.743Z"
   },
   {
    "duration": 33,
    "start_time": "2022-05-12T19:02:11.826Z"
   },
   {
    "duration": 405,
    "start_time": "2022-05-12T19:02:11.862Z"
   },
   {
    "duration": 135,
    "start_time": "2022-05-12T19:02:12.269Z"
   },
   {
    "duration": 95,
    "start_time": "2022-05-12T19:02:12.406Z"
   },
   {
    "duration": 23,
    "start_time": "2022-05-12T19:02:15.479Z"
   },
   {
    "duration": 214,
    "start_time": "2022-05-12T19:02:27.960Z"
   },
   {
    "duration": 27,
    "start_time": "2022-05-12T19:02:42.934Z"
   },
   {
    "duration": 4,
    "start_time": "2022-05-12T19:06:46.817Z"
   },
   {
    "duration": 483,
    "start_time": "2022-05-12T19:06:46.827Z"
   },
   {
    "duration": 74,
    "start_time": "2022-05-12T19:06:47.312Z"
   },
   {
    "duration": 33,
    "start_time": "2022-05-12T19:06:47.425Z"
   },
   {
    "duration": 396,
    "start_time": "2022-05-12T19:06:47.461Z"
   },
   {
    "duration": 128,
    "start_time": "2022-05-12T19:06:47.860Z"
   },
   {
    "duration": 99,
    "start_time": "2022-05-12T19:06:47.990Z"
   },
   {
    "duration": 36,
    "start_time": "2022-05-12T19:06:48.091Z"
   },
   {
    "duration": 236,
    "start_time": "2022-05-12T19:06:54.811Z"
   },
   {
    "duration": 26,
    "start_time": "2022-05-12T19:07:08.691Z"
   },
   {
    "duration": 54,
    "start_time": "2022-05-12T19:09:27.699Z"
   },
   {
    "duration": 230,
    "start_time": "2022-05-12T19:10:37.838Z"
   },
   {
    "duration": 124,
    "start_time": "2022-05-12T19:11:00.913Z"
   },
   {
    "duration": 134,
    "start_time": "2022-05-12T19:12:39.734Z"
   },
   {
    "duration": 123,
    "start_time": "2022-05-12T19:12:51.401Z"
   },
   {
    "duration": 123,
    "start_time": "2022-05-12T19:13:58.733Z"
   },
   {
    "duration": 134,
    "start_time": "2022-05-12T19:14:40.522Z"
   },
   {
    "duration": 347,
    "start_time": "2022-05-12T19:14:49.134Z"
   },
   {
    "duration": 136,
    "start_time": "2022-05-12T19:15:59.067Z"
   },
   {
    "duration": 126,
    "start_time": "2022-05-12T19:16:05.511Z"
   },
   {
    "duration": 133,
    "start_time": "2022-05-12T19:16:09.986Z"
   },
   {
    "duration": 129,
    "start_time": "2022-05-12T19:17:06.507Z"
   },
   {
    "duration": 124,
    "start_time": "2022-05-12T19:17:16.708Z"
   },
   {
    "duration": 135,
    "start_time": "2022-05-12T19:17:40.445Z"
   },
   {
    "duration": 120,
    "start_time": "2022-05-12T19:17:50.888Z"
   },
   {
    "duration": 52,
    "start_time": "2022-05-12T19:18:15.280Z"
   },
   {
    "duration": 37,
    "start_time": "2022-05-12T19:18:42.417Z"
   },
   {
    "duration": 51,
    "start_time": "2022-05-12T19:19:06.284Z"
   },
   {
    "duration": 44,
    "start_time": "2022-05-12T19:22:08.414Z"
   },
   {
    "duration": 19,
    "start_time": "2022-05-12T19:25:22.977Z"
   },
   {
    "duration": 49,
    "start_time": "2022-05-12T19:26:18.785Z"
   },
   {
    "duration": 36,
    "start_time": "2022-05-12T19:26:28.623Z"
   },
   {
    "duration": 20,
    "start_time": "2022-05-12T19:27:12.119Z"
   },
   {
    "duration": 45,
    "start_time": "2022-05-12T19:27:59.261Z"
   },
   {
    "duration": 4,
    "start_time": "2022-05-12T19:29:54.050Z"
   },
   {
    "duration": 493,
    "start_time": "2022-05-12T19:29:54.065Z"
   },
   {
    "duration": 84,
    "start_time": "2022-05-12T19:29:54.562Z"
   },
   {
    "duration": 35,
    "start_time": "2022-05-12T19:29:54.649Z"
   },
   {
    "duration": 411,
    "start_time": "2022-05-12T19:29:54.724Z"
   },
   {
    "duration": 136,
    "start_time": "2022-05-12T19:29:55.138Z"
   },
   {
    "duration": 98,
    "start_time": "2022-05-12T19:29:55.277Z"
   },
   {
    "duration": 24,
    "start_time": "2022-05-12T19:29:55.377Z"
   },
   {
    "duration": 273,
    "start_time": "2022-05-12T19:29:55.403Z"
   },
   {
    "duration": 48,
    "start_time": "2022-05-12T19:29:55.678Z"
   },
   {
    "duration": 48,
    "start_time": "2022-05-12T19:29:55.730Z"
   },
   {
    "duration": 28,
    "start_time": "2022-05-12T19:30:04.824Z"
   },
   {
    "duration": 38,
    "start_time": "2022-05-12T19:31:29.427Z"
   },
   {
    "duration": 11,
    "start_time": "2022-05-12T19:32:54.719Z"
   },
   {
    "duration": 18,
    "start_time": "2022-05-12T19:33:01.850Z"
   },
   {
    "duration": 17,
    "start_time": "2022-05-12T19:33:37.905Z"
   },
   {
    "duration": 26,
    "start_time": "2022-05-12T19:33:59.068Z"
   },
   {
    "duration": 2157,
    "start_time": "2022-05-12T19:36:45.070Z"
   },
   {
    "duration": 41,
    "start_time": "2022-05-12T19:37:16.282Z"
   },
   {
    "duration": 37,
    "start_time": "2022-05-12T19:40:15.700Z"
   },
   {
    "duration": 15,
    "start_time": "2022-05-12T19:40:34.659Z"
   },
   {
    "duration": 16,
    "start_time": "2022-05-12T19:40:45.652Z"
   },
   {
    "duration": 16,
    "start_time": "2022-05-12T19:41:00.305Z"
   },
   {
    "duration": 36,
    "start_time": "2022-05-12T19:41:03.234Z"
   },
   {
    "duration": 16,
    "start_time": "2022-05-12T19:41:29.676Z"
   },
   {
    "duration": 16,
    "start_time": "2022-05-12T19:41:34.871Z"
   },
   {
    "duration": 36,
    "start_time": "2022-05-12T19:41:44.776Z"
   },
   {
    "duration": 50,
    "start_time": "2022-05-12T19:42:38.904Z"
   },
   {
    "duration": 4,
    "start_time": "2022-05-12T19:47:56.507Z"
   },
   {
    "duration": 462,
    "start_time": "2022-05-12T19:47:56.517Z"
   },
   {
    "duration": 71,
    "start_time": "2022-05-12T19:47:56.982Z"
   },
   {
    "duration": 36,
    "start_time": "2022-05-12T19:47:57.055Z"
   },
   {
    "duration": 369,
    "start_time": "2022-05-12T19:47:57.126Z"
   },
   {
    "duration": 128,
    "start_time": "2022-05-12T19:47:57.497Z"
   },
   {
    "duration": 98,
    "start_time": "2022-05-12T19:47:57.628Z"
   },
   {
    "duration": 23,
    "start_time": "2022-05-12T19:47:57.728Z"
   },
   {
    "duration": 262,
    "start_time": "2022-05-12T19:47:57.753Z"
   },
   {
    "duration": 25,
    "start_time": "2022-05-12T19:47:58.024Z"
   },
   {
    "duration": 56,
    "start_time": "2022-05-12T19:48:05.527Z"
   },
   {
    "duration": 41,
    "start_time": "2022-05-12T19:48:44.237Z"
   },
   {
    "duration": 4,
    "start_time": "2022-05-12T19:49:05.632Z"
   },
   {
    "duration": 481,
    "start_time": "2022-05-12T19:49:05.643Z"
   },
   {
    "duration": 100,
    "start_time": "2022-05-12T19:49:06.127Z"
   },
   {
    "duration": 31,
    "start_time": "2022-05-12T19:49:06.230Z"
   },
   {
    "duration": 419,
    "start_time": "2022-05-12T19:49:06.265Z"
   },
   {
    "duration": 143,
    "start_time": "2022-05-12T19:49:06.687Z"
   },
   {
    "duration": 101,
    "start_time": "2022-05-12T19:49:06.832Z"
   },
   {
    "duration": 22,
    "start_time": "2022-05-12T19:49:06.936Z"
   },
   {
    "duration": 277,
    "start_time": "2022-05-12T19:49:06.961Z"
   },
   {
    "duration": 26,
    "start_time": "2022-05-12T19:49:07.241Z"
   },
   {
    "duration": 82,
    "start_time": "2022-05-12T19:49:07.271Z"
   },
   {
    "duration": 44,
    "start_time": "2022-05-12T19:49:07.355Z"
   },
   {
    "duration": 53,
    "start_time": "2022-05-12T19:49:11.718Z"
   },
   {
    "duration": 58,
    "start_time": "2022-05-12T19:49:36.202Z"
   },
   {
    "duration": 44,
    "start_time": "2022-05-12T19:51:27.928Z"
   },
   {
    "duration": 4,
    "start_time": "2022-05-12T19:52:59.217Z"
   },
   {
    "duration": 519,
    "start_time": "2022-05-12T19:52:59.290Z"
   },
   {
    "duration": 129,
    "start_time": "2022-05-12T19:52:59.813Z"
   },
   {
    "duration": 45,
    "start_time": "2022-05-12T19:52:59.945Z"
   },
   {
    "duration": 450,
    "start_time": "2022-05-12T19:53:00.025Z"
   },
   {
    "duration": 141,
    "start_time": "2022-05-12T19:53:00.478Z"
   },
   {
    "duration": 123,
    "start_time": "2022-05-12T19:53:00.621Z"
   },
   {
    "duration": 30,
    "start_time": "2022-05-12T19:53:00.747Z"
   },
   {
    "duration": 293,
    "start_time": "2022-05-12T19:53:00.779Z"
   },
   {
    "duration": 50,
    "start_time": "2022-05-12T19:53:01.075Z"
   },
   {
    "duration": 96,
    "start_time": "2022-05-12T19:53:01.130Z"
   },
   {
    "duration": 53,
    "start_time": "2022-05-12T19:53:01.229Z"
   },
   {
    "duration": 48,
    "start_time": "2022-05-12T19:53:21.660Z"
   },
   {
    "duration": 5,
    "start_time": "2022-05-12T19:53:47.822Z"
   },
   {
    "duration": 593,
    "start_time": "2022-05-12T19:53:47.831Z"
   },
   {
    "duration": 101,
    "start_time": "2022-05-12T19:53:48.427Z"
   },
   {
    "duration": 32,
    "start_time": "2022-05-12T19:53:48.533Z"
   },
   {
    "duration": 421,
    "start_time": "2022-05-12T19:53:48.567Z"
   },
   {
    "duration": 145,
    "start_time": "2022-05-12T19:53:48.990Z"
   },
   {
    "duration": 98,
    "start_time": "2022-05-12T19:53:49.137Z"
   },
   {
    "duration": 22,
    "start_time": "2022-05-12T19:53:49.238Z"
   },
   {
    "duration": 274,
    "start_time": "2022-05-12T19:53:49.263Z"
   },
   {
    "duration": 23,
    "start_time": "2022-05-12T19:53:49.541Z"
   },
   {
    "duration": 79,
    "start_time": "2022-05-12T19:53:49.566Z"
   },
   {
    "duration": 40,
    "start_time": "2022-05-12T19:53:49.648Z"
   },
   {
    "duration": 47,
    "start_time": "2022-05-12T19:53:53.044Z"
   },
   {
    "duration": 11,
    "start_time": "2022-05-12T19:55:00.160Z"
   },
   {
    "duration": 10,
    "start_time": "2022-05-12T19:55:08.486Z"
   },
   {
    "duration": 37,
    "start_time": "2022-05-12T20:07:04.750Z"
   },
   {
    "duration": 36,
    "start_time": "2022-05-12T20:07:24.559Z"
   },
   {
    "duration": 5,
    "start_time": "2022-05-12T20:07:46.896Z"
   },
   {
    "duration": 666,
    "start_time": "2022-05-12T20:07:46.913Z"
   },
   {
    "duration": 100,
    "start_time": "2022-05-12T20:07:47.582Z"
   },
   {
    "duration": 60,
    "start_time": "2022-05-12T20:07:47.685Z"
   },
   {
    "duration": 396,
    "start_time": "2022-05-12T20:07:47.748Z"
   },
   {
    "duration": 175,
    "start_time": "2022-05-12T20:07:48.146Z"
   },
   {
    "duration": 125,
    "start_time": "2022-05-12T20:07:48.324Z"
   },
   {
    "duration": 32,
    "start_time": "2022-05-12T20:07:48.451Z"
   },
   {
    "duration": 270,
    "start_time": "2022-05-12T20:07:48.485Z"
   },
   {
    "duration": 26,
    "start_time": "2022-05-12T20:07:48.758Z"
   },
   {
    "duration": 89,
    "start_time": "2022-05-12T20:07:48.789Z"
   },
   {
    "duration": 63,
    "start_time": "2022-05-12T20:07:48.880Z"
   },
   {
    "duration": 50,
    "start_time": "2022-05-12T20:07:48.945Z"
   },
   {
    "duration": 70,
    "start_time": "2022-05-12T20:07:48.997Z"
   },
   {
    "duration": 38,
    "start_time": "2022-05-12T20:07:55.099Z"
   },
   {
    "duration": 19,
    "start_time": "2022-05-12T20:12:17.006Z"
   },
   {
    "duration": 16,
    "start_time": "2022-05-12T20:12:23.392Z"
   },
   {
    "duration": 4,
    "start_time": "2022-05-12T20:13:47.224Z"
   },
   {
    "duration": 480,
    "start_time": "2022-05-12T20:13:47.231Z"
   },
   {
    "duration": 75,
    "start_time": "2022-05-12T20:13:47.714Z"
   },
   {
    "duration": 34,
    "start_time": "2022-05-12T20:13:47.824Z"
   },
   {
    "duration": 413,
    "start_time": "2022-05-12T20:13:47.861Z"
   },
   {
    "duration": 138,
    "start_time": "2022-05-12T20:13:48.276Z"
   },
   {
    "duration": 92,
    "start_time": "2022-05-12T20:13:48.417Z"
   },
   {
    "duration": 24,
    "start_time": "2022-05-12T20:13:48.524Z"
   },
   {
    "duration": 277,
    "start_time": "2022-05-12T20:13:48.551Z"
   },
   {
    "duration": 25,
    "start_time": "2022-05-12T20:13:48.830Z"
   },
   {
    "duration": 143,
    "start_time": "2022-05-12T20:13:56.554Z"
   },
   {
    "duration": 62,
    "start_time": "2022-05-12T20:14:04.128Z"
   },
   {
    "duration": 181,
    "start_time": "2022-05-12T20:14:50.300Z"
   },
   {
    "duration": 7,
    "start_time": "2022-05-12T20:15:17.307Z"
   },
   {
    "duration": 61,
    "start_time": "2022-05-12T20:15:28.559Z"
   },
   {
    "duration": 17,
    "start_time": "2022-05-12T20:15:46.361Z"
   },
   {
    "duration": 5,
    "start_time": "2022-05-12T20:15:50.356Z"
   },
   {
    "duration": 464,
    "start_time": "2022-05-12T20:15:50.366Z"
   },
   {
    "duration": 102,
    "start_time": "2022-05-12T20:15:50.833Z"
   },
   {
    "duration": 36,
    "start_time": "2022-05-12T20:15:50.938Z"
   },
   {
    "duration": 461,
    "start_time": "2022-05-12T20:15:50.977Z"
   },
   {
    "duration": 126,
    "start_time": "2022-05-12T20:15:51.441Z"
   },
   {
    "duration": 98,
    "start_time": "2022-05-12T20:15:51.569Z"
   },
   {
    "duration": 22,
    "start_time": "2022-05-12T20:15:51.669Z"
   },
   {
    "duration": 261,
    "start_time": "2022-05-12T20:15:51.693Z"
   },
   {
    "duration": 23,
    "start_time": "2022-05-12T20:15:51.956Z"
   },
   {
    "duration": 84,
    "start_time": "2022-05-12T20:15:51.983Z"
   },
   {
    "duration": 59,
    "start_time": "2022-05-12T20:15:52.069Z"
   },
   {
    "duration": 48,
    "start_time": "2022-05-12T20:15:52.130Z"
   },
   {
    "duration": 75,
    "start_time": "2022-05-12T20:15:52.180Z"
   },
   {
    "duration": 42,
    "start_time": "2022-05-12T20:15:52.257Z"
   },
   {
    "duration": 18,
    "start_time": "2022-05-12T20:15:56.054Z"
   },
   {
    "duration": 19,
    "start_time": "2022-05-12T20:16:17.463Z"
   },
   {
    "duration": 25,
    "start_time": "2022-05-12T20:17:25.843Z"
   },
   {
    "duration": 79,
    "start_time": "2022-05-12T20:18:17.620Z"
   },
   {
    "duration": 4,
    "start_time": "2022-05-12T20:18:33.680Z"
   },
   {
    "duration": 482,
    "start_time": "2022-05-12T20:18:33.690Z"
   },
   {
    "duration": 78,
    "start_time": "2022-05-12T20:18:34.174Z"
   },
   {
    "duration": 32,
    "start_time": "2022-05-12T20:18:34.254Z"
   },
   {
    "duration": 437,
    "start_time": "2022-05-12T20:18:34.289Z"
   },
   {
    "duration": 121,
    "start_time": "2022-05-12T20:18:34.728Z"
   },
   {
    "duration": 98,
    "start_time": "2022-05-12T20:18:34.851Z"
   },
   {
    "duration": 22,
    "start_time": "2022-05-12T20:18:34.951Z"
   },
   {
    "duration": 269,
    "start_time": "2022-05-12T20:18:34.976Z"
   },
   {
    "duration": 24,
    "start_time": "2022-05-12T20:18:35.248Z"
   },
   {
    "duration": 98,
    "start_time": "2022-05-12T20:18:35.275Z"
   },
   {
    "duration": 62,
    "start_time": "2022-05-12T20:18:35.375Z"
   },
   {
    "duration": 47,
    "start_time": "2022-05-12T20:18:35.439Z"
   },
   {
    "duration": 72,
    "start_time": "2022-05-12T20:18:35.488Z"
   },
   {
    "duration": 39,
    "start_time": "2022-05-12T20:18:35.562Z"
   },
   {
    "duration": 23,
    "start_time": "2022-05-12T20:18:43.161Z"
   },
   {
    "duration": 81,
    "start_time": "2022-05-12T20:18:55.125Z"
   },
   {
    "duration": 13,
    "start_time": "2022-05-12T20:26:34.033Z"
   },
   {
    "duration": 17,
    "start_time": "2022-05-12T20:26:52.516Z"
   },
   {
    "duration": 16,
    "start_time": "2022-05-12T20:28:14.180Z"
   },
   {
    "duration": 126,
    "start_time": "2022-05-12T20:29:04.738Z"
   },
   {
    "duration": 128,
    "start_time": "2022-05-12T20:29:15.129Z"
   },
   {
    "duration": 123,
    "start_time": "2022-05-12T20:29:24.242Z"
   },
   {
    "duration": 55,
    "start_time": "2022-05-12T20:30:40.789Z"
   },
   {
    "duration": 515,
    "start_time": "2022-05-12T20:36:42.546Z"
   },
   {
    "duration": 71,
    "start_time": "2022-05-12T20:36:51.017Z"
   },
   {
    "duration": 2673,
    "start_time": "2022-05-12T20:37:06.600Z"
   },
   {
    "duration": 55,
    "start_time": "2022-05-12T20:37:29.857Z"
   },
   {
    "duration": 4,
    "start_time": "2022-05-12T20:38:18.062Z"
   },
   {
    "duration": 2543,
    "start_time": "2022-05-12T20:45:39.663Z"
   },
   {
    "duration": 758,
    "start_time": "2022-05-12T20:46:10.254Z"
   },
   {
    "duration": 807,
    "start_time": "2022-05-12T20:47:16.693Z"
   },
   {
    "duration": 700,
    "start_time": "2022-05-12T20:47:28.483Z"
   },
   {
    "duration": 700,
    "start_time": "2022-05-12T20:47:46.861Z"
   },
   {
    "duration": 940,
    "start_time": "2022-05-12T20:49:10.838Z"
   },
   {
    "duration": 667,
    "start_time": "2022-05-12T20:51:57.312Z"
   },
   {
    "duration": 475,
    "start_time": "2022-05-12T20:52:08.276Z"
   },
   {
    "duration": 491,
    "start_time": "2022-05-12T20:52:33.234Z"
   },
   {
    "duration": 651,
    "start_time": "2022-05-12T20:54:17.373Z"
   },
   {
    "duration": 787,
    "start_time": "2022-05-12T20:54:57.998Z"
   },
   {
    "duration": 12,
    "start_time": "2022-05-12T20:57:21.397Z"
   },
   {
    "duration": 13,
    "start_time": "2022-05-12T21:04:09.246Z"
   },
   {
    "duration": 5,
    "start_time": "2022-05-12T21:06:20.369Z"
   },
   {
    "duration": 479,
    "start_time": "2022-05-12T21:06:20.381Z"
   },
   {
    "duration": 78,
    "start_time": "2022-05-12T21:06:20.863Z"
   },
   {
    "duration": 31,
    "start_time": "2022-05-12T21:06:20.944Z"
   },
   {
    "duration": 460,
    "start_time": "2022-05-12T21:06:20.979Z"
   },
   {
    "duration": 122,
    "start_time": "2022-05-12T21:06:21.441Z"
   },
   {
    "duration": 102,
    "start_time": "2022-05-12T21:06:21.566Z"
   },
   {
    "duration": 24,
    "start_time": "2022-05-12T21:06:21.670Z"
   },
   {
    "duration": 267,
    "start_time": "2022-05-12T21:06:21.697Z"
   },
   {
    "duration": 25,
    "start_time": "2022-05-12T21:06:21.967Z"
   },
   {
    "duration": 108,
    "start_time": "2022-05-12T21:06:21.995Z"
   },
   {
    "duration": 46,
    "start_time": "2022-05-12T21:06:22.126Z"
   },
   {
    "duration": 73,
    "start_time": "2022-05-12T21:06:22.174Z"
   },
   {
    "duration": 48,
    "start_time": "2022-05-12T21:06:22.249Z"
   },
   {
    "duration": 61,
    "start_time": "2022-05-12T21:06:22.300Z"
   },
   {
    "duration": 81,
    "start_time": "2022-05-12T21:06:22.363Z"
   },
   {
    "duration": 749,
    "start_time": "2022-05-12T21:06:22.446Z"
   },
   {
    "duration": 505,
    "start_time": "2022-05-12T21:06:23.197Z"
   },
   {
    "duration": 923,
    "start_time": "2022-05-12T21:06:23.704Z"
   },
   {
    "duration": 13,
    "start_time": "2022-05-12T21:06:31.953Z"
   },
   {
    "duration": 89,
    "start_time": "2022-05-12T21:08:49.652Z"
   },
   {
    "duration": 61,
    "start_time": "2022-05-12T21:08:56.280Z"
   },
   {
    "duration": 8,
    "start_time": "2022-05-12T21:09:00.948Z"
   },
   {
    "duration": 10,
    "start_time": "2022-05-12T21:09:30.219Z"
   },
   {
    "duration": 9,
    "start_time": "2022-05-12T21:10:50.686Z"
   },
   {
    "duration": 15,
    "start_time": "2022-05-12T21:10:53.258Z"
   },
   {
    "duration": 9,
    "start_time": "2022-05-12T21:12:36.090Z"
   },
   {
    "duration": 9,
    "start_time": "2022-05-12T21:13:20.798Z"
   },
   {
    "duration": 21,
    "start_time": "2022-05-12T21:16:27.054Z"
   },
   {
    "duration": 73,
    "start_time": "2022-05-12T21:16:47.132Z"
   },
   {
    "duration": 23,
    "start_time": "2022-05-12T21:17:11.115Z"
   },
   {
    "duration": 4,
    "start_time": "2022-05-12T21:17:30.459Z"
   },
   {
    "duration": 472,
    "start_time": "2022-05-12T21:17:30.471Z"
   },
   {
    "duration": 85,
    "start_time": "2022-05-12T21:17:30.946Z"
   },
   {
    "duration": 33,
    "start_time": "2022-05-12T21:17:31.033Z"
   },
   {
    "duration": 425,
    "start_time": "2022-05-12T21:17:31.069Z"
   },
   {
    "duration": 143,
    "start_time": "2022-05-12T21:17:31.496Z"
   },
   {
    "duration": 100,
    "start_time": "2022-05-12T21:17:31.642Z"
   },
   {
    "duration": 25,
    "start_time": "2022-05-12T21:17:31.744Z"
   },
   {
    "duration": 275,
    "start_time": "2022-05-12T21:17:43.135Z"
   },
   {
    "duration": 4,
    "start_time": "2022-05-12T21:18:19.563Z"
   },
   {
    "duration": 466,
    "start_time": "2022-05-12T21:18:19.573Z"
   },
   {
    "duration": 93,
    "start_time": "2022-05-12T21:18:20.042Z"
   },
   {
    "duration": 32,
    "start_time": "2022-05-12T21:18:20.137Z"
   },
   {
    "duration": 417,
    "start_time": "2022-05-12T21:18:20.172Z"
   },
   {
    "duration": 135,
    "start_time": "2022-05-12T21:18:20.591Z"
   },
   {
    "duration": 98,
    "start_time": "2022-05-12T21:18:20.728Z"
   },
   {
    "duration": 24,
    "start_time": "2022-05-12T21:18:20.828Z"
   },
   {
    "duration": 298,
    "start_time": "2022-05-12T21:18:20.855Z"
   },
   {
    "duration": 25,
    "start_time": "2022-05-12T21:18:21.156Z"
   },
   {
    "duration": 103,
    "start_time": "2022-05-12T21:18:21.185Z"
   },
   {
    "duration": 59,
    "start_time": "2022-05-12T21:18:21.291Z"
   },
   {
    "duration": 75,
    "start_time": "2022-05-12T21:18:21.353Z"
   },
   {
    "duration": 49,
    "start_time": "2022-05-12T21:18:28.780Z"
   },
   {
    "duration": 20,
    "start_time": "2022-05-12T21:19:11.174Z"
   },
   {
    "duration": 51,
    "start_time": "2022-05-12T21:19:22.084Z"
   },
   {
    "duration": 3,
    "start_time": "2022-05-12T21:20:36.997Z"
   },
   {
    "duration": 499,
    "start_time": "2022-05-12T21:20:37.007Z"
   },
   {
    "duration": 72,
    "start_time": "2022-05-12T21:20:37.509Z"
   },
   {
    "duration": 57,
    "start_time": "2022-05-12T21:20:37.584Z"
   },
   {
    "duration": 399,
    "start_time": "2022-05-12T21:20:37.645Z"
   },
   {
    "duration": 204,
    "start_time": "2022-05-12T21:20:38.047Z"
   },
   {
    "duration": 110,
    "start_time": "2022-05-12T21:20:38.253Z"
   },
   {
    "duration": 24,
    "start_time": "2022-05-12T21:20:38.365Z"
   },
   {
    "duration": 393,
    "start_time": "2022-05-12T21:20:38.392Z"
   },
   {
    "duration": 56,
    "start_time": "2022-05-12T21:20:38.788Z"
   },
   {
    "duration": 88,
    "start_time": "2022-05-12T21:20:42.235Z"
   },
   {
    "duration": 4,
    "start_time": "2022-05-12T21:20:52.097Z"
   },
   {
    "duration": 471,
    "start_time": "2022-05-12T21:20:52.106Z"
   },
   {
    "duration": 79,
    "start_time": "2022-05-12T21:20:52.580Z"
   },
   {
    "duration": 67,
    "start_time": "2022-05-12T21:20:52.662Z"
   },
   {
    "duration": 401,
    "start_time": "2022-05-12T21:20:52.733Z"
   },
   {
    "duration": 129,
    "start_time": "2022-05-12T21:20:53.136Z"
   },
   {
    "duration": 98,
    "start_time": "2022-05-12T21:20:53.268Z"
   },
   {
    "duration": 26,
    "start_time": "2022-05-12T21:20:53.368Z"
   },
   {
    "duration": 289,
    "start_time": "2022-05-12T21:20:53.396Z"
   },
   {
    "duration": 47,
    "start_time": "2022-05-12T21:20:53.688Z"
   },
   {
    "duration": 100,
    "start_time": "2022-05-12T21:20:53.738Z"
   },
   {
    "duration": 42,
    "start_time": "2022-05-12T21:20:53.841Z"
   },
   {
    "duration": 77,
    "start_time": "2022-05-12T21:20:53.886Z"
   },
   {
    "duration": 71,
    "start_time": "2022-05-12T21:20:53.966Z"
   },
   {
    "duration": 48,
    "start_time": "2022-05-12T21:20:54.038Z"
   },
   {
    "duration": 76,
    "start_time": "2022-05-12T21:20:54.088Z"
   },
   {
    "duration": 817,
    "start_time": "2022-05-12T21:20:54.166Z"
   },
   {
    "duration": 485,
    "start_time": "2022-05-12T21:20:54.985Z"
   },
   {
    "duration": 1205,
    "start_time": "2022-05-12T21:20:55.473Z"
   },
   {
    "duration": 14,
    "start_time": "2022-05-12T21:20:56.681Z"
   },
   {
    "duration": 13,
    "start_time": "2022-05-12T21:21:02.858Z"
   },
   {
    "duration": 18,
    "start_time": "2022-05-12T21:21:36.308Z"
   },
   {
    "duration": 18,
    "start_time": "2022-05-12T21:21:47.071Z"
   },
   {
    "duration": 14,
    "start_time": "2022-05-12T21:21:52.054Z"
   },
   {
    "duration": 15,
    "start_time": "2022-05-12T21:22:22.541Z"
   },
   {
    "duration": 9,
    "start_time": "2022-05-12T21:23:15.670Z"
   }
  ],
  "kernelspec": {
   "display_name": "Python 3 (ipykernel)",
   "language": "python",
   "name": "python3"
  },
  "language_info": {
   "codemirror_mode": {
    "name": "ipython",
    "version": 3
   },
   "file_extension": ".py",
   "mimetype": "text/x-python",
   "name": "python",
   "nbconvert_exporter": "python",
   "pygments_lexer": "ipython3",
   "version": "3.9.5"
  },
  "toc": {
   "base_numbering": 1,
   "nav_menu": {},
   "number_sections": true,
   "sideBar": true,
   "skip_h1_title": true,
   "title_cell": "Table of Contents",
   "title_sidebar": "Contents",
   "toc_cell": false,
   "toc_position": {},
   "toc_section_display": true,
   "toc_window_display": false
  }
 },
 "nbformat": 4,
 "nbformat_minor": 2
}
