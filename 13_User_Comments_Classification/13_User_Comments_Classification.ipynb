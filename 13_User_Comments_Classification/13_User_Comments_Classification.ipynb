{
 "cells": [
  {
   "cell_type": "markdown",
   "metadata": {
    "toc": true
   },
   "source": [
    "<h1>Содержание<span class=\"tocSkip\"></span></h1>\n",
    "<div class=\"toc\"><ul class=\"toc-item\"><li><span><a href=\"#Подготовка\" data-toc-modified-id=\"Подготовка-1\"><span class=\"toc-item-num\">1&nbsp;&nbsp;</span>Подготовка</a></span><ul class=\"toc-item\"><li><span><a href=\"#Импортируем-необходимые-библиотеки-и-модули\" data-toc-modified-id=\"Импортируем-необходимые-библиотеки-и-модули-1.1\"><span class=\"toc-item-num\">1.1&nbsp;&nbsp;</span>Импортируем необходимые библиотеки и модули</a></span></li><li><span><a href=\"#Взглянем-на-данные-и-визуализируем-распределение-признаков\" data-toc-modified-id=\"Взглянем-на-данные-и-визуализируем-распределение-признаков-1.2\"><span class=\"toc-item-num\">1.2&nbsp;&nbsp;</span>Взглянем на данные и визуализируем распределение признаков</a></span></li><li><span><a href=\"#Подготовка-текста-для-обучения-модели\" data-toc-modified-id=\"Подготовка-текста-для-обучения-модели-1.3\"><span class=\"toc-item-num\">1.3&nbsp;&nbsp;</span>Подготовка текста для обучения модели</a></span></li><li><span><a href=\"#Подготовка-выборок-для-обучения-модели-и-ее-тестирования\" data-toc-modified-id=\"Подготовка-выборок-для-обучения-модели-и-ее-тестирования-1.4\"><span class=\"toc-item-num\">1.4&nbsp;&nbsp;</span>Подготовка выборок для обучения модели и ее тестирования</a></span></li></ul></li><li><span><a href=\"#Обучение\" data-toc-modified-id=\"Обучение-2\"><span class=\"toc-item-num\">2&nbsp;&nbsp;</span>Обучение</a></span><ul class=\"toc-item\"><li><span><a href=\"#Перевод-текста-в-векторный-вид\" data-toc-modified-id=\"Перевод-текста-в-векторный-вид-2.1\"><span class=\"toc-item-num\">2.1&nbsp;&nbsp;</span>Перевод текста в векторный вид</a></span></li><li><span><a href=\"#Обучение-и-тестирование-логистической-регрессии\" data-toc-modified-id=\"Обучение-и-тестирование-логистической-регрессии-2.2\"><span class=\"toc-item-num\">2.2&nbsp;&nbsp;</span>Обучение и тестирование логистической регрессии</a></span></li><li><span><a href=\"#Обучение-и-тестирование-гребневой-классификации\" data-toc-modified-id=\"Обучение-и-тестирование-гребневой-классификации-2.3\"><span class=\"toc-item-num\">2.3&nbsp;&nbsp;</span>Обучение и тестирование гребневой классификации</a></span></li></ul></li><li><span><a href=\"#Выводы\" data-toc-modified-id=\"Выводы-3\"><span class=\"toc-item-num\">3&nbsp;&nbsp;</span>Выводы</a></span></li><li><span><a href=\"#Чек-лист-проверки\" data-toc-modified-id=\"Чек-лист-проверки-4\"><span class=\"toc-item-num\">4&nbsp;&nbsp;</span>Чек-лист проверки</a></span></li></ul></div>"
   ]
  },
  {
   "cell_type": "markdown",
   "metadata": {},
   "source": [
    "# Проект для «Викишоп»"
   ]
  },
  {
   "cell_type": "markdown",
   "metadata": {},
   "source": [
    "Интернет-магазин «Викишоп» запускает новый сервис. Теперь пользователи могут редактировать и дополнять описания товаров, как в вики-сообществах. То есть клиенты предлагают свои правки и комментируют изменения других. Магазину нужен инструмент, который будет искать токсичные комментарии и отправлять их на модерацию. \n",
    "\n",
    "Обучите модель классифицировать комментарии на позитивные и негативные. В вашем распоряжении набор данных с разметкой о токсичности правок.\n",
    "\n",
    "Постройте модель со значением метрики качества *F1* не меньше 0.75. \n",
    "\n",
    "**Описание данных**\n",
    "\n",
    "Данные находятся в файле `toxic_comments.csv`. Столбец *text* в нём содержит текст комментария, а *toxic* — целевой признак."
   ]
  },
  {
   "cell_type": "markdown",
   "metadata": {},
   "source": [
    "## Подготовка"
   ]
  },
  {
   "cell_type": "markdown",
   "metadata": {},
   "source": [
    "### Импортируем необходимые библиотеки и модули"
   ]
  },
  {
   "cell_type": "code",
   "execution_count": 1,
   "metadata": {},
   "outputs": [],
   "source": [
    "import warnings\n",
    "warnings.filterwarnings('ignore')\n",
    "\n",
    "import numpy as np\n",
    "import pandas as pd\n",
    "import re\n",
    "\n",
    "\n",
    "from matplotlib import pyplot as plt\n",
    "import seaborn as sns\n",
    "\n",
    "from tqdm import tqdm, tqdm_notebook, notebook\n",
    "\n",
    "from sklearn.model_selection import train_test_split, GridSearchCV\n",
    "from sklearn.metrics import f1_score\n",
    "from sklearn.linear_model import LogisticRegression, RidgeClassifier\n",
    "from sklearn.feature_extraction.text import TfidfVectorizer\n",
    "\n",
    "import nltk\n",
    "#nltk.download('stopwords')\n",
    "from nltk.corpus import stopwords "
   ]
  },
  {
   "cell_type": "markdown",
   "metadata": {},
   "source": [
    "### Взглянем на данные и визуализируем распределение признаков"
   ]
  },
  {
   "cell_type": "code",
   "execution_count": 2,
   "metadata": {},
   "outputs": [
    {
     "data": {
      "text/html": [
       "<div>\n",
       "<style scoped>\n",
       "    .dataframe tbody tr th:only-of-type {\n",
       "        vertical-align: middle;\n",
       "    }\n",
       "\n",
       "    .dataframe tbody tr th {\n",
       "        vertical-align: top;\n",
       "    }\n",
       "\n",
       "    .dataframe thead th {\n",
       "        text-align: right;\n",
       "    }\n",
       "</style>\n",
       "<table border=\"1\" class=\"dataframe\">\n",
       "  <thead>\n",
       "    <tr style=\"text-align: right;\">\n",
       "      <th></th>\n",
       "      <th>text</th>\n",
       "      <th>toxic</th>\n",
       "    </tr>\n",
       "  </thead>\n",
       "  <tbody>\n",
       "    <tr>\n",
       "      <th>0</th>\n",
       "      <td>Explanation\\nWhy the edits made under my usern...</td>\n",
       "      <td>0</td>\n",
       "    </tr>\n",
       "    <tr>\n",
       "      <th>1</th>\n",
       "      <td>D'aww! He matches this background colour I'm s...</td>\n",
       "      <td>0</td>\n",
       "    </tr>\n",
       "    <tr>\n",
       "      <th>2</th>\n",
       "      <td>Hey man, I'm really not trying to edit war. It...</td>\n",
       "      <td>0</td>\n",
       "    </tr>\n",
       "    <tr>\n",
       "      <th>3</th>\n",
       "      <td>\"\\nMore\\nI can't make any real suggestions on ...</td>\n",
       "      <td>0</td>\n",
       "    </tr>\n",
       "    <tr>\n",
       "      <th>4</th>\n",
       "      <td>You, sir, are my hero. Any chance you remember...</td>\n",
       "      <td>0</td>\n",
       "    </tr>\n",
       "  </tbody>\n",
       "</table>\n",
       "</div>"
      ],
      "text/plain": [
       "                                                text  toxic\n",
       "0  Explanation\\nWhy the edits made under my usern...      0\n",
       "1  D'aww! He matches this background colour I'm s...      0\n",
       "2  Hey man, I'm really not trying to edit war. It...      0\n",
       "3  \"\\nMore\\nI can't make any real suggestions on ...      0\n",
       "4  You, sir, are my hero. Any chance you remember...      0"
      ]
     },
     "metadata": {},
     "output_type": "display_data"
    },
    {
     "data": {
      "text/plain": [
       "<AxesSubplot:title={'center':'Баланс токсичных комментариев'}>"
      ]
     },
     "execution_count": 2,
     "metadata": {},
     "output_type": "execute_result"
    },
    {
     "data": {
      "image/png": "[encoded data removed]",
      "text/plain": [
       "<Figure size 216x288 with 1 Axes>"
      ]
     },
     "metadata": {
      "needs_background": "light"
     },
     "output_type": "display_data"
    }
   ],
   "source": [
    "# выведем первые 5 строк таблицы\n",
    "data = pd.read_csv('/datasets/toxic_comments.csv')\n",
    "display(data.head(5))\n",
    "\n",
    "# проведем визуализацию баланса целевого признака\n",
    "plt.title('Баланс токсичных комментариев')\n",
    "data['toxic'].value_counts().plot(kind = 'bar', figsize = (3,4))"
   ]
  },
  {
   "cell_type": "markdown",
   "metadata": {},
   "source": [
    "<b>ПРОМЕЖУТОЧНЫЙ ВЫВОД:</b> виднеется сильный дисбаланс классов. Добавим метапризнаки для более детального анализа данных"
   ]
  },
  {
   "cell_type": "code",
   "execution_count": 3,
   "metadata": {},
   "outputs": [
    {
     "data": {
      "text/html": [
       "<div>\n",
       "<style scoped>\n",
       "    .dataframe tbody tr th:only-of-type {\n",
       "        vertical-align: middle;\n",
       "    }\n",
       "\n",
       "    .dataframe tbody tr th {\n",
       "        vertical-align: top;\n",
       "    }\n",
       "\n",
       "    .dataframe thead th {\n",
       "        text-align: right;\n",
       "    }\n",
       "</style>\n",
       "<table border=\"1\" class=\"dataframe\">\n",
       "  <thead>\n",
       "    <tr style=\"text-align: right;\">\n",
       "      <th></th>\n",
       "      <th>text</th>\n",
       "      <th>toxic</th>\n",
       "      <th>word_count</th>\n",
       "      <th>word_unique_count</th>\n",
       "      <th>symbol_count</th>\n",
       "      <th>mean_word_length</th>\n",
       "    </tr>\n",
       "  </thead>\n",
       "  <tbody>\n",
       "    <tr>\n",
       "      <th>0</th>\n",
       "      <td>Explanation\\nWhy the edits made under my usern...</td>\n",
       "      <td>0</td>\n",
       "      <td>43</td>\n",
       "      <td>41</td>\n",
       "      <td>264</td>\n",
       "      <td>5.162791</td>\n",
       "    </tr>\n",
       "    <tr>\n",
       "      <th>1</th>\n",
       "      <td>D'aww! He matches this background colour I'm s...</td>\n",
       "      <td>0</td>\n",
       "      <td>17</td>\n",
       "      <td>17</td>\n",
       "      <td>112</td>\n",
       "      <td>5.588235</td>\n",
       "    </tr>\n",
       "    <tr>\n",
       "      <th>2</th>\n",
       "      <td>Hey man, I'm really not trying to edit war. It...</td>\n",
       "      <td>0</td>\n",
       "      <td>42</td>\n",
       "      <td>39</td>\n",
       "      <td>233</td>\n",
       "      <td>4.571429</td>\n",
       "    </tr>\n",
       "    <tr>\n",
       "      <th>3</th>\n",
       "      <td>\"\\nMore\\nI can't make any real suggestions on ...</td>\n",
       "      <td>0</td>\n",
       "      <td>113</td>\n",
       "      <td>82</td>\n",
       "      <td>622</td>\n",
       "      <td>4.486726</td>\n",
       "    </tr>\n",
       "    <tr>\n",
       "      <th>4</th>\n",
       "      <td>You, sir, are my hero. Any chance you remember...</td>\n",
       "      <td>0</td>\n",
       "      <td>13</td>\n",
       "      <td>13</td>\n",
       "      <td>67</td>\n",
       "      <td>4.230769</td>\n",
       "    </tr>\n",
       "  </tbody>\n",
       "</table>\n",
       "</div>"
      ],
      "text/plain": [
       "                                                text  toxic  word_count  \\\n",
       "0  Explanation\\nWhy the edits made under my usern...      0          43   \n",
       "1  D'aww! He matches this background colour I'm s...      0          17   \n",
       "2  Hey man, I'm really not trying to edit war. It...      0          42   \n",
       "3  \"\\nMore\\nI can't make any real suggestions on ...      0         113   \n",
       "4  You, sir, are my hero. Any chance you remember...      0          13   \n",
       "\n",
       "   word_unique_count  symbol_count  mean_word_length  \n",
       "0                 41           264          5.162791  \n",
       "1                 17           112          5.588235  \n",
       "2                 39           233          4.571429  \n",
       "3                 82           622          4.486726  \n",
       "4                 13            67          4.230769  "
      ]
     },
     "execution_count": 3,
     "metadata": {},
     "output_type": "execute_result"
    }
   ],
   "source": [
    "# создадим функцию добавления метапризнаков\n",
    "def add_features(data,stopwords):\n",
    "    data['word_count'] = data['text'].apply(lambda x: len(str(x).split()))\n",
    "    data['word_unique_count'] = data['text'].apply(lambda x: len(set(str(x).split())))\n",
    "    data['symbol_count'] = data['text'].apply(lambda x: len(str(x)))\n",
    "    data['mean_word_length'] = data['text'].apply(lambda x: np.mean([len(word) for word in str(x).split()]))\n",
    "    return data\n",
    "\n",
    "#применим функцию и сохраним результат в новой переменной\n",
    "data_changed = add_features(data, stopwords)\n",
    "data_changed.head(5)"
   ]
  },
  {
   "cell_type": "code",
   "execution_count": 4,
   "metadata": {},
   "outputs": [
    {
     "data": {
      "image/png": "[encoded data removed]",
      "text/plain": [
       "<Figure size 1080x1440 with 4 Axes>"
      ]
     },
     "metadata": {
      "needs_background": "light"
     },
     "output_type": "display_data"
    }
   ],
   "source": [
    "# визуализируем распределение метапризнаков\n",
    "additional_features = ['word_count', 'word_unique_count', 'symbol_count', 'mean_word_length']\n",
    "TOXIC_COMMENTS = data_changed['toxic'] == 1\n",
    "\n",
    "fig, axes = plt.subplots(nrows=len(additional_features), figsize=(15, 20))\n",
    "\n",
    "for i, feature in enumerate(additional_features):\n",
    "    sns.distplot(data.loc[~TOXIC_COMMENTS][feature], label='Нетоксичные комментарии', ax=axes[i], color='green')\n",
    "    sns.distplot(data.loc[TOXIC_COMMENTS][feature], label='Токсичные комментарии', ax=axes[i], color='red')\n",
    "    axes[i].set_xlabel('')\n",
    "    axes[i].tick_params(axis='x', labelsize=8)\n",
    "    axes[i].tick_params(axis='y', labelsize=8)\n",
    "    axes[i].legend(fontsize = 10)\n",
    "    axes[i].set_title(feature, fontsize=12)\n",
    "\n",
    "plt.show()"
   ]
  },
  {
   "cell_type": "markdown",
   "metadata": {},
   "source": [
    "<b>ВЫВОД:</b> токсичные комментарии содержат в себе больше слов, в т.ч. уникальных и длиннее по количеству символов. А вот средняя длина каждого слова короче, видимо, экспрессия может быть выражена коротко, но емко."
   ]
  },
  {
   "cell_type": "markdown",
   "metadata": {},
   "source": [
    "### Подготовка текста для обучения модели\n",
    "\n",
    "Этапы подготовки идут последовательно:\n",
    "1) очистка текста от лишних символов и перевод в нижний регистр\n",
    "\n",
    "2) токенизация текста\n",
    "\n",
    "3) очистка от несмысловых стоп-слов\n",
    "\n",
    "4) лемматизация оставшихся лексических единиц"
   ]
  },
  {
   "cell_type": "code",
   "execution_count": 5,
   "metadata": {},
   "outputs": [
    {
     "data": {
      "text/html": [
       "<div>\n",
       "<style scoped>\n",
       "    .dataframe tbody tr th:only-of-type {\n",
       "        vertical-align: middle;\n",
       "    }\n",
       "\n",
       "    .dataframe tbody tr th {\n",
       "        vertical-align: top;\n",
       "    }\n",
       "\n",
       "    .dataframe thead th {\n",
       "        text-align: right;\n",
       "    }\n",
       "</style>\n",
       "<table border=\"1\" class=\"dataframe\">\n",
       "  <thead>\n",
       "    <tr style=\"text-align: right;\">\n",
       "      <th></th>\n",
       "      <th>text</th>\n",
       "      <th>toxic</th>\n",
       "      <th>word_count</th>\n",
       "      <th>word_unique_count</th>\n",
       "      <th>symbol_count</th>\n",
       "      <th>mean_word_length</th>\n",
       "      <th>clean_text</th>\n",
       "    </tr>\n",
       "  </thead>\n",
       "  <tbody>\n",
       "    <tr>\n",
       "      <th>0</th>\n",
       "      <td>Explanation\\nWhy the edits made under my usern...</td>\n",
       "      <td>0</td>\n",
       "      <td>43</td>\n",
       "      <td>41</td>\n",
       "      <td>264</td>\n",
       "      <td>5.162791</td>\n",
       "      <td>explanation why the edits made under my userna...</td>\n",
       "    </tr>\n",
       "    <tr>\n",
       "      <th>1</th>\n",
       "      <td>D'aww! He matches this background colour I'm s...</td>\n",
       "      <td>0</td>\n",
       "      <td>17</td>\n",
       "      <td>17</td>\n",
       "      <td>112</td>\n",
       "      <td>5.588235</td>\n",
       "      <td>daww he matches this background colour im seem...</td>\n",
       "    </tr>\n",
       "    <tr>\n",
       "      <th>2</th>\n",
       "      <td>Hey man, I'm really not trying to edit war. It...</td>\n",
       "      <td>0</td>\n",
       "      <td>42</td>\n",
       "      <td>39</td>\n",
       "      <td>233</td>\n",
       "      <td>4.571429</td>\n",
       "      <td>hey man im really not trying to edit war its j...</td>\n",
       "    </tr>\n",
       "    <tr>\n",
       "      <th>3</th>\n",
       "      <td>\"\\nMore\\nI can't make any real suggestions on ...</td>\n",
       "      <td>0</td>\n",
       "      <td>113</td>\n",
       "      <td>82</td>\n",
       "      <td>622</td>\n",
       "      <td>4.486726</td>\n",
       "      <td>more i cant make any real suggestions on impro...</td>\n",
       "    </tr>\n",
       "    <tr>\n",
       "      <th>4</th>\n",
       "      <td>You, sir, are my hero. Any chance you remember...</td>\n",
       "      <td>0</td>\n",
       "      <td>13</td>\n",
       "      <td>13</td>\n",
       "      <td>67</td>\n",
       "      <td>4.230769</td>\n",
       "      <td>you sir are my hero any chance you remember wh...</td>\n",
       "    </tr>\n",
       "  </tbody>\n",
       "</table>\n",
       "</div>"
      ],
      "text/plain": [
       "                                                text  toxic  word_count  \\\n",
       "0  Explanation\\nWhy the edits made under my usern...      0          43   \n",
       "1  D'aww! He matches this background colour I'm s...      0          17   \n",
       "2  Hey man, I'm really not trying to edit war. It...      0          42   \n",
       "3  \"\\nMore\\nI can't make any real suggestions on ...      0         113   \n",
       "4  You, sir, are my hero. Any chance you remember...      0          13   \n",
       "\n",
       "   word_unique_count  symbol_count  mean_word_length  \\\n",
       "0                 41           264          5.162791   \n",
       "1                 17           112          5.588235   \n",
       "2                 39           233          4.571429   \n",
       "3                 82           622          4.486726   \n",
       "4                 13            67          4.230769   \n",
       "\n",
       "                                          clean_text  \n",
       "0  explanation why the edits made under my userna...  \n",
       "1  daww he matches this background colour im seem...  \n",
       "2  hey man im really not trying to edit war its j...  \n",
       "3  more i cant make any real suggestions on impro...  \n",
       "4  you sir are my hero any chance you remember wh...  "
      ]
     },
     "execution_count": 5,
     "metadata": {},
     "output_type": "execute_result"
    }
   ],
   "source": [
    "# создадим функцию для очистки текста\n",
    "def clean(text):\n",
    "    text = text.lower()    \n",
    "    text = re.sub(r\"(?:\\n|\\r)\", \" \", text)\n",
    "    text = re.sub(r\"[^a-zA-Z ]+\", \"\", text).strip()\n",
    "    return text\n",
    "data_changed['clean_text'] = data_changed['text'].apply(clean)\n",
    "data_changed.head(5)"
   ]
  },
  {
   "cell_type": "code",
   "execution_count": 6,
   "metadata": {},
   "outputs": [
    {
     "data": {
      "text/html": [
       "<div>\n",
       "<style scoped>\n",
       "    .dataframe tbody tr th:only-of-type {\n",
       "        vertical-align: middle;\n",
       "    }\n",
       "\n",
       "    .dataframe tbody tr th {\n",
       "        vertical-align: top;\n",
       "    }\n",
       "\n",
       "    .dataframe thead th {\n",
       "        text-align: right;\n",
       "    }\n",
       "</style>\n",
       "<table border=\"1\" class=\"dataframe\">\n",
       "  <thead>\n",
       "    <tr style=\"text-align: right;\">\n",
       "      <th></th>\n",
       "      <th>text</th>\n",
       "      <th>toxic</th>\n",
       "      <th>word_count</th>\n",
       "      <th>word_unique_count</th>\n",
       "      <th>symbol_count</th>\n",
       "      <th>mean_word_length</th>\n",
       "      <th>clean_text</th>\n",
       "      <th>tokenized_text</th>\n",
       "    </tr>\n",
       "  </thead>\n",
       "  <tbody>\n",
       "    <tr>\n",
       "      <th>0</th>\n",
       "      <td>Explanation\\nWhy the edits made under my usern...</td>\n",
       "      <td>0</td>\n",
       "      <td>43</td>\n",
       "      <td>41</td>\n",
       "      <td>264</td>\n",
       "      <td>5.162791</td>\n",
       "      <td>explanation why the edits made under my userna...</td>\n",
       "      <td>[explanation, why, the, edits, made, under, my...</td>\n",
       "    </tr>\n",
       "    <tr>\n",
       "      <th>1</th>\n",
       "      <td>D'aww! He matches this background colour I'm s...</td>\n",
       "      <td>0</td>\n",
       "      <td>17</td>\n",
       "      <td>17</td>\n",
       "      <td>112</td>\n",
       "      <td>5.588235</td>\n",
       "      <td>daww he matches this background colour im seem...</td>\n",
       "      <td>[daww, he, matches, this, background, colour, ...</td>\n",
       "    </tr>\n",
       "    <tr>\n",
       "      <th>2</th>\n",
       "      <td>Hey man, I'm really not trying to edit war. It...</td>\n",
       "      <td>0</td>\n",
       "      <td>42</td>\n",
       "      <td>39</td>\n",
       "      <td>233</td>\n",
       "      <td>4.571429</td>\n",
       "      <td>hey man im really not trying to edit war its j...</td>\n",
       "      <td>[hey, man, im, really, not, trying, to, edit, ...</td>\n",
       "    </tr>\n",
       "    <tr>\n",
       "      <th>3</th>\n",
       "      <td>\"\\nMore\\nI can't make any real suggestions on ...</td>\n",
       "      <td>0</td>\n",
       "      <td>113</td>\n",
       "      <td>82</td>\n",
       "      <td>622</td>\n",
       "      <td>4.486726</td>\n",
       "      <td>more i cant make any real suggestions on impro...</td>\n",
       "      <td>[more, i, cant, make, any, real, suggestions, ...</td>\n",
       "    </tr>\n",
       "    <tr>\n",
       "      <th>4</th>\n",
       "      <td>You, sir, are my hero. Any chance you remember...</td>\n",
       "      <td>0</td>\n",
       "      <td>13</td>\n",
       "      <td>13</td>\n",
       "      <td>67</td>\n",
       "      <td>4.230769</td>\n",
       "      <td>you sir are my hero any chance you remember wh...</td>\n",
       "      <td>[you, sir, are, my, hero, any, chance, you, re...</td>\n",
       "    </tr>\n",
       "  </tbody>\n",
       "</table>\n",
       "</div>"
      ],
      "text/plain": [
       "                                                text  toxic  word_count  \\\n",
       "0  Explanation\\nWhy the edits made under my usern...      0          43   \n",
       "1  D'aww! He matches this background colour I'm s...      0          17   \n",
       "2  Hey man, I'm really not trying to edit war. It...      0          42   \n",
       "3  \"\\nMore\\nI can't make any real suggestions on ...      0         113   \n",
       "4  You, sir, are my hero. Any chance you remember...      0          13   \n",
       "\n",
       "   word_unique_count  symbol_count  mean_word_length  \\\n",
       "0                 41           264          5.162791   \n",
       "1                 17           112          5.588235   \n",
       "2                 39           233          4.571429   \n",
       "3                 82           622          4.486726   \n",
       "4                 13            67          4.230769   \n",
       "\n",
       "                                          clean_text  \\\n",
       "0  explanation why the edits made under my userna...   \n",
       "1  daww he matches this background colour im seem...   \n",
       "2  hey man im really not trying to edit war its j...   \n",
       "3  more i cant make any real suggestions on impro...   \n",
       "4  you sir are my hero any chance you remember wh...   \n",
       "\n",
       "                                      tokenized_text  \n",
       "0  [explanation, why, the, edits, made, under, my...  \n",
       "1  [daww, he, matches, this, background, colour, ...  \n",
       "2  [hey, man, im, really, not, trying, to, edit, ...  \n",
       "3  [more, i, cant, make, any, real, suggestions, ...  \n",
       "4  [you, sir, are, my, hero, any, chance, you, re...  "
      ]
     },
     "execution_count": 6,
     "metadata": {},
     "output_type": "execute_result"
    }
   ],
   "source": [
    "#создадим функцию для токенизации текста\n",
    "def tokenization(text):\n",
    "    text = re.split('\\W+', text)\n",
    "    return text\n",
    "\n",
    "data_changed['tokenized_text'] = data_changed['clean_text'].apply(lambda x: tokenization(x))\n",
    "data_changed.head(5)"
   ]
  },
  {
   "cell_type": "code",
   "execution_count": 7,
   "metadata": {},
   "outputs": [
    {
     "data": {
      "text/html": [
       "<div>\n",
       "<style scoped>\n",
       "    .dataframe tbody tr th:only-of-type {\n",
       "        vertical-align: middle;\n",
       "    }\n",
       "\n",
       "    .dataframe tbody tr th {\n",
       "        vertical-align: top;\n",
       "    }\n",
       "\n",
       "    .dataframe thead th {\n",
       "        text-align: right;\n",
       "    }\n",
       "</style>\n",
       "<table border=\"1\" class=\"dataframe\">\n",
       "  <thead>\n",
       "    <tr style=\"text-align: right;\">\n",
       "      <th></th>\n",
       "      <th>text</th>\n",
       "      <th>toxic</th>\n",
       "      <th>word_count</th>\n",
       "      <th>word_unique_count</th>\n",
       "      <th>symbol_count</th>\n",
       "      <th>mean_word_length</th>\n",
       "      <th>clean_text</th>\n",
       "      <th>tokenized_text</th>\n",
       "      <th>nonstop_words</th>\n",
       "    </tr>\n",
       "  </thead>\n",
       "  <tbody>\n",
       "    <tr>\n",
       "      <th>0</th>\n",
       "      <td>Explanation\\nWhy the edits made under my usern...</td>\n",
       "      <td>0</td>\n",
       "      <td>43</td>\n",
       "      <td>41</td>\n",
       "      <td>264</td>\n",
       "      <td>5.162791</td>\n",
       "      <td>explanation why the edits made under my userna...</td>\n",
       "      <td>[explanation, why, the, edits, made, under, my...</td>\n",
       "      <td>[explanation, edits, made, username, hardcore,...</td>\n",
       "    </tr>\n",
       "    <tr>\n",
       "      <th>1</th>\n",
       "      <td>D'aww! He matches this background colour I'm s...</td>\n",
       "      <td>0</td>\n",
       "      <td>17</td>\n",
       "      <td>17</td>\n",
       "      <td>112</td>\n",
       "      <td>5.588235</td>\n",
       "      <td>daww he matches this background colour im seem...</td>\n",
       "      <td>[daww, he, matches, this, background, colour, ...</td>\n",
       "      <td>[daww, matches, background, colour, im, seemin...</td>\n",
       "    </tr>\n",
       "    <tr>\n",
       "      <th>2</th>\n",
       "      <td>Hey man, I'm really not trying to edit war. It...</td>\n",
       "      <td>0</td>\n",
       "      <td>42</td>\n",
       "      <td>39</td>\n",
       "      <td>233</td>\n",
       "      <td>4.571429</td>\n",
       "      <td>hey man im really not trying to edit war its j...</td>\n",
       "      <td>[hey, man, im, really, not, trying, to, edit, ...</td>\n",
       "      <td>[hey, man, im, really, trying, edit, war, guy,...</td>\n",
       "    </tr>\n",
       "    <tr>\n",
       "      <th>3</th>\n",
       "      <td>\"\\nMore\\nI can't make any real suggestions on ...</td>\n",
       "      <td>0</td>\n",
       "      <td>113</td>\n",
       "      <td>82</td>\n",
       "      <td>622</td>\n",
       "      <td>4.486726</td>\n",
       "      <td>more i cant make any real suggestions on impro...</td>\n",
       "      <td>[more, i, cant, make, any, real, suggestions, ...</td>\n",
       "      <td>[cant, make, real, suggestions, improvement, w...</td>\n",
       "    </tr>\n",
       "    <tr>\n",
       "      <th>4</th>\n",
       "      <td>You, sir, are my hero. Any chance you remember...</td>\n",
       "      <td>0</td>\n",
       "      <td>13</td>\n",
       "      <td>13</td>\n",
       "      <td>67</td>\n",
       "      <td>4.230769</td>\n",
       "      <td>you sir are my hero any chance you remember wh...</td>\n",
       "      <td>[you, sir, are, my, hero, any, chance, you, re...</td>\n",
       "      <td>[sir, hero, chance, remember, page, thats]</td>\n",
       "    </tr>\n",
       "  </tbody>\n",
       "</table>\n",
       "</div>"
      ],
      "text/plain": [
       "                                                text  toxic  word_count  \\\n",
       "0  Explanation\\nWhy the edits made under my usern...      0          43   \n",
       "1  D'aww! He matches this background colour I'm s...      0          17   \n",
       "2  Hey man, I'm really not trying to edit war. It...      0          42   \n",
       "3  \"\\nMore\\nI can't make any real suggestions on ...      0         113   \n",
       "4  You, sir, are my hero. Any chance you remember...      0          13   \n",
       "\n",
       "   word_unique_count  symbol_count  mean_word_length  \\\n",
       "0                 41           264          5.162791   \n",
       "1                 17           112          5.588235   \n",
       "2                 39           233          4.571429   \n",
       "3                 82           622          4.486726   \n",
       "4                 13            67          4.230769   \n",
       "\n",
       "                                          clean_text  \\\n",
       "0  explanation why the edits made under my userna...   \n",
       "1  daww he matches this background colour im seem...   \n",
       "2  hey man im really not trying to edit war its j...   \n",
       "3  more i cant make any real suggestions on impro...   \n",
       "4  you sir are my hero any chance you remember wh...   \n",
       "\n",
       "                                      tokenized_text  \\\n",
       "0  [explanation, why, the, edits, made, under, my...   \n",
       "1  [daww, he, matches, this, background, colour, ...   \n",
       "2  [hey, man, im, really, not, trying, to, edit, ...   \n",
       "3  [more, i, cant, make, any, real, suggestions, ...   \n",
       "4  [you, sir, are, my, hero, any, chance, you, re...   \n",
       "\n",
       "                                       nonstop_words  \n",
       "0  [explanation, edits, made, username, hardcore,...  \n",
       "1  [daww, matches, background, colour, im, seemin...  \n",
       "2  [hey, man, im, really, trying, edit, war, guy,...  \n",
       "3  [cant, make, real, suggestions, improvement, w...  \n",
       "4         [sir, hero, chance, remember, page, thats]  "
      ]
     },
     "execution_count": 7,
     "metadata": {},
     "output_type": "execute_result"
    }
   ],
   "source": [
    "# создадим переменную со стоп-словами\n",
    "stopword = nltk.corpus.stopwords.words('english')\n",
    "\n",
    "#создадим функцию для удаления стоп-слов\n",
    "def remove_stopwords(text):\n",
    "    text = [word for word in text if word not in stopword]\n",
    "    return text\n",
    "    \n",
    "data_changed['nonstop_words'] = data_changed['tokenized_text'].apply(lambda x: remove_stopwords(x))\n",
    "data_changed.head(5)"
   ]
  },
  {
   "cell_type": "code",
   "execution_count": 8,
   "metadata": {},
   "outputs": [
    {
     "data": {
      "text/html": [
       "<div>\n",
       "<style scoped>\n",
       "    .dataframe tbody tr th:only-of-type {\n",
       "        vertical-align: middle;\n",
       "    }\n",
       "\n",
       "    .dataframe tbody tr th {\n",
       "        vertical-align: top;\n",
       "    }\n",
       "\n",
       "    .dataframe thead th {\n",
       "        text-align: right;\n",
       "    }\n",
       "</style>\n",
       "<table border=\"1\" class=\"dataframe\">\n",
       "  <thead>\n",
       "    <tr style=\"text-align: right;\">\n",
       "      <th></th>\n",
       "      <th>text</th>\n",
       "      <th>toxic</th>\n",
       "      <th>word_count</th>\n",
       "      <th>word_unique_count</th>\n",
       "      <th>symbol_count</th>\n",
       "      <th>mean_word_length</th>\n",
       "      <th>clean_text</th>\n",
       "      <th>tokenized_text</th>\n",
       "      <th>nonstop_words</th>\n",
       "      <th>lemmatized</th>\n",
       "    </tr>\n",
       "  </thead>\n",
       "  <tbody>\n",
       "    <tr>\n",
       "      <th>0</th>\n",
       "      <td>Explanation\\nWhy the edits made under my usern...</td>\n",
       "      <td>0</td>\n",
       "      <td>43</td>\n",
       "      <td>41</td>\n",
       "      <td>264</td>\n",
       "      <td>5.162791</td>\n",
       "      <td>explanation why the edits made under my userna...</td>\n",
       "      <td>[explanation, why, the, edits, made, under, my...</td>\n",
       "      <td>[explanation, edits, made, username, hardcore,...</td>\n",
       "      <td>[explanation, edits, made, username, hardcore,...</td>\n",
       "    </tr>\n",
       "    <tr>\n",
       "      <th>1</th>\n",
       "      <td>D'aww! He matches this background colour I'm s...</td>\n",
       "      <td>0</td>\n",
       "      <td>17</td>\n",
       "      <td>17</td>\n",
       "      <td>112</td>\n",
       "      <td>5.588235</td>\n",
       "      <td>daww he matches this background colour im seem...</td>\n",
       "      <td>[daww, he, matches, this, background, colour, ...</td>\n",
       "      <td>[daww, matches, background, colour, im, seemin...</td>\n",
       "      <td>[daww, match, background, colour, im, seemingl...</td>\n",
       "    </tr>\n",
       "    <tr>\n",
       "      <th>2</th>\n",
       "      <td>Hey man, I'm really not trying to edit war. It...</td>\n",
       "      <td>0</td>\n",
       "      <td>42</td>\n",
       "      <td>39</td>\n",
       "      <td>233</td>\n",
       "      <td>4.571429</td>\n",
       "      <td>hey man im really not trying to edit war its j...</td>\n",
       "      <td>[hey, man, im, really, not, trying, to, edit, ...</td>\n",
       "      <td>[hey, man, im, really, trying, edit, war, guy,...</td>\n",
       "      <td>[hey, man, im, really, trying, edit, war, guy,...</td>\n",
       "    </tr>\n",
       "    <tr>\n",
       "      <th>3</th>\n",
       "      <td>\"\\nMore\\nI can't make any real suggestions on ...</td>\n",
       "      <td>0</td>\n",
       "      <td>113</td>\n",
       "      <td>82</td>\n",
       "      <td>622</td>\n",
       "      <td>4.486726</td>\n",
       "      <td>more i cant make any real suggestions on impro...</td>\n",
       "      <td>[more, i, cant, make, any, real, suggestions, ...</td>\n",
       "      <td>[cant, make, real, suggestions, improvement, w...</td>\n",
       "      <td>[cant, make, real, suggestion, improvement, wo...</td>\n",
       "    </tr>\n",
       "    <tr>\n",
       "      <th>4</th>\n",
       "      <td>You, sir, are my hero. Any chance you remember...</td>\n",
       "      <td>0</td>\n",
       "      <td>13</td>\n",
       "      <td>13</td>\n",
       "      <td>67</td>\n",
       "      <td>4.230769</td>\n",
       "      <td>you sir are my hero any chance you remember wh...</td>\n",
       "      <td>[you, sir, are, my, hero, any, chance, you, re...</td>\n",
       "      <td>[sir, hero, chance, remember, page, thats]</td>\n",
       "      <td>[sir, hero, chance, remember, page, thats]</td>\n",
       "    </tr>\n",
       "  </tbody>\n",
       "</table>\n",
       "</div>"
      ],
      "text/plain": [
       "                                                text  toxic  word_count  \\\n",
       "0  Explanation\\nWhy the edits made under my usern...      0          43   \n",
       "1  D'aww! He matches this background colour I'm s...      0          17   \n",
       "2  Hey man, I'm really not trying to edit war. It...      0          42   \n",
       "3  \"\\nMore\\nI can't make any real suggestions on ...      0         113   \n",
       "4  You, sir, are my hero. Any chance you remember...      0          13   \n",
       "\n",
       "   word_unique_count  symbol_count  mean_word_length  \\\n",
       "0                 41           264          5.162791   \n",
       "1                 17           112          5.588235   \n",
       "2                 39           233          4.571429   \n",
       "3                 82           622          4.486726   \n",
       "4                 13            67          4.230769   \n",
       "\n",
       "                                          clean_text  \\\n",
       "0  explanation why the edits made under my userna...   \n",
       "1  daww he matches this background colour im seem...   \n",
       "2  hey man im really not trying to edit war its j...   \n",
       "3  more i cant make any real suggestions on impro...   \n",
       "4  you sir are my hero any chance you remember wh...   \n",
       "\n",
       "                                      tokenized_text  \\\n",
       "0  [explanation, why, the, edits, made, under, my...   \n",
       "1  [daww, he, matches, this, background, colour, ...   \n",
       "2  [hey, man, im, really, not, trying, to, edit, ...   \n",
       "3  [more, i, cant, make, any, real, suggestions, ...   \n",
       "4  [you, sir, are, my, hero, any, chance, you, re...   \n",
       "\n",
       "                                       nonstop_words  \\\n",
       "0  [explanation, edits, made, username, hardcore,...   \n",
       "1  [daww, matches, background, colour, im, seemin...   \n",
       "2  [hey, man, im, really, trying, edit, war, guy,...   \n",
       "3  [cant, make, real, suggestions, improvement, w...   \n",
       "4         [sir, hero, chance, remember, page, thats]   \n",
       "\n",
       "                                          lemmatized  \n",
       "0  [explanation, edits, made, username, hardcore,...  \n",
       "1  [daww, match, background, colour, im, seemingl...  \n",
       "2  [hey, man, im, really, trying, edit, war, guy,...  \n",
       "3  [cant, make, real, suggestion, improvement, wo...  \n",
       "4         [sir, hero, chance, remember, page, thats]  "
      ]
     },
     "execution_count": 8,
     "metadata": {},
     "output_type": "execute_result"
    }
   ],
   "source": [
    "# создадим функцию лемматизации очищенного текста\n",
    "wn_lemm = nltk.WordNetLemmatizer()\n",
    "\n",
    "def lemmatizer(text):\n",
    "    text = [wn_lemm.lemmatize(word) for word in text]\n",
    "    return text\n",
    "\n",
    "data_changed['lemmatized'] = data_changed['nonstop_words'].apply(lambda x: lemmatizer(x))\n",
    "data_changed.head(5)"
   ]
  },
  {
   "cell_type": "markdown",
   "metadata": {},
   "source": [
    "<b>ПРОМЕЖУТОЧНЫЙ ВЫВОД:</b> теперь таблица содержит все необходимые столбцы, текст очищен и лемматизирован. Можно приступать к разбиению данных на выборки."
   ]
  },
  {
   "cell_type": "markdown",
   "metadata": {},
   "source": [
    "### Подготовка выборок для обучения модели и ее тестирования"
   ]
  },
  {
   "cell_type": "code",
   "execution_count": 9,
   "metadata": {},
   "outputs": [
    {
     "name": "stdout",
     "output_type": "stream",
     "text": [
      "(127656, 9) (31915, 9) (127656,) (31915,)\n"
     ]
    }
   ],
   "source": [
    "data_train, data_test = train_test_split(data_changed, test_size = 0.2,shuffle = True, random_state = 42)\n",
    "X_train, X_test = data_train.drop('toxic', axis = 1), data_test.drop('toxic', axis = 1)\n",
    "y_train, y_test = data_train['toxic'], data_test['toxic']\n",
    "\n",
    "#проверим размерность выборок\n",
    "print(X_train.shape, X_test.shape, y_train.shape, y_test.shape)"
   ]
  },
  {
   "cell_type": "markdown",
   "metadata": {},
   "source": [
    "## Обучение\n",
    "Выделим здесь три этапа:\n",
    "1) Векторизация текста\n",
    "\n",
    "2) Обучение модели с подбором гиперпараметров\n",
    "\n",
    "3) Проверка модели на тестовой выборке"
   ]
  },
  {
   "cell_type": "markdown",
   "metadata": {},
   "source": [
    "### Перевод текста в векторный вид"
   ]
  },
  {
   "cell_type": "code",
   "execution_count": 10,
   "metadata": {},
   "outputs": [],
   "source": [
    "# объявим векторизатор\n",
    "count_tf_idf = TfidfVectorizer()\n",
    "\n",
    "# сменим кодировку корпусов\n",
    "train_corpus = X_train.astype('U')\n",
    "test_corpus = X_test.astype('U')\n",
    "\n",
    "#обучим векторизатор на трейне и сразу же трансформируем его\n",
    "tfidf_train = count_tf_idf.fit_transform(train_corpus['lemmatized']) \n",
    "#векторизируем предобученным векторизатором тестовый корпус\n",
    "tfidf_test = count_tf_idf.transform(test_corpus['lemmatized'])"
   ]
  },
  {
   "cell_type": "code",
   "execution_count": 11,
   "metadata": {},
   "outputs": [],
   "source": [
    "# создадим список для сохранения результатов работы моделей\n",
    "models = ['Logistic Regression', 'Ridge Regression']\n",
    "results = []"
   ]
  },
  {
   "cell_type": "markdown",
   "metadata": {},
   "source": [
    "### Обучение и тестирование логистической регрессии"
   ]
  },
  {
   "cell_type": "code",
   "execution_count": 12,
   "metadata": {},
   "outputs": [
    {
     "name": "stdout",
     "output_type": "stream",
     "text": [
      "F1 Score базовой модели логистической регрессии равен: 0.744177449168207\n"
     ]
    }
   ],
   "source": [
    "# объявим модель без учета гиперпараметров\n",
    "model = LogisticRegression(random_state = 42)\n",
    "# обучим ЛР на трейне\n",
    "model.fit(tfidf_train, y_train)\n",
    "# получим предсказания\n",
    "predictions = model.predict(tfidf_test)\n",
    "# рассчитаем метрику f1 на тесте\n",
    "result = f1_score(y_test, predictions)\n",
    "print('F1 Score базовой модели логистической регрессии равен:', result)"
   ]
  },
  {
   "cell_type": "markdown",
   "metadata": {},
   "source": [
    "<b>ПРОМЕЖУТОЧНЫЙ ВЫВОД:</b> даже без подбора гиперпараметров базовая логистическая регрессия дает неплохой показатель, чуть ниже необходимого порога. Попробуем найти подходящие параметры для повышения качества предсказаний."
   ]
  },
  {
   "cell_type": "code",
   "execution_count": 13,
   "metadata": {},
   "outputs": [],
   "source": [
    "params = {'class_weight':['balanced', None], 'C':[1,10,100],}\n",
    "grid_LR = GridSearchCV(model,\n",
    "                        params,\n",
    "                        cv= 5,\n",
    "                        scoring='f1',\n",
    "                        verbose=100)\n",
    "#grid_LR.fit(tfidf_train, y_train)\n",
    "#print(grid_LR.best_params_)\n",
    "#print(grid_LR.best_score_)"
   ]
  },
  {
   "cell_type": "markdown",
   "metadata": {},
   "source": [
    "<b>ВЫВОД:</b> после подбора гиперпараметров наилучший результат 0.77 на трейне дали параметры {'C': 10, 'class_weight': 'balanced'}\n",
    "Проверим эти параметры модели на тестовой выборке"
   ]
  },
  {
   "cell_type": "code",
   "execution_count": 14,
   "metadata": {},
   "outputs": [
    {
     "name": "stdout",
     "output_type": "stream",
     "text": [
      "F1 Score логистической регрессии с подбором гиперпараметров равен: 0.7745182628702906\n"
     ]
    }
   ],
   "source": [
    "model_LR_best = LogisticRegression(random_state = 42, C = 10, class_weight = 'balanced')\n",
    "# обучим ЛР на трейне\n",
    "model_LR_best.fit(tfidf_train, y_train)\n",
    "# получим предсказания\n",
    "predictions = model_LR_best.predict(tfidf_test)\n",
    "# рассчитаем метрику f1 на тесте\n",
    "result = f1_score(y_test, predictions)\n",
    "results.append(result)\n",
    "print('F1 Score логистической регрессии с подбором гиперпараметров равен:', result)"
   ]
  },
  {
   "cell_type": "markdown",
   "metadata": {},
   "source": [
    "### Обучение и тестирование гребневой классификации"
   ]
  },
  {
   "cell_type": "code",
   "execution_count": 15,
   "metadata": {},
   "outputs": [
    {
     "name": "stdout",
     "output_type": "stream",
     "text": [
      "F1 Score базовой модели гребневой классификации равен: 0.7105613701236918\n"
     ]
    }
   ],
   "source": [
    "# объявим модель без учета гиперпараметров\n",
    "model = RidgeClassifier(random_state = 42)\n",
    "# обучим ЛР на трейне\n",
    "model.fit(tfidf_train, y_train)\n",
    "# получим предсказания\n",
    "predictions = model.predict(tfidf_test)\n",
    "# рассчитаем метрику f1 на тесте\n",
    "result = f1_score(y_test, predictions)\n",
    "print('F1 Score базовой модели гребневой классификации равен:', result)"
   ]
  },
  {
   "cell_type": "code",
   "execution_count": 16,
   "metadata": {},
   "outputs": [],
   "source": [
    "params = {'class_weight':['balanced', None], 'alpha':[0.1, 1, 10],}\n",
    "grid_ridge = GridSearchCV(model,\n",
    "                        params,\n",
    "                        cv= 3,\n",
    "                        scoring='f1',\n",
    "                        verbose=100)\n",
    "#grid_ridge.fit(tfidf_train, y_train)\n",
    "#print(grid_ridge.best_params_)\n",
    "#print(grid_ridge.best_score_)"
   ]
  },
  {
   "cell_type": "markdown",
   "metadata": {},
   "source": [
    "<b>ПРОМЕЖУТОЧНЫЙ ВЫВОД:</b> лучший показатель 0.675 при {'alpha': 1, 'class_weight': None}"
   ]
  },
  {
   "cell_type": "code",
   "execution_count": 17,
   "metadata": {},
   "outputs": [
    {
     "name": "stdout",
     "output_type": "stream",
     "text": [
      "F1 Score гребневой классификации с подбором гиперпараметров равен: 0.7105613701236918\n"
     ]
    }
   ],
   "source": [
    "model_ridge_best = RidgeClassifier(random_state = 42, alpha = 1, class_weight = None)\n",
    "# обучим ЛР на трейне\n",
    "model_ridge_best.fit(tfidf_train, y_train)\n",
    "# получим предсказания\n",
    "predictions = model_ridge_best.predict(tfidf_test)\n",
    "# рассчитаем метрику f1 на тесте\n",
    "result = f1_score(y_test, predictions)\n",
    "results.append(result)\n",
    "print('F1 Score гребневой классификации с подбором гиперпараметров равен:', result)"
   ]
  },
  {
   "cell_type": "markdown",
   "metadata": {},
   "source": [
    "## Выводы"
   ]
  },
  {
   "cell_type": "code",
   "execution_count": 18,
   "metadata": {},
   "outputs": [
    {
     "data": {
      "text/html": [
       "<div>\n",
       "<style scoped>\n",
       "    .dataframe tbody tr th:only-of-type {\n",
       "        vertical-align: middle;\n",
       "    }\n",
       "\n",
       "    .dataframe tbody tr th {\n",
       "        vertical-align: top;\n",
       "    }\n",
       "\n",
       "    .dataframe thead th {\n",
       "        text-align: right;\n",
       "    }\n",
       "</style>\n",
       "<table border=\"1\" class=\"dataframe\">\n",
       "  <thead>\n",
       "    <tr style=\"text-align: right;\">\n",
       "      <th></th>\n",
       "      <th>F1 score</th>\n",
       "    </tr>\n",
       "  </thead>\n",
       "  <tbody>\n",
       "    <tr>\n",
       "      <th>Logistic Regression</th>\n",
       "      <td>0.774518</td>\n",
       "    </tr>\n",
       "    <tr>\n",
       "      <th>Ridge Regression</th>\n",
       "      <td>0.710561</td>\n",
       "    </tr>\n",
       "  </tbody>\n",
       "</table>\n",
       "</div>"
      ],
      "text/plain": [
       "                     F1 score\n",
       "Logistic Regression  0.774518\n",
       "Ridge Regression     0.710561"
      ]
     },
     "execution_count": 18,
     "metadata": {},
     "output_type": "execute_result"
    }
   ],
   "source": [
    "# визуализируем данные в виде таблицы\n",
    "pd.DataFrame(index = models, columns = ['F1 score'], data = results)"
   ]
  },
  {
   "cell_type": "markdown",
   "metadata": {},
   "source": [
    "<b>ВЫВОД:</b> логистическая регрессия показала себя лучше, чем гребневый классификатор. Необходимый порог достигнут с показателем f1 0.7745"
   ]
  },
  {
   "cell_type": "markdown",
   "metadata": {},
   "source": [
    "## Чек-лист проверки"
   ]
  },
  {
   "cell_type": "markdown",
   "metadata": {},
   "source": [
    "- [x]  Jupyter Notebook открыт\n",
    "- [x]  Весь код выполняется без ошибок\n",
    "- [x]  Ячейки с кодом расположены в порядке исполнения\n",
    "- [x]  Данные загружены и подготовлены\n",
    "- [x]  Модели обучены\n",
    "- [x]  Значение метрики *F1* не меньше 0.75\n",
    "- [x]  Выводы написаны"
   ]
  }
 ],
 "metadata": {
  "ExecuteTimeLog": [
   {
    "duration": 3048,
    "start_time": "2022-05-04T05:19:30.227Z"
   },
   {
    "duration": 900,
    "start_time": "2022-05-04T05:20:50.629Z"
   },
   {
    "duration": 321,
    "start_time": "2022-05-04T05:21:00.886Z"
   },
   {
    "duration": 113,
    "start_time": "2022-05-04T05:21:21.314Z"
   },
   {
    "duration": 119112,
    "start_time": "2022-05-04T05:21:26.738Z"
   },
   {
    "duration": 28,
    "start_time": "2022-05-04T05:26:45.991Z"
   },
   {
    "duration": 34,
    "start_time": "2022-05-04T05:26:50.389Z"
   },
   {
    "duration": 38,
    "start_time": "2022-05-04T05:26:59.781Z"
   },
   {
    "duration": 28,
    "start_time": "2022-05-04T05:27:17.620Z"
   },
   {
    "duration": 77,
    "start_time": "2022-05-04T05:28:22.369Z"
   },
   {
    "duration": 32,
    "start_time": "2022-05-04T05:28:29.355Z"
   },
   {
    "duration": 47,
    "start_time": "2022-05-04T05:28:49.583Z"
   },
   {
    "duration": 41,
    "start_time": "2022-05-04T05:30:36.612Z"
   },
   {
    "duration": 41,
    "start_time": "2022-05-04T05:31:06.526Z"
   },
   {
    "duration": 38,
    "start_time": "2022-05-04T05:31:12.335Z"
   },
   {
    "duration": 144,
    "start_time": "2022-05-04T05:33:23.933Z"
   },
   {
    "duration": 34,
    "start_time": "2022-05-04T05:40:56.539Z"
   },
   {
    "duration": 824,
    "start_time": "2022-05-04T05:40:58.907Z"
   },
   {
    "duration": 4774,
    "start_time": "2022-05-04T05:41:02.228Z"
   },
   {
    "duration": 56,
    "start_time": "2022-05-04T06:04:44.690Z"
   },
   {
    "duration": 0,
    "start_time": "2022-05-04T06:06:40.910Z"
   },
   {
    "duration": 0,
    "start_time": "2022-05-04T06:06:40.913Z"
   },
   {
    "duration": 24,
    "start_time": "2022-05-04T06:06:42.082Z"
   },
   {
    "duration": 18,
    "start_time": "2022-05-04T06:06:47.681Z"
   },
   {
    "duration": 120507,
    "start_time": "2022-05-04T06:07:05.214Z"
   },
   {
    "duration": 948,
    "start_time": "2022-05-04T06:09:06.876Z"
   },
   {
    "duration": 852,
    "start_time": "2022-05-04T06:09:20.310Z"
   },
   {
    "duration": 920,
    "start_time": "2022-05-04T06:18:06.605Z"
   },
   {
    "duration": 112,
    "start_time": "2022-05-04T06:18:17.435Z"
   },
   {
    "duration": 158,
    "start_time": "2022-05-04T06:18:33.930Z"
   },
   {
    "duration": 158,
    "start_time": "2022-05-04T06:18:56.576Z"
   },
   {
    "duration": 142,
    "start_time": "2022-05-04T06:19:04.639Z"
   },
   {
    "duration": 111,
    "start_time": "2022-05-04T06:19:18.306Z"
   },
   {
    "duration": 3,
    "start_time": "2022-05-04T06:26:07.706Z"
   },
   {
    "duration": 5,
    "start_time": "2022-05-04T06:26:10.322Z"
   },
   {
    "duration": 22,
    "start_time": "2022-05-04T06:26:49.353Z"
   },
   {
    "duration": 145,
    "start_time": "2022-05-04T06:48:22.529Z"
   },
   {
    "duration": 131,
    "start_time": "2022-05-04T06:48:54.928Z"
   },
   {
    "duration": 115,
    "start_time": "2022-05-04T06:49:11.763Z"
   },
   {
    "duration": 114,
    "start_time": "2022-05-04T06:49:26.145Z"
   },
   {
    "duration": 139,
    "start_time": "2022-05-04T06:50:31.036Z"
   },
   {
    "duration": 134,
    "start_time": "2022-05-04T06:51:19.062Z"
   },
   {
    "duration": 130,
    "start_time": "2022-05-04T06:51:46.522Z"
   },
   {
    "duration": 198,
    "start_time": "2022-05-04T06:52:10.788Z"
   },
   {
    "duration": 4,
    "start_time": "2022-05-04T06:52:25.180Z"
   },
   {
    "duration": 875,
    "start_time": "2022-05-04T06:52:25.186Z"
   },
   {
    "duration": 122,
    "start_time": "2022-05-04T06:52:26.063Z"
   },
   {
    "duration": 147,
    "start_time": "2022-05-04T06:52:34.612Z"
   },
   {
    "duration": 122,
    "start_time": "2022-05-04T06:52:58.719Z"
   },
   {
    "duration": 147,
    "start_time": "2022-05-04T06:53:01.676Z"
   },
   {
    "duration": 293,
    "start_time": "2022-05-04T06:55:07.424Z"
   },
   {
    "duration": 158,
    "start_time": "2022-05-04T06:56:05.371Z"
   },
   {
    "duration": 228,
    "start_time": "2022-05-04T06:56:19.419Z"
   },
   {
    "duration": 335,
    "start_time": "2022-05-04T06:56:52.818Z"
   },
   {
    "duration": 128,
    "start_time": "2022-05-04T06:57:32.618Z"
   },
   {
    "duration": 135,
    "start_time": "2022-05-04T06:57:41.941Z"
   },
   {
    "duration": 142,
    "start_time": "2022-05-04T06:57:46.948Z"
   },
   {
    "duration": 357,
    "start_time": "2022-05-04T06:58:02.114Z"
   },
   {
    "duration": 209,
    "start_time": "2022-05-04T06:58:13.676Z"
   },
   {
    "duration": 148,
    "start_time": "2022-05-04T06:58:33.614Z"
   },
   {
    "duration": 4,
    "start_time": "2022-05-04T06:58:47.170Z"
   },
   {
    "duration": 3,
    "start_time": "2022-05-04T06:58:57.744Z"
   },
   {
    "duration": 4,
    "start_time": "2022-05-04T06:59:09.642Z"
   },
   {
    "duration": 180,
    "start_time": "2022-05-04T06:59:20.365Z"
   },
   {
    "duration": 157,
    "start_time": "2022-05-04T06:59:25.574Z"
   },
   {
    "duration": 4,
    "start_time": "2022-05-04T12:01:28.114Z"
   },
   {
    "duration": 5,
    "start_time": "2022-05-04T12:01:51.712Z"
   },
   {
    "duration": 5,
    "start_time": "2022-05-04T12:02:08.846Z"
   },
   {
    "duration": 5,
    "start_time": "2022-05-04T12:02:31.910Z"
   },
   {
    "duration": 398,
    "start_time": "2022-05-04T12:04:52.243Z"
   },
   {
    "duration": 13,
    "start_time": "2022-05-04T12:05:12.504Z"
   },
   {
    "duration": 2924,
    "start_time": "2022-05-04T12:06:15.281Z"
   },
   {
    "duration": 5,
    "start_time": "2022-05-04T12:06:40.508Z"
   },
   {
    "duration": 1176,
    "start_time": "2022-05-04T12:06:40.521Z"
   },
   {
    "duration": 280,
    "start_time": "2022-05-04T12:06:41.699Z"
   },
   {
    "duration": 13,
    "start_time": "2022-05-04T12:06:41.980Z"
   },
   {
    "duration": 3059,
    "start_time": "2022-05-04T12:06:50.108Z"
   },
   {
    "duration": 5,
    "start_time": "2022-05-04T12:07:13.181Z"
   },
   {
    "duration": 3373,
    "start_time": "2022-05-04T12:07:17.708Z"
   },
   {
    "duration": 9,
    "start_time": "2022-05-04T12:09:49.396Z"
   },
   {
    "duration": 2936,
    "start_time": "2022-05-04T12:09:54.080Z"
   },
   {
    "duration": 5,
    "start_time": "2022-05-04T12:10:52.514Z"
   },
   {
    "duration": 3262,
    "start_time": "2022-05-04T12:10:58.097Z"
   },
   {
    "duration": 5,
    "start_time": "2022-05-04T12:12:43.006Z"
   },
   {
    "duration": 11,
    "start_time": "2022-05-04T12:12:47.878Z"
   },
   {
    "duration": 4,
    "start_time": "2022-05-04T12:13:11.251Z"
   },
   {
    "duration": 5550,
    "start_time": "2022-05-04T12:13:14.127Z"
   },
   {
    "duration": 4,
    "start_time": "2022-05-04T12:14:13.005Z"
   },
   {
    "duration": 5173,
    "start_time": "2022-05-04T12:14:18.825Z"
   },
   {
    "duration": 5719,
    "start_time": "2022-05-04T12:14:48.278Z"
   },
   {
    "duration": 5683,
    "start_time": "2022-05-04T12:16:00.245Z"
   },
   {
    "duration": 760,
    "start_time": "2022-05-04T12:19:58.838Z"
   },
   {
    "duration": 5786,
    "start_time": "2022-05-04T12:20:13.963Z"
   },
   {
    "duration": 5670,
    "start_time": "2022-05-04T12:21:05.906Z"
   },
   {
    "duration": 5447,
    "start_time": "2022-05-04T12:21:38.610Z"
   },
   {
    "duration": 5466,
    "start_time": "2022-05-04T12:23:09.784Z"
   },
   {
    "duration": 838,
    "start_time": "2022-05-04T12:23:54.193Z"
   },
   {
    "duration": 31,
    "start_time": "2022-05-04T12:24:06.002Z"
   },
   {
    "duration": 28,
    "start_time": "2022-05-04T12:24:23.327Z"
   },
   {
    "duration": 5483,
    "start_time": "2022-05-04T12:24:30.287Z"
   },
   {
    "duration": 5194,
    "start_time": "2022-05-04T12:24:47.707Z"
   },
   {
    "duration": 4440,
    "start_time": "2022-05-04T12:25:08.077Z"
   },
   {
    "duration": 4952,
    "start_time": "2022-05-04T12:25:25.140Z"
   },
   {
    "duration": 21,
    "start_time": "2022-05-04T12:26:15.186Z"
   },
   {
    "duration": 6,
    "start_time": "2022-05-04T12:26:35.416Z"
   },
   {
    "duration": 5,
    "start_time": "2022-05-04T12:26:43.663Z"
   },
   {
    "duration": 696,
    "start_time": "2022-05-04T12:26:43.672Z"
   },
   {
    "duration": 104,
    "start_time": "2022-05-04T12:26:44.371Z"
   },
   {
    "duration": 18,
    "start_time": "2022-05-04T12:26:44.477Z"
   },
   {
    "duration": 5244,
    "start_time": "2022-05-04T12:26:44.498Z"
   },
   {
    "duration": 4619,
    "start_time": "2022-05-04T12:26:49.744Z"
   },
   {
    "duration": 47,
    "start_time": "2022-05-04T12:26:54.365Z"
   },
   {
    "duration": 4954,
    "start_time": "2022-05-04T12:27:13.262Z"
   },
   {
    "duration": 5030,
    "start_time": "2022-05-04T12:27:24.091Z"
   },
   {
    "duration": 5630,
    "start_time": "2022-05-04T12:27:45.550Z"
   },
   {
    "duration": 4857,
    "start_time": "2022-05-04T12:28:06.829Z"
   },
   {
    "duration": 4673,
    "start_time": "2022-05-04T12:28:20.597Z"
   },
   {
    "duration": 4592,
    "start_time": "2022-05-04T12:28:35.690Z"
   },
   {
    "duration": 4939,
    "start_time": "2022-05-04T12:28:56.172Z"
   },
   {
    "duration": 4411,
    "start_time": "2022-05-04T12:29:11.725Z"
   },
   {
    "duration": 5309,
    "start_time": "2022-05-04T12:29:25.738Z"
   },
   {
    "duration": 4676,
    "start_time": "2022-05-04T12:29:33.540Z"
   },
   {
    "duration": 5045,
    "start_time": "2022-05-04T12:30:28.113Z"
   },
   {
    "duration": 4852,
    "start_time": "2022-05-04T12:30:49.304Z"
   },
   {
    "duration": 1281,
    "start_time": "2022-05-04T12:31:18.441Z"
   },
   {
    "duration": 4952,
    "start_time": "2022-05-04T12:31:28.703Z"
   },
   {
    "duration": 5281,
    "start_time": "2022-05-04T12:32:05.637Z"
   },
   {
    "duration": 4677,
    "start_time": "2022-05-04T12:32:33.178Z"
   },
   {
    "duration": 4961,
    "start_time": "2022-05-04T12:32:52.576Z"
   },
   {
    "duration": 7422,
    "start_time": "2022-05-04T12:33:08.185Z"
   },
   {
    "duration": 19,
    "start_time": "2022-05-04T12:36:40.642Z"
   },
   {
    "duration": 19,
    "start_time": "2022-05-04T12:36:52.090Z"
   },
   {
    "duration": 564,
    "start_time": "2022-05-04T12:38:29.900Z"
   },
   {
    "duration": 5,
    "start_time": "2022-05-04T12:39:04.686Z"
   },
   {
    "duration": 2615,
    "start_time": "2022-05-04T12:39:10.200Z"
   },
   {
    "duration": 2566,
    "start_time": "2022-05-04T12:39:15.414Z"
   },
   {
    "duration": 9096,
    "start_time": "2022-05-04T12:53:34.080Z"
   },
   {
    "duration": 6,
    "start_time": "2022-05-04T12:53:56.791Z"
   },
   {
    "duration": 3202,
    "start_time": "2022-05-04T12:53:56.801Z"
   },
   {
    "duration": 114,
    "start_time": "2022-05-04T12:54:00.006Z"
   },
   {
    "duration": 4,
    "start_time": "2022-05-04T12:54:00.122Z"
   },
   {
    "duration": 5330,
    "start_time": "2022-05-04T12:54:00.129Z"
   },
   {
    "duration": 4972,
    "start_time": "2022-05-04T12:54:05.460Z"
   },
   {
    "duration": 2603,
    "start_time": "2022-05-04T12:54:10.433Z"
   },
   {
    "duration": 93056,
    "start_time": "2022-05-04T12:54:13.037Z"
   },
   {
    "duration": 95218,
    "start_time": "2022-05-04T12:55:46.096Z"
   },
   {
    "duration": 4805,
    "start_time": "2022-05-04T12:59:47.007Z"
   },
   {
    "duration": 4032,
    "start_time": "2022-05-04T13:00:38.071Z"
   },
   {
    "duration": 5,
    "start_time": "2022-05-04T13:00:53.071Z"
   },
   {
    "duration": 3365,
    "start_time": "2022-05-04T13:00:53.086Z"
   },
   {
    "duration": 122,
    "start_time": "2022-05-04T13:00:56.453Z"
   },
   {
    "duration": 4,
    "start_time": "2022-05-04T13:00:56.577Z"
   },
   {
    "duration": 5464,
    "start_time": "2022-05-04T13:00:56.583Z"
   },
   {
    "duration": 4985,
    "start_time": "2022-05-04T13:01:02.049Z"
   },
   {
    "duration": 2636,
    "start_time": "2022-05-04T13:01:07.036Z"
   },
   {
    "duration": 5222,
    "start_time": "2022-05-04T13:01:10.159Z"
   },
   {
    "duration": 2206,
    "start_time": "2022-05-04T13:02:02.302Z"
   },
   {
    "duration": 3585,
    "start_time": "2022-05-04T13:02:04.511Z"
   },
   {
    "duration": 218,
    "start_time": "2022-05-04T13:02:08.098Z"
   },
   {
    "duration": 5,
    "start_time": "2022-05-04T13:02:08.318Z"
   },
   {
    "duration": 5154,
    "start_time": "2022-05-04T13:02:08.325Z"
   },
   {
    "duration": 4988,
    "start_time": "2022-05-04T13:02:13.481Z"
   },
   {
    "duration": 2708,
    "start_time": "2022-05-04T13:02:18.471Z"
   },
   {
    "duration": 4281,
    "start_time": "2022-05-04T13:02:21.180Z"
   },
   {
    "duration": 2313,
    "start_time": "2022-05-04T13:02:25.462Z"
   },
   {
    "duration": 0,
    "start_time": "2022-05-04T13:02:27.777Z"
   },
   {
    "duration": 0,
    "start_time": "2022-05-04T13:02:27.778Z"
   },
   {
    "duration": 15738,
    "start_time": "2022-05-04T13:02:35.191Z"
   },
   {
    "duration": 21066,
    "start_time": "2022-05-04T13:03:11.473Z"
   },
   {
    "duration": 179,
    "start_time": "2022-05-04T13:06:12.350Z"
   },
   {
    "duration": 175,
    "start_time": "2022-05-04T13:06:28.656Z"
   },
   {
    "duration": 3104,
    "start_time": "2022-05-04T13:14:31.516Z"
   },
   {
    "duration": 67952,
    "start_time": "2022-05-04T13:16:32.550Z"
   },
   {
    "duration": 8399,
    "start_time": "2022-05-04T13:18:33.524Z"
   },
   {
    "duration": 69448,
    "start_time": "2022-05-04T13:20:33.360Z"
   },
   {
    "duration": 76586,
    "start_time": "2022-05-04T13:22:07.315Z"
   },
   {
    "duration": 6,
    "start_time": "2022-05-04T13:26:01.891Z"
   },
   {
    "duration": 5,
    "start_time": "2022-05-04T13:26:10.811Z"
   },
   {
    "duration": 1086,
    "start_time": "2022-05-04T13:26:13.607Z"
   },
   {
    "duration": 121,
    "start_time": "2022-05-04T13:26:20.097Z"
   },
   {
    "duration": 2197,
    "start_time": "2022-05-04T13:27:35.880Z"
   },
   {
    "duration": 6,
    "start_time": "2022-05-04T13:27:43.089Z"
   },
   {
    "duration": 9193,
    "start_time": "2022-05-04T13:27:49.086Z"
   },
   {
    "duration": 7963,
    "start_time": "2022-05-04T13:27:58.282Z"
   },
   {
    "duration": 2652,
    "start_time": "2022-05-04T13:28:26.288Z"
   },
   {
    "duration": 994,
    "start_time": "2022-05-04T13:28:31.653Z"
   },
   {
    "duration": 963,
    "start_time": "2022-05-04T13:28:51.416Z"
   },
   {
    "duration": 1076,
    "start_time": "2022-05-04T13:29:05.537Z"
   },
   {
    "duration": 2629,
    "start_time": "2022-05-04T13:29:39.730Z"
   },
   {
    "duration": 8,
    "start_time": "2022-05-05T07:02:11.885Z"
   },
   {
    "duration": 43,
    "start_time": "2022-05-05T10:20:04.713Z"
   },
   {
    "duration": 2205,
    "start_time": "2022-05-05T10:20:08.442Z"
   },
   {
    "duration": 883,
    "start_time": "2022-05-05T10:20:14.129Z"
   },
   {
    "duration": 4634,
    "start_time": "2022-05-05T10:23:23.605Z"
   },
   {
    "duration": 4565,
    "start_time": "2022-05-05T10:24:10.910Z"
   },
   {
    "duration": 4699,
    "start_time": "2022-05-05T10:58:08.040Z"
   },
   {
    "duration": 7,
    "start_time": "2022-05-05T10:58:40.694Z"
   },
   {
    "duration": 900,
    "start_time": "2022-05-05T10:58:40.703Z"
   },
   {
    "duration": 4864,
    "start_time": "2022-05-05T10:58:41.605Z"
   },
   {
    "duration": 6397,
    "start_time": "2022-05-05T10:58:46.472Z"
   },
   {
    "duration": 3160,
    "start_time": "2022-05-05T10:59:00.253Z"
   },
   {
    "duration": 2398,
    "start_time": "2022-05-05T11:58:02.850Z"
   },
   {
    "duration": 3768,
    "start_time": "2022-05-05T11:58:42.155Z"
   },
   {
    "duration": 14903,
    "start_time": "2022-05-05T11:59:38.732Z"
   },
   {
    "duration": 19710,
    "start_time": "2022-05-05T12:01:27.490Z"
   },
   {
    "duration": 179,
    "start_time": "2022-05-05T12:04:56.813Z"
   },
   {
    "duration": 8769,
    "start_time": "2022-05-05T12:08:52.163Z"
   },
   {
    "duration": 4,
    "start_time": "2022-05-05T12:09:14.462Z"
   },
   {
    "duration": 56034,
    "start_time": "2022-05-05T12:10:38.645Z"
   },
   {
    "duration": 57099,
    "start_time": "2022-05-05T12:13:30.857Z"
   },
   {
    "duration": 56202,
    "start_time": "2022-05-05T12:15:07.362Z"
   },
   {
    "duration": 57101,
    "start_time": "2022-05-05T12:16:54.275Z"
   },
   {
    "duration": 52414,
    "start_time": "2022-05-05T12:20:06.057Z"
   },
   {
    "duration": 17,
    "start_time": "2022-05-05T12:29:17.424Z"
   },
   {
    "duration": 1617905,
    "start_time": "2022-05-05T12:29:55.461Z"
   },
   {
    "duration": 125,
    "start_time": "2022-05-05T12:59:47.584Z"
   },
   {
    "duration": 32620,
    "start_time": "2022-05-05T13:00:15.963Z"
   },
   {
    "duration": 62875,
    "start_time": "2022-05-05T13:00:57.891Z"
   },
   {
    "duration": 200,
    "start_time": "2022-05-05T13:59:54.346Z"
   },
   {
    "duration": 25633,
    "start_time": "2022-05-05T14:00:54.422Z"
   },
   {
    "duration": 571285,
    "start_time": "2022-05-05T14:03:04.277Z"
   },
   {
    "duration": 3,
    "start_time": "2022-05-05T14:23:13.971Z"
   },
   {
    "duration": 8402,
    "start_time": "2022-05-05T14:23:26.890Z"
   },
   {
    "duration": 11,
    "start_time": "2022-05-05T14:26:39.894Z"
   },
   {
    "duration": 23466,
    "start_time": "2022-05-05T14:27:02.890Z"
   },
   {
    "duration": 4,
    "start_time": "2022-05-05T14:27:41.108Z"
   },
   {
    "duration": 5,
    "start_time": "2022-05-05T14:27:58.175Z"
   },
   {
    "duration": 3517,
    "start_time": "2022-05-05T14:27:58.192Z"
   },
   {
    "duration": 5099,
    "start_time": "2022-05-05T14:28:01.712Z"
   },
   {
    "duration": 4594,
    "start_time": "2022-05-05T14:28:06.812Z"
   },
   {
    "duration": 2465,
    "start_time": "2022-05-05T14:28:11.410Z"
   },
   {
    "duration": 3625,
    "start_time": "2022-05-05T14:28:13.876Z"
   },
   {
    "duration": 16442,
    "start_time": "2022-05-05T14:28:17.503Z"
   },
   {
    "duration": 18329,
    "start_time": "2022-05-05T14:28:33.947Z"
   },
   {
    "duration": 234,
    "start_time": "2022-05-05T14:28:52.278Z"
   },
   {
    "duration": 8932,
    "start_time": "2022-05-05T14:28:52.514Z"
   },
   {
    "duration": 3,
    "start_time": "2022-05-05T14:29:01.454Z"
   },
   {
    "duration": 24918,
    "start_time": "2022-05-05T14:29:01.459Z"
   },
   {
    "duration": 0,
    "start_time": "2022-05-05T14:29:26.379Z"
   },
   {
    "duration": 0,
    "start_time": "2022-05-05T14:29:26.380Z"
   },
   {
    "duration": 0,
    "start_time": "2022-05-05T14:29:26.381Z"
   },
   {
    "duration": 0,
    "start_time": "2022-05-05T14:29:26.382Z"
   },
   {
    "duration": 0,
    "start_time": "2022-05-05T14:29:26.383Z"
   },
   {
    "duration": 5,
    "start_time": "2022-05-05T14:29:40.726Z"
   },
   {
    "duration": 881,
    "start_time": "2022-05-05T14:29:40.735Z"
   },
   {
    "duration": 5056,
    "start_time": "2022-05-05T14:29:41.618Z"
   },
   {
    "duration": 4563,
    "start_time": "2022-05-05T14:29:46.676Z"
   },
   {
    "duration": 2631,
    "start_time": "2022-05-05T14:29:51.241Z"
   },
   {
    "duration": 3850,
    "start_time": "2022-05-05T14:29:53.874Z"
   },
   {
    "duration": 16936,
    "start_time": "2022-05-05T14:29:57.726Z"
   },
   {
    "duration": 3187,
    "start_time": "2022-05-05T14:30:50.787Z"
   },
   {
    "duration": 3612,
    "start_time": "2022-05-05T14:30:53.976Z"
   },
   {
    "duration": 8809,
    "start_time": "2022-05-05T14:30:57.591Z"
   },
   {
    "duration": 4952,
    "start_time": "2022-05-05T14:31:06.403Z"
   },
   {
    "duration": 2640,
    "start_time": "2022-05-05T14:31:11.357Z"
   },
   {
    "duration": 4417,
    "start_time": "2022-05-05T14:31:13.999Z"
   },
   {
    "duration": 15044,
    "start_time": "2022-05-05T14:31:18.418Z"
   },
   {
    "duration": 20513,
    "start_time": "2022-05-05T14:31:33.463Z"
   },
   {
    "duration": 213,
    "start_time": "2022-05-05T14:31:53.977Z"
   },
   {
    "duration": 8995,
    "start_time": "2022-05-05T14:31:54.192Z"
   },
   {
    "duration": 3,
    "start_time": "2022-05-05T14:32:03.189Z"
   },
   {
    "duration": 63361,
    "start_time": "2022-05-05T14:32:03.194Z"
   },
   {
    "duration": 4,
    "start_time": "2022-05-05T14:33:06.557Z"
   },
   {
    "duration": 63501,
    "start_time": "2022-05-05T14:33:06.562Z"
   },
   {
    "duration": 26290,
    "start_time": "2022-05-05T14:34:10.066Z"
   },
   {
    "duration": 5,
    "start_time": "2022-05-05T14:34:36.358Z"
   },
   {
    "duration": 28195,
    "start_time": "2022-05-05T14:34:36.365Z"
   },
   {
    "duration": 4,
    "start_time": "2022-05-05T14:35:11.471Z"
   },
   {
    "duration": 7,
    "start_time": "2022-05-05T14:37:52.571Z"
   },
   {
    "duration": 215,
    "start_time": "2022-05-05T14:38:15.271Z"
   },
   {
    "duration": 10,
    "start_time": "2022-05-05T14:38:26.845Z"
   },
   {
    "duration": 10,
    "start_time": "2022-05-05T14:38:51.304Z"
   },
   {
    "duration": 168,
    "start_time": "2022-05-05T14:39:02.086Z"
   },
   {
    "duration": 124,
    "start_time": "2022-05-05T14:39:09.332Z"
   },
   {
    "duration": 8,
    "start_time": "2022-05-05T14:39:17.831Z"
   },
   {
    "duration": 2115,
    "start_time": "2022-05-05T14:44:11.717Z"
   },
   {
    "duration": 1037,
    "start_time": "2022-05-05T14:44:13.834Z"
   },
   {
    "duration": 4897,
    "start_time": "2022-05-05T14:44:14.872Z"
   },
   {
    "duration": 4588,
    "start_time": "2022-05-05T14:44:19.771Z"
   },
   {
    "duration": 4658,
    "start_time": "2022-05-05T14:44:24.361Z"
   },
   {
    "duration": 6708,
    "start_time": "2022-05-05T14:44:29.021Z"
   },
   {
    "duration": 25936,
    "start_time": "2022-05-05T14:44:35.731Z"
   },
   {
    "duration": 20818,
    "start_time": "2022-05-05T14:45:01.669Z"
   },
   {
    "duration": 215,
    "start_time": "2022-05-05T14:45:22.489Z"
   },
   {
    "duration": 9024,
    "start_time": "2022-05-05T14:45:22.707Z"
   },
   {
    "duration": 3,
    "start_time": "2022-05-05T14:45:31.733Z"
   },
   {
    "duration": 56925,
    "start_time": "2022-05-05T14:45:31.738Z"
   },
   {
    "duration": 4,
    "start_time": "2022-05-05T14:46:28.665Z"
   },
   {
    "duration": 58398,
    "start_time": "2022-05-05T14:46:28.670Z"
   },
   {
    "duration": 21385,
    "start_time": "2022-05-05T14:47:27.070Z"
   },
   {
    "duration": 3,
    "start_time": "2022-05-05T14:47:48.457Z"
   },
   {
    "duration": 21900,
    "start_time": "2022-05-05T14:47:48.462Z"
   },
   {
    "duration": 92,
    "start_time": "2022-05-05T14:48:10.364Z"
   },
   {
    "duration": 1328,
    "start_time": "2022-06-01T15:47:11.369Z"
   }
  ],
  "kernelspec": {
   "display_name": "Python 3 (ipykernel)",
   "language": "python",
   "name": "python3"
  },
  "language_info": {
   "codemirror_mode": {
    "name": "ipython",
    "version": 3
   },
   "file_extension": ".py",
   "mimetype": "text/x-python",
   "name": "python",
   "nbconvert_exporter": "python",
   "pygments_lexer": "ipython3",
   "version": "3.9.7"
  },
  "toc": {
   "base_numbering": 1,
   "nav_menu": {},
   "number_sections": true,
   "sideBar": true,
   "skip_h1_title": true,
   "title_cell": "Содержание",
   "title_sidebar": "Contents",
   "toc_cell": true,
   "toc_position": {
    "height": "calc(100% - 180px)",
    "left": "10px",
    "top": "150px",
    "width": "302.391px"
   },
   "toc_section_display": true,
   "toc_window_display": false
  }
 },
 "nbformat": 4,
 "nbformat_minor": 2
}
