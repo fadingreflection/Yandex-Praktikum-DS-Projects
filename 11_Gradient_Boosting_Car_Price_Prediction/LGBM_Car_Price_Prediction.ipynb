{
 "cells": [
  {
   "cell_type": "markdown",
   "metadata": {},
   "source": [
    "# Определение стоимости автомобилей"
   ]
  },
  {
   "cell_type": "markdown",
   "metadata": {},
   "source": [
    "Сервис по продаже автомобилей с пробегом разрабатывает приложение для привлечения новых клиентов. В нём можно быстро узнать рыночную стоимость своего автомобиля. В вашем распоряжении исторические данные: технические характеристики, комплектации и цены автомобилей. Нужно построить модель для определения стоимости. \n",
    "\n",
    "Заказчику важны:\n",
    "\n",
    "- качество предсказания;\n",
    "- скорость предсказания;\n",
    "- время обучения."
   ]
  },
  {
   "cell_type": "markdown",
   "metadata": {},
   "source": [
    "## Подготовка данных"
   ]
  },
  {
   "cell_type": "markdown",
   "metadata": {},
   "source": [
    "### Загрузка библиотек и первичный взгляд на данные"
   ]
  },
  {
   "cell_type": "code",
   "execution_count": 48,
   "metadata": {},
   "outputs": [],
   "source": [
    "#импортируем необходимые библиотеки и модули\n",
    "import time\n",
    "import pandas as pd\n",
    "import numpy as np\n",
    "from matplotlib import pyplot as plt\n",
    "import seaborn as sns\n",
    "from sklearn.preprocessing import OneHotEncoder, LabelEncoder, StandardScaler\n",
    "from sklearn.metrics import mean_squared_error\n",
    "from sklearn.model_selection import train_test_split\n",
    "from sklearn.model_selection import GridSearchCV\n",
    "from sklearn.dummy import DummyRegressor\n",
    "from sklearn.linear_model import LinearRegression\n",
    "from catboost import CatBoostRegressor\n",
    "from lightgbm import LGBMRegressor\n",
    "import lightgbm as lgb\n",
    "from scipy.stats import mode\n"
   ]
  },
  {
   "cell_type": "code",
   "execution_count": 49,
   "metadata": {},
   "outputs": [
    {
     "name": "stdout",
     "output_type": "stream",
     "text": [
      "Общая информация о данных:\n",
      "<class 'pandas.core.frame.DataFrame'>\n",
      "RangeIndex: 354369 entries, 0 to 354368\n",
      "Columns: 16 entries, DateCrawled to LastSeen\n",
      "dtypes: int64(7), object(9)\n",
      "memory usage: 43.3+ MB\n",
      "None\n",
      "\n"
     ]
    },
    {
     "data": {
      "text/plain": [
       "'Количество пропусков:'"
      ]
     },
     "metadata": {},
     "output_type": "display_data"
    },
    {
     "data": {
      "text/html": [
       "<div>\n",
       "<style scoped>\n",
       "    .dataframe tbody tr th:only-of-type {\n",
       "        vertical-align: middle;\n",
       "    }\n",
       "\n",
       "    .dataframe tbody tr th {\n",
       "        vertical-align: top;\n",
       "    }\n",
       "\n",
       "    .dataframe thead th {\n",
       "        text-align: right;\n",
       "    }\n",
       "</style>\n",
       "<table border=\"1\" class=\"dataframe\">\n",
       "  <thead>\n",
       "    <tr style=\"text-align: right;\">\n",
       "      <th></th>\n",
       "      <th>0</th>\n",
       "    </tr>\n",
       "  </thead>\n",
       "  <tbody>\n",
       "    <tr>\n",
       "      <th>NotRepaired</th>\n",
       "      <td>71154</td>\n",
       "    </tr>\n",
       "    <tr>\n",
       "      <th>VehicleType</th>\n",
       "      <td>37490</td>\n",
       "    </tr>\n",
       "    <tr>\n",
       "      <th>FuelType</th>\n",
       "      <td>32895</td>\n",
       "    </tr>\n",
       "    <tr>\n",
       "      <th>Gearbox</th>\n",
       "      <td>19833</td>\n",
       "    </tr>\n",
       "    <tr>\n",
       "      <th>Model</th>\n",
       "      <td>19705</td>\n",
       "    </tr>\n",
       "    <tr>\n",
       "      <th>DateCrawled</th>\n",
       "      <td>0</td>\n",
       "    </tr>\n",
       "    <tr>\n",
       "      <th>Price</th>\n",
       "      <td>0</td>\n",
       "    </tr>\n",
       "    <tr>\n",
       "      <th>RegistrationYear</th>\n",
       "      <td>0</td>\n",
       "    </tr>\n",
       "    <tr>\n",
       "      <th>Power</th>\n",
       "      <td>0</td>\n",
       "    </tr>\n",
       "    <tr>\n",
       "      <th>Kilometer</th>\n",
       "      <td>0</td>\n",
       "    </tr>\n",
       "    <tr>\n",
       "      <th>RegistrationMonth</th>\n",
       "      <td>0</td>\n",
       "    </tr>\n",
       "    <tr>\n",
       "      <th>Brand</th>\n",
       "      <td>0</td>\n",
       "    </tr>\n",
       "    <tr>\n",
       "      <th>DateCreated</th>\n",
       "      <td>0</td>\n",
       "    </tr>\n",
       "    <tr>\n",
       "      <th>NumberOfPictures</th>\n",
       "      <td>0</td>\n",
       "    </tr>\n",
       "    <tr>\n",
       "      <th>PostalCode</th>\n",
       "      <td>0</td>\n",
       "    </tr>\n",
       "    <tr>\n",
       "      <th>LastSeen</th>\n",
       "      <td>0</td>\n",
       "    </tr>\n",
       "  </tbody>\n",
       "</table>\n",
       "</div>"
      ],
      "text/plain": [
       "                       0\n",
       "NotRepaired        71154\n",
       "VehicleType        37490\n",
       "FuelType           32895\n",
       "Gearbox            19833\n",
       "Model              19705\n",
       "DateCrawled            0\n",
       "Price                  0\n",
       "RegistrationYear       0\n",
       "Power                  0\n",
       "Kilometer              0\n",
       "RegistrationMonth      0\n",
       "Brand                  0\n",
       "DateCreated            0\n",
       "NumberOfPictures       0\n",
       "PostalCode             0\n",
       "LastSeen               0"
      ]
     },
     "metadata": {},
     "output_type": "display_data"
    },
    {
     "data": {
      "text/html": [
       "<div>\n",
       "<style scoped>\n",
       "    .dataframe tbody tr th:only-of-type {\n",
       "        vertical-align: middle;\n",
       "    }\n",
       "\n",
       "    .dataframe tbody tr th {\n",
       "        vertical-align: top;\n",
       "    }\n",
       "\n",
       "    .dataframe thead th {\n",
       "        text-align: right;\n",
       "    }\n",
       "</style>\n",
       "<table border=\"1\" class=\"dataframe\">\n",
       "  <thead>\n",
       "    <tr style=\"text-align: right;\">\n",
       "      <th></th>\n",
       "      <th>DateCrawled</th>\n",
       "      <th>Price</th>\n",
       "      <th>VehicleType</th>\n",
       "      <th>RegistrationYear</th>\n",
       "      <th>Gearbox</th>\n",
       "      <th>Power</th>\n",
       "      <th>Model</th>\n",
       "      <th>Kilometer</th>\n",
       "      <th>RegistrationMonth</th>\n",
       "      <th>FuelType</th>\n",
       "      <th>Brand</th>\n",
       "      <th>NotRepaired</th>\n",
       "      <th>DateCreated</th>\n",
       "      <th>NumberOfPictures</th>\n",
       "      <th>PostalCode</th>\n",
       "      <th>LastSeen</th>\n",
       "    </tr>\n",
       "  </thead>\n",
       "  <tbody>\n",
       "    <tr>\n",
       "      <th>218047</th>\n",
       "      <td>2016-04-03 19:42:28</td>\n",
       "      <td>0</td>\n",
       "      <td>small</td>\n",
       "      <td>2000</td>\n",
       "      <td>manual</td>\n",
       "      <td>60</td>\n",
       "      <td>other</td>\n",
       "      <td>150000</td>\n",
       "      <td>1</td>\n",
       "      <td>petrol</td>\n",
       "      <td>peugeot</td>\n",
       "      <td>yes</td>\n",
       "      <td>2016-04-03 00:00:00</td>\n",
       "      <td>0</td>\n",
       "      <td>66386</td>\n",
       "      <td>2016-04-05 20:15:57</td>\n",
       "    </tr>\n",
       "    <tr>\n",
       "      <th>150237</th>\n",
       "      <td>2016-03-25 18:52:21</td>\n",
       "      <td>1000</td>\n",
       "      <td>wagon</td>\n",
       "      <td>1997</td>\n",
       "      <td>manual</td>\n",
       "      <td>85</td>\n",
       "      <td>vectra</td>\n",
       "      <td>150000</td>\n",
       "      <td>11</td>\n",
       "      <td>petrol</td>\n",
       "      <td>opel</td>\n",
       "      <td>no</td>\n",
       "      <td>2016-03-25 00:00:00</td>\n",
       "      <td>0</td>\n",
       "      <td>98708</td>\n",
       "      <td>2016-04-07 00:46:07</td>\n",
       "    </tr>\n",
       "    <tr>\n",
       "      <th>132624</th>\n",
       "      <td>2016-03-27 10:36:24</td>\n",
       "      <td>5200</td>\n",
       "      <td>bus</td>\n",
       "      <td>2010</td>\n",
       "      <td>manual</td>\n",
       "      <td>73</td>\n",
       "      <td>other</td>\n",
       "      <td>90000</td>\n",
       "      <td>6</td>\n",
       "      <td>petrol</td>\n",
       "      <td>peugeot</td>\n",
       "      <td>no</td>\n",
       "      <td>2016-03-27 00:00:00</td>\n",
       "      <td>0</td>\n",
       "      <td>26419</td>\n",
       "      <td>2016-03-30 14:46:38</td>\n",
       "    </tr>\n",
       "    <tr>\n",
       "      <th>16266</th>\n",
       "      <td>2016-03-07 16:54:44</td>\n",
       "      <td>2999</td>\n",
       "      <td>sedan</td>\n",
       "      <td>1999</td>\n",
       "      <td>manual</td>\n",
       "      <td>103</td>\n",
       "      <td>other</td>\n",
       "      <td>125000</td>\n",
       "      <td>9</td>\n",
       "      <td>petrol</td>\n",
       "      <td>fiat</td>\n",
       "      <td>no</td>\n",
       "      <td>2016-03-07 00:00:00</td>\n",
       "      <td>0</td>\n",
       "      <td>78464</td>\n",
       "      <td>2016-03-28 00:16:46</td>\n",
       "    </tr>\n",
       "    <tr>\n",
       "      <th>345835</th>\n",
       "      <td>2016-03-08 22:58:21</td>\n",
       "      <td>690</td>\n",
       "      <td>small</td>\n",
       "      <td>1999</td>\n",
       "      <td>manual</td>\n",
       "      <td>86</td>\n",
       "      <td>other</td>\n",
       "      <td>150000</td>\n",
       "      <td>3</td>\n",
       "      <td>petrol</td>\n",
       "      <td>suzuki</td>\n",
       "      <td>no</td>\n",
       "      <td>2016-03-08 00:00:00</td>\n",
       "      <td>0</td>\n",
       "      <td>41516</td>\n",
       "      <td>2016-03-12 10:44:45</td>\n",
       "    </tr>\n",
       "  </tbody>\n",
       "</table>\n",
       "</div>"
      ],
      "text/plain": [
       "                DateCrawled  Price VehicleType  RegistrationYear Gearbox  \\\n",
       "218047  2016-04-03 19:42:28      0       small              2000  manual   \n",
       "150237  2016-03-25 18:52:21   1000       wagon              1997  manual   \n",
       "132624  2016-03-27 10:36:24   5200         bus              2010  manual   \n",
       "16266   2016-03-07 16:54:44   2999       sedan              1999  manual   \n",
       "345835  2016-03-08 22:58:21    690       small              1999  manual   \n",
       "\n",
       "        Power   Model  Kilometer  RegistrationMonth FuelType    Brand  \\\n",
       "218047     60   other     150000                  1   petrol  peugeot   \n",
       "150237     85  vectra     150000                 11   petrol     opel   \n",
       "132624     73   other      90000                  6   petrol  peugeot   \n",
       "16266     103   other     125000                  9   petrol     fiat   \n",
       "345835     86   other     150000                  3   petrol   suzuki   \n",
       "\n",
       "       NotRepaired          DateCreated  NumberOfPictures  PostalCode  \\\n",
       "218047         yes  2016-04-03 00:00:00                 0       66386   \n",
       "150237          no  2016-03-25 00:00:00                 0       98708   \n",
       "132624          no  2016-03-27 00:00:00                 0       26419   \n",
       "16266           no  2016-03-07 00:00:00                 0       78464   \n",
       "345835          no  2016-03-08 00:00:00                 0       41516   \n",
       "\n",
       "                   LastSeen  \n",
       "218047  2016-04-05 20:15:57  \n",
       "150237  2016-04-07 00:46:07  \n",
       "132624  2016-03-30 14:46:38  \n",
       "16266   2016-03-28 00:16:46  \n",
       "345835  2016-03-12 10:44:45  "
      ]
     },
     "execution_count": 49,
     "metadata": {},
     "output_type": "execute_result"
    }
   ],
   "source": [
    "#загрузим данные\n",
    "data = pd.read_csv('/datasets/autos.csv')\n",
    "#посмотрим общую информацию о данных\n",
    "print('Общая информация о данных:')\n",
    "print(data.info(verbose = False, show_counts = False))\n",
    "print()\n",
    "#посмотрим количество пропусков\n",
    "display('Количество пропусков:', pd.DataFrame(data.isna().sum()).sort_values(by = 0, ascending = False))\n",
    "\n",
    "#выведем 5 строк таблицы\n",
    "data.sample(5)"
   ]
  },
  {
   "cell_type": "markdown",
   "metadata": {},
   "source": [
    "<b>Промежуточный вывод:</b> имеем 354369 объектов и 16 признаков, включая ЦП (цена). 7 из них включая ЦП - количественные, остальные - категориальные. В 5 категориальных фичах довольно много пропусков, которые желательно было бы заполнить. Но прежде чем приступить к этому нужно проверить численные данные на предмет аномалий."
   ]
  },
  {
   "cell_type": "markdown",
   "metadata": {},
   "source": [
    "### Проверка численных данных на аномалии"
   ]
  },
  {
   "cell_type": "code",
   "execution_count": 50,
   "metadata": {},
   "outputs": [
    {
     "data": {
      "text/html": [
       "<div>\n",
       "<style scoped>\n",
       "    .dataframe tbody tr th:only-of-type {\n",
       "        vertical-align: middle;\n",
       "    }\n",
       "\n",
       "    .dataframe tbody tr th {\n",
       "        vertical-align: top;\n",
       "    }\n",
       "\n",
       "    .dataframe thead th {\n",
       "        text-align: right;\n",
       "    }\n",
       "</style>\n",
       "<table border=\"1\" class=\"dataframe\">\n",
       "  <thead>\n",
       "    <tr style=\"text-align: right;\">\n",
       "      <th></th>\n",
       "      <th>Price</th>\n",
       "      <th>RegistrationYear</th>\n",
       "      <th>Power</th>\n",
       "      <th>Kilometer</th>\n",
       "      <th>RegistrationMonth</th>\n",
       "      <th>NumberOfPictures</th>\n",
       "      <th>PostalCode</th>\n",
       "    </tr>\n",
       "  </thead>\n",
       "  <tbody>\n",
       "    <tr>\n",
       "      <th>count</th>\n",
       "      <td>354369.000000</td>\n",
       "      <td>354369.000000</td>\n",
       "      <td>354369.000000</td>\n",
       "      <td>354369.000000</td>\n",
       "      <td>354369.000000</td>\n",
       "      <td>354369.0</td>\n",
       "      <td>354369.000000</td>\n",
       "    </tr>\n",
       "    <tr>\n",
       "      <th>mean</th>\n",
       "      <td>4416.656776</td>\n",
       "      <td>2004.234448</td>\n",
       "      <td>110.094337</td>\n",
       "      <td>128211.172535</td>\n",
       "      <td>5.714645</td>\n",
       "      <td>0.0</td>\n",
       "      <td>50508.689087</td>\n",
       "    </tr>\n",
       "    <tr>\n",
       "      <th>std</th>\n",
       "      <td>4514.158514</td>\n",
       "      <td>90.227958</td>\n",
       "      <td>189.850405</td>\n",
       "      <td>37905.341530</td>\n",
       "      <td>3.726421</td>\n",
       "      <td>0.0</td>\n",
       "      <td>25783.096248</td>\n",
       "    </tr>\n",
       "    <tr>\n",
       "      <th>min</th>\n",
       "      <td>0.000000</td>\n",
       "      <td>1000.000000</td>\n",
       "      <td>0.000000</td>\n",
       "      <td>5000.000000</td>\n",
       "      <td>0.000000</td>\n",
       "      <td>0.0</td>\n",
       "      <td>1067.000000</td>\n",
       "    </tr>\n",
       "    <tr>\n",
       "      <th>25%</th>\n",
       "      <td>1050.000000</td>\n",
       "      <td>1999.000000</td>\n",
       "      <td>69.000000</td>\n",
       "      <td>125000.000000</td>\n",
       "      <td>3.000000</td>\n",
       "      <td>0.0</td>\n",
       "      <td>30165.000000</td>\n",
       "    </tr>\n",
       "    <tr>\n",
       "      <th>50%</th>\n",
       "      <td>2700.000000</td>\n",
       "      <td>2003.000000</td>\n",
       "      <td>105.000000</td>\n",
       "      <td>150000.000000</td>\n",
       "      <td>6.000000</td>\n",
       "      <td>0.0</td>\n",
       "      <td>49413.000000</td>\n",
       "    </tr>\n",
       "    <tr>\n",
       "      <th>75%</th>\n",
       "      <td>6400.000000</td>\n",
       "      <td>2008.000000</td>\n",
       "      <td>143.000000</td>\n",
       "      <td>150000.000000</td>\n",
       "      <td>9.000000</td>\n",
       "      <td>0.0</td>\n",
       "      <td>71083.000000</td>\n",
       "    </tr>\n",
       "    <tr>\n",
       "      <th>max</th>\n",
       "      <td>20000.000000</td>\n",
       "      <td>9999.000000</td>\n",
       "      <td>20000.000000</td>\n",
       "      <td>150000.000000</td>\n",
       "      <td>12.000000</td>\n",
       "      <td>0.0</td>\n",
       "      <td>99998.000000</td>\n",
       "    </tr>\n",
       "  </tbody>\n",
       "</table>\n",
       "</div>"
      ],
      "text/plain": [
       "               Price  RegistrationYear          Power      Kilometer  \\\n",
       "count  354369.000000     354369.000000  354369.000000  354369.000000   \n",
       "mean     4416.656776       2004.234448     110.094337  128211.172535   \n",
       "std      4514.158514         90.227958     189.850405   37905.341530   \n",
       "min         0.000000       1000.000000       0.000000    5000.000000   \n",
       "25%      1050.000000       1999.000000      69.000000  125000.000000   \n",
       "50%      2700.000000       2003.000000     105.000000  150000.000000   \n",
       "75%      6400.000000       2008.000000     143.000000  150000.000000   \n",
       "max     20000.000000       9999.000000   20000.000000  150000.000000   \n",
       "\n",
       "       RegistrationMonth  NumberOfPictures     PostalCode  \n",
       "count      354369.000000          354369.0  354369.000000  \n",
       "mean            5.714645               0.0   50508.689087  \n",
       "std             3.726421               0.0   25783.096248  \n",
       "min             0.000000               0.0    1067.000000  \n",
       "25%             3.000000               0.0   30165.000000  \n",
       "50%             6.000000               0.0   49413.000000  \n",
       "75%             9.000000               0.0   71083.000000  \n",
       "max            12.000000               0.0   99998.000000  "
      ]
     },
     "metadata": {},
     "output_type": "display_data"
    }
   ],
   "source": [
    "#сохраним нужные фичи в numeric_data\n",
    "numeric_data = data.drop(['VehicleType', 'Gearbox', 'Model', 'FuelType', 'Brand', 'NotRepaired'],\n",
    "                         axis = 1)\n",
    "\n",
    "#отобразим х-ки мер центральной тенденции и разброса\n",
    "display(numeric_data.describe())"
   ]
  },
  {
   "cell_type": "markdown",
   "metadata": {},
   "source": [
    "<b>Промежуточный вывод:</b>\n",
    "Замечены аномалии следующего рода:\n",
    "- нули в минимальной цене - исходим из предположения, что этого быть не может, т.к. даже самый битый и старый автомобиль сколько-то да стоит\n",
    "- минимальный и максимальный годы регистрации не могут быть датированы как 1000 и 9999. Вероятно, произошла ошибка при вводе данных со стороны пользователя\n",
    "- минимальная мощность в Л.С. не может быть нулевой, а максимальный показатель явно не может быть 20000\n",
    "- месяц регистрации авто также не может быть нулевым, диапазон от 1 до 12\n",
    "\n",
    "Попытаемся исправить аномалии"
   ]
  },
  {
   "cell_type": "markdown",
   "metadata": {},
   "source": [
    "### Исправление аномалий в численных данных"
   ]
  },
  {
   "cell_type": "code",
   "execution_count": 51,
   "metadata": {},
   "outputs": [
    {
     "name": "stdout",
     "output_type": "stream",
     "text": [
      "Верхняя граница года регистрации для 1% авто равна: 1980.0\n",
      "Верхняя граница года регистрации для 99% авто равна: 2018.0\n"
     ]
    },
    {
     "data": {
      "image/png": "[encoded data removed]",
      "text/plain": [
       "<Figure size 288x576 with 1 Axes>"
      ]
     },
     "metadata": {
      "needs_background": "light"
     },
     "output_type": "display_data"
    }
   ],
   "source": [
    "#посмотрим на аномалии в годах регистрации\n",
    "data['RegistrationYear'].plot(kind = 'box', figsize = (4,8))\n",
    "#выделим квантили по показателям года регистрации\n",
    "print('Верхняя граница года регистрации для 1% авто равна:', data['RegistrationYear'].quantile(0.01))\n",
    "print('Верхняя граница года регистрации для 99% авто равна:', data['RegistrationYear'].quantile(0.99))"
   ]
  },
  {
   "cell_type": "markdown",
   "metadata": {},
   "source": [
    "<b>Промежуточный вывод:</b> аномалий довольно много. Оставим актуальный период."
   ]
  },
  {
   "cell_type": "code",
   "execution_count": 52,
   "metadata": {},
   "outputs": [
    {
     "name": "stdout",
     "output_type": "stream",
     "text": [
      "348035\n"
     ]
    },
    {
     "data": {
      "text/plain": [
       "<AxesSubplot:title={'center':'Актуальный размах лет регистрации авто'}>"
      ]
     },
     "execution_count": 52,
     "metadata": {},
     "output_type": "execute_result"
    },
    {
     "data": {
      "image/png": "[encoded data removed]",
      "text/plain": [
       "<Figure size 216x432 with 1 Axes>"
      ]
     },
     "metadata": {
      "needs_background": "light"
     },
     "output_type": "display_data"
    }
   ],
   "source": [
    "#отберем машины с аномальными годами регистрации\n",
    "#и унифицируем аномальные года\n",
    "for value in data['RegistrationYear']:\n",
    "    if value > 2018 or value < 1986: \n",
    "         data['RegistrationYear'].replace(value, np.nan, inplace = True)\n",
    "data.dropna(axis = 0, how = 'any', subset = ['RegistrationYear'], inplace = True)\n",
    "print(len(data))\n",
    "\n",
    "#еще раз взглянем на разброс лет\n",
    "data['RegistrationYear'].plot(kind = 'box', figsize = (3,6), title = 'Актуальный размах лет регистрации авто')"
   ]
  },
  {
   "cell_type": "markdown",
   "metadata": {},
   "source": [
    "<b>Вывод:</b> все стало выглядеть приличнее. Везде диапазон в приемлемых границах, а все аномалии удалены\n",
    "\n",
    "Посмотрим на аномалии в месяцах. Строго говоря, едва ли на цену машины будет сильно влиять месяц регистрации, да и восстановить его не представляется возможным. Поэтому можно либо оставить нули, либо заполнить пропуски с помощью значения моды, т.е. наиболее частотного. Для начала посмотрим на распределение месяцев"
   ]
  },
  {
   "cell_type": "code",
   "execution_count": 53,
   "metadata": {},
   "outputs": [
    {
     "data": {
      "text/plain": [
       "<AxesSubplot:title={'center':'Распределение частотности месяцев регистрации авто'}, ylabel='RegistrationMonth'>"
      ]
     },
     "execution_count": 53,
     "metadata": {},
     "output_type": "execute_result"
    },
    {
     "data": {
      "image/png": "[encoded data removed]",
      "text/plain": [
       "<Figure size 432x288 with 1 Axes>"
      ]
     },
     "metadata": {},
     "output_type": "display_data"
    }
   ],
   "source": [
    "#взглянем на распределение по месяцам\n",
    "plt.title('Распределение частотности месяцев регистрации авто')\n",
    "data['RegistrationMonth'].value_counts().plot(kind = 'pie')"
   ]
  },
  {
   "cell_type": "markdown",
   "metadata": {},
   "source": [
    "<b>Вывод:</b> нули явно лидируют по количеству, остальные месяцы встречаются более-менее в равных долях. Оставим нули как маркер того, что пользователь не помнит точно, в какой месяц была произведена регистрация.\n"
   ]
  },
  {
   "cell_type": "markdown",
   "metadata": {},
   "source": [
    "\n",
    "Пришло время посмотреть на аномалии в ЛС. Здесь не обойтись без предварительного research: максимальное кол-во ЛС авто 4000 (фиксированный мировой рекорд у грузовика, предназначенного для перевозки супертяжелых грузов). Самые мощные спорткары достигают потолка в 600-700 ЛС (Tesla). Возьмем показатель 700 за потолок мощности. Минимальный порог с учетом, что мы оставили возможности продажи автомобилий категории \"ретро\", поставим 30 лс"
   ]
  },
  {
   "cell_type": "code",
   "execution_count": 54,
   "metadata": {},
   "outputs": [
    {
     "data": {
      "image/png": "[encoded data removed]",
      "text/plain": [
       "<Figure size 216x576 with 1 Axes>"
      ]
     },
     "metadata": {
      "needs_background": "light"
     },
     "output_type": "display_data"
    },
    {
     "name": "stdout",
     "output_type": "stream",
     "text": [
      "Верхняя граница ЛС 99% авто: 300.0\n",
      "Верхняя граница ЛС 1% авто: 0.0\n",
      "Количество аномально больших значений ЛС: 3834\n",
      "Количество аномально маленьких значений ЛС: 40321\n"
     ]
    },
    {
     "data": {
      "text/plain": [
       "<AxesSubplot:title={'center':'Разброс лошадиных сил у авто после замены аномалий'}>"
      ]
     },
     "execution_count": 54,
     "metadata": {},
     "output_type": "execute_result"
    },
    {
     "data": {
      "image/png": "[encoded data removed]",
      "text/plain": [
       "<Figure size 216x576 with 1 Axes>"
      ]
     },
     "metadata": {
      "needs_background": "light"
     },
     "output_type": "display_data"
    }
   ],
   "source": [
    "#взглянем на разброс значений ЛС\n",
    "plt.title('Разброс лошадиных сил у авто')\n",
    "data['Power'].plot(kind = 'box', figsize = (3,8))\n",
    "plt.show()\n",
    "\n",
    "#посмотрим на квантили\n",
    "print('Верхняя граница ЛС 99% авто:', data['Power'].quantile(0.99))\n",
    "print('Верхняя граница ЛС 1% авто:', data['Power'].quantile(0.01))\n",
    "\n",
    "#посчитаем число аномалий\n",
    "print('Количество аномально больших значений ЛС:', data.query('Power > 295')['Power'].count())\n",
    "print('Количество аномально маленьких значений ЛС:', data.query('Power < 45')['Power'].count())\n",
    "\n",
    "#заменим аномально большие значения на nan\n",
    "for value in data['Power']:\n",
    "    if value > 295 or value < 45:\n",
    "        data['Power'].replace(value, np.nan, inplace = True)\n",
    "        \n",
    "#удалим аномальные значения, тк их немного\n",
    "data.dropna(axis = 0, how = 'any', subset = ['Power'], inplace = True)\n",
    "\n",
    "#посмотрим еще раз на разброс значений\n",
    "plt.title('Разброс лошадиных сил у авто после замены аномалий')\n",
    "data['Power'].plot(kind = 'box', figsize = (3,8))"
   ]
  },
  {
   "cell_type": "markdown",
   "metadata": {},
   "source": [
    "<b>Вывод:</b> с ЛС разобрались. Осталось поправить аномалии в цене. Для начала оценим количество пропусков и посмотрим на корреляцию цены с другими количественными переменными. Скорее всего, придется заполнять пропуски в ценах на основании категориальных фич - модели и бренда."
   ]
  },
  {
   "cell_type": "code",
   "execution_count": 55,
   "metadata": {},
   "outputs": [
    {
     "name": "stdout",
     "output_type": "stream",
     "text": [
      "Количество авто с нулевой стоимостью: 6533\n"
     ]
    },
    {
     "data": {
      "text/html": [
       "<div>\n",
       "<style scoped>\n",
       "    .dataframe tbody tr th:only-of-type {\n",
       "        vertical-align: middle;\n",
       "    }\n",
       "\n",
       "    .dataframe tbody tr th {\n",
       "        vertical-align: top;\n",
       "    }\n",
       "\n",
       "    .dataframe thead th {\n",
       "        text-align: right;\n",
       "    }\n",
       "</style>\n",
       "<table border=\"1\" class=\"dataframe\">\n",
       "  <thead>\n",
       "    <tr style=\"text-align: right;\">\n",
       "      <th></th>\n",
       "      <th>Price</th>\n",
       "      <th>RegistrationYear</th>\n",
       "      <th>Power</th>\n",
       "      <th>Kilometer</th>\n",
       "      <th>RegistrationMonth</th>\n",
       "      <th>NumberOfPictures</th>\n",
       "      <th>PostalCode</th>\n",
       "    </tr>\n",
       "  </thead>\n",
       "  <tbody>\n",
       "    <tr>\n",
       "      <th>Price</th>\n",
       "      <td>1.000000</td>\n",
       "      <td>0.026916</td>\n",
       "      <td>0.158872</td>\n",
       "      <td>-0.333199</td>\n",
       "      <td>0.110581</td>\n",
       "      <td>NaN</td>\n",
       "      <td>0.076055</td>\n",
       "    </tr>\n",
       "    <tr>\n",
       "      <th>RegistrationYear</th>\n",
       "      <td>0.026916</td>\n",
       "      <td>1.000000</td>\n",
       "      <td>-0.000828</td>\n",
       "      <td>-0.053447</td>\n",
       "      <td>-0.011619</td>\n",
       "      <td>NaN</td>\n",
       "      <td>-0.003459</td>\n",
       "    </tr>\n",
       "    <tr>\n",
       "      <th>Power</th>\n",
       "      <td>0.158872</td>\n",
       "      <td>-0.000828</td>\n",
       "      <td>1.000000</td>\n",
       "      <td>0.024002</td>\n",
       "      <td>0.043380</td>\n",
       "      <td>NaN</td>\n",
       "      <td>0.021665</td>\n",
       "    </tr>\n",
       "    <tr>\n",
       "      <th>Kilometer</th>\n",
       "      <td>-0.333199</td>\n",
       "      <td>-0.053447</td>\n",
       "      <td>0.024002</td>\n",
       "      <td>1.000000</td>\n",
       "      <td>0.009571</td>\n",
       "      <td>NaN</td>\n",
       "      <td>-0.007698</td>\n",
       "    </tr>\n",
       "    <tr>\n",
       "      <th>RegistrationMonth</th>\n",
       "      <td>0.110581</td>\n",
       "      <td>-0.011619</td>\n",
       "      <td>0.043380</td>\n",
       "      <td>0.009571</td>\n",
       "      <td>1.000000</td>\n",
       "      <td>NaN</td>\n",
       "      <td>0.013995</td>\n",
       "    </tr>\n",
       "    <tr>\n",
       "      <th>NumberOfPictures</th>\n",
       "      <td>NaN</td>\n",
       "      <td>NaN</td>\n",
       "      <td>NaN</td>\n",
       "      <td>NaN</td>\n",
       "      <td>NaN</td>\n",
       "      <td>NaN</td>\n",
       "      <td>NaN</td>\n",
       "    </tr>\n",
       "    <tr>\n",
       "      <th>PostalCode</th>\n",
       "      <td>0.076055</td>\n",
       "      <td>-0.003459</td>\n",
       "      <td>0.021665</td>\n",
       "      <td>-0.007698</td>\n",
       "      <td>0.013995</td>\n",
       "      <td>NaN</td>\n",
       "      <td>1.000000</td>\n",
       "    </tr>\n",
       "  </tbody>\n",
       "</table>\n",
       "</div>"
      ],
      "text/plain": [
       "                      Price  RegistrationYear     Power  Kilometer  \\\n",
       "Price              1.000000          0.026916  0.158872  -0.333199   \n",
       "RegistrationYear   0.026916          1.000000 -0.000828  -0.053447   \n",
       "Power              0.158872         -0.000828  1.000000   0.024002   \n",
       "Kilometer         -0.333199         -0.053447  0.024002   1.000000   \n",
       "RegistrationMonth  0.110581         -0.011619  0.043380   0.009571   \n",
       "NumberOfPictures        NaN               NaN       NaN        NaN   \n",
       "PostalCode         0.076055         -0.003459  0.021665  -0.007698   \n",
       "\n",
       "                   RegistrationMonth  NumberOfPictures  PostalCode  \n",
       "Price                       0.110581               NaN    0.076055  \n",
       "RegistrationYear           -0.011619               NaN   -0.003459  \n",
       "Power                       0.043380               NaN    0.021665  \n",
       "Kilometer                   0.009571               NaN   -0.007698  \n",
       "RegistrationMonth           1.000000               NaN    0.013995  \n",
       "NumberOfPictures                 NaN               NaN         NaN  \n",
       "PostalCode                  0.013995               NaN    1.000000  "
      ]
     },
     "execution_count": 55,
     "metadata": {},
     "output_type": "execute_result"
    }
   ],
   "source": [
    "#посмотрим на нули в цене авто\n",
    "print('Количество авто с нулевой стоимостью:', data[data['Price'] == 0]['Price'].count())\n",
    "\n",
    "#посмотрим на корреляцию колич. данных\n",
    "numeric_data.corr()"
   ]
  },
  {
   "cell_type": "markdown",
   "metadata": {},
   "source": [
    "<b>Промежуточный вывод:</b> гипотеза подтвердилась, на основании одних только количественных данных аномальные цены не поменять. Придется сначала разобраться с пропусками в категориальных переменных.\n",
    "\n",
    "<b>ПОМЕТКА</b> ЦП не поправлен, необходимо проработать аномалии на следующих шагах"
   ]
  },
  {
   "cell_type": "markdown",
   "metadata": {},
   "source": [
    "### Заполнение пропусков в категориальных переменных\n",
    "\n",
    "Напомним, что пропуски в столбцах VehicleType, Gearbox, Model, FuelType и NotRepaired\n",
    "\n",
    "Логика заполнения следующая: каждая модель имет свой срок жизни и, соответственно, год выпуска. В зависимости от модели определяется тип авто, коробки передач и используемое топливо. Следовательно, для заполнения два ключевых признака - год регистрации авто и его модель. Модель заполняем по категориям бренда и года регистрации, благо там нет пропусков. \n",
    "NotRepaired заполнить проще всего - была машина в ремонте или нет. Пропуски трактуем как \"нет\" - если не была, можно и не указывать. "
   ]
  },
  {
   "cell_type": "code",
   "execution_count": 56,
   "metadata": {},
   "outputs": [
    {
     "data": {
      "text/plain": [
       "'Пропусков после заполнения:'"
      ]
     },
     "metadata": {},
     "output_type": "display_data"
    },
    {
     "data": {
      "text/html": [
       "<div>\n",
       "<style scoped>\n",
       "    .dataframe tbody tr th:only-of-type {\n",
       "        vertical-align: middle;\n",
       "    }\n",
       "\n",
       "    .dataframe tbody tr th {\n",
       "        vertical-align: top;\n",
       "    }\n",
       "\n",
       "    .dataframe thead th {\n",
       "        text-align: right;\n",
       "    }\n",
       "</style>\n",
       "<table border=\"1\" class=\"dataframe\">\n",
       "  <thead>\n",
       "    <tr style=\"text-align: right;\">\n",
       "      <th></th>\n",
       "      <th>0</th>\n",
       "    </tr>\n",
       "  </thead>\n",
       "  <tbody>\n",
       "    <tr>\n",
       "      <th>DateCrawled</th>\n",
       "      <td>0</td>\n",
       "    </tr>\n",
       "    <tr>\n",
       "      <th>Price</th>\n",
       "      <td>0</td>\n",
       "    </tr>\n",
       "    <tr>\n",
       "      <th>VehicleType</th>\n",
       "      <td>0</td>\n",
       "    </tr>\n",
       "    <tr>\n",
       "      <th>RegistrationYear</th>\n",
       "      <td>0</td>\n",
       "    </tr>\n",
       "    <tr>\n",
       "      <th>Gearbox</th>\n",
       "      <td>0</td>\n",
       "    </tr>\n",
       "    <tr>\n",
       "      <th>Power</th>\n",
       "      <td>0</td>\n",
       "    </tr>\n",
       "    <tr>\n",
       "      <th>Model</th>\n",
       "      <td>0</td>\n",
       "    </tr>\n",
       "    <tr>\n",
       "      <th>Kilometer</th>\n",
       "      <td>0</td>\n",
       "    </tr>\n",
       "    <tr>\n",
       "      <th>RegistrationMonth</th>\n",
       "      <td>0</td>\n",
       "    </tr>\n",
       "    <tr>\n",
       "      <th>FuelType</th>\n",
       "      <td>0</td>\n",
       "    </tr>\n",
       "    <tr>\n",
       "      <th>Brand</th>\n",
       "      <td>0</td>\n",
       "    </tr>\n",
       "    <tr>\n",
       "      <th>NotRepaired</th>\n",
       "      <td>0</td>\n",
       "    </tr>\n",
       "    <tr>\n",
       "      <th>DateCreated</th>\n",
       "      <td>0</td>\n",
       "    </tr>\n",
       "    <tr>\n",
       "      <th>NumberOfPictures</th>\n",
       "      <td>0</td>\n",
       "    </tr>\n",
       "    <tr>\n",
       "      <th>PostalCode</th>\n",
       "      <td>0</td>\n",
       "    </tr>\n",
       "    <tr>\n",
       "      <th>LastSeen</th>\n",
       "      <td>0</td>\n",
       "    </tr>\n",
       "  </tbody>\n",
       "</table>\n",
       "</div>"
      ],
      "text/plain": [
       "                   0\n",
       "DateCrawled        0\n",
       "Price              0\n",
       "VehicleType        0\n",
       "RegistrationYear   0\n",
       "Gearbox            0\n",
       "Power              0\n",
       "Model              0\n",
       "Kilometer          0\n",
       "RegistrationMonth  0\n",
       "FuelType           0\n",
       "Brand              0\n",
       "NotRepaired        0\n",
       "DateCreated        0\n",
       "NumberOfPictures   0\n",
       "PostalCode         0\n",
       "LastSeen           0"
      ]
     },
     "metadata": {},
     "output_type": "display_data"
    }
   ],
   "source": [
    "#создадим ф-цию для заполнения модели в зависимости от бренда и года\n",
    "data['Model'] = data.groupby(['Brand','RegistrationYear'])['Model'].transform(lambda x: x.fillna((x.mode()[0]\n",
    "                                                                                if not x.mode().empty else \"other\")))\n",
    "\n",
    "#создадим ф-цию для заполнения типа ТС, топлива и коробки передач в зависимости от модели и года\n",
    "columns = ['VehicleType', 'Gearbox', 'FuelType']\n",
    "for column in columns:\n",
    "    data[column] = data.groupby(['Model','RegistrationYear'])[column].transform(lambda x: x.fillna((x.mode()[0]\n",
    "                                                                                if not x.mode().empty else \"Unknown\")))\n",
    "\n",
    "#разберемся с пропусками в NotRepaired и заменим ответы на 0 и 1\n",
    "data['NotRepaired'].fillna(0, inplace = True)\n",
    "data['NotRepaired'].replace({'yes': 1, 'no' : 0}, inplace = True)\n",
    "data['NotRepaired'] = data['NotRepaired'].astype('int64')\n",
    "\n",
    "#проверим пропуски по всему датасету\n",
    "display('Пропусков после заполнения:', pd.DataFrame(data.isna().sum()))"
   ]
  },
  {
   "cell_type": "markdown",
   "metadata": {},
   "source": [
    "<b>Вывод:</b> пропусков в категориальных переменных не осталось, теперь осталось разобраться с аномальными ценами\n"
   ]
  },
  {
   "cell_type": "code",
   "execution_count": 57,
   "metadata": {},
   "outputs": [
    {
     "name": "stdout",
     "output_type": "stream",
     "text": [
      "Нулевых цен после заполнения: 61\n"
     ]
    }
   ],
   "source": [
    "#заменим нули на медианное значение цены в зависимости от модели и пробега\n",
    "data['Price'] = data.groupby(['Model','Kilometer'])['Price'].transform(lambda x:\n",
    "                                                                       x.replace((0, x.median())))\n",
    "#проверим нулевые значения после заполнения\n",
    "print('Нулевых цен после заполнения:', data[data['Price'] ==0]['Price'].count())"
   ]
  },
  {
   "cell_type": "markdown",
   "metadata": {},
   "source": [
    "<b>Вывод:</b> осталось 60 нулевых цен, очевидно, это авто, по которым никак нельзя восстановить хотя бы приблизительную стоимость. Т.к. на фоне 300000 наблюдений это немного, удалим эти данные, а также приступим к разделению на тренировочную и тестовую выборки."
   ]
  },
  {
   "cell_type": "markdown",
   "metadata": {},
   "source": [
    "### Подготовка выборок, разделение данных на ЦП и features"
   ]
  },
  {
   "cell_type": "code",
   "execution_count": 58,
   "metadata": {},
   "outputs": [],
   "source": [
    "#удалим оставшиеся аномальные цены\n",
    "data['Price'] = data['Price'].replace(0, np.nan)\n",
    "data.dropna(subset = ['Price'], inplace = True)"
   ]
  },
  {
   "cell_type": "code",
   "execution_count": 59,
   "metadata": {},
   "outputs": [],
   "source": [
    "#сохраним копию датасета в data_categorical (т.к CatBoost и LGB не допускают предварит. кодирования)\n",
    "data_categorial = data.copy()"
   ]
  },
  {
   "cell_type": "code",
   "execution_count": 60,
   "metadata": {},
   "outputs": [
    {
     "data": {
      "text/html": [
       "<div>\n",
       "<style scoped>\n",
       "    .dataframe tbody tr th:only-of-type {\n",
       "        vertical-align: middle;\n",
       "    }\n",
       "\n",
       "    .dataframe tbody tr th {\n",
       "        vertical-align: top;\n",
       "    }\n",
       "\n",
       "    .dataframe thead th {\n",
       "        text-align: right;\n",
       "    }\n",
       "</style>\n",
       "<table border=\"1\" class=\"dataframe\">\n",
       "  <thead>\n",
       "    <tr style=\"text-align: right;\">\n",
       "      <th></th>\n",
       "      <th>DateCrawled</th>\n",
       "      <th>Price</th>\n",
       "      <th>RegistrationYear</th>\n",
       "      <th>Power</th>\n",
       "      <th>Kilometer</th>\n",
       "      <th>RegistrationMonth</th>\n",
       "      <th>NotRepaired</th>\n",
       "      <th>DateCreated</th>\n",
       "      <th>NumberOfPictures</th>\n",
       "      <th>PostalCode</th>\n",
       "      <th>...</th>\n",
       "      <th>VehicleType_wagon</th>\n",
       "      <th>Gearbox_auto</th>\n",
       "      <th>Gearbox_manual</th>\n",
       "      <th>FuelType_cng</th>\n",
       "      <th>FuelType_electric</th>\n",
       "      <th>FuelType_gasoline</th>\n",
       "      <th>FuelType_hybrid</th>\n",
       "      <th>FuelType_lpg</th>\n",
       "      <th>FuelType_other</th>\n",
       "      <th>FuelType_petrol</th>\n",
       "    </tr>\n",
       "  </thead>\n",
       "  <tbody>\n",
       "    <tr>\n",
       "      <th>170268</th>\n",
       "      <td>2016-03-11 15:51:16</td>\n",
       "      <td>550.0</td>\n",
       "      <td>1995.0</td>\n",
       "      <td>75.0</td>\n",
       "      <td>125000</td>\n",
       "      <td>3</td>\n",
       "      <td>0</td>\n",
       "      <td>2016-03-11 00:00:00</td>\n",
       "      <td>0</td>\n",
       "      <td>19386</td>\n",
       "      <td>...</td>\n",
       "      <td>0</td>\n",
       "      <td>0</td>\n",
       "      <td>1</td>\n",
       "      <td>0</td>\n",
       "      <td>0</td>\n",
       "      <td>0</td>\n",
       "      <td>0</td>\n",
       "      <td>0</td>\n",
       "      <td>0</td>\n",
       "      <td>1</td>\n",
       "    </tr>\n",
       "    <tr>\n",
       "      <th>175017</th>\n",
       "      <td>2016-03-08 20:56:31</td>\n",
       "      <td>2000.0</td>\n",
       "      <td>2005.0</td>\n",
       "      <td>58.0</td>\n",
       "      <td>100000</td>\n",
       "      <td>6</td>\n",
       "      <td>0</td>\n",
       "      <td>2016-03-08 00:00:00</td>\n",
       "      <td>0</td>\n",
       "      <td>30880</td>\n",
       "      <td>...</td>\n",
       "      <td>0</td>\n",
       "      <td>0</td>\n",
       "      <td>1</td>\n",
       "      <td>0</td>\n",
       "      <td>0</td>\n",
       "      <td>0</td>\n",
       "      <td>0</td>\n",
       "      <td>0</td>\n",
       "      <td>0</td>\n",
       "      <td>1</td>\n",
       "    </tr>\n",
       "    <tr>\n",
       "      <th>222160</th>\n",
       "      <td>2016-04-03 19:52:58</td>\n",
       "      <td>5499.0</td>\n",
       "      <td>2006.0</td>\n",
       "      <td>250.0</td>\n",
       "      <td>60000</td>\n",
       "      <td>2</td>\n",
       "      <td>0</td>\n",
       "      <td>2016-04-03 00:00:00</td>\n",
       "      <td>0</td>\n",
       "      <td>57078</td>\n",
       "      <td>...</td>\n",
       "      <td>1</td>\n",
       "      <td>1</td>\n",
       "      <td>0</td>\n",
       "      <td>0</td>\n",
       "      <td>0</td>\n",
       "      <td>0</td>\n",
       "      <td>0</td>\n",
       "      <td>0</td>\n",
       "      <td>0</td>\n",
       "      <td>1</td>\n",
       "    </tr>\n",
       "  </tbody>\n",
       "</table>\n",
       "<p>3 rows × 313 columns</p>\n",
       "</div>"
      ],
      "text/plain": [
       "                DateCrawled   Price  RegistrationYear  Power  Kilometer  \\\n",
       "170268  2016-03-11 15:51:16   550.0            1995.0   75.0     125000   \n",
       "175017  2016-03-08 20:56:31  2000.0            2005.0   58.0     100000   \n",
       "222160  2016-04-03 19:52:58  5499.0            2006.0  250.0      60000   \n",
       "\n",
       "        RegistrationMonth  NotRepaired          DateCreated  NumberOfPictures  \\\n",
       "170268                  3            0  2016-03-11 00:00:00                 0   \n",
       "175017                  6            0  2016-03-08 00:00:00                 0   \n",
       "222160                  2            0  2016-04-03 00:00:00                 0   \n",
       "\n",
       "        PostalCode  ... VehicleType_wagon  Gearbox_auto  Gearbox_manual  \\\n",
       "170268       19386  ...                 0             0               1   \n",
       "175017       30880  ...                 0             0               1   \n",
       "222160       57078  ...                 1             1               0   \n",
       "\n",
       "        FuelType_cng  FuelType_electric  FuelType_gasoline  FuelType_hybrid  \\\n",
       "170268             0                  0                  0                0   \n",
       "175017             0                  0                  0                0   \n",
       "222160             0                  0                  0                0   \n",
       "\n",
       "        FuelType_lpg  FuelType_other  FuelType_petrol  \n",
       "170268             0               0                1  \n",
       "175017             0               0                1  \n",
       "222160             0               0                1  \n",
       "\n",
       "[3 rows x 313 columns]"
      ]
     },
     "execution_count": 60,
     "metadata": {},
     "output_type": "execute_result"
    }
   ],
   "source": [
    "#закодируем категориальные фичи с помощью OHE\n",
    "categorial_features = ['Brand','Model','VehicleType','Gearbox','FuelType']\n",
    "data = pd.get_dummies(data, columns=categorial_features, drop_first = True)\n",
    "#проверим данные после кодирования\n",
    "data.sample(3)"
   ]
  },
  {
   "cell_type": "code",
   "execution_count": 61,
   "metadata": {},
   "outputs": [
    {
     "data": {
      "text/html": [
       "<div>\n",
       "<style scoped>\n",
       "    .dataframe tbody tr th:only-of-type {\n",
       "        vertical-align: middle;\n",
       "    }\n",
       "\n",
       "    .dataframe tbody tr th {\n",
       "        vertical-align: top;\n",
       "    }\n",
       "\n",
       "    .dataframe thead th {\n",
       "        text-align: right;\n",
       "    }\n",
       "</style>\n",
       "<table border=\"1\" class=\"dataframe\">\n",
       "  <thead>\n",
       "    <tr style=\"text-align: right;\">\n",
       "      <th></th>\n",
       "      <th>DateCrawled</th>\n",
       "      <th>Price</th>\n",
       "      <th>RegistrationYear</th>\n",
       "      <th>Power</th>\n",
       "      <th>Kilometer</th>\n",
       "      <th>RegistrationMonth</th>\n",
       "      <th>NotRepaired</th>\n",
       "      <th>DateCreated</th>\n",
       "      <th>NumberOfPictures</th>\n",
       "      <th>PostalCode</th>\n",
       "      <th>...</th>\n",
       "      <th>VehicleType_wagon</th>\n",
       "      <th>Gearbox_auto</th>\n",
       "      <th>Gearbox_manual</th>\n",
       "      <th>FuelType_cng</th>\n",
       "      <th>FuelType_electric</th>\n",
       "      <th>FuelType_gasoline</th>\n",
       "      <th>FuelType_hybrid</th>\n",
       "      <th>FuelType_lpg</th>\n",
       "      <th>FuelType_other</th>\n",
       "      <th>FuelType_petrol</th>\n",
       "    </tr>\n",
       "  </thead>\n",
       "  <tbody>\n",
       "    <tr>\n",
       "      <th>334194</th>\n",
       "      <td>2016-03-29 16:55:46</td>\n",
       "      <td>3000.0</td>\n",
       "      <td>-0.103922</td>\n",
       "      <td>0.345943</td>\n",
       "      <td>0.579080</td>\n",
       "      <td>4</td>\n",
       "      <td>0</td>\n",
       "      <td>2016-03-29 00:00:00</td>\n",
       "      <td>0</td>\n",
       "      <td>10969</td>\n",
       "      <td>...</td>\n",
       "      <td>0</td>\n",
       "      <td>1</td>\n",
       "      <td>0</td>\n",
       "      <td>0</td>\n",
       "      <td>0</td>\n",
       "      <td>0</td>\n",
       "      <td>0</td>\n",
       "      <td>0</td>\n",
       "      <td>0</td>\n",
       "      <td>1</td>\n",
       "    </tr>\n",
       "    <tr>\n",
       "      <th>331644</th>\n",
       "      <td>2016-03-14 21:47:43</td>\n",
       "      <td>199.0</td>\n",
       "      <td>1.995768</td>\n",
       "      <td>-1.535210</td>\n",
       "      <td>0.579080</td>\n",
       "      <td>0</td>\n",
       "      <td>1</td>\n",
       "      <td>2016-03-14 00:00:00</td>\n",
       "      <td>0</td>\n",
       "      <td>1609</td>\n",
       "      <td>...</td>\n",
       "      <td>0</td>\n",
       "      <td>0</td>\n",
       "      <td>1</td>\n",
       "      <td>0</td>\n",
       "      <td>0</td>\n",
       "      <td>0</td>\n",
       "      <td>0</td>\n",
       "      <td>0</td>\n",
       "      <td>0</td>\n",
       "      <td>1</td>\n",
       "    </tr>\n",
       "    <tr>\n",
       "      <th>278766</th>\n",
       "      <td>2016-03-16 11:57:05</td>\n",
       "      <td>10999.0</td>\n",
       "      <td>0.703651</td>\n",
       "      <td>-0.051189</td>\n",
       "      <td>-1.348028</td>\n",
       "      <td>5</td>\n",
       "      <td>0</td>\n",
       "      <td>2016-03-16 00:00:00</td>\n",
       "      <td>0</td>\n",
       "      <td>45478</td>\n",
       "      <td>...</td>\n",
       "      <td>0</td>\n",
       "      <td>0</td>\n",
       "      <td>1</td>\n",
       "      <td>0</td>\n",
       "      <td>0</td>\n",
       "      <td>0</td>\n",
       "      <td>0</td>\n",
       "      <td>0</td>\n",
       "      <td>0</td>\n",
       "      <td>1</td>\n",
       "    </tr>\n",
       "  </tbody>\n",
       "</table>\n",
       "<p>3 rows × 313 columns</p>\n",
       "</div>"
      ],
      "text/plain": [
       "                DateCrawled    Price  RegistrationYear     Power  Kilometer  \\\n",
       "334194  2016-03-29 16:55:46   3000.0         -0.103922  0.345943   0.579080   \n",
       "331644  2016-03-14 21:47:43    199.0          1.995768 -1.535210   0.579080   \n",
       "278766  2016-03-16 11:57:05  10999.0          0.703651 -0.051189  -1.348028   \n",
       "\n",
       "        RegistrationMonth  NotRepaired          DateCreated  NumberOfPictures  \\\n",
       "334194                  4            0  2016-03-29 00:00:00                 0   \n",
       "331644                  0            1  2016-03-14 00:00:00                 0   \n",
       "278766                  5            0  2016-03-16 00:00:00                 0   \n",
       "\n",
       "        PostalCode  ... VehicleType_wagon  Gearbox_auto  Gearbox_manual  \\\n",
       "334194       10969  ...                 0             1               0   \n",
       "331644        1609  ...                 0             0               1   \n",
       "278766       45478  ...                 0             0               1   \n",
       "\n",
       "        FuelType_cng  FuelType_electric  FuelType_gasoline  FuelType_hybrid  \\\n",
       "334194             0                  0                  0                0   \n",
       "331644             0                  0                  0                0   \n",
       "278766             0                  0                  0                0   \n",
       "\n",
       "        FuelType_lpg  FuelType_other  FuelType_petrol  \n",
       "334194             0               0                1  \n",
       "331644             0               0                1  \n",
       "278766             0               0                1  \n",
       "\n",
       "[3 rows x 313 columns]"
      ]
     },
     "execution_count": 61,
     "metadata": {},
     "output_type": "execute_result"
    }
   ],
   "source": [
    "#масштабируем колич. фичи \n",
    "scaler = StandardScaler()\n",
    "numeric_columns = ['RegistrationYear','Power','Kilometer']\n",
    "scaler.fit(data[numeric_columns])\n",
    "data[numeric_columns] = scaler.transform(data[numeric_columns])\n",
    "\n",
    "#проверим данные\n",
    "data.sample(3)"
   ]
  },
  {
   "cell_type": "code",
   "execution_count": 62,
   "metadata": {},
   "outputs": [
    {
     "name": "stdout",
     "output_type": "stream",
     "text": [
      "(303819,)\n",
      "(303819, 307)\n",
      "Обучающая выборка для линейной регрессии: 227864 227864\n",
      "Тестовая выборка для линейной регрессии: 75955 75955\n"
     ]
    }
   ],
   "source": [
    "#выделим ЦП и нужные features для линейной регрессии\n",
    "data_target = data['Price']\n",
    "data_features = data.drop(['DateCrawled', 'DateCreated', 'NumberOfPictures', 'PostalCode', 'LastSeen', 'Price'], axis = 1)\n",
    "\n",
    "#проверим размерность ЦП и фич\n",
    "print(data_target.shape)\n",
    "print(data_features.shape)\n",
    "\n",
    "#разобьем данные на обучающую и тестовую выборки для Линейной Регрессии\n",
    "x_train, x_test, y_train, y_test = train_test_split(data_features, data_target, test_size = 0.25,\n",
    "                                                   random_state = 42)\n",
    "\n",
    "#проверим размерность выборок\n",
    "print('Обучающая выборка для линейной регрессии:', len(x_train), len(y_train))\n",
    "print('Тестовая выборка для линейной регрессии:', len(x_test), len(y_test))"
   ]
  },
  {
   "cell_type": "code",
   "execution_count": 63,
   "metadata": {},
   "outputs": [
    {
     "name": "stdout",
     "output_type": "stream",
     "text": [
      "Обучающая выборка для CatBoost и LGBM: 227864 227864\n",
      "Тестовая выборка для CatBoost и LGBM: 75955 75955\n"
     ]
    }
   ],
   "source": [
    "#подготовим выборки для LGB и CatBoost\n",
    "categorial_features = ['Brand','Model','VehicleType','Gearbox','FuelType']\n",
    "#объявим категориальные фичи категориальными\n",
    "data_categorial[categorial_features] = data_categorial[categorial_features].astype('category')\n",
    "#отделим фичи от ЦП\n",
    "data_target_cat = data_categorial['Price']\n",
    "data_features_cat = data_categorial.drop(['DateCrawled', 'DateCreated', 'NumberOfPictures', 'PostalCode', 'LastSeen', 'Price'], axis = 1)\n",
    "x_train_cat, x_test_cat, y_train_cat, y_test_cat = train_test_split(data_features_cat,\n",
    "                                                                    data_target_cat, test_size = 0.25,\n",
    "                                                   random_state = 42)\n",
    "#проверим размерность выборок\n",
    "print('Обучающая выборка для CatBoost и LGBM:', len(x_train_cat), len(y_train_cat))\n",
    "print('Тестовая выборка для CatBoost и LGBM:', len(x_test_cat), len(y_test_cat))"
   ]
  },
  {
   "cell_type": "markdown",
   "metadata": {},
   "source": [
    "<b>ВЫВОД ПО ЭТАПУ</b> данные загружены, очищены и подготовлены. Нужные выборки получены. Можно приступать к обучению моделей"
   ]
  },
  {
   "cell_type": "markdown",
   "metadata": {},
   "source": [
    "## Обучение моделей"
   ]
  },
  {
   "cell_type": "markdown",
   "metadata": {},
   "source": [
    "### Проверка показателей DummyRegressor\n",
    "\n",
    "Поскольку перед нами стоит задача регрессии и цель - минимизировать функцию потерь, прежде всего необходимо посмотреть, насколько хорошо с задачей справляется случайная модель и сколько времени занимает ее работа"
   ]
  },
  {
   "cell_type": "code",
   "execution_count": 64,
   "metadata": {},
   "outputs": [],
   "source": [
    "#создадим списки для сохранения результатов работы алгоритмов\n",
    "algorithms = ['Dummy Regressor', 'Linear Regression', 'CatBoost', 'CatBoost Tuned', 'LGBM', 'LGBM Tuned']\n",
    "results = []\n",
    "education_time = []\n",
    "prediction_time = []"
   ]
  },
  {
   "cell_type": "code",
   "execution_count": 65,
   "metadata": {},
   "outputs": [
    {
     "name": "stdout",
     "output_type": "stream",
     "text": [
      "RMSE случайной модели составляет: 4492.035767750389\n"
     ]
    }
   ],
   "source": [
    "#засечет время обучения и обучим модель\n",
    "start = time.time()\n",
    "model_dummy = DummyRegressor()\n",
    "model_dummy.fit(x_train, y_train)\n",
    "#остановим таймер и зафиксируем результаты\n",
    "end = time.time()\n",
    "dummy_education_time = end - start\n",
    "education_time.append(dummy_education_time)\n",
    "\n",
    "#засечем время получения предсказаний\n",
    "start = time.time()\n",
    "predictions = model_dummy.predict(x_test)\n",
    "#остановим таймер и зафиксируем результаты\n",
    "end = time.time()\n",
    "dummy_prediction_time = end - start\n",
    "prediction_time.append(dummy_prediction_time)\n",
    "\n",
    "result = mean_squared_error(predictions, y_test)\n",
    "print('RMSE случайной модели составляет:', result**0.5)\n",
    "\n",
    "results.append(result**0.5)"
   ]
  },
  {
   "cell_type": "markdown",
   "metadata": {},
   "source": [
    "<b>Вывод:</b> случайная модель ошибается на 4500 евро. Посмотрим, как покажут себя остальные модели. Начнем с линейной регрессии"
   ]
  },
  {
   "cell_type": "markdown",
   "metadata": {},
   "source": [
    "### Проверка работы линейной регрессии "
   ]
  },
  {
   "cell_type": "code",
   "execution_count": 66,
   "metadata": {},
   "outputs": [
    {
     "name": "stdout",
     "output_type": "stream",
     "text": [
      "RMSE линейной регрессии составляет: 2499.607830458686\n"
     ]
    }
   ],
   "source": [
    "#объявим модель\n",
    "model_lr = LinearRegression()\n",
    "\n",
    "#засечем время обучения и обучим модель\n",
    "start = time.time()\n",
    "model_lr.fit(x_train, y_train)\n",
    "#остановим таймер\n",
    "end = time.time()\n",
    "#добавим рез-ты в список\n",
    "lr_education_time = end - start\n",
    "education_time.append(lr_education_time)\n",
    "\n",
    "#засечем время предсказания и получим ответы\n",
    "start = time.time()\n",
    "predictions = model_lr.predict(x_test)\n",
    "end = time.time()\n",
    "lr_prediction_time = end - start\n",
    "prediction_time.append(lr_prediction_time)\n",
    "\n",
    "#рассчитаем RMSE и добавим рез-т в список\n",
    "result = mean_squared_error(predictions, y_test)\n",
    "results.append(result**0.5)\n",
    "print('RMSE линейной регрессии составляет:', result**0.5)"
   ]
  },
  {
   "cell_type": "markdown",
   "metadata": {},
   "source": [
    "<b>Вывод:</b> линейная регрессия ошибается на 2500 евро. Особо ее не оттюнингуешь. Посмотрим, как покажут себя остальные модели. "
   ]
  },
  {
   "cell_type": "markdown",
   "metadata": {},
   "source": [
    "### Проверка алгоритма CatBoost с тюнингом и без"
   ]
  },
  {
   "cell_type": "code",
   "execution_count": 67,
   "metadata": {},
   "outputs": [
    {
     "name": "stdout",
     "output_type": "stream",
     "text": [
      "CPU times: user 4 µs, sys: 0 ns, total: 4 µs\n",
      "Wall time: 6.2 µs\n",
      "Learning rate set to 0.096537\n",
      "0:\tlearn: 4252.3623605\ttotal: 341ms\tremaining: 5m 40s\n",
      "200:\tlearn: 1742.4266315\ttotal: 41.1s\tremaining: 2m 43s\n",
      "400:\tlearn: 1686.3581243\ttotal: 1m 20s\tremaining: 1m 59s\n",
      "600:\tlearn: 1657.8681467\ttotal: 1m 59s\tremaining: 1m 19s\n",
      "800:\tlearn: 1637.7216107\ttotal: 2m 38s\tremaining: 39.4s\n",
      "999:\tlearn: 1621.3186047\ttotal: 3m 15s\tremaining: 0us\n",
      "RMSE CatBoost составляет: 1684.3429345432016\n"
     ]
    }
   ],
   "source": [
    "%time\n",
    "#объявим модель\n",
    "cbr = CatBoostRegressor(random_state = 42, loss_function = 'RMSE',\n",
    "                          cat_features = categorial_features, verbose = 200)\n",
    "#засечем время и обучим CatBoost\n",
    "start = time.time()\n",
    "cbr.fit(x_train_cat, y_train_cat)\n",
    "#остановим таймер и зафиксируем результат\n",
    "end = time.time()\n",
    "сatboost_education_time = end - start\n",
    "education_time.append(сatboost_education_time)\n",
    "\n",
    "#засечем время предсказания и получим ответы\n",
    "start = time.time()\n",
    "predictions = cbr.predict(x_test_cat)\n",
    "end = time.time()\n",
    "catboost_prediction_time = end - start\n",
    "prediction_time.append(catboost_prediction_time)\n",
    "\n",
    "#рассчитаем RMSE и добавим рез-т в список\n",
    "result = mean_squared_error(predictions, y_test_cat)\n",
    "results.append(result**0.5)\n",
    "print('RMSE CatBoost составляет:', result**0.5)"
   ]
  },
  {
   "cell_type": "code",
   "execution_count": 68,
   "metadata": {},
   "outputs": [
    {
     "name": "stdout",
     "output_type": "stream",
     "text": [
      "CPU times: user 39 µs, sys: 0 ns, total: 39 µs\n",
      "Wall time: 41.5 µs\n"
     ]
    }
   ],
   "source": [
    "%%time\n",
    "#добавим тюнинг гиперпараметров для модели и оценим результат\n",
    "params = {'learning_rate': (0.4, 0.6, 0.8), \n",
    "          'iterations': [50, 100], 'depth': [4, 6, 8]}\n",
    "\n",
    "grid_cbr = GridSearchCV(cbr,\n",
    "                        params,\n",
    "                        cv=3,\n",
    "                        scoring='neg_root_mean_squared_error',\n",
    "                        verbose=100)\n",
    "#grid_cbr.fit(x_train_cat, y_train_cat)\n",
    "#print(grid_cbr.best_params_)\n",
    "#print(grid_cbr.best_score_)"
   ]
  },
  {
   "cell_type": "markdown",
   "metadata": {},
   "source": [
    "<b>Промежуточный результат:</b> после 12 минут поиска оптимальных гиперпараметров, наилучший показатель - ошибка в 1736 евро на тренировочной выборке при глубине 8, learning_rate 0.4 и числе итераций 100. CatBoost без тюнинга показал наилучший результат 1684 на тестовой выборке.\n",
    "\n",
    "Увеличим число итераций до 500 при сохранении остальных гиперпараметров и оценим результат оттюнингованного CatBoost на тестовой выборке"
   ]
  },
  {
   "cell_type": "code",
   "execution_count": 69,
   "metadata": {},
   "outputs": [
    {
     "name": "stdout",
     "output_type": "stream",
     "text": [
      "CPU times: user 4 µs, sys: 0 ns, total: 4 µs\n",
      "Wall time: 6.91 µs\n",
      "0:\tlearn: 3362.6422433\ttotal: 391ms\tremaining: 3m 15s\n",
      "200:\tlearn: 1558.6662595\ttotal: 52.9s\tremaining: 1m 18s\n",
      "400:\tlearn: 1485.6247479\ttotal: 1m 44s\tremaining: 25.9s\n",
      "499:\tlearn: 1459.6117445\ttotal: 2m 11s\tremaining: 0us\n",
      "RMSE лучшей модели CatBoost составляет: 1652.1776063424688\n"
     ]
    }
   ],
   "source": [
    "%time\n",
    "#объявим наилучшую модель CatBoost\n",
    "best_cbr = CatBoostRegressor(random_state = 42, loss_function = 'RMSE',\n",
    "                          cat_features = categorial_features, verbose = 200, depth = 8,\n",
    "                            iterations = 500, learning_rate = 0.4)\n",
    "#засечем время и обучим CatBoost\n",
    "start = time.time()\n",
    "best_cbr.fit(x_train_cat, y_train_cat)\n",
    "#остановим таймер и зафиксируем результат\n",
    "end = time.time()\n",
    "best_сatboost_education_time = end - start\n",
    "education_time.append(best_сatboost_education_time)\n",
    "\n",
    "#засечем время предсказания и получим ответы\n",
    "start = time.time()\n",
    "predictions = best_cbr.predict(x_test_cat)\n",
    "end = time.time()\n",
    "best_catboost_prediction_time = end - start\n",
    "prediction_time.append(best_catboost_prediction_time)\n",
    "\n",
    "#рассчитаем RMSE и добавим рез-т в список\n",
    "result = mean_squared_error(predictions, y_test_cat)\n",
    "results.append(result**0.5)\n",
    "print('RMSE лучшей модели CatBoost составляет:', result**0.5)"
   ]
  },
  {
   "cell_type": "markdown",
   "metadata": {},
   "source": [
    "После тюнинга лучшая модель CatBoost показала результат RMSE 1652"
   ]
  },
  {
   "cell_type": "markdown",
   "metadata": {},
   "source": [
    "### Проверка работы алгоритма LGBM с тюнингом и без"
   ]
  },
  {
   "cell_type": "code",
   "execution_count": 70,
   "metadata": {},
   "outputs": [
    {
     "name": "stdout",
     "output_type": "stream",
     "text": [
      "CPU times: user 3 µs, sys: 0 ns, total: 3 µs\n",
      "Wall time: 5.72 µs\n",
      "RMSE LGBM без подбора гиперпараметров составляет: 1706.4091309239357\n"
     ]
    }
   ],
   "source": [
    "%time\n",
    "#объявим модель LGBM без тюнинга гиперпараметров\n",
    "lgb = LGBMRegressor(random_state = 42, verbose = 0, force_row_wise= True)\n",
    "#засечем время и обучим CatBoost\n",
    "start = time.time()\n",
    "lgb.fit(x_train_cat, y_train_cat)\n",
    "#остановим таймер и зафиксируем результат\n",
    "end = time.time()\n",
    "lgb_education_time = end - start\n",
    "education_time.append(lgb_education_time)\n",
    "\n",
    "#засечем время предсказания и получим ответы\n",
    "start = time.time()\n",
    "predictions = lgb.predict(x_test_cat)\n",
    "end = time.time()\n",
    "lgb_prediction_time = end - start\n",
    "prediction_time.append(lgb_prediction_time)\n",
    "\n",
    "#рассчитаем RMSE и добавим рез-т в список\n",
    "result = mean_squared_error(predictions, y_test_cat)\n",
    "results.append(result**0.5)\n",
    "print('RMSE LGBM без подбора гиперпараметров составляет:', result**0.5)"
   ]
  },
  {
   "cell_type": "code",
   "execution_count": 71,
   "metadata": {},
   "outputs": [],
   "source": [
    "#добавим тюнинг гиперпараметров для LGBM и оценим результат\n",
    "lgb = LGBMRegressor(random_state = 42, force_row_wise = True, verbose = 500)\n",
    "params = {'learning_rate': (0.2, 0.4, 0.5),\n",
    "          'num_leaves': [21, 31, 41]}\n",
    "\n",
    "grid_lgb = GridSearchCV(lgb,\n",
    "                        param_grid =params,\n",
    "                        cv=3,\n",
    "                        scoring='neg_root_mean_squared_error')\n",
    "\n",
    "#grid_lgb.fit(x_train_cat, y_train_cat)\n",
    "#print(grid_lgb.best_params_)\n",
    "#print(grid_lgb.best_score_)"
   ]
  },
  {
   "cell_type": "markdown",
   "metadata": {},
   "source": [
    "<b>Промежуточный результат:</b> лучшие гиперпараметры для LGBM: \n",
    "- 'learning_rate': 0.2, \n",
    "- n_estimators': 80,\n",
    "- num_leaves: 41\n",
    "\n",
    "Лучший результат LGBM с подбором гиперпараметров на тренировочной выборке: -1857.7635467958155\n",
    "\n",
    "Теперь проверим лучшую модель LGBM на тестовой выборке"
   ]
  },
  {
   "cell_type": "code",
   "execution_count": 72,
   "metadata": {},
   "outputs": [
    {
     "name": "stdout",
     "output_type": "stream",
     "text": [
      "CPU times: user 3 µs, sys: 0 ns, total: 3 µs\n",
      "Wall time: 5.96 µs\n",
      "RMSE лучшей модели LGBM составляет: 1674.708693972845\n"
     ]
    }
   ],
   "source": [
    "%time\n",
    "#объявим наилучшую модель LGBM\n",
    "best_lgb = LGBMRegressor(random_state = 42, verbose = 0,\n",
    "                         force_row_wise= True, learning_rate = 0.2, n_estimators = 80, num_leaves = 41)\n",
    "\n",
    "#засечем время и обучим лучшую модель LGBM\n",
    "start = time.time()\n",
    "best_lgb.fit(x_train_cat, y_train_cat)\n",
    "#остановим таймер и зафиксируем результат\n",
    "end = time.time()\n",
    "best_lgb_education_time = end - start\n",
    "education_time.append(best_lgb_education_time)\n",
    "\n",
    "#засечем время предсказания и получим ответы\n",
    "start = time.time()\n",
    "predictions = best_lgb.predict(x_test_cat)\n",
    "end = time.time()\n",
    "best_lgb_prediction_time = end - start\n",
    "prediction_time.append(best_lgb_prediction_time)\n",
    "\n",
    "#рассчитаем RMSE и добавим рез-т в список\n",
    "result = mean_squared_error(predictions, y_test_cat)\n",
    "results.append(result**0.5)\n",
    "print('RMSE лучшей модели LGBM составляет:', result**0.5)"
   ]
  },
  {
   "cell_type": "markdown",
   "metadata": {},
   "source": [
    "С учетом гиперпараметров RMSE составила 1674 евро"
   ]
  },
  {
   "cell_type": "markdown",
   "metadata": {},
   "source": [
    "## Анализ моделей"
   ]
  },
  {
   "cell_type": "code",
   "execution_count": 73,
   "metadata": {},
   "outputs": [
    {
     "data": {
      "text/html": [
       "<div>\n",
       "<style scoped>\n",
       "    .dataframe tbody tr th:only-of-type {\n",
       "        vertical-align: middle;\n",
       "    }\n",
       "\n",
       "    .dataframe tbody tr th {\n",
       "        vertical-align: top;\n",
       "    }\n",
       "\n",
       "    .dataframe thead th {\n",
       "        text-align: right;\n",
       "    }\n",
       "</style>\n",
       "<table border=\"1\" class=\"dataframe\">\n",
       "  <thead>\n",
       "    <tr style=\"text-align: right;\">\n",
       "      <th></th>\n",
       "      <th>Dummy Regressor</th>\n",
       "      <th>Linear Regression</th>\n",
       "      <th>CatBoost</th>\n",
       "      <th>CatBoost Tuned</th>\n",
       "      <th>LGBM</th>\n",
       "      <th>LGBM Tuned</th>\n",
       "    </tr>\n",
       "  </thead>\n",
       "  <tbody>\n",
       "    <tr>\n",
       "      <th>RMSE модели</th>\n",
       "      <td>4492.035768</td>\n",
       "      <td>2499.60783</td>\n",
       "      <td>1684.342935</td>\n",
       "      <td>1652.177606</td>\n",
       "      <td>1706.409131</td>\n",
       "      <td>1674.708694</td>\n",
       "    </tr>\n",
       "    <tr>\n",
       "      <th>Время обучения модели</th>\n",
       "      <td>0.000915</td>\n",
       "      <td>28.18243</td>\n",
       "      <td>197.688782</td>\n",
       "      <td>133.408697</td>\n",
       "      <td>5.589505</td>\n",
       "      <td>4.803764</td>\n",
       "    </tr>\n",
       "    <tr>\n",
       "      <th>Время предсказания модели</th>\n",
       "      <td>0.000343</td>\n",
       "      <td>0.19933</td>\n",
       "      <td>0.425963</td>\n",
       "      <td>0.436388</td>\n",
       "      <td>0.812356</td>\n",
       "      <td>0.601063</td>\n",
       "    </tr>\n",
       "  </tbody>\n",
       "</table>\n",
       "</div>"
      ],
      "text/plain": [
       "                          Dummy Regressor Linear Regression     CatBoost  \\\n",
       "RMSE модели                   4492.035768        2499.60783  1684.342935   \n",
       "Время обучения модели            0.000915          28.18243   197.688782   \n",
       "Время предсказания модели        0.000343           0.19933     0.425963   \n",
       "\n",
       "                          CatBoost Tuned         LGBM   LGBM Tuned  \n",
       "RMSE модели                  1652.177606  1706.409131  1674.708694  \n",
       "Время обучения модели         133.408697     5.589505     4.803764  \n",
       "Время предсказания модели       0.436388     0.812356     0.601063  "
      ]
     },
     "metadata": {},
     "output_type": "display_data"
    }
   ],
   "source": [
    "#соберем все показатели в сводную таблицу\n",
    "#print(results, education_time, prediction_time)\n",
    "model_estimation = pd.DataFrame(index = ['RMSE модели', \n",
    "                                         'Время обучения модели', 'Время предсказания модели'], \n",
    "             columns = algorithms)\n",
    "\n",
    "model_estimation.iloc[0] = results\n",
    "model_estimation.iloc[1] = education_time\n",
    "model_estimation.iloc[2] = prediction_time\n",
    "\n",
    "display(model_estimation)"
   ]
  },
  {
   "cell_type": "markdown",
   "metadata": {},
   "source": [
    "<b>Итоговый вывод</b> лидером по скорости как обучения, так и предсказания, является линейная регрессия, увы, ее качество оставляет желать лучшего. Наилучший результат показала модель CatBoost после подбора гиперпараметров - RMSE составляет 1652 евро. К тому же, ее скорость обучения выше, чем у LGBM. LGBM после подбора гиперпараметров занимает последнее место по скорости при довольно неплохом результате (однако поиск параметров по сетке был очень долгим). "
   ]
  },
  {
   "cell_type": "markdown",
   "metadata": {},
   "source": [
    "## Чек-лист проверки"
   ]
  },
  {
   "cell_type": "markdown",
   "metadata": {},
   "source": [
    "Поставьте 'x' в выполненных пунктах. Далее нажмите Shift+Enter."
   ]
  },
  {
   "cell_type": "markdown",
   "metadata": {},
   "source": [
    "- [x]  Jupyter Notebook открыт\n",
    "- [x]  Весь код выполняется без ошибок\n",
    "- [x]  Ячейки с кодом расположены в порядке исполнения\n",
    "- [x]  Выполнена загрузка и подготовка данных\n",
    "- [x]  Выполнено обучение моделей\n",
    "- [x]  Есть анализ скорости работы и качества моделей"
   ]
  }
 ],
 "metadata": {
  "ExecuteTimeLog": [
   {
    "duration": 1558,
    "start_time": "2022-04-16T08:19:18.508Z"
   },
   {
    "duration": 126,
    "start_time": "2022-04-16T08:19:34.237Z"
   },
   {
    "duration": 16,
    "start_time": "2022-04-16T08:19:39.999Z"
   },
   {
    "duration": 3,
    "start_time": "2022-04-16T08:19:51.787Z"
   },
   {
    "duration": 1026,
    "start_time": "2022-04-16T08:20:34.581Z"
   },
   {
    "duration": 1146,
    "start_time": "2022-04-16T08:20:43.119Z"
   },
   {
    "duration": 991,
    "start_time": "2022-04-16T08:20:46.474Z"
   },
   {
    "duration": 1386,
    "start_time": "2022-04-16T08:21:06.994Z"
   },
   {
    "duration": 929,
    "start_time": "2022-04-16T08:21:19.461Z"
   },
   {
    "duration": 1158,
    "start_time": "2022-04-16T08:21:27.619Z"
   },
   {
    "duration": 939,
    "start_time": "2022-04-16T08:21:34.088Z"
   },
   {
    "duration": 929,
    "start_time": "2022-04-16T08:23:12.998Z"
   },
   {
    "duration": 1263,
    "start_time": "2022-04-16T08:23:18.247Z"
   },
   {
    "duration": 1111,
    "start_time": "2022-04-16T08:23:32.219Z"
   },
   {
    "duration": 1083,
    "start_time": "2022-04-16T08:23:45.717Z"
   },
   {
    "duration": 903,
    "start_time": "2022-04-16T08:24:57.721Z"
   },
   {
    "duration": 956,
    "start_time": "2022-04-16T08:25:25.191Z"
   },
   {
    "duration": 1180,
    "start_time": "2022-04-16T08:25:50.461Z"
   },
   {
    "duration": 903,
    "start_time": "2022-04-16T08:26:05.326Z"
   },
   {
    "duration": 953,
    "start_time": "2022-04-16T08:26:30.566Z"
   },
   {
    "duration": 134,
    "start_time": "2022-04-16T08:27:15.120Z"
   },
   {
    "duration": 1078,
    "start_time": "2022-04-16T08:27:23.470Z"
   },
   {
    "duration": 957,
    "start_time": "2022-04-16T08:28:01.977Z"
   },
   {
    "duration": 1099,
    "start_time": "2022-04-16T08:28:33.772Z"
   },
   {
    "duration": 129,
    "start_time": "2022-04-16T08:28:55.111Z"
   },
   {
    "duration": 1102,
    "start_time": "2022-04-16T08:28:59.514Z"
   },
   {
    "duration": 153,
    "start_time": "2022-04-16T08:29:08.272Z"
   },
   {
    "duration": 124,
    "start_time": "2022-04-16T08:29:14.016Z"
   },
   {
    "duration": 1083,
    "start_time": "2022-04-16T08:29:25.281Z"
   },
   {
    "duration": 1080,
    "start_time": "2022-04-16T08:29:42.619Z"
   },
   {
    "duration": 1077,
    "start_time": "2022-04-16T08:31:02.942Z"
   },
   {
    "duration": 2140,
    "start_time": "2022-04-16T08:34:02.327Z"
   },
   {
    "duration": 61,
    "start_time": "2022-04-16T08:34:18.221Z"
   },
   {
    "duration": 2089,
    "start_time": "2022-04-16T08:35:55.375Z"
   },
   {
    "duration": 56,
    "start_time": "2022-04-16T08:36:14.130Z"
   },
   {
    "duration": 16,
    "start_time": "2022-04-16T08:36:27.731Z"
   },
   {
    "duration": 17,
    "start_time": "2022-04-16T08:36:36.717Z"
   },
   {
    "duration": 2388,
    "start_time": "2022-04-16T08:37:20.285Z"
   },
   {
    "duration": 16,
    "start_time": "2022-04-16T08:37:26.853Z"
   },
   {
    "duration": 23,
    "start_time": "2022-04-16T08:38:40.365Z"
   },
   {
    "duration": 2052,
    "start_time": "2022-04-16T08:38:52.422Z"
   },
   {
    "duration": 2189,
    "start_time": "2022-04-16T08:39:03.172Z"
   },
   {
    "duration": 2105,
    "start_time": "2022-04-16T08:39:20.498Z"
   },
   {
    "duration": 1375,
    "start_time": "2022-04-16T08:40:37.971Z"
   },
   {
    "duration": 1545,
    "start_time": "2022-04-16T08:40:39.349Z"
   },
   {
    "duration": 8,
    "start_time": "2022-04-16T08:40:40.897Z"
   },
   {
    "duration": 1158,
    "start_time": "2022-04-16T08:40:42.288Z"
   },
   {
    "duration": 114,
    "start_time": "2022-04-16T08:40:43.449Z"
   },
   {
    "duration": 103,
    "start_time": "2022-04-16T08:41:05.713Z"
   },
   {
    "duration": 106,
    "start_time": "2022-04-16T08:41:21.244Z"
   },
   {
    "duration": 72,
    "start_time": "2022-04-16T08:41:24.871Z"
   },
   {
    "duration": 99,
    "start_time": "2022-04-16T08:41:29.081Z"
   },
   {
    "duration": 108,
    "start_time": "2022-04-16T08:41:36.326Z"
   },
   {
    "duration": 70,
    "start_time": "2022-04-16T08:41:40.343Z"
   },
   {
    "duration": 108,
    "start_time": "2022-04-16T08:41:56.138Z"
   },
   {
    "duration": 72,
    "start_time": "2022-04-16T08:42:01.257Z"
   },
   {
    "duration": 89,
    "start_time": "2022-04-16T08:42:08.687Z"
   },
   {
    "duration": 104,
    "start_time": "2022-04-16T08:42:13.231Z"
   },
   {
    "duration": 51,
    "start_time": "2022-04-16T08:42:17.782Z"
   },
   {
    "duration": 741,
    "start_time": "2022-04-16T08:42:27.522Z"
   },
   {
    "duration": 309,
    "start_time": "2022-04-16T08:42:36.466Z"
   },
   {
    "duration": 326,
    "start_time": "2022-04-16T08:42:46.156Z"
   },
   {
    "duration": 289,
    "start_time": "2022-04-16T08:44:06.586Z"
   },
   {
    "duration": 267,
    "start_time": "2022-04-16T08:44:35.324Z"
   },
   {
    "duration": 383,
    "start_time": "2022-04-16T08:44:44.498Z"
   },
   {
    "duration": 322,
    "start_time": "2022-04-16T08:44:54.563Z"
   },
   {
    "duration": 303,
    "start_time": "2022-04-16T08:45:01.036Z"
   },
   {
    "duration": 401,
    "start_time": "2022-04-16T08:45:12.727Z"
   },
   {
    "duration": 679,
    "start_time": "2022-04-16T08:46:13.670Z"
   },
   {
    "duration": 388,
    "start_time": "2022-04-16T08:46:25.883Z"
   },
   {
    "duration": 593,
    "start_time": "2022-04-16T08:47:16.165Z"
   },
   {
    "duration": 457,
    "start_time": "2022-04-16T08:47:24.775Z"
   },
   {
    "duration": 96,
    "start_time": "2022-04-16T08:48:29.567Z"
   },
   {
    "duration": 61,
    "start_time": "2022-04-16T08:48:32.821Z"
   },
   {
    "duration": 103,
    "start_time": "2022-04-16T08:48:36.776Z"
   },
   {
    "duration": 203,
    "start_time": "2022-04-16T08:50:39.779Z"
   },
   {
    "duration": 137,
    "start_time": "2022-04-16T08:51:24.911Z"
   },
   {
    "duration": 100,
    "start_time": "2022-04-16T08:51:29.755Z"
   },
   {
    "duration": 230,
    "start_time": "2022-04-16T08:53:07.930Z"
   },
   {
    "duration": 131,
    "start_time": "2022-04-16T08:58:02.954Z"
   },
   {
    "duration": 16,
    "start_time": "2022-04-16T08:58:14.905Z"
   },
   {
    "duration": 13,
    "start_time": "2022-04-16T08:58:24.425Z"
   },
   {
    "duration": 128,
    "start_time": "2022-04-16T08:58:31.454Z"
   },
   {
    "duration": 14,
    "start_time": "2022-04-16T08:58:34.477Z"
   },
   {
    "duration": 40,
    "start_time": "2022-04-16T08:58:47.320Z"
   },
   {
    "duration": 3,
    "start_time": "2022-04-16T08:58:57.130Z"
   },
   {
    "duration": 1122,
    "start_time": "2022-04-16T08:58:57.150Z"
   },
   {
    "duration": 14,
    "start_time": "2022-04-16T08:59:01.161Z"
   },
   {
    "duration": 22,
    "start_time": "2022-04-16T08:59:11.580Z"
   },
   {
    "duration": 9,
    "start_time": "2022-04-16T08:59:20.020Z"
   },
   {
    "duration": 9,
    "start_time": "2022-04-16T08:59:23.525Z"
   },
   {
    "duration": 4,
    "start_time": "2022-04-16T08:59:43.720Z"
   },
   {
    "duration": 1139,
    "start_time": "2022-04-16T08:59:43.727Z"
   },
   {
    "duration": 15,
    "start_time": "2022-04-16T08:59:54.639Z"
   },
   {
    "duration": 15,
    "start_time": "2022-04-16T09:00:37.820Z"
   },
   {
    "duration": 23,
    "start_time": "2022-04-16T09:00:56.641Z"
   },
   {
    "duration": 12,
    "start_time": "2022-04-16T09:00:58.927Z"
   },
   {
    "duration": 12,
    "start_time": "2022-04-16T09:01:07.012Z"
   },
   {
    "duration": 10,
    "start_time": "2022-04-16T09:01:09.781Z"
   },
   {
    "duration": 10,
    "start_time": "2022-04-16T09:01:18.426Z"
   },
   {
    "duration": 10,
    "start_time": "2022-04-16T09:01:23.236Z"
   },
   {
    "duration": 11,
    "start_time": "2022-04-16T09:01:32.151Z"
   },
   {
    "duration": 10,
    "start_time": "2022-04-16T09:01:41.427Z"
   },
   {
    "duration": 101,
    "start_time": "2022-04-16T09:01:56.922Z"
   },
   {
    "duration": 1089,
    "start_time": "2022-04-16T09:04:35.417Z"
   },
   {
    "duration": 120,
    "start_time": "2022-04-16T09:26:05.977Z"
   },
   {
    "duration": 175,
    "start_time": "2022-04-16T09:33:30.831Z"
   },
   {
    "duration": 28,
    "start_time": "2022-04-16T09:33:44.180Z"
   },
   {
    "duration": 13,
    "start_time": "2022-04-16T09:34:21.640Z"
   },
   {
    "duration": 14,
    "start_time": "2022-04-16T09:34:59.027Z"
   },
   {
    "duration": 15,
    "start_time": "2022-04-16T09:36:05.556Z"
   },
   {
    "duration": 16,
    "start_time": "2022-04-16T09:36:43.955Z"
   },
   {
    "duration": 18,
    "start_time": "2022-04-16T09:37:09.885Z"
   },
   {
    "duration": 5,
    "start_time": "2022-04-16T09:37:18.024Z"
   },
   {
    "duration": 16,
    "start_time": "2022-04-16T09:37:21.221Z"
   },
   {
    "duration": 41,
    "start_time": "2022-04-16T09:37:28.891Z"
   },
   {
    "duration": 7,
    "start_time": "2022-04-16T09:42:57.450Z"
   },
   {
    "duration": 27,
    "start_time": "2022-04-16T09:43:01.005Z"
   },
   {
    "duration": 149,
    "start_time": "2022-04-16T09:44:11.023Z"
   },
   {
    "duration": 11,
    "start_time": "2022-04-16T09:44:24.954Z"
   },
   {
    "duration": 16,
    "start_time": "2022-04-16T09:44:30.724Z"
   },
   {
    "duration": 16,
    "start_time": "2022-04-16T09:44:33.627Z"
   },
   {
    "duration": 12,
    "start_time": "2022-04-16T09:44:44.137Z"
   },
   {
    "duration": 36,
    "start_time": "2022-04-16T09:44:52.872Z"
   },
   {
    "duration": 13,
    "start_time": "2022-04-16T09:45:13.707Z"
   },
   {
    "duration": 12,
    "start_time": "2022-04-16T09:45:17.248Z"
   },
   {
    "duration": 14,
    "start_time": "2022-04-16T09:45:20.373Z"
   },
   {
    "duration": 11,
    "start_time": "2022-04-16T09:45:24.123Z"
   },
   {
    "duration": 13,
    "start_time": "2022-04-16T09:45:46.022Z"
   },
   {
    "duration": 138,
    "start_time": "2022-04-16T09:46:01.296Z"
   },
   {
    "duration": 200,
    "start_time": "2022-04-16T09:46:18.566Z"
   },
   {
    "duration": 26,
    "start_time": "2022-04-16T09:47:21.530Z"
   },
   {
    "duration": 13,
    "start_time": "2022-04-16T09:48:19.716Z"
   },
   {
    "duration": 12,
    "start_time": "2022-04-16T09:48:30.215Z"
   },
   {
    "duration": 9,
    "start_time": "2022-04-16T09:51:21.722Z"
   },
   {
    "duration": 10,
    "start_time": "2022-04-16T09:51:39.332Z"
   },
   {
    "duration": 12,
    "start_time": "2022-04-16T09:51:53.489Z"
   },
   {
    "duration": 31,
    "start_time": "2022-04-16T09:52:06.191Z"
   },
   {
    "duration": 26,
    "start_time": "2022-04-16T09:52:48.746Z"
   },
   {
    "duration": 30,
    "start_time": "2022-04-16T09:53:06.589Z"
   },
   {
    "duration": 27,
    "start_time": "2022-04-16T09:53:52.292Z"
   },
   {
    "duration": 25,
    "start_time": "2022-04-16T09:53:58.131Z"
   },
   {
    "duration": 10,
    "start_time": "2022-04-16T09:54:04.713Z"
   },
   {
    "duration": 26,
    "start_time": "2022-04-16T09:54:20.512Z"
   },
   {
    "duration": 26,
    "start_time": "2022-04-16T09:54:26.161Z"
   },
   {
    "duration": 26,
    "start_time": "2022-04-16T09:54:34.755Z"
   },
   {
    "duration": 26,
    "start_time": "2022-04-16T09:54:47.404Z"
   },
   {
    "duration": 14,
    "start_time": "2022-04-16T09:56:28.471Z"
   },
   {
    "duration": 30,
    "start_time": "2022-04-16T09:56:48.688Z"
   },
   {
    "duration": 28,
    "start_time": "2022-04-16T09:57:13.804Z"
   },
   {
    "duration": 32,
    "start_time": "2022-04-16T09:57:34.397Z"
   },
   {
    "duration": 150,
    "start_time": "2022-04-16T09:58:43.180Z"
   },
   {
    "duration": 202,
    "start_time": "2022-04-16T09:58:56.631Z"
   },
   {
    "duration": 148,
    "start_time": "2022-04-16T09:59:07.508Z"
   },
   {
    "duration": 170,
    "start_time": "2022-04-16T09:59:16.808Z"
   },
   {
    "duration": 140,
    "start_time": "2022-04-16T09:59:23.701Z"
   },
   {
    "duration": 150,
    "start_time": "2022-04-16T10:00:34.573Z"
   },
   {
    "duration": 43,
    "start_time": "2022-04-16T10:05:45.754Z"
   },
   {
    "duration": 26,
    "start_time": "2022-04-16T10:06:12.331Z"
   },
   {
    "duration": 32,
    "start_time": "2022-04-16T10:07:14.095Z"
   },
   {
    "duration": 11,
    "start_time": "2022-04-16T10:08:15.513Z"
   },
   {
    "duration": 11,
    "start_time": "2022-04-16T10:08:25.912Z"
   },
   {
    "duration": 40,
    "start_time": "2022-04-16T10:08:59.644Z"
   },
   {
    "duration": 57,
    "start_time": "2022-04-16T10:09:06.466Z"
   },
   {
    "duration": 252,
    "start_time": "2022-04-16T10:10:57.173Z"
   },
   {
    "duration": 257,
    "start_time": "2022-04-16T10:11:21.567Z"
   },
   {
    "duration": 264,
    "start_time": "2022-04-16T10:11:34.124Z"
   },
   {
    "duration": 250,
    "start_time": "2022-04-16T10:11:47.709Z"
   },
   {
    "duration": 2530,
    "start_time": "2022-04-16T10:12:10.448Z"
   },
   {
    "duration": 5,
    "start_time": "2022-04-16T10:12:26.126Z"
   },
   {
    "duration": 261,
    "start_time": "2022-04-16T10:12:29.247Z"
   },
   {
    "duration": 271,
    "start_time": "2022-04-16T10:13:46.061Z"
   },
   {
    "duration": 268,
    "start_time": "2022-04-16T10:14:01.522Z"
   },
   {
    "duration": 278,
    "start_time": "2022-04-16T10:14:06.466Z"
   },
   {
    "duration": 448,
    "start_time": "2022-04-16T10:15:01.404Z"
   },
   {
    "duration": 428,
    "start_time": "2022-04-16T10:15:11.004Z"
   },
   {
    "duration": 427,
    "start_time": "2022-04-16T10:15:33.739Z"
   },
   {
    "duration": 44,
    "start_time": "2022-04-16T10:19:13.372Z"
   },
   {
    "duration": 25,
    "start_time": "2022-04-16T10:20:17.029Z"
   },
   {
    "duration": 27,
    "start_time": "2022-04-16T10:20:28.388Z"
   },
   {
    "duration": 1258,
    "start_time": "2022-04-16T10:21:52.842Z"
   },
   {
    "duration": 1307,
    "start_time": "2022-04-16T10:21:54.102Z"
   },
   {
    "duration": 133,
    "start_time": "2022-04-16T10:21:55.415Z"
   },
   {
    "duration": 486,
    "start_time": "2022-04-16T10:21:55.550Z"
   },
   {
    "duration": 424,
    "start_time": "2022-04-16T10:21:56.038Z"
   },
   {
    "duration": 1386,
    "start_time": "2022-04-16T10:23:32.450Z"
   },
   {
    "duration": 1519,
    "start_time": "2022-04-16T10:23:33.842Z"
   },
   {
    "duration": 160,
    "start_time": "2022-04-16T10:23:35.363Z"
   },
   {
    "duration": 549,
    "start_time": "2022-04-16T10:23:35.526Z"
   },
   {
    "duration": 490,
    "start_time": "2022-04-16T10:23:36.077Z"
   },
   {
    "duration": 30,
    "start_time": "2022-04-16T10:23:36.569Z"
   },
   {
    "duration": 258,
    "start_time": "2022-04-16T10:23:36.601Z"
   },
   {
    "duration": 46,
    "start_time": "2022-04-16T10:23:47.269Z"
   },
   {
    "duration": 1250,
    "start_time": "2022-04-16T10:25:43.451Z"
   },
   {
    "duration": 1297,
    "start_time": "2022-04-16T10:25:44.710Z"
   },
   {
    "duration": 144,
    "start_time": "2022-04-16T10:25:46.009Z"
   },
   {
    "duration": 521,
    "start_time": "2022-04-16T10:25:46.154Z"
   },
   {
    "duration": 460,
    "start_time": "2022-04-16T10:25:46.677Z"
   },
   {
    "duration": 1373,
    "start_time": "2022-04-16T10:26:53.502Z"
   },
   {
    "duration": 1222,
    "start_time": "2022-04-16T10:26:54.878Z"
   },
   {
    "duration": 143,
    "start_time": "2022-04-16T10:26:56.109Z"
   },
   {
    "duration": 501,
    "start_time": "2022-04-16T10:26:56.254Z"
   },
   {
    "duration": 449,
    "start_time": "2022-04-16T10:26:56.757Z"
   },
   {
    "duration": 1895,
    "start_time": "2022-04-16T10:26:57.211Z"
   },
   {
    "duration": 24,
    "start_time": "2022-04-16T10:26:59.108Z"
   },
   {
    "duration": 233,
    "start_time": "2022-04-16T10:26:59.134Z"
   },
   {
    "duration": 1311,
    "start_time": "2022-04-16T10:27:28.432Z"
   },
   {
    "duration": 1279,
    "start_time": "2022-04-16T10:27:29.746Z"
   },
   {
    "duration": 147,
    "start_time": "2022-04-16T10:27:31.028Z"
   },
   {
    "duration": 556,
    "start_time": "2022-04-16T10:27:31.178Z"
   },
   {
    "duration": 456,
    "start_time": "2022-04-16T10:27:31.736Z"
   },
   {
    "duration": 1742,
    "start_time": "2022-04-16T10:28:47.789Z"
   },
   {
    "duration": 1174,
    "start_time": "2022-04-16T10:28:49.533Z"
   },
   {
    "duration": 144,
    "start_time": "2022-04-16T10:28:50.712Z"
   },
   {
    "duration": 178,
    "start_time": "2022-04-16T10:28:50.858Z"
   },
   {
    "duration": 439,
    "start_time": "2022-04-16T10:28:51.037Z"
   },
   {
    "duration": 280,
    "start_time": "2022-04-16T10:28:51.477Z"
   },
   {
    "duration": 0,
    "start_time": "2022-04-16T10:28:51.760Z"
   },
   {
    "duration": 0,
    "start_time": "2022-04-16T10:28:51.761Z"
   },
   {
    "duration": 2048,
    "start_time": "2022-04-16T10:30:00.513Z"
   },
   {
    "duration": 1612,
    "start_time": "2022-04-16T10:30:02.564Z"
   },
   {
    "duration": 156,
    "start_time": "2022-04-16T10:30:04.178Z"
   },
   {
    "duration": 181,
    "start_time": "2022-04-16T10:30:04.336Z"
   },
   {
    "duration": 404,
    "start_time": "2022-04-16T10:30:04.519Z"
   },
   {
    "duration": 8,
    "start_time": "2022-04-16T10:30:04.925Z"
   },
   {
    "duration": 21,
    "start_time": "2022-04-16T10:30:04.935Z"
   },
   {
    "duration": 310,
    "start_time": "2022-04-16T10:30:04.958Z"
   },
   {
    "duration": 609,
    "start_time": "2022-04-16T10:30:15.098Z"
   },
   {
    "duration": 160,
    "start_time": "2022-04-16T10:30:25.763Z"
   },
   {
    "duration": 128,
    "start_time": "2022-04-16T10:30:35.500Z"
   },
   {
    "duration": 0,
    "start_time": "2022-04-16T10:32:07.618Z"
   },
   {
    "duration": 1863,
    "start_time": "2022-04-16T10:32:15.487Z"
   },
   {
    "duration": 1232,
    "start_time": "2022-04-16T10:32:17.353Z"
   },
   {
    "duration": 156,
    "start_time": "2022-04-16T10:32:18.587Z"
   },
   {
    "duration": 193,
    "start_time": "2022-04-16T10:32:18.745Z"
   },
   {
    "duration": 437,
    "start_time": "2022-04-16T10:32:18.940Z"
   },
   {
    "duration": 178,
    "start_time": "2022-04-16T10:32:19.378Z"
   },
   {
    "duration": 53,
    "start_time": "2022-04-16T10:32:19.559Z"
   },
   {
    "duration": 264,
    "start_time": "2022-04-16T10:32:19.637Z"
   },
   {
    "duration": 172,
    "start_time": "2022-04-16T10:33:48.353Z"
   },
   {
    "duration": 152,
    "start_time": "2022-04-16T10:37:15.558Z"
   },
   {
    "duration": 149,
    "start_time": "2022-04-16T10:37:35.123Z"
   },
   {
    "duration": 6443,
    "start_time": "2022-04-16T10:38:10.734Z"
   },
   {
    "duration": 142,
    "start_time": "2022-04-16T10:38:31.216Z"
   },
   {
    "duration": 178,
    "start_time": "2022-04-16T10:38:39.782Z"
   },
   {
    "duration": 215,
    "start_time": "2022-04-16T10:44:48.630Z"
   },
   {
    "duration": 207,
    "start_time": "2022-04-16T10:45:12.741Z"
   },
   {
    "duration": 207,
    "start_time": "2022-04-16T10:45:16.617Z"
   },
   {
    "duration": 407,
    "start_time": "2022-04-16T10:46:18.353Z"
   },
   {
    "duration": 1731,
    "start_time": "2022-04-16T10:47:18.339Z"
   },
   {
    "duration": 1368,
    "start_time": "2022-04-16T10:47:20.072Z"
   },
   {
    "duration": 151,
    "start_time": "2022-04-16T10:47:21.442Z"
   },
   {
    "duration": 190,
    "start_time": "2022-04-16T10:47:21.596Z"
   },
   {
    "duration": 453,
    "start_time": "2022-04-16T10:47:21.788Z"
   },
   {
    "duration": 184,
    "start_time": "2022-04-16T10:47:22.242Z"
   },
   {
    "duration": 259,
    "start_time": "2022-04-16T10:47:22.429Z"
   },
   {
    "duration": 28,
    "start_time": "2022-04-16T10:47:22.692Z"
   },
   {
    "duration": 238,
    "start_time": "2022-04-16T10:47:22.727Z"
   },
   {
    "duration": 1685,
    "start_time": "2022-04-16T10:49:18.520Z"
   },
   {
    "duration": 1212,
    "start_time": "2022-04-16T10:49:20.207Z"
   },
   {
    "duration": 153,
    "start_time": "2022-04-16T10:49:21.421Z"
   },
   {
    "duration": 192,
    "start_time": "2022-04-16T10:49:21.577Z"
   },
   {
    "duration": 443,
    "start_time": "2022-04-16T10:49:21.771Z"
   },
   {
    "duration": 155,
    "start_time": "2022-04-16T10:49:22.216Z"
   },
   {
    "duration": 238,
    "start_time": "2022-04-16T10:49:22.372Z"
   },
   {
    "duration": 19,
    "start_time": "2022-04-16T10:49:22.612Z"
   },
   {
    "duration": 229,
    "start_time": "2022-04-16T10:49:22.633Z"
   },
   {
    "duration": 204,
    "start_time": "2022-04-16T10:54:28.909Z"
   },
   {
    "duration": 363,
    "start_time": "2022-04-16T10:55:03.013Z"
   },
   {
    "duration": 221,
    "start_time": "2022-04-16T10:55:27.416Z"
   },
   {
    "duration": 221,
    "start_time": "2022-04-16T10:56:04.914Z"
   },
   {
    "duration": 314,
    "start_time": "2022-04-16T10:58:26.533Z"
   },
   {
    "duration": 353,
    "start_time": "2022-04-16T10:58:39.888Z"
   },
   {
    "duration": 351,
    "start_time": "2022-04-16T10:58:47.965Z"
   },
   {
    "duration": 329,
    "start_time": "2022-04-16T10:58:51.040Z"
   },
   {
    "duration": 559,
    "start_time": "2022-04-16T11:00:25.344Z"
   },
   {
    "duration": 580,
    "start_time": "2022-04-16T11:00:49.841Z"
   },
   {
    "duration": 535,
    "start_time": "2022-04-16T11:00:59.926Z"
   },
   {
    "duration": 535,
    "start_time": "2022-04-16T11:01:33.550Z"
   },
   {
    "duration": 1618,
    "start_time": "2022-04-16T11:01:58.614Z"
   },
   {
    "duration": 1186,
    "start_time": "2022-04-16T11:02:00.234Z"
   },
   {
    "duration": 145,
    "start_time": "2022-04-16T11:02:01.422Z"
   },
   {
    "duration": 188,
    "start_time": "2022-04-16T11:02:01.569Z"
   },
   {
    "duration": 418,
    "start_time": "2022-04-16T11:02:01.759Z"
   },
   {
    "duration": 174,
    "start_time": "2022-04-16T11:02:02.178Z"
   },
   {
    "duration": 796,
    "start_time": "2022-04-16T11:02:02.354Z"
   },
   {
    "duration": 14,
    "start_time": "2022-04-16T11:02:03.152Z"
   },
   {
    "duration": 238,
    "start_time": "2022-04-16T11:02:03.168Z"
   },
   {
    "duration": 132,
    "start_time": "2022-04-16T11:05:14.581Z"
   },
   {
    "duration": 11,
    "start_time": "2022-04-16T11:05:17.935Z"
   },
   {
    "duration": 12,
    "start_time": "2022-04-16T11:05:25.314Z"
   },
   {
    "duration": 10,
    "start_time": "2022-04-16T11:05:34.973Z"
   },
   {
    "duration": 13,
    "start_time": "2022-04-16T11:06:04.718Z"
   },
   {
    "duration": 13,
    "start_time": "2022-04-16T11:06:37.999Z"
   },
   {
    "duration": 15,
    "start_time": "2022-04-16T11:06:49.113Z"
   },
   {
    "duration": 13,
    "start_time": "2022-04-16T11:06:58.421Z"
   },
   {
    "duration": 2037,
    "start_time": "2022-04-16T11:07:09.835Z"
   },
   {
    "duration": 2071,
    "start_time": "2022-04-16T11:07:21.335Z"
   },
   {
    "duration": 9,
    "start_time": "2022-04-16T11:07:47.052Z"
   },
   {
    "duration": 1556,
    "start_time": "2022-04-16T11:09:26.353Z"
   },
   {
    "duration": 1280,
    "start_time": "2022-04-16T11:09:27.914Z"
   },
   {
    "duration": 147,
    "start_time": "2022-04-16T11:09:29.198Z"
   },
   {
    "duration": 198,
    "start_time": "2022-04-16T11:09:29.347Z"
   },
   {
    "duration": 422,
    "start_time": "2022-04-16T11:09:29.548Z"
   },
   {
    "duration": 175,
    "start_time": "2022-04-16T11:09:29.971Z"
   },
   {
    "duration": 815,
    "start_time": "2022-04-16T11:09:30.147Z"
   },
   {
    "duration": 15,
    "start_time": "2022-04-16T11:09:30.963Z"
   },
   {
    "duration": 1545,
    "start_time": "2022-04-16T11:10:02.139Z"
   },
   {
    "duration": 1164,
    "start_time": "2022-04-16T11:10:03.686Z"
   },
   {
    "duration": 134,
    "start_time": "2022-04-16T11:10:04.852Z"
   },
   {
    "duration": 173,
    "start_time": "2022-04-16T11:10:04.996Z"
   },
   {
    "duration": 411,
    "start_time": "2022-04-16T11:10:05.170Z"
   },
   {
    "duration": 178,
    "start_time": "2022-04-16T11:10:05.583Z"
   },
   {
    "duration": 775,
    "start_time": "2022-04-16T11:10:05.763Z"
   },
   {
    "duration": 15,
    "start_time": "2022-04-16T11:10:06.540Z"
   },
   {
    "duration": 1499,
    "start_time": "2022-04-16T11:10:56.354Z"
   },
   {
    "duration": 1064,
    "start_time": "2022-04-16T11:10:57.855Z"
   },
   {
    "duration": 135,
    "start_time": "2022-04-16T11:10:58.921Z"
   },
   {
    "duration": 170,
    "start_time": "2022-04-16T11:10:59.059Z"
   },
   {
    "duration": 384,
    "start_time": "2022-04-16T11:10:59.230Z"
   },
   {
    "duration": 157,
    "start_time": "2022-04-16T11:10:59.616Z"
   },
   {
    "duration": 741,
    "start_time": "2022-04-16T11:10:59.775Z"
   },
   {
    "duration": 15,
    "start_time": "2022-04-16T11:11:00.518Z"
   },
   {
    "duration": 216,
    "start_time": "2022-04-16T11:12:26.688Z"
   },
   {
    "duration": 1525,
    "start_time": "2022-04-16T11:14:08.226Z"
   },
   {
    "duration": 1116,
    "start_time": "2022-04-16T11:14:09.753Z"
   },
   {
    "duration": 133,
    "start_time": "2022-04-16T11:14:10.870Z"
   },
   {
    "duration": 162,
    "start_time": "2022-04-16T11:14:11.005Z"
   },
   {
    "duration": 383,
    "start_time": "2022-04-16T11:14:11.170Z"
   },
   {
    "duration": 159,
    "start_time": "2022-04-16T11:14:11.555Z"
   },
   {
    "duration": 705,
    "start_time": "2022-04-16T11:14:11.716Z"
   },
   {
    "duration": 13,
    "start_time": "2022-04-16T11:14:12.423Z"
   },
   {
    "duration": 3,
    "start_time": "2022-04-16T11:14:12.586Z"
   },
   {
    "duration": 976,
    "start_time": "2022-04-16T11:14:12.604Z"
   },
   {
    "duration": 131,
    "start_time": "2022-04-16T11:14:13.582Z"
   },
   {
    "duration": 225,
    "start_time": "2022-04-16T11:14:13.715Z"
   },
   {
    "duration": 384,
    "start_time": "2022-04-16T11:14:13.943Z"
   },
   {
    "duration": 152,
    "start_time": "2022-04-16T11:14:14.329Z"
   },
   {
    "duration": 794,
    "start_time": "2022-04-16T11:14:14.483Z"
   },
   {
    "duration": 23,
    "start_time": "2022-04-16T11:14:15.279Z"
   },
   {
    "duration": 75,
    "start_time": "2022-04-16T11:14:15.304Z"
   },
   {
    "duration": 211,
    "start_time": "2022-04-16T11:14:15.381Z"
   },
   {
    "duration": 90,
    "start_time": "2022-04-16T11:40:03.518Z"
   },
   {
    "duration": 14,
    "start_time": "2022-04-16T11:42:42.458Z"
   },
   {
    "duration": 153,
    "start_time": "2022-04-16T11:43:18.863Z"
   },
   {
    "duration": 178,
    "start_time": "2022-04-16T11:46:53.973Z"
   },
   {
    "duration": 16,
    "start_time": "2022-04-16T11:51:29.414Z"
   },
   {
    "duration": 3,
    "start_time": "2022-04-16T12:04:16.937Z"
   },
   {
    "duration": 365,
    "start_time": "2022-04-16T12:04:34.317Z"
   },
   {
    "duration": 164,
    "start_time": "2022-04-16T12:05:04.936Z"
   },
   {
    "duration": 164,
    "start_time": "2022-04-16T12:05:17.965Z"
   },
   {
    "duration": 142,
    "start_time": "2022-04-16T12:07:30.619Z"
   },
   {
    "duration": 163,
    "start_time": "2022-04-16T12:07:54.781Z"
   },
   {
    "duration": 151,
    "start_time": "2022-04-16T12:08:21.812Z"
   },
   {
    "duration": 14,
    "start_time": "2022-04-16T12:09:57.514Z"
   },
   {
    "duration": 12,
    "start_time": "2022-04-16T12:10:03.276Z"
   },
   {
    "duration": 12,
    "start_time": "2022-04-16T12:10:08.298Z"
   },
   {
    "duration": 249,
    "start_time": "2022-04-16T12:10:17.131Z"
   },
   {
    "duration": 128,
    "start_time": "2022-04-16T12:10:25.883Z"
   },
   {
    "duration": 248,
    "start_time": "2022-04-16T12:10:32.689Z"
   },
   {
    "duration": 265,
    "start_time": "2022-04-16T12:10:43.646Z"
   },
   {
    "duration": 13,
    "start_time": "2022-04-16T12:11:13.922Z"
   },
   {
    "duration": 340,
    "start_time": "2022-04-16T12:11:21.567Z"
   },
   {
    "duration": 18,
    "start_time": "2022-04-16T12:11:45.397Z"
   },
   {
    "duration": 237,
    "start_time": "2022-04-16T12:11:56.810Z"
   },
   {
    "duration": 13,
    "start_time": "2022-04-16T12:13:13.969Z"
   },
   {
    "duration": 13,
    "start_time": "2022-04-16T12:13:18.212Z"
   },
   {
    "duration": 29,
    "start_time": "2022-04-16T12:15:08.575Z"
   },
   {
    "duration": 24,
    "start_time": "2022-04-16T12:15:28.454Z"
   },
   {
    "duration": 239,
    "start_time": "2022-04-16T12:15:32.765Z"
   },
   {
    "duration": 1110,
    "start_time": "2022-04-16T12:15:37.531Z"
   },
   {
    "duration": 31,
    "start_time": "2022-04-16T12:16:27.674Z"
   },
   {
    "duration": 23,
    "start_time": "2022-04-16T12:16:31.968Z"
   },
   {
    "duration": 33,
    "start_time": "2022-04-16T12:17:50.791Z"
   },
   {
    "duration": 70,
    "start_time": "2022-04-16T12:18:07.452Z"
   },
   {
    "duration": 14,
    "start_time": "2022-04-16T12:18:21.469Z"
   },
   {
    "duration": 12,
    "start_time": "2022-04-16T12:18:39.771Z"
   },
   {
    "duration": 75,
    "start_time": "2022-04-16T12:18:47.660Z"
   },
   {
    "duration": 15,
    "start_time": "2022-04-16T12:19:00.109Z"
   },
   {
    "duration": 12,
    "start_time": "2022-04-16T12:19:22.378Z"
   },
   {
    "duration": 18,
    "start_time": "2022-04-16T12:19:57.752Z"
   },
   {
    "duration": 14,
    "start_time": "2022-04-16T12:20:03.063Z"
   },
   {
    "duration": 23,
    "start_time": "2022-04-16T12:20:07.293Z"
   },
   {
    "duration": 14,
    "start_time": "2022-04-16T12:20:10.677Z"
   },
   {
    "duration": 26,
    "start_time": "2022-04-16T12:20:21.558Z"
   },
   {
    "duration": 203,
    "start_time": "2022-04-16T12:22:00.369Z"
   },
   {
    "duration": 20,
    "start_time": "2022-04-16T12:22:46.109Z"
   },
   {
    "duration": 30,
    "start_time": "2022-04-16T12:22:53.050Z"
   },
   {
    "duration": 194,
    "start_time": "2022-04-16T12:23:12.276Z"
   },
   {
    "duration": 70,
    "start_time": "2022-04-16T12:23:21.209Z"
   },
   {
    "duration": 9,
    "start_time": "2022-04-16T12:23:52.459Z"
   },
   {
    "duration": 38,
    "start_time": "2022-04-16T12:23:56.670Z"
   },
   {
    "duration": 28,
    "start_time": "2022-04-16T12:24:03.239Z"
   },
   {
    "duration": 42,
    "start_time": "2022-04-16T12:24:24.527Z"
   },
   {
    "duration": 9,
    "start_time": "2022-04-16T12:24:49.504Z"
   },
   {
    "duration": 33,
    "start_time": "2022-04-16T12:24:54.935Z"
   },
   {
    "duration": 45,
    "start_time": "2022-04-16T12:25:29.106Z"
   },
   {
    "duration": 30,
    "start_time": "2022-04-16T12:26:13.757Z"
   },
   {
    "duration": 56,
    "start_time": "2022-04-16T12:26:20.564Z"
   },
   {
    "duration": 50,
    "start_time": "2022-04-16T12:26:35.037Z"
   },
   {
    "duration": 46,
    "start_time": "2022-04-16T12:27:10.239Z"
   },
   {
    "duration": 55,
    "start_time": "2022-04-16T12:27:21.858Z"
   },
   {
    "duration": 40,
    "start_time": "2022-04-16T12:27:53.572Z"
   },
   {
    "duration": 40,
    "start_time": "2022-04-16T12:28:04.770Z"
   },
   {
    "duration": 1524,
    "start_time": "2022-04-16T12:31:25.310Z"
   },
   {
    "duration": 1124,
    "start_time": "2022-04-16T12:31:26.836Z"
   },
   {
    "duration": 132,
    "start_time": "2022-04-16T12:31:27.962Z"
   },
   {
    "duration": 167,
    "start_time": "2022-04-16T12:31:28.097Z"
   },
   {
    "duration": 405,
    "start_time": "2022-04-16T12:31:28.266Z"
   },
   {
    "duration": 190,
    "start_time": "2022-04-16T12:31:28.673Z"
   },
   {
    "duration": 769,
    "start_time": "2022-04-16T12:31:28.865Z"
   },
   {
    "duration": 102,
    "start_time": "2022-04-16T12:31:29.636Z"
   },
   {
    "duration": 681,
    "start_time": "2022-04-16T12:31:29.740Z"
   },
   {
    "duration": 0,
    "start_time": "2022-04-16T12:31:30.424Z"
   },
   {
    "duration": 0,
    "start_time": "2022-04-16T12:31:30.425Z"
   },
   {
    "duration": 504,
    "start_time": "2022-04-16T12:31:39.506Z"
   },
   {
    "duration": 1525,
    "start_time": "2022-04-16T12:32:25.709Z"
   },
   {
    "duration": 1023,
    "start_time": "2022-04-16T12:32:27.236Z"
   },
   {
    "duration": 124,
    "start_time": "2022-04-16T12:32:28.261Z"
   },
   {
    "duration": 175,
    "start_time": "2022-04-16T12:32:28.387Z"
   },
   {
    "duration": 385,
    "start_time": "2022-04-16T12:32:28.565Z"
   },
   {
    "duration": 176,
    "start_time": "2022-04-16T12:32:28.952Z"
   },
   {
    "duration": 922,
    "start_time": "2022-04-16T12:32:29.130Z"
   },
   {
    "duration": 129,
    "start_time": "2022-04-16T12:32:30.054Z"
   },
   {
    "duration": 1574,
    "start_time": "2022-04-16T12:35:05.079Z"
   },
   {
    "duration": 1072,
    "start_time": "2022-04-16T12:35:06.655Z"
   },
   {
    "duration": 134,
    "start_time": "2022-04-16T12:35:07.729Z"
   },
   {
    "duration": 170,
    "start_time": "2022-04-16T12:35:07.865Z"
   },
   {
    "duration": 402,
    "start_time": "2022-04-16T12:35:08.037Z"
   },
   {
    "duration": 160,
    "start_time": "2022-04-16T12:35:08.441Z"
   },
   {
    "duration": 725,
    "start_time": "2022-04-16T12:35:08.603Z"
   },
   {
    "duration": 105,
    "start_time": "2022-04-16T12:35:09.330Z"
   },
   {
    "duration": 4,
    "start_time": "2022-04-16T12:35:09.436Z"
   },
   {
    "duration": 133,
    "start_time": "2022-04-16T12:35:09.443Z"
   },
   {
    "duration": 187,
    "start_time": "2022-04-16T12:35:09.578Z"
   },
   {
    "duration": 29,
    "start_time": "2022-04-16T12:35:37.326Z"
   },
   {
    "duration": 0,
    "start_time": "2022-04-16T12:44:23.040Z"
   },
   {
    "duration": 0,
    "start_time": "2022-04-16T12:44:23.041Z"
   },
   {
    "duration": 165,
    "start_time": "2022-04-16T12:44:28.966Z"
   },
   {
    "duration": 132,
    "start_time": "2022-04-16T12:45:27.415Z"
   },
   {
    "duration": 191,
    "start_time": "2022-04-16T12:45:35.147Z"
   },
   {
    "duration": 16,
    "start_time": "2022-04-16T12:47:39.600Z"
   },
   {
    "duration": 279,
    "start_time": "2022-04-16T12:49:32.610Z"
   },
   {
    "duration": 357,
    "start_time": "2022-04-16T12:49:52.152Z"
   },
   {
    "duration": 31,
    "start_time": "2022-04-16T12:50:00.523Z"
   },
   {
    "duration": 32,
    "start_time": "2022-04-16T12:50:18.405Z"
   },
   {
    "duration": 13,
    "start_time": "2022-04-16T12:54:15.508Z"
   },
   {
    "duration": 234,
    "start_time": "2022-04-16T12:54:29.285Z"
   },
   {
    "duration": 1793,
    "start_time": "2022-04-16T12:55:56.764Z"
   },
   {
    "duration": 5,
    "start_time": "2022-04-16T12:56:22.629Z"
   },
   {
    "duration": 5,
    "start_time": "2022-04-16T12:56:33.846Z"
   },
   {
    "duration": 11,
    "start_time": "2022-04-16T12:56:52.760Z"
   },
   {
    "duration": 12,
    "start_time": "2022-04-16T12:56:57.663Z"
   },
   {
    "duration": 48,
    "start_time": "2022-04-16T12:57:01.484Z"
   },
   {
    "duration": 13,
    "start_time": "2022-04-16T12:57:31.235Z"
   },
   {
    "duration": 56,
    "start_time": "2022-04-16T12:57:39.970Z"
   },
   {
    "duration": 15,
    "start_time": "2022-04-16T12:58:47.324Z"
   },
   {
    "duration": 10,
    "start_time": "2022-04-16T12:58:50.857Z"
   },
   {
    "duration": 1627,
    "start_time": "2022-04-16T13:00:24.663Z"
   },
   {
    "duration": 1090,
    "start_time": "2022-04-16T13:00:26.292Z"
   },
   {
    "duration": 134,
    "start_time": "2022-04-16T13:00:27.384Z"
   },
   {
    "duration": 174,
    "start_time": "2022-04-16T13:00:27.520Z"
   },
   {
    "duration": 411,
    "start_time": "2022-04-16T13:00:27.696Z"
   },
   {
    "duration": 164,
    "start_time": "2022-04-16T13:00:28.110Z"
   },
   {
    "duration": 990,
    "start_time": "2022-04-16T13:00:28.277Z"
   },
   {
    "duration": 103,
    "start_time": "2022-04-16T13:00:29.269Z"
   },
   {
    "duration": 1673,
    "start_time": "2022-04-16T13:00:29.375Z"
   },
   {
    "duration": 26,
    "start_time": "2022-04-16T13:00:31.051Z"
   },
   {
    "duration": 89,
    "start_time": "2022-04-16T13:00:31.079Z"
   },
   {
    "duration": 248,
    "start_time": "2022-04-16T13:00:31.171Z"
   },
   {
    "duration": 32,
    "start_time": "2022-04-16T13:01:05.013Z"
   },
   {
    "duration": 1369,
    "start_time": "2022-04-16T13:01:15.168Z"
   },
   {
    "duration": 20,
    "start_time": "2022-04-16T13:01:19.392Z"
   },
   {
    "duration": 126,
    "start_time": "2022-04-16T13:03:05.974Z"
   },
   {
    "duration": 3,
    "start_time": "2022-04-16T13:03:54.477Z"
   },
   {
    "duration": 3,
    "start_time": "2022-04-16T13:03:58.154Z"
   },
   {
    "duration": 5,
    "start_time": "2022-04-16T13:04:01.655Z"
   },
   {
    "duration": 54,
    "start_time": "2022-04-16T13:04:05.377Z"
   },
   {
    "duration": 51,
    "start_time": "2022-04-16T13:04:18.140Z"
   },
   {
    "duration": 72,
    "start_time": "2022-04-16T13:04:22.366Z"
   },
   {
    "duration": 13,
    "start_time": "2022-04-16T13:05:41.772Z"
   },
   {
    "duration": 113,
    "start_time": "2022-04-16T13:05:48.164Z"
   },
   {
    "duration": 31,
    "start_time": "2022-04-16T13:07:04.528Z"
   },
   {
    "duration": 32,
    "start_time": "2022-04-16T13:07:17.305Z"
   },
   {
    "duration": 41,
    "start_time": "2022-04-16T13:07:28.974Z"
   },
   {
    "duration": 99,
    "start_time": "2022-04-16T13:07:35.925Z"
   },
   {
    "duration": 79,
    "start_time": "2022-04-16T13:07:46.143Z"
   },
   {
    "duration": 69,
    "start_time": "2022-04-16T13:08:05.821Z"
   },
   {
    "duration": 23,
    "start_time": "2022-04-16T13:08:18.091Z"
   },
   {
    "duration": 90,
    "start_time": "2022-04-16T13:08:20.948Z"
   },
   {
    "duration": 68,
    "start_time": "2022-04-16T13:08:29.329Z"
   },
   {
    "duration": 68,
    "start_time": "2022-04-16T13:08:33.734Z"
   },
   {
    "duration": 74,
    "start_time": "2022-04-16T13:08:37.765Z"
   },
   {
    "duration": 69,
    "start_time": "2022-04-16T13:08:46.226Z"
   },
   {
    "duration": 75,
    "start_time": "2022-04-16T13:08:57.745Z"
   },
   {
    "duration": 105,
    "start_time": "2022-04-16T13:09:06.810Z"
   },
   {
    "duration": 26,
    "start_time": "2022-04-16T13:10:00.602Z"
   },
   {
    "duration": 19,
    "start_time": "2022-04-16T13:10:06.622Z"
   },
   {
    "duration": 20,
    "start_time": "2022-04-16T13:11:23.146Z"
   },
   {
    "duration": 123,
    "start_time": "2022-04-16T13:12:58.847Z"
   },
   {
    "duration": 119,
    "start_time": "2022-04-16T13:13:04.287Z"
   },
   {
    "duration": 3,
    "start_time": "2022-04-16T13:13:09.476Z"
   },
   {
    "duration": 21,
    "start_time": "2022-04-16T13:13:33.546Z"
   },
   {
    "duration": 72,
    "start_time": "2022-04-16T13:13:50.308Z"
   },
   {
    "duration": 25,
    "start_time": "2022-04-16T13:14:00.301Z"
   },
   {
    "duration": 24,
    "start_time": "2022-04-16T13:14:06.393Z"
   },
   {
    "duration": 84,
    "start_time": "2022-04-16T13:14:09.139Z"
   },
   {
    "duration": 74,
    "start_time": "2022-04-16T13:14:56.481Z"
   },
   {
    "duration": 22,
    "start_time": "2022-04-16T13:15:05.238Z"
   },
   {
    "duration": 65,
    "start_time": "2022-04-16T13:15:12.914Z"
   },
   {
    "duration": 12,
    "start_time": "2022-04-16T13:17:44.635Z"
   },
   {
    "duration": 1368,
    "start_time": "2022-04-16T13:17:52.640Z"
   },
   {
    "duration": 20,
    "start_time": "2022-04-16T13:17:59.308Z"
   },
   {
    "duration": 54,
    "start_time": "2022-04-16T13:18:26.166Z"
   },
   {
    "duration": 1812,
    "start_time": "2022-04-16T13:19:10.599Z"
   },
   {
    "duration": 1339,
    "start_time": "2022-04-16T13:19:37.044Z"
   },
   {
    "duration": 1344,
    "start_time": "2022-04-16T13:20:58.621Z"
   },
   {
    "duration": 1025,
    "start_time": "2022-04-16T13:21:06.658Z"
   },
   {
    "duration": 48,
    "start_time": "2022-04-16T13:21:12.571Z"
   },
   {
    "duration": 4,
    "start_time": "2022-04-16T13:21:25.506Z"
   },
   {
    "duration": 1062,
    "start_time": "2022-04-16T13:21:25.512Z"
   },
   {
    "duration": 125,
    "start_time": "2022-04-16T13:21:26.577Z"
   },
   {
    "duration": 154,
    "start_time": "2022-04-16T13:21:26.704Z"
   },
   {
    "duration": 407,
    "start_time": "2022-04-16T13:21:26.861Z"
   },
   {
    "duration": 338,
    "start_time": "2022-04-16T13:21:27.270Z"
   },
   {
    "duration": 746,
    "start_time": "2022-04-16T13:21:27.611Z"
   },
   {
    "duration": 102,
    "start_time": "2022-04-16T13:21:28.359Z"
   },
   {
    "duration": 114,
    "start_time": "2022-04-16T13:21:35.380Z"
   },
   {
    "duration": 1284,
    "start_time": "2022-04-16T13:23:26.022Z"
   },
   {
    "duration": 733,
    "start_time": "2022-04-16T13:24:00.676Z"
   },
   {
    "duration": 1335,
    "start_time": "2022-04-16T13:24:37.304Z"
   },
   {
    "duration": 1248,
    "start_time": "2022-04-16T13:25:10.370Z"
   },
   {
    "duration": 3661,
    "start_time": "2022-04-16T13:25:58.086Z"
   },
   {
    "duration": 3640,
    "start_time": "2022-04-16T13:26:07.174Z"
   },
   {
    "duration": 4,
    "start_time": "2022-04-16T13:26:10.904Z"
   },
   {
    "duration": 1407,
    "start_time": "2022-04-16T13:26:10.910Z"
   },
   {
    "duration": 125,
    "start_time": "2022-04-16T13:26:12.319Z"
   },
   {
    "duration": 155,
    "start_time": "2022-04-16T13:26:12.446Z"
   },
   {
    "duration": 392,
    "start_time": "2022-04-16T13:26:12.605Z"
   },
   {
    "duration": 156,
    "start_time": "2022-04-16T13:26:12.999Z"
   },
   {
    "duration": 766,
    "start_time": "2022-04-16T13:26:13.157Z"
   },
   {
    "duration": 113,
    "start_time": "2022-04-16T13:26:13.925Z"
   },
   {
    "duration": 49,
    "start_time": "2022-04-16T13:26:19.889Z"
   },
   {
    "duration": 8272,
    "start_time": "2022-04-16T13:28:35.108Z"
   },
   {
    "duration": 60,
    "start_time": "2022-04-16T13:28:43.382Z"
   },
   {
    "duration": 38,
    "start_time": "2022-04-16T13:29:11.426Z"
   },
   {
    "duration": 39,
    "start_time": "2022-04-16T13:30:03.222Z"
   },
   {
    "duration": 7622,
    "start_time": "2022-04-16T13:30:26.463Z"
   },
   {
    "duration": 48,
    "start_time": "2022-04-16T13:30:34.087Z"
   },
   {
    "duration": 45,
    "start_time": "2022-04-16T13:31:06.364Z"
   },
   {
    "duration": 38,
    "start_time": "2022-04-16T13:31:35.021Z"
   },
   {
    "duration": 153,
    "start_time": "2022-04-16T13:33:39.290Z"
   },
   {
    "duration": 4,
    "start_time": "2022-04-16T13:34:11.606Z"
   },
   {
    "duration": 1129,
    "start_time": "2022-04-16T13:34:11.614Z"
   },
   {
    "duration": 127,
    "start_time": "2022-04-16T13:34:12.745Z"
   },
   {
    "duration": 160,
    "start_time": "2022-04-16T13:34:12.874Z"
   },
   {
    "duration": 394,
    "start_time": "2022-04-16T13:34:13.037Z"
   },
   {
    "duration": 253,
    "start_time": "2022-04-16T13:34:13.433Z"
   },
   {
    "duration": 1024,
    "start_time": "2022-04-16T13:34:13.687Z"
   },
   {
    "duration": 104,
    "start_time": "2022-04-16T13:34:14.713Z"
   },
   {
    "duration": 10793,
    "start_time": "2022-04-16T13:34:21.584Z"
   },
   {
    "duration": 162,
    "start_time": "2022-04-16T13:34:32.539Z"
   },
   {
    "duration": 1612,
    "start_time": "2022-04-16T13:36:17.656Z"
   },
   {
    "duration": 1133,
    "start_time": "2022-04-16T13:36:19.270Z"
   },
   {
    "duration": 134,
    "start_time": "2022-04-16T13:36:20.407Z"
   },
   {
    "duration": 237,
    "start_time": "2022-04-16T13:36:20.543Z"
   },
   {
    "duration": 574,
    "start_time": "2022-04-16T13:36:20.782Z"
   },
   {
    "duration": 166,
    "start_time": "2022-04-16T13:36:21.359Z"
   },
   {
    "duration": 744,
    "start_time": "2022-04-16T13:36:21.526Z"
   },
   {
    "duration": 99,
    "start_time": "2022-04-16T13:36:22.273Z"
   },
   {
    "duration": 13922,
    "start_time": "2022-04-16T13:36:22.374Z"
   },
   {
    "duration": 157,
    "start_time": "2022-04-16T13:36:36.300Z"
   },
   {
    "duration": 135,
    "start_time": "2022-04-16T13:36:36.459Z"
   },
   {
    "duration": 0,
    "start_time": "2022-04-16T13:36:36.596Z"
   },
   {
    "duration": 10857,
    "start_time": "2022-04-16T13:37:06.809Z"
   },
   {
    "duration": 160,
    "start_time": "2022-04-16T13:37:17.668Z"
   },
   {
    "duration": 13566,
    "start_time": "2022-04-16T13:38:21.099Z"
   },
   {
    "duration": 148,
    "start_time": "2022-04-16T13:38:34.667Z"
   },
   {
    "duration": 10955,
    "start_time": "2022-04-16T13:38:48.357Z"
   },
   {
    "duration": 139,
    "start_time": "2022-04-16T13:38:59.316Z"
   },
   {
    "duration": 1910,
    "start_time": "2022-04-16T13:42:00.404Z"
   },
   {
    "duration": 34,
    "start_time": "2022-04-16T13:42:17.094Z"
   },
   {
    "duration": 78,
    "start_time": "2022-04-16T13:42:47.399Z"
   },
   {
    "duration": 152,
    "start_time": "2022-04-16T13:43:13.315Z"
   },
   {
    "duration": 117,
    "start_time": "2022-04-16T13:43:23.164Z"
   },
   {
    "duration": 114,
    "start_time": "2022-04-16T13:43:42.023Z"
   },
   {
    "duration": 143,
    "start_time": "2022-04-16T13:44:15.247Z"
   },
   {
    "duration": 115,
    "start_time": "2022-04-16T13:44:27.112Z"
   },
   {
    "duration": 157,
    "start_time": "2022-04-16T13:44:31.699Z"
   },
   {
    "duration": 1084,
    "start_time": "2022-04-16T13:44:44.413Z"
   },
   {
    "duration": 31,
    "start_time": "2022-04-16T13:44:48.055Z"
   },
   {
    "duration": 1899,
    "start_time": "2022-04-16T13:45:40.311Z"
   },
   {
    "duration": 35,
    "start_time": "2022-04-16T13:45:43.818Z"
   },
   {
    "duration": 33,
    "start_time": "2022-04-16T13:46:40.834Z"
   },
   {
    "duration": 2162,
    "start_time": "2022-04-16T13:46:43.433Z"
   },
   {
    "duration": 1860,
    "start_time": "2022-04-16T13:47:04.625Z"
   },
   {
    "duration": 1735,
    "start_time": "2022-04-16T13:47:34.350Z"
   },
   {
    "duration": 1829,
    "start_time": "2022-04-16T13:47:39.465Z"
   },
   {
    "duration": 2021,
    "start_time": "2022-04-16T13:48:17.128Z"
   },
   {
    "duration": 2287,
    "start_time": "2022-04-16T13:48:40.365Z"
   },
   {
    "duration": 2370,
    "start_time": "2022-04-16T13:48:51.241Z"
   },
   {
    "duration": 4,
    "start_time": "2022-04-16T13:49:06.989Z"
   },
   {
    "duration": 1050,
    "start_time": "2022-04-16T13:49:07.001Z"
   },
   {
    "duration": 133,
    "start_time": "2022-04-16T13:49:08.053Z"
   },
   {
    "duration": 152,
    "start_time": "2022-04-16T13:49:08.192Z"
   },
   {
    "duration": 409,
    "start_time": "2022-04-16T13:49:08.347Z"
   },
   {
    "duration": 166,
    "start_time": "2022-04-16T13:49:08.759Z"
   },
   {
    "duration": 747,
    "start_time": "2022-04-16T13:49:08.927Z"
   },
   {
    "duration": 98,
    "start_time": "2022-04-16T13:49:09.676Z"
   },
   {
    "duration": 15538,
    "start_time": "2022-04-16T13:49:09.775Z"
   },
   {
    "duration": 1618,
    "start_time": "2022-04-16T13:49:27.103Z"
   },
   {
    "duration": 1120,
    "start_time": "2022-04-16T13:49:28.724Z"
   },
   {
    "duration": 139,
    "start_time": "2022-04-16T13:49:29.846Z"
   },
   {
    "duration": 195,
    "start_time": "2022-04-16T13:49:29.993Z"
   },
   {
    "duration": 475,
    "start_time": "2022-04-16T13:49:30.190Z"
   },
   {
    "duration": 172,
    "start_time": "2022-04-16T13:49:30.668Z"
   },
   {
    "duration": 796,
    "start_time": "2022-04-16T13:49:30.842Z"
   },
   {
    "duration": 99,
    "start_time": "2022-04-16T13:49:31.640Z"
   },
   {
    "duration": 13415,
    "start_time": "2022-04-16T13:49:31.740Z"
   },
   {
    "duration": 2449,
    "start_time": "2022-04-16T13:49:45.158Z"
   },
   {
    "duration": 1727,
    "start_time": "2022-04-16T13:50:44.737Z"
   },
   {
    "duration": 1405,
    "start_time": "2022-04-16T13:50:46.466Z"
   },
   {
    "duration": 138,
    "start_time": "2022-04-16T13:50:47.873Z"
   },
   {
    "duration": 175,
    "start_time": "2022-04-16T13:50:48.013Z"
   },
   {
    "duration": 584,
    "start_time": "2022-04-16T13:50:48.192Z"
   },
   {
    "duration": 222,
    "start_time": "2022-04-16T13:50:48.778Z"
   },
   {
    "duration": 1016,
    "start_time": "2022-04-16T13:50:49.002Z"
   },
   {
    "duration": 135,
    "start_time": "2022-04-16T13:50:50.020Z"
   },
   {
    "duration": 11624,
    "start_time": "2022-04-16T13:50:50.158Z"
   },
   {
    "duration": 1841,
    "start_time": "2022-04-16T13:51:01.785Z"
   },
   {
    "duration": 335,
    "start_time": "2022-04-16T13:54:18.338Z"
   },
   {
    "duration": 172,
    "start_time": "2022-04-16T13:54:37.517Z"
   },
   {
    "duration": 18,
    "start_time": "2022-04-16T13:55:27.634Z"
   },
   {
    "duration": 830,
    "start_time": "2022-04-16T13:57:22.534Z"
   },
   {
    "duration": 9,
    "start_time": "2022-04-16T13:57:29.673Z"
   },
   {
    "duration": 4,
    "start_time": "2022-04-16T13:57:32.310Z"
   },
   {
    "duration": 11,
    "start_time": "2022-04-16T13:57:56.045Z"
   },
   {
    "duration": 4,
    "start_time": "2022-04-16T13:57:59.452Z"
   },
   {
    "duration": 1169,
    "start_time": "2022-04-16T13:57:59.460Z"
   },
   {
    "duration": 141,
    "start_time": "2022-04-16T13:58:00.632Z"
   },
   {
    "duration": 170,
    "start_time": "2022-04-16T13:58:00.775Z"
   },
   {
    "duration": 519,
    "start_time": "2022-04-16T13:58:00.948Z"
   },
   {
    "duration": 173,
    "start_time": "2022-04-16T13:58:01.469Z"
   },
   {
    "duration": 749,
    "start_time": "2022-04-16T13:58:01.644Z"
   },
   {
    "duration": 105,
    "start_time": "2022-04-16T13:58:02.395Z"
   },
   {
    "duration": 11091,
    "start_time": "2022-04-16T13:58:02.501Z"
   },
   {
    "duration": 1890,
    "start_time": "2022-04-16T13:58:13.594Z"
   },
   {
    "duration": 704,
    "start_time": "2022-04-16T13:58:15.494Z"
   },
   {
    "duration": 170,
    "start_time": "2022-04-16T13:59:05.956Z"
   },
   {
    "duration": 142,
    "start_time": "2022-04-16T13:59:20.835Z"
   },
   {
    "duration": 30,
    "start_time": "2022-04-16T13:59:23.238Z"
   },
   {
    "duration": 12,
    "start_time": "2022-04-16T13:59:41.356Z"
   },
   {
    "duration": 119,
    "start_time": "2022-04-16T14:02:30.485Z"
   },
   {
    "duration": 2479,
    "start_time": "2022-04-16T14:02:38.927Z"
   },
   {
    "duration": 190,
    "start_time": "2022-04-16T14:02:56.566Z"
   },
   {
    "duration": 201,
    "start_time": "2022-04-16T14:03:17.301Z"
   },
   {
    "duration": 241,
    "start_time": "2022-04-16T14:03:36.233Z"
   },
   {
    "duration": 2328,
    "start_time": "2022-04-16T14:03:51.650Z"
   },
   {
    "duration": 224,
    "start_time": "2022-04-16T14:04:11.013Z"
   },
   {
    "duration": 2232,
    "start_time": "2022-04-16T14:04:13.887Z"
   },
   {
    "duration": 128,
    "start_time": "2022-04-16T14:04:32.917Z"
   },
   {
    "duration": 1956,
    "start_time": "2022-04-16T14:04:53.906Z"
   },
   {
    "duration": 2281,
    "start_time": "2022-04-16T14:06:33.856Z"
   },
   {
    "duration": 2354,
    "start_time": "2022-04-16T14:06:51.461Z"
   },
   {
    "duration": 20,
    "start_time": "2022-04-16T14:07:09.914Z"
   },
   {
    "duration": 27,
    "start_time": "2022-04-16T14:07:21.547Z"
   },
   {
    "duration": 7,
    "start_time": "2022-04-16T14:07:26.895Z"
   },
   {
    "duration": 1054,
    "start_time": "2022-04-16T14:07:26.907Z"
   },
   {
    "duration": 198,
    "start_time": "2022-04-16T14:07:27.964Z"
   },
   {
    "duration": 201,
    "start_time": "2022-04-16T14:07:28.163Z"
   },
   {
    "duration": 402,
    "start_time": "2022-04-16T14:07:28.367Z"
   },
   {
    "duration": 167,
    "start_time": "2022-04-16T14:07:28.771Z"
   },
   {
    "duration": 829,
    "start_time": "2022-04-16T14:07:28.940Z"
   },
   {
    "duration": 94,
    "start_time": "2022-04-16T14:07:29.771Z"
   },
   {
    "duration": 11411,
    "start_time": "2022-04-16T14:07:29.867Z"
   },
   {
    "duration": 1875,
    "start_time": "2022-04-16T14:07:41.280Z"
   },
   {
    "duration": 741,
    "start_time": "2022-04-16T14:07:43.158Z"
   },
   {
    "duration": 135,
    "start_time": "2022-04-16T14:07:47.833Z"
   },
   {
    "duration": 19,
    "start_time": "2022-04-16T14:07:50.464Z"
   },
   {
    "duration": 5,
    "start_time": "2022-04-16T14:07:58.183Z"
   },
   {
    "duration": 5,
    "start_time": "2022-04-16T14:08:03.952Z"
   },
   {
    "duration": 3,
    "start_time": "2022-04-16T14:08:20.138Z"
   },
   {
    "duration": 19,
    "start_time": "2022-04-16T14:10:14.528Z"
   },
   {
    "duration": 19,
    "start_time": "2022-04-16T14:10:24.044Z"
   },
   {
    "duration": 10923,
    "start_time": "2022-04-16T14:12:17.503Z"
   },
   {
    "duration": 4,
    "start_time": "2022-04-16T14:12:39.522Z"
   },
   {
    "duration": 1034,
    "start_time": "2022-04-16T14:12:39.530Z"
   },
   {
    "duration": 142,
    "start_time": "2022-04-16T14:12:40.567Z"
   },
   {
    "duration": 164,
    "start_time": "2022-04-16T14:12:40.711Z"
   },
   {
    "duration": 452,
    "start_time": "2022-04-16T14:12:40.878Z"
   },
   {
    "duration": 218,
    "start_time": "2022-04-16T14:12:41.334Z"
   },
   {
    "duration": 737,
    "start_time": "2022-04-16T14:12:41.553Z"
   },
   {
    "duration": 86,
    "start_time": "2022-04-16T14:12:42.293Z"
   },
   {
    "duration": 11316,
    "start_time": "2022-04-16T14:12:42.381Z"
   },
   {
    "duration": 1745,
    "start_time": "2022-04-16T14:12:53.699Z"
   },
   {
    "duration": 747,
    "start_time": "2022-04-16T14:12:55.447Z"
   },
   {
    "duration": 144,
    "start_time": "2022-04-16T14:13:02.386Z"
   },
   {
    "duration": 20,
    "start_time": "2022-04-16T14:13:04.333Z"
   },
   {
    "duration": 6,
    "start_time": "2022-04-16T14:29:48.339Z"
   },
   {
    "duration": 8,
    "start_time": "2022-04-16T14:31:09.656Z"
   },
   {
    "duration": 135,
    "start_time": "2022-04-16T14:36:30.426Z"
   },
   {
    "duration": 132,
    "start_time": "2022-04-16T14:37:14.410Z"
   },
   {
    "duration": 91,
    "start_time": "2022-04-16T14:37:43.452Z"
   },
   {
    "duration": 4,
    "start_time": "2022-04-16T14:39:31.750Z"
   },
   {
    "duration": 6,
    "start_time": "2022-04-16T14:40:06.353Z"
   },
   {
    "duration": 6,
    "start_time": "2022-04-16T14:40:22.595Z"
   },
   {
    "duration": 4,
    "start_time": "2022-04-16T14:44:46.591Z"
   },
   {
    "duration": 4,
    "start_time": "2022-04-16T14:47:08.942Z"
   },
   {
    "duration": 191,
    "start_time": "2022-04-16T14:47:19.133Z"
   },
   {
    "duration": 102,
    "start_time": "2022-04-16T14:47:26.981Z"
   },
   {
    "duration": 7,
    "start_time": "2022-04-16T14:47:30.948Z"
   },
   {
    "duration": 3,
    "start_time": "2022-04-16T14:48:25.664Z"
   },
   {
    "duration": 1021,
    "start_time": "2022-04-16T14:48:25.677Z"
   },
   {
    "duration": 134,
    "start_time": "2022-04-16T14:48:26.701Z"
   },
   {
    "duration": 164,
    "start_time": "2022-04-16T14:48:26.838Z"
   },
   {
    "duration": 464,
    "start_time": "2022-04-16T14:48:27.005Z"
   },
   {
    "duration": 166,
    "start_time": "2022-04-16T14:48:27.471Z"
   },
   {
    "duration": 712,
    "start_time": "2022-04-16T14:48:27.639Z"
   },
   {
    "duration": 93,
    "start_time": "2022-04-16T14:48:28.354Z"
   },
   {
    "duration": 10845,
    "start_time": "2022-04-16T14:48:28.448Z"
   },
   {
    "duration": 1752,
    "start_time": "2022-04-16T14:48:39.295Z"
   },
   {
    "duration": 697,
    "start_time": "2022-04-16T14:48:41.049Z"
   },
   {
    "duration": 14,
    "start_time": "2022-04-16T14:48:41.747Z"
   },
   {
    "duration": 0,
    "start_time": "2022-04-16T14:48:41.763Z"
   },
   {
    "duration": 0,
    "start_time": "2022-04-16T14:48:41.765Z"
   },
   {
    "duration": 2502,
    "start_time": "2022-04-16T14:51:14.237Z"
   },
   {
    "duration": 211,
    "start_time": "2022-04-16T14:51:18.174Z"
   },
   {
    "duration": 73,
    "start_time": "2022-04-16T14:51:20.209Z"
   },
   {
    "duration": 7,
    "start_time": "2022-04-16T14:51:23.749Z"
   },
   {
    "duration": 27,
    "start_time": "2022-04-16T14:54:09.748Z"
   },
   {
    "duration": 32,
    "start_time": "2022-04-16T14:54:20.092Z"
   },
   {
    "duration": 22,
    "start_time": "2022-04-16T14:54:49.945Z"
   },
   {
    "duration": 9044,
    "start_time": "2022-04-16T14:56:27.767Z"
   },
   {
    "duration": 4,
    "start_time": "2022-04-16T14:56:36.813Z"
   },
   {
    "duration": 987,
    "start_time": "2022-04-16T14:56:36.819Z"
   },
   {
    "duration": 125,
    "start_time": "2022-04-16T14:56:37.809Z"
   },
   {
    "duration": 151,
    "start_time": "2022-04-16T14:56:37.936Z"
   },
   {
    "duration": 387,
    "start_time": "2022-04-16T14:56:38.093Z"
   },
   {
    "duration": 164,
    "start_time": "2022-04-16T14:56:38.482Z"
   },
   {
    "duration": 736,
    "start_time": "2022-04-16T14:56:38.648Z"
   },
   {
    "duration": 89,
    "start_time": "2022-04-16T14:56:39.386Z"
   },
   {
    "duration": 11387,
    "start_time": "2022-04-16T14:56:41.017Z"
   },
   {
    "duration": 1722,
    "start_time": "2022-04-16T14:57:04.392Z"
   },
   {
    "duration": 135,
    "start_time": "2022-04-16T14:57:48.219Z"
   },
   {
    "duration": 2469,
    "start_time": "2022-04-16T14:57:51.193Z"
   },
   {
    "duration": 235,
    "start_time": "2022-04-16T14:57:53.665Z"
   },
   {
    "duration": 67,
    "start_time": "2022-04-16T14:57:53.902Z"
   },
   {
    "duration": 6,
    "start_time": "2022-04-16T14:57:59.241Z"
   },
   {
    "duration": 18,
    "start_time": "2022-04-16T14:58:02.897Z"
   },
   {
    "duration": 166,
    "start_time": "2022-04-16T14:58:14.431Z"
   },
   {
    "duration": 7,
    "start_time": "2022-04-16T15:02:41.114Z"
   },
   {
    "duration": 258,
    "start_time": "2022-04-16T15:02:47.943Z"
   },
   {
    "duration": 164,
    "start_time": "2022-04-16T15:10:09.231Z"
   },
   {
    "duration": 25,
    "start_time": "2022-04-16T15:12:15.418Z"
   },
   {
    "duration": 123,
    "start_time": "2022-04-16T15:12:36.112Z"
   },
   {
    "duration": 12,
    "start_time": "2022-04-16T15:23:03.531Z"
   },
   {
    "duration": 114,
    "start_time": "2022-04-16T15:24:02.105Z"
   },
   {
    "duration": 115,
    "start_time": "2022-04-16T15:27:21.041Z"
   },
   {
    "duration": 2439,
    "start_time": "2022-04-16T15:28:18.678Z"
   },
   {
    "duration": 278766,
    "start_time": "2022-04-16T15:29:21.448Z"
   },
   {
    "duration": 61,
    "start_time": "2022-04-16T15:34:18.205Z"
   },
   {
    "duration": 60,
    "start_time": "2022-04-16T15:34:20.557Z"
   },
   {
    "duration": 29,
    "start_time": "2022-04-16T15:37:09.329Z"
   },
   {
    "duration": 17,
    "start_time": "2022-04-16T15:37:59.246Z"
   },
   {
    "duration": 13,
    "start_time": "2022-04-16T15:38:09.609Z"
   },
   {
    "duration": 12,
    "start_time": "2022-04-16T15:38:25.852Z"
   },
   {
    "duration": 19,
    "start_time": "2022-04-16T16:01:23.564Z"
   },
   {
    "duration": 1942,
    "start_time": "2022-04-16T16:09:34.812Z"
   },
   {
    "duration": 1662,
    "start_time": "2022-04-16T16:09:36.757Z"
   },
   {
    "duration": 146,
    "start_time": "2022-04-16T16:09:38.421Z"
   },
   {
    "duration": 192,
    "start_time": "2022-04-16T16:09:38.570Z"
   },
   {
    "duration": 418,
    "start_time": "2022-04-16T16:09:38.765Z"
   },
   {
    "duration": 196,
    "start_time": "2022-04-16T16:09:39.185Z"
   },
   {
    "duration": 901,
    "start_time": "2022-04-16T16:09:39.383Z"
   },
   {
    "duration": 98,
    "start_time": "2022-04-16T16:09:40.286Z"
   },
   {
    "duration": 13698,
    "start_time": "2022-04-16T16:09:40.395Z"
   },
   {
    "duration": 1933,
    "start_time": "2022-04-16T16:09:54.097Z"
   },
   {
    "duration": 161,
    "start_time": "2022-04-16T16:09:56.032Z"
   },
   {
    "duration": 24,
    "start_time": "2022-04-16T16:09:56.195Z"
   },
   {
    "duration": 2611,
    "start_time": "2022-04-16T16:09:56.221Z"
   },
   {
    "duration": 300,
    "start_time": "2022-04-16T16:09:58.833Z"
   },
   {
    "duration": 85,
    "start_time": "2022-04-16T16:09:59.134Z"
   },
   {
    "duration": 317,
    "start_time": "2022-04-16T16:09:59.221Z"
   },
   {
    "duration": 6,
    "start_time": "2022-04-16T16:09:59.540Z"
   },
   {
    "duration": 164,
    "start_time": "2022-04-16T16:09:59.548Z"
   },
   {
    "duration": 331168,
    "start_time": "2022-04-16T16:09:59.717Z"
   },
   {
    "duration": 1980,
    "start_time": "2022-04-16T16:15:30.887Z"
   },
   {
    "duration": 39428,
    "start_time": "2022-04-16T16:16:41.580Z"
   },
   {
    "duration": 331782,
    "start_time": "2022-04-16T16:17:23.025Z"
   },
   {
    "duration": 13,
    "start_time": "2022-04-16T16:31:38.150Z"
   },
   {
    "duration": 4,
    "start_time": "2022-04-16T16:32:02.320Z"
   },
   {
    "duration": 6,
    "start_time": "2022-04-16T16:33:55.111Z"
   },
   {
    "duration": 17,
    "start_time": "2022-04-16T16:34:17.316Z"
   },
   {
    "duration": 18,
    "start_time": "2022-04-16T16:34:30.771Z"
   },
   {
    "duration": 17,
    "start_time": "2022-04-16T16:34:49.853Z"
   },
   {
    "duration": 24621,
    "start_time": "2022-04-16T16:35:54.199Z"
   },
   {
    "duration": 7,
    "start_time": "2022-04-16T16:36:20.722Z"
   },
   {
    "duration": 7,
    "start_time": "2022-04-16T16:36:51.224Z"
   },
   {
    "duration": 197367,
    "start_time": "2022-04-16T16:37:32.710Z"
   },
   {
    "duration": 6,
    "start_time": "2022-04-16T16:43:28.906Z"
   },
   {
    "duration": 109474,
    "start_time": "2022-04-16T16:43:42.427Z"
   },
   {
    "duration": 8,
    "start_time": "2022-04-16T16:46:10.592Z"
   },
   {
    "duration": 188,
    "start_time": "2022-04-16T16:46:13.813Z"
   },
   {
    "duration": 270851,
    "start_time": "2022-04-16T16:46:19.794Z"
   },
   {
    "duration": 4,
    "start_time": "2022-04-16T16:53:59.030Z"
   },
   {
    "duration": 168777,
    "start_time": "2022-04-16T16:54:26.980Z"
   },
   {
    "duration": 6,
    "start_time": "2022-04-16T16:57:18.353Z"
   },
   {
    "duration": 4,
    "start_time": "2022-04-16T16:57:26.770Z"
   },
   {
    "duration": 270569,
    "start_time": "2022-04-16T16:57:28.982Z"
   },
   {
    "duration": 5,
    "start_time": "2022-04-16T17:02:26.525Z"
   },
   {
    "duration": 5,
    "start_time": "2022-04-16T17:02:45.363Z"
   },
   {
    "duration": 3,
    "start_time": "2022-04-16T17:03:44.032Z"
   },
   {
    "duration": 117,
    "start_time": "2022-04-16T17:03:47.012Z"
   },
   {
    "duration": 4,
    "start_time": "2022-04-16T17:03:51.241Z"
   },
   {
    "duration": 1234261,
    "start_time": "2022-04-16T17:03:54.242Z"
   },
   {
    "duration": 4,
    "start_time": "2022-04-16T17:33:02.146Z"
   },
   {
    "duration": 4,
    "start_time": "2022-04-16T17:33:45.893Z"
   },
   {
    "duration": 13067,
    "start_time": "2022-04-16T18:10:29.210Z"
   },
   {
    "duration": 13489,
    "start_time": "2022-04-16T18:10:55.663Z"
   },
   {
    "duration": 183265,
    "start_time": "2022-04-16T18:11:37.807Z"
   },
   {
    "duration": 3,
    "start_time": "2022-04-16T18:21:05.103Z"
   },
   {
    "duration": 10,
    "start_time": "2022-04-16T18:23:11.639Z"
   },
   {
    "duration": 10,
    "start_time": "2022-04-16T18:23:17.327Z"
   },
   {
    "duration": 4,
    "start_time": "2022-04-16T18:23:21.688Z"
   },
   {
    "duration": 7,
    "start_time": "2022-04-16T18:23:25.622Z"
   },
   {
    "duration": 4,
    "start_time": "2022-04-16T18:24:16.068Z"
   },
   {
    "duration": 9,
    "start_time": "2022-04-16T18:24:21.003Z"
   },
   {
    "duration": 7,
    "start_time": "2022-04-16T18:24:31.750Z"
   },
   {
    "duration": 8158,
    "start_time": "2022-04-16T18:31:04.945Z"
   },
   {
    "duration": 8,
    "start_time": "2022-04-16T18:31:52.934Z"
   },
   {
    "duration": 13,
    "start_time": "2022-04-16T18:32:43.941Z"
   },
   {
    "duration": 13,
    "start_time": "2022-04-16T18:33:14.969Z"
   },
   {
    "duration": 13,
    "start_time": "2022-04-16T18:33:41.782Z"
   },
   {
    "duration": 13,
    "start_time": "2022-04-16T18:34:34.349Z"
   },
   {
    "duration": 5,
    "start_time": "2022-04-16T18:35:25.204Z"
   },
   {
    "duration": 8483,
    "start_time": "2022-04-16T18:35:38.636Z"
   },
   {
    "duration": 13,
    "start_time": "2022-04-16T18:36:44.118Z"
   },
   {
    "duration": 15,
    "start_time": "2022-04-16T18:36:47.917Z"
   },
   {
    "duration": 13,
    "start_time": "2022-04-16T18:36:58.263Z"
   },
   {
    "duration": 12,
    "start_time": "2022-04-16T18:37:04.368Z"
   },
   {
    "duration": 13,
    "start_time": "2022-04-16T18:37:11.233Z"
   },
   {
    "duration": 4,
    "start_time": "2022-04-16T18:37:36.426Z"
   },
   {
    "duration": 8609,
    "start_time": "2022-04-16T18:37:42.696Z"
   },
   {
    "duration": 13,
    "start_time": "2022-04-16T18:38:27.358Z"
   },
   {
    "duration": 4,
    "start_time": "2022-04-16T18:38:35.473Z"
   },
   {
    "duration": 8290,
    "start_time": "2022-04-16T18:38:47.812Z"
   },
   {
    "duration": 13,
    "start_time": "2022-04-16T18:41:08.085Z"
   },
   {
    "duration": 12,
    "start_time": "2022-04-16T18:41:14.912Z"
   },
   {
    "duration": 5,
    "start_time": "2022-04-16T18:41:21.850Z"
   },
   {
    "duration": 68,
    "start_time": "2022-04-16T18:41:30.690Z"
   },
   {
    "duration": 14,
    "start_time": "2022-04-16T18:41:50.207Z"
   },
   {
    "duration": 5,
    "start_time": "2022-04-16T18:41:56.196Z"
   },
   {
    "duration": 8025,
    "start_time": "2022-04-16T18:42:01.168Z"
   },
   {
    "duration": 5,
    "start_time": "2022-04-16T18:43:47.475Z"
   },
   {
    "duration": 21798,
    "start_time": "2022-04-16T18:44:28.949Z"
   },
   {
    "duration": 128,
    "start_time": "2022-04-16T18:45:03.676Z"
   },
   {
    "duration": 4,
    "start_time": "2022-04-16T18:45:20.065Z"
   },
   {
    "duration": 1736,
    "start_time": "2022-04-16T18:50:32.501Z"
   },
   {
    "duration": 1209,
    "start_time": "2022-04-16T18:50:34.239Z"
   },
   {
    "duration": 183,
    "start_time": "2022-04-16T18:50:35.450Z"
   },
   {
    "duration": 175,
    "start_time": "2022-04-16T18:50:35.635Z"
   },
   {
    "duration": 390,
    "start_time": "2022-04-16T18:50:35.811Z"
   },
   {
    "duration": 146,
    "start_time": "2022-04-16T18:50:36.203Z"
   },
   {
    "duration": 891,
    "start_time": "2022-04-16T18:50:36.351Z"
   },
   {
    "duration": 98,
    "start_time": "2022-04-16T18:50:37.244Z"
   },
   {
    "duration": 11172,
    "start_time": "2022-04-16T18:50:37.343Z"
   },
   {
    "duration": 1800,
    "start_time": "2022-04-16T18:50:48.518Z"
   },
   {
    "duration": 146,
    "start_time": "2022-04-16T18:50:50.320Z"
   },
   {
    "duration": 36,
    "start_time": "2022-04-16T18:50:50.468Z"
   },
   {
    "duration": 2450,
    "start_time": "2022-04-16T18:50:50.506Z"
   },
   {
    "duration": 267,
    "start_time": "2022-04-16T18:50:52.958Z"
   },
   {
    "duration": 88,
    "start_time": "2022-04-16T18:50:53.227Z"
   },
   {
    "duration": 298,
    "start_time": "2022-04-16T18:50:53.317Z"
   },
   {
    "duration": 7,
    "start_time": "2022-04-16T18:50:53.618Z"
   },
   {
    "duration": 177,
    "start_time": "2022-04-16T18:50:53.626Z"
   },
   {
    "duration": 88,
    "start_time": "2022-04-16T18:50:53.805Z"
   },
   {
    "duration": 256773,
    "start_time": "2022-04-16T18:50:53.896Z"
   },
   {
    "duration": 123,
    "start_time": "2022-04-16T18:55:10.677Z"
   },
   {
    "duration": 0,
    "start_time": "2022-04-16T18:55:10.802Z"
   },
   {
    "duration": 0,
    "start_time": "2022-04-16T18:55:10.803Z"
   },
   {
    "duration": 0,
    "start_time": "2022-04-16T18:55:10.805Z"
   },
   {
    "duration": 0,
    "start_time": "2022-04-16T18:55:10.807Z"
   },
   {
    "duration": 0,
    "start_time": "2022-04-16T18:55:10.809Z"
   },
   {
    "duration": 0,
    "start_time": "2022-04-16T18:55:10.810Z"
   },
   {
    "duration": 0,
    "start_time": "2022-04-16T18:55:10.812Z"
   },
   {
    "duration": 4,
    "start_time": "2022-04-16T18:55:16.828Z"
   },
   {
    "duration": 3,
    "start_time": "2022-04-16T18:55:21.736Z"
   },
   {
    "duration": 181383,
    "start_time": "2022-04-16T18:55:24.775Z"
   },
   {
    "duration": 8,
    "start_time": "2022-04-16T18:59:32.729Z"
   },
   {
    "duration": 8174,
    "start_time": "2022-04-16T18:59:36.131Z"
   },
   {
    "duration": 12,
    "start_time": "2022-04-16T18:59:55.117Z"
   },
   {
    "duration": 5,
    "start_time": "2022-04-16T19:00:01.577Z"
   },
   {
    "duration": 7249,
    "start_time": "2022-04-16T19:00:06.845Z"
   },
   {
    "duration": 4,
    "start_time": "2022-04-16T19:00:20.506Z"
   },
   {
    "duration": 54,
    "start_time": "2022-04-16T19:06:40.665Z"
   },
   {
    "duration": 1600,
    "start_time": "2022-04-16T19:06:50.595Z"
   },
   {
    "duration": 1032,
    "start_time": "2022-04-16T19:06:52.197Z"
   },
   {
    "duration": 120,
    "start_time": "2022-04-16T19:06:53.231Z"
   },
   {
    "duration": 161,
    "start_time": "2022-04-16T19:06:53.353Z"
   },
   {
    "duration": 376,
    "start_time": "2022-04-16T19:06:53.516Z"
   },
   {
    "duration": 152,
    "start_time": "2022-04-16T19:06:53.894Z"
   },
   {
    "duration": 777,
    "start_time": "2022-04-16T19:06:54.048Z"
   },
   {
    "duration": 97,
    "start_time": "2022-04-16T19:06:54.827Z"
   },
   {
    "duration": 9956,
    "start_time": "2022-04-16T19:06:54.925Z"
   },
   {
    "duration": 1763,
    "start_time": "2022-04-16T19:07:04.892Z"
   },
   {
    "duration": 147,
    "start_time": "2022-04-16T19:07:06.656Z"
   },
   {
    "duration": 22,
    "start_time": "2022-04-16T19:07:06.805Z"
   },
   {
    "duration": 2356,
    "start_time": "2022-04-16T19:07:06.829Z"
   },
   {
    "duration": 251,
    "start_time": "2022-04-16T19:07:09.187Z"
   },
   {
    "duration": 76,
    "start_time": "2022-04-16T19:07:09.440Z"
   },
   {
    "duration": 301,
    "start_time": "2022-04-16T19:07:09.518Z"
   },
   {
    "duration": 7,
    "start_time": "2022-04-16T19:07:09.821Z"
   },
   {
    "duration": 264,
    "start_time": "2022-04-16T19:07:09.829Z"
   },
   {
    "duration": 3,
    "start_time": "2022-04-16T19:07:10.096Z"
   },
   {
    "duration": 252076,
    "start_time": "2022-04-16T19:07:10.102Z"
   },
   {
    "duration": 4,
    "start_time": "2022-04-16T19:11:22.180Z"
   },
   {
    "duration": 12,
    "start_time": "2022-04-16T19:11:22.185Z"
   },
   {
    "duration": 180749,
    "start_time": "2022-04-16T19:11:22.198Z"
   },
   {
    "duration": 8,
    "start_time": "2022-04-16T19:14:22.948Z"
   },
   {
    "duration": 4,
    "start_time": "2022-04-16T19:14:22.959Z"
   },
   {
    "duration": 82,
    "start_time": "2022-04-16T19:14:37.369Z"
   },
   {
    "duration": 3,
    "start_time": "2022-04-16T19:16:24.855Z"
   },
   {
    "duration": 177,
    "start_time": "2022-04-16T19:16:30.400Z"
   },
   {
    "duration": 138,
    "start_time": "2022-04-16T19:17:34.368Z"
   },
   {
    "duration": 116,
    "start_time": "2022-04-16T19:19:47.624Z"
   },
   {
    "duration": 11,
    "start_time": "2022-04-16T19:20:08.454Z"
   },
   {
    "duration": 115,
    "start_time": "2022-04-16T19:20:17.984Z"
   },
   {
    "duration": 109,
    "start_time": "2022-04-16T19:20:28.691Z"
   },
   {
    "duration": 4,
    "start_time": "2022-04-16T19:21:36.119Z"
   },
   {
    "duration": 110,
    "start_time": "2022-04-16T19:21:44.710Z"
   },
   {
    "duration": 3,
    "start_time": "2022-04-16T19:24:12.336Z"
   },
   {
    "duration": 31943,
    "start_time": "2022-04-16T19:24:20.935Z"
   },
   {
    "duration": 14,
    "start_time": "2022-04-16T19:24:55.121Z"
   },
   {
    "duration": 4,
    "start_time": "2022-04-16T19:25:01.904Z"
   },
   {
    "duration": 4,
    "start_time": "2022-04-16T19:25:08.937Z"
   },
   {
    "duration": 57430,
    "start_time": "2022-04-16T19:25:12.392Z"
   },
   {
    "duration": 14,
    "start_time": "2022-04-16T19:26:33.914Z"
   },
   {
    "duration": 5,
    "start_time": "2022-04-16T19:26:39.495Z"
   },
   {
    "duration": 4,
    "start_time": "2022-04-16T19:28:13.974Z"
   },
   {
    "duration": 11,
    "start_time": "2022-04-16T19:28:24.382Z"
   },
   {
    "duration": 4,
    "start_time": "2022-04-16T19:28:29.281Z"
   },
   {
    "duration": 4,
    "start_time": "2022-04-16T19:28:36.854Z"
   },
   {
    "duration": 453863,
    "start_time": "2022-04-16T19:28:41.336Z"
   },
   {
    "duration": 19,
    "start_time": "2022-04-16T19:36:15.202Z"
   },
   {
    "duration": 13,
    "start_time": "2022-04-16T19:40:56.749Z"
   },
   {
    "duration": 4,
    "start_time": "2022-04-16T19:41:06.523Z"
   },
   {
    "duration": 6419,
    "start_time": "2022-04-16T19:41:13.591Z"
   },
   {
    "duration": 7,
    "start_time": "2022-04-16T19:42:10.264Z"
   },
   {
    "duration": 8,
    "start_time": "2022-04-16T19:43:21.842Z"
   },
   {
    "duration": 432,
    "start_time": "2022-04-16T19:57:47.563Z"
   },
   {
    "duration": 11,
    "start_time": "2022-04-16T19:59:02.533Z"
   },
   {
    "duration": 12,
    "start_time": "2022-04-16T19:59:09.523Z"
   },
   {
    "duration": 106,
    "start_time": "2022-04-16T19:59:16.102Z"
   },
   {
    "duration": 443,
    "start_time": "2022-04-16T20:00:54.552Z"
   },
   {
    "duration": 453,
    "start_time": "2022-04-16T20:01:28.141Z"
   },
   {
    "duration": 204,
    "start_time": "2022-04-16T20:02:37.590Z"
   },
   {
    "duration": 454,
    "start_time": "2022-04-16T20:04:38.841Z"
   },
   {
    "duration": 415,
    "start_time": "2022-04-16T20:06:55.979Z"
   },
   {
    "duration": 126,
    "start_time": "2022-04-16T20:08:37.071Z"
   },
   {
    "duration": 122,
    "start_time": "2022-04-16T20:09:37.033Z"
   },
   {
    "duration": 11,
    "start_time": "2022-04-16T20:11:17.231Z"
   },
   {
    "duration": 12,
    "start_time": "2022-04-16T20:12:18.095Z"
   },
   {
    "duration": 14,
    "start_time": "2022-04-16T20:13:01.164Z"
   },
   {
    "duration": 12,
    "start_time": "2022-04-16T20:13:07.396Z"
   },
   {
    "duration": 106,
    "start_time": "2022-04-18T04:54:11.590Z"
   },
   {
    "duration": 2838,
    "start_time": "2022-04-18T04:59:11.853Z"
   },
   {
    "duration": 968,
    "start_time": "2022-04-18T04:59:14.693Z"
   },
   {
    "duration": 128,
    "start_time": "2022-04-18T04:59:15.662Z"
   },
   {
    "duration": 159,
    "start_time": "2022-04-18T04:59:15.792Z"
   },
   {
    "duration": 344,
    "start_time": "2022-04-18T04:59:15.953Z"
   },
   {
    "duration": 141,
    "start_time": "2022-04-18T04:59:16.298Z"
   },
   {
    "duration": 743,
    "start_time": "2022-04-18T04:59:16.440Z"
   },
   {
    "duration": 92,
    "start_time": "2022-04-18T04:59:17.185Z"
   },
   {
    "duration": 8629,
    "start_time": "2022-04-18T04:59:17.279Z"
   },
   {
    "duration": 1677,
    "start_time": "2022-04-18T04:59:25.911Z"
   },
   {
    "duration": 130,
    "start_time": "2022-04-18T04:59:27.590Z"
   },
   {
    "duration": 24,
    "start_time": "2022-04-18T04:59:27.722Z"
   },
   {
    "duration": 2208,
    "start_time": "2022-04-18T04:59:27.748Z"
   },
   {
    "duration": 249,
    "start_time": "2022-04-18T04:59:29.957Z"
   },
   {
    "duration": 75,
    "start_time": "2022-04-18T04:59:30.208Z"
   },
   {
    "duration": 290,
    "start_time": "2022-04-18T04:59:30.284Z"
   },
   {
    "duration": 6,
    "start_time": "2022-04-18T04:59:30.576Z"
   },
   {
    "duration": 197,
    "start_time": "2022-04-18T04:59:30.583Z"
   },
   {
    "duration": 226024,
    "start_time": "2022-04-18T04:59:30.783Z"
   },
   {
    "duration": 3,
    "start_time": "2022-04-18T05:03:16.809Z"
   },
   {
    "duration": 9,
    "start_time": "2022-04-18T05:03:16.813Z"
   },
   {
    "duration": 162596,
    "start_time": "2022-04-18T05:03:16.823Z"
   },
   {
    "duration": 11,
    "start_time": "2022-04-18T05:05:59.421Z"
   },
   {
    "duration": 7947,
    "start_time": "2022-04-18T05:05:59.433Z"
   },
   {
    "duration": 147,
    "start_time": "2022-04-18T05:06:07.382Z"
   },
   {
    "duration": 0,
    "start_time": "2022-04-18T05:06:07.530Z"
   },
   {
    "duration": 0,
    "start_time": "2022-04-18T05:06:07.532Z"
   },
   {
    "duration": 0,
    "start_time": "2022-04-18T05:06:07.533Z"
   },
   {
    "duration": 216,
    "start_time": "2022-04-18T05:07:07.115Z"
   },
   {
    "duration": 887,
    "start_time": "2022-04-18T05:07:27.055Z"
   },
   {
    "duration": 85,
    "start_time": "2022-04-18T05:07:33.737Z"
   },
   {
    "duration": 117,
    "start_time": "2022-04-18T05:20:32.276Z"
   },
   {
    "duration": 2449,
    "start_time": "2022-04-18T05:33:06.914Z"
   },
   {
    "duration": 950,
    "start_time": "2022-04-18T05:33:09.365Z"
   },
   {
    "duration": 132,
    "start_time": "2022-04-18T05:33:10.318Z"
   },
   {
    "duration": 158,
    "start_time": "2022-04-18T05:33:10.452Z"
   },
   {
    "duration": 341,
    "start_time": "2022-04-18T05:33:10.612Z"
   },
   {
    "duration": 153,
    "start_time": "2022-04-18T05:33:10.955Z"
   },
   {
    "duration": 746,
    "start_time": "2022-04-18T05:33:11.109Z"
   },
   {
    "duration": 89,
    "start_time": "2022-04-18T05:33:11.856Z"
   },
   {
    "duration": 4,
    "start_time": "2022-04-18T05:33:34.297Z"
   },
   {
    "duration": 1040,
    "start_time": "2022-04-18T05:34:20.059Z"
   },
   {
    "duration": 6,
    "start_time": "2022-04-18T05:34:48.632Z"
   },
   {
    "duration": 112,
    "start_time": "2022-04-18T06:05:19.872Z"
   },
   {
    "duration": 4,
    "start_time": "2022-04-18T06:05:31.618Z"
   },
   {
    "duration": 903,
    "start_time": "2022-04-18T06:05:31.625Z"
   },
   {
    "duration": 133,
    "start_time": "2022-04-18T06:05:32.530Z"
   },
   {
    "duration": 145,
    "start_time": "2022-04-18T06:05:32.666Z"
   },
   {
    "duration": 343,
    "start_time": "2022-04-18T06:05:32.812Z"
   },
   {
    "duration": 157,
    "start_time": "2022-04-18T06:05:33.156Z"
   },
   {
    "duration": 650,
    "start_time": "2022-04-18T06:05:33.314Z"
   },
   {
    "duration": 88,
    "start_time": "2022-04-18T06:05:33.966Z"
   },
   {
    "duration": 9441,
    "start_time": "2022-04-18T06:05:34.057Z"
   },
   {
    "duration": 1691,
    "start_time": "2022-04-18T06:05:43.499Z"
   },
   {
    "duration": 130,
    "start_time": "2022-04-18T06:05:45.192Z"
   },
   {
    "duration": 24,
    "start_time": "2022-04-18T06:05:45.324Z"
   },
   {
    "duration": 2211,
    "start_time": "2022-04-18T06:05:45.349Z"
   },
   {
    "duration": 254,
    "start_time": "2022-04-18T06:05:47.562Z"
   },
   {
    "duration": 91,
    "start_time": "2022-04-18T06:05:47.818Z"
   },
   {
    "duration": 298,
    "start_time": "2022-04-18T06:05:47.911Z"
   },
   {
    "duration": 31,
    "start_time": "2022-04-18T06:05:54.051Z"
   },
   {
    "duration": 33,
    "start_time": "2022-04-18T06:06:36.431Z"
   },
   {
    "duration": 6,
    "start_time": "2022-04-18T06:09:12.269Z"
   },
   {
    "duration": 2692,
    "start_time": "2022-04-18T06:21:36.267Z"
   },
   {
    "duration": 968,
    "start_time": "2022-04-18T06:21:38.962Z"
   },
   {
    "duration": 142,
    "start_time": "2022-04-18T06:21:39.931Z"
   },
   {
    "duration": 163,
    "start_time": "2022-04-18T06:21:40.075Z"
   },
   {
    "duration": 349,
    "start_time": "2022-04-18T06:21:40.240Z"
   },
   {
    "duration": 156,
    "start_time": "2022-04-18T06:21:40.590Z"
   },
   {
    "duration": 821,
    "start_time": "2022-04-18T06:21:40.748Z"
   },
   {
    "duration": 89,
    "start_time": "2022-04-18T06:21:41.570Z"
   },
   {
    "duration": 9100,
    "start_time": "2022-04-18T06:21:41.661Z"
   },
   {
    "duration": 1732,
    "start_time": "2022-04-18T06:21:50.764Z"
   },
   {
    "duration": 137,
    "start_time": "2022-04-18T06:21:52.498Z"
   },
   {
    "duration": 24,
    "start_time": "2022-04-18T06:21:52.637Z"
   },
   {
    "duration": 2330,
    "start_time": "2022-04-18T06:21:52.663Z"
   },
   {
    "duration": 280,
    "start_time": "2022-04-18T06:21:54.995Z"
   },
   {
    "duration": 96,
    "start_time": "2022-04-18T06:21:55.277Z"
   },
   {
    "duration": 307,
    "start_time": "2022-04-18T06:21:55.375Z"
   },
   {
    "duration": 6,
    "start_time": "2022-04-18T06:21:55.684Z"
   },
   {
    "duration": 190,
    "start_time": "2022-04-18T06:21:55.692Z"
   },
   {
    "duration": 230710,
    "start_time": "2022-04-18T06:21:55.885Z"
   },
   {
    "duration": 4,
    "start_time": "2022-04-18T06:25:46.597Z"
   },
   {
    "duration": 5,
    "start_time": "2022-04-18T06:25:46.603Z"
   },
   {
    "duration": 166085,
    "start_time": "2022-04-18T06:25:46.610Z"
   },
   {
    "duration": 11,
    "start_time": "2022-04-18T06:28:32.696Z"
   },
   {
    "duration": 11581,
    "start_time": "2022-04-18T06:28:32.708Z"
   },
   {
    "duration": 168,
    "start_time": "2022-04-18T06:28:44.291Z"
   },
   {
    "duration": 0,
    "start_time": "2022-04-18T06:28:44.461Z"
   },
   {
    "duration": 0,
    "start_time": "2022-04-18T06:28:44.462Z"
   },
   {
    "duration": 0,
    "start_time": "2022-04-18T06:28:44.463Z"
   },
   {
    "duration": 161516,
    "start_time": "2022-04-18T06:35:49.066Z"
   },
   {
    "duration": 22,
    "start_time": "2022-04-18T06:39:51.231Z"
   },
   {
    "duration": 10,
    "start_time": "2022-04-18T06:40:09.882Z"
   },
   {
    "duration": 4,
    "start_time": "2022-04-18T06:40:24.732Z"
   },
   {
    "duration": 163366,
    "start_time": "2022-04-18T06:42:42.304Z"
   },
   {
    "duration": 12,
    "start_time": "2022-04-18T06:54:45.064Z"
   },
   {
    "duration": 11,
    "start_time": "2022-04-18T06:54:48.081Z"
   },
   {
    "duration": 3,
    "start_time": "2022-04-18T06:54:51.673Z"
   },
   {
    "duration": 2560,
    "start_time": "2022-04-18T06:58:45.257Z"
   },
   {
    "duration": 1067,
    "start_time": "2022-04-18T06:58:47.819Z"
   },
   {
    "duration": 322,
    "start_time": "2022-04-18T06:58:48.888Z"
   },
   {
    "duration": 304,
    "start_time": "2022-04-18T06:58:49.212Z"
   },
   {
    "duration": 758,
    "start_time": "2022-04-18T06:58:49.517Z"
   },
   {
    "duration": 145,
    "start_time": "2022-04-18T06:58:50.277Z"
   },
   {
    "duration": 777,
    "start_time": "2022-04-18T06:58:50.424Z"
   },
   {
    "duration": 84,
    "start_time": "2022-04-18T06:58:51.203Z"
   },
   {
    "duration": 11181,
    "start_time": "2022-04-18T06:58:51.289Z"
   },
   {
    "duration": 1753,
    "start_time": "2022-04-18T06:59:02.473Z"
   },
   {
    "duration": 133,
    "start_time": "2022-04-18T06:59:04.228Z"
   },
   {
    "duration": 33,
    "start_time": "2022-04-18T06:59:04.363Z"
   },
   {
    "duration": 2349,
    "start_time": "2022-04-18T06:59:04.397Z"
   },
   {
    "duration": 257,
    "start_time": "2022-04-18T06:59:06.748Z"
   },
   {
    "duration": 95,
    "start_time": "2022-04-18T06:59:07.007Z"
   },
   {
    "duration": 290,
    "start_time": "2022-04-18T06:59:07.104Z"
   },
   {
    "duration": 6,
    "start_time": "2022-04-18T06:59:07.396Z"
   },
   {
    "duration": 270,
    "start_time": "2022-04-18T06:59:07.403Z"
   },
   {
    "duration": 227771,
    "start_time": "2022-04-18T06:59:07.675Z"
   },
   {
    "duration": 4,
    "start_time": "2022-04-18T07:02:55.448Z"
   },
   {
    "duration": 5,
    "start_time": "2022-04-18T07:02:55.454Z"
   },
   {
    "duration": 167659,
    "start_time": "2022-04-18T07:02:55.461Z"
   },
   {
    "duration": 11,
    "start_time": "2022-04-18T07:05:43.121Z"
   },
   {
    "duration": 8242,
    "start_time": "2022-04-18T07:05:43.133Z"
   },
   {
    "duration": 127,
    "start_time": "2022-04-18T07:05:51.377Z"
   },
   {
    "duration": 0,
    "start_time": "2022-04-18T07:05:51.506Z"
   },
   {
    "duration": 0,
    "start_time": "2022-04-18T07:05:51.508Z"
   },
   {
    "duration": 0,
    "start_time": "2022-04-18T07:05:51.509Z"
   },
   {
    "duration": 51,
    "start_time": "2022-04-18T08:21:00.055Z"
   },
   {
    "duration": 1660,
    "start_time": "2022-04-18T08:21:03.601Z"
   },
   {
    "duration": 945,
    "start_time": "2022-04-18T08:21:05.263Z"
   },
   {
    "duration": 159,
    "start_time": "2022-04-18T08:21:06.209Z"
   },
   {
    "duration": 218,
    "start_time": "2022-04-18T08:21:07.949Z"
   },
   {
    "duration": 140,
    "start_time": "2022-04-18T08:21:21.512Z"
   },
   {
    "duration": 133,
    "start_time": "2022-04-18T08:21:56.746Z"
   },
   {
    "duration": 206,
    "start_time": "2022-04-18T08:22:08.935Z"
   },
   {
    "duration": 222,
    "start_time": "2022-04-18T08:22:13.655Z"
   },
   {
    "duration": 142,
    "start_time": "2022-04-18T08:22:18.799Z"
   },
   {
    "duration": 142,
    "start_time": "2022-04-18T08:22:30.855Z"
   },
   {
    "duration": 136,
    "start_time": "2022-04-18T08:22:39.342Z"
   },
   {
    "duration": 146,
    "start_time": "2022-04-18T08:22:53.456Z"
   },
   {
    "duration": 143,
    "start_time": "2022-04-18T08:23:06.558Z"
   },
   {
    "duration": 136,
    "start_time": "2022-04-18T08:23:11.396Z"
   },
   {
    "duration": 140,
    "start_time": "2022-04-18T08:23:22.311Z"
   },
   {
    "duration": 141,
    "start_time": "2022-04-18T08:23:26.268Z"
   },
   {
    "duration": 147,
    "start_time": "2022-04-18T08:23:30.511Z"
   },
   {
    "duration": 138,
    "start_time": "2022-04-18T08:23:34.336Z"
   },
   {
    "duration": 148,
    "start_time": "2022-04-18T08:23:53.279Z"
   },
   {
    "duration": 134,
    "start_time": "2022-04-18T08:23:57.097Z"
   },
   {
    "duration": 141,
    "start_time": "2022-04-18T08:24:05.509Z"
   },
   {
    "duration": 141,
    "start_time": "2022-04-18T08:24:19.072Z"
   },
   {
    "duration": 240,
    "start_time": "2022-04-18T08:25:18.147Z"
   },
   {
    "duration": 2612,
    "start_time": "2022-04-18T08:27:52.537Z"
   },
   {
    "duration": 15,
    "start_time": "2022-04-18T08:28:56.575Z"
   },
   {
    "duration": 1527,
    "start_time": "2022-04-18T08:30:10.219Z"
   },
   {
    "duration": 997,
    "start_time": "2022-04-18T08:30:11.748Z"
   },
   {
    "duration": 126,
    "start_time": "2022-04-18T08:30:12.747Z"
   },
   {
    "duration": 173,
    "start_time": "2022-04-18T08:30:12.875Z"
   },
   {
    "duration": 53,
    "start_time": "2022-04-18T08:31:47.661Z"
   },
   {
    "duration": 1551,
    "start_time": "2022-04-18T08:31:53.089Z"
   },
   {
    "duration": 966,
    "start_time": "2022-04-18T08:31:54.701Z"
   },
   {
    "duration": 120,
    "start_time": "2022-04-18T08:31:55.669Z"
   },
   {
    "duration": 161,
    "start_time": "2022-04-18T08:31:56.571Z"
   },
   {
    "duration": 99748,
    "start_time": "2022-04-18T08:32:05.418Z"
   },
   {
    "duration": 177672,
    "start_time": "2022-04-18T08:37:41.379Z"
   },
   {
    "duration": 169961,
    "start_time": "2022-04-18T08:41:17.722Z"
   },
   {
    "duration": 4,
    "start_time": "2022-04-18T08:44:32.793Z"
   },
   {
    "duration": 878,
    "start_time": "2022-04-18T08:44:32.858Z"
   },
   {
    "duration": 189,
    "start_time": "2022-04-18T08:44:33.738Z"
   },
   {
    "duration": 140,
    "start_time": "2022-04-18T08:44:33.929Z"
   },
   {
    "duration": 124,
    "start_time": "2022-04-18T08:46:12.150Z"
   },
   {
    "duration": 1454,
    "start_time": "2022-04-18T08:46:51.648Z"
   },
   {
    "duration": 925,
    "start_time": "2022-04-18T08:46:53.104Z"
   },
   {
    "duration": 124,
    "start_time": "2022-04-18T08:46:54.031Z"
   },
   {
    "duration": 173,
    "start_time": "2022-04-18T08:46:54.158Z"
   },
   {
    "duration": 29766,
    "start_time": "2022-04-18T08:47:11.921Z"
   },
   {
    "duration": 129,
    "start_time": "2022-04-18T08:47:41.689Z"
   },
   {
    "duration": 2849,
    "start_time": "2022-04-18T08:52:11.713Z"
   },
   {
    "duration": 135,
    "start_time": "2022-04-18T08:52:14.564Z"
   },
   {
    "duration": 107,
    "start_time": "2022-04-18T08:52:43.558Z"
   },
   {
    "duration": 58,
    "start_time": "2022-04-18T08:52:56.814Z"
   },
   {
    "duration": 121,
    "start_time": "2022-04-18T08:53:05.238Z"
   },
   {
    "duration": 57,
    "start_time": "2022-04-18T08:54:55.316Z"
   },
   {
    "duration": 69,
    "start_time": "2022-04-18T08:55:04.368Z"
   },
   {
    "duration": 69,
    "start_time": "2022-04-18T08:55:55.829Z"
   },
   {
    "duration": 113,
    "start_time": "2022-04-18T08:56:06.210Z"
   },
   {
    "duration": 121,
    "start_time": "2022-04-18T08:56:13.923Z"
   },
   {
    "duration": 301,
    "start_time": "2022-04-18T08:57:18.654Z"
   },
   {
    "duration": 136,
    "start_time": "2022-04-18T09:02:40.915Z"
   },
   {
    "duration": 644,
    "start_time": "2022-04-18T09:02:48.955Z"
   },
   {
    "duration": 485,
    "start_time": "2022-04-18T09:08:04.872Z"
   },
   {
    "duration": 494,
    "start_time": "2022-04-18T09:09:49.805Z"
   },
   {
    "duration": 427,
    "start_time": "2022-04-18T09:11:14.015Z"
   },
   {
    "duration": 2657,
    "start_time": "2022-04-18T09:13:43.644Z"
   },
   {
    "duration": 491,
    "start_time": "2022-04-18T09:14:11.952Z"
   },
   {
    "duration": 396,
    "start_time": "2022-04-18T09:14:18.922Z"
   },
   {
    "duration": 466,
    "start_time": "2022-04-18T09:14:25.349Z"
   },
   {
    "duration": 366,
    "start_time": "2022-04-18T09:15:01.958Z"
   },
   {
    "duration": 1514,
    "start_time": "2022-04-18T09:35:26.884Z"
   },
   {
    "duration": 111,
    "start_time": "2022-04-18T09:36:01.181Z"
   },
   {
    "duration": 4,
    "start_time": "2022-04-18T09:36:05.919Z"
   },
   {
    "duration": 961,
    "start_time": "2022-04-18T09:36:05.982Z"
   },
   {
    "duration": 124,
    "start_time": "2022-04-18T09:36:06.945Z"
   },
   {
    "duration": 173,
    "start_time": "2022-04-18T09:36:07.070Z"
   },
   {
    "duration": 1862,
    "start_time": "2022-04-18T09:36:07.245Z"
   },
   {
    "duration": 158,
    "start_time": "2022-04-18T09:36:09.109Z"
   },
   {
    "duration": 19702,
    "start_time": "2022-04-18T09:36:09.268Z"
   },
   {
    "duration": 93,
    "start_time": "2022-04-18T09:36:28.972Z"
   },
   {
    "duration": 7584,
    "start_time": "2022-04-18T09:36:29.067Z"
   },
   {
    "duration": 1540,
    "start_time": "2022-04-18T09:36:36.652Z"
   },
   {
    "duration": 109,
    "start_time": "2022-04-18T09:36:38.194Z"
   },
   {
    "duration": 19,
    "start_time": "2022-04-18T09:36:38.304Z"
   },
   {
    "duration": 54,
    "start_time": "2022-04-18T09:36:38.325Z"
   },
   {
    "duration": 0,
    "start_time": "2022-04-18T09:36:38.381Z"
   },
   {
    "duration": 0,
    "start_time": "2022-04-18T09:36:38.382Z"
   },
   {
    "duration": 597,
    "start_time": "2022-04-18T09:52:45.107Z"
   },
   {
    "duration": 15,
    "start_time": "2022-04-18T09:53:06.446Z"
   },
   {
    "duration": 13,
    "start_time": "2022-04-18T09:53:09.782Z"
   },
   {
    "duration": 4,
    "start_time": "2022-04-18T09:53:27.148Z"
   },
   {
    "duration": 4,
    "start_time": "2022-04-18T09:53:32.805Z"
   },
   {
    "duration": 11,
    "start_time": "2022-04-18T09:53:40.203Z"
   },
   {
    "duration": 1662,
    "start_time": "2022-04-18T09:53:49.061Z"
   },
   {
    "duration": 1384,
    "start_time": "2022-04-18T09:54:03.269Z"
   },
   {
    "duration": 13,
    "start_time": "2022-04-18T09:54:33.267Z"
   },
   {
    "duration": 4,
    "start_time": "2022-04-18T09:54:37.788Z"
   },
   {
    "duration": 838,
    "start_time": "2022-04-18T09:54:37.819Z"
   },
   {
    "duration": 115,
    "start_time": "2022-04-18T09:54:38.659Z"
   },
   {
    "duration": 146,
    "start_time": "2022-04-18T09:54:38.776Z"
   },
   {
    "duration": 1846,
    "start_time": "2022-04-18T09:54:38.925Z"
   },
   {
    "duration": 148,
    "start_time": "2022-04-18T09:54:40.773Z"
   },
   {
    "duration": 19195,
    "start_time": "2022-04-18T09:54:40.922Z"
   },
   {
    "duration": 94,
    "start_time": "2022-04-18T09:55:00.119Z"
   },
   {
    "duration": 7913,
    "start_time": "2022-04-18T09:55:00.215Z"
   },
   {
    "duration": 1589,
    "start_time": "2022-04-18T09:55:08.129Z"
   },
   {
    "duration": 130,
    "start_time": "2022-04-18T09:55:09.720Z"
   },
   {
    "duration": 27,
    "start_time": "2022-04-18T09:55:09.851Z"
   },
   {
    "duration": 650,
    "start_time": "2022-04-18T09:55:09.879Z"
   },
   {
    "duration": 0,
    "start_time": "2022-04-18T09:55:10.531Z"
   },
   {
    "duration": 723,
    "start_time": "2022-04-18T09:56:21.837Z"
   },
   {
    "duration": 615,
    "start_time": "2022-04-18T09:56:30.317Z"
   },
   {
    "duration": 18,
    "start_time": "2022-04-18T09:56:37.595Z"
   },
   {
    "duration": 9,
    "start_time": "2022-04-18T09:56:47.345Z"
   },
   {
    "duration": 4,
    "start_time": "2022-04-18T09:56:50.429Z"
   },
   {
    "duration": 1638,
    "start_time": "2022-04-18T09:57:07.198Z"
   },
   {
    "duration": 7113,
    "start_time": "2022-04-18T10:02:20.943Z"
   },
   {
    "duration": 0,
    "start_time": "2022-04-18T10:02:28.058Z"
   },
   {
    "duration": 4,
    "start_time": "2022-04-18T10:02:35.884Z"
   },
   {
    "duration": 947,
    "start_time": "2022-04-18T10:02:35.899Z"
   },
   {
    "duration": 113,
    "start_time": "2022-04-18T10:02:36.848Z"
   },
   {
    "duration": 156,
    "start_time": "2022-04-18T10:02:36.963Z"
   },
   {
    "duration": 1764,
    "start_time": "2022-04-18T10:02:37.121Z"
   },
   {
    "duration": 158,
    "start_time": "2022-04-18T10:02:38.886Z"
   },
   {
    "duration": 18973,
    "start_time": "2022-04-18T10:02:39.045Z"
   },
   {
    "duration": 92,
    "start_time": "2022-04-18T10:02:58.020Z"
   },
   {
    "duration": 7936,
    "start_time": "2022-04-18T10:02:58.114Z"
   },
   {
    "duration": 1580,
    "start_time": "2022-04-18T10:03:06.051Z"
   },
   {
    "duration": 107,
    "start_time": "2022-04-18T10:03:07.634Z"
   },
   {
    "duration": 25,
    "start_time": "2022-04-18T10:03:07.743Z"
   },
   {
    "duration": 1551,
    "start_time": "2022-04-18T10:03:23.419Z"
   },
   {
    "duration": 951,
    "start_time": "2022-04-18T10:03:24.972Z"
   },
   {
    "duration": 119,
    "start_time": "2022-04-18T10:03:25.925Z"
   },
   {
    "duration": 189,
    "start_time": "2022-04-18T10:03:26.047Z"
   },
   {
    "duration": 1825,
    "start_time": "2022-04-18T10:03:26.239Z"
   },
   {
    "duration": 157,
    "start_time": "2022-04-18T10:03:28.066Z"
   },
   {
    "duration": 18891,
    "start_time": "2022-04-18T10:03:28.225Z"
   },
   {
    "duration": 98,
    "start_time": "2022-04-18T10:03:47.117Z"
   },
   {
    "duration": 7520,
    "start_time": "2022-04-18T10:03:47.216Z"
   },
   {
    "duration": 1516,
    "start_time": "2022-04-18T10:03:54.738Z"
   },
   {
    "duration": 106,
    "start_time": "2022-04-18T10:03:56.255Z"
   },
   {
    "duration": 18,
    "start_time": "2022-04-18T10:03:56.362Z"
   },
   {
    "duration": 0,
    "start_time": "2022-04-18T10:04:10.132Z"
   },
   {
    "duration": 15,
    "start_time": "2022-04-18T10:04:12.540Z"
   },
   {
    "duration": 9,
    "start_time": "2022-04-18T10:04:24.946Z"
   },
   {
    "duration": 4,
    "start_time": "2022-04-18T10:04:28.298Z"
   },
   {
    "duration": 9,
    "start_time": "2022-04-18T10:04:36.958Z"
   },
   {
    "duration": 13841,
    "start_time": "2022-04-18T10:05:08.068Z"
   },
   {
    "duration": 0,
    "start_time": "2022-04-18T10:05:21.910Z"
   },
   {
    "duration": 13791,
    "start_time": "2022-04-18T10:06:54.041Z"
   },
   {
    "duration": 2758,
    "start_time": "2022-04-18T10:07:21.628Z"
   },
   {
    "duration": 13,
    "start_time": "2022-04-18T10:07:24.676Z"
   },
   {
    "duration": 10,
    "start_time": "2022-04-18T10:08:23.264Z"
   },
   {
    "duration": 13293,
    "start_time": "2022-04-18T10:08:34.300Z"
   },
   {
    "duration": 12,
    "start_time": "2022-04-18T10:08:47.596Z"
   },
   {
    "duration": 11434,
    "start_time": "2022-04-18T10:10:36.844Z"
   },
   {
    "duration": 9,
    "start_time": "2022-04-18T10:10:48.280Z"
   },
   {
    "duration": 9,
    "start_time": "2022-04-18T10:14:57.331Z"
   },
   {
    "duration": 697,
    "start_time": "2022-04-18T10:14:59.004Z"
   },
   {
    "duration": 124,
    "start_time": "2022-04-18T10:15:03.335Z"
   },
   {
    "duration": 652,
    "start_time": "2022-04-18T10:16:18.826Z"
   },
   {
    "duration": 714,
    "start_time": "2022-04-18T10:17:23.689Z"
   },
   {
    "duration": 15,
    "start_time": "2022-04-18T10:17:28.067Z"
   },
   {
    "duration": 15,
    "start_time": "2022-04-18T10:17:41.763Z"
   },
   {
    "duration": 4,
    "start_time": "2022-04-18T10:17:45.375Z"
   },
   {
    "duration": 846,
    "start_time": "2022-04-18T10:17:45.419Z"
   },
   {
    "duration": 108,
    "start_time": "2022-04-18T10:17:46.266Z"
   },
   {
    "duration": 147,
    "start_time": "2022-04-18T10:17:46.375Z"
   },
   {
    "duration": 1739,
    "start_time": "2022-04-18T10:17:46.524Z"
   },
   {
    "duration": 153,
    "start_time": "2022-04-18T10:17:48.265Z"
   },
   {
    "duration": 19671,
    "start_time": "2022-04-18T10:17:48.420Z"
   },
   {
    "duration": 84,
    "start_time": "2022-04-18T10:18:08.092Z"
   },
   {
    "duration": 7727,
    "start_time": "2022-04-18T10:18:08.177Z"
   },
   {
    "duration": 1593,
    "start_time": "2022-04-18T10:18:15.906Z"
   },
   {
    "duration": 118,
    "start_time": "2022-04-18T10:18:17.501Z"
   },
   {
    "duration": 25,
    "start_time": "2022-04-18T10:18:17.620Z"
   },
   {
    "duration": 590,
    "start_time": "2022-04-18T10:18:45.818Z"
   },
   {
    "duration": 235,
    "start_time": "2022-04-18T10:20:04.585Z"
   },
   {
    "duration": 407,
    "start_time": "2022-04-18T10:20:39.830Z"
   },
   {
    "duration": 216,
    "start_time": "2022-04-18T10:21:23.940Z"
   },
   {
    "duration": 144,
    "start_time": "2022-04-18T10:23:01.082Z"
   },
   {
    "duration": 158,
    "start_time": "2022-04-18T10:23:10.181Z"
   },
   {
    "duration": 100,
    "start_time": "2022-04-18T10:27:08.816Z"
   },
   {
    "duration": 5,
    "start_time": "2022-04-18T10:27:20.248Z"
   },
   {
    "duration": 94,
    "start_time": "2022-04-18T10:27:22.622Z"
   },
   {
    "duration": 4,
    "start_time": "2022-04-18T10:28:16.714Z"
   },
   {
    "duration": 26460,
    "start_time": "2022-04-18T10:28:26.451Z"
   },
   {
    "duration": 3,
    "start_time": "2022-04-18T10:33:00.731Z"
   },
   {
    "duration": 105,
    "start_time": "2022-04-18T10:34:30.403Z"
   },
   {
    "duration": 6,
    "start_time": "2022-04-18T10:34:43.059Z"
   },
   {
    "duration": 6,
    "start_time": "2022-04-18T10:35:01.199Z"
   },
   {
    "duration": 7,
    "start_time": "2022-04-18T10:35:23.498Z"
   },
   {
    "duration": 28119,
    "start_time": "2022-04-18T10:35:39.491Z"
   },
   {
    "duration": 19769,
    "start_time": "2022-04-18T10:36:59.639Z"
   },
   {
    "duration": 32644,
    "start_time": "2022-04-18T10:45:39.070Z"
   },
   {
    "duration": 1506,
    "start_time": "2022-04-18T10:51:02.820Z"
   },
   {
    "duration": 958,
    "start_time": "2022-04-18T10:51:04.327Z"
   },
   {
    "duration": 127,
    "start_time": "2022-04-18T10:51:05.286Z"
   },
   {
    "duration": 160,
    "start_time": "2022-04-18T10:51:05.415Z"
   },
   {
    "duration": 1915,
    "start_time": "2022-04-18T10:51:05.577Z"
   },
   {
    "duration": 153,
    "start_time": "2022-04-18T10:51:07.493Z"
   },
   {
    "duration": 20424,
    "start_time": "2022-04-18T10:51:07.647Z"
   },
   {
    "duration": 90,
    "start_time": "2022-04-18T10:51:28.073Z"
   },
   {
    "duration": 8386,
    "start_time": "2022-04-18T10:51:28.165Z"
   },
   {
    "duration": 1706,
    "start_time": "2022-04-18T10:51:36.554Z"
   },
   {
    "duration": 113,
    "start_time": "2022-04-18T10:51:38.262Z"
   },
   {
    "duration": 19,
    "start_time": "2022-04-18T10:51:38.377Z"
   },
   {
    "duration": 695,
    "start_time": "2022-04-18T10:51:38.398Z"
   },
   {
    "duration": 271,
    "start_time": "2022-04-18T10:51:39.094Z"
   },
   {
    "duration": 417,
    "start_time": "2022-04-18T10:51:39.367Z"
   },
   {
    "duration": 252,
    "start_time": "2022-04-18T10:51:39.786Z"
   },
   {
    "duration": 3,
    "start_time": "2022-04-18T10:51:56.057Z"
   },
   {
    "duration": 7,
    "start_time": "2022-04-18T10:51:59.187Z"
   },
   {
    "duration": 4,
    "start_time": "2022-04-18T10:52:21.663Z"
   },
   {
    "duration": 7,
    "start_time": "2022-04-18T10:52:34.749Z"
   },
   {
    "duration": 4,
    "start_time": "2022-04-18T10:52:37.236Z"
   },
   {
    "duration": 4,
    "start_time": "2022-04-18T10:52:54.056Z"
   },
   {
    "duration": 4,
    "start_time": "2022-04-18T10:53:10.057Z"
   },
   {
    "duration": 4,
    "start_time": "2022-04-18T10:53:27.380Z"
   },
   {
    "duration": 21071,
    "start_time": "2022-04-18T10:54:45.738Z"
   },
   {
    "duration": 6,
    "start_time": "2022-04-18T10:55:06.812Z"
   },
   {
    "duration": 26209,
    "start_time": "2022-04-18T10:55:35.605Z"
   },
   {
    "duration": 91,
    "start_time": "2022-04-18T10:56:01.817Z"
   },
   {
    "duration": 963,
    "start_time": "2022-04-18T10:56:01.910Z"
   },
   {
    "duration": 117,
    "start_time": "2022-04-18T10:56:02.875Z"
   },
   {
    "duration": 148,
    "start_time": "2022-04-18T10:56:02.994Z"
   },
   {
    "duration": 1821,
    "start_time": "2022-04-18T10:56:03.144Z"
   },
   {
    "duration": 149,
    "start_time": "2022-04-18T10:56:04.967Z"
   },
   {
    "duration": 18773,
    "start_time": "2022-04-18T10:56:05.118Z"
   },
   {
    "duration": 89,
    "start_time": "2022-04-18T10:56:23.892Z"
   },
   {
    "duration": 8061,
    "start_time": "2022-04-18T10:56:23.985Z"
   },
   {
    "duration": 1567,
    "start_time": "2022-04-18T10:56:32.048Z"
   },
   {
    "duration": 113,
    "start_time": "2022-04-18T10:56:33.616Z"
   },
   {
    "duration": 25,
    "start_time": "2022-04-18T10:56:33.730Z"
   },
   {
    "duration": 610,
    "start_time": "2022-04-18T10:56:33.757Z"
   },
   {
    "duration": 261,
    "start_time": "2022-04-18T10:56:34.369Z"
   },
   {
    "duration": 384,
    "start_time": "2022-04-18T10:56:34.631Z"
   },
   {
    "duration": 225,
    "start_time": "2022-04-18T10:56:35.017Z"
   },
   {
    "duration": 3,
    "start_time": "2022-04-18T10:56:35.244Z"
   },
   {
    "duration": 12,
    "start_time": "2022-04-18T10:56:35.249Z"
   },
   {
    "duration": 25878,
    "start_time": "2022-04-18T10:56:48.545Z"
   },
   {
    "duration": 5,
    "start_time": "2022-04-18T10:57:17.856Z"
   },
   {
    "duration": 4,
    "start_time": "2022-04-18T10:57:25.656Z"
   },
   {
    "duration": 5,
    "start_time": "2022-04-18T10:57:34.877Z"
   },
   {
    "duration": 1487,
    "start_time": "2022-04-18T11:58:58.332Z"
   },
   {
    "duration": 1016,
    "start_time": "2022-04-18T11:58:59.821Z"
   },
   {
    "duration": 126,
    "start_time": "2022-04-18T11:59:00.838Z"
   },
   {
    "duration": 167,
    "start_time": "2022-04-18T11:59:00.965Z"
   },
   {
    "duration": 1882,
    "start_time": "2022-04-18T11:59:01.135Z"
   },
   {
    "duration": 156,
    "start_time": "2022-04-18T11:59:03.018Z"
   },
   {
    "duration": 20502,
    "start_time": "2022-04-18T11:59:03.177Z"
   },
   {
    "duration": 100,
    "start_time": "2022-04-18T11:59:23.681Z"
   },
   {
    "duration": 8190,
    "start_time": "2022-04-18T11:59:23.783Z"
   },
   {
    "duration": 1631,
    "start_time": "2022-04-18T11:59:31.975Z"
   },
   {
    "duration": 124,
    "start_time": "2022-04-18T11:59:33.608Z"
   },
   {
    "duration": 19,
    "start_time": "2022-04-18T11:59:33.733Z"
   },
   {
    "duration": 809,
    "start_time": "2022-04-18T11:59:33.754Z"
   },
   {
    "duration": 270,
    "start_time": "2022-04-18T11:59:34.565Z"
   },
   {
    "duration": 409,
    "start_time": "2022-04-18T11:59:34.837Z"
   },
   {
    "duration": 237,
    "start_time": "2022-04-18T11:59:35.247Z"
   },
   {
    "duration": 3,
    "start_time": "2022-04-18T11:59:35.485Z"
   },
   {
    "duration": 20,
    "start_time": "2022-04-18T11:59:35.490Z"
   },
   {
    "duration": 35008,
    "start_time": "2022-04-18T11:59:35.512Z"
   },
   {
    "duration": 211953,
    "start_time": "2022-04-18T12:00:10.522Z"
   },
   {
    "duration": 4,
    "start_time": "2022-04-18T12:03:42.477Z"
   },
   {
    "duration": 6,
    "start_time": "2022-04-18T12:03:42.483Z"
   },
   {
    "duration": 144397,
    "start_time": "2022-04-18T12:03:42.491Z"
   },
   {
    "duration": 26,
    "start_time": "2022-04-18T12:06:06.890Z"
   },
   {
    "duration": 39510,
    "start_time": "2022-04-18T12:06:06.918Z"
   },
   {
    "duration": 168,
    "start_time": "2022-04-18T12:06:46.431Z"
   },
   {
    "duration": 0,
    "start_time": "2022-04-18T12:06:46.601Z"
   },
   {
    "duration": 0,
    "start_time": "2022-04-18T12:06:46.603Z"
   },
   {
    "duration": 0,
    "start_time": "2022-04-18T12:06:46.613Z"
   },
   {
    "duration": 0,
    "start_time": "2022-04-18T12:06:46.615Z"
   },
   {
    "duration": 17,
    "start_time": "2022-04-18T12:09:05.289Z"
   },
   {
    "duration": 1439,
    "start_time": "2022-04-18T12:09:37.972Z"
   },
   {
    "duration": 930,
    "start_time": "2022-04-18T12:09:39.414Z"
   },
   {
    "duration": 117,
    "start_time": "2022-04-18T12:09:40.346Z"
   },
   {
    "duration": 151,
    "start_time": "2022-04-18T12:09:40.465Z"
   },
   {
    "duration": 1855,
    "start_time": "2022-04-18T12:09:40.617Z"
   },
   {
    "duration": 149,
    "start_time": "2022-04-18T12:09:42.474Z"
   },
   {
    "duration": 20124,
    "start_time": "2022-04-18T12:09:42.625Z"
   },
   {
    "duration": 95,
    "start_time": "2022-04-18T12:10:02.751Z"
   },
   {
    "duration": 8169,
    "start_time": "2022-04-18T12:10:02.848Z"
   },
   {
    "duration": 1648,
    "start_time": "2022-04-18T12:10:11.020Z"
   },
   {
    "duration": 116,
    "start_time": "2022-04-18T12:10:12.670Z"
   },
   {
    "duration": 29,
    "start_time": "2022-04-18T12:10:12.788Z"
   },
   {
    "duration": 769,
    "start_time": "2022-04-18T12:10:12.819Z"
   },
   {
    "duration": 272,
    "start_time": "2022-04-18T12:10:13.590Z"
   },
   {
    "duration": 404,
    "start_time": "2022-04-18T12:10:13.864Z"
   },
   {
    "duration": 245,
    "start_time": "2022-04-18T12:10:14.270Z"
   },
   {
    "duration": 3,
    "start_time": "2022-04-18T12:10:14.516Z"
   },
   {
    "duration": 8,
    "start_time": "2022-04-18T12:10:14.521Z"
   },
   {
    "duration": 19396,
    "start_time": "2022-04-18T12:10:14.531Z"
   },
   {
    "duration": 201793,
    "start_time": "2022-04-18T12:10:40.296Z"
   },
   {
    "duration": 3,
    "start_time": "2022-04-18T12:14:20.268Z"
   },
   {
    "duration": 275489,
    "start_time": "2022-04-18T12:15:01.729Z"
   },
   {
    "duration": 137478,
    "start_time": "2022-04-18T12:24:28.078Z"
   },
   {
    "duration": 4,
    "start_time": "2022-04-18T12:27:39.706Z"
   },
   {
    "duration": 101,
    "start_time": "2022-04-18T12:27:50.214Z"
   },
   {
    "duration": 4,
    "start_time": "2022-04-18T12:28:00.586Z"
   },
   {
    "duration": 10,
    "start_time": "2022-04-18T12:30:14.208Z"
   },
   {
    "duration": 9,
    "start_time": "2022-04-18T12:30:17.949Z"
   },
   {
    "duration": 9,
    "start_time": "2022-04-18T12:30:24.712Z"
   },
   {
    "duration": 4,
    "start_time": "2022-04-18T12:30:27.317Z"
   },
   {
    "duration": 3,
    "start_time": "2022-04-18T12:33:54.777Z"
   },
   {
    "duration": 6101,
    "start_time": "2022-04-18T12:34:46.124Z"
   },
   {
    "duration": 11,
    "start_time": "2022-04-18T12:35:46.210Z"
   },
   {
    "duration": 4,
    "start_time": "2022-04-18T12:36:43.877Z"
   },
   {
    "duration": 4,
    "start_time": "2022-04-18T12:37:03.328Z"
   },
   {
    "duration": 28870,
    "start_time": "2022-04-18T12:37:16.638Z"
   },
   {
    "duration": 5,
    "start_time": "2022-04-18T12:37:45.510Z"
   },
   {
    "duration": 5,
    "start_time": "2022-04-18T12:38:10.926Z"
   },
   {
    "duration": 4,
    "start_time": "2022-04-18T12:38:37.212Z"
   },
   {
    "duration": 6,
    "start_time": "2022-04-18T12:39:35.969Z"
   },
   {
    "duration": 6525,
    "start_time": "2022-04-18T12:40:03.093Z"
   },
   {
    "duration": 7525,
    "start_time": "2022-04-18T12:40:39.687Z"
   },
   {
    "duration": 7247,
    "start_time": "2022-04-18T12:41:13.462Z"
   },
   {
    "duration": 20014,
    "start_time": "2022-04-18T12:42:13.015Z"
   },
   {
    "duration": 17734,
    "start_time": "2022-04-18T12:42:42.374Z"
   },
   {
    "duration": 6518,
    "start_time": "2022-04-18T12:43:11.305Z"
   },
   {
    "duration": 7313,
    "start_time": "2022-04-18T12:43:23.699Z"
   },
   {
    "duration": 6131,
    "start_time": "2022-04-18T12:43:31.901Z"
   },
   {
    "duration": 2355,
    "start_time": "2022-04-18T16:41:25.172Z"
   },
   {
    "duration": 1294,
    "start_time": "2022-04-18T16:41:27.530Z"
   },
   {
    "duration": 174,
    "start_time": "2022-04-18T16:41:28.826Z"
   },
   {
    "duration": 295,
    "start_time": "2022-04-18T16:41:29.003Z"
   },
   {
    "duration": 2467,
    "start_time": "2022-04-18T16:41:29.300Z"
   },
   {
    "duration": 235,
    "start_time": "2022-04-18T16:41:31.770Z"
   },
   {
    "duration": 25357,
    "start_time": "2022-04-18T16:41:32.007Z"
   },
   {
    "duration": 115,
    "start_time": "2022-04-18T16:41:57.366Z"
   },
   {
    "duration": 14816,
    "start_time": "2022-04-18T16:41:57.484Z"
   },
   {
    "duration": 2775,
    "start_time": "2022-04-18T16:42:12.303Z"
   },
   {
    "duration": 275,
    "start_time": "2022-04-18T16:42:15.083Z"
   },
   {
    "duration": 37,
    "start_time": "2022-04-18T16:42:15.361Z"
   },
   {
    "duration": 1241,
    "start_time": "2022-04-18T16:42:15.401Z"
   },
   {
    "duration": 351,
    "start_time": "2022-04-18T16:42:16.645Z"
   },
   {
    "duration": 557,
    "start_time": "2022-04-18T16:42:16.998Z"
   },
   {
    "duration": 360,
    "start_time": "2022-04-18T16:42:17.558Z"
   },
   {
    "duration": 4,
    "start_time": "2022-04-18T16:42:17.921Z"
   },
   {
    "duration": 15,
    "start_time": "2022-04-18T16:42:17.927Z"
   },
   {
    "duration": 34844,
    "start_time": "2022-04-18T16:42:17.944Z"
   },
   {
    "duration": 515057,
    "start_time": "2022-04-18T16:42:52.791Z"
   },
   {
    "duration": 5,
    "start_time": "2022-04-18T16:51:27.850Z"
   },
   {
    "duration": 25,
    "start_time": "2022-04-18T16:51:27.858Z"
   },
   {
    "duration": 0,
    "start_time": "2022-04-18T16:51:27.886Z"
   },
   {
    "duration": 5,
    "start_time": "2022-04-18T16:53:00.700Z"
   },
   {
    "duration": 701016,
    "start_time": "2022-04-18T16:53:05.554Z"
   },
   {
    "duration": 174,
    "start_time": "2022-04-18T17:07:30.002Z"
   },
   {
    "duration": 358151,
    "start_time": "2022-04-18T17:08:32.338Z"
   },
   {
    "duration": 5,
    "start_time": "2022-04-18T17:15:25.552Z"
   },
   {
    "duration": 19,
    "start_time": "2022-04-18T17:17:54.522Z"
   },
   {
    "duration": 17,
    "start_time": "2022-04-18T17:19:56.609Z"
   },
   {
    "duration": 5,
    "start_time": "2022-04-18T17:20:24.365Z"
   },
   {
    "duration": 6,
    "start_time": "2022-04-18T17:20:37.058Z"
   },
   {
    "duration": 17,
    "start_time": "2022-04-18T17:21:39.894Z"
   },
   {
    "duration": 8,
    "start_time": "2022-04-18T17:22:15.425Z"
   },
   {
    "duration": 12,
    "start_time": "2022-04-18T17:24:03.686Z"
   },
   {
    "duration": 25,
    "start_time": "2022-04-18T17:24:11.759Z"
   },
   {
    "duration": 21,
    "start_time": "2022-04-18T17:24:25.472Z"
   },
   {
    "duration": 27,
    "start_time": "2022-04-18T17:24:48.962Z"
   },
   {
    "duration": 27,
    "start_time": "2022-04-18T17:24:57.109Z"
   },
   {
    "duration": 18,
    "start_time": "2022-04-18T17:26:16.322Z"
   },
   {
    "duration": 12,
    "start_time": "2022-04-18T17:26:33.868Z"
   },
   {
    "duration": 5845,
    "start_time": "2022-04-18T17:27:22.145Z"
   },
   {
    "duration": 12,
    "start_time": "2022-04-18T17:27:34.225Z"
   },
   {
    "duration": 24,
    "start_time": "2022-04-18T17:28:13.332Z"
   },
   {
    "duration": 296424,
    "start_time": "2022-04-18T17:32:21.889Z"
   },
   {
    "duration": 390223,
    "start_time": "2022-04-18T17:37:22.373Z"
   },
   {
    "duration": 6,
    "start_time": "2022-04-18T17:43:52.599Z"
   },
   {
    "duration": 4,
    "start_time": "2022-04-18T17:46:19.758Z"
   },
   {
    "duration": 29847,
    "start_time": "2022-04-18T17:47:58.168Z"
   },
   {
    "duration": 19,
    "start_time": "2022-04-18T17:48:29.792Z"
   },
   {
    "duration": 190862,
    "start_time": "2022-04-18T17:49:19.260Z"
   },
   {
    "duration": 5,
    "start_time": "2022-04-18T17:52:30.643Z"
   },
   {
    "duration": 173874,
    "start_time": "2022-04-18T17:52:35.341Z"
   },
   {
    "duration": 6,
    "start_time": "2022-04-18T17:55:30.792Z"
   },
   {
    "duration": 615139,
    "start_time": "2022-04-18T17:55:35.497Z"
   },
   {
    "duration": 0,
    "start_time": "2022-04-18T18:05:50.640Z"
   },
   {
    "duration": 5,
    "start_time": "2022-04-18T18:06:04.346Z"
   },
   {
    "duration": 2063,
    "start_time": "2022-04-18T18:47:49.886Z"
   },
   {
    "duration": 1312,
    "start_time": "2022-04-18T18:47:51.951Z"
   },
   {
    "duration": 179,
    "start_time": "2022-04-18T18:47:53.266Z"
   },
   {
    "duration": 292,
    "start_time": "2022-04-18T18:47:53.449Z"
   },
   {
    "duration": 2598,
    "start_time": "2022-04-18T18:47:53.743Z"
   },
   {
    "duration": 248,
    "start_time": "2022-04-18T18:47:56.344Z"
   },
   {
    "duration": 25763,
    "start_time": "2022-04-18T18:47:56.595Z"
   },
   {
    "duration": 129,
    "start_time": "2022-04-18T18:48:22.361Z"
   },
   {
    "duration": 15134,
    "start_time": "2022-04-18T18:48:22.493Z"
   },
   {
    "duration": 2572,
    "start_time": "2022-04-18T18:48:37.630Z"
   },
   {
    "duration": 179,
    "start_time": "2022-04-18T18:48:40.204Z"
   },
   {
    "duration": 27,
    "start_time": "2022-04-18T18:48:40.386Z"
   },
   {
    "duration": 1199,
    "start_time": "2022-04-18T18:48:40.415Z"
   },
   {
    "duration": 362,
    "start_time": "2022-04-18T18:48:41.616Z"
   },
   {
    "duration": 532,
    "start_time": "2022-04-18T18:48:41.982Z"
   },
   {
    "duration": 385,
    "start_time": "2022-04-18T18:48:42.516Z"
   },
   {
    "duration": 4,
    "start_time": "2022-04-18T18:48:42.903Z"
   },
   {
    "duration": 12,
    "start_time": "2022-04-18T18:48:42.909Z"
   },
   {
    "duration": 27060,
    "start_time": "2022-04-18T18:48:42.923Z"
   },
   {
    "duration": 511966,
    "start_time": "2022-04-18T18:49:09.987Z"
   },
   {
    "duration": 5,
    "start_time": "2022-04-18T18:57:41.955Z"
   },
   {
    "duration": 695960,
    "start_time": "2022-04-18T18:57:41.963Z"
   },
   {
    "duration": 371803,
    "start_time": "2022-04-18T19:09:17.927Z"
   },
   {
    "duration": 2812,
    "start_time": "2022-04-18T19:17:04.689Z"
   },
   {
    "duration": 1629,
    "start_time": "2022-04-18T19:17:07.504Z"
   },
   {
    "duration": 164,
    "start_time": "2022-04-18T19:17:09.135Z"
   },
   {
    "duration": 285,
    "start_time": "2022-04-18T19:17:09.302Z"
   },
   {
    "duration": 2596,
    "start_time": "2022-04-18T19:17:09.590Z"
   },
   {
    "duration": 253,
    "start_time": "2022-04-18T19:17:12.188Z"
   },
   {
    "duration": 28873,
    "start_time": "2022-04-18T19:17:12.444Z"
   },
   {
    "duration": 129,
    "start_time": "2022-04-18T19:17:41.319Z"
   },
   {
    "duration": 15702,
    "start_time": "2022-04-18T19:17:41.452Z"
   },
   {
    "duration": 2542,
    "start_time": "2022-04-18T19:17:57.157Z"
   },
   {
    "duration": 180,
    "start_time": "2022-04-18T19:17:59.701Z"
   },
   {
    "duration": 27,
    "start_time": "2022-04-18T19:17:59.884Z"
   },
   {
    "duration": 1344,
    "start_time": "2022-04-18T19:17:59.917Z"
   },
   {
    "duration": 378,
    "start_time": "2022-04-18T19:18:01.266Z"
   },
   {
    "duration": 541,
    "start_time": "2022-04-18T19:18:01.646Z"
   },
   {
    "duration": 382,
    "start_time": "2022-04-18T19:18:02.190Z"
   },
   {
    "duration": 5,
    "start_time": "2022-04-18T19:18:02.582Z"
   },
   {
    "duration": 17,
    "start_time": "2022-04-18T19:18:02.589Z"
   },
   {
    "duration": 44277,
    "start_time": "2022-04-18T19:18:02.609Z"
   },
   {
    "duration": 526327,
    "start_time": "2022-04-18T19:18:46.889Z"
   },
   {
    "duration": 8,
    "start_time": "2022-04-18T19:27:33.219Z"
   },
   {
    "duration": 363457,
    "start_time": "2022-04-18T19:27:33.229Z"
   },
   {
    "duration": 343326,
    "start_time": "2022-04-18T19:33:36.689Z"
   },
   {
    "duration": 9,
    "start_time": "2022-04-18T19:39:20.082Z"
   },
   {
    "duration": 207,
    "start_time": "2022-04-18T19:39:20.094Z"
   },
   {
    "duration": 0,
    "start_time": "2022-04-18T19:39:20.304Z"
   },
   {
    "duration": 54594,
    "start_time": "2022-04-18T19:41:04.600Z"
   },
   {
    "duration": 11003,
    "start_time": "2022-04-18T19:42:04.099Z"
   },
   {
    "duration": 388317,
    "start_time": "2022-04-18T19:42:39.423Z"
   },
   {
    "duration": 8,
    "start_time": "2022-04-18T19:50:04.649Z"
   },
   {
    "duration": 9,
    "start_time": "2022-04-18T19:50:13.703Z"
   },
   {
    "duration": 26,
    "start_time": "2022-04-18T19:50:22.984Z"
   },
   {
    "duration": 18,
    "start_time": "2022-04-18T19:51:13.196Z"
   },
   {
    "duration": 24,
    "start_time": "2022-04-18T19:51:22.416Z"
   },
   {
    "duration": 18,
    "start_time": "2022-04-18T19:51:53.455Z"
   },
   {
    "duration": 9,
    "start_time": "2022-04-18T19:53:07.686Z"
   },
   {
    "duration": 20,
    "start_time": "2022-04-18T19:53:22.101Z"
   },
   {
    "duration": 18,
    "start_time": "2022-04-18T19:53:30.401Z"
   },
   {
    "duration": 55,
    "start_time": "2022-06-01T09:54:58.009Z"
   },
   {
    "duration": 1673,
    "start_time": "2022-06-01T09:55:01.293Z"
   },
   {
    "duration": 1213,
    "start_time": "2022-06-01T09:55:12.522Z"
   },
   {
    "duration": 989,
    "start_time": "2022-06-01T09:55:24.940Z"
   },
   {
    "duration": 4,
    "start_time": "2022-06-01T09:55:53.174Z"
   },
   {
    "duration": 51,
    "start_time": "2022-06-01T09:56:28.709Z"
   },
   {
    "duration": 29,
    "start_time": "2022-06-01T09:56:36.472Z"
   },
   {
    "duration": 35,
    "start_time": "2022-06-01T09:56:55.018Z"
   },
   {
    "duration": 916,
    "start_time": "2022-06-01T09:57:04.396Z"
   },
   {
    "duration": 925,
    "start_time": "2022-06-01T09:57:23.673Z"
   },
   {
    "duration": 882,
    "start_time": "2022-06-01T09:57:35.572Z"
   },
   {
    "duration": 830,
    "start_time": "2022-06-01T09:57:49.181Z"
   },
   {
    "duration": 872,
    "start_time": "2022-06-01T09:58:02.510Z"
   },
   {
    "duration": 840,
    "start_time": "2022-06-01T09:58:16.869Z"
   },
   {
    "duration": 900,
    "start_time": "2022-06-01T09:58:27.654Z"
   },
   {
    "duration": 273,
    "start_time": "2022-06-01T09:59:15.298Z"
   },
   {
    "duration": 120,
    "start_time": "2022-06-01T09:59:28.693Z"
   },
   {
    "duration": 120,
    "start_time": "2022-06-01T09:59:39.996Z"
   },
   {
    "duration": 1924,
    "start_time": "2022-06-01T10:00:46.810Z"
   },
   {
    "duration": 220,
    "start_time": "2022-06-01T10:01:29.928Z"
   },
   {
    "duration": 215,
    "start_time": "2022-06-01T10:03:14.076Z"
   },
   {
    "duration": 214,
    "start_time": "2022-06-01T10:03:20.278Z"
   },
   {
    "duration": 145,
    "start_time": "2022-06-01T10:03:32.611Z"
   },
   {
    "duration": 417,
    "start_time": "2022-06-01T10:04:17.183Z"
   },
   {
    "duration": 351,
    "start_time": "2022-06-01T10:05:07.023Z"
   },
   {
    "duration": 8728,
    "start_time": "2022-06-01T10:05:40.252Z"
   },
   {
    "duration": 7987,
    "start_time": "2022-06-01T10:05:55.763Z"
   },
   {
    "duration": 823,
    "start_time": "2022-06-01T10:07:23.305Z"
   },
   {
    "duration": 180,
    "start_time": "2022-06-01T10:07:30.529Z"
   },
   {
    "duration": 4,
    "start_time": "2022-06-01T10:07:54.221Z"
   },
   {
    "duration": 957,
    "start_time": "2022-06-01T10:07:54.233Z"
   },
   {
    "duration": 113,
    "start_time": "2022-06-01T10:07:55.192Z"
   },
   {
    "duration": 129,
    "start_time": "2022-06-01T10:07:55.307Z"
   },
   {
    "duration": 2954,
    "start_time": "2022-06-01T10:07:55.438Z"
   },
   {
    "duration": 154,
    "start_time": "2022-06-01T10:07:58.393Z"
   },
   {
    "duration": 18727,
    "start_time": "2022-06-01T10:07:58.549Z"
   },
   {
    "duration": 92,
    "start_time": "2022-06-01T10:08:17.279Z"
   },
   {
    "duration": 7570,
    "start_time": "2022-06-01T10:08:17.373Z"
   },
   {
    "duration": 1519,
    "start_time": "2022-06-01T10:08:24.945Z"
   },
   {
    "duration": 109,
    "start_time": "2022-06-01T10:08:26.466Z"
   },
   {
    "duration": 20,
    "start_time": "2022-06-01T10:08:26.576Z"
   },
   {
    "duration": 719,
    "start_time": "2022-06-01T10:08:26.597Z"
   },
   {
    "duration": 169,
    "start_time": "2022-06-01T10:08:27.317Z"
   },
   {
    "duration": 392,
    "start_time": "2022-06-01T10:08:27.488Z"
   },
   {
    "duration": 222,
    "start_time": "2022-06-01T10:08:27.882Z"
   },
   {
    "duration": 3,
    "start_time": "2022-06-01T10:08:28.106Z"
   },
   {
    "duration": 4,
    "start_time": "2022-06-01T10:09:08.888Z"
   },
   {
    "duration": 907,
    "start_time": "2022-06-01T10:09:08.896Z"
   },
   {
    "duration": 124,
    "start_time": "2022-06-01T10:09:09.804Z"
   },
   {
    "duration": 140,
    "start_time": "2022-06-01T10:09:09.930Z"
   },
   {
    "duration": 3059,
    "start_time": "2022-06-01T10:09:10.073Z"
   },
   {
    "duration": 145,
    "start_time": "2022-06-01T10:09:13.133Z"
   },
   {
    "duration": 18841,
    "start_time": "2022-06-01T10:09:13.279Z"
   },
   {
    "duration": 76,
    "start_time": "2022-06-01T10:09:32.126Z"
   },
   {
    "duration": 7871,
    "start_time": "2022-06-01T10:09:32.204Z"
   },
   {
    "duration": 1630,
    "start_time": "2022-06-01T10:09:40.076Z"
   },
   {
    "duration": 158,
    "start_time": "2022-06-01T10:09:41.709Z"
   },
   {
    "duration": 63,
    "start_time": "2022-06-01T10:09:41.869Z"
   },
   {
    "duration": 781,
    "start_time": "2022-06-01T10:09:41.933Z"
   },
   {
    "duration": 164,
    "start_time": "2022-06-01T10:09:42.715Z"
   },
   {
    "duration": 408,
    "start_time": "2022-06-01T10:09:42.881Z"
   },
   {
    "duration": 232,
    "start_time": "2022-06-01T10:09:43.290Z"
   },
   {
    "duration": 3,
    "start_time": "2022-06-01T10:09:43.526Z"
   },
   {
    "duration": 12,
    "start_time": "2022-06-01T10:09:43.530Z"
   },
   {
    "duration": 28390,
    "start_time": "2022-06-01T10:09:43.544Z"
   },
   {
    "duration": 198124,
    "start_time": "2022-06-01T10:10:11.936Z"
   },
   {
    "duration": 5,
    "start_time": "2022-06-01T10:13:30.061Z"
   },
   {
    "duration": 133868,
    "start_time": "2022-06-01T10:13:30.067Z"
   },
   {
    "duration": 6410,
    "start_time": "2022-06-01T10:15:43.938Z"
   },
   {
    "duration": 4,
    "start_time": "2022-06-01T10:15:50.350Z"
   },
   {
    "duration": 5480,
    "start_time": "2022-06-01T10:15:50.355Z"
   },
   {
    "duration": 12,
    "start_time": "2022-06-01T10:15:55.836Z"
   }
  ],
  "kernelspec": {
   "display_name": "Python 3 (ipykernel)",
   "language": "python",
   "name": "python3"
  },
  "language_info": {
   "codemirror_mode": {
    "name": "ipython",
    "version": 3
   },
   "file_extension": ".py",
   "mimetype": "text/x-python",
   "name": "python",
   "nbconvert_exporter": "python",
   "pygments_lexer": "ipython3",
   "version": "3.9.7"
  },
  "toc": {
   "base_numbering": 1,
   "nav_menu": {},
   "number_sections": true,
   "sideBar": true,
   "skip_h1_title": true,
   "title_cell": "Table of Contents",
   "title_sidebar": "Contents",
   "toc_cell": false,
   "toc_position": {},
   "toc_section_display": true,
   "toc_window_display": false
  }
 },
 "nbformat": 4,
 "nbformat_minor": 2
}
