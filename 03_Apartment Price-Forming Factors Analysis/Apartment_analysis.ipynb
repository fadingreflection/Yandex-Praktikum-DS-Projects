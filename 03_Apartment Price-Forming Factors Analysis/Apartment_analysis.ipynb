{
 "cells": [
  {
   "cell_type": "markdown",
   "metadata": {
    "toc": true
   },
   "source": [
    "<h1>Содержание<span class=\"tocSkip\"></span></h1>\n",
    "<div class=\"toc\"><ul class=\"toc-item\"><li><span><a href=\"#Изучение-данных-из-файла\" data-toc-modified-id=\"Изучение-данных-из-файла-1\"><span class=\"toc-item-num\">1&nbsp;&nbsp;</span>Изучение данных из файла</a></span><ul class=\"toc-item\"><li><span><a href=\"#Импорт-библиотек,-загрузка-данных--и-первичная-оценка\" data-toc-modified-id=\"Импорт-библиотек,-загрузка-данных--и-первичная-оценка-1.1\"><span class=\"toc-item-num\">1.1&nbsp;&nbsp;</span>Импорт библиотек, загрузка данных  и первичная оценка</a></span></li><li><span><a href=\"#Проверка-пропусков-и-дубликатов\" data-toc-modified-id=\"Проверка-пропусков-и-дубликатов-1.2\"><span class=\"toc-item-num\">1.2&nbsp;&nbsp;</span>Проверка пропусков и дубликатов</a></span></li><li><span><a href=\"#Вывод\" data-toc-modified-id=\"Вывод-1.3\"><span class=\"toc-item-num\">1.3&nbsp;&nbsp;</span>Вывод</a></span></li></ul></li><li><span><a href=\"#Предобработка-данных\" data-toc-modified-id=\"Предобработка-данных-2\"><span class=\"toc-item-num\">2&nbsp;&nbsp;</span>Предобработка данных</a></span><ul class=\"toc-item\"><li><span><a href=\"#Обработка-пропущенных-значений\" data-toc-modified-id=\"Обработка-пропущенных-значений-2.1\"><span class=\"toc-item-num\">2.1&nbsp;&nbsp;</span>Обработка пропущенных значений</a></span></li><li><span><a href=\"#Преобразование-типов-данных\" data-toc-modified-id=\"Преобразование-типов-данных-2.2\"><span class=\"toc-item-num\">2.2&nbsp;&nbsp;</span>Преобразование типов данных</a></span></li><li><span><a href=\"#Вывод\" data-toc-modified-id=\"Вывод-2.3\"><span class=\"toc-item-num\">2.3&nbsp;&nbsp;</span>Вывод</a></span></li></ul></li><li><span><a href=\"#Расчёты-и-добавление-результатов-в-таблицу\" data-toc-modified-id=\"Расчёты-и-добавление-результатов-в-таблицу-3\"><span class=\"toc-item-num\">3&nbsp;&nbsp;</span>Расчёты и добавление результатов в таблицу</a></span><ul class=\"toc-item\"><li><span><a href=\"#Вывод:\" data-toc-modified-id=\"Вывод:-3.1\"><span class=\"toc-item-num\">3.1&nbsp;&nbsp;</span>Вывод:</a></span></li></ul></li><li><span><a href=\"#Исследовательский-анализ-данных\" data-toc-modified-id=\"Исследовательский-анализ-данных-4\"><span class=\"toc-item-num\">4&nbsp;&nbsp;</span>Исследовательский анализ данных</a></span><ul class=\"toc-item\"><li><span><a href=\"#Первичное-исследование-закономерностей-и-аномалий-и-визуализация\" data-toc-modified-id=\"Первичное-исследование-закономерностей-и-аномалий-и-визуализация-4.1\"><span class=\"toc-item-num\">4.1&nbsp;&nbsp;</span>Первичное исследование закономерностей и аномалий и визуализация</a></span></li><li><span><a href=\"#Удаление-аномальных-значений\" data-toc-modified-id=\"Удаление-аномальных-значений-4.2\"><span class=\"toc-item-num\">4.2&nbsp;&nbsp;</span>Удаление аномальных значений</a></span></li><li><span><a href=\"#Исследование-факторов-ценообразования\" data-toc-modified-id=\"Исследование-факторов-ценообразования-4.3\"><span class=\"toc-item-num\">4.3&nbsp;&nbsp;</span>Исследование факторов ценообразования</a></span></li><li><span><a href=\"#Исследование-населенных-пунктов-с-наибольшим-числом-объявлений\" data-toc-modified-id=\"Исследование-населенных-пунктов-с-наибольшим-числом-объявлений-4.4\"><span class=\"toc-item-num\">4.4&nbsp;&nbsp;</span>Исследование населенных пунктов с наибольшим числом объявлений</a></span></li><li><span><a href=\"#Исследование-квартир-в-Петербурге\" data-toc-modified-id=\"Исследование-квартир-в-Петербурге-4.5\"><span class=\"toc-item-num\">4.5&nbsp;&nbsp;</span>Исследование квартир в Петербурге</a></span></li><li><span><a href=\"#Исследование-квартир-в-центре-Санкт-Петербурга\" data-toc-modified-id=\"Исследование-квартир-в-центре-Санкт-Петербурга-4.6\"><span class=\"toc-item-num\">4.6&nbsp;&nbsp;</span>Исследование квартир в центре Санкт-Петербурга</a></span></li></ul></li><li><span><a href=\"#Общий-вывод\" data-toc-modified-id=\"Общий-вывод-5\"><span class=\"toc-item-num\">5&nbsp;&nbsp;</span>Общий вывод</a></span></li><li><span><a href=\"#Чек-лист-готовности-проекта\" data-toc-modified-id=\"Чек-лист-готовности-проекта-6\"><span class=\"toc-item-num\">6&nbsp;&nbsp;</span>Чек-лист готовности проекта</a></span></li></ul></div>"
   ]
  },
  {
   "cell_type": "markdown",
   "metadata": {},
   "source": [
    "# Исследование объявлений о продаже квартир\n",
    "\n",
    "Предоставлены данные сервиса Яндекс.Недвижимость — архив объявлений о продаже квартир в Санкт-Петербурге и соседних населённых пунктах за несколько лет. Необходимо определить параметры, влияющие на формирование рыночной стоимости объектов недвижимости. \n",
    "\n",
    "По каждому объекту доступны данные, которые предоставили пользователи, а также данные, полученные  автоматически на основе картографических сведений. "
   ]
  },
  {
   "cell_type": "markdown",
   "metadata": {},
   "source": [
    "## Изучение данных из файла"
   ]
  },
  {
   "cell_type": "markdown",
   "metadata": {},
   "source": [
    "### Импорт библиотек, загрузка данных  и первичная оценка"
   ]
  },
  {
   "cell_type": "code",
   "execution_count": 512,
   "metadata": {},
   "outputs": [],
   "source": [
    "import pandas as pd\n",
    "import numpy as np\n",
    "from matplotlib import pyplot as plt\n",
    "import seaborn as sns\n",
    "\n",
    "pd. set_option('display.max_columns', 22)"
   ]
  },
  {
   "cell_type": "code",
   "execution_count": 513,
   "metadata": {
    "scrolled": true
   },
   "outputs": [
    {
     "name": "stdout",
     "output_type": "stream",
     "text": [
      "(23699, 22)\n",
      "total_images              int64\n",
      "last_price              float64\n",
      "total_area              float64\n",
      "first_day_exposition     object\n",
      "rooms                     int64\n",
      "ceiling_height          float64\n",
      "floors_total            float64\n",
      "living_area             float64\n",
      "floor                     int64\n",
      "is_apartment             object\n",
      "studio                     bool\n",
      "open_plan                  bool\n",
      "kitchen_area            float64\n",
      "balcony                 float64\n",
      "locality_name            object\n",
      "airports_nearest        float64\n",
      "cityCenters_nearest     float64\n",
      "parks_around3000        float64\n",
      "parks_nearest           float64\n",
      "ponds_around3000        float64\n",
      "ponds_nearest           float64\n",
      "days_exposition         float64\n",
      "dtype: object\n"
     ]
    }
   ],
   "source": [
    "data = pd.read_csv('/datasets/real_estate_data.csv', sep = '\\t')\n",
    "print(data.shape)\n",
    "print(data.dtypes)"
   ]
  },
  {
   "cell_type": "markdown",
   "metadata": {},
   "source": [
    "<b>ПРОМЕЖУТОЧНЫЙ ВЫВОД:</b> на 23699 наблюдений приходится 22 признака. Почти все - числовые значения, 3 признака категории object, два содержат булевы значения. Выведем несколько рандомных строк таблицы"
   ]
  },
  {
   "cell_type": "code",
   "execution_count": 514,
   "metadata": {},
   "outputs": [
    {
     "data": {
      "text/html": [
       "<div>\n",
       "<style scoped>\n",
       "    .dataframe tbody tr th:only-of-type {\n",
       "        vertical-align: middle;\n",
       "    }\n",
       "\n",
       "    .dataframe tbody tr th {\n",
       "        vertical-align: top;\n",
       "    }\n",
       "\n",
       "    .dataframe thead th {\n",
       "        text-align: right;\n",
       "    }\n",
       "</style>\n",
       "<table border=\"1\" class=\"dataframe\">\n",
       "  <thead>\n",
       "    <tr style=\"text-align: right;\">\n",
       "      <th></th>\n",
       "      <th>total_images</th>\n",
       "      <th>last_price</th>\n",
       "      <th>total_area</th>\n",
       "      <th>first_day_exposition</th>\n",
       "      <th>rooms</th>\n",
       "      <th>ceiling_height</th>\n",
       "      <th>floors_total</th>\n",
       "      <th>living_area</th>\n",
       "      <th>floor</th>\n",
       "      <th>is_apartment</th>\n",
       "      <th>studio</th>\n",
       "      <th>open_plan</th>\n",
       "      <th>kitchen_area</th>\n",
       "      <th>balcony</th>\n",
       "      <th>locality_name</th>\n",
       "      <th>airports_nearest</th>\n",
       "      <th>cityCenters_nearest</th>\n",
       "      <th>parks_around3000</th>\n",
       "      <th>parks_nearest</th>\n",
       "      <th>ponds_around3000</th>\n",
       "      <th>ponds_nearest</th>\n",
       "      <th>days_exposition</th>\n",
       "    </tr>\n",
       "  </thead>\n",
       "  <tbody>\n",
       "    <tr>\n",
       "      <th>9519</th>\n",
       "      <td>18</td>\n",
       "      <td>4170000.0</td>\n",
       "      <td>51.8</td>\n",
       "      <td>2017-06-10T00:00:00</td>\n",
       "      <td>2</td>\n",
       "      <td>2.5</td>\n",
       "      <td>9.0</td>\n",
       "      <td>28.70</td>\n",
       "      <td>6</td>\n",
       "      <td>NaN</td>\n",
       "      <td>False</td>\n",
       "      <td>False</td>\n",
       "      <td>7.0</td>\n",
       "      <td>2.0</td>\n",
       "      <td>Санкт-Петербург</td>\n",
       "      <td>19816.0</td>\n",
       "      <td>11347.0</td>\n",
       "      <td>0.0</td>\n",
       "      <td>NaN</td>\n",
       "      <td>0.0</td>\n",
       "      <td>NaN</td>\n",
       "      <td>67.0</td>\n",
       "    </tr>\n",
       "    <tr>\n",
       "      <th>21942</th>\n",
       "      <td>9</td>\n",
       "      <td>3450000.0</td>\n",
       "      <td>37.5</td>\n",
       "      <td>2018-04-20T00:00:00</td>\n",
       "      <td>1</td>\n",
       "      <td>2.7</td>\n",
       "      <td>12.0</td>\n",
       "      <td>18.14</td>\n",
       "      <td>7</td>\n",
       "      <td>NaN</td>\n",
       "      <td>False</td>\n",
       "      <td>False</td>\n",
       "      <td>9.8</td>\n",
       "      <td>NaN</td>\n",
       "      <td>посёлок Металлострой</td>\n",
       "      <td>25735.0</td>\n",
       "      <td>27447.0</td>\n",
       "      <td>0.0</td>\n",
       "      <td>NaN</td>\n",
       "      <td>0.0</td>\n",
       "      <td>NaN</td>\n",
       "      <td>105.0</td>\n",
       "    </tr>\n",
       "    <tr>\n",
       "      <th>898</th>\n",
       "      <td>12</td>\n",
       "      <td>3900000.0</td>\n",
       "      <td>47.0</td>\n",
       "      <td>2015-12-01T00:00:00</td>\n",
       "      <td>1</td>\n",
       "      <td>NaN</td>\n",
       "      <td>23.0</td>\n",
       "      <td>16.00</td>\n",
       "      <td>2</td>\n",
       "      <td>NaN</td>\n",
       "      <td>False</td>\n",
       "      <td>False</td>\n",
       "      <td>13.0</td>\n",
       "      <td>0.0</td>\n",
       "      <td>Санкт-Петербург</td>\n",
       "      <td>22306.0</td>\n",
       "      <td>17634.0</td>\n",
       "      <td>0.0</td>\n",
       "      <td>NaN</td>\n",
       "      <td>1.0</td>\n",
       "      <td>132.0</td>\n",
       "      <td>327.0</td>\n",
       "    </tr>\n",
       "  </tbody>\n",
       "</table>\n",
       "</div>"
      ],
      "text/plain": [
       "       total_images  last_price  total_area first_day_exposition  rooms  \\\n",
       "9519             18   4170000.0        51.8  2017-06-10T00:00:00      2   \n",
       "21942             9   3450000.0        37.5  2018-04-20T00:00:00      1   \n",
       "898              12   3900000.0        47.0  2015-12-01T00:00:00      1   \n",
       "\n",
       "       ceiling_height  floors_total  living_area  floor is_apartment  studio  \\\n",
       "9519              2.5           9.0        28.70      6          NaN   False   \n",
       "21942             2.7          12.0        18.14      7          NaN   False   \n",
       "898               NaN          23.0        16.00      2          NaN   False   \n",
       "\n",
       "       open_plan  kitchen_area  balcony         locality_name  \\\n",
       "9519       False           7.0      2.0       Санкт-Петербург   \n",
       "21942      False           9.8      NaN  посёлок Металлострой   \n",
       "898        False          13.0      0.0       Санкт-Петербург   \n",
       "\n",
       "       airports_nearest  cityCenters_nearest  parks_around3000  parks_nearest  \\\n",
       "9519            19816.0              11347.0               0.0            NaN   \n",
       "21942           25735.0              27447.0               0.0            NaN   \n",
       "898             22306.0              17634.0               0.0            NaN   \n",
       "\n",
       "       ponds_around3000  ponds_nearest  days_exposition  \n",
       "9519                0.0            NaN             67.0  \n",
       "21942               0.0            NaN            105.0  \n",
       "898                 1.0          132.0            327.0  "
      ]
     },
     "metadata": {},
     "output_type": "display_data"
    }
   ],
   "source": [
    "display(data.sample(3))"
   ]
  },
  {
   "cell_type": "markdown",
   "metadata": {},
   "source": [
    "<b>ПРОМЕЖУТОЧНЫЙ ВЫВОД:</b> пропуски уже видны. Оценим их количество, а также наличие дубликатов."
   ]
  },
  {
   "cell_type": "markdown",
   "metadata": {},
   "source": [
    "### Проверка пропусков и дубликатов"
   ]
  },
  {
   "cell_type": "code",
   "execution_count": 515,
   "metadata": {},
   "outputs": [
    {
     "name": "stdout",
     "output_type": "stream",
     "text": [
      "total_images                0\n",
      "last_price                  0\n",
      "total_area                  0\n",
      "first_day_exposition        0\n",
      "rooms                       0\n",
      "ceiling_height           9195\n",
      "floors_total               86\n",
      "living_area              1903\n",
      "floor                       0\n",
      "is_apartment            20924\n",
      "studio                      0\n",
      "open_plan                   0\n",
      "kitchen_area             2278\n",
      "balcony                 11519\n",
      "locality_name              49\n",
      "airports_nearest         5542\n",
      "cityCenters_nearest      5519\n",
      "parks_around3000         5518\n",
      "parks_nearest           15620\n",
      "ponds_around3000         5518\n",
      "ponds_nearest           14589\n",
      "days_exposition          3181\n",
      "dtype: int64\n"
     ]
    },
    {
     "data": {
      "text/plain": [
       "Text(0.5, 1.0, 'Количество пропусков в датасете')"
      ]
     },
     "execution_count": 515,
     "metadata": {},
     "output_type": "execute_result"
    },
    {
     "data": {
      "image/png": "[encoded data removed]",
      "text/plain": [
       "<Figure size 504x504 with 1 Axes>"
      ]
     },
     "metadata": {},
     "output_type": "display_data"
    }
   ],
   "source": [
    "print(data.isna().sum())\n",
    "data.isna().sum().plot(kind = 'pie', figsize = (7,7))\n",
    "plt.title('Количество пропусков в датасете')"
   ]
  },
  {
   "cell_type": "markdown",
   "metadata": {},
   "source": [
    "<b>ПРОМЕЖУТОЧНЫЙ ВЫВОД:</b> сразу выявлены пропуски, подлежащие удалению, ввиду невозможности восстановить данные или ввиду подозрения на аномалии:\n",
    "- floors total - 86 пропусков не особо информативны, восстановлению не подлежат\n",
    "- locality_name - аналогично + подозрение на мошенничество, можно ли продавать жилье, не указав, где оно?\n",
    "- days_exposition - аналогично, данные не восстановить, а \"срок жизни\" объявления должен влиять на формирование цены\n",
    "- living area - этот фактор ключевой, но восстановить его не получится\n",
    "\n",
    "\n",
    "Остальные пропуски можно заполнить. Проверим дубликаты."
   ]
  },
  {
   "cell_type": "code",
   "execution_count": 516,
   "metadata": {},
   "outputs": [
    {
     "data": {
      "text/plain": [
       "0"
      ]
     },
     "execution_count": 516,
     "metadata": {},
     "output_type": "execute_result"
    }
   ],
   "source": [
    "data.duplicated().sum()"
   ]
  },
  {
   "cell_type": "markdown",
   "metadata": {},
   "source": [
    "Дубликатов нет, хорошо. Можно приступать к предобработке."
   ]
  },
  {
   "cell_type": "markdown",
   "metadata": {},
   "source": [
    "### Вывод"
   ]
  },
  {
   "cell_type": "markdown",
   "metadata": {},
   "source": [
    "1) Датасет содержит более 23 000 наблюдений по 22 признакам.\n",
    "\n",
    "2) Дубликатов нет.\n",
    "\n",
    "3) Много пропусков, часть подлежит удалению ввиду неинформативности и/или подозрения на аномалии.\n",
    "\n",
    "4) Данные представлены типами int, float, bool, object. Нужно будет посмотреть на них поближе. "
   ]
  },
  {
   "cell_type": "markdown",
   "metadata": {},
   "source": [
    "## Предобработка данных"
   ]
  },
  {
   "cell_type": "markdown",
   "metadata": {},
   "source": [
    "### Обработка пропущенных значений"
   ]
  },
  {
   "cell_type": "code",
   "execution_count": 517,
   "metadata": {},
   "outputs": [
    {
     "data": {
      "text/plain": [
       "Text(0.5, 1.0, 'Количество пропусков в датасете после удаления аномалий')"
      ]
     },
     "execution_count": 517,
     "metadata": {},
     "output_type": "execute_result"
    },
    {
     "data": {
      "image/png": "[encoded data removed]",
      "text/plain": [
       "<Figure size 504x504 with 1 Axes>"
      ]
     },
     "metadata": {},
     "output_type": "display_data"
    }
   ],
   "source": [
    "# удалим аномальные пропуски\n",
    "cols = ['floors_total', 'locality_name', 'days_exposition', 'living_area']\n",
    "data.dropna(subset = cols, inplace = True, axis = 0)\n",
    "data.reset_index(drop = True, inplace = True)\n",
    "\n",
    "# добавим визуализацию \n",
    "data.isna().sum().plot(kind = 'pie', figsize = (7,7))\n",
    "plt.title('Количество пропусков в датасете после удаления аномалий')"
   ]
  },
  {
   "cell_type": "code",
   "execution_count": 518,
   "metadata": {},
   "outputs": [
    {
     "name": "stdout",
     "output_type": "stream",
     "text": [
      "(18724, 22)\n"
     ]
    },
    {
     "data": {
      "text/html": [
       "<div>\n",
       "<style scoped>\n",
       "    .dataframe tbody tr th:only-of-type {\n",
       "        vertical-align: middle;\n",
       "    }\n",
       "\n",
       "    .dataframe tbody tr th {\n",
       "        vertical-align: top;\n",
       "    }\n",
       "\n",
       "    .dataframe thead th {\n",
       "        text-align: right;\n",
       "    }\n",
       "</style>\n",
       "<table border=\"1\" class=\"dataframe\">\n",
       "  <thead>\n",
       "    <tr style=\"text-align: right;\">\n",
       "      <th></th>\n",
       "      <th>total_images</th>\n",
       "      <th>last_price</th>\n",
       "      <th>total_area</th>\n",
       "      <th>first_day_exposition</th>\n",
       "      <th>rooms</th>\n",
       "      <th>ceiling_height</th>\n",
       "      <th>floors_total</th>\n",
       "      <th>living_area</th>\n",
       "      <th>floor</th>\n",
       "      <th>is_apartment</th>\n",
       "      <th>studio</th>\n",
       "      <th>open_plan</th>\n",
       "      <th>kitchen_area</th>\n",
       "      <th>balcony</th>\n",
       "      <th>locality_name</th>\n",
       "      <th>airports_nearest</th>\n",
       "      <th>cityCenters_nearest</th>\n",
       "      <th>parks_around3000</th>\n",
       "      <th>parks_nearest</th>\n",
       "      <th>ponds_around3000</th>\n",
       "      <th>ponds_nearest</th>\n",
       "      <th>days_exposition</th>\n",
       "    </tr>\n",
       "  </thead>\n",
       "  <tbody>\n",
       "    <tr>\n",
       "      <th>3383</th>\n",
       "      <td>10</td>\n",
       "      <td>7990000.0</td>\n",
       "      <td>82.0</td>\n",
       "      <td>2017-02-19T00:00:00</td>\n",
       "      <td>3</td>\n",
       "      <td>3.25</td>\n",
       "      <td>3.0</td>\n",
       "      <td>47.3</td>\n",
       "      <td>3</td>\n",
       "      <td>False</td>\n",
       "      <td>False</td>\n",
       "      <td>False</td>\n",
       "      <td>25.2</td>\n",
       "      <td>NaN</td>\n",
       "      <td>Санкт-Петербург</td>\n",
       "      <td>23128.0</td>\n",
       "      <td>2669.0</td>\n",
       "      <td>0.0</td>\n",
       "      <td>NaN</td>\n",
       "      <td>3.0</td>\n",
       "      <td>611.0</td>\n",
       "      <td>451.0</td>\n",
       "    </tr>\n",
       "    <tr>\n",
       "      <th>9668</th>\n",
       "      <td>7</td>\n",
       "      <td>9000000.0</td>\n",
       "      <td>102.1</td>\n",
       "      <td>2015-02-19T00:00:00</td>\n",
       "      <td>3</td>\n",
       "      <td>NaN</td>\n",
       "      <td>6.0</td>\n",
       "      <td>67.2</td>\n",
       "      <td>4</td>\n",
       "      <td>NaN</td>\n",
       "      <td>False</td>\n",
       "      <td>False</td>\n",
       "      <td>10.0</td>\n",
       "      <td>0.0</td>\n",
       "      <td>Санкт-Петербург</td>\n",
       "      <td>24148.0</td>\n",
       "      <td>4716.0</td>\n",
       "      <td>1.0</td>\n",
       "      <td>478.0</td>\n",
       "      <td>0.0</td>\n",
       "      <td>NaN</td>\n",
       "      <td>676.0</td>\n",
       "    </tr>\n",
       "    <tr>\n",
       "      <th>17346</th>\n",
       "      <td>16</td>\n",
       "      <td>4980000.0</td>\n",
       "      <td>40.0</td>\n",
       "      <td>2017-10-27T00:00:00</td>\n",
       "      <td>1</td>\n",
       "      <td>2.80</td>\n",
       "      <td>23.0</td>\n",
       "      <td>17.8</td>\n",
       "      <td>3</td>\n",
       "      <td>NaN</td>\n",
       "      <td>False</td>\n",
       "      <td>False</td>\n",
       "      <td>8.6</td>\n",
       "      <td>1.0</td>\n",
       "      <td>Санкт-Петербург</td>\n",
       "      <td>13594.0</td>\n",
       "      <td>16186.0</td>\n",
       "      <td>0.0</td>\n",
       "      <td>NaN</td>\n",
       "      <td>0.0</td>\n",
       "      <td>NaN</td>\n",
       "      <td>253.0</td>\n",
       "    </tr>\n",
       "  </tbody>\n",
       "</table>\n",
       "</div>"
      ],
      "text/plain": [
       "       total_images  last_price  total_area first_day_exposition  rooms  \\\n",
       "3383             10   7990000.0        82.0  2017-02-19T00:00:00      3   \n",
       "9668              7   9000000.0       102.1  2015-02-19T00:00:00      3   \n",
       "17346            16   4980000.0        40.0  2017-10-27T00:00:00      1   \n",
       "\n",
       "       ceiling_height  floors_total  living_area  floor is_apartment  studio  \\\n",
       "3383             3.25           3.0         47.3      3        False   False   \n",
       "9668              NaN           6.0         67.2      4          NaN   False   \n",
       "17346            2.80          23.0         17.8      3          NaN   False   \n",
       "\n",
       "       open_plan  kitchen_area  balcony    locality_name  airports_nearest  \\\n",
       "3383       False          25.2      NaN  Санкт-Петербург           23128.0   \n",
       "9668       False          10.0      0.0  Санкт-Петербург           24148.0   \n",
       "17346      False           8.6      1.0  Санкт-Петербург           13594.0   \n",
       "\n",
       "       cityCenters_nearest  parks_around3000  parks_nearest  ponds_around3000  \\\n",
       "3383                2669.0               0.0            NaN               3.0   \n",
       "9668                4716.0               1.0          478.0               0.0   \n",
       "17346              16186.0               0.0            NaN               0.0   \n",
       "\n",
       "       ponds_nearest  days_exposition  \n",
       "3383           611.0            451.0  \n",
       "9668             NaN            676.0  \n",
       "17346            NaN            253.0  "
      ]
     },
     "execution_count": 518,
     "metadata": {},
     "output_type": "execute_result"
    }
   ],
   "source": [
    "# посмотрим на изменения\n",
    "print(data.shape)\n",
    "data.sample(3)"
   ]
  },
  {
   "cell_type": "markdown",
   "metadata": {},
   "source": [
    "<b>ПРОМЕЖУТОЧНЫЙ ВЫВОД:</b> удалены примерно 20% неинформативных и/или подозрительных объектов."
   ]
  },
  {
   "cell_type": "code",
   "execution_count": 519,
   "metadata": {},
   "outputs": [],
   "source": [
    "#заменим пропуски в балконах на 0\n",
    "data['balcony'] = data['balcony'].fillna(0)\n",
    "\n",
    "# заполним пропуски в апартаментах на False\n",
    "data['is_apartment'].fillna(False, inplace = True)\n",
    "\n",
    "# заполним пропуски в высоте потолка медианным зн-ем\n",
    "data['ceiling_height'] = data['ceiling_height'].transform(lambda x: x.fillna(x.median()))"
   ]
  },
  {
   "cell_type": "markdown",
   "metadata": {},
   "source": [
    "<b>ПРОМЕЖУТОЧНЫЙ ВЫВОД:</b> Осталось заполнить пропуски в метраже кухни. Гипотеза 1: метраж не указан, т.к. квартира - студия, где кухни просто нет. В таком случае заполнить можно нулем. Во всех остальных случаях произведем группировку и заполним площадь кухни в зависимости от количества этажей (принимая допущение, что большинство домов имеют стандартную планировку)."
   ]
  },
  {
   "cell_type": "code",
   "execution_count": 520,
   "metadata": {},
   "outputs": [
    {
     "name": "stdout",
     "output_type": "stream",
     "text": [
      "False    577\n",
      "True     127\n",
      "Name: studio, dtype: int64\n"
     ]
    }
   ],
   "source": [
    "# заполним студии\n",
    "print(data[data['kitchen_area'].isna()]['studio'].value_counts())\n",
    "\n",
    "def fill_kitchen_studio(row):\n",
    "    kitchen = row['kitchen_area']\n",
    "    studio = row['studio']\n",
    "    if pd.isna(kitchen) & (studio == True): \n",
    "        return 0\n",
    "    else:\n",
    "        return kitchen\n",
    "data['kitchen_area'] = data.apply(fill_kitchen_studio, axis = 1)  "
   ]
  },
  {
   "cell_type": "code",
   "execution_count": 521,
   "metadata": {},
   "outputs": [
    {
     "name": "stdout",
     "output_type": "stream",
     "text": [
      "1\n"
     ]
    }
   ],
   "source": [
    "# сгруппируем кухни по однотипным домам и заполним пропуски\n",
    "grouped_kitchens = data.groupby(['floors_total'])['kitchen_area'].transform('median')\n",
    "data['kitchen_area'] = data['kitchen_area'].fillna(grouped_kitchens)\n",
    "\n",
    "# проверим пропуски\n",
    "print(data['kitchen_area'].isna().sum())\n",
    "\n",
    "# удалим оставшийся лишний пропуск\n",
    "data.dropna(subset = ['kitchen_area'], inplace = True, axis = 0)\n",
    "data.reset_index(drop = True, inplace = True)"
   ]
  },
  {
   "cell_type": "markdown",
   "metadata": {},
   "source": [
    "<b>ПРОМЕЖУТОЧНЫЙ ВЫВОД:</b> остались пропуски в геоданных. Пропуски до ближайшего аэропорта и центра города заполним медианным значением по населенным пунктам. Для этого произведем аггрегацию таблицы. "
   ]
  },
  {
   "cell_type": "code",
   "execution_count": 522,
   "metadata": {},
   "outputs": [
    {
     "data": {
      "text/plain": [
       "4059"
      ]
     },
     "execution_count": 522,
     "metadata": {},
     "output_type": "execute_result"
    }
   ],
   "source": [
    "grouped_airports = data.groupby(['locality_name'])['airports_nearest'].transform('median')\n",
    "data['airports_nearest'] = data['airports_nearest'].fillna(grouped_airports)\n",
    "\n",
    "grouped_city_centres = data.groupby(['locality_name'])['cityCenters_nearest'].transform('median')\n",
    "data['cityCenters_nearest'] = data['cityCenters_nearest'].fillna(grouped_city_centres)\n",
    "\n",
    "# проверим пропуски\n",
    "data['airports_nearest'].isna().sum()"
   ]
  },
  {
   "cell_type": "markdown",
   "metadata": {},
   "source": [
    "Очевидно, остались пропуски по мелким населенным пунктам и деревням. Время разобраться с парками и прудами. Заполнить не сможем никак, но проверим на аномалии. Логика простая: нет парка в пределах 3 км, значит, ближайший парк должен быть дальше, чем в 3 км."
   ]
  },
  {
   "cell_type": "code",
   "execution_count": 523,
   "metadata": {},
   "outputs": [
    {
     "data": {
      "text/plain": [
       "array([nan])"
      ]
     },
     "execution_count": 523,
     "metadata": {},
     "output_type": "execute_result"
    }
   ],
   "source": [
    "data[data['parks_around3000'].isna()]['parks_nearest'].unique()\n",
    "data[data['ponds_around3000'].isna()]['ponds_nearest'].unique()"
   ]
  },
  {
   "cell_type": "markdown",
   "metadata": {},
   "source": [
    "Аномалий нет. Осталось преобразовать типы данных."
   ]
  },
  {
   "cell_type": "markdown",
   "metadata": {},
   "source": [
    "### Преобразование типов данных"
   ]
  },
  {
   "cell_type": "code",
   "execution_count": 524,
   "metadata": {},
   "outputs": [],
   "source": [
    "#оставим только день\n",
    "data['first_day_exposition'] = pd.to_datetime(data['first_day_exposition'])"
   ]
  },
  {
   "cell_type": "code",
   "execution_count": 525,
   "metadata": {},
   "outputs": [
    {
     "data": {
      "text/html": [
       "<div>\n",
       "<style scoped>\n",
       "    .dataframe tbody tr th:only-of-type {\n",
       "        vertical-align: middle;\n",
       "    }\n",
       "\n",
       "    .dataframe tbody tr th {\n",
       "        vertical-align: top;\n",
       "    }\n",
       "\n",
       "    .dataframe thead th {\n",
       "        text-align: right;\n",
       "    }\n",
       "</style>\n",
       "<table border=\"1\" class=\"dataframe\">\n",
       "  <thead>\n",
       "    <tr style=\"text-align: right;\">\n",
       "      <th></th>\n",
       "      <th>total_images</th>\n",
       "      <th>last_price</th>\n",
       "      <th>total_area</th>\n",
       "      <th>first_day_exposition</th>\n",
       "      <th>rooms</th>\n",
       "      <th>ceiling_height</th>\n",
       "      <th>floors_total</th>\n",
       "      <th>living_area</th>\n",
       "      <th>floor</th>\n",
       "      <th>is_apartment</th>\n",
       "      <th>studio</th>\n",
       "      <th>open_plan</th>\n",
       "      <th>kitchen_area</th>\n",
       "      <th>balcony</th>\n",
       "      <th>locality_name</th>\n",
       "      <th>airports_nearest</th>\n",
       "      <th>cityCenters_nearest</th>\n",
       "      <th>parks_around3000</th>\n",
       "      <th>parks_nearest</th>\n",
       "      <th>ponds_around3000</th>\n",
       "      <th>ponds_nearest</th>\n",
       "      <th>days_exposition</th>\n",
       "    </tr>\n",
       "  </thead>\n",
       "  <tbody>\n",
       "    <tr>\n",
       "      <th>15984</th>\n",
       "      <td>9</td>\n",
       "      <td>4500000</td>\n",
       "      <td>47.2</td>\n",
       "      <td>2017-07-12</td>\n",
       "      <td>2</td>\n",
       "      <td>2.50</td>\n",
       "      <td>12</td>\n",
       "      <td>32.4</td>\n",
       "      <td>4</td>\n",
       "      <td>False</td>\n",
       "      <td>False</td>\n",
       "      <td>False</td>\n",
       "      <td>6.6</td>\n",
       "      <td>0</td>\n",
       "      <td>Санкт-Петербург</td>\n",
       "      <td>24102.0</td>\n",
       "      <td>11672.0</td>\n",
       "      <td>0</td>\n",
       "      <td>NaN</td>\n",
       "      <td>0</td>\n",
       "      <td>NaN</td>\n",
       "      <td>324.0</td>\n",
       "    </tr>\n",
       "    <tr>\n",
       "      <th>13050</th>\n",
       "      <td>20</td>\n",
       "      <td>9900000</td>\n",
       "      <td>85.6</td>\n",
       "      <td>2017-11-13</td>\n",
       "      <td>3</td>\n",
       "      <td>2.65</td>\n",
       "      <td>16</td>\n",
       "      <td>60.6</td>\n",
       "      <td>8</td>\n",
       "      <td>False</td>\n",
       "      <td>False</td>\n",
       "      <td>False</td>\n",
       "      <td>8.8</td>\n",
       "      <td>5</td>\n",
       "      <td>Санкт-Петербург</td>\n",
       "      <td>38953.0</td>\n",
       "      <td>8212.0</td>\n",
       "      <td>1</td>\n",
       "      <td>192.0</td>\n",
       "      <td>2</td>\n",
       "      <td>111.0</td>\n",
       "      <td>143.0</td>\n",
       "    </tr>\n",
       "    <tr>\n",
       "      <th>4480</th>\n",
       "      <td>9</td>\n",
       "      <td>3400000</td>\n",
       "      <td>37.5</td>\n",
       "      <td>2015-12-03</td>\n",
       "      <td>1</td>\n",
       "      <td>2.65</td>\n",
       "      <td>23</td>\n",
       "      <td>18.0</td>\n",
       "      <td>16</td>\n",
       "      <td>False</td>\n",
       "      <td>False</td>\n",
       "      <td>False</td>\n",
       "      <td>11.0</td>\n",
       "      <td>0</td>\n",
       "      <td>посёлок Мурино</td>\n",
       "      <td>NaN</td>\n",
       "      <td>NaN</td>\n",
       "      <td>&lt;NA&gt;</td>\n",
       "      <td>NaN</td>\n",
       "      <td>&lt;NA&gt;</td>\n",
       "      <td>NaN</td>\n",
       "      <td>342.0</td>\n",
       "    </tr>\n",
       "  </tbody>\n",
       "</table>\n",
       "</div>"
      ],
      "text/plain": [
       "       total_images  last_price  total_area first_day_exposition  rooms  \\\n",
       "15984             9     4500000        47.2           2017-07-12      2   \n",
       "13050            20     9900000        85.6           2017-11-13      3   \n",
       "4480              9     3400000        37.5           2015-12-03      1   \n",
       "\n",
       "       ceiling_height  floors_total  living_area  floor  is_apartment  studio  \\\n",
       "15984            2.50            12         32.4      4         False   False   \n",
       "13050            2.65            16         60.6      8         False   False   \n",
       "4480             2.65            23         18.0     16         False   False   \n",
       "\n",
       "       open_plan  kitchen_area  balcony    locality_name  airports_nearest  \\\n",
       "15984      False           6.6        0  Санкт-Петербург           24102.0   \n",
       "13050      False           8.8        5  Санкт-Петербург           38953.0   \n",
       "4480       False          11.0        0   посёлок Мурино               NaN   \n",
       "\n",
       "       cityCenters_nearest  parks_around3000  parks_nearest  ponds_around3000  \\\n",
       "15984              11672.0                 0            NaN                 0   \n",
       "13050               8212.0                 1          192.0                 2   \n",
       "4480                   NaN              <NA>            NaN              <NA>   \n",
       "\n",
       "       ponds_nearest  days_exposition  \n",
       "15984            NaN            324.0  \n",
       "13050          111.0            143.0  \n",
       "4480             NaN            342.0  "
      ]
     },
     "execution_count": 525,
     "metadata": {},
     "output_type": "execute_result"
    }
   ],
   "source": [
    "# преобразуем часть признаков в целочисленные\n",
    "cols = ['last_price', 'floors_total', 'balcony', 'parks_around3000', 'ponds_around3000', 'days_exposition']\n",
    "for column in cols:\n",
    "    data[column] = data[column].astype('Int64', errors = 'ignore')\n",
    "data.sample(3)"
   ]
  },
  {
   "cell_type": "markdown",
   "metadata": {},
   "source": [
    "### Вывод\n",
    "Таблица приведена в порядок - пропуски обработаны, типы данных изменены. Добавим в таблицу требуемые значения:\n",
    "\n",
    "1) цену м2\n",
    "\n",
    "2) день недели публ.объявления\n",
    "\n",
    "3) месяц и год публикации объявления\n",
    "\n",
    "4) этаж: первый, последний, другой\n",
    "\n",
    "5) соотношение жилой площади к общей\n",
    "\n",
    "6) соотношение площади кухни к общей"
   ]
  },
  {
   "cell_type": "markdown",
   "metadata": {},
   "source": [
    "## Расчёты и добавление результатов в таблицу"
   ]
  },
  {
   "cell_type": "code",
   "execution_count": 526,
   "metadata": {},
   "outputs": [],
   "source": [
    "#добавим стоимость квадратного метра\n",
    "data['price_per_square_meter'] = data['last_price'] / data['total_area']"
   ]
  },
  {
   "cell_type": "code",
   "execution_count": 527,
   "metadata": {},
   "outputs": [],
   "source": [
    "#добавим категорию этажности\n",
    "def categorize_floors(row):\n",
    "    floors_total = row['floors_total']\n",
    "    floor = row['floor']\n",
    "    if pd.isna(floor) == False:\n",
    "        if floors_total == floor: \n",
    "            return 'последний'\n",
    "        elif floor == 1: \n",
    "            return 'первый'\n",
    "        else: \n",
    "            return 'другой'\n",
    "    else:\n",
    "        return 'нет данных'\n",
    "data['floor_cat'] = data.apply(categorize_floors, axis = 1)"
   ]
  },
  {
   "cell_type": "code",
   "execution_count": 528,
   "metadata": {},
   "outputs": [],
   "source": [
    "#добавим соотношение жил. и общей S\n",
    "data['living_to_total_area_corr'] = data['living_area'] / data['total_area']\n",
    "\n",
    "#и соотношение S кухни к общей S\n",
    "data['kitchen_to_total_area_corr'] = data['kitchen_area'] / data['total_area']"
   ]
  },
  {
   "cell_type": "code",
   "execution_count": 529,
   "metadata": {},
   "outputs": [],
   "source": [
    "#добавим день недели публикации\n",
    "data['week_day'] = data['first_day_exposition'].dt.weekday\n",
    "\n",
    "#добавим месяц публикации объявления\n",
    "data['month'] = data['first_day_exposition'].dt.month\n",
    "\n",
    "#добавим год публикации объявления\n",
    "data['year'] = data['first_day_exposition'].dt.year"
   ]
  },
  {
   "cell_type": "code",
   "execution_count": 530,
   "metadata": {},
   "outputs": [
    {
     "data": {
      "text/html": [
       "<div>\n",
       "<style scoped>\n",
       "    .dataframe tbody tr th:only-of-type {\n",
       "        vertical-align: middle;\n",
       "    }\n",
       "\n",
       "    .dataframe tbody tr th {\n",
       "        vertical-align: top;\n",
       "    }\n",
       "\n",
       "    .dataframe thead th {\n",
       "        text-align: right;\n",
       "    }\n",
       "</style>\n",
       "<table border=\"1\" class=\"dataframe\">\n",
       "  <thead>\n",
       "    <tr style=\"text-align: right;\">\n",
       "      <th></th>\n",
       "      <th>total_images</th>\n",
       "      <th>last_price</th>\n",
       "      <th>total_area</th>\n",
       "      <th>first_day_exposition</th>\n",
       "      <th>rooms</th>\n",
       "      <th>ceiling_height</th>\n",
       "      <th>floors_total</th>\n",
       "      <th>living_area</th>\n",
       "      <th>floor</th>\n",
       "      <th>is_apartment</th>\n",
       "      <th>studio</th>\n",
       "      <th>...</th>\n",
       "      <th>parks_nearest</th>\n",
       "      <th>ponds_around3000</th>\n",
       "      <th>ponds_nearest</th>\n",
       "      <th>days_exposition</th>\n",
       "      <th>price_per_square_meter</th>\n",
       "      <th>floor_cat</th>\n",
       "      <th>living_to_total_area_corr</th>\n",
       "      <th>kitchen_to_total_area_corr</th>\n",
       "      <th>week_day</th>\n",
       "      <th>month</th>\n",
       "      <th>year</th>\n",
       "    </tr>\n",
       "  </thead>\n",
       "  <tbody>\n",
       "    <tr>\n",
       "      <th>17172</th>\n",
       "      <td>5</td>\n",
       "      <td>4330000</td>\n",
       "      <td>56.00</td>\n",
       "      <td>2017-12-25</td>\n",
       "      <td>2</td>\n",
       "      <td>2.70</td>\n",
       "      <td>5</td>\n",
       "      <td>30.00</td>\n",
       "      <td>5</td>\n",
       "      <td>False</td>\n",
       "      <td>False</td>\n",
       "      <td>...</td>\n",
       "      <td>NaN</td>\n",
       "      <td>&lt;NA&gt;</td>\n",
       "      <td>NaN</td>\n",
       "      <td>91.0</td>\n",
       "      <td>77321.428571</td>\n",
       "      <td>последний</td>\n",
       "      <td>0.535714</td>\n",
       "      <td>0.178571</td>\n",
       "      <td>0</td>\n",
       "      <td>12</td>\n",
       "      <td>2017</td>\n",
       "    </tr>\n",
       "    <tr>\n",
       "      <th>16284</th>\n",
       "      <td>7</td>\n",
       "      <td>4770338</td>\n",
       "      <td>67.90</td>\n",
       "      <td>2018-11-16</td>\n",
       "      <td>2</td>\n",
       "      <td>2.75</td>\n",
       "      <td>22</td>\n",
       "      <td>35.33</td>\n",
       "      <td>7</td>\n",
       "      <td>False</td>\n",
       "      <td>False</td>\n",
       "      <td>...</td>\n",
       "      <td>NaN</td>\n",
       "      <td>&lt;NA&gt;</td>\n",
       "      <td>NaN</td>\n",
       "      <td>21.0</td>\n",
       "      <td>70255.346097</td>\n",
       "      <td>другой</td>\n",
       "      <td>0.520324</td>\n",
       "      <td>0.199558</td>\n",
       "      <td>4</td>\n",
       "      <td>11</td>\n",
       "      <td>2018</td>\n",
       "    </tr>\n",
       "    <tr>\n",
       "      <th>6534</th>\n",
       "      <td>0</td>\n",
       "      <td>2250000</td>\n",
       "      <td>35.24</td>\n",
       "      <td>2017-05-17</td>\n",
       "      <td>1</td>\n",
       "      <td>2.60</td>\n",
       "      <td>12</td>\n",
       "      <td>15.62</td>\n",
       "      <td>9</td>\n",
       "      <td>False</td>\n",
       "      <td>False</td>\n",
       "      <td>...</td>\n",
       "      <td>NaN</td>\n",
       "      <td>&lt;NA&gt;</td>\n",
       "      <td>NaN</td>\n",
       "      <td>207.0</td>\n",
       "      <td>63847.900114</td>\n",
       "      <td>другой</td>\n",
       "      <td>0.443246</td>\n",
       "      <td>0.293417</td>\n",
       "      <td>2</td>\n",
       "      <td>5</td>\n",
       "      <td>2017</td>\n",
       "    </tr>\n",
       "  </tbody>\n",
       "</table>\n",
       "<p>3 rows × 29 columns</p>\n",
       "</div>"
      ],
      "text/plain": [
       "       total_images  last_price  total_area first_day_exposition  rooms  \\\n",
       "17172             5     4330000       56.00           2017-12-25      2   \n",
       "16284             7     4770338       67.90           2018-11-16      2   \n",
       "6534              0     2250000       35.24           2017-05-17      1   \n",
       "\n",
       "       ceiling_height  floors_total  living_area  floor  is_apartment  studio  \\\n",
       "17172            2.70             5        30.00      5         False   False   \n",
       "16284            2.75            22        35.33      7         False   False   \n",
       "6534             2.60            12        15.62      9         False   False   \n",
       "\n",
       "       ...  parks_nearest  ponds_around3000  ponds_nearest days_exposition  \\\n",
       "17172  ...            NaN              <NA>            NaN            91.0   \n",
       "16284  ...            NaN              <NA>            NaN            21.0   \n",
       "6534   ...            NaN              <NA>            NaN           207.0   \n",
       "\n",
       "       price_per_square_meter  floor_cat  living_to_total_area_corr  \\\n",
       "17172            77321.428571  последний                   0.535714   \n",
       "16284            70255.346097     другой                   0.520324   \n",
       "6534             63847.900114     другой                   0.443246   \n",
       "\n",
       "       kitchen_to_total_area_corr  week_day  month  year  \n",
       "17172                    0.178571         0     12  2017  \n",
       "16284                    0.199558         4     11  2018  \n",
       "6534                     0.293417         2      5  2017  \n",
       "\n",
       "[3 rows x 29 columns]"
      ]
     },
     "metadata": {},
     "output_type": "display_data"
    }
   ],
   "source": [
    "# проверим внесенные изменения\n",
    "display(data.sample(3))"
   ]
  },
  {
   "cell_type": "markdown",
   "metadata": {},
   "source": [
    "### Вывод:\n",
    "Все необходимые данные внесены, можно приступать к исследованию."
   ]
  },
  {
   "cell_type": "markdown",
   "metadata": {},
   "source": [
    "## Исследовательский анализ данных"
   ]
  },
  {
   "cell_type": "markdown",
   "metadata": {},
   "source": [
    "### Первичное исследование закономерностей и аномалий и визуализация"
   ]
  },
  {
   "cell_type": "code",
   "execution_count": 531,
   "metadata": {},
   "outputs": [
    {
     "data": {
      "image/png": "[encoded data removed]",
      "text/plain": [
       "<Figure size 432x288 with 1 Axes>"
      ]
     },
     "metadata": {
      "needs_background": "light"
     },
     "output_type": "display_data"
    },
    {
     "data": {
      "image/png": "[encoded data removed]",
      "text/plain": [
       "<Figure size 432x288 with 1 Axes>"
      ]
     },
     "metadata": {
      "needs_background": "light"
     },
     "output_type": "display_data"
    },
    {
     "data": {
      "image/png": "[encoded data removed]",
      "text/plain": [
       "<Figure size 432x288 with 1 Axes>"
      ]
     },
     "metadata": {
      "needs_background": "light"
     },
     "output_type": "display_data"
    },
    {
     "data": {
      "image/png": "[encoded data removed]",
      "text/plain": [
       "<Figure size 432x288 with 1 Axes>"
      ]
     },
     "metadata": {
      "needs_background": "light"
     },
     "output_type": "display_data"
    }
   ],
   "source": [
    "#построим гистограммы для площади, цены, кол-ва комнат и высоты потолков\n",
    "cols = ['total_area', 'last_price', 'rooms', 'ceiling_height']\n",
    "for column in cols:\n",
    "    data.plot(kind = 'hist', y = column, \n",
    "          range = (data[column].quantile(0.05), data[column].quantile(0.95)), bins = 10, grid = True, title = column)\n",
    "    plt.show()"
   ]
  },
  {
   "cell_type": "markdown",
   "metadata": {},
   "source": [
    "Гистограмма частот уже показала некоторые закономерности:\n",
    "\n",
    "- 30-40 квадратов - наиболее частопродаваемые квартиры, чем больше площадь, тем меньше объявлений\n",
    "\n",
    "- 4-6 млн - самые частотные цены, выставляемые за жилье, чем цена выше, тем объявлений меньше\n",
    "\n",
    "- однушки и двушки - самые ходовые квартиры. Трешки отстают, дальше разрыв только увеличивается\n",
    "\n",
    "- потолков ниже 2.5 метра и выше 3.1 не встретишь в 95% наблюдений\n",
    "\n",
    "Построим диаграммы размаха для их подтверждения и выявления аномалий."
   ]
  },
  {
   "cell_type": "code",
   "execution_count": 532,
   "metadata": {},
   "outputs": [
    {
     "data": {
      "image/png": "[encoded data removed]",
      "text/plain": [
       "<Figure size 144x504 with 1 Axes>"
      ]
     },
     "metadata": {
      "needs_background": "light"
     },
     "output_type": "display_data"
    },
    {
     "data": {
      "image/png": "[encoded data removed]",
      "text/plain": [
       "<Figure size 144x504 with 1 Axes>"
      ]
     },
     "metadata": {
      "needs_background": "light"
     },
     "output_type": "display_data"
    },
    {
     "data": {
      "image/png": "[encoded data removed]",
      "text/plain": [
       "<Figure size 144x504 with 1 Axes>"
      ]
     },
     "metadata": {
      "needs_background": "light"
     },
     "output_type": "display_data"
    },
    {
     "data": {
      "image/png": "[encoded data removed]",
      "text/plain": [
       "<Figure size 144x504 with 1 Axes>"
      ]
     },
     "metadata": {
      "needs_background": "light"
     },
     "output_type": "display_data"
    }
   ],
   "source": [
    "#построим боксплоты \n",
    "cols = ['total_area', 'last_price', 'rooms', 'ceiling_height']\n",
    "for column in cols:\n",
    "    data.plot(kind = 'box', y = column, grid = True, title = column, figsize = (2,7))\n",
    "    plt.show()"
   ]
  },
  {
   "cell_type": "markdown",
   "metadata": {},
   "source": [
    "<b>ПРОМЕЖУТОЧНЫЙ ВЫВОД:</b> обнаружены выбросы:\n",
    "1) общая площадь меньше 10 и больше 120\n",
    "\n",
    "2) цена меньше 20000 и больше 11 млн. \n",
    "\n",
    "3) больше 6 комнат\n",
    "\n",
    "4) Высота потолков меньше 2.25 и больше 3,5 м "
   ]
  },
  {
   "cell_type": "code",
   "execution_count": 533,
   "metadata": {},
   "outputs": [
    {
     "data": {
      "text/plain": [
       "<matplotlib.lines.Line2D at 0x7f33c679a640>"
      ]
     },
     "execution_count": 533,
     "metadata": {},
     "output_type": "execute_result"
    },
    {
     "data": {
      "image/png": "[encoded data removed]",
      "text/plain": [
       "<Figure size 432x288 with 1 Axes>"
      ]
     },
     "metadata": {
      "needs_background": "light"
     },
     "output_type": "display_data"
    }
   ],
   "source": [
    "#построим гистограмму для дней продажи\n",
    "data.plot(kind = 'hist', y = 'days_exposition', \n",
    "          range = (0, 800), bins = 30, grid = True, title = 'Дни продажи')\n",
    "\n",
    "#нанесем медиану и среднее на график\n",
    "plt.axvline(data['days_exposition'].mean(), color='r', linestyle='dashed', linewidth=1)\n",
    "plt.axvline(data['days_exposition'].median(), color='k', linestyle='dashed', linewidth=1)"
   ]
  },
  {
   "cell_type": "markdown",
   "metadata": {},
   "source": [
    "<b>ПРОМЕЖУТОЧНЫЙ ВЫВОД:</b> 100-200 дней, судя по гистограмме, требуется для продажи объекта недвижимости. Среднее значение сдвинуто вправо, значит, на него влияют выбросы - квартиры с аномально долгими сроками размещения."
   ]
  },
  {
   "cell_type": "code",
   "execution_count": 534,
   "metadata": {},
   "outputs": [
    {
     "data": {
      "text/plain": [
       "<AxesSubplot:title={'center':'Сроки продаж недвижимости'}>"
      ]
     },
     "execution_count": 534,
     "metadata": {},
     "output_type": "execute_result"
    },
    {
     "data": {
      "image/png": "[encoded data removed]",
      "text/plain": [
       "<Figure size 144x504 with 1 Axes>"
      ]
     },
     "metadata": {
      "needs_background": "light"
     },
     "output_type": "display_data"
    }
   ],
   "source": [
    "# взглянем на аномалии в длительности продаж\n",
    "data.plot(kind = 'box', y = 'days_exposition', grid = True, figsize = (2,7), title = 'Сроки продаж недвижимости')"
   ]
  },
  {
   "cell_type": "markdown",
   "metadata": {},
   "source": [
    "<b>ПРОМЕЖУТОЧНЫЙ ВЫВОД:</b> Судя по диагр. размаха, аномальное долгие продажи занимают более 500 дней, а аномально быстрые продажи занимают менее 10 дней. Теперь, когда границы всех аномалий известны, нужно отсечь аномальные данные."
   ]
  },
  {
   "cell_type": "markdown",
   "metadata": {},
   "source": [
    "### Удаление аномальных значений"
   ]
  },
  {
   "cell_type": "code",
   "execution_count": 535,
   "metadata": {},
   "outputs": [
    {
     "data": {
      "text/plain": [
       "(18022, 29)"
      ]
     },
     "execution_count": 535,
     "metadata": {},
     "output_type": "execute_result"
    }
   ],
   "source": [
    "# отфильтруем нужные данные с помощью query\n",
    "final_data = data.query(('10 < days_exposition < 500') and \n",
    "                        ('20000 <= last_price <= 11000000') and\n",
    "                        ('1 <= rooms < 6') and ('2.25 <= ceiling_height <= 3.5')\n",
    "                        and ('10 < total_area <=120')) \n",
    "\n",
    "final_data.shape"
   ]
  },
  {
   "cell_type": "markdown",
   "metadata": {},
   "source": [
    "<b>ПРОМЕЖУТОЧНЫЙ ВЫВОД:</b> минус 700 объектов, данные очищены от аномалий, можно приступать к выявлению факторов ценообразования. "
   ]
  },
  {
   "cell_type": "markdown",
   "metadata": {},
   "source": [
    "### Исследование факторов ценообразования"
   ]
  },
  {
   "cell_type": "code",
   "execution_count": 536,
   "metadata": {},
   "outputs": [
    {
     "data": {
      "text/html": [
       "<div>\n",
       "<style scoped>\n",
       "    .dataframe tbody tr th:only-of-type {\n",
       "        vertical-align: middle;\n",
       "    }\n",
       "\n",
       "    .dataframe tbody tr th {\n",
       "        vertical-align: top;\n",
       "    }\n",
       "\n",
       "    .dataframe thead th {\n",
       "        text-align: right;\n",
       "    }\n",
       "</style>\n",
       "<table border=\"1\" class=\"dataframe\">\n",
       "  <thead>\n",
       "    <tr style=\"text-align: right;\">\n",
       "      <th></th>\n",
       "      <th>last_price</th>\n",
       "    </tr>\n",
       "  </thead>\n",
       "  <tbody>\n",
       "    <tr>\n",
       "      <th>last_price</th>\n",
       "      <td>1.000000</td>\n",
       "    </tr>\n",
       "    <tr>\n",
       "      <th>price_per_square_meter</th>\n",
       "      <td>0.739261</td>\n",
       "    </tr>\n",
       "    <tr>\n",
       "      <th>total_area</th>\n",
       "      <td>0.699068</td>\n",
       "    </tr>\n",
       "    <tr>\n",
       "      <th>living_area</th>\n",
       "      <td>0.569775</td>\n",
       "    </tr>\n",
       "    <tr>\n",
       "      <th>kitchen_area</th>\n",
       "      <td>0.515149</td>\n",
       "    </tr>\n",
       "    <tr>\n",
       "      <th>rooms</th>\n",
       "      <td>0.414714</td>\n",
       "    </tr>\n",
       "  </tbody>\n",
       "</table>\n",
       "</div>"
      ],
      "text/plain": [
       "                        last_price\n",
       "last_price                1.000000\n",
       "price_per_square_meter    0.739261\n",
       "total_area                0.699068\n",
       "living_area               0.569775\n",
       "kitchen_area              0.515149\n",
       "rooms                     0.414714"
      ]
     },
     "metadata": {},
     "output_type": "display_data"
    },
    {
     "data": {
      "text/html": [
       "<div>\n",
       "<style scoped>\n",
       "    .dataframe tbody tr th:only-of-type {\n",
       "        vertical-align: middle;\n",
       "    }\n",
       "\n",
       "    .dataframe tbody tr th {\n",
       "        vertical-align: top;\n",
       "    }\n",
       "\n",
       "    .dataframe thead th {\n",
       "        text-align: right;\n",
       "    }\n",
       "</style>\n",
       "<table border=\"1\" class=\"dataframe\">\n",
       "  <thead>\n",
       "    <tr style=\"text-align: right;\">\n",
       "      <th></th>\n",
       "      <th>last_price</th>\n",
       "    </tr>\n",
       "  </thead>\n",
       "  <tbody>\n",
       "    <tr>\n",
       "      <th>cityCenters_nearest</th>\n",
       "      <td>-0.334745</td>\n",
       "    </tr>\n",
       "    <tr>\n",
       "      <th>kitchen_to_total_area_corr</th>\n",
       "      <td>-0.088690</td>\n",
       "    </tr>\n",
       "    <tr>\n",
       "      <th>ponds_nearest</th>\n",
       "      <td>-0.086286</td>\n",
       "    </tr>\n",
       "    <tr>\n",
       "      <th>studio</th>\n",
       "      <td>-0.055512</td>\n",
       "    </tr>\n",
       "    <tr>\n",
       "      <th>year</th>\n",
       "      <td>-0.048752</td>\n",
       "    </tr>\n",
       "    <tr>\n",
       "      <th>airports_nearest</th>\n",
       "      <td>-0.044556</td>\n",
       "    </tr>\n",
       "  </tbody>\n",
       "</table>\n",
       "</div>"
      ],
      "text/plain": [
       "                            last_price\n",
       "cityCenters_nearest          -0.334745\n",
       "kitchen_to_total_area_corr   -0.088690\n",
       "ponds_nearest                -0.086286\n",
       "studio                       -0.055512\n",
       "year                         -0.048752\n",
       "airports_nearest             -0.044556"
      ]
     },
     "metadata": {},
     "output_type": "display_data"
    }
   ],
   "source": [
    "# посмотрим на корелляцию цены от всех других признаков и выделим топ-5 признаков с пол.корр.\n",
    "display(pd.DataFrame(final_data.corr()['last_price']).sort_values(by = 'last_price', ascending = False).head(6))\n",
    "\n",
    "# то же самое с отрицательной корр.\n",
    "display(pd.DataFrame(final_data.corr()['last_price']).sort_values(by = 'last_price', ascending = True).head(6))"
   ]
  },
  {
   "cell_type": "code",
   "execution_count": 537,
   "metadata": {},
   "outputs": [
    {
     "data": {
      "text/plain": [
       "Text(0.5, 1.0, 'Корреляция цены объекта недвижимости с различными факторами')"
      ]
     },
     "execution_count": 537,
     "metadata": {},
     "output_type": "execute_result"
    },
    {
     "data": {
      "image/png": "[encoded data removed]",
      "text/plain": [
       "<Figure size 432x288 with 1 Axes>"
      ]
     },
     "metadata": {
      "needs_background": "light"
     },
     "output_type": "display_data"
    }
   ],
   "source": [
    "# визуализируем корреляцию цены от других факторов\n",
    "pd.DataFrame(final_data.corr()['last_price']).sort_values(by = 'last_price', ascending = True).plot(kind = 'bar')\n",
    "plt.title('Корреляция цены объекта недвижимости с различными факторами')"
   ]
  },
  {
   "cell_type": "markdown",
   "metadata": {},
   "source": [
    "<b>ВЫВОДЫ:</b> сильная положительная корреляция прослеживается с общей, жилой и площадью кухни, с также количеством комнат. Ощутимая отрицательная корреляция - с удаленностью от центра города. Наименее влияющие на ценообразование факторы - день и месяц размещения объявления. Корреляция с этажностью  и количеством дней размещения очень слабая, но можно рассмотреть ее поближе."
   ]
  },
  {
   "cell_type": "code",
   "execution_count": 538,
   "metadata": {},
   "outputs": [
    {
     "data": {
      "image/png": "[encoded data removed]",
      "text/plain": [
       "<Figure size 432x288 with 1 Axes>"
      ]
     },
     "metadata": {
      "needs_background": "light"
     },
     "output_type": "display_data"
    },
    {
     "data": {
      "image/png": "[encoded data removed]",
      "text/plain": [
       "<Figure size 432x288 with 1 Axes>"
      ]
     },
     "metadata": {
      "needs_background": "light"
     },
     "output_type": "display_data"
    }
   ],
   "source": [
    "sns.barplot(x= final_data['floor_cat'], y= final_data['last_price'])\n",
    "plt.show() \n",
    "sns.scatterplot(x= final_data['days_exposition'], y= final_data['last_price'])\n",
    "plt.show() "
   ]
  },
  {
   "cell_type": "markdown",
   "metadata": {},
   "source": [
    "<b>ВЫВОДЫ:</b>\n",
    "- Первый этаж самый непопулярный, за ним следует последний.\n",
    "- Цены квартир на других этажах выше.\n",
    "- Чем больше висит объявление, тем более вероятно снизится цена объекта.\n",
    "\n",
    "Теперь отберем 10 пунктов с наибольшим числом объявлений и посмотрим на них."
   ]
  },
  {
   "cell_type": "markdown",
   "metadata": {},
   "source": [
    "### Исследование населенных пунктов с наибольшим числом объявлений"
   ]
  },
  {
   "cell_type": "code",
   "execution_count": 539,
   "metadata": {},
   "outputs": [
    {
     "data": {
      "text/html": [
       "<div>\n",
       "<style scoped>\n",
       "    .dataframe tbody tr th:only-of-type {\n",
       "        vertical-align: middle;\n",
       "    }\n",
       "\n",
       "    .dataframe tbody tr th {\n",
       "        vertical-align: top;\n",
       "    }\n",
       "\n",
       "    .dataframe thead th {\n",
       "        text-align: right;\n",
       "    }\n",
       "</style>\n",
       "<table border=\"1\" class=\"dataframe\">\n",
       "  <thead>\n",
       "    <tr style=\"text-align: right;\">\n",
       "      <th></th>\n",
       "      <th>price_per_square_meter</th>\n",
       "    </tr>\n",
       "    <tr>\n",
       "      <th>locality_name</th>\n",
       "      <th></th>\n",
       "    </tr>\n",
       "  </thead>\n",
       "  <tbody>\n",
       "    <tr>\n",
       "      <th>Санкт-Петербург</th>\n",
       "      <td>108543.719601</td>\n",
       "    </tr>\n",
       "    <tr>\n",
       "      <th>Пушкин</th>\n",
       "      <td>101844.848525</td>\n",
       "    </tr>\n",
       "    <tr>\n",
       "      <th>деревня Кудрово</th>\n",
       "      <td>92702.184418</td>\n",
       "    </tr>\n",
       "    <tr>\n",
       "      <th>посёлок Парголово</th>\n",
       "      <td>89816.024436</td>\n",
       "    </tr>\n",
       "    <tr>\n",
       "      <th>посёлок Мурино</th>\n",
       "      <td>86447.415129</td>\n",
       "    </tr>\n",
       "    <tr>\n",
       "      <th>Петергоф</th>\n",
       "      <td>82616.328708</td>\n",
       "    </tr>\n",
       "    <tr>\n",
       "      <th>посёлок Шушары</th>\n",
       "      <td>78248.455496</td>\n",
       "    </tr>\n",
       "    <tr>\n",
       "      <th>Колпино</th>\n",
       "      <td>74691.58415</td>\n",
       "    </tr>\n",
       "    <tr>\n",
       "      <th>Всеволожск</th>\n",
       "      <td>68856.284266</td>\n",
       "    </tr>\n",
       "    <tr>\n",
       "      <th>Гатчина</th>\n",
       "      <td>67941.465772</td>\n",
       "    </tr>\n",
       "  </tbody>\n",
       "</table>\n",
       "</div>"
      ],
      "text/plain": [
       "                   price_per_square_meter\n",
       "locality_name                            \n",
       "Санкт-Петербург             108543.719601\n",
       "Пушкин                      101844.848525\n",
       "деревня Кудрово              92702.184418\n",
       "посёлок Парголово            89816.024436\n",
       "посёлок Мурино               86447.415129\n",
       "Петергоф                     82616.328708\n",
       "посёлок Шушары               78248.455496\n",
       "Колпино                       74691.58415\n",
       "Всеволожск                   68856.284266\n",
       "Гатчина                      67941.465772"
      ]
     },
     "metadata": {},
     "output_type": "display_data"
    },
    {
     "data": {
      "text/plain": [
       "<AxesSubplot:xlabel='locality_name'>"
      ]
     },
     "execution_count": 539,
     "metadata": {},
     "output_type": "execute_result"
    },
    {
     "data": {
      "image/png": "[encoded data removed]",
      "text/plain": [
       "<Figure size 432x288 with 1 Axes>"
      ]
     },
     "metadata": {
      "needs_background": "light"
     },
     "output_type": "display_data"
    }
   ],
   "source": [
    "# выделим населенные пункты\n",
    "big_localities_list = list(data['locality_name'].value_counts().head(10).index)\n",
    "\n",
    "big_localities = final_data.query('locality_name in @big_localities_list')\n",
    "\n",
    "# произведем аггрегацию по средней цене в нас. пункте\n",
    "display(pd.DataFrame(big_localities.groupby('locality_name')['price_per_square_meter'].mean().sort_values(ascending = False)))\n",
    "\n",
    "# добавим визуализацию\n",
    "pd.DataFrame(big_localities.groupby('locality_name')['price_per_square_meter'].mean().sort_values(ascending = False)).plot(kind = 'bar')\n"
   ]
  },
  {
   "cell_type": "markdown",
   "metadata": {},
   "source": [
    "<b>ВЫВОД:</b> самые дорогие квартиры в Петербурге и Пишкине. Самые дешевые - во Всеволожске и Гатчине. "
   ]
  },
  {
   "cell_type": "markdown",
   "metadata": {},
   "source": [
    "### Исследование квартир в Петербурге"
   ]
  },
  {
   "cell_type": "code",
   "execution_count": 541,
   "metadata": {},
   "outputs": [],
   "source": [
    "# отфильтруем нужный регион\n",
    "st_peter = data[data['locality_name'] == 'Санкт-Петербург']\n",
    "\n",
    "# добавим столбец с км до центра города\n",
    "pd.options.mode.chained_assignment = None\n",
    "st_peter['km_to_centre'] = st_peter['cityCenters_nearest'].apply(lambda x: np.ceil(x/1000)) "
   ]
  },
  {
   "cell_type": "markdown",
   "metadata": {},
   "source": [
    "Теперь проанализируем зависимость цены квартиры в Питере от близости ее к центру."
   ]
  },
  {
   "cell_type": "code",
   "execution_count": 545,
   "metadata": {},
   "outputs": [
    {
     "data": {
      "text/plain": [
       "Text(0.5, 1.0, 'Динамика изменения цены объекта недвижимости в Санкт-Петербурге в зависимости от близости к центру')"
      ]
     },
     "execution_count": 545,
     "metadata": {},
     "output_type": "execute_result"
    },
    {
     "data": {
      "image/png": "[encoded data removed]",
      "text/plain": [
       "<Figure size 432x288 with 1 Axes>"
      ]
     },
     "metadata": {
      "needs_background": "light"
     },
     "output_type": "display_data"
    }
   ],
   "source": [
    "# построим график по аггрегированной таблице\n",
    "pd.DataFrame(st_peter.groupby('km_to_centre')['price_per_square_meter'].mean()).plot()\n",
    "plt.title('Динамика изменения цены объекта недвижимости в Санкт-Петербурге в зависимости от близости к центру')"
   ]
  },
  {
   "cell_type": "markdown",
   "metadata": {},
   "source": [
    "<b>ВЫВОД:</b> на графике прослеживаются два пика - около 7 км и 27 км. При этом до 5 км наблюдается стабильный спад цен, чем дальше от центра - тем сильнее падение. В пределах 5 км и до 7 км цены снова растут, потом снова падают примерно до отметки удаленности в 10 км от центра. Поэтому я бы сказала, что \"самый центр\" находится все-таки в пределах 5 км."
   ]
  },
  {
   "cell_type": "markdown",
   "metadata": {},
   "source": [
    "### Исследование квартир в центре Санкт-Петербурга"
   ]
  },
  {
   "cell_type": "code",
   "execution_count": 554,
   "metadata": {},
   "outputs": [
    {
     "data": {
      "text/html": [
       "<div>\n",
       "<style scoped>\n",
       "    .dataframe tbody tr th:only-of-type {\n",
       "        vertical-align: middle;\n",
       "    }\n",
       "\n",
       "    .dataframe tbody tr th {\n",
       "        vertical-align: top;\n",
       "    }\n",
       "\n",
       "    .dataframe thead th {\n",
       "        text-align: right;\n",
       "    }\n",
       "</style>\n",
       "<table border=\"1\" class=\"dataframe\">\n",
       "  <thead>\n",
       "    <tr style=\"text-align: right;\">\n",
       "      <th></th>\n",
       "      <th>last_price</th>\n",
       "    </tr>\n",
       "  </thead>\n",
       "  <tbody>\n",
       "    <tr>\n",
       "      <th>last_price</th>\n",
       "      <td>1.000000</td>\n",
       "    </tr>\n",
       "    <tr>\n",
       "      <th>price_per_square_meter</th>\n",
       "      <td>0.844582</td>\n",
       "    </tr>\n",
       "    <tr>\n",
       "      <th>total_area</th>\n",
       "      <td>0.534871</td>\n",
       "    </tr>\n",
       "    <tr>\n",
       "      <th>living_area</th>\n",
       "      <td>0.468628</td>\n",
       "    </tr>\n",
       "    <tr>\n",
       "      <th>kitchen_area</th>\n",
       "      <td>0.303094</td>\n",
       "    </tr>\n",
       "    <tr>\n",
       "      <th>rooms</th>\n",
       "      <td>0.270092</td>\n",
       "    </tr>\n",
       "  </tbody>\n",
       "</table>\n",
       "</div>"
      ],
      "text/plain": [
       "                        last_price\n",
       "last_price                1.000000\n",
       "price_per_square_meter    0.844582\n",
       "total_area                0.534871\n",
       "living_area               0.468628\n",
       "kitchen_area              0.303094\n",
       "rooms                     0.270092"
      ]
     },
     "metadata": {},
     "output_type": "display_data"
    },
    {
     "data": {
      "text/html": [
       "<div>\n",
       "<style scoped>\n",
       "    .dataframe tbody tr th:only-of-type {\n",
       "        vertical-align: middle;\n",
       "    }\n",
       "\n",
       "    .dataframe tbody tr th {\n",
       "        vertical-align: top;\n",
       "    }\n",
       "\n",
       "    .dataframe thead th {\n",
       "        text-align: right;\n",
       "    }\n",
       "</style>\n",
       "<table border=\"1\" class=\"dataframe\">\n",
       "  <thead>\n",
       "    <tr style=\"text-align: right;\">\n",
       "      <th></th>\n",
       "      <th>last_price</th>\n",
       "    </tr>\n",
       "  </thead>\n",
       "  <tbody>\n",
       "    <tr>\n",
       "      <th>kitchen_to_total_area_corr</th>\n",
       "      <td>-0.102492</td>\n",
       "    </tr>\n",
       "    <tr>\n",
       "      <th>km_to_centre</th>\n",
       "      <td>-0.090168</td>\n",
       "    </tr>\n",
       "    <tr>\n",
       "      <th>cityCenters_nearest</th>\n",
       "      <td>-0.087018</td>\n",
       "    </tr>\n",
       "    <tr>\n",
       "      <th>year</th>\n",
       "      <td>-0.034293</td>\n",
       "    </tr>\n",
       "    <tr>\n",
       "      <th>studio</th>\n",
       "      <td>-0.022130</td>\n",
       "    </tr>\n",
       "  </tbody>\n",
       "</table>\n",
       "</div>"
      ],
      "text/plain": [
       "                            last_price\n",
       "kitchen_to_total_area_corr   -0.102492\n",
       "km_to_centre                 -0.090168\n",
       "cityCenters_nearest          -0.087018\n",
       "year                         -0.034293\n",
       "studio                       -0.022130"
      ]
     },
     "metadata": {},
     "output_type": "display_data"
    },
    {
     "data": {
      "text/plain": [
       "Text(0.5, 1.0, 'Хитмэп корреляции цены квартир в центре Санкт-Петербурга')"
      ]
     },
     "execution_count": 554,
     "metadata": {},
     "output_type": "execute_result"
    },
    {
     "data": {
      "image/png": "[encoded data removed]",
      "text/plain": [
       "<Figure size 432x288 with 2 Axes>"
      ]
     },
     "metadata": {
      "needs_background": "light"
     },
     "output_type": "display_data"
    }
   ],
   "source": [
    "# отфильтруем квартиры в центре Петербурга\n",
    "peter_centre = st_peter.query('km_to_centre <= 5')\n",
    "\n",
    "# посмотрим корреляцию цен с другими факторами\n",
    "display(pd.DataFrame(peter_centre.corr()['last_price'].sort_values(ascending = False).head(6)))\n",
    "display(pd.DataFrame(peter_centre.corr()['last_price'].sort_values(ascending = True).head(5)))\n",
    "\n",
    "# добавим визуализацию\n",
    "sns.heatmap(peter_centre.corr())\n",
    "plt.title('Хитмэп корреляции цены квартир в центре Санкт-Петербурга')"
   ]
  },
  {
   "cell_type": "markdown",
   "metadata": {},
   "source": [
    "<b>ВЫВОД:</b> топ-5 факторов, наиболее сильно влияющих на ценообразование, не поменялся."
   ]
  },
  {
   "cell_type": "markdown",
   "metadata": {},
   "source": [
    "## Общий вывод"
   ]
  },
  {
   "cell_type": "markdown",
   "metadata": {},
   "source": [
    "Без учета аномальных значений, в среднем больше всего на стоимость жилья влияют следующие факторы:\n",
    "- населенный пункт\n",
    "- общая площадь жилья\n",
    "- количество комнат\n",
    "- удаленность от центра\n",
    "- категория этажа (средние - самые дорогие)\n",
    "- год публикации объявления (чем дольше висит, тем дешевле квартира)\n"
   ]
  },
  {
   "cell_type": "markdown",
   "metadata": {},
   "source": [
    "## Чек-лист готовности проекта\n",
    "\n",
    "Поставьте 'x' в выполненных пунктах. Далее нажмите Shift+Enter."
   ]
  },
  {
   "cell_type": "markdown",
   "metadata": {},
   "source": [
    "- [x]  открыт файл\n",
    "- [x]  файлы изучены (выведены первые строки, метод info())\n",
    "- [x]  определены пропущенные значения\n",
    "- [x]  заполнены пропущенные значения\n",
    "- [x]  есть пояснение, какие пропущенные значения обнаружены\n",
    "- [x]  изменены типы данных\n",
    "- [x]  есть пояснение, в каких столбцах изменены типы и почему\n",
    "- [x]  посчитано и добавлено в таблицу: цена квадратного метра\n",
    "- [x]  посчитано и добавлено в таблицу: день недели, месяц и год публикации объявления\n",
    "- [x]  посчитано и добавлено в таблицу: этаж квартиры; варианты — первый, последний, другой\n",
    "- [x]  посчитано и добавлено в таблицу: соотношение жилой и общей площади, а также отношение площади кухни к общей\n",
    "- [x]  изучены следующие параметры: площадь, цена, число комнат, высота потолков\n",
    "- [x]  построены гистограммы для каждого параметра\n",
    "- [x]  выполнено задание: \"Изучите время продажи квартиры. Постройте гистограмму. Посчитайте среднее и медиану. Опишите, сколько обычно занимает продажа. Когда можно считать, что продажи прошли очень быстро, а когда необычно долго?\"\n",
    "- [x]  выполнено задание: \"Уберите редкие и выбивающиеся значения. Опишите, какие особенности обнаружили.\"\n",
    "- [x]  выполнено задание: \"Какие факторы больше всего влияют на стоимость квартиры? Изучите, зависит ли цена от квадратного метра, числа комнат, этажа (первого или последнего), удалённости от центра. Также изучите зависимость от даты размещения: дня недели, месяца и года. \"Выберите 10 населённых пунктов с наибольшим числом объявлений. Посчитайте среднюю цену квадратного метра в этих населённых пунктах. Выделите населённые пункты с самой высокой и низкой стоимостью жилья. Эти данные можно найти по имени в столбце '*locality_name'*. \"\n",
    "- [x]  выполнено задание: \"Изучите предложения квартир: для каждой квартиры есть информация о расстоянии до центра. Выделите квартиры в Санкт-Петербурге (*'locality_name'*). Ваша задача — выяснить, какая область входит в центр. Создайте столбец с расстоянием до центра в километрах: округлите до целых значений. После этого посчитайте среднюю цену для каждого километра. Постройте график: он должен показывать, как цена зависит от удалённости от центра. Определите границу, где график сильно меняется — это и будет центральная зона. \"\n",
    "- [x]  выполнено задание: \"Выделите сегмент квартир в центре. Проанализируйте эту территорию и изучите следующие параметры: площадь, цена, число комнат, высота потолков. Также выделите факторы, которые влияют на стоимость квартиры (число комнат, этаж, удалённость от центра, дата размещения объявления). Сделайте выводы. Отличаются ли они от общих выводов по всему городу?\"\n",
    "- [x]  в каждом этапе есть выводы\n",
    "- [x]  есть общий вывод"
   ]
  },
  {
   "cell_type": "code",
   "execution_count": null,
   "metadata": {},
   "outputs": [],
   "source": []
  }
 ],
 "metadata": {
  "ExecuteTimeLog": [
   {
    "duration": 187,
    "start_time": "2021-12-08T18:52:01.603Z"
   },
   {
    "duration": 904,
    "start_time": "2021-12-08T18:52:06.963Z"
   },
   {
    "duration": 102,
    "start_time": "2021-12-08T18:52:33.322Z"
   },
   {
    "duration": 119,
    "start_time": "2021-12-08T18:52:55.610Z"
   },
   {
    "duration": 615,
    "start_time": "2021-12-08T18:54:34.817Z"
   },
   {
    "duration": 269,
    "start_time": "2021-12-08T18:54:52.004Z"
   },
   {
    "duration": 136,
    "start_time": "2021-12-08T18:55:35.942Z"
   },
   {
    "duration": 519,
    "start_time": "2021-12-08T18:56:36.116Z"
   },
   {
    "duration": 534,
    "start_time": "2021-12-08T18:57:20.515Z"
   },
   {
    "duration": 133,
    "start_time": "2021-12-08T18:57:31.152Z"
   },
   {
    "duration": 99,
    "start_time": "2021-12-08T18:57:45.448Z"
   },
   {
    "duration": 139,
    "start_time": "2021-12-08T18:57:59.011Z"
   },
   {
    "duration": 187,
    "start_time": "2021-12-08T18:58:12.362Z"
   },
   {
    "duration": 110,
    "start_time": "2021-12-08T19:03:51.220Z"
   },
   {
    "duration": 571,
    "start_time": "2021-12-08T19:04:39.663Z"
   },
   {
    "duration": 111,
    "start_time": "2021-12-08T19:04:57.249Z"
   },
   {
    "duration": 114,
    "start_time": "2021-12-08T19:05:43.335Z"
   },
   {
    "duration": 121,
    "start_time": "2021-12-08T19:06:01.886Z"
   },
   {
    "duration": 123,
    "start_time": "2021-12-08T19:09:01.863Z"
   },
   {
    "duration": 118,
    "start_time": "2021-12-08T19:09:36.415Z"
   },
   {
    "duration": 122,
    "start_time": "2021-12-08T19:09:54.098Z"
   },
   {
    "duration": 533,
    "start_time": "2021-12-08T19:10:19.623Z"
   },
   {
    "duration": 124,
    "start_time": "2021-12-08T19:12:08.168Z"
   },
   {
    "duration": 135,
    "start_time": "2021-12-08T19:12:55.161Z"
   },
   {
    "duration": 130,
    "start_time": "2021-12-08T19:13:43.798Z"
   },
   {
    "duration": 126,
    "start_time": "2021-12-08T19:14:06.034Z"
   },
   {
    "duration": 118,
    "start_time": "2021-12-08T19:14:32.363Z"
   },
   {
    "duration": 100,
    "start_time": "2021-12-08T19:14:51.381Z"
   },
   {
    "duration": 89,
    "start_time": "2021-12-08T19:15:12.902Z"
   },
   {
    "duration": 95,
    "start_time": "2021-12-08T19:15:49.724Z"
   },
   {
    "duration": 1640,
    "start_time": "2021-12-08T19:20:17.962Z"
   },
   {
    "duration": 116,
    "start_time": "2021-12-08T19:20:27.291Z"
   },
   {
    "duration": 125,
    "start_time": "2021-12-08T19:20:46.470Z"
   },
   {
    "duration": 589,
    "start_time": "2021-12-08T19:22:17.962Z"
   },
   {
    "duration": 108,
    "start_time": "2021-12-08T19:22:29.915Z"
   },
   {
    "duration": 110,
    "start_time": "2021-12-08T19:23:01.033Z"
   },
   {
    "duration": 135,
    "start_time": "2021-12-08T19:24:16.196Z"
   },
   {
    "duration": 469,
    "start_time": "2021-12-08T19:25:28.151Z"
   },
   {
    "duration": 468,
    "start_time": "2021-12-08T19:25:39.178Z"
   },
   {
    "duration": 97,
    "start_time": "2021-12-08T19:25:46.113Z"
   },
   {
    "duration": 85,
    "start_time": "2021-12-08T19:26:24.335Z"
   },
   {
    "duration": 118,
    "start_time": "2021-12-08T19:26:46.714Z"
   },
   {
    "duration": 111,
    "start_time": "2021-12-08T19:27:47.338Z"
   },
   {
    "duration": 136,
    "start_time": "2021-12-08T19:32:07.547Z"
   },
   {
    "duration": 138,
    "start_time": "2021-12-08T19:32:49.134Z"
   },
   {
    "duration": 135,
    "start_time": "2021-12-08T19:32:53.749Z"
   },
   {
    "duration": 122,
    "start_time": "2021-12-08T19:33:18.730Z"
   },
   {
    "duration": 569,
    "start_time": "2021-12-08T19:34:39.035Z"
   },
   {
    "duration": 528,
    "start_time": "2021-12-08T19:34:52.343Z"
   },
   {
    "duration": 567,
    "start_time": "2021-12-08T19:35:50.014Z"
   },
   {
    "duration": 1446,
    "start_time": "2021-12-08T19:36:19.827Z"
   },
   {
    "duration": 655,
    "start_time": "2021-12-08T19:36:39.055Z"
   },
   {
    "duration": 1322,
    "start_time": "2021-12-08T19:37:42.053Z"
   },
   {
    "duration": 114,
    "start_time": "2021-12-08T19:38:37.327Z"
   },
   {
    "duration": 119,
    "start_time": "2021-12-08T19:38:54.692Z"
   },
   {
    "duration": 112,
    "start_time": "2021-12-08T19:39:14.447Z"
   },
   {
    "duration": 115,
    "start_time": "2021-12-08T19:40:17.481Z"
   },
   {
    "duration": 115,
    "start_time": "2021-12-08T20:00:07.679Z"
   },
   {
    "duration": 128,
    "start_time": "2021-12-08T20:00:44.871Z"
   },
   {
    "duration": 651,
    "start_time": "2021-12-08T20:05:14.773Z"
   },
   {
    "duration": 151,
    "start_time": "2021-12-08T20:05:30.915Z"
   },
   {
    "duration": 146,
    "start_time": "2021-12-08T20:06:14.118Z"
   },
   {
    "duration": 489,
    "start_time": "2021-12-08T20:06:43.987Z"
   },
   {
    "duration": 165,
    "start_time": "2021-12-08T20:07:07.537Z"
   },
   {
    "duration": 135,
    "start_time": "2021-12-08T20:07:41.276Z"
   },
   {
    "duration": 188,
    "start_time": "2021-12-08T20:07:56.738Z"
   },
   {
    "duration": 136,
    "start_time": "2021-12-08T20:08:22.552Z"
   },
   {
    "duration": 151,
    "start_time": "2021-12-08T20:11:40.784Z"
   },
   {
    "duration": 131,
    "start_time": "2021-12-08T20:12:34.789Z"
   },
   {
    "duration": 140,
    "start_time": "2021-12-08T20:13:30.934Z"
   },
   {
    "duration": 160,
    "start_time": "2021-12-08T20:16:59.970Z"
   },
   {
    "duration": 142,
    "start_time": "2021-12-08T20:17:12.483Z"
   },
   {
    "duration": 139,
    "start_time": "2021-12-08T20:17:42.479Z"
   },
   {
    "duration": 933,
    "start_time": "2021-12-09T08:46:51.277Z"
   },
   {
    "duration": 148,
    "start_time": "2021-12-09T08:51:56.356Z"
   },
   {
    "duration": 140,
    "start_time": "2021-12-09T08:54:35.369Z"
   },
   {
    "duration": 581,
    "start_time": "2021-12-09T17:54:48.514Z"
   },
   {
    "duration": 72,
    "start_time": "2021-12-09T17:55:10.651Z"
   },
   {
    "duration": 75,
    "start_time": "2021-12-09T17:55:45.123Z"
   },
   {
    "duration": 39,
    "start_time": "2021-12-09T17:56:20.446Z"
   },
   {
    "duration": 31,
    "start_time": "2021-12-09T17:57:03.187Z"
   },
   {
    "duration": 77,
    "start_time": "2021-12-09T17:57:30.050Z"
   },
   {
    "duration": 35,
    "start_time": "2021-12-09T17:57:30.128Z"
   },
   {
    "duration": 30,
    "start_time": "2021-12-09T17:58:20.262Z"
   },
   {
    "duration": 33,
    "start_time": "2021-12-09T18:06:22.507Z"
   },
   {
    "duration": 7092,
    "start_time": "2021-12-09T18:08:40.924Z"
   },
   {
    "duration": 37,
    "start_time": "2021-12-09T18:09:45.882Z"
   },
   {
    "duration": 36,
    "start_time": "2021-12-09T18:10:14.297Z"
   },
   {
    "duration": 32,
    "start_time": "2021-12-09T18:35:43.804Z"
   },
   {
    "duration": 31,
    "start_time": "2021-12-09T18:36:16.159Z"
   },
   {
    "duration": 24,
    "start_time": "2021-12-09T18:37:00.144Z"
   },
   {
    "duration": 818,
    "start_time": "2021-12-09T18:38:01.222Z"
   },
   {
    "duration": 78,
    "start_time": "2021-12-09T18:38:50.319Z"
   },
   {
    "duration": 25,
    "start_time": "2021-12-09T18:39:00.087Z"
   },
   {
    "duration": 74,
    "start_time": "2021-12-09T18:39:36.318Z"
   },
   {
    "duration": 55,
    "start_time": "2021-12-09T18:39:36.394Z"
   },
   {
    "duration": 22,
    "start_time": "2021-12-09T18:40:53.706Z"
   },
   {
    "duration": 22,
    "start_time": "2021-12-09T18:42:24.925Z"
   },
   {
    "duration": 336,
    "start_time": "2021-12-09T18:44:46.242Z"
   },
   {
    "duration": 91,
    "start_time": "2021-12-09T18:45:32.151Z"
   },
   {
    "duration": 34,
    "start_time": "2021-12-09T18:47:01.735Z"
   },
   {
    "duration": 35,
    "start_time": "2021-12-09T18:58:34.026Z"
   },
   {
    "duration": 243,
    "start_time": "2021-12-09T18:59:14.166Z"
   },
   {
    "duration": 36,
    "start_time": "2021-12-09T18:59:36.068Z"
   },
   {
    "duration": 18,
    "start_time": "2021-12-09T19:00:38.499Z"
   },
   {
    "duration": 22,
    "start_time": "2021-12-09T19:12:38.585Z"
   },
   {
    "duration": 26,
    "start_time": "2021-12-09T19:13:46.050Z"
   },
   {
    "duration": 20,
    "start_time": "2021-12-09T19:14:15.217Z"
   },
   {
    "duration": 19,
    "start_time": "2021-12-09T19:14:23.314Z"
   },
   {
    "duration": 552,
    "start_time": "2021-12-09T19:27:48.925Z"
   },
   {
    "duration": 472,
    "start_time": "2021-12-09T19:28:08.410Z"
   },
   {
    "duration": 622,
    "start_time": "2021-12-09T19:28:54.712Z"
   },
   {
    "duration": 81,
    "start_time": "2021-12-09T19:29:57.278Z"
   },
   {
    "duration": 422,
    "start_time": "2021-12-09T19:30:05.290Z"
   },
   {
    "duration": 526,
    "start_time": "2021-12-09T19:30:56.061Z"
   },
   {
    "duration": 433,
    "start_time": "2021-12-09T19:32:40.428Z"
   },
   {
    "duration": 7029,
    "start_time": "2021-12-09T19:32:53.980Z"
   },
   {
    "duration": 517,
    "start_time": "2021-12-09T19:34:41.488Z"
   },
   {
    "duration": 496,
    "start_time": "2021-12-09T19:35:45.877Z"
   },
   {
    "duration": 495,
    "start_time": "2021-12-09T19:36:40.313Z"
   },
   {
    "duration": 8224,
    "start_time": "2021-12-09T19:38:16.405Z"
   },
   {
    "duration": 603,
    "start_time": "2021-12-09T19:40:42.295Z"
   },
   {
    "duration": 82,
    "start_time": "2021-12-09T19:40:53.977Z"
   },
   {
    "duration": 86,
    "start_time": "2021-12-09T19:42:51.936Z"
   },
   {
    "duration": 455,
    "start_time": "2021-12-09T19:42:59.622Z"
   },
   {
    "duration": 482,
    "start_time": "2021-12-09T19:46:12.885Z"
   },
   {
    "duration": 544,
    "start_time": "2021-12-09T19:47:40.530Z"
   },
   {
    "duration": 254,
    "start_time": "2021-12-09T19:48:40.582Z"
   },
   {
    "duration": 277,
    "start_time": "2021-12-09T19:48:52.161Z"
   },
   {
    "duration": 380,
    "start_time": "2021-12-09T19:49:15.972Z"
   },
   {
    "duration": 5624,
    "start_time": "2021-12-09T19:54:18.994Z"
   },
   {
    "duration": 6298,
    "start_time": "2021-12-09T19:54:56.511Z"
   },
   {
    "duration": 473,
    "start_time": "2021-12-09T19:57:44.877Z"
   },
   {
    "duration": 424,
    "start_time": "2021-12-09T19:58:50.849Z"
   },
   {
    "duration": 436,
    "start_time": "2021-12-09T20:00:10.831Z"
   },
   {
    "duration": 621,
    "start_time": "2021-12-09T20:00:32.347Z"
   },
   {
    "duration": 110,
    "start_time": "2021-12-09T20:02:12.297Z"
   },
   {
    "duration": 79,
    "start_time": "2021-12-09T20:02:20.630Z"
   },
   {
    "duration": 453,
    "start_time": "2021-12-09T20:02:28.135Z"
   },
   {
    "duration": 461,
    "start_time": "2021-12-09T20:03:00.818Z"
   },
   {
    "duration": 689,
    "start_time": "2021-12-09T20:06:49.906Z"
   },
   {
    "duration": 454,
    "start_time": "2021-12-09T20:07:49.385Z"
   },
   {
    "duration": 454,
    "start_time": "2021-12-09T20:09:10.836Z"
   },
   {
    "duration": 689,
    "start_time": "2021-12-09T20:09:24.896Z"
   },
   {
    "duration": 460,
    "start_time": "2021-12-09T20:09:52.742Z"
   },
   {
    "duration": 92,
    "start_time": "2021-12-09T20:11:08.474Z"
   },
   {
    "duration": 90,
    "start_time": "2021-12-09T20:11:25.765Z"
   },
   {
    "duration": 451,
    "start_time": "2021-12-09T20:11:31.031Z"
   },
   {
    "duration": 453,
    "start_time": "2021-12-09T20:12:47.207Z"
   },
   {
    "duration": 78,
    "start_time": "2021-12-09T20:16:26.834Z"
   },
   {
    "duration": 97,
    "start_time": "2021-12-09T20:16:56.292Z"
   },
   {
    "duration": 117,
    "start_time": "2021-12-09T20:17:03.328Z"
   },
   {
    "duration": 91,
    "start_time": "2021-12-09T20:17:03.884Z"
   },
   {
    "duration": 269,
    "start_time": "2021-12-09T20:17:11.884Z"
   },
   {
    "duration": 242,
    "start_time": "2021-12-09T20:18:20.631Z"
   },
   {
    "duration": 248,
    "start_time": "2021-12-09T20:18:48.184Z"
   },
   {
    "duration": 90,
    "start_time": "2021-12-09T20:19:09.094Z"
   },
   {
    "duration": 244,
    "start_time": "2021-12-09T20:19:09.210Z"
   },
   {
    "duration": 83,
    "start_time": "2021-12-09T20:19:40.147Z"
   },
   {
    "duration": 96,
    "start_time": "2021-12-09T20:19:45.834Z"
   },
   {
    "duration": 77,
    "start_time": "2021-12-09T20:19:45.938Z"
   },
   {
    "duration": 452,
    "start_time": "2021-12-09T20:19:58.281Z"
   },
   {
    "duration": 444,
    "start_time": "2021-12-09T20:20:10.239Z"
   },
   {
    "duration": 442,
    "start_time": "2021-12-09T20:20:42.713Z"
   },
   {
    "duration": 93,
    "start_time": "2021-12-09T20:20:54.222Z"
   },
   {
    "duration": 545,
    "start_time": "2021-12-09T20:20:54.317Z"
   },
   {
    "duration": 865,
    "start_time": "2021-12-09T20:26:36.538Z"
   },
   {
    "duration": 860,
    "start_time": "2021-12-09T20:27:37.604Z"
   },
   {
    "duration": 858,
    "start_time": "2021-12-09T20:29:02.582Z"
   },
   {
    "duration": 857,
    "start_time": "2021-12-09T20:30:53.720Z"
   },
   {
    "duration": 6494,
    "start_time": "2021-12-09T20:34:31.098Z"
   },
   {
    "duration": 78,
    "start_time": "2021-12-09T20:35:05.534Z"
   },
   {
    "duration": 77,
    "start_time": "2021-12-09T20:35:11.441Z"
   },
   {
    "duration": 92,
    "start_time": "2021-12-09T20:35:25.330Z"
   },
   {
    "duration": 77,
    "start_time": "2021-12-09T20:35:44.400Z"
   },
   {
    "duration": 93,
    "start_time": "2021-12-09T20:35:48.563Z"
   },
   {
    "duration": 6543,
    "start_time": "2021-12-09T20:36:21.955Z"
   },
   {
    "duration": 90,
    "start_time": "2021-12-09T20:36:53.089Z"
   },
   {
    "duration": 8265,
    "start_time": "2021-12-09T20:37:08.369Z"
   },
   {
    "duration": 83,
    "start_time": "2021-12-09T20:39:41.423Z"
   },
   {
    "duration": 866,
    "start_time": "2021-12-09T20:39:48.724Z"
   },
   {
    "duration": 854,
    "start_time": "2021-12-09T20:40:44.400Z"
   },
   {
    "duration": 847,
    "start_time": "2021-12-09T20:40:57.149Z"
   },
   {
    "duration": 870,
    "start_time": "2021-12-09T20:41:24.191Z"
   },
   {
    "duration": 1113,
    "start_time": "2021-12-09T20:42:14.852Z"
   },
   {
    "duration": 1175,
    "start_time": "2021-12-09T20:42:29.047Z"
   },
   {
    "duration": 1086,
    "start_time": "2021-12-09T20:44:07.344Z"
   },
   {
    "duration": 1089,
    "start_time": "2021-12-09T20:44:16.167Z"
   },
   {
    "duration": 83,
    "start_time": "2021-12-09T20:44:33.086Z"
   },
   {
    "duration": 1074,
    "start_time": "2021-12-09T20:44:50.954Z"
   },
   {
    "duration": 1096,
    "start_time": "2021-12-09T20:45:05.925Z"
   },
   {
    "duration": 87,
    "start_time": "2021-12-09T20:45:11.226Z"
   },
   {
    "duration": 1330,
    "start_time": "2021-12-09T20:45:11.315Z"
   },
   {
    "duration": 1084,
    "start_time": "2021-12-09T20:45:18.531Z"
   },
   {
    "duration": 853,
    "start_time": "2021-12-09T20:45:36.130Z"
   },
   {
    "duration": 869,
    "start_time": "2021-12-09T20:46:13.053Z"
   },
   {
    "duration": 846,
    "start_time": "2021-12-09T20:46:42.738Z"
   },
   {
    "duration": 91,
    "start_time": "2021-12-09T20:48:00.071Z"
   },
   {
    "duration": 859,
    "start_time": "2021-12-09T20:48:09.131Z"
   },
   {
    "duration": 1026,
    "start_time": "2021-12-09T20:49:09.092Z"
   },
   {
    "duration": 904,
    "start_time": "2021-12-09T20:55:56.752Z"
   },
   {
    "duration": 966,
    "start_time": "2021-12-09T20:59:35.118Z"
   },
   {
    "duration": 81,
    "start_time": "2021-12-09T21:03:27.770Z"
   },
   {
    "duration": 81,
    "start_time": "2021-12-09T21:03:48.003Z"
   },
   {
    "duration": 560,
    "start_time": "2021-12-09T21:04:35.104Z"
   },
   {
    "duration": 124,
    "start_time": "2021-12-09T21:04:41.543Z"
   },
   {
    "duration": 280,
    "start_time": "2021-12-09T21:04:41.669Z"
   },
   {
    "duration": 74,
    "start_time": "2021-12-09T21:04:46.967Z"
   },
   {
    "duration": 81,
    "start_time": "2021-12-09T21:04:57.475Z"
   },
   {
    "duration": 871,
    "start_time": "2021-12-09T21:05:03.992Z"
   },
   {
    "duration": 862,
    "start_time": "2021-12-09T21:05:51.507Z"
   },
   {
    "duration": 856,
    "start_time": "2021-12-09T21:07:27.980Z"
   },
   {
    "duration": 313,
    "start_time": "2021-12-11T14:52:07.941Z"
   },
   {
    "duration": 598,
    "start_time": "2021-12-11T14:52:28.721Z"
   },
   {
    "duration": 93,
    "start_time": "2021-12-11T14:52:41.684Z"
   },
   {
    "duration": 261,
    "start_time": "2021-12-11T14:52:46.429Z"
   },
   {
    "duration": 296,
    "start_time": "2021-12-11T14:53:18.988Z"
   },
   {
    "duration": 267,
    "start_time": "2021-12-11T14:56:37.631Z"
   },
   {
    "duration": 256,
    "start_time": "2021-12-11T14:57:22.701Z"
   },
   {
    "duration": 242,
    "start_time": "2021-12-11T15:00:54.321Z"
   },
   {
    "duration": 88,
    "start_time": "2021-12-11T15:01:35.069Z"
   },
   {
    "duration": 252,
    "start_time": "2021-12-11T15:01:43.083Z"
   },
   {
    "duration": 953,
    "start_time": "2021-12-11T15:02:35.140Z"
   },
   {
    "duration": 1082,
    "start_time": "2021-12-11T15:09:00.385Z"
   },
   {
    "duration": 1097,
    "start_time": "2021-12-11T15:09:47.374Z"
   },
   {
    "duration": 1111,
    "start_time": "2021-12-11T15:10:10.772Z"
   },
   {
    "duration": 93,
    "start_time": "2021-12-11T15:10:13.922Z"
   },
   {
    "duration": 1259,
    "start_time": "2021-12-11T15:10:14.017Z"
   },
   {
    "duration": 981,
    "start_time": "2021-12-11T15:11:02.237Z"
   },
   {
    "duration": 885,
    "start_time": "2021-12-11T15:11:34.074Z"
   },
   {
    "duration": 268,
    "start_time": "2021-12-11T15:14:14.516Z"
   },
   {
    "duration": 251,
    "start_time": "2021-12-11T15:14:47.478Z"
   },
   {
    "duration": 306,
    "start_time": "2021-12-11T15:15:00.429Z"
   },
   {
    "duration": 317,
    "start_time": "2021-12-11T15:16:51.898Z"
   },
   {
    "duration": 285,
    "start_time": "2021-12-11T15:17:20.015Z"
   },
   {
    "duration": 258,
    "start_time": "2021-12-11T15:17:40.418Z"
   },
   {
    "duration": 910,
    "start_time": "2021-12-11T15:17:57.978Z"
   },
   {
    "duration": 1253,
    "start_time": "2021-12-11T15:18:44.804Z"
   },
   {
    "duration": 6131,
    "start_time": "2021-12-11T15:20:24.530Z"
   },
   {
    "duration": 1498,
    "start_time": "2021-12-11T15:20:50.019Z"
   },
   {
    "duration": 898,
    "start_time": "2021-12-11T15:21:39.691Z"
   },
   {
    "duration": 254,
    "start_time": "2021-12-11T15:22:10.622Z"
   },
   {
    "duration": 882,
    "start_time": "2021-12-11T15:22:39.651Z"
   },
   {
    "duration": 878,
    "start_time": "2021-12-11T15:23:17.192Z"
   },
   {
    "duration": 5904,
    "start_time": "2021-12-11T15:24:02.586Z"
   },
   {
    "duration": 889,
    "start_time": "2021-12-11T15:24:48.465Z"
   },
   {
    "duration": 863,
    "start_time": "2021-12-11T15:29:51.633Z"
   },
   {
    "duration": 90,
    "start_time": "2021-12-11T15:30:11.951Z"
   },
   {
    "duration": 886,
    "start_time": "2021-12-11T15:30:12.043Z"
   },
   {
    "duration": 1492,
    "start_time": "2021-12-11T15:32:39.918Z"
   },
   {
    "duration": 95,
    "start_time": "2021-12-11T15:33:52.911Z"
   },
   {
    "duration": 899,
    "start_time": "2021-12-11T15:34:00.676Z"
   },
   {
    "duration": 963,
    "start_time": "2021-12-11T15:41:28.991Z"
   },
   {
    "duration": 897,
    "start_time": "2021-12-11T15:42:11.139Z"
   },
   {
    "duration": 892,
    "start_time": "2021-12-11T15:43:14.530Z"
   },
   {
    "duration": 975,
    "start_time": "2021-12-11T15:44:10.405Z"
   },
   {
    "duration": 1432,
    "start_time": "2021-12-11T15:44:32.032Z"
   },
   {
    "duration": 893,
    "start_time": "2021-12-11T15:45:27.848Z"
   },
   {
    "duration": 879,
    "start_time": "2021-12-11T15:47:34.387Z"
   },
   {
    "duration": 904,
    "start_time": "2021-12-11T15:48:05.653Z"
   },
   {
    "duration": 873,
    "start_time": "2021-12-11T15:48:21.174Z"
   },
   {
    "duration": 1513,
    "start_time": "2021-12-11T15:49:53.042Z"
   },
   {
    "duration": 1290,
    "start_time": "2021-12-11T15:53:08.622Z"
   },
   {
    "duration": 871,
    "start_time": "2021-12-11T15:53:51.662Z"
   },
   {
    "duration": 930,
    "start_time": "2021-12-11T15:54:36.129Z"
   },
   {
    "duration": 80,
    "start_time": "2021-12-11T15:55:38.798Z"
   },
   {
    "duration": 92,
    "start_time": "2021-12-11T15:55:55.094Z"
   },
   {
    "duration": 85,
    "start_time": "2021-12-11T15:56:22.731Z"
   },
   {
    "duration": 98,
    "start_time": "2021-12-11T15:57:01.280Z"
   },
   {
    "duration": 881,
    "start_time": "2021-12-11T15:58:24.175Z"
   },
   {
    "duration": 903,
    "start_time": "2021-12-11T15:59:05.263Z"
   },
   {
    "duration": 90,
    "start_time": "2021-12-11T16:00:38.111Z"
   },
   {
    "duration": 886,
    "start_time": "2021-12-11T16:00:43.429Z"
   },
   {
    "duration": 903,
    "start_time": "2021-12-11T16:03:40.870Z"
   },
   {
    "duration": 880,
    "start_time": "2021-12-11T16:04:35.971Z"
   },
   {
    "duration": 887,
    "start_time": "2021-12-11T16:05:24.602Z"
   },
   {
    "duration": 96,
    "start_time": "2021-12-11T16:05:27.901Z"
   },
   {
    "duration": 940,
    "start_time": "2021-12-11T16:05:28.672Z"
   },
   {
    "duration": 91,
    "start_time": "2021-12-11T16:06:16.032Z"
   },
   {
    "duration": 900,
    "start_time": "2021-12-11T16:06:25.691Z"
   },
   {
    "duration": 97,
    "start_time": "2021-12-11T16:06:37.636Z"
   },
   {
    "duration": 909,
    "start_time": "2021-12-11T16:06:56.754Z"
   },
   {
    "duration": 94,
    "start_time": "2021-12-11T16:07:13.504Z"
   },
   {
    "duration": 889,
    "start_time": "2021-12-11T16:07:17.576Z"
   },
   {
    "duration": 875,
    "start_time": "2021-12-11T16:07:43.874Z"
   },
   {
    "duration": 90,
    "start_time": "2021-12-11T16:08:07.182Z"
   },
   {
    "duration": 884,
    "start_time": "2021-12-11T16:08:30.763Z"
   },
   {
    "duration": 93,
    "start_time": "2021-12-11T16:09:06.379Z"
   },
   {
    "duration": 874,
    "start_time": "2021-12-11T16:09:09.822Z"
   },
   {
    "duration": 868,
    "start_time": "2021-12-11T16:09:35.191Z"
   },
   {
    "duration": 95,
    "start_time": "2021-12-11T16:09:46.143Z"
   },
   {
    "duration": 883,
    "start_time": "2021-12-11T16:09:46.241Z"
   },
   {
    "duration": 956,
    "start_time": "2021-12-11T16:09:49.183Z"
   },
   {
    "duration": 92,
    "start_time": "2021-12-11T16:11:12.143Z"
   },
   {
    "duration": 1082,
    "start_time": "2021-12-11T16:11:14.904Z"
   },
   {
    "duration": 82,
    "start_time": "2021-12-11T16:13:01.643Z"
   },
   {
    "duration": 94,
    "start_time": "2021-12-11T16:13:10.928Z"
   },
   {
    "duration": 89,
    "start_time": "2021-12-11T16:13:13.490Z"
   },
   {
    "duration": 92,
    "start_time": "2021-12-11T16:13:27.723Z"
   },
   {
    "duration": 81,
    "start_time": "2021-12-11T16:13:31.737Z"
   },
   {
    "duration": 593,
    "start_time": "2021-12-11T16:13:59.134Z"
   },
   {
    "duration": 89,
    "start_time": "2021-12-11T16:14:01.943Z"
   },
   {
    "duration": 93,
    "start_time": "2021-12-11T16:14:16.479Z"
   },
   {
    "duration": 80,
    "start_time": "2021-12-11T16:14:21.397Z"
   },
   {
    "duration": 880,
    "start_time": "2021-12-11T16:14:42.164Z"
   },
   {
    "duration": 895,
    "start_time": "2021-12-11T16:21:28.523Z"
   },
   {
    "duration": 1193,
    "start_time": "2021-12-11T16:26:51.240Z"
   },
   {
    "duration": 958,
    "start_time": "2021-12-11T16:27:04.735Z"
   },
   {
    "duration": 1004,
    "start_time": "2021-12-11T16:27:23.791Z"
   },
   {
    "duration": 1269,
    "start_time": "2021-12-11T16:30:40.863Z"
   },
   {
    "duration": 1005,
    "start_time": "2021-12-11T16:31:44.667Z"
   },
   {
    "duration": 1134,
    "start_time": "2021-12-11T16:32:40.872Z"
   },
   {
    "duration": 1833,
    "start_time": "2021-12-11T16:33:25.433Z"
   },
   {
    "duration": 1112,
    "start_time": "2021-12-11T16:33:45.233Z"
   },
   {
    "duration": 1103,
    "start_time": "2021-12-11T16:36:02.315Z"
   },
   {
    "duration": 134,
    "start_time": "2021-12-11T16:36:22.140Z"
   },
   {
    "duration": 1913,
    "start_time": "2021-12-11T16:36:25.141Z"
   },
   {
    "duration": 1154,
    "start_time": "2021-12-11T16:37:20.728Z"
   },
   {
    "duration": 608,
    "start_time": "2021-12-11T16:38:36.436Z"
   },
   {
    "duration": 805,
    "start_time": "2021-12-11T16:40:23.922Z"
   },
   {
    "duration": 638,
    "start_time": "2021-12-11T16:40:33.045Z"
   },
   {
    "duration": 266,
    "start_time": "2021-12-11T16:41:25.382Z"
   },
   {
    "duration": 644,
    "start_time": "2021-12-11T16:41:33.396Z"
   },
   {
    "duration": 1002,
    "start_time": "2021-12-11T16:41:37.254Z"
   },
   {
    "duration": 282,
    "start_time": "2021-12-11T16:42:59.270Z"
   },
   {
    "duration": 641,
    "start_time": "2021-12-11T16:43:03.126Z"
   },
   {
    "duration": 1009,
    "start_time": "2021-12-11T16:43:03.769Z"
   },
   {
    "duration": 993,
    "start_time": "2021-12-11T16:46:35.805Z"
   },
   {
    "duration": 968,
    "start_time": "2021-12-11T16:47:30.397Z"
   },
   {
    "duration": 971,
    "start_time": "2021-12-11T16:48:42.655Z"
   },
   {
    "duration": 975,
    "start_time": "2021-12-11T16:50:17.758Z"
   },
   {
    "duration": 983,
    "start_time": "2021-12-11T16:51:53.304Z"
   },
   {
    "duration": 951,
    "start_time": "2021-12-11T16:55:30.904Z"
   },
   {
    "duration": 934,
    "start_time": "2021-12-11T16:57:32.205Z"
   },
   {
    "duration": 978,
    "start_time": "2021-12-11T16:57:55.818Z"
   },
   {
    "duration": 1046,
    "start_time": "2021-12-11T16:58:11.280Z"
   },
   {
    "duration": 949,
    "start_time": "2021-12-11T17:00:11.911Z"
   },
   {
    "duration": 982,
    "start_time": "2021-12-11T17:00:31.473Z"
   },
   {
    "duration": 981,
    "start_time": "2021-12-11T17:02:20.057Z"
   },
   {
    "duration": 1251,
    "start_time": "2021-12-11T17:12:05.540Z"
   },
   {
    "duration": 1233,
    "start_time": "2021-12-11T17:12:27.887Z"
   },
   {
    "duration": 1217,
    "start_time": "2021-12-11T17:20:20.459Z"
   },
   {
    "duration": 1295,
    "start_time": "2021-12-11T17:20:58.377Z"
   },
   {
    "duration": 1280,
    "start_time": "2021-12-11T17:21:10.063Z"
   },
   {
    "duration": 267,
    "start_time": "2021-12-11T17:23:38.440Z"
   },
   {
    "duration": 628,
    "start_time": "2021-12-11T17:23:46.408Z"
   },
   {
    "duration": 1027,
    "start_time": "2021-12-11T17:23:47.038Z"
   },
   {
    "duration": 715,
    "start_time": "2021-12-11T17:23:50.051Z"
   },
   {
    "duration": 755,
    "start_time": "2021-12-11T17:24:06.023Z"
   },
   {
    "duration": 743,
    "start_time": "2021-12-11T17:24:35.126Z"
   },
   {
    "duration": 742,
    "start_time": "2021-12-11T17:25:29.948Z"
   },
   {
    "duration": 781,
    "start_time": "2021-12-11T17:26:09.312Z"
   },
   {
    "duration": 769,
    "start_time": "2021-12-11T17:27:58.185Z"
   },
   {
    "duration": 287,
    "start_time": "2021-12-11T17:30:42.584Z"
   },
   {
    "duration": 662,
    "start_time": "2021-12-11T17:30:47.875Z"
   },
   {
    "duration": 1074,
    "start_time": "2021-12-11T17:30:48.539Z"
   },
   {
    "duration": 764,
    "start_time": "2021-12-11T17:30:51.587Z"
   },
   {
    "duration": 238,
    "start_time": "2021-12-12T10:17:01.062Z"
   },
   {
    "duration": 797,
    "start_time": "2021-12-12T10:17:07.319Z"
   },
   {
    "duration": 2362,
    "start_time": "2021-12-12T10:17:08.118Z"
   },
   {
    "duration": 65,
    "start_time": "2021-12-12T10:20:25.065Z"
   },
   {
    "duration": 797,
    "start_time": "2021-12-12T10:20:55.083Z"
   },
   {
    "duration": 243,
    "start_time": "2021-12-12T10:22:22.197Z"
   },
   {
    "duration": 690,
    "start_time": "2021-12-12T10:22:26.575Z"
   },
   {
    "duration": 257,
    "start_time": "2021-12-12T10:23:08.837Z"
   },
   {
    "duration": 682,
    "start_time": "2021-12-12T10:23:13.375Z"
   },
   {
    "duration": 275,
    "start_time": "2021-12-12T10:23:26.340Z"
   },
   {
    "duration": 683,
    "start_time": "2021-12-12T10:23:30.278Z"
   },
   {
    "duration": 356,
    "start_time": "2021-12-12T10:37:52.150Z"
   },
   {
    "duration": 657,
    "start_time": "2021-12-12T10:37:57.124Z"
   },
   {
    "duration": 1346,
    "start_time": "2021-12-12T10:37:57.783Z"
   },
   {
    "duration": 1052,
    "start_time": "2021-12-12T10:38:18.826Z"
   },
   {
    "duration": 987,
    "start_time": "2021-12-12T10:38:39.489Z"
   },
   {
    "duration": 953,
    "start_time": "2021-12-12T10:40:13.044Z"
   },
   {
    "duration": 987,
    "start_time": "2021-12-12T10:40:35.497Z"
   },
   {
    "duration": 848,
    "start_time": "2021-12-12T10:40:53.488Z"
   },
   {
    "duration": 61,
    "start_time": "2021-12-12T10:50:32.414Z"
   },
   {
    "duration": 71,
    "start_time": "2021-12-12T10:50:56.240Z"
   },
   {
    "duration": 1330,
    "start_time": "2021-12-12T10:51:25.682Z"
   },
   {
    "duration": 1258,
    "start_time": "2021-12-12T10:51:53.138Z"
   },
   {
    "duration": 1322,
    "start_time": "2021-12-12T10:54:50.042Z"
   },
   {
    "duration": 1332,
    "start_time": "2021-12-12T10:56:56.109Z"
   },
   {
    "duration": 1506,
    "start_time": "2021-12-12T10:58:00.886Z"
   },
   {
    "duration": 475,
    "start_time": "2021-12-12T13:04:43.322Z"
   },
   {
    "duration": 918,
    "start_time": "2021-12-12T13:04:53.989Z"
   },
   {
    "duration": 3028,
    "start_time": "2021-12-12T13:04:54.909Z"
   },
   {
    "duration": 2947,
    "start_time": "2021-12-12T13:05:33.589Z"
   },
   {
    "duration": 139,
    "start_time": "2021-12-12T13:07:34.222Z"
   },
   {
    "duration": 2338,
    "start_time": "2021-12-12T13:07:52.816Z"
   },
   {
    "duration": 3343,
    "start_time": "2021-12-12T13:09:22.990Z"
   },
   {
    "duration": 2319,
    "start_time": "2021-12-12T13:17:15.986Z"
   },
   {
    "duration": 2715,
    "start_time": "2021-12-12T13:18:27.640Z"
   },
   {
    "duration": 413,
    "start_time": "2021-12-12T16:46:51.449Z"
   },
   {
    "duration": 715,
    "start_time": "2021-12-12T16:46:57.299Z"
   },
   {
    "duration": 1575,
    "start_time": "2021-12-12T16:46:58.016Z"
   },
   {
    "duration": 1389,
    "start_time": "2021-12-12T16:49:03.112Z"
   },
   {
    "duration": 2267,
    "start_time": "2021-12-12T16:52:01.032Z"
   },
   {
    "duration": 124,
    "start_time": "2021-12-12T16:52:50.773Z"
   },
   {
    "duration": 152,
    "start_time": "2021-12-12T16:53:06.348Z"
   },
   {
    "duration": 141,
    "start_time": "2021-12-12T16:53:28.188Z"
   },
   {
    "duration": 113,
    "start_time": "2021-12-12T16:53:31.173Z"
   },
   {
    "duration": 139,
    "start_time": "2021-12-12T16:53:31.288Z"
   },
   {
    "duration": 114,
    "start_time": "2021-12-12T16:53:35.580Z"
   },
   {
    "duration": 119,
    "start_time": "2021-12-12T16:54:13.074Z"
   },
   {
    "duration": 2514,
    "start_time": "2021-12-12T16:54:27.022Z"
   },
   {
    "duration": 4319,
    "start_time": "2021-12-12T16:57:08.453Z"
   },
   {
    "duration": 114,
    "start_time": "2021-12-12T17:02:42.865Z"
   },
   {
    "duration": 4579,
    "start_time": "2021-12-12T17:03:06.715Z"
   },
   {
    "duration": 111,
    "start_time": "2021-12-12T17:03:40.433Z"
   },
   {
    "duration": 120,
    "start_time": "2021-12-12T17:07:40.986Z"
   },
   {
    "duration": 2546,
    "start_time": "2021-12-12T17:08:06.656Z"
   },
   {
    "duration": 2346,
    "start_time": "2021-12-12T17:08:53.376Z"
   },
   {
    "duration": 2597,
    "start_time": "2021-12-12T17:11:13.992Z"
   },
   {
    "duration": 1099,
    "start_time": "2021-12-12T17:11:31.632Z"
   },
   {
    "duration": 129,
    "start_time": "2021-12-12T17:12:04.392Z"
   },
   {
    "duration": 155,
    "start_time": "2021-12-12T17:12:31.475Z"
   },
   {
    "duration": 169,
    "start_time": "2021-12-12T17:12:55.551Z"
   },
   {
    "duration": 1428,
    "start_time": "2021-12-12T17:12:59.927Z"
   },
   {
    "duration": 1062,
    "start_time": "2021-12-12T17:13:23.172Z"
   },
   {
    "duration": 9652,
    "start_time": "2021-12-12T17:15:23.318Z"
   },
   {
    "duration": 3291,
    "start_time": "2021-12-12T17:15:47.534Z"
   },
   {
    "duration": 132,
    "start_time": "2021-12-12T17:16:17.739Z"
   },
   {
    "duration": 973,
    "start_time": "2021-12-12T17:16:31.045Z"
   },
   {
    "duration": 101,
    "start_time": "2021-12-12T17:18:45.026Z"
   },
   {
    "duration": 1221,
    "start_time": "2021-12-12T17:18:48.233Z"
   },
   {
    "duration": 1341,
    "start_time": "2021-12-12T17:20:36.306Z"
   },
   {
    "duration": 1483,
    "start_time": "2021-12-12T17:20:58.230Z"
   },
   {
    "duration": 2647,
    "start_time": "2021-12-12T17:21:59.607Z"
   },
   {
    "duration": 2414,
    "start_time": "2021-12-12T17:22:16.966Z"
   },
   {
    "duration": 3406,
    "start_time": "2021-12-12T17:22:27.765Z"
   },
   {
    "duration": 1027,
    "start_time": "2021-12-12T17:24:55.083Z"
   },
   {
    "duration": 1108,
    "start_time": "2021-12-12T17:25:31.121Z"
   },
   {
    "duration": 1045,
    "start_time": "2021-12-12T17:31:07.969Z"
   },
   {
    "duration": 2248,
    "start_time": "2021-12-12T17:33:46.179Z"
   },
   {
    "duration": 103,
    "start_time": "2021-12-12T17:34:12.231Z"
   },
   {
    "duration": 397,
    "start_time": "2021-12-12T17:34:55.140Z"
   },
   {
    "duration": 783,
    "start_time": "2021-12-12T17:35:00.382Z"
   },
   {
    "duration": 6983,
    "start_time": "2021-12-12T17:35:05.988Z"
   },
   {
    "duration": 2318,
    "start_time": "2021-12-12T17:35:55.799Z"
   },
   {
    "duration": 3112,
    "start_time": "2021-12-12T17:36:28.763Z"
   },
   {
    "duration": 2872,
    "start_time": "2021-12-12T17:36:46.181Z"
   },
   {
    "duration": 2827,
    "start_time": "2021-12-12T17:37:03.070Z"
   },
   {
    "duration": 1373,
    "start_time": "2021-12-12T17:39:32.103Z"
   },
   {
    "duration": 10043,
    "start_time": "2021-12-12T17:51:05.173Z"
   },
   {
    "duration": 1857,
    "start_time": "2021-12-12T17:52:21.625Z"
   },
   {
    "duration": 1283,
    "start_time": "2021-12-12T17:52:51.189Z"
   },
   {
    "duration": 2034,
    "start_time": "2021-12-12T17:53:12.578Z"
   },
   {
    "duration": 1371,
    "start_time": "2021-12-12T17:56:26.208Z"
   },
   {
    "duration": 1451,
    "start_time": "2021-12-12T17:56:31.887Z"
   },
   {
    "duration": 1890,
    "start_time": "2021-12-12T17:57:06.634Z"
   },
   {
    "duration": 5783,
    "start_time": "2021-12-12T17:58:10.664Z"
   },
   {
    "duration": 1377,
    "start_time": "2021-12-12T17:59:54.756Z"
   },
   {
    "duration": 1438,
    "start_time": "2021-12-12T18:02:43.398Z"
   },
   {
    "duration": 1882,
    "start_time": "2021-12-12T18:03:10.593Z"
   },
   {
    "duration": 2621,
    "start_time": "2021-12-12T18:04:00.032Z"
   },
   {
    "duration": 1039,
    "start_time": "2021-12-12T18:04:34.343Z"
   },
   {
    "duration": 1047,
    "start_time": "2021-12-12T18:06:11.027Z"
   },
   {
    "duration": 924,
    "start_time": "2021-12-12T18:06:38.686Z"
   },
   {
    "duration": 1001,
    "start_time": "2021-12-12T18:07:21.208Z"
   },
   {
    "duration": 1855,
    "start_time": "2021-12-12T18:09:38.746Z"
   },
   {
    "duration": 965,
    "start_time": "2021-12-12T18:09:58.657Z"
   },
   {
    "duration": 1280,
    "start_time": "2021-12-12T18:10:31.252Z"
   },
   {
    "duration": 1340,
    "start_time": "2021-12-12T18:10:43.957Z"
   },
   {
    "duration": 1006,
    "start_time": "2021-12-12T18:12:21.589Z"
   },
   {
    "duration": 1059,
    "start_time": "2021-12-12T18:13:16.921Z"
   },
   {
    "duration": 1129,
    "start_time": "2021-12-12T18:14:10.530Z"
   },
   {
    "duration": 775,
    "start_time": "2021-12-13T08:41:18.642Z"
   },
   {
    "duration": 843,
    "start_time": "2021-12-13T08:41:23.331Z"
   },
   {
    "duration": 2230,
    "start_time": "2021-12-13T08:41:24.177Z"
   },
   {
    "duration": 1844,
    "start_time": "2021-12-13T08:41:59.642Z"
   },
   {
    "duration": 1860,
    "start_time": "2021-12-13T08:43:42.731Z"
   },
   {
    "duration": 136,
    "start_time": "2021-12-13T08:43:54.948Z"
   },
   {
    "duration": 2436,
    "start_time": "2021-12-13T08:44:08.610Z"
   },
   {
    "duration": 1971,
    "start_time": "2021-12-13T08:44:55.360Z"
   },
   {
    "duration": 1933,
    "start_time": "2021-12-13T08:45:37.829Z"
   },
   {
    "duration": 1768,
    "start_time": "2021-12-13T08:46:03.835Z"
   },
   {
    "duration": 1446,
    "start_time": "2021-12-13T08:46:58.855Z"
   },
   {
    "duration": 8524,
    "start_time": "2021-12-13T08:49:20.942Z"
   },
   {
    "duration": 9566,
    "start_time": "2021-12-13T08:49:39.668Z"
   },
   {
    "duration": 1491,
    "start_time": "2021-12-13T08:50:05.647Z"
   },
   {
    "duration": 1469,
    "start_time": "2021-12-13T08:50:33.896Z"
   },
   {
    "duration": 130,
    "start_time": "2021-12-13T08:50:49.606Z"
   },
   {
    "duration": 1932,
    "start_time": "2021-12-13T08:50:49.739Z"
   },
   {
    "duration": 148,
    "start_time": "2021-12-13T08:51:42.747Z"
   },
   {
    "duration": 1424,
    "start_time": "2021-12-13T08:51:48.274Z"
   },
   {
    "duration": 1429,
    "start_time": "2021-12-13T08:52:19.597Z"
   },
   {
    "duration": 1479,
    "start_time": "2021-12-13T08:52:40.459Z"
   },
   {
    "duration": 1439,
    "start_time": "2021-12-13T08:53:08.443Z"
   },
   {
    "duration": 1419,
    "start_time": "2021-12-13T08:53:19.409Z"
   },
   {
    "duration": 1416,
    "start_time": "2021-12-13T08:55:50.985Z"
   },
   {
    "duration": 117,
    "start_time": "2021-12-13T08:56:23.023Z"
   },
   {
    "duration": 2088,
    "start_time": "2021-12-13T08:56:30.643Z"
   },
   {
    "duration": 2080,
    "start_time": "2021-12-13T09:05:19.946Z"
   },
   {
    "duration": 2035,
    "start_time": "2021-12-13T09:07:40.690Z"
   },
   {
    "duration": 7,
    "start_time": "2021-12-13T09:12:18.065Z"
   },
   {
    "duration": 9,
    "start_time": "2021-12-13T09:13:57.738Z"
   },
   {
    "duration": -1452,
    "start_time": "2021-12-13T09:15:06.447Z"
   },
   {
    "duration": -1445,
    "start_time": "2021-12-13T09:15:15.399Z"
   },
   {
    "duration": 8,
    "start_time": "2021-12-13T09:15:20.883Z"
   },
   {
    "duration": -1485,
    "start_time": "2021-12-13T09:18:40.851Z"
   },
   {
    "duration": 6,
    "start_time": "2021-12-13T09:18:43.741Z"
   },
   {
    "duration": 160,
    "start_time": "2021-12-13T09:19:47.975Z"
   },
   {
    "duration": 12,
    "start_time": "2021-12-13T09:19:52.671Z"
   },
   {
    "duration": 661,
    "start_time": "2021-12-13T09:22:58.056Z"
   },
   {
    "duration": 612,
    "start_time": "2021-12-13T09:23:53.171Z"
   },
   {
    "duration": 564,
    "start_time": "2021-12-13T09:25:44.985Z"
   },
   {
    "duration": 551,
    "start_time": "2021-12-13T09:25:56.476Z"
   },
   {
    "duration": 785,
    "start_time": "2021-12-13T09:26:08.919Z"
   },
   {
    "duration": 103,
    "start_time": "2021-12-13T09:27:08.449Z"
   },
   {
    "duration": 613,
    "start_time": "2021-12-13T09:27:19.301Z"
   },
   {
    "duration": 594,
    "start_time": "2021-12-13T09:27:59.364Z"
   },
   {
    "duration": 559,
    "start_time": "2021-12-13T09:29:27.859Z"
   },
   {
    "duration": 574,
    "start_time": "2021-12-13T09:29:35.250Z"
   },
   {
    "duration": 612,
    "start_time": "2021-12-13T09:30:34.527Z"
   },
   {
    "duration": 597,
    "start_time": "2021-12-13T09:30:47.247Z"
   },
   {
    "duration": 131,
    "start_time": "2021-12-13T09:31:47.470Z"
   },
   {
    "duration": 591,
    "start_time": "2021-12-13T09:31:52.197Z"
   },
   {
    "duration": 616,
    "start_time": "2021-12-13T09:38:55.209Z"
   },
   {
    "duration": 580,
    "start_time": "2021-12-13T09:40:01.379Z"
   },
   {
    "duration": 644,
    "start_time": "2021-12-13T09:40:28.821Z"
   },
   {
    "duration": 621,
    "start_time": "2021-12-13T09:40:53.951Z"
   },
   {
    "duration": 862,
    "start_time": "2021-12-13T09:41:19.008Z"
   },
   {
    "duration": 839,
    "start_time": "2021-12-13T09:41:32.011Z"
   },
   {
    "duration": 581,
    "start_time": "2021-12-13T09:41:46.260Z"
   },
   {
    "duration": 917,
    "start_time": "2021-12-13T09:45:37.845Z"
   },
   {
    "duration": 860,
    "start_time": "2021-12-13T09:46:06.532Z"
   },
   {
    "duration": 1148,
    "start_time": "2021-12-13T09:47:52.359Z"
   },
   {
    "duration": 858,
    "start_time": "2021-12-13T09:48:05.097Z"
   },
   {
    "duration": 639,
    "start_time": "2021-12-13T09:48:16.509Z"
   },
   {
    "duration": 587,
    "start_time": "2021-12-13T09:48:56.513Z"
   },
   {
    "duration": 3056,
    "start_time": "2021-12-13T09:49:52.365Z"
   },
   {
    "duration": 112,
    "start_time": "2021-12-13T09:50:07.787Z"
   },
   {
    "duration": 3360,
    "start_time": "2021-12-13T09:50:14.908Z"
   },
   {
    "duration": 3028,
    "start_time": "2021-12-13T09:50:54.715Z"
   },
   {
    "duration": 2744,
    "start_time": "2021-12-13T09:51:38.669Z"
   },
   {
    "duration": 595,
    "start_time": "2021-12-13T09:53:04.142Z"
   },
   {
    "duration": 967,
    "start_time": "2021-12-13T09:53:53.080Z"
   },
   {
    "duration": 965,
    "start_time": "2021-12-13T09:54:24.004Z"
   },
   {
    "duration": 621,
    "start_time": "2021-12-13T09:56:05.266Z"
   },
   {
    "duration": 416,
    "start_time": "2021-12-13T10:05:02.590Z"
   },
   {
    "duration": 3916,
    "start_time": "2021-12-13T10:05:58.924Z"
   },
   {
    "duration": 854,
    "start_time": "2021-12-13T10:07:09.465Z"
   },
   {
    "duration": 406,
    "start_time": "2021-12-13T10:07:56.103Z"
   },
   {
    "duration": 302,
    "start_time": "2021-12-13T10:08:17.667Z"
   },
   {
    "duration": 302,
    "start_time": "2021-12-13T10:08:27.955Z"
   },
   {
    "duration": 324,
    "start_time": "2021-12-13T10:08:58.248Z"
   },
   {
    "duration": 599,
    "start_time": "2021-12-13T10:09:04.316Z"
   },
   {
    "duration": 3513,
    "start_time": "2021-12-13T10:09:14.349Z"
   },
   {
    "duration": 1945,
    "start_time": "2021-12-13T10:09:21.728Z"
   },
   {
    "duration": 1293,
    "start_time": "2021-12-13T10:09:30.964Z"
   },
   {
    "duration": 899,
    "start_time": "2021-12-13T10:09:52.334Z"
   },
   {
    "duration": 1020,
    "start_time": "2021-12-13T10:10:24.773Z"
   },
   {
    "duration": 636,
    "start_time": "2021-12-13T10:10:30.690Z"
   },
   {
    "duration": 449,
    "start_time": "2021-12-13T10:10:36.533Z"
   },
   {
    "duration": 914,
    "start_time": "2021-12-13T10:10:42.317Z"
   },
   {
    "duration": 359,
    "start_time": "2021-12-13T10:10:59.034Z"
   },
   {
    "duration": 418,
    "start_time": "2021-12-13T10:12:46.000Z"
   },
   {
    "duration": 598,
    "start_time": "2021-12-13T10:12:54.477Z"
   },
   {
    "duration": 1093,
    "start_time": "2021-12-13T10:13:03.389Z"
   },
   {
    "duration": 1385,
    "start_time": "2021-12-13T10:13:15.029Z"
   },
   {
    "duration": 1205,
    "start_time": "2021-12-13T10:13:51.608Z"
   },
   {
    "duration": 781,
    "start_time": "2021-12-13T10:13:58.464Z"
   },
   {
    "duration": 426,
    "start_time": "2021-12-13T10:14:05.639Z"
   },
   {
    "duration": 319,
    "start_time": "2021-12-13T10:14:48.425Z"
   },
   {
    "duration": 346,
    "start_time": "2021-12-13T10:14:59.606Z"
   },
   {
    "duration": 527,
    "start_time": "2021-12-13T10:15:12.102Z"
   },
   {
    "duration": 367,
    "start_time": "2021-12-13T10:15:32.145Z"
   },
   {
    "duration": 353,
    "start_time": "2021-12-13T10:16:55.951Z"
   },
   {
    "duration": 310,
    "start_time": "2021-12-13T10:17:06.161Z"
   },
   {
    "duration": 306,
    "start_time": "2021-12-13T10:17:18.495Z"
   },
   {
    "duration": 397,
    "start_time": "2021-12-13T10:17:34.060Z"
   },
   {
    "duration": 840,
    "start_time": "2021-12-13T10:18:47.561Z"
   },
   {
    "duration": 970,
    "start_time": "2021-12-13T10:18:57.181Z"
   },
   {
    "duration": 751,
    "start_time": "2021-12-13T10:19:04.982Z"
   },
   {
    "duration": 746,
    "start_time": "2021-12-13T10:19:19.431Z"
   },
   {
    "duration": 1044,
    "start_time": "2021-12-13T10:19:25.050Z"
   },
   {
    "duration": 978,
    "start_time": "2021-12-13T10:19:41.737Z"
   },
   {
    "duration": 1425,
    "start_time": "2021-12-13T10:20:41.148Z"
   },
   {
    "duration": 1284,
    "start_time": "2021-12-13T10:21:04.947Z"
   },
   {
    "duration": 1232,
    "start_time": "2021-12-13T10:21:23.950Z"
   },
   {
    "duration": 1506,
    "start_time": "2021-12-13T10:21:34.186Z"
   },
   {
    "duration": 1925,
    "start_time": "2021-12-13T10:23:54.129Z"
   },
   {
    "duration": 1659,
    "start_time": "2021-12-13T10:26:43.215Z"
   },
   {
    "duration": 1316,
    "start_time": "2021-12-13T10:27:13.060Z"
   },
   {
    "duration": 1526,
    "start_time": "2021-12-13T10:27:35.303Z"
   },
   {
    "duration": 1445,
    "start_time": "2021-12-13T10:28:11.499Z"
   },
   {
    "duration": 1769,
    "start_time": "2021-12-13T10:28:52.237Z"
   },
   {
    "duration": 1494,
    "start_time": "2021-12-13T10:29:20.750Z"
   },
   {
    "duration": 1508,
    "start_time": "2021-12-13T10:29:40.626Z"
   },
   {
    "duration": 2182,
    "start_time": "2021-12-13T10:30:30.118Z"
   },
   {
    "duration": 2123,
    "start_time": "2021-12-13T10:30:41.492Z"
   },
   {
    "duration": 1933,
    "start_time": "2021-12-13T10:30:56.666Z"
   },
   {
    "duration": 2158,
    "start_time": "2021-12-13T10:31:11.754Z"
   },
   {
    "duration": 3666,
    "start_time": "2021-12-13T10:31:23.538Z"
   },
   {
    "duration": 3414,
    "start_time": "2021-12-13T10:31:54.785Z"
   },
   {
    "duration": 1893,
    "start_time": "2021-12-13T10:32:06.223Z"
   },
   {
    "duration": 2300,
    "start_time": "2021-12-13T10:33:19.434Z"
   },
   {
    "duration": 99,
    "start_time": "2021-12-13T10:34:06.190Z"
   },
   {
    "duration": 1974,
    "start_time": "2021-12-13T10:34:11.885Z"
   },
   {
    "duration": 1951,
    "start_time": "2021-12-13T10:34:27.992Z"
   },
   {
    "duration": 1913,
    "start_time": "2021-12-13T10:35:29.951Z"
   },
   {
    "duration": 1980,
    "start_time": "2021-12-13T10:37:57.043Z"
   },
   {
    "duration": 2513,
    "start_time": "2021-12-13T10:40:20.945Z"
   },
   {
    "duration": 2431,
    "start_time": "2021-12-13T10:40:38.310Z"
   },
   {
    "duration": 2027,
    "start_time": "2021-12-13T10:40:48.579Z"
   },
   {
    "duration": 39120,
    "start_time": "2021-12-13T10:44:15.093Z"
   },
   {
    "duration": 42956,
    "start_time": "2021-12-13T10:45:54.614Z"
   },
   {
    "duration": 334,
    "start_time": "2021-12-13T10:48:09.482Z"
   },
   {
    "duration": 860,
    "start_time": "2021-12-13T10:48:13.743Z"
   },
   {
    "duration": 2487,
    "start_time": "2021-12-13T10:48:14.606Z"
   },
   {
    "duration": 742,
    "start_time": "2021-12-13T10:48:17.096Z"
   },
   {
    "duration": 757,
    "start_time": "2021-12-13T10:54:13.806Z"
   },
   {
    "duration": 475,
    "start_time": "2021-12-13T10:54:22.060Z"
   },
   {
    "duration": 2603,
    "start_time": "2021-12-13T10:54:22.538Z"
   },
   {
    "duration": 639,
    "start_time": "2021-12-13T10:54:25.144Z"
   },
   {
    "duration": 1089,
    "start_time": "2021-12-13T10:59:57.300Z"
   },
   {
    "duration": 2994,
    "start_time": "2021-12-13T10:59:58.394Z"
   },
   {
    "duration": 752,
    "start_time": "2021-12-13T11:00:01.391Z"
   },
   {
    "duration": 506,
    "start_time": "2021-12-13T11:00:02.146Z"
   },
   {
    "duration": 872,
    "start_time": "2021-12-13T11:01:14.793Z"
   },
   {
    "duration": 2431,
    "start_time": "2021-12-13T11:01:15.668Z"
   },
   {
    "duration": 647,
    "start_time": "2021-12-13T11:01:18.102Z"
   },
   {
    "duration": 837,
    "start_time": "2021-12-13T11:01:18.752Z"
   },
   {
    "duration": 600,
    "start_time": "2021-12-13T11:01:43.984Z"
   },
   {
    "duration": 719,
    "start_time": "2021-12-13T11:01:53.555Z"
   },
   {
    "duration": 817,
    "start_time": "2021-12-13T11:02:07.077Z"
   },
   {
    "duration": 2526,
    "start_time": "2021-12-13T11:02:07.897Z"
   },
   {
    "duration": 627,
    "start_time": "2021-12-13T11:02:10.426Z"
   },
   {
    "duration": 973,
    "start_time": "2021-12-13T11:02:11.056Z"
   },
   {
    "duration": 806,
    "start_time": "2021-12-13T11:03:29.165Z"
   },
   {
    "duration": 2421,
    "start_time": "2021-12-13T11:03:29.977Z"
   },
   {
    "duration": 679,
    "start_time": "2021-12-13T11:03:32.401Z"
   },
   {
    "duration": 810,
    "start_time": "2021-12-13T11:06:06.474Z"
   },
   {
    "duration": 2407,
    "start_time": "2021-12-13T11:06:07.287Z"
   },
   {
    "duration": 641,
    "start_time": "2021-12-13T11:06:09.697Z"
   },
   {
    "duration": 916,
    "start_time": "2021-12-13T11:08:37.626Z"
   },
   {
    "duration": 2464,
    "start_time": "2021-12-13T11:08:38.544Z"
   },
   {
    "duration": 679,
    "start_time": "2021-12-13T11:08:41.011Z"
   },
   {
    "duration": 849,
    "start_time": "2021-12-13T11:09:18.627Z"
   },
   {
    "duration": 2552,
    "start_time": "2021-12-13T11:09:19.479Z"
   },
   {
    "duration": 676,
    "start_time": "2021-12-13T11:09:22.034Z"
   },
   {
    "duration": 941,
    "start_time": "2021-12-13T11:12:31.813Z"
   },
   {
    "duration": 2552,
    "start_time": "2021-12-13T11:12:32.757Z"
   },
   {
    "duration": 758,
    "start_time": "2021-12-13T11:12:35.312Z"
   },
   {
    "duration": 502,
    "start_time": "2021-12-13T11:12:36.073Z"
   },
   {
    "duration": 648,
    "start_time": "2021-12-13T11:12:58.951Z"
   },
   {
    "duration": 988,
    "start_time": "2021-12-13T11:13:07.246Z"
   },
   {
    "duration": 1755,
    "start_time": "2021-12-13T11:13:18.674Z"
   },
   {
    "duration": 4724,
    "start_time": "2021-12-13T11:13:33.989Z"
   },
   {
    "duration": 1442,
    "start_time": "2021-12-13T11:13:55.117Z"
   },
   {
    "duration": 1444,
    "start_time": "2021-12-13T11:15:54.468Z"
   },
   {
    "duration": 1419,
    "start_time": "2021-12-13T11:21:35.565Z"
   },
   {
    "duration": 1928,
    "start_time": "2021-12-13T11:25:40.953Z"
   },
   {
    "duration": 1772,
    "start_time": "2021-12-13T11:28:44.060Z"
   },
   {
    "duration": 1703,
    "start_time": "2021-12-13T11:31:00.702Z"
   },
   {
    "duration": 1707,
    "start_time": "2021-12-13T11:31:19.554Z"
   },
   {
    "duration": 99,
    "start_time": "2021-12-13T11:33:34.084Z"
   },
   {
    "duration": 1836,
    "start_time": "2021-12-13T11:33:45.031Z"
   },
   {
    "duration": 1692,
    "start_time": "2021-12-13T11:33:54.853Z"
   },
   {
    "duration": 1763,
    "start_time": "2021-12-13T11:35:34.321Z"
   },
   {
    "duration": 1777,
    "start_time": "2021-12-13T11:36:29.278Z"
   },
   {
    "duration": 1818,
    "start_time": "2021-12-13T11:38:40.254Z"
   },
   {
    "duration": 110,
    "start_time": "2021-12-13T11:38:55.427Z"
   },
   {
    "duration": 1782,
    "start_time": "2021-12-13T11:38:59.100Z"
   },
   {
    "duration": 1673,
    "start_time": "2021-12-13T11:41:20.257Z"
   },
   {
    "duration": 1542,
    "start_time": "2021-12-13T11:42:02.271Z"
   },
   {
    "duration": 1548,
    "start_time": "2021-12-13T11:42:22.587Z"
   },
   {
    "duration": 1498,
    "start_time": "2021-12-13T11:43:02.125Z"
   },
   {
    "duration": 1412,
    "start_time": "2021-12-13T11:43:44.941Z"
   },
   {
    "duration": 136,
    "start_time": "2021-12-13T11:44:07.136Z"
   },
   {
    "duration": 2556,
    "start_time": "2021-12-13T11:44:07.275Z"
   },
   {
    "duration": 646,
    "start_time": "2021-12-13T11:44:09.835Z"
   },
   {
    "duration": 1493,
    "start_time": "2021-12-13T11:44:10.485Z"
   },
   {
    "duration": 1698,
    "start_time": "2021-12-13T11:44:46.480Z"
   },
   {
    "duration": 1491,
    "start_time": "2021-12-13T11:44:55.059Z"
   },
   {
    "duration": 9059,
    "start_time": "2021-12-13T11:45:37.853Z"
   },
   {
    "duration": 1861,
    "start_time": "2021-12-13T11:46:07.038Z"
   },
   {
    "duration": 140,
    "start_time": "2021-12-13T11:47:05.921Z"
   },
   {
    "duration": 2109,
    "start_time": "2021-12-13T11:47:13.635Z"
   },
   {
    "duration": 2109,
    "start_time": "2021-12-13T11:47:52.044Z"
   },
   {
    "duration": 2181,
    "start_time": "2021-12-13T11:48:14.835Z"
   },
   {
    "duration": 2165,
    "start_time": "2021-12-13T11:49:14.838Z"
   },
   {
    "duration": 2410,
    "start_time": "2021-12-13T11:49:56.096Z"
   },
   {
    "duration": 2181,
    "start_time": "2021-12-13T11:50:31.588Z"
   },
   {
    "duration": 1831,
    "start_time": "2021-12-13T11:50:54.117Z"
   },
   {
    "duration": 1686,
    "start_time": "2021-12-13T11:51:56.139Z"
   },
   {
    "duration": 2074,
    "start_time": "2021-12-13T11:52:02.069Z"
   },
   {
    "duration": 1966,
    "start_time": "2021-12-13T11:52:13.860Z"
   },
   {
    "duration": 2017,
    "start_time": "2021-12-13T11:56:18.914Z"
   },
   {
    "duration": 2213,
    "start_time": "2021-12-13T12:01:01.737Z"
   },
   {
    "duration": 2176,
    "start_time": "2021-12-13T12:01:36.566Z"
   },
   {
    "duration": 2251,
    "start_time": "2021-12-13T12:02:11.619Z"
   },
   {
    "duration": 2006,
    "start_time": "2021-12-13T12:03:29.523Z"
   },
   {
    "duration": 1940,
    "start_time": "2021-12-13T12:09:31.707Z"
   },
   {
    "duration": 2132,
    "start_time": "2021-12-13T12:11:35.984Z"
   },
   {
    "duration": 1917,
    "start_time": "2021-12-13T12:11:54.460Z"
   },
   {
    "duration": 1962,
    "start_time": "2021-12-13T12:12:08.491Z"
   },
   {
    "duration": 878,
    "start_time": "2021-12-13T12:17:22.866Z"
   },
   {
    "duration": 2714,
    "start_time": "2021-12-13T12:17:23.746Z"
   },
   {
    "duration": 634,
    "start_time": "2021-12-13T12:17:26.463Z"
   },
   {
    "duration": 2005,
    "start_time": "2021-12-13T12:17:33.812Z"
   },
   {
    "duration": 1732,
    "start_time": "2021-12-13T12:17:50.440Z"
   },
   {
    "duration": 1688,
    "start_time": "2021-12-13T12:18:36.222Z"
   },
   {
    "duration": 2033,
    "start_time": "2021-12-13T12:19:17.540Z"
   },
   {
    "duration": 2265,
    "start_time": "2021-12-13T12:20:07.898Z"
   },
   {
    "duration": 1996,
    "start_time": "2021-12-13T12:21:20.584Z"
   },
   {
    "duration": 2007,
    "start_time": "2021-12-13T12:21:42.169Z"
   },
   {
    "duration": 2425,
    "start_time": "2021-12-13T12:26:37.827Z"
   },
   {
    "duration": 2186,
    "start_time": "2021-12-13T12:29:12.761Z"
   },
   {
    "duration": 2174,
    "start_time": "2021-12-13T12:30:02.197Z"
   },
   {
    "duration": 2246,
    "start_time": "2021-12-13T12:30:31.341Z"
   },
   {
    "duration": 2239,
    "start_time": "2021-12-13T12:36:01.071Z"
   },
   {
    "duration": 1999,
    "start_time": "2021-12-13T12:36:54.182Z"
   },
   {
    "duration": 2975,
    "start_time": "2021-12-13T12:37:11.331Z"
   },
   {
    "duration": 1968,
    "start_time": "2021-12-13T12:38:08.889Z"
   },
   {
    "duration": 1485,
    "start_time": "2021-12-13T12:38:42.433Z"
   },
   {
    "duration": 1946,
    "start_time": "2021-12-13T12:39:15.653Z"
   },
   {
    "duration": 2425,
    "start_time": "2021-12-13T12:40:59.350Z"
   },
   {
    "duration": 2305,
    "start_time": "2021-12-13T12:41:21.360Z"
   },
   {
    "duration": 2151,
    "start_time": "2021-12-13T12:42:07.063Z"
   },
   {
    "duration": 2377,
    "start_time": "2021-12-13T12:42:32.772Z"
   },
   {
    "duration": 2394,
    "start_time": "2021-12-13T12:43:04.914Z"
   },
   {
    "duration": 2672,
    "start_time": "2021-12-13T12:49:19.162Z"
   },
   {
    "duration": 2628,
    "start_time": "2021-12-13T12:49:40.960Z"
   },
   {
    "duration": 2631,
    "start_time": "2021-12-13T12:51:30.513Z"
   },
   {
    "duration": 107,
    "start_time": "2021-12-13T12:52:04.136Z"
   },
   {
    "duration": 2504,
    "start_time": "2021-12-13T12:52:15.425Z"
   },
   {
    "duration": 2357,
    "start_time": "2021-12-13T12:53:08.756Z"
   },
   {
    "duration": 2266,
    "start_time": "2021-12-13T12:56:15.184Z"
   },
   {
    "duration": 2458,
    "start_time": "2021-12-13T12:58:23.909Z"
   },
   {
    "duration": 2285,
    "start_time": "2021-12-13T12:58:52.050Z"
   },
   {
    "duration": 2483,
    "start_time": "2021-12-13T13:01:06.632Z"
   },
   {
    "duration": 4016,
    "start_time": "2021-12-13T13:05:44.407Z"
   },
   {
    "duration": 2446,
    "start_time": "2021-12-13T13:06:41.503Z"
   },
   {
    "duration": 2411,
    "start_time": "2021-12-13T13:08:16.965Z"
   },
   {
    "duration": 110,
    "start_time": "2021-12-13T13:09:20.328Z"
   },
   {
    "duration": 2358,
    "start_time": "2021-12-13T13:09:23.888Z"
   },
   {
    "duration": 4790,
    "start_time": "2021-12-13T13:10:31.635Z"
   },
   {
    "duration": 101,
    "start_time": "2021-12-13T13:12:16.843Z"
   },
   {
    "duration": 100,
    "start_time": "2021-12-13T13:12:26.916Z"
   },
   {
    "duration": 100,
    "start_time": "2021-12-13T13:12:31.107Z"
   },
   {
    "duration": 106,
    "start_time": "2021-12-13T13:12:35.383Z"
   },
   {
    "duration": 137,
    "start_time": "2021-12-13T13:13:12.352Z"
   },
   {
    "duration": 145,
    "start_time": "2021-12-13T13:13:16.813Z"
   },
   {
    "duration": 3257,
    "start_time": "2021-12-13T13:14:33.141Z"
   },
   {
    "duration": 5351,
    "start_time": "2021-12-13T13:17:34.983Z"
   },
   {
    "duration": 4469,
    "start_time": "2021-12-13T13:17:43.844Z"
   },
   {
    "duration": 2484,
    "start_time": "2021-12-13T13:17:59.399Z"
   },
   {
    "duration": 2489,
    "start_time": "2021-12-13T13:18:04.346Z"
   },
   {
    "duration": 2386,
    "start_time": "2021-12-13T13:18:52.620Z"
   },
   {
    "duration": 2447,
    "start_time": "2021-12-13T13:19:25.281Z"
   },
   {
    "duration": 2553,
    "start_time": "2021-12-13T13:20:44.328Z"
   },
   {
    "duration": 2891,
    "start_time": "2021-12-13T13:24:42.541Z"
   },
   {
    "duration": 2781,
    "start_time": "2021-12-13T13:25:29.088Z"
   },
   {
    "duration": 2559,
    "start_time": "2021-12-13T13:26:53.445Z"
   },
   {
    "duration": 2527,
    "start_time": "2021-12-13T13:29:17.752Z"
   },
   {
    "duration": 2605,
    "start_time": "2021-12-13T13:31:53.248Z"
   },
   {
    "duration": 363,
    "start_time": "2021-12-13T13:50:33.825Z"
   },
   {
    "duration": 845,
    "start_time": "2021-12-13T13:50:56.815Z"
   },
   {
    "duration": 2501,
    "start_time": "2021-12-13T13:50:57.663Z"
   },
   {
    "duration": 636,
    "start_time": "2021-12-13T13:51:00.167Z"
   },
   {
    "duration": 2924,
    "start_time": "2021-12-13T13:51:00.805Z"
   },
   {
    "duration": 916,
    "start_time": "2021-12-13T13:51:37.500Z"
   },
   {
    "duration": 2671,
    "start_time": "2021-12-13T13:54:36.787Z"
   },
   {
    "duration": 9288,
    "start_time": "2021-12-13T13:55:00.525Z"
   },
   {
    "duration": 2731,
    "start_time": "2021-12-13T13:55:34.177Z"
   },
   {
    "duration": 2834,
    "start_time": "2021-12-13T13:56:27.500Z"
   },
   {
    "duration": 2886,
    "start_time": "2021-12-13T13:57:03.414Z"
   },
   {
    "duration": 3369,
    "start_time": "2021-12-13T13:57:46.763Z"
   },
   {
    "duration": 3397,
    "start_time": "2021-12-13T13:58:19.575Z"
   },
   {
    "duration": 3453,
    "start_time": "2021-12-13T13:58:51.098Z"
   },
   {
    "duration": 2947,
    "start_time": "2021-12-13T13:59:47.979Z"
   },
   {
    "duration": 11303,
    "start_time": "2021-12-13T14:00:07.215Z"
   },
   {
    "duration": 3017,
    "start_time": "2021-12-13T14:00:26.233Z"
   },
   {
    "duration": 3392,
    "start_time": "2021-12-13T14:01:29.174Z"
   },
   {
    "duration": 3381,
    "start_time": "2021-12-13T14:01:51.256Z"
   },
   {
    "duration": 3471,
    "start_time": "2021-12-13T14:02:35.442Z"
   },
   {
    "duration": 4026,
    "start_time": "2021-12-13T14:03:23.156Z"
   },
   {
    "duration": 4082,
    "start_time": "2021-12-13T14:04:10.041Z"
   },
   {
    "duration": 3662,
    "start_time": "2021-12-13T14:05:28.951Z"
   },
   {
    "duration": 4389,
    "start_time": "2021-12-13T14:06:43.167Z"
   },
   {
    "duration": 4242,
    "start_time": "2021-12-13T14:09:03.315Z"
   },
   {
    "duration": 681,
    "start_time": "2021-12-13T14:10:53.619Z"
   },
   {
    "duration": 641,
    "start_time": "2021-12-13T14:11:03.697Z"
   },
   {
    "duration": 4278,
    "start_time": "2021-12-13T14:11:04.341Z"
   },
   {
    "duration": 4104,
    "start_time": "2021-12-13T14:13:46.192Z"
   },
   {
    "duration": 4331,
    "start_time": "2021-12-13T14:14:27.498Z"
   },
   {
    "duration": 659,
    "start_time": "2021-12-13T14:15:20.806Z"
   },
   {
    "duration": 138,
    "start_time": "2021-12-13T14:15:39.974Z"
   },
   {
    "duration": 3153,
    "start_time": "2021-12-13T14:15:40.116Z"
   },
   {
    "duration": 872,
    "start_time": "2021-12-13T14:15:43.590Z"
   },
   {
    "duration": 1018,
    "start_time": "2021-12-13T14:16:10.040Z"
   },
   {
    "duration": 987,
    "start_time": "2021-12-13T14:17:02.572Z"
   },
   {
    "duration": 627,
    "start_time": "2021-12-13T14:17:21.315Z"
   },
   {
    "duration": 4258,
    "start_time": "2021-12-13T14:17:32.065Z"
   },
   {
    "duration": 4268,
    "start_time": "2021-12-13T14:18:00.045Z"
   },
   {
    "duration": 4573,
    "start_time": "2021-12-13T14:18:31.915Z"
   },
   {
    "duration": 5165,
    "start_time": "2021-12-13T14:19:29.152Z"
   },
   {
    "duration": 4987,
    "start_time": "2021-12-13T14:21:21.538Z"
   },
   {
    "duration": 5409,
    "start_time": "2021-12-13T14:22:01.407Z"
   },
   {
    "duration": 5263,
    "start_time": "2021-12-13T14:22:56.829Z"
   },
   {
    "duration": 5309,
    "start_time": "2021-12-13T14:24:40.133Z"
   },
   {
    "duration": 5403,
    "start_time": "2021-12-13T14:27:04.037Z"
   },
   {
    "duration": 898,
    "start_time": "2021-12-13T14:30:37.053Z"
   },
   {
    "duration": 2629,
    "start_time": "2021-12-13T14:30:37.955Z"
   },
   {
    "duration": 657,
    "start_time": "2021-12-13T14:30:40.588Z"
   },
   {
    "duration": 5835,
    "start_time": "2021-12-13T14:32:04.547Z"
   },
   {
    "duration": 5900,
    "start_time": "2021-12-13T14:32:25.436Z"
   },
   {
    "duration": 6325,
    "start_time": "2021-12-13T14:33:33.271Z"
   },
   {
    "duration": 862,
    "start_time": "2021-12-13T14:35:11.631Z"
   },
   {
    "duration": 2477,
    "start_time": "2021-12-13T14:35:12.496Z"
   },
   {
    "duration": 630,
    "start_time": "2021-12-13T14:35:14.976Z"
   },
   {
    "duration": 35265,
    "start_time": "2021-12-13T14:35:15.608Z"
   },
   {
    "duration": 6306,
    "start_time": "2021-12-13T14:37:08.919Z"
   },
   {
    "duration": 6808,
    "start_time": "2021-12-13T14:38:28.622Z"
   },
   {
    "duration": 6827,
    "start_time": "2021-12-13T14:39:27.098Z"
   },
   {
    "duration": 348,
    "start_time": "2021-12-13T18:24:59.804Z"
   },
   {
    "duration": 292,
    "start_time": "2021-12-13T18:25:04.005Z"
   },
   {
    "duration": -1364,
    "start_time": "2021-12-13T18:25:05.664Z"
   },
   {
    "duration": 932,
    "start_time": "2021-12-13T18:25:23.884Z"
   },
   {
    "duration": 149,
    "start_time": "2021-12-13T18:25:37.292Z"
   },
   {
    "duration": 1015,
    "start_time": "2021-12-13T18:25:48.062Z"
   },
   {
    "duration": 3341,
    "start_time": "2021-12-13T18:25:49.082Z"
   },
   {
    "duration": -1197,
    "start_time": "2021-12-13T18:25:53.623Z"
   },
   {
    "duration": -1226,
    "start_time": "2021-12-13T18:25:53.654Z"
   },
   {
    "duration": 2484,
    "start_time": "2021-12-13T18:26:43.715Z"
   },
   {
    "duration": 2754,
    "start_time": "2021-12-13T18:27:16.735Z"
   },
   {
    "duration": 2531,
    "start_time": "2021-12-13T18:29:02.941Z"
   },
   {
    "duration": 2376,
    "start_time": "2021-12-13T18:30:18.219Z"
   },
   {
    "duration": 3111,
    "start_time": "2021-12-13T18:35:44.579Z"
   },
   {
    "duration": 144,
    "start_time": "2021-12-13T18:39:36.089Z"
   },
   {
    "duration": 2534,
    "start_time": "2021-12-13T18:39:49.933Z"
   },
   {
    "duration": 2527,
    "start_time": "2021-12-13T18:40:46.906Z"
   },
   {
    "duration": 3345,
    "start_time": "2021-12-13T18:41:11.657Z"
   },
   {
    "duration": 2383,
    "start_time": "2021-12-13T18:45:39.144Z"
   },
   {
    "duration": 2862,
    "start_time": "2021-12-13T18:46:24.253Z"
   },
   {
    "duration": 3503,
    "start_time": "2021-12-13T18:47:12.279Z"
   },
   {
    "duration": 160,
    "start_time": "2021-12-13T18:47:23.788Z"
   },
   {
    "duration": 3435,
    "start_time": "2021-12-13T18:47:27.504Z"
   },
   {
    "duration": 3397,
    "start_time": "2021-12-13T18:47:39.052Z"
   },
   {
    "duration": 3276,
    "start_time": "2021-12-13T18:48:56.051Z"
   },
   {
    "duration": 285,
    "start_time": "2021-12-13T18:49:48.663Z"
   },
   {
    "duration": 5084,
    "start_time": "2021-12-13T18:50:12.595Z"
   },
   {
    "duration": 2657,
    "start_time": "2021-12-13T18:55:02.097Z"
   },
   {
    "duration": 180,
    "start_time": "2021-12-13T18:55:56.527Z"
   },
   {
    "duration": 3019,
    "start_time": "2021-12-13T18:55:56.710Z"
   },
   {
    "duration": 809,
    "start_time": "2021-12-13T18:55:59.733Z"
   },
   {
    "duration": 8403,
    "start_time": "2021-12-13T18:56:00.544Z"
   },
   {
    "duration": 7498,
    "start_time": "2021-12-13T19:06:53.869Z"
   },
   {
    "duration": 7257,
    "start_time": "2021-12-13T19:07:45.137Z"
   },
   {
    "duration": 7743,
    "start_time": "2021-12-13T19:09:32.427Z"
   },
   {
    "duration": 7703,
    "start_time": "2021-12-13T19:10:09.027Z"
   },
   {
    "duration": 7311,
    "start_time": "2021-12-13T19:17:24.471Z"
   },
   {
    "duration": 7786,
    "start_time": "2021-12-13T19:18:54.767Z"
   },
   {
    "duration": 8567,
    "start_time": "2021-12-13T19:25:04.700Z"
   },
   {
    "duration": 8185,
    "start_time": "2021-12-13T19:25:31.745Z"
   },
   {
    "duration": 8151,
    "start_time": "2021-12-13T19:26:18.753Z"
   },
   {
    "duration": 7880,
    "start_time": "2021-12-13T19:26:33.611Z"
   },
   {
    "duration": 7817,
    "start_time": "2021-12-13T19:27:38.728Z"
   },
   {
    "duration": 7495,
    "start_time": "2021-12-13T19:28:02.650Z"
   },
   {
    "duration": 974,
    "start_time": "2021-12-13T19:29:49.648Z"
   },
   {
    "duration": 8061,
    "start_time": "2021-12-13T19:30:03.688Z"
   },
   {
    "duration": 7699,
    "start_time": "2021-12-13T19:31:38.967Z"
   },
   {
    "duration": 7938,
    "start_time": "2021-12-13T19:34:05.140Z"
   },
   {
    "duration": 8246,
    "start_time": "2021-12-13T19:35:06.015Z"
   },
   {
    "duration": 8059,
    "start_time": "2021-12-13T19:35:35.118Z"
   },
   {
    "duration": 7890,
    "start_time": "2021-12-13T19:36:08.712Z"
   },
   {
    "duration": 7592,
    "start_time": "2021-12-13T19:39:35.425Z"
   },
   {
    "duration": 8119,
    "start_time": "2021-12-13T19:43:26.150Z"
   },
   {
    "duration": 8433,
    "start_time": "2021-12-13T19:45:07.145Z"
   },
   {
    "duration": 7970,
    "start_time": "2021-12-13T19:47:37.231Z"
   },
   {
    "duration": 8316,
    "start_time": "2021-12-13T19:48:30.756Z"
   },
   {
    "duration": 8176,
    "start_time": "2021-12-13T19:51:56.741Z"
   },
   {
    "duration": 7898,
    "start_time": "2021-12-13T19:52:56.018Z"
   },
   {
    "duration": 7859,
    "start_time": "2021-12-13T19:53:47.311Z"
   },
   {
    "duration": 127,
    "start_time": "2021-12-13T19:54:07.854Z"
   },
   {
    "duration": 150,
    "start_time": "2021-12-13T19:54:35.114Z"
   },
   {
    "duration": 112,
    "start_time": "2021-12-13T19:54:49.670Z"
   },
   {
    "duration": 114,
    "start_time": "2021-12-13T19:55:32.136Z"
   },
   {
    "duration": 105,
    "start_time": "2021-12-13T19:56:00.269Z"
   },
   {
    "duration": 8146,
    "start_time": "2021-12-13T19:56:20.233Z"
   },
   {
    "duration": 8002,
    "start_time": "2021-12-13T19:56:51.935Z"
   },
   {
    "duration": 114,
    "start_time": "2021-12-13T19:57:46.034Z"
   },
   {
    "duration": 108,
    "start_time": "2021-12-13T19:57:53.526Z"
   },
   {
    "duration": 8179,
    "start_time": "2021-12-13T19:58:24.041Z"
   },
   {
    "duration": 113,
    "start_time": "2021-12-13T19:59:20.404Z"
   },
   {
    "duration": 8108,
    "start_time": "2021-12-13T19:59:40.491Z"
   },
   {
    "duration": 8202,
    "start_time": "2021-12-13T20:18:30.472Z"
   },
   {
    "duration": 7972,
    "start_time": "2021-12-13T20:19:17.698Z"
   },
   {
    "duration": 138,
    "start_time": "2021-12-13T20:19:58.792Z"
   },
   {
    "duration": 7796,
    "start_time": "2021-12-13T20:20:11.010Z"
   },
   {
    "duration": 105,
    "start_time": "2021-12-13T20:21:28.264Z"
   },
   {
    "duration": 8031,
    "start_time": "2021-12-13T20:21:36.124Z"
   },
   {
    "duration": 14861,
    "start_time": "2021-12-13T20:25:37.772Z"
   },
   {
    "duration": 7428,
    "start_time": "2021-12-13T20:26:03.329Z"
   },
   {
    "duration": 8094,
    "start_time": "2021-12-13T20:26:55.010Z"
   },
   {
    "duration": 10024,
    "start_time": "2021-12-13T20:30:43.086Z"
   },
   {
    "duration": 8499,
    "start_time": "2021-12-13T20:33:33.797Z"
   },
   {
    "duration": 8005,
    "start_time": "2021-12-13T20:34:08.805Z"
   },
   {
    "duration": 8491,
    "start_time": "2021-12-13T20:35:44.352Z"
   },
   {
    "duration": 7926,
    "start_time": "2021-12-13T20:36:23.473Z"
   },
   {
    "duration": 7919,
    "start_time": "2021-12-13T20:38:32.927Z"
   },
   {
    "duration": 8895,
    "start_time": "2021-12-13T20:42:28.199Z"
   },
   {
    "duration": 8711,
    "start_time": "2021-12-13T20:46:31.516Z"
   },
   {
    "duration": 8430,
    "start_time": "2021-12-13T20:53:34.844Z"
   },
   {
    "duration": 8419,
    "start_time": "2021-12-13T20:59:44.259Z"
   },
   {
    "duration": 19603,
    "start_time": "2021-12-13T21:01:02.449Z"
   },
   {
    "duration": 15635,
    "start_time": "2021-12-13T21:01:28.006Z"
   },
   {
    "duration": 8274,
    "start_time": "2021-12-13T21:02:20.641Z"
   },
   {
    "duration": 289,
    "start_time": "2021-12-14T05:54:01.551Z"
   },
   {
    "duration": 601,
    "start_time": "2021-12-14T05:54:13.332Z"
   },
   {
    "duration": 1423,
    "start_time": "2021-12-14T05:54:13.935Z"
   },
   {
    "duration": 357,
    "start_time": "2021-12-14T05:54:15.360Z"
   },
   {
    "duration": 5529,
    "start_time": "2021-12-14T05:54:17.681Z"
   },
   {
    "duration": 4386,
    "start_time": "2021-12-14T05:55:07.446Z"
   },
   {
    "duration": 4583,
    "start_time": "2021-12-14T05:56:31.528Z"
   },
   {
    "duration": 456,
    "start_time": "2021-12-14T18:00:14.757Z"
   },
   {
    "duration": 1037,
    "start_time": "2021-12-14T18:00:22.022Z"
   },
   {
    "duration": 3838,
    "start_time": "2021-12-14T18:00:23.062Z"
   },
   {
    "duration": 663,
    "start_time": "2021-12-14T18:00:26.903Z"
   },
   {
    "duration": 7598,
    "start_time": "2021-12-14T18:00:51.468Z"
   },
   {
    "duration": 139,
    "start_time": "2021-12-14T18:03:54.556Z"
   },
   {
    "duration": 7472,
    "start_time": "2021-12-14T18:05:12.123Z"
   },
   {
    "duration": 7620,
    "start_time": "2021-12-14T18:07:11.751Z"
   },
   {
    "duration": 8503,
    "start_time": "2021-12-14T18:10:24.776Z"
   },
   {
    "duration": 7569,
    "start_time": "2021-12-14T18:10:55.031Z"
   },
   {
    "duration": 9570,
    "start_time": "2021-12-14T18:15:24.333Z"
   },
   {
    "duration": 9438,
    "start_time": "2021-12-14T18:19:58.969Z"
   },
   {
    "duration": 136,
    "start_time": "2021-12-14T18:28:06.087Z"
   },
   {
    "duration": 137,
    "start_time": "2021-12-14T18:28:54.040Z"
   },
   {
    "duration": 3703,
    "start_time": "2021-12-14T18:29:07.827Z"
   },
   {
    "duration": 3785,
    "start_time": "2021-12-14T18:29:43.369Z"
   },
   {
    "duration": 4782,
    "start_time": "2021-12-14T18:31:04.780Z"
   },
   {
    "duration": 6688,
    "start_time": "2021-12-14T18:32:24.874Z"
   },
   {
    "duration": 7193,
    "start_time": "2021-12-14T18:33:18.854Z"
   },
   {
    "duration": 4150,
    "start_time": "2021-12-14T18:40:45.545Z"
   },
   {
    "duration": 4017,
    "start_time": "2021-12-14T18:41:25.206Z"
   },
   {
    "duration": 7749,
    "start_time": "2021-12-14T18:43:07.398Z"
   },
   {
    "duration": 7812,
    "start_time": "2021-12-14T18:49:04.231Z"
   },
   {
    "duration": 7446,
    "start_time": "2021-12-14T18:50:57.141Z"
   },
   {
    "duration": 9996,
    "start_time": "2021-12-14T18:53:24.841Z"
   },
   {
    "duration": 9479,
    "start_time": "2021-12-14T18:54:40.975Z"
   },
   {
    "duration": 4858,
    "start_time": "2021-12-14T19:09:53.864Z"
   },
   {
    "duration": 5152,
    "start_time": "2021-12-14T19:11:46.169Z"
   },
   {
    "duration": 4506,
    "start_time": "2021-12-14T19:13:03.187Z"
   },
   {
    "duration": 4051,
    "start_time": "2021-12-14T19:14:41.394Z"
   },
   {
    "duration": 4180,
    "start_time": "2021-12-14T19:17:59.199Z"
   },
   {
    "duration": 4163,
    "start_time": "2021-12-14T19:21:32.521Z"
   },
   {
    "duration": 4165,
    "start_time": "2021-12-14T19:22:53.606Z"
   },
   {
    "duration": 3727,
    "start_time": "2021-12-14T19:24:07.828Z"
   },
   {
    "duration": 4501,
    "start_time": "2021-12-14T19:25:10.477Z"
   },
   {
    "duration": 10318,
    "start_time": "2021-12-14T19:25:54.554Z"
   },
   {
    "duration": 886,
    "start_time": "2021-12-14T19:29:51.394Z"
   },
   {
    "duration": 2590,
    "start_time": "2021-12-14T19:29:52.284Z"
   },
   {
    "duration": 648,
    "start_time": "2021-12-14T19:29:54.878Z"
   },
   {
    "duration": 893,
    "start_time": "2021-12-14T19:32:36.987Z"
   },
   {
    "duration": 2772,
    "start_time": "2021-12-14T19:32:37.883Z"
   },
   {
    "duration": 655,
    "start_time": "2021-12-14T19:32:40.660Z"
   },
   {
    "duration": 4941,
    "start_time": "2021-12-14T19:32:41.318Z"
   },
   {
    "duration": 4428,
    "start_time": "2021-12-14T19:33:09.400Z"
   },
   {
    "duration": 857,
    "start_time": "2021-12-14T19:37:27.000Z"
   },
   {
    "duration": 2523,
    "start_time": "2021-12-14T19:37:27.860Z"
   },
   {
    "duration": 673,
    "start_time": "2021-12-14T19:37:30.386Z"
   },
   {
    "duration": 4683,
    "start_time": "2021-12-14T19:37:31.063Z"
   },
   {
    "duration": 9019,
    "start_time": "2021-12-14T19:40:05.262Z"
   },
   {
    "duration": 9553,
    "start_time": "2021-12-14T19:43:49.314Z"
   },
   {
    "duration": 9687,
    "start_time": "2021-12-14T19:45:56.751Z"
   },
   {
    "duration": 10074,
    "start_time": "2021-12-14T20:04:36.009Z"
   },
   {
    "duration": 10050,
    "start_time": "2021-12-14T20:05:57.378Z"
   },
   {
    "duration": 10482,
    "start_time": "2021-12-14T20:08:08.484Z"
   },
   {
    "duration": 1023,
    "start_time": "2021-12-15T18:08:44.477Z"
   },
   {
    "duration": 23,
    "start_time": "2021-12-15T18:26:37.300Z"
   },
   {
    "duration": 22,
    "start_time": "2021-12-15T18:26:58.142Z"
   },
   {
    "duration": 29,
    "start_time": "2021-12-15T18:27:12.189Z"
   },
   {
    "duration": 181,
    "start_time": "2021-12-15T18:28:26.542Z"
   },
   {
    "duration": 430,
    "start_time": "2021-12-15T18:28:50.540Z"
   },
   {
    "duration": 102,
    "start_time": "2021-12-15T18:29:09.364Z"
   },
   {
    "duration": 79,
    "start_time": "2021-12-15T18:29:20.322Z"
   },
   {
    "duration": 180,
    "start_time": "2021-12-15T18:29:33.808Z"
   },
   {
    "duration": 177,
    "start_time": "2021-12-15T18:29:54.765Z"
   },
   {
    "duration": 30,
    "start_time": "2021-12-15T18:31:24.162Z"
   },
   {
    "duration": 23,
    "start_time": "2021-12-15T18:31:40.214Z"
   },
   {
    "duration": 29,
    "start_time": "2021-12-15T18:32:19.780Z"
   },
   {
    "duration": 171,
    "start_time": "2021-12-15T18:32:31.387Z"
   },
   {
    "duration": 35,
    "start_time": "2021-12-15T18:32:31.561Z"
   },
   {
    "duration": 28,
    "start_time": "2021-12-15T18:34:11.679Z"
   },
   {
    "duration": 46,
    "start_time": "2021-12-15T18:35:33.763Z"
   },
   {
    "duration": 45,
    "start_time": "2021-12-15T18:36:55.352Z"
   },
   {
    "duration": 14,
    "start_time": "2021-12-15T18:40:10.031Z"
   },
   {
    "duration": 14,
    "start_time": "2021-12-15T18:40:24.350Z"
   },
   {
    "duration": 1809,
    "start_time": "2021-12-15T18:41:01.034Z"
   },
   {
    "duration": 85,
    "start_time": "2021-12-15T18:42:15.750Z"
   },
   {
    "duration": 228,
    "start_time": "2021-12-15T18:43:23.852Z"
   },
   {
    "duration": 234,
    "start_time": "2021-12-15T18:44:36.799Z"
   },
   {
    "duration": 145,
    "start_time": "2021-12-15T18:47:48.727Z"
   },
   {
    "duration": 1551,
    "start_time": "2021-12-15T18:49:12.240Z"
   },
   {
    "duration": 173,
    "start_time": "2021-12-15T18:49:21.354Z"
   },
   {
    "duration": 19,
    "start_time": "2021-12-15T18:49:21.530Z"
   },
   {
    "duration": 8,
    "start_time": "2021-12-15T18:49:21.569Z"
   },
   {
    "duration": 28,
    "start_time": "2021-12-15T18:49:21.580Z"
   },
   {
    "duration": 14,
    "start_time": "2021-12-15T18:49:21.610Z"
   },
   {
    "duration": 47,
    "start_time": "2021-12-15T18:49:21.626Z"
   },
   {
    "duration": 1687,
    "start_time": "2021-12-15T18:49:25.791Z"
   },
   {
    "duration": 218,
    "start_time": "2021-12-15T18:49:57.494Z"
   },
   {
    "duration": 147,
    "start_time": "2021-12-15T18:50:14.717Z"
   },
   {
    "duration": 117,
    "start_time": "2021-12-15T18:51:29.376Z"
   },
   {
    "duration": 120,
    "start_time": "2021-12-15T18:51:57.359Z"
   },
   {
    "duration": 122,
    "start_time": "2021-12-15T18:52:30.367Z"
   },
   {
    "duration": 123,
    "start_time": "2021-12-15T18:52:35.968Z"
   },
   {
    "duration": 123,
    "start_time": "2021-12-15T18:53:52.295Z"
   },
   {
    "duration": 131,
    "start_time": "2021-12-15T18:53:55.528Z"
   },
   {
    "duration": 440,
    "start_time": "2021-12-15T18:54:01.606Z"
   },
   {
    "duration": 167,
    "start_time": "2021-12-15T18:54:08.438Z"
   },
   {
    "duration": 173,
    "start_time": "2021-12-15T18:59:20.011Z"
   },
   {
    "duration": 254,
    "start_time": "2021-12-15T19:00:23.659Z"
   },
   {
    "duration": 247,
    "start_time": "2021-12-15T19:01:47.784Z"
   },
   {
    "duration": 259,
    "start_time": "2021-12-15T19:02:40.986Z"
   },
   {
    "duration": 270,
    "start_time": "2021-12-15T19:03:16.319Z"
   },
   {
    "duration": 942,
    "start_time": "2021-12-15T19:04:12.417Z"
   },
   {
    "duration": 13,
    "start_time": "2021-12-15T19:05:09.493Z"
   },
   {
    "duration": 19,
    "start_time": "2021-12-15T19:05:34.349Z"
   },
   {
    "duration": 135,
    "start_time": "2021-12-15T19:06:52.834Z"
   },
   {
    "duration": 167,
    "start_time": "2021-12-15T19:09:17.507Z"
   },
   {
    "duration": 220,
    "start_time": "2021-12-15T19:09:26.688Z"
   },
   {
    "duration": 222,
    "start_time": "2021-12-15T19:09:45.588Z"
   },
   {
    "duration": 765,
    "start_time": "2021-12-15T19:10:49.767Z"
   },
   {
    "duration": 228,
    "start_time": "2021-12-15T19:11:31.902Z"
   },
   {
    "duration": 53,
    "start_time": "2021-12-15T19:11:32.134Z"
   },
   {
    "duration": 6,
    "start_time": "2021-12-15T19:11:32.192Z"
   },
   {
    "duration": 59,
    "start_time": "2021-12-15T19:11:32.202Z"
   },
   {
    "duration": 20,
    "start_time": "2021-12-15T19:11:32.270Z"
   },
   {
    "duration": 20,
    "start_time": "2021-12-15T19:11:32.294Z"
   },
   {
    "duration": 1792,
    "start_time": "2021-12-15T19:11:32.317Z"
   },
   {
    "duration": 234,
    "start_time": "2021-12-15T19:11:36.076Z"
   },
   {
    "duration": 6,
    "start_time": "2021-12-15T19:20:02.760Z"
   },
   {
    "duration": 473,
    "start_time": "2021-12-15T19:20:26.011Z"
   },
   {
    "duration": 11995,
    "start_time": "2021-12-15T19:22:17.862Z"
   },
   {
    "duration": 12617,
    "start_time": "2021-12-15T19:22:46.917Z"
   },
   {
    "duration": 179,
    "start_time": "2021-12-15T19:23:57.372Z"
   },
   {
    "duration": 169,
    "start_time": "2021-12-15T19:24:28.657Z"
   },
   {
    "duration": 22,
    "start_time": "2021-12-15T19:24:35.128Z"
   },
   {
    "duration": 6,
    "start_time": "2021-12-15T19:24:39.872Z"
   },
   {
    "duration": 28,
    "start_time": "2021-12-15T19:24:44.179Z"
   },
   {
    "duration": 17,
    "start_time": "2021-12-15T19:24:54.372Z"
   },
   {
    "duration": 1740,
    "start_time": "2021-12-15T19:24:59.941Z"
   },
   {
    "duration": 355,
    "start_time": "2021-12-15T19:25:09.355Z"
   },
   {
    "duration": 12070,
    "start_time": "2021-12-15T19:28:00.111Z"
   },
   {
    "duration": 796,
    "start_time": "2021-12-15T19:29:22.956Z"
   },
   {
    "duration": 1867,
    "start_time": "2021-12-15T19:30:49.409Z"
   },
   {
    "duration": 172,
    "start_time": "2021-12-15T19:31:10.009Z"
   },
   {
    "duration": 22,
    "start_time": "2021-12-15T19:31:10.185Z"
   },
   {
    "duration": 6,
    "start_time": "2021-12-15T19:31:10.211Z"
   },
   {
    "duration": 66,
    "start_time": "2021-12-15T19:31:10.220Z"
   },
   {
    "duration": 15,
    "start_time": "2021-12-15T19:31:10.288Z"
   },
   {
    "duration": 13,
    "start_time": "2021-12-15T19:31:10.513Z"
   },
   {
    "duration": 1797,
    "start_time": "2021-12-15T19:31:10.529Z"
   },
   {
    "duration": 259,
    "start_time": "2021-12-15T19:31:12.330Z"
   },
   {
    "duration": 3,
    "start_time": "2021-12-15T19:31:12.593Z"
   },
   {
    "duration": 773,
    "start_time": "2021-12-15T19:31:13.334Z"
   },
   {
    "duration": 1283,
    "start_time": "2021-12-15T19:32:15.257Z"
   },
   {
    "duration": 168,
    "start_time": "2021-12-15T19:32:20.258Z"
   },
   {
    "duration": 51,
    "start_time": "2021-12-15T19:32:20.428Z"
   },
   {
    "duration": 70,
    "start_time": "2021-12-15T19:32:20.483Z"
   },
   {
    "duration": 42,
    "start_time": "2021-12-15T19:32:20.556Z"
   },
   {
    "duration": 14,
    "start_time": "2021-12-15T19:32:20.600Z"
   },
   {
    "duration": 25,
    "start_time": "2021-12-15T19:32:20.617Z"
   },
   {
    "duration": 1868,
    "start_time": "2021-12-15T19:32:20.644Z"
   },
   {
    "duration": 264,
    "start_time": "2021-12-15T19:32:22.516Z"
   },
   {
    "duration": 5,
    "start_time": "2021-12-15T19:32:22.783Z"
   },
   {
    "duration": 840,
    "start_time": "2021-12-15T19:32:22.790Z"
   },
   {
    "duration": 802,
    "start_time": "2021-12-15T19:32:24.317Z"
   },
   {
    "duration": 825,
    "start_time": "2021-12-15T19:33:09.154Z"
   },
   {
    "duration": 201,
    "start_time": "2021-12-15T19:33:23.605Z"
   },
   {
    "duration": 20,
    "start_time": "2021-12-15T19:33:23.809Z"
   },
   {
    "duration": 39,
    "start_time": "2021-12-15T19:33:23.833Z"
   },
   {
    "duration": 63,
    "start_time": "2021-12-15T19:33:23.875Z"
   },
   {
    "duration": 14,
    "start_time": "2021-12-15T19:33:23.941Z"
   },
   {
    "duration": 26,
    "start_time": "2021-12-15T19:33:23.958Z"
   },
   {
    "duration": 1910,
    "start_time": "2021-12-15T19:33:23.988Z"
   },
   {
    "duration": 259,
    "start_time": "2021-12-15T19:33:25.902Z"
   },
   {
    "duration": 7,
    "start_time": "2021-12-15T19:33:26.167Z"
   },
   {
    "duration": 818,
    "start_time": "2021-12-15T19:33:29.384Z"
   },
   {
    "duration": 480,
    "start_time": "2021-12-15T19:34:58.846Z"
   },
   {
    "duration": 831,
    "start_time": "2021-12-15T19:35:11.068Z"
   },
   {
    "duration": 505,
    "start_time": "2021-12-15T19:36:14.103Z"
   },
   {
    "duration": 509,
    "start_time": "2021-12-15T19:36:27.092Z"
   },
   {
    "duration": 778,
    "start_time": "2021-12-15T19:36:55.184Z"
   },
   {
    "duration": 193,
    "start_time": "2021-12-15T19:39:36.108Z"
   },
   {
    "duration": 469,
    "start_time": "2021-12-15T19:39:55.333Z"
   },
   {
    "duration": 22,
    "start_time": "2021-12-15T19:39:55.805Z"
   },
   {
    "duration": 5,
    "start_time": "2021-12-15T19:39:55.831Z"
   },
   {
    "duration": 69,
    "start_time": "2021-12-15T19:39:55.839Z"
   },
   {
    "duration": 16,
    "start_time": "2021-12-15T19:39:55.911Z"
   },
   {
    "duration": 48,
    "start_time": "2021-12-15T19:39:55.930Z"
   },
   {
    "duration": 1900,
    "start_time": "2021-12-15T19:39:55.980Z"
   },
   {
    "duration": 169,
    "start_time": "2021-12-15T19:40:30.685Z"
   },
   {
    "duration": 31,
    "start_time": "2021-12-15T19:40:30.857Z"
   },
   {
    "duration": 34,
    "start_time": "2021-12-15T19:40:30.891Z"
   },
   {
    "duration": 62,
    "start_time": "2021-12-15T19:40:30.928Z"
   },
   {
    "duration": 23,
    "start_time": "2021-12-15T19:40:30.992Z"
   },
   {
    "duration": 31,
    "start_time": "2021-12-15T19:40:31.018Z"
   },
   {
    "duration": 1834,
    "start_time": "2021-12-15T19:40:31.051Z"
   },
   {
    "duration": 167,
    "start_time": "2021-12-15T19:40:35.771Z"
   },
   {
    "duration": 51,
    "start_time": "2021-12-15T19:42:51.844Z"
   },
   {
    "duration": 24,
    "start_time": "2021-12-15T19:44:37.219Z"
   },
   {
    "duration": 257,
    "start_time": "2021-12-15T19:44:43.718Z"
   },
   {
    "duration": 26,
    "start_time": "2021-12-15T19:44:43.978Z"
   },
   {
    "duration": 5,
    "start_time": "2021-12-15T19:44:44.008Z"
   },
   {
    "duration": 65,
    "start_time": "2021-12-15T19:44:44.016Z"
   },
   {
    "duration": 16,
    "start_time": "2021-12-15T19:44:44.084Z"
   },
   {
    "duration": 20,
    "start_time": "2021-12-15T19:44:44.103Z"
   },
   {
    "duration": 1810,
    "start_time": "2021-12-15T19:44:44.127Z"
   },
   {
    "duration": 171,
    "start_time": "2021-12-15T19:44:45.941Z"
   },
   {
    "duration": 37,
    "start_time": "2021-12-15T19:44:47.260Z"
   },
   {
    "duration": 52,
    "start_time": "2021-12-15T19:45:02.066Z"
   },
   {
    "duration": 312,
    "start_time": "2021-12-15T19:47:37.590Z"
   },
   {
    "duration": 336,
    "start_time": "2021-12-15T19:48:59.856Z"
   },
   {
    "duration": 377,
    "start_time": "2021-12-15T19:49:45.039Z"
   },
   {
    "duration": 330,
    "start_time": "2021-12-15T19:50:12.799Z"
   },
   {
    "duration": 41,
    "start_time": "2021-12-15T19:52:45.382Z"
   },
   {
    "duration": 165,
    "start_time": "2021-12-15T19:53:27.686Z"
   },
   {
    "duration": 29,
    "start_time": "2021-12-15T19:53:27.853Z"
   },
   {
    "duration": 8,
    "start_time": "2021-12-15T19:53:27.886Z"
   },
   {
    "duration": 55,
    "start_time": "2021-12-15T19:53:27.897Z"
   },
   {
    "duration": 32,
    "start_time": "2021-12-15T19:53:27.955Z"
   },
   {
    "duration": 24,
    "start_time": "2021-12-15T19:53:27.990Z"
   },
   {
    "duration": 1836,
    "start_time": "2021-12-15T19:53:28.017Z"
   },
   {
    "duration": 167,
    "start_time": "2021-12-15T19:53:29.857Z"
   },
   {
    "duration": 50,
    "start_time": "2021-12-15T19:54:13.325Z"
   },
   {
    "duration": 57,
    "start_time": "2021-12-15T19:56:56.963Z"
   },
   {
    "duration": 757,
    "start_time": "2021-12-15T20:03:41.262Z"
   },
   {
    "duration": 160,
    "start_time": "2021-12-15T20:03:53.896Z"
   },
   {
    "duration": 28,
    "start_time": "2021-12-15T20:03:54.059Z"
   },
   {
    "duration": 6,
    "start_time": "2021-12-15T20:03:54.092Z"
   },
   {
    "duration": 50,
    "start_time": "2021-12-15T20:03:54.101Z"
   },
   {
    "duration": 41,
    "start_time": "2021-12-15T20:03:54.153Z"
   },
   {
    "duration": 18,
    "start_time": "2021-12-15T20:03:54.196Z"
   },
   {
    "duration": 1743,
    "start_time": "2021-12-15T20:03:54.217Z"
   },
   {
    "duration": 164,
    "start_time": "2021-12-15T20:03:55.964Z"
   },
   {
    "duration": 63,
    "start_time": "2021-12-15T20:03:56.131Z"
   },
   {
    "duration": 5,
    "start_time": "2021-12-15T20:05:27.985Z"
   },
   {
    "duration": 167,
    "start_time": "2021-12-15T20:06:05.900Z"
   },
   {
    "duration": 24,
    "start_time": "2021-12-15T20:06:06.071Z"
   },
   {
    "duration": 17,
    "start_time": "2021-12-15T20:06:06.099Z"
   },
   {
    "duration": 55,
    "start_time": "2021-12-15T20:06:06.119Z"
   },
   {
    "duration": 13,
    "start_time": "2021-12-15T20:06:06.179Z"
   },
   {
    "duration": 54,
    "start_time": "2021-12-15T20:06:06.195Z"
   },
   {
    "duration": 1728,
    "start_time": "2021-12-15T20:06:06.251Z"
   },
   {
    "duration": 164,
    "start_time": "2021-12-15T20:06:07.982Z"
   },
   {
    "duration": 62,
    "start_time": "2021-12-15T20:06:08.149Z"
   },
   {
    "duration": 755,
    "start_time": "2021-12-15T20:06:08.214Z"
   },
   {
    "duration": 11,
    "start_time": "2021-12-15T20:06:58.324Z"
   },
   {
    "duration": 1264,
    "start_time": "2021-12-15T20:10:52.079Z"
   },
   {
    "duration": 52,
    "start_time": "2021-12-15T20:12:22.827Z"
   },
   {
    "duration": 156,
    "start_time": "2021-12-15T20:12:39.678Z"
   },
   {
    "duration": 44,
    "start_time": "2021-12-15T20:12:39.837Z"
   },
   {
    "duration": 5,
    "start_time": "2021-12-15T20:12:39.885Z"
   },
   {
    "duration": 53,
    "start_time": "2021-12-15T20:12:39.893Z"
   },
   {
    "duration": 26,
    "start_time": "2021-12-15T20:12:39.948Z"
   },
   {
    "duration": 16,
    "start_time": "2021-12-15T20:12:39.978Z"
   },
   {
    "duration": 1788,
    "start_time": "2021-12-15T20:12:39.997Z"
   },
   {
    "duration": 158,
    "start_time": "2021-12-15T20:12:41.789Z"
   },
   {
    "duration": 46,
    "start_time": "2021-12-15T20:12:43.872Z"
   },
   {
    "duration": 1274,
    "start_time": "2021-12-15T20:14:13.419Z"
   },
   {
    "duration": 6,
    "start_time": "2021-12-15T20:18:05.494Z"
   },
   {
    "duration": 730,
    "start_time": "2021-12-15T20:18:08.588Z"
   },
   {
    "duration": 8,
    "start_time": "2021-12-15T20:18:12.360Z"
   },
   {
    "duration": 263,
    "start_time": "2021-12-15T20:18:15.875Z"
   },
   {
    "duration": 50,
    "start_time": "2021-12-15T20:18:24.171Z"
   },
   {
    "duration": 174,
    "start_time": "2021-12-15T20:18:40.553Z"
   },
   {
    "duration": 35,
    "start_time": "2021-12-15T20:18:40.731Z"
   },
   {
    "duration": 10,
    "start_time": "2021-12-15T20:18:40.769Z"
   },
   {
    "duration": 53,
    "start_time": "2021-12-15T20:18:40.781Z"
   },
   {
    "duration": 36,
    "start_time": "2021-12-15T20:18:40.837Z"
   },
   {
    "duration": 21,
    "start_time": "2021-12-15T20:18:40.876Z"
   },
   {
    "duration": 1784,
    "start_time": "2021-12-15T20:18:40.900Z"
   },
   {
    "duration": 181,
    "start_time": "2021-12-15T20:18:42.686Z"
   },
   {
    "duration": 49,
    "start_time": "2021-12-15T20:18:42.871Z"
   },
   {
    "duration": 12,
    "start_time": "2021-12-15T20:18:42.923Z"
   },
   {
    "duration": 1532,
    "start_time": "2021-12-15T20:18:42.938Z"
   },
   {
    "duration": 5,
    "start_time": "2021-12-15T20:18:44.473Z"
   },
   {
    "duration": 920,
    "start_time": "2021-12-15T20:18:44.482Z"
   },
   {
    "duration": 7,
    "start_time": "2021-12-15T20:18:45.404Z"
   },
   {
    "duration": 18,
    "start_time": "2021-12-15T20:18:47.036Z"
   },
   {
    "duration": 22,
    "start_time": "2021-12-15T20:19:16.802Z"
   },
   {
    "duration": 253,
    "start_time": "2021-12-15T20:19:43.725Z"
   },
   {
    "duration": 32,
    "start_time": "2021-12-15T20:19:43.982Z"
   },
   {
    "duration": 6,
    "start_time": "2021-12-15T20:19:44.020Z"
   },
   {
    "duration": 62,
    "start_time": "2021-12-15T20:19:44.028Z"
   },
   {
    "duration": 13,
    "start_time": "2021-12-15T20:19:44.096Z"
   },
   {
    "duration": 22,
    "start_time": "2021-12-15T20:19:44.111Z"
   },
   {
    "duration": 3223,
    "start_time": "2021-12-15T20:19:44.135Z"
   },
   {
    "duration": 263,
    "start_time": "2021-12-15T20:19:47.370Z"
   },
   {
    "duration": 67,
    "start_time": "2021-12-15T20:19:47.637Z"
   },
   {
    "duration": 13,
    "start_time": "2021-12-15T20:19:47.707Z"
   },
   {
    "duration": 1431,
    "start_time": "2021-12-15T20:19:47.722Z"
   },
   {
    "duration": 15,
    "start_time": "2021-12-15T20:19:49.156Z"
   },
   {
    "duration": 1013,
    "start_time": "2021-12-15T20:19:49.174Z"
   },
   {
    "duration": 10,
    "start_time": "2021-12-15T20:19:50.189Z"
   },
   {
    "duration": 17,
    "start_time": "2021-12-15T20:19:57.023Z"
   },
   {
    "duration": 5,
    "start_time": "2021-12-15T20:20:41.602Z"
   },
   {
    "duration": 954,
    "start_time": "2021-12-15T20:20:45.635Z"
   },
   {
    "duration": 6,
    "start_time": "2021-12-15T20:20:49.751Z"
   },
   {
    "duration": 24,
    "start_time": "2021-12-15T20:20:53.655Z"
   },
   {
    "duration": 44,
    "start_time": "2021-12-15T20:20:58.849Z"
   },
   {
    "duration": 693,
    "start_time": "2021-12-15T20:38:43.425Z"
   },
   {
    "duration": 176,
    "start_time": "2021-12-15T20:38:57.260Z"
   },
   {
    "duration": 39,
    "start_time": "2021-12-15T20:38:57.440Z"
   },
   {
    "duration": 8,
    "start_time": "2021-12-15T20:38:57.485Z"
   },
   {
    "duration": 42,
    "start_time": "2021-12-15T20:38:57.497Z"
   },
   {
    "duration": 45,
    "start_time": "2021-12-15T20:38:57.542Z"
   },
   {
    "duration": 18,
    "start_time": "2021-12-15T20:38:57.592Z"
   },
   {
    "duration": 1901,
    "start_time": "2021-12-15T20:38:57.614Z"
   },
   {
    "duration": 171,
    "start_time": "2021-12-15T20:38:59.518Z"
   },
   {
    "duration": 51,
    "start_time": "2021-12-15T20:38:59.693Z"
   },
   {
    "duration": 41,
    "start_time": "2021-12-15T20:38:59.746Z"
   },
   {
    "duration": 1608,
    "start_time": "2021-12-15T20:38:59.792Z"
   },
   {
    "duration": 36,
    "start_time": "2021-12-15T20:39:25.362Z"
   },
   {
    "duration": 294,
    "start_time": "2021-12-15T20:43:42.661Z"
   },
   {
    "duration": 165,
    "start_time": "2021-12-15T20:44:02.164Z"
   },
   {
    "duration": 44,
    "start_time": "2021-12-15T20:44:02.331Z"
   },
   {
    "duration": 6,
    "start_time": "2021-12-15T20:44:02.378Z"
   },
   {
    "duration": 32,
    "start_time": "2021-12-15T20:44:02.387Z"
   },
   {
    "duration": 13,
    "start_time": "2021-12-15T20:44:02.421Z"
   },
   {
    "duration": 48,
    "start_time": "2021-12-15T20:44:02.436Z"
   },
   {
    "duration": 1723,
    "start_time": "2021-12-15T20:44:02.487Z"
   },
   {
    "duration": 163,
    "start_time": "2021-12-15T20:44:04.213Z"
   },
   {
    "duration": 48,
    "start_time": "2021-12-15T20:44:04.380Z"
   },
   {
    "duration": 41,
    "start_time": "2021-12-15T20:44:04.431Z"
   },
   {
    "duration": 1459,
    "start_time": "2021-12-15T20:44:04.478Z"
   },
   {
    "duration": 300,
    "start_time": "2021-12-15T20:44:06.741Z"
   },
   {
    "duration": 254,
    "start_time": "2021-12-15T20:44:40.514Z"
   },
   {
    "duration": 90,
    "start_time": "2021-12-15T20:44:58.720Z"
   },
   {
    "duration": 283,
    "start_time": "2021-12-15T20:45:25.969Z"
   },
   {
    "duration": 93,
    "start_time": "2021-12-15T20:45:43.366Z"
   },
   {
    "duration": 308,
    "start_time": "2021-12-15T20:45:51.148Z"
   },
   {
    "duration": 306,
    "start_time": "2021-12-15T20:46:19.943Z"
   },
   {
    "duration": 136,
    "start_time": "2021-12-15T20:46:40.096Z"
   },
   {
    "duration": 47,
    "start_time": "2021-12-15T20:47:12.203Z"
   },
   {
    "duration": 67,
    "start_time": "2021-12-15T20:49:41.004Z"
   },
   {
    "duration": 39,
    "start_time": "2021-12-15T20:50:18.951Z"
   },
   {
    "duration": 14,
    "start_time": "2021-12-15T20:51:55.999Z"
   },
   {
    "duration": 12,
    "start_time": "2021-12-15T20:52:45.603Z"
   },
   {
    "duration": 14,
    "start_time": "2021-12-15T20:53:22.764Z"
   },
   {
    "duration": 225,
    "start_time": "2021-12-15T20:58:55.243Z"
   },
   {
    "duration": 276,
    "start_time": "2021-12-15T20:59:59.356Z"
   },
   {
    "duration": 254,
    "start_time": "2021-12-15T21:00:39.825Z"
   },
   {
    "duration": 177,
    "start_time": "2021-12-15T21:00:45.548Z"
   },
   {
    "duration": 39,
    "start_time": "2021-12-15T21:00:45.728Z"
   },
   {
    "duration": 5,
    "start_time": "2021-12-15T21:00:45.780Z"
   },
   {
    "duration": 59,
    "start_time": "2021-12-15T21:00:45.788Z"
   },
   {
    "duration": 13,
    "start_time": "2021-12-15T21:00:45.850Z"
   },
   {
    "duration": 29,
    "start_time": "2021-12-15T21:00:45.867Z"
   },
   {
    "duration": 1840,
    "start_time": "2021-12-15T21:00:45.899Z"
   },
   {
    "duration": 230,
    "start_time": "2021-12-15T21:00:47.743Z"
   },
   {
    "duration": 51,
    "start_time": "2021-12-15T21:00:47.976Z"
   },
   {
    "duration": 26,
    "start_time": "2021-12-15T21:00:48.030Z"
   },
   {
    "duration": 1516,
    "start_time": "2021-12-15T21:00:48.058Z"
   },
   {
    "duration": 36,
    "start_time": "2021-12-15T21:00:49.578Z"
   },
   {
    "duration": 13,
    "start_time": "2021-12-15T21:00:49.616Z"
   },
   {
    "duration": 239,
    "start_time": "2021-12-15T21:00:50.242Z"
   },
   {
    "duration": 239,
    "start_time": "2021-12-15T21:02:08.756Z"
   },
   {
    "duration": 220,
    "start_time": "2021-12-15T21:10:26.326Z"
   },
   {
    "duration": 238,
    "start_time": "2021-12-15T21:11:53.587Z"
   },
   {
    "duration": 249,
    "start_time": "2021-12-15T21:12:08.543Z"
   },
   {
    "duration": 215,
    "start_time": "2021-12-15T21:12:51.920Z"
   },
   {
    "duration": 193,
    "start_time": "2021-12-15T21:12:58.096Z"
   },
   {
    "duration": 205,
    "start_time": "2021-12-15T21:14:41.928Z"
   },
   {
    "duration": 200,
    "start_time": "2021-12-15T21:14:59.279Z"
   },
   {
    "duration": 204,
    "start_time": "2021-12-15T21:15:14.830Z"
   },
   {
    "duration": 272,
    "start_time": "2021-12-15T21:18:22.155Z"
   },
   {
    "duration": 210,
    "start_time": "2021-12-15T21:19:01.397Z"
   },
   {
    "duration": 644,
    "start_time": "2021-12-15T21:19:59.827Z"
   },
   {
    "duration": 218,
    "start_time": "2021-12-15T21:20:13.527Z"
   },
   {
    "duration": 636,
    "start_time": "2021-12-15T21:24:58.743Z"
   },
   {
    "duration": 575,
    "start_time": "2021-12-15T21:25:20.508Z"
   },
   {
    "duration": 553,
    "start_time": "2021-12-15T21:25:41.727Z"
   },
   {
    "duration": 164,
    "start_time": "2021-12-15T21:26:06.016Z"
   },
   {
    "duration": 21,
    "start_time": "2021-12-15T21:26:06.183Z"
   },
   {
    "duration": 4,
    "start_time": "2021-12-15T21:26:06.208Z"
   },
   {
    "duration": 70,
    "start_time": "2021-12-15T21:26:06.215Z"
   },
   {
    "duration": 14,
    "start_time": "2021-12-15T21:26:06.287Z"
   },
   {
    "duration": 13,
    "start_time": "2021-12-15T21:26:06.303Z"
   },
   {
    "duration": 1716,
    "start_time": "2021-12-15T21:26:06.318Z"
   },
   {
    "duration": 155,
    "start_time": "2021-12-15T21:26:08.039Z"
   },
   {
    "duration": 77,
    "start_time": "2021-12-15T21:26:08.198Z"
   },
   {
    "duration": 17,
    "start_time": "2021-12-15T21:26:08.278Z"
   },
   {
    "duration": 1383,
    "start_time": "2021-12-15T21:26:08.298Z"
   },
   {
    "duration": 35,
    "start_time": "2021-12-15T21:26:09.684Z"
   },
   {
    "duration": 12,
    "start_time": "2021-12-15T21:26:09.721Z"
   },
   {
    "duration": 232,
    "start_time": "2021-12-15T21:26:09.769Z"
   },
   {
    "duration": 697,
    "start_time": "2021-12-15T21:27:56.228Z"
   },
   {
    "duration": 582,
    "start_time": "2021-12-15T21:28:41.748Z"
   },
   {
    "duration": 573,
    "start_time": "2021-12-15T21:28:48.747Z"
   },
   {
    "duration": 570,
    "start_time": "2021-12-15T21:29:31.577Z"
   },
   {
    "duration": 12,
    "start_time": "2021-12-15T21:31:14.913Z"
   },
   {
    "duration": 40,
    "start_time": "2021-12-15T21:33:04.352Z"
   },
   {
    "duration": 619,
    "start_time": "2021-12-15T21:38:54.328Z"
   },
   {
    "duration": 167,
    "start_time": "2021-12-15T21:39:04.703Z"
   },
   {
    "duration": 21,
    "start_time": "2021-12-15T21:39:04.874Z"
   },
   {
    "duration": 17,
    "start_time": "2021-12-15T21:39:04.898Z"
   },
   {
    "duration": 52,
    "start_time": "2021-12-15T21:39:04.918Z"
   },
   {
    "duration": 13,
    "start_time": "2021-12-15T21:39:04.973Z"
   },
   {
    "duration": 28,
    "start_time": "2021-12-15T21:39:04.989Z"
   },
   {
    "duration": 1806,
    "start_time": "2021-12-15T21:39:05.019Z"
   },
   {
    "duration": 163,
    "start_time": "2021-12-15T21:39:06.828Z"
   },
   {
    "duration": 45,
    "start_time": "2021-12-15T21:39:06.994Z"
   },
   {
    "duration": 33,
    "start_time": "2021-12-15T21:39:07.042Z"
   },
   {
    "duration": 1434,
    "start_time": "2021-12-15T21:39:07.078Z"
   },
   {
    "duration": 36,
    "start_time": "2021-12-15T21:39:08.514Z"
   },
   {
    "duration": 14,
    "start_time": "2021-12-15T21:39:08.567Z"
   },
   {
    "duration": 254,
    "start_time": "2021-12-15T21:39:08.584Z"
   },
   {
    "duration": 561,
    "start_time": "2021-12-15T21:39:17.423Z"
   },
   {
    "duration": 40,
    "start_time": "2021-12-15T21:39:28.213Z"
   },
   {
    "duration": 4,
    "start_time": "2021-12-15T21:43:09.845Z"
   },
   {
    "duration": 7961,
    "start_time": "2021-12-15T21:43:58.133Z"
   },
   {
    "duration": 766,
    "start_time": "2021-12-15T21:45:07.089Z"
   },
   {
    "duration": 96,
    "start_time": "2021-12-15T22:01:55.370Z"
   },
   {
    "duration": 706,
    "start_time": "2021-12-15T22:02:00.750Z"
   },
   {
    "duration": 612,
    "start_time": "2021-12-15T22:03:22.241Z"
   },
   {
    "duration": 6830,
    "start_time": "2021-12-15T22:04:19.741Z"
   },
   {
    "duration": 673,
    "start_time": "2021-12-15T22:05:12.134Z"
   },
   {
    "duration": 7289,
    "start_time": "2021-12-15T22:05:53.585Z"
   },
   {
    "duration": -283,
    "start_time": "2021-12-15T22:06:01.161Z"
   },
   {
    "duration": -328,
    "start_time": "2021-12-15T22:06:01.207Z"
   },
   {
    "duration": -392,
    "start_time": "2021-12-15T22:06:01.273Z"
   },
   {
    "duration": -433,
    "start_time": "2021-12-15T22:06:01.315Z"
   },
   {
    "duration": -463,
    "start_time": "2021-12-15T22:06:01.347Z"
   },
   {
    "duration": -538,
    "start_time": "2021-12-15T22:06:01.424Z"
   },
   {
    "duration": -576,
    "start_time": "2021-12-15T22:06:01.464Z"
   },
   {
    "duration": -611,
    "start_time": "2021-12-15T22:06:01.500Z"
   },
   {
    "duration": -667,
    "start_time": "2021-12-15T22:06:01.557Z"
   },
   {
    "duration": -695,
    "start_time": "2021-12-15T22:06:01.587Z"
   },
   {
    "duration": -720,
    "start_time": "2021-12-15T22:06:01.613Z"
   },
   {
    "duration": -741,
    "start_time": "2021-12-15T22:06:01.636Z"
   },
   {
    "duration": -802,
    "start_time": "2021-12-15T22:06:01.698Z"
   },
   {
    "duration": -825,
    "start_time": "2021-12-15T22:06:01.723Z"
   },
   {
    "duration": -847,
    "start_time": "2021-12-15T22:06:01.746Z"
   },
   {
    "duration": 694,
    "start_time": "2021-12-15T22:06:09.556Z"
   },
   {
    "duration": 106,
    "start_time": "2021-12-15T22:06:18.202Z"
   },
   {
    "duration": 314,
    "start_time": "2021-12-15T22:06:29.834Z"
   },
   {
    "duration": 36,
    "start_time": "2021-12-15T22:06:55.626Z"
   },
   {
    "duration": 618,
    "start_time": "2021-12-15T22:10:54.300Z"
   },
   {
    "duration": 170,
    "start_time": "2021-12-15T22:10:58.836Z"
   },
   {
    "duration": 20,
    "start_time": "2021-12-15T22:10:59.008Z"
   },
   {
    "duration": 4,
    "start_time": "2021-12-15T22:10:59.031Z"
   },
   {
    "duration": 63,
    "start_time": "2021-12-15T22:10:59.038Z"
   },
   {
    "duration": 15,
    "start_time": "2021-12-15T22:10:59.105Z"
   },
   {
    "duration": 53,
    "start_time": "2021-12-15T22:10:59.123Z"
   },
   {
    "duration": 1710,
    "start_time": "2021-12-15T22:10:59.179Z"
   },
   {
    "duration": 163,
    "start_time": "2021-12-15T22:11:00.892Z"
   },
   {
    "duration": 55,
    "start_time": "2021-12-15T22:11:01.058Z"
   },
   {
    "duration": 12,
    "start_time": "2021-12-15T22:11:01.116Z"
   },
   {
    "duration": 1416,
    "start_time": "2021-12-15T22:11:01.131Z"
   },
   {
    "duration": 45,
    "start_time": "2021-12-15T22:11:02.550Z"
   },
   {
    "duration": 12,
    "start_time": "2021-12-15T22:11:02.597Z"
   },
   {
    "duration": 259,
    "start_time": "2021-12-15T22:11:02.611Z"
   },
   {
    "duration": 585,
    "start_time": "2021-12-15T22:11:02.875Z"
   },
   {
    "duration": 42,
    "start_time": "2021-12-15T22:11:03.463Z"
   },
   {
    "duration": 5971,
    "start_time": "2021-12-15T22:11:07.306Z"
   },
   {
    "duration": 576,
    "start_time": "2021-12-15T22:12:43.699Z"
   },
   {
    "duration": 264,
    "start_time": "2021-12-15T22:15:19.007Z"
   },
   {
    "duration": 275,
    "start_time": "2021-12-15T22:15:28.211Z"
   },
   {
    "duration": 248,
    "start_time": "2021-12-15T22:15:34.102Z"
   },
   {
    "duration": 249,
    "start_time": "2021-12-15T22:15:40.884Z"
   },
   {
    "duration": 260,
    "start_time": "2021-12-15T22:15:51.663Z"
   },
   {
    "duration": 162,
    "start_time": "2021-12-15T22:15:58.260Z"
   },
   {
    "duration": 42,
    "start_time": "2021-12-15T22:15:58.425Z"
   },
   {
    "duration": 10,
    "start_time": "2021-12-15T22:15:58.472Z"
   },
   {
    "duration": 44,
    "start_time": "2021-12-15T22:15:58.485Z"
   },
   {
    "duration": 35,
    "start_time": "2021-12-15T22:15:58.532Z"
   },
   {
    "duration": 13,
    "start_time": "2021-12-15T22:15:58.570Z"
   },
   {
    "duration": 1669,
    "start_time": "2021-12-15T22:15:58.585Z"
   },
   {
    "duration": 156,
    "start_time": "2021-12-15T22:16:00.258Z"
   },
   {
    "duration": 59,
    "start_time": "2021-12-15T22:16:00.416Z"
   },
   {
    "duration": 12,
    "start_time": "2021-12-15T22:16:00.478Z"
   },
   {
    "duration": 1477,
    "start_time": "2021-12-15T22:16:00.492Z"
   },
   {
    "duration": 38,
    "start_time": "2021-12-15T22:16:01.973Z"
   },
   {
    "duration": 68,
    "start_time": "2021-12-15T22:16:02.014Z"
   },
   {
    "duration": 295,
    "start_time": "2021-12-15T22:16:02.086Z"
   },
   {
    "duration": 998,
    "start_time": "2021-12-15T22:16:02.385Z"
   },
   {
    "duration": 63,
    "start_time": "2021-12-15T22:16:04.054Z"
   },
   {
    "duration": 28,
    "start_time": "2021-12-15T22:16:25.104Z"
   },
   {
    "duration": 28,
    "start_time": "2021-12-15T22:16:32.095Z"
   },
   {
    "duration": 314,
    "start_time": "2021-12-15T22:16:41.735Z"
   },
   {
    "duration": 37,
    "start_time": "2021-12-15T22:17:15.332Z"
   },
   {
    "duration": 35,
    "start_time": "2021-12-15T22:17:25.623Z"
   },
   {
    "duration": 618,
    "start_time": "2021-12-15T22:18:03.413Z"
   },
   {
    "duration": 1019,
    "start_time": "2021-12-15T22:18:56.727Z"
   },
   {
    "duration": 159,
    "start_time": "2021-12-15T22:19:45.772Z"
   },
   {
    "duration": 34,
    "start_time": "2021-12-15T22:19:45.934Z"
   },
   {
    "duration": 5,
    "start_time": "2021-12-15T22:19:45.971Z"
   },
   {
    "duration": 32,
    "start_time": "2021-12-15T22:19:45.979Z"
   },
   {
    "duration": 12,
    "start_time": "2021-12-15T22:19:46.014Z"
   },
   {
    "duration": 16,
    "start_time": "2021-12-15T22:19:46.068Z"
   },
   {
    "duration": 1645,
    "start_time": "2021-12-15T22:19:46.088Z"
   },
   {
    "duration": 161,
    "start_time": "2021-12-15T22:19:47.737Z"
   },
   {
    "duration": 75,
    "start_time": "2021-12-15T22:19:47.902Z"
   },
   {
    "duration": 13,
    "start_time": "2021-12-15T22:19:47.979Z"
   },
   {
    "duration": 1334,
    "start_time": "2021-12-15T22:19:47.994Z"
   },
   {
    "duration": 49,
    "start_time": "2021-12-15T22:19:49.331Z"
   },
   {
    "duration": 12,
    "start_time": "2021-12-15T22:19:49.382Z"
   },
   {
    "duration": 336,
    "start_time": "2021-12-15T22:19:49.398Z"
   },
   {
    "duration": 952,
    "start_time": "2021-12-15T22:19:49.737Z"
   },
   {
    "duration": 53,
    "start_time": "2021-12-15T22:19:50.692Z"
   },
   {
    "duration": 1393,
    "start_time": "2021-12-15T22:19:59.861Z"
   },
   {
    "duration": 1023,
    "start_time": "2021-12-15T22:20:48.763Z"
   },
   {
    "duration": 161,
    "start_time": "2021-12-15T22:20:54.326Z"
   },
   {
    "duration": 21,
    "start_time": "2021-12-15T22:20:54.491Z"
   },
   {
    "duration": 5,
    "start_time": "2021-12-15T22:20:54.515Z"
   },
   {
    "duration": 64,
    "start_time": "2021-12-15T22:20:54.523Z"
   },
   {
    "duration": 13,
    "start_time": "2021-12-15T22:20:54.590Z"
   },
   {
    "duration": 13,
    "start_time": "2021-12-15T22:20:54.606Z"
   },
   {
    "duration": 1650,
    "start_time": "2021-12-15T22:20:54.622Z"
   },
   {
    "duration": 234,
    "start_time": "2021-12-15T22:20:56.275Z"
   },
   {
    "duration": 78,
    "start_time": "2021-12-15T22:20:56.514Z"
   },
   {
    "duration": 19,
    "start_time": "2021-12-15T22:20:56.596Z"
   },
   {
    "duration": 2177,
    "start_time": "2021-12-15T22:20:56.618Z"
   },
   {
    "duration": 41,
    "start_time": "2021-12-15T22:20:58.798Z"
   },
   {
    "duration": 28,
    "start_time": "2021-12-15T22:20:58.842Z"
   },
   {
    "duration": 253,
    "start_time": "2021-12-15T22:20:58.872Z"
   },
   {
    "duration": 568,
    "start_time": "2021-12-15T22:20:59.128Z"
   },
   {
    "duration": 38,
    "start_time": "2021-12-15T22:20:59.698Z"
   },
   {
    "duration": 7663,
    "start_time": "2021-12-15T22:20:59.740Z"
   },
   {
    "duration": 7172,
    "start_time": "2021-12-15T22:21:10.297Z"
   },
   {
    "duration": 163,
    "start_time": "2021-12-15T22:21:48.183Z"
   },
   {
    "duration": 29,
    "start_time": "2021-12-15T22:21:48.366Z"
   },
   {
    "duration": 6,
    "start_time": "2021-12-15T22:21:48.399Z"
   },
   {
    "duration": 73,
    "start_time": "2021-12-15T22:21:48.408Z"
   },
   {
    "duration": 18,
    "start_time": "2021-12-15T22:21:48.484Z"
   },
   {
    "duration": 12,
    "start_time": "2021-12-15T22:21:48.505Z"
   },
   {
    "duration": 1712,
    "start_time": "2021-12-15T22:21:48.520Z"
   },
   {
    "duration": 160,
    "start_time": "2021-12-15T22:21:50.236Z"
   },
   {
    "duration": 44,
    "start_time": "2021-12-15T22:21:50.399Z"
   },
   {
    "duration": 30,
    "start_time": "2021-12-15T22:21:50.446Z"
   },
   {
    "duration": 1325,
    "start_time": "2021-12-15T22:21:50.479Z"
   },
   {
    "duration": 35,
    "start_time": "2021-12-15T22:21:51.806Z"
   },
   {
    "duration": 33,
    "start_time": "2021-12-15T22:21:51.843Z"
   },
   {
    "duration": 242,
    "start_time": "2021-12-15T22:21:51.878Z"
   },
   {
    "duration": 567,
    "start_time": "2021-12-15T22:21:52.122Z"
   },
   {
    "duration": 34,
    "start_time": "2021-12-15T22:21:52.691Z"
   },
   {
    "duration": 8435,
    "start_time": "2021-12-15T22:22:01.778Z"
   },
   {
    "duration": 881,
    "start_time": "2021-12-15T22:23:26.447Z"
   },
   {
    "duration": 288,
    "start_time": "2021-12-15T22:24:07.849Z"
   },
   {
    "duration": 3317,
    "start_time": "2021-12-15T22:25:01.387Z"
   },
   {
    "duration": 157,
    "start_time": "2021-12-15T22:25:09.865Z"
   },
   {
    "duration": 22,
    "start_time": "2021-12-15T22:25:10.046Z"
   },
   {
    "duration": 5,
    "start_time": "2021-12-15T22:25:10.071Z"
   },
   {
    "duration": 39,
    "start_time": "2021-12-15T22:25:10.079Z"
   },
   {
    "duration": 15,
    "start_time": "2021-12-15T22:25:10.121Z"
   },
   {
    "duration": 15,
    "start_time": "2021-12-15T22:25:10.169Z"
   },
   {
    "duration": 1674,
    "start_time": "2021-12-15T22:25:10.187Z"
   },
   {
    "duration": 144,
    "start_time": "2021-12-15T22:25:11.868Z"
   },
   {
    "duration": 59,
    "start_time": "2021-12-15T22:25:12.014Z"
   },
   {
    "duration": 13,
    "start_time": "2021-12-15T22:25:12.076Z"
   },
   {
    "duration": 1327,
    "start_time": "2021-12-15T22:25:12.092Z"
   },
   {
    "duration": 55,
    "start_time": "2021-12-15T22:25:13.423Z"
   },
   {
    "duration": 12,
    "start_time": "2021-12-15T22:25:13.481Z"
   },
   {
    "duration": 298,
    "start_time": "2021-12-15T22:25:13.496Z"
   },
   {
    "duration": 557,
    "start_time": "2021-12-15T22:25:13.796Z"
   },
   {
    "duration": 38,
    "start_time": "2021-12-15T22:25:52.117Z"
   },
   {
    "duration": 41,
    "start_time": "2021-12-15T22:26:19.675Z"
   },
   {
    "duration": 772,
    "start_time": "2021-12-15T22:26:30.955Z"
   },
   {
    "duration": 164,
    "start_time": "2021-12-15T22:26:41.023Z"
   },
   {
    "duration": 21,
    "start_time": "2021-12-15T22:26:41.189Z"
   },
   {
    "duration": 12,
    "start_time": "2021-12-15T22:26:41.213Z"
   },
   {
    "duration": 53,
    "start_time": "2021-12-15T22:26:41.228Z"
   },
   {
    "duration": 12,
    "start_time": "2021-12-15T22:26:41.284Z"
   },
   {
    "duration": 24,
    "start_time": "2021-12-15T22:26:41.298Z"
   },
   {
    "duration": 1749,
    "start_time": "2021-12-15T22:26:41.324Z"
   },
   {
    "duration": 153,
    "start_time": "2021-12-15T22:26:43.076Z"
   },
   {
    "duration": 59,
    "start_time": "2021-12-15T22:26:43.231Z"
   },
   {
    "duration": 11,
    "start_time": "2021-12-15T22:26:43.293Z"
   },
   {
    "duration": 1423,
    "start_time": "2021-12-15T22:26:43.307Z"
   },
   {
    "duration": 48,
    "start_time": "2021-12-15T22:26:44.732Z"
   },
   {
    "duration": 11,
    "start_time": "2021-12-15T22:26:44.783Z"
   },
   {
    "duration": 233,
    "start_time": "2021-12-15T22:26:44.796Z"
   },
   {
    "duration": 553,
    "start_time": "2021-12-15T22:26:45.032Z"
   },
   {
    "duration": 38,
    "start_time": "2021-12-15T22:26:45.588Z"
   },
   {
    "duration": 7017,
    "start_time": "2021-12-15T22:27:41.578Z"
   },
   {
    "duration": 163,
    "start_time": "2021-12-15T22:27:53.050Z"
   },
   {
    "duration": 20,
    "start_time": "2021-12-15T22:27:53.215Z"
   },
   {
    "duration": 31,
    "start_time": "2021-12-15T22:27:53.239Z"
   },
   {
    "duration": 36,
    "start_time": "2021-12-15T22:27:53.273Z"
   },
   {
    "duration": 13,
    "start_time": "2021-12-15T22:27:53.312Z"
   },
   {
    "duration": 50,
    "start_time": "2021-12-15T22:27:53.327Z"
   },
   {
    "duration": 1655,
    "start_time": "2021-12-15T22:27:53.380Z"
   },
   {
    "duration": 161,
    "start_time": "2021-12-15T22:27:55.039Z"
   },
   {
    "duration": 65,
    "start_time": "2021-12-15T22:27:55.203Z"
   },
   {
    "duration": 12,
    "start_time": "2021-12-15T22:27:55.271Z"
   },
   {
    "duration": 1321,
    "start_time": "2021-12-15T22:27:55.286Z"
   },
   {
    "duration": 34,
    "start_time": "2021-12-15T22:27:56.609Z"
   },
   {
    "duration": 28,
    "start_time": "2021-12-15T22:27:56.645Z"
   },
   {
    "duration": 223,
    "start_time": "2021-12-15T22:27:56.676Z"
   },
   {
    "duration": 609,
    "start_time": "2021-12-15T22:27:56.901Z"
   },
   {
    "duration": 39,
    "start_time": "2021-12-15T22:27:57.512Z"
   },
   {
    "duration": 5293,
    "start_time": "2021-12-15T22:29:20.096Z"
   },
   {
    "duration": 3347,
    "start_time": "2021-12-15T22:30:21.942Z"
   },
   {
    "duration": 162,
    "start_time": "2021-12-15T22:30:29.319Z"
   },
   {
    "duration": 20,
    "start_time": "2021-12-15T22:30:29.484Z"
   },
   {
    "duration": 19,
    "start_time": "2021-12-15T22:30:29.508Z"
   },
   {
    "duration": 55,
    "start_time": "2021-12-15T22:30:29.530Z"
   },
   {
    "duration": 13,
    "start_time": "2021-12-15T22:30:29.587Z"
   },
   {
    "duration": 41,
    "start_time": "2021-12-15T22:30:29.602Z"
   },
   {
    "duration": 1714,
    "start_time": "2021-12-15T22:30:29.646Z"
   },
   {
    "duration": 159,
    "start_time": "2021-12-15T22:30:31.367Z"
   },
   {
    "duration": 56,
    "start_time": "2021-12-15T22:30:31.529Z"
   },
   {
    "duration": 21,
    "start_time": "2021-12-15T22:30:31.587Z"
   },
   {
    "duration": 1323,
    "start_time": "2021-12-15T22:30:31.610Z"
   },
   {
    "duration": 48,
    "start_time": "2021-12-15T22:30:32.935Z"
   },
   {
    "duration": 12,
    "start_time": "2021-12-15T22:30:32.985Z"
   },
   {
    "duration": 313,
    "start_time": "2021-12-15T22:30:33.000Z"
   },
   {
    "duration": 630,
    "start_time": "2021-12-15T22:30:33.316Z"
   },
   {
    "duration": 40,
    "start_time": "2021-12-15T22:30:33.949Z"
   },
   {
    "duration": 32,
    "start_time": "2021-12-15T22:30:50.490Z"
   },
   {
    "duration": 38,
    "start_time": "2021-12-15T22:31:05.209Z"
   },
   {
    "duration": 5093,
    "start_time": "2021-12-15T22:31:50.512Z"
   },
   {
    "duration": 174,
    "start_time": "2021-12-15T22:32:44.714Z"
   },
   {
    "duration": 23,
    "start_time": "2021-12-15T22:32:44.891Z"
   },
   {
    "duration": 6,
    "start_time": "2021-12-15T22:32:44.917Z"
   },
   {
    "duration": 63,
    "start_time": "2021-12-15T22:32:44.927Z"
   },
   {
    "duration": 14,
    "start_time": "2021-12-15T22:32:44.993Z"
   },
   {
    "duration": 25,
    "start_time": "2021-12-15T22:32:45.010Z"
   },
   {
    "duration": 1760,
    "start_time": "2021-12-15T22:32:45.066Z"
   },
   {
    "duration": 159,
    "start_time": "2021-12-15T22:32:46.829Z"
   },
   {
    "duration": 45,
    "start_time": "2021-12-15T22:32:46.991Z"
   },
   {
    "duration": 32,
    "start_time": "2021-12-15T22:32:47.039Z"
   },
   {
    "duration": 2237,
    "start_time": "2021-12-15T22:32:47.074Z"
   },
   {
    "duration": 66,
    "start_time": "2021-12-15T22:32:49.314Z"
   },
   {
    "duration": 17,
    "start_time": "2021-12-15T22:32:49.383Z"
   },
   {
    "duration": 296,
    "start_time": "2021-12-15T22:32:49.402Z"
   },
   {
    "duration": 637,
    "start_time": "2021-12-15T22:32:49.701Z"
   },
   {
    "duration": 65,
    "start_time": "2021-12-15T22:32:50.341Z"
   },
   {
    "duration": 816,
    "start_time": "2021-12-15T22:32:50.410Z"
   },
   {
    "duration": 170,
    "start_time": "2021-12-15T22:33:10.833Z"
   },
   {
    "duration": 20,
    "start_time": "2021-12-15T22:33:11.006Z"
   },
   {
    "duration": 19,
    "start_time": "2021-12-15T22:33:11.029Z"
   },
   {
    "duration": 38,
    "start_time": "2021-12-15T22:33:11.069Z"
   },
   {
    "duration": 15,
    "start_time": "2021-12-15T22:33:11.110Z"
   },
   {
    "duration": 45,
    "start_time": "2021-12-15T22:33:11.128Z"
   },
   {
    "duration": 2446,
    "start_time": "2021-12-15T22:33:11.176Z"
   },
   {
    "duration": 224,
    "start_time": "2021-12-15T22:33:13.626Z"
   },
   {
    "duration": 69,
    "start_time": "2021-12-15T22:33:13.853Z"
   },
   {
    "duration": 21,
    "start_time": "2021-12-15T22:33:13.924Z"
   },
   {
    "duration": 1338,
    "start_time": "2021-12-15T22:33:13.949Z"
   },
   {
    "duration": 38,
    "start_time": "2021-12-15T22:33:15.290Z"
   },
   {
    "duration": 38,
    "start_time": "2021-12-15T22:33:15.331Z"
   },
   {
    "duration": 322,
    "start_time": "2021-12-15T22:33:15.371Z"
   },
   {
    "duration": 572,
    "start_time": "2021-12-15T22:33:15.695Z"
   },
   {
    "duration": 39,
    "start_time": "2021-12-15T22:33:16.269Z"
   },
   {
    "duration": 5392,
    "start_time": "2021-12-15T22:33:16.312Z"
   },
   {
    "duration": 1018,
    "start_time": "2021-12-15T22:34:22.259Z"
   },
   {
    "duration": 1029,
    "start_time": "2021-12-15T22:39:05.595Z"
   },
   {
    "duration": 245,
    "start_time": "2021-12-15T22:39:19.555Z"
   },
   {
    "duration": 25,
    "start_time": "2021-12-15T22:39:19.803Z"
   },
   {
    "duration": 17,
    "start_time": "2021-12-15T22:39:19.831Z"
   },
   {
    "duration": 60,
    "start_time": "2021-12-15T22:39:19.852Z"
   },
   {
    "duration": 19,
    "start_time": "2021-12-15T22:39:19.915Z"
   },
   {
    "duration": 24,
    "start_time": "2021-12-15T22:39:19.966Z"
   },
   {
    "duration": 2306,
    "start_time": "2021-12-15T22:39:19.995Z"
   },
   {
    "duration": 262,
    "start_time": "2021-12-15T22:39:22.306Z"
   },
   {
    "duration": 80,
    "start_time": "2021-12-15T22:39:22.572Z"
   },
   {
    "duration": 47,
    "start_time": "2021-12-15T22:39:22.656Z"
   },
   {
    "duration": 1894,
    "start_time": "2021-12-15T22:39:22.706Z"
   },
   {
    "duration": 41,
    "start_time": "2021-12-15T22:39:24.604Z"
   },
   {
    "duration": 36,
    "start_time": "2021-12-15T22:39:24.647Z"
   },
   {
    "duration": 303,
    "start_time": "2021-12-15T22:39:24.687Z"
   },
   {
    "duration": 831,
    "start_time": "2021-12-15T22:39:24.992Z"
   },
   {
    "duration": 65,
    "start_time": "2021-12-15T22:39:25.827Z"
   },
   {
    "duration": 12022,
    "start_time": "2021-12-15T22:39:31.608Z"
   },
   {
    "duration": 90,
    "start_time": "2021-12-15T22:41:05.501Z"
   },
   {
    "duration": 88,
    "start_time": "2021-12-15T22:41:52.704Z"
   },
   {
    "duration": 3254,
    "start_time": "2021-12-15T22:42:01.542Z"
   },
   {
    "duration": 1185,
    "start_time": "2021-12-15T22:44:25.059Z"
   },
   {
    "duration": 179,
    "start_time": "2021-12-15T22:44:30.316Z"
   },
   {
    "duration": 20,
    "start_time": "2021-12-15T22:44:30.498Z"
   },
   {
    "duration": 13,
    "start_time": "2021-12-15T22:44:30.521Z"
   },
   {
    "duration": 51,
    "start_time": "2021-12-15T22:44:30.537Z"
   },
   {
    "duration": 23,
    "start_time": "2021-12-15T22:44:30.591Z"
   },
   {
    "duration": 32,
    "start_time": "2021-12-15T22:44:30.617Z"
   },
   {
    "duration": 1681,
    "start_time": "2021-12-15T22:44:30.652Z"
   },
   {
    "duration": 155,
    "start_time": "2021-12-15T22:44:32.338Z"
   },
   {
    "duration": 47,
    "start_time": "2021-12-15T22:44:32.497Z"
   },
   {
    "duration": 12,
    "start_time": "2021-12-15T22:44:32.567Z"
   },
   {
    "duration": 1333,
    "start_time": "2021-12-15T22:44:32.581Z"
   },
   {
    "duration": 53,
    "start_time": "2021-12-15T22:44:33.917Z"
   },
   {
    "duration": 12,
    "start_time": "2021-12-15T22:44:33.973Z"
   },
   {
    "duration": 261,
    "start_time": "2021-12-15T22:44:33.988Z"
   },
   {
    "duration": 705,
    "start_time": "2021-12-15T22:44:34.252Z"
   },
   {
    "duration": 41,
    "start_time": "2021-12-15T22:44:34.960Z"
   },
   {
    "duration": 3181,
    "start_time": "2021-12-15T22:44:35.004Z"
   },
   {
    "duration": 3289,
    "start_time": "2021-12-15T22:44:38.187Z"
   },
   {
    "duration": -17,
    "start_time": "2021-12-15T22:44:41.496Z"
   },
   {
    "duration": -41,
    "start_time": "2021-12-15T22:44:41.522Z"
   },
   {
    "duration": -142,
    "start_time": "2021-12-15T22:44:41.624Z"
   },
   {
    "duration": -167,
    "start_time": "2021-12-15T22:44:41.651Z"
   },
   {
    "duration": -230,
    "start_time": "2021-12-15T22:44:41.715Z"
   },
   {
    "duration": 997,
    "start_time": "2021-12-15T22:45:17.204Z"
   },
   {
    "duration": 174,
    "start_time": "2021-12-15T22:45:31.402Z"
   },
   {
    "duration": 22,
    "start_time": "2021-12-15T22:45:31.579Z"
   },
   {
    "duration": 29,
    "start_time": "2021-12-15T22:45:31.604Z"
   },
   {
    "duration": 72,
    "start_time": "2021-12-15T22:45:31.636Z"
   },
   {
    "duration": 14,
    "start_time": "2021-12-15T22:45:31.710Z"
   },
   {
    "duration": 44,
    "start_time": "2021-12-15T22:45:31.727Z"
   },
   {
    "duration": 1761,
    "start_time": "2021-12-15T22:45:31.775Z"
   },
   {
    "duration": 152,
    "start_time": "2021-12-15T22:45:33.539Z"
   },
   {
    "duration": 48,
    "start_time": "2021-12-15T22:45:33.694Z"
   },
   {
    "duration": 33,
    "start_time": "2021-12-15T22:45:33.744Z"
   },
   {
    "duration": 1426,
    "start_time": "2021-12-15T22:45:33.780Z"
   },
   {
    "duration": 36,
    "start_time": "2021-12-15T22:45:35.209Z"
   },
   {
    "duration": 13,
    "start_time": "2021-12-15T22:45:35.268Z"
   },
   {
    "duration": 241,
    "start_time": "2021-12-15T22:45:35.284Z"
   },
   {
    "duration": 565,
    "start_time": "2021-12-15T22:45:35.528Z"
   },
   {
    "duration": 42,
    "start_time": "2021-12-15T22:45:36.095Z"
   },
   {
    "duration": 3447,
    "start_time": "2021-12-15T22:45:42.806Z"
   },
   {
    "duration": 1385,
    "start_time": "2021-12-15T22:47:49.552Z"
   },
   {
    "duration": 168,
    "start_time": "2021-12-15T22:47:56.656Z"
   },
   {
    "duration": 48,
    "start_time": "2021-12-15T22:47:56.827Z"
   },
   {
    "duration": 4,
    "start_time": "2021-12-15T22:47:56.878Z"
   },
   {
    "duration": 31,
    "start_time": "2021-12-15T22:47:56.885Z"
   },
   {
    "duration": 50,
    "start_time": "2021-12-15T22:47:56.919Z"
   },
   {
    "duration": 13,
    "start_time": "2021-12-15T22:47:56.971Z"
   },
   {
    "duration": 1643,
    "start_time": "2021-12-15T22:47:56.987Z"
   },
   {
    "duration": 152,
    "start_time": "2021-12-15T22:47:58.633Z"
   },
   {
    "duration": 42,
    "start_time": "2021-12-15T22:47:58.788Z"
   },
   {
    "duration": 36,
    "start_time": "2021-12-15T22:47:58.832Z"
   },
   {
    "duration": 1333,
    "start_time": "2021-12-15T22:47:58.871Z"
   },
   {
    "duration": 63,
    "start_time": "2021-12-15T22:48:00.207Z"
   },
   {
    "duration": 16,
    "start_time": "2021-12-15T22:48:00.273Z"
   },
   {
    "duration": 284,
    "start_time": "2021-12-15T22:48:00.291Z"
   },
   {
    "duration": 554,
    "start_time": "2021-12-15T22:48:00.578Z"
   },
   {
    "duration": 52,
    "start_time": "2021-12-15T22:48:01.135Z"
   },
   {
    "duration": 3427,
    "start_time": "2021-12-15T22:48:02.742Z"
   },
   {
    "duration": 1110,
    "start_time": "2021-12-15T22:48:31.827Z"
   },
   {
    "duration": 7,
    "start_time": "2021-12-15T22:51:15.881Z"
   },
   {
    "duration": 7,
    "start_time": "2021-12-15T22:51:43.650Z"
   },
   {
    "duration": 13,
    "start_time": "2021-12-15T22:52:51.756Z"
   },
   {
    "duration": 102,
    "start_time": "2021-12-15T22:54:10.232Z"
   },
   {
    "duration": 291,
    "start_time": "2021-12-15T22:57:39.315Z"
   },
   {
    "duration": 43,
    "start_time": "2021-12-15T22:58:42.639Z"
   },
   {
    "duration": 85,
    "start_time": "2021-12-15T23:01:45.504Z"
   },
   {
    "duration": 88,
    "start_time": "2021-12-15T23:01:58.593Z"
   },
   {
    "duration": 32,
    "start_time": "2021-12-15T23:02:06.121Z"
   },
   {
    "duration": 40,
    "start_time": "2021-12-15T23:03:55.639Z"
   },
   {
    "duration": 42,
    "start_time": "2021-12-15T23:04:08.475Z"
   },
   {
    "duration": 44,
    "start_time": "2021-12-15T23:04:39.420Z"
   },
   {
    "duration": 40,
    "start_time": "2021-12-15T23:06:18.081Z"
   },
   {
    "duration": 28,
    "start_time": "2021-12-15T23:10:17.567Z"
   },
   {
    "duration": 36,
    "start_time": "2021-12-15T23:11:42.657Z"
   },
   {
    "duration": 34,
    "start_time": "2021-12-15T23:11:56.865Z"
   },
   {
    "duration": 35,
    "start_time": "2021-12-15T23:12:04.956Z"
   },
   {
    "duration": 40,
    "start_time": "2021-12-15T23:13:29.331Z"
   },
   {
    "duration": 19,
    "start_time": "2021-12-15T23:14:27.672Z"
   },
   {
    "duration": 1038,
    "start_time": "2021-12-15T23:33:47.667Z"
   },
   {
    "duration": 2197,
    "start_time": "2021-12-15T23:34:03.861Z"
   },
   {
    "duration": 159,
    "start_time": "2021-12-15T23:35:56.146Z"
   },
   {
    "duration": 22,
    "start_time": "2021-12-15T23:35:56.308Z"
   },
   {
    "duration": 5,
    "start_time": "2021-12-15T23:35:56.367Z"
   },
   {
    "duration": 28,
    "start_time": "2021-12-15T23:35:56.375Z"
   },
   {
    "duration": 13,
    "start_time": "2021-12-15T23:35:56.406Z"
   },
   {
    "duration": 53,
    "start_time": "2021-12-15T23:35:56.422Z"
   },
   {
    "duration": 3274,
    "start_time": "2021-12-15T23:35:56.479Z"
   },
   {
    "duration": 257,
    "start_time": "2021-12-15T23:35:59.757Z"
   },
   {
    "duration": 61,
    "start_time": "2021-12-15T23:36:00.019Z"
   },
   {
    "duration": 15,
    "start_time": "2021-12-15T23:36:00.084Z"
   },
   {
    "duration": 1430,
    "start_time": "2021-12-15T23:36:00.101Z"
   },
   {
    "duration": 51,
    "start_time": "2021-12-15T23:36:01.533Z"
   },
   {
    "duration": 13,
    "start_time": "2021-12-15T23:36:01.586Z"
   },
   {
    "duration": 302,
    "start_time": "2021-12-15T23:36:01.601Z"
   },
   {
    "duration": 565,
    "start_time": "2021-12-15T23:36:01.906Z"
   },
   {
    "duration": 40,
    "start_time": "2021-12-15T23:36:02.473Z"
   },
   {
    "duration": 3433,
    "start_time": "2021-12-15T23:36:02.516Z"
   },
   {
    "duration": 22,
    "start_time": "2021-12-15T23:36:05.951Z"
   },
   {
    "duration": 27,
    "start_time": "2021-12-15T23:36:05.975Z"
   },
   {
    "duration": 1098,
    "start_time": "2021-12-15T23:36:07.631Z"
   },
   {
    "duration": 1630,
    "start_time": "2021-12-15T23:36:34.106Z"
   },
   {
    "duration": 161,
    "start_time": "2021-12-15T23:36:45.368Z"
   },
   {
    "duration": 41,
    "start_time": "2021-12-15T23:36:45.531Z"
   },
   {
    "duration": 5,
    "start_time": "2021-12-15T23:36:45.576Z"
   },
   {
    "duration": 50,
    "start_time": "2021-12-15T23:36:45.584Z"
   },
   {
    "duration": 32,
    "start_time": "2021-12-15T23:36:45.637Z"
   },
   {
    "duration": 27,
    "start_time": "2021-12-15T23:36:45.672Z"
   },
   {
    "duration": 1642,
    "start_time": "2021-12-15T23:36:45.702Z"
   },
   {
    "duration": 165,
    "start_time": "2021-12-15T23:36:47.349Z"
   },
   {
    "duration": 69,
    "start_time": "2021-12-15T23:36:47.517Z"
   },
   {
    "duration": 13,
    "start_time": "2021-12-15T23:36:47.589Z"
   },
   {
    "duration": 1329,
    "start_time": "2021-12-15T23:36:47.605Z"
   },
   {
    "duration": 51,
    "start_time": "2021-12-15T23:36:48.936Z"
   },
   {
    "duration": 12,
    "start_time": "2021-12-15T23:36:48.989Z"
   },
   {
    "duration": 251,
    "start_time": "2021-12-15T23:36:49.004Z"
   },
   {
    "duration": 639,
    "start_time": "2021-12-15T23:36:49.267Z"
   },
   {
    "duration": 38,
    "start_time": "2021-12-15T23:36:49.908Z"
   },
   {
    "duration": 3367,
    "start_time": "2021-12-15T23:36:49.949Z"
   },
   {
    "duration": 13,
    "start_time": "2021-12-15T23:36:53.319Z"
   },
   {
    "duration": 48,
    "start_time": "2021-12-15T23:36:53.335Z"
   },
   {
    "duration": 2200,
    "start_time": "2021-12-15T23:36:55.569Z"
   },
   {
    "duration": 412,
    "start_time": "2021-12-16T17:18:32.677Z"
   },
   {
    "duration": 1003,
    "start_time": "2021-12-16T17:18:41.718Z"
   },
   {
    "duration": 51,
    "start_time": "2021-12-16T17:18:42.724Z"
   },
   {
    "duration": 6,
    "start_time": "2021-12-16T17:18:42.779Z"
   },
   {
    "duration": 36,
    "start_time": "2021-12-16T17:18:42.789Z"
   },
   {
    "duration": 18,
    "start_time": "2021-12-16T17:18:42.828Z"
   },
   {
    "duration": 15,
    "start_time": "2021-12-16T17:18:42.867Z"
   },
   {
    "duration": 1754,
    "start_time": "2021-12-16T17:18:42.888Z"
   },
   {
    "duration": 170,
    "start_time": "2021-12-16T17:18:44.646Z"
   },
   {
    "duration": 60,
    "start_time": "2021-12-16T17:18:44.818Z"
   },
   {
    "duration": 14,
    "start_time": "2021-12-16T17:18:44.882Z"
   },
   {
    "duration": 1472,
    "start_time": "2021-12-16T17:18:44.898Z"
   },
   {
    "duration": 37,
    "start_time": "2021-12-16T17:18:46.373Z"
   },
   {
    "duration": 16,
    "start_time": "2021-12-16T17:18:46.413Z"
   },
   {
    "duration": 260,
    "start_time": "2021-12-16T17:18:46.432Z"
   },
   {
    "duration": 608,
    "start_time": "2021-12-16T17:18:46.694Z"
   },
   {
    "duration": 43,
    "start_time": "2021-12-16T17:18:47.304Z"
   },
   {
    "duration": 3703,
    "start_time": "2021-12-16T17:18:47.350Z"
   },
   {
    "duration": 20,
    "start_time": "2021-12-16T17:18:51.055Z"
   },
   {
    "duration": 20,
    "start_time": "2021-12-16T17:18:51.083Z"
   },
   {
    "duration": 1237,
    "start_time": "2021-12-16T17:18:51.105Z"
   },
   {
    "duration": 75,
    "start_time": "2021-12-16T17:18:54.172Z"
   },
   {
    "duration": 636,
    "start_time": "2021-12-16T17:22:45.011Z"
   },
   {
    "duration": 23,
    "start_time": "2021-12-16T17:22:51.060Z"
   },
   {
    "duration": 1216,
    "start_time": "2021-12-16T17:26:39.014Z"
   },
   {
    "duration": 1398,
    "start_time": "2021-12-16T17:27:34.696Z"
   },
   {
    "duration": 181,
    "start_time": "2021-12-16T17:27:44.294Z"
   },
   {
    "duration": 29,
    "start_time": "2021-12-16T17:27:44.480Z"
   },
   {
    "duration": 6,
    "start_time": "2021-12-16T17:27:44.513Z"
   },
   {
    "duration": 74,
    "start_time": "2021-12-16T17:27:44.522Z"
   },
   {
    "duration": 19,
    "start_time": "2021-12-16T17:27:44.599Z"
   },
   {
    "duration": 12,
    "start_time": "2021-12-16T17:27:44.620Z"
   },
   {
    "duration": 1775,
    "start_time": "2021-12-16T17:27:44.667Z"
   },
   {
    "duration": 162,
    "start_time": "2021-12-16T17:27:46.446Z"
   },
   {
    "duration": 67,
    "start_time": "2021-12-16T17:27:46.611Z"
   },
   {
    "duration": 18,
    "start_time": "2021-12-16T17:27:46.683Z"
   },
   {
    "duration": 1689,
    "start_time": "2021-12-16T17:27:46.704Z"
   },
   {
    "duration": 33,
    "start_time": "2021-12-16T17:27:48.396Z"
   },
   {
    "duration": 11,
    "start_time": "2021-12-16T17:27:48.431Z"
   },
   {
    "duration": 261,
    "start_time": "2021-12-16T17:27:48.471Z"
   },
   {
    "duration": 615,
    "start_time": "2021-12-16T17:27:48.735Z"
   },
   {
    "duration": 53,
    "start_time": "2021-12-16T17:27:49.352Z"
   },
   {
    "duration": 3852,
    "start_time": "2021-12-16T17:27:49.408Z"
   },
   {
    "duration": 20,
    "start_time": "2021-12-16T17:27:53.269Z"
   },
   {
    "duration": 19,
    "start_time": "2021-12-16T17:27:53.296Z"
   },
   {
    "duration": 1235,
    "start_time": "2021-12-16T17:27:53.318Z"
   },
   {
    "duration": 1273,
    "start_time": "2021-12-16T17:27:54.557Z"
   },
   {
    "duration": 1139,
    "start_time": "2021-12-16T17:28:56.397Z"
   },
   {
    "duration": 1264,
    "start_time": "2021-12-16T17:29:33.793Z"
   },
   {
    "duration": 1509,
    "start_time": "2021-12-16T17:29:52.502Z"
   },
   {
    "duration": 187,
    "start_time": "2021-12-16T17:29:57.310Z"
   },
   {
    "duration": 21,
    "start_time": "2021-12-16T17:29:57.500Z"
   },
   {
    "duration": 4,
    "start_time": "2021-12-16T17:29:57.524Z"
   },
   {
    "duration": 67,
    "start_time": "2021-12-16T17:29:57.531Z"
   },
   {
    "duration": 13,
    "start_time": "2021-12-16T17:29:57.600Z"
   },
   {
    "duration": 11,
    "start_time": "2021-12-16T17:29:57.616Z"
   },
   {
    "duration": 2020,
    "start_time": "2021-12-16T17:29:57.630Z"
   },
   {
    "duration": 162,
    "start_time": "2021-12-16T17:29:59.653Z"
   },
   {
    "duration": 60,
    "start_time": "2021-12-16T17:29:59.818Z"
   },
   {
    "duration": 15,
    "start_time": "2021-12-16T17:29:59.884Z"
   },
   {
    "duration": 1480,
    "start_time": "2021-12-16T17:29:59.902Z"
   },
   {
    "duration": 38,
    "start_time": "2021-12-16T17:30:01.385Z"
   },
   {
    "duration": 13,
    "start_time": "2021-12-16T17:30:01.425Z"
   },
   {
    "duration": 269,
    "start_time": "2021-12-16T17:30:01.468Z"
   },
   {
    "duration": 604,
    "start_time": "2021-12-16T17:30:01.739Z"
   },
   {
    "duration": 52,
    "start_time": "2021-12-16T17:30:02.345Z"
   },
   {
    "duration": 3573,
    "start_time": "2021-12-16T17:30:02.400Z"
   },
   {
    "duration": 11,
    "start_time": "2021-12-16T17:30:05.978Z"
   },
   {
    "duration": 19,
    "start_time": "2021-12-16T17:30:05.992Z"
   },
   {
    "duration": 1307,
    "start_time": "2021-12-16T17:30:06.014Z"
   },
   {
    "duration": 1123,
    "start_time": "2021-12-16T17:30:07.324Z"
   },
   {
    "duration": 1181,
    "start_time": "2021-12-16T17:33:19.111Z"
   },
   {
    "duration": 1809,
    "start_time": "2021-12-16T17:34:10.342Z"
   },
   {
    "duration": 1751,
    "start_time": "2021-12-16T17:34:25.780Z"
   },
   {
    "duration": 1648,
    "start_time": "2021-12-16T17:36:21.080Z"
   },
   {
    "duration": 41,
    "start_time": "2021-12-16T17:36:22.731Z"
   },
   {
    "duration": 6,
    "start_time": "2021-12-16T17:36:22.776Z"
   },
   {
    "duration": 32,
    "start_time": "2021-12-16T17:36:22.785Z"
   },
   {
    "duration": 13,
    "start_time": "2021-12-16T17:36:22.819Z"
   },
   {
    "duration": 20,
    "start_time": "2021-12-16T17:36:22.867Z"
   },
   {
    "duration": 1877,
    "start_time": "2021-12-16T17:36:22.890Z"
   },
   {
    "duration": 159,
    "start_time": "2021-12-16T17:36:24.772Z"
   },
   {
    "duration": 68,
    "start_time": "2021-12-16T17:36:24.934Z"
   },
   {
    "duration": 13,
    "start_time": "2021-12-16T17:36:25.005Z"
   },
   {
    "duration": 1451,
    "start_time": "2021-12-16T17:36:25.020Z"
   },
   {
    "duration": 36,
    "start_time": "2021-12-16T17:36:26.473Z"
   },
   {
    "duration": 11,
    "start_time": "2021-12-16T17:36:26.512Z"
   },
   {
    "duration": 265,
    "start_time": "2021-12-16T17:36:26.525Z"
   },
   {
    "duration": 699,
    "start_time": "2021-12-16T17:36:26.792Z"
   },
   {
    "duration": 39,
    "start_time": "2021-12-16T17:36:27.494Z"
   },
   {
    "duration": 3670,
    "start_time": "2021-12-16T17:36:27.535Z"
   },
   {
    "duration": 11,
    "start_time": "2021-12-16T17:36:31.207Z"
   },
   {
    "duration": 69,
    "start_time": "2021-12-16T17:36:31.220Z"
   },
   {
    "duration": 1267,
    "start_time": "2021-12-16T17:36:31.292Z"
   },
   {
    "duration": 1243,
    "start_time": "2021-12-16T17:36:32.561Z"
   },
   {
    "duration": 1292,
    "start_time": "2021-12-16T17:36:33.807Z"
   },
   {
    "duration": 7,
    "start_time": "2021-12-16T17:36:35.105Z"
   },
   {
    "duration": 5,
    "start_time": "2021-12-16T17:36:44.051Z"
   },
   {
    "duration": 872,
    "start_time": "2021-12-16T17:37:04.289Z"
   },
   {
    "duration": 10,
    "start_time": "2021-12-16T17:37:16.287Z"
   },
   {
    "duration": 23,
    "start_time": "2021-12-16T17:37:21.072Z"
   },
   {
    "duration": 53,
    "start_time": "2021-12-16T17:37:24.090Z"
   },
   {
    "duration": 1254,
    "start_time": "2021-12-16T17:38:59.456Z"
   },
   {
    "duration": 194,
    "start_time": "2021-12-16T17:39:06.360Z"
   },
   {
    "duration": 33,
    "start_time": "2021-12-16T17:39:06.557Z"
   },
   {
    "duration": 6,
    "start_time": "2021-12-16T17:39:06.593Z"
   },
   {
    "duration": 65,
    "start_time": "2021-12-16T17:39:06.602Z"
   },
   {
    "duration": 15,
    "start_time": "2021-12-16T17:39:06.671Z"
   },
   {
    "duration": 15,
    "start_time": "2021-12-16T17:39:06.688Z"
   },
   {
    "duration": 1924,
    "start_time": "2021-12-16T17:39:06.705Z"
   },
   {
    "duration": 159,
    "start_time": "2021-12-16T17:39:08.633Z"
   },
   {
    "duration": 43,
    "start_time": "2021-12-16T17:39:08.794Z"
   },
   {
    "duration": 38,
    "start_time": "2021-12-16T17:39:08.840Z"
   },
   {
    "duration": 1440,
    "start_time": "2021-12-16T17:39:08.884Z"
   },
   {
    "duration": 54,
    "start_time": "2021-12-16T17:39:10.327Z"
   },
   {
    "duration": 11,
    "start_time": "2021-12-16T17:39:10.384Z"
   },
   {
    "duration": 288,
    "start_time": "2021-12-16T17:39:10.398Z"
   },
   {
    "duration": 609,
    "start_time": "2021-12-16T17:39:10.691Z"
   },
   {
    "duration": 47,
    "start_time": "2021-12-16T17:39:11.302Z"
   },
   {
    "duration": 3673,
    "start_time": "2021-12-16T17:39:11.368Z"
   },
   {
    "duration": 25,
    "start_time": "2021-12-16T17:39:15.043Z"
   },
   {
    "duration": 23,
    "start_time": "2021-12-16T17:39:15.071Z"
   },
   {
    "duration": 1248,
    "start_time": "2021-12-16T17:39:15.097Z"
   },
   {
    "duration": 1157,
    "start_time": "2021-12-16T17:39:16.347Z"
   },
   {
    "duration": 1131,
    "start_time": "2021-12-16T17:39:17.507Z"
   },
   {
    "duration": 6,
    "start_time": "2021-12-16T17:39:24.055Z"
   },
   {
    "duration": 917,
    "start_time": "2021-12-16T17:39:26.393Z"
   },
   {
    "duration": 8,
    "start_time": "2021-12-16T17:39:27.707Z"
   },
   {
    "duration": 41,
    "start_time": "2021-12-16T17:39:29.752Z"
   },
   {
    "duration": 43,
    "start_time": "2021-12-16T17:39:33.500Z"
   },
   {
    "duration": 1634,
    "start_time": "2021-12-16T17:42:08.288Z"
   },
   {
    "duration": 1151,
    "start_time": "2021-12-16T17:42:47.882Z"
   },
   {
    "duration": 1190,
    "start_time": "2021-12-16T17:42:57.125Z"
   },
   {
    "duration": 191,
    "start_time": "2021-12-16T17:43:16.528Z"
   },
   {
    "duration": 23,
    "start_time": "2021-12-16T17:43:16.722Z"
   },
   {
    "duration": 46,
    "start_time": "2021-12-16T17:43:16.748Z"
   },
   {
    "duration": 63,
    "start_time": "2021-12-16T17:43:16.797Z"
   },
   {
    "duration": 19,
    "start_time": "2021-12-16T17:43:16.863Z"
   },
   {
    "duration": 15,
    "start_time": "2021-12-16T17:43:16.888Z"
   },
   {
    "duration": 1871,
    "start_time": "2021-12-16T17:43:16.906Z"
   },
   {
    "duration": 164,
    "start_time": "2021-12-16T17:43:18.781Z"
   },
   {
    "duration": 61,
    "start_time": "2021-12-16T17:43:18.948Z"
   },
   {
    "duration": 13,
    "start_time": "2021-12-16T17:43:19.011Z"
   },
   {
    "duration": 1496,
    "start_time": "2021-12-16T17:43:19.027Z"
   },
   {
    "duration": 58,
    "start_time": "2021-12-16T17:43:20.526Z"
   },
   {
    "duration": 12,
    "start_time": "2021-12-16T17:43:20.587Z"
   },
   {
    "duration": 260,
    "start_time": "2021-12-16T17:43:20.601Z"
   },
   {
    "duration": 650,
    "start_time": "2021-12-16T17:43:20.868Z"
   },
   {
    "duration": 53,
    "start_time": "2021-12-16T17:43:21.521Z"
   },
   {
    "duration": 3660,
    "start_time": "2021-12-16T17:43:21.577Z"
   },
   {
    "duration": 39,
    "start_time": "2021-12-16T17:43:25.240Z"
   },
   {
    "duration": 29,
    "start_time": "2021-12-16T17:43:25.282Z"
   },
   {
    "duration": 1285,
    "start_time": "2021-12-16T17:43:25.314Z"
   },
   {
    "duration": 1600,
    "start_time": "2021-12-16T17:43:26.602Z"
   },
   {
    "duration": 1726,
    "start_time": "2021-12-16T17:43:35.099Z"
   },
   {
    "duration": 180,
    "start_time": "2021-12-16T17:44:52.535Z"
   },
   {
    "duration": 24,
    "start_time": "2021-12-16T17:44:52.717Z"
   },
   {
    "duration": 33,
    "start_time": "2021-12-16T17:44:52.743Z"
   },
   {
    "duration": 35,
    "start_time": "2021-12-16T17:44:52.779Z"
   },
   {
    "duration": 13,
    "start_time": "2021-12-16T17:44:52.816Z"
   },
   {
    "duration": 50,
    "start_time": "2021-12-16T17:44:52.831Z"
   },
   {
    "duration": 1759,
    "start_time": "2021-12-16T17:44:52.884Z"
   },
   {
    "duration": 160,
    "start_time": "2021-12-16T17:44:54.646Z"
   },
   {
    "duration": 67,
    "start_time": "2021-12-16T17:44:54.809Z"
   },
   {
    "duration": 15,
    "start_time": "2021-12-16T17:44:54.878Z"
   },
   {
    "duration": 1420,
    "start_time": "2021-12-16T17:44:54.896Z"
   },
   {
    "duration": 48,
    "start_time": "2021-12-16T17:44:56.319Z"
   },
   {
    "duration": 16,
    "start_time": "2021-12-16T17:44:56.372Z"
   },
   {
    "duration": 253,
    "start_time": "2021-12-16T17:44:56.390Z"
   },
   {
    "duration": 582,
    "start_time": "2021-12-16T17:44:56.645Z"
   },
   {
    "duration": 55,
    "start_time": "2021-12-16T17:44:57.229Z"
   },
   {
    "duration": 3672,
    "start_time": "2021-12-16T17:44:57.287Z"
   },
   {
    "duration": 18,
    "start_time": "2021-12-16T17:45:00.961Z"
   },
   {
    "duration": 23,
    "start_time": "2021-12-16T17:45:00.981Z"
   },
   {
    "duration": 1249,
    "start_time": "2021-12-16T17:45:01.007Z"
   },
   {
    "duration": 1566,
    "start_time": "2021-12-16T17:45:02.259Z"
   },
   {
    "duration": 1665,
    "start_time": "2021-12-16T17:45:11.643Z"
   },
   {
    "duration": 7,
    "start_time": "2021-12-16T17:51:47.841Z"
   },
   {
    "duration": 9,
    "start_time": "2021-12-16T17:51:59.298Z"
   },
   {
    "duration": 8,
    "start_time": "2021-12-16T17:52:10.621Z"
   },
   {
    "duration": 7,
    "start_time": "2021-12-16T17:52:16.778Z"
   },
   {
    "duration": 7,
    "start_time": "2021-12-16T17:52:35.539Z"
   },
   {
    "duration": 83,
    "start_time": "2021-12-16T17:56:30.111Z"
   },
   {
    "duration": 7,
    "start_time": "2021-12-16T17:57:16.165Z"
   },
   {
    "duration": 99,
    "start_time": "2021-12-16T17:58:37.472Z"
   },
   {
    "duration": 1164,
    "start_time": "2021-12-16T17:59:01.520Z"
   },
   {
    "duration": 5,
    "start_time": "2021-12-16T17:59:48.082Z"
   },
   {
    "duration": 1038,
    "start_time": "2021-12-16T17:59:49.049Z"
   },
   {
    "duration": 8,
    "start_time": "2021-12-16T17:59:50.090Z"
   },
   {
    "duration": 21,
    "start_time": "2021-12-16T17:59:51.078Z"
   },
   {
    "duration": 58,
    "start_time": "2021-12-16T17:59:53.117Z"
   },
   {
    "duration": 752,
    "start_time": "2021-12-16T18:05:57.198Z"
   },
   {
    "duration": 1828,
    "start_time": "2021-12-16T18:06:49.703Z"
   },
   {
    "duration": 689,
    "start_time": "2021-12-16T18:10:17.962Z"
   },
   {
    "duration": 342,
    "start_time": "2021-12-16T18:11:36.435Z"
   },
   {
    "duration": 7127,
    "start_time": "2021-12-16T18:19:58.727Z"
   },
   {
    "duration": 1210,
    "start_time": "2021-12-16T18:20:30.141Z"
   },
   {
    "duration": 1109,
    "start_time": "2021-12-16T18:20:41.792Z"
   },
   {
    "duration": 1060,
    "start_time": "2021-12-16T18:21:28.813Z"
   },
   {
    "duration": 1315,
    "start_time": "2021-12-16T18:23:05.608Z"
   },
   {
    "duration": 1413,
    "start_time": "2021-12-16T18:25:06.823Z"
   },
   {
    "duration": 1325,
    "start_time": "2021-12-16T18:25:18.258Z"
   },
   {
    "duration": 960,
    "start_time": "2021-12-16T18:28:19.720Z"
   },
   {
    "duration": 1430,
    "start_time": "2021-12-16T18:28:44.748Z"
   },
   {
    "duration": 627,
    "start_time": "2021-12-16T19:01:20.566Z"
   },
   {
    "duration": 973,
    "start_time": "2021-12-16T19:05:49.479Z"
   },
   {
    "duration": 2699,
    "start_time": "2021-12-16T19:06:28.998Z"
   },
   {
    "duration": 2376,
    "start_time": "2021-12-16T19:07:24.740Z"
   },
   {
    "duration": 1142,
    "start_time": "2021-12-16T19:16:01.948Z"
   },
   {
    "duration": 2185,
    "start_time": "2021-12-16T19:23:58.850Z"
   },
   {
    "duration": 1720,
    "start_time": "2021-12-16T19:26:01.373Z"
   },
   {
    "duration": 3795,
    "start_time": "2021-12-16T19:27:16.928Z"
   },
   {
    "duration": 989,
    "start_time": "2021-12-16T19:27:51.026Z"
   },
   {
    "duration": 7298,
    "start_time": "2021-12-16T19:28:59.444Z"
   },
   {
    "duration": 153,
    "start_time": "2021-12-16T19:34:25.386Z"
   },
   {
    "duration": 151,
    "start_time": "2021-12-16T19:35:01.112Z"
   },
   {
    "duration": 1293,
    "start_time": "2021-12-16T19:37:22.378Z"
   },
   {
    "duration": 5125,
    "start_time": "2021-12-16T19:39:17.229Z"
   },
   {
    "duration": 1265,
    "start_time": "2021-12-16T19:40:54.772Z"
   },
   {
    "duration": 34,
    "start_time": "2021-12-16T19:47:12.884Z"
   },
   {
    "duration": 21,
    "start_time": "2021-12-16T19:47:54.626Z"
   },
   {
    "duration": 974,
    "start_time": "2021-12-16T19:49:53.911Z"
   },
   {
    "duration": 1064,
    "start_time": "2021-12-16T19:51:24.396Z"
   },
   {
    "duration": 300,
    "start_time": "2021-12-16T19:52:46.139Z"
   },
   {
    "duration": 299,
    "start_time": "2021-12-16T19:53:18.316Z"
   },
   {
    "duration": 279,
    "start_time": "2021-12-16T19:54:30.367Z"
   },
   {
    "duration": 280,
    "start_time": "2021-12-16T19:55:08.551Z"
   },
   {
    "duration": 638,
    "start_time": "2021-12-16T19:57:27.989Z"
   },
   {
    "duration": 1044,
    "start_time": "2021-12-16T19:59:19.606Z"
   },
   {
    "duration": 110,
    "start_time": "2021-12-16T20:00:00.552Z"
   },
   {
    "duration": 304,
    "start_time": "2021-12-16T20:00:12.769Z"
   },
   {
    "duration": 296,
    "start_time": "2021-12-16T20:03:39.521Z"
   },
   {
    "duration": 306,
    "start_time": "2021-12-16T20:03:44.961Z"
   },
   {
    "duration": 433,
    "start_time": "2021-12-16T20:04:23.892Z"
   },
   {
    "duration": 21,
    "start_time": "2021-12-16T20:06:52.975Z"
   },
   {
    "duration": 414,
    "start_time": "2021-12-16T20:08:15.780Z"
   },
   {
    "duration": 2883,
    "start_time": "2021-12-16T20:10:27.064Z"
   },
   {
    "duration": 38,
    "start_time": "2021-12-16T20:27:40.606Z"
   },
   {
    "duration": 115,
    "start_time": "2021-12-16T20:27:48.439Z"
   },
   {
    "duration": 230,
    "start_time": "2021-12-16T20:29:15.578Z"
   },
   {
    "duration": 897,
    "start_time": "2021-12-16T20:29:55.574Z"
   },
   {
    "duration": 849,
    "start_time": "2021-12-16T20:30:09.688Z"
   },
   {
    "duration": 879,
    "start_time": "2021-12-16T20:30:38.441Z"
   },
   {
    "duration": 1607,
    "start_time": "2021-12-16T20:31:14.241Z"
   },
   {
    "duration": 768,
    "start_time": "2021-12-16T20:36:02.171Z"
   },
   {
    "duration": 732,
    "start_time": "2021-12-16T20:37:38.988Z"
   },
   {
    "duration": 767,
    "start_time": "2021-12-16T20:37:48.552Z"
   },
   {
    "duration": 732,
    "start_time": "2021-12-16T20:37:57.020Z"
   },
   {
    "duration": 979,
    "start_time": "2021-12-16T20:39:06.632Z"
   },
   {
    "duration": 1124,
    "start_time": "2021-12-16T20:39:33.532Z"
   },
   {
    "duration": 896,
    "start_time": "2021-12-16T20:39:49.690Z"
   },
   {
    "duration": 1277,
    "start_time": "2021-12-16T20:45:21.619Z"
   },
   {
    "duration": 1451,
    "start_time": "2021-12-16T20:45:39.481Z"
   },
   {
    "duration": 1301,
    "start_time": "2021-12-16T20:45:55.316Z"
   },
   {
    "duration": 1521,
    "start_time": "2021-12-16T20:46:49.755Z"
   },
   {
    "duration": 1029,
    "start_time": "2021-12-16T20:47:24.738Z"
   },
   {
    "duration": 710,
    "start_time": "2021-12-16T20:47:46.172Z"
   },
   {
    "duration": 1037,
    "start_time": "2021-12-16T20:48:00.700Z"
   },
   {
    "duration": 5119,
    "start_time": "2021-12-16T20:48:56.861Z"
   },
   {
    "duration": 1012,
    "start_time": "2021-12-16T20:49:44.025Z"
   },
   {
    "duration": 178,
    "start_time": "2021-12-16T20:49:50.171Z"
   },
   {
    "duration": 22,
    "start_time": "2021-12-16T20:49:50.368Z"
   },
   {
    "duration": 14,
    "start_time": "2021-12-16T20:49:50.393Z"
   },
   {
    "duration": 54,
    "start_time": "2021-12-16T20:49:50.410Z"
   },
   {
    "duration": 28,
    "start_time": "2021-12-16T20:49:50.467Z"
   },
   {
    "duration": 17,
    "start_time": "2021-12-16T20:49:50.498Z"
   },
   {
    "duration": 1764,
    "start_time": "2021-12-16T20:49:50.518Z"
   },
   {
    "duration": 156,
    "start_time": "2021-12-16T20:49:52.288Z"
   },
   {
    "duration": 49,
    "start_time": "2021-12-16T20:49:52.448Z"
   },
   {
    "duration": 15,
    "start_time": "2021-12-16T20:49:52.501Z"
   },
   {
    "duration": 1388,
    "start_time": "2021-12-16T20:49:52.519Z"
   },
   {
    "duration": 57,
    "start_time": "2021-12-16T20:49:53.910Z"
   },
   {
    "duration": 14,
    "start_time": "2021-12-16T20:49:53.969Z"
   },
   {
    "duration": 243,
    "start_time": "2021-12-16T20:49:53.986Z"
   },
   {
    "duration": 576,
    "start_time": "2021-12-16T20:49:54.232Z"
   },
   {
    "duration": 39,
    "start_time": "2021-12-16T20:49:54.810Z"
   },
   {
    "duration": 3533,
    "start_time": "2021-12-16T20:49:54.867Z"
   },
   {
    "duration": 12,
    "start_time": "2021-12-16T20:49:58.403Z"
   },
   {
    "duration": 32,
    "start_time": "2021-12-16T20:49:58.417Z"
   },
   {
    "duration": 1172,
    "start_time": "2021-12-16T20:49:58.467Z"
   },
   {
    "duration": 1827,
    "start_time": "2021-12-16T20:49:59.641Z"
   },
   {
    "duration": 1641,
    "start_time": "2021-12-16T20:50:01.471Z"
   },
   {
    "duration": 6,
    "start_time": "2021-12-16T20:50:03.118Z"
   },
   {
    "duration": 1241,
    "start_time": "2021-12-16T20:50:03.128Z"
   },
   {
    "duration": 7,
    "start_time": "2021-12-16T20:50:04.371Z"
   },
   {
    "duration": 1043,
    "start_time": "2021-12-16T20:50:04.382Z"
   },
   {
    "duration": 9,
    "start_time": "2021-12-16T20:50:05.427Z"
   },
   {
    "duration": 42,
    "start_time": "2021-12-16T20:50:05.439Z"
   },
   {
    "duration": 46,
    "start_time": "2021-12-16T20:50:05.484Z"
   },
   {
    "duration": 5,
    "start_time": "2021-12-16T20:50:05.533Z"
   },
   {
    "duration": 1890,
    "start_time": "2021-12-16T20:50:05.541Z"
   },
   {
    "duration": 1442,
    "start_time": "2021-12-16T20:50:07.434Z"
   },
   {
    "duration": 817,
    "start_time": "2021-12-16T20:50:08.879Z"
   },
   {
    "duration": 669,
    "start_time": "2021-12-16T20:50:09.698Z"
   },
   {
    "duration": 171,
    "start_time": "2021-12-16T20:50:10.369Z"
   },
   {
    "duration": 1321,
    "start_time": "2021-12-16T20:50:10.542Z"
   },
   {
    "duration": 5328,
    "start_time": "2021-12-16T20:50:11.866Z"
   },
   {
    "duration": 918,
    "start_time": "2021-12-16T20:50:17.197Z"
   },
   {
    "duration": 55,
    "start_time": "2021-12-16T20:50:18.117Z"
   },
   {
    "duration": 33,
    "start_time": "2021-12-16T20:50:18.175Z"
   },
   {
    "duration": 477,
    "start_time": "2021-12-16T20:50:18.211Z"
   },
   {
    "duration": 451,
    "start_time": "2021-12-16T20:50:18.691Z"
   },
   {
    "duration": 3073,
    "start_time": "2021-12-16T20:50:19.145Z"
   },
   {
    "duration": 1089,
    "start_time": "2021-12-16T20:50:24.255Z"
   },
   {
    "duration": 2693,
    "start_time": "2021-12-16T20:50:51.653Z"
   },
   {
    "duration": 1938,
    "start_time": "2021-12-16T20:51:27.064Z"
   },
   {
    "duration": 1436,
    "start_time": "2021-12-16T20:52:02.170Z"
   },
   {
    "duration": 942,
    "start_time": "2021-12-16T21:04:44.183Z"
   },
   {
    "duration": 41,
    "start_time": "2021-12-16T21:04:45.128Z"
   },
   {
    "duration": 5,
    "start_time": "2021-12-16T21:04:45.172Z"
   },
   {
    "duration": 39,
    "start_time": "2021-12-16T21:04:45.180Z"
   },
   {
    "duration": 16,
    "start_time": "2021-12-16T21:04:45.222Z"
   },
   {
    "duration": 12,
    "start_time": "2021-12-16T21:04:45.268Z"
   },
   {
    "duration": 1686,
    "start_time": "2021-12-16T21:04:45.283Z"
   },
   {
    "duration": 165,
    "start_time": "2021-12-16T21:04:46.973Z"
   },
   {
    "duration": 59,
    "start_time": "2021-12-16T21:04:47.142Z"
   },
   {
    "duration": 11,
    "start_time": "2021-12-16T21:04:47.204Z"
   },
   {
    "duration": 1358,
    "start_time": "2021-12-16T21:04:47.217Z"
   },
   {
    "duration": 37,
    "start_time": "2021-12-16T21:04:48.578Z"
   },
   {
    "duration": 16,
    "start_time": "2021-12-16T21:04:48.618Z"
   },
   {
    "duration": 273,
    "start_time": "2021-12-16T21:04:48.637Z"
   },
   {
    "duration": 575,
    "start_time": "2021-12-16T21:04:48.913Z"
   },
   {
    "duration": 42,
    "start_time": "2021-12-16T21:04:49.491Z"
   },
   {
    "duration": 3563,
    "start_time": "2021-12-16T21:04:49.536Z"
   },
   {
    "duration": 13,
    "start_time": "2021-12-16T21:04:53.101Z"
   },
   {
    "duration": 20,
    "start_time": "2021-12-16T21:04:53.117Z"
   },
   {
    "duration": 1120,
    "start_time": "2021-12-16T21:04:53.167Z"
   },
   {
    "duration": 1523,
    "start_time": "2021-12-16T21:04:54.290Z"
   },
   {
    "duration": 1582,
    "start_time": "2021-12-16T21:04:55.815Z"
   },
   {
    "duration": 7,
    "start_time": "2021-12-16T21:04:57.402Z"
   },
   {
    "duration": 1149,
    "start_time": "2021-12-16T21:04:57.412Z"
   },
   {
    "duration": 6,
    "start_time": "2021-12-16T21:04:58.567Z"
   },
   {
    "duration": 844,
    "start_time": "2021-12-16T21:04:58.575Z"
   },
   {
    "duration": 8,
    "start_time": "2021-12-16T21:04:59.422Z"
   },
   {
    "duration": 41,
    "start_time": "2021-12-16T21:04:59.433Z"
   },
   {
    "duration": 48,
    "start_time": "2021-12-16T21:04:59.476Z"
   },
   {
    "duration": 830,
    "start_time": "2021-12-16T21:04:59.526Z"
   },
   {
    "duration": 1775,
    "start_time": "2021-12-16T21:05:00.359Z"
   },
   {
    "duration": 1072,
    "start_time": "2021-12-16T21:05:02.137Z"
   },
   {
    "duration": 562,
    "start_time": "2021-12-16T21:05:03.212Z"
   },
   {
    "duration": 1056,
    "start_time": "2021-12-16T21:05:03.777Z"
   },
   {
    "duration": 170,
    "start_time": "2021-12-16T21:05:04.836Z"
   },
   {
    "duration": 1247,
    "start_time": "2021-12-16T21:05:05.008Z"
   },
   {
    "duration": 4598,
    "start_time": "2021-12-16T21:05:06.257Z"
   },
   {
    "duration": 899,
    "start_time": "2021-12-16T21:05:10.857Z"
   },
   {
    "duration": 40,
    "start_time": "2021-12-16T21:05:11.758Z"
   },
   {
    "duration": 20,
    "start_time": "2021-12-16T21:05:11.800Z"
   },
   {
    "duration": 481,
    "start_time": "2021-12-16T21:05:11.822Z"
   },
   {
    "duration": 462,
    "start_time": "2021-12-16T21:05:12.305Z"
   },
   {
    "duration": 2798,
    "start_time": "2021-12-16T21:05:12.769Z"
   },
   {
    "duration": 1464,
    "start_time": "2021-12-16T21:05:15.570Z"
   },
   {
    "duration": 1317,
    "start_time": "2021-12-16T21:05:47.903Z"
   },
   {
    "duration": 45,
    "start_time": "2021-12-16T21:05:49.223Z"
   },
   {
    "duration": 7,
    "start_time": "2021-12-16T21:05:49.272Z"
   },
   {
    "duration": 42,
    "start_time": "2021-12-16T21:05:49.283Z"
   },
   {
    "duration": 18,
    "start_time": "2021-12-16T21:05:49.328Z"
   },
   {
    "duration": 65,
    "start_time": "2021-12-16T21:05:49.348Z"
   },
   {
    "duration": 1727,
    "start_time": "2021-12-16T21:05:49.415Z"
   },
   {
    "duration": 156,
    "start_time": "2021-12-16T21:05:51.146Z"
   },
   {
    "duration": 42,
    "start_time": "2021-12-16T21:05:51.306Z"
   },
   {
    "duration": 12,
    "start_time": "2021-12-16T21:05:51.368Z"
   },
   {
    "duration": 1330,
    "start_time": "2021-12-16T21:05:51.383Z"
   },
   {
    "duration": 35,
    "start_time": "2021-12-16T21:05:52.715Z"
   },
   {
    "duration": 13,
    "start_time": "2021-12-16T21:05:52.767Z"
   },
   {
    "duration": 250,
    "start_time": "2021-12-16T21:05:52.782Z"
   },
   {
    "duration": 596,
    "start_time": "2021-12-16T21:05:53.034Z"
   },
   {
    "duration": 46,
    "start_time": "2021-12-16T21:05:53.633Z"
   },
   {
    "duration": 3320,
    "start_time": "2021-12-16T21:05:53.681Z"
   },
   {
    "duration": 11,
    "start_time": "2021-12-16T21:05:57.003Z"
   },
   {
    "duration": 44,
    "start_time": "2021-12-16T21:05:57.016Z"
   },
   {
    "duration": 1124,
    "start_time": "2021-12-16T21:05:57.067Z"
   },
   {
    "duration": 1494,
    "start_time": "2021-12-16T21:05:58.194Z"
   },
   {
    "duration": 1623,
    "start_time": "2021-12-16T21:05:59.690Z"
   },
   {
    "duration": 7,
    "start_time": "2021-12-16T21:06:01.318Z"
   },
   {
    "duration": 1095,
    "start_time": "2021-12-16T21:06:01.328Z"
   },
   {
    "duration": 6,
    "start_time": "2021-12-16T21:06:02.425Z"
   },
   {
    "duration": 819,
    "start_time": "2021-12-16T21:06:02.433Z"
   },
   {
    "duration": 14,
    "start_time": "2021-12-16T21:06:03.255Z"
   },
   {
    "duration": 43,
    "start_time": "2021-12-16T21:06:03.272Z"
   },
   {
    "duration": 40,
    "start_time": "2021-12-16T21:06:03.317Z"
   },
   {
    "duration": 752,
    "start_time": "2021-12-16T21:06:03.367Z"
   },
   {
    "duration": 1575,
    "start_time": "2021-12-16T21:06:04.122Z"
   },
   {
    "duration": 1354,
    "start_time": "2021-12-16T21:06:05.699Z"
   },
   {
    "duration": 902,
    "start_time": "2021-12-16T21:06:07.067Z"
   },
   {
    "duration": 1375,
    "start_time": "2021-12-16T21:06:07.973Z"
   },
   {
    "duration": 241,
    "start_time": "2021-12-16T21:06:09.351Z"
   },
   {
    "duration": 1366,
    "start_time": "2021-12-16T21:06:09.595Z"
   },
   {
    "duration": 4759,
    "start_time": "2021-12-16T21:06:10.963Z"
   },
   {
    "duration": 927,
    "start_time": "2021-12-16T21:06:15.724Z"
   },
   {
    "duration": 45,
    "start_time": "2021-12-16T21:06:16.654Z"
   },
   {
    "duration": 18,
    "start_time": "2021-12-16T21:06:16.701Z"
   },
   {
    "duration": 464,
    "start_time": "2021-12-16T21:06:16.721Z"
   },
   {
    "duration": 434,
    "start_time": "2021-12-16T21:06:17.188Z"
   },
   {
    "duration": 2914,
    "start_time": "2021-12-16T21:06:17.625Z"
   },
   {
    "duration": 1365,
    "start_time": "2021-12-16T21:06:20.542Z"
   },
   {
    "duration": 754,
    "start_time": "2022-05-11T12:55:07.553Z"
   },
   {
    "duration": 1330,
    "start_time": "2022-05-11T12:55:13.174Z"
   },
   {
    "duration": 239,
    "start_time": "2022-05-11T12:55:59.662Z"
   },
   {
    "duration": 192,
    "start_time": "2022-05-11T12:56:06.847Z"
   },
   {
    "duration": 156,
    "start_time": "2022-05-11T12:56:26.057Z"
   },
   {
    "duration": 1611,
    "start_time": "2022-05-11T12:56:35.170Z"
   },
   {
    "duration": 126,
    "start_time": "2022-05-11T12:56:41.012Z"
   },
   {
    "duration": 98,
    "start_time": "2022-05-11T12:57:25.134Z"
   },
   {
    "duration": 38,
    "start_time": "2022-05-11T12:57:32.272Z"
   },
   {
    "duration": 104,
    "start_time": "2022-05-11T12:57:58.924Z"
   },
   {
    "duration": 101,
    "start_time": "2022-05-11T12:58:03.801Z"
   },
   {
    "duration": 99,
    "start_time": "2022-05-11T12:58:09.457Z"
   },
   {
    "duration": 91,
    "start_time": "2022-05-11T12:58:17.478Z"
   },
   {
    "duration": 97,
    "start_time": "2022-05-11T12:58:38.171Z"
   },
   {
    "duration": 1068,
    "start_time": "2022-05-11T13:01:03.222Z"
   },
   {
    "duration": 114,
    "start_time": "2022-05-11T13:01:17.397Z"
   },
   {
    "duration": 94,
    "start_time": "2022-05-11T13:01:22.095Z"
   },
   {
    "duration": 4,
    "start_time": "2022-05-11T13:02:36.658Z"
   },
   {
    "duration": 36,
    "start_time": "2022-05-11T13:02:39.977Z"
   },
   {
    "duration": 11,
    "start_time": "2022-05-11T13:06:07.998Z"
   },
   {
    "duration": 300,
    "start_time": "2022-05-11T13:08:03.186Z"
   },
   {
    "duration": 300,
    "start_time": "2022-05-11T13:08:17.185Z"
   },
   {
    "duration": 313,
    "start_time": "2022-05-11T13:08:47.497Z"
   },
   {
    "duration": 331,
    "start_time": "2022-05-11T13:09:07.691Z"
   },
   {
    "duration": 435,
    "start_time": "2022-05-11T13:09:57.684Z"
   },
   {
    "duration": 315,
    "start_time": "2022-05-11T13:11:17.058Z"
   },
   {
    "duration": 38,
    "start_time": "2022-05-11T13:18:13.771Z"
   },
   {
    "duration": 20,
    "start_time": "2022-05-11T13:24:04.786Z"
   },
   {
    "duration": 2916,
    "start_time": "2022-05-11T13:24:16.560Z"
   },
   {
    "duration": 2037,
    "start_time": "2022-05-11T13:24:28.444Z"
   },
   {
    "duration": 20,
    "start_time": "2022-05-11T13:25:30.457Z"
   },
   {
    "duration": 19,
    "start_time": "2022-05-11T13:26:21.796Z"
   },
   {
    "duration": 14,
    "start_time": "2022-05-11T13:27:40.228Z"
   },
   {
    "duration": 15,
    "start_time": "2022-05-11T13:27:51.594Z"
   },
   {
    "duration": 16,
    "start_time": "2022-05-11T13:27:59.554Z"
   },
   {
    "duration": 250,
    "start_time": "2022-05-11T13:29:01.699Z"
   },
   {
    "duration": 276,
    "start_time": "2022-05-11T13:29:57.185Z"
   },
   {
    "duration": 160,
    "start_time": "2022-05-11T13:30:09.120Z"
   },
   {
    "duration": 369,
    "start_time": "2022-05-11T13:30:14.550Z"
   },
   {
    "duration": 23,
    "start_time": "2022-05-11T13:30:54.209Z"
   },
   {
    "duration": 4,
    "start_time": "2022-05-11T13:31:10.448Z"
   },
   {
    "duration": 101,
    "start_time": "2022-05-11T13:31:10.461Z"
   },
   {
    "duration": 38,
    "start_time": "2022-05-11T13:31:10.565Z"
   },
   {
    "duration": 346,
    "start_time": "2022-05-11T13:31:10.605Z"
   },
   {
    "duration": 49,
    "start_time": "2022-05-11T13:31:10.953Z"
   },
   {
    "duration": 23,
    "start_time": "2022-05-11T13:31:14.654Z"
   },
   {
    "duration": 22,
    "start_time": "2022-05-11T13:33:11.915Z"
   },
   {
    "duration": 294,
    "start_time": "2022-05-11T13:33:32.517Z"
   },
   {
    "duration": 323,
    "start_time": "2022-05-11T13:33:46.172Z"
   },
   {
    "duration": 284,
    "start_time": "2022-05-11T13:33:53.125Z"
   },
   {
    "duration": 293,
    "start_time": "2022-05-11T13:34:33.203Z"
   },
   {
    "duration": 32,
    "start_time": "2022-05-11T13:35:05.157Z"
   },
   {
    "duration": 9,
    "start_time": "2022-05-11T13:35:40.309Z"
   },
   {
    "duration": 9,
    "start_time": "2022-05-11T13:35:55.818Z"
   },
   {
    "duration": 32,
    "start_time": "2022-05-11T13:36:06.621Z"
   },
   {
    "duration": 119,
    "start_time": "2022-05-11T13:37:08.157Z"
   },
   {
    "duration": 344,
    "start_time": "2022-05-11T13:37:51.821Z"
   },
   {
    "duration": 4,
    "start_time": "2022-05-11T13:37:58.077Z"
   },
   {
    "duration": 96,
    "start_time": "2022-05-11T13:37:58.118Z"
   },
   {
    "duration": 31,
    "start_time": "2022-05-11T13:37:58.216Z"
   },
   {
    "duration": 349,
    "start_time": "2022-05-11T13:37:58.249Z"
   },
   {
    "duration": 33,
    "start_time": "2022-05-11T13:37:58.600Z"
   },
   {
    "duration": 297,
    "start_time": "2022-05-11T13:38:01.414Z"
   },
   {
    "duration": 40,
    "start_time": "2022-05-11T13:38:07.966Z"
   },
   {
    "duration": 7,
    "start_time": "2022-05-11T13:39:22.833Z"
   },
   {
    "duration": 14,
    "start_time": "2022-05-11T13:40:40.530Z"
   },
   {
    "duration": 160,
    "start_time": "2022-05-11T13:41:22.199Z"
   },
   {
    "duration": 160,
    "start_time": "2022-05-11T13:41:44.591Z"
   },
   {
    "duration": 258,
    "start_time": "2022-05-11T13:41:50.059Z"
   },
   {
    "duration": 154,
    "start_time": "2022-05-11T13:42:22.210Z"
   },
   {
    "duration": 168,
    "start_time": "2022-05-11T13:42:39.296Z"
   },
   {
    "duration": 14,
    "start_time": "2022-05-11T13:42:58.781Z"
   },
   {
    "duration": 10,
    "start_time": "2022-05-11T13:43:44.479Z"
   },
   {
    "duration": 13,
    "start_time": "2022-05-11T13:45:51.591Z"
   },
   {
    "duration": 14,
    "start_time": "2022-05-11T13:46:00.786Z"
   },
   {
    "duration": 14,
    "start_time": "2022-05-11T13:46:09.486Z"
   },
   {
    "duration": 8,
    "start_time": "2022-05-11T13:46:53.450Z"
   },
   {
    "duration": 6,
    "start_time": "2022-05-11T13:47:24.710Z"
   },
   {
    "duration": 12,
    "start_time": "2022-05-11T13:47:27.679Z"
   },
   {
    "duration": 9,
    "start_time": "2022-05-11T13:48:06.833Z"
   },
   {
    "duration": 9,
    "start_time": "2022-05-11T13:48:10.891Z"
   },
   {
    "duration": 69,
    "start_time": "2022-05-11T13:49:23.475Z"
   },
   {
    "duration": 528,
    "start_time": "2022-05-11T13:50:57.117Z"
   },
   {
    "duration": 520,
    "start_time": "2022-05-11T13:54:25.725Z"
   },
   {
    "duration": 37,
    "start_time": "2022-05-11T13:55:11.751Z"
   },
   {
    "duration": 35,
    "start_time": "2022-05-11T13:55:25.834Z"
   },
   {
    "duration": 38,
    "start_time": "2022-05-11T13:56:01.127Z"
   },
   {
    "duration": 556,
    "start_time": "2022-05-11T13:56:24.307Z"
   },
   {
    "duration": 544,
    "start_time": "2022-05-11T13:56:39.042Z"
   },
   {
    "duration": 13,
    "start_time": "2022-05-11T14:01:05.965Z"
   },
   {
    "duration": 14,
    "start_time": "2022-05-11T14:01:25.998Z"
   },
   {
    "duration": 14,
    "start_time": "2022-05-11T14:02:09.313Z"
   },
   {
    "duration": 12,
    "start_time": "2022-05-11T14:02:27.646Z"
   },
   {
    "duration": 513,
    "start_time": "2022-05-11T14:02:47.444Z"
   },
   {
    "duration": 10,
    "start_time": "2022-05-11T14:03:05.379Z"
   },
   {
    "duration": 12,
    "start_time": "2022-05-11T14:03:08.283Z"
   },
   {
    "duration": 11,
    "start_time": "2022-05-11T14:06:55.911Z"
   },
   {
    "duration": 10,
    "start_time": "2022-05-11T14:07:04.243Z"
   },
   {
    "duration": 17,
    "start_time": "2022-05-11T14:07:28.732Z"
   },
   {
    "duration": 38308,
    "start_time": "2022-05-11T14:07:45.351Z"
   },
   {
    "duration": 11,
    "start_time": "2022-05-11T14:09:26.723Z"
   },
   {
    "duration": 14,
    "start_time": "2022-05-11T14:09:33.127Z"
   },
   {
    "duration": 28,
    "start_time": "2022-05-11T14:09:36.275Z"
   },
   {
    "duration": 11,
    "start_time": "2022-05-11T14:10:01.005Z"
   },
   {
    "duration": 12,
    "start_time": "2022-05-11T14:10:12.820Z"
   },
   {
    "duration": 8,
    "start_time": "2022-05-11T14:10:21.098Z"
   },
   {
    "duration": 68,
    "start_time": "2022-05-11T14:11:23.542Z"
   },
   {
    "duration": 11,
    "start_time": "2022-05-11T14:12:37.630Z"
   },
   {
    "duration": 10,
    "start_time": "2022-05-11T14:16:05.807Z"
   },
   {
    "duration": 13,
    "start_time": "2022-05-11T14:19:16.040Z"
   },
   {
    "duration": 369,
    "start_time": "2022-05-11T14:19:42.820Z"
   },
   {
    "duration": 8,
    "start_time": "2022-05-11T14:20:02.407Z"
   },
   {
    "duration": 7,
    "start_time": "2022-05-11T14:20:10.523Z"
   },
   {
    "duration": 4,
    "start_time": "2022-05-11T14:20:46.417Z"
   },
   {
    "duration": 122,
    "start_time": "2022-05-11T14:20:46.430Z"
   },
   {
    "duration": 37,
    "start_time": "2022-05-11T14:20:46.555Z"
   },
   {
    "duration": 403,
    "start_time": "2022-05-11T14:20:46.595Z"
   },
   {
    "duration": 36,
    "start_time": "2022-05-11T14:20:47.001Z"
   },
   {
    "duration": 337,
    "start_time": "2022-05-11T14:20:47.040Z"
   },
   {
    "duration": 38,
    "start_time": "2022-05-11T14:20:47.383Z"
   },
   {
    "duration": 12,
    "start_time": "2022-05-11T14:20:47.423Z"
   },
   {
    "duration": 325,
    "start_time": "2022-05-11T14:21:06.313Z"
   },
   {
    "duration": 9,
    "start_time": "2022-05-11T14:21:09.600Z"
   },
   {
    "duration": 7,
    "start_time": "2022-05-11T14:21:50.170Z"
   },
   {
    "duration": 9,
    "start_time": "2022-05-11T14:21:54.344Z"
   },
   {
    "duration": 12,
    "start_time": "2022-05-11T14:22:43.995Z"
   },
   {
    "duration": 4,
    "start_time": "2022-05-11T14:22:56.155Z"
   },
   {
    "duration": 158,
    "start_time": "2022-05-11T14:22:56.167Z"
   },
   {
    "duration": 34,
    "start_time": "2022-05-11T14:22:56.329Z"
   },
   {
    "duration": 390,
    "start_time": "2022-05-11T14:22:56.365Z"
   },
   {
    "duration": 58,
    "start_time": "2022-05-11T14:22:56.758Z"
   },
   {
    "duration": 349,
    "start_time": "2022-05-11T14:22:56.818Z"
   },
   {
    "duration": 49,
    "start_time": "2022-05-11T14:22:57.170Z"
   },
   {
    "duration": 11,
    "start_time": "2022-05-11T14:22:57.222Z"
   },
   {
    "duration": 10,
    "start_time": "2022-05-11T14:23:00.713Z"
   },
   {
    "duration": 378,
    "start_time": "2022-05-11T14:23:23.178Z"
   },
   {
    "duration": 10,
    "start_time": "2022-05-11T14:23:26.575Z"
   },
   {
    "duration": 4,
    "start_time": "2022-05-11T14:24:14.126Z"
   },
   {
    "duration": 118,
    "start_time": "2022-05-11T14:24:14.144Z"
   },
   {
    "duration": 52,
    "start_time": "2022-05-11T14:24:14.264Z"
   },
   {
    "duration": 489,
    "start_time": "2022-05-11T14:24:14.318Z"
   },
   {
    "duration": 37,
    "start_time": "2022-05-11T14:24:14.812Z"
   },
   {
    "duration": 469,
    "start_time": "2022-05-11T14:24:14.852Z"
   },
   {
    "duration": 31,
    "start_time": "2022-05-11T14:24:15.323Z"
   },
   {
    "duration": 44,
    "start_time": "2022-05-11T14:24:15.356Z"
   },
   {
    "duration": 5,
    "start_time": "2022-05-11T14:25:07.096Z"
   },
   {
    "duration": 9,
    "start_time": "2022-05-11T14:25:09.847Z"
   },
   {
    "duration": 455,
    "start_time": "2022-05-11T14:25:38.162Z"
   },
   {
    "duration": 9,
    "start_time": "2022-05-11T14:25:42.041Z"
   },
   {
    "duration": 8,
    "start_time": "2022-05-11T14:25:44.762Z"
   },
   {
    "duration": 6,
    "start_time": "2022-05-11T14:26:10.225Z"
   },
   {
    "duration": 124,
    "start_time": "2022-05-11T14:26:10.239Z"
   },
   {
    "duration": 49,
    "start_time": "2022-05-11T14:26:10.367Z"
   },
   {
    "duration": 402,
    "start_time": "2022-05-11T14:26:10.419Z"
   },
   {
    "duration": 35,
    "start_time": "2022-05-11T14:26:10.824Z"
   },
   {
    "duration": 376,
    "start_time": "2022-05-11T14:26:10.861Z"
   },
   {
    "duration": 54,
    "start_time": "2022-05-11T14:26:11.239Z"
   },
   {
    "duration": 18,
    "start_time": "2022-05-11T14:26:11.296Z"
   },
   {
    "duration": 366,
    "start_time": "2022-05-11T14:26:26.180Z"
   },
   {
    "duration": 8,
    "start_time": "2022-05-11T14:26:30.503Z"
   },
   {
    "duration": 8,
    "start_time": "2022-05-11T14:26:59.397Z"
   },
   {
    "duration": 4,
    "start_time": "2022-05-11T14:28:42.234Z"
   },
   {
    "duration": 99,
    "start_time": "2022-05-11T14:28:42.248Z"
   },
   {
    "duration": 39,
    "start_time": "2022-05-11T14:28:42.351Z"
   },
   {
    "duration": 353,
    "start_time": "2022-05-11T14:28:42.393Z"
   },
   {
    "duration": 47,
    "start_time": "2022-05-11T14:28:42.749Z"
   },
   {
    "duration": 322,
    "start_time": "2022-05-11T14:28:42.799Z"
   },
   {
    "duration": 34,
    "start_time": "2022-05-11T14:28:43.123Z"
   },
   {
    "duration": 13,
    "start_time": "2022-05-11T14:28:43.182Z"
   },
   {
    "duration": 339,
    "start_time": "2022-05-11T14:29:04.075Z"
   },
   {
    "duration": 9,
    "start_time": "2022-05-11T14:29:07.997Z"
   },
   {
    "duration": 9,
    "start_time": "2022-05-11T14:29:40.950Z"
   },
   {
    "duration": 995,
    "start_time": "2022-05-11T14:32:54.460Z"
   },
   {
    "duration": 320,
    "start_time": "2022-05-11T14:33:02.443Z"
   },
   {
    "duration": 4,
    "start_time": "2022-05-11T14:33:07.973Z"
   },
   {
    "duration": 149,
    "start_time": "2022-05-11T14:33:08.003Z"
   },
   {
    "duration": 67,
    "start_time": "2022-05-11T14:33:08.156Z"
   },
   {
    "duration": 564,
    "start_time": "2022-05-11T14:33:08.226Z"
   },
   {
    "duration": 54,
    "start_time": "2022-05-11T14:33:08.795Z"
   },
   {
    "duration": 568,
    "start_time": "2022-05-11T14:33:08.852Z"
   },
   {
    "duration": 33,
    "start_time": "2022-05-11T14:33:09.422Z"
   },
   {
    "duration": 36,
    "start_time": "2022-05-11T14:33:09.457Z"
   },
   {
    "duration": 325,
    "start_time": "2022-05-11T14:33:12.529Z"
   },
   {
    "duration": 10,
    "start_time": "2022-05-11T14:33:25.788Z"
   },
   {
    "duration": 18,
    "start_time": "2022-05-11T14:34:16.158Z"
   },
   {
    "duration": 4,
    "start_time": "2022-05-11T14:34:39.110Z"
   },
   {
    "duration": 101,
    "start_time": "2022-05-11T14:34:39.131Z"
   },
   {
    "duration": 47,
    "start_time": "2022-05-11T14:34:39.235Z"
   },
   {
    "duration": 430,
    "start_time": "2022-05-11T14:34:39.284Z"
   },
   {
    "duration": 34,
    "start_time": "2022-05-11T14:34:39.717Z"
   },
   {
    "duration": 346,
    "start_time": "2022-05-11T14:34:39.754Z"
   },
   {
    "duration": 32,
    "start_time": "2022-05-11T14:34:40.102Z"
   },
   {
    "duration": 47,
    "start_time": "2022-05-11T14:34:40.137Z"
   },
   {
    "duration": 12,
    "start_time": "2022-05-11T14:34:46.418Z"
   },
   {
    "duration": 565,
    "start_time": "2022-05-11T14:35:57.409Z"
   },
   {
    "duration": 12,
    "start_time": "2022-05-11T14:36:05.509Z"
   },
   {
    "duration": 62,
    "start_time": "2022-05-11T14:36:17.364Z"
   },
   {
    "duration": 4,
    "start_time": "2022-05-11T14:36:39.970Z"
   },
   {
    "duration": 109,
    "start_time": "2022-05-11T14:36:39.983Z"
   },
   {
    "duration": 31,
    "start_time": "2022-05-11T14:36:40.095Z"
   },
   {
    "duration": 356,
    "start_time": "2022-05-11T14:36:40.128Z"
   },
   {
    "duration": 33,
    "start_time": "2022-05-11T14:36:40.487Z"
   },
   {
    "duration": 336,
    "start_time": "2022-05-11T14:36:40.522Z"
   },
   {
    "duration": 43,
    "start_time": "2022-05-11T14:36:40.860Z"
   },
   {
    "duration": 31,
    "start_time": "2022-05-11T14:36:40.905Z"
   },
   {
    "duration": 320,
    "start_time": "2022-05-11T14:37:07.196Z"
   },
   {
    "duration": 14,
    "start_time": "2022-05-11T14:37:13.907Z"
   },
   {
    "duration": 8,
    "start_time": "2022-05-11T14:37:42.191Z"
   },
   {
    "duration": 5,
    "start_time": "2022-05-11T14:38:02.535Z"
   },
   {
    "duration": 102,
    "start_time": "2022-05-11T14:38:02.548Z"
   },
   {
    "duration": 44,
    "start_time": "2022-05-11T14:38:02.653Z"
   },
   {
    "duration": 348,
    "start_time": "2022-05-11T14:38:02.700Z"
   },
   {
    "duration": 51,
    "start_time": "2022-05-11T14:38:03.051Z"
   },
   {
    "duration": 321,
    "start_time": "2022-05-11T14:38:03.104Z"
   },
   {
    "duration": 54,
    "start_time": "2022-05-11T14:38:03.428Z"
   },
   {
    "duration": 13,
    "start_time": "2022-05-11T14:38:03.485Z"
   },
   {
    "duration": 343,
    "start_time": "2022-05-11T14:38:09.883Z"
   },
   {
    "duration": 13,
    "start_time": "2022-05-11T14:38:12.859Z"
   },
   {
    "duration": 12,
    "start_time": "2022-05-11T14:38:16.148Z"
   },
   {
    "duration": 9,
    "start_time": "2022-05-11T14:38:59.157Z"
   },
   {
    "duration": 15,
    "start_time": "2022-05-11T14:39:11.438Z"
   },
   {
    "duration": 363,
    "start_time": "2022-05-11T14:39:25.356Z"
   },
   {
    "duration": 12,
    "start_time": "2022-05-11T14:40:59.873Z"
   },
   {
    "duration": 45,
    "start_time": "2022-05-11T14:43:12.195Z"
   },
   {
    "duration": 5,
    "start_time": "2022-05-11T14:44:16.106Z"
   },
   {
    "duration": 104,
    "start_time": "2022-05-11T14:44:16.119Z"
   },
   {
    "duration": 31,
    "start_time": "2022-05-11T14:44:16.226Z"
   },
   {
    "duration": 354,
    "start_time": "2022-05-11T14:44:16.260Z"
   },
   {
    "duration": 35,
    "start_time": "2022-05-11T14:44:16.617Z"
   },
   {
    "duration": 336,
    "start_time": "2022-05-11T14:44:16.654Z"
   },
   {
    "duration": 33,
    "start_time": "2022-05-11T14:44:16.992Z"
   },
   {
    "duration": 13,
    "start_time": "2022-05-11T14:44:17.027Z"
   },
   {
    "duration": 348,
    "start_time": "2022-05-11T14:44:17.083Z"
   },
   {
    "duration": 46,
    "start_time": "2022-05-11T14:44:22.113Z"
   },
   {
    "duration": 9,
    "start_time": "2022-05-11T14:44:53.327Z"
   },
   {
    "duration": 9,
    "start_time": "2022-05-11T14:44:59.659Z"
   },
   {
    "duration": 547,
    "start_time": "2022-05-11T14:45:11.540Z"
   },
   {
    "duration": 264,
    "start_time": "2022-05-11T14:45:36.955Z"
   },
   {
    "duration": 135,
    "start_time": "2022-05-11T14:45:43.992Z"
   },
   {
    "duration": 360,
    "start_time": "2022-05-11T14:45:49.228Z"
   },
   {
    "duration": 7,
    "start_time": "2022-05-11T14:45:52.170Z"
   },
   {
    "duration": 4,
    "start_time": "2022-05-11T14:46:00.460Z"
   },
   {
    "duration": 109,
    "start_time": "2022-05-11T14:46:00.473Z"
   },
   {
    "duration": 32,
    "start_time": "2022-05-11T14:46:00.585Z"
   },
   {
    "duration": 531,
    "start_time": "2022-05-11T14:46:00.621Z"
   },
   {
    "duration": 51,
    "start_time": "2022-05-11T14:46:01.155Z"
   },
   {
    "duration": 337,
    "start_time": "2022-05-11T14:46:01.209Z"
   },
   {
    "duration": 47,
    "start_time": "2022-05-11T14:46:01.548Z"
   },
   {
    "duration": 21,
    "start_time": "2022-05-11T14:46:01.598Z"
   },
   {
    "duration": 367,
    "start_time": "2022-05-11T14:46:01.622Z"
   },
   {
    "duration": 7,
    "start_time": "2022-05-11T14:46:06.954Z"
   },
   {
    "duration": 6,
    "start_time": "2022-05-11T14:46:29.379Z"
   },
   {
    "duration": 159,
    "start_time": "2022-05-11T14:46:29.393Z"
   },
   {
    "duration": 53,
    "start_time": "2022-05-11T14:46:29.556Z"
   },
   {
    "duration": 348,
    "start_time": "2022-05-11T14:46:29.612Z"
   },
   {
    "duration": 51,
    "start_time": "2022-05-11T14:46:29.964Z"
   },
   {
    "duration": 338,
    "start_time": "2022-05-11T14:46:30.017Z"
   },
   {
    "duration": 50,
    "start_time": "2022-05-11T14:46:30.359Z"
   },
   {
    "duration": 29,
    "start_time": "2022-05-11T14:46:30.412Z"
   },
   {
    "duration": 678,
    "start_time": "2022-05-11T14:46:30.443Z"
   },
   {
    "duration": 8,
    "start_time": "2022-05-11T14:46:34.870Z"
   },
   {
    "duration": 12,
    "start_time": "2022-05-11T14:46:44.093Z"
   },
   {
    "duration": 42,
    "start_time": "2022-05-11T14:47:41.727Z"
   },
   {
    "duration": 17,
    "start_time": "2022-05-11T14:49:05.253Z"
   },
   {
    "duration": 67,
    "start_time": "2022-05-11T14:50:18.270Z"
   },
   {
    "duration": 71,
    "start_time": "2022-05-11T14:50:22.012Z"
   },
   {
    "duration": 23,
    "start_time": "2022-05-11T14:50:50.474Z"
   },
   {
    "duration": 55,
    "start_time": "2022-05-11T14:51:02.069Z"
   },
   {
    "duration": 14,
    "start_time": "2022-05-11T14:53:14.399Z"
   },
   {
    "duration": 13,
    "start_time": "2022-05-11T14:53:33.668Z"
   },
   {
    "duration": 22,
    "start_time": "2022-05-11T14:53:48.437Z"
   },
   {
    "duration": 18,
    "start_time": "2022-05-11T14:54:44.186Z"
   },
   {
    "duration": 20,
    "start_time": "2022-05-11T14:54:51.844Z"
   },
   {
    "duration": 20,
    "start_time": "2022-05-11T14:55:11.335Z"
   },
   {
    "duration": 59,
    "start_time": "2022-05-11T14:55:21.216Z"
   },
   {
    "duration": 27,
    "start_time": "2022-05-11T14:56:37.453Z"
   },
   {
    "duration": 14,
    "start_time": "2022-05-11T14:57:18.901Z"
   },
   {
    "duration": 50,
    "start_time": "2022-05-11T14:57:36.775Z"
   },
   {
    "duration": 39,
    "start_time": "2022-05-11T14:58:28.076Z"
   },
   {
    "duration": 18,
    "start_time": "2022-05-11T14:58:45.555Z"
   },
   {
    "duration": 8,
    "start_time": "2022-05-11T14:59:05.057Z"
   },
   {
    "duration": 28,
    "start_time": "2022-05-11T14:59:08.953Z"
   },
   {
    "duration": 18,
    "start_time": "2022-05-11T15:00:19.256Z"
   },
   {
    "duration": 17,
    "start_time": "2022-05-11T15:03:33.004Z"
   },
   {
    "duration": 44,
    "start_time": "2022-05-11T15:07:05.880Z"
   },
   {
    "duration": 47,
    "start_time": "2022-05-11T15:09:00.599Z"
   },
   {
    "duration": 19,
    "start_time": "2022-05-11T15:09:21.483Z"
   },
   {
    "duration": 55,
    "start_time": "2022-05-11T15:10:07.997Z"
   },
   {
    "duration": 32,
    "start_time": "2022-05-11T15:10:36.321Z"
   },
   {
    "duration": 641,
    "start_time": "2022-05-11T15:11:06.968Z"
   },
   {
    "duration": 637,
    "start_time": "2022-05-11T15:11:36.793Z"
   },
   {
    "duration": 786,
    "start_time": "2022-05-11T15:12:25.679Z"
   },
   {
    "duration": 20,
    "start_time": "2022-05-11T15:15:22.867Z"
   },
   {
    "duration": 41,
    "start_time": "2022-05-11T15:15:31.157Z"
   },
   {
    "duration": 21,
    "start_time": "2022-05-11T15:16:23.739Z"
   },
   {
    "duration": 22,
    "start_time": "2022-05-11T15:16:40.499Z"
   },
   {
    "duration": 28,
    "start_time": "2022-05-11T15:17:13.171Z"
   },
   {
    "duration": 22,
    "start_time": "2022-05-11T15:17:39.978Z"
   },
   {
    "duration": 12,
    "start_time": "2022-05-11T15:21:04.990Z"
   },
   {
    "duration": 23,
    "start_time": "2022-05-11T15:23:47.967Z"
   },
   {
    "duration": 15,
    "start_time": "2022-05-11T15:23:54.275Z"
   },
   {
    "duration": 18,
    "start_time": "2022-05-11T15:24:14.433Z"
   },
   {
    "duration": 13,
    "start_time": "2022-05-11T15:25:57.476Z"
   },
   {
    "duration": 15,
    "start_time": "2022-05-11T15:26:09.087Z"
   },
   {
    "duration": 11,
    "start_time": "2022-05-11T15:26:17.848Z"
   },
   {
    "duration": 55,
    "start_time": "2022-05-11T15:29:23.197Z"
   },
   {
    "duration": 15,
    "start_time": "2022-05-11T15:29:35.813Z"
   },
   {
    "duration": 32,
    "start_time": "2022-05-11T15:29:38.593Z"
   },
   {
    "duration": 14,
    "start_time": "2022-05-11T15:32:06.973Z"
   },
   {
    "duration": 26,
    "start_time": "2022-05-11T15:32:14.788Z"
   },
   {
    "duration": 45,
    "start_time": "2022-05-11T15:32:39.588Z"
   },
   {
    "duration": 34,
    "start_time": "2022-05-11T15:33:18.007Z"
   },
   {
    "duration": 33,
    "start_time": "2022-05-11T15:33:27.309Z"
   },
   {
    "duration": 302,
    "start_time": "2022-05-11T15:33:43.301Z"
   },
   {
    "duration": 23,
    "start_time": "2022-05-11T15:34:18.419Z"
   },
   {
    "duration": 31,
    "start_time": "2022-05-11T15:34:33.290Z"
   },
   {
    "duration": 124,
    "start_time": "2022-05-11T15:35:20.080Z"
   },
   {
    "duration": 36,
    "start_time": "2022-05-11T15:35:36.224Z"
   },
   {
    "duration": 9,
    "start_time": "2022-05-11T15:36:56.764Z"
   },
   {
    "duration": 53,
    "start_time": "2022-05-11T15:37:05.783Z"
   },
   {
    "duration": 82,
    "start_time": "2022-05-11T15:37:25.447Z"
   },
   {
    "duration": 62,
    "start_time": "2022-05-11T15:37:45.243Z"
   },
   {
    "duration": 63,
    "start_time": "2022-05-11T15:38:07.778Z"
   },
   {
    "duration": 368,
    "start_time": "2022-05-11T15:41:51.147Z"
   },
   {
    "duration": 48,
    "start_time": "2022-05-11T15:42:00.403Z"
   },
   {
    "duration": 666,
    "start_time": "2022-05-11T15:43:22.856Z"
   },
   {
    "duration": 5,
    "start_time": "2022-05-11T15:43:27.143Z"
   },
   {
    "duration": 117,
    "start_time": "2022-05-11T15:43:27.160Z"
   },
   {
    "duration": 43,
    "start_time": "2022-05-11T15:43:27.284Z"
   },
   {
    "duration": 387,
    "start_time": "2022-05-11T15:43:27.330Z"
   },
   {
    "duration": 63,
    "start_time": "2022-05-11T15:43:27.720Z"
   },
   {
    "duration": 324,
    "start_time": "2022-05-11T15:43:27.785Z"
   },
   {
    "duration": 33,
    "start_time": "2022-05-11T15:43:28.111Z"
   },
   {
    "duration": 47,
    "start_time": "2022-05-11T15:43:28.148Z"
   },
   {
    "duration": 352,
    "start_time": "2022-05-11T15:43:28.197Z"
   },
   {
    "duration": 34,
    "start_time": "2022-05-11T15:43:28.553Z"
   },
   {
    "duration": 21,
    "start_time": "2022-05-11T15:43:28.591Z"
   },
   {
    "duration": 15,
    "start_time": "2022-05-11T15:43:28.614Z"
   },
   {
    "duration": 60,
    "start_time": "2022-05-11T15:43:28.632Z"
   },
   {
    "duration": 46,
    "start_time": "2022-05-11T15:43:28.695Z"
   },
   {
    "duration": 7,
    "start_time": "2022-05-11T15:43:28.744Z"
   },
   {
    "duration": 377,
    "start_time": "2022-05-11T15:43:34.020Z"
   },
   {
    "duration": 41,
    "start_time": "2022-05-11T15:43:36.782Z"
   },
   {
    "duration": 4,
    "start_time": "2022-05-11T15:44:38.457Z"
   },
   {
    "duration": 190,
    "start_time": "2022-05-11T15:44:38.474Z"
   },
   {
    "duration": 45,
    "start_time": "2022-05-11T15:44:38.684Z"
   },
   {
    "duration": 627,
    "start_time": "2022-05-11T15:44:38.732Z"
   },
   {
    "duration": 64,
    "start_time": "2022-05-11T15:44:39.363Z"
   },
   {
    "duration": 423,
    "start_time": "2022-05-11T15:44:39.430Z"
   },
   {
    "duration": 63,
    "start_time": "2022-05-11T15:44:39.856Z"
   },
   {
    "duration": 17,
    "start_time": "2022-05-11T15:44:39.923Z"
   },
   {
    "duration": 601,
    "start_time": "2022-05-11T15:44:39.983Z"
   },
   {
    "duration": 20,
    "start_time": "2022-05-11T15:44:40.588Z"
   },
   {
    "duration": 68,
    "start_time": "2022-05-11T15:44:40.614Z"
   },
   {
    "duration": 18,
    "start_time": "2022-05-11T15:44:40.685Z"
   },
   {
    "duration": 16,
    "start_time": "2022-05-11T15:44:40.706Z"
   },
   {
    "duration": 88,
    "start_time": "2022-05-11T15:44:40.726Z"
   },
   {
    "duration": 7,
    "start_time": "2022-05-11T15:44:40.818Z"
   },
   {
    "duration": 1147,
    "start_time": "2022-05-11T15:44:40.829Z"
   },
   {
    "duration": 10,
    "start_time": "2022-05-11T15:44:41.980Z"
   },
   {
    "duration": 22,
    "start_time": "2022-05-11T15:44:41.993Z"
   },
   {
    "duration": 59,
    "start_time": "2022-05-11T15:44:50.961Z"
   },
   {
    "duration": 1142,
    "start_time": "2022-05-11T15:47:44.604Z"
   },
   {
    "duration": 457,
    "start_time": "2022-05-11T15:48:30.269Z"
   },
   {
    "duration": 752,
    "start_time": "2022-05-11T15:48:46.608Z"
   },
   {
    "duration": 586,
    "start_time": "2022-05-11T15:49:48.611Z"
   },
   {
    "duration": 555,
    "start_time": "2022-05-11T15:50:50.912Z"
   },
   {
    "duration": 391,
    "start_time": "2022-05-11T15:51:07.050Z"
   },
   {
    "duration": 481,
    "start_time": "2022-05-11T15:51:22.315Z"
   },
   {
    "duration": 368,
    "start_time": "2022-05-11T15:51:28.205Z"
   },
   {
    "duration": 487,
    "start_time": "2022-05-11T15:51:34.463Z"
   },
   {
    "duration": 380,
    "start_time": "2022-05-11T15:51:39.552Z"
   },
   {
    "duration": 575,
    "start_time": "2022-05-11T15:52:15.544Z"
   },
   {
    "duration": 678,
    "start_time": "2022-05-11T15:52:22.663Z"
   },
   {
    "duration": 553,
    "start_time": "2022-05-11T15:53:03.940Z"
   },
   {
    "duration": 539,
    "start_time": "2022-05-11T15:53:11.068Z"
   },
   {
    "duration": 18,
    "start_time": "2022-05-11T15:55:41.647Z"
   },
   {
    "duration": 15,
    "start_time": "2022-05-11T15:55:54.696Z"
   },
   {
    "duration": 9,
    "start_time": "2022-05-11T15:56:15.021Z"
   },
   {
    "duration": 12,
    "start_time": "2022-05-11T15:56:18.998Z"
   },
   {
    "duration": 143,
    "start_time": "2022-05-11T15:56:27.884Z"
   },
   {
    "duration": 132,
    "start_time": "2022-05-11T15:56:42.247Z"
   },
   {
    "duration": 26,
    "start_time": "2022-05-11T15:57:41.568Z"
   },
   {
    "duration": 11,
    "start_time": "2022-05-11T15:58:08.460Z"
   },
   {
    "duration": 9,
    "start_time": "2022-05-11T15:58:17.615Z"
   },
   {
    "duration": 10,
    "start_time": "2022-05-11T15:58:24.059Z"
   },
   {
    "duration": 1219,
    "start_time": "2022-05-11T15:58:44.598Z"
   },
   {
    "duration": 1105,
    "start_time": "2022-05-11T16:00:51.783Z"
   },
   {
    "duration": 1460,
    "start_time": "2022-05-11T16:01:11.014Z"
   },
   {
    "duration": 9,
    "start_time": "2022-05-11T16:02:55.179Z"
   },
   {
    "duration": 11,
    "start_time": "2022-05-11T16:03:07.799Z"
   },
   {
    "duration": 200,
    "start_time": "2022-05-11T16:03:56.043Z"
   },
   {
    "duration": 217,
    "start_time": "2022-05-11T16:04:21.215Z"
   },
   {
    "duration": 680,
    "start_time": "2022-05-11T16:04:33.544Z"
   },
   {
    "duration": 775,
    "start_time": "2022-05-11T16:04:56.140Z"
   },
   {
    "duration": 1181,
    "start_time": "2022-05-11T16:05:05.007Z"
   },
   {
    "duration": 870,
    "start_time": "2022-05-11T16:05:33.245Z"
   },
   {
    "duration": 1148,
    "start_time": "2022-05-11T16:05:46.137Z"
   },
   {
    "duration": 985,
    "start_time": "2022-05-11T16:06:08.439Z"
   },
   {
    "duration": 931,
    "start_time": "2022-05-11T16:08:16.353Z"
   },
   {
    "duration": 657,
    "start_time": "2022-05-11T16:09:07.754Z"
   },
   {
    "duration": 725,
    "start_time": "2022-05-11T16:10:55.225Z"
   },
   {
    "duration": 445,
    "start_time": "2022-05-11T16:18:59.876Z"
   },
   {
    "duration": 427,
    "start_time": "2022-05-11T16:20:36.319Z"
   },
   {
    "duration": 290,
    "start_time": "2022-05-11T16:20:42.849Z"
   },
   {
    "duration": 284,
    "start_time": "2022-05-11T16:21:26.361Z"
   },
   {
    "duration": 192,
    "start_time": "2022-05-11T16:21:44.506Z"
   },
   {
    "duration": 288,
    "start_time": "2022-05-11T16:22:26.501Z"
   },
   {
    "duration": 12,
    "start_time": "2022-05-11T16:26:43.185Z"
   },
   {
    "duration": 17,
    "start_time": "2022-05-11T16:27:18.260Z"
   },
   {
    "duration": 18,
    "start_time": "2022-05-11T16:27:30.437Z"
   },
   {
    "duration": 16,
    "start_time": "2022-05-11T16:27:49.499Z"
   },
   {
    "duration": 219,
    "start_time": "2022-05-11T16:28:00.671Z"
   },
   {
    "duration": 199,
    "start_time": "2022-05-11T16:28:58.594Z"
   },
   {
    "duration": 24,
    "start_time": "2022-05-11T16:29:24.416Z"
   },
   {
    "duration": 16,
    "start_time": "2022-05-11T16:29:54.096Z"
   },
   {
    "duration": 37,
    "start_time": "2022-05-11T16:31:19.071Z"
   },
   {
    "duration": 139,
    "start_time": "2022-05-11T16:31:22.488Z"
   },
   {
    "duration": 301,
    "start_time": "2022-05-11T16:31:40.122Z"
   },
   {
    "duration": 16,
    "start_time": "2022-05-11T16:34:12.699Z"
   },
   {
    "duration": 26,
    "start_time": "2022-05-11T16:34:25.897Z"
   },
   {
    "duration": 864,
    "start_time": "2022-05-11T16:34:44.952Z"
   },
   {
    "duration": 17,
    "start_time": "2022-05-11T16:35:00.120Z"
   },
   {
    "duration": 407,
    "start_time": "2022-05-11T16:35:16.162Z"
   },
   {
    "duration": 146,
    "start_time": "2022-05-11T16:36:20.930Z"
   },
   {
    "duration": 407,
    "start_time": "2022-05-11T16:36:32.762Z"
   },
   {
    "duration": 62,
    "start_time": "2022-05-11T16:37:10.945Z"
   },
   {
    "duration": 90,
    "start_time": "2022-05-11T16:37:42.147Z"
   },
   {
    "duration": 49,
    "start_time": "2022-05-11T16:37:57.456Z"
   },
   {
    "duration": 49,
    "start_time": "2022-05-11T16:38:09.031Z"
   },
   {
    "duration": 82,
    "start_time": "2022-05-11T16:38:32.977Z"
   },
   {
    "duration": 63,
    "start_time": "2022-05-11T16:39:13.862Z"
   },
   {
    "duration": 54,
    "start_time": "2022-05-11T16:39:27.420Z"
   },
   {
    "duration": 81,
    "start_time": "2022-05-11T16:39:49.769Z"
   },
   {
    "duration": 55,
    "start_time": "2022-05-11T16:40:25.767Z"
   },
   {
    "duration": 52,
    "start_time": "2022-05-11T16:40:42.380Z"
   },
   {
    "duration": 56,
    "start_time": "2022-05-11T16:41:01.569Z"
   },
   {
    "duration": 83,
    "start_time": "2022-05-11T16:41:13.015Z"
   },
   {
    "duration": 105,
    "start_time": "2022-05-11T16:43:01.439Z"
   },
   {
    "duration": 61,
    "start_time": "2022-05-11T16:43:32.613Z"
   },
   {
    "duration": 108,
    "start_time": "2022-05-11T16:43:51.805Z"
   },
   {
    "duration": 62,
    "start_time": "2022-05-11T16:44:30.647Z"
   },
   {
    "duration": 493,
    "start_time": "2022-05-11T16:44:44.552Z"
   },
   {
    "duration": 53,
    "start_time": "2022-05-11T16:45:09.106Z"
   },
   {
    "duration": 86,
    "start_time": "2022-05-11T16:45:27.702Z"
   },
   {
    "duration": 159,
    "start_time": "2022-05-11T16:45:32.024Z"
   },
   {
    "duration": 1188,
    "start_time": "2022-05-11T16:46:29.005Z"
   },
   {
    "duration": 927,
    "start_time": "2022-05-11T17:01:26.996Z"
   },
   {
    "duration": 24,
    "start_time": "2022-05-11T17:09:22.977Z"
   },
   {
    "duration": 24,
    "start_time": "2022-05-11T17:10:06.591Z"
   },
   {
    "duration": 1732,
    "start_time": "2022-05-11T17:12:44.944Z"
   },
   {
    "duration": 1593,
    "start_time": "2022-05-11T17:13:16.734Z"
   },
   {
    "duration": 524,
    "start_time": "2022-05-11T17:14:24.331Z"
   },
   {
    "duration": 506,
    "start_time": "2022-05-11T17:15:07.290Z"
   },
   {
    "duration": 1726,
    "start_time": "2022-05-11T17:17:18.078Z"
   },
   {
    "duration": 2632,
    "start_time": "2022-05-11T17:18:53.301Z"
   },
   {
    "duration": 7,
    "start_time": "2022-05-11T17:22:38.056Z"
   },
   {
    "duration": 10,
    "start_time": "2022-05-11T17:22:49.981Z"
   },
   {
    "duration": 11,
    "start_time": "2022-05-11T17:22:54.998Z"
   },
   {
    "duration": 10,
    "start_time": "2022-05-11T17:23:09.871Z"
   },
   {
    "duration": 16,
    "start_time": "2022-05-11T17:23:28.172Z"
   },
   {
    "duration": 10,
    "start_time": "2022-05-11T17:23:40.624Z"
   },
   {
    "duration": 26,
    "start_time": "2022-05-11T17:26:15.959Z"
   },
   {
    "duration": 25,
    "start_time": "2022-05-11T17:26:45.653Z"
   },
   {
    "duration": 24,
    "start_time": "2022-05-11T17:26:53.874Z"
   },
   {
    "duration": 29,
    "start_time": "2022-05-11T17:27:26.238Z"
   },
   {
    "duration": 293,
    "start_time": "2022-05-11T17:27:49.755Z"
   },
   {
    "duration": 300,
    "start_time": "2022-05-11T17:28:01.209Z"
   },
   {
    "duration": 313,
    "start_time": "2022-05-11T17:33:09.610Z"
   },
   {
    "duration": 71,
    "start_time": "2022-05-11T17:33:17.941Z"
   },
   {
    "duration": 11,
    "start_time": "2022-05-11T17:34:06.018Z"
   },
   {
    "duration": 2191,
    "start_time": "2022-05-11T17:34:38.400Z"
   },
   {
    "duration": 2000,
    "start_time": "2022-05-11T17:35:23.123Z"
   },
   {
    "duration": 27,
    "start_time": "2022-05-11T17:36:10.401Z"
   },
   {
    "duration": 27,
    "start_time": "2022-05-11T17:36:25.924Z"
   },
   {
    "duration": 4,
    "start_time": "2022-05-11T17:36:31.961Z"
   },
   {
    "duration": 103,
    "start_time": "2022-05-11T17:36:31.973Z"
   },
   {
    "duration": 30,
    "start_time": "2022-05-11T17:36:32.083Z"
   },
   {
    "duration": 374,
    "start_time": "2022-05-11T17:36:32.115Z"
   },
   {
    "duration": 35,
    "start_time": "2022-05-11T17:36:32.492Z"
   },
   {
    "duration": 335,
    "start_time": "2022-05-11T17:36:32.529Z"
   },
   {
    "duration": 39,
    "start_time": "2022-05-11T17:36:32.866Z"
   },
   {
    "duration": 11,
    "start_time": "2022-05-11T17:36:32.908Z"
   },
   {
    "duration": 354,
    "start_time": "2022-05-11T17:36:32.922Z"
   },
   {
    "duration": 16,
    "start_time": "2022-05-11T17:36:33.278Z"
   },
   {
    "duration": 19,
    "start_time": "2022-05-11T17:36:33.298Z"
   },
   {
    "duration": 10,
    "start_time": "2022-05-11T17:36:33.319Z"
   },
   {
    "duration": 54,
    "start_time": "2022-05-11T17:36:33.331Z"
   },
   {
    "duration": 42,
    "start_time": "2022-05-11T17:36:33.388Z"
   },
   {
    "duration": 6,
    "start_time": "2022-05-11T17:36:33.432Z"
   },
   {
    "duration": 472,
    "start_time": "2022-05-11T17:36:33.439Z"
   },
   {
    "duration": 7,
    "start_time": "2022-05-11T17:36:33.914Z"
   },
   {
    "duration": 19,
    "start_time": "2022-05-11T17:36:33.923Z"
   },
   {
    "duration": 72,
    "start_time": "2022-05-11T17:36:33.944Z"
   },
   {
    "duration": 1094,
    "start_time": "2022-05-11T17:36:34.018Z"
   },
   {
    "duration": 656,
    "start_time": "2022-05-11T17:36:35.115Z"
   },
   {
    "duration": 456,
    "start_time": "2022-05-11T17:36:35.774Z"
   },
   {
    "duration": 208,
    "start_time": "2022-05-11T17:36:36.233Z"
   },
   {
    "duration": 42,
    "start_time": "2022-05-11T17:36:36.443Z"
   },
   {
    "duration": 127,
    "start_time": "2022-05-11T17:36:36.488Z"
   },
   {
    "duration": 522,
    "start_time": "2022-05-11T17:36:36.618Z"
   },
   {
    "duration": 1847,
    "start_time": "2022-05-11T17:36:37.143Z"
   },
   {
    "duration": 315,
    "start_time": "2022-05-11T17:36:38.992Z"
   },
   {
    "duration": 67,
    "start_time": "2022-05-11T17:36:48.697Z"
   },
   {
    "duration": 61,
    "start_time": "2022-05-11T17:37:21.082Z"
   },
   {
    "duration": 23,
    "start_time": "2022-05-11T17:39:30.302Z"
   },
   {
    "duration": 5,
    "start_time": "2022-05-11T17:39:52.143Z"
   },
   {
    "duration": 136,
    "start_time": "2022-05-11T17:39:52.159Z"
   },
   {
    "duration": 38,
    "start_time": "2022-05-11T17:39:52.298Z"
   },
   {
    "duration": 520,
    "start_time": "2022-05-11T17:39:52.340Z"
   },
   {
    "duration": 62,
    "start_time": "2022-05-11T17:39:52.864Z"
   },
   {
    "duration": 403,
    "start_time": "2022-05-11T17:39:52.929Z"
   },
   {
    "duration": 65,
    "start_time": "2022-05-11T17:39:53.335Z"
   },
   {
    "duration": 19,
    "start_time": "2022-05-11T17:39:53.404Z"
   },
   {
    "duration": 459,
    "start_time": "2022-05-11T17:39:53.426Z"
   },
   {
    "duration": 19,
    "start_time": "2022-05-11T17:39:53.888Z"
   },
   {
    "duration": 28,
    "start_time": "2022-05-11T17:39:53.913Z"
   },
   {
    "duration": 41,
    "start_time": "2022-05-11T17:39:53.943Z"
   },
   {
    "duration": 21,
    "start_time": "2022-05-11T17:39:53.988Z"
   },
   {
    "duration": 78,
    "start_time": "2022-05-11T17:39:54.011Z"
   },
   {
    "duration": 9,
    "start_time": "2022-05-11T17:39:54.092Z"
   },
   {
    "duration": 484,
    "start_time": "2022-05-11T17:39:54.104Z"
   },
   {
    "duration": 16,
    "start_time": "2022-05-11T17:39:54.591Z"
   },
   {
    "duration": 50,
    "start_time": "2022-05-11T17:39:54.611Z"
   },
   {
    "duration": 47,
    "start_time": "2022-05-11T17:39:54.665Z"
   },
   {
    "duration": 2352,
    "start_time": "2022-05-11T17:39:54.714Z"
   },
   {
    "duration": 957,
    "start_time": "2022-05-11T17:39:57.069Z"
   },
   {
    "duration": 600,
    "start_time": "2022-05-11T17:39:58.029Z"
   },
   {
    "duration": 263,
    "start_time": "2022-05-11T17:39:58.633Z"
   },
   {
    "duration": 25,
    "start_time": "2022-05-11T17:39:58.899Z"
   },
   {
    "duration": 163,
    "start_time": "2022-05-11T17:39:58.928Z"
   },
   {
    "duration": 653,
    "start_time": "2022-05-11T17:39:59.094Z"
   },
   {
    "duration": 2991,
    "start_time": "2022-05-11T17:39:59.751Z"
   },
   {
    "duration": 366,
    "start_time": "2022-05-11T17:40:02.744Z"
   },
   {
    "duration": 536,
    "start_time": "2022-05-11T17:40:03.118Z"
   },
   {
    "duration": 0,
    "start_time": "2022-05-11T17:40:03.656Z"
   },
   {
    "duration": 0,
    "start_time": "2022-05-11T17:40:03.658Z"
   },
   {
    "duration": 0,
    "start_time": "2022-05-11T17:40:03.660Z"
   },
   {
    "duration": 36,
    "start_time": "2022-05-11T17:40:12.919Z"
   },
   {
    "duration": 16,
    "start_time": "2022-05-11T17:40:15.885Z"
   },
   {
    "duration": 368,
    "start_time": "2022-05-11T17:41:26.253Z"
   },
   {
    "duration": 221,
    "start_time": "2022-05-11T17:43:11.794Z"
   },
   {
    "duration": 276,
    "start_time": "2022-05-11T17:43:57.733Z"
   },
   {
    "duration": 13,
    "start_time": "2022-05-11T17:51:14.927Z"
   },
   {
    "duration": 34,
    "start_time": "2022-05-11T17:51:39.331Z"
   },
   {
    "duration": 34,
    "start_time": "2022-05-11T17:52:58.451Z"
   },
   {
    "duration": 32,
    "start_time": "2022-05-11T17:53:37.466Z"
   },
   {
    "duration": 57,
    "start_time": "2022-05-11T17:54:00.835Z"
   },
   {
    "duration": 47,
    "start_time": "2022-05-11T17:54:14.613Z"
   },
   {
    "duration": 60,
    "start_time": "2022-05-11T17:54:39.197Z"
   },
   {
    "duration": 814,
    "start_time": "2022-05-11T17:55:10.303Z"
   },
   {
    "duration": 702,
    "start_time": "2022-05-11T17:55:34.737Z"
   }
  ],
  "kernelspec": {
   "display_name": "Python 3 (ipykernel)",
   "language": "python",
   "name": "python3"
  },
  "language_info": {
   "codemirror_mode": {
    "name": "ipython",
    "version": 3
   },
   "file_extension": ".py",
   "mimetype": "text/x-python",
   "name": "python",
   "nbconvert_exporter": "python",
   "pygments_lexer": "ipython3",
   "version": "3.9.5"
  },
  "toc": {
   "base_numbering": 1,
   "nav_menu": {},
   "number_sections": true,
   "sideBar": true,
   "skip_h1_title": true,
   "title_cell": "Содержание",
   "title_sidebar": "Contents",
   "toc_cell": true,
   "toc_position": {},
   "toc_section_display": true,
   "toc_window_display": false
  }
 },
 "nbformat": 4,
 "nbformat_minor": 2
}
