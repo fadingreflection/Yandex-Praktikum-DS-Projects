{
 "cells": [
  {
   "cell_type": "markdown",
   "metadata": {
    "id": "E0vqbgi9ay0H"
   },
   "source": [
    "# Яндекс.Музыка"
   ]
  },
  {
   "cell_type": "markdown",
   "metadata": {
    "id": "VUC88oWjTJw2"
   },
   "source": [
    "Сравнение поведения пользователей Москвы и Санкт-Петербурга.\n",
    "\n",
    "**Цель исследования** — проверка гипотез:\n",
    "1. Активность пользователей зависит от дня недели и по-разному проявляется в Москве и Петербурге.\n",
    "2. В понедельник утром в Москве преобладают одни жанры, а в Петербурге — другие. Так же и вечером пятницы преобладают разные жанры — в зависимости от города. \n",
    "3. Москва и Петербург предпочитают разные жанры музыки. В Москве чаще слушают поп-музыку, в Петербурге — русский рэп.\n",
    "\n",
    "**Ход исследования**\n",
    " 1. Обзор данных.\n",
    " 2. Предобработка данных.\n",
    " 3. Проверка гипотез.\n",
    "\n"
   ]
  },
  {
   "cell_type": "markdown",
   "metadata": {
    "id": "Ml1hmfXC_Zcs"
   },
   "source": [
    "## Обзор данных\n",
    "\n"
   ]
  },
  {
   "cell_type": "code",
   "execution_count": 12,
   "metadata": {
    "id": "AXN7PHPN_Zcs"
   },
   "outputs": [
    {
     "data": {
      "text/html": [
       "<div>\n",
       "<style scoped>\n",
       "    .dataframe tbody tr th:only-of-type {\n",
       "        vertical-align: middle;\n",
       "    }\n",
       "\n",
       "    .dataframe tbody tr th {\n",
       "        vertical-align: top;\n",
       "    }\n",
       "\n",
       "    .dataframe thead th {\n",
       "        text-align: right;\n",
       "    }\n",
       "</style>\n",
       "<table border=\"1\" class=\"dataframe\">\n",
       "  <thead>\n",
       "    <tr style=\"text-align: right;\">\n",
       "      <th></th>\n",
       "      <th>userID</th>\n",
       "      <th>Track</th>\n",
       "      <th>artist</th>\n",
       "      <th>genre</th>\n",
       "      <th>City</th>\n",
       "      <th>time</th>\n",
       "      <th>Day</th>\n",
       "    </tr>\n",
       "  </thead>\n",
       "  <tbody>\n",
       "    <tr>\n",
       "      <th>0</th>\n",
       "      <td>FFB692EC</td>\n",
       "      <td>Kamigata To Boots</td>\n",
       "      <td>The Mass Missile</td>\n",
       "      <td>rock</td>\n",
       "      <td>Saint-Petersburg</td>\n",
       "      <td>20:28:33</td>\n",
       "      <td>Wednesday</td>\n",
       "    </tr>\n",
       "    <tr>\n",
       "      <th>1</th>\n",
       "      <td>55204538</td>\n",
       "      <td>Delayed Because of Accident</td>\n",
       "      <td>Andreas Rönnberg</td>\n",
       "      <td>rock</td>\n",
       "      <td>Moscow</td>\n",
       "      <td>14:07:09</td>\n",
       "      <td>Friday</td>\n",
       "    </tr>\n",
       "    <tr>\n",
       "      <th>2</th>\n",
       "      <td>20EC38</td>\n",
       "      <td>Funiculì funiculà</td>\n",
       "      <td>Mario Lanza</td>\n",
       "      <td>pop</td>\n",
       "      <td>Saint-Petersburg</td>\n",
       "      <td>20:58:07</td>\n",
       "      <td>Wednesday</td>\n",
       "    </tr>\n",
       "    <tr>\n",
       "      <th>3</th>\n",
       "      <td>A3DD03C9</td>\n",
       "      <td>Dragons in the Sunset</td>\n",
       "      <td>Fire + Ice</td>\n",
       "      <td>folk</td>\n",
       "      <td>Saint-Petersburg</td>\n",
       "      <td>08:37:09</td>\n",
       "      <td>Monday</td>\n",
       "    </tr>\n",
       "    <tr>\n",
       "      <th>4</th>\n",
       "      <td>E2DC1FAE</td>\n",
       "      <td>Soul People</td>\n",
       "      <td>Space Echo</td>\n",
       "      <td>dance</td>\n",
       "      <td>Moscow</td>\n",
       "      <td>08:34:34</td>\n",
       "      <td>Monday</td>\n",
       "    </tr>\n",
       "  </tbody>\n",
       "</table>\n",
       "</div>"
      ],
      "text/plain": [
       "     userID                        Track            artist  genre  \\\n",
       "0  FFB692EC            Kamigata To Boots  The Mass Missile   rock   \n",
       "1  55204538  Delayed Because of Accident  Andreas Rönnberg   rock   \n",
       "2    20EC38            Funiculì funiculà       Mario Lanza    pop   \n",
       "3  A3DD03C9        Dragons in the Sunset        Fire + Ice   folk   \n",
       "4  E2DC1FAE                  Soul People        Space Echo  dance   \n",
       "\n",
       "             City        time        Day  \n",
       "0  Saint-Petersburg  20:28:33  Wednesday  \n",
       "1            Moscow  14:07:09     Friday  \n",
       "2  Saint-Petersburg  20:58:07  Wednesday  \n",
       "3  Saint-Petersburg  08:37:09     Monday  \n",
       "4            Moscow  08:34:34     Monday  "
      ]
     },
     "metadata": {},
     "output_type": "display_data"
    }
   ],
   "source": [
    "import pandas as pd\n",
    "\n",
    "df = pd.read_csv('C:\\Github\\Yandex-Praktikum-DS-Projects\\yandex_music_project.csv')\n",
    "\n",
    "display(df.head(5))"
   ]
  },
  {
   "cell_type": "code",
   "execution_count": 13,
   "metadata": {
    "id": "DSf2kIb-_Zct"
   },
   "outputs": [
    {
     "name": "stdout",
     "output_type": "stream",
     "text": [
      "<class 'pandas.core.frame.DataFrame'>\n",
      "RangeIndex: 65079 entries, 0 to 65078\n",
      "Data columns (total 7 columns):\n",
      " #   Column    Non-Null Count  Dtype \n",
      "---  ------    --------------  ----- \n",
      " 0     userID  65079 non-null  object\n",
      " 1   Track     63848 non-null  object\n",
      " 2   artist    57876 non-null  object\n",
      " 3   genre     63881 non-null  object\n",
      " 4     City    65079 non-null  object\n",
      " 5   time      65079 non-null  object\n",
      " 6   Day       65079 non-null  object\n",
      "dtypes: object(7)\n",
      "memory usage: 3.5+ MB\n"
     ]
    }
   ],
   "source": [
    "#получаем инфу об объектах в таблице\n",
    "df.info()"
   ]
  },
  {
   "cell_type": "markdown",
   "metadata": {
    "id": "TaQ2Iwbr_Zct"
   },
   "source": [
    "Итак, в таблице семь столбцов. Тип данных во всех столбцах — `object`.\n",
    "\n",
    "В названиях колонок видны три нарушения стиля:\n",
    "1. Строчные буквы сочетаются с прописными.\n",
    "2. Встречаются пробелы.\n",
    "3. При сочетании двух слов в названии не применяется \"змеиный регистр\" (UserID --> user_id)\n",
    "\n",
    "\n",
    "\n",
    "Количество значений в столбцах различается. Значит, в данных есть пропущенные значения.\n"
   ]
  },
  {
   "cell_type": "markdown",
   "metadata": {
    "id": "SjYF6Ub9_Zct"
   },
   "source": [
    "## Предобработка данных\n"
   ]
  },
  {
   "cell_type": "markdown",
   "metadata": {
    "id": "dIaKXr29_Zct"
   },
   "source": [
    "### Стиль заголовков\n"
   ]
  },
  {
   "cell_type": "code",
   "execution_count": 14,
   "metadata": {
    "id": "ISlFqs5y_Zct"
   },
   "outputs": [
    {
     "data": {
      "text/plain": [
       "Index(['user_id', 'track', 'artist', 'genre', 'city', 'time', 'day'], dtype='object')"
      ]
     },
     "execution_count": 14,
     "metadata": {},
     "output_type": "execute_result"
    }
   ],
   "source": [
    "df = df.rename(columns = {'  userID':'user_id', 'Track':'track', '  City  ':'city', 'Day':'day'})\n",
    "\n",
    "#проверяем, что названия столбцов теперь унифицированы по стилю\n",
    "df.columns"
   ]
  },
  {
   "cell_type": "markdown",
   "metadata": {
    "id": "5ISfbcfY_Zct"
   },
   "source": [
    "### Пропуски значений\n"
   ]
  },
  {
   "cell_type": "code",
   "execution_count": 15,
   "metadata": {
    "id": "RskX29qr_Zct"
   },
   "outputs": [
    {
     "name": "stdout",
     "output_type": "stream",
     "text": [
      "user_id       0\n",
      "track      1231\n",
      "artist     7203\n",
      "genre      1198\n",
      "city          0\n",
      "time          0\n",
      "day           0\n",
      "dtype: int64\n"
     ]
    }
   ],
   "source": [
    "#считаем сумму пропущенных значений по всей таблице\n",
    "print(df.isna().sum())\n",
    "#заменяем пропуски в столбцах 'track', 'artist', 'genre'\n",
    "columns_to_replace = ['track', 'artist', 'genre']\n",
    "for column in columns_to_replace:\n",
    "    df[column] = df[column].fillna('unknown')  "
   ]
  },
  {
   "cell_type": "code",
   "execution_count": 16,
   "metadata": {
    "id": "Tq4nYRX4_Zct"
   },
   "outputs": [
    {
     "data": {
      "text/plain": [
       "user_id    0\n",
       "track      0\n",
       "artist     0\n",
       "genre      0\n",
       "city       0\n",
       "time       0\n",
       "day        0\n",
       "dtype: int64"
      ]
     },
     "execution_count": 16,
     "metadata": {},
     "output_type": "execute_result"
    }
   ],
   "source": [
    "#проверяем, что пропусков более нет\n",
    "df.isna().sum()"
   ]
  },
  {
   "cell_type": "markdown",
   "metadata": {
    "id": "BWKRtBJ3_Zct"
   },
   "source": [
    "### Дубликаты\n"
   ]
  },
  {
   "cell_type": "code",
   "execution_count": 17,
   "metadata": {
    "id": "36eES_S0_Zct"
   },
   "outputs": [
    {
     "name": "stdout",
     "output_type": "stream",
     "text": [
      "3826\n"
     ]
    }
   ],
   "source": [
    "#считаем явные дубликаты\n",
    "print(df.duplicated().sum())\n",
    "#удаляем явные дубликаты\n",
    "df = df.drop_duplicates().reset_index(drop = True)"
   ]
  },
  {
   "cell_type": "code",
   "execution_count": 18,
   "metadata": {
    "id": "-8PuNWQ0_Zct"
   },
   "outputs": [
    {
     "data": {
      "text/plain": [
       "0"
      ]
     },
     "execution_count": 18,
     "metadata": {},
     "output_type": "execute_result"
    }
   ],
   "source": [
    "#проверяем, что дубликатов более не осталось\n",
    "df.duplicated().sum()"
   ]
  },
  {
   "cell_type": "code",
   "execution_count": 19,
   "metadata": {
    "id": "JIUcqzZN_Zct"
   },
   "outputs": [
    {
     "data": {
      "text/plain": [
       "array(['acid', 'acoustic', 'action', 'adult', 'africa', 'afrikaans',\n",
       "       'alternative', 'alternativepunk', 'ambient', 'americana',\n",
       "       'animated', 'anime', 'arabesk', 'arabic', 'arena',\n",
       "       'argentinetango', 'art', 'audiobook', 'author', 'avantgarde',\n",
       "       'axé', 'baile', 'balkan', 'beats', 'bigroom', 'black', 'bluegrass',\n",
       "       'blues', 'bollywood', 'bossa', 'brazilian', 'breakbeat', 'breaks',\n",
       "       'broadway', 'cantautori', 'cantopop', 'canzone', 'caribbean',\n",
       "       'caucasian', 'celtic', 'chamber', 'chanson', 'children', 'chill',\n",
       "       'chinese', 'choral', 'christian', 'christmas', 'classical',\n",
       "       'classicmetal', 'club', 'colombian', 'comedy', 'conjazz',\n",
       "       'contemporary', 'country', 'cuban', 'dance', 'dancehall',\n",
       "       'dancepop', 'dark', 'death', 'deep', 'deutschrock', 'deutschspr',\n",
       "       'dirty', 'disco', 'dnb', 'documentary', 'downbeat', 'downtempo',\n",
       "       'drum', 'dub', 'dubstep', 'eastern', 'easy', 'electronic',\n",
       "       'electropop', 'emo', 'entehno', 'epicmetal', 'estrada', 'ethnic',\n",
       "       'eurofolk', 'european', 'experimental', 'extrememetal', 'fado',\n",
       "       'fairytail', 'film', 'fitness', 'flamenco', 'folk', 'folklore',\n",
       "       'folkmetal', 'folkrock', 'folktronica', 'forró', 'frankreich',\n",
       "       'französisch', 'french', 'funk', 'future', 'gangsta', 'garage',\n",
       "       'german', 'ghazal', 'gitarre', 'glitch', 'gospel', 'gothic',\n",
       "       'grime', 'grunge', 'gypsy', 'handsup', \"hard'n'heavy\", 'hardcore',\n",
       "       'hardstyle', 'hardtechno', 'hip', 'hip-hop', 'hiphop',\n",
       "       'historisch', 'holiday', 'hop', 'horror', 'house', 'hymn', 'idm',\n",
       "       'independent', 'indian', 'indie', 'indipop', 'industrial',\n",
       "       'inspirational', 'instrumental', 'international', 'irish', 'jam',\n",
       "       'japanese', 'jazz', 'jewish', 'jpop', 'jungle', 'k-pop',\n",
       "       'karadeniz', 'karaoke', 'kayokyoku', 'korean', 'laiko', 'latin',\n",
       "       'latino', 'leftfield', 'local', 'lounge', 'loungeelectronic',\n",
       "       'lovers', 'malaysian', 'mandopop', 'marschmusik', 'meditative',\n",
       "       'mediterranean', 'melodic', 'metal', 'metalcore', 'mexican',\n",
       "       'middle', 'minimal', 'miscellaneous', 'modern', 'mood', 'mpb',\n",
       "       'muslim', 'native', 'neoklassik', 'neue', 'new', 'newage',\n",
       "       'newwave', 'nu', 'nujazz', 'numetal', 'oceania', 'old', 'opera',\n",
       "       'orchestral', 'other', 'piano', 'podcasts', 'pop', 'popdance',\n",
       "       'popelectronic', 'popeurodance', 'poprussian', 'post',\n",
       "       'posthardcore', 'postrock', 'power', 'progmetal', 'progressive',\n",
       "       'psychedelic', 'punjabi', 'punk', 'quebecois', 'ragga', 'ram',\n",
       "       'rancheras', 'rap', 'rave', 'reggae', 'reggaeton', 'regional',\n",
       "       'relax', 'religious', 'retro', 'rhythm', 'rnb', 'rnr', 'rock',\n",
       "       'rockabilly', 'rockalternative', 'rockindie', 'rockother',\n",
       "       'romance', 'roots', 'ruspop', 'rusrap', 'rusrock', 'russian',\n",
       "       'salsa', 'samba', 'scenic', 'schlager', 'self', 'sertanejo',\n",
       "       'shanson', 'shoegazing', 'showtunes', 'singer', 'ska', 'skarock',\n",
       "       'slow', 'smooth', 'soft', 'soul', 'soulful', 'sound', 'soundtrack',\n",
       "       'southern', 'specialty', 'speech', 'spiritual', 'sport',\n",
       "       'stonerrock', 'surf', 'swing', 'synthpop', 'synthrock',\n",
       "       'sängerportrait', 'tango', 'tanzorchester', 'taraftar', 'tatar',\n",
       "       'tech', 'techno', 'teen', 'thrash', 'top', 'traditional',\n",
       "       'tradjazz', 'trance', 'tribal', 'trip', 'triphop', 'tropical',\n",
       "       'türk', 'türkçe', 'ukrrock', 'unknown', 'urban', 'uzbek',\n",
       "       'variété', 'vi', 'videogame', 'vocal', 'western', 'world',\n",
       "       'worldbeat', 'ïîï', 'электроника'], dtype=object)"
      ]
     },
     "metadata": {},
     "output_type": "display_data"
    }
   ],
   "source": [
    "#отсортируем и выведем уникальные жанры\n",
    "genre = df['genre'].sort_values().unique()\n",
    "display(genre)"
   ]
  },
  {
   "cell_type": "code",
   "execution_count": 20,
   "metadata": {
    "id": "ErNDkmns_Zct"
   },
   "outputs": [
    {
     "data": {
      "text/plain": [
       "0              rock\n",
       "1              rock\n",
       "2               pop\n",
       "3              folk\n",
       "4             dance\n",
       "            ...    \n",
       "61248           rnb\n",
       "61249        hiphop\n",
       "61250    industrial\n",
       "61251          rock\n",
       "61252       country\n",
       "Name: genre, Length: 61253, dtype: object"
      ]
     },
     "execution_count": 20,
     "metadata": {},
     "output_type": "execute_result"
    }
   ],
   "source": [
    "#создадим ф-цию замены жанров\n",
    "def replace_wrong_genres(wrong_genres, correct_genre):\n",
    "    for mistake in wrong_genres:\n",
    "        df['genre'] = df['genre'].replace(mistake, correct_genre)\n",
    "    return df['genre']\n",
    "\n",
    "replace_wrong_genres(['hip-hop', 'hip' , 'hop'], 'hiphop')"
   ]
  },
  {
   "cell_type": "code",
   "execution_count": 22,
   "metadata": {
    "id": "wvixALnFG15m"
   },
   "outputs": [
    {
     "data": {
      "text/plain": [
       "array(['acid', 'acoustic', 'action', 'adult', 'africa', 'afrikaans',\n",
       "       'alternative', 'alternativepunk', 'ambient', 'americana',\n",
       "       'animated', 'anime', 'arabesk', 'arabic', 'arena',\n",
       "       'argentinetango', 'art', 'audiobook', 'author', 'avantgarde',\n",
       "       'axé', 'baile', 'balkan', 'beats', 'bigroom', 'black', 'bluegrass',\n",
       "       'blues', 'bollywood', 'bossa', 'brazilian', 'breakbeat', 'breaks',\n",
       "       'broadway', 'cantautori', 'cantopop', 'canzone', 'caribbean',\n",
       "       'caucasian', 'celtic', 'chamber', 'chanson', 'children', 'chill',\n",
       "       'chinese', 'choral', 'christian', 'christmas', 'classical',\n",
       "       'classicmetal', 'club', 'colombian', 'comedy', 'conjazz',\n",
       "       'contemporary', 'country', 'cuban', 'dance', 'dancehall',\n",
       "       'dancepop', 'dark', 'death', 'deep', 'deutschrock', 'deutschspr',\n",
       "       'dirty', 'disco', 'dnb', 'documentary', 'downbeat', 'downtempo',\n",
       "       'drum', 'dub', 'dubstep', 'eastern', 'easy', 'electronic',\n",
       "       'electropop', 'emo', 'entehno', 'epicmetal', 'estrada', 'ethnic',\n",
       "       'eurofolk', 'european', 'experimental', 'extrememetal', 'fado',\n",
       "       'fairytail', 'film', 'fitness', 'flamenco', 'folk', 'folklore',\n",
       "       'folkmetal', 'folkrock', 'folktronica', 'forró', 'frankreich',\n",
       "       'französisch', 'french', 'funk', 'future', 'gangsta', 'garage',\n",
       "       'german', 'ghazal', 'gitarre', 'glitch', 'gospel', 'gothic',\n",
       "       'grime', 'grunge', 'gypsy', 'handsup', \"hard'n'heavy\", 'hardcore',\n",
       "       'hardstyle', 'hardtechno', 'hiphop', 'historisch', 'holiday',\n",
       "       'horror', 'house', 'hymn', 'idm', 'independent', 'indian', 'indie',\n",
       "       'indipop', 'industrial', 'inspirational', 'instrumental',\n",
       "       'international', 'irish', 'jam', 'japanese', 'jazz', 'jewish',\n",
       "       'jpop', 'jungle', 'k-pop', 'karadeniz', 'karaoke', 'kayokyoku',\n",
       "       'korean', 'laiko', 'latin', 'latino', 'leftfield', 'local',\n",
       "       'lounge', 'loungeelectronic', 'lovers', 'malaysian', 'mandopop',\n",
       "       'marschmusik', 'meditative', 'mediterranean', 'melodic', 'metal',\n",
       "       'metalcore', 'mexican', 'middle', 'minimal', 'miscellaneous',\n",
       "       'modern', 'mood', 'mpb', 'muslim', 'native', 'neoklassik', 'neue',\n",
       "       'new', 'newage', 'newwave', 'nu', 'nujazz', 'numetal', 'oceania',\n",
       "       'old', 'opera', 'orchestral', 'other', 'piano', 'podcasts', 'pop',\n",
       "       'popdance', 'popelectronic', 'popeurodance', 'poprussian', 'post',\n",
       "       'posthardcore', 'postrock', 'power', 'progmetal', 'progressive',\n",
       "       'psychedelic', 'punjabi', 'punk', 'quebecois', 'ragga', 'ram',\n",
       "       'rancheras', 'rap', 'rave', 'reggae', 'reggaeton', 'regional',\n",
       "       'relax', 'religious', 'retro', 'rhythm', 'rnb', 'rnr', 'rock',\n",
       "       'rockabilly', 'rockalternative', 'rockindie', 'rockother',\n",
       "       'romance', 'roots', 'ruspop', 'rusrap', 'rusrock', 'russian',\n",
       "       'salsa', 'samba', 'scenic', 'schlager', 'self', 'sertanejo',\n",
       "       'shanson', 'shoegazing', 'showtunes', 'singer', 'ska', 'skarock',\n",
       "       'slow', 'smooth', 'soft', 'soul', 'soulful', 'sound', 'soundtrack',\n",
       "       'southern', 'specialty', 'speech', 'spiritual', 'sport',\n",
       "       'stonerrock', 'surf', 'swing', 'synthpop', 'synthrock',\n",
       "       'sängerportrait', 'tango', 'tanzorchester', 'taraftar', 'tatar',\n",
       "       'tech', 'techno', 'teen', 'thrash', 'top', 'traditional',\n",
       "       'tradjazz', 'trance', 'tribal', 'trip', 'triphop', 'tropical',\n",
       "       'türk', 'türkçe', 'ukrrock', 'unknown', 'urban', 'uzbek',\n",
       "       'variété', 'vi', 'videogame', 'vocal', 'western', 'world',\n",
       "       'worldbeat', 'ïîï', 'электроника'], dtype=object)"
      ]
     },
     "metadata": {},
     "output_type": "display_data"
    }
   ],
   "source": [
    "#проверим изменения\n",
    "genre = df['genre'].sort_values().unique()\n",
    "display(genre)"
   ]
  },
  {
   "cell_type": "markdown",
   "metadata": {
    "id": "jz6a9-7HQUDd"
   },
   "source": [
    "**Выводы**\n",
    "\n",
    "Предобработка обнаружила три проблемы в данных:\n",
    "\n",
    "- нарушения в стиле заголовков,\n",
    "- пропущенные значения,\n",
    "- дубликаты — явные и неявные.\n",
    "\n",
    "Пропущенные значения заменены на `'unknown'`. \n",
    "\n",
    "Теперь можно перейти к проверке гипотез. "
   ]
  },
  {
   "cell_type": "markdown",
   "metadata": {
    "id": "WttZHXH0SqKk"
   },
   "source": [
    "## Проверка гипотез"
   ]
  },
  {
   "cell_type": "markdown",
   "metadata": {
    "id": "Im936VVi_Zcu"
   },
   "source": [
    "### Сравнение поведения пользователей двух столиц"
   ]
  },
  {
   "cell_type": "markdown",
   "metadata": {
    "id": "nwt_MuaL_Zcu"
   },
   "source": [
    "Первая гипотеза гласит, что пользователи по-разному слушают музыку в Москве и Санкт-Петербурге. Проверим это предположение по данным о трёх днях недели — понедельнике, среде и пятнице. \n",
    "\n",
    "Этапы:\n",
    "- разделим пользователей Москвы и Санкт-Петербурга\n",
    "- сравним, сколько треков послушала каждая группа пользователей в понедельник, среду и пятницу\n"
   ]
  },
  {
   "cell_type": "code",
   "execution_count": 23,
   "metadata": {
    "id": "0_Qs96oh_Zcu"
   },
   "outputs": [
    {
     "data": {
      "text/plain": [
       "city\n",
       "Moscow              42741\n",
       "Saint-Petersburg    18512\n",
       "Name: time, dtype: int64"
      ]
     },
     "execution_count": 23,
     "metadata": {},
     "output_type": "execute_result"
    }
   ],
   "source": [
    "#общее число прослушиваний в каждом городе\n",
    "df.groupby(['city'])['time'].count()"
   ]
  },
  {
   "cell_type": "markdown",
   "metadata": {
    "id": "dzli3w8o_Zcu"
   },
   "source": [
    "В Москве прослушиваний больше, чем в Петербурге. Это не означает, что москвичи чаще слушают музыку, просто пользователей может быть больше.\n",
    "\n",
    "Теперь подсчитаем прослушивания в понедельник, среду и пятницу. "
   ]
  },
  {
   "cell_type": "code",
   "execution_count": 25,
   "metadata": {
    "id": "uZMKjiJz_Zcu"
   },
   "outputs": [
    {
     "data": {
      "text/plain": [
       "day\n",
       "Friday       21840\n",
       "Monday       21354\n",
       "Wednesday    18059\n",
       "Name: time, dtype: int64"
      ]
     },
     "execution_count": 25,
     "metadata": {},
     "output_type": "execute_result"
    }
   ],
   "source": [
    "df.groupby(['day'])['time'].count()"
   ]
  },
  {
   "cell_type": "markdown",
   "metadata": {
    "id": "cC2tNrlL_Zcu"
   },
   "source": [
    "В среднем пользователи из двух городов менее активны по средам. Но картина может измениться, если рассмотреть каждый город в отдельности."
   ]
  },
  {
   "cell_type": "code",
   "execution_count": 26,
   "metadata": {
    "id": "Nz3GdQB1_Zcu"
   },
   "outputs": [
    {
     "name": "stdout",
     "output_type": "stream",
     "text": [
      "15740\n",
      "5614\n",
      "11056\n",
      "7003\n",
      "15945\n",
      "5895\n"
     ]
    }
   ],
   "source": [
    "def number_tracks(day, city):\n",
    "    track_list = df[df['day'] == day] \n",
    "    track_list = track_list[track_list['city'] == city]\n",
    "    track_list_count = track_list['user_id'].count()\n",
    "    return track_list_count\n",
    "\n",
    "print(number_tracks('Monday', 'Moscow'))\n",
    "print(number_tracks('Monday', 'Saint-Petersburg'))\n",
    "print(number_tracks('Wednesday', 'Moscow'))\n",
    "print(number_tracks('Wednesday', 'Saint-Petersburg'))\n",
    "print(number_tracks('Friday', 'Moscow'))\n",
    "print(number_tracks('Friday', 'Saint-Petersburg'))"
   ]
  },
  {
   "cell_type": "code",
   "execution_count": 27,
   "metadata": {
    "id": "APAcLpOr_Zcu"
   },
   "outputs": [
    {
     "data": {
      "text/html": [
       "<div>\n",
       "<style scoped>\n",
       "    .dataframe tbody tr th:only-of-type {\n",
       "        vertical-align: middle;\n",
       "    }\n",
       "\n",
       "    .dataframe tbody tr th {\n",
       "        vertical-align: top;\n",
       "    }\n",
       "\n",
       "    .dataframe thead th {\n",
       "        text-align: right;\n",
       "    }\n",
       "</style>\n",
       "<table border=\"1\" class=\"dataframe\">\n",
       "  <thead>\n",
       "    <tr style=\"text-align: right;\">\n",
       "      <th></th>\n",
       "      <th>City</th>\n",
       "      <th>Monday</th>\n",
       "      <th>Wednesday</th>\n",
       "      <th>Friday</th>\n",
       "    </tr>\n",
       "  </thead>\n",
       "  <tbody>\n",
       "    <tr>\n",
       "      <th>0</th>\n",
       "      <td>Moscow</td>\n",
       "      <td>15740</td>\n",
       "      <td>11056</td>\n",
       "      <td>15945</td>\n",
       "    </tr>\n",
       "    <tr>\n",
       "      <th>1</th>\n",
       "      <td>Saint-Petersburg</td>\n",
       "      <td>5614</td>\n",
       "      <td>7003</td>\n",
       "      <td>5895</td>\n",
       "    </tr>\n",
       "  </tbody>\n",
       "</table>\n",
       "</div>"
      ],
      "text/plain": [
       "               City  Monday  Wednesday  Friday\n",
       "0            Moscow   15740      11056   15945\n",
       "1  Saint-Petersburg    5614       7003    5895"
      ]
     },
     "execution_count": 27,
     "metadata": {},
     "output_type": "execute_result"
    }
   ],
   "source": [
    "data = [['Moscow', 15740, 11056, 15945], ['Saint-Petersburg', 5614, 7003, 5895]]\n",
    "columns = ['City', 'Monday', 'Wednesday', 'Friday']\n",
    "pd.DataFrame(data = data, columns = columns)"
   ]
  },
  {
   "cell_type": "markdown",
   "metadata": {
    "id": "-EgPIHYu_Zcu"
   },
   "source": [
    "**Выводы**\n",
    "\n",
    "Данные показывают разницу поведения пользователей:\n",
    "\n",
    "- В Москве пик прослушиваний приходится на понедельник и пятницу, а в среду заметен спад.\n",
    "- В Петербурге, наоборот, больше слушают музыку по средам. Активность в понедельник и пятницу здесь почти в равной мере уступает среде.\n",
    "\n",
    "Значит, данные говорят в пользу первой гипотезы."
   ]
  },
  {
   "cell_type": "markdown",
   "metadata": {
    "id": "atZAxtq4_Zcu"
   },
   "source": [
    "### Музыка в начале и в конце недели"
   ]
  },
  {
   "cell_type": "markdown",
   "metadata": {
    "id": "eXrQqXFH_Zcu"
   },
   "source": [
    "Согласно второй гипотезе, утром в понедельник в Москве преобладают одни жанры, а в Петербурге — другие. Так же и вечером пятницы преобладают разные жанры — в зависимости от города."
   ]
  },
  {
   "cell_type": "code",
   "execution_count": 31,
   "metadata": {
    "id": "qeaFfM_P_Zcu"
   },
   "outputs": [],
   "source": [
    "moscow_general = df[df['city'] == 'Moscow']\n",
    "spb_general = df[df['city'] == 'Saint-Petersburg']"
   ]
  },
  {
   "cell_type": "code",
   "execution_count": 33,
   "metadata": {
    "id": "laJT9BYl_Zcu"
   },
   "outputs": [
    {
     "name": "stdout",
     "output_type": "stream",
     "text": [
      "genre\n",
      "pop            781\n",
      "dance          549\n",
      "electronic     480\n",
      "rock           474\n",
      "hiphop         286\n",
      "ruspop         186\n",
      "world          181\n",
      "rusrap         175\n",
      "alternative    164\n",
      "unknown        161\n",
      "Name: genre, dtype: int64\n",
      "genre\n",
      "pop            218\n",
      "dance          182\n",
      "rock           162\n",
      "electronic     147\n",
      "hiphop          80\n",
      "ruspop          64\n",
      "alternative     58\n",
      "rusrap          55\n",
      "jazz            44\n",
      "classical       40\n",
      "Name: genre, dtype: int64\n",
      "genre\n",
      "pop            713\n",
      "rock           517\n",
      "dance          495\n",
      "electronic     482\n",
      "hiphop         273\n",
      "world          208\n",
      "ruspop         170\n",
      "alternative    163\n",
      "classical      163\n",
      "rusrap         142\n",
      "Name: genre, dtype: int64\n",
      "genre\n",
      "pop            256\n",
      "electronic     216\n",
      "rock           216\n",
      "dance          210\n",
      "hiphop          97\n",
      "alternative     63\n",
      "jazz            61\n",
      "classical       60\n",
      "rusrap          59\n",
      "world           54\n",
      "Name: genre, dtype: int64\n"
     ]
    }
   ],
   "source": [
    "def genre_weekday(table, day, time1, time2):\n",
    "    genre_df = table[table['day'] == day]\n",
    "    genre_df = genre_df[genre_df['time'] > time1]\n",
    "    genre_df = genre_df[genre_df['time'] < time2]\n",
    "    genre_df_count = genre_df.groupby(['genre'])['genre'].count()\n",
    "    genre_df_sorted = genre_df_count.sort_values(ascending = False)\n",
    "    \n",
    "    return(genre_df_sorted.head(10))\n",
    "\n",
    "print(genre_weekday(moscow_general, 'Monday', '07:00', '11:00'))\n",
    "print(genre_weekday(spb_general, 'Monday', '07:00', '11:00'))\n",
    "print(genre_weekday(moscow_general, 'Friday', '17:00', '23:00'))\n",
    "print(genre_weekday(spb_general, 'Friday', '17:00', '23:00'))\n"
   ]
  },
  {
   "cell_type": "markdown",
   "metadata": {
    "id": "wrCe4MNX_Zcu"
   },
   "source": [
    "**Выводы**\n",
    "\n",
    "Если сравнить топ-10 жанров в понедельник утром, можно сделать такие выводы:\n",
    "\n",
    "1. В Москве и Петербурге слушают похожую музыку. Единственное отличие — в московский рейтинг вошёл жанр “world”, а в петербургский — джаз и классика.\n",
    "\n",
    "2. В Москве пропущенных значений оказалось так много, что значение `'unknown'` заняло десятое место среди самых популярных жанров. Значит, пропущенные значения занимают существенную долю в данных и угрожают достоверности исследования.\n",
    "\n",
    "Вечер пятницы не меняет эту картину. Некоторые жанры поднимаются немного выше, другие спускаются, но в целом топ-10 остаётся тем же самым.\n",
    "\n",
    "Таким образом, вторая гипотеза подтвердилась лишь частично:\n",
    "* Пользователи слушают похожую музыку в начале недели и в конце.\n",
    "* Разница между Москвой и Петербургом не слишком выражена. В Москве чаще слушают русскую популярную музыку, в Петербурге — джаз.\n",
    "\n",
    "Однако пропуски в данных ставят под сомнение этот результат. В Москве их так много, что рейтинг топ-10 мог бы выглядеть иначе, если бы не утерянные  данные о жанрах."
   ]
  },
  {
   "cell_type": "markdown",
   "metadata": {
    "id": "JolODAqr_Zcu"
   },
   "source": [
    "### Жанровые предпочтения в Москве и Петербурге\n",
    "\n",
    "Гипотеза: Петербург — столица рэпа.  А Москва — город где преобладает поп-музыка."
   ]
  },
  {
   "cell_type": "code",
   "execution_count": 34,
   "metadata": {
    "id": "r19lIPke_Zcu"
   },
   "outputs": [
    {
     "name": "stdout",
     "output_type": "stream",
     "text": [
      "genre\n",
      "pop            5892\n",
      "dance          4435\n",
      "rock           3965\n",
      "electronic     3786\n",
      "hiphop         2096\n",
      "classical      1616\n",
      "world          1432\n",
      "alternative    1379\n",
      "ruspop         1372\n",
      "rusrap         1161\n",
      "Name: genre, dtype: int64\n",
      "genre\n",
      "pop            2431\n",
      "dance          1932\n",
      "rock           1879\n",
      "electronic     1736\n",
      "hiphop          960\n",
      "alternative     649\n",
      "classical       646\n",
      "rusrap          564\n",
      "ruspop          538\n",
      "world           515\n",
      "Name: genre, dtype: int64\n"
     ]
    }
   ],
   "source": [
    "moscow_genres = moscow_general.groupby(['genre'])['genre'].count().sort_values(ascending = False)\n",
    "print(moscow_genres.head(10))\n",
    "spb_genres = spb_general.groupby(['genre'])['genre'].count().sort_values(ascending = False)\n",
    "print(spb_genres.head(10))"
   ]
  },
  {
   "cell_type": "markdown",
   "metadata": {
    "id": "RY51YJYu_Zcv"
   },
   "source": [
    "**Выводы**"
   ]
  },
  {
   "cell_type": "markdown",
   "metadata": {
    "id": "nVhnJEm__Zcv"
   },
   "source": [
    "Гипотеза частично подтвердилась:\n",
    "* Поп-музыка — самый популярный жанр в Москве, как и предполагала гипотеза. Более того, в топ-10 жанров встречается близкий жанр — русская популярная музыка.\n",
    "* Вопреки ожиданиям, рэп одинаково популярен в Москве и Петербурге. \n"
   ]
  },
  {
   "cell_type": "markdown",
   "metadata": {
    "id": "ykKQ0N65_Zcv"
   },
   "source": [
    "## Итоги исследования"
   ]
  },
  {
   "cell_type": "markdown",
   "metadata": {
    "id": "tjUwbHb3_Zcv"
   },
   "source": [
    "1. День недели по-разному влияет на активность пользователей в Москве и Петербурге. \n",
    "\n",
    "Первая гипотеза полностью подтвердилась.\n",
    "\n",
    "2. Музыкальные предпочтения не сильно меняются в течение недели — будь то Москва или Петербург. Небольшие различия заметны в начале недели, по понедельникам:\n",
    "* в Москве слушают музыку жанра “world”,\n",
    "* в Петербурге — джаз и классику.\n",
    "\n",
    "Таким образом, вторая гипотеза подтвердилась лишь отчасти. Этот результат мог оказаться иным, если бы не пропуски в данных.\n",
    "\n",
    "3. Во вкусах пользователей Москвы и Петербурга больше общего чем различий. Вопреки ожиданиям, предпочтения жанров в Петербурге напоминают московские.\n",
    "\n",
    "Третья гипотеза не подтвердилась. Если различия в предпочтениях и существуют, на основной массе пользователей они незаметны.\n"
   ]
  },
  {
   "cell_type": "code",
   "execution_count": null,
   "metadata": {},
   "outputs": [],
   "source": []
  }
 ],
 "metadata": {
  "ExecuteTimeLog": [
   {
    "duration": 375,
    "start_time": "2021-11-14T14:04:51.108Z"
   },
   {
    "duration": 379,
    "start_time": "2021-11-14T14:05:05.593Z"
   },
   {
    "duration": 699,
    "start_time": "2021-11-14T14:05:11.018Z"
   },
   {
    "duration": 2155,
    "start_time": "2021-11-14T14:05:16.173Z"
   },
   {
    "duration": 2578,
    "start_time": "2021-11-14T14:05:23.281Z"
   },
   {
    "duration": 180,
    "start_time": "2021-11-14T14:06:24.847Z"
   },
   {
    "duration": 10,
    "start_time": "2021-11-14T14:06:29.313Z"
   },
   {
    "duration": 32,
    "start_time": "2021-11-14T14:06:52.288Z"
   },
   {
    "duration": 25,
    "start_time": "2021-11-14T14:07:16.434Z"
   },
   {
    "duration": 33,
    "start_time": "2021-11-14T14:11:18.054Z"
   },
   {
    "duration": 294,
    "start_time": "2021-11-14T14:14:02.494Z"
   },
   {
    "duration": 305,
    "start_time": "2021-11-14T14:14:26.528Z"
   },
   {
    "duration": 18,
    "start_time": "2021-11-14T14:16:14.995Z"
   },
   {
    "duration": 6,
    "start_time": "2021-11-14T14:17:11.663Z"
   },
   {
    "duration": 102,
    "start_time": "2021-11-14T14:19:14.770Z"
   },
   {
    "duration": 102,
    "start_time": "2021-11-14T14:19:37.898Z"
   },
   {
    "duration": 89,
    "start_time": "2021-11-14T14:19:49.680Z"
   },
   {
    "duration": 96,
    "start_time": "2021-11-14T14:23:11.323Z"
   },
   {
    "duration": 102,
    "start_time": "2021-11-14T14:23:56.467Z"
   },
   {
    "duration": 29,
    "start_time": "2021-11-14T14:24:30.213Z"
   },
   {
    "duration": 6,
    "start_time": "2021-11-14T14:24:46.900Z"
   },
   {
    "duration": 27,
    "start_time": "2021-11-14T14:25:08.308Z"
   },
   {
    "duration": 6,
    "start_time": "2021-11-14T14:25:14.728Z"
   },
   {
    "duration": 25,
    "start_time": "2021-11-14T14:25:30.836Z"
   },
   {
    "duration": 5,
    "start_time": "2021-11-14T14:25:35.588Z"
   },
   {
    "duration": 29,
    "start_time": "2021-11-14T14:27:57.284Z"
   },
   {
    "duration": 378,
    "start_time": "2021-11-14T14:30:02.551Z"
   },
   {
    "duration": 19,
    "start_time": "2021-11-14T14:30:38.058Z"
   },
   {
    "duration": 42,
    "start_time": "2021-11-14T14:30:53.291Z"
   },
   {
    "duration": 50,
    "start_time": "2021-11-14T14:31:05.091Z"
   },
   {
    "duration": 21,
    "start_time": "2021-11-14T14:31:41.490Z"
   },
   {
    "duration": 33,
    "start_time": "2021-11-14T14:31:47.902Z"
   },
   {
    "duration": 2166,
    "start_time": "2021-11-14T14:32:10.812Z"
   },
   {
    "duration": 4133,
    "start_time": "2021-11-14T14:32:54.510Z"
   },
   {
    "duration": 11,
    "start_time": "2021-11-14T14:32:59.393Z"
   },
   {
    "duration": 5082,
    "start_time": "2021-11-14T14:35:33.495Z"
   },
   {
    "duration": 10,
    "start_time": "2021-11-14T14:35:40.533Z"
   },
   {
    "duration": 3999,
    "start_time": "2021-11-14T14:36:07.905Z"
   },
   {
    "duration": 4054,
    "start_time": "2021-11-14T14:38:28.170Z"
   },
   {
    "duration": 3777,
    "start_time": "2021-11-14T14:40:10.252Z"
   },
   {
    "duration": 4162,
    "start_time": "2021-11-14T14:40:45.296Z"
   },
   {
    "duration": 3860,
    "start_time": "2021-11-14T14:43:05.604Z"
   },
   {
    "duration": 4110,
    "start_time": "2021-11-14T14:44:35.267Z"
   },
   {
    "duration": 4026,
    "start_time": "2021-11-14T14:51:09.048Z"
   },
   {
    "duration": 4799,
    "start_time": "2021-11-14T14:52:18.693Z"
   },
   {
    "duration": 300,
    "start_time": "2021-11-14T14:54:54.973Z"
   },
   {
    "duration": 16,
    "start_time": "2021-11-14T14:55:07.216Z"
   },
   {
    "duration": 10,
    "start_time": "2021-11-14T14:55:26.018Z"
   },
   {
    "duration": 38,
    "start_time": "2021-11-14T14:56:43.882Z"
   },
   {
    "duration": 10,
    "start_time": "2021-11-14T14:56:58.536Z"
   },
   {
    "duration": 333,
    "start_time": "2021-11-14T14:58:10.990Z"
   },
   {
    "duration": 331,
    "start_time": "2021-11-14T15:00:23.197Z"
   },
   {
    "duration": 5787,
    "start_time": "2021-11-14T15:01:57.662Z"
   },
   {
    "duration": 12,
    "start_time": "2021-11-14T15:04:25.875Z"
   },
   {
    "duration": 332,
    "start_time": "2021-11-14T15:04:59.450Z"
   },
   {
    "duration": 18,
    "start_time": "2021-11-14T15:05:34.338Z"
   },
   {
    "duration": 17,
    "start_time": "2021-11-14T15:07:18.665Z"
   },
   {
    "duration": 23,
    "start_time": "2021-11-14T15:09:14.613Z"
   },
   {
    "duration": 17,
    "start_time": "2021-11-14T15:09:53.986Z"
   },
   {
    "duration": 26,
    "start_time": "2021-11-14T15:10:10.510Z"
   },
   {
    "duration": 17,
    "start_time": "2021-11-14T15:10:16.747Z"
   },
   {
    "duration": 20,
    "start_time": "2021-11-14T15:11:25.538Z"
   },
   {
    "duration": 16,
    "start_time": "2021-11-14T15:11:31.699Z"
   },
   {
    "duration": 4900,
    "start_time": "2021-11-14T15:14:10.330Z"
   },
   {
    "duration": 5103,
    "start_time": "2021-11-14T15:14:31.111Z"
   },
   {
    "duration": 388,
    "start_time": "2021-11-14T15:15:21.115Z"
   },
   {
    "duration": 477,
    "start_time": "2021-11-14T15:15:54.690Z"
   },
   {
    "duration": 343,
    "start_time": "2021-11-14T15:16:12.645Z"
   },
   {
    "duration": 304,
    "start_time": "2021-11-14T15:17:06.109Z"
   },
   {
    "duration": 103,
    "start_time": "2021-11-14T15:19:04.914Z"
   },
   {
    "duration": 7,
    "start_time": "2021-11-14T15:19:15.999Z"
   },
   {
    "duration": 21,
    "start_time": "2021-11-14T15:19:57.830Z"
   },
   {
    "duration": 11,
    "start_time": "2021-11-14T15:20:35.832Z"
   },
   {
    "duration": 9,
    "start_time": "2021-11-14T15:21:10.425Z"
   },
   {
    "duration": 10,
    "start_time": "2021-11-14T15:21:45.879Z"
   },
   {
    "duration": 6,
    "start_time": "2021-11-14T15:21:57.481Z"
   },
   {
    "duration": 3,
    "start_time": "2021-11-14T15:22:26.678Z"
   },
   {
    "duration": 7,
    "start_time": "2021-11-14T15:22:37.473Z"
   },
   {
    "duration": 3,
    "start_time": "2021-11-14T15:23:01.962Z"
   },
   {
    "duration": 7,
    "start_time": "2021-11-14T15:23:08.163Z"
   },
   {
    "duration": 9,
    "start_time": "2021-11-14T15:23:38.182Z"
   },
   {
    "duration": 15,
    "start_time": "2021-11-14T15:23:53.971Z"
   },
   {
    "duration": 8,
    "start_time": "2021-11-14T15:25:05.362Z"
   },
   {
    "duration": 4,
    "start_time": "2021-11-14T15:25:14.498Z"
   },
   {
    "duration": 189,
    "start_time": "2021-11-14T15:25:18.937Z"
   },
   {
    "duration": 16,
    "start_time": "2021-11-14T15:25:22.576Z"
   },
   {
    "duration": 32,
    "start_time": "2021-11-14T15:25:32.033Z"
   },
   {
    "duration": 5,
    "start_time": "2021-11-14T15:25:45.635Z"
   },
   {
    "duration": 32,
    "start_time": "2021-11-14T15:25:53.688Z"
   },
   {
    "duration": 6,
    "start_time": "2021-11-14T15:25:57.989Z"
   },
   {
    "duration": 32,
    "start_time": "2021-11-14T15:26:05.923Z"
   },
   {
    "duration": 22,
    "start_time": "2021-11-14T15:26:43.147Z"
   },
   {
    "duration": 30,
    "start_time": "2021-11-14T15:26:53.571Z"
   },
   {
    "duration": 83,
    "start_time": "2021-11-14T15:27:10.000Z"
   },
   {
    "duration": 103,
    "start_time": "2021-11-14T15:27:25.694Z"
   },
   {
    "duration": 76,
    "start_time": "2021-11-14T15:27:32.303Z"
   },
   {
    "duration": 389,
    "start_time": "2021-11-14T15:28:23.271Z"
   },
   {
    "duration": 80,
    "start_time": "2021-11-14T15:29:04.134Z"
   },
   {
    "duration": 70,
    "start_time": "2021-11-14T15:33:10.921Z"
   },
   {
    "duration": 54,
    "start_time": "2021-11-14T15:34:49.619Z"
   },
   {
    "duration": 63,
    "start_time": "2021-11-14T15:35:06.674Z"
   },
   {
    "duration": 60,
    "start_time": "2021-11-14T15:35:19.799Z"
   },
   {
    "duration": 3,
    "start_time": "2021-11-14T15:39:12.109Z"
   },
   {
    "duration": 91,
    "start_time": "2021-11-14T15:40:54.277Z"
   },
   {
    "duration": 111,
    "start_time": "2021-11-14T15:41:06.714Z"
   },
   {
    "duration": 784,
    "start_time": "2021-11-14T15:41:18.616Z"
   },
   {
    "duration": 309,
    "start_time": "2021-11-14T15:44:10.024Z"
   },
   {
    "duration": 6,
    "start_time": "2021-11-14T15:44:32.165Z"
   },
   {
    "duration": 3,
    "start_time": "2021-11-14T15:45:51.952Z"
   },
   {
    "duration": 5,
    "start_time": "2021-11-14T15:45:56.602Z"
   },
   {
    "duration": 6,
    "start_time": "2021-11-14T15:46:00.441Z"
   },
   {
    "duration": 4,
    "start_time": "2021-11-14T15:47:18.355Z"
   },
   {
    "duration": 5,
    "start_time": "2021-11-14T15:47:23.041Z"
   },
   {
    "duration": 4,
    "start_time": "2021-11-14T15:48:33.187Z"
   },
   {
    "duration": 5,
    "start_time": "2021-11-14T15:48:48.586Z"
   },
   {
    "duration": 55,
    "start_time": "2021-11-14T15:49:25.395Z"
   },
   {
    "duration": 59,
    "start_time": "2021-11-14T15:49:40.490Z"
   },
   {
    "duration": 4,
    "start_time": "2021-11-14T15:50:49.001Z"
   },
   {
    "duration": 7,
    "start_time": "2021-11-14T15:50:52.053Z"
   },
   {
    "duration": 58,
    "start_time": "2021-11-14T15:50:57.348Z"
   },
   {
    "duration": 6,
    "start_time": "2021-11-14T15:51:33.389Z"
   },
   {
    "duration": 3,
    "start_time": "2021-11-14T15:52:55.512Z"
   },
   {
    "duration": 7,
    "start_time": "2021-11-14T15:52:58.088Z"
   },
   {
    "duration": 58,
    "start_time": "2021-11-14T15:53:05.267Z"
   },
   {
    "duration": 4,
    "start_time": "2021-11-14T15:57:08.679Z"
   },
   {
    "duration": 3,
    "start_time": "2021-11-14T15:57:11.458Z"
   },
   {
    "duration": 321,
    "start_time": "2021-11-14T16:01:46.182Z"
   },
   {
    "duration": 5,
    "start_time": "2021-11-14T16:03:12.402Z"
   },
   {
    "duration": 4,
    "start_time": "2021-11-14T16:03:24.710Z"
   },
   {
    "duration": 58,
    "start_time": "2021-11-14T16:03:32.797Z"
   },
   {
    "duration": 4,
    "start_time": "2021-11-14T16:04:18.103Z"
   },
   {
    "duration": 14,
    "start_time": "2021-11-14T16:04:21.602Z"
   },
   {
    "duration": 57,
    "start_time": "2021-11-14T16:04:24.497Z"
   },
   {
    "duration": 332,
    "start_time": "2021-11-15T08:48:21.406Z"
   },
   {
    "duration": 789,
    "start_time": "2021-11-15T08:53:30.978Z"
   },
   {
    "duration": 188,
    "start_time": "2021-11-15T08:53:31.769Z"
   },
   {
    "duration": 26,
    "start_time": "2021-11-15T08:53:31.960Z"
   },
   {
    "duration": 34,
    "start_time": "2021-11-15T08:53:31.989Z"
   },
   {
    "duration": 5,
    "start_time": "2021-11-15T08:53:32.025Z"
   },
   {
    "duration": 30,
    "start_time": "2021-11-15T08:53:32.067Z"
   },
   {
    "duration": 5,
    "start_time": "2021-11-15T08:53:32.099Z"
   },
   {
    "duration": 34,
    "start_time": "2021-11-15T08:53:32.108Z"
   },
   {
    "duration": 47,
    "start_time": "2021-11-15T08:53:32.144Z"
   },
   {
    "duration": 31,
    "start_time": "2021-11-15T08:53:32.194Z"
   },
   {
    "duration": 120,
    "start_time": "2021-11-15T08:53:32.228Z"
   },
   {
    "duration": 122,
    "start_time": "2021-11-15T08:53:32.351Z"
   },
   {
    "duration": 77,
    "start_time": "2021-11-15T08:53:32.475Z"
   },
   {
    "duration": 63,
    "start_time": "2021-11-15T08:53:32.567Z"
   },
   {
    "duration": 5,
    "start_time": "2021-11-15T08:53:32.632Z"
   },
   {
    "duration": 39,
    "start_time": "2021-11-15T08:53:32.640Z"
   },
   {
    "duration": 15,
    "start_time": "2021-11-15T08:53:32.681Z"
   },
   {
    "duration": 11,
    "start_time": "2021-11-15T08:53:32.698Z"
   },
   {
    "duration": 5,
    "start_time": "2021-11-15T08:53:32.711Z"
   },
   {
    "duration": 5,
    "start_time": "2021-11-15T08:53:32.719Z"
   },
   {
    "duration": 6,
    "start_time": "2021-11-15T08:53:32.726Z"
   },
   {
    "duration": 10,
    "start_time": "2021-11-15T08:53:32.734Z"
   },
   {
    "duration": 22,
    "start_time": "2021-11-15T08:53:32.749Z"
   },
   {
    "duration": 8,
    "start_time": "2021-11-15T08:53:32.774Z"
   },
   {
    "duration": 7,
    "start_time": "2021-11-15T08:53:32.784Z"
   },
   {
    "duration": 8,
    "start_time": "2021-11-15T08:53:32.793Z"
   },
   {
    "duration": 7,
    "start_time": "2021-11-15T08:53:32.803Z"
   },
   {
    "duration": 8,
    "start_time": "2021-11-15T08:53:32.812Z"
   },
   {
    "duration": 8,
    "start_time": "2021-11-15T08:53:32.822Z"
   },
   {
    "duration": 35,
    "start_time": "2021-11-15T08:53:32.832Z"
   },
   {
    "duration": 3,
    "start_time": "2021-11-15T08:53:32.869Z"
   },
   {
    "duration": 6,
    "start_time": "2021-11-15T08:53:32.874Z"
   },
   {
    "duration": 8,
    "start_time": "2021-11-15T08:53:32.882Z"
   },
   {
    "duration": 5,
    "start_time": "2021-11-15T08:53:32.892Z"
   },
   {
    "duration": 11,
    "start_time": "2021-11-15T08:53:32.900Z"
   },
   {
    "duration": 6,
    "start_time": "2021-11-15T08:53:32.913Z"
   },
   {
    "duration": 7,
    "start_time": "2021-11-15T08:53:32.921Z"
   },
   {
    "duration": 6,
    "start_time": "2021-11-15T08:53:32.930Z"
   },
   {
    "duration": 60,
    "start_time": "2021-11-15T08:56:00.580Z"
   },
   {
    "duration": 316,
    "start_time": "2021-11-15T09:08:00.631Z"
   },
   {
    "duration": 6,
    "start_time": "2021-11-15T09:08:08.474Z"
   },
   {
    "duration": 7,
    "start_time": "2021-11-15T09:08:18.846Z"
   },
   {
    "duration": 8,
    "start_time": "2021-11-15T09:09:28.132Z"
   },
   {
    "duration": 5,
    "start_time": "2021-11-15T09:09:39.127Z"
   },
   {
    "duration": 4,
    "start_time": "2021-11-15T09:10:49.685Z"
   },
   {
    "duration": 201,
    "start_time": "2021-11-15T09:10:49.695Z"
   },
   {
    "duration": 17,
    "start_time": "2021-11-15T09:10:49.899Z"
   },
   {
    "duration": 58,
    "start_time": "2021-11-15T09:10:49.919Z"
   },
   {
    "duration": 6,
    "start_time": "2021-11-15T09:10:49.980Z"
   },
   {
    "duration": 36,
    "start_time": "2021-11-15T09:10:49.989Z"
   },
   {
    "duration": 5,
    "start_time": "2021-11-15T09:10:50.028Z"
   },
   {
    "duration": 31,
    "start_time": "2021-11-15T09:10:50.067Z"
   },
   {
    "duration": 23,
    "start_time": "2021-11-15T09:10:50.102Z"
   },
   {
    "duration": 65,
    "start_time": "2021-11-15T09:10:50.128Z"
   },
   {
    "duration": 103,
    "start_time": "2021-11-15T09:10:50.196Z"
   },
   {
    "duration": 99,
    "start_time": "2021-11-15T09:10:50.301Z"
   },
   {
    "duration": 88,
    "start_time": "2021-11-15T09:10:50.403Z"
   },
   {
    "duration": 59,
    "start_time": "2021-11-15T09:10:50.493Z"
   },
   {
    "duration": 4,
    "start_time": "2021-11-15T09:10:50.567Z"
   },
   {
    "duration": 23,
    "start_time": "2021-11-15T09:10:50.573Z"
   },
   {
    "duration": 75,
    "start_time": "2021-11-15T09:10:50.598Z"
   },
   {
    "duration": 12,
    "start_time": "2021-11-15T09:10:50.675Z"
   },
   {
    "duration": 9,
    "start_time": "2021-11-15T09:10:50.689Z"
   },
   {
    "duration": 23,
    "start_time": "2021-11-15T09:10:50.701Z"
   },
   {
    "duration": 18,
    "start_time": "2021-11-15T09:10:50.726Z"
   },
   {
    "duration": 13,
    "start_time": "2021-11-15T09:10:50.747Z"
   },
   {
    "duration": 8,
    "start_time": "2021-11-15T09:10:50.763Z"
   },
   {
    "duration": 8,
    "start_time": "2021-11-15T09:10:50.777Z"
   },
   {
    "duration": 17,
    "start_time": "2021-11-15T09:10:50.787Z"
   },
   {
    "duration": 31,
    "start_time": "2021-11-15T09:10:50.807Z"
   },
   {
    "duration": 11,
    "start_time": "2021-11-15T09:10:50.840Z"
   },
   {
    "duration": 8,
    "start_time": "2021-11-15T09:10:50.853Z"
   },
   {
    "duration": 11,
    "start_time": "2021-11-15T09:10:50.863Z"
   },
   {
    "duration": 30,
    "start_time": "2021-11-15T09:10:50.877Z"
   },
   {
    "duration": 19,
    "start_time": "2021-11-15T09:10:50.910Z"
   },
   {
    "duration": 7,
    "start_time": "2021-11-15T09:10:50.932Z"
   },
   {
    "duration": 17,
    "start_time": "2021-11-15T09:10:50.942Z"
   },
   {
    "duration": 21,
    "start_time": "2021-11-15T09:10:50.962Z"
   },
   {
    "duration": 16,
    "start_time": "2021-11-15T09:10:50.985Z"
   },
   {
    "duration": 14,
    "start_time": "2021-11-15T09:10:51.003Z"
   },
   {
    "duration": 14,
    "start_time": "2021-11-15T09:10:51.019Z"
   },
   {
    "duration": 13,
    "start_time": "2021-11-15T09:10:51.036Z"
   },
   {
    "duration": 7,
    "start_time": "2021-11-15T09:11:35.857Z"
   },
   {
    "duration": 6,
    "start_time": "2021-11-15T09:12:37.496Z"
   },
   {
    "duration": 8,
    "start_time": "2021-11-15T09:13:27.556Z"
   },
   {
    "duration": 6,
    "start_time": "2021-11-15T09:13:31.545Z"
   },
   {
    "duration": 5,
    "start_time": "2021-11-15T09:13:39.865Z"
   },
   {
    "duration": 6,
    "start_time": "2021-11-15T09:14:15.355Z"
   },
   {
    "duration": 8179,
    "start_time": "2021-11-15T09:15:51.053Z"
   },
   {
    "duration": 8048,
    "start_time": "2021-11-15T09:16:21.326Z"
   },
   {
    "duration": 43,
    "start_time": "2021-11-15T09:16:44.232Z"
   },
   {
    "duration": 14,
    "start_time": "2021-11-15T09:17:42.116Z"
   },
   {
    "duration": 41,
    "start_time": "2021-11-15T09:18:15.774Z"
   },
   {
    "duration": 693,
    "start_time": "2021-11-15T09:19:10.149Z"
   },
   {
    "duration": 707,
    "start_time": "2021-11-15T09:19:47.802Z"
   },
   {
    "duration": 14,
    "start_time": "2021-11-15T09:20:07.912Z"
   },
   {
    "duration": 41,
    "start_time": "2021-11-15T09:20:41.985Z"
   },
   {
    "duration": 4,
    "start_time": "2021-11-15T09:23:56.963Z"
   },
   {
    "duration": 4,
    "start_time": "2021-11-15T09:24:03.613Z"
   },
   {
    "duration": 41,
    "start_time": "2021-11-15T09:24:08.244Z"
   },
   {
    "duration": 46,
    "start_time": "2021-11-15T09:25:56.898Z"
   },
   {
    "duration": 4,
    "start_time": "2021-11-15T09:35:20.150Z"
   },
   {
    "duration": 6985,
    "start_time": "2021-11-15T09:35:22.799Z"
   },
   {
    "duration": 4,
    "start_time": "2021-11-15T09:35:52.163Z"
   },
   {
    "duration": 18,
    "start_time": "2021-11-15T09:35:55.153Z"
   },
   {
    "duration": 6,
    "start_time": "2021-11-15T09:36:37.103Z"
   },
   {
    "duration": 299,
    "start_time": "2021-11-15T09:40:11.205Z"
   },
   {
    "duration": 5,
    "start_time": "2021-11-15T09:40:31.325Z"
   },
   {
    "duration": 22,
    "start_time": "2021-11-15T09:40:37.492Z"
   },
   {
    "duration": 286,
    "start_time": "2021-11-15T09:41:10.424Z"
   },
   {
    "duration": 31,
    "start_time": "2021-11-15T09:42:00.863Z"
   },
   {
    "duration": 25,
    "start_time": "2021-11-15T09:42:29.195Z"
   },
   {
    "duration": 30,
    "start_time": "2021-11-15T09:42:44.118Z"
   },
   {
    "duration": 30,
    "start_time": "2021-11-15T09:43:03.062Z"
   },
   {
    "duration": 31,
    "start_time": "2021-11-15T09:43:10.927Z"
   },
   {
    "duration": 25,
    "start_time": "2021-11-15T09:43:37.605Z"
   },
   {
    "duration": 29,
    "start_time": "2021-11-15T09:44:06.749Z"
   },
   {
    "duration": 25,
    "start_time": "2021-11-15T09:44:33.619Z"
   },
   {
    "duration": 4,
    "start_time": "2021-11-15T09:46:03.046Z"
   },
   {
    "duration": 4,
    "start_time": "2021-11-15T09:46:44.691Z"
   },
   {
    "duration": 547,
    "start_time": "2021-11-15T09:46:49.997Z"
   },
   {
    "duration": 5,
    "start_time": "2021-11-15T09:50:10.470Z"
   },
   {
    "duration": 31,
    "start_time": "2021-11-15T09:50:22.886Z"
   },
   {
    "duration": 4,
    "start_time": "2021-11-15T09:51:29.932Z"
   },
   {
    "duration": 5,
    "start_time": "2021-11-15T09:51:36.611Z"
   },
   {
    "duration": 575,
    "start_time": "2021-11-15T09:51:44.153Z"
   },
   {
    "duration": 5,
    "start_time": "2021-11-15T09:52:24.875Z"
   },
   {
    "duration": 5,
    "start_time": "2021-11-15T09:52:28.522Z"
   },
   {
    "duration": 21,
    "start_time": "2021-11-15T09:52:33.475Z"
   },
   {
    "duration": 20,
    "start_time": "2021-11-15T09:52:36.913Z"
   },
   {
    "duration": 21,
    "start_time": "2021-11-15T09:52:39.887Z"
   },
   {
    "duration": 21,
    "start_time": "2021-11-15T09:52:42.701Z"
   },
   {
    "duration": 22,
    "start_time": "2021-11-15T09:52:45.469Z"
   },
   {
    "duration": 21,
    "start_time": "2021-11-15T09:52:53.578Z"
   },
   {
    "duration": 333,
    "start_time": "2021-11-15T09:54:22.888Z"
   },
   {
    "duration": 269,
    "start_time": "2021-11-15T09:55:28.957Z"
   },
   {
    "duration": 271,
    "start_time": "2021-11-15T09:57:49.805Z"
   },
   {
    "duration": 271,
    "start_time": "2021-11-15T09:58:02.664Z"
   },
   {
    "duration": 284,
    "start_time": "2021-11-15T09:58:46.682Z"
   },
   {
    "duration": 12,
    "start_time": "2021-11-15T10:05:55.301Z"
   },
   {
    "duration": 30,
    "start_time": "2021-11-15T10:12:44.867Z"
   },
   {
    "duration": 42,
    "start_time": "2021-11-15T10:13:37.680Z"
   },
   {
    "duration": 27,
    "start_time": "2021-11-15T10:13:49.885Z"
   },
   {
    "duration": 15,
    "start_time": "2021-11-15T10:14:12.461Z"
   },
   {
    "duration": 13,
    "start_time": "2021-11-15T10:14:16.668Z"
   },
   {
    "duration": 84,
    "start_time": "2021-11-15T10:19:02.517Z"
   },
   {
    "duration": 90,
    "start_time": "2021-11-15T10:19:12.118Z"
   },
   {
    "duration": 5,
    "start_time": "2021-11-15T10:19:45.737Z"
   },
   {
    "duration": 5,
    "start_time": "2021-11-15T10:19:49.820Z"
   },
   {
    "duration": 6,
    "start_time": "2021-11-15T10:26:05.487Z"
   },
   {
    "duration": 518,
    "start_time": "2021-11-15T10:27:10.818Z"
   },
   {
    "duration": 16,
    "start_time": "2021-11-15T10:28:35.141Z"
   },
   {
    "duration": 34,
    "start_time": "2021-11-15T10:28:43.987Z"
   },
   {
    "duration": 5,
    "start_time": "2021-11-15T10:30:23.669Z"
   },
   {
    "duration": 535,
    "start_time": "2021-11-15T10:30:27.008Z"
   },
   {
    "duration": 3,
    "start_time": "2021-11-15T10:30:53.120Z"
   },
   {
    "duration": 203,
    "start_time": "2021-11-15T10:30:53.136Z"
   },
   {
    "duration": 28,
    "start_time": "2021-11-15T10:30:53.342Z"
   },
   {
    "duration": 33,
    "start_time": "2021-11-15T10:30:53.373Z"
   },
   {
    "duration": 4,
    "start_time": "2021-11-15T10:30:53.410Z"
   },
   {
    "duration": 67,
    "start_time": "2021-11-15T10:30:53.416Z"
   },
   {
    "duration": 5,
    "start_time": "2021-11-15T10:30:53.485Z"
   },
   {
    "duration": 35,
    "start_time": "2021-11-15T10:30:53.493Z"
   },
   {
    "duration": 55,
    "start_time": "2021-11-15T10:30:53.533Z"
   },
   {
    "duration": 29,
    "start_time": "2021-11-15T10:30:53.591Z"
   },
   {
    "duration": 113,
    "start_time": "2021-11-15T10:30:53.622Z"
   },
   {
    "duration": 113,
    "start_time": "2021-11-15T10:30:53.738Z"
   },
   {
    "duration": 83,
    "start_time": "2021-11-15T10:30:53.853Z"
   },
   {
    "duration": 72,
    "start_time": "2021-11-15T10:30:53.939Z"
   },
   {
    "duration": 4,
    "start_time": "2021-11-15T10:30:54.014Z"
   },
   {
    "duration": 28,
    "start_time": "2021-11-15T10:30:54.020Z"
   },
   {
    "duration": 5,
    "start_time": "2021-11-15T10:30:54.067Z"
   },
   {
    "duration": 67,
    "start_time": "2021-11-15T10:30:54.074Z"
   },
   {
    "duration": 50,
    "start_time": "2021-11-15T10:30:54.143Z"
   },
   {
    "duration": 5,
    "start_time": "2021-11-15T10:30:54.195Z"
   },
   {
    "duration": 30,
    "start_time": "2021-11-15T10:30:54.202Z"
   },
   {
    "duration": 35,
    "start_time": "2021-11-15T10:30:54.234Z"
   },
   {
    "duration": 23,
    "start_time": "2021-11-15T10:30:54.271Z"
   },
   {
    "duration": 20,
    "start_time": "2021-11-15T10:30:54.298Z"
   },
   {
    "duration": 59,
    "start_time": "2021-11-15T10:30:54.320Z"
   },
   {
    "duration": 21,
    "start_time": "2021-11-15T10:30:54.381Z"
   },
   {
    "duration": 13,
    "start_time": "2021-11-15T10:30:54.405Z"
   },
   {
    "duration": 57,
    "start_time": "2021-11-15T10:30:54.421Z"
   },
   {
    "duration": 16,
    "start_time": "2021-11-15T10:30:54.481Z"
   },
   {
    "duration": 7,
    "start_time": "2021-11-15T10:30:54.499Z"
   },
   {
    "duration": 519,
    "start_time": "2021-11-15T10:30:54.508Z"
   },
   {
    "duration": -2897,
    "start_time": "2021-11-15T10:30:57.927Z"
   },
   {
    "duration": -2918,
    "start_time": "2021-11-15T10:30:57.949Z"
   },
   {
    "duration": -2933,
    "start_time": "2021-11-15T10:30:57.966Z"
   },
   {
    "duration": -2949,
    "start_time": "2021-11-15T10:30:57.983Z"
   },
   {
    "duration": -2990,
    "start_time": "2021-11-15T10:30:58.026Z"
   },
   {
    "duration": -3009,
    "start_time": "2021-11-15T10:30:58.046Z"
   },
   {
    "duration": -3028,
    "start_time": "2021-11-15T10:30:58.066Z"
   },
   {
    "duration": 582,
    "start_time": "2021-11-15T10:31:19.712Z"
   },
   {
    "duration": 6,
    "start_time": "2021-11-15T10:31:57.696Z"
   },
   {
    "duration": 6,
    "start_time": "2021-11-15T10:32:02.492Z"
   },
   {
    "duration": 19,
    "start_time": "2021-11-15T10:32:10.074Z"
   },
   {
    "duration": 23,
    "start_time": "2021-11-15T10:32:24.150Z"
   },
   {
    "duration": 26,
    "start_time": "2021-11-15T10:32:34.654Z"
   },
   {
    "duration": 18,
    "start_time": "2021-11-15T10:33:33.239Z"
   },
   {
    "duration": 26,
    "start_time": "2021-11-15T10:34:19.662Z"
   },
   {
    "duration": 23,
    "start_time": "2021-11-15T10:34:32.531Z"
   },
   {
    "duration": 18,
    "start_time": "2021-11-15T10:34:44.870Z"
   },
   {
    "duration": 15,
    "start_time": "2021-11-15T10:37:00.628Z"
   },
   {
    "duration": 17,
    "start_time": "2021-11-15T10:37:07.549Z"
   },
   {
    "duration": 3,
    "start_time": "2021-11-15T10:37:13.612Z"
   },
   {
    "duration": 203,
    "start_time": "2021-11-15T10:37:13.622Z"
   },
   {
    "duration": 15,
    "start_time": "2021-11-15T10:37:13.828Z"
   },
   {
    "duration": 50,
    "start_time": "2021-11-15T10:37:13.846Z"
   },
   {
    "duration": 7,
    "start_time": "2021-11-15T10:37:13.900Z"
   },
   {
    "duration": 65,
    "start_time": "2021-11-15T10:37:13.910Z"
   },
   {
    "duration": 6,
    "start_time": "2021-11-15T10:37:13.977Z"
   },
   {
    "duration": 32,
    "start_time": "2021-11-15T10:37:13.985Z"
   },
   {
    "duration": 51,
    "start_time": "2021-11-15T10:37:14.021Z"
   },
   {
    "duration": 29,
    "start_time": "2021-11-15T10:37:14.075Z"
   },
   {
    "duration": 116,
    "start_time": "2021-11-15T10:37:14.107Z"
   },
   {
    "duration": 122,
    "start_time": "2021-11-15T10:37:14.226Z"
   },
   {
    "duration": 89,
    "start_time": "2021-11-15T10:37:14.351Z"
   },
   {
    "duration": 77,
    "start_time": "2021-11-15T10:37:14.443Z"
   },
   {
    "duration": 4,
    "start_time": "2021-11-15T10:37:14.523Z"
   },
   {
    "duration": 38,
    "start_time": "2021-11-15T10:37:14.530Z"
   },
   {
    "duration": 6,
    "start_time": "2021-11-15T10:37:14.571Z"
   },
   {
    "duration": 47,
    "start_time": "2021-11-15T10:37:14.579Z"
   },
   {
    "duration": 74,
    "start_time": "2021-11-15T10:37:14.629Z"
   },
   {
    "duration": 6,
    "start_time": "2021-11-15T10:37:14.706Z"
   },
   {
    "duration": 51,
    "start_time": "2021-11-15T10:37:14.715Z"
   },
   {
    "duration": 22,
    "start_time": "2021-11-15T10:37:14.769Z"
   },
   {
    "duration": 23,
    "start_time": "2021-11-15T10:37:14.794Z"
   },
   {
    "duration": 50,
    "start_time": "2021-11-15T10:37:14.823Z"
   },
   {
    "duration": 24,
    "start_time": "2021-11-15T10:37:14.877Z"
   },
   {
    "duration": 22,
    "start_time": "2021-11-15T10:37:14.904Z"
   },
   {
    "duration": 49,
    "start_time": "2021-11-15T10:37:14.928Z"
   },
   {
    "duration": 17,
    "start_time": "2021-11-15T10:37:14.980Z"
   },
   {
    "duration": 16,
    "start_time": "2021-11-15T10:37:15.000Z"
   },
   {
    "duration": 18,
    "start_time": "2021-11-15T10:37:15.019Z"
   },
   {
    "duration": 35,
    "start_time": "2021-11-15T10:37:15.067Z"
   },
   {
    "duration": 17,
    "start_time": "2021-11-15T10:37:15.104Z"
   },
   {
    "duration": 45,
    "start_time": "2021-11-15T10:37:15.123Z"
   },
   {
    "duration": 23,
    "start_time": "2021-11-15T10:37:15.171Z"
   },
   {
    "duration": 4,
    "start_time": "2021-11-15T10:37:15.197Z"
   },
   {
    "duration": 6,
    "start_time": "2021-11-15T10:37:15.203Z"
   },
   {
    "duration": 5,
    "start_time": "2021-11-15T10:37:15.212Z"
   },
   {
    "duration": 7,
    "start_time": "2021-11-15T10:37:15.220Z"
   },
   {
    "duration": 6,
    "start_time": "2021-11-15T10:38:57.909Z"
   },
   {
    "duration": 42,
    "start_time": "2021-11-15T10:39:03.767Z"
   },
   {
    "duration": 13,
    "start_time": "2021-11-15T10:39:26.216Z"
   },
   {
    "duration": 14,
    "start_time": "2021-11-15T10:39:58.202Z"
   },
   {
    "duration": 13,
    "start_time": "2021-11-15T10:40:30.494Z"
   },
   {
    "duration": 4,
    "start_time": "2021-11-15T10:40:56.011Z"
   },
   {
    "duration": 3,
    "start_time": "2021-11-15T10:41:02.637Z"
   },
   {
    "duration": 291,
    "start_time": "2021-11-15T10:41:02.654Z"
   },
   {
    "duration": 30,
    "start_time": "2021-11-15T10:41:02.948Z"
   },
   {
    "duration": 56,
    "start_time": "2021-11-15T10:41:02.981Z"
   },
   {
    "duration": 6,
    "start_time": "2021-11-15T10:41:03.040Z"
   },
   {
    "duration": 42,
    "start_time": "2021-11-15T10:41:03.048Z"
   },
   {
    "duration": 5,
    "start_time": "2021-11-15T10:41:03.093Z"
   },
   {
    "duration": 73,
    "start_time": "2021-11-15T10:41:03.100Z"
   },
   {
    "duration": 26,
    "start_time": "2021-11-15T10:41:03.177Z"
   },
   {
    "duration": 32,
    "start_time": "2021-11-15T10:41:03.206Z"
   },
   {
    "duration": 109,
    "start_time": "2021-11-15T10:41:03.268Z"
   },
   {
    "duration": 139,
    "start_time": "2021-11-15T10:41:03.380Z"
   },
   {
    "duration": 94,
    "start_time": "2021-11-15T10:41:03.521Z"
   },
   {
    "duration": 72,
    "start_time": "2021-11-15T10:41:03.618Z"
   },
   {
    "duration": 4,
    "start_time": "2021-11-15T10:41:03.693Z"
   },
   {
    "duration": 25,
    "start_time": "2021-11-15T10:41:03.699Z"
   },
   {
    "duration": 7,
    "start_time": "2021-11-15T10:41:03.727Z"
   },
   {
    "duration": 48,
    "start_time": "2021-11-15T10:41:03.768Z"
   },
   {
    "duration": 65,
    "start_time": "2021-11-15T10:41:03.819Z"
   },
   {
    "duration": 5,
    "start_time": "2021-11-15T10:41:03.887Z"
   },
   {
    "duration": 33,
    "start_time": "2021-11-15T10:41:03.894Z"
   },
   {
    "duration": 51,
    "start_time": "2021-11-15T10:41:03.930Z"
   },
   {
    "duration": 25,
    "start_time": "2021-11-15T10:41:03.984Z"
   },
   {
    "duration": 20,
    "start_time": "2021-11-15T10:41:04.014Z"
   },
   {
    "duration": 23,
    "start_time": "2021-11-15T10:41:04.068Z"
   },
   {
    "duration": 21,
    "start_time": "2021-11-15T10:41:04.093Z"
   },
   {
    "duration": 12,
    "start_time": "2021-11-15T10:41:04.116Z"
   },
   {
    "duration": 56,
    "start_time": "2021-11-15T10:41:04.130Z"
   },
   {
    "duration": 13,
    "start_time": "2021-11-15T10:41:04.189Z"
   },
   {
    "duration": 7,
    "start_time": "2021-11-15T10:41:04.204Z"
   },
   {
    "duration": 38,
    "start_time": "2021-11-15T10:41:04.213Z"
   },
   {
    "duration": 18,
    "start_time": "2021-11-15T10:41:04.268Z"
   },
   {
    "duration": 22,
    "start_time": "2021-11-15T10:41:04.289Z"
   },
   {
    "duration": 16,
    "start_time": "2021-11-15T10:41:04.313Z"
   },
   {
    "duration": 11,
    "start_time": "2021-11-15T10:41:04.367Z"
   },
   {
    "duration": 8,
    "start_time": "2021-11-15T10:41:04.381Z"
   },
   {
    "duration": 4,
    "start_time": "2021-11-15T10:41:04.392Z"
   },
   {
    "duration": 14,
    "start_time": "2021-11-15T10:41:04.399Z"
   },
   {
    "duration": 8,
    "start_time": "2021-11-15T10:42:35.544Z"
   },
   {
    "duration": 6,
    "start_time": "2021-11-15T10:42:46.984Z"
   },
   {
    "duration": 4,
    "start_time": "2021-11-15T10:45:05.948Z"
   },
   {
    "duration": 188,
    "start_time": "2021-11-15T10:45:05.992Z"
   },
   {
    "duration": 15,
    "start_time": "2021-11-15T10:45:06.183Z"
   },
   {
    "duration": 37,
    "start_time": "2021-11-15T10:45:06.201Z"
   },
   {
    "duration": 7,
    "start_time": "2021-11-15T10:45:06.266Z"
   },
   {
    "duration": 26,
    "start_time": "2021-11-15T10:45:06.276Z"
   },
   {
    "duration": 7,
    "start_time": "2021-11-15T10:45:06.304Z"
   },
   {
    "duration": 76,
    "start_time": "2021-11-15T10:45:06.316Z"
   },
   {
    "duration": 27,
    "start_time": "2021-11-15T10:45:06.395Z"
   },
   {
    "duration": 63,
    "start_time": "2021-11-15T10:45:06.425Z"
   },
   {
    "duration": 115,
    "start_time": "2021-11-15T10:45:06.492Z"
   },
   {
    "duration": 114,
    "start_time": "2021-11-15T10:45:06.609Z"
   },
   {
    "duration": 91,
    "start_time": "2021-11-15T10:45:06.727Z"
   },
   {
    "duration": 68,
    "start_time": "2021-11-15T10:45:06.821Z"
   },
   {
    "duration": 5,
    "start_time": "2021-11-15T10:45:06.891Z"
   },
   {
    "duration": 23,
    "start_time": "2021-11-15T10:45:06.898Z"
   },
   {
    "duration": 6,
    "start_time": "2021-11-15T10:45:06.924Z"
   },
   {
    "duration": 45,
    "start_time": "2021-11-15T10:45:06.968Z"
   },
   {
    "duration": 58,
    "start_time": "2021-11-15T10:45:07.015Z"
   },
   {
    "duration": 4,
    "start_time": "2021-11-15T10:45:07.075Z"
   },
   {
    "duration": 26,
    "start_time": "2021-11-15T10:45:07.082Z"
   },
   {
    "duration": 22,
    "start_time": "2021-11-15T10:45:07.111Z"
   },
   {
    "duration": 49,
    "start_time": "2021-11-15T10:45:07.135Z"
   },
   {
    "duration": 19,
    "start_time": "2021-11-15T10:45:07.186Z"
   },
   {
    "duration": 22,
    "start_time": "2021-11-15T10:45:07.207Z"
   },
   {
    "duration": 49,
    "start_time": "2021-11-15T10:45:07.231Z"
   },
   {
    "duration": 12,
    "start_time": "2021-11-15T10:45:07.284Z"
   },
   {
    "duration": 18,
    "start_time": "2021-11-15T10:45:07.299Z"
   },
   {
    "duration": 49,
    "start_time": "2021-11-15T10:45:07.319Z"
   },
   {
    "duration": 8,
    "start_time": "2021-11-15T10:45:07.371Z"
   },
   {
    "duration": 29,
    "start_time": "2021-11-15T10:45:07.383Z"
   },
   {
    "duration": 19,
    "start_time": "2021-11-15T10:45:07.415Z"
   },
   {
    "duration": 25,
    "start_time": "2021-11-15T10:45:07.468Z"
   },
   {
    "duration": 19,
    "start_time": "2021-11-15T10:45:07.495Z"
   },
   {
    "duration": 12,
    "start_time": "2021-11-15T10:45:07.517Z"
   },
   {
    "duration": 7,
    "start_time": "2021-11-15T10:45:07.567Z"
   },
   {
    "duration": 11,
    "start_time": "2021-11-15T10:45:07.579Z"
   },
   {
    "duration": 6,
    "start_time": "2021-11-15T10:45:07.592Z"
   },
   {
    "duration": 15,
    "start_time": "2021-11-15T10:49:01.334Z"
   },
   {
    "duration": 15,
    "start_time": "2021-11-15T10:49:58.642Z"
   },
   {
    "duration": 5,
    "start_time": "2021-11-15T10:50:14.954Z"
   },
   {
    "duration": 3,
    "start_time": "2021-11-15T10:50:20.542Z"
   },
   {
    "duration": 200,
    "start_time": "2021-11-15T10:50:20.553Z"
   },
   {
    "duration": 16,
    "start_time": "2021-11-15T10:50:20.768Z"
   },
   {
    "duration": 60,
    "start_time": "2021-11-15T10:50:20.787Z"
   },
   {
    "duration": 8,
    "start_time": "2021-11-15T10:50:20.849Z"
   },
   {
    "duration": 37,
    "start_time": "2021-11-15T10:50:20.868Z"
   },
   {
    "duration": 6,
    "start_time": "2021-11-15T10:50:20.907Z"
   },
   {
    "duration": 57,
    "start_time": "2021-11-15T10:50:20.915Z"
   },
   {
    "duration": 24,
    "start_time": "2021-11-15T10:50:20.976Z"
   },
   {
    "duration": 32,
    "start_time": "2021-11-15T10:50:21.004Z"
   },
   {
    "duration": 113,
    "start_time": "2021-11-15T10:50:21.038Z"
   },
   {
    "duration": 106,
    "start_time": "2021-11-15T10:50:21.167Z"
   },
   {
    "duration": 79,
    "start_time": "2021-11-15T10:50:21.275Z"
   },
   {
    "duration": 65,
    "start_time": "2021-11-15T10:50:21.367Z"
   },
   {
    "duration": 8,
    "start_time": "2021-11-15T10:50:21.434Z"
   },
   {
    "duration": 34,
    "start_time": "2021-11-15T10:50:21.444Z"
   },
   {
    "duration": 17,
    "start_time": "2021-11-15T10:50:21.481Z"
   },
   {
    "duration": 23,
    "start_time": "2021-11-15T10:50:21.500Z"
   },
   {
    "duration": 14,
    "start_time": "2021-11-15T10:50:21.526Z"
   },
   {
    "duration": 25,
    "start_time": "2021-11-15T10:50:21.543Z"
   },
   {
    "duration": 42,
    "start_time": "2021-11-15T10:50:21.571Z"
   },
   {
    "duration": 20,
    "start_time": "2021-11-15T10:50:21.615Z"
   },
   {
    "duration": 31,
    "start_time": "2021-11-15T10:50:21.638Z"
   },
   {
    "duration": 19,
    "start_time": "2021-11-15T10:50:21.673Z"
   },
   {
    "duration": 23,
    "start_time": "2021-11-15T10:50:21.695Z"
   },
   {
    "duration": 54,
    "start_time": "2021-11-15T10:50:21.720Z"
   },
   {
    "duration": 13,
    "start_time": "2021-11-15T10:50:21.777Z"
   },
   {
    "duration": 21,
    "start_time": "2021-11-15T10:50:21.793Z"
   },
   {
    "duration": 14,
    "start_time": "2021-11-15T10:50:21.817Z"
   },
   {
    "duration": 6,
    "start_time": "2021-11-15T10:50:21.866Z"
   },
   {
    "duration": 35,
    "start_time": "2021-11-15T10:50:21.875Z"
   },
   {
    "duration": 17,
    "start_time": "2021-11-15T10:50:21.913Z"
   },
   {
    "duration": 47,
    "start_time": "2021-11-15T10:50:21.933Z"
   },
   {
    "duration": 16,
    "start_time": "2021-11-15T10:50:21.983Z"
   },
   {
    "duration": 13,
    "start_time": "2021-11-15T10:50:22.001Z"
   },
   {
    "duration": 6,
    "start_time": "2021-11-15T10:50:22.016Z"
   },
   {
    "duration": 50,
    "start_time": "2021-11-15T10:50:22.024Z"
   },
   {
    "duration": 10,
    "start_time": "2021-11-15T10:50:22.076Z"
   },
   {
    "duration": 766,
    "start_time": "2021-11-15T17:44:51.560Z"
   },
   {
    "duration": 197,
    "start_time": "2021-11-15T17:44:52.328Z"
   },
   {
    "duration": 32,
    "start_time": "2021-11-15T17:44:52.531Z"
   },
   {
    "duration": 42,
    "start_time": "2021-11-15T17:44:52.566Z"
   },
   {
    "duration": 5,
    "start_time": "2021-11-15T17:44:52.610Z"
   },
   {
    "duration": 47,
    "start_time": "2021-11-15T17:44:52.617Z"
   },
   {
    "duration": 4,
    "start_time": "2021-11-15T17:44:52.665Z"
   },
   {
    "duration": 25,
    "start_time": "2021-11-15T17:44:52.672Z"
   },
   {
    "duration": 16,
    "start_time": "2021-11-15T17:44:52.699Z"
   },
   {
    "duration": 48,
    "start_time": "2021-11-15T17:44:52.717Z"
   },
   {
    "duration": 56,
    "start_time": "2021-11-15T17:44:52.767Z"
   },
   {
    "duration": 97,
    "start_time": "2021-11-15T17:44:52.825Z"
   },
   {
    "duration": 60,
    "start_time": "2021-11-15T17:44:52.924Z"
   },
   {
    "duration": 38,
    "start_time": "2021-11-15T17:44:52.986Z"
   },
   {
    "duration": 3,
    "start_time": "2021-11-15T17:44:53.027Z"
   },
   {
    "duration": 35,
    "start_time": "2021-11-15T17:44:53.032Z"
   },
   {
    "duration": 5,
    "start_time": "2021-11-15T17:44:53.069Z"
   },
   {
    "duration": 15,
    "start_time": "2021-11-15T17:44:53.075Z"
   },
   {
    "duration": 15,
    "start_time": "2021-11-15T17:44:53.094Z"
   },
   {
    "duration": 4,
    "start_time": "2021-11-15T17:44:53.111Z"
   },
   {
    "duration": 48,
    "start_time": "2021-11-15T17:44:53.117Z"
   },
   {
    "duration": 18,
    "start_time": "2021-11-15T17:44:53.167Z"
   },
   {
    "duration": 18,
    "start_time": "2021-11-15T17:44:53.187Z"
   },
   {
    "duration": 14,
    "start_time": "2021-11-15T17:44:53.207Z"
   },
   {
    "duration": 43,
    "start_time": "2021-11-15T17:44:53.222Z"
   },
   {
    "duration": 20,
    "start_time": "2021-11-15T17:44:53.269Z"
   },
   {
    "duration": 11,
    "start_time": "2021-11-15T17:44:53.292Z"
   },
   {
    "duration": 19,
    "start_time": "2021-11-15T17:44:53.305Z"
   },
   {
    "duration": 37,
    "start_time": "2021-11-15T17:44:53.326Z"
   },
   {
    "duration": 4,
    "start_time": "2021-11-15T17:44:53.365Z"
   },
   {
    "duration": 24,
    "start_time": "2021-11-15T17:44:53.370Z"
   },
   {
    "duration": 12,
    "start_time": "2021-11-15T17:44:53.396Z"
   },
   {
    "duration": 26,
    "start_time": "2021-11-15T17:44:53.410Z"
   },
   {
    "duration": 35,
    "start_time": "2021-11-15T17:44:53.437Z"
   },
   {
    "duration": 9,
    "start_time": "2021-11-15T17:44:53.474Z"
   },
   {
    "duration": 4,
    "start_time": "2021-11-15T17:44:53.485Z"
   },
   {
    "duration": 13,
    "start_time": "2021-11-15T17:44:53.490Z"
   },
   {
    "duration": 5,
    "start_time": "2021-11-15T17:44:53.505Z"
   },
   {
    "duration": 666,
    "start_time": "2021-11-15T18:52:21.939Z"
   },
   {
    "duration": 159,
    "start_time": "2021-11-15T18:52:22.607Z"
   },
   {
    "duration": 19,
    "start_time": "2021-11-15T18:52:22.769Z"
   },
   {
    "duration": 26,
    "start_time": "2021-11-15T18:52:22.790Z"
   },
   {
    "duration": 4,
    "start_time": "2021-11-15T18:52:22.818Z"
   },
   {
    "duration": 46,
    "start_time": "2021-11-15T18:52:22.824Z"
   },
   {
    "duration": 4,
    "start_time": "2021-11-15T18:52:22.872Z"
   },
   {
    "duration": 25,
    "start_time": "2021-11-15T18:52:22.878Z"
   },
   {
    "duration": 18,
    "start_time": "2021-11-15T18:52:22.906Z"
   },
   {
    "duration": 42,
    "start_time": "2021-11-15T18:52:22.926Z"
   },
   {
    "duration": 60,
    "start_time": "2021-11-15T18:52:22.971Z"
   },
   {
    "duration": 93,
    "start_time": "2021-11-15T18:52:23.034Z"
   },
   {
    "duration": 59,
    "start_time": "2021-11-15T18:52:23.129Z"
   },
   {
    "duration": 41,
    "start_time": "2021-11-15T18:52:23.190Z"
   },
   {
    "duration": 60,
    "start_time": "2021-11-15T18:52:23.233Z"
   },
   {
    "duration": 4,
    "start_time": "2021-11-15T18:52:23.295Z"
   },
   {
    "duration": 15,
    "start_time": "2021-11-15T18:52:23.301Z"
   },
   {
    "duration": 4,
    "start_time": "2021-11-15T18:52:23.318Z"
   },
   {
    "duration": 12,
    "start_time": "2021-11-15T18:52:23.323Z"
   },
   {
    "duration": 10,
    "start_time": "2021-11-15T18:52:23.364Z"
   },
   {
    "duration": 3,
    "start_time": "2021-11-15T18:52:23.376Z"
   },
   {
    "duration": 29,
    "start_time": "2021-11-15T18:52:23.381Z"
   },
   {
    "duration": 17,
    "start_time": "2021-11-15T18:52:23.412Z"
   },
   {
    "duration": 48,
    "start_time": "2021-11-15T18:52:23.431Z"
   },
   {
    "duration": 15,
    "start_time": "2021-11-15T18:52:23.481Z"
   },
   {
    "duration": 19,
    "start_time": "2021-11-15T18:52:23.498Z"
   },
   {
    "duration": 50,
    "start_time": "2021-11-15T18:52:23.521Z"
   },
   {
    "duration": 11,
    "start_time": "2021-11-15T18:52:23.573Z"
   },
   {
    "duration": 13,
    "start_time": "2021-11-15T18:52:23.586Z"
   },
   {
    "duration": 9,
    "start_time": "2021-11-15T18:52:23.600Z"
   },
   {
    "duration": 4,
    "start_time": "2021-11-15T18:52:23.611Z"
   },
   {
    "duration": 53,
    "start_time": "2021-11-15T18:52:23.617Z"
   },
   {
    "duration": 15,
    "start_time": "2021-11-15T18:52:23.673Z"
   },
   {
    "duration": 18,
    "start_time": "2021-11-15T18:52:23.689Z"
   },
   {
    "duration": 12,
    "start_time": "2021-11-15T18:52:23.710Z"
   },
   {
    "duration": 41,
    "start_time": "2021-11-15T18:52:23.724Z"
   },
   {
    "duration": 4,
    "start_time": "2021-11-15T18:52:23.766Z"
   },
   {
    "duration": 9,
    "start_time": "2021-11-15T18:52:23.772Z"
   },
   {
    "duration": 6,
    "start_time": "2021-11-15T18:52:23.783Z"
   },
   {
    "duration": 39,
    "start_time": "2021-11-15T19:02:42.933Z"
   },
   {
    "duration": 11,
    "start_time": "2021-11-15T19:20:29.865Z"
   },
   {
    "duration": 11,
    "start_time": "2021-11-15T19:20:36.443Z"
   },
   {
    "duration": 15,
    "start_time": "2021-11-15T19:20:42.052Z"
   },
   {
    "duration": 616,
    "start_time": "2021-11-15T20:05:50.037Z"
   },
   {
    "duration": 143,
    "start_time": "2021-11-15T20:05:50.655Z"
   },
   {
    "duration": 17,
    "start_time": "2021-11-15T20:05:50.800Z"
   },
   {
    "duration": 31,
    "start_time": "2021-11-15T20:05:50.819Z"
   },
   {
    "duration": 12,
    "start_time": "2021-11-15T20:05:50.852Z"
   },
   {
    "duration": 27,
    "start_time": "2021-11-15T20:05:50.866Z"
   },
   {
    "duration": 8,
    "start_time": "2021-11-15T20:05:50.894Z"
   },
   {
    "duration": 61,
    "start_time": "2021-11-15T20:05:50.905Z"
   },
   {
    "duration": 29,
    "start_time": "2021-11-15T20:05:50.969Z"
   },
   {
    "duration": 42,
    "start_time": "2021-11-15T20:05:51.000Z"
   },
   {
    "duration": 120,
    "start_time": "2021-11-15T20:05:51.044Z"
   },
   {
    "duration": 121,
    "start_time": "2021-11-15T20:05:51.166Z"
   },
   {
    "duration": 90,
    "start_time": "2021-11-15T20:05:51.289Z"
   },
   {
    "duration": 68,
    "start_time": "2021-11-15T20:05:51.381Z"
   },
   {
    "duration": 12,
    "start_time": "2021-11-15T20:05:51.451Z"
   },
   {
    "duration": 22,
    "start_time": "2021-11-15T20:05:51.465Z"
   },
   {
    "duration": 6,
    "start_time": "2021-11-15T20:05:51.489Z"
   },
   {
    "duration": 17,
    "start_time": "2021-11-15T20:05:51.497Z"
   },
   {
    "duration": 15,
    "start_time": "2021-11-15T20:05:51.516Z"
   },
   {
    "duration": 33,
    "start_time": "2021-11-15T20:05:51.533Z"
   },
   {
    "duration": 34,
    "start_time": "2021-11-15T20:05:51.568Z"
   },
   {
    "duration": 23,
    "start_time": "2021-11-15T20:05:51.604Z"
   },
   {
    "duration": 41,
    "start_time": "2021-11-15T20:05:51.632Z"
   },
   {
    "duration": 15,
    "start_time": "2021-11-15T20:05:51.676Z"
   },
   {
    "duration": 20,
    "start_time": "2021-11-15T20:05:51.692Z"
   },
   {
    "duration": 15,
    "start_time": "2021-11-15T20:05:51.714Z"
   },
   {
    "duration": 39,
    "start_time": "2021-11-15T20:05:51.730Z"
   },
   {
    "duration": 18,
    "start_time": "2021-11-15T20:05:51.770Z"
   },
   {
    "duration": 8,
    "start_time": "2021-11-15T20:05:51.790Z"
   },
   {
    "duration": 5,
    "start_time": "2021-11-15T20:05:51.800Z"
   },
   {
    "duration": 27,
    "start_time": "2021-11-15T20:05:51.806Z"
   },
   {
    "duration": 38,
    "start_time": "2021-11-15T20:05:51.835Z"
   },
   {
    "duration": 19,
    "start_time": "2021-11-15T20:05:51.874Z"
   },
   {
    "duration": 12,
    "start_time": "2021-11-15T20:05:51.894Z"
   },
   {
    "duration": 14,
    "start_time": "2021-11-15T20:05:51.908Z"
   },
   {
    "duration": 6,
    "start_time": "2021-11-15T20:05:51.923Z"
   },
   {
    "duration": 37,
    "start_time": "2021-11-15T20:05:51.931Z"
   },
   {
    "duration": 4,
    "start_time": "2021-11-15T20:05:51.970Z"
   },
   {
    "duration": 586,
    "start_time": "2021-11-15T20:21:14.997Z"
   },
   {
    "duration": 148,
    "start_time": "2021-11-15T20:21:15.586Z"
   },
   {
    "duration": 16,
    "start_time": "2021-11-15T20:21:15.737Z"
   },
   {
    "duration": 30,
    "start_time": "2021-11-15T20:21:15.756Z"
   },
   {
    "duration": 5,
    "start_time": "2021-11-15T20:21:15.788Z"
   },
   {
    "duration": 27,
    "start_time": "2021-11-15T20:21:15.794Z"
   },
   {
    "duration": 3,
    "start_time": "2021-11-15T20:21:15.823Z"
   },
   {
    "duration": 49,
    "start_time": "2021-11-15T20:21:15.828Z"
   },
   {
    "duration": 19,
    "start_time": "2021-11-15T20:21:15.880Z"
   },
   {
    "duration": 22,
    "start_time": "2021-11-15T20:21:15.901Z"
   },
   {
    "duration": 75,
    "start_time": "2021-11-15T20:21:15.925Z"
   },
   {
    "duration": 74,
    "start_time": "2021-11-15T20:21:16.002Z"
   },
   {
    "duration": 51,
    "start_time": "2021-11-15T20:21:16.077Z"
   },
   {
    "duration": 55,
    "start_time": "2021-11-15T20:21:16.129Z"
   },
   {
    "duration": 4,
    "start_time": "2021-11-15T20:21:16.186Z"
   },
   {
    "duration": 14,
    "start_time": "2021-11-15T20:21:16.192Z"
   },
   {
    "duration": 4,
    "start_time": "2021-11-15T20:21:16.208Z"
   },
   {
    "duration": 16,
    "start_time": "2021-11-15T20:21:16.213Z"
   },
   {
    "duration": 36,
    "start_time": "2021-11-15T20:21:16.231Z"
   },
   {
    "duration": 3,
    "start_time": "2021-11-15T20:21:16.269Z"
   },
   {
    "duration": 28,
    "start_time": "2021-11-15T20:21:16.274Z"
   },
   {
    "duration": 17,
    "start_time": "2021-11-15T20:21:16.304Z"
   },
   {
    "duration": 47,
    "start_time": "2021-11-15T20:21:16.323Z"
   },
   {
    "duration": 13,
    "start_time": "2021-11-15T20:21:16.372Z"
   },
   {
    "duration": 19,
    "start_time": "2021-11-15T20:21:16.387Z"
   },
   {
    "duration": 14,
    "start_time": "2021-11-15T20:21:16.408Z"
   },
   {
    "duration": 10,
    "start_time": "2021-11-15T20:21:16.425Z"
   },
   {
    "duration": 21,
    "start_time": "2021-11-15T20:21:16.464Z"
   },
   {
    "duration": 12,
    "start_time": "2021-11-15T20:21:16.487Z"
   },
   {
    "duration": 9,
    "start_time": "2021-11-15T20:21:16.501Z"
   },
   {
    "duration": 38,
    "start_time": "2021-11-15T20:21:16.511Z"
   },
   {
    "duration": 14,
    "start_time": "2021-11-15T20:21:16.550Z"
   },
   {
    "duration": 18,
    "start_time": "2021-11-15T20:21:16.565Z"
   },
   {
    "duration": 12,
    "start_time": "2021-11-15T20:21:16.584Z"
   },
   {
    "duration": 10,
    "start_time": "2021-11-15T20:21:16.597Z"
   },
   {
    "duration": 8,
    "start_time": "2021-11-15T20:21:16.608Z"
   },
   {
    "duration": 13,
    "start_time": "2021-11-15T20:21:16.617Z"
   },
   {
    "duration": 31,
    "start_time": "2021-11-15T20:21:16.632Z"
   },
   {
    "duration": 314,
    "start_time": "2021-11-16T13:31:14.804Z"
   },
   {
    "duration": 784,
    "start_time": "2021-11-16T13:31:29.101Z"
   },
   {
    "duration": 199,
    "start_time": "2021-11-16T13:31:29.887Z"
   },
   {
    "duration": 28,
    "start_time": "2021-11-16T13:31:30.089Z"
   },
   {
    "duration": 54,
    "start_time": "2021-11-16T13:31:30.120Z"
   },
   {
    "duration": 9,
    "start_time": "2021-11-16T13:31:30.177Z"
   },
   {
    "duration": 38,
    "start_time": "2021-11-16T13:31:30.188Z"
   },
   {
    "duration": 7,
    "start_time": "2021-11-16T13:31:30.229Z"
   },
   {
    "duration": 32,
    "start_time": "2021-11-16T13:31:30.267Z"
   },
   {
    "duration": 35,
    "start_time": "2021-11-16T13:31:30.303Z"
   },
   {
    "duration": 56,
    "start_time": "2021-11-16T13:31:30.341Z"
   },
   {
    "duration": 105,
    "start_time": "2021-11-16T13:31:30.400Z"
   },
   {
    "duration": 117,
    "start_time": "2021-11-16T13:31:30.507Z"
   },
   {
    "duration": 89,
    "start_time": "2021-11-16T13:31:30.626Z"
   },
   {
    "duration": 71,
    "start_time": "2021-11-16T13:31:30.717Z"
   },
   {
    "duration": 22,
    "start_time": "2021-11-16T13:31:30.790Z"
   },
   {
    "duration": 30,
    "start_time": "2021-11-16T13:31:30.815Z"
   },
   {
    "duration": 13,
    "start_time": "2021-11-16T13:31:30.848Z"
   },
   {
    "duration": 24,
    "start_time": "2021-11-16T13:31:30.863Z"
   },
   {
    "duration": 14,
    "start_time": "2021-11-16T13:31:30.889Z"
   },
   {
    "duration": 7,
    "start_time": "2021-11-16T13:31:30.906Z"
   },
   {
    "duration": 51,
    "start_time": "2021-11-16T13:31:30.916Z"
   },
   {
    "duration": 20,
    "start_time": "2021-11-16T13:31:30.969Z"
   },
   {
    "duration": 19,
    "start_time": "2021-11-16T13:31:30.994Z"
   },
   {
    "duration": 19,
    "start_time": "2021-11-16T13:31:31.016Z"
   },
   {
    "duration": 23,
    "start_time": "2021-11-16T13:31:31.068Z"
   },
   {
    "duration": 20,
    "start_time": "2021-11-16T13:31:31.093Z"
   },
   {
    "duration": 21,
    "start_time": "2021-11-16T13:31:31.115Z"
   },
   {
    "duration": 22,
    "start_time": "2021-11-16T13:31:31.167Z"
   },
   {
    "duration": 12,
    "start_time": "2021-11-16T13:31:31.191Z"
   },
   {
    "duration": 6,
    "start_time": "2021-11-16T13:31:31.205Z"
   },
   {
    "duration": 39,
    "start_time": "2021-11-16T13:31:31.213Z"
   },
   {
    "duration": 16,
    "start_time": "2021-11-16T13:31:31.268Z"
   },
   {
    "duration": 20,
    "start_time": "2021-11-16T13:31:31.287Z"
   },
   {
    "duration": 16,
    "start_time": "2021-11-16T13:31:31.310Z"
   },
   {
    "duration": 47,
    "start_time": "2021-11-16T13:31:31.328Z"
   },
   {
    "duration": 6,
    "start_time": "2021-11-16T13:31:31.377Z"
   },
   {
    "duration": 13,
    "start_time": "2021-11-16T13:31:31.385Z"
   },
   {
    "duration": 5,
    "start_time": "2021-11-16T13:31:31.401Z"
   },
   {
    "duration": 5,
    "start_time": "2021-11-16T13:34:36.253Z"
   },
   {
    "duration": 30,
    "start_time": "2021-11-16T13:35:41.047Z"
   },
   {
    "duration": 29,
    "start_time": "2021-11-16T13:35:59.086Z"
   },
   {
    "duration": 3,
    "start_time": "2021-11-16T13:36:04.145Z"
   },
   {
    "duration": 204,
    "start_time": "2021-11-16T13:36:04.155Z"
   },
   {
    "duration": 16,
    "start_time": "2021-11-16T13:36:04.361Z"
   },
   {
    "duration": 36,
    "start_time": "2021-11-16T13:36:04.380Z"
   },
   {
    "duration": 5,
    "start_time": "2021-11-16T13:36:04.418Z"
   },
   {
    "duration": 63,
    "start_time": "2021-11-16T13:36:04.425Z"
   },
   {
    "duration": 6,
    "start_time": "2021-11-16T13:36:04.490Z"
   },
   {
    "duration": 34,
    "start_time": "2021-11-16T13:36:04.498Z"
   },
   {
    "duration": 53,
    "start_time": "2021-11-16T13:36:04.534Z"
   },
   {
    "duration": 30,
    "start_time": "2021-11-16T13:36:04.590Z"
   },
   {
    "duration": 115,
    "start_time": "2021-11-16T13:36:04.623Z"
   },
   {
    "duration": 106,
    "start_time": "2021-11-16T13:36:04.740Z"
   },
   {
    "duration": 90,
    "start_time": "2021-11-16T13:36:04.848Z"
   },
   {
    "duration": 76,
    "start_time": "2021-11-16T13:36:04.941Z"
   },
   {
    "duration": 5,
    "start_time": "2021-11-16T13:36:05.019Z"
   },
   {
    "duration": 50,
    "start_time": "2021-11-16T13:36:05.027Z"
   },
   {
    "duration": 7,
    "start_time": "2021-11-16T13:36:05.080Z"
   },
   {
    "duration": 23,
    "start_time": "2021-11-16T13:36:05.090Z"
   },
   {
    "duration": 15,
    "start_time": "2021-11-16T13:36:05.116Z"
   },
   {
    "duration": 5,
    "start_time": "2021-11-16T13:36:05.168Z"
   },
   {
    "duration": 35,
    "start_time": "2021-11-16T13:36:05.175Z"
   },
   {
    "duration": 20,
    "start_time": "2021-11-16T13:36:05.215Z"
   },
   {
    "duration": 41,
    "start_time": "2021-11-16T13:36:05.239Z"
   },
   {
    "duration": 19,
    "start_time": "2021-11-16T13:36:05.283Z"
   },
   {
    "duration": 22,
    "start_time": "2021-11-16T13:36:05.305Z"
   },
   {
    "duration": 20,
    "start_time": "2021-11-16T13:36:05.367Z"
   },
   {
    "duration": 13,
    "start_time": "2021-11-16T13:36:05.390Z"
   },
   {
    "duration": 18,
    "start_time": "2021-11-16T13:36:05.405Z"
   },
   {
    "duration": 49,
    "start_time": "2021-11-16T13:36:05.425Z"
   },
   {
    "duration": 7,
    "start_time": "2021-11-16T13:36:05.477Z"
   },
   {
    "duration": 30,
    "start_time": "2021-11-16T13:36:05.487Z"
   },
   {
    "duration": 17,
    "start_time": "2021-11-16T13:36:05.520Z"
   },
   {
    "duration": 23,
    "start_time": "2021-11-16T13:36:05.568Z"
   },
   {
    "duration": 25,
    "start_time": "2021-11-16T13:36:05.594Z"
   },
   {
    "duration": 50,
    "start_time": "2021-11-16T13:36:05.622Z"
   },
   {
    "duration": 7,
    "start_time": "2021-11-16T13:36:05.675Z"
   },
   {
    "duration": 13,
    "start_time": "2021-11-16T13:36:05.685Z"
   },
   {
    "duration": 5,
    "start_time": "2021-11-16T13:36:05.700Z"
   },
   {
    "duration": 336,
    "start_time": "2021-11-16T16:14:57.434Z"
   },
   {
    "duration": 911,
    "start_time": "2021-11-16T16:15:02.934Z"
   },
   {
    "duration": 181,
    "start_time": "2021-11-16T16:15:03.848Z"
   },
   {
    "duration": 35,
    "start_time": "2021-11-16T16:15:04.033Z"
   },
   {
    "duration": 32,
    "start_time": "2021-11-16T16:15:04.071Z"
   },
   {
    "duration": 6,
    "start_time": "2021-11-16T16:15:04.106Z"
   },
   {
    "duration": 55,
    "start_time": "2021-11-16T16:15:04.114Z"
   },
   {
    "duration": 9,
    "start_time": "2021-11-16T16:15:04.172Z"
   },
   {
    "duration": 33,
    "start_time": "2021-11-16T16:15:04.184Z"
   },
   {
    "duration": 47,
    "start_time": "2021-11-16T16:15:04.221Z"
   },
   {
    "duration": 29,
    "start_time": "2021-11-16T16:15:04.272Z"
   },
   {
    "duration": 106,
    "start_time": "2021-11-16T16:15:04.303Z"
   },
   {
    "duration": 114,
    "start_time": "2021-11-16T16:15:04.411Z"
   },
   {
    "duration": 83,
    "start_time": "2021-11-16T16:15:04.527Z"
   },
   {
    "duration": 67,
    "start_time": "2021-11-16T16:15:04.613Z"
   },
   {
    "duration": 4,
    "start_time": "2021-11-16T16:15:04.682Z"
   },
   {
    "duration": 21,
    "start_time": "2021-11-16T16:15:04.689Z"
   },
   {
    "duration": 5,
    "start_time": "2021-11-16T16:15:04.712Z"
   },
   {
    "duration": 51,
    "start_time": "2021-11-16T16:15:04.719Z"
   },
   {
    "duration": 14,
    "start_time": "2021-11-16T16:15:04.772Z"
   },
   {
    "duration": 5,
    "start_time": "2021-11-16T16:15:04.788Z"
   },
   {
    "duration": 33,
    "start_time": "2021-11-16T16:15:04.795Z"
   },
   {
    "duration": 44,
    "start_time": "2021-11-16T16:15:04.831Z"
   },
   {
    "duration": 21,
    "start_time": "2021-11-16T16:15:04.878Z"
   },
   {
    "duration": 19,
    "start_time": "2021-11-16T16:15:04.901Z"
   },
   {
    "duration": 56,
    "start_time": "2021-11-16T16:15:04.923Z"
   },
   {
    "duration": 21,
    "start_time": "2021-11-16T16:15:04.982Z"
   },
   {
    "duration": 12,
    "start_time": "2021-11-16T16:15:05.010Z"
   },
   {
    "duration": 50,
    "start_time": "2021-11-16T16:15:05.026Z"
   },
   {
    "duration": 13,
    "start_time": "2021-11-16T16:15:05.079Z"
   },
   {
    "duration": 7,
    "start_time": "2021-11-16T16:15:05.095Z"
   },
   {
    "duration": 64,
    "start_time": "2021-11-16T16:15:05.105Z"
   },
   {
    "duration": 17,
    "start_time": "2021-11-16T16:15:05.172Z"
   },
   {
    "duration": 28,
    "start_time": "2021-11-16T16:15:05.191Z"
   },
   {
    "duration": 46,
    "start_time": "2021-11-16T16:15:05.222Z"
   },
   {
    "duration": 11,
    "start_time": "2021-11-16T16:15:05.271Z"
   },
   {
    "duration": 5,
    "start_time": "2021-11-16T16:15:05.284Z"
   },
   {
    "duration": 12,
    "start_time": "2021-11-16T16:15:05.292Z"
   },
   {
    "duration": 6,
    "start_time": "2021-11-16T16:15:05.306Z"
   },
   {
    "duration": 57,
    "start_time": "2021-11-16T16:21:09.745Z"
   },
   {
    "duration": 57,
    "start_time": "2021-11-16T16:21:48.862Z"
   },
   {
    "duration": 55,
    "start_time": "2021-11-16T16:21:52.827Z"
   },
   {
    "duration": 59,
    "start_time": "2021-11-16T16:21:57.043Z"
   },
   {
    "duration": 16,
    "start_time": "2021-11-16T16:22:25.583Z"
   },
   {
    "duration": 17,
    "start_time": "2021-11-16T16:23:50.269Z"
   },
   {
    "duration": 16,
    "start_time": "2021-11-16T16:25:34.139Z"
   },
   {
    "duration": 7,
    "start_time": "2021-11-16T16:26:03.858Z"
   },
   {
    "duration": 3,
    "start_time": "2021-11-16T16:27:29.500Z"
   },
   {
    "duration": 201,
    "start_time": "2021-11-16T16:27:29.528Z"
   },
   {
    "duration": 16,
    "start_time": "2021-11-16T16:27:29.731Z"
   },
   {
    "duration": 50,
    "start_time": "2021-11-16T16:27:29.749Z"
   },
   {
    "duration": 6,
    "start_time": "2021-11-16T16:27:29.802Z"
   },
   {
    "duration": 63,
    "start_time": "2021-11-16T16:27:29.810Z"
   },
   {
    "duration": 7,
    "start_time": "2021-11-16T16:27:29.876Z"
   },
   {
    "duration": 42,
    "start_time": "2021-11-16T16:27:29.886Z"
   },
   {
    "duration": 54,
    "start_time": "2021-11-16T16:27:29.934Z"
   },
   {
    "duration": 43,
    "start_time": "2021-11-16T16:27:29.992Z"
   },
   {
    "duration": 111,
    "start_time": "2021-11-16T16:27:30.038Z"
   },
   {
    "duration": 132,
    "start_time": "2021-11-16T16:27:30.152Z"
   },
   {
    "duration": 89,
    "start_time": "2021-11-16T16:27:30.287Z"
   },
   {
    "duration": 62,
    "start_time": "2021-11-16T16:27:30.379Z"
   },
   {
    "duration": 5,
    "start_time": "2021-11-16T16:27:30.468Z"
   },
   {
    "duration": 38,
    "start_time": "2021-11-16T16:27:30.475Z"
   },
   {
    "duration": 81,
    "start_time": "2021-11-16T16:27:30.516Z"
   },
   {
    "duration": 19,
    "start_time": "2021-11-16T16:27:30.602Z"
   },
   {
    "duration": 17,
    "start_time": "2021-11-16T16:27:30.624Z"
   },
   {
    "duration": 25,
    "start_time": "2021-11-16T16:27:30.643Z"
   },
   {
    "duration": 51,
    "start_time": "2021-11-16T16:27:30.670Z"
   },
   {
    "duration": 27,
    "start_time": "2021-11-16T16:27:30.723Z"
   },
   {
    "duration": 60,
    "start_time": "2021-11-16T16:27:30.753Z"
   },
   {
    "duration": 17,
    "start_time": "2021-11-16T16:27:30.816Z"
   },
   {
    "duration": 46,
    "start_time": "2021-11-16T16:27:30.835Z"
   },
   {
    "duration": 32,
    "start_time": "2021-11-16T16:27:30.883Z"
   },
   {
    "duration": 23,
    "start_time": "2021-11-16T16:27:30.917Z"
   },
   {
    "duration": 38,
    "start_time": "2021-11-16T16:27:30.943Z"
   },
   {
    "duration": 32,
    "start_time": "2021-11-16T16:27:30.983Z"
   },
   {
    "duration": 7,
    "start_time": "2021-11-16T16:27:31.018Z"
   },
   {
    "duration": 50,
    "start_time": "2021-11-16T16:27:31.028Z"
   },
   {
    "duration": 37,
    "start_time": "2021-11-16T16:27:31.081Z"
   },
   {
    "duration": 25,
    "start_time": "2021-11-16T16:27:31.121Z"
   },
   {
    "duration": 27,
    "start_time": "2021-11-16T16:27:31.149Z"
   },
   {
    "duration": 10,
    "start_time": "2021-11-16T16:27:31.179Z"
   },
   {
    "duration": 27,
    "start_time": "2021-11-16T16:27:31.191Z"
   },
   {
    "duration": 11,
    "start_time": "2021-11-16T16:27:31.220Z"
   },
   {
    "duration": 10,
    "start_time": "2021-11-16T16:27:31.233Z"
   },
   {
    "duration": 336,
    "start_time": "2021-11-16T18:27:38.885Z"
   },
   {
    "duration": 265,
    "start_time": "2021-11-16T18:27:59.713Z"
   },
   {
    "duration": 629,
    "start_time": "2021-11-16T18:28:14.276Z"
   },
   {
    "duration": 645,
    "start_time": "2021-11-16T19:33:31.825Z"
   },
   {
    "duration": 143,
    "start_time": "2021-11-16T19:33:32.472Z"
   },
   {
    "duration": 16,
    "start_time": "2021-11-16T19:33:32.617Z"
   },
   {
    "duration": 39,
    "start_time": "2021-11-16T19:33:32.635Z"
   },
   {
    "duration": 4,
    "start_time": "2021-11-16T19:33:32.676Z"
   },
   {
    "duration": 23,
    "start_time": "2021-11-16T19:33:32.682Z"
   },
   {
    "duration": 4,
    "start_time": "2021-11-16T19:33:32.707Z"
   },
   {
    "duration": 52,
    "start_time": "2021-11-16T19:33:32.715Z"
   },
   {
    "duration": 4,
    "start_time": "2021-11-16T19:33:32.769Z"
   },
   {
    "duration": 33,
    "start_time": "2021-11-16T19:33:32.774Z"
   },
   {
    "duration": 23,
    "start_time": "2021-11-16T19:33:32.809Z"
   },
   {
    "duration": 71,
    "start_time": "2021-11-16T19:33:32.834Z"
   },
   {
    "duration": 81,
    "start_time": "2021-11-16T19:33:32.907Z"
   },
   {
    "duration": 57,
    "start_time": "2021-11-16T19:33:32.990Z"
   },
   {
    "duration": 41,
    "start_time": "2021-11-16T19:33:33.062Z"
   },
   {
    "duration": 4,
    "start_time": "2021-11-16T19:33:33.105Z"
   },
   {
    "duration": 12,
    "start_time": "2021-11-16T19:33:33.111Z"
   },
   {
    "duration": 65,
    "start_time": "2021-11-16T19:33:33.125Z"
   },
   {
    "duration": 11,
    "start_time": "2021-11-16T19:33:33.192Z"
   },
   {
    "duration": 10,
    "start_time": "2021-11-16T19:33:33.205Z"
   },
   {
    "duration": 3,
    "start_time": "2021-11-16T19:33:33.217Z"
   },
   {
    "duration": 43,
    "start_time": "2021-11-16T19:33:33.222Z"
   },
   {
    "duration": 17,
    "start_time": "2021-11-16T19:33:33.267Z"
   },
   {
    "duration": 16,
    "start_time": "2021-11-16T19:33:33.286Z"
   },
   {
    "duration": 14,
    "start_time": "2021-11-16T19:33:33.303Z"
   },
   {
    "duration": 45,
    "start_time": "2021-11-16T19:33:33.319Z"
   },
   {
    "duration": 16,
    "start_time": "2021-11-16T19:33:33.366Z"
   },
   {
    "duration": 8,
    "start_time": "2021-11-16T19:33:33.384Z"
   },
   {
    "duration": 18,
    "start_time": "2021-11-16T19:33:33.394Z"
   },
   {
    "duration": 20,
    "start_time": "2021-11-16T19:33:33.414Z"
   },
   {
    "duration": 8,
    "start_time": "2021-11-16T19:33:33.436Z"
   },
   {
    "duration": 34,
    "start_time": "2021-11-16T19:33:33.446Z"
   },
   {
    "duration": 13,
    "start_time": "2021-11-16T19:33:33.482Z"
   },
   {
    "duration": 25,
    "start_time": "2021-11-16T19:33:33.496Z"
   },
   {
    "duration": 13,
    "start_time": "2021-11-16T19:33:33.523Z"
   },
   {
    "duration": 30,
    "start_time": "2021-11-16T19:33:33.538Z"
   },
   {
    "duration": 4,
    "start_time": "2021-11-16T19:33:33.570Z"
   },
   {
    "duration": 14,
    "start_time": "2021-11-16T19:33:33.576Z"
   },
   {
    "duration": 6,
    "start_time": "2021-11-16T19:33:33.591Z"
   },
   {
    "duration": 544,
    "start_time": "2021-11-16T19:36:22.418Z"
   },
   {
    "duration": 136,
    "start_time": "2021-11-16T19:36:22.964Z"
   },
   {
    "duration": 17,
    "start_time": "2021-11-16T19:36:23.102Z"
   },
   {
    "duration": 26,
    "start_time": "2021-11-16T19:36:23.121Z"
   },
   {
    "duration": 16,
    "start_time": "2021-11-16T19:36:23.149Z"
   },
   {
    "duration": 22,
    "start_time": "2021-11-16T19:36:23.166Z"
   },
   {
    "duration": 7,
    "start_time": "2021-11-16T19:36:23.190Z"
   },
   {
    "duration": 23,
    "start_time": "2021-11-16T19:36:23.200Z"
   },
   {
    "duration": 5,
    "start_time": "2021-11-16T19:36:23.225Z"
   },
   {
    "duration": 43,
    "start_time": "2021-11-16T19:36:23.232Z"
   },
   {
    "duration": 22,
    "start_time": "2021-11-16T19:36:23.277Z"
   },
   {
    "duration": 72,
    "start_time": "2021-11-16T19:36:23.300Z"
   },
   {
    "duration": 65,
    "start_time": "2021-11-16T19:36:23.374Z"
   },
   {
    "duration": 57,
    "start_time": "2021-11-16T19:36:23.440Z"
   },
   {
    "duration": 38,
    "start_time": "2021-11-16T19:36:23.499Z"
   },
   {
    "duration": 4,
    "start_time": "2021-11-16T19:36:23.539Z"
   },
   {
    "duration": 13,
    "start_time": "2021-11-16T19:36:23.564Z"
   },
   {
    "duration": 39,
    "start_time": "2021-11-16T19:36:23.580Z"
   },
   {
    "duration": 11,
    "start_time": "2021-11-16T19:36:23.620Z"
   },
   {
    "duration": 37,
    "start_time": "2021-11-16T19:36:23.633Z"
   },
   {
    "duration": 3,
    "start_time": "2021-11-16T19:36:23.672Z"
   },
   {
    "duration": 24,
    "start_time": "2021-11-16T19:36:23.676Z"
   },
   {
    "duration": 14,
    "start_time": "2021-11-16T19:36:23.703Z"
   },
   {
    "duration": 16,
    "start_time": "2021-11-16T19:36:23.718Z"
   },
   {
    "duration": 37,
    "start_time": "2021-11-16T19:36:23.735Z"
   },
   {
    "duration": 17,
    "start_time": "2021-11-16T19:36:23.773Z"
   },
   {
    "duration": 15,
    "start_time": "2021-11-16T19:36:23.792Z"
   },
   {
    "duration": 8,
    "start_time": "2021-11-16T19:36:23.809Z"
   },
   {
    "duration": 17,
    "start_time": "2021-11-16T19:36:23.819Z"
   },
   {
    "duration": 31,
    "start_time": "2021-11-16T19:36:23.838Z"
   },
   {
    "duration": 5,
    "start_time": "2021-11-16T19:36:23.871Z"
   },
   {
    "duration": 35,
    "start_time": "2021-11-16T19:36:23.878Z"
   },
   {
    "duration": 14,
    "start_time": "2021-11-16T19:36:23.914Z"
   },
   {
    "duration": 33,
    "start_time": "2021-11-16T19:36:23.930Z"
   },
   {
    "duration": 13,
    "start_time": "2021-11-16T19:36:23.965Z"
   },
   {
    "duration": 17,
    "start_time": "2021-11-16T19:36:23.979Z"
   },
   {
    "duration": 6,
    "start_time": "2021-11-16T19:36:23.997Z"
   },
   {
    "duration": 22,
    "start_time": "2021-11-16T19:36:24.005Z"
   },
   {
    "duration": 8,
    "start_time": "2021-11-16T19:36:24.029Z"
   },
   {
    "duration": 499,
    "start_time": "2021-11-16T19:44:33.557Z"
   },
   {
    "duration": 827,
    "start_time": "2021-11-16T19:44:39.708Z"
   },
   {
    "duration": 208,
    "start_time": "2021-11-16T19:44:40.538Z"
   },
   {
    "duration": 34,
    "start_time": "2021-11-16T19:44:40.750Z"
   },
   {
    "duration": 39,
    "start_time": "2021-11-16T19:44:40.788Z"
   },
   {
    "duration": 5,
    "start_time": "2021-11-16T19:44:40.829Z"
   },
   {
    "duration": 71,
    "start_time": "2021-11-16T19:44:40.837Z"
   },
   {
    "duration": 5,
    "start_time": "2021-11-16T19:44:40.911Z"
   },
   {
    "duration": 34,
    "start_time": "2021-11-16T19:44:40.920Z"
   },
   {
    "duration": 6,
    "start_time": "2021-11-16T19:44:40.982Z"
   },
   {
    "duration": 42,
    "start_time": "2021-11-16T19:44:40.993Z"
   },
   {
    "duration": 53,
    "start_time": "2021-11-16T19:44:41.038Z"
   },
   {
    "duration": 121,
    "start_time": "2021-11-16T19:44:41.094Z"
   },
   {
    "duration": 167,
    "start_time": "2021-11-16T19:44:41.218Z"
   },
   {
    "duration": 131,
    "start_time": "2021-11-16T19:44:41.389Z"
   },
   {
    "duration": 86,
    "start_time": "2021-11-16T19:44:41.523Z"
   },
   {
    "duration": 5,
    "start_time": "2021-11-16T19:44:41.613Z"
   },
   {
    "duration": 18,
    "start_time": "2021-11-16T19:44:41.621Z"
   },
   {
    "duration": 88,
    "start_time": "2021-11-16T19:44:41.642Z"
   },
   {
    "duration": 20,
    "start_time": "2021-11-16T19:44:41.733Z"
   },
   {
    "duration": 22,
    "start_time": "2021-11-16T19:44:41.783Z"
   },
   {
    "duration": 6,
    "start_time": "2021-11-16T19:44:41.808Z"
   },
   {
    "duration": 32,
    "start_time": "2021-11-16T19:44:41.818Z"
   },
   {
    "duration": 57,
    "start_time": "2021-11-16T19:44:41.855Z"
   },
   {
    "duration": 23,
    "start_time": "2021-11-16T19:44:41.915Z"
   },
   {
    "duration": 58,
    "start_time": "2021-11-16T19:44:41.941Z"
   },
   {
    "duration": 25,
    "start_time": "2021-11-16T19:44:42.003Z"
   },
   {
    "duration": 22,
    "start_time": "2021-11-16T19:44:42.031Z"
   },
   {
    "duration": 39,
    "start_time": "2021-11-16T19:44:42.055Z"
   },
   {
    "duration": 23,
    "start_time": "2021-11-16T19:44:42.097Z"
   },
   {
    "duration": 16,
    "start_time": "2021-11-16T19:44:42.124Z"
   },
   {
    "duration": 43,
    "start_time": "2021-11-16T19:44:42.143Z"
   },
   {
    "duration": 43,
    "start_time": "2021-11-16T19:44:42.189Z"
   },
   {
    "duration": 18,
    "start_time": "2021-11-16T19:44:42.235Z"
   },
   {
    "duration": 61,
    "start_time": "2021-11-16T19:44:42.255Z"
   },
   {
    "duration": 23,
    "start_time": "2021-11-16T19:44:42.319Z"
   },
   {
    "duration": 43,
    "start_time": "2021-11-16T19:44:42.346Z"
   },
   {
    "duration": 10,
    "start_time": "2021-11-16T19:44:42.391Z"
   },
   {
    "duration": 14,
    "start_time": "2021-11-16T19:44:42.405Z"
   },
   {
    "duration": 6,
    "start_time": "2021-11-16T19:44:42.423Z"
   }
  ],
  "colab": {
   "collapsed_sections": [
    "E0vqbgi9ay0H",
    "VUC88oWjTJw2"
   ],
   "name": "yandex_music_project_2021.2.ipynb",
   "provenance": []
  },
  "kernelspec": {
   "display_name": "Python 3",
   "language": "python",
   "name": "python3"
  },
  "language_info": {
   "codemirror_mode": {
    "name": "ipython",
    "version": 3
   },
   "file_extension": ".py",
   "mimetype": "text/x-python",
   "name": "python",
   "nbconvert_exporter": "python",
   "pygments_lexer": "ipython3",
   "version": "3.8.8"
  },
  "toc": {
   "base_numbering": 1,
   "nav_menu": {},
   "number_sections": true,
   "sideBar": true,
   "skip_h1_title": true,
   "title_cell": "Table of Contents",
   "title_sidebar": "Contents",
   "toc_cell": false,
   "toc_position": {
    "height": "calc(100% - 180px)",
    "left": "10px",
    "top": "150px",
    "width": "227.792px"
   },
   "toc_section_display": true,
   "toc_window_display": true
  }
 },
 "nbformat": 4,
 "nbformat_minor": 1
}
