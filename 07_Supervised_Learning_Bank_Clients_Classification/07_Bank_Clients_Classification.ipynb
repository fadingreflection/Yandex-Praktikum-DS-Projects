{
 "cells": [
  {
   "cell_type": "markdown",
   "metadata": {
    "toc": true
   },
   "source": [
    "<h1>Содержание<span class=\"tocSkip\"></span></h1>\n",
    "<div class=\"toc\"><ul class=\"toc-item\"><li><span><a href=\"#Подготовка-данных\" data-toc-modified-id=\"Подготовка-данных-1\"><span class=\"toc-item-num\">1&nbsp;&nbsp;</span>Подготовка данных</a></span><ul class=\"toc-item\"><li><span><a href=\"#Импорт-библиотек-и-модулей\" data-toc-modified-id=\"Импорт-библиотек-и-модулей-1.1\"><span class=\"toc-item-num\">1.1&nbsp;&nbsp;</span>Импорт библиотек и модулей</a></span></li><li><span><a href=\"#Первичный-взгляд-на-данные\" data-toc-modified-id=\"Первичный-взгляд-на-данные-1.2\"><span class=\"toc-item-num\">1.2&nbsp;&nbsp;</span>Первичный взгляд на данные</a></span></li><li><span><a href=\"#Удаление-ненужных-столбцов\" data-toc-modified-id=\"Удаление-ненужных-столбцов-1.3\"><span class=\"toc-item-num\">1.3&nbsp;&nbsp;</span>Удаление ненужных столбцов</a></span></li><li><span><a href=\"#Проверка-данных-на-наличие-дубликатов-и-пропусков\" data-toc-modified-id=\"Проверка-данных-на-наличие-дубликатов-и-пропусков-1.4\"><span class=\"toc-item-num\">1.4&nbsp;&nbsp;</span>Проверка данных на наличие дубликатов и пропусков</a></span></li><li><span><a href=\"#Обработка-пропусков\" data-toc-modified-id=\"Обработка-пропусков-1.5\"><span class=\"toc-item-num\">1.5&nbsp;&nbsp;</span>Обработка пропусков</a></span></li><li><span><a href=\"#Преобразование-типов-данных\" data-toc-modified-id=\"Преобразование-типов-данных-1.6\"><span class=\"toc-item-num\">1.6&nbsp;&nbsp;</span>Преобразование типов данных</a></span></li><li><span><a href=\"#Кодирование-категориальных-признаков\" data-toc-modified-id=\"Кодирование-категориальных-признаков-1.7\"><span class=\"toc-item-num\">1.7&nbsp;&nbsp;</span>Кодирование категориальных признаков</a></span></li><li><span><a href=\"#Анализ-количественных-переменных\" data-toc-modified-id=\"Анализ-количественных-переменных-1.8\"><span class=\"toc-item-num\">1.8&nbsp;&nbsp;</span>Анализ количественных переменных</a></span></li><li><span><a href=\"#Разбиение-данных-на-выборки\" data-toc-modified-id=\"Разбиение-данных-на-выборки-1.9\"><span class=\"toc-item-num\">1.9&nbsp;&nbsp;</span>Разбиение данных на выборки</a></span></li><li><span><a href=\"#Масштабирование-данных\" data-toc-modified-id=\"Масштабирование-данных-1.10\"><span class=\"toc-item-num\">1.10&nbsp;&nbsp;</span>Масштабирование данных</a></span></li></ul></li><li><span><a href=\"#Исследование-задачи\" data-toc-modified-id=\"Исследование-задачи-2\"><span class=\"toc-item-num\">2&nbsp;&nbsp;</span>Исследование задачи</a></span><ul class=\"toc-item\"><li><span><a href=\"#Анализ-весов-классов\" data-toc-modified-id=\"Анализ-весов-классов-2.1\"><span class=\"toc-item-num\">2.1&nbsp;&nbsp;</span>Анализ весов классов</a></span></li><li><span><a href=\"#Обучение-модели-случайного-леса-без-учета-весов-классов\" data-toc-modified-id=\"Обучение-модели-случайного-леса-без-учета-весов-классов-2.2\"><span class=\"toc-item-num\">2.2&nbsp;&nbsp;</span>Обучение модели случайного леса без учета весов классов</a></span></li><li><span><a href=\"#Обучение-модели-логистической-регрессии-без-учета-весов-классов\" data-toc-modified-id=\"Обучение-модели-логистической-регрессии-без-учета-весов-классов-2.3\"><span class=\"toc-item-num\">2.3&nbsp;&nbsp;</span>Обучение модели логистической регрессии без учета весов классов</a></span></li></ul></li><li><span><a href=\"#Борьба-с-дисбалансом\" data-toc-modified-id=\"Борьба-с-дисбалансом-3\"><span class=\"toc-item-num\">3&nbsp;&nbsp;</span>Борьба с дисбалансом</a></span><ul class=\"toc-item\"><li><span><a href=\"#Учитывание-веса-за-счет-параметра-class_weight\" data-toc-modified-id=\"Учитывание-веса-за-счет-параметра-class_weight-3.1\"><span class=\"toc-item-num\">3.1&nbsp;&nbsp;</span>Учитывание веса за счет параметра class_weight</a></span><ul class=\"toc-item\"><li><span><a href=\"#Сбалансируем-классы-для-случайного-леса\" data-toc-modified-id=\"Сбалансируем-классы-для-случайного-леса-3.1.1\"><span class=\"toc-item-num\">3.1.1&nbsp;&nbsp;</span>Сбалансируем классы для случайного леса</a></span></li><li><span><a href=\"#Сбалансируем-классы-для-логистической-регрессии\" data-toc-modified-id=\"Сбалансируем-классы-для-логистической-регрессии-3.1.2\"><span class=\"toc-item-num\">3.1.2&nbsp;&nbsp;</span>Сбалансируем классы для логистической регрессии</a></span></li></ul></li><li><span><a href=\"#Балансировка-методом-upsampling\" data-toc-modified-id=\"Балансировка-методом-upsampling-3.2\"><span class=\"toc-item-num\">3.2&nbsp;&nbsp;</span>Балансировка методом upsampling</a></span><ul class=\"toc-item\"><li><span><a href=\"#Обучим-модель-случайного-леса-на-увеличенной-выборке\" data-toc-modified-id=\"Обучим-модель-случайного-леса-на-увеличенной-выборке-3.2.1\"><span class=\"toc-item-num\">3.2.1&nbsp;&nbsp;</span>Обучим модель случайного леса на увеличенной выборке</a></span></li><li><span><a href=\"#Обучим-логистическую-регрессию-на-сбалансированной-увеличенной-выборке\" data-toc-modified-id=\"Обучим-логистическую-регрессию-на-сбалансированной-увеличенной-выборке-3.2.2\"><span class=\"toc-item-num\">3.2.2&nbsp;&nbsp;</span>Обучим логистическую регрессию на сбалансированной увеличенной выборке</a></span></li></ul></li><li><span><a href=\"#Балансировка-методом-downsampling\" data-toc-modified-id=\"Балансировка-методом-downsampling-3.3\"><span class=\"toc-item-num\">3.3&nbsp;&nbsp;</span>Балансировка методом downsampling</a></span><ul class=\"toc-item\"><li><span><a href=\"#Обучим-модель-случайного-леса-на-сбалансированной-уменьшенной-выборке\" data-toc-modified-id=\"Обучим-модель-случайного-леса-на-сбалансированной-уменьшенной-выборке-3.3.1\"><span class=\"toc-item-num\">3.3.1&nbsp;&nbsp;</span>Обучим модель случайного леса на сбалансированной уменьшенной выборке</a></span></li><li><span><a href=\"#Обучим-модель-логистической-регрессии-на-сбалансированной-уменьшенной-выборке\" data-toc-modified-id=\"Обучим-модель-логистической-регрессии-на-сбалансированной-уменьшенной-выборке-3.3.2\"><span class=\"toc-item-num\">3.3.2&nbsp;&nbsp;</span>Обучим модель логистической регрессии на сбалансированной уменьшенной выборке</a></span></li></ul></li><li><span><a href=\"#Визуализация-результатов-обучения-моделей-на-сбалансированных-выборках\" data-toc-modified-id=\"Визуализация-результатов-обучения-моделей-на-сбалансированных-выборках-3.4\"><span class=\"toc-item-num\">3.4&nbsp;&nbsp;</span>Визуализация результатов обучения моделей на сбалансированных выборках</a></span></li></ul></li><li><span><a href=\"#Тестирование-модели\" data-toc-modified-id=\"Тестирование-модели-4\"><span class=\"toc-item-num\">4&nbsp;&nbsp;</span>Тестирование модели</a></span></li><li><span><a href=\"#Чек-лист-готовности-проекта\" data-toc-modified-id=\"Чек-лист-готовности-проекта-5\"><span class=\"toc-item-num\">5&nbsp;&nbsp;</span>Чек-лист готовности проекта</a></span></li></ul></div>"
   ]
  },
  {
   "cell_type": "markdown",
   "metadata": {},
   "source": [
    "# Отток клиентов"
   ]
  },
  {
   "cell_type": "markdown",
   "metadata": {},
   "source": [
    "Нужно спрогнозировать, уйдёт клиент из банка в ближайшее время или нет. Даны исторические данные о поведении клиентов и расторжении договоров с банком. \n",
    "\n",
    "Необходимо построить модель с предельно большим значением *F1*-меры. Метрика должна быть не ниже 0.59 на тестовой выборке.\n",
    "\n",
    "Источник данных: [https://www.kaggle.com/barelydedicated/bank-customer-churn-modeling](https://www.kaggle.com/barelydedicated/bank-customer-churn-modeling)"
   ]
  },
  {
   "cell_type": "markdown",
   "metadata": {},
   "source": [
    "##  Подготовка данных"
   ]
  },
  {
   "cell_type": "markdown",
   "metadata": {},
   "source": [
    "###  Импорт библиотек и модулей"
   ]
  },
  {
   "cell_type": "code",
   "execution_count": 30,
   "metadata": {},
   "outputs": [],
   "source": [
    "# импортируем библиотеки\n",
    "import pandas as pd\n",
    "import seaborn as sns\n",
    "from matplotlib import pyplot as plt\n",
    "\n",
    "# импортируем встроенные ф-ции sklearn\n",
    "from sklearn.experimental import enable_halving_search_cv\n",
    "from sklearn.model_selection import train_test_split\n",
    "from sklearn.model_selection import GridSearchCV, RandomizedSearchCV, HalvingGridSearchCV\n",
    "from sklearn.metrics import f1_score\n",
    "from sklearn.metrics import confusion_matrix\n",
    "from sklearn.metrics import roc_curve\n",
    "from sklearn.metrics import roc_auc_score\n",
    "from sklearn.preprocessing import MinMaxScaler\n",
    "from sklearn.utils import shuffle\n",
    "\n",
    "# импортируем алгоритмы обучения модели\n",
    "from sklearn.tree import DecisionTreeClassifier\n",
    "from sklearn.ensemble import RandomForestClassifier\n",
    "from sklearn.linear_model import LogisticRegression\n",
    "from sklearn.naive_bayes import GaussianNB\n",
    "\n",
    "# отключим предупреждение\n",
    "pd.options.mode.chained_assignment = None\n",
    "\n",
    "import warnings\n",
    "warnings.filterwarnings('ignore')"
   ]
  },
  {
   "cell_type": "markdown",
   "metadata": {},
   "source": [
    "###  Первичный взгляд на данные"
   ]
  },
  {
   "cell_type": "code",
   "execution_count": 31,
   "metadata": {},
   "outputs": [
    {
     "name": "stdout",
     "output_type": "stream",
     "text": [
      "<class 'pandas.core.frame.DataFrame'>\n",
      "RangeIndex: 10000 entries, 0 to 9999\n",
      "Data columns (total 14 columns):\n",
      " #   Column           Non-Null Count  Dtype  \n",
      "---  ------           --------------  -----  \n",
      " 0   RowNumber        10000 non-null  int64  \n",
      " 1   CustomerId       10000 non-null  int64  \n",
      " 2   Surname          10000 non-null  object \n",
      " 3   CreditScore      10000 non-null  int64  \n",
      " 4   Geography        10000 non-null  object \n",
      " 5   Gender           10000 non-null  object \n",
      " 6   Age              10000 non-null  int64  \n",
      " 7   Tenure           9091 non-null   float64\n",
      " 8   Balance          10000 non-null  float64\n",
      " 9   NumOfProducts    10000 non-null  int64  \n",
      " 10  HasCrCard        10000 non-null  int64  \n",
      " 11  IsActiveMember   10000 non-null  int64  \n",
      " 12  EstimatedSalary  10000 non-null  float64\n",
      " 13  Exited           10000 non-null  int64  \n",
      "dtypes: float64(3), int64(8), object(3)\n",
      "memory usage: 1.1+ MB\n"
     ]
    }
   ],
   "source": [
    "# загрузим данные\n",
    "data = pd.read_csv('/datasets/Churn.csv')\n",
    "\n",
    "# выведем информацию\n",
    "data.info()"
   ]
  },
  {
   "cell_type": "markdown",
   "metadata": {},
   "source": [
    "<b>ВЫВОД:</b> 10 000 наблюдений, 14 признаков.\n",
    "Переменные распадаются на три категории:\n",
    "- строковые значения (страна проживания, фамилия и пол)\n",
    "- дробные значения (срок лояльности банку в годах, остаточный баланс на счете и ожидаемая ЗП)\n",
    "- целочисленные значения - все остальные признаки\n",
    "\n",
    "<b>Наблюдения: </b>\n",
    "- строковые значения придется кодировать методом ОНЕ, иначе модель не обучится\n",
    "- не все признаки играют равнозначную роль при обучении модели, поскольку некоторые сугубо индивидуальны для каждого конкретного клиента (RowNumber - технический столбец, CustomerID - индивидуальный номер клиента, фамилия клиента).\n",
    "\n",
    "Таким образом, столбцы с RowNumber, CustomerID и фамилией клиента можно удалить за недадобностью."
   ]
  },
  {
   "cell_type": "markdown",
   "metadata": {},
   "source": [
    "###  Удаление ненужных столбцов"
   ]
  },
  {
   "cell_type": "code",
   "execution_count": 32,
   "metadata": {},
   "outputs": [
    {
     "data": {
      "text/html": [
       "<div>\n",
       "<style scoped>\n",
       "    .dataframe tbody tr th:only-of-type {\n",
       "        vertical-align: middle;\n",
       "    }\n",
       "\n",
       "    .dataframe tbody tr th {\n",
       "        vertical-align: top;\n",
       "    }\n",
       "\n",
       "    .dataframe thead th {\n",
       "        text-align: right;\n",
       "    }\n",
       "</style>\n",
       "<table border=\"1\" class=\"dataframe\">\n",
       "  <thead>\n",
       "    <tr style=\"text-align: right;\">\n",
       "      <th></th>\n",
       "      <th>CreditScore</th>\n",
       "      <th>Geography</th>\n",
       "      <th>Gender</th>\n",
       "      <th>Age</th>\n",
       "      <th>Tenure</th>\n",
       "      <th>Balance</th>\n",
       "      <th>NumOfProducts</th>\n",
       "      <th>HasCrCard</th>\n",
       "      <th>IsActiveMember</th>\n",
       "      <th>EstimatedSalary</th>\n",
       "      <th>Exited</th>\n",
       "    </tr>\n",
       "  </thead>\n",
       "  <tbody>\n",
       "    <tr>\n",
       "      <th>0</th>\n",
       "      <td>619</td>\n",
       "      <td>France</td>\n",
       "      <td>Female</td>\n",
       "      <td>42</td>\n",
       "      <td>2.0</td>\n",
       "      <td>0.00</td>\n",
       "      <td>1</td>\n",
       "      <td>1</td>\n",
       "      <td>1</td>\n",
       "      <td>101348.88</td>\n",
       "      <td>1</td>\n",
       "    </tr>\n",
       "    <tr>\n",
       "      <th>1</th>\n",
       "      <td>608</td>\n",
       "      <td>Spain</td>\n",
       "      <td>Female</td>\n",
       "      <td>41</td>\n",
       "      <td>1.0</td>\n",
       "      <td>83807.86</td>\n",
       "      <td>1</td>\n",
       "      <td>0</td>\n",
       "      <td>1</td>\n",
       "      <td>112542.58</td>\n",
       "      <td>0</td>\n",
       "    </tr>\n",
       "    <tr>\n",
       "      <th>2</th>\n",
       "      <td>502</td>\n",
       "      <td>France</td>\n",
       "      <td>Female</td>\n",
       "      <td>42</td>\n",
       "      <td>8.0</td>\n",
       "      <td>159660.80</td>\n",
       "      <td>3</td>\n",
       "      <td>1</td>\n",
       "      <td>0</td>\n",
       "      <td>113931.57</td>\n",
       "      <td>1</td>\n",
       "    </tr>\n",
       "  </tbody>\n",
       "</table>\n",
       "</div>"
      ],
      "text/plain": [
       "   CreditScore Geography  Gender  Age  Tenure    Balance  NumOfProducts  \\\n",
       "0          619    France  Female   42     2.0       0.00              1   \n",
       "1          608     Spain  Female   41     1.0   83807.86              1   \n",
       "2          502    France  Female   42     8.0  159660.80              3   \n",
       "\n",
       "   HasCrCard  IsActiveMember  EstimatedSalary  Exited  \n",
       "0          1               1        101348.88       1  \n",
       "1          0               1        112542.58       0  \n",
       "2          1               0        113931.57       1  "
      ]
     },
     "execution_count": 32,
     "metadata": {},
     "output_type": "execute_result"
    }
   ],
   "source": [
    "# удалим ненужные столбцы\n",
    "data = data.drop(['Surname', 'RowNumber', 'CustomerId'], axis = 1)\n",
    "data.head(3)"
   ]
  },
  {
   "cell_type": "markdown",
   "metadata": {},
   "source": [
    "###  Проверка данных на наличие дубликатов и пропусков"
   ]
  },
  {
   "cell_type": "code",
   "execution_count": 33,
   "metadata": {},
   "outputs": [
    {
     "name": "stdout",
     "output_type": "stream",
     "text": [
      "0\n"
     ]
    },
    {
     "data": {
      "text/plain": [
       "Text(0.5, 1.0, 'Пропуски в признаках данных')"
      ]
     },
     "execution_count": 33,
     "metadata": {},
     "output_type": "execute_result"
    },
    {
     "data": {
      "image/png": "[encoded data removed]",
      "text/plain": [
       "<Figure size 432x288 with 1 Axes>"
      ]
     },
     "metadata": {
      "needs_background": "light"
     },
     "output_type": "display_data"
    }
   ],
   "source": [
    "# проверим дубликаты\n",
    "print(data.duplicated().sum())\n",
    "\n",
    "# проверим пропуски\n",
    "data.isna().sum().plot(kind = 'bar')\n",
    "plt.title('Пропуски в признаках данных')"
   ]
  },
  {
   "cell_type": "markdown",
   "metadata": {},
   "source": [
    "<b>ВЫВОД:</b> дубликатов нет, пропуски только в столбце tenure. Посмотрим на них поближе."
   ]
  },
  {
   "cell_type": "markdown",
   "metadata": {},
   "source": [
    "###  Обработка пропусков"
   ]
  },
  {
   "cell_type": "code",
   "execution_count": 34,
   "metadata": {},
   "outputs": [
    {
     "data": {
      "text/html": [
       "<div>\n",
       "<style scoped>\n",
       "    .dataframe tbody tr th:only-of-type {\n",
       "        vertical-align: middle;\n",
       "    }\n",
       "\n",
       "    .dataframe tbody tr th {\n",
       "        vertical-align: top;\n",
       "    }\n",
       "\n",
       "    .dataframe thead th {\n",
       "        text-align: right;\n",
       "    }\n",
       "</style>\n",
       "<table border=\"1\" class=\"dataframe\">\n",
       "  <thead>\n",
       "    <tr style=\"text-align: right;\">\n",
       "      <th></th>\n",
       "      <th>Tenure</th>\n",
       "    </tr>\n",
       "  </thead>\n",
       "  <tbody>\n",
       "    <tr>\n",
       "      <th>CreditScore</th>\n",
       "      <td>-0.000062</td>\n",
       "    </tr>\n",
       "    <tr>\n",
       "      <th>Age</th>\n",
       "      <td>-0.013134</td>\n",
       "    </tr>\n",
       "    <tr>\n",
       "      <th>Tenure</th>\n",
       "      <td>1.000000</td>\n",
       "    </tr>\n",
       "    <tr>\n",
       "      <th>Balance</th>\n",
       "      <td>-0.007911</td>\n",
       "    </tr>\n",
       "    <tr>\n",
       "      <th>NumOfProducts</th>\n",
       "      <td>0.011979</td>\n",
       "    </tr>\n",
       "    <tr>\n",
       "      <th>HasCrCard</th>\n",
       "      <td>0.027232</td>\n",
       "    </tr>\n",
       "    <tr>\n",
       "      <th>IsActiveMember</th>\n",
       "      <td>-0.032178</td>\n",
       "    </tr>\n",
       "    <tr>\n",
       "      <th>EstimatedSalary</th>\n",
       "      <td>0.010520</td>\n",
       "    </tr>\n",
       "    <tr>\n",
       "      <th>Exited</th>\n",
       "      <td>-0.016761</td>\n",
       "    </tr>\n",
       "  </tbody>\n",
       "</table>\n",
       "</div>"
      ],
      "text/plain": [
       "                   Tenure\n",
       "CreditScore     -0.000062\n",
       "Age             -0.013134\n",
       "Tenure           1.000000\n",
       "Balance         -0.007911\n",
       "NumOfProducts    0.011979\n",
       "HasCrCard        0.027232\n",
       "IsActiveMember  -0.032178\n",
       "EstimatedSalary  0.010520\n",
       "Exited          -0.016761"
      ]
     },
     "execution_count": 34,
     "metadata": {},
     "output_type": "execute_result"
    }
   ],
   "source": [
    "# оценим корреляцию признака Tenure\n",
    "pd.DataFrame(data.corr()['Tenure'])"
   ]
  },
  {
   "cell_type": "markdown",
   "metadata": {},
   "source": [
    "<b>ВЫВОД:</b> корреляция между tenure и остальными признаками слишком слабая, чтобы можно было выделить закономерности для заполнения пропусков. Удалим их, т.к. они составляют менее 1/10 части данных."
   ]
  },
  {
   "cell_type": "code",
   "execution_count": 35,
   "metadata": {},
   "outputs": [
    {
     "data": {
      "text/plain": [
       "Text(0.5, 1.0, 'Количество пропусков в признаках после заполнения')"
      ]
     },
     "execution_count": 35,
     "metadata": {},
     "output_type": "execute_result"
    },
    {
     "data": {
      "image/png": "[encoded data removed]",
      "text/plain": [
       "<Figure size 432x288 with 1 Axes>"
      ]
     },
     "metadata": {
      "needs_background": "light"
     },
     "output_type": "display_data"
    }
   ],
   "source": [
    "# удалим пропуски\n",
    "data = data.dropna()\n",
    "\n",
    "# проверим таблицу\n",
    "data.isna().sum().plot(kind = 'bar')\n",
    "plt.title('Количество пропусков в признаках после заполнения')"
   ]
  },
  {
   "cell_type": "markdown",
   "metadata": {},
   "source": [
    "###  Преобразование типов данных"
   ]
  },
  {
   "cell_type": "code",
   "execution_count": 36,
   "metadata": {},
   "outputs": [
    {
     "data": {
      "text/html": [
       "<div>\n",
       "<style scoped>\n",
       "    .dataframe tbody tr th:only-of-type {\n",
       "        vertical-align: middle;\n",
       "    }\n",
       "\n",
       "    .dataframe tbody tr th {\n",
       "        vertical-align: top;\n",
       "    }\n",
       "\n",
       "    .dataframe thead th {\n",
       "        text-align: right;\n",
       "    }\n",
       "</style>\n",
       "<table border=\"1\" class=\"dataframe\">\n",
       "  <thead>\n",
       "    <tr style=\"text-align: right;\">\n",
       "      <th></th>\n",
       "      <th>CreditScore</th>\n",
       "      <th>Geography</th>\n",
       "      <th>Gender</th>\n",
       "      <th>Age</th>\n",
       "      <th>Tenure</th>\n",
       "      <th>Balance</th>\n",
       "      <th>NumOfProducts</th>\n",
       "      <th>HasCrCard</th>\n",
       "      <th>IsActiveMember</th>\n",
       "      <th>EstimatedSalary</th>\n",
       "      <th>Exited</th>\n",
       "    </tr>\n",
       "  </thead>\n",
       "  <tbody>\n",
       "    <tr>\n",
       "      <th>0</th>\n",
       "      <td>619</td>\n",
       "      <td>France</td>\n",
       "      <td>Female</td>\n",
       "      <td>42</td>\n",
       "      <td>2</td>\n",
       "      <td>0.00</td>\n",
       "      <td>1</td>\n",
       "      <td>1</td>\n",
       "      <td>1</td>\n",
       "      <td>101348.88</td>\n",
       "      <td>1</td>\n",
       "    </tr>\n",
       "    <tr>\n",
       "      <th>1</th>\n",
       "      <td>608</td>\n",
       "      <td>Spain</td>\n",
       "      <td>Female</td>\n",
       "      <td>41</td>\n",
       "      <td>1</td>\n",
       "      <td>83807.86</td>\n",
       "      <td>1</td>\n",
       "      <td>0</td>\n",
       "      <td>1</td>\n",
       "      <td>112542.58</td>\n",
       "      <td>0</td>\n",
       "    </tr>\n",
       "    <tr>\n",
       "      <th>2</th>\n",
       "      <td>502</td>\n",
       "      <td>France</td>\n",
       "      <td>Female</td>\n",
       "      <td>42</td>\n",
       "      <td>8</td>\n",
       "      <td>159660.80</td>\n",
       "      <td>3</td>\n",
       "      <td>1</td>\n",
       "      <td>0</td>\n",
       "      <td>113931.57</td>\n",
       "      <td>1</td>\n",
       "    </tr>\n",
       "  </tbody>\n",
       "</table>\n",
       "</div>"
      ],
      "text/plain": [
       "   CreditScore Geography  Gender  Age  Tenure    Balance  NumOfProducts  \\\n",
       "0          619    France  Female   42       2       0.00              1   \n",
       "1          608     Spain  Female   41       1   83807.86              1   \n",
       "2          502    France  Female   42       8  159660.80              3   \n",
       "\n",
       "   HasCrCard  IsActiveMember  EstimatedSalary  Exited  \n",
       "0          1               1        101348.88       1  \n",
       "1          0               1        112542.58       0  \n",
       "2          1               0        113931.57       1  "
      ]
     },
     "execution_count": 36,
     "metadata": {},
     "output_type": "execute_result"
    }
   ],
   "source": [
    "# преобразуем данные в столбце с годами лояльности\n",
    "data['Tenure'] = data['Tenure'].astype('int64')\n",
    "\n",
    "# проверим датасет\n",
    "data.head(3)"
   ]
  },
  {
   "cell_type": "markdown",
   "metadata": {},
   "source": [
    "<b>ВЫВОД:</b> таблица очищена от ненужных признаков и пропусков. "
   ]
  },
  {
   "cell_type": "markdown",
   "metadata": {},
   "source": [
    "###  Кодирование категориальных признаков"
   ]
  },
  {
   "cell_type": "code",
   "execution_count": 37,
   "metadata": {},
   "outputs": [
    {
     "data": {
      "text/html": [
       "<div>\n",
       "<style scoped>\n",
       "    .dataframe tbody tr th:only-of-type {\n",
       "        vertical-align: middle;\n",
       "    }\n",
       "\n",
       "    .dataframe tbody tr th {\n",
       "        vertical-align: top;\n",
       "    }\n",
       "\n",
       "    .dataframe thead th {\n",
       "        text-align: right;\n",
       "    }\n",
       "</style>\n",
       "<table border=\"1\" class=\"dataframe\">\n",
       "  <thead>\n",
       "    <tr style=\"text-align: right;\">\n",
       "      <th></th>\n",
       "      <th>CreditScore</th>\n",
       "      <th>Age</th>\n",
       "      <th>Tenure</th>\n",
       "      <th>Balance</th>\n",
       "      <th>NumOfProducts</th>\n",
       "      <th>HasCrCard</th>\n",
       "      <th>IsActiveMember</th>\n",
       "      <th>EstimatedSalary</th>\n",
       "      <th>Exited</th>\n",
       "      <th>Geography_Germany</th>\n",
       "      <th>Geography_Spain</th>\n",
       "      <th>Gender_Male</th>\n",
       "    </tr>\n",
       "  </thead>\n",
       "  <tbody>\n",
       "    <tr>\n",
       "      <th>5390</th>\n",
       "      <td>735</td>\n",
       "      <td>38</td>\n",
       "      <td>1</td>\n",
       "      <td>0.00</td>\n",
       "      <td>3</td>\n",
       "      <td>0</td>\n",
       "      <td>0</td>\n",
       "      <td>92220.12</td>\n",
       "      <td>1</td>\n",
       "      <td>0</td>\n",
       "      <td>0</td>\n",
       "      <td>0</td>\n",
       "    </tr>\n",
       "    <tr>\n",
       "      <th>2785</th>\n",
       "      <td>640</td>\n",
       "      <td>43</td>\n",
       "      <td>7</td>\n",
       "      <td>132412.38</td>\n",
       "      <td>1</td>\n",
       "      <td>0</td>\n",
       "      <td>0</td>\n",
       "      <td>69584.30</td>\n",
       "      <td>1</td>\n",
       "      <td>0</td>\n",
       "      <td>0</td>\n",
       "      <td>1</td>\n",
       "    </tr>\n",
       "    <tr>\n",
       "      <th>1675</th>\n",
       "      <td>784</td>\n",
       "      <td>33</td>\n",
       "      <td>10</td>\n",
       "      <td>0.00</td>\n",
       "      <td>2</td>\n",
       "      <td>1</td>\n",
       "      <td>0</td>\n",
       "      <td>162022.47</td>\n",
       "      <td>0</td>\n",
       "      <td>0</td>\n",
       "      <td>1</td>\n",
       "      <td>1</td>\n",
       "    </tr>\n",
       "  </tbody>\n",
       "</table>\n",
       "</div>"
      ],
      "text/plain": [
       "      CreditScore  Age  Tenure    Balance  NumOfProducts  HasCrCard  \\\n",
       "5390          735   38       1       0.00              3          0   \n",
       "2785          640   43       7  132412.38              1          0   \n",
       "1675          784   33      10       0.00              2          1   \n",
       "\n",
       "      IsActiveMember  EstimatedSalary  Exited  Geography_Germany  \\\n",
       "5390               0         92220.12       1                  0   \n",
       "2785               0         69584.30       1                  0   \n",
       "1675               0        162022.47       0                  0   \n",
       "\n",
       "      Geography_Spain  Gender_Male  \n",
       "5390                0            0  \n",
       "2785                0            1  \n",
       "1675                1            1  "
      ]
     },
     "execution_count": 37,
     "metadata": {},
     "output_type": "execute_result"
    }
   ],
   "source": [
    "# получим дамми-переменные\n",
    "data = pd.get_dummies(data, drop_first = True)\n",
    "data.sample(3)"
   ]
  },
  {
   "cell_type": "markdown",
   "metadata": {},
   "source": [
    "<b>ВЫВОД:</b> строковые переменные обработаны. Посмотрим на переменные с количественными значениями."
   ]
  },
  {
   "cell_type": "markdown",
   "metadata": {},
   "source": [
    "###  Анализ количественных переменных"
   ]
  },
  {
   "cell_type": "code",
   "execution_count": 38,
   "metadata": {},
   "outputs": [
    {
     "data": {
      "text/plain": [
       "CreditScore            int64\n",
       "Age                    int64\n",
       "Tenure                 int64\n",
       "Balance              float64\n",
       "NumOfProducts          int64\n",
       "HasCrCard              int64\n",
       "IsActiveMember         int64\n",
       "EstimatedSalary      float64\n",
       "Exited                 int64\n",
       "Geography_Germany      uint8\n",
       "Geography_Spain        uint8\n",
       "Gender_Male            uint8\n",
       "dtype: object"
      ]
     },
     "execution_count": 38,
     "metadata": {},
     "output_type": "execute_result"
    }
   ],
   "source": [
    "data.dtypes"
   ]
  },
  {
   "cell_type": "markdown",
   "metadata": {},
   "source": [
    "<b>ВЫВОД:</b> количественные переменные представлены признаками CreditScore, Age, Tenure, Balance, NumOfProducts, HasCRCard, IsActiveMember, EstimatedSalary, Exited\n",
    "\n",
    "Из них бинарные признаки: HasCRCard, IsActiveMember \n",
    "\n",
    "Exited - бинарный целевой признак"
   ]
  },
  {
   "cell_type": "code",
   "execution_count": 39,
   "metadata": {},
   "outputs": [
    {
     "data": {
      "text/html": [
       "<div>\n",
       "<style scoped>\n",
       "    .dataframe tbody tr th:only-of-type {\n",
       "        vertical-align: middle;\n",
       "    }\n",
       "\n",
       "    .dataframe tbody tr th {\n",
       "        vertical-align: top;\n",
       "    }\n",
       "\n",
       "    .dataframe thead th {\n",
       "        text-align: right;\n",
       "    }\n",
       "</style>\n",
       "<table border=\"1\" class=\"dataframe\">\n",
       "  <thead>\n",
       "    <tr style=\"text-align: right;\">\n",
       "      <th></th>\n",
       "      <th>CreditScore</th>\n",
       "      <th>Age</th>\n",
       "      <th>Tenure</th>\n",
       "      <th>Balance</th>\n",
       "      <th>NumOfProducts</th>\n",
       "      <th>EstimatedSalary</th>\n",
       "    </tr>\n",
       "  </thead>\n",
       "  <tbody>\n",
       "    <tr>\n",
       "      <th>min</th>\n",
       "      <td>350.000000</td>\n",
       "      <td>18.000000</td>\n",
       "      <td>0.000000</td>\n",
       "      <td>0.000000e+00</td>\n",
       "      <td>1.000000</td>\n",
       "      <td>1.158000e+01</td>\n",
       "    </tr>\n",
       "    <tr>\n",
       "      <th>max</th>\n",
       "      <td>850.000000</td>\n",
       "      <td>92.000000</td>\n",
       "      <td>10.000000</td>\n",
       "      <td>2.508981e+05</td>\n",
       "      <td>4.000000</td>\n",
       "      <td>1.999925e+05</td>\n",
       "    </tr>\n",
       "    <tr>\n",
       "      <th>nunique</th>\n",
       "      <td>458.000000</td>\n",
       "      <td>70.000000</td>\n",
       "      <td>11.000000</td>\n",
       "      <td>5.807000e+03</td>\n",
       "      <td>4.000000</td>\n",
       "      <td>9.090000e+03</td>\n",
       "    </tr>\n",
       "    <tr>\n",
       "      <th>var</th>\n",
       "      <td>9294.978883</td>\n",
       "      <td>111.420299</td>\n",
       "      <td>8.379423</td>\n",
       "      <td>3.884970e+09</td>\n",
       "      <td>0.337565</td>\n",
       "      <td>3.320612e+09</td>\n",
       "    </tr>\n",
       "  </tbody>\n",
       "</table>\n",
       "</div>"
      ],
      "text/plain": [
       "         CreditScore         Age     Tenure       Balance  NumOfProducts  \\\n",
       "min       350.000000   18.000000   0.000000  0.000000e+00       1.000000   \n",
       "max       850.000000   92.000000  10.000000  2.508981e+05       4.000000   \n",
       "nunique   458.000000   70.000000  11.000000  5.807000e+03       4.000000   \n",
       "var      9294.978883  111.420299   8.379423  3.884970e+09       0.337565   \n",
       "\n",
       "         EstimatedSalary  \n",
       "min         1.158000e+01  \n",
       "max         1.999925e+05  \n",
       "nunique     9.090000e+03  \n",
       "var         3.320612e+09  "
      ]
     },
     "execution_count": 39,
     "metadata": {},
     "output_type": "execute_result"
    }
   ],
   "source": [
    "# выведем минимальные, макс., уникальные зна-ия и дисперсию фич\n",
    "data[['CreditScore', 'Age', 'Tenure', 'Balance', 'NumOfProducts', 'EstimatedSalary']].agg(['min', 'max', 'nunique', 'var'])"
   ]
  },
  {
   "cell_type": "markdown",
   "metadata": {},
   "source": [
    "<b>ВЫВОД:</b> разброс значений в рамках признаков слишком большой, без масштабирования не обойтись. Но сначала нужно разбить данные на выборки. "
   ]
  },
  {
   "cell_type": "markdown",
   "metadata": {},
   "source": [
    "###  Разбиение данных на выборки"
   ]
  },
  {
   "cell_type": "markdown",
   "metadata": {},
   "source": [
    "- разобьем данные на обучающую, валидационную и тестовую выборки в соотношении 60-20-20"
   ]
  },
  {
   "cell_type": "code",
   "execution_count": 40,
   "metadata": {},
   "outputs": [
    {
     "name": "stdout",
     "output_type": "stream",
     "text": [
      "5454 1818 1819\n",
      "5454 1818 1819\n"
     ]
    }
   ],
   "source": [
    "features = data.drop(['Exited'], axis = 1)\n",
    "target = data['Exited']\n",
    "\n",
    "features_train_valid, features_test, target_train_valid, target_test = train_test_split(features, target, \n",
    "                                                                                        test_size=0.20, random_state=42)\n",
    "features_train, features_valid, target_train, target_valid = train_test_split(features_train_valid, target_train_valid,\n",
    "                                                                              test_size=0.25, random_state=42)\n",
    "\n",
    "# проверим размеры выборок\n",
    "print(len(features_train), len(features_valid), len(features_test))\n",
    "print(len(target_train), len(target_valid), len(target_test))\n"
   ]
  },
  {
   "cell_type": "markdown",
   "metadata": {},
   "source": [
    "<b>ВЫВОД:</b> выборки получены. Произведем масштабирование признаков."
   ]
  },
  {
   "cell_type": "markdown",
   "metadata": {},
   "source": [
    "###  Масштабирование данных"
   ]
  },
  {
   "cell_type": "code",
   "execution_count": 41,
   "metadata": {},
   "outputs": [
    {
     "data": {
      "text/html": [
       "<div>\n",
       "<style scoped>\n",
       "    .dataframe tbody tr th:only-of-type {\n",
       "        vertical-align: middle;\n",
       "    }\n",
       "\n",
       "    .dataframe tbody tr th {\n",
       "        vertical-align: top;\n",
       "    }\n",
       "\n",
       "    .dataframe thead th {\n",
       "        text-align: right;\n",
       "    }\n",
       "</style>\n",
       "<table border=\"1\" class=\"dataframe\">\n",
       "  <thead>\n",
       "    <tr style=\"text-align: right;\">\n",
       "      <th></th>\n",
       "      <th>CreditScore</th>\n",
       "      <th>Age</th>\n",
       "      <th>Tenure</th>\n",
       "      <th>Balance</th>\n",
       "      <th>NumOfProducts</th>\n",
       "      <th>HasCrCard</th>\n",
       "      <th>IsActiveMember</th>\n",
       "      <th>EstimatedSalary</th>\n",
       "      <th>Geography_Germany</th>\n",
       "      <th>Geography_Spain</th>\n",
       "      <th>Gender_Male</th>\n",
       "    </tr>\n",
       "  </thead>\n",
       "  <tbody>\n",
       "    <tr>\n",
       "      <th>7925</th>\n",
       "      <td>0.472</td>\n",
       "      <td>0.202703</td>\n",
       "      <td>0.7</td>\n",
       "      <td>0.000000</td>\n",
       "      <td>0.333333</td>\n",
       "      <td>1</td>\n",
       "      <td>1</td>\n",
       "      <td>0.841329</td>\n",
       "      <td>0</td>\n",
       "      <td>1</td>\n",
       "      <td>0</td>\n",
       "    </tr>\n",
       "    <tr>\n",
       "      <th>8656</th>\n",
       "      <td>0.620</td>\n",
       "      <td>0.175676</td>\n",
       "      <td>0.1</td>\n",
       "      <td>0.337029</td>\n",
       "      <td>0.000000</td>\n",
       "      <td>1</td>\n",
       "      <td>1</td>\n",
       "      <td>0.688929</td>\n",
       "      <td>0</td>\n",
       "      <td>1</td>\n",
       "      <td>1</td>\n",
       "    </tr>\n",
       "    <tr>\n",
       "      <th>3627</th>\n",
       "      <td>0.508</td>\n",
       "      <td>0.283784</td>\n",
       "      <td>0.7</td>\n",
       "      <td>0.392765</td>\n",
       "      <td>0.000000</td>\n",
       "      <td>1</td>\n",
       "      <td>1</td>\n",
       "      <td>0.261605</td>\n",
       "      <td>0</td>\n",
       "      <td>1</td>\n",
       "      <td>0</td>\n",
       "    </tr>\n",
       "  </tbody>\n",
       "</table>\n",
       "</div>"
      ],
      "text/plain": [
       "      CreditScore       Age  Tenure   Balance  NumOfProducts  HasCrCard  \\\n",
       "7925        0.472  0.202703     0.7  0.000000       0.333333          1   \n",
       "8656        0.620  0.175676     0.1  0.337029       0.000000          1   \n",
       "3627        0.508  0.283784     0.7  0.392765       0.000000          1   \n",
       "\n",
       "      IsActiveMember  EstimatedSalary  Geography_Germany  Geography_Spain  \\\n",
       "7925               1         0.841329                  0                1   \n",
       "8656               1         0.688929                  0                1   \n",
       "3627               1         0.261605                  0                1   \n",
       "\n",
       "      Gender_Male  \n",
       "7925            0  \n",
       "8656            1  \n",
       "3627            0  "
      ]
     },
     "execution_count": 41,
     "metadata": {},
     "output_type": "execute_result"
    }
   ],
   "source": [
    "# создадим список с фичами для масштабирования\n",
    "numeric = ['CreditScore', 'Tenure', 'Age', 'Balance', 'EstimatedSalary', 'NumOfProducts']\n",
    "\n",
    "# обучим модель\n",
    "scaler = MinMaxScaler()\n",
    "scaler.fit(features_train[numeric])\n",
    "\n",
    "# трансформируем признаки по выборкам\n",
    "features_train[numeric] = scaler.transform(features_train[numeric])\n",
    "features_valid[numeric] = scaler.transform(features_valid[numeric])\n",
    "features_test[numeric] = scaler.transform(features_test[numeric])\n",
    "\n",
    "# проверим таблицу\n",
    "features_train.sample(3)"
   ]
  },
  {
   "cell_type": "markdown",
   "metadata": {},
   "source": [
    "<b>ВЫВОД ПО ЭТАПУ:</b>\n",
    "- таблица была очищена от пропусков\n",
    "- ненужные столбцы были удалены\n",
    "- строковые переменные были закодированы методом ОНЕ\n",
    "- численные переменные были масштабированы\n",
    "\n",
    "Можно переходить к исследованию задачи"
   ]
  },
  {
   "cell_type": "markdown",
   "metadata": {},
   "source": [
    "##  Исследование задачи"
   ]
  },
  {
   "cell_type": "markdown",
   "metadata": {},
   "source": [
    "###  Анализ весов классов"
   ]
  },
  {
   "cell_type": "code",
   "execution_count": 42,
   "metadata": {},
   "outputs": [
    {
     "data": {
      "text/plain": [
       "Text(0.5, 1.0, 'Соотношение классов в датасете')"
      ]
     },
     "execution_count": 42,
     "metadata": {},
     "output_type": "execute_result"
    },
    {
     "data": {
      "image/png": "[encoded data removed]",
      "text/plain": [
       "<Figure size 360x360 with 1 Axes>"
      ]
     },
     "metadata": {},
     "output_type": "display_data"
    }
   ],
   "source": [
    "pd.DataFrame(target_train.value_counts()).plot(subplots = True, kind= 'pie', figsize = (5,5))\n",
    "plt.title('Соотношение классов в датасете')"
   ]
  },
  {
   "cell_type": "markdown",
   "metadata": {},
   "source": [
    "<b>ВЫВОД:</b> в обучающей выборке соотношение классов примерно 80:20. Из-за дисбаланса метрика f1, вероятнее всего, будет низкой. Проверим это."
   ]
  },
  {
   "cell_type": "markdown",
   "metadata": {},
   "source": [
    "###  Обучение модели случайного леса без учета весов классов"
   ]
  },
  {
   "cell_type": "code",
   "execution_count": 43,
   "metadata": {},
   "outputs": [],
   "source": [
    "params = {'max_depth' : [5, 10, 15, 20],\n",
    "         'criterion' : ['gini', 'entropy'],\n",
    "         'min_samples_leaf' : [1, 5, 9, 15],\n",
    "         'n_estimators': [5,10,15,20,25,30,40,50,100]}"
   ]
  },
  {
   "cell_type": "code",
   "execution_count": 44,
   "metadata": {},
   "outputs": [
    {
     "name": "stdout",
     "output_type": "stream",
     "text": [
      "RandomForestClassifier(criterion='entropy', max_depth=15, n_estimators=25,\n",
      "                       random_state=42)\n",
      "Лучший показатель f1 несбалансированного случайного леса равен 0.5925925925925926\n",
      "AUC-ROC несбалансированного случайного леса равен 0.8545899407082596\n"
     ]
    }
   ],
   "source": [
    "forest_clf = RandomForestClassifier(random_state = 42, class_weight = None)\n",
    "random_model = RandomizedSearchCV(estimator = forest_clf,\n",
    "                        param_distributions  = params,\n",
    "                         scoring = 'f1',\n",
    "                         verbose = 0,\n",
    "                         n_jobs = -1,\n",
    "                         cv = 3)\n",
    "random_model.fit(features_train, target_train)\n",
    "print(random_model.best_estimator_)\n",
    "\n",
    "#проверим модель на валидационной выборке\n",
    "probabilities = random_model.predict_proba(features_valid)\n",
    "auc_roc = roc_auc_score(target_valid, probabilities[:,1])\n",
    "print('Лучший показатель f1 несбалансированного случайного леса равен', random_model.score(features_valid, target_valid))\n",
    "print('AUC-ROC несбалансированного случайного леса равен', auc_roc)"
   ]
  },
  {
   "cell_type": "markdown",
   "metadata": {},
   "source": [
    "<b>ВЫВОД:</b> показатель 0.586 при максимальной глубине дерева 30 и кол-ве оценщиков 20 является наилучшим. \n",
    "AUC-ROC составляет 0.859. Для случайной модели результат неплохой."
   ]
  },
  {
   "cell_type": "markdown",
   "metadata": {},
   "source": [
    "### Обучение модели логистической регрессии без учета весов классов"
   ]
  },
  {
   "cell_type": "code",
   "execution_count": 45,
   "metadata": {},
   "outputs": [
    {
     "name": "stdout",
     "output_type": "stream",
     "text": [
      "Лучший показатель f1 логистической регрессии равен 0.33398821218074654\n",
      "AUC-ROC равняется 0.8545899407082596\n"
     ]
    }
   ],
   "source": [
    "model_logr_unbalanced = LogisticRegression(random_state = 42, solver = 'liblinear')\n",
    "model_logr_unbalanced.fit(features_train, target_train)\n",
    "predicted_valid = model_logr_unbalanced.predict(features_valid)\n",
    "\n",
    "f1 = f1_score(predicted_valid, target_valid)\n",
    "auc_roc = roc_auc_score(target_valid, probabilities[:,1])\n",
    "\n",
    "print('Лучший показатель f1 логистической регрессии равен', f1)\n",
    "print('AUC-ROC равняется', auc_roc)"
   ]
  },
  {
   "cell_type": "markdown",
   "metadata": {},
   "source": [
    "<b>ВЫВОД:</b> показатель f1 всего 0.333. AUC-score 0.86. Есть что улучшить."
   ]
  },
  {
   "cell_type": "markdown",
   "metadata": {},
   "source": [
    "##  Борьба с дисбалансом"
   ]
  },
  {
   "cell_type": "code",
   "execution_count": 46,
   "metadata": {},
   "outputs": [],
   "source": [
    "#создадим список для сохранения рез-тов предсказаний\n",
    "results_f1 = []\n",
    "results_auc = []"
   ]
  },
  {
   "cell_type": "markdown",
   "metadata": {},
   "source": [
    "###  Учитывание веса за счет параметра class_weight"
   ]
  },
  {
   "cell_type": "markdown",
   "metadata": {},
   "source": [
    "Самый простой способ - учесть баланс классов, указав в class_weight 'balanced'. Сделаем это и посмотрим на метрики"
   ]
  },
  {
   "cell_type": "markdown",
   "metadata": {},
   "source": [
    "#### Сбалансируем классы для случайного леса"
   ]
  },
  {
   "cell_type": "code",
   "execution_count": 47,
   "metadata": {},
   "outputs": [
    {
     "name": "stdout",
     "output_type": "stream",
     "text": [
      "RandomForestClassifier(class_weight='balanced', max_depth=15,\n",
      "                       min_samples_leaf=5, n_estimators=40, random_state=42)\n",
      "Лучший показатель f1 сбалансированного случайного леса равен 0.6287978863936592\n",
      "AUC-ROC сбалансированного случайного леса равен 0.8624694274053389\n"
     ]
    }
   ],
   "source": [
    "forest_clf = RandomForestClassifier(random_state = 42, class_weight = 'balanced')\n",
    "random_model = RandomizedSearchCV(estimator = forest_clf,\n",
    "                         param_distributions  = params,\n",
    "                         scoring = 'f1',\n",
    "                         verbose = 0,\n",
    "                         n_jobs = -1,\n",
    "                         cv = 3)\n",
    "random_model.fit(features_train, target_train)\n",
    "print(random_model.best_estimator_)\n",
    "\n",
    "#проверим модель на валидационной выборке\n",
    "probabilities = random_model.predict_proba(features_valid)\n",
    "auc_roc = roc_auc_score(target_valid, probabilities[:,1])\n",
    "\n",
    "# сохраним результаты \n",
    "results_f1.append(random_model.score(features_valid, target_valid))\n",
    "results_auc.append(auc_roc)\n",
    "\n",
    "print('Лучший показатель f1 сбалансированного случайного леса равен', random_model.score(features_valid, target_valid))\n",
    "print('AUC-ROC сбалансированного случайного леса равен', auc_roc)"
   ]
  },
  {
   "cell_type": "markdown",
   "metadata": {},
   "source": [
    "<b>ВЫВОД:</b> показатель метрики f1 ощутимо вырос с 0.56 до 0.63. Нужный порог достигнут. AUC-score пока наивысший - 0.86"
   ]
  },
  {
   "cell_type": "markdown",
   "metadata": {},
   "source": [
    "####  Сбалансируем классы для логистической регрессии"
   ]
  },
  {
   "cell_type": "code",
   "execution_count": 48,
   "metadata": {},
   "outputs": [
    {
     "name": "stdout",
     "output_type": "stream",
     "text": [
      "Лучший показатель f1 логистической регрессии равен 0.48622981956315287\n",
      "AUC-ROC равняется 0.8624694274053389\n"
     ]
    }
   ],
   "source": [
    "model_logr_balanced = LogisticRegression(random_state = 42, solver = 'liblinear',\n",
    "                          class_weight = 'balanced')\n",
    "model_logr_balanced.fit(features_train, target_train)\n",
    "predicted_valid = model_logr_balanced.predict(features_valid)\n",
    "f1 = f1_score(predicted_valid, target_valid)\n",
    "auc_roc = roc_auc_score(target_valid, probabilities[:,1])\n",
    "\n",
    "# сохраним результаты \n",
    "results_f1.append(f1)\n",
    "results_auc.append(auc_roc)\n",
    "\n",
    "print('Лучший показатель f1 логистической регрессии равен', f1)\n",
    "print('AUC-ROC равняется', auc_roc)"
   ]
  },
  {
   "cell_type": "markdown",
   "metadata": {},
   "source": [
    "<b>ВЫВОД:</b> метрика f1 увеличилась до 0.486, но этого все еще недостаточно. AUC почти не изменилась"
   ]
  },
  {
   "cell_type": "markdown",
   "metadata": {},
   "source": [
    "###  Балансировка методом upsampling"
   ]
  },
  {
   "cell_type": "code",
   "execution_count": 49,
   "metadata": {},
   "outputs": [
    {
     "data": {
      "text/plain": [
       "1    4436\n",
       "0    4345\n",
       "Name: Exited, dtype: int64"
      ]
     },
     "execution_count": 49,
     "metadata": {},
     "output_type": "execute_result"
    }
   ],
   "source": [
    "# создадим ф-цию для увеличения выборки \n",
    "def upsample(features, target, repeat):\n",
    "    features_zeros = features[target == 0]\n",
    "    features_ones = features[target == 1]\n",
    "    target_zeros = target[target == 0]\n",
    "    target_ones = target[target == 1]\n",
    "\n",
    "    features_upsampled = pd.concat([features_zeros] + [features_ones] * repeat)\n",
    "    target_upsampled = pd.concat([target_zeros] + [target_ones] * repeat)\n",
    "    \n",
    "# применим shuffle и перемешаем итоговую выборку\n",
    "    features_upsampled, target_upsampled = shuffle(features_upsampled, target_upsampled, random_state=12345)\n",
    "    \n",
    "    return features_upsampled, target_upsampled\n",
    "\n",
    "# применим ф-цию к обучающей выборке\n",
    "features_upsampled, target_upsampled = upsample(features_train, target_train, 4)\n",
    "\n",
    "# проверим рез-т\n",
    "target_upsampled.value_counts()"
   ]
  },
  {
   "cell_type": "code",
   "execution_count": 50,
   "metadata": {},
   "outputs": [
    {
     "data": {
      "text/plain": [
       "Text(0.5, 1.0, 'Соотношение классов в датасете после upsampling')"
      ]
     },
     "execution_count": 50,
     "metadata": {},
     "output_type": "execute_result"
    },
    {
     "data": {
      "image/png": "[encoded data removed]",
      "text/plain": [
       "<Figure size 360x360 with 1 Axes>"
      ]
     },
     "metadata": {},
     "output_type": "display_data"
    }
   ],
   "source": [
    "# визуализируем баланс классов\n",
    "pd.DataFrame(target_upsampled.value_counts()).plot(subplots = True, kind= 'pie', figsize = (5,5))\n",
    "plt.title('Соотношение классов в датасете после upsampling')"
   ]
  },
  {
   "cell_type": "markdown",
   "metadata": {},
   "source": [
    "#### Обучим модель случайного леса на увеличенной выборке"
   ]
  },
  {
   "cell_type": "code",
   "execution_count": 51,
   "metadata": {},
   "outputs": [
    {
     "name": "stdout",
     "output_type": "stream",
     "text": [
      "RandomForestClassifier(criterion='entropy', max_depth=15, n_estimators=30,\n",
      "                       random_state=42)\n",
      "Лучший показатель f1 случайного леса на увеличенной выборке равен 0.6058981233243967\n",
      "AUC-ROC случайного леса на увеличенной выборке равен 0.8600832282424646\n"
     ]
    }
   ],
   "source": [
    "forest_clf = RandomForestClassifier(random_state = 42, class_weight = None)\n",
    "random_model = RandomizedSearchCV(estimator = forest_clf,\n",
    "                         param_distributions  = params,\n",
    "                         scoring = 'f1',\n",
    "                         verbose = 0,\n",
    "                         n_jobs = -1,\n",
    "                         cv = 3)\n",
    "random_model.fit(features_upsampled, target_upsampled)\n",
    "print(random_model.best_estimator_)\n",
    "\n",
    "# проверим модель на валидационной выборке\n",
    "probabilities = random_model.predict_proba(features_valid)\n",
    "auc_roc = roc_auc_score(target_valid, probabilities[:,1])\n",
    "\n",
    "# сохраним результаты \n",
    "results_f1.append(random_model.score(features_valid, target_valid))\n",
    "results_auc.append(auc_roc)\n",
    "\n",
    "print('Лучший показатель f1 случайного леса на увеличенной выборке равен', random_model.score(features_valid, target_valid))\n",
    "print('AUC-ROC случайного леса на увеличенной выборке равен', auc_roc)"
   ]
  },
  {
   "cell_type": "markdown",
   "metadata": {},
   "source": [
    "<b>ВЫВОД:</b> метрика f1 ниже чем с учетом class_weight = 'balanced' и составляет 0.602.  AUC вырос на 0.003 - незначительный результат. Тем не менее, порог f1 все еще достигнут."
   ]
  },
  {
   "cell_type": "markdown",
   "metadata": {},
   "source": [
    "#### Обучим логистическую регрессию на сбалансированной увеличенной выборке"
   ]
  },
  {
   "cell_type": "code",
   "execution_count": 52,
   "metadata": {},
   "outputs": [
    {
     "name": "stdout",
     "output_type": "stream",
     "text": [
      "AUC-ROC логистической регрессии на увеличенной выборке равен 0.7731229404828655\n",
      "Показатель f1 логистической регрессии на увеличенной выборке равен 0.4878048780487804\n"
     ]
    }
   ],
   "source": [
    "model_logr_upsampled = LogisticRegression(random_state = 42, solver = 'liblinear')\n",
    "model_logr_upsampled.fit(features_upsampled, target_upsampled)\n",
    "predicted_valid = model_logr_upsampled.predict(features_valid)\n",
    "f1 = f1_score(predicted_valid, target_valid)\n",
    "probabilities = model_logr_upsampled.predict_proba(features_valid)\n",
    "auc_roc = roc_auc_score(target_valid, probabilities[:,1])\n",
    "\n",
    "# сохраним результаты \n",
    "results_f1.append(f1)\n",
    "results_auc.append(auc_roc)\n",
    "\n",
    "print('AUC-ROC логистической регрессии на увеличенной выборке равен', auc_roc)\n",
    "print('Показатель f1 логистической регрессии на увеличенной выборке равен', f1)"
   ]
  },
  {
   "cell_type": "markdown",
   "metadata": {},
   "source": [
    "<b>ВЫВОД:</b> f1 вырос 0.45 до 0.49. Неплохо, но очень мало. В плане AUC мы не выиграли ничего"
   ]
  },
  {
   "cell_type": "markdown",
   "metadata": {},
   "source": [
    "### Балансировка методом downsampling "
   ]
  },
  {
   "cell_type": "code",
   "execution_count": 53,
   "metadata": {},
   "outputs": [],
   "source": [
    "# создадим ф-цию уменьшения выборки\n",
    "def downsample(features, target, fraction):\n",
    "    features_zeros = features[target == 0]\n",
    "    features_ones = features[target == 1]\n",
    "    target_zeros = target[target == 0]\n",
    "    target_ones = target[target == 1]\n",
    "\n",
    "    features_downsampled = pd.concat(\n",
    "        [features_zeros.sample(frac=fraction, random_state=42)] + [features_ones])\n",
    "    target_downsampled = pd.concat(\n",
    "        [target_zeros.sample(frac=fraction, random_state=42)] + [target_ones])\n",
    "    \n",
    "    features_downsampled, target_downsampled = shuffle(\n",
    "        features_downsampled, target_downsampled, random_state=42)\n",
    "    \n",
    "    return features_downsampled, target_downsampled\n",
    "\n",
    "features_downsampled, target_downsampled = downsample(features_train, target_train, 0.25)"
   ]
  },
  {
   "cell_type": "code",
   "execution_count": 54,
   "metadata": {},
   "outputs": [
    {
     "data": {
      "text/plain": [
       "Text(0.5, 1.0, 'Соотношение классов в датасете после downsampling')"
      ]
     },
     "execution_count": 54,
     "metadata": {},
     "output_type": "execute_result"
    },
    {
     "data": {
      "image/png": "[encoded data removed]",
      "text/plain": [
       "<Figure size 360x360 with 1 Axes>"
      ]
     },
     "metadata": {},
     "output_type": "display_data"
    }
   ],
   "source": [
    "# визуализируем баланс классов после downsamling\n",
    "pd.DataFrame(target_downsampled.value_counts()).plot(subplots = True, kind= 'pie', figsize = (5,5))\n",
    "plt.title('Соотношение классов в датасете после downsampling')"
   ]
  },
  {
   "cell_type": "markdown",
   "metadata": {},
   "source": [
    "#### Обучим модель случайного леса на сбалансированной уменьшенной выборке"
   ]
  },
  {
   "cell_type": "code",
   "execution_count": 55,
   "metadata": {},
   "outputs": [
    {
     "name": "stdout",
     "output_type": "stream",
     "text": [
      "RandomForestClassifier(max_depth=20, min_samples_leaf=9, n_estimators=20,\n",
      "                       random_state=42)\n",
      "Лучший показатель f1 случайного леса на уменьшенной выборке равен 0.5708418891170433\n",
      "AUC-ROC случайного леса на уменьшенной выборке равен 0.851204369296453\n"
     ]
    }
   ],
   "source": [
    "forest_clf = RandomForestClassifier(random_state = 42, class_weight = None)\n",
    "random_model = RandomizedSearchCV(estimator = forest_clf,\n",
    "                         param_distributions  = params,\n",
    "                         scoring = 'f1',\n",
    "                         verbose = 0,\n",
    "                         n_jobs = -1,\n",
    "                         cv = 3)\n",
    "random_model.fit(features_downsampled, target_downsampled)\n",
    "print(random_model.best_estimator_)\n",
    "\n",
    "# проверим модель на валидационной выборке\n",
    "probabilities = random_model.predict_proba(features_valid)\n",
    "auc_roc = roc_auc_score(target_valid, probabilities[:,1])\n",
    "\n",
    "# сохраним результаты \n",
    "results_f1.append(random_model.score(features_valid, target_valid))\n",
    "results_auc.append(auc_roc)\n",
    "\n",
    "print('Лучший показатель f1 случайного леса на уменьшенной выборке равен', random_model.score(features_valid, target_valid))\n",
    "print('AUC-ROC случайного леса на уменьшенной выборке равен', auc_roc)"
   ]
  },
  {
   "cell_type": "markdown",
   "metadata": {},
   "source": [
    "<b>ВЫВОД:</b> и метрика f1, и AUC ниже, чем на увеличенной выборке"
   ]
  },
  {
   "cell_type": "markdown",
   "metadata": {},
   "source": [
    "#### Обучим модель логистической регрессии на сбалансированной уменьшенной выборке"
   ]
  },
  {
   "cell_type": "code",
   "execution_count": 56,
   "metadata": {},
   "outputs": [
    {
     "name": "stdout",
     "output_type": "stream",
     "text": [
      "AUC-ROC логистической регрессии на уменьшенной выборке равен 0.7731229404828655\n",
      "Показатель f1 логистической регрессии на уменьшенной выборке равен 0.4859813084112149\n"
     ]
    }
   ],
   "source": [
    "model_logr_downsampled = LogisticRegression(random_state = 42, solver = 'liblinear')\n",
    "model_logr_downsampled.fit(features_downsampled, target_downsampled)\n",
    "predicted_valid = model_logr_downsampled.predict(features_valid)\n",
    "f1 = f1_score(predicted_valid, target_valid)\n",
    "probabilities = model_logr_upsampled.predict_proba(features_valid)\n",
    "auc_roc = roc_auc_score(target_valid, probabilities[:,1])\n",
    "\n",
    "# сохраним результаты \n",
    "results_f1.append(f1)\n",
    "results_auc.append(auc_roc)\n",
    "\n",
    "print('AUC-ROC логистической регрессии на уменьшенной выборке равен', auc_roc)\n",
    "print('Показатель f1 логистической регрессии на уменьшенной выборке равен', f1)"
   ]
  },
  {
   "cell_type": "markdown",
   "metadata": {},
   "source": [
    "<b>ВЫВОД:</b> почти ничего не изменилось\n",
    "\n",
    "Пришло время визуализировать результаты тестов"
   ]
  },
  {
   "cell_type": "markdown",
   "metadata": {},
   "source": [
    "### Визуализация результатов обучения моделей на сбалансированных выборках"
   ]
  },
  {
   "cell_type": "code",
   "execution_count": 74,
   "metadata": {},
   "outputs": [
    {
     "data": {
      "text/html": [
       "<div>\n",
       "<style scoped>\n",
       "    .dataframe tbody tr th:only-of-type {\n",
       "        vertical-align: middle;\n",
       "    }\n",
       "\n",
       "    .dataframe tbody tr th {\n",
       "        vertical-align: top;\n",
       "    }\n",
       "\n",
       "    .dataframe thead th {\n",
       "        text-align: right;\n",
       "    }\n",
       "</style>\n",
       "<table border=\"1\" class=\"dataframe\">\n",
       "  <thead>\n",
       "    <tr style=\"text-align: right;\">\n",
       "      <th></th>\n",
       "      <th>balanced</th>\n",
       "      <th>upsampled</th>\n",
       "      <th>downsampled</th>\n",
       "    </tr>\n",
       "  </thead>\n",
       "  <tbody>\n",
       "    <tr>\n",
       "      <th>Random Forest</th>\n",
       "      <td>0.628798</td>\n",
       "      <td>0.605898</td>\n",
       "      <td>0.570842</td>\n",
       "    </tr>\n",
       "    <tr>\n",
       "      <th>Logistic Regression</th>\n",
       "      <td>0.486230</td>\n",
       "      <td>0.487805</td>\n",
       "      <td>0.485981</td>\n",
       "    </tr>\n",
       "  </tbody>\n",
       "</table>\n",
       "</div>"
      ],
      "text/plain": [
       "                     balanced  upsampled  downsampled\n",
       "Random Forest        0.628798   0.605898     0.570842\n",
       "Logistic Regression  0.486230   0.487805     0.485981"
      ]
     },
     "execution_count": 74,
     "metadata": {},
     "output_type": "execute_result"
    }
   ],
   "source": [
    "results_final = pd.DataFrame(index = ['Random Forest', 'Logistic Regression'],\n",
    "                             columns = ['balanced', 'upsampled' , 'downsampled'])\n",
    "results_final['balanced'] = results_f1[0:2]\n",
    "results_final['upsampled'] = results_f1[2:4]\n",
    "results_final['downsampled'] = results_f1[4:6]\n",
    "\n",
    "results_final"
   ]
  },
  {
   "cell_type": "markdown",
   "metadata": {},
   "source": [
    "<b>ВЫВОД:</b> простая балансировка классов у случайного леса дала наилучший результат. Проверим модель на тестовой выборке."
   ]
  },
  {
   "cell_type": "markdown",
   "metadata": {},
   "source": [
    "## Тестирование модели"
   ]
  },
  {
   "cell_type": "code",
   "execution_count": 81,
   "metadata": {},
   "outputs": [
    {
     "data": {
      "text/plain": [
       "RandomForestClassifier(class_weight='balanced', max_depth=15,\n",
       "                       min_samples_leaf=5, n_estimators=40, random_state=42)"
      ]
     },
     "execution_count": 81,
     "metadata": {},
     "output_type": "execute_result"
    }
   ],
   "source": [
    "# возьмем лучшую модель и обучим ее на обучающей выборке\n",
    "best_forest_clf = RandomForestClassifier(random_state = 42, class_weight = 'balanced',\n",
    "                                        max_depth = 15, min_samples_leaf = 5, n_estimators = 40)\n",
    "best_forest_clf.fit(features_train, target_train)"
   ]
  },
  {
   "cell_type": "code",
   "execution_count": 82,
   "metadata": {},
   "outputs": [
    {
     "name": "stdout",
     "output_type": "stream",
     "text": [
      "Показатель f1 на тестовой выборке с учетом баланса классов составил: 0.6099865047233468\n"
     ]
    }
   ],
   "source": [
    "# тестирование модели на сбалансированной выборке\n",
    "predictions = best_forest_clf.predict(features_test)\n",
    "print('Показатель f1 на тестовой выборке с учетом баланса классов составил:', f1_score(predictions, target_test))"
   ]
  },
  {
   "cell_type": "markdown",
   "metadata": {},
   "source": [
    "<b>ВЫВОД:</b> простая балансировка классов в случае модели случайного леса позволила достичь порога 0.6"
   ]
  },
  {
   "cell_type": "markdown",
   "metadata": {},
   "source": [
    "## Чек-лист готовности проекта"
   ]
  },
  {
   "cell_type": "markdown",
   "metadata": {},
   "source": [
    "Поставьте 'x' в выполненных пунктах. Далее нажмите Shift+Enter."
   ]
  },
  {
   "cell_type": "markdown",
   "metadata": {},
   "source": [
    "- [x]  Jupyter Notebook открыт\n",
    "- [x]  Весь код выполняется без ошибок\n",
    "- [x]  Ячейки с кодом расположены в порядке исполнения\n",
    "- [x]  Выполнен шаг 1: данные подготовлены\n",
    "- [x]  Выполнен шаг 2: задача исследована\n",
    "    - [x]  Исследован баланс классов\n",
    "    - [x]  Изучены модели без учёта дисбаланса\n",
    "    - [x]  Написаны выводы по результатам исследования\n",
    "- [x]  Выполнен шаг 3: учтён дисбаланс\n",
    "    - [x]  Применено несколько способов борьбы с дисбалансом\n",
    "    - [x]  Написаны выводы по результатам исследования\n",
    "- [x]  Выполнен шаг 4: проведено тестирование\n",
    "- [x]  Удалось достичь *F1*-меры не менее 0.59\n",
    "- [x]  Исследована метрика *AUC-ROC*"
   ]
  }
 ],
 "metadata": {
  "ExecuteTimeLog": [
   {
    "duration": 292,
    "start_time": "2022-02-12T17:30:04.862Z"
   },
   {
    "duration": 615,
    "start_time": "2022-02-12T17:30:25.296Z"
   },
   {
    "duration": 40,
    "start_time": "2022-02-12T17:30:27.273Z"
   },
   {
    "duration": 256,
    "start_time": "2022-02-12T17:32:11.655Z"
   },
   {
    "duration": 26,
    "start_time": "2022-02-12T17:32:14.088Z"
   },
   {
    "duration": 25,
    "start_time": "2022-02-12T17:32:43.676Z"
   },
   {
    "duration": 32,
    "start_time": "2022-02-12T17:33:02.123Z"
   },
   {
    "duration": 27,
    "start_time": "2022-02-12T17:34:06.429Z"
   },
   {
    "duration": 24,
    "start_time": "2022-02-12T17:34:31.657Z"
   },
   {
    "duration": 32,
    "start_time": "2022-02-12T17:38:49.829Z"
   },
   {
    "duration": 8,
    "start_time": "2022-02-12T17:40:00.975Z"
   },
   {
    "duration": 7,
    "start_time": "2022-02-12T17:40:05.554Z"
   },
   {
    "duration": 6,
    "start_time": "2022-02-12T17:41:58.061Z"
   },
   {
    "duration": 519,
    "start_time": "2022-02-12T17:45:15.433Z"
   },
   {
    "duration": 4,
    "start_time": "2022-02-12T17:48:13.292Z"
   },
   {
    "duration": 259,
    "start_time": "2022-02-12T17:51:08.306Z"
   },
   {
    "duration": 221,
    "start_time": "2022-02-12T17:51:22.086Z"
   },
   {
    "duration": 240,
    "start_time": "2022-02-12T17:56:06.290Z"
   },
   {
    "duration": 23,
    "start_time": "2022-02-12T17:56:09.091Z"
   },
   {
    "duration": 23,
    "start_time": "2022-02-12T17:56:17.549Z"
   },
   {
    "duration": 27,
    "start_time": "2022-02-12T17:56:51.451Z"
   },
   {
    "duration": 25,
    "start_time": "2022-02-12T17:57:00.974Z"
   },
   {
    "duration": 26,
    "start_time": "2022-02-12T17:57:08.901Z"
   },
   {
    "duration": 25,
    "start_time": "2022-02-12T17:57:13.463Z"
   },
   {
    "duration": 70,
    "start_time": "2022-02-12T17:58:48.245Z"
   },
   {
    "duration": 13,
    "start_time": "2022-02-12T17:58:59.867Z"
   },
   {
    "duration": 209,
    "start_time": "2022-02-12T17:59:41.637Z"
   },
   {
    "duration": 233,
    "start_time": "2022-02-12T17:59:44.486Z"
   },
   {
    "duration": 4,
    "start_time": "2022-02-12T17:59:57.697Z"
   },
   {
    "duration": 25,
    "start_time": "2022-02-12T17:59:57.712Z"
   },
   {
    "duration": 34,
    "start_time": "2022-02-12T18:00:01.005Z"
   },
   {
    "duration": 216,
    "start_time": "2022-02-12T18:00:55.798Z"
   },
   {
    "duration": 4,
    "start_time": "2022-02-12T18:00:59.840Z"
   },
   {
    "duration": 28,
    "start_time": "2022-02-12T18:00:59.851Z"
   },
   {
    "duration": 30,
    "start_time": "2022-02-12T18:01:06.548Z"
   },
   {
    "duration": 225,
    "start_time": "2022-02-12T18:04:02.374Z"
   },
   {
    "duration": 225,
    "start_time": "2022-02-12T18:04:09.101Z"
   },
   {
    "duration": 4,
    "start_time": "2022-02-12T18:04:24.332Z"
   },
   {
    "duration": 28,
    "start_time": "2022-02-12T18:04:24.341Z"
   },
   {
    "duration": 30,
    "start_time": "2022-02-12T18:04:24.370Z"
   },
   {
    "duration": 221,
    "start_time": "2022-02-12T18:04:26.551Z"
   },
   {
    "duration": 225,
    "start_time": "2022-02-12T18:04:41.113Z"
   },
   {
    "duration": 7,
    "start_time": "2022-02-12T18:05:18.480Z"
   },
   {
    "duration": 10,
    "start_time": "2022-02-12T18:07:02.119Z"
   },
   {
    "duration": 14,
    "start_time": "2022-02-12T18:08:19.937Z"
   },
   {
    "duration": 14,
    "start_time": "2022-02-12T18:08:41.921Z"
   },
   {
    "duration": 6,
    "start_time": "2022-02-12T18:10:16.523Z"
   },
   {
    "duration": 212,
    "start_time": "2022-02-12T18:10:44.017Z"
   },
   {
    "duration": 217,
    "start_time": "2022-02-12T18:10:56.642Z"
   },
   {
    "duration": 264,
    "start_time": "2022-02-12T18:15:54.856Z"
   },
   {
    "duration": 3,
    "start_time": "2022-02-12T18:15:58.781Z"
   },
   {
    "duration": 28,
    "start_time": "2022-02-12T18:15:58.792Z"
   },
   {
    "duration": 227,
    "start_time": "2022-02-12T18:16:02.055Z"
   },
   {
    "duration": 218,
    "start_time": "2022-02-12T18:16:29.165Z"
   },
   {
    "duration": 4,
    "start_time": "2022-02-12T18:16:32.449Z"
   },
   {
    "duration": 28,
    "start_time": "2022-02-12T18:16:32.487Z"
   },
   {
    "duration": 222,
    "start_time": "2022-02-12T18:16:36.261Z"
   },
   {
    "duration": 227,
    "start_time": "2022-02-12T18:16:53.377Z"
   },
   {
    "duration": 3,
    "start_time": "2022-02-12T18:16:57.207Z"
   },
   {
    "duration": 32,
    "start_time": "2022-02-12T18:16:57.212Z"
   },
   {
    "duration": 232,
    "start_time": "2022-02-12T18:16:58.834Z"
   },
   {
    "duration": 224,
    "start_time": "2022-02-12T18:17:21.437Z"
   },
   {
    "duration": 33,
    "start_time": "2022-02-12T18:17:44.398Z"
   },
   {
    "duration": 75,
    "start_time": "2022-02-12T18:19:16.136Z"
   },
   {
    "duration": 298,
    "start_time": "2022-02-12T18:20:39.577Z"
   },
   {
    "duration": 228,
    "start_time": "2022-02-12T18:21:29.086Z"
   },
   {
    "duration": 5,
    "start_time": "2022-02-12T18:21:32.553Z"
   },
   {
    "duration": 27,
    "start_time": "2022-02-12T18:21:32.565Z"
   },
   {
    "duration": 32,
    "start_time": "2022-02-12T18:21:36.054Z"
   },
   {
    "duration": 14,
    "start_time": "2022-02-12T18:23:02.815Z"
   },
   {
    "duration": 279,
    "start_time": "2022-02-12T18:23:08.444Z"
   },
   {
    "duration": 19,
    "start_time": "2022-02-12T18:23:26.380Z"
   },
   {
    "duration": 229,
    "start_time": "2022-02-12T18:23:48.358Z"
   },
   {
    "duration": 4,
    "start_time": "2022-02-12T18:23:57.146Z"
   },
   {
    "duration": 26,
    "start_time": "2022-02-12T18:23:57.163Z"
   },
   {
    "duration": 17,
    "start_time": "2022-02-12T18:24:00.253Z"
   },
   {
    "duration": 14,
    "start_time": "2022-02-12T18:24:11.338Z"
   },
   {
    "duration": 321,
    "start_time": "2022-02-12T18:24:14.669Z"
   },
   {
    "duration": 219,
    "start_time": "2022-02-12T18:24:41.256Z"
   },
   {
    "duration": 4,
    "start_time": "2022-02-12T18:24:44.796Z"
   },
   {
    "duration": 28,
    "start_time": "2022-02-12T18:24:44.807Z"
   },
   {
    "duration": 30,
    "start_time": "2022-02-12T18:24:48.884Z"
   },
   {
    "duration": 19,
    "start_time": "2022-02-12T18:25:12.411Z"
   },
   {
    "duration": 4,
    "start_time": "2022-02-12T18:25:17.450Z"
   },
   {
    "duration": 13,
    "start_time": "2022-02-12T18:25:46.744Z"
   },
   {
    "duration": 226,
    "start_time": "2022-02-12T18:25:58.607Z"
   },
   {
    "duration": 6,
    "start_time": "2022-02-12T18:26:34.251Z"
   },
   {
    "duration": 351,
    "start_time": "2022-02-12T18:26:46.786Z"
   },
   {
    "duration": 4,
    "start_time": "2022-02-12T18:27:09.775Z"
   },
   {
    "duration": 6,
    "start_time": "2022-02-12T18:27:18.299Z"
   },
   {
    "duration": 29,
    "start_time": "2022-02-12T18:27:56.785Z"
   },
   {
    "duration": 25,
    "start_time": "2022-02-12T18:28:06.875Z"
   },
   {
    "duration": 38,
    "start_time": "2022-02-12T18:29:17.728Z"
   },
   {
    "duration": 254,
    "start_time": "2022-02-12T18:31:10.762Z"
   },
   {
    "duration": 332,
    "start_time": "2022-02-12T18:31:24.768Z"
   },
   {
    "duration": 4,
    "start_time": "2022-02-12T18:31:37.842Z"
   },
   {
    "duration": 245,
    "start_time": "2022-02-12T18:31:42.212Z"
   },
   {
    "duration": 246,
    "start_time": "2022-02-12T18:31:51.634Z"
   },
   {
    "duration": 276,
    "start_time": "2022-02-12T18:32:40.196Z"
   },
   {
    "duration": 25,
    "start_time": "2022-02-12T18:33:15.913Z"
   },
   {
    "duration": 31,
    "start_time": "2022-02-12T18:33:19.121Z"
   },
   {
    "duration": 33,
    "start_time": "2022-02-12T18:33:32.526Z"
   },
   {
    "duration": 5,
    "start_time": "2022-02-12T18:33:36.736Z"
   },
   {
    "duration": 36,
    "start_time": "2022-02-12T18:33:36.743Z"
   },
   {
    "duration": 29,
    "start_time": "2022-02-12T18:33:39.786Z"
   },
   {
    "duration": 535,
    "start_time": "2022-02-12T18:34:00.090Z"
   },
   {
    "duration": 248,
    "start_time": "2022-02-12T18:34:46.544Z"
   },
   {
    "duration": 271,
    "start_time": "2022-02-12T18:35:33.268Z"
   },
   {
    "duration": 28,
    "start_time": "2022-02-12T18:36:10.843Z"
   },
   {
    "duration": 29,
    "start_time": "2022-02-12T18:36:22.815Z"
   },
   {
    "duration": 4,
    "start_time": "2022-02-12T18:36:26.579Z"
   },
   {
    "duration": 249,
    "start_time": "2022-02-12T18:36:31.475Z"
   },
   {
    "duration": 30,
    "start_time": "2022-02-12T18:36:34.010Z"
   },
   {
    "duration": 43,
    "start_time": "2022-02-12T18:37:42.571Z"
   },
   {
    "duration": 28,
    "start_time": "2022-02-12T18:38:13.055Z"
   },
   {
    "duration": 45,
    "start_time": "2022-02-12T18:38:16.588Z"
   },
   {
    "duration": 268,
    "start_time": "2022-02-12T18:38:28.009Z"
   },
   {
    "duration": 42,
    "start_time": "2022-02-12T18:38:35.378Z"
   },
   {
    "duration": 31,
    "start_time": "2022-02-12T18:38:47.400Z"
   },
   {
    "duration": 47,
    "start_time": "2022-02-12T18:39:31.123Z"
   },
   {
    "duration": 38,
    "start_time": "2022-02-12T18:40:14.997Z"
   },
   {
    "duration": 13,
    "start_time": "2022-02-12T18:40:18.524Z"
   },
   {
    "duration": 276,
    "start_time": "2022-02-12T18:40:22.512Z"
   },
   {
    "duration": 307,
    "start_time": "2022-02-12T18:40:49.731Z"
   },
   {
    "duration": 215,
    "start_time": "2022-02-12T18:41:03.264Z"
   },
   {
    "duration": 287,
    "start_time": "2022-02-12T18:41:08.006Z"
   },
   {
    "duration": 11,
    "start_time": "2022-02-12T18:41:56.966Z"
   },
   {
    "duration": 5,
    "start_time": "2022-02-12T18:42:15.766Z"
   },
   {
    "duration": 272,
    "start_time": "2022-02-12T18:42:53.808Z"
   },
   {
    "duration": 4,
    "start_time": "2022-02-12T18:42:59.101Z"
   },
   {
    "duration": 30,
    "start_time": "2022-02-12T18:42:59.126Z"
   },
   {
    "duration": 30,
    "start_time": "2022-02-12T18:43:05.120Z"
   },
   {
    "duration": 244,
    "start_time": "2022-02-12T18:43:19.403Z"
   },
   {
    "duration": 3,
    "start_time": "2022-02-12T18:43:23.320Z"
   },
   {
    "duration": 48,
    "start_time": "2022-02-12T18:43:23.327Z"
   },
   {
    "duration": 16,
    "start_time": "2022-02-12T18:43:25.875Z"
   },
   {
    "duration": 14,
    "start_time": "2022-02-12T18:43:37.357Z"
   },
   {
    "duration": 7,
    "start_time": "2022-02-12T18:43:40.035Z"
   },
   {
    "duration": 285,
    "start_time": "2022-02-12T18:43:47.211Z"
   },
   {
    "duration": 351,
    "start_time": "2022-02-12T18:46:00.604Z"
   },
   {
    "duration": 4,
    "start_time": "2022-02-12T18:46:09.616Z"
   },
   {
    "duration": 31,
    "start_time": "2022-02-12T18:46:09.665Z"
   },
   {
    "duration": 29,
    "start_time": "2022-02-12T18:46:12.721Z"
   },
   {
    "duration": 245,
    "start_time": "2022-02-12T18:47:25.742Z"
   },
   {
    "duration": 4,
    "start_time": "2022-02-12T18:47:30.171Z"
   },
   {
    "duration": 62,
    "start_time": "2022-02-12T18:47:30.187Z"
   },
   {
    "duration": 17,
    "start_time": "2022-02-12T18:47:32.389Z"
   },
   {
    "duration": 28,
    "start_time": "2022-02-12T18:51:13.135Z"
   },
   {
    "duration": 9,
    "start_time": "2022-02-12T18:51:15.908Z"
   },
   {
    "duration": 3263,
    "start_time": "2022-02-12T18:53:54.571Z"
   },
   {
    "duration": 237,
    "start_time": "2022-02-12T18:54:09.932Z"
   },
   {
    "duration": 4,
    "start_time": "2022-02-12T18:54:21.179Z"
   },
   {
    "duration": 35,
    "start_time": "2022-02-12T18:54:21.187Z"
   },
   {
    "duration": 9,
    "start_time": "2022-02-12T18:54:21.225Z"
   },
   {
    "duration": 21,
    "start_time": "2022-02-12T18:54:27.207Z"
   },
   {
    "duration": 19,
    "start_time": "2022-02-12T18:54:47.342Z"
   },
   {
    "duration": 235,
    "start_time": "2022-02-12T18:56:01.771Z"
   },
   {
    "duration": 5,
    "start_time": "2022-02-12T18:56:05.309Z"
   },
   {
    "duration": 28,
    "start_time": "2022-02-12T18:56:05.323Z"
   },
   {
    "duration": 8,
    "start_time": "2022-02-12T18:56:05.358Z"
   },
   {
    "duration": 30,
    "start_time": "2022-02-12T18:56:12.812Z"
   },
   {
    "duration": 6264,
    "start_time": "2022-02-12T18:56:54.561Z"
   },
   {
    "duration": 15,
    "start_time": "2022-02-12T18:57:03.328Z"
   },
   {
    "duration": 4,
    "start_time": "2022-02-12T18:57:21.874Z"
   },
   {
    "duration": 27,
    "start_time": "2022-02-12T18:57:21.890Z"
   },
   {
    "duration": 8,
    "start_time": "2022-02-12T18:57:21.918Z"
   },
   {
    "duration": 31,
    "start_time": "2022-02-12T18:57:27.286Z"
   },
   {
    "duration": 340,
    "start_time": "2022-02-12T18:58:17.725Z"
   },
   {
    "duration": 14,
    "start_time": "2022-02-12T18:58:33.626Z"
   },
   {
    "duration": 6,
    "start_time": "2022-02-12T18:58:36.115Z"
   },
   {
    "duration": 287,
    "start_time": "2022-02-12T18:58:38.976Z"
   },
   {
    "duration": 4,
    "start_time": "2022-02-12T19:00:41.688Z"
   },
   {
    "duration": 28,
    "start_time": "2022-02-12T19:00:42.994Z"
   },
   {
    "duration": 9,
    "start_time": "2022-02-12T19:00:45.718Z"
   },
   {
    "duration": 51,
    "start_time": "2022-02-12T19:00:52.296Z"
   },
   {
    "duration": 3,
    "start_time": "2022-02-12T19:00:55.052Z"
   },
   {
    "duration": 13,
    "start_time": "2022-02-12T19:00:58.487Z"
   },
   {
    "duration": 6,
    "start_time": "2022-02-12T19:00:59.533Z"
   },
   {
    "duration": 29,
    "start_time": "2022-02-12T19:01:06.096Z"
   },
   {
    "duration": 53,
    "start_time": "2022-02-12T19:01:24.732Z"
   },
   {
    "duration": 52,
    "start_time": "2022-02-12T19:01:50.948Z"
   },
   {
    "duration": 54,
    "start_time": "2022-02-12T19:02:04.808Z"
   },
   {
    "duration": 55,
    "start_time": "2022-02-12T19:02:10.337Z"
   },
   {
    "duration": 50,
    "start_time": "2022-02-12T19:02:16.915Z"
   },
   {
    "duration": 7,
    "start_time": "2022-02-12T19:03:54.365Z"
   },
   {
    "duration": 3,
    "start_time": "2022-02-12T19:04:00.974Z"
   },
   {
    "duration": 7,
    "start_time": "2022-02-12T19:04:03.224Z"
   },
   {
    "duration": 4,
    "start_time": "2022-02-12T19:04:09.683Z"
   },
   {
    "duration": 6,
    "start_time": "2022-02-12T19:04:11.453Z"
   },
   {
    "duration": 223,
    "start_time": "2022-02-12T19:05:44.368Z"
   },
   {
    "duration": 4,
    "start_time": "2022-02-12T19:05:48.759Z"
   },
   {
    "duration": 32,
    "start_time": "2022-02-12T19:05:48.765Z"
   },
   {
    "duration": 8,
    "start_time": "2022-02-12T19:05:48.799Z"
   },
   {
    "duration": 25,
    "start_time": "2022-02-12T19:05:50.656Z"
   },
   {
    "duration": 14,
    "start_time": "2022-02-12T19:06:10.112Z"
   },
   {
    "duration": 5,
    "start_time": "2022-02-12T19:06:12.392Z"
   },
   {
    "duration": 88,
    "start_time": "2022-02-12T19:06:58.912Z"
   },
   {
    "duration": 33,
    "start_time": "2022-02-12T19:07:13.785Z"
   },
   {
    "duration": 69,
    "start_time": "2022-02-12T19:18:28.760Z"
   },
   {
    "duration": 224,
    "start_time": "2022-02-12T19:18:42.429Z"
   },
   {
    "duration": 222,
    "start_time": "2022-02-12T19:19:55.371Z"
   },
   {
    "duration": 217,
    "start_time": "2022-02-12T19:20:42.630Z"
   },
   {
    "duration": 6997,
    "start_time": "2022-02-12T19:21:19.241Z"
   },
   {
    "duration": 6815,
    "start_time": "2022-02-12T19:28:06.219Z"
   },
   {
    "duration": 6805,
    "start_time": "2022-02-12T19:28:40.650Z"
   },
   {
    "duration": 75,
    "start_time": "2022-02-12T19:29:20.482Z"
   },
   {
    "duration": 7775,
    "start_time": "2022-02-12T19:29:34.412Z"
   },
   {
    "duration": 7094,
    "start_time": "2022-02-12T19:29:47.749Z"
   },
   {
    "duration": 10,
    "start_time": "2022-02-12T19:31:05.728Z"
   },
   {
    "duration": 6774,
    "start_time": "2022-02-12T19:31:10.615Z"
   },
   {
    "duration": 10,
    "start_time": "2022-02-12T19:55:54.497Z"
   },
   {
    "duration": 369,
    "start_time": "2022-02-12T20:14:33.135Z"
   },
   {
    "duration": 830,
    "start_time": "2022-02-12T20:16:32.666Z"
   },
   {
    "duration": 1172,
    "start_time": "2022-02-12T20:27:16.902Z"
   },
   {
    "duration": 34,
    "start_time": "2022-02-12T20:27:18.077Z"
   },
   {
    "duration": 15,
    "start_time": "2022-02-12T20:27:18.118Z"
   },
   {
    "duration": 28,
    "start_time": "2022-02-12T20:27:18.134Z"
   },
   {
    "duration": 2,
    "start_time": "2022-02-12T20:27:18.164Z"
   },
   {
    "duration": 16,
    "start_time": "2022-02-12T20:27:18.168Z"
   },
   {
    "duration": 6904,
    "start_time": "2022-02-12T20:27:18.186Z"
   },
   {
    "duration": 11,
    "start_time": "2022-02-12T20:27:25.093Z"
   },
   {
    "duration": 145183,
    "start_time": "2022-02-12T20:27:25.119Z"
   },
   {
    "duration": 42,
    "start_time": "2022-02-12T20:29:50.303Z"
   },
   {
    "duration": 83,
    "start_time": "2022-02-12T20:29:50.347Z"
   },
   {
    "duration": 18,
    "start_time": "2022-02-12T20:29:50.519Z"
   },
   {
    "duration": 203550,
    "start_time": "2022-02-12T20:33:18.152Z"
   },
   {
    "duration": 3129,
    "start_time": "2022-02-12T20:36:47.577Z"
   },
   {
    "duration": 4,
    "start_time": "2022-02-12T20:36:54.770Z"
   },
   {
    "duration": 33,
    "start_time": "2022-02-12T20:36:54.775Z"
   },
   {
    "duration": 8,
    "start_time": "2022-02-12T20:36:54.810Z"
   },
   {
    "duration": 26,
    "start_time": "2022-02-12T20:36:54.820Z"
   },
   {
    "duration": 2,
    "start_time": "2022-02-12T20:36:54.848Z"
   },
   {
    "duration": 23,
    "start_time": "2022-02-12T20:36:54.852Z"
   },
   {
    "duration": 7129,
    "start_time": "2022-02-12T20:36:54.877Z"
   },
   {
    "duration": 15,
    "start_time": "2022-02-12T20:37:02.008Z"
   },
   {
    "duration": 148273,
    "start_time": "2022-02-12T20:37:11.512Z"
   },
   {
    "duration": 39,
    "start_time": "2022-02-12T20:39:39.787Z"
   },
   {
    "duration": 12,
    "start_time": "2022-02-12T20:43:06.910Z"
   },
   {
    "duration": 349,
    "start_time": "2022-02-12T20:44:27.717Z"
   },
   {
    "duration": 81,
    "start_time": "2022-02-12T20:45:09.344Z"
   },
   {
    "duration": 105,
    "start_time": "2022-02-12T20:45:26.319Z"
   },
   {
    "duration": 174,
    "start_time": "2022-02-12T20:49:35.745Z"
   },
   {
    "duration": 9,
    "start_time": "2022-02-12T20:55:04.722Z"
   },
   {
    "duration": 9,
    "start_time": "2022-02-12T20:56:34.033Z"
   },
   {
    "duration": 8,
    "start_time": "2022-02-12T20:57:01.490Z"
   },
   {
    "duration": 6734,
    "start_time": "2022-02-12T20:57:31.745Z"
   },
   {
    "duration": 11,
    "start_time": "2022-02-12T20:58:05.641Z"
   },
   {
    "duration": 149354,
    "start_time": "2022-02-12T20:58:35.761Z"
   },
   {
    "duration": 4,
    "start_time": "2022-02-12T21:01:05.118Z"
   },
   {
    "duration": 33,
    "start_time": "2022-02-12T21:01:05.124Z"
   },
   {
    "duration": 7,
    "start_time": "2022-02-12T21:01:05.159Z"
   },
   {
    "duration": 26,
    "start_time": "2022-02-12T21:01:05.168Z"
   },
   {
    "duration": 34,
    "start_time": "2022-02-12T21:01:05.196Z"
   },
   {
    "duration": 8,
    "start_time": "2022-02-12T21:01:05.232Z"
   },
   {
    "duration": 6201,
    "start_time": "2022-02-12T21:01:05.242Z"
   },
   {
    "duration": 11,
    "start_time": "2022-02-12T21:01:11.445Z"
   },
   {
    "duration": 1143,
    "start_time": "2022-02-12T21:04:00.136Z"
   },
   {
    "duration": 38,
    "start_time": "2022-02-12T21:04:01.282Z"
   },
   {
    "duration": 14,
    "start_time": "2022-02-12T21:04:01.322Z"
   },
   {
    "duration": 31,
    "start_time": "2022-02-12T21:04:01.338Z"
   },
   {
    "duration": 14,
    "start_time": "2022-02-12T21:04:01.372Z"
   },
   {
    "duration": 39,
    "start_time": "2022-02-12T21:04:01.388Z"
   },
   {
    "duration": 5619,
    "start_time": "2022-02-12T21:04:01.429Z"
   },
   {
    "duration": 13,
    "start_time": "2022-02-12T21:04:07.051Z"
   },
   {
    "duration": 144852,
    "start_time": "2022-02-12T21:04:07.066Z"
   },
   {
    "duration": 12,
    "start_time": "2022-02-12T21:06:31.920Z"
   },
   {
    "duration": 95,
    "start_time": "2022-02-12T21:06:31.934Z"
   },
   {
    "duration": 203,
    "start_time": "2022-02-12T21:06:32.119Z"
   },
   {
    "duration": 18,
    "start_time": "2022-02-12T21:06:32.324Z"
   },
   {
    "duration": 94,
    "start_time": "2022-02-12T21:07:51.326Z"
   },
   {
    "duration": 965,
    "start_time": "2022-02-13T12:13:06.420Z"
   },
   {
    "duration": 26,
    "start_time": "2022-02-13T12:13:34.511Z"
   },
   {
    "duration": 28,
    "start_time": "2022-02-13T12:13:38.070Z"
   },
   {
    "duration": 26,
    "start_time": "2022-02-13T12:13:55.235Z"
   },
   {
    "duration": 24,
    "start_time": "2022-02-13T12:15:53.305Z"
   },
   {
    "duration": 15,
    "start_time": "2022-02-13T12:27:48.580Z"
   },
   {
    "duration": 8,
    "start_time": "2022-02-13T12:27:52.658Z"
   },
   {
    "duration": 255,
    "start_time": "2022-02-13T12:29:48.706Z"
   },
   {
    "duration": 137,
    "start_time": "2022-02-13T12:30:10.879Z"
   },
   {
    "duration": 4,
    "start_time": "2022-02-13T12:30:24.066Z"
   },
   {
    "duration": 53,
    "start_time": "2022-02-13T12:30:24.072Z"
   },
   {
    "duration": 4,
    "start_time": "2022-02-13T12:30:28.824Z"
   },
   {
    "duration": 145,
    "start_time": "2022-02-13T12:30:37.384Z"
   },
   {
    "duration": 4,
    "start_time": "2022-02-13T12:30:41.005Z"
   },
   {
    "duration": 39,
    "start_time": "2022-02-13T12:30:41.011Z"
   },
   {
    "duration": 20,
    "start_time": "2022-02-13T12:30:43.640Z"
   },
   {
    "duration": 12,
    "start_time": "2022-02-13T12:31:27.797Z"
   },
   {
    "duration": 45,
    "start_time": "2022-02-13T12:32:20.260Z"
   },
   {
    "duration": 20,
    "start_time": "2022-02-13T12:32:30.185Z"
   },
   {
    "duration": 15,
    "start_time": "2022-02-13T12:32:56.567Z"
   },
   {
    "duration": 18,
    "start_time": "2022-02-13T12:33:36.851Z"
   },
   {
    "duration": 16,
    "start_time": "2022-02-13T12:36:45.973Z"
   },
   {
    "duration": 8,
    "start_time": "2022-02-13T12:37:50.377Z"
   },
   {
    "duration": 24,
    "start_time": "2022-02-13T12:38:09.878Z"
   },
   {
    "duration": 24,
    "start_time": "2022-02-13T12:38:15.904Z"
   },
   {
    "duration": 13,
    "start_time": "2022-02-13T12:40:01.458Z"
   },
   {
    "duration": 10,
    "start_time": "2022-02-13T12:40:03.827Z"
   },
   {
    "duration": 8,
    "start_time": "2022-02-13T12:40:34.067Z"
   },
   {
    "duration": 13,
    "start_time": "2022-02-13T12:42:02.499Z"
   },
   {
    "duration": 344,
    "start_time": "2022-02-13T12:51:12.697Z"
   },
   {
    "duration": 10,
    "start_time": "2022-02-13T12:51:21.425Z"
   },
   {
    "duration": 180,
    "start_time": "2022-02-13T12:51:46.829Z"
   },
   {
    "duration": 12,
    "start_time": "2022-02-13T12:51:53.619Z"
   },
   {
    "duration": 5079,
    "start_time": "2022-02-13T12:52:17.987Z"
   },
   {
    "duration": 10,
    "start_time": "2022-02-13T12:52:27.177Z"
   },
   {
    "duration": 157933,
    "start_time": "2022-02-13T12:52:39.522Z"
   },
   {
    "duration": 36,
    "start_time": "2022-02-13T12:59:21.804Z"
   },
   {
    "duration": 15171,
    "start_time": "2022-02-13T13:01:03.285Z"
   },
   {
    "duration": 175253,
    "start_time": "2022-02-13T13:01:30.719Z"
   },
   {
    "duration": 17691,
    "start_time": "2022-02-13T13:05:57.702Z"
   },
   {
    "duration": 23,
    "start_time": "2022-02-13T13:07:17.441Z"
   },
   {
    "duration": 145,
    "start_time": "2022-02-13T13:07:34.903Z"
   },
   {
    "duration": 4,
    "start_time": "2022-02-13T13:08:38.799Z"
   },
   {
    "duration": 32,
    "start_time": "2022-02-13T13:08:38.804Z"
   },
   {
    "duration": 18,
    "start_time": "2022-02-13T13:08:38.838Z"
   },
   {
    "duration": 82,
    "start_time": "2022-02-13T13:08:38.858Z"
   },
   {
    "duration": 69,
    "start_time": "2022-02-13T13:08:38.942Z"
   },
   {
    "duration": 74,
    "start_time": "2022-02-13T13:08:39.013Z"
   },
   {
    "duration": 37,
    "start_time": "2022-02-13T13:08:39.088Z"
   },
   {
    "duration": 139,
    "start_time": "2022-02-13T13:08:39.127Z"
   },
   {
    "duration": 61,
    "start_time": "2022-02-13T13:08:39.268Z"
   },
   {
    "duration": 164,
    "start_time": "2022-02-13T13:08:39.342Z"
   },
   {
    "duration": 97,
    "start_time": "2022-02-13T13:09:03.863Z"
   },
   {
    "duration": 47,
    "start_time": "2022-02-13T13:09:27.015Z"
   },
   {
    "duration": 118,
    "start_time": "2022-02-13T13:10:33.244Z"
   },
   {
    "duration": 15,
    "start_time": "2022-02-13T13:11:11.309Z"
   },
   {
    "duration": 10,
    "start_time": "2022-02-13T13:11:55.692Z"
   },
   {
    "duration": 6,
    "start_time": "2022-02-13T13:16:18.024Z"
   },
   {
    "duration": 162,
    "start_time": "2022-02-13T13:23:22.482Z"
   },
   {
    "duration": 4,
    "start_time": "2022-02-13T13:23:27.474Z"
   },
   {
    "duration": 46,
    "start_time": "2022-02-13T13:23:27.479Z"
   },
   {
    "duration": 137,
    "start_time": "2022-02-13T13:23:30.372Z"
   },
   {
    "duration": 17,
    "start_time": "2022-02-13T13:23:34.453Z"
   },
   {
    "duration": 11,
    "start_time": "2022-02-13T13:23:40.632Z"
   },
   {
    "duration": 18,
    "start_time": "2022-02-13T13:23:45.262Z"
   },
   {
    "duration": 15,
    "start_time": "2022-02-13T13:23:48.741Z"
   },
   {
    "duration": 9,
    "start_time": "2022-02-13T13:24:02.830Z"
   },
   {
    "duration": 30,
    "start_time": "2022-02-13T13:24:04.381Z"
   },
   {
    "duration": 13,
    "start_time": "2022-02-13T13:24:13.556Z"
   },
   {
    "duration": 31,
    "start_time": "2022-02-13T13:24:23.323Z"
   },
   {
    "duration": 26,
    "start_time": "2022-02-13T13:24:33.947Z"
   },
   {
    "duration": 10,
    "start_time": "2022-02-13T13:24:40.932Z"
   },
   {
    "duration": 6,
    "start_time": "2022-02-13T13:24:45.812Z"
   },
   {
    "duration": 27,
    "start_time": "2022-02-13T13:24:51.533Z"
   },
   {
    "duration": 240,
    "start_time": "2022-02-13T13:35:06.488Z"
   },
   {
    "duration": 250,
    "start_time": "2022-02-13T13:37:02.473Z"
   },
   {
    "duration": 220,
    "start_time": "2022-02-13T13:38:43.231Z"
   },
   {
    "duration": 13,
    "start_time": "2022-02-13T13:41:14.188Z"
   },
   {
    "duration": 11,
    "start_time": "2022-02-13T13:41:19.690Z"
   },
   {
    "duration": 4,
    "start_time": "2022-02-13T13:42:16.820Z"
   },
   {
    "duration": 18,
    "start_time": "2022-02-13T13:42:26.260Z"
   },
   {
    "duration": 8,
    "start_time": "2022-02-13T13:50:46.079Z"
   },
   {
    "duration": 8,
    "start_time": "2022-02-13T13:50:49.878Z"
   },
   {
    "duration": 8,
    "start_time": "2022-02-13T13:51:00.601Z"
   },
   {
    "duration": 7,
    "start_time": "2022-02-13T13:51:49.420Z"
   },
   {
    "duration": 7,
    "start_time": "2022-02-13T13:52:01.858Z"
   },
   {
    "duration": 219,
    "start_time": "2022-02-13T13:52:38.743Z"
   },
   {
    "duration": 6,
    "start_time": "2022-02-13T13:54:44.380Z"
   },
   {
    "duration": 7,
    "start_time": "2022-02-13T13:56:17.375Z"
   },
   {
    "duration": 7,
    "start_time": "2022-02-13T13:56:35.606Z"
   },
   {
    "duration": 19,
    "start_time": "2022-02-13T13:59:43.827Z"
   },
   {
    "duration": 21,
    "start_time": "2022-02-13T14:00:24.720Z"
   },
   {
    "duration": 140,
    "start_time": "2022-02-13T14:04:22.502Z"
   },
   {
    "duration": 25,
    "start_time": "2022-02-13T14:04:28.103Z"
   },
   {
    "duration": 7,
    "start_time": "2022-02-13T14:04:49.875Z"
   },
   {
    "duration": 9,
    "start_time": "2022-02-13T14:05:30.399Z"
   },
   {
    "duration": 10,
    "start_time": "2022-02-13T14:06:02.664Z"
   },
   {
    "duration": 9,
    "start_time": "2022-02-13T14:06:27.205Z"
   },
   {
    "duration": 9,
    "start_time": "2022-02-13T14:06:40.975Z"
   },
   {
    "duration": 358,
    "start_time": "2022-02-13T14:07:15.590Z"
   },
   {
    "duration": 222,
    "start_time": "2022-02-13T14:07:56.782Z"
   },
   {
    "duration": 292,
    "start_time": "2022-02-13T14:10:01.595Z"
   },
   {
    "duration": 234,
    "start_time": "2022-02-13T14:10:30.664Z"
   },
   {
    "duration": 1104,
    "start_time": "2022-02-13T14:30:53.089Z"
   },
   {
    "duration": 31,
    "start_time": "2022-02-13T14:30:54.196Z"
   },
   {
    "duration": 36,
    "start_time": "2022-02-13T14:30:54.230Z"
   },
   {
    "duration": 14,
    "start_time": "2022-02-13T14:30:54.268Z"
   },
   {
    "duration": 18,
    "start_time": "2022-02-13T14:30:54.284Z"
   },
   {
    "duration": 55,
    "start_time": "2022-02-13T14:30:54.304Z"
   },
   {
    "duration": 8,
    "start_time": "2022-02-13T14:30:54.361Z"
   },
   {
    "duration": 31,
    "start_time": "2022-02-13T14:30:54.371Z"
   },
   {
    "duration": 13,
    "start_time": "2022-02-13T14:30:54.403Z"
   },
   {
    "duration": 65,
    "start_time": "2022-02-13T14:30:54.418Z"
   },
   {
    "duration": 77,
    "start_time": "2022-02-13T14:30:54.485Z"
   },
   {
    "duration": 101,
    "start_time": "2022-02-13T14:30:54.564Z"
   },
   {
    "duration": 8,
    "start_time": "2022-02-13T14:30:54.667Z"
   },
   {
    "duration": 294,
    "start_time": "2022-02-13T14:30:54.676Z"
   },
   {
    "duration": -377,
    "start_time": "2022-02-13T14:30:55.348Z"
   },
   {
    "duration": -386,
    "start_time": "2022-02-13T14:30:55.358Z"
   },
   {
    "duration": -395,
    "start_time": "2022-02-13T14:30:55.368Z"
   },
   {
    "duration": -461,
    "start_time": "2022-02-13T14:30:55.435Z"
   },
   {
    "duration": 4,
    "start_time": "2022-02-13T14:33:02.632Z"
   },
   {
    "duration": 30,
    "start_time": "2022-02-13T14:33:02.638Z"
   },
   {
    "duration": 19,
    "start_time": "2022-02-13T14:33:02.670Z"
   },
   {
    "duration": 31,
    "start_time": "2022-02-13T14:33:02.691Z"
   },
   {
    "duration": 18,
    "start_time": "2022-02-13T14:33:02.723Z"
   },
   {
    "duration": 23,
    "start_time": "2022-02-13T14:33:02.743Z"
   },
   {
    "duration": 28,
    "start_time": "2022-02-13T14:33:02.768Z"
   },
   {
    "duration": 29,
    "start_time": "2022-02-13T14:33:02.798Z"
   },
   {
    "duration": 12,
    "start_time": "2022-02-13T14:33:02.829Z"
   },
   {
    "duration": 44,
    "start_time": "2022-02-13T14:33:02.843Z"
   },
   {
    "duration": 147,
    "start_time": "2022-02-13T14:33:02.888Z"
   },
   {
    "duration": -731,
    "start_time": "2022-02-13T14:33:03.768Z"
   },
   {
    "duration": -747,
    "start_time": "2022-02-13T14:33:03.785Z"
   },
   {
    "duration": -778,
    "start_time": "2022-02-13T14:33:03.817Z"
   },
   {
    "duration": -794,
    "start_time": "2022-02-13T14:33:03.834Z"
   },
   {
    "duration": -811,
    "start_time": "2022-02-13T14:33:03.852Z"
   },
   {
    "duration": -828,
    "start_time": "2022-02-13T14:33:03.870Z"
   },
   {
    "duration": -847,
    "start_time": "2022-02-13T14:33:03.890Z"
   },
   {
    "duration": 17,
    "start_time": "2022-02-13T14:34:10.825Z"
   },
   {
    "duration": 4,
    "start_time": "2022-02-13T14:34:14.914Z"
   },
   {
    "duration": 25,
    "start_time": "2022-02-13T14:34:14.927Z"
   },
   {
    "duration": 19,
    "start_time": "2022-02-13T14:34:14.954Z"
   },
   {
    "duration": 12,
    "start_time": "2022-02-13T14:34:14.975Z"
   },
   {
    "duration": 21,
    "start_time": "2022-02-13T14:34:14.989Z"
   },
   {
    "duration": 50,
    "start_time": "2022-02-13T14:34:15.012Z"
   },
   {
    "duration": 8,
    "start_time": "2022-02-13T14:34:15.063Z"
   },
   {
    "duration": 31,
    "start_time": "2022-02-13T14:34:15.073Z"
   },
   {
    "duration": 12,
    "start_time": "2022-02-13T14:34:15.107Z"
   },
   {
    "duration": 66,
    "start_time": "2022-02-13T14:34:15.120Z"
   },
   {
    "duration": 72,
    "start_time": "2022-02-13T14:34:15.188Z"
   },
   {
    "duration": 98,
    "start_time": "2022-02-13T14:34:15.262Z"
   },
   {
    "duration": 9,
    "start_time": "2022-02-13T14:34:15.362Z"
   },
   {
    "duration": 233,
    "start_time": "2022-02-13T14:34:15.373Z"
   },
   {
    "duration": -985,
    "start_time": "2022-02-13T14:34:16.592Z"
   },
   {
    "duration": -994,
    "start_time": "2022-02-13T14:34:16.602Z"
   },
   {
    "duration": -1004,
    "start_time": "2022-02-13T14:34:16.613Z"
   },
   {
    "duration": -1019,
    "start_time": "2022-02-13T14:34:16.629Z"
   },
   {
    "duration": 18,
    "start_time": "2022-02-13T14:38:21.104Z"
   },
   {
    "duration": 20,
    "start_time": "2022-02-13T14:39:30.488Z"
   },
   {
    "duration": 19,
    "start_time": "2022-02-13T14:39:42.675Z"
   },
   {
    "duration": 296,
    "start_time": "2022-02-14T07:29:33.453Z"
   },
   {
    "duration": 1113,
    "start_time": "2022-02-14T07:29:38.720Z"
   },
   {
    "duration": 35,
    "start_time": "2022-02-14T07:29:39.834Z"
   },
   {
    "duration": 18,
    "start_time": "2022-02-14T07:29:39.871Z"
   },
   {
    "duration": 10,
    "start_time": "2022-02-14T07:29:39.891Z"
   },
   {
    "duration": 30,
    "start_time": "2022-02-14T07:29:39.902Z"
   },
   {
    "duration": 14,
    "start_time": "2022-02-14T07:29:39.934Z"
   },
   {
    "duration": 8,
    "start_time": "2022-02-14T07:29:50.512Z"
   },
   {
    "duration": 7,
    "start_time": "2022-02-14T07:30:24.241Z"
   },
   {
    "duration": 7,
    "start_time": "2022-02-14T07:30:33.727Z"
   },
   {
    "duration": 337,
    "start_time": "2022-02-14T07:36:00.042Z"
   },
   {
    "duration": 4,
    "start_time": "2022-02-14T07:36:02.104Z"
   },
   {
    "duration": 14,
    "start_time": "2022-02-14T07:40:49.503Z"
   },
   {
    "duration": 127,
    "start_time": "2022-02-14T07:44:02.011Z"
   },
   {
    "duration": 168,
    "start_time": "2022-02-14T07:44:40.719Z"
   },
   {
    "duration": 109,
    "start_time": "2022-02-14T07:44:54.593Z"
   },
   {
    "duration": 481,
    "start_time": "2022-02-14T07:45:11.822Z"
   },
   {
    "duration": 277,
    "start_time": "2022-02-14T07:45:19.367Z"
   },
   {
    "duration": 314,
    "start_time": "2022-02-14T07:46:50.003Z"
   },
   {
    "duration": 251,
    "start_time": "2022-02-14T07:47:09.477Z"
   },
   {
    "duration": 253,
    "start_time": "2022-02-14T07:47:41.687Z"
   },
   {
    "duration": 258,
    "start_time": "2022-02-14T07:47:52.543Z"
   },
   {
    "duration": 275,
    "start_time": "2022-02-14T08:39:44.868Z"
   },
   {
    "duration": 270,
    "start_time": "2022-02-14T08:40:33.838Z"
   },
   {
    "duration": 711,
    "start_time": "2022-02-14T08:41:13.857Z"
   },
   {
    "duration": 606,
    "start_time": "2022-02-14T08:41:30.778Z"
   },
   {
    "duration": 633,
    "start_time": "2022-02-14T08:42:56.048Z"
   },
   {
    "duration": 303,
    "start_time": "2022-02-14T08:43:40.413Z"
   },
   {
    "duration": 369,
    "start_time": "2022-02-14T08:44:52.522Z"
   },
   {
    "duration": 419,
    "start_time": "2022-02-14T08:45:04.336Z"
   },
   {
    "duration": 373,
    "start_time": "2022-02-14T08:45:21.765Z"
   },
   {
    "duration": 117,
    "start_time": "2022-02-14T08:45:30.703Z"
   },
   {
    "duration": 380,
    "start_time": "2022-02-14T08:46:29.898Z"
   },
   {
    "duration": 132,
    "start_time": "2022-02-14T08:46:54.587Z"
   },
   {
    "duration": 122,
    "start_time": "2022-02-14T08:48:03.066Z"
   },
   {
    "duration": 390,
    "start_time": "2022-02-14T08:48:36.320Z"
   },
   {
    "duration": 387,
    "start_time": "2022-02-14T08:49:21.050Z"
   },
   {
    "duration": 122,
    "start_time": "2022-02-14T08:50:21.681Z"
   },
   {
    "duration": 269,
    "start_time": "2022-02-14T08:53:04.892Z"
   },
   {
    "duration": 261,
    "start_time": "2022-02-14T08:53:25.891Z"
   },
   {
    "duration": 544,
    "start_time": "2022-02-14T08:54:19.659Z"
   },
   {
    "duration": 276,
    "start_time": "2022-02-14T08:54:33.470Z"
   },
   {
    "duration": 314,
    "start_time": "2022-02-14T08:55:45.313Z"
   },
   {
    "duration": 305,
    "start_time": "2022-02-14T08:55:59.792Z"
   },
   {
    "duration": 301,
    "start_time": "2022-02-14T08:57:25.500Z"
   },
   {
    "duration": 381,
    "start_time": "2022-02-14T08:59:35.744Z"
   },
   {
    "duration": 370,
    "start_time": "2022-02-14T08:59:49.876Z"
   },
   {
    "duration": 317,
    "start_time": "2022-02-14T09:02:01.123Z"
   },
   {
    "duration": 291,
    "start_time": "2022-02-14T09:02:11.467Z"
   },
   {
    "duration": 337,
    "start_time": "2022-02-14T09:02:58.594Z"
   },
   {
    "duration": 315,
    "start_time": "2022-02-14T09:03:36.883Z"
   },
   {
    "duration": 322,
    "start_time": "2022-02-14T09:04:00.015Z"
   },
   {
    "duration": 325,
    "start_time": "2022-02-14T09:04:58.339Z"
   },
   {
    "duration": 4,
    "start_time": "2022-02-14T09:09:19.967Z"
   },
   {
    "duration": 5,
    "start_time": "2022-02-14T09:09:24.028Z"
   },
   {
    "duration": 5,
    "start_time": "2022-02-14T09:09:55.427Z"
   },
   {
    "duration": 6,
    "start_time": "2022-02-14T09:10:00.429Z"
   },
   {
    "duration": 6,
    "start_time": "2022-02-14T09:11:08.077Z"
   },
   {
    "duration": 6,
    "start_time": "2022-02-14T09:11:34.155Z"
   },
   {
    "duration": 4,
    "start_time": "2022-02-14T09:11:49.585Z"
   },
   {
    "duration": 7,
    "start_time": "2022-02-14T09:11:59.111Z"
   },
   {
    "duration": 5,
    "start_time": "2022-02-14T09:12:10.637Z"
   },
   {
    "duration": 5,
    "start_time": "2022-02-14T09:12:15.323Z"
   },
   {
    "duration": 5,
    "start_time": "2022-02-14T09:12:27.575Z"
   },
   {
    "duration": 4,
    "start_time": "2022-02-14T09:13:02.867Z"
   },
   {
    "duration": 12,
    "start_time": "2022-02-14T09:13:38.524Z"
   },
   {
    "duration": 284,
    "start_time": "2022-02-14T09:14:32.702Z"
   },
   {
    "duration": 136,
    "start_time": "2022-02-14T09:15:05.723Z"
   },
   {
    "duration": 22,
    "start_time": "2022-02-14T09:18:26.922Z"
   },
   {
    "duration": 21,
    "start_time": "2022-02-14T09:18:50.953Z"
   },
   {
    "duration": 14,
    "start_time": "2022-02-14T09:18:57.557Z"
   },
   {
    "duration": 86,
    "start_time": "2022-02-14T09:19:29.881Z"
   },
   {
    "duration": 112,
    "start_time": "2022-02-14T09:20:14.283Z"
   },
   {
    "duration": 319,
    "start_time": "2022-02-14T09:21:26.274Z"
   },
   {
    "duration": 5,
    "start_time": "2022-02-14T09:22:40.928Z"
   },
   {
    "duration": 6,
    "start_time": "2022-02-14T09:22:52.397Z"
   },
   {
    "duration": 7,
    "start_time": "2022-02-14T09:23:00.430Z"
   },
   {
    "duration": 11,
    "start_time": "2022-02-14T09:23:12.523Z"
   },
   {
    "duration": 5,
    "start_time": "2022-02-14T09:23:51.477Z"
   },
   {
    "duration": 5,
    "start_time": "2022-02-14T09:24:37.718Z"
   },
   {
    "duration": 6,
    "start_time": "2022-02-14T09:24:44.742Z"
   },
   {
    "duration": 5,
    "start_time": "2022-02-14T09:24:55.004Z"
   },
   {
    "duration": 5,
    "start_time": "2022-02-14T09:25:09.870Z"
   },
   {
    "duration": 5,
    "start_time": "2022-02-14T09:26:03.574Z"
   },
   {
    "duration": 5,
    "start_time": "2022-02-14T09:26:44.499Z"
   },
   {
    "duration": 4,
    "start_time": "2022-02-14T09:27:23.023Z"
   },
   {
    "duration": 23,
    "start_time": "2022-02-14T09:28:46.960Z"
   },
   {
    "duration": 112,
    "start_time": "2022-02-14T09:31:52.659Z"
   },
   {
    "duration": 267,
    "start_time": "2022-02-14T09:32:23.812Z"
   },
   {
    "duration": 278,
    "start_time": "2022-02-14T09:33:02.418Z"
   },
   {
    "duration": 288,
    "start_time": "2022-02-14T09:33:21.118Z"
   },
   {
    "duration": 338,
    "start_time": "2022-02-14T09:45:21.240Z"
   },
   {
    "duration": 135,
    "start_time": "2022-02-14T09:46:04.816Z"
   },
   {
    "duration": 901,
    "start_time": "2022-02-14T09:47:00.808Z"
   },
   {
    "duration": 148,
    "start_time": "2022-02-14T09:47:10.539Z"
   },
   {
    "duration": 112,
    "start_time": "2022-02-14T09:47:40.603Z"
   },
   {
    "duration": 126,
    "start_time": "2022-02-14T09:48:04.658Z"
   },
   {
    "duration": 117,
    "start_time": "2022-02-14T09:49:16.202Z"
   },
   {
    "duration": 117,
    "start_time": "2022-02-14T09:49:46.610Z"
   },
   {
    "duration": 115,
    "start_time": "2022-02-14T09:50:12.241Z"
   },
   {
    "duration": 110,
    "start_time": "2022-02-14T09:50:45.137Z"
   },
   {
    "duration": 109,
    "start_time": "2022-02-14T09:50:51.368Z"
   },
   {
    "duration": 114,
    "start_time": "2022-02-14T09:50:55.713Z"
   },
   {
    "duration": 111,
    "start_time": "2022-02-14T09:50:59.163Z"
   },
   {
    "duration": 199,
    "start_time": "2022-02-14T09:52:03.414Z"
   },
   {
    "duration": 22,
    "start_time": "2022-02-14T09:55:20.167Z"
   },
   {
    "duration": 22,
    "start_time": "2022-02-14T09:55:38.042Z"
   },
   {
    "duration": 128,
    "start_time": "2022-02-14T09:57:22.178Z"
   },
   {
    "duration": 295,
    "start_time": "2022-02-14T09:58:00.099Z"
   },
   {
    "duration": 251,
    "start_time": "2022-02-14T09:58:29.095Z"
   },
   {
    "duration": 124,
    "start_time": "2022-02-14T09:58:43.209Z"
   },
   {
    "duration": 4,
    "start_time": "2022-02-14T09:59:47.822Z"
   },
   {
    "duration": 5,
    "start_time": "2022-02-14T09:59:53.598Z"
   },
   {
    "duration": 1213,
    "start_time": "2022-02-14T10:02:26.843Z"
   },
   {
    "duration": 21,
    "start_time": "2022-02-14T10:02:34.347Z"
   },
   {
    "duration": 16,
    "start_time": "2022-02-14T10:04:49.517Z"
   },
   {
    "duration": 398,
    "start_time": "2022-02-14T11:05:49.376Z"
   },
   {
    "duration": 4,
    "start_time": "2022-02-14T11:06:01.850Z"
   },
   {
    "duration": 30,
    "start_time": "2022-02-14T11:06:01.881Z"
   },
   {
    "duration": 19,
    "start_time": "2022-02-14T11:06:01.914Z"
   },
   {
    "duration": 18,
    "start_time": "2022-02-14T11:06:01.935Z"
   },
   {
    "duration": 30,
    "start_time": "2022-02-14T11:06:01.954Z"
   },
   {
    "duration": 13,
    "start_time": "2022-02-14T11:06:01.986Z"
   },
   {
    "duration": 9,
    "start_time": "2022-02-14T11:06:02.000Z"
   },
   {
    "duration": 29,
    "start_time": "2022-02-14T11:06:02.011Z"
   },
   {
    "duration": 3,
    "start_time": "2022-02-14T11:06:02.041Z"
   },
   {
    "duration": 30,
    "start_time": "2022-02-14T11:06:02.046Z"
   },
   {
    "duration": 139,
    "start_time": "2022-02-14T11:06:02.078Z"
   },
   {
    "duration": 344,
    "start_time": "2022-02-14T11:06:02.227Z"
   },
   {
    "duration": 14,
    "start_time": "2022-02-14T11:06:02.573Z"
   },
   {
    "duration": 338,
    "start_time": "2022-02-14T11:06:02.589Z"
   },
   {
    "duration": 25,
    "start_time": "2022-02-14T11:06:02.929Z"
   },
   {
    "duration": 307,
    "start_time": "2022-02-14T11:06:02.956Z"
   },
   {
    "duration": 130,
    "start_time": "2022-02-14T11:06:03.265Z"
   },
   {
    "duration": 19,
    "start_time": "2022-02-14T11:06:03.397Z"
   },
   {
    "duration": 133,
    "start_time": "2022-02-14T11:06:03.417Z"
   },
   {
    "duration": 19,
    "start_time": "2022-02-14T11:06:03.552Z"
   },
   {
    "duration": 28,
    "start_time": "2022-02-14T11:06:12.458Z"
   },
   {
    "duration": 14,
    "start_time": "2022-02-14T11:08:31.699Z"
   },
   {
    "duration": 17,
    "start_time": "2022-02-14T11:09:24.990Z"
   },
   {
    "duration": 35,
    "start_time": "2022-02-14T11:10:56.798Z"
   },
   {
    "duration": 9,
    "start_time": "2022-02-14T11:11:09.645Z"
   },
   {
    "duration": 45,
    "start_time": "2022-02-14T11:11:49.344Z"
   },
   {
    "duration": 32,
    "start_time": "2022-02-14T11:12:09.682Z"
   },
   {
    "duration": 597,
    "start_time": "2022-02-14T11:22:08.055Z"
   },
   {
    "duration": 4,
    "start_time": "2022-02-14T11:23:22.391Z"
   },
   {
    "duration": 268,
    "start_time": "2022-02-14T11:25:44.850Z"
   },
   {
    "duration": 267,
    "start_time": "2022-02-14T11:44:42.901Z"
   },
   {
    "duration": 405,
    "start_time": "2022-02-14T12:07:33.457Z"
   },
   {
    "duration": 420,
    "start_time": "2022-02-14T12:14:49.658Z"
   },
   {
    "duration": 4,
    "start_time": "2022-02-14T12:15:12.185Z"
   },
   {
    "duration": 275,
    "start_time": "2022-02-14T12:15:21.312Z"
   },
   {
    "duration": 4,
    "start_time": "2022-02-14T12:15:37.834Z"
   },
   {
    "duration": 26,
    "start_time": "2022-02-14T12:15:37.849Z"
   },
   {
    "duration": 17,
    "start_time": "2022-02-14T12:15:37.877Z"
   },
   {
    "duration": 11,
    "start_time": "2022-02-14T12:15:37.896Z"
   },
   {
    "duration": 16,
    "start_time": "2022-02-14T12:15:37.908Z"
   },
   {
    "duration": 13,
    "start_time": "2022-02-14T12:15:37.927Z"
   },
   {
    "duration": 6,
    "start_time": "2022-02-14T12:15:37.942Z"
   },
   {
    "duration": 24,
    "start_time": "2022-02-14T12:15:37.950Z"
   },
   {
    "duration": 4,
    "start_time": "2022-02-14T12:15:37.975Z"
   },
   {
    "duration": 14,
    "start_time": "2022-02-14T12:15:37.980Z"
   },
   {
    "duration": 40,
    "start_time": "2022-02-14T12:15:37.995Z"
   },
   {
    "duration": 32,
    "start_time": "2022-02-14T12:15:46.444Z"
   },
   {
    "duration": 29,
    "start_time": "2022-02-14T12:15:57.908Z"
   },
   {
    "duration": 6,
    "start_time": "2022-02-14T12:17:02.069Z"
   },
   {
    "duration": 33,
    "start_time": "2022-02-14T12:17:11.975Z"
   },
   {
    "duration": 9,
    "start_time": "2022-02-14T12:17:19.389Z"
   },
   {
    "duration": 94,
    "start_time": "2022-02-14T12:19:42.011Z"
   },
   {
    "duration": 94,
    "start_time": "2022-02-14T12:20:13.803Z"
   },
   {
    "duration": 100,
    "start_time": "2022-02-14T12:20:24.177Z"
   },
   {
    "duration": 6442,
    "start_time": "2022-02-14T12:21:51.301Z"
   },
   {
    "duration": 27203,
    "start_time": "2022-02-14T12:22:29.665Z"
   },
   {
    "duration": 37840,
    "start_time": "2022-02-14T12:23:46.476Z"
   },
   {
    "duration": 4,
    "start_time": "2022-02-14T12:24:33.601Z"
   },
   {
    "duration": 29,
    "start_time": "2022-02-14T12:24:33.618Z"
   },
   {
    "duration": 16,
    "start_time": "2022-02-14T12:24:33.649Z"
   },
   {
    "duration": 15,
    "start_time": "2022-02-14T12:24:33.667Z"
   },
   {
    "duration": 16,
    "start_time": "2022-02-14T12:24:33.684Z"
   },
   {
    "duration": 35,
    "start_time": "2022-02-14T12:24:33.701Z"
   },
   {
    "duration": 7,
    "start_time": "2022-02-14T12:24:33.737Z"
   },
   {
    "duration": 32,
    "start_time": "2022-02-14T12:24:33.745Z"
   },
   {
    "duration": 3,
    "start_time": "2022-02-14T12:24:33.778Z"
   },
   {
    "duration": 16,
    "start_time": "2022-02-14T12:24:33.783Z"
   },
   {
    "duration": 31,
    "start_time": "2022-02-14T12:24:33.801Z"
   },
   {
    "duration": 30,
    "start_time": "2022-02-14T12:24:33.834Z"
   },
   {
    "duration": 5,
    "start_time": "2022-02-14T12:24:33.865Z"
   },
   {
    "duration": 119,
    "start_time": "2022-02-14T12:24:33.871Z"
   },
   {
    "duration": 514,
    "start_time": "2022-02-14T12:24:36.119Z"
   },
   {
    "duration": 486,
    "start_time": "2022-02-14T12:24:46.610Z"
   },
   {
    "duration": 1471,
    "start_time": "2022-02-14T12:24:56.442Z"
   },
   {
    "duration": 4316,
    "start_time": "2022-02-14T12:25:13.996Z"
   },
   {
    "duration": 38929,
    "start_time": "2022-02-14T12:25:37.698Z"
   },
   {
    "duration": 490,
    "start_time": "2022-02-14T12:28:33.126Z"
   },
   {
    "duration": 687,
    "start_time": "2022-02-14T12:29:03.173Z"
   },
   {
    "duration": 71,
    "start_time": "2022-02-14T12:29:20.992Z"
   },
   {
    "duration": 94,
    "start_time": "2022-02-14T12:29:30.451Z"
   },
   {
    "duration": 3723,
    "start_time": "2022-02-14T12:30:10.475Z"
   },
   {
    "duration": 3789,
    "start_time": "2022-02-14T12:30:19.238Z"
   },
   {
    "duration": 5,
    "start_time": "2022-02-14T12:32:01.426Z"
   },
   {
    "duration": 34,
    "start_time": "2022-02-14T12:32:01.440Z"
   },
   {
    "duration": 24,
    "start_time": "2022-02-14T12:32:01.475Z"
   },
   {
    "duration": 29,
    "start_time": "2022-02-14T12:32:01.501Z"
   },
   {
    "duration": 41,
    "start_time": "2022-02-14T12:32:01.532Z"
   },
   {
    "duration": 19,
    "start_time": "2022-02-14T12:32:01.574Z"
   },
   {
    "duration": 8,
    "start_time": "2022-02-14T12:32:01.595Z"
   },
   {
    "duration": 36,
    "start_time": "2022-02-14T12:32:01.606Z"
   },
   {
    "duration": 3,
    "start_time": "2022-02-14T12:32:01.644Z"
   },
   {
    "duration": 17,
    "start_time": "2022-02-14T12:32:01.649Z"
   },
   {
    "duration": 18,
    "start_time": "2022-02-14T12:32:01.668Z"
   },
   {
    "duration": 71,
    "start_time": "2022-02-14T12:32:01.688Z"
   },
   {
    "duration": 5303,
    "start_time": "2022-02-14T12:32:06.680Z"
   },
   {
    "duration": 5,
    "start_time": "2022-02-14T12:33:09.808Z"
   },
   {
    "duration": 43,
    "start_time": "2022-02-14T12:33:09.823Z"
   },
   {
    "duration": 22,
    "start_time": "2022-02-14T12:33:09.868Z"
   },
   {
    "duration": 15,
    "start_time": "2022-02-14T12:33:09.892Z"
   },
   {
    "duration": 31,
    "start_time": "2022-02-14T12:33:09.909Z"
   },
   {
    "duration": 19,
    "start_time": "2022-02-14T12:33:09.942Z"
   },
   {
    "duration": 9,
    "start_time": "2022-02-14T12:33:09.963Z"
   },
   {
    "duration": 55,
    "start_time": "2022-02-14T12:33:09.973Z"
   },
   {
    "duration": 4,
    "start_time": "2022-02-14T12:33:10.031Z"
   },
   {
    "duration": 19,
    "start_time": "2022-02-14T12:33:10.037Z"
   },
   {
    "duration": 13,
    "start_time": "2022-02-14T12:33:10.058Z"
   },
   {
    "duration": 56,
    "start_time": "2022-02-14T12:33:10.072Z"
   },
   {
    "duration": 6,
    "start_time": "2022-02-14T12:33:10.129Z"
   },
   {
    "duration": 33776,
    "start_time": "2022-02-14T12:33:13.604Z"
   },
   {
    "duration": 5,
    "start_time": "2022-02-14T12:34:26.032Z"
   },
   {
    "duration": 29,
    "start_time": "2022-02-14T12:34:26.044Z"
   },
   {
    "duration": 17,
    "start_time": "2022-02-14T12:34:26.075Z"
   },
   {
    "duration": 11,
    "start_time": "2022-02-14T12:34:26.093Z"
   },
   {
    "duration": 23,
    "start_time": "2022-02-14T12:34:26.105Z"
   },
   {
    "duration": 15,
    "start_time": "2022-02-14T12:34:26.130Z"
   },
   {
    "duration": 8,
    "start_time": "2022-02-14T12:34:26.146Z"
   },
   {
    "duration": 26,
    "start_time": "2022-02-14T12:34:26.155Z"
   },
   {
    "duration": 3,
    "start_time": "2022-02-14T12:34:26.183Z"
   },
   {
    "duration": 43,
    "start_time": "2022-02-14T12:34:26.187Z"
   },
   {
    "duration": 12,
    "start_time": "2022-02-14T12:34:26.231Z"
   },
   {
    "duration": 32,
    "start_time": "2022-02-14T12:34:26.245Z"
   },
   {
    "duration": 5,
    "start_time": "2022-02-14T12:34:26.278Z"
   },
   {
    "duration": 4,
    "start_time": "2022-02-14T12:34:57.949Z"
   },
   {
    "duration": 37,
    "start_time": "2022-02-14T12:34:57.962Z"
   },
   {
    "duration": 16,
    "start_time": "2022-02-14T12:34:58.000Z"
   },
   {
    "duration": 8,
    "start_time": "2022-02-14T12:34:58.018Z"
   },
   {
    "duration": 21,
    "start_time": "2022-02-14T12:34:58.028Z"
   },
   {
    "duration": 13,
    "start_time": "2022-02-14T12:34:58.051Z"
   },
   {
    "duration": 7,
    "start_time": "2022-02-14T12:34:58.071Z"
   },
   {
    "duration": 25,
    "start_time": "2022-02-14T12:34:58.109Z"
   },
   {
    "duration": 3,
    "start_time": "2022-02-14T12:34:58.136Z"
   },
   {
    "duration": 14,
    "start_time": "2022-02-14T12:34:58.144Z"
   },
   {
    "duration": 11,
    "start_time": "2022-02-14T12:34:58.162Z"
   },
   {
    "duration": 32,
    "start_time": "2022-02-14T12:34:58.188Z"
   },
   {
    "duration": 9,
    "start_time": "2022-02-14T12:34:58.221Z"
   },
   {
    "duration": 21135,
    "start_time": "2022-02-14T12:35:01.175Z"
   },
   {
    "duration": 5422,
    "start_time": "2022-02-14T12:36:08.101Z"
   },
   {
    "duration": 11056,
    "start_time": "2022-02-14T12:36:29.912Z"
   },
   {
    "duration": 3,
    "start_time": "2022-02-14T12:36:40.970Z"
   },
   {
    "duration": 30,
    "start_time": "2022-02-14T12:36:40.975Z"
   },
   {
    "duration": 15,
    "start_time": "2022-02-14T12:36:41.007Z"
   },
   {
    "duration": 11,
    "start_time": "2022-02-14T12:36:41.027Z"
   },
   {
    "duration": 16,
    "start_time": "2022-02-14T12:36:41.039Z"
   },
   {
    "duration": 14,
    "start_time": "2022-02-14T12:36:41.057Z"
   },
   {
    "duration": 6,
    "start_time": "2022-02-14T12:36:41.074Z"
   },
   {
    "duration": 55,
    "start_time": "2022-02-14T12:36:41.082Z"
   },
   {
    "duration": 4,
    "start_time": "2022-02-14T12:36:41.139Z"
   },
   {
    "duration": 14,
    "start_time": "2022-02-14T12:36:41.145Z"
   },
   {
    "duration": 12,
    "start_time": "2022-02-14T12:36:41.160Z"
   },
   {
    "duration": 60,
    "start_time": "2022-02-14T12:36:41.174Z"
   },
   {
    "duration": 4,
    "start_time": "2022-02-14T12:36:41.236Z"
   },
   {
    "duration": 10261,
    "start_time": "2022-02-14T12:36:46.089Z"
   },
   {
    "duration": 4,
    "start_time": "2022-02-14T12:37:11.515Z"
   },
   {
    "duration": 28,
    "start_time": "2022-02-14T12:37:11.526Z"
   },
   {
    "duration": 18,
    "start_time": "2022-02-14T12:37:11.555Z"
   },
   {
    "duration": 11,
    "start_time": "2022-02-14T12:37:11.575Z"
   },
   {
    "duration": 16,
    "start_time": "2022-02-14T12:37:11.588Z"
   },
   {
    "duration": 33,
    "start_time": "2022-02-14T12:37:11.606Z"
   },
   {
    "duration": 7,
    "start_time": "2022-02-14T12:37:11.641Z"
   },
   {
    "duration": 25,
    "start_time": "2022-02-14T12:37:11.649Z"
   },
   {
    "duration": 3,
    "start_time": "2022-02-14T12:37:11.675Z"
   },
   {
    "duration": 13,
    "start_time": "2022-02-14T12:37:11.679Z"
   },
   {
    "duration": 41,
    "start_time": "2022-02-14T12:37:11.694Z"
   },
   {
    "duration": 31,
    "start_time": "2022-02-14T12:37:11.737Z"
   },
   {
    "duration": 4,
    "start_time": "2022-02-14T12:37:11.770Z"
   },
   {
    "duration": 5,
    "start_time": "2022-02-14T12:37:16.954Z"
   },
   {
    "duration": 6,
    "start_time": "2022-02-14T12:37:22.760Z"
   },
   {
    "duration": 9946,
    "start_time": "2022-02-14T12:37:26.453Z"
   },
   {
    "duration": 31,
    "start_time": "2022-02-14T12:38:20.201Z"
   },
   {
    "duration": 5,
    "start_time": "2022-02-14T12:38:33.981Z"
   },
   {
    "duration": 3662,
    "start_time": "2022-02-14T12:38:49.691Z"
   },
   {
    "duration": 18,
    "start_time": "2022-02-14T12:39:56.811Z"
   },
   {
    "duration": 104,
    "start_time": "2022-02-14T12:40:14.152Z"
   },
   {
    "duration": 17,
    "start_time": "2022-02-14T12:40:19.284Z"
   },
   {
    "duration": 101,
    "start_time": "2022-02-14T12:40:22.567Z"
   },
   {
    "duration": 408,
    "start_time": "2022-02-14T12:40:26.722Z"
   },
   {
    "duration": 1609,
    "start_time": "2022-02-14T12:40:31.847Z"
   },
   {
    "duration": 403,
    "start_time": "2022-02-14T12:40:56.596Z"
   },
   {
    "duration": 412,
    "start_time": "2022-02-14T12:41:30.803Z"
   },
   {
    "duration": 408,
    "start_time": "2022-02-14T12:41:42.706Z"
   },
   {
    "duration": 4352,
    "start_time": "2022-02-14T15:47:49.414Z"
   },
   {
    "duration": 4611,
    "start_time": "2022-02-14T15:48:20.197Z"
   },
   {
    "duration": 54,
    "start_time": "2022-02-14T15:50:32.330Z"
   },
   {
    "duration": 53,
    "start_time": "2022-02-14T15:50:56.820Z"
   },
   {
    "duration": 6716,
    "start_time": "2022-02-14T15:52:23.027Z"
   },
   {
    "duration": 2877,
    "start_time": "2022-02-14T15:53:23.791Z"
   },
   {
    "duration": 4331,
    "start_time": "2022-02-14T15:54:25.162Z"
   },
   {
    "duration": 6147,
    "start_time": "2022-02-14T15:54:45.189Z"
   },
   {
    "duration": 280,
    "start_time": "2022-02-14T15:55:35.854Z"
   },
   {
    "duration": 267,
    "start_time": "2022-02-14T15:55:42.676Z"
   },
   {
    "duration": 10787,
    "start_time": "2022-02-14T15:56:02.659Z"
   },
   {
    "duration": 4,
    "start_time": "2022-02-14T15:56:24.319Z"
   },
   {
    "duration": 33,
    "start_time": "2022-02-14T15:56:24.326Z"
   },
   {
    "duration": 18,
    "start_time": "2022-02-14T15:56:24.360Z"
   },
   {
    "duration": 12,
    "start_time": "2022-02-14T15:56:24.380Z"
   },
   {
    "duration": 15,
    "start_time": "2022-02-14T15:56:24.393Z"
   },
   {
    "duration": 22,
    "start_time": "2022-02-14T15:56:24.410Z"
   },
   {
    "duration": 6,
    "start_time": "2022-02-14T15:56:24.434Z"
   },
   {
    "duration": 25,
    "start_time": "2022-02-14T15:56:24.442Z"
   },
   {
    "duration": 4,
    "start_time": "2022-02-14T15:56:24.468Z"
   },
   {
    "duration": 14,
    "start_time": "2022-02-14T15:56:24.477Z"
   },
   {
    "duration": 45,
    "start_time": "2022-02-14T15:56:24.492Z"
   },
   {
    "duration": 31,
    "start_time": "2022-02-14T15:56:24.539Z"
   },
   {
    "duration": 4,
    "start_time": "2022-02-14T15:56:24.572Z"
   },
   {
    "duration": 10037,
    "start_time": "2022-02-14T15:56:33.793Z"
   },
   {
    "duration": 10560,
    "start_time": "2022-02-14T15:57:11.708Z"
   },
   {
    "duration": 10279,
    "start_time": "2022-02-14T15:57:37.551Z"
   },
   {
    "duration": 91164,
    "start_time": "2022-02-14T15:58:44.899Z"
   },
   {
    "duration": 8235,
    "start_time": "2022-02-14T16:00:43.926Z"
   },
   {
    "duration": 7904,
    "start_time": "2022-02-14T16:01:28.859Z"
   },
   {
    "duration": 6934,
    "start_time": "2022-02-14T16:01:51.462Z"
   },
   {
    "duration": 7287,
    "start_time": "2022-02-14T16:02:31.554Z"
   },
   {
    "duration": 6990,
    "start_time": "2022-02-14T16:02:47.297Z"
   },
   {
    "duration": 4714,
    "start_time": "2022-02-14T16:03:16.372Z"
   },
   {
    "duration": 3187,
    "start_time": "2022-02-14T16:03:31.652Z"
   },
   {
    "duration": 2314,
    "start_time": "2022-02-14T16:03:38.759Z"
   },
   {
    "duration": 2009,
    "start_time": "2022-02-14T16:03:47.577Z"
   },
   {
    "duration": 2330,
    "start_time": "2022-02-14T16:03:53.565Z"
   },
   {
    "duration": 1767,
    "start_time": "2022-02-14T16:04:07.835Z"
   },
   {
    "duration": 280,
    "start_time": "2022-02-14T16:04:25.027Z"
   },
   {
    "duration": 259,
    "start_time": "2022-02-14T16:04:38.842Z"
   },
   {
    "duration": 242,
    "start_time": "2022-02-14T16:04:42.065Z"
   },
   {
    "duration": 280,
    "start_time": "2022-02-14T16:04:50.794Z"
   },
   {
    "duration": 307,
    "start_time": "2022-02-14T16:04:57.416Z"
   },
   {
    "duration": 270,
    "start_time": "2022-02-14T16:05:03.403Z"
   },
   {
    "duration": 256,
    "start_time": "2022-02-14T16:05:21.865Z"
   },
   {
    "duration": 817,
    "start_time": "2022-02-14T16:05:33.013Z"
   },
   {
    "duration": 8033,
    "start_time": "2022-02-14T16:05:52.062Z"
   },
   {
    "duration": 1062,
    "start_time": "2022-02-14T16:06:51.619Z"
   },
   {
    "duration": 22280,
    "start_time": "2022-02-14T16:07:34.021Z"
   },
   {
    "duration": 107,
    "start_time": "2022-02-14T16:08:12.420Z"
   },
   {
    "duration": 273,
    "start_time": "2022-02-14T16:08:35.316Z"
   },
   {
    "duration": 80,
    "start_time": "2022-02-14T16:08:40.746Z"
   },
   {
    "duration": 32,
    "start_time": "2022-02-14T16:08:58.005Z"
   },
   {
    "duration": 33,
    "start_time": "2022-02-14T16:09:07.982Z"
   },
   {
    "duration": 19128,
    "start_time": "2022-02-14T16:10:28.884Z"
   },
   {
    "duration": 4,
    "start_time": "2022-02-14T16:11:47.470Z"
   },
   {
    "duration": 516,
    "start_time": "2022-02-14T16:12:10.452Z"
   },
   {
    "duration": 434,
    "start_time": "2022-02-14T16:12:51.898Z"
   },
   {
    "duration": 15,
    "start_time": "2022-02-14T16:15:30.303Z"
   },
   {
    "duration": 11,
    "start_time": "2022-02-14T16:15:57.282Z"
   },
   {
    "duration": 19,
    "start_time": "2022-02-14T16:16:00.961Z"
   },
   {
    "duration": 19,
    "start_time": "2022-02-14T16:16:23.766Z"
   },
   {
    "duration": 16,
    "start_time": "2022-02-14T16:17:52.775Z"
   },
   {
    "duration": 22,
    "start_time": "2022-02-14T16:18:27.069Z"
   },
   {
    "duration": 15,
    "start_time": "2022-02-14T16:22:03.011Z"
   },
   {
    "duration": 16,
    "start_time": "2022-02-14T16:22:25.993Z"
   },
   {
    "duration": 281,
    "start_time": "2022-02-14T16:22:37.995Z"
   },
   {
    "duration": 21,
    "start_time": "2022-02-14T16:23:24.620Z"
   },
   {
    "duration": 19,
    "start_time": "2022-02-14T16:23:31.832Z"
   },
   {
    "duration": 20,
    "start_time": "2022-02-14T16:23:35.849Z"
   },
   {
    "duration": 19,
    "start_time": "2022-02-14T16:23:43.901Z"
   },
   {
    "duration": 10,
    "start_time": "2022-02-14T16:27:14.653Z"
   },
   {
    "duration": 8,
    "start_time": "2022-02-14T16:27:20.043Z"
   },
   {
    "duration": 277,
    "start_time": "2022-02-14T16:27:43.181Z"
   },
   {
    "duration": 21,
    "start_time": "2022-02-14T16:27:54.365Z"
   },
   {
    "duration": 270,
    "start_time": "2022-02-14T16:37:53.386Z"
   },
   {
    "duration": 467,
    "start_time": "2022-02-14T16:38:10.940Z"
   },
   {
    "duration": 470,
    "start_time": "2022-02-14T16:38:23.200Z"
   },
   {
    "duration": 4,
    "start_time": "2022-02-14T16:39:15.966Z"
   },
   {
    "duration": 8,
    "start_time": "2022-02-14T16:39:23.318Z"
   },
   {
    "duration": 557,
    "start_time": "2022-02-14T16:39:46.220Z"
   },
   {
    "duration": 6,
    "start_time": "2022-02-14T16:40:53.324Z"
   },
   {
    "duration": 14,
    "start_time": "2022-02-14T16:47:42.844Z"
   },
   {
    "duration": 4,
    "start_time": "2022-02-14T16:47:51.949Z"
   },
   {
    "duration": 36,
    "start_time": "2022-02-14T16:47:51.963Z"
   },
   {
    "duration": 16,
    "start_time": "2022-02-14T16:47:52.000Z"
   },
   {
    "duration": 9,
    "start_time": "2022-02-14T16:47:52.017Z"
   },
   {
    "duration": 14,
    "start_time": "2022-02-14T16:47:52.028Z"
   },
   {
    "duration": 13,
    "start_time": "2022-02-14T16:47:52.043Z"
   },
   {
    "duration": 7,
    "start_time": "2022-02-14T16:47:52.057Z"
   },
   {
    "duration": 27,
    "start_time": "2022-02-14T16:47:52.065Z"
   },
   {
    "duration": 3,
    "start_time": "2022-02-14T16:47:52.093Z"
   },
   {
    "duration": 40,
    "start_time": "2022-02-14T16:47:52.097Z"
   },
   {
    "duration": 12,
    "start_time": "2022-02-14T16:47:52.662Z"
   },
   {
    "duration": 29,
    "start_time": "2022-02-14T16:47:52.676Z"
   },
   {
    "duration": 4,
    "start_time": "2022-02-14T16:47:52.707Z"
   },
   {
    "duration": 11978,
    "start_time": "2022-02-14T16:47:52.712Z"
   },
   {
    "duration": 8172,
    "start_time": "2022-02-14T16:48:04.691Z"
   },
   {
    "duration": 19394,
    "start_time": "2022-02-14T16:48:12.864Z"
   },
   {
    "duration": 73,
    "start_time": "2022-02-14T16:48:32.259Z"
   },
   {
    "duration": 449,
    "start_time": "2022-02-14T16:48:32.335Z"
   },
   {
    "duration": -1125,
    "start_time": "2022-02-14T16:48:33.911Z"
   },
   {
    "duration": 12,
    "start_time": "2022-02-14T16:55:53.532Z"
   },
   {
    "duration": 30,
    "start_time": "2022-02-14T16:56:00.074Z"
   },
   {
    "duration": 14,
    "start_time": "2022-02-14T16:56:23.576Z"
   },
   {
    "duration": 24,
    "start_time": "2022-02-14T16:56:45.873Z"
   },
   {
    "duration": 6310,
    "start_time": "2022-02-14T16:58:31.621Z"
   },
   {
    "duration": 7796,
    "start_time": "2022-02-14T17:00:04.302Z"
   },
   {
    "duration": 188591,
    "start_time": "2022-02-14T17:00:54.256Z"
   },
   {
    "duration": 4,
    "start_time": "2022-02-14T17:04:10.764Z"
   },
   {
    "duration": 39,
    "start_time": "2022-02-14T17:04:10.770Z"
   },
   {
    "duration": 16,
    "start_time": "2022-02-14T17:04:10.811Z"
   },
   {
    "duration": 10,
    "start_time": "2022-02-14T17:04:10.829Z"
   },
   {
    "duration": 17,
    "start_time": "2022-02-14T17:04:10.840Z"
   },
   {
    "duration": 12,
    "start_time": "2022-02-14T17:04:10.858Z"
   },
   {
    "duration": 6,
    "start_time": "2022-02-14T17:04:10.872Z"
   },
   {
    "duration": 55,
    "start_time": "2022-02-14T17:04:10.879Z"
   },
   {
    "duration": 4,
    "start_time": "2022-02-14T17:04:10.936Z"
   },
   {
    "duration": 15,
    "start_time": "2022-02-14T17:04:10.941Z"
   },
   {
    "duration": 10,
    "start_time": "2022-02-14T17:04:10.958Z"
   },
   {
    "duration": 29,
    "start_time": "2022-02-14T17:04:10.969Z"
   },
   {
    "duration": 29,
    "start_time": "2022-02-14T17:04:10.999Z"
   },
   {
    "duration": 4879,
    "start_time": "2022-02-14T17:04:11.030Z"
   },
   {
    "duration": 5037,
    "start_time": "2022-02-14T17:04:15.910Z"
   },
   {
    "duration": 12164,
    "start_time": "2022-02-14T17:04:20.949Z"
   },
   {
    "duration": 47,
    "start_time": "2022-02-14T17:04:33.114Z"
   },
   {
    "duration": 115,
    "start_time": "2022-02-14T17:04:33.227Z"
   },
   {
    "duration": 6868,
    "start_time": "2022-02-14T17:04:33.344Z"
   },
   {
    "duration": 132553,
    "start_time": "2022-02-14T17:04:40.213Z"
   },
   {
    "duration": 705277,
    "start_time": "2022-02-14T17:07:37.765Z"
   },
   {
    "duration": 107232,
    "start_time": "2022-02-14T18:19:07.186Z"
   },
   {
    "duration": 20259,
    "start_time": "2022-02-14T18:20:57.033Z"
   },
   {
    "duration": 19435,
    "start_time": "2022-02-14T18:23:26.713Z"
   },
   {
    "duration": 71,
    "start_time": "2022-02-14T18:24:05.658Z"
   },
   {
    "duration": 87,
    "start_time": "2022-02-14T18:24:21.440Z"
   },
   {
    "duration": 112,
    "start_time": "2022-02-14T18:24:57.616Z"
   },
   {
    "duration": 51,
    "start_time": "2022-02-14T18:25:28.481Z"
   },
   {
    "duration": 83,
    "start_time": "2022-02-14T18:25:39.547Z"
   },
   {
    "duration": 2471,
    "start_time": "2022-02-14T18:33:29.158Z"
   },
   {
    "duration": 4,
    "start_time": "2022-02-14T18:34:03.314Z"
   },
   {
    "duration": 37,
    "start_time": "2022-02-14T18:34:03.328Z"
   },
   {
    "duration": 16,
    "start_time": "2022-02-14T18:34:03.367Z"
   },
   {
    "duration": 11,
    "start_time": "2022-02-14T18:34:03.384Z"
   },
   {
    "duration": 15,
    "start_time": "2022-02-14T18:34:03.397Z"
   },
   {
    "duration": 17,
    "start_time": "2022-02-14T18:34:03.413Z"
   },
   {
    "duration": 6,
    "start_time": "2022-02-14T18:34:03.432Z"
   },
   {
    "duration": 25,
    "start_time": "2022-02-14T18:34:03.439Z"
   },
   {
    "duration": 4,
    "start_time": "2022-02-14T18:34:03.465Z"
   },
   {
    "duration": 14,
    "start_time": "2022-02-14T18:34:03.470Z"
   },
   {
    "duration": 18,
    "start_time": "2022-02-14T18:34:03.509Z"
   },
   {
    "duration": 29,
    "start_time": "2022-02-14T18:34:03.528Z"
   },
   {
    "duration": 5,
    "start_time": "2022-02-14T18:34:03.559Z"
   },
   {
    "duration": 2446,
    "start_time": "2022-02-14T18:34:13.431Z"
   },
   {
    "duration": 5416,
    "start_time": "2022-02-14T18:34:36.371Z"
   },
   {
    "duration": 4,
    "start_time": "2022-02-14T18:35:20.781Z"
   },
   {
    "duration": 26,
    "start_time": "2022-02-14T18:35:20.793Z"
   },
   {
    "duration": 15,
    "start_time": "2022-02-14T18:35:20.821Z"
   },
   {
    "duration": 10,
    "start_time": "2022-02-14T18:35:20.838Z"
   },
   {
    "duration": 17,
    "start_time": "2022-02-14T18:35:20.849Z"
   },
   {
    "duration": 12,
    "start_time": "2022-02-14T18:35:20.868Z"
   },
   {
    "duration": 6,
    "start_time": "2022-02-14T18:35:20.882Z"
   },
   {
    "duration": 51,
    "start_time": "2022-02-14T18:35:20.890Z"
   },
   {
    "duration": 4,
    "start_time": "2022-02-14T18:35:20.943Z"
   },
   {
    "duration": 13,
    "start_time": "2022-02-14T18:35:20.948Z"
   },
   {
    "duration": 11,
    "start_time": "2022-02-14T18:35:20.963Z"
   },
   {
    "duration": 54,
    "start_time": "2022-02-14T18:35:20.975Z"
   },
   {
    "duration": 5,
    "start_time": "2022-02-14T18:35:21.031Z"
   },
   {
    "duration": 2478,
    "start_time": "2022-02-14T18:35:31.575Z"
   },
   {
    "duration": 5173,
    "start_time": "2022-02-14T18:35:50.434Z"
   },
   {
    "duration": 12212,
    "start_time": "2022-02-14T18:35:55.608Z"
   },
   {
    "duration": 1096,
    "start_time": "2022-02-14T18:36:25.387Z"
   },
   {
    "duration": 34,
    "start_time": "2022-02-14T18:36:26.485Z"
   },
   {
    "duration": 18,
    "start_time": "2022-02-14T18:36:26.521Z"
   },
   {
    "duration": 10,
    "start_time": "2022-02-14T18:36:26.541Z"
   },
   {
    "duration": 15,
    "start_time": "2022-02-14T18:36:26.552Z"
   },
   {
    "duration": 13,
    "start_time": "2022-02-14T18:36:26.568Z"
   },
   {
    "duration": 6,
    "start_time": "2022-02-14T18:36:26.583Z"
   },
   {
    "duration": 49,
    "start_time": "2022-02-14T18:36:26.591Z"
   },
   {
    "duration": 3,
    "start_time": "2022-02-14T18:36:26.642Z"
   },
   {
    "duration": 14,
    "start_time": "2022-02-14T18:36:26.647Z"
   },
   {
    "duration": 11,
    "start_time": "2022-02-14T18:36:26.662Z"
   },
   {
    "duration": 30,
    "start_time": "2022-02-14T18:36:26.674Z"
   },
   {
    "duration": 25,
    "start_time": "2022-02-14T18:36:26.705Z"
   },
   {
    "duration": 2450,
    "start_time": "2022-02-14T18:36:26.731Z"
   },
   {
    "duration": 5218,
    "start_time": "2022-02-14T18:36:29.183Z"
   },
   {
    "duration": 12289,
    "start_time": "2022-02-14T18:36:34.402Z"
   },
   {
    "duration": 49,
    "start_time": "2022-02-14T18:36:46.693Z"
   },
   {
    "duration": 129,
    "start_time": "2022-02-14T18:36:46.828Z"
   },
   {
    "duration": 6939,
    "start_time": "2022-02-14T18:36:46.959Z"
   },
   {
    "duration": 20260,
    "start_time": "2022-02-14T18:36:53.900Z"
   },
   {
    "duration": 71,
    "start_time": "2022-02-14T18:37:14.161Z"
   },
   {
    "duration": 2416,
    "start_time": "2022-02-14T18:37:35.338Z"
   },
   {
    "duration": 3322,
    "start_time": "2022-02-14T18:37:52.675Z"
   },
   {
    "duration": 5137,
    "start_time": "2022-02-14T18:38:13.946Z"
   },
   {
    "duration": 89689,
    "start_time": "2022-02-14T18:38:49.558Z"
   },
   {
    "duration": 71242,
    "start_time": "2022-02-14T18:40:49.186Z"
   },
   {
    "duration": 404,
    "start_time": "2022-02-14T18:42:56.766Z"
   },
   {
    "duration": 26,
    "start_time": "2022-02-14T18:43:20.374Z"
   },
   {
    "duration": 3,
    "start_time": "2022-02-14T18:46:03.278Z"
   },
   {
    "duration": 29,
    "start_time": "2022-02-14T18:46:06.502Z"
   },
   {
    "duration": 32,
    "start_time": "2022-02-14T18:46:18.391Z"
   },
   {
    "duration": 32,
    "start_time": "2022-02-14T18:47:10.747Z"
   },
   {
    "duration": 43,
    "start_time": "2022-02-14T18:50:45.397Z"
   },
   {
    "duration": 36,
    "start_time": "2022-02-14T18:55:19.594Z"
   },
   {
    "duration": 266,
    "start_time": "2022-02-14T18:56:33.169Z"
   },
   {
    "duration": 41,
    "start_time": "2022-02-14T18:56:45.362Z"
   },
   {
    "duration": 29,
    "start_time": "2022-02-14T18:58:29.089Z"
   },
   {
    "duration": 28,
    "start_time": "2022-02-14T18:58:58.309Z"
   },
   {
    "duration": 12,
    "start_time": "2022-02-14T18:59:35.410Z"
   },
   {
    "duration": 13,
    "start_time": "2022-02-14T19:00:06.522Z"
   },
   {
    "duration": 4,
    "start_time": "2022-02-14T19:00:30.578Z"
   },
   {
    "duration": 13,
    "start_time": "2022-02-14T19:00:39.228Z"
   },
   {
    "duration": 13,
    "start_time": "2022-02-14T19:01:01.490Z"
   },
   {
    "duration": 12,
    "start_time": "2022-02-14T19:02:37.420Z"
   },
   {
    "duration": 4,
    "start_time": "2022-02-14T19:02:46.035Z"
   },
   {
    "duration": 34,
    "start_time": "2022-02-14T19:02:46.048Z"
   },
   {
    "duration": 16,
    "start_time": "2022-02-14T19:02:46.084Z"
   },
   {
    "duration": 9,
    "start_time": "2022-02-14T19:02:46.102Z"
   },
   {
    "duration": 16,
    "start_time": "2022-02-14T19:02:46.113Z"
   },
   {
    "duration": 12,
    "start_time": "2022-02-14T19:02:46.131Z"
   },
   {
    "duration": 7,
    "start_time": "2022-02-14T19:02:46.150Z"
   },
   {
    "duration": 24,
    "start_time": "2022-02-14T19:02:46.170Z"
   },
   {
    "duration": 3,
    "start_time": "2022-02-14T19:02:46.196Z"
   },
   {
    "duration": 28,
    "start_time": "2022-02-14T19:02:46.208Z"
   },
   {
    "duration": 12,
    "start_time": "2022-02-14T19:02:50.565Z"
   },
   {
    "duration": 34,
    "start_time": "2022-02-14T19:05:40.877Z"
   },
   {
    "duration": 2,
    "start_time": "2022-02-14T19:07:44.327Z"
   },
   {
    "duration": 6,
    "start_time": "2022-02-14T20:07:23.027Z"
   },
   {
    "duration": 5,
    "start_time": "2022-02-14T20:07:32.682Z"
   },
   {
    "duration": 5,
    "start_time": "2022-02-14T20:08:10.704Z"
   },
   {
    "duration": 81,
    "start_time": "2022-02-14T20:08:37.475Z"
   },
   {
    "duration": 2493,
    "start_time": "2022-02-14T20:12:43.358Z"
   },
   {
    "duration": 7373,
    "start_time": "2022-02-14T20:15:18.217Z"
   },
   {
    "duration": 73571,
    "start_time": "2022-02-14T20:16:22.478Z"
   },
   {
    "duration": 73738,
    "start_time": "2022-02-14T20:18:14.197Z"
   },
   {
    "duration": 71214,
    "start_time": "2022-02-14T20:20:11.982Z"
   },
   {
    "duration": 22,
    "start_time": "2022-02-14T20:25:27.020Z"
   },
   {
    "duration": 24,
    "start_time": "2022-02-14T20:25:40.972Z"
   },
   {
    "duration": 2603,
    "start_time": "2022-02-14T20:34:21.647Z"
   },
   {
    "duration": 4903,
    "start_time": "2022-02-14T20:34:33.958Z"
   },
   {
    "duration": 4825,
    "start_time": "2022-02-14T20:35:08.491Z"
   },
   {
    "duration": 3781,
    "start_time": "2022-02-14T20:35:20.906Z"
   },
   {
    "duration": 2661,
    "start_time": "2022-02-14T20:35:30.241Z"
   },
   {
    "duration": 5290,
    "start_time": "2022-02-14T20:35:42.153Z"
   },
   {
    "duration": 73315,
    "start_time": "2022-02-14T20:41:17.103Z"
   },
   {
    "duration": 128,
    "start_time": "2022-02-14T20:45:23.116Z"
   },
   {
    "duration": 75725,
    "start_time": "2022-02-14T20:45:36.416Z"
   },
   {
    "duration": 23,
    "start_time": "2022-02-14T20:47:58.795Z"
   },
   {
    "duration": 26,
    "start_time": "2022-02-14T20:51:48.859Z"
   },
   {
    "duration": 288,
    "start_time": "2022-02-14T20:52:28.536Z"
   },
   {
    "duration": 19,
    "start_time": "2022-02-14T20:52:48.449Z"
   },
   {
    "duration": 18,
    "start_time": "2022-02-14T20:52:55.295Z"
   },
   {
    "duration": 18,
    "start_time": "2022-02-14T20:53:04.211Z"
   },
   {
    "duration": 22,
    "start_time": "2022-02-14T20:55:58.281Z"
   },
   {
    "duration": 21,
    "start_time": "2022-02-14T20:56:12.813Z"
   },
   {
    "duration": 6401,
    "start_time": "2022-02-14T20:58:30.473Z"
   },
   {
    "duration": 6699,
    "start_time": "2022-02-14T20:59:50.778Z"
   },
   {
    "duration": 6496,
    "start_time": "2022-02-14T21:00:18.491Z"
   },
   {
    "duration": 96885,
    "start_time": "2022-02-14T21:03:04.083Z"
   },
   {
    "duration": 28,
    "start_time": "2022-02-14T21:07:37.689Z"
   },
   {
    "duration": 12,
    "start_time": "2022-02-14T21:11:31.856Z"
   },
   {
    "duration": 18,
    "start_time": "2022-02-14T21:11:43.854Z"
   },
   {
    "duration": 295,
    "start_time": "2022-02-14T21:12:43.080Z"
   },
   {
    "duration": 2252,
    "start_time": "2022-02-14T21:13:26.792Z"
   },
   {
    "duration": 41359,
    "start_time": "2022-02-14T21:16:15.039Z"
   },
   {
    "duration": 13,
    "start_time": "2022-02-14T21:17:43.143Z"
   },
   {
    "duration": 5102,
    "start_time": "2022-02-14T21:21:23.239Z"
   },
   {
    "duration": 71766,
    "start_time": "2022-02-14T21:21:33.343Z"
   },
   {
    "duration": 24,
    "start_time": "2022-02-14T21:22:52.875Z"
   },
   {
    "duration": 22,
    "start_time": "2022-02-14T21:24:07.296Z"
   },
   {
    "duration": 12,
    "start_time": "2022-02-14T21:25:14.739Z"
   },
   {
    "duration": 6,
    "start_time": "2022-02-14T21:25:55.155Z"
   },
   {
    "duration": 6,
    "start_time": "2022-02-14T21:26:35.470Z"
   },
   {
    "duration": 268,
    "start_time": "2022-02-14T21:26:59.538Z"
   },
   {
    "duration": 8,
    "start_time": "2022-02-14T21:27:38.423Z"
   },
   {
    "duration": 13,
    "start_time": "2022-02-14T21:34:20.210Z"
   },
   {
    "duration": 13,
    "start_time": "2022-02-14T21:34:29.836Z"
   },
   {
    "duration": 11,
    "start_time": "2022-02-14T21:34:49.642Z"
   },
   {
    "duration": 14,
    "start_time": "2022-02-14T21:34:56.684Z"
   },
   {
    "duration": 227,
    "start_time": "2022-02-14T21:47:46.304Z"
   },
   {
    "duration": 3,
    "start_time": "2022-02-14T21:48:10.833Z"
   },
   {
    "duration": 30,
    "start_time": "2022-02-14T21:48:10.844Z"
   },
   {
    "duration": 17,
    "start_time": "2022-02-14T21:48:10.876Z"
   },
   {
    "duration": 10,
    "start_time": "2022-02-14T21:48:10.895Z"
   },
   {
    "duration": 15,
    "start_time": "2022-02-14T21:48:10.906Z"
   },
   {
    "duration": 12,
    "start_time": "2022-02-14T21:48:10.927Z"
   },
   {
    "duration": 6,
    "start_time": "2022-02-14T21:48:10.941Z"
   },
   {
    "duration": 25,
    "start_time": "2022-02-14T21:48:10.949Z"
   },
   {
    "duration": 4,
    "start_time": "2022-02-14T21:48:10.976Z"
   },
   {
    "duration": 15,
    "start_time": "2022-02-14T21:48:10.981Z"
   },
   {
    "duration": 40,
    "start_time": "2022-02-14T21:48:10.997Z"
   },
   {
    "duration": 29,
    "start_time": "2022-02-14T21:48:11.039Z"
   },
   {
    "duration": 4,
    "start_time": "2022-02-14T21:48:11.070Z"
   },
   {
    "duration": 226,
    "start_time": "2022-02-14T21:48:15.111Z"
   },
   {
    "duration": 2203,
    "start_time": "2022-02-14T21:48:24.574Z"
   },
   {
    "duration": 190,
    "start_time": "2022-02-14T21:48:40.565Z"
   },
   {
    "duration": 237,
    "start_time": "2022-02-14T21:48:47.934Z"
   },
   {
    "duration": 16,
    "start_time": "2022-02-14T21:48:55.562Z"
   },
   {
    "duration": 484,
    "start_time": "2022-02-14T21:49:01.815Z"
   },
   {
    "duration": 731,
    "start_time": "2022-02-14T21:49:15.061Z"
   },
   {
    "duration": 539,
    "start_time": "2022-02-14T21:49:25.523Z"
   },
   {
    "duration": 388,
    "start_time": "2022-02-14T21:49:30.214Z"
   },
   {
    "duration": 444,
    "start_time": "2022-02-14T21:49:34.363Z"
   },
   {
    "duration": 366,
    "start_time": "2022-02-14T21:49:38.739Z"
   },
   {
    "duration": 389,
    "start_time": "2022-02-14T21:49:47.709Z"
   },
   {
    "duration": 384,
    "start_time": "2022-02-14T21:49:57.850Z"
   },
   {
    "duration": 439,
    "start_time": "2022-02-14T21:50:04.590Z"
   },
   {
    "duration": 95,
    "start_time": "2022-02-15T08:15:24.413Z"
   },
   {
    "duration": 35,
    "start_time": "2022-02-15T08:15:59.344Z"
   },
   {
    "duration": 34,
    "start_time": "2022-02-15T08:16:02.552Z"
   },
   {
    "duration": 27,
    "start_time": "2022-02-15T08:16:04.963Z"
   },
   {
    "duration": 12,
    "start_time": "2022-02-15T08:16:07.420Z"
   },
   {
    "duration": 20,
    "start_time": "2022-02-15T08:16:11.961Z"
   },
   {
    "duration": 15,
    "start_time": "2022-02-15T08:16:14.926Z"
   },
   {
    "duration": 9,
    "start_time": "2022-02-15T08:16:21.398Z"
   },
   {
    "duration": 28,
    "start_time": "2022-02-15T08:16:23.790Z"
   },
   {
    "duration": 4,
    "start_time": "2022-02-15T08:16:28.630Z"
   },
   {
    "duration": 16,
    "start_time": "2022-02-15T08:16:32.162Z"
   },
   {
    "duration": 12,
    "start_time": "2022-02-15T08:16:38.170Z"
   },
   {
    "duration": 34,
    "start_time": "2022-02-15T08:16:44.729Z"
   },
   {
    "duration": 27,
    "start_time": "2022-02-15T08:16:51.759Z"
   },
   {
    "duration": 6,
    "start_time": "2022-02-15T08:17:04.745Z"
   },
   {
    "duration": 3442,
    "start_time": "2022-02-15T08:21:54.449Z"
   },
   {
    "duration": 3935,
    "start_time": "2022-02-15T08:22:35.326Z"
   },
   {
    "duration": 3791,
    "start_time": "2022-02-15T08:24:37.345Z"
   },
   {
    "duration": 5864,
    "start_time": "2022-02-15T08:24:47.091Z"
   },
   {
    "duration": 650,
    "start_time": "2022-02-15T08:25:51.206Z"
   },
   {
    "duration": 690,
    "start_time": "2022-02-15T08:27:15.961Z"
   },
   {
    "duration": 637,
    "start_time": "2022-02-15T08:28:12.889Z"
   },
   {
    "duration": 480,
    "start_time": "2022-02-15T08:28:36.091Z"
   },
   {
    "duration": 542,
    "start_time": "2022-02-15T08:29:44.699Z"
   },
   {
    "duration": 5,
    "start_time": "2022-02-15T08:30:03.991Z"
   },
   {
    "duration": 31,
    "start_time": "2022-02-15T08:30:04.011Z"
   },
   {
    "duration": 20,
    "start_time": "2022-02-15T08:30:04.044Z"
   },
   {
    "duration": 16,
    "start_time": "2022-02-15T08:30:04.066Z"
   },
   {
    "duration": 44,
    "start_time": "2022-02-15T08:30:04.084Z"
   },
   {
    "duration": 16,
    "start_time": "2022-02-15T08:30:04.130Z"
   },
   {
    "duration": 7,
    "start_time": "2022-02-15T08:30:04.148Z"
   },
   {
    "duration": 30,
    "start_time": "2022-02-15T08:30:04.157Z"
   },
   {
    "duration": 34,
    "start_time": "2022-02-15T08:30:04.188Z"
   },
   {
    "duration": 20,
    "start_time": "2022-02-15T08:30:04.223Z"
   },
   {
    "duration": 14,
    "start_time": "2022-02-15T08:30:04.245Z"
   },
   {
    "duration": 33,
    "start_time": "2022-02-15T08:30:04.260Z"
   },
   {
    "duration": 6,
    "start_time": "2022-02-15T08:30:04.318Z"
   },
   {
    "duration": 5582,
    "start_time": "2022-02-15T08:30:17.762Z"
   },
   {
    "duration": 612,
    "start_time": "2022-02-15T08:31:38.108Z"
   },
   {
    "duration": 620,
    "start_time": "2022-02-15T08:32:37.899Z"
   },
   {
    "duration": 577,
    "start_time": "2022-02-15T08:34:10.798Z"
   },
   {
    "duration": 769,
    "start_time": "2022-02-15T08:35:07.308Z"
   },
   {
    "duration": 619,
    "start_time": "2022-02-15T08:35:15.418Z"
   },
   {
    "duration": 524,
    "start_time": "2022-02-15T08:35:29.761Z"
   },
   {
    "duration": 571,
    "start_time": "2022-02-15T08:36:02.952Z"
   },
   {
    "duration": 605,
    "start_time": "2022-02-15T08:36:16.740Z"
   },
   {
    "duration": 12015,
    "start_time": "2022-02-15T08:37:39.346Z"
   },
   {
    "duration": 9393,
    "start_time": "2022-02-15T08:38:41.077Z"
   },
   {
    "duration": 26,
    "start_time": "2022-02-15T08:41:12.776Z"
   },
   {
    "duration": 506519,
    "start_time": "2022-02-15T08:44:46.342Z"
   },
   {
    "duration": 502714,
    "start_time": "2022-02-15T08:55:46.514Z"
   },
   {
    "duration": 66245,
    "start_time": "2022-02-15T09:06:00.274Z"
   },
   {
    "duration": 309,
    "start_time": "2022-02-15T09:08:37.650Z"
   },
   {
    "duration": 77,
    "start_time": "2022-02-15T09:09:30.319Z"
   },
   {
    "duration": 67,
    "start_time": "2022-02-15T09:09:55.442Z"
   },
   {
    "duration": 92,
    "start_time": "2022-02-15T09:10:17.688Z"
   },
   {
    "duration": 67,
    "start_time": "2022-02-15T09:10:48.040Z"
   },
   {
    "duration": 89,
    "start_time": "2022-02-15T09:10:57.308Z"
   },
   {
    "duration": 74,
    "start_time": "2022-02-15T09:11:02.666Z"
   },
   {
    "duration": 3787,
    "start_time": "2022-02-15T09:11:27.213Z"
   },
   {
    "duration": 91495,
    "start_time": "2022-02-15T09:12:47.085Z"
   },
   {
    "duration": 69263,
    "start_time": "2022-02-15T09:17:53.284Z"
   },
   {
    "duration": 29,
    "start_time": "2022-02-15T09:21:14.162Z"
   },
   {
    "duration": 29,
    "start_time": "2022-02-15T10:20:44.572Z"
   },
   {
    "duration": 28,
    "start_time": "2022-02-15T10:20:50.438Z"
   },
   {
    "duration": 93345,
    "start_time": "2022-02-15T10:21:23.001Z"
   },
   {
    "duration": 422,
    "start_time": "2022-02-15T10:23:29.979Z"
   },
   {
    "duration": 343,
    "start_time": "2022-02-15T10:23:53.010Z"
   },
   {
    "duration": 253,
    "start_time": "2022-02-15T10:27:29.996Z"
   },
   {
    "duration": 1124,
    "start_time": "2022-02-15T10:28:12.349Z"
   },
   {
    "duration": 32,
    "start_time": "2022-02-15T10:28:13.475Z"
   },
   {
    "duration": 33,
    "start_time": "2022-02-15T10:28:13.509Z"
   },
   {
    "duration": 12,
    "start_time": "2022-02-15T10:28:13.544Z"
   },
   {
    "duration": 20,
    "start_time": "2022-02-15T10:28:13.558Z"
   },
   {
    "duration": 47,
    "start_time": "2022-02-15T10:28:13.580Z"
   },
   {
    "duration": 9,
    "start_time": "2022-02-15T10:28:13.629Z"
   },
   {
    "duration": 39,
    "start_time": "2022-02-15T10:28:13.641Z"
   },
   {
    "duration": 4,
    "start_time": "2022-02-15T10:28:13.683Z"
   },
   {
    "duration": 39,
    "start_time": "2022-02-15T10:28:13.688Z"
   },
   {
    "duration": 13,
    "start_time": "2022-02-15T10:28:13.729Z"
   },
   {
    "duration": 31,
    "start_time": "2022-02-15T10:28:13.744Z"
   },
   {
    "duration": 42,
    "start_time": "2022-02-15T10:28:13.777Z"
   },
   {
    "duration": 16621,
    "start_time": "2022-02-15T10:28:13.821Z"
   },
   {
    "duration": 30,
    "start_time": "2022-02-15T10:28:30.444Z"
   },
   {
    "duration": 89228,
    "start_time": "2022-02-15T10:28:30.476Z"
   },
   {
    "duration": 114,
    "start_time": "2022-02-15T10:29:59.706Z"
   },
   {
    "duration": 469,
    "start_time": "2022-02-15T10:29:59.822Z"
   },
   {
    "duration": 87131,
    "start_time": "2022-02-15T10:30:00.293Z"
   },
   {
    "duration": 94,
    "start_time": "2022-02-15T10:31:27.425Z"
   },
   {
    "duration": 117,
    "start_time": "2022-02-15T10:31:27.521Z"
   },
   {
    "duration": 392,
    "start_time": "2022-02-15T10:31:27.640Z"
   },
   {
    "duration": 118001,
    "start_time": "2022-02-15T10:31:28.035Z"
   },
   {
    "duration": 87,
    "start_time": "2022-02-15T10:33:26.038Z"
   },
   {
    "duration": 101,
    "start_time": "2022-02-15T10:33:26.128Z"
   },
   {
    "duration": 2697,
    "start_time": "2022-02-15T10:33:26.231Z"
   },
   {
    "duration": 52081,
    "start_time": "2022-02-15T10:33:28.931Z"
   },
   {
    "duration": 16,
    "start_time": "2022-02-15T10:34:21.018Z"
   },
   {
    "duration": 183,
    "start_time": "2022-02-15T10:34:21.037Z"
   },
   {
    "duration": 8,
    "start_time": "2022-02-15T10:34:21.222Z"
   },
   {
    "duration": 15,
    "start_time": "2022-02-15T10:34:21.231Z"
   },
   {
    "duration": 17104,
    "start_time": "2022-02-15T11:57:11.354Z"
   },
   {
    "duration": 31,
    "start_time": "2022-02-15T11:58:01.252Z"
   },
   {
    "duration": 88012,
    "start_time": "2022-02-15T11:58:34.417Z"
   },
   {
    "duration": 10011,
    "start_time": "2022-02-15T12:00:02.431Z"
   },
   {
    "duration": 351,
    "start_time": "2022-02-15T12:00:37.398Z"
   },
   {
    "duration": 272,
    "start_time": "2022-02-15T12:00:54.301Z"
   },
   {
    "duration": 216,
    "start_time": "2022-02-15T12:01:20.035Z"
   },
   {
    "duration": 230,
    "start_time": "2022-02-15T12:01:58.430Z"
   },
   {
    "duration": 273,
    "start_time": "2022-02-15T12:04:37.012Z"
   },
   {
    "duration": 243,
    "start_time": "2022-02-15T12:05:33.874Z"
   },
   {
    "duration": 4,
    "start_time": "2022-02-15T12:06:41.066Z"
   },
   {
    "duration": 10,
    "start_time": "2022-02-15T12:06:48.092Z"
   },
   {
    "duration": 268,
    "start_time": "2022-02-15T12:07:05.698Z"
   },
   {
    "duration": 11,
    "start_time": "2022-02-15T12:07:27.070Z"
   },
   {
    "duration": 10,
    "start_time": "2022-02-15T12:07:37.242Z"
   },
   {
    "duration": 231,
    "start_time": "2022-02-15T12:07:44.962Z"
   },
   {
    "duration": 10,
    "start_time": "2022-02-15T12:07:49.393Z"
   },
   {
    "duration": 206,
    "start_time": "2022-02-15T12:08:02.858Z"
   },
   {
    "duration": 247,
    "start_time": "2022-02-15T12:08:13.207Z"
   },
   {
    "duration": 382,
    "start_time": "2022-02-15T12:08:51.308Z"
   },
   {
    "duration": 396,
    "start_time": "2022-02-15T12:09:25.166Z"
   },
   {
    "duration": 64,
    "start_time": "2022-02-15T12:10:02.591Z"
   },
   {
    "duration": 180,
    "start_time": "2022-02-15T12:10:11.719Z"
   },
   {
    "duration": 322,
    "start_time": "2022-02-15T12:11:26.996Z"
   },
   {
    "duration": 4,
    "start_time": "2022-02-15T12:11:41.906Z"
   },
   {
    "duration": 31,
    "start_time": "2022-02-15T12:11:41.913Z"
   },
   {
    "duration": 20,
    "start_time": "2022-02-15T12:11:41.946Z"
   },
   {
    "duration": 16,
    "start_time": "2022-02-15T12:11:41.969Z"
   },
   {
    "duration": 34,
    "start_time": "2022-02-15T12:11:41.987Z"
   },
   {
    "duration": 18,
    "start_time": "2022-02-15T12:11:42.024Z"
   },
   {
    "duration": 8,
    "start_time": "2022-02-15T12:11:42.044Z"
   },
   {
    "duration": 40,
    "start_time": "2022-02-15T12:11:42.054Z"
   },
   {
    "duration": 26,
    "start_time": "2022-02-15T12:11:42.096Z"
   },
   {
    "duration": 18,
    "start_time": "2022-02-15T12:11:42.125Z"
   },
   {
    "duration": 14,
    "start_time": "2022-02-15T12:11:42.146Z"
   },
   {
    "duration": 70,
    "start_time": "2022-02-15T12:11:42.163Z"
   },
   {
    "duration": 7,
    "start_time": "2022-02-15T12:11:42.235Z"
   },
   {
    "duration": 16993,
    "start_time": "2022-02-15T12:11:42.244Z"
   },
   {
    "duration": 88258,
    "start_time": "2022-02-15T12:11:59.239Z"
   },
   {
    "duration": 37,
    "start_time": "2022-02-15T12:13:27.499Z"
   },
   {
    "duration": 358,
    "start_time": "2022-02-15T12:13:27.539Z"
   },
   {
    "duration": 9,
    "start_time": "2022-02-15T12:15:16.556Z"
   },
   {
    "duration": 9,
    "start_time": "2022-02-15T12:15:33.199Z"
   },
   {
    "duration": 370,
    "start_time": "2022-02-15T12:16:55.308Z"
   },
   {
    "duration": 8,
    "start_time": "2022-02-15T12:17:19.665Z"
   },
   {
    "duration": 87027,
    "start_time": "2022-02-15T12:17:44.022Z"
   },
   {
    "duration": 42,
    "start_time": "2022-02-15T12:19:22.476Z"
   },
   {
    "duration": 5,
    "start_time": "2022-02-15T12:26:18.285Z"
   },
   {
    "duration": 86,
    "start_time": "2022-02-15T12:26:53.932Z"
   },
   {
    "duration": 12,
    "start_time": "2022-02-15T12:27:03.399Z"
   },
   {
    "duration": 57,
    "start_time": "2022-02-15T12:31:51.769Z"
   },
   {
    "duration": 473,
    "start_time": "2022-02-15T12:33:10.040Z"
   },
   {
    "duration": 460,
    "start_time": "2022-02-15T12:33:35.583Z"
   },
   {
    "duration": 315,
    "start_time": "2022-02-15T12:33:46.958Z"
   },
   {
    "duration": 302,
    "start_time": "2022-02-15T12:34:20.982Z"
   },
   {
    "duration": 440,
    "start_time": "2022-02-15T12:38:21.932Z"
   },
   {
    "duration": 315,
    "start_time": "2022-02-15T12:38:32.558Z"
   },
   {
    "duration": 172,
    "start_time": "2022-02-15T12:41:22.585Z"
   },
   {
    "duration": 188,
    "start_time": "2022-02-15T12:43:04.630Z"
   },
   {
    "duration": 70,
    "start_time": "2022-02-15T12:44:07.131Z"
   },
   {
    "duration": 32,
    "start_time": "2022-02-15T12:45:35.844Z"
   },
   {
    "duration": 346,
    "start_time": "2022-02-15T12:45:39.023Z"
   },
   {
    "duration": 27,
    "start_time": "2022-02-15T12:46:39.084Z"
   },
   {
    "duration": 344,
    "start_time": "2022-02-15T12:46:43.127Z"
   },
   {
    "duration": 113,
    "start_time": "2022-02-15T14:31:07.867Z"
   },
   {
    "duration": 382,
    "start_time": "2022-02-15T14:36:28.026Z"
   },
   {
    "duration": 1100,
    "start_time": "2022-02-15T14:36:39.284Z"
   },
   {
    "duration": 30,
    "start_time": "2022-02-15T14:36:40.386Z"
   },
   {
    "duration": 20,
    "start_time": "2022-02-15T14:36:40.418Z"
   },
   {
    "duration": 13,
    "start_time": "2022-02-15T14:36:40.440Z"
   },
   {
    "duration": 15,
    "start_time": "2022-02-15T14:36:40.455Z"
   },
   {
    "duration": 12,
    "start_time": "2022-02-15T14:36:40.471Z"
   },
   {
    "duration": 6,
    "start_time": "2022-02-15T14:36:40.484Z"
   },
   {
    "duration": 60,
    "start_time": "2022-02-15T14:36:40.492Z"
   },
   {
    "duration": 5,
    "start_time": "2022-02-15T14:36:40.554Z"
   },
   {
    "duration": 16,
    "start_time": "2022-02-15T14:36:40.561Z"
   },
   {
    "duration": 12,
    "start_time": "2022-02-15T14:36:40.579Z"
   },
   {
    "duration": 61,
    "start_time": "2022-02-15T14:36:40.593Z"
   },
   {
    "duration": 4,
    "start_time": "2022-02-15T14:36:40.656Z"
   },
   {
    "duration": 402,
    "start_time": "2022-02-15T14:36:40.662Z"
   },
   {
    "duration": -645,
    "start_time": "2022-02-15T14:36:41.711Z"
   },
   {
    "duration": -767,
    "start_time": "2022-02-15T14:36:41.834Z"
   },
   {
    "duration": -811,
    "start_time": "2022-02-15T14:36:41.879Z"
   },
   {
    "duration": 14257,
    "start_time": "2022-02-15T14:37:14.534Z"
   },
   {
    "duration": 208,
    "start_time": "2022-02-15T14:37:28.793Z"
   },
   {
    "duration": 143,
    "start_time": "2022-02-15T14:37:37.751Z"
   },
   {
    "duration": 71384,
    "start_time": "2022-02-15T14:37:46.049Z"
   },
   {
    "duration": 154,
    "start_time": "2022-02-15T14:39:03.733Z"
   },
   {
    "duration": 38,
    "start_time": "2022-02-15T14:39:20.020Z"
   },
   {
    "duration": 398,
    "start_time": "2022-02-15T14:39:34.126Z"
   },
   {
    "duration": 173,
    "start_time": "2022-02-15T14:44:21.052Z"
   },
   {
    "duration": 93,
    "start_time": "2022-02-15T14:44:51.951Z"
   },
   {
    "duration": 166,
    "start_time": "2022-02-15T14:45:05.342Z"
   },
   {
    "duration": 159,
    "start_time": "2022-02-15T14:45:40.661Z"
   },
   {
    "duration": 186,
    "start_time": "2022-02-15T14:45:59.748Z"
   },
   {
    "duration": 311,
    "start_time": "2022-02-15T14:47:49.812Z"
   },
   {
    "duration": 254,
    "start_time": "2022-02-15T14:47:55.150Z"
   },
   {
    "duration": 143,
    "start_time": "2022-02-15T14:48:11.697Z"
   },
   {
    "duration": 72508,
    "start_time": "2022-02-15T14:50:48.086Z"
   },
   {
    "duration": 152,
    "start_time": "2022-02-15T14:52:05.589Z"
   },
   {
    "duration": 33,
    "start_time": "2022-02-15T14:52:53.520Z"
   },
   {
    "duration": 318,
    "start_time": "2022-02-15T14:54:59.154Z"
   },
   {
    "duration": 290,
    "start_time": "2022-02-15T14:57:23.902Z"
   },
   {
    "duration": 20,
    "start_time": "2022-02-15T14:57:33.691Z"
   },
   {
    "duration": 322,
    "start_time": "2022-02-15T14:57:38.678Z"
   },
   {
    "duration": 481,
    "start_time": "2022-02-15T14:58:54.765Z"
   },
   {
    "duration": 414,
    "start_time": "2022-02-15T14:59:05.541Z"
   },
   {
    "duration": 146,
    "start_time": "2022-02-15T14:59:07.830Z"
   },
   {
    "duration": 97766,
    "start_time": "2022-02-15T15:01:23.541Z"
   },
   {
    "duration": 103260,
    "start_time": "2022-02-15T15:04:08.900Z"
   },
   {
    "duration": 308,
    "start_time": "2022-02-15T15:06:40.203Z"
   },
   {
    "duration": 103277,
    "start_time": "2022-02-15T15:08:26.876Z"
   },
   {
    "duration": 115,
    "start_time": "2022-02-15T15:10:19.120Z"
   },
   {
    "duration": 102182,
    "start_time": "2022-02-15T15:10:31.691Z"
   },
   {
    "duration": 241,
    "start_time": "2022-02-15T15:12:18.790Z"
   },
   {
    "duration": 333,
    "start_time": "2022-02-15T15:15:49.130Z"
   },
   {
    "duration": 31,
    "start_time": "2022-02-15T15:16:04.600Z"
   },
   {
    "duration": 29,
    "start_time": "2022-02-15T15:16:55.289Z"
   },
   {
    "duration": 379,
    "start_time": "2022-02-15T15:17:10.100Z"
   },
   {
    "duration": 37,
    "start_time": "2022-02-15T15:17:16.320Z"
   },
   {
    "duration": 350,
    "start_time": "2022-02-15T15:17:18.830Z"
   },
   {
    "duration": 63,
    "start_time": "2022-02-15T15:17:57.494Z"
   },
   {
    "duration": 299,
    "start_time": "2022-02-15T15:18:00.505Z"
   },
   {
    "duration": 17,
    "start_time": "2022-02-15T15:19:16.962Z"
   },
   {
    "duration": 212,
    "start_time": "2022-02-15T15:20:07.287Z"
   },
   {
    "duration": 2558,
    "start_time": "2022-02-15T15:20:26.041Z"
   },
   {
    "duration": 63,
    "start_time": "2022-02-15T15:21:21.289Z"
   },
   {
    "duration": 2470,
    "start_time": "2022-02-15T15:22:01.242Z"
   },
   {
    "duration": 2650,
    "start_time": "2022-02-15T15:23:40.596Z"
   },
   {
    "duration": 148,
    "start_time": "2022-02-15T15:23:51.369Z"
   },
   {
    "duration": 51879,
    "start_time": "2022-02-15T15:27:07.596Z"
   },
   {
    "duration": 212,
    "start_time": "2022-02-15T15:28:03.458Z"
   },
   {
    "duration": 96,
    "start_time": "2022-02-15T15:29:33.069Z"
   },
   {
    "duration": 308,
    "start_time": "2022-02-15T15:30:06.385Z"
   },
   {
    "duration": 25,
    "start_time": "2022-02-15T15:30:31.835Z"
   },
   {
    "duration": 276,
    "start_time": "2022-02-15T15:31:48.708Z"
   },
   {
    "duration": 5,
    "start_time": "2022-02-15T15:44:53.350Z"
   },
   {
    "duration": 7,
    "start_time": "2022-02-15T15:45:01.407Z"
   },
   {
    "duration": 301,
    "start_time": "2022-02-15T15:47:49.491Z"
   },
   {
    "duration": 807,
    "start_time": "2022-02-15T15:50:00.128Z"
   },
   {
    "duration": 357,
    "start_time": "2022-02-15T15:51:04.840Z"
   },
   {
    "duration": 348,
    "start_time": "2022-02-15T15:51:25.987Z"
   },
   {
    "duration": 6,
    "start_time": "2022-02-15T15:52:09.483Z"
   },
   {
    "duration": 7,
    "start_time": "2022-02-15T15:52:12.915Z"
   },
   {
    "duration": 5,
    "start_time": "2022-02-15T15:52:34.802Z"
   },
   {
    "duration": 9,
    "start_time": "2022-02-15T15:52:37.476Z"
   },
   {
    "duration": 6,
    "start_time": "2022-02-15T15:53:16.663Z"
   },
   {
    "duration": 9,
    "start_time": "2022-02-15T15:53:19.891Z"
   },
   {
    "duration": 326,
    "start_time": "2022-02-15T15:53:39.715Z"
   },
   {
    "duration": 304,
    "start_time": "2022-02-15T15:53:53.028Z"
   },
   {
    "duration": 4,
    "start_time": "2022-02-15T15:53:57.735Z"
   },
   {
    "duration": 457,
    "start_time": "2022-02-15T15:54:53.604Z"
   },
   {
    "duration": 12,
    "start_time": "2022-02-15T15:55:20.332Z"
   },
   {
    "duration": 19,
    "start_time": "2022-02-15T15:57:03.110Z"
   },
   {
    "duration": 15,
    "start_time": "2022-02-15T15:57:05.273Z"
   },
   {
    "duration": 12,
    "start_time": "2022-02-15T15:57:07.664Z"
   },
   {
    "duration": 27,
    "start_time": "2022-02-15T15:58:29.477Z"
   },
   {
    "duration": 36,
    "start_time": "2022-02-15T15:59:13.237Z"
   },
   {
    "duration": 100,
    "start_time": "2022-02-15T15:59:39.133Z"
   },
   {
    "duration": 27,
    "start_time": "2022-02-15T15:59:43.000Z"
   },
   {
    "duration": 28,
    "start_time": "2022-02-15T16:00:03.323Z"
   },
   {
    "duration": 2010,
    "start_time": "2022-02-15T19:05:44.834Z"
   },
   {
    "duration": 45,
    "start_time": "2022-02-15T19:05:46.847Z"
   },
   {
    "duration": 37,
    "start_time": "2022-02-15T19:05:48.041Z"
   },
   {
    "duration": 71,
    "start_time": "2022-02-15T19:17:29.899Z"
   },
   {
    "duration": 10,
    "start_time": "2022-02-15T19:17:33.231Z"
   },
   {
    "duration": 15,
    "start_time": "2022-02-15T19:17:43.312Z"
   },
   {
    "duration": 40,
    "start_time": "2022-02-15T19:18:01.942Z"
   },
   {
    "duration": 1573,
    "start_time": "2022-02-15T19:46:12.519Z"
   },
   {
    "duration": 48,
    "start_time": "2022-02-15T19:46:14.095Z"
   },
   {
    "duration": 33,
    "start_time": "2022-02-15T19:46:14.402Z"
   },
   {
    "duration": 16,
    "start_time": "2022-02-15T19:46:14.818Z"
   },
   {
    "duration": 29,
    "start_time": "2022-02-15T19:46:16.869Z"
   },
   {
    "duration": 24,
    "start_time": "2022-02-15T19:46:18.256Z"
   },
   {
    "duration": 12,
    "start_time": "2022-02-15T19:46:23.333Z"
   },
   {
    "duration": 42,
    "start_time": "2022-02-15T19:46:24.708Z"
   },
   {
    "duration": 5,
    "start_time": "2022-02-15T19:49:57.963Z"
   },
   {
    "duration": 346,
    "start_time": "2022-02-15T20:24:57.256Z"
   },
   {
    "duration": 352,
    "start_time": "2022-02-15T20:25:03.148Z"
   },
   {
    "duration": 1528,
    "start_time": "2022-02-15T20:25:08.530Z"
   },
   {
    "duration": 38,
    "start_time": "2022-02-15T20:25:10.061Z"
   },
   {
    "duration": 43,
    "start_time": "2022-02-15T20:25:10.102Z"
   },
   {
    "duration": 18,
    "start_time": "2022-02-15T20:25:10.252Z"
   },
   {
    "duration": 28,
    "start_time": "2022-02-15T20:25:10.911Z"
   },
   {
    "duration": 23,
    "start_time": "2022-02-15T20:25:11.537Z"
   },
   {
    "duration": 12,
    "start_time": "2022-02-15T20:25:12.585Z"
   },
   {
    "duration": 43,
    "start_time": "2022-02-15T20:25:13.075Z"
   },
   {
    "duration": 6,
    "start_time": "2022-02-15T20:25:14.165Z"
   },
   {
    "duration": 22,
    "start_time": "2022-02-15T20:25:15.303Z"
   },
   {
    "duration": 19,
    "start_time": "2022-02-15T20:25:17.175Z"
   },
   {
    "duration": 44,
    "start_time": "2022-02-15T20:25:19.326Z"
   },
   {
    "duration": 9,
    "start_time": "2022-02-15T20:25:21.368Z"
   },
   {
    "duration": 91305,
    "start_time": "2022-02-15T20:28:31.163Z"
   },
   {
    "duration": 131653,
    "start_time": "2022-02-15T20:39:45.403Z"
   },
   {
    "duration": 327,
    "start_time": "2022-02-15T20:41:57.059Z"
   },
   {
    "duration": 136,
    "start_time": "2022-02-15T20:41:57.389Z"
   },
   {
    "duration": 422,
    "start_time": "2022-02-15T20:46:37.550Z"
   },
   {
    "duration": 299,
    "start_time": "2022-02-15T20:46:39.794Z"
   },
   {
    "duration": 79,
    "start_time": "2022-02-15T20:48:32.451Z"
   },
   {
    "duration": 468,
    "start_time": "2022-02-15T20:48:32.624Z"
   },
   {
    "duration": 37,
    "start_time": "2022-02-15T20:49:47.453Z"
   },
   {
    "duration": 31,
    "start_time": "2022-02-15T20:50:15.218Z"
   },
   {
    "duration": 121,
    "start_time": "2022-02-15T20:50:18.858Z"
   },
   {
    "duration": 9,
    "start_time": "2022-02-15T20:51:04.523Z"
   },
   {
    "duration": 35,
    "start_time": "2022-02-15T20:52:10.681Z"
   },
   {
    "duration": 35,
    "start_time": "2022-02-15T20:52:17.488Z"
   },
   {
    "duration": 32,
    "start_time": "2022-02-15T20:52:22.488Z"
   },
   {
    "duration": 46,
    "start_time": "2022-02-15T20:52:44.115Z"
   },
   {
    "duration": 41,
    "start_time": "2022-02-15T20:53:47.259Z"
   },
   {
    "duration": 35,
    "start_time": "2022-02-15T20:53:57.135Z"
   },
   {
    "duration": 13,
    "start_time": "2022-02-15T20:54:18.487Z"
   },
   {
    "duration": 10,
    "start_time": "2022-02-15T20:54:26.941Z"
   },
   {
    "duration": 379,
    "start_time": "2022-02-15T20:57:17.416Z"
   },
   {
    "duration": 9,
    "start_time": "2022-02-15T20:57:30.379Z"
   },
   {
    "duration": 531,
    "start_time": "2022-02-15T20:59:28.650Z"
   },
   {
    "duration": 279,
    "start_time": "2022-02-15T20:59:29.288Z"
   },
   {
    "duration": 174746,
    "start_time": "2022-02-15T20:59:36.212Z"
   },
   {
    "duration": 356,
    "start_time": "2022-02-15T21:02:30.963Z"
   },
   {
    "duration": 105,
    "start_time": "2022-02-15T21:02:31.327Z"
   },
   {
    "duration": 542,
    "start_time": "2022-02-15T21:02:31.436Z"
   },
   {
    "duration": 21,
    "start_time": "2022-02-15T21:02:31.981Z"
   },
   {
    "duration": 4057,
    "start_time": "2022-02-15T21:02:32.024Z"
   },
   {
    "duration": 311,
    "start_time": "2022-02-15T21:02:36.083Z"
   },
   {
    "duration": 75960,
    "start_time": "2022-02-15T21:02:36.397Z"
   },
   {
    "duration": 312,
    "start_time": "2022-02-15T21:03:52.359Z"
   },
   {
    "duration": 148,
    "start_time": "2022-02-15T21:03:52.674Z"
   },
   {
    "duration": 468,
    "start_time": "2022-02-15T21:03:52.826Z"
   },
   {
    "duration": 31,
    "start_time": "2022-02-15T21:03:53.297Z"
   },
   {
    "duration": 332,
    "start_time": "2022-02-15T21:03:53.331Z"
   },
   {
    "duration": 125831,
    "start_time": "2022-02-15T21:04:51.180Z"
   },
   {
    "duration": 48,
    "start_time": "2022-02-15T21:07:10.806Z"
   },
   {
    "duration": 269,
    "start_time": "2022-02-16T08:45:33.649Z"
   },
   {
    "duration": 1272,
    "start_time": "2022-02-16T08:45:38.382Z"
   },
   {
    "duration": 30,
    "start_time": "2022-02-16T08:45:39.657Z"
   },
   {
    "duration": 17,
    "start_time": "2022-02-16T08:45:40.912Z"
   },
   {
    "duration": 73,
    "start_time": "2022-02-16T08:46:08.418Z"
   },
   {
    "duration": 16,
    "start_time": "2022-02-16T08:46:30.195Z"
   },
   {
    "duration": 100,
    "start_time": "2022-02-16T08:47:45.618Z"
   },
   {
    "duration": 137,
    "start_time": "2022-02-16T08:52:48.838Z"
   },
   {
    "duration": 5,
    "start_time": "2022-02-16T08:52:58.388Z"
   },
   {
    "duration": 27,
    "start_time": "2022-02-16T08:52:58.405Z"
   },
   {
    "duration": 13,
    "start_time": "2022-02-16T08:52:58.434Z"
   },
   {
    "duration": 12,
    "start_time": "2022-02-16T08:52:58.452Z"
   },
   {
    "duration": 18,
    "start_time": "2022-02-16T08:52:58.483Z"
   },
   {
    "duration": 29,
    "start_time": "2022-02-16T08:52:58.503Z"
   },
   {
    "duration": 7,
    "start_time": "2022-02-16T08:52:58.534Z"
   },
   {
    "duration": 78,
    "start_time": "2022-02-16T08:53:01.698Z"
   },
   {
    "duration": 29,
    "start_time": "2022-02-16T08:53:10.373Z"
   },
   {
    "duration": 285,
    "start_time": "2022-02-16T09:03:13.204Z"
   },
   {
    "duration": 4,
    "start_time": "2022-02-16T09:03:17.393Z"
   },
   {
    "duration": 35,
    "start_time": "2022-02-16T09:03:17.409Z"
   },
   {
    "duration": 13,
    "start_time": "2022-02-16T09:03:17.446Z"
   },
   {
    "duration": 13,
    "start_time": "2022-02-16T09:03:17.461Z"
   },
   {
    "duration": 16,
    "start_time": "2022-02-16T09:03:17.476Z"
   },
   {
    "duration": 36,
    "start_time": "2022-02-16T09:03:17.494Z"
   },
   {
    "duration": 7,
    "start_time": "2022-02-16T09:03:17.532Z"
   },
   {
    "duration": 23,
    "start_time": "2022-02-16T09:03:17.541Z"
   },
   {
    "duration": 4,
    "start_time": "2022-02-16T09:03:17.565Z"
   },
   {
    "duration": 15,
    "start_time": "2022-02-16T09:03:17.578Z"
   },
   {
    "duration": 25,
    "start_time": "2022-02-16T09:03:17.604Z"
   },
   {
    "duration": 27,
    "start_time": "2022-02-16T09:03:17.631Z"
   },
   {
    "duration": 9094,
    "start_time": "2022-02-16T09:03:21.485Z"
   },
   {
    "duration": 7,
    "start_time": "2022-02-16T09:04:10.224Z"
   },
   {
    "duration": 445,
    "start_time": "2022-02-16T09:04:22.182Z"
   },
   {
    "duration": 216,
    "start_time": "2022-02-16T09:05:24.957Z"
   },
   {
    "duration": 213,
    "start_time": "2022-02-16T09:05:39.076Z"
   },
   {
    "duration": 9078,
    "start_time": "2022-02-16T09:06:24.035Z"
   },
   {
    "duration": 215,
    "start_time": "2022-02-16T09:07:54.919Z"
   },
   {
    "duration": 225,
    "start_time": "2022-02-16T09:08:02.808Z"
   },
   {
    "duration": 223,
    "start_time": "2022-02-16T09:08:15.762Z"
   },
   {
    "duration": 6,
    "start_time": "2022-02-16T09:08:49.069Z"
   },
   {
    "duration": 215,
    "start_time": "2022-02-16T09:12:16.514Z"
   },
   {
    "duration": 223,
    "start_time": "2022-02-16T09:13:26.086Z"
   },
   {
    "duration": 93,
    "start_time": "2022-02-16T09:13:40.376Z"
   },
   {
    "duration": 88,
    "start_time": "2022-02-16T09:14:20.676Z"
   },
   {
    "duration": 71,
    "start_time": "2022-02-16T09:15:04.891Z"
   },
   {
    "duration": 67,
    "start_time": "2022-02-16T09:16:48.521Z"
   },
   {
    "duration": 272,
    "start_time": "2022-02-16T09:18:06.994Z"
   },
   {
    "duration": 4,
    "start_time": "2022-02-16T09:18:11.435Z"
   },
   {
    "duration": 50,
    "start_time": "2022-02-16T09:18:11.454Z"
   },
   {
    "duration": 13,
    "start_time": "2022-02-16T09:18:11.506Z"
   },
   {
    "duration": 42,
    "start_time": "2022-02-16T09:18:11.521Z"
   },
   {
    "duration": 21,
    "start_time": "2022-02-16T09:18:11.564Z"
   },
   {
    "duration": 15,
    "start_time": "2022-02-16T09:18:11.587Z"
   },
   {
    "duration": 7,
    "start_time": "2022-02-16T09:18:11.603Z"
   },
   {
    "duration": 19,
    "start_time": "2022-02-16T09:18:11.615Z"
   },
   {
    "duration": 4,
    "start_time": "2022-02-16T09:18:11.642Z"
   },
   {
    "duration": 15,
    "start_time": "2022-02-16T09:18:11.670Z"
   },
   {
    "duration": 10,
    "start_time": "2022-02-16T09:18:11.710Z"
   },
   {
    "duration": 29,
    "start_time": "2022-02-16T09:18:11.749Z"
   },
   {
    "duration": 81,
    "start_time": "2022-02-16T09:18:11.783Z"
   },
   {
    "duration": 16272,
    "start_time": "2022-02-16T09:18:11.865Z"
   },
   {
    "duration": 172,
    "start_time": "2022-02-16T09:18:28.139Z"
   },
   {
    "duration": 87441,
    "start_time": "2022-02-16T09:18:28.313Z"
   },
   {
    "duration": 275,
    "start_time": "2022-02-16T09:19:55.756Z"
   },
   {
    "duration": 23,
    "start_time": "2022-02-16T09:19:56.033Z"
   },
   {
    "duration": 509,
    "start_time": "2022-02-16T09:19:56.058Z"
   },
   {
    "duration": 192,
    "start_time": "2022-02-16T09:19:56.569Z"
   },
   {
    "duration": 280,
    "start_time": "2022-02-16T09:19:56.763Z"
   },
   {
    "duration": 174,
    "start_time": "2022-02-16T09:19:57.045Z"
   },
   {
    "duration": 91470,
    "start_time": "2022-02-16T09:19:57.220Z"
   },
   {
    "duration": 177,
    "start_time": "2022-02-16T09:21:28.692Z"
   },
   {
    "duration": 52,
    "start_time": "2022-02-16T09:21:28.871Z"
   },
   {
    "duration": 878,
    "start_time": "2022-02-16T09:21:28.926Z"
   },
   {
    "duration": 244,
    "start_time": "2022-02-16T09:21:29.806Z"
   },
   {
    "duration": 20,
    "start_time": "2022-02-16T09:21:41.752Z"
   },
   {
    "duration": 84,
    "start_time": "2022-02-16T09:22:07.963Z"
   },
   {
    "duration": 201,
    "start_time": "2022-02-16T09:23:10.979Z"
   },
   {
    "duration": 5,
    "start_time": "2022-02-16T09:24:46.495Z"
   },
   {
    "duration": 47,
    "start_time": "2022-02-16T09:24:46.516Z"
   },
   {
    "duration": 13,
    "start_time": "2022-02-16T09:24:46.565Z"
   },
   {
    "duration": 24,
    "start_time": "2022-02-16T09:24:46.580Z"
   },
   {
    "duration": 22,
    "start_time": "2022-02-16T09:24:46.605Z"
   },
   {
    "duration": 16,
    "start_time": "2022-02-16T09:24:46.709Z"
   },
   {
    "duration": 8,
    "start_time": "2022-02-16T09:24:46.727Z"
   },
   {
    "duration": 22,
    "start_time": "2022-02-16T09:24:46.737Z"
   },
   {
    "duration": 4,
    "start_time": "2022-02-16T09:24:46.760Z"
   },
   {
    "duration": 18,
    "start_time": "2022-02-16T09:24:46.766Z"
   },
   {
    "duration": 37,
    "start_time": "2022-02-16T09:24:46.790Z"
   },
   {
    "duration": 30,
    "start_time": "2022-02-16T09:24:46.828Z"
   },
   {
    "duration": 110,
    "start_time": "2022-02-16T09:24:46.860Z"
   },
   {
    "duration": 16586,
    "start_time": "2022-02-16T09:24:46.972Z"
   },
   {
    "duration": 197,
    "start_time": "2022-02-16T09:25:03.560Z"
   },
   {
    "duration": 89286,
    "start_time": "2022-02-16T09:25:03.759Z"
   },
   {
    "duration": 194,
    "start_time": "2022-02-16T09:26:33.047Z"
   },
   {
    "duration": 83,
    "start_time": "2022-02-16T09:26:33.243Z"
   },
   {
    "duration": 440,
    "start_time": "2022-02-16T09:26:33.329Z"
   },
   {
    "duration": 222,
    "start_time": "2022-02-16T09:26:33.773Z"
   },
   {
    "duration": 313,
    "start_time": "2022-02-16T09:26:33.997Z"
   },
   {
    "duration": 186,
    "start_time": "2022-02-16T09:26:34.313Z"
   },
   {
    "duration": 91883,
    "start_time": "2022-02-16T09:26:34.501Z"
   },
   {
    "duration": 183,
    "start_time": "2022-02-16T09:28:06.386Z"
   },
   {
    "duration": 49,
    "start_time": "2022-02-16T09:28:06.571Z"
   },
   {
    "duration": 356,
    "start_time": "2022-02-16T09:28:06.622Z"
   },
   {
    "duration": 19,
    "start_time": "2022-02-16T09:28:06.980Z"
   },
   {
    "duration": 95,
    "start_time": "2022-02-16T09:28:07.001Z"
   },
   {
    "duration": 376,
    "start_time": "2022-02-16T09:28:07.097Z"
   },
   {
    "duration": 179,
    "start_time": "2022-02-16T09:28:07.474Z"
   },
   {
    "duration": 130156,
    "start_time": "2022-02-16T09:28:07.655Z"
   },
   {
    "duration": 180,
    "start_time": "2022-02-16T09:30:17.813Z"
   },
   {
    "duration": 41,
    "start_time": "2022-02-16T09:30:17.995Z"
   },
   {
    "duration": 450,
    "start_time": "2022-02-16T09:30:18.038Z"
   },
   {
    "duration": 15,
    "start_time": "2022-02-16T09:31:04.789Z"
   },
   {
    "duration": 6,
    "start_time": "2022-02-16T09:31:08.010Z"
   },
   {
    "duration": 88,
    "start_time": "2022-02-16T09:31:24.678Z"
   },
   {
    "duration": 86,
    "start_time": "2022-02-16T09:58:24.724Z"
   },
   {
    "duration": 132,
    "start_time": "2022-02-16T10:05:03.741Z"
   },
   {
    "duration": 87,
    "start_time": "2022-02-16T10:06:25.671Z"
   },
   {
    "duration": 286,
    "start_time": "2022-02-16T10:14:16.930Z"
   },
   {
    "duration": 1302,
    "start_time": "2022-02-16T10:14:27.944Z"
   },
   {
    "duration": 35,
    "start_time": "2022-02-16T10:14:29.248Z"
   },
   {
    "duration": 17,
    "start_time": "2022-02-16T10:14:29.365Z"
   },
   {
    "duration": 12,
    "start_time": "2022-02-16T10:14:30.453Z"
   },
   {
    "duration": 19,
    "start_time": "2022-02-16T10:14:32.126Z"
   },
   {
    "duration": 17,
    "start_time": "2022-02-16T10:14:33.005Z"
   },
   {
    "duration": 8,
    "start_time": "2022-02-16T10:14:35.314Z"
   },
   {
    "duration": 24,
    "start_time": "2022-02-16T10:14:36.140Z"
   },
   {
    "duration": 5,
    "start_time": "2022-02-16T10:14:37.995Z"
   },
   {
    "duration": 17,
    "start_time": "2022-02-16T10:14:39.681Z"
   },
   {
    "duration": 13,
    "start_time": "2022-02-16T10:14:41.592Z"
   },
   {
    "duration": 32,
    "start_time": "2022-02-16T10:14:42.947Z"
   },
   {
    "duration": 53,
    "start_time": "2022-02-16T10:20:09.648Z"
   },
   {
    "duration": 119,
    "start_time": "2022-02-16T10:20:14.424Z"
   },
   {
    "duration": 350,
    "start_time": "2022-02-16T10:20:23.889Z"
   },
   {
    "duration": 77,
    "start_time": "2022-02-16T10:20:58.474Z"
   },
   {
    "duration": 95,
    "start_time": "2022-02-16T10:21:34.920Z"
   },
   {
    "duration": 88,
    "start_time": "2022-02-16T10:21:55.159Z"
   },
   {
    "duration": 16498,
    "start_time": "2022-02-16T10:25:08.625Z"
   },
   {
    "duration": 189,
    "start_time": "2022-02-16T10:25:25.169Z"
   },
   {
    "duration": 92536,
    "start_time": "2022-02-16T10:25:25.360Z"
   },
   {
    "duration": 214,
    "start_time": "2022-02-16T10:26:57.898Z"
   },
   {
    "duration": 61,
    "start_time": "2022-02-16T10:26:58.115Z"
   },
   {
    "duration": 400,
    "start_time": "2022-02-16T10:26:58.177Z"
   },
   {
    "duration": 240,
    "start_time": "2022-02-16T10:26:58.580Z"
   },
   {
    "duration": 316,
    "start_time": "2022-02-16T10:26:58.823Z"
   },
   {
    "duration": 211,
    "start_time": "2022-02-16T10:26:59.141Z"
   },
   {
    "duration": 93481,
    "start_time": "2022-02-16T10:26:59.354Z"
   },
   {
    "duration": 205,
    "start_time": "2022-02-16T10:28:32.837Z"
   },
   {
    "duration": 37,
    "start_time": "2022-02-16T10:28:33.044Z"
   },
   {
    "duration": 475,
    "start_time": "2022-02-16T10:28:33.083Z"
   },
   {
    "duration": 25,
    "start_time": "2022-02-16T10:28:33.560Z"
   },
   {
    "duration": 112,
    "start_time": "2022-02-16T10:28:33.587Z"
   },
   {
    "duration": 381,
    "start_time": "2022-02-16T10:28:33.702Z"
   },
   {
    "duration": 205,
    "start_time": "2022-02-16T10:28:34.086Z"
   },
   {
    "duration": 128950,
    "start_time": "2022-02-16T10:28:34.293Z"
   },
   {
    "duration": 211,
    "start_time": "2022-02-16T10:30:43.245Z"
   },
   {
    "duration": 111,
    "start_time": "2022-02-16T10:30:43.458Z"
   },
   {
    "duration": 475,
    "start_time": "2022-02-16T10:30:43.573Z"
   },
   {
    "duration": 26,
    "start_time": "2022-02-16T10:30:44.050Z"
   },
   {
    "duration": 116,
    "start_time": "2022-02-16T10:30:44.077Z"
   },
   {
    "duration": 2661,
    "start_time": "2022-02-16T10:30:44.195Z"
   },
   {
    "duration": 211,
    "start_time": "2022-02-16T10:30:46.858Z"
   },
   {
    "duration": 53371,
    "start_time": "2022-02-16T10:30:47.071Z"
   },
   {
    "duration": 204,
    "start_time": "2022-02-16T10:31:40.444Z"
   },
   {
    "duration": 26,
    "start_time": "2022-02-16T10:31:40.650Z"
   },
   {
    "duration": 470,
    "start_time": "2022-02-16T10:31:40.679Z"
   },
   {
    "duration": 22,
    "start_time": "2022-02-16T10:31:41.151Z"
   },
   {
    "duration": 36,
    "start_time": "2022-02-16T10:31:41.178Z"
   },
   {
    "duration": 2655,
    "start_time": "2022-05-16T17:18:12.040Z"
   },
   {
    "duration": 2770,
    "start_time": "2022-05-16T17:18:35.108Z"
   },
   {
    "duration": 1262,
    "start_time": "2022-05-16T17:19:52.742Z"
   },
   {
    "duration": 1284,
    "start_time": "2022-05-16T17:20:01.178Z"
   },
   {
    "duration": 1486,
    "start_time": "2022-05-16T17:20:29.331Z"
   },
   {
    "duration": 186,
    "start_time": "2022-05-16T17:20:56.101Z"
   },
   {
    "duration": 265,
    "start_time": "2022-05-16T17:21:00.048Z"
   },
   {
    "duration": 95917,
    "start_time": "2022-05-16T17:21:03.786Z"
   },
   {
    "duration": 129,
    "start_time": "2022-05-16T17:27:23.401Z"
   },
   {
    "duration": 0,
    "start_time": "2022-05-16T17:27:23.533Z"
   },
   {
    "duration": 17,
    "start_time": "2022-05-16T17:29:56.350Z"
   },
   {
    "duration": 18,
    "start_time": "2022-05-16T17:30:01.105Z"
   },
   {
    "duration": 0,
    "start_time": "2022-05-16T17:30:01.125Z"
   },
   {
    "duration": 12,
    "start_time": "2022-05-16T17:30:04.155Z"
   },
   {
    "duration": 15,
    "start_time": "2022-05-16T17:30:11.655Z"
   },
   {
    "duration": 0,
    "start_time": "2022-05-16T17:30:11.672Z"
   },
   {
    "duration": 18,
    "start_time": "2022-05-16T17:32:11.374Z"
   },
   {
    "duration": 120,
    "start_time": "2022-05-16T17:33:42.203Z"
   },
   {
    "duration": 18,
    "start_time": "2022-05-16T17:33:46.497Z"
   },
   {
    "duration": 5737,
    "start_time": "2022-05-16T17:34:39.975Z"
   },
   {
    "duration": 24,
    "start_time": "2022-05-16T17:34:52.044Z"
   },
   {
    "duration": 17,
    "start_time": "2022-05-16T17:35:10.820Z"
   },
   {
    "duration": 14,
    "start_time": "2022-05-16T17:39:08.629Z"
   },
   {
    "duration": 7,
    "start_time": "2022-05-16T17:41:30.665Z"
   },
   {
    "duration": 6,
    "start_time": "2022-05-16T17:41:50.594Z"
   },
   {
    "duration": 49,
    "start_time": "2022-05-16T17:41:50.610Z"
   },
   {
    "duration": 23,
    "start_time": "2022-05-16T17:41:56.829Z"
   },
   {
    "duration": 24,
    "start_time": "2022-05-16T17:45:01.805Z"
   },
   {
    "duration": 25,
    "start_time": "2022-05-16T17:45:24.142Z"
   },
   {
    "duration": 14,
    "start_time": "2022-05-16T17:45:34.030Z"
   },
   {
    "duration": 13,
    "start_time": "2022-05-16T17:45:49.969Z"
   },
   {
    "duration": 14,
    "start_time": "2022-05-16T17:46:32.313Z"
   },
   {
    "duration": 215,
    "start_time": "2022-05-16T17:58:59.965Z"
   },
   {
    "duration": 239,
    "start_time": "2022-05-16T17:59:17.096Z"
   },
   {
    "duration": 240,
    "start_time": "2022-05-16T17:59:38.442Z"
   },
   {
    "duration": 244,
    "start_time": "2022-05-16T18:01:44.715Z"
   },
   {
    "duration": 20,
    "start_time": "2022-05-16T18:02:36.829Z"
   },
   {
    "duration": 26,
    "start_time": "2022-05-16T18:05:13.334Z"
   },
   {
    "duration": 24,
    "start_time": "2022-05-16T18:05:18.444Z"
   },
   {
    "duration": 7,
    "start_time": "2022-05-16T18:06:02.570Z"
   },
   {
    "duration": 46,
    "start_time": "2022-05-16T18:06:02.583Z"
   },
   {
    "duration": 94,
    "start_time": "2022-05-16T18:06:02.631Z"
   },
   {
    "duration": 265,
    "start_time": "2022-05-16T18:06:02.727Z"
   },
   {
    "duration": 13,
    "start_time": "2022-05-16T18:06:02.995Z"
   },
   {
    "duration": 286,
    "start_time": "2022-05-16T18:06:03.010Z"
   },
   {
    "duration": 19,
    "start_time": "2022-05-16T18:06:03.298Z"
   },
   {
    "duration": 29,
    "start_time": "2022-05-16T18:06:07.918Z"
   },
   {
    "duration": 8,
    "start_time": "2022-05-16T18:08:37.104Z"
   },
   {
    "duration": 7,
    "start_time": "2022-05-16T18:08:43.659Z"
   },
   {
    "duration": 7,
    "start_time": "2022-05-16T18:08:50.887Z"
   },
   {
    "duration": 15,
    "start_time": "2022-05-16T18:10:11.566Z"
   },
   {
    "duration": 15,
    "start_time": "2022-05-16T18:10:22.174Z"
   },
   {
    "duration": 11,
    "start_time": "2022-05-16T18:10:32.977Z"
   },
   {
    "duration": 8,
    "start_time": "2022-05-16T18:10:36.284Z"
   },
   {
    "duration": 29,
    "start_time": "2022-05-16T18:13:41.840Z"
   },
   {
    "duration": 16,
    "start_time": "2022-05-16T18:21:57.537Z"
   },
   {
    "duration": 51,
    "start_time": "2022-05-16T18:24:16.828Z"
   },
   {
    "duration": 227,
    "start_time": "2022-05-16T18:30:56.353Z"
   },
   {
    "duration": 191,
    "start_time": "2022-05-16T18:32:03.602Z"
   },
   {
    "duration": 222,
    "start_time": "2022-05-16T18:32:27.545Z"
   },
   {
    "duration": 265,
    "start_time": "2022-05-16T18:32:44.219Z"
   },
   {
    "duration": 210,
    "start_time": "2022-05-16T18:33:05.381Z"
   },
   {
    "duration": 131,
    "start_time": "2022-05-16T18:33:32.773Z"
   },
   {
    "duration": 133,
    "start_time": "2022-05-16T18:33:44.536Z"
   },
   {
    "duration": 290,
    "start_time": "2022-05-16T18:33:54.104Z"
   },
   {
    "duration": 258,
    "start_time": "2022-05-16T18:34:22.964Z"
   },
   {
    "duration": 220,
    "start_time": "2022-05-16T18:34:28.299Z"
   },
   {
    "duration": 466,
    "start_time": "2022-05-16T18:34:42.492Z"
   },
   {
    "duration": 4,
    "start_time": "2022-05-16T18:50:47.264Z"
   },
   {
    "duration": 15,
    "start_time": "2022-05-16T18:51:31.588Z"
   },
   {
    "duration": 15,
    "start_time": "2022-05-16T18:51:52.603Z"
   },
   {
    "duration": 16,
    "start_time": "2022-05-16T18:52:27.773Z"
   },
   {
    "duration": 878,
    "start_time": "2022-05-16T18:53:07.167Z"
   },
   {
    "duration": 643,
    "start_time": "2022-05-16T18:54:55.522Z"
   },
   {
    "duration": 61,
    "start_time": "2022-05-16T19:05:38.506Z"
   },
   {
    "duration": 20,
    "start_time": "2022-05-16T19:05:58.466Z"
   },
   {
    "duration": 134,
    "start_time": "2022-05-16T19:06:03.622Z"
   },
   {
    "duration": 85,
    "start_time": "2022-05-16T19:06:07.368Z"
   },
   {
    "duration": 37,
    "start_time": "2022-05-16T19:06:10.911Z"
   },
   {
    "duration": 39,
    "start_time": "2022-05-16T19:06:14.087Z"
   },
   {
    "duration": 74,
    "start_time": "2022-05-16T19:06:18.690Z"
   },
   {
    "duration": 766,
    "start_time": "2022-05-16T19:10:35.316Z"
   },
   {
    "duration": 765,
    "start_time": "2022-05-16T19:11:07.856Z"
   },
   {
    "duration": 835,
    "start_time": "2022-05-16T19:11:16.627Z"
   },
   {
    "duration": 831,
    "start_time": "2022-05-16T19:11:21.230Z"
   },
   {
    "duration": 760,
    "start_time": "2022-05-16T19:11:32.011Z"
   },
   {
    "duration": 858,
    "start_time": "2022-05-16T19:11:41.108Z"
   },
   {
    "duration": 37,
    "start_time": "2022-05-16T19:14:46.715Z"
   },
   {
    "duration": 81,
    "start_time": "2022-05-16T19:15:13.978Z"
   },
   {
    "duration": 23,
    "start_time": "2022-05-16T19:16:28.086Z"
   },
   {
    "duration": 295,
    "start_time": "2022-05-16T19:16:31.301Z"
   },
   {
    "duration": 243,
    "start_time": "2022-05-16T19:17:20.611Z"
   },
   {
    "duration": 204,
    "start_time": "2022-05-16T19:17:43.438Z"
   },
   {
    "duration": 76,
    "start_time": "2022-05-16T19:18:20.692Z"
   },
   {
    "duration": 152961,
    "start_time": "2022-05-16T19:18:42.152Z"
   },
   {
    "duration": 9,
    "start_time": "2022-05-16T19:21:18.901Z"
   },
   {
    "duration": 48,
    "start_time": "2022-05-16T19:21:18.913Z"
   },
   {
    "duration": 18,
    "start_time": "2022-05-16T19:21:18.964Z"
   },
   {
    "duration": 281,
    "start_time": "2022-05-16T19:21:18.985Z"
   },
   {
    "duration": 15,
    "start_time": "2022-05-16T19:21:19.269Z"
   },
   {
    "duration": 388,
    "start_time": "2022-05-16T19:21:19.287Z"
   },
   {
    "duration": 18,
    "start_time": "2022-05-16T19:21:19.678Z"
   },
   {
    "duration": 54,
    "start_time": "2022-05-16T19:21:19.698Z"
   },
   {
    "duration": 9,
    "start_time": "2022-05-16T19:21:19.755Z"
   },
   {
    "duration": 35,
    "start_time": "2022-05-16T19:21:19.768Z"
   },
   {
    "duration": 19,
    "start_time": "2022-05-16T19:21:19.806Z"
   },
   {
    "duration": 82,
    "start_time": "2022-05-16T19:21:19.853Z"
   },
   {
    "duration": 288,
    "start_time": "2022-05-16T19:21:19.937Z"
   },
   {
    "duration": 5,
    "start_time": "2022-05-16T19:21:20.227Z"
   },
   {
    "duration": 1219,
    "start_time": "2022-05-16T19:21:20.234Z"
   },
   {
    "duration": 196,
    "start_time": "2022-05-16T19:21:21.455Z"
   },
   {
    "duration": 738,
    "start_time": "2022-05-16T19:21:21.655Z"
   },
   {
    "duration": 4,
    "start_time": "2022-05-16T19:21:45.385Z"
   },
   {
    "duration": 985,
    "start_time": "2022-05-16T19:24:14.633Z"
   },
   {
    "duration": 1077,
    "start_time": "2022-05-16T19:24:19.657Z"
   },
   {
    "duration": 792,
    "start_time": "2022-05-16T19:24:25.729Z"
   },
   {
    "duration": 742,
    "start_time": "2022-05-16T19:24:31.929Z"
   },
   {
    "duration": 16148,
    "start_time": "2022-05-16T19:25:59.047Z"
   },
   {
    "duration": 1165,
    "start_time": "2022-05-16T19:31:46.335Z"
   },
   {
    "duration": 1558,
    "start_time": "2022-05-16T19:32:19.251Z"
   },
   {
    "duration": 26490,
    "start_time": "2022-05-16T19:33:47.725Z"
   },
   {
    "duration": 94,
    "start_time": "2022-05-16T19:34:44.365Z"
   },
   {
    "duration": 58,
    "start_time": "2022-05-18T10:45:52.605Z"
   },
   {
    "duration": 0,
    "start_time": "2022-05-18T10:45:52.664Z"
   },
   {
    "duration": 4,
    "start_time": "2022-05-18T10:45:52.690Z"
   },
   {
    "duration": 17,
    "start_time": "2022-05-18T10:45:52.695Z"
   },
   {
    "duration": 18,
    "start_time": "2022-05-18T10:45:52.718Z"
   },
   {
    "duration": 8,
    "start_time": "2022-05-18T10:45:52.749Z"
   },
   {
    "duration": 7,
    "start_time": "2022-05-18T10:45:52.786Z"
   },
   {
    "duration": 0,
    "start_time": "2022-05-18T10:45:52.795Z"
   },
   {
    "duration": 8,
    "start_time": "2022-05-18T10:45:52.829Z"
   },
   {
    "duration": 17,
    "start_time": "2022-05-18T10:45:52.852Z"
   },
   {
    "duration": 7,
    "start_time": "2022-05-18T10:45:52.896Z"
   },
   {
    "duration": 0,
    "start_time": "2022-05-18T10:45:52.904Z"
   },
   {
    "duration": 22,
    "start_time": "2022-05-18T10:45:52.915Z"
   },
   {
    "duration": 23,
    "start_time": "2022-05-18T10:45:52.951Z"
   },
   {
    "duration": 10,
    "start_time": "2022-05-18T10:45:52.987Z"
   },
   {
    "duration": 0,
    "start_time": "2022-05-18T10:45:52.999Z"
   },
   {
    "duration": 17,
    "start_time": "2022-05-18T10:45:53.008Z"
   },
   {
    "duration": 38,
    "start_time": "2022-05-18T10:45:53.034Z"
   },
   {
    "duration": 0,
    "start_time": "2022-05-18T10:45:53.073Z"
   },
   {
    "duration": 10,
    "start_time": "2022-05-18T10:45:53.096Z"
   },
   {
    "duration": 7,
    "start_time": "2022-05-18T10:45:53.122Z"
   },
   {
    "duration": 3,
    "start_time": "2022-05-18T10:46:33.007Z"
   },
   {
    "duration": 7,
    "start_time": "2022-05-18T10:46:36.693Z"
   },
   {
    "duration": 1726,
    "start_time": "2022-05-18T10:47:05.894Z"
   },
   {
    "duration": 69,
    "start_time": "2022-05-18T10:47:19.563Z"
   },
   {
    "duration": 4,
    "start_time": "2022-05-18T10:47:26.993Z"
   },
   {
    "duration": 170,
    "start_time": "2022-05-18T10:47:27.001Z"
   },
   {
    "duration": 15,
    "start_time": "2022-05-18T10:47:27.173Z"
   },
   {
    "duration": 188,
    "start_time": "2022-05-18T10:47:27.189Z"
   },
   {
    "duration": 16,
    "start_time": "2022-05-18T10:47:27.379Z"
   },
   {
    "duration": 173,
    "start_time": "2022-05-18T10:47:27.397Z"
   },
   {
    "duration": 23,
    "start_time": "2022-05-18T10:47:27.572Z"
   },
   {
    "duration": 19,
    "start_time": "2022-05-18T10:47:27.597Z"
   },
   {
    "duration": 6,
    "start_time": "2022-05-18T10:47:27.617Z"
   },
   {
    "duration": 19,
    "start_time": "2022-05-18T10:47:27.624Z"
   },
   {
    "duration": 9,
    "start_time": "2022-05-18T10:47:27.646Z"
   },
   {
    "duration": 64,
    "start_time": "2022-05-18T10:47:27.657Z"
   },
   {
    "duration": 148,
    "start_time": "2022-05-18T10:47:27.723Z"
   },
   {
    "duration": 3,
    "start_time": "2022-05-18T10:47:27.873Z"
   },
   {
    "duration": 1189,
    "start_time": "2022-05-18T10:47:49.432Z"
   },
   {
    "duration": 46,
    "start_time": "2022-05-18T10:47:50.622Z"
   },
   {
    "duration": 14,
    "start_time": "2022-05-18T10:47:50.670Z"
   },
   {
    "duration": 158,
    "start_time": "2022-05-18T10:47:50.686Z"
   },
   {
    "duration": 10,
    "start_time": "2022-05-18T10:47:50.845Z"
   },
   {
    "duration": 169,
    "start_time": "2022-05-18T10:47:50.857Z"
   },
   {
    "duration": 12,
    "start_time": "2022-05-18T10:47:51.027Z"
   },
   {
    "duration": 22,
    "start_time": "2022-05-18T10:47:51.040Z"
   },
   {
    "duration": 4,
    "start_time": "2022-05-18T10:47:51.064Z"
   },
   {
    "duration": 35,
    "start_time": "2022-05-18T10:47:51.070Z"
   },
   {
    "duration": 10,
    "start_time": "2022-05-18T10:47:51.106Z"
   },
   {
    "duration": 33,
    "start_time": "2022-05-18T10:47:51.118Z"
   },
   {
    "duration": 162,
    "start_time": "2022-05-18T10:47:51.152Z"
   },
   {
    "duration": 2,
    "start_time": "2022-05-18T10:47:51.316Z"
   },
   {
    "duration": 3559,
    "start_time": "2022-05-18T10:48:00.965Z"
   },
   {
    "duration": 28,
    "start_time": "2022-05-18T10:49:05.937Z"
   },
   {
    "duration": 31,
    "start_time": "2022-05-18T10:49:29.176Z"
   },
   {
    "duration": 5073,
    "start_time": "2022-05-18T10:49:55.803Z"
   },
   {
    "duration": 118,
    "start_time": "2022-05-18T10:51:51.009Z"
   },
   {
    "duration": 3325,
    "start_time": "2022-05-18T10:52:04.194Z"
   },
   {
    "duration": 26,
    "start_time": "2022-05-18T10:52:38.669Z"
   },
   {
    "duration": 13,
    "start_time": "2022-05-18T10:53:09.422Z"
   },
   {
    "duration": 130,
    "start_time": "2022-05-18T10:53:22.561Z"
   },
   {
    "duration": 6496,
    "start_time": "2022-05-18T10:54:05.749Z"
   },
   {
    "duration": 55,
    "start_time": "2022-05-18T10:54:30.297Z"
   },
   {
    "duration": 4680,
    "start_time": "2022-05-18T10:54:35.164Z"
   },
   {
    "duration": 108,
    "start_time": "2022-05-18T10:55:16.390Z"
   },
   {
    "duration": 36,
    "start_time": "2022-05-18T10:56:03.959Z"
   },
   {
    "duration": 10,
    "start_time": "2022-05-18T10:57:45.265Z"
   },
   {
    "duration": 123,
    "start_time": "2022-05-18T10:57:51.829Z"
   },
   {
    "duration": 2,
    "start_time": "2022-05-18T11:23:43.670Z"
   },
   {
    "duration": 3,
    "start_time": "2022-05-18T11:24:18.265Z"
   },
   {
    "duration": 11,
    "start_time": "2022-05-18T11:27:08.868Z"
   },
   {
    "duration": 7,
    "start_time": "2022-05-18T11:27:28.141Z"
   },
   {
    "duration": 163741,
    "start_time": "2022-05-18T11:28:10.899Z"
   },
   {
    "duration": 4,
    "start_time": "2022-05-18T11:33:11.949Z"
   },
   {
    "duration": 2327,
    "start_time": "2022-05-18T11:36:03.598Z"
   },
   {
    "duration": 4,
    "start_time": "2022-05-18T11:37:12.578Z"
   },
   {
    "duration": 44,
    "start_time": "2022-05-18T11:37:12.595Z"
   },
   {
    "duration": 11,
    "start_time": "2022-05-18T11:37:12.640Z"
   },
   {
    "duration": 155,
    "start_time": "2022-05-18T11:37:12.652Z"
   },
   {
    "duration": 10,
    "start_time": "2022-05-18T11:37:12.809Z"
   },
   {
    "duration": 245,
    "start_time": "2022-05-18T11:37:12.820Z"
   },
   {
    "duration": 11,
    "start_time": "2022-05-18T11:37:13.067Z"
   },
   {
    "duration": 30,
    "start_time": "2022-05-18T11:37:13.079Z"
   },
   {
    "duration": 4,
    "start_time": "2022-05-18T11:37:13.111Z"
   },
   {
    "duration": 21,
    "start_time": "2022-05-18T11:37:13.116Z"
   },
   {
    "duration": 10,
    "start_time": "2022-05-18T11:37:13.138Z"
   },
   {
    "duration": 59,
    "start_time": "2022-05-18T11:37:13.150Z"
   },
   {
    "duration": 146,
    "start_time": "2022-05-18T11:37:13.211Z"
   },
   {
    "duration": 4,
    "start_time": "2022-05-18T11:37:13.358Z"
   },
   {
    "duration": 3694,
    "start_time": "2022-05-18T11:37:13.364Z"
   },
   {
    "duration": 1944,
    "start_time": "2022-05-18T11:37:22.989Z"
   },
   {
    "duration": 27,
    "start_time": "2022-05-18T11:38:08.851Z"
   },
   {
    "duration": 2887,
    "start_time": "2022-05-18T11:41:30.150Z"
   },
   {
    "duration": 5,
    "start_time": "2022-05-18T11:41:45.635Z"
   },
   {
    "duration": 51,
    "start_time": "2022-05-18T11:41:45.649Z"
   },
   {
    "duration": 13,
    "start_time": "2022-05-18T11:41:45.702Z"
   },
   {
    "duration": 162,
    "start_time": "2022-05-18T11:41:45.716Z"
   },
   {
    "duration": 20,
    "start_time": "2022-05-18T11:41:45.880Z"
   },
   {
    "duration": 162,
    "start_time": "2022-05-18T11:41:45.901Z"
   },
   {
    "duration": 11,
    "start_time": "2022-05-18T11:41:46.064Z"
   },
   {
    "duration": 32,
    "start_time": "2022-05-18T11:41:46.077Z"
   },
   {
    "duration": 4,
    "start_time": "2022-05-18T11:41:46.111Z"
   },
   {
    "duration": 21,
    "start_time": "2022-05-18T11:41:46.116Z"
   },
   {
    "duration": 10,
    "start_time": "2022-05-18T11:41:46.138Z"
   },
   {
    "duration": 51,
    "start_time": "2022-05-18T11:41:46.149Z"
   },
   {
    "duration": 156,
    "start_time": "2022-05-18T11:41:46.201Z"
   },
   {
    "duration": 3,
    "start_time": "2022-05-18T11:41:46.359Z"
   },
   {
    "duration": 2685,
    "start_time": "2022-05-18T11:41:46.364Z"
   },
   {
    "duration": 49,
    "start_time": "2022-05-18T11:41:49.051Z"
   },
   {
    "duration": 2,
    "start_time": "2022-05-18T11:41:49.103Z"
   },
   {
    "duration": 2958,
    "start_time": "2022-05-18T11:42:00.975Z"
   },
   {
    "duration": 5905,
    "start_time": "2022-05-18T11:42:12.428Z"
   },
   {
    "duration": 4011,
    "start_time": "2022-05-18T11:42:34.240Z"
   },
   {
    "duration": 4950,
    "start_time": "2022-05-18T11:42:42.125Z"
   },
   {
    "duration": 4,
    "start_time": "2022-05-18T11:42:52.104Z"
   },
   {
    "duration": 49,
    "start_time": "2022-05-18T11:42:52.127Z"
   },
   {
    "duration": 12,
    "start_time": "2022-05-18T11:42:52.178Z"
   },
   {
    "duration": 163,
    "start_time": "2022-05-18T11:42:52.192Z"
   },
   {
    "duration": 11,
    "start_time": "2022-05-18T11:42:52.356Z"
   },
   {
    "duration": 179,
    "start_time": "2022-05-18T11:42:52.368Z"
   },
   {
    "duration": 11,
    "start_time": "2022-05-18T11:42:52.549Z"
   },
   {
    "duration": 22,
    "start_time": "2022-05-18T11:42:52.561Z"
   },
   {
    "duration": 11,
    "start_time": "2022-05-18T11:42:52.585Z"
   },
   {
    "duration": 20,
    "start_time": "2022-05-18T11:42:52.598Z"
   },
   {
    "duration": 10,
    "start_time": "2022-05-18T11:42:52.619Z"
   },
   {
    "duration": 32,
    "start_time": "2022-05-18T11:42:52.631Z"
   },
   {
    "duration": 172,
    "start_time": "2022-05-18T11:42:52.664Z"
   },
   {
    "duration": 3,
    "start_time": "2022-05-18T11:42:52.837Z"
   },
   {
    "duration": 2503,
    "start_time": "2022-05-18T11:42:52.841Z"
   },
   {
    "duration": 51,
    "start_time": "2022-05-18T11:42:55.346Z"
   },
   {
    "duration": 108,
    "start_time": "2022-05-18T11:42:55.400Z"
   },
   {
    "duration": 3836,
    "start_time": "2022-05-18T11:42:58.792Z"
   },
   {
    "duration": 4,
    "start_time": "2022-05-18T11:43:11.026Z"
   },
   {
    "duration": 59,
    "start_time": "2022-05-18T11:43:11.034Z"
   },
   {
    "duration": 11,
    "start_time": "2022-05-18T11:43:11.095Z"
   },
   {
    "duration": 175,
    "start_time": "2022-05-18T11:43:11.108Z"
   },
   {
    "duration": 10,
    "start_time": "2022-05-18T11:43:11.295Z"
   },
   {
    "duration": 172,
    "start_time": "2022-05-18T11:43:11.307Z"
   },
   {
    "duration": 19,
    "start_time": "2022-05-18T11:43:11.480Z"
   },
   {
    "duration": 24,
    "start_time": "2022-05-18T11:43:11.501Z"
   },
   {
    "duration": 4,
    "start_time": "2022-05-18T11:43:11.527Z"
   },
   {
    "duration": 20,
    "start_time": "2022-05-18T11:43:11.533Z"
   },
   {
    "duration": 10,
    "start_time": "2022-05-18T11:43:11.555Z"
   },
   {
    "duration": 60,
    "start_time": "2022-05-18T11:43:11.566Z"
   },
   {
    "duration": 160,
    "start_time": "2022-05-18T11:43:11.628Z"
   },
   {
    "duration": 5,
    "start_time": "2022-05-18T11:43:11.790Z"
   },
   {
    "duration": 3311,
    "start_time": "2022-05-18T11:43:11.797Z"
   },
   {
    "duration": 24,
    "start_time": "2022-05-18T11:43:15.110Z"
   },
   {
    "duration": 3,
    "start_time": "2022-05-18T11:43:15.196Z"
   },
   {
    "duration": 4346,
    "start_time": "2022-05-18T11:43:18.594Z"
   },
   {
    "duration": 4,
    "start_time": "2022-05-18T11:43:28.628Z"
   },
   {
    "duration": 46,
    "start_time": "2022-05-18T11:43:28.649Z"
   },
   {
    "duration": 13,
    "start_time": "2022-05-18T11:43:28.697Z"
   },
   {
    "duration": 170,
    "start_time": "2022-05-18T11:43:28.712Z"
   },
   {
    "duration": 18,
    "start_time": "2022-05-18T11:43:28.884Z"
   },
   {
    "duration": 165,
    "start_time": "2022-05-18T11:43:28.903Z"
   },
   {
    "duration": 11,
    "start_time": "2022-05-18T11:43:29.070Z"
   },
   {
    "duration": 28,
    "start_time": "2022-05-18T11:43:29.083Z"
   },
   {
    "duration": 4,
    "start_time": "2022-05-18T11:43:29.113Z"
   },
   {
    "duration": 25,
    "start_time": "2022-05-18T11:43:29.119Z"
   },
   {
    "duration": 9,
    "start_time": "2022-05-18T11:43:29.146Z"
   },
   {
    "duration": 54,
    "start_time": "2022-05-18T11:43:29.156Z"
   },
   {
    "duration": 252,
    "start_time": "2022-05-18T11:43:29.211Z"
   },
   {
    "duration": 3,
    "start_time": "2022-05-18T11:43:29.465Z"
   },
   {
    "duration": 3584,
    "start_time": "2022-05-18T11:43:29.469Z"
   },
   {
    "duration": 41,
    "start_time": "2022-05-18T11:43:33.055Z"
   },
   {
    "duration": 3,
    "start_time": "2022-05-18T11:43:33.098Z"
   },
   {
    "duration": 4713,
    "start_time": "2022-05-18T11:43:38.364Z"
   },
   {
    "duration": 5,
    "start_time": "2022-05-18T11:43:50.198Z"
   },
   {
    "duration": 63,
    "start_time": "2022-05-18T11:43:50.208Z"
   },
   {
    "duration": 12,
    "start_time": "2022-05-18T11:43:50.273Z"
   },
   {
    "duration": 163,
    "start_time": "2022-05-18T11:43:50.287Z"
   },
   {
    "duration": 9,
    "start_time": "2022-05-18T11:43:50.453Z"
   },
   {
    "duration": 187,
    "start_time": "2022-05-18T11:43:50.463Z"
   },
   {
    "duration": 12,
    "start_time": "2022-05-18T11:43:50.652Z"
   },
   {
    "duration": 36,
    "start_time": "2022-05-18T11:43:50.665Z"
   },
   {
    "duration": 5,
    "start_time": "2022-05-18T11:43:50.702Z"
   },
   {
    "duration": 24,
    "start_time": "2022-05-18T11:43:50.709Z"
   },
   {
    "duration": 11,
    "start_time": "2022-05-18T11:43:50.736Z"
   },
   {
    "duration": 62,
    "start_time": "2022-05-18T11:43:50.748Z"
   },
   {
    "duration": 167,
    "start_time": "2022-05-18T11:43:50.812Z"
   },
   {
    "duration": 4,
    "start_time": "2022-05-18T11:43:50.980Z"
   },
   {
    "duration": 3212,
    "start_time": "2022-05-18T11:43:50.985Z"
   },
   {
    "duration": 101,
    "start_time": "2022-05-18T11:43:54.199Z"
   },
   {
    "duration": 93,
    "start_time": "2022-05-18T11:43:54.302Z"
   },
   {
    "duration": 2751,
    "start_time": "2022-05-18T11:43:59.884Z"
   },
   {
    "duration": 5,
    "start_time": "2022-05-18T11:44:09.392Z"
   },
   {
    "duration": 46,
    "start_time": "2022-05-18T11:44:09.421Z"
   },
   {
    "duration": 12,
    "start_time": "2022-05-18T11:44:09.470Z"
   },
   {
    "duration": 174,
    "start_time": "2022-05-18T11:44:09.484Z"
   },
   {
    "duration": 11,
    "start_time": "2022-05-18T11:44:09.661Z"
   },
   {
    "duration": 182,
    "start_time": "2022-05-18T11:44:09.673Z"
   },
   {
    "duration": 11,
    "start_time": "2022-05-18T11:44:09.856Z"
   },
   {
    "duration": 29,
    "start_time": "2022-05-18T11:44:09.868Z"
   },
   {
    "duration": 5,
    "start_time": "2022-05-18T11:44:09.898Z"
   },
   {
    "duration": 26,
    "start_time": "2022-05-18T11:44:09.904Z"
   },
   {
    "duration": 13,
    "start_time": "2022-05-18T11:44:09.932Z"
   },
   {
    "duration": 53,
    "start_time": "2022-05-18T11:44:09.947Z"
   },
   {
    "duration": 150,
    "start_time": "2022-05-18T11:44:10.002Z"
   },
   {
    "duration": 3,
    "start_time": "2022-05-18T11:44:10.154Z"
   },
   {
    "duration": 4881,
    "start_time": "2022-05-18T11:44:10.158Z"
   },
   {
    "duration": 56,
    "start_time": "2022-05-18T11:44:15.041Z"
   },
   {
    "duration": 5,
    "start_time": "2022-05-18T11:44:15.099Z"
   },
   {
    "duration": 3689,
    "start_time": "2022-05-18T11:44:19.744Z"
   },
   {
    "duration": 4,
    "start_time": "2022-05-18T11:44:29.634Z"
   },
   {
    "duration": 58,
    "start_time": "2022-05-18T11:44:29.644Z"
   },
   {
    "duration": 12,
    "start_time": "2022-05-18T11:44:29.704Z"
   },
   {
    "duration": 167,
    "start_time": "2022-05-18T11:44:29.718Z"
   },
   {
    "duration": 10,
    "start_time": "2022-05-18T11:44:29.894Z"
   },
   {
    "duration": 182,
    "start_time": "2022-05-18T11:44:29.905Z"
   },
   {
    "duration": 18,
    "start_time": "2022-05-18T11:44:30.088Z"
   },
   {
    "duration": 19,
    "start_time": "2022-05-18T11:44:30.107Z"
   },
   {
    "duration": 5,
    "start_time": "2022-05-18T11:44:30.128Z"
   },
   {
    "duration": 31,
    "start_time": "2022-05-18T11:44:30.135Z"
   },
   {
    "duration": 34,
    "start_time": "2022-05-18T11:44:30.169Z"
   },
   {
    "duration": 53,
    "start_time": "2022-05-18T11:44:30.205Z"
   },
   {
    "duration": 184,
    "start_time": "2022-05-18T11:44:30.260Z"
   },
   {
    "duration": 3,
    "start_time": "2022-05-18T11:44:30.446Z"
   },
   {
    "duration": 3450,
    "start_time": "2022-05-18T11:44:30.451Z"
   },
   {
    "duration": 91,
    "start_time": "2022-05-18T11:44:33.903Z"
   },
   {
    "duration": 4,
    "start_time": "2022-05-18T11:44:33.996Z"
   },
   {
    "duration": 3929,
    "start_time": "2022-05-18T11:44:39.229Z"
   },
   {
    "duration": 5,
    "start_time": "2022-05-18T11:44:48.275Z"
   },
   {
    "duration": 56,
    "start_time": "2022-05-18T11:44:48.282Z"
   },
   {
    "duration": 12,
    "start_time": "2022-05-18T11:44:48.341Z"
   },
   {
    "duration": 171,
    "start_time": "2022-05-18T11:44:48.355Z"
   },
   {
    "duration": 10,
    "start_time": "2022-05-18T11:44:48.528Z"
   },
   {
    "duration": 174,
    "start_time": "2022-05-18T11:44:48.540Z"
   },
   {
    "duration": 12,
    "start_time": "2022-05-18T11:44:48.716Z"
   },
   {
    "duration": 23,
    "start_time": "2022-05-18T11:44:48.729Z"
   },
   {
    "duration": 6,
    "start_time": "2022-05-18T11:44:48.754Z"
   },
   {
    "duration": 39,
    "start_time": "2022-05-18T11:44:48.762Z"
   },
   {
    "duration": 11,
    "start_time": "2022-05-18T11:44:48.803Z"
   },
   {
    "duration": 35,
    "start_time": "2022-05-18T11:44:48.815Z"
   },
   {
    "duration": 172,
    "start_time": "2022-05-18T11:44:48.852Z"
   },
   {
    "duration": 3,
    "start_time": "2022-05-18T11:44:49.026Z"
   },
   {
    "duration": 2884,
    "start_time": "2022-05-18T11:44:49.031Z"
   },
   {
    "duration": 81,
    "start_time": "2022-05-18T11:44:51.917Z"
   },
   {
    "duration": 4,
    "start_time": "2022-05-18T11:44:51.999Z"
   },
   {
    "duration": 4180,
    "start_time": "2022-05-18T11:44:54.216Z"
   },
   {
    "duration": 5,
    "start_time": "2022-05-18T11:45:02.944Z"
   },
   {
    "duration": 45,
    "start_time": "2022-05-18T11:45:02.973Z"
   },
   {
    "duration": 11,
    "start_time": "2022-05-18T11:45:03.020Z"
   },
   {
    "duration": 163,
    "start_time": "2022-05-18T11:45:03.042Z"
   },
   {
    "duration": 10,
    "start_time": "2022-05-18T11:45:03.207Z"
   },
   {
    "duration": 184,
    "start_time": "2022-05-18T11:45:03.219Z"
   },
   {
    "duration": 12,
    "start_time": "2022-05-18T11:45:03.405Z"
   },
   {
    "duration": 24,
    "start_time": "2022-05-18T11:45:03.418Z"
   },
   {
    "duration": 4,
    "start_time": "2022-05-18T11:45:03.444Z"
   },
   {
    "duration": 21,
    "start_time": "2022-05-18T11:45:03.449Z"
   },
   {
    "duration": 29,
    "start_time": "2022-05-18T11:45:03.472Z"
   },
   {
    "duration": 34,
    "start_time": "2022-05-18T11:45:03.503Z"
   },
   {
    "duration": 164,
    "start_time": "2022-05-18T11:45:03.539Z"
   },
   {
    "duration": 3,
    "start_time": "2022-05-18T11:45:03.705Z"
   },
   {
    "duration": 2149,
    "start_time": "2022-05-18T11:45:03.709Z"
   },
   {
    "duration": 39,
    "start_time": "2022-05-18T11:45:05.859Z"
   },
   {
    "duration": 91,
    "start_time": "2022-05-18T11:45:05.906Z"
   },
   {
    "duration": 4547,
    "start_time": "2022-05-18T11:45:10.266Z"
   },
   {
    "duration": 5,
    "start_time": "2022-05-18T11:45:59.534Z"
   },
   {
    "duration": 44,
    "start_time": "2022-05-18T11:45:59.557Z"
   },
   {
    "duration": 12,
    "start_time": "2022-05-18T11:45:59.603Z"
   },
   {
    "duration": 191,
    "start_time": "2022-05-18T11:45:59.617Z"
   },
   {
    "duration": 12,
    "start_time": "2022-05-18T11:45:59.810Z"
   },
   {
    "duration": 187,
    "start_time": "2022-05-18T11:45:59.824Z"
   },
   {
    "duration": 12,
    "start_time": "2022-05-18T11:46:00.013Z"
   },
   {
    "duration": 19,
    "start_time": "2022-05-18T11:46:00.027Z"
   },
   {
    "duration": 5,
    "start_time": "2022-05-18T11:46:00.048Z"
   },
   {
    "duration": 47,
    "start_time": "2022-05-18T11:46:00.055Z"
   },
   {
    "duration": 11,
    "start_time": "2022-05-18T11:46:00.103Z"
   },
   {
    "duration": 34,
    "start_time": "2022-05-18T11:46:00.116Z"
   },
   {
    "duration": 177,
    "start_time": "2022-05-18T11:46:00.152Z"
   },
   {
    "duration": 4,
    "start_time": "2022-05-18T11:46:00.331Z"
   },
   {
    "duration": 2812,
    "start_time": "2022-05-18T11:46:00.336Z"
   },
   {
    "duration": 147,
    "start_time": "2022-05-18T11:46:03.149Z"
   },
   {
    "duration": 3,
    "start_time": "2022-05-18T11:46:03.297Z"
   },
   {
    "duration": 3612,
    "start_time": "2022-05-18T11:46:10.295Z"
   },
   {
    "duration": 6,
    "start_time": "2022-05-18T11:46:19.272Z"
   },
   {
    "duration": 72,
    "start_time": "2022-05-18T11:46:19.280Z"
   },
   {
    "duration": 12,
    "start_time": "2022-05-18T11:46:19.354Z"
   },
   {
    "duration": 175,
    "start_time": "2022-05-18T11:46:19.367Z"
   },
   {
    "duration": 11,
    "start_time": "2022-05-18T11:46:19.543Z"
   },
   {
    "duration": 176,
    "start_time": "2022-05-18T11:46:19.555Z"
   },
   {
    "duration": 15,
    "start_time": "2022-05-18T11:46:19.733Z"
   },
   {
    "duration": 43,
    "start_time": "2022-05-18T11:46:19.750Z"
   },
   {
    "duration": 13,
    "start_time": "2022-05-18T11:46:19.795Z"
   },
   {
    "duration": 40,
    "start_time": "2022-05-18T11:46:19.809Z"
   },
   {
    "duration": 10,
    "start_time": "2022-05-18T11:46:19.853Z"
   },
   {
    "duration": 55,
    "start_time": "2022-05-18T11:46:19.865Z"
   },
   {
    "duration": 157,
    "start_time": "2022-05-18T11:46:19.922Z"
   },
   {
    "duration": 3,
    "start_time": "2022-05-18T11:46:20.081Z"
   },
   {
    "duration": 3860,
    "start_time": "2022-05-18T11:46:20.094Z"
   },
   {
    "duration": 44,
    "start_time": "2022-05-18T11:46:23.956Z"
   },
   {
    "duration": 4,
    "start_time": "2022-05-18T11:46:24.095Z"
   },
   {
    "duration": 3264,
    "start_time": "2022-05-18T11:46:28.277Z"
   },
   {
    "duration": 5,
    "start_time": "2022-05-18T11:46:37.049Z"
   },
   {
    "duration": 67,
    "start_time": "2022-05-18T11:46:37.057Z"
   },
   {
    "duration": 13,
    "start_time": "2022-05-18T11:46:37.126Z"
   },
   {
    "duration": 200,
    "start_time": "2022-05-18T11:46:37.140Z"
   },
   {
    "duration": 14,
    "start_time": "2022-05-18T11:46:37.343Z"
   },
   {
    "duration": 198,
    "start_time": "2022-05-18T11:46:37.359Z"
   },
   {
    "duration": 11,
    "start_time": "2022-05-18T11:46:37.559Z"
   },
   {
    "duration": 35,
    "start_time": "2022-05-18T11:46:37.572Z"
   },
   {
    "duration": 5,
    "start_time": "2022-05-18T11:46:37.608Z"
   },
   {
    "duration": 24,
    "start_time": "2022-05-18T11:46:37.614Z"
   },
   {
    "duration": 11,
    "start_time": "2022-05-18T11:46:37.639Z"
   },
   {
    "duration": 56,
    "start_time": "2022-05-18T11:46:37.651Z"
   },
   {
    "duration": 154,
    "start_time": "2022-05-18T11:46:37.710Z"
   },
   {
    "duration": 4,
    "start_time": "2022-05-18T11:46:37.865Z"
   },
   {
    "duration": 3072,
    "start_time": "2022-05-18T11:46:37.871Z"
   },
   {
    "duration": 53,
    "start_time": "2022-05-18T11:46:40.944Z"
   },
   {
    "duration": 7,
    "start_time": "2022-05-18T11:46:41.000Z"
   },
   {
    "duration": 4307,
    "start_time": "2022-05-18T11:46:45.752Z"
   },
   {
    "duration": 5,
    "start_time": "2022-05-18T11:46:55.763Z"
   },
   {
    "duration": 49,
    "start_time": "2022-05-18T11:46:55.771Z"
   },
   {
    "duration": 13,
    "start_time": "2022-05-18T11:46:55.822Z"
   },
   {
    "duration": 173,
    "start_time": "2022-05-18T11:46:55.836Z"
   },
   {
    "duration": 10,
    "start_time": "2022-05-18T11:46:56.011Z"
   },
   {
    "duration": 185,
    "start_time": "2022-05-18T11:46:56.023Z"
   },
   {
    "duration": 25,
    "start_time": "2022-05-18T11:46:56.210Z"
   },
   {
    "duration": 26,
    "start_time": "2022-05-18T11:46:56.237Z"
   },
   {
    "duration": 4,
    "start_time": "2022-05-18T11:46:56.265Z"
   },
   {
    "duration": 31,
    "start_time": "2022-05-18T11:46:56.271Z"
   },
   {
    "duration": 11,
    "start_time": "2022-05-18T11:46:56.304Z"
   },
   {
    "duration": 33,
    "start_time": "2022-05-18T11:46:56.316Z"
   },
   {
    "duration": 165,
    "start_time": "2022-05-18T11:46:56.351Z"
   },
   {
    "duration": 3,
    "start_time": "2022-05-18T11:46:56.518Z"
   },
   {
    "duration": 4879,
    "start_time": "2022-05-18T11:46:56.523Z"
   },
   {
    "duration": 91,
    "start_time": "2022-05-18T11:47:01.404Z"
   },
   {
    "duration": 104,
    "start_time": "2022-05-18T11:47:01.498Z"
   },
   {
    "duration": 6336,
    "start_time": "2022-05-18T11:47:06.950Z"
   },
   {
    "duration": 4,
    "start_time": "2022-05-18T11:47:28.356Z"
   },
   {
    "duration": 32,
    "start_time": "2022-05-18T11:48:18.094Z"
   },
   {
    "duration": 13,
    "start_time": "2022-05-18T11:49:25.652Z"
   },
   {
    "duration": 130,
    "start_time": "2022-05-18T11:49:29.350Z"
   },
   {
    "duration": 4220,
    "start_time": "2022-05-18T11:50:01.419Z"
   },
   {
    "duration": 4235,
    "start_time": "2022-05-18T11:50:48.779Z"
   },
   {
    "duration": 43,
    "start_time": "2022-05-18T11:51:16.069Z"
   },
   {
    "duration": 33,
    "start_time": "2022-05-18T11:51:37.573Z"
   },
   {
    "duration": 13,
    "start_time": "2022-05-18T11:52:48.661Z"
   },
   {
    "duration": 127,
    "start_time": "2022-05-18T11:54:58.049Z"
   },
   {
    "duration": 1530,
    "start_time": "2022-05-18T12:31:13.674Z"
   },
   {
    "duration": 51,
    "start_time": "2022-05-18T12:31:15.207Z"
   },
   {
    "duration": 17,
    "start_time": "2022-05-18T12:31:15.259Z"
   },
   {
    "duration": 204,
    "start_time": "2022-05-18T12:31:15.279Z"
   },
   {
    "duration": 18,
    "start_time": "2022-05-18T12:31:15.486Z"
   },
   {
    "duration": 200,
    "start_time": "2022-05-18T12:31:15.505Z"
   },
   {
    "duration": 12,
    "start_time": "2022-05-18T12:31:15.707Z"
   },
   {
    "duration": 20,
    "start_time": "2022-05-18T12:31:15.721Z"
   },
   {
    "duration": 5,
    "start_time": "2022-05-18T12:31:15.742Z"
   },
   {
    "duration": 45,
    "start_time": "2022-05-18T12:31:15.750Z"
   },
   {
    "duration": 15,
    "start_time": "2022-05-18T12:31:15.797Z"
   },
   {
    "duration": 41,
    "start_time": "2022-05-18T12:31:15.814Z"
   },
   {
    "duration": 190,
    "start_time": "2022-05-18T12:31:15.857Z"
   },
   {
    "duration": 5,
    "start_time": "2022-05-18T12:31:16.049Z"
   },
   {
    "duration": 4259,
    "start_time": "2022-05-18T12:31:16.055Z"
   },
   {
    "duration": 83,
    "start_time": "2022-05-18T12:31:20.316Z"
   },
   {
    "duration": 3,
    "start_time": "2022-05-18T12:31:20.402Z"
   },
   {
    "duration": 4432,
    "start_time": "2022-05-18T12:31:20.407Z"
   },
   {
    "duration": 59,
    "start_time": "2022-05-18T12:31:24.841Z"
   },
   {
    "duration": 105,
    "start_time": "2022-05-18T12:31:24.902Z"
   },
   {
    "duration": 165,
    "start_time": "2022-05-18T12:31:25.009Z"
   },
   {
    "duration": 4920,
    "start_time": "2022-05-18T12:31:25.176Z"
   },
   {
    "duration": 99,
    "start_time": "2022-05-18T12:31:30.098Z"
   },
   {
    "duration": 100,
    "start_time": "2022-05-18T12:31:30.198Z"
   },
   {
    "duration": 160,
    "start_time": "2022-05-18T12:31:30.300Z"
   },
   {
    "duration": 3050,
    "start_time": "2022-05-18T12:31:30.462Z"
   },
   {
    "duration": 182,
    "start_time": "2022-05-18T12:31:33.513Z"
   },
   {
    "duration": 221,
    "start_time": "2022-05-18T12:31:33.700Z"
   },
   {
    "duration": 5,
    "start_time": "2022-05-18T12:34:01.963Z"
   },
   {
    "duration": 6,
    "start_time": "2022-05-18T12:34:15.659Z"
   },
   {
    "duration": 51,
    "start_time": "2022-05-18T12:34:15.670Z"
   },
   {
    "duration": 14,
    "start_time": "2022-05-18T12:34:15.723Z"
   },
   {
    "duration": 184,
    "start_time": "2022-05-18T12:34:15.738Z"
   },
   {
    "duration": 13,
    "start_time": "2022-05-18T12:34:15.925Z"
   },
   {
    "duration": 194,
    "start_time": "2022-05-18T12:34:15.940Z"
   },
   {
    "duration": 12,
    "start_time": "2022-05-18T12:34:16.135Z"
   },
   {
    "duration": 20,
    "start_time": "2022-05-18T12:34:16.149Z"
   },
   {
    "duration": 25,
    "start_time": "2022-05-18T12:34:16.171Z"
   },
   {
    "duration": 23,
    "start_time": "2022-05-18T12:34:16.198Z"
   },
   {
    "duration": 15,
    "start_time": "2022-05-18T12:34:16.226Z"
   },
   {
    "duration": 66,
    "start_time": "2022-05-18T12:34:16.243Z"
   },
   {
    "duration": 171,
    "start_time": "2022-05-18T12:34:16.310Z"
   },
   {
    "duration": 12,
    "start_time": "2022-05-18T12:34:16.483Z"
   },
   {
    "duration": 3031,
    "start_time": "2022-05-18T12:34:16.496Z"
   },
   {
    "duration": 70,
    "start_time": "2022-05-18T12:34:19.529Z"
   },
   {
    "duration": 95,
    "start_time": "2022-05-18T12:34:19.601Z"
   },
   {
    "duration": 2774,
    "start_time": "2022-05-18T12:34:19.698Z"
   },
   {
    "duration": 35,
    "start_time": "2022-05-18T12:34:22.474Z"
   },
   {
    "duration": 111,
    "start_time": "2022-05-18T12:34:22.594Z"
   },
   {
    "duration": 150,
    "start_time": "2022-05-18T12:34:22.707Z"
   },
   {
    "duration": 6459,
    "start_time": "2022-05-18T12:34:22.859Z"
   },
   {
    "duration": 80,
    "start_time": "2022-05-18T12:34:29.320Z"
   },
   {
    "duration": 101,
    "start_time": "2022-05-18T12:34:29.402Z"
   },
   {
    "duration": 190,
    "start_time": "2022-05-18T12:34:29.505Z"
   },
   {
    "duration": 2665,
    "start_time": "2022-05-18T12:34:29.697Z"
   },
   {
    "duration": 40,
    "start_time": "2022-05-18T12:34:32.363Z"
   },
   {
    "duration": 4,
    "start_time": "2022-05-18T12:37:42.031Z"
   },
   {
    "duration": 16,
    "start_time": "2022-05-18T12:38:33.649Z"
   },
   {
    "duration": 15,
    "start_time": "2022-05-18T12:39:03.546Z"
   },
   {
    "duration": 21,
    "start_time": "2022-05-18T12:39:17.203Z"
   },
   {
    "duration": 7,
    "start_time": "2022-05-18T12:39:30.241Z"
   },
   {
    "duration": 16,
    "start_time": "2022-05-18T12:40:51.362Z"
   },
   {
    "duration": 5,
    "start_time": "2022-05-18T12:41:07.177Z"
   },
   {
    "duration": 4,
    "start_time": "2022-05-18T12:41:51.059Z"
   },
   {
    "duration": 15,
    "start_time": "2022-05-18T12:43:35.001Z"
   },
   {
    "duration": 5,
    "start_time": "2022-05-18T12:43:45.762Z"
   },
   {
    "duration": 10,
    "start_time": "2022-05-18T12:43:54.160Z"
   },
   {
    "duration": 6,
    "start_time": "2022-05-18T12:44:40.688Z"
   },
   {
    "duration": 8,
    "start_time": "2022-05-18T12:44:46.335Z"
   },
   {
    "duration": 7,
    "start_time": "2022-05-18T12:44:51.940Z"
   },
   {
    "duration": 9,
    "start_time": "2022-05-18T12:44:54.549Z"
   },
   {
    "duration": 8,
    "start_time": "2022-05-18T12:45:07.278Z"
   },
   {
    "duration": 8,
    "start_time": "2022-05-18T12:45:09.810Z"
   },
   {
    "duration": 12,
    "start_time": "2022-05-18T12:45:36.208Z"
   },
   {
    "duration": 12,
    "start_time": "2022-05-18T12:50:20.187Z"
   },
   {
    "duration": 14,
    "start_time": "2022-05-18T12:50:33.592Z"
   },
   {
    "duration": 306,
    "start_time": "2022-05-18T12:53:13.604Z"
   },
   {
    "duration": 24,
    "start_time": "2022-05-18T12:53:24.203Z"
   },
   {
    "duration": 214,
    "start_time": "2022-05-18T12:53:36.933Z"
   },
   {
    "duration": 23,
    "start_time": "2022-05-18T12:53:39.512Z"
   },
   {
    "duration": 247,
    "start_time": "2022-05-18T12:55:09.148Z"
   },
   {
    "duration": 34,
    "start_time": "2022-05-18T12:55:12.378Z"
   }
  ],
  "kernelspec": {
   "display_name": "Python 3 (ipykernel)",
   "language": "python",
   "name": "python3"
  },
  "language_info": {
   "codemirror_mode": {
    "name": "ipython",
    "version": 3
   },
   "file_extension": ".py",
   "mimetype": "text/x-python",
   "name": "python",
   "nbconvert_exporter": "python",
   "pygments_lexer": "ipython3",
   "version": "3.9.7"
  },
  "toc": {
   "base_numbering": 1,
   "nav_menu": {},
   "number_sections": true,
   "sideBar": true,
   "skip_h1_title": true,
   "title_cell": "Содержание",
   "title_sidebar": "Contents",
   "toc_cell": true,
   "toc_position": {
    "height": "calc(100% - 180px)",
    "left": "10px",
    "top": "150px",
    "width": "287px"
   },
   "toc_section_display": true,
   "toc_window_display": true
  }
 },
 "nbformat": 4,
 "nbformat_minor": 2
}
