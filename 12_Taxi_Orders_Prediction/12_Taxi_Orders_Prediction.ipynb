{
 "cells": [
  {
   "cell_type": "markdown",
   "metadata": {
    "toc": true
   },
   "source": [
    "<h1>Содержание<span class=\"tocSkip\"></span></h1>\n",
    "<div class=\"toc\"><ul class=\"toc-item\"><li><span><a href=\"#Подготовка\" data-toc-modified-id=\"Подготовка-1\"><span class=\"toc-item-num\">1&nbsp;&nbsp;</span>Подготовка</a></span></li><li><span><a href=\"#Анализ\" data-toc-modified-id=\"Анализ-2\"><span class=\"toc-item-num\">2&nbsp;&nbsp;</span>Анализ</a></span><ul class=\"toc-item\"><li><span><a href=\"#Оценка-общих-закономерностей-заказов-по-месяцам,-дням-недели-и-часам\" data-toc-modified-id=\"Оценка-общих-закономерностей-заказов-по-месяцам,-дням-недели-и-часам-2.1\"><span class=\"toc-item-num\">2.1&nbsp;&nbsp;</span>Оценка общих закономерностей заказов по месяцам, дням недели и часам</a></span></li><li><span><a href=\"#Оценка-трендов-и-сезонных-закономерностей-заказов\" data-toc-modified-id=\"Оценка-трендов-и-сезонных-закономерностей-заказов-2.2\"><span class=\"toc-item-num\">2.2&nbsp;&nbsp;</span>Оценка трендов и сезонных закономерностей заказов</a></span></li></ul></li><li><span><a href=\"#Обучение\" data-toc-modified-id=\"Обучение-3\"><span class=\"toc-item-num\">3&nbsp;&nbsp;</span>Обучение</a></span><ul class=\"toc-item\"><li><span><a href=\"#Создание-признаков-и-подготовка-выборок\" data-toc-modified-id=\"Создание-признаков-и-подготовка-выборок-3.1\"><span class=\"toc-item-num\">3.1&nbsp;&nbsp;</span>Создание признаков и подготовка выборок</a></span></li><li><span><a href=\"#Проверка-качества-с-помощью-DummyRegressor\" data-toc-modified-id=\"Проверка-качества-с-помощью-DummyRegressor-3.2\"><span class=\"toc-item-num\">3.2&nbsp;&nbsp;</span>Проверка качества с помощью DummyRegressor</a></span></li><li><span><a href=\"#Обучение-и-тестирование-линейной-регрессии\" data-toc-modified-id=\"Обучение-и-тестирование-линейной-регрессии-3.3\"><span class=\"toc-item-num\">3.3&nbsp;&nbsp;</span>Обучение и тестирование линейной регрессии</a></span></li><li><span><a href=\"#Обучение-и-тестирование-CatBoost\" data-toc-modified-id=\"Обучение-и-тестирование-CatBoost-3.4\"><span class=\"toc-item-num\">3.4&nbsp;&nbsp;</span>Обучение и тестирование CatBoost</a></span></li><li><span><a href=\"#Обучение-и-тестирование-LGBM\" data-toc-modified-id=\"Обучение-и-тестирование-LGBM-3.5\"><span class=\"toc-item-num\">3.5&nbsp;&nbsp;</span>Обучение и тестирование LGBM</a></span></li></ul></li><li><span><a href=\"#Тестирование\" data-toc-modified-id=\"Тестирование-4\"><span class=\"toc-item-num\">4&nbsp;&nbsp;</span>Тестирование</a></span></li><li><span><a href=\"#Чек-лист-проверки\" data-toc-modified-id=\"Чек-лист-проверки-5\"><span class=\"toc-item-num\">5&nbsp;&nbsp;</span>Чек-лист проверки</a></span></li></ul></div>"
   ]
  },
  {
   "cell_type": "markdown",
   "metadata": {},
   "source": [
    "#  Прогнозирование заказов такси"
   ]
  },
  {
   "cell_type": "markdown",
   "metadata": {},
   "source": [
    "Компания «Чётенькое такси» собрала исторические данные о заказах такси в аэропортах. Чтобы привлекать больше водителей в период пиковой нагрузки, нужно спрогнозировать количество заказов такси на следующий час. Постройте модель для такого предсказания.\n",
    "\n",
    "Значение метрики *RMSE* на тестовой выборке должно быть не больше 48.\n",
    "\n",
    "Вам нужно:\n",
    "\n",
    "1. Загрузить данные и выполнить их ресемплирование по одному часу.\n",
    "2. Проанализировать данные.\n",
    "3. Обучить разные модели с различными гиперпараметрами. Сделать тестовую выборку размером 10% от исходных данных.\n",
    "4. Проверить данные на тестовой выборке и сделать выводы.\n",
    "\n",
    "\n",
    "Данные лежат в файле `taxi.csv`. Количество заказов находится в столбце `num_orders` (от англ. *number of orders*, «число заказов»)."
   ]
  },
  {
   "cell_type": "markdown",
   "metadata": {},
   "source": [
    "## Подготовка"
   ]
  },
  {
   "cell_type": "code",
   "execution_count": 1,
   "metadata": {},
   "outputs": [],
   "source": [
    "#импортируем необходимые библиотеки и модули\n",
    "import time\n",
    "import pandas as pd\n",
    "import numpy as np\n",
    "import seaborn as sns\n",
    "from matplotlib import pyplot as plt\n",
    "from sklearn.metrics import r2_score, mean_squared_error\n",
    "from sklearn.model_selection import train_test_split\n",
    "from scipy import stats\n",
    "from statsmodels.tsa.seasonal import seasonal_decompose\n",
    "from sklearn.model_selection import GridSearchCV, TimeSeriesSplit\n",
    "from sklearn.dummy import DummyRegressor\n",
    "from sklearn.linear_model import LinearRegression\n",
    "from catboost import CatBoostRegressor\n",
    "from lightgbm import LGBMRegressor\n",
    "import lightgbm as lgb"
   ]
  },
  {
   "cell_type": "code",
   "execution_count": 2,
   "metadata": {},
   "outputs": [
    {
     "name": "stdout",
     "output_type": "stream",
     "text": [
      "True\n",
      "Названия столбцов: Index(['num_orders'], dtype='object')\n"
     ]
    },
    {
     "data": {
      "text/html": [
       "<div>\n",
       "<style scoped>\n",
       "    .dataframe tbody tr th:only-of-type {\n",
       "        vertical-align: middle;\n",
       "    }\n",
       "\n",
       "    .dataframe tbody tr th {\n",
       "        vertical-align: top;\n",
       "    }\n",
       "\n",
       "    .dataframe thead th {\n",
       "        text-align: right;\n",
       "    }\n",
       "</style>\n",
       "<table border=\"1\" class=\"dataframe\">\n",
       "  <thead>\n",
       "    <tr style=\"text-align: right;\">\n",
       "      <th></th>\n",
       "      <th>num_orders</th>\n",
       "    </tr>\n",
       "    <tr>\n",
       "      <th>datetime</th>\n",
       "      <th></th>\n",
       "    </tr>\n",
       "  </thead>\n",
       "  <tbody>\n",
       "    <tr>\n",
       "      <th>2018-03-01 00:00:00</th>\n",
       "      <td>9</td>\n",
       "    </tr>\n",
       "    <tr>\n",
       "      <th>2018-03-01 00:10:00</th>\n",
       "      <td>14</td>\n",
       "    </tr>\n",
       "    <tr>\n",
       "      <th>2018-03-01 00:20:00</th>\n",
       "      <td>28</td>\n",
       "    </tr>\n",
       "    <tr>\n",
       "      <th>2018-03-01 00:30:00</th>\n",
       "      <td>20</td>\n",
       "    </tr>\n",
       "    <tr>\n",
       "      <th>2018-03-01 00:40:00</th>\n",
       "      <td>32</td>\n",
       "    </tr>\n",
       "  </tbody>\n",
       "</table>\n",
       "</div>"
      ],
      "text/plain": [
       "                     num_orders\n",
       "datetime                       \n",
       "2018-03-01 00:00:00           9\n",
       "2018-03-01 00:10:00          14\n",
       "2018-03-01 00:20:00          28\n",
       "2018-03-01 00:30:00          20\n",
       "2018-03-01 00:40:00          32"
      ]
     },
     "metadata": {},
     "output_type": "display_data"
    },
    {
     "data": {
      "text/html": [
       "<div>\n",
       "<style scoped>\n",
       "    .dataframe tbody tr th:only-of-type {\n",
       "        vertical-align: middle;\n",
       "    }\n",
       "\n",
       "    .dataframe tbody tr th {\n",
       "        vertical-align: top;\n",
       "    }\n",
       "\n",
       "    .dataframe thead th {\n",
       "        text-align: right;\n",
       "    }\n",
       "</style>\n",
       "<table border=\"1\" class=\"dataframe\">\n",
       "  <thead>\n",
       "    <tr style=\"text-align: right;\">\n",
       "      <th></th>\n",
       "      <th>num_orders</th>\n",
       "    </tr>\n",
       "    <tr>\n",
       "      <th>datetime</th>\n",
       "      <th></th>\n",
       "    </tr>\n",
       "  </thead>\n",
       "  <tbody>\n",
       "    <tr>\n",
       "      <th>2018-03-01 00:00:00</th>\n",
       "      <td>124</td>\n",
       "    </tr>\n",
       "    <tr>\n",
       "      <th>2018-03-01 01:00:00</th>\n",
       "      <td>85</td>\n",
       "    </tr>\n",
       "    <tr>\n",
       "      <th>2018-03-01 02:00:00</th>\n",
       "      <td>71</td>\n",
       "    </tr>\n",
       "    <tr>\n",
       "      <th>2018-03-01 03:00:00</th>\n",
       "      <td>66</td>\n",
       "    </tr>\n",
       "    <tr>\n",
       "      <th>2018-03-01 04:00:00</th>\n",
       "      <td>43</td>\n",
       "    </tr>\n",
       "  </tbody>\n",
       "</table>\n",
       "</div>"
      ],
      "text/plain": [
       "                     num_orders\n",
       "datetime                       \n",
       "2018-03-01 00:00:00         124\n",
       "2018-03-01 01:00:00          85\n",
       "2018-03-01 02:00:00          71\n",
       "2018-03-01 03:00:00          66\n",
       "2018-03-01 04:00:00          43"
      ]
     },
     "execution_count": 2,
     "metadata": {},
     "output_type": "execute_result"
    }
   ],
   "source": [
    "#загрузим данные и поместим даты в индексы\n",
    "data = pd.read_csv('/datasets/taxi.csv', index_col = [0], parse_dates = True)\n",
    "\n",
    "#проверим ряд на монотонность\n",
    "print(data.index.is_monotonic)\n",
    "\n",
    "#взглянем на данные\n",
    "print('Названия столбцов:', data.columns)\n",
    "display(data.head(5))\n",
    "\n",
    "#произведем ресемплирование по 1 часу\n",
    "data = data.resample('1H').sum()\n",
    "#проверим изменения\n",
    "data.head(5)"
   ]
  },
  {
   "cell_type": "markdown",
   "metadata": {},
   "source": [
    "<b>Вывод:</b> библиотеки и модули импортированы, данные загружены. Временной ряд монотонный. В данных один столбец - фича и один - таргетный. Ресемплирование по одному часу произведено."
   ]
  },
  {
   "cell_type": "markdown",
   "metadata": {},
   "source": [
    "## Анализ"
   ]
  },
  {
   "cell_type": "markdown",
   "metadata": {},
   "source": [
    "### Оценка общих закономерностей заказов по месяцам, дням недели и часам"
   ]
  },
  {
   "cell_type": "code",
   "execution_count": 3,
   "metadata": {
    "scrolled": true
   },
   "outputs": [
    {
     "data": {
      "image/png": "[encoded data removed]",
      "text/plain": [
       "<Figure size 1080x288 with 1 Axes>"
      ]
     },
     "metadata": {
      "needs_background": "light"
     },
     "output_type": "display_data"
    }
   ],
   "source": [
    "#ресемплируем данные по месяцам и дням и оценим закономерности\n",
    "data_monthly = data.resample('1M').sum()\n",
    "data_daily = data.resample('1D').sum()\n",
    "\n",
    "#посмотрим на кол-во заказов по месяцам\n",
    "data_monthly.plot(figsize=(15,4))\n",
    "plt.title('Количество заказов по месяцам')\n",
    "plt.show()"
   ]
  },
  {
   "cell_type": "markdown",
   "metadata": {},
   "source": [
    "<b>Вывод:</b> график заказов стабильно растет, в марте отмечается минимум заказов, в августе - максимум. При этом наиболее стремительный рост наблюдается в летние месяцы"
   ]
  },
  {
   "cell_type": "code",
   "execution_count": 4,
   "metadata": {},
   "outputs": [
    {
     "data": {
      "image/png": "[encoded data removed]",
      "text/plain": [
       "<Figure size 1080x288 with 1 Axes>"
      ]
     },
     "metadata": {
      "needs_background": "light"
     },
     "output_type": "display_data"
    }
   ],
   "source": [
    "#посмотрим на кол-во заказов в марте по дням недели\n",
    "data_daily.head(31).plot(figsize=(15,4))\n",
    "plt.title('Количество заказов по дням недели')\n",
    "plt.show()"
   ]
  },
  {
   "cell_type": "markdown",
   "metadata": {},
   "source": [
    "<b>Вывод:</b> график напоминает кардиограмму с цикличными подъемами и спадами в количестве заказов. В марте отмечено 8 дней, когда количество заказов резко падало (4,6,9,14,18,20,25,27) и 10 дней, когда количество заказов резко возрастало (2,5,8,11,12,16,19,23, 26,30). \n",
    "\n",
    "Падения заказов происходят по вторникам и воскресеньям, плюс отмечено два \"нестандартных\" дня - пятница 9 марта (сказывается резкий подъем в честь праздника 8 марта) и среда 14 марта. \n",
    "\n",
    "Возрастание заказов стандартно происходит в понедельник и пятницу, плюс отмечен резкий рост заказов в четверг 8 марта (т.к. это праздничный день) и в воскресенье 11 марта."
   ]
  },
  {
   "cell_type": "code",
   "execution_count": 5,
   "metadata": {},
   "outputs": [
    {
     "data": {
      "image/png": "[encoded data removed]",
      "text/plain": [
       "<Figure size 1080x288 with 1 Axes>"
      ]
     },
     "metadata": {
      "needs_background": "light"
     },
     "output_type": "display_data"
    }
   ],
   "source": [
    "#посмотрим на кол-во заказов по часам в рамках одного дня\n",
    "data.head(25).plot(figsize=(15,4))\n",
    "plt.title('Количество заказов в рамках одного дня')\n",
    "plt.show()"
   ]
  },
  {
   "cell_type": "markdown",
   "metadata": {},
   "source": [
    "<b>Вывод:</b> выделяется пять \"пиков\" роста заказов:\n",
    "- примерно 10.30 утра\n",
    "- около 15.00\n",
    "- 18.00\n",
    "- 22.00-22.30\n",
    "\n",
    "Количество заказов стабильно снижается после полуночи и примерно до 5 утра, после чего начинается плавное возрастание с небольшим спадом в промежутке 8.30-10.00 утра.После 10.30 и до 13.00 количество заказов падает, затем растет с пиком в точке 15.00 дня, затем снова падает примерно до 17.00, после чего растет с пиком в точке 18.00, после чего падает до 19.00, затем стабильно растет до 22.30. Затем снова начинается спад.\n",
    "В целом, чередования активности-спада описываются промежутком в 2 часа.\n",
    "        "
   ]
  },
  {
   "cell_type": "code",
   "execution_count": 6,
   "metadata": {},
   "outputs": [
    {
     "data": {
      "text/plain": [
       "Text(0.5, 1.0, 'Скользящее среднее и стандартное отклонение по часовым интервалам')"
      ]
     },
     "execution_count": 6,
     "metadata": {},
     "output_type": "execute_result"
    },
    {
     "data": {
      "image/png": "[encoded data removed]",
      "text/plain": [
       "<Figure size 1080x288 with 1 Axes>"
      ]
     },
     "metadata": {
      "needs_background": "light"
     },
     "output_type": "display_data"
    }
   ],
   "source": [
    "#оценим скользящее среднее и скользящее стандартное отклонение\n",
    "data['mean'] = data['num_orders'].shift().rolling(20).mean()\n",
    "data['std'] = data['num_orders'].rolling(20).std()\n",
    "data.plot(figsize=(15,4))\n",
    "plt.title('Скользящее среднее и стандартное отклонение по часовым интервалам')"
   ]
  },
  {
   "cell_type": "markdown",
   "metadata": {},
   "source": [
    "<b>Вывод:</b> среднее растет вместе с общим увеличением числа заказов. Скользящее стандартное отклонение остается на примерно одном и том же уровне."
   ]
  },
  {
   "cell_type": "markdown",
   "metadata": {},
   "source": [
    "### Оценка трендов и сезонных закономерностей заказов"
   ]
  },
  {
   "cell_type": "code",
   "execution_count": 7,
   "metadata": {},
   "outputs": [
    {
     "data": {
      "image/png": "[encoded data removed]",
      "text/plain": [
       "<Figure size 1080x288 with 1 Axes>"
      ]
     },
     "metadata": {
      "needs_background": "light"
     },
     "output_type": "display_data"
    }
   ],
   "source": [
    "data_copy = data.dropna().copy()\n",
    "#декомпозируем данные и визуализируем общие тренды\n",
    "for column in data_copy.columns:\n",
    "    decomposed_data = seasonal_decompose(data_copy[column])\n",
    "    decomposed_data.trend.plot(title='Общие тренды заказов', figsize=(15,4), \n",
    "                               legend = column)\n",
    "plt.show()"
   ]
  },
  {
   "cell_type": "markdown",
   "metadata": {},
   "source": [
    "<b>Вывод:</b> наблюдается тренд к увеличению общего и среднего числа заказов."
   ]
  },
  {
   "cell_type": "code",
   "execution_count": 8,
   "metadata": {},
   "outputs": [
    {
     "data": {
      "image/png": "[encoded data removed]",
      "text/plain": [
       "<Figure size 1080x288 with 1 Axes>"
      ]
     },
     "metadata": {
      "needs_background": "light"
     },
     "output_type": "display_data"
    }
   ],
   "source": [
    "#оценим сезонные закономерности заказов по дням\n",
    "for column in data_copy.columns:\n",
    "    decomposed_data = seasonal_decompose(data_copy[column])\n",
    "    decomposed_data.seasonal.head(24*7).plot(title='Сезонные закономерности заказов по дням',\n",
    "                                              figsize=(15,4), legend = True)\n",
    "plt.show()"
   ]
  },
  {
   "cell_type": "markdown",
   "metadata": {},
   "source": [
    "<b>Вывод:</b> сезонные закономерности цикличны.\n",
    "\n",
    "PS как еще трактовать это график я не знаю, потому что по идее он должен указывать на различное число заказов в будни и выходные, но тут этого не видно :(\n",
    "    \n",
    "    \n",
    "    "
   ]
  },
  {
   "cell_type": "code",
   "execution_count": 9,
   "metadata": {},
   "outputs": [
    {
     "data": {
      "image/png": "[encoded data removed]",
      "text/plain": [
       "<Figure size 1080x288 with 1 Axes>"
      ]
     },
     "metadata": {
      "needs_background": "light"
     },
     "output_type": "display_data"
    }
   ],
   "source": [
    "#оценим сезонные закономерности заказов по часам\n",
    "for column in data_copy.columns:\n",
    "    decomposed_data = seasonal_decompose(data_copy[column])\n",
    "    decomposed_data.seasonal['2018-05-10':'2018-05-11'].plot(ax=plt.gca(), \n",
    "                                                             figsize=(15,4),\n",
    "                                                            \n",
    "                                                            legend = True)\n",
    "plt.title('Повторяющиеся закономерности заказов по часам')\n",
    "plt.show()"
   ]
  },
  {
   "cell_type": "markdown",
   "metadata": {},
   "source": [
    "<b>Вывод:</b> количество заказов с полуночи и до шести утра падает, после - растет с пиками в период 10.30, 15.00, 22.00"
   ]
  },
  {
   "cell_type": "code",
   "execution_count": 10,
   "metadata": {},
   "outputs": [
    {
     "data": {
      "image/png": "[encoded data removed]",
      "text/plain": [
       "<Figure size 1080x288 with 1 Axes>"
      ]
     },
     "metadata": {
      "needs_background": "light"
     },
     "output_type": "display_data"
    }
   ],
   "source": [
    "#посмотрим на шумы в данных\n",
    "for column in data_copy.columns:\n",
    "    decomposed_data = seasonal_decompose(data_copy[column])\n",
    "    decomposed_data.resid.plot(title='Шумы в данных', figsize=(15,4))\n",
    "plt.show()"
   ]
  },
  {
   "cell_type": "markdown",
   "metadata": {},
   "source": [
    "<b>Вывод</b> шумы распределены более-менее равномерно, в августе их больше"
   ]
  },
  {
   "cell_type": "markdown",
   "metadata": {},
   "source": [
    "## Обучение"
   ]
  },
  {
   "cell_type": "markdown",
   "metadata": {},
   "source": [
    "### Создание признаков и подготовка выборок"
   ]
  },
  {
   "cell_type": "code",
   "execution_count": 11,
   "metadata": {},
   "outputs": [
    {
     "data": {
      "text/html": [
       "<div>\n",
       "<style scoped>\n",
       "    .dataframe tbody tr th:only-of-type {\n",
       "        vertical-align: middle;\n",
       "    }\n",
       "\n",
       "    .dataframe tbody tr th {\n",
       "        vertical-align: top;\n",
       "    }\n",
       "\n",
       "    .dataframe thead th {\n",
       "        text-align: right;\n",
       "    }\n",
       "</style>\n",
       "<table border=\"1\" class=\"dataframe\">\n",
       "  <thead>\n",
       "    <tr style=\"text-align: right;\">\n",
       "      <th></th>\n",
       "      <th>num_orders</th>\n",
       "      <th>mean</th>\n",
       "      <th>std</th>\n",
       "      <th>dayofweek</th>\n",
       "      <th>hour</th>\n",
       "      <th>lag_1</th>\n",
       "      <th>lag_2</th>\n",
       "      <th>lag_3</th>\n",
       "      <th>lag_4</th>\n",
       "      <th>lag_5</th>\n",
       "      <th>lag_6</th>\n",
       "      <th>lag_7</th>\n",
       "      <th>lag_8</th>\n",
       "      <th>lag_9</th>\n",
       "      <th>lag_10</th>\n",
       "      <th>rolling_mean</th>\n",
       "    </tr>\n",
       "  </thead>\n",
       "  <tbody>\n",
       "    <tr>\n",
       "      <th>count</th>\n",
       "      <td>4416.000000</td>\n",
       "      <td>4396.000000</td>\n",
       "      <td>4397.000000</td>\n",
       "      <td>4416.000000</td>\n",
       "      <td>4416.00000</td>\n",
       "      <td>4415.000000</td>\n",
       "      <td>4414.000000</td>\n",
       "      <td>4413.000000</td>\n",
       "      <td>4412.000000</td>\n",
       "      <td>4411.000000</td>\n",
       "      <td>4410.000000</td>\n",
       "      <td>4409.000000</td>\n",
       "      <td>4408.000000</td>\n",
       "      <td>4407.000000</td>\n",
       "      <td>4406.000000</td>\n",
       "      <td>4406.000000</td>\n",
       "    </tr>\n",
       "    <tr>\n",
       "      <th>mean</th>\n",
       "      <td>84.422781</td>\n",
       "      <td>84.274932</td>\n",
       "      <td>34.908900</td>\n",
       "      <td>3.005435</td>\n",
       "      <td>11.50000</td>\n",
       "      <td>84.395470</td>\n",
       "      <td>84.364069</td>\n",
       "      <td>84.347156</td>\n",
       "      <td>84.331369</td>\n",
       "      <td>84.319655</td>\n",
       "      <td>84.291837</td>\n",
       "      <td>84.261737</td>\n",
       "      <td>84.236162</td>\n",
       "      <td>84.228954</td>\n",
       "      <td>84.217885</td>\n",
       "      <td>84.316841</td>\n",
       "    </tr>\n",
       "    <tr>\n",
       "      <th>std</th>\n",
       "      <td>45.023853</td>\n",
       "      <td>26.893325</td>\n",
       "      <td>11.660756</td>\n",
       "      <td>1.990684</td>\n",
       "      <td>6.92297</td>\n",
       "      <td>44.992356</td>\n",
       "      <td>44.949043</td>\n",
       "      <td>44.940088</td>\n",
       "      <td>44.932942</td>\n",
       "      <td>44.931299</td>\n",
       "      <td>44.898387</td>\n",
       "      <td>44.858959</td>\n",
       "      <td>44.831888</td>\n",
       "      <td>44.834421</td>\n",
       "      <td>44.833486</td>\n",
       "      <td>29.695361</td>\n",
       "    </tr>\n",
       "    <tr>\n",
       "      <th>min</th>\n",
       "      <td>0.000000</td>\n",
       "      <td>39.550000</td>\n",
       "      <td>14.911934</td>\n",
       "      <td>0.000000</td>\n",
       "      <td>0.00000</td>\n",
       "      <td>0.000000</td>\n",
       "      <td>0.000000</td>\n",
       "      <td>0.000000</td>\n",
       "      <td>0.000000</td>\n",
       "      <td>0.000000</td>\n",
       "      <td>0.000000</td>\n",
       "      <td>0.000000</td>\n",
       "      <td>0.000000</td>\n",
       "      <td>0.000000</td>\n",
       "      <td>0.000000</td>\n",
       "      <td>27.000000</td>\n",
       "    </tr>\n",
       "    <tr>\n",
       "      <th>25%</th>\n",
       "      <td>54.000000</td>\n",
       "      <td>63.087500</td>\n",
       "      <td>26.980061</td>\n",
       "      <td>1.000000</td>\n",
       "      <td>5.75000</td>\n",
       "      <td>54.000000</td>\n",
       "      <td>54.000000</td>\n",
       "      <td>54.000000</td>\n",
       "      <td>54.000000</td>\n",
       "      <td>54.000000</td>\n",
       "      <td>54.000000</td>\n",
       "      <td>54.000000</td>\n",
       "      <td>54.000000</td>\n",
       "      <td>54.000000</td>\n",
       "      <td>54.000000</td>\n",
       "      <td>62.600000</td>\n",
       "    </tr>\n",
       "    <tr>\n",
       "      <th>50%</th>\n",
       "      <td>78.000000</td>\n",
       "      <td>80.525000</td>\n",
       "      <td>32.659487</td>\n",
       "      <td>3.000000</td>\n",
       "      <td>11.50000</td>\n",
       "      <td>78.000000</td>\n",
       "      <td>78.000000</td>\n",
       "      <td>78.000000</td>\n",
       "      <td>78.000000</td>\n",
       "      <td>78.000000</td>\n",
       "      <td>78.000000</td>\n",
       "      <td>78.000000</td>\n",
       "      <td>78.000000</td>\n",
       "      <td>78.000000</td>\n",
       "      <td>78.000000</td>\n",
       "      <td>80.200000</td>\n",
       "    </tr>\n",
       "    <tr>\n",
       "      <th>75%</th>\n",
       "      <td>107.000000</td>\n",
       "      <td>99.850000</td>\n",
       "      <td>39.756198</td>\n",
       "      <td>5.000000</td>\n",
       "      <td>17.25000</td>\n",
       "      <td>107.000000</td>\n",
       "      <td>107.000000</td>\n",
       "      <td>107.000000</td>\n",
       "      <td>107.000000</td>\n",
       "      <td>107.000000</td>\n",
       "      <td>107.000000</td>\n",
       "      <td>107.000000</td>\n",
       "      <td>107.000000</td>\n",
       "      <td>107.000000</td>\n",
       "      <td>107.000000</td>\n",
       "      <td>100.700000</td>\n",
       "    </tr>\n",
       "    <tr>\n",
       "      <th>max</th>\n",
       "      <td>462.000000</td>\n",
       "      <td>191.950000</td>\n",
       "      <td>97.607417</td>\n",
       "      <td>6.000000</td>\n",
       "      <td>23.00000</td>\n",
       "      <td>462.000000</td>\n",
       "      <td>462.000000</td>\n",
       "      <td>462.000000</td>\n",
       "      <td>462.000000</td>\n",
       "      <td>462.000000</td>\n",
       "      <td>462.000000</td>\n",
       "      <td>462.000000</td>\n",
       "      <td>462.000000</td>\n",
       "      <td>462.000000</td>\n",
       "      <td>462.000000</td>\n",
       "      <td>213.400000</td>\n",
       "    </tr>\n",
       "  </tbody>\n",
       "</table>\n",
       "</div>"
      ],
      "text/plain": [
       "        num_orders         mean          std    dayofweek        hour  \\\n",
       "count  4416.000000  4396.000000  4397.000000  4416.000000  4416.00000   \n",
       "mean     84.422781    84.274932    34.908900     3.005435    11.50000   \n",
       "std      45.023853    26.893325    11.660756     1.990684     6.92297   \n",
       "min       0.000000    39.550000    14.911934     0.000000     0.00000   \n",
       "25%      54.000000    63.087500    26.980061     1.000000     5.75000   \n",
       "50%      78.000000    80.525000    32.659487     3.000000    11.50000   \n",
       "75%     107.000000    99.850000    39.756198     5.000000    17.25000   \n",
       "max     462.000000   191.950000    97.607417     6.000000    23.00000   \n",
       "\n",
       "             lag_1        lag_2        lag_3        lag_4        lag_5  \\\n",
       "count  4415.000000  4414.000000  4413.000000  4412.000000  4411.000000   \n",
       "mean     84.395470    84.364069    84.347156    84.331369    84.319655   \n",
       "std      44.992356    44.949043    44.940088    44.932942    44.931299   \n",
       "min       0.000000     0.000000     0.000000     0.000000     0.000000   \n",
       "25%      54.000000    54.000000    54.000000    54.000000    54.000000   \n",
       "50%      78.000000    78.000000    78.000000    78.000000    78.000000   \n",
       "75%     107.000000   107.000000   107.000000   107.000000   107.000000   \n",
       "max     462.000000   462.000000   462.000000   462.000000   462.000000   \n",
       "\n",
       "             lag_6        lag_7        lag_8        lag_9       lag_10  \\\n",
       "count  4410.000000  4409.000000  4408.000000  4407.000000  4406.000000   \n",
       "mean     84.291837    84.261737    84.236162    84.228954    84.217885   \n",
       "std      44.898387    44.858959    44.831888    44.834421    44.833486   \n",
       "min       0.000000     0.000000     0.000000     0.000000     0.000000   \n",
       "25%      54.000000    54.000000    54.000000    54.000000    54.000000   \n",
       "50%      78.000000    78.000000    78.000000    78.000000    78.000000   \n",
       "75%     107.000000   107.000000   107.000000   107.000000   107.000000   \n",
       "max     462.000000   462.000000   462.000000   462.000000   462.000000   \n",
       "\n",
       "       rolling_mean  \n",
       "count   4406.000000  \n",
       "mean      84.316841  \n",
       "std       29.695361  \n",
       "min       27.000000  \n",
       "25%       62.600000  \n",
       "50%       80.200000  \n",
       "75%      100.700000  \n",
       "max      213.400000  "
      ]
     },
     "execution_count": 11,
     "metadata": {},
     "output_type": "execute_result"
    }
   ],
   "source": [
    "#создадим признаки для модели\n",
    "def make_features(data, max_lag, rolling_mean_size):\n",
    "    data['dayofweek'] = data.index.dayofweek\n",
    "    data['hour'] = data.index.hour\n",
    "    \n",
    "    for lag in range(1, max_lag + 1):\n",
    "        data['lag_{}'.format(lag)] = data['num_orders'].shift(lag)\n",
    "\n",
    "    data['rolling_mean'] = data['num_orders'].shift().rolling(rolling_mean_size).mean()\n",
    "\n",
    "make_features(data, 10, 10)\n",
    "\n",
    "#проверим данные\n",
    "data.describe()"
   ]
  },
  {
   "cell_type": "code",
   "execution_count": 12,
   "metadata": {},
   "outputs": [
    {
     "data": {
      "text/html": [
       "<div>\n",
       "<style scoped>\n",
       "    .dataframe tbody tr th:only-of-type {\n",
       "        vertical-align: middle;\n",
       "    }\n",
       "\n",
       "    .dataframe tbody tr th {\n",
       "        vertical-align: top;\n",
       "    }\n",
       "\n",
       "    .dataframe thead th {\n",
       "        text-align: right;\n",
       "    }\n",
       "</style>\n",
       "<table border=\"1\" class=\"dataframe\">\n",
       "  <thead>\n",
       "    <tr style=\"text-align: right;\">\n",
       "      <th></th>\n",
       "      <th>num_orders</th>\n",
       "      <th>mean</th>\n",
       "      <th>std</th>\n",
       "      <th>dayofweek</th>\n",
       "      <th>hour</th>\n",
       "      <th>lag_1</th>\n",
       "      <th>lag_2</th>\n",
       "      <th>lag_3</th>\n",
       "      <th>lag_4</th>\n",
       "      <th>lag_5</th>\n",
       "      <th>lag_6</th>\n",
       "      <th>lag_7</th>\n",
       "      <th>lag_8</th>\n",
       "      <th>lag_9</th>\n",
       "      <th>lag_10</th>\n",
       "      <th>rolling_mean</th>\n",
       "    </tr>\n",
       "    <tr>\n",
       "      <th>datetime</th>\n",
       "      <th></th>\n",
       "      <th></th>\n",
       "      <th></th>\n",
       "      <th></th>\n",
       "      <th></th>\n",
       "      <th></th>\n",
       "      <th></th>\n",
       "      <th></th>\n",
       "      <th></th>\n",
       "      <th></th>\n",
       "      <th></th>\n",
       "      <th></th>\n",
       "      <th></th>\n",
       "      <th></th>\n",
       "      <th></th>\n",
       "      <th></th>\n",
       "    </tr>\n",
       "  </thead>\n",
       "  <tbody>\n",
       "    <tr>\n",
       "      <th>2018-03-01 20:00:00</th>\n",
       "      <td>61</td>\n",
       "      <td>53.30</td>\n",
       "      <td>24.331645</td>\n",
       "      <td>3</td>\n",
       "      <td>20</td>\n",
       "      <td>45.0</td>\n",
       "      <td>73.0</td>\n",
       "      <td>44.0</td>\n",
       "      <td>43.0</td>\n",
       "      <td>66.0</td>\n",
       "      <td>48.0</td>\n",
       "      <td>32.0</td>\n",
       "      <td>30.0</td>\n",
       "      <td>96.0</td>\n",
       "      <td>64.0</td>\n",
       "      <td>54.1</td>\n",
       "    </tr>\n",
       "    <tr>\n",
       "      <th>2018-03-01 21:00:00</th>\n",
       "      <td>66</td>\n",
       "      <td>50.15</td>\n",
       "      <td>23.246052</td>\n",
       "      <td>3</td>\n",
       "      <td>21</td>\n",
       "      <td>61.0</td>\n",
       "      <td>45.0</td>\n",
       "      <td>73.0</td>\n",
       "      <td>44.0</td>\n",
       "      <td>43.0</td>\n",
       "      <td>66.0</td>\n",
       "      <td>48.0</td>\n",
       "      <td>32.0</td>\n",
       "      <td>30.0</td>\n",
       "      <td>96.0</td>\n",
       "      <td>53.8</td>\n",
       "    </tr>\n",
       "    <tr>\n",
       "      <th>2018-03-01 22:00:00</th>\n",
       "      <td>113</td>\n",
       "      <td>49.20</td>\n",
       "      <td>26.925042</td>\n",
       "      <td>3</td>\n",
       "      <td>22</td>\n",
       "      <td>66.0</td>\n",
       "      <td>61.0</td>\n",
       "      <td>45.0</td>\n",
       "      <td>73.0</td>\n",
       "      <td>44.0</td>\n",
       "      <td>43.0</td>\n",
       "      <td>66.0</td>\n",
       "      <td>48.0</td>\n",
       "      <td>32.0</td>\n",
       "      <td>30.0</td>\n",
       "      <td>50.8</td>\n",
       "    </tr>\n",
       "    <tr>\n",
       "      <th>2018-03-01 23:00:00</th>\n",
       "      <td>58</td>\n",
       "      <td>51.30</td>\n",
       "      <td>26.754045</td>\n",
       "      <td>3</td>\n",
       "      <td>23</td>\n",
       "      <td>113.0</td>\n",
       "      <td>66.0</td>\n",
       "      <td>61.0</td>\n",
       "      <td>45.0</td>\n",
       "      <td>73.0</td>\n",
       "      <td>44.0</td>\n",
       "      <td>43.0</td>\n",
       "      <td>66.0</td>\n",
       "      <td>48.0</td>\n",
       "      <td>32.0</td>\n",
       "      <td>59.1</td>\n",
       "    </tr>\n",
       "    <tr>\n",
       "      <th>2018-03-02 00:00:00</th>\n",
       "      <td>90</td>\n",
       "      <td>50.90</td>\n",
       "      <td>28.056100</td>\n",
       "      <td>4</td>\n",
       "      <td>0</td>\n",
       "      <td>58.0</td>\n",
       "      <td>113.0</td>\n",
       "      <td>66.0</td>\n",
       "      <td>61.0</td>\n",
       "      <td>45.0</td>\n",
       "      <td>73.0</td>\n",
       "      <td>44.0</td>\n",
       "      <td>43.0</td>\n",
       "      <td>66.0</td>\n",
       "      <td>48.0</td>\n",
       "      <td>61.7</td>\n",
       "    </tr>\n",
       "  </tbody>\n",
       "</table>\n",
       "</div>"
      ],
      "text/plain": [
       "                     num_orders   mean        std  dayofweek  hour  lag_1  \\\n",
       "datetime                                                                    \n",
       "2018-03-01 20:00:00          61  53.30  24.331645          3    20   45.0   \n",
       "2018-03-01 21:00:00          66  50.15  23.246052          3    21   61.0   \n",
       "2018-03-01 22:00:00         113  49.20  26.925042          3    22   66.0   \n",
       "2018-03-01 23:00:00          58  51.30  26.754045          3    23  113.0   \n",
       "2018-03-02 00:00:00          90  50.90  28.056100          4     0   58.0   \n",
       "\n",
       "                     lag_2  lag_3  lag_4  lag_5  lag_6  lag_7  lag_8  lag_9  \\\n",
       "datetime                                                                      \n",
       "2018-03-01 20:00:00   73.0   44.0   43.0   66.0   48.0   32.0   30.0   96.0   \n",
       "2018-03-01 21:00:00   45.0   73.0   44.0   43.0   66.0   48.0   32.0   30.0   \n",
       "2018-03-01 22:00:00   61.0   45.0   73.0   44.0   43.0   66.0   48.0   32.0   \n",
       "2018-03-01 23:00:00   66.0   61.0   45.0   73.0   44.0   43.0   66.0   48.0   \n",
       "2018-03-02 00:00:00  113.0   66.0   61.0   45.0   73.0   44.0   43.0   66.0   \n",
       "\n",
       "                     lag_10  rolling_mean  \n",
       "datetime                                   \n",
       "2018-03-01 20:00:00    64.0          54.1  \n",
       "2018-03-01 21:00:00    96.0          53.8  \n",
       "2018-03-01 22:00:00    30.0          50.8  \n",
       "2018-03-01 23:00:00    32.0          59.1  \n",
       "2018-03-02 00:00:00    48.0          61.7  "
      ]
     },
     "metadata": {},
     "output_type": "display_data"
    },
    {
     "data": {
      "text/html": [
       "<div>\n",
       "<style scoped>\n",
       "    .dataframe tbody tr th:only-of-type {\n",
       "        vertical-align: middle;\n",
       "    }\n",
       "\n",
       "    .dataframe tbody tr th {\n",
       "        vertical-align: top;\n",
       "    }\n",
       "\n",
       "    .dataframe thead th {\n",
       "        text-align: right;\n",
       "    }\n",
       "</style>\n",
       "<table border=\"1\" class=\"dataframe\">\n",
       "  <thead>\n",
       "    <tr style=\"text-align: right;\">\n",
       "      <th></th>\n",
       "      <th>num_orders</th>\n",
       "      <th>mean</th>\n",
       "      <th>std</th>\n",
       "      <th>dayofweek</th>\n",
       "      <th>hour</th>\n",
       "      <th>lag_1</th>\n",
       "      <th>lag_2</th>\n",
       "      <th>lag_3</th>\n",
       "      <th>lag_4</th>\n",
       "      <th>lag_5</th>\n",
       "      <th>lag_6</th>\n",
       "      <th>lag_7</th>\n",
       "      <th>lag_8</th>\n",
       "      <th>lag_9</th>\n",
       "      <th>lag_10</th>\n",
       "      <th>rolling_mean</th>\n",
       "    </tr>\n",
       "    <tr>\n",
       "      <th>datetime</th>\n",
       "      <th></th>\n",
       "      <th></th>\n",
       "      <th></th>\n",
       "      <th></th>\n",
       "      <th></th>\n",
       "      <th></th>\n",
       "      <th></th>\n",
       "      <th></th>\n",
       "      <th></th>\n",
       "      <th></th>\n",
       "      <th></th>\n",
       "      <th></th>\n",
       "      <th></th>\n",
       "      <th></th>\n",
       "      <th></th>\n",
       "      <th></th>\n",
       "    </tr>\n",
       "  </thead>\n",
       "  <tbody>\n",
       "    <tr>\n",
       "      <th>2018-08-13 14:00:00</th>\n",
       "      <td>102</td>\n",
       "      <td>140.20</td>\n",
       "      <td>85.995961</td>\n",
       "      <td>0</td>\n",
       "      <td>14</td>\n",
       "      <td>119.0</td>\n",
       "      <td>92.0</td>\n",
       "      <td>144.0</td>\n",
       "      <td>156.0</td>\n",
       "      <td>137.0</td>\n",
       "      <td>91.0</td>\n",
       "      <td>39.0</td>\n",
       "      <td>66.0</td>\n",
       "      <td>83.0</td>\n",
       "      <td>143.0</td>\n",
       "      <td>107.0</td>\n",
       "    </tr>\n",
       "    <tr>\n",
       "      <th>2018-08-13 15:00:00</th>\n",
       "      <td>175</td>\n",
       "      <td>141.40</td>\n",
       "      <td>85.124970</td>\n",
       "      <td>0</td>\n",
       "      <td>15</td>\n",
       "      <td>102.0</td>\n",
       "      <td>119.0</td>\n",
       "      <td>92.0</td>\n",
       "      <td>144.0</td>\n",
       "      <td>156.0</td>\n",
       "      <td>137.0</td>\n",
       "      <td>91.0</td>\n",
       "      <td>39.0</td>\n",
       "      <td>66.0</td>\n",
       "      <td>83.0</td>\n",
       "      <td>102.9</td>\n",
       "    </tr>\n",
       "    <tr>\n",
       "      <th>2018-08-13 16:00:00</th>\n",
       "      <td>144</td>\n",
       "      <td>146.05</td>\n",
       "      <td>84.376521</td>\n",
       "      <td>0</td>\n",
       "      <td>16</td>\n",
       "      <td>175.0</td>\n",
       "      <td>102.0</td>\n",
       "      <td>119.0</td>\n",
       "      <td>92.0</td>\n",
       "      <td>144.0</td>\n",
       "      <td>156.0</td>\n",
       "      <td>137.0</td>\n",
       "      <td>91.0</td>\n",
       "      <td>39.0</td>\n",
       "      <td>66.0</td>\n",
       "      <td>112.1</td>\n",
       "    </tr>\n",
       "    <tr>\n",
       "      <th>2018-08-13 17:00:00</th>\n",
       "      <td>152</td>\n",
       "      <td>148.35</td>\n",
       "      <td>84.320566</td>\n",
       "      <td>0</td>\n",
       "      <td>17</td>\n",
       "      <td>144.0</td>\n",
       "      <td>175.0</td>\n",
       "      <td>102.0</td>\n",
       "      <td>119.0</td>\n",
       "      <td>92.0</td>\n",
       "      <td>144.0</td>\n",
       "      <td>156.0</td>\n",
       "      <td>137.0</td>\n",
       "      <td>91.0</td>\n",
       "      <td>39.0</td>\n",
       "      <td>119.9</td>\n",
       "    </tr>\n",
       "    <tr>\n",
       "      <th>2018-08-13 18:00:00</th>\n",
       "      <td>104</td>\n",
       "      <td>149.20</td>\n",
       "      <td>84.650675</td>\n",
       "      <td>0</td>\n",
       "      <td>18</td>\n",
       "      <td>152.0</td>\n",
       "      <td>144.0</td>\n",
       "      <td>175.0</td>\n",
       "      <td>102.0</td>\n",
       "      <td>119.0</td>\n",
       "      <td>92.0</td>\n",
       "      <td>144.0</td>\n",
       "      <td>156.0</td>\n",
       "      <td>137.0</td>\n",
       "      <td>91.0</td>\n",
       "      <td>131.2</td>\n",
       "    </tr>\n",
       "  </tbody>\n",
       "</table>\n",
       "</div>"
      ],
      "text/plain": [
       "                     num_orders    mean        std  dayofweek  hour  lag_1  \\\n",
       "datetime                                                                     \n",
       "2018-08-13 14:00:00         102  140.20  85.995961          0    14  119.0   \n",
       "2018-08-13 15:00:00         175  141.40  85.124970          0    15  102.0   \n",
       "2018-08-13 16:00:00         144  146.05  84.376521          0    16  175.0   \n",
       "2018-08-13 17:00:00         152  148.35  84.320566          0    17  144.0   \n",
       "2018-08-13 18:00:00         104  149.20  84.650675          0    18  152.0   \n",
       "\n",
       "                     lag_2  lag_3  lag_4  lag_5  lag_6  lag_7  lag_8  lag_9  \\\n",
       "datetime                                                                      \n",
       "2018-08-13 14:00:00   92.0  144.0  156.0  137.0   91.0   39.0   66.0   83.0   \n",
       "2018-08-13 15:00:00  119.0   92.0  144.0  156.0  137.0   91.0   39.0   66.0   \n",
       "2018-08-13 16:00:00  102.0  119.0   92.0  144.0  156.0  137.0   91.0   39.0   \n",
       "2018-08-13 17:00:00  175.0  102.0  119.0   92.0  144.0  156.0  137.0   91.0   \n",
       "2018-08-13 18:00:00  144.0  175.0  102.0  119.0   92.0  144.0  156.0  137.0   \n",
       "\n",
       "                     lag_10  rolling_mean  \n",
       "datetime                                   \n",
       "2018-08-13 14:00:00   143.0         107.0  \n",
       "2018-08-13 15:00:00    83.0         102.9  \n",
       "2018-08-13 16:00:00    66.0         112.1  \n",
       "2018-08-13 17:00:00    39.0         119.9  \n",
       "2018-08-13 18:00:00    91.0         131.2  "
      ]
     },
     "metadata": {},
     "output_type": "display_data"
    },
    {
     "name": "stdout",
     "output_type": "stream",
     "text": [
      "Размер обучающей выборки: 3954 3954\n",
      "Размер тестовой выборки 442 442\n"
     ]
    }
   ],
   "source": [
    "#разделим данные на выборки в соотношении 9:1 и удалим пропуски\n",
    "train, test = train_test_split(data, shuffle=False, test_size=0.1)\n",
    "train = train.dropna()\n",
    "\n",
    "#поделим данные на фичи и таргет\n",
    "x_train = train.drop(['num_orders'], axis=1)\n",
    "y_train = train['num_orders']\n",
    "x_test = test.drop(['num_orders'], axis=1)\n",
    "y_test = test['num_orders']\n",
    "\n",
    "#проверим данные\n",
    "display(train.head(5))\n",
    "display(test.head(5))\n",
    "print('Размер обучающей выборки:', len(x_train), len(y_train))\n",
    "print('Размер тестовой выборки', len(x_test), len(y_test))"
   ]
  },
  {
   "cell_type": "code",
   "execution_count": 13,
   "metadata": {},
   "outputs": [],
   "source": [
    "#создадим списки для сохранения результатов работы алгоритмов\n",
    "algorithms = ['Dummy Regressor', 'Linear Regression', 'CatBoost', 'LGBM']\n",
    "results = []\n",
    "education_time = []\n",
    "prediction_time = []"
   ]
  },
  {
   "cell_type": "markdown",
   "metadata": {},
   "source": [
    "### Проверка качества с помощью DummyRegressor"
   ]
  },
  {
   "cell_type": "code",
   "execution_count": 14,
   "metadata": {},
   "outputs": [
    {
     "name": "stdout",
     "output_type": "stream",
     "text": [
      "RMSE случайной модели составляет: 84.6528030070785\n"
     ]
    }
   ],
   "source": [
    "#засечем время обучения и обучим модель\n",
    "start = time.time()\n",
    "model_dummy = DummyRegressor()\n",
    "model_dummy.fit(x_train, y_train)\n",
    "#остановим таймер и зафиксируем результаты\n",
    "end = time.time()\n",
    "dummy_education_time = end - start\n",
    "education_time.append(dummy_education_time)\n",
    "\n",
    "#засечем время получения предсказаний\n",
    "start = time.time()\n",
    "predictions = model_dummy.predict(x_test)\n",
    "#остановим таймер и зафиксируем результаты\n",
    "end = time.time()\n",
    "dummy_prediction_time = end - start\n",
    "prediction_time.append(dummy_prediction_time)\n",
    "\n",
    "result = mean_squared_error(predictions, y_test)\n",
    "print('RMSE случайной модели составляет:', result**0.5)\n",
    "\n",
    "results.append(result**0.5)"
   ]
  },
  {
   "cell_type": "markdown",
   "metadata": {},
   "source": [
    "### Обучение и тестирование линейной регрессии"
   ]
  },
  {
   "cell_type": "code",
   "execution_count": 15,
   "metadata": {},
   "outputs": [
    {
     "name": "stdout",
     "output_type": "stream",
     "text": [
      "RMSE линейной регрессии составляет: 52.58348923578434\n"
     ]
    }
   ],
   "source": [
    "#объявим модель\n",
    "model_lr = LinearRegression()\n",
    "\n",
    "#засечем время обучения и обучим модель\n",
    "start = time.time()\n",
    "model_lr.fit(x_train, y_train)\n",
    "#остановим таймер\n",
    "end = time.time()\n",
    "#добавим рез-ты в список\n",
    "lr_education_time = end - start\n",
    "education_time.append(lr_education_time)\n",
    "\n",
    "#засечем время предсказания и получим ответы\n",
    "start = time.time()\n",
    "predictions = model_lr.predict(x_test)\n",
    "end = time.time()\n",
    "lr_prediction_time = end - start\n",
    "prediction_time.append(lr_prediction_time)\n",
    "\n",
    "#рассчитаем RMSE и добавим рез-т в список\n",
    "result = mean_squared_error(predictions, y_test)\n",
    "results.append(result**0.5)\n",
    "print('RMSE линейной регрессии составляет:', result**0.5)"
   ]
  },
  {
   "cell_type": "markdown",
   "metadata": {},
   "source": [
    "### Обучение и тестирование CatBoost"
   ]
  },
  {
   "cell_type": "code",
   "execution_count": 16,
   "metadata": {},
   "outputs": [
    {
     "name": "stdout",
     "output_type": "stream",
     "text": [
      "TimeSeriesSplit(gap=0, max_train_size=None, n_splits=5, test_size=None)\n"
     ]
    }
   ],
   "source": [
    "#объявим объект TimeSeries\n",
    "tscv = TimeSeriesSplit()\n",
    "print(tscv)"
   ]
  },
  {
   "cell_type": "code",
   "execution_count": 23,
   "metadata": {},
   "outputs": [
    {
     "name": "stdout",
     "output_type": "stream",
     "text": [
      "CPU times: user 358 µs, sys: 9 µs, total: 367 µs\n",
      "Wall time: 379 µs\n"
     ]
    }
   ],
   "source": [
    "%%time\n",
    "#объявим модель\n",
    "cbr = CatBoostRegressor(random_state = 42, loss_function = 'RMSE', verbose = 200)\n",
    "#добавим тюнинг гиперпараметров для модели и оценим результат\n",
    "params = {'learning_rate': (0.2, 0.4, 0.6, 0.8), \n",
    "          'iterations': [20, 50, 100], 'depth': [4, 6, 8]}\n",
    "\n",
    "grid_cbr = GridSearchCV(cbr,\n",
    "                        params,\n",
    "                        cv= tscv,\n",
    "                        scoring='neg_root_mean_squared_error',\n",
    "                        verbose=100)\n",
    "#grid_cbr.fit(x_train, y_train)\n",
    "#print(grid_cbr.best_params_)\n",
    "#print(grid_cbr.best_score_)"
   ]
  },
  {
   "cell_type": "code",
   "execution_count": 18,
   "metadata": {},
   "outputs": [
    {
     "name": "stdout",
     "output_type": "stream",
     "text": [
      "CPU times: user 3 µs, sys: 0 ns, total: 3 µs\n",
      "Wall time: 4.77 µs\n",
      "0:\tlearn: 35.0203557\ttotal: 3.81ms\tremaining: 377ms\n",
      "99:\tlearn: 16.9997293\ttotal: 363ms\tremaining: 0us\n",
      "RMSE лучшей модели CatBoost составляет: 43.76561866572522\n"
     ]
    }
   ],
   "source": [
    "%time\n",
    "#объявим наилучшую модель CatBoost\n",
    "best_cbr = CatBoostRegressor(random_state = 42, loss_function = 'RMSE',\n",
    "                          verbose = 200, depth = 6,\n",
    "                            iterations = 100, learning_rate = 0.2)\n",
    "#засечем время и обучим CatBoost\n",
    "start = time.time()\n",
    "best_cbr.fit(x_train, y_train)\n",
    "#остановим таймер и зафиксируем результат\n",
    "end = time.time()\n",
    "best_сatboost_education_time = end - start\n",
    "education_time.append(best_сatboost_education_time)\n",
    "\n",
    "#засечем время предсказания и получим ответы\n",
    "start = time.time()\n",
    "predictions = best_cbr.predict(x_test)\n",
    "end = time.time()\n",
    "best_catboost_prediction_time = end - start\n",
    "prediction_time.append(best_catboost_prediction_time)\n",
    "\n",
    "#рассчитаем RMSE и добавим рез-т в список\n",
    "result = mean_squared_error(predictions, y_test)\n",
    "results.append(result**0.5)\n",
    "print('RMSE лучшей модели CatBoost составляет:', result**0.5)"
   ]
  },
  {
   "cell_type": "markdown",
   "metadata": {},
   "source": [
    "### Обучение и тестирование LGBM"
   ]
  },
  {
   "cell_type": "code",
   "execution_count": 19,
   "metadata": {},
   "outputs": [
    {
     "name": "stdout",
     "output_type": "stream",
     "text": [
      "CPU times: user 2 µs, sys: 1 µs, total: 3 µs\n",
      "Wall time: 4.77 µs\n"
     ]
    }
   ],
   "source": [
    "%time\n",
    "#объявим модель LGBM без тюнинга гиперпараметров\n",
    "lgb = LGBMRegressor(random_state = 42, force_row_wise = True, verbose = 500)\n",
    "#добавим тюнинг гиперпараметров для LGBM и оценим результат\n",
    "params = {'learning_rate': (0.2, 0.4, 0.6, 0.8),\n",
    "          'num_leaves': [11, 21, 31, 41]}\n",
    "\n",
    "grid_lgb = GridSearchCV(lgb,\n",
    "                        param_grid =params,\n",
    "                        cv=tscv,\n",
    "                        scoring='neg_root_mean_squared_error')\n",
    "\n",
    "#grid_lgb.fit(x_train, y_train)\n",
    "#print(grid_lgb.best_params_)\n",
    "#print(grid_lgb.best_score_)"
   ]
  },
  {
   "cell_type": "code",
   "execution_count": 20,
   "metadata": {},
   "outputs": [
    {
     "name": "stdout",
     "output_type": "stream",
     "text": [
      "CPU times: user 3 µs, sys: 0 ns, total: 3 µs\n",
      "Wall time: 5.96 µs\n",
      "RMSE лучшей модели LGBM составляет: 41.458575250576814\n"
     ]
    }
   ],
   "source": [
    "%time\n",
    "#объявим наилучшую модель LGBM\n",
    "best_lgb = LGBMRegressor(random_state = 42, verbose = 0,\n",
    "                         force_row_wise= True, \n",
    "                         learning_rate = 0.2, num_leaves = 21, n_estimators = 61)\n",
    "\n",
    "#засечем время и обучим лучшую модель LGBM\n",
    "start = time.time()\n",
    "best_lgb.fit(x_train, y_train)\n",
    "#остановим таймер и зафиксируем результат\n",
    "end = time.time()\n",
    "best_lgb_education_time = end - start\n",
    "education_time.append(best_lgb_education_time)\n",
    "\n",
    "#засечем время предсказания и получим ответы\n",
    "start = time.time()\n",
    "predictions = best_lgb.predict(x_test)\n",
    "end = time.time()\n",
    "best_lgb_prediction_time = end - start\n",
    "prediction_time.append(best_lgb_prediction_time)\n",
    "\n",
    "#рассчитаем RMSE и добавим рез-т в список\n",
    "result = mean_squared_error(predictions, y_test)\n",
    "results.append(result**0.5)\n",
    "print('RMSE лучшей модели LGBM составляет:', result**0.5)"
   ]
  },
  {
   "cell_type": "markdown",
   "metadata": {},
   "source": [
    "## Тестирование"
   ]
  },
  {
   "cell_type": "code",
   "execution_count": 21,
   "metadata": {},
   "outputs": [
    {
     "data": {
      "text/html": [
       "<div>\n",
       "<style scoped>\n",
       "    .dataframe tbody tr th:only-of-type {\n",
       "        vertical-align: middle;\n",
       "    }\n",
       "\n",
       "    .dataframe tbody tr th {\n",
       "        vertical-align: top;\n",
       "    }\n",
       "\n",
       "    .dataframe thead th {\n",
       "        text-align: right;\n",
       "    }\n",
       "</style>\n",
       "<table border=\"1\" class=\"dataframe\">\n",
       "  <thead>\n",
       "    <tr style=\"text-align: right;\">\n",
       "      <th></th>\n",
       "      <th>Dummy Regressor</th>\n",
       "      <th>Linear Regression</th>\n",
       "      <th>CatBoost</th>\n",
       "      <th>LGBM</th>\n",
       "    </tr>\n",
       "  </thead>\n",
       "  <tbody>\n",
       "    <tr>\n",
       "      <th>RMSE модели</th>\n",
       "      <td>84.652803</td>\n",
       "      <td>52.583489</td>\n",
       "      <td>43.765619</td>\n",
       "      <td>41.458575</td>\n",
       "    </tr>\n",
       "    <tr>\n",
       "      <th>Время обучения модели</th>\n",
       "      <td>0.000595</td>\n",
       "      <td>0.003712</td>\n",
       "      <td>1.238278</td>\n",
       "      <td>133.18646</td>\n",
       "    </tr>\n",
       "    <tr>\n",
       "      <th>Время предсказания модели</th>\n",
       "      <td>0.000319</td>\n",
       "      <td>0.001544</td>\n",
       "      <td>0.001452</td>\n",
       "      <td>0.088232</td>\n",
       "    </tr>\n",
       "  </tbody>\n",
       "</table>\n",
       "</div>"
      ],
      "text/plain": [
       "                          Dummy Regressor Linear Regression   CatBoost  \\\n",
       "RMSE модели                     84.652803         52.583489  43.765619   \n",
       "Время обучения модели            0.000595          0.003712   1.238278   \n",
       "Время предсказания модели        0.000319          0.001544   0.001452   \n",
       "\n",
       "                                LGBM  \n",
       "RMSE модели                41.458575  \n",
       "Время обучения модели      133.18646  \n",
       "Время предсказания модели   0.088232  "
      ]
     },
     "metadata": {},
     "output_type": "display_data"
    }
   ],
   "source": [
    "#соберем все показатели в сводную таблицу\n",
    "#print(results, education_time, prediction_time)\n",
    "model_estimation = pd.DataFrame(index = ['RMSE модели', \n",
    "                                         'Время обучения модели', 'Время предсказания модели'], \n",
    "             columns = algorithms)\n",
    "\n",
    "model_estimation.iloc[0] = results\n",
    "model_estimation.iloc[1] = education_time\n",
    "model_estimation.iloc[2] = prediction_time\n",
    "\n",
    "display(model_estimation)\n"
   ]
  },
  {
   "cell_type": "code",
   "execution_count": 22,
   "metadata": {},
   "outputs": [
    {
     "data": {
      "text/plain": [
       "Text(0.5, 1.0, 'Сопоставительный график предсказаний лучшей модели и правильных ответов')"
      ]
     },
     "execution_count": 22,
     "metadata": {},
     "output_type": "execute_result"
    },
    {
     "data": {
      "image/png": "[encoded data removed]",
      "text/plain": [
       "<Figure size 1080x288 with 1 Axes>"
      ]
     },
     "metadata": {
      "needs_background": "light"
     },
     "output_type": "display_data"
    }
   ],
   "source": [
    "#визуализируем реальные данные и полученные предсказания лучшей модели\n",
    "pd.Series(index = y_test.index, data = predictions).plot(figsize = (15,4),\n",
    "                                                         label = 'Предсказания модели',\n",
    "                                                        legend = True)\n",
    "y_test.plot(figsize = (15,4), label = 'Правильные ответы',\n",
    "                                                        legend = True)\n",
    "plt.title('Сопоставительный график предсказаний лучшей модели и правильных ответов')"
   ]
  },
  {
   "cell_type": "markdown",
   "metadata": {},
   "source": [
    "<b>Вывод:</b> лучше всего себя показала модель LGBM с RMSE 41"
   ]
  },
  {
   "cell_type": "markdown",
   "metadata": {},
   "source": [
    "## Чек-лист проверки"
   ]
  },
  {
   "cell_type": "markdown",
   "metadata": {},
   "source": [
    "- [x]  Jupyter Notebook открыт\n",
    "- [x]  Весь код выполняется без ошибок\n",
    "- [x]  Ячейки с кодом расположены в порядке исполнения\n",
    "- [x]  Данные загружены и подготовлены\n",
    "- [x]  Данные проанализированы\n",
    "- [x]  Модель обучена, гиперпараметры подобраны\n",
    "- [x]  Качество моделей проверено, выводы сделаны\n",
    "- [x]  Значение *RMSE* на тестовой выборке не больше 48"
   ]
  }
 ],
 "metadata": {
  "ExecuteTimeLog": [
   {
    "duration": 130,
    "start_time": "2022-04-21T10:39:43.725Z"
   },
   {
    "duration": 1326,
    "start_time": "2022-04-21T10:39:53.255Z"
   },
   {
    "duration": 34,
    "start_time": "2022-04-21T10:40:15.694Z"
   },
   {
    "duration": 41,
    "start_time": "2022-04-21T10:40:22.656Z"
   },
   {
    "duration": 28,
    "start_time": "2022-04-21T10:40:37.855Z"
   },
   {
    "duration": 31,
    "start_time": "2022-04-21T10:40:46.661Z"
   },
   {
    "duration": 10,
    "start_time": "2022-04-21T10:41:20.053Z"
   },
   {
    "duration": 5,
    "start_time": "2022-04-21T10:42:14.188Z"
   },
   {
    "duration": 35,
    "start_time": "2022-04-21T10:42:57.429Z"
   },
   {
    "duration": 33,
    "start_time": "2022-04-21T10:43:11.457Z"
   },
   {
    "duration": 31,
    "start_time": "2022-04-21T10:43:16.126Z"
   },
   {
    "duration": 96,
    "start_time": "2022-04-21T10:43:21.087Z"
   },
   {
    "duration": 36,
    "start_time": "2022-04-21T10:43:27.577Z"
   },
   {
    "duration": 8,
    "start_time": "2022-04-21T10:43:29.627Z"
   },
   {
    "duration": 258,
    "start_time": "2022-04-21T10:43:59.908Z"
   },
   {
    "duration": 223,
    "start_time": "2022-04-21T10:44:18.215Z"
   },
   {
    "duration": 218,
    "start_time": "2022-04-21T10:44:33.348Z"
   },
   {
    "duration": 44,
    "start_time": "2022-04-21T10:45:39.638Z"
   },
   {
    "duration": 37,
    "start_time": "2022-04-21T10:45:45.178Z"
   },
   {
    "duration": 38,
    "start_time": "2022-04-21T10:45:48.616Z"
   },
   {
    "duration": 41,
    "start_time": "2022-04-21T10:46:02.355Z"
   },
   {
    "duration": 36,
    "start_time": "2022-04-21T10:46:45.779Z"
   },
   {
    "duration": 36,
    "start_time": "2022-04-21T10:47:27.577Z"
   },
   {
    "duration": 37,
    "start_time": "2022-04-21T10:47:48.748Z"
   },
   {
    "duration": 40,
    "start_time": "2022-04-21T10:47:54.203Z"
   },
   {
    "duration": 41,
    "start_time": "2022-04-21T10:48:02.212Z"
   },
   {
    "duration": 39,
    "start_time": "2022-04-21T10:48:49.935Z"
   },
   {
    "duration": 43,
    "start_time": "2022-04-21T10:49:23.332Z"
   },
   {
    "duration": 9,
    "start_time": "2022-04-21T10:50:21.448Z"
   },
   {
    "duration": 3,
    "start_time": "2022-04-21T10:50:33.901Z"
   },
   {
    "duration": 318,
    "start_time": "2022-04-21T10:50:36.604Z"
   },
   {
    "duration": 446,
    "start_time": "2022-04-21T10:50:53.015Z"
   },
   {
    "duration": 230,
    "start_time": "2022-04-21T10:51:04.799Z"
   },
   {
    "duration": 220,
    "start_time": "2022-04-21T10:51:14.387Z"
   },
   {
    "duration": 10,
    "start_time": "2022-04-21T10:52:03.457Z"
   },
   {
    "duration": 11,
    "start_time": "2022-04-21T10:52:07.248Z"
   },
   {
    "duration": 6,
    "start_time": "2022-04-21T10:52:17.405Z"
   },
   {
    "duration": 4,
    "start_time": "2022-04-21T10:52:39.332Z"
   },
   {
    "duration": 5,
    "start_time": "2022-04-21T10:52:47.714Z"
   },
   {
    "duration": 8,
    "start_time": "2022-04-21T10:52:53.858Z"
   },
   {
    "duration": 10,
    "start_time": "2022-04-21T10:52:57.008Z"
   },
   {
    "duration": 1481,
    "start_time": "2022-04-21T15:37:34.814Z"
   },
   {
    "duration": 54,
    "start_time": "2022-04-21T15:37:37.703Z"
   },
   {
    "duration": 6,
    "start_time": "2022-04-21T15:37:53.147Z"
   },
   {
    "duration": 7,
    "start_time": "2022-04-21T15:37:58.314Z"
   },
   {
    "duration": 116,
    "start_time": "2022-04-21T15:38:34.071Z"
   },
   {
    "duration": 224,
    "start_time": "2022-04-21T15:38:45.113Z"
   },
   {
    "duration": 229,
    "start_time": "2022-04-21T15:39:12.815Z"
   },
   {
    "duration": 298,
    "start_time": "2022-04-21T15:40:40.332Z"
   },
   {
    "duration": 103,
    "start_time": "2022-04-21T15:44:23.503Z"
   },
   {
    "duration": 9,
    "start_time": "2022-04-21T15:45:51.225Z"
   },
   {
    "duration": 27,
    "start_time": "2022-04-21T15:46:08.017Z"
   },
   {
    "duration": 48,
    "start_time": "2022-04-21T15:46:11.127Z"
   },
   {
    "duration": 251,
    "start_time": "2022-04-21T15:46:15.606Z"
   },
   {
    "duration": 18,
    "start_time": "2022-04-21T15:46:30.509Z"
   },
   {
    "duration": 8,
    "start_time": "2022-04-21T15:46:44.432Z"
   },
   {
    "duration": 10,
    "start_time": "2022-04-21T15:46:49.927Z"
   },
   {
    "duration": 14,
    "start_time": "2022-04-21T15:47:06.954Z"
   },
   {
    "duration": 14,
    "start_time": "2022-04-21T15:47:10.225Z"
   },
   {
    "duration": 11,
    "start_time": "2022-04-21T15:47:20.266Z"
   },
   {
    "duration": 12,
    "start_time": "2022-04-21T15:47:29.453Z"
   },
   {
    "duration": 9,
    "start_time": "2022-04-21T15:47:40.650Z"
   },
   {
    "duration": 9,
    "start_time": "2022-04-21T15:47:45.100Z"
   },
   {
    "duration": 15,
    "start_time": "2022-04-21T15:47:56.577Z"
   },
   {
    "duration": 9,
    "start_time": "2022-04-21T15:47:59.884Z"
   },
   {
    "duration": 11,
    "start_time": "2022-04-21T15:48:08.936Z"
   },
   {
    "duration": 10,
    "start_time": "2022-04-21T15:48:12.591Z"
   },
   {
    "duration": 190,
    "start_time": "2022-04-21T15:48:25.754Z"
   },
   {
    "duration": 213,
    "start_time": "2022-04-21T15:48:46.005Z"
   },
   {
    "duration": 258,
    "start_time": "2022-04-21T15:49:03.700Z"
   },
   {
    "duration": 316,
    "start_time": "2022-04-21T15:49:12.247Z"
   },
   {
    "duration": 227,
    "start_time": "2022-04-21T15:49:16.455Z"
   },
   {
    "duration": 47,
    "start_time": "2022-04-21T15:56:46.168Z"
   },
   {
    "duration": 42,
    "start_time": "2022-04-21T15:56:52.260Z"
   },
   {
    "duration": 10,
    "start_time": "2022-04-21T15:57:55.141Z"
   },
   {
    "duration": 136,
    "start_time": "2022-04-21T15:58:06.921Z"
   },
   {
    "duration": 136,
    "start_time": "2022-04-21T15:59:10.273Z"
   },
   {
    "duration": 482,
    "start_time": "2022-04-21T15:59:31.686Z"
   },
   {
    "duration": 1803,
    "start_time": "2022-04-21T16:01:46.299Z"
   },
   {
    "duration": 2052,
    "start_time": "2022-04-21T16:02:33.091Z"
   },
   {
    "duration": 143,
    "start_time": "2022-04-21T16:03:07.450Z"
   },
   {
    "duration": 143,
    "start_time": "2022-04-21T16:03:51.086Z"
   },
   {
    "duration": 4,
    "start_time": "2022-04-21T16:04:16.816Z"
   },
   {
    "duration": 143,
    "start_time": "2022-04-21T16:04:43.966Z"
   },
   {
    "duration": 135,
    "start_time": "2022-04-21T16:04:55.855Z"
   },
   {
    "duration": 145,
    "start_time": "2022-04-21T16:05:37.331Z"
   },
   {
    "duration": 239,
    "start_time": "2022-04-21T16:05:41.026Z"
   },
   {
    "duration": 2058,
    "start_time": "2022-04-21T16:05:52.392Z"
   },
   {
    "duration": 135,
    "start_time": "2022-04-21T16:05:58.328Z"
   },
   {
    "duration": 134,
    "start_time": "2022-04-21T16:06:24.722Z"
   },
   {
    "duration": 138,
    "start_time": "2022-04-21T16:06:29.857Z"
   },
   {
    "duration": 140,
    "start_time": "2022-04-21T16:07:22.282Z"
   },
   {
    "duration": 135,
    "start_time": "2022-04-21T16:07:29.195Z"
   },
   {
    "duration": 93,
    "start_time": "2022-04-21T16:10:22.816Z"
   },
   {
    "duration": 301,
    "start_time": "2022-04-21T16:10:26.454Z"
   },
   {
    "duration": 314,
    "start_time": "2022-04-21T16:11:08.161Z"
   },
   {
    "duration": 228,
    "start_time": "2022-04-21T16:12:08.090Z"
   },
   {
    "duration": 160,
    "start_time": "2022-04-21T16:12:32.454Z"
   },
   {
    "duration": 294,
    "start_time": "2022-04-21T16:12:50.262Z"
   },
   {
    "duration": 605,
    "start_time": "2022-04-21T16:13:28.272Z"
   },
   {
    "duration": 478,
    "start_time": "2022-04-21T16:14:28.048Z"
   },
   {
    "duration": 913,
    "start_time": "2022-04-21T16:14:51.085Z"
   },
   {
    "duration": 331,
    "start_time": "2022-04-21T16:15:52.885Z"
   },
   {
    "duration": 328,
    "start_time": "2022-04-21T16:16:00.005Z"
   },
   {
    "duration": 1856,
    "start_time": "2022-04-21T16:16:08.719Z"
   },
   {
    "duration": 346,
    "start_time": "2022-04-21T16:16:30.076Z"
   },
   {
    "duration": 933,
    "start_time": "2022-04-21T16:16:48.788Z"
   },
   {
    "duration": 1020,
    "start_time": "2022-04-21T16:17:59.907Z"
   },
   {
    "duration": 812,
    "start_time": "2022-04-21T16:20:43.243Z"
   },
   {
    "duration": 506,
    "start_time": "2022-04-21T16:22:43.798Z"
   },
   {
    "duration": 96,
    "start_time": "2022-04-21T16:23:59.953Z"
   },
   {
    "duration": 113,
    "start_time": "2022-04-21T16:24:12.387Z"
   },
   {
    "duration": 124,
    "start_time": "2022-04-21T16:24:19.093Z"
   },
   {
    "duration": 142,
    "start_time": "2022-04-21T16:24:36.468Z"
   },
   {
    "duration": 477,
    "start_time": "2022-04-21T16:25:20.438Z"
   },
   {
    "duration": 13,
    "start_time": "2022-04-21T16:25:59.368Z"
   },
   {
    "duration": 310,
    "start_time": "2022-04-21T16:43:59.736Z"
   },
   {
    "duration": 294,
    "start_time": "2022-04-21T16:45:17.939Z"
   },
   {
    "duration": 3,
    "start_time": "2022-04-21T16:50:46.546Z"
   },
   {
    "duration": 43,
    "start_time": "2022-04-21T16:50:46.551Z"
   },
   {
    "duration": 287,
    "start_time": "2022-04-21T16:50:49.462Z"
   },
   {
    "duration": 311,
    "start_time": "2022-04-21T16:50:57.163Z"
   },
   {
    "duration": 303,
    "start_time": "2022-04-21T16:51:50.206Z"
   },
   {
    "duration": 163,
    "start_time": "2022-04-21T16:52:37.383Z"
   },
   {
    "duration": 322,
    "start_time": "2022-04-21T16:54:00.490Z"
   },
   {
    "duration": 259,
    "start_time": "2022-04-21T16:55:46.928Z"
   },
   {
    "duration": 280,
    "start_time": "2022-04-21T16:56:10.578Z"
   },
   {
    "duration": 275,
    "start_time": "2022-04-21T16:56:45.839Z"
   },
   {
    "duration": 8,
    "start_time": "2022-04-21T16:59:33.100Z"
   },
   {
    "duration": 7,
    "start_time": "2022-04-21T16:59:50.836Z"
   },
   {
    "duration": 8,
    "start_time": "2022-04-21T17:00:12.709Z"
   },
   {
    "duration": 336,
    "start_time": "2022-04-21T17:00:32.842Z"
   },
   {
    "duration": 339,
    "start_time": "2022-04-21T17:19:39.008Z"
   },
   {
    "duration": 519,
    "start_time": "2022-04-21T17:20:12.831Z"
   },
   {
    "duration": 620,
    "start_time": "2022-04-21T17:23:57.650Z"
   },
   {
    "duration": 505,
    "start_time": "2022-04-21T17:24:30.204Z"
   },
   {
    "duration": 486,
    "start_time": "2022-04-21T17:24:50.030Z"
   },
   {
    "duration": 601,
    "start_time": "2022-04-21T17:25:23.239Z"
   },
   {
    "duration": 525,
    "start_time": "2022-04-21T17:25:40.811Z"
   },
   {
    "duration": 509,
    "start_time": "2022-04-21T17:27:06.829Z"
   },
   {
    "duration": 46,
    "start_time": "2022-04-21T17:36:14.418Z"
   },
   {
    "duration": 520,
    "start_time": "2022-04-21T17:36:17.958Z"
   },
   {
    "duration": 629,
    "start_time": "2022-04-21T17:37:49.212Z"
   },
   {
    "duration": 497,
    "start_time": "2022-04-21T17:38:07.840Z"
   },
   {
    "duration": 480,
    "start_time": "2022-04-21T17:38:43.549Z"
   },
   {
    "duration": 516,
    "start_time": "2022-04-21T17:39:20.634Z"
   },
   {
    "duration": 442,
    "start_time": "2022-04-21T17:39:38.443Z"
   },
   {
    "duration": 608,
    "start_time": "2022-04-21T17:39:55.294Z"
   },
   {
    "duration": 507,
    "start_time": "2022-04-21T17:40:24.388Z"
   },
   {
    "duration": 704,
    "start_time": "2022-04-21T17:51:25.360Z"
   },
   {
    "duration": 259,
    "start_time": "2022-04-21T17:53:09.070Z"
   },
   {
    "duration": 229,
    "start_time": "2022-04-21T17:53:23.263Z"
   },
   {
    "duration": 226,
    "start_time": "2022-04-21T17:53:33.346Z"
   },
   {
    "duration": 218,
    "start_time": "2022-04-21T17:53:43.914Z"
   },
   {
    "duration": 227,
    "start_time": "2022-04-21T17:53:50.313Z"
   },
   {
    "duration": 369,
    "start_time": "2022-04-21T17:54:36.933Z"
   },
   {
    "duration": 580,
    "start_time": "2022-04-21T17:57:46.309Z"
   },
   {
    "duration": 434,
    "start_time": "2022-04-21T17:58:29.416Z"
   },
   {
    "duration": 394,
    "start_time": "2022-04-21T17:59:01.325Z"
   },
   {
    "duration": 545,
    "start_time": "2022-04-21T17:59:27.399Z"
   },
   {
    "duration": 619,
    "start_time": "2022-04-21T17:59:53.195Z"
   },
   {
    "duration": 615,
    "start_time": "2022-04-21T18:00:40.683Z"
   },
   {
    "duration": 586,
    "start_time": "2022-04-21T18:00:58.187Z"
   },
   {
    "duration": 749,
    "start_time": "2022-04-21T18:01:35.753Z"
   },
   {
    "duration": 614,
    "start_time": "2022-04-21T18:03:23.429Z"
   },
   {
    "duration": 849,
    "start_time": "2022-04-21T18:04:41.242Z"
   },
   {
    "duration": 882,
    "start_time": "2022-04-21T18:04:59.848Z"
   },
   {
    "duration": 890,
    "start_time": "2022-04-21T18:05:21.046Z"
   },
   {
    "duration": 304,
    "start_time": "2022-04-21T18:06:24.811Z"
   },
   {
    "duration": 462,
    "start_time": "2022-04-21T18:06:40.354Z"
   },
   {
    "duration": 279,
    "start_time": "2022-04-21T18:06:54.738Z"
   },
   {
    "duration": 12,
    "start_time": "2022-04-21T18:54:18.428Z"
   },
   {
    "duration": 13,
    "start_time": "2022-04-21T18:54:25.322Z"
   },
   {
    "duration": 15,
    "start_time": "2022-04-21T18:54:32.556Z"
   },
   {
    "duration": 13,
    "start_time": "2022-04-21T18:56:11.118Z"
   },
   {
    "duration": 13,
    "start_time": "2022-04-21T18:56:19.947Z"
   },
   {
    "duration": 64,
    "start_time": "2022-04-21T18:56:36.638Z"
   },
   {
    "duration": 51,
    "start_time": "2022-04-21T18:58:35.083Z"
   },
   {
    "duration": 10,
    "start_time": "2022-04-21T19:01:39.557Z"
   },
   {
    "duration": 34,
    "start_time": "2022-04-21T19:01:47.603Z"
   },
   {
    "duration": 15,
    "start_time": "2022-04-22T06:19:19.016Z"
   },
   {
    "duration": 72,
    "start_time": "2022-04-22T06:19:54.625Z"
   },
   {
    "duration": 3366,
    "start_time": "2022-04-22T06:20:31.702Z"
   },
   {
    "duration": 222,
    "start_time": "2022-04-22T06:20:35.920Z"
   },
   {
    "duration": 98,
    "start_time": "2022-04-22T06:21:26.794Z"
   },
   {
    "duration": 26,
    "start_time": "2022-04-22T06:21:33.108Z"
   },
   {
    "duration": 6,
    "start_time": "2022-04-22T06:21:38.081Z"
   },
   {
    "duration": 89,
    "start_time": "2022-04-22T06:21:38.090Z"
   },
   {
    "duration": 888,
    "start_time": "2022-04-22T06:21:38.181Z"
   },
   {
    "duration": 17,
    "start_time": "2022-04-22T06:21:39.072Z"
   },
   {
    "duration": 0,
    "start_time": "2022-04-22T06:21:39.091Z"
   },
   {
    "duration": 0,
    "start_time": "2022-04-22T06:21:39.093Z"
   },
   {
    "duration": 0,
    "start_time": "2022-04-22T06:21:39.094Z"
   },
   {
    "duration": 0,
    "start_time": "2022-04-22T06:21:39.095Z"
   },
   {
    "duration": 14,
    "start_time": "2022-04-22T06:21:42.078Z"
   },
   {
    "duration": 15,
    "start_time": "2022-04-22T06:21:57.987Z"
   },
   {
    "duration": 28,
    "start_time": "2022-04-22T06:22:06.251Z"
   },
   {
    "duration": 5,
    "start_time": "2022-04-22T06:22:12.544Z"
   },
   {
    "duration": 15,
    "start_time": "2022-04-22T06:22:15.591Z"
   },
   {
    "duration": 6,
    "start_time": "2022-04-22T06:22:39.234Z"
   },
   {
    "duration": 9,
    "start_time": "2022-04-22T06:22:43.679Z"
   },
   {
    "duration": 161,
    "start_time": "2022-04-22T06:24:25.679Z"
   },
   {
    "duration": 212,
    "start_time": "2022-04-22T06:25:08.415Z"
   },
   {
    "duration": 6,
    "start_time": "2022-04-22T06:25:39.891Z"
   },
   {
    "duration": 63,
    "start_time": "2022-04-22T06:25:39.899Z"
   },
   {
    "duration": 895,
    "start_time": "2022-04-22T06:25:39.965Z"
   },
   {
    "duration": 14,
    "start_time": "2022-04-22T06:25:40.863Z"
   },
   {
    "duration": 0,
    "start_time": "2022-04-22T06:25:40.879Z"
   },
   {
    "duration": 0,
    "start_time": "2022-04-22T06:25:40.881Z"
   },
   {
    "duration": 0,
    "start_time": "2022-04-22T06:25:40.883Z"
   },
   {
    "duration": 0,
    "start_time": "2022-04-22T06:25:40.885Z"
   },
   {
    "duration": 0,
    "start_time": "2022-04-22T06:25:40.886Z"
   },
   {
    "duration": 6,
    "start_time": "2022-04-22T06:26:40.196Z"
   },
   {
    "duration": 65,
    "start_time": "2022-04-22T06:26:40.204Z"
   },
   {
    "duration": 821,
    "start_time": "2022-04-22T06:26:40.271Z"
   },
   {
    "duration": 4,
    "start_time": "2022-04-22T06:26:41.096Z"
   },
   {
    "duration": 1464,
    "start_time": "2022-04-22T06:26:41.103Z"
   },
   {
    "duration": 216,
    "start_time": "2022-04-22T06:26:42.569Z"
   },
   {
    "duration": 64,
    "start_time": "2022-04-22T06:26:42.787Z"
   },
   {
    "duration": 4,
    "start_time": "2022-04-22T06:26:42.854Z"
   },
   {
    "duration": 25,
    "start_time": "2022-04-22T06:26:42.861Z"
   },
   {
    "duration": 95,
    "start_time": "2022-04-22T06:26:48.133Z"
   },
   {
    "duration": 20,
    "start_time": "2022-04-22T06:28:23.118Z"
   },
   {
    "duration": 19,
    "start_time": "2022-04-22T06:28:36.559Z"
   },
   {
    "duration": 7310,
    "start_time": "2022-04-22T06:28:56.005Z"
   },
   {
    "duration": 7120,
    "start_time": "2022-04-22T06:29:10.134Z"
   },
   {
    "duration": 4,
    "start_time": "2022-04-22T06:33:08.221Z"
   },
   {
    "duration": 1377,
    "start_time": "2022-04-22T06:34:02.853Z"
   },
   {
    "duration": 1479,
    "start_time": "2022-04-22T06:34:15.746Z"
   },
   {
    "duration": 1809,
    "start_time": "2022-04-22T06:34:21.820Z"
   },
   {
    "duration": 1370,
    "start_time": "2022-04-22T06:34:28.273Z"
   },
   {
    "duration": 2289,
    "start_time": "2022-04-22T06:34:38.536Z"
   },
   {
    "duration": 1712,
    "start_time": "2022-04-22T06:34:46.024Z"
   },
   {
    "duration": 26,
    "start_time": "2022-04-22T06:39:43.032Z"
   },
   {
    "duration": 4,
    "start_time": "2022-04-22T06:40:49.798Z"
   },
   {
    "duration": 9,
    "start_time": "2022-04-22T06:41:24.056Z"
   },
   {
    "duration": 16,
    "start_time": "2022-04-22T06:41:26.414Z"
   },
   {
    "duration": 4355,
    "start_time": "2022-04-22T06:41:34.078Z"
   },
   {
    "duration": 23,
    "start_time": "2022-04-22T06:41:47.038Z"
   },
   {
    "duration": 15,
    "start_time": "2022-04-22T06:41:58.100Z"
   },
   {
    "duration": 17,
    "start_time": "2022-04-22T06:42:08.146Z"
   },
   {
    "duration": 6,
    "start_time": "2022-04-22T06:42:45.012Z"
   },
   {
    "duration": 82,
    "start_time": "2022-04-22T06:42:45.020Z"
   },
   {
    "duration": 883,
    "start_time": "2022-04-22T06:42:45.105Z"
   },
   {
    "duration": 3,
    "start_time": "2022-04-22T06:42:45.991Z"
   },
   {
    "duration": 1398,
    "start_time": "2022-04-22T06:42:45.997Z"
   },
   {
    "duration": 96,
    "start_time": "2022-04-22T06:42:47.397Z"
   },
   {
    "duration": 63,
    "start_time": "2022-04-22T06:42:47.495Z"
   },
   {
    "duration": 4,
    "start_time": "2022-04-22T06:42:47.560Z"
   },
   {
    "duration": 14,
    "start_time": "2022-04-22T06:42:47.566Z"
   },
   {
    "duration": 42,
    "start_time": "2022-04-22T06:42:47.583Z"
   },
   {
    "duration": 6862,
    "start_time": "2022-04-22T06:42:47.627Z"
   },
   {
    "duration": 1253,
    "start_time": "2022-04-22T06:42:54.491Z"
   },
   {
    "duration": 17,
    "start_time": "2022-04-22T06:42:55.826Z"
   },
   {
    "duration": 18,
    "start_time": "2022-04-22T06:43:04.853Z"
   },
   {
    "duration": 17,
    "start_time": "2022-04-22T06:43:12.432Z"
   },
   {
    "duration": 16,
    "start_time": "2022-04-22T06:43:18.908Z"
   },
   {
    "duration": 672,
    "start_time": "2022-04-22T07:04:00.761Z"
   },
   {
    "duration": 6,
    "start_time": "2022-04-22T07:04:17.453Z"
   },
   {
    "duration": 71,
    "start_time": "2022-04-22T07:04:17.462Z"
   },
   {
    "duration": 220,
    "start_time": "2022-04-22T07:04:20.914Z"
   },
   {
    "duration": 432,
    "start_time": "2022-04-22T07:06:41.119Z"
   },
   {
    "duration": 261,
    "start_time": "2022-04-22T07:15:56.732Z"
   },
   {
    "duration": 2066,
    "start_time": "2022-04-22T07:57:10.637Z"
   },
   {
    "duration": 68,
    "start_time": "2022-04-22T07:57:12.706Z"
   },
   {
    "duration": 251,
    "start_time": "2022-04-22T07:57:12.776Z"
   },
   {
    "duration": 330,
    "start_time": "2022-04-22T07:57:13.030Z"
   },
   {
    "duration": 270,
    "start_time": "2022-04-22T07:57:13.363Z"
   },
   {
    "duration": 3,
    "start_time": "2022-04-22T07:57:13.635Z"
   },
   {
    "duration": 1515,
    "start_time": "2022-04-22T07:57:13.640Z"
   },
   {
    "duration": 99,
    "start_time": "2022-04-22T07:57:15.158Z"
   },
   {
    "duration": 73,
    "start_time": "2022-04-22T07:57:15.259Z"
   },
   {
    "duration": 4,
    "start_time": "2022-04-22T07:57:15.336Z"
   },
   {
    "duration": 33,
    "start_time": "2022-04-22T07:57:15.342Z"
   },
   {
    "duration": 44,
    "start_time": "2022-04-22T07:57:15.379Z"
   },
   {
    "duration": 7098,
    "start_time": "2022-04-22T07:57:15.426Z"
   },
   {
    "duration": 1400,
    "start_time": "2022-04-22T07:57:22.526Z"
   },
   {
    "duration": 16,
    "start_time": "2022-04-22T07:57:23.928Z"
   },
   {
    "duration": 1418,
    "start_time": "2022-04-22T08:08:03.775Z"
   },
   {
    "duration": 5,
    "start_time": "2022-04-22T08:08:12.661Z"
   },
   {
    "duration": 90,
    "start_time": "2022-04-22T08:08:12.669Z"
   },
   {
    "duration": 229,
    "start_time": "2022-04-22T08:08:12.762Z"
   },
   {
    "duration": 465,
    "start_time": "2022-04-22T08:08:12.993Z"
   },
   {
    "duration": 375,
    "start_time": "2022-04-22T08:08:13.461Z"
   },
   {
    "duration": 792,
    "start_time": "2022-04-22T08:08:36.052Z"
   },
   {
    "duration": 601,
    "start_time": "2022-04-22T08:09:22.656Z"
   },
   {
    "duration": 287,
    "start_time": "2022-04-22T08:10:54.559Z"
   },
   {
    "duration": 394,
    "start_time": "2022-04-22T08:11:03.398Z"
   },
   {
    "duration": 339,
    "start_time": "2022-04-22T08:11:17.750Z"
   },
   {
    "duration": 6,
    "start_time": "2022-04-22T08:11:25.419Z"
   },
   {
    "duration": 65,
    "start_time": "2022-04-22T08:11:25.493Z"
   },
   {
    "duration": 275,
    "start_time": "2022-04-22T08:11:25.561Z"
   },
   {
    "duration": 389,
    "start_time": "2022-04-22T08:11:25.839Z"
   },
   {
    "duration": 322,
    "start_time": "2022-04-22T08:11:26.230Z"
   },
   {
    "duration": 520,
    "start_time": "2022-04-22T08:11:30.720Z"
   },
   {
    "duration": 177,
    "start_time": "2022-04-22T08:14:46.632Z"
   },
   {
    "duration": 6,
    "start_time": "2022-04-22T08:14:55.057Z"
   },
   {
    "duration": 85,
    "start_time": "2022-04-22T08:14:55.066Z"
   },
   {
    "duration": 275,
    "start_time": "2022-04-22T08:14:55.224Z"
   },
   {
    "duration": 578,
    "start_time": "2022-04-22T08:14:55.501Z"
   },
   {
    "duration": 468,
    "start_time": "2022-04-22T08:14:56.082Z"
   },
   {
    "duration": 764,
    "start_time": "2022-04-22T08:14:56.553Z"
   },
   {
    "duration": 20,
    "start_time": "2022-04-22T08:15:08.080Z"
   },
   {
    "duration": 18,
    "start_time": "2022-04-22T08:15:37.435Z"
   },
   {
    "duration": 17,
    "start_time": "2022-04-22T08:15:42.986Z"
   },
   {
    "duration": 6,
    "start_time": "2022-04-22T08:16:05.398Z"
   },
   {
    "duration": 59,
    "start_time": "2022-04-22T08:16:05.534Z"
   },
   {
    "duration": 269,
    "start_time": "2022-04-22T08:16:05.597Z"
   },
   {
    "duration": 414,
    "start_time": "2022-04-22T08:16:06.334Z"
   },
   {
    "duration": 336,
    "start_time": "2022-04-22T08:16:06.751Z"
   },
   {
    "duration": 756,
    "start_time": "2022-04-22T08:16:07.090Z"
   },
   {
    "duration": 19,
    "start_time": "2022-04-22T08:16:12.357Z"
   },
   {
    "duration": 24,
    "start_time": "2022-04-22T08:16:48.659Z"
   },
   {
    "duration": 17,
    "start_time": "2022-04-22T08:17:31.258Z"
   },
   {
    "duration": 12,
    "start_time": "2022-04-22T08:18:15.561Z"
   },
   {
    "duration": 18,
    "start_time": "2022-04-22T08:18:45.398Z"
   },
   {
    "duration": 542,
    "start_time": "2022-04-22T08:21:26.022Z"
   },
   {
    "duration": 10,
    "start_time": "2022-04-22T08:21:36.896Z"
   },
   {
    "duration": 20,
    "start_time": "2022-04-22T08:23:07.186Z"
   },
   {
    "duration": 39,
    "start_time": "2022-04-22T08:23:13.093Z"
   },
   {
    "duration": 39,
    "start_time": "2022-04-22T08:23:34.436Z"
   },
   {
    "duration": 9,
    "start_time": "2022-04-22T08:23:47.358Z"
   },
   {
    "duration": 106,
    "start_time": "2022-04-22T08:23:47.377Z"
   },
   {
    "duration": 426,
    "start_time": "2022-04-22T08:23:47.488Z"
   },
   {
    "duration": 512,
    "start_time": "2022-04-22T08:23:47.917Z"
   },
   {
    "duration": 463,
    "start_time": "2022-04-22T08:23:48.433Z"
   },
   {
    "duration": 728,
    "start_time": "2022-04-22T08:23:48.898Z"
   },
   {
    "duration": 38,
    "start_time": "2022-04-22T08:24:10.881Z"
   },
   {
    "duration": 5,
    "start_time": "2022-04-22T08:24:35.223Z"
   },
   {
    "duration": 34,
    "start_time": "2022-04-22T08:24:41.718Z"
   },
   {
    "duration": 33,
    "start_time": "2022-04-22T08:25:56.522Z"
   },
   {
    "duration": 32,
    "start_time": "2022-04-22T08:26:08.499Z"
   },
   {
    "duration": 31,
    "start_time": "2022-04-22T08:26:14.622Z"
   },
   {
    "duration": 17,
    "start_time": "2022-04-22T08:28:21.812Z"
   },
   {
    "duration": 9,
    "start_time": "2022-04-22T08:28:31.133Z"
   },
   {
    "duration": 33,
    "start_time": "2022-04-22T08:28:49.910Z"
   },
   {
    "duration": 18,
    "start_time": "2022-04-22T08:31:17.714Z"
   },
   {
    "duration": 25,
    "start_time": "2022-04-22T08:31:29.389Z"
   },
   {
    "duration": 50,
    "start_time": "2022-04-22T08:31:35.373Z"
   },
   {
    "duration": 17,
    "start_time": "2022-04-22T08:32:33.597Z"
   },
   {
    "duration": 352,
    "start_time": "2022-04-22T08:33:03.827Z"
   },
   {
    "duration": 458,
    "start_time": "2022-04-22T08:34:30.314Z"
   },
   {
    "duration": 512,
    "start_time": "2022-04-22T08:34:41.620Z"
   },
   {
    "duration": 515,
    "start_time": "2022-04-22T08:34:57.638Z"
   },
   {
    "duration": 660,
    "start_time": "2022-04-22T08:36:21.024Z"
   },
   {
    "duration": 355,
    "start_time": "2022-04-22T08:36:45.074Z"
   },
   {
    "duration": 509,
    "start_time": "2022-04-22T08:37:00.175Z"
   },
   {
    "duration": 827,
    "start_time": "2022-04-22T08:37:15.120Z"
   },
   {
    "duration": 162,
    "start_time": "2022-04-22T08:39:14.978Z"
   },
   {
    "duration": 172,
    "start_time": "2022-04-22T08:39:28.416Z"
   },
   {
    "duration": 3125,
    "start_time": "2022-04-22T08:39:55.582Z"
   },
   {
    "duration": 1080,
    "start_time": "2022-04-22T08:41:32.635Z"
   },
   {
    "duration": 956,
    "start_time": "2022-04-22T08:42:14.039Z"
   },
   {
    "duration": 2053,
    "start_time": "2022-04-22T08:42:38.496Z"
   },
   {
    "duration": 147,
    "start_time": "2022-04-22T08:43:04.317Z"
   },
   {
    "duration": 177,
    "start_time": "2022-04-22T08:43:15.897Z"
   },
   {
    "duration": 143,
    "start_time": "2022-04-22T08:43:30.797Z"
   },
   {
    "duration": 377,
    "start_time": "2022-04-22T08:43:34.236Z"
   },
   {
    "duration": 769,
    "start_time": "2022-04-22T08:43:47.396Z"
   },
   {
    "duration": 27,
    "start_time": "2022-04-22T08:47:27.420Z"
   },
   {
    "duration": 535,
    "start_time": "2022-04-22T08:48:01.998Z"
   },
   {
    "duration": 672,
    "start_time": "2022-04-22T08:48:28.419Z"
   },
   {
    "duration": 596,
    "start_time": "2022-04-22T08:49:04.897Z"
   },
   {
    "duration": 618,
    "start_time": "2022-04-22T08:51:30.796Z"
   },
   {
    "duration": 508,
    "start_time": "2022-04-22T08:51:41.055Z"
   },
   {
    "duration": 281,
    "start_time": "2022-04-22T08:52:13.470Z"
   },
   {
    "duration": 543,
    "start_time": "2022-04-22T08:52:39.355Z"
   },
   {
    "duration": 661,
    "start_time": "2022-04-22T08:52:57.705Z"
   },
   {
    "duration": 690,
    "start_time": "2022-04-22T08:53:42.757Z"
   },
   {
    "duration": 93,
    "start_time": "2022-04-22T08:55:05.102Z"
   },
   {
    "duration": 58,
    "start_time": "2022-04-22T08:55:08.669Z"
   },
   {
    "duration": 4,
    "start_time": "2022-04-22T08:55:37.104Z"
   },
   {
    "duration": 9,
    "start_time": "2022-04-22T08:55:44.292Z"
   },
   {
    "duration": 43,
    "start_time": "2022-04-22T08:55:51.479Z"
   },
   {
    "duration": 8596,
    "start_time": "2022-04-22T08:56:02.587Z"
   },
   {
    "duration": 147424,
    "start_time": "2022-04-22T08:56:25.612Z"
   },
   {
    "duration": 0,
    "start_time": "2022-04-22T08:58:53.135Z"
   },
   {
    "duration": 2734,
    "start_time": "2022-04-22T08:58:58.117Z"
   },
   {
    "duration": 6,
    "start_time": "2022-04-22T09:00:08.266Z"
   },
   {
    "duration": 64,
    "start_time": "2022-04-22T09:00:08.308Z"
   },
   {
    "duration": 271,
    "start_time": "2022-04-22T09:00:08.375Z"
   },
   {
    "duration": 380,
    "start_time": "2022-04-22T09:00:08.648Z"
   },
   {
    "duration": 467,
    "start_time": "2022-04-22T09:00:09.031Z"
   },
   {
    "duration": 528,
    "start_time": "2022-04-22T09:00:09.500Z"
   },
   {
    "duration": 608,
    "start_time": "2022-04-22T09:00:21.097Z"
   },
   {
    "duration": 500,
    "start_time": "2022-04-22T09:00:35.114Z"
   },
   {
    "duration": 444,
    "start_time": "2022-04-22T09:00:47.856Z"
   },
   {
    "duration": 696,
    "start_time": "2022-04-22T09:00:59.138Z"
   },
   {
    "duration": 94,
    "start_time": "2022-04-22T09:01:04.184Z"
   },
   {
    "duration": 59,
    "start_time": "2022-04-22T09:01:07.902Z"
   },
   {
    "duration": 4,
    "start_time": "2022-04-22T09:01:12.135Z"
   },
   {
    "duration": 10,
    "start_time": "2022-04-22T09:01:14.421Z"
   },
   {
    "duration": 21,
    "start_time": "2022-04-22T09:01:47.709Z"
   },
   {
    "duration": 9020,
    "start_time": "2022-04-22T09:02:02.425Z"
   },
   {
    "duration": 74545,
    "start_time": "2022-04-22T09:02:46.999Z"
   },
   {
    "duration": 2826,
    "start_time": "2022-04-22T09:04:11.959Z"
   },
   {
    "duration": 70,
    "start_time": "2022-04-22T09:04:14.788Z"
   },
   {
    "duration": 286,
    "start_time": "2022-04-22T09:04:14.860Z"
   },
   {
    "duration": 367,
    "start_time": "2022-04-22T09:04:15.150Z"
   },
   {
    "duration": 304,
    "start_time": "2022-04-22T09:04:15.520Z"
   },
   {
    "duration": 735,
    "start_time": "2022-04-22T09:04:15.826Z"
   },
   {
    "duration": 493,
    "start_time": "2022-04-22T09:04:16.564Z"
   },
   {
    "duration": 533,
    "start_time": "2022-04-22T09:04:17.059Z"
   },
   {
    "duration": 396,
    "start_time": "2022-04-22T09:04:17.594Z"
   },
   {
    "duration": 473,
    "start_time": "2022-04-22T09:04:17.993Z"
   },
   {
    "duration": 209,
    "start_time": "2022-04-22T09:04:18.468Z"
   },
   {
    "duration": 63,
    "start_time": "2022-04-22T09:04:18.679Z"
   },
   {
    "duration": 4,
    "start_time": "2022-04-22T09:04:18.744Z"
   },
   {
    "duration": 13,
    "start_time": "2022-04-22T09:04:18.750Z"
   },
   {
    "duration": 63,
    "start_time": "2022-04-22T09:04:18.765Z"
   },
   {
    "duration": 8719,
    "start_time": "2022-04-22T09:04:18.830Z"
   },
   {
    "duration": 79187,
    "start_time": "2022-04-22T09:04:27.552Z"
   },
   {
    "duration": 89,
    "start_time": "2022-04-22T09:05:46.741Z"
   },
   {
    "duration": 64,
    "start_time": "2022-04-22T19:18:36.927Z"
   },
   {
    "duration": 7,
    "start_time": "2022-04-22T19:18:49.053Z"
   },
   {
    "duration": 1886,
    "start_time": "2022-04-22T19:18:52.712Z"
   },
   {
    "duration": 73,
    "start_time": "2022-04-22T19:18:54.600Z"
   },
   {
    "duration": 206,
    "start_time": "2022-04-22T19:18:54.674Z"
   },
   {
    "duration": 253,
    "start_time": "2022-04-22T19:18:54.884Z"
   },
   {
    "duration": 215,
    "start_time": "2022-04-22T19:18:55.140Z"
   },
   {
    "duration": 476,
    "start_time": "2022-04-22T19:18:55.357Z"
   },
   {
    "duration": 369,
    "start_time": "2022-04-22T19:18:55.837Z"
   },
   {
    "duration": 13,
    "start_time": "2022-04-22T19:18:59.930Z"
   },
   {
    "duration": 258,
    "start_time": "2022-04-22T19:23:45.979Z"
   },
   {
    "duration": 153,
    "start_time": "2022-04-22T19:25:53.083Z"
   },
   {
    "duration": 244,
    "start_time": "2022-04-22T19:30:31.292Z"
   },
   {
    "duration": 365,
    "start_time": "2022-04-22T19:35:20.053Z"
   },
   {
    "duration": 342,
    "start_time": "2022-04-22T19:35:30.569Z"
   },
   {
    "duration": 4,
    "start_time": "2022-04-22T19:35:38.961Z"
   },
   {
    "duration": 52,
    "start_time": "2022-04-22T19:35:38.976Z"
   },
   {
    "duration": 177,
    "start_time": "2022-04-22T19:35:39.030Z"
   },
   {
    "duration": 271,
    "start_time": "2022-04-22T19:35:39.209Z"
   },
   {
    "duration": 229,
    "start_time": "2022-04-22T19:35:39.483Z"
   },
   {
    "duration": 471,
    "start_time": "2022-04-22T19:35:39.714Z"
   },
   {
    "duration": 375,
    "start_time": "2022-04-22T19:35:40.187Z"
   },
   {
    "duration": 284,
    "start_time": "2022-04-22T19:35:40.564Z"
   },
   {
    "duration": 275,
    "start_time": "2022-04-22T19:35:40.850Z"
   },
   {
    "duration": 341,
    "start_time": "2022-04-22T19:35:41.128Z"
   },
   {
    "duration": 83,
    "start_time": "2022-04-22T19:35:41.471Z"
   },
   {
    "duration": 40,
    "start_time": "2022-04-22T19:35:41.556Z"
   },
   {
    "duration": 3,
    "start_time": "2022-04-22T19:35:41.598Z"
   },
   {
    "duration": 61,
    "start_time": "2022-04-22T19:35:41.602Z"
   },
   {
    "duration": 42,
    "start_time": "2022-04-22T19:35:41.665Z"
   },
   {
    "duration": 98921,
    "start_time": "2022-04-22T19:35:48.679Z"
   },
   {
    "duration": 2452,
    "start_time": "2022-04-22T19:38:25.060Z"
   },
   {
    "duration": 3605,
    "start_time": "2022-04-22T19:38:49.408Z"
   },
   {
    "duration": 176752,
    "start_time": "2022-04-22T19:39:20.652Z"
   },
   {
    "duration": 1688,
    "start_time": "2022-04-22T19:42:39.178Z"
   },
   {
    "duration": 1582,
    "start_time": "2022-04-22T19:42:58.234Z"
   },
   {
    "duration": 1454,
    "start_time": "2022-04-22T19:43:06.748Z"
   },
   {
    "duration": 382171,
    "start_time": "2022-04-22T19:45:12.601Z"
   },
   {
    "duration": 12211972,
    "start_time": "2022-04-22T19:51:50.177Z"
   },
   {
    "duration": 1892,
    "start_time": "2022-04-23T04:31:47.191Z"
   },
   {
    "duration": 69,
    "start_time": "2022-04-23T04:31:49.085Z"
   },
   {
    "duration": 177,
    "start_time": "2022-04-23T04:31:49.156Z"
   },
   {
    "duration": 235,
    "start_time": "2022-04-23T04:31:49.335Z"
   },
   {
    "duration": 194,
    "start_time": "2022-04-23T04:31:49.572Z"
   },
   {
    "duration": 430,
    "start_time": "2022-04-23T04:31:49.768Z"
   },
   {
    "duration": 340,
    "start_time": "2022-04-23T04:31:50.201Z"
   },
   {
    "duration": 259,
    "start_time": "2022-04-23T04:31:50.543Z"
   },
   {
    "duration": 271,
    "start_time": "2022-04-23T04:31:50.805Z"
   },
   {
    "duration": 308,
    "start_time": "2022-04-23T04:31:51.079Z"
   },
   {
    "duration": 71,
    "start_time": "2022-04-23T04:31:51.389Z"
   },
   {
    "duration": 51,
    "start_time": "2022-04-23T04:31:51.461Z"
   },
   {
    "duration": 3,
    "start_time": "2022-04-23T04:31:51.513Z"
   },
   {
    "duration": 7,
    "start_time": "2022-04-23T04:31:51.518Z"
   },
   {
    "duration": 73,
    "start_time": "2022-04-23T04:31:51.526Z"
   },
   {
    "duration": 99,
    "start_time": "2022-04-23T04:31:51.606Z"
   },
   {
    "duration": 1350,
    "start_time": "2022-04-23T04:31:51.707Z"
   },
   {
    "duration": 6,
    "start_time": "2022-04-23T04:31:53.058Z"
   },
   {
    "duration": 1935,
    "start_time": "2022-04-23T04:31:53.066Z"
   },
   {
    "duration": 14,
    "start_time": "2022-04-23T04:31:55.005Z"
   },
   {
    "duration": 454,
    "start_time": "2022-04-23T04:32:49.139Z"
   },
   {
    "duration": 884,
    "start_time": "2022-04-23T04:33:00.113Z"
   },
   {
    "duration": 643,
    "start_time": "2022-04-23T04:33:05.964Z"
   },
   {
    "duration": 411,
    "start_time": "2022-04-23T04:33:10.989Z"
   },
   {
    "duration": 431,
    "start_time": "2022-04-23T04:33:16.866Z"
   },
   {
    "duration": 296,
    "start_time": "2022-04-23T04:33:22.806Z"
   },
   {
    "duration": 211,
    "start_time": "2022-04-23T04:33:28.396Z"
   },
   {
    "duration": 523,
    "start_time": "2022-04-23T04:33:33.284Z"
   },
   {
    "duration": 461,
    "start_time": "2022-04-23T04:33:40.134Z"
   },
   {
    "duration": 622,
    "start_time": "2022-04-23T04:33:46.085Z"
   },
   {
    "duration": 484,
    "start_time": "2022-04-23T04:33:50.518Z"
   },
   {
    "duration": 128,
    "start_time": "2022-04-23T04:34:03.573Z"
   },
   {
    "duration": 4,
    "start_time": "2022-04-23T04:34:25.481Z"
   },
   {
    "duration": 44,
    "start_time": "2022-04-23T04:34:25.495Z"
   },
   {
    "duration": 162,
    "start_time": "2022-04-23T04:34:25.541Z"
   },
   {
    "duration": 306,
    "start_time": "2022-04-23T04:34:25.705Z"
   },
   {
    "duration": 185,
    "start_time": "2022-04-23T04:34:26.013Z"
   },
   {
    "duration": 310,
    "start_time": "2022-04-23T04:34:26.199Z"
   },
   {
    "duration": 308,
    "start_time": "2022-04-23T04:34:26.511Z"
   },
   {
    "duration": 234,
    "start_time": "2022-04-23T04:34:26.821Z"
   },
   {
    "duration": 240,
    "start_time": "2022-04-23T04:34:27.057Z"
   },
   {
    "duration": 385,
    "start_time": "2022-04-23T04:34:27.300Z"
   },
   {
    "duration": 62,
    "start_time": "2022-04-23T04:34:27.692Z"
   },
   {
    "duration": 56,
    "start_time": "2022-04-23T04:34:27.756Z"
   },
   {
    "duration": 3,
    "start_time": "2022-04-23T04:34:27.814Z"
   },
   {
    "duration": 8,
    "start_time": "2022-04-23T04:34:27.819Z"
   },
   {
    "duration": 16,
    "start_time": "2022-04-23T04:34:27.829Z"
   },
   {
    "duration": 52,
    "start_time": "2022-04-23T04:34:27.847Z"
   },
   {
    "duration": 1284,
    "start_time": "2022-04-23T04:34:27.901Z"
   },
   {
    "duration": 5,
    "start_time": "2022-04-23T04:34:29.187Z"
   },
   {
    "duration": 607,
    "start_time": "2022-04-23T04:34:29.194Z"
   },
   {
    "duration": 11,
    "start_time": "2022-04-23T04:34:34.281Z"
   },
   {
    "duration": 2434,
    "start_time": "2022-04-24T12:26:26.634Z"
   },
   {
    "duration": 67,
    "start_time": "2022-04-24T12:26:33.160Z"
   },
   {
    "duration": 272,
    "start_time": "2022-04-24T12:26:44.274Z"
   },
   {
    "duration": 344,
    "start_time": "2022-04-24T12:26:48.702Z"
   },
   {
    "duration": 271,
    "start_time": "2022-04-24T12:26:54.842Z"
   },
   {
    "duration": 5,
    "start_time": "2022-04-24T12:27:04.869Z"
   },
   {
    "duration": 6,
    "start_time": "2022-04-24T12:28:06.651Z"
   },
   {
    "duration": 81,
    "start_time": "2022-04-24T12:28:06.670Z"
   },
   {
    "duration": 294,
    "start_time": "2022-04-24T12:28:06.754Z"
   },
   {
    "duration": 464,
    "start_time": "2022-04-24T12:28:07.050Z"
   },
   {
    "duration": 382,
    "start_time": "2022-04-24T12:28:07.518Z"
   },
   {
    "duration": 789,
    "start_time": "2022-04-24T12:28:07.904Z"
   },
   {
    "duration": 960,
    "start_time": "2022-04-24T12:28:08.697Z"
   },
   {
    "duration": 534,
    "start_time": "2022-04-24T12:28:09.660Z"
   },
   {
    "duration": 475,
    "start_time": "2022-04-24T12:28:10.197Z"
   },
   {
    "duration": 685,
    "start_time": "2022-04-24T12:28:25.143Z"
   },
   {
    "duration": 142,
    "start_time": "2022-04-24T12:28:48.503Z"
   },
   {
    "duration": 63,
    "start_time": "2022-04-24T12:29:13.006Z"
   },
   {
    "duration": 4,
    "start_time": "2022-04-24T12:29:22.581Z"
   },
   {
    "duration": 9,
    "start_time": "2022-04-24T12:29:29.579Z"
   },
   {
    "duration": 19,
    "start_time": "2022-04-24T12:29:39.670Z"
   },
   {
    "duration": 1547,
    "start_time": "2022-04-24T12:29:58.183Z"
   },
   {
    "duration": 171112,
    "start_time": "2022-04-24T12:30:06.480Z"
   },
   {
    "duration": 337,
    "start_time": "2022-04-24T12:36:22.912Z"
   },
   {
    "duration": 6,
    "start_time": "2022-04-24T12:36:27.556Z"
   },
   {
    "duration": 84,
    "start_time": "2022-04-24T12:36:27.595Z"
   },
   {
    "duration": 355,
    "start_time": "2022-04-24T12:36:27.685Z"
   },
   {
    "duration": 387,
    "start_time": "2022-04-24T12:36:28.043Z"
   },
   {
    "duration": 411,
    "start_time": "2022-04-24T12:36:28.433Z"
   },
   {
    "duration": 686,
    "start_time": "2022-04-24T12:36:28.848Z"
   },
   {
    "duration": 777,
    "start_time": "2022-04-24T12:36:29.538Z"
   },
   {
    "duration": 572,
    "start_time": "2022-04-24T12:36:30.318Z"
   },
   {
    "duration": 404,
    "start_time": "2022-04-24T12:36:30.893Z"
   },
   {
    "duration": 517,
    "start_time": "2022-04-24T12:36:31.301Z"
   },
   {
    "duration": 139,
    "start_time": "2022-04-24T12:36:31.821Z"
   },
   {
    "duration": 94,
    "start_time": "2022-04-24T12:36:31.963Z"
   },
   {
    "duration": 23,
    "start_time": "2022-04-24T12:36:32.060Z"
   },
   {
    "duration": 19,
    "start_time": "2022-04-24T12:36:32.087Z"
   },
   {
    "duration": 78,
    "start_time": "2022-04-24T12:36:32.109Z"
   },
   {
    "duration": 178,
    "start_time": "2022-04-24T12:36:37.411Z"
   },
   {
    "duration": 21,
    "start_time": "2022-04-24T12:38:04.686Z"
   },
   {
    "duration": 158,
    "start_time": "2022-04-24T12:38:13.742Z"
   },
   {
    "duration": 17458,
    "start_time": "2022-04-24T12:38:27.303Z"
   },
   {
    "duration": 15,
    "start_time": "2022-04-24T12:39:19.088Z"
   },
   {
    "duration": 9,
    "start_time": "2022-04-24T12:40:43.226Z"
   },
   {
    "duration": 5,
    "start_time": "2022-04-24T12:41:14.571Z"
   },
   {
    "duration": 34,
    "start_time": "2022-04-24T12:42:01.488Z"
   },
   {
    "duration": 35,
    "start_time": "2022-04-24T12:43:03.248Z"
   },
   {
    "duration": 49,
    "start_time": "2022-04-24T12:43:59.388Z"
   },
   {
    "duration": 167,
    "start_time": "2022-04-24T12:47:33.360Z"
   },
   {
    "duration": 19,
    "start_time": "2022-04-24T12:47:37.650Z"
   },
   {
    "duration": 14,
    "start_time": "2022-04-24T12:48:03.077Z"
   },
   {
    "duration": 13,
    "start_time": "2022-04-24T12:48:08.019Z"
   },
   {
    "duration": 20,
    "start_time": "2022-04-24T12:49:44.673Z"
   },
   {
    "duration": 14,
    "start_time": "2022-04-24T12:50:35.328Z"
   },
   {
    "duration": 14,
    "start_time": "2022-04-24T12:51:09.534Z"
   },
   {
    "duration": 17,
    "start_time": "2022-04-24T12:52:10.649Z"
   },
   {
    "duration": 35,
    "start_time": "2022-04-24T12:52:24.554Z"
   },
   {
    "duration": 26,
    "start_time": "2022-04-24T12:53:15.426Z"
   },
   {
    "duration": 43,
    "start_time": "2022-04-24T12:53:19.565Z"
   },
   {
    "duration": 65,
    "start_time": "2022-04-24T12:53:37.217Z"
   },
   {
    "duration": 165,
    "start_time": "2022-04-24T12:55:48.760Z"
   },
   {
    "duration": 71,
    "start_time": "2022-04-24T12:56:31.000Z"
   },
   {
    "duration": 152874,
    "start_time": "2022-04-24T12:57:39.915Z"
   },
   {
    "duration": 7,
    "start_time": "2022-04-24T13:00:48.394Z"
   },
   {
    "duration": 1930,
    "start_time": "2022-04-24T13:00:56.637Z"
   },
   {
    "duration": 2066,
    "start_time": "2022-04-24T13:06:43.379Z"
   },
   {
    "duration": 69,
    "start_time": "2022-04-24T13:06:45.448Z"
   },
   {
    "duration": 294,
    "start_time": "2022-04-24T13:06:45.519Z"
   },
   {
    "duration": 400,
    "start_time": "2022-04-24T13:06:45.816Z"
   },
   {
    "duration": 299,
    "start_time": "2022-04-24T13:06:46.218Z"
   },
   {
    "duration": 590,
    "start_time": "2022-04-24T13:06:46.520Z"
   },
   {
    "duration": 539,
    "start_time": "2022-04-24T13:06:47.113Z"
   },
   {
    "duration": 384,
    "start_time": "2022-04-24T13:06:47.655Z"
   },
   {
    "duration": 396,
    "start_time": "2022-04-24T13:06:48.042Z"
   },
   {
    "duration": 501,
    "start_time": "2022-04-24T13:06:48.441Z"
   },
   {
    "duration": 109,
    "start_time": "2022-04-24T13:06:48.944Z"
   },
   {
    "duration": 78,
    "start_time": "2022-04-24T13:06:49.055Z"
   },
   {
    "duration": 4,
    "start_time": "2022-04-24T13:06:49.135Z"
   },
   {
    "duration": 11,
    "start_time": "2022-04-24T13:06:49.141Z"
   },
   {
    "duration": 46,
    "start_time": "2022-04-24T13:06:49.155Z"
   },
   {
    "duration": 225,
    "start_time": "2022-04-24T13:06:49.203Z"
   },
   {
    "duration": 6,
    "start_time": "2022-04-24T13:06:49.430Z"
   },
   {
    "duration": 1914,
    "start_time": "2022-04-24T13:06:49.439Z"
   },
   {
    "duration": 7,
    "start_time": "2022-04-24T13:06:51.355Z"
   },
   {
    "duration": 114750,
    "start_time": "2022-04-24T13:06:51.365Z"
   },
   {
    "duration": 100,
    "start_time": "2022-04-24T13:08:46.118Z"
   },
   {
    "duration": 175,
    "start_time": "2022-04-24T13:10:27.440Z"
   },
   {
    "duration": 238,
    "start_time": "2022-04-24T13:11:08.586Z"
   },
   {
    "duration": 597,
    "start_time": "2022-04-24T13:11:19.997Z"
   },
   {
    "duration": 241,
    "start_time": "2022-04-24T13:11:41.014Z"
   },
   {
    "duration": 503,
    "start_time": "2022-04-24T13:11:46.861Z"
   },
   {
    "duration": 6,
    "start_time": "2022-04-24T13:12:33.606Z"
   },
   {
    "duration": 22,
    "start_time": "2022-04-24T13:12:39.683Z"
   },
   {
    "duration": 6,
    "start_time": "2022-04-24T13:12:43.887Z"
   },
   {
    "duration": 11,
    "start_time": "2022-04-24T13:12:50.367Z"
   },
   {
    "duration": 9,
    "start_time": "2022-04-24T13:13:03.985Z"
   },
   {
    "duration": 12,
    "start_time": "2022-04-24T13:13:10.988Z"
   },
   {
    "duration": 13,
    "start_time": "2022-04-24T13:13:17.194Z"
   },
   {
    "duration": 243,
    "start_time": "2022-04-24T13:13:24.869Z"
   },
   {
    "duration": 225,
    "start_time": "2022-04-24T13:13:49.364Z"
   },
   {
    "duration": 300,
    "start_time": "2022-04-24T13:14:06.491Z"
   },
   {
    "duration": 332,
    "start_time": "2022-04-24T13:14:21.109Z"
   },
   {
    "duration": 231,
    "start_time": "2022-04-24T13:14:42.055Z"
   },
   {
    "duration": 150,
    "start_time": "2022-04-24T13:15:15.877Z"
   },
   {
    "duration": 335,
    "start_time": "2022-04-24T13:15:22.843Z"
   },
   {
    "duration": 362,
    "start_time": "2022-04-24T13:15:33.756Z"
   },
   {
    "duration": 406,
    "start_time": "2022-04-24T13:15:43.665Z"
   },
   {
    "duration": 380,
    "start_time": "2022-04-24T13:15:50.860Z"
   },
   {
    "duration": 379,
    "start_time": "2022-04-24T13:16:07.475Z"
   },
   {
    "duration": 489,
    "start_time": "2022-04-24T13:16:19.218Z"
   },
   {
    "duration": 398,
    "start_time": "2022-04-24T13:16:41.634Z"
   },
   {
    "duration": 414,
    "start_time": "2022-04-24T13:17:17.147Z"
   },
   {
    "duration": 465,
    "start_time": "2022-04-24T13:17:35.549Z"
   },
   {
    "duration": 407,
    "start_time": "2022-04-24T13:17:46.268Z"
   },
   {
    "duration": 2204,
    "start_time": "2022-04-24T13:19:33.819Z"
   },
   {
    "duration": 74,
    "start_time": "2022-04-24T13:19:36.026Z"
   },
   {
    "duration": 364,
    "start_time": "2022-04-24T13:19:36.103Z"
   },
   {
    "duration": 391,
    "start_time": "2022-04-24T13:19:36.470Z"
   },
   {
    "duration": 304,
    "start_time": "2022-04-24T13:19:36.864Z"
   },
   {
    "duration": 624,
    "start_time": "2022-04-24T13:19:37.170Z"
   },
   {
    "duration": 542,
    "start_time": "2022-04-24T13:19:37.797Z"
   },
   {
    "duration": 382,
    "start_time": "2022-04-24T13:19:38.342Z"
   },
   {
    "duration": 378,
    "start_time": "2022-04-24T13:19:38.726Z"
   },
   {
    "duration": 479,
    "start_time": "2022-04-24T13:19:39.109Z"
   },
   {
    "duration": 109,
    "start_time": "2022-04-24T13:19:39.590Z"
   },
   {
    "duration": 63,
    "start_time": "2022-04-24T13:19:39.702Z"
   },
   {
    "duration": 7,
    "start_time": "2022-04-24T13:19:39.783Z"
   },
   {
    "duration": 23,
    "start_time": "2022-04-24T13:19:39.793Z"
   },
   {
    "duration": 75,
    "start_time": "2022-04-24T13:19:39.818Z"
   },
   {
    "duration": 165,
    "start_time": "2022-04-24T13:19:39.896Z"
   },
   {
    "duration": 8,
    "start_time": "2022-04-24T13:19:40.088Z"
   },
   {
    "duration": 1659,
    "start_time": "2022-04-24T13:19:40.099Z"
   },
   {
    "duration": 8,
    "start_time": "2022-04-24T13:19:41.760Z"
   },
   {
    "duration": 171323,
    "start_time": "2022-04-24T13:19:41.770Z"
   },
   {
    "duration": 21,
    "start_time": "2022-04-24T13:22:33.095Z"
   },
   {
    "duration": 581,
    "start_time": "2022-04-24T13:22:33.119Z"
   },
   {
    "duration": 48,
    "start_time": "2022-04-25T09:11:40.609Z"
   },
   {
    "duration": 1747,
    "start_time": "2022-04-25T09:11:45.429Z"
   },
   {
    "duration": 54,
    "start_time": "2022-04-25T09:11:47.179Z"
   },
   {
    "duration": 170,
    "start_time": "2022-04-25T09:11:47.234Z"
   },
   {
    "duration": 226,
    "start_time": "2022-04-25T09:11:47.407Z"
   },
   {
    "duration": 181,
    "start_time": "2022-04-25T09:11:47.635Z"
   },
   {
    "duration": 423,
    "start_time": "2022-04-25T09:11:47.817Z"
   },
   {
    "duration": 337,
    "start_time": "2022-04-25T09:11:48.242Z"
   },
   {
    "duration": 225,
    "start_time": "2022-04-25T09:11:48.581Z"
   },
   {
    "duration": 233,
    "start_time": "2022-04-25T09:11:48.808Z"
   },
   {
    "duration": 292,
    "start_time": "2022-04-25T09:11:49.048Z"
   },
   {
    "duration": 65,
    "start_time": "2022-04-25T09:11:49.347Z"
   },
   {
    "duration": 75,
    "start_time": "2022-04-25T09:11:49.413Z"
   },
   {
    "duration": 3,
    "start_time": "2022-04-25T09:11:49.490Z"
   },
   {
    "duration": 7,
    "start_time": "2022-04-25T09:11:49.494Z"
   },
   {
    "duration": 56,
    "start_time": "2022-04-25T09:11:49.503Z"
   },
   {
    "duration": 165,
    "start_time": "2022-04-25T09:11:49.561Z"
   },
   {
    "duration": 3,
    "start_time": "2022-04-25T09:12:00.632Z"
   },
   {
    "duration": 195074,
    "start_time": "2022-04-25T09:13:12.342Z"
   },
   {
    "duration": 5,
    "start_time": "2022-04-25T09:20:03.746Z"
   },
   {
    "duration": 1573,
    "start_time": "2022-04-25T09:21:47.405Z"
   },
   {
    "duration": 47,
    "start_time": "2022-04-25T09:21:48.980Z"
   },
   {
    "duration": 184,
    "start_time": "2022-04-25T09:21:49.029Z"
   },
   {
    "duration": 228,
    "start_time": "2022-04-25T09:21:49.215Z"
   },
   {
    "duration": 186,
    "start_time": "2022-04-25T09:21:49.448Z"
   },
   {
    "duration": 461,
    "start_time": "2022-04-25T09:21:49.635Z"
   },
   {
    "duration": 329,
    "start_time": "2022-04-25T09:21:50.098Z"
   },
   {
    "duration": 224,
    "start_time": "2022-04-25T09:21:50.428Z"
   },
   {
    "duration": 246,
    "start_time": "2022-04-25T09:21:50.653Z"
   },
   {
    "duration": 310,
    "start_time": "2022-04-25T09:21:50.902Z"
   },
   {
    "duration": 80,
    "start_time": "2022-04-25T09:21:51.214Z"
   },
   {
    "duration": 38,
    "start_time": "2022-04-25T09:21:51.296Z"
   },
   {
    "duration": 3,
    "start_time": "2022-04-25T09:21:51.350Z"
   },
   {
    "duration": 31,
    "start_time": "2022-04-25T09:21:51.355Z"
   },
   {
    "duration": 17,
    "start_time": "2022-04-25T09:21:51.388Z"
   },
   {
    "duration": 4,
    "start_time": "2022-04-25T09:21:51.407Z"
   },
   {
    "duration": 192928,
    "start_time": "2022-04-25T09:21:51.450Z"
   },
   {
    "duration": 1247,
    "start_time": "2022-04-25T09:25:04.380Z"
   },
   {
    "duration": 5,
    "start_time": "2022-04-25T09:25:05.629Z"
   },
   {
    "duration": 133322,
    "start_time": "2022-04-25T09:25:05.635Z"
   },
   {
    "duration": 16,
    "start_time": "2022-04-25T09:27:18.963Z"
   },
   {
    "duration": 370,
    "start_time": "2022-04-25T09:27:18.981Z"
   },
   {
    "duration": 12,
    "start_time": "2022-04-25T09:27:49.858Z"
   }
  ],
  "kernelspec": {
   "display_name": "Python 3 (ipykernel)",
   "language": "python",
   "name": "python3"
  },
  "language_info": {
   "codemirror_mode": {
    "name": "ipython",
    "version": 3
   },
   "file_extension": ".py",
   "mimetype": "text/x-python",
   "name": "python",
   "nbconvert_exporter": "python",
   "pygments_lexer": "ipython3",
   "version": "3.9.7"
  },
  "toc": {
   "base_numbering": 1,
   "nav_menu": {},
   "number_sections": true,
   "sideBar": true,
   "skip_h1_title": true,
   "title_cell": "Содержание",
   "title_sidebar": "Contents",
   "toc_cell": true,
   "toc_position": {
    "height": "calc(100% - 180px)",
    "left": "10px",
    "top": "150px",
    "width": "228.792px"
   },
   "toc_section_display": true,
   "toc_window_display": false
  }
 },
 "nbformat": 4,
 "nbformat_minor": 2
}
