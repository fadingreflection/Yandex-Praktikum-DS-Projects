{
 "cells": [
  {
   "cell_type": "markdown",
   "metadata": {},
   "source": [
    "# Aнализ игр компании \"Стримчик\"\n",
    "\n",
    "<b>Цель проекта:</b> анализ игр с целью выведения наилучшей стратегии по продажам и рекламе на будущий год.\n",
    "\n",
    "<b>Доступны следующие данные:</b>\n",
    "- исторические данные о продажах игр,\n",
    "- оценки пользователей и экспертов, \n",
    "- жанры и платформы (например, Xbox или PlayStation). \n",
    "\n",
    "<b>Обозначения:</b>\n",
    "- Name — название игры\n",
    "- Platform — платформа\n",
    "- Year_of_Release — год выпуска\n",
    "- Genre — жанр игры\n",
    "- NA_sales — продажи в Северной Америке (миллионы проданных копий)\n",
    "- EU_sales — продажи в Европе (миллионы проданных копий)\n",
    "- JP_sales — продажи в Японии (миллионы проданных копий)\n",
    "- Other_sales — продажи в других странах (миллионы проданных копий)\n",
    "- Critic_Score — оценка критиков (максимум 100)\n",
    "- User_Score — оценка пользователей (максимум 10)\n",
    "- Rating — рейтинг от организации ESRB (англ. Entertainment Software Rating Board). Эта ассоциация определяет рейтинг компьютерных игр и присваивает им подходящую возрастную категорию.\n",
    "\n",
    "<b>Задача: </b>\n",
    "- выявить определяющие успешность игры закономерности. \n"
   ]
  },
  {
   "cell_type": "markdown",
   "metadata": {},
   "source": [
    "## Загрузка и подготовка данных"
   ]
  },
  {
   "cell_type": "markdown",
   "metadata": {},
   "source": [
    "### Импорт необходимых библиотек и модулей"
   ]
  },
  {
   "cell_type": "code",
   "execution_count": 63,
   "metadata": {},
   "outputs": [],
   "source": [
    "import pandas as pd\n",
    "import numpy as np\n",
    "\n",
    "from matplotlib import pyplot as plt\n",
    "import seaborn as sns\n",
    "\n",
    "from scipy import stats as st\n",
    "from pymystem3 import Mystem \n",
    "\n",
    "pd.options.mode.chained_assignment = None\n",
    "import warnings\n",
    "warnings.filterwarnings('ignore')"
   ]
  },
  {
   "cell_type": "markdown",
   "metadata": {},
   "source": [
    "### Первичный взгляд на данные"
   ]
  },
  {
   "cell_type": "code",
   "execution_count": 64,
   "metadata": {},
   "outputs": [
    {
     "data": {
      "text/plain": [
       "(16715, 11)"
      ]
     },
     "metadata": {},
     "output_type": "display_data"
    },
    {
     "data": {
      "text/plain": [
       "Name                object\n",
       "Platform            object\n",
       "Year_of_Release    float64\n",
       "Genre               object\n",
       "NA_sales           float64\n",
       "EU_sales           float64\n",
       "JP_sales           float64\n",
       "Other_sales        float64\n",
       "Critic_Score       float64\n",
       "User_Score          object\n",
       "Rating              object\n",
       "dtype: object"
      ]
     },
     "metadata": {},
     "output_type": "display_data"
    },
    {
     "data": {
      "text/html": [
       "<div>\n",
       "<style scoped>\n",
       "    .dataframe tbody tr th:only-of-type {\n",
       "        vertical-align: middle;\n",
       "    }\n",
       "\n",
       "    .dataframe tbody tr th {\n",
       "        vertical-align: top;\n",
       "    }\n",
       "\n",
       "    .dataframe thead th {\n",
       "        text-align: right;\n",
       "    }\n",
       "</style>\n",
       "<table border=\"1\" class=\"dataframe\">\n",
       "  <thead>\n",
       "    <tr style=\"text-align: right;\">\n",
       "      <th></th>\n",
       "      <th>Name</th>\n",
       "      <th>Platform</th>\n",
       "      <th>Year_of_Release</th>\n",
       "      <th>Genre</th>\n",
       "      <th>NA_sales</th>\n",
       "      <th>EU_sales</th>\n",
       "      <th>JP_sales</th>\n",
       "      <th>Other_sales</th>\n",
       "      <th>Critic_Score</th>\n",
       "      <th>User_Score</th>\n",
       "      <th>Rating</th>\n",
       "    </tr>\n",
       "  </thead>\n",
       "  <tbody>\n",
       "    <tr>\n",
       "      <th>12488</th>\n",
       "      <td>Hisshou Pachinko*Pachi-Slot Kouryaku Series Po...</td>\n",
       "      <td>PSP</td>\n",
       "      <td>2010.0</td>\n",
       "      <td>Misc</td>\n",
       "      <td>0.0</td>\n",
       "      <td>0.00</td>\n",
       "      <td>0.06</td>\n",
       "      <td>0.00</td>\n",
       "      <td>NaN</td>\n",
       "      <td>NaN</td>\n",
       "      <td>NaN</td>\n",
       "    </tr>\n",
       "    <tr>\n",
       "      <th>3319</th>\n",
       "      <td>Naruto: Ultimate Ninja</td>\n",
       "      <td>PS2</td>\n",
       "      <td>2003.0</td>\n",
       "      <td>Fighting</td>\n",
       "      <td>0.5</td>\n",
       "      <td>0.02</td>\n",
       "      <td>0.00</td>\n",
       "      <td>0.08</td>\n",
       "      <td>75.0</td>\n",
       "      <td>7.7</td>\n",
       "      <td>T</td>\n",
       "    </tr>\n",
       "    <tr>\n",
       "      <th>3328</th>\n",
       "      <td>Aliens: Colonial Marines</td>\n",
       "      <td>PS3</td>\n",
       "      <td>2013.0</td>\n",
       "      <td>Shooter</td>\n",
       "      <td>0.2</td>\n",
       "      <td>0.29</td>\n",
       "      <td>0.00</td>\n",
       "      <td>0.11</td>\n",
       "      <td>43.0</td>\n",
       "      <td>3.6</td>\n",
       "      <td>M</td>\n",
       "    </tr>\n",
       "  </tbody>\n",
       "</table>\n",
       "</div>"
      ],
      "text/plain": [
       "                                                    Name Platform  \\\n",
       "12488  Hisshou Pachinko*Pachi-Slot Kouryaku Series Po...      PSP   \n",
       "3319                              Naruto: Ultimate Ninja      PS2   \n",
       "3328                            Aliens: Colonial Marines      PS3   \n",
       "\n",
       "       Year_of_Release     Genre  NA_sales  EU_sales  JP_sales  Other_sales  \\\n",
       "12488           2010.0      Misc       0.0      0.00      0.06         0.00   \n",
       "3319            2003.0  Fighting       0.5      0.02      0.00         0.08   \n",
       "3328            2013.0   Shooter       0.2      0.29      0.00         0.11   \n",
       "\n",
       "       Critic_Score User_Score Rating  \n",
       "12488           NaN        NaN    NaN  \n",
       "3319           75.0        7.7      T  \n",
       "3328           43.0        3.6      M  "
      ]
     },
     "metadata": {},
     "output_type": "display_data"
    }
   ],
   "source": [
    "data = pd.read_csv('/datasets/games.csv')\n",
    "display(data.shape)\n",
    "display(data.dtypes)\n",
    "display(data.sample(3))"
   ]
  },
  {
   "cell_type": "markdown",
   "metadata": {},
   "source": [
    "<b>ВЫВОД:</b> датасет насчитывает 16715 наблюдений и 11 признаков. Типы данных представлены числами с плавающей точкой и строками."
   ]
  },
  {
   "cell_type": "markdown",
   "metadata": {},
   "source": [
    "### Поиск пропусков и дубликатов"
   ]
  },
  {
   "cell_type": "code",
   "execution_count": 65,
   "metadata": {},
   "outputs": [
    {
     "name": "stdout",
     "output_type": "stream",
     "text": [
      "Количество дубликатов в датасете: 0\n"
     ]
    },
    {
     "data": {
      "text/html": [
       "<div>\n",
       "<style scoped>\n",
       "    .dataframe tbody tr th:only-of-type {\n",
       "        vertical-align: middle;\n",
       "    }\n",
       "\n",
       "    .dataframe tbody tr th {\n",
       "        vertical-align: top;\n",
       "    }\n",
       "\n",
       "    .dataframe thead th {\n",
       "        text-align: right;\n",
       "    }\n",
       "</style>\n",
       "<table border=\"1\" class=\"dataframe\">\n",
       "  <thead>\n",
       "    <tr style=\"text-align: right;\">\n",
       "      <th></th>\n",
       "      <th>0</th>\n",
       "    </tr>\n",
       "  </thead>\n",
       "  <tbody>\n",
       "    <tr>\n",
       "      <th>Critic_Score</th>\n",
       "      <td>8578</td>\n",
       "    </tr>\n",
       "    <tr>\n",
       "      <th>Rating</th>\n",
       "      <td>6766</td>\n",
       "    </tr>\n",
       "    <tr>\n",
       "      <th>User_Score</th>\n",
       "      <td>6701</td>\n",
       "    </tr>\n",
       "    <tr>\n",
       "      <th>Year_of_Release</th>\n",
       "      <td>269</td>\n",
       "    </tr>\n",
       "    <tr>\n",
       "      <th>Name</th>\n",
       "      <td>2</td>\n",
       "    </tr>\n",
       "    <tr>\n",
       "      <th>Genre</th>\n",
       "      <td>2</td>\n",
       "    </tr>\n",
       "    <tr>\n",
       "      <th>Platform</th>\n",
       "      <td>0</td>\n",
       "    </tr>\n",
       "    <tr>\n",
       "      <th>NA_sales</th>\n",
       "      <td>0</td>\n",
       "    </tr>\n",
       "    <tr>\n",
       "      <th>EU_sales</th>\n",
       "      <td>0</td>\n",
       "    </tr>\n",
       "    <tr>\n",
       "      <th>JP_sales</th>\n",
       "      <td>0</td>\n",
       "    </tr>\n",
       "    <tr>\n",
       "      <th>Other_sales</th>\n",
       "      <td>0</td>\n",
       "    </tr>\n",
       "  </tbody>\n",
       "</table>\n",
       "</div>"
      ],
      "text/plain": [
       "                    0\n",
       "Critic_Score     8578\n",
       "Rating           6766\n",
       "User_Score       6701\n",
       "Year_of_Release   269\n",
       "Name                2\n",
       "Genre               2\n",
       "Platform            0\n",
       "NA_sales            0\n",
       "EU_sales            0\n",
       "JP_sales            0\n",
       "Other_sales         0"
      ]
     },
     "metadata": {},
     "output_type": "display_data"
    },
    {
     "data": {
      "text/plain": [
       "Text(0.5, 1.0, 'Количество пропущенных значений в столбцах датасета')"
      ]
     },
     "execution_count": 65,
     "metadata": {},
     "output_type": "execute_result"
    },
    {
     "data": {
      "image/png": "[encoded data removed]",
      "text/plain": [
       "<Figure size 504x504 with 1 Axes>"
      ]
     },
     "metadata": {},
     "output_type": "display_data"
    }
   ],
   "source": [
    "# выведем число дубликатов\n",
    "print('Количество дубликатов в датасете:', data.duplicated().sum())\n",
    "\n",
    "# выведем количество пропущенных значений\n",
    "display(pd.DataFrame(data.isna().sum().sort_values(ascending = False)))\n",
    "\n",
    "# добавим визуализацию\n",
    "pd.DataFrame(data.isna().sum()).plot(kind = 'pie', subplots = True, figsize = (7,7))\n",
    "plt.title('Количество пропущенных значений в столбцах датасета')"
   ]
  },
  {
   "cell_type": "markdown",
   "metadata": {},
   "source": [
    "<b>ВЫВОД:</b> дубликатов нет, пропуски в 6 столбцах, много пропусков в рейтинге игр и оценках пользователей и критиков. Неинформативные наблюдения (с пропуском в названии игры и жанра) можно удалить, их всего 2."
   ]
  },
  {
   "cell_type": "markdown",
   "metadata": {},
   "source": [
    "## Предобработка данных"
   ]
  },
  {
   "cell_type": "markdown",
   "metadata": {},
   "source": [
    "### Унификация названий столбцов и удаление малоинформативных наблюдений"
   ]
  },
  {
   "cell_type": "code",
   "execution_count": 66,
   "metadata": {},
   "outputs": [
    {
     "data": {
      "text/plain": [
       "Index(['name', 'platform', 'year_of_release', 'genre', 'na_sales', 'eu_sales',\n",
       "       'jp_sales', 'other_sales', 'critic_score', 'user_score', 'rating'],\n",
       "      dtype='object')"
      ]
     },
     "execution_count": 66,
     "metadata": {},
     "output_type": "execute_result"
    }
   ],
   "source": [
    "# поправим названия столбцов\n",
    "new_columns = []\n",
    "for column in data.columns:\n",
    "    column = column.lower()\n",
    "    new_columns.append(column)\n",
    "data.columns = new_columns\n",
    "\n",
    "# проверим изменения\n",
    "data.columns"
   ]
  },
  {
   "cell_type": "code",
   "execution_count": 67,
   "metadata": {},
   "outputs": [
    {
     "data": {
      "text/plain": [
       "(16444, 11)"
      ]
     },
     "execution_count": 67,
     "metadata": {},
     "output_type": "execute_result"
    }
   ],
   "source": [
    "# удалим малоинформативные наблюдения\n",
    "data.dropna(subset = ['name', 'genre'], axis = 0, inplace = True)\n",
    "data.dropna(subset = ['year_of_release'], axis = 0, inplace = True)\n",
    "\n",
    "# проверим изменения\n",
    "data.shape"
   ]
  },
  {
   "cell_type": "markdown",
   "metadata": {},
   "source": [
    "### Обработка пропусков\n",
    "- пропуски остались в трех столбцах - оценках критиков и пользователей и рейтинге игры. Рейтинг игры заполним согласно моде, сгруппировав таблицу по жанрам. Оценки можно попробовать восстановить, изучив их корреляцию."
   ]
  },
  {
   "cell_type": "markdown",
   "metadata": {},
   "source": [
    "#### Заполнение пропусков в значениях рейтинга игры"
   ]
  },
  {
   "cell_type": "code",
   "execution_count": 68,
   "metadata": {},
   "outputs": [
    {
     "name": "stdout",
     "output_type": "stream",
     "text": [
      "Пропусков в рейтинге после преобразований: 0\n"
     ]
    },
    {
     "data": {
      "text/html": [
       "<div>\n",
       "<style scoped>\n",
       "    .dataframe tbody tr th:only-of-type {\n",
       "        vertical-align: middle;\n",
       "    }\n",
       "\n",
       "    .dataframe tbody tr th {\n",
       "        vertical-align: top;\n",
       "    }\n",
       "\n",
       "    .dataframe thead th {\n",
       "        text-align: right;\n",
       "    }\n",
       "</style>\n",
       "<table border=\"1\" class=\"dataframe\">\n",
       "  <thead>\n",
       "    <tr style=\"text-align: right;\">\n",
       "      <th></th>\n",
       "      <th>name</th>\n",
       "      <th>platform</th>\n",
       "      <th>year_of_release</th>\n",
       "      <th>genre</th>\n",
       "      <th>na_sales</th>\n",
       "      <th>eu_sales</th>\n",
       "      <th>jp_sales</th>\n",
       "      <th>other_sales</th>\n",
       "      <th>critic_score</th>\n",
       "      <th>user_score</th>\n",
       "      <th>rating</th>\n",
       "    </tr>\n",
       "  </thead>\n",
       "  <tbody>\n",
       "    <tr>\n",
       "      <th>12920</th>\n",
       "      <td>Adventure Time: Finn &amp; Jake Investigations</td>\n",
       "      <td>XOne</td>\n",
       "      <td>2015.0</td>\n",
       "      <td>Action</td>\n",
       "      <td>0.03</td>\n",
       "      <td>0.02</td>\n",
       "      <td>0.0</td>\n",
       "      <td>0.0</td>\n",
       "      <td>NaN</td>\n",
       "      <td>NaN</td>\n",
       "      <td>T</td>\n",
       "    </tr>\n",
       "    <tr>\n",
       "      <th>12059</th>\n",
       "      <td>RayStorm</td>\n",
       "      <td>PS</td>\n",
       "      <td>1997.0</td>\n",
       "      <td>Shooter</td>\n",
       "      <td>0.04</td>\n",
       "      <td>0.03</td>\n",
       "      <td>0.0</td>\n",
       "      <td>0.0</td>\n",
       "      <td>79.0</td>\n",
       "      <td>7.8</td>\n",
       "      <td>E</td>\n",
       "    </tr>\n",
       "    <tr>\n",
       "      <th>12205</th>\n",
       "      <td>Card Games</td>\n",
       "      <td>PS</td>\n",
       "      <td>2000.0</td>\n",
       "      <td>Misc</td>\n",
       "      <td>0.04</td>\n",
       "      <td>0.03</td>\n",
       "      <td>0.0</td>\n",
       "      <td>0.0</td>\n",
       "      <td>NaN</td>\n",
       "      <td>NaN</td>\n",
       "      <td>E</td>\n",
       "    </tr>\n",
       "  </tbody>\n",
       "</table>\n",
       "</div>"
      ],
      "text/plain": [
       "                                             name platform  year_of_release  \\\n",
       "12920  Adventure Time: Finn & Jake Investigations     XOne           2015.0   \n",
       "12059                                    RayStorm       PS           1997.0   \n",
       "12205                                  Card Games       PS           2000.0   \n",
       "\n",
       "         genre  na_sales  eu_sales  jp_sales  other_sales  critic_score  \\\n",
       "12920   Action      0.03      0.02       0.0          0.0           NaN   \n",
       "12059  Shooter      0.04      0.03       0.0          0.0          79.0   \n",
       "12205     Misc      0.04      0.03       0.0          0.0           NaN   \n",
       "\n",
       "      user_score rating  \n",
       "12920        NaN      T  \n",
       "12059        7.8      E  \n",
       "12205        NaN      E  "
      ]
     },
     "execution_count": 68,
     "metadata": {},
     "output_type": "execute_result"
    }
   ],
   "source": [
    "# аггрегируем таблицу по жанрам и выведем моду рейтинга \n",
    "grouped_genres = data.groupby('genre')['rating'].agg(pd.Series.mode)\n",
    "\n",
    "# заполним пропуски в рейтинге\n",
    "def func(row):\n",
    "    if pd.isna(row['rating']):\n",
    "        return grouped_genres.loc[row['genre']]\n",
    "    return row['rating']\n",
    " \n",
    "data['rating'] = data.apply(func, axis=1)\n",
    "\n",
    "# проверим данные\n",
    "print('Пропусков в рейтинге после преобразований:', data['rating'].isna().sum())\n",
    "data.sample(3)"
   ]
  },
  {
   "cell_type": "markdown",
   "metadata": {},
   "source": [
    "#### Заполнение пропусков в значениях оценок критиков и пользователей"
   ]
  },
  {
   "cell_type": "code",
   "execution_count": 69,
   "metadata": {},
   "outputs": [
    {
     "name": "stdout",
     "output_type": "stream",
     "text": [
      "Пропусков в оценках пользователей: 8981\n"
     ]
    },
    {
     "data": {
      "text/html": [
       "<div>\n",
       "<style scoped>\n",
       "    .dataframe tbody tr th:only-of-type {\n",
       "        vertical-align: middle;\n",
       "    }\n",
       "\n",
       "    .dataframe tbody tr th {\n",
       "        vertical-align: top;\n",
       "    }\n",
       "\n",
       "    .dataframe thead th {\n",
       "        text-align: right;\n",
       "    }\n",
       "</style>\n",
       "<table border=\"1\" class=\"dataframe\">\n",
       "  <thead>\n",
       "    <tr style=\"text-align: right;\">\n",
       "      <th></th>\n",
       "      <th>critic_score</th>\n",
       "    </tr>\n",
       "  </thead>\n",
       "  <tbody>\n",
       "    <tr>\n",
       "      <th>critic_score</th>\n",
       "      <td>1.000000</td>\n",
       "    </tr>\n",
       "    <tr>\n",
       "      <th>user_score</th>\n",
       "      <td>0.579671</td>\n",
       "    </tr>\n",
       "    <tr>\n",
       "      <th>na_sales</th>\n",
       "      <td>0.240083</td>\n",
       "    </tr>\n",
       "    <tr>\n",
       "      <th>eu_sales</th>\n",
       "      <td>0.221276</td>\n",
       "    </tr>\n",
       "    <tr>\n",
       "      <th>other_sales</th>\n",
       "      <td>0.198410</td>\n",
       "    </tr>\n",
       "    <tr>\n",
       "      <th>jp_sales</th>\n",
       "      <td>0.153474</td>\n",
       "    </tr>\n",
       "    <tr>\n",
       "      <th>year_of_release</th>\n",
       "      <td>0.011411</td>\n",
       "    </tr>\n",
       "  </tbody>\n",
       "</table>\n",
       "</div>"
      ],
      "text/plain": [
       "                 critic_score\n",
       "critic_score         1.000000\n",
       "user_score           0.579671\n",
       "na_sales             0.240083\n",
       "eu_sales             0.221276\n",
       "other_sales          0.198410\n",
       "jp_sales             0.153474\n",
       "year_of_release      0.011411"
      ]
     },
     "execution_count": 69,
     "metadata": {},
     "output_type": "execute_result"
    }
   ],
   "source": [
    "# заменим значение tbd в user_score\n",
    "data['user_score'] = data['user_score'].replace('tbd', np.nan).astype('float')\n",
    "\n",
    "# проверим, сколько стало пропусков с учетом tbd\n",
    "print('Пропусков в оценках пользователей:', data['user_score'].isna().sum())\n",
    "\n",
    "# оценим корреляцию оценок пользователей \n",
    "pd.DataFrame(data.corr()['critic_score'].sort_values(ascending = False))"
   ]
  },
  {
   "cell_type": "markdown",
   "metadata": {},
   "source": [
    "<b>ПРОМЕЖУТОЧНЫЙ ВЫВОД:</b>  прослеживается четкая положительная корреляция между оценками пользователей и критиков. На основании этого произведем заполнение значений.\n",
    "\n",
    "<i>Логика следующая: мы можем заполнить оценки только при наличии оценки другой категории. В противном случае данных недостаточно, чтобы с уверенностью сказать, что пропуски можно заполнить медианным значением по жанрам. Например, могла выйти совершенно отвратительная игра с низкой оценкой. Плюс мы ничего не можем сделать с tbd при наличии пропусков в оценках критиков.</i>"
   ]
  },
  {
   "cell_type": "code",
   "execution_count": 70,
   "metadata": {},
   "outputs": [
    {
     "data": {
      "text/html": [
       "<div>\n",
       "<style scoped>\n",
       "    .dataframe tbody tr th:only-of-type {\n",
       "        vertical-align: middle;\n",
       "    }\n",
       "\n",
       "    .dataframe tbody tr th {\n",
       "        vertical-align: top;\n",
       "    }\n",
       "\n",
       "    .dataframe thead th {\n",
       "        text-align: right;\n",
       "    }\n",
       "</style>\n",
       "<table border=\"1\" class=\"dataframe\">\n",
       "  <thead>\n",
       "    <tr style=\"text-align: right;\">\n",
       "      <th></th>\n",
       "      <th>user_score</th>\n",
       "      <th>critic_score</th>\n",
       "      <th>relation</th>\n",
       "    </tr>\n",
       "    <tr>\n",
       "      <th>genre</th>\n",
       "      <th></th>\n",
       "      <th></th>\n",
       "      <th></th>\n",
       "    </tr>\n",
       "  </thead>\n",
       "  <tbody>\n",
       "    <tr>\n",
       "      <th>Action</th>\n",
       "      <td>7.058129</td>\n",
       "      <td>66.676931</td>\n",
       "      <td>0.105856</td>\n",
       "    </tr>\n",
       "    <tr>\n",
       "      <th>Racing</th>\n",
       "      <td>7.040859</td>\n",
       "      <td>68.006897</td>\n",
       "      <td>0.103532</td>\n",
       "    </tr>\n",
       "    <tr>\n",
       "      <th>Adventure</th>\n",
       "      <td>7.139597</td>\n",
       "      <td>65.268750</td>\n",
       "      <td>0.109388</td>\n",
       "    </tr>\n",
       "  </tbody>\n",
       "</table>\n",
       "</div>"
      ],
      "text/plain": [
       "           user_score  critic_score  relation\n",
       "genre                                        \n",
       "Action       7.058129     66.676931  0.105856\n",
       "Racing       7.040859     68.006897  0.103532\n",
       "Adventure    7.139597     65.268750  0.109388"
      ]
     },
     "metadata": {},
     "output_type": "display_data"
    }
   ],
   "source": [
    "# аггрегируем данные по жанрам и медианные оценкам\n",
    "genre_scores = data.groupby('genre').agg({'user_score':'mean', 'critic_score':'mean'})\n",
    "\n",
    "# добавим столбец отношения оценки польз. к оценке критиков\n",
    "genre_scores['relation'] = genre_scores['user_score'] / genre_scores['critic_score']\n",
    "\n",
    "# проверим данные\n",
    "display(genre_scores.sample(3))"
   ]
  },
  {
   "cell_type": "code",
   "execution_count": 71,
   "metadata": {},
   "outputs": [
    {
     "data": {
      "text/html": [
       "<div>\n",
       "<style scoped>\n",
       "    .dataframe tbody tr th:only-of-type {\n",
       "        vertical-align: middle;\n",
       "    }\n",
       "\n",
       "    .dataframe tbody tr th {\n",
       "        vertical-align: top;\n",
       "    }\n",
       "\n",
       "    .dataframe thead th {\n",
       "        text-align: right;\n",
       "    }\n",
       "</style>\n",
       "<table border=\"1\" class=\"dataframe\">\n",
       "  <thead>\n",
       "    <tr style=\"text-align: right;\">\n",
       "      <th></th>\n",
       "      <th>name</th>\n",
       "      <th>platform</th>\n",
       "      <th>year_of_release</th>\n",
       "      <th>genre</th>\n",
       "      <th>na_sales</th>\n",
       "      <th>eu_sales</th>\n",
       "      <th>jp_sales</th>\n",
       "      <th>other_sales</th>\n",
       "      <th>critic_score</th>\n",
       "      <th>user_score</th>\n",
       "      <th>rating</th>\n",
       "      <th>score_relation</th>\n",
       "    </tr>\n",
       "  </thead>\n",
       "  <tbody>\n",
       "    <tr>\n",
       "      <th>9679</th>\n",
       "      <td>Strikers 1945</td>\n",
       "      <td>PS</td>\n",
       "      <td>1998.0</td>\n",
       "      <td>Shooter</td>\n",
       "      <td>0.07</td>\n",
       "      <td>0.05</td>\n",
       "      <td>0.00</td>\n",
       "      <td>0.01</td>\n",
       "      <td>63.0</td>\n",
       "      <td>8.2</td>\n",
       "      <td>E</td>\n",
       "      <td>0.100388</td>\n",
       "    </tr>\n",
       "    <tr>\n",
       "      <th>2113</th>\n",
       "      <td>NCAA Football 06</td>\n",
       "      <td>XB</td>\n",
       "      <td>2005.0</td>\n",
       "      <td>Sports</td>\n",
       "      <td>0.73</td>\n",
       "      <td>0.21</td>\n",
       "      <td>0.00</td>\n",
       "      <td>0.03</td>\n",
       "      <td>87.0</td>\n",
       "      <td>8.3</td>\n",
       "      <td>E</td>\n",
       "      <td>0.096557</td>\n",
       "    </tr>\n",
       "    <tr>\n",
       "      <th>365</th>\n",
       "      <td>Tomb Raider III: Adventures of Lara Croft</td>\n",
       "      <td>PS</td>\n",
       "      <td>1997.0</td>\n",
       "      <td>Action</td>\n",
       "      <td>1.66</td>\n",
       "      <td>1.58</td>\n",
       "      <td>0.12</td>\n",
       "      <td>0.18</td>\n",
       "      <td>NaN</td>\n",
       "      <td>NaN</td>\n",
       "      <td>T</td>\n",
       "      <td>0.105856</td>\n",
       "    </tr>\n",
       "  </tbody>\n",
       "</table>\n",
       "</div>"
      ],
      "text/plain": [
       "                                           name platform  year_of_release  \\\n",
       "9679                              Strikers 1945       PS           1998.0   \n",
       "2113                           NCAA Football 06       XB           2005.0   \n",
       "365   Tomb Raider III: Adventures of Lara Croft       PS           1997.0   \n",
       "\n",
       "        genre  na_sales  eu_sales  jp_sales  other_sales  critic_score  \\\n",
       "9679  Shooter      0.07      0.05      0.00         0.01          63.0   \n",
       "2113   Sports      0.73      0.21      0.00         0.03          87.0   \n",
       "365    Action      1.66      1.58      0.12         0.18           NaN   \n",
       "\n",
       "      user_score rating  score_relation  \n",
       "9679         8.2      E        0.100388  \n",
       "2113         8.3      E        0.096557  \n",
       "365          NaN      T        0.105856  "
      ]
     },
     "metadata": {},
     "output_type": "display_data"
    },
    {
     "data": {
      "text/html": [
       "<div>\n",
       "<style scoped>\n",
       "    .dataframe tbody tr th:only-of-type {\n",
       "        vertical-align: middle;\n",
       "    }\n",
       "\n",
       "    .dataframe tbody tr th {\n",
       "        vertical-align: top;\n",
       "    }\n",
       "\n",
       "    .dataframe thead th {\n",
       "        text-align: right;\n",
       "    }\n",
       "</style>\n",
       "<table border=\"1\" class=\"dataframe\">\n",
       "  <thead>\n",
       "    <tr style=\"text-align: right;\">\n",
       "      <th></th>\n",
       "      <th>name</th>\n",
       "      <th>platform</th>\n",
       "      <th>year_of_release</th>\n",
       "      <th>genre</th>\n",
       "      <th>na_sales</th>\n",
       "      <th>eu_sales</th>\n",
       "      <th>jp_sales</th>\n",
       "      <th>other_sales</th>\n",
       "      <th>critic_score</th>\n",
       "      <th>user_score</th>\n",
       "      <th>rating</th>\n",
       "      <th>score_relation</th>\n",
       "    </tr>\n",
       "  </thead>\n",
       "  <tbody>\n",
       "    <tr>\n",
       "      <th>419</th>\n",
       "      <td>Tekken</td>\n",
       "      <td>PS</td>\n",
       "      <td>1995.0</td>\n",
       "      <td>Fighting</td>\n",
       "      <td>0.95</td>\n",
       "      <td>1.3</td>\n",
       "      <td>0.77</td>\n",
       "      <td>0.22</td>\n",
       "      <td>NaN</td>\n",
       "      <td>NaN</td>\n",
       "      <td>T</td>\n",
       "      <td>0.105501</td>\n",
       "    </tr>\n",
       "    <tr>\n",
       "      <th>10358</th>\n",
       "      <td>MLB 14: The Show</td>\n",
       "      <td>PSV</td>\n",
       "      <td>2014.0</td>\n",
       "      <td>Sports</td>\n",
       "      <td>0.08</td>\n",
       "      <td>0.0</td>\n",
       "      <td>0.00</td>\n",
       "      <td>0.03</td>\n",
       "      <td>68.0</td>\n",
       "      <td>7.0</td>\n",
       "      <td>E</td>\n",
       "      <td>0.096557</td>\n",
       "    </tr>\n",
       "    <tr>\n",
       "      <th>15702</th>\n",
       "      <td>James Bond 007: Blood Stone</td>\n",
       "      <td>PC</td>\n",
       "      <td>2010.0</td>\n",
       "      <td>Shooter</td>\n",
       "      <td>0.02</td>\n",
       "      <td>0.0</td>\n",
       "      <td>0.00</td>\n",
       "      <td>0.00</td>\n",
       "      <td>63.0</td>\n",
       "      <td>7.1</td>\n",
       "      <td>T</td>\n",
       "      <td>0.100388</td>\n",
       "    </tr>\n",
       "  </tbody>\n",
       "</table>\n",
       "</div>"
      ],
      "text/plain": [
       "                              name platform  year_of_release     genre  \\\n",
       "419                         Tekken       PS           1995.0  Fighting   \n",
       "10358             MLB 14: The Show      PSV           2014.0    Sports   \n",
       "15702  James Bond 007: Blood Stone       PC           2010.0   Shooter   \n",
       "\n",
       "       na_sales  eu_sales  jp_sales  other_sales  critic_score  user_score  \\\n",
       "419        0.95       1.3      0.77         0.22           NaN         NaN   \n",
       "10358      0.08       0.0      0.00         0.03          68.0         7.0   \n",
       "15702      0.02       0.0      0.00         0.00          63.0         7.1   \n",
       "\n",
       "      rating  score_relation  \n",
       "419        T        0.105501  \n",
       "10358      E        0.096557  \n",
       "15702      T        0.100388  "
      ]
     },
     "metadata": {},
     "output_type": "display_data"
    },
    {
     "name": "stdout",
     "output_type": "stream",
     "text": [
      "Пропусков в оценках пользователей после преобразований: 7892\n"
     ]
    }
   ],
   "source": [
    "# создадим ф-цию для добавления вспомогтельной фичи\n",
    "def add_rel(row):\n",
    "    return genre_scores.loc[row['genre']]['relation']\n",
    "    \n",
    "data['score_relation'] = data.apply(add_rel, axis=1)\n",
    "\n",
    "# проверим данные с новой фичой\n",
    "display(data.sample(3))\n",
    "\n",
    "# произведем заполнение пропусков\n",
    "data['user_score'] = data['user_score'].fillna(data['critic_score'] * data['score_relation'])\n",
    "\n",
    "# проверим данные\n",
    "display(data.sample(3))\n",
    "print('Пропусков в оценках пользователей после преобразований:', data['user_score'].isna().sum())"
   ]
  },
  {
   "cell_type": "code",
   "execution_count": 72,
   "metadata": {},
   "outputs": [
    {
     "data": {
      "text/html": [
       "<div>\n",
       "<style scoped>\n",
       "    .dataframe tbody tr th:only-of-type {\n",
       "        vertical-align: middle;\n",
       "    }\n",
       "\n",
       "    .dataframe tbody tr th {\n",
       "        vertical-align: top;\n",
       "    }\n",
       "\n",
       "    .dataframe thead th {\n",
       "        text-align: right;\n",
       "    }\n",
       "</style>\n",
       "<table border=\"1\" class=\"dataframe\">\n",
       "  <thead>\n",
       "    <tr style=\"text-align: right;\">\n",
       "      <th></th>\n",
       "      <th>name</th>\n",
       "      <th>platform</th>\n",
       "      <th>year_of_release</th>\n",
       "      <th>genre</th>\n",
       "      <th>na_sales</th>\n",
       "      <th>eu_sales</th>\n",
       "      <th>jp_sales</th>\n",
       "      <th>other_sales</th>\n",
       "      <th>critic_score</th>\n",
       "      <th>user_score</th>\n",
       "      <th>rating</th>\n",
       "      <th>score_relation</th>\n",
       "    </tr>\n",
       "  </thead>\n",
       "  <tbody>\n",
       "    <tr>\n",
       "      <th>10593</th>\n",
       "      <td>You Don't Know Jack: Mock 2</td>\n",
       "      <td>PS</td>\n",
       "      <td>2000.0</td>\n",
       "      <td>Misc</td>\n",
       "      <td>0.06</td>\n",
       "      <td>0.04</td>\n",
       "      <td>0.00</td>\n",
       "      <td>0.01</td>\n",
       "      <td>82.0</td>\n",
       "      <td>8.373471</td>\n",
       "      <td>E</td>\n",
       "      <td>0.102115</td>\n",
       "    </tr>\n",
       "    <tr>\n",
       "      <th>14886</th>\n",
       "      <td>Cake Mania: Baker's Challenge</td>\n",
       "      <td>PS2</td>\n",
       "      <td>2008.0</td>\n",
       "      <td>Puzzle</td>\n",
       "      <td>0.01</td>\n",
       "      <td>0.01</td>\n",
       "      <td>0.00</td>\n",
       "      <td>0.00</td>\n",
       "      <td>NaN</td>\n",
       "      <td>NaN</td>\n",
       "      <td>E</td>\n",
       "      <td>0.106176</td>\n",
       "    </tr>\n",
       "    <tr>\n",
       "      <th>776</th>\n",
       "      <td>Final Fantasy Tactics Advance</td>\n",
       "      <td>GBA</td>\n",
       "      <td>2003.0</td>\n",
       "      <td>Role-Playing</td>\n",
       "      <td>0.82</td>\n",
       "      <td>0.37</td>\n",
       "      <td>0.89</td>\n",
       "      <td>0.05</td>\n",
       "      <td>87.0</td>\n",
       "      <td>7.800000</td>\n",
       "      <td>E</td>\n",
       "      <td>0.104940</td>\n",
       "    </tr>\n",
       "  </tbody>\n",
       "</table>\n",
       "</div>"
      ],
      "text/plain": [
       "                                name platform  year_of_release         genre  \\\n",
       "10593    You Don't Know Jack: Mock 2       PS           2000.0          Misc   \n",
       "14886  Cake Mania: Baker's Challenge      PS2           2008.0        Puzzle   \n",
       "776    Final Fantasy Tactics Advance      GBA           2003.0  Role-Playing   \n",
       "\n",
       "       na_sales  eu_sales  jp_sales  other_sales  critic_score  user_score  \\\n",
       "10593      0.06      0.04      0.00         0.01          82.0    8.373471   \n",
       "14886      0.01      0.01      0.00         0.00           NaN         NaN   \n",
       "776        0.82      0.37      0.89         0.05          87.0    7.800000   \n",
       "\n",
       "      rating  score_relation  \n",
       "10593      E        0.102115  \n",
       "14886      E        0.106176  \n",
       "776        E        0.104940  "
      ]
     },
     "metadata": {},
     "output_type": "display_data"
    },
    {
     "name": "stdout",
     "output_type": "stream",
     "text": [
      "Пропусков в оценках критиков после преобразований: 7892\n"
     ]
    }
   ],
   "source": [
    "# аналогично заполним пропуски в оценках критиков\n",
    "data['critic_score'] = data['critic_score'].fillna(data['user_score'] // data['score_relation'])\n",
    "\n",
    "# проверим данные\n",
    "display(data.sample(3))\n",
    "print('Пропусков в оценках критиков после преобразований:', data['critic_score'].isna().sum())"
   ]
  },
  {
   "cell_type": "markdown",
   "metadata": {},
   "source": [
    "<b> ВЫВОД:</b> все остальные наблюдения имеют пропуски в оценках обоих типов. Вспомогательный столбец можно удалить за ненадобностью и перейти к изменению типов данных."
   ]
  },
  {
   "cell_type": "code",
   "execution_count": 73,
   "metadata": {},
   "outputs": [
    {
     "data": {
      "text/html": [
       "<div>\n",
       "<style scoped>\n",
       "    .dataframe tbody tr th:only-of-type {\n",
       "        vertical-align: middle;\n",
       "    }\n",
       "\n",
       "    .dataframe tbody tr th {\n",
       "        vertical-align: top;\n",
       "    }\n",
       "\n",
       "    .dataframe thead th {\n",
       "        text-align: right;\n",
       "    }\n",
       "</style>\n",
       "<table border=\"1\" class=\"dataframe\">\n",
       "  <thead>\n",
       "    <tr style=\"text-align: right;\">\n",
       "      <th></th>\n",
       "      <th>name</th>\n",
       "      <th>platform</th>\n",
       "      <th>year_of_release</th>\n",
       "      <th>genre</th>\n",
       "      <th>na_sales</th>\n",
       "      <th>eu_sales</th>\n",
       "      <th>jp_sales</th>\n",
       "      <th>other_sales</th>\n",
       "      <th>critic_score</th>\n",
       "      <th>user_score</th>\n",
       "      <th>rating</th>\n",
       "    </tr>\n",
       "  </thead>\n",
       "  <tbody>\n",
       "    <tr>\n",
       "      <th>7733</th>\n",
       "      <td>Danganronpa 2: Goodbye Despair</td>\n",
       "      <td>PSP</td>\n",
       "      <td>2012.0</td>\n",
       "      <td>Misc</td>\n",
       "      <td>0.00</td>\n",
       "      <td>0.00</td>\n",
       "      <td>0.19</td>\n",
       "      <td>0.00</td>\n",
       "      <td>NaN</td>\n",
       "      <td>NaN</td>\n",
       "      <td>E</td>\n",
       "    </tr>\n",
       "    <tr>\n",
       "      <th>4084</th>\n",
       "      <td>Jeopardy!</td>\n",
       "      <td>PS2</td>\n",
       "      <td>2003.0</td>\n",
       "      <td>Misc</td>\n",
       "      <td>0.24</td>\n",
       "      <td>0.18</td>\n",
       "      <td>0.00</td>\n",
       "      <td>0.06</td>\n",
       "      <td>NaN</td>\n",
       "      <td>NaN</td>\n",
       "      <td>E</td>\n",
       "    </tr>\n",
       "    <tr>\n",
       "      <th>12790</th>\n",
       "      <td>The Lord of the Rings: Aragorn's Quest</td>\n",
       "      <td>PS2</td>\n",
       "      <td>2010.0</td>\n",
       "      <td>Action</td>\n",
       "      <td>0.03</td>\n",
       "      <td>0.02</td>\n",
       "      <td>0.00</td>\n",
       "      <td>0.01</td>\n",
       "      <td>NaN</td>\n",
       "      <td>NaN</td>\n",
       "      <td>E10+</td>\n",
       "    </tr>\n",
       "  </tbody>\n",
       "</table>\n",
       "</div>"
      ],
      "text/plain": [
       "                                         name platform  year_of_release  \\\n",
       "7733           Danganronpa 2: Goodbye Despair      PSP           2012.0   \n",
       "4084                                Jeopardy!      PS2           2003.0   \n",
       "12790  The Lord of the Rings: Aragorn's Quest      PS2           2010.0   \n",
       "\n",
       "        genre  na_sales  eu_sales  jp_sales  other_sales  critic_score  \\\n",
       "7733     Misc      0.00      0.00      0.19         0.00           NaN   \n",
       "4084     Misc      0.24      0.18      0.00         0.06           NaN   \n",
       "12790  Action      0.03      0.02      0.00         0.01           NaN   \n",
       "\n",
       "       user_score rating  \n",
       "7733          NaN      E  \n",
       "4084          NaN      E  \n",
       "12790         NaN   E10+  "
      ]
     },
     "execution_count": 73,
     "metadata": {},
     "output_type": "execute_result"
    }
   ],
   "source": [
    "# удалим вспомогательный столбец\n",
    "data.drop('score_relation', axis = 1, inplace = True)\n",
    "\n",
    "# проверим данные\n",
    "data.sample(3)"
   ]
  },
  {
   "cell_type": "markdown",
   "metadata": {},
   "source": [
    "### Изменение типов данных"
   ]
  },
  {
   "cell_type": "code",
   "execution_count": 74,
   "metadata": {},
   "outputs": [
    {
     "data": {
      "text/plain": [
       "name                object\n",
       "platform            object\n",
       "year_of_release      Int64\n",
       "genre               object\n",
       "na_sales           float64\n",
       "eu_sales           float64\n",
       "jp_sales           float64\n",
       "other_sales        float64\n",
       "critic_score         Int64\n",
       "user_score         float64\n",
       "rating              object\n",
       "dtype: object"
      ]
     },
     "execution_count": 74,
     "metadata": {},
     "output_type": "execute_result"
    }
   ],
   "source": [
    "# сделаем целочисленный год\n",
    "data['year_of_release'] = data['year_of_release'].astype('Int64')\n",
    "\n",
    "# изменим оценки критиков\n",
    "data['critic_score'] = data['critic_score'].astype('Int64')\n",
    "\n",
    "# проверим изменения\n",
    "data.dtypes"
   ]
  },
  {
   "cell_type": "markdown",
   "metadata": {},
   "source": [
    "### Подсчет суммарных продаж"
   ]
  },
  {
   "cell_type": "code",
   "execution_count": 75,
   "metadata": {},
   "outputs": [
    {
     "data": {
      "text/html": [
       "<div>\n",
       "<style scoped>\n",
       "    .dataframe tbody tr th:only-of-type {\n",
       "        vertical-align: middle;\n",
       "    }\n",
       "\n",
       "    .dataframe tbody tr th {\n",
       "        vertical-align: top;\n",
       "    }\n",
       "\n",
       "    .dataframe thead th {\n",
       "        text-align: right;\n",
       "    }\n",
       "</style>\n",
       "<table border=\"1\" class=\"dataframe\">\n",
       "  <thead>\n",
       "    <tr style=\"text-align: right;\">\n",
       "      <th></th>\n",
       "      <th>name</th>\n",
       "      <th>platform</th>\n",
       "      <th>year_of_release</th>\n",
       "      <th>genre</th>\n",
       "      <th>na_sales</th>\n",
       "      <th>eu_sales</th>\n",
       "      <th>jp_sales</th>\n",
       "      <th>other_sales</th>\n",
       "      <th>critic_score</th>\n",
       "      <th>user_score</th>\n",
       "      <th>rating</th>\n",
       "      <th>total_sales</th>\n",
       "    </tr>\n",
       "  </thead>\n",
       "  <tbody>\n",
       "    <tr>\n",
       "      <th>13604</th>\n",
       "      <td>Corpse Party: Book of Shadows</td>\n",
       "      <td>PSP</td>\n",
       "      <td>2011</td>\n",
       "      <td>Adventure</td>\n",
       "      <td>0.00</td>\n",
       "      <td>0.00</td>\n",
       "      <td>0.04</td>\n",
       "      <td>0.00</td>\n",
       "      <td>67</td>\n",
       "      <td>8.2</td>\n",
       "      <td>M</td>\n",
       "      <td>0.04</td>\n",
       "    </tr>\n",
       "    <tr>\n",
       "      <th>6377</th>\n",
       "      <td>Ultimate NES Remix</td>\n",
       "      <td>3DS</td>\n",
       "      <td>2014</td>\n",
       "      <td>Action</td>\n",
       "      <td>0.15</td>\n",
       "      <td>0.09</td>\n",
       "      <td>0.00</td>\n",
       "      <td>0.02</td>\n",
       "      <td>69</td>\n",
       "      <td>7.6</td>\n",
       "      <td>E</td>\n",
       "      <td>0.26</td>\n",
       "    </tr>\n",
       "    <tr>\n",
       "      <th>15290</th>\n",
       "      <td>Geon Cube</td>\n",
       "      <td>Wii</td>\n",
       "      <td>2009</td>\n",
       "      <td>Puzzle</td>\n",
       "      <td>0.02</td>\n",
       "      <td>0.00</td>\n",
       "      <td>0.00</td>\n",
       "      <td>0.00</td>\n",
       "      <td>&lt;NA&gt;</td>\n",
       "      <td>NaN</td>\n",
       "      <td>E</td>\n",
       "      <td>0.02</td>\n",
       "    </tr>\n",
       "  </tbody>\n",
       "</table>\n",
       "</div>"
      ],
      "text/plain": [
       "                                name platform  year_of_release      genre  \\\n",
       "13604  Corpse Party: Book of Shadows      PSP             2011  Adventure   \n",
       "6377              Ultimate NES Remix      3DS             2014     Action   \n",
       "15290                      Geon Cube      Wii             2009     Puzzle   \n",
       "\n",
       "       na_sales  eu_sales  jp_sales  other_sales  critic_score  user_score  \\\n",
       "13604      0.00      0.00      0.04         0.00            67         8.2   \n",
       "6377       0.15      0.09      0.00         0.02            69         7.6   \n",
       "15290      0.02      0.00      0.00         0.00          <NA>         NaN   \n",
       "\n",
       "      rating  total_sales  \n",
       "13604      M         0.04  \n",
       "6377       E         0.26  \n",
       "15290      E         0.02  "
      ]
     },
     "execution_count": 75,
     "metadata": {},
     "output_type": "execute_result"
    }
   ],
   "source": [
    "data['total_sales'] =  data['eu_sales'] + data['jp_sales'] + data['na_sales'] + data['other_sales']  \n",
    "\n",
    "# проверим данные\n",
    "data.sample(3)"
   ]
  },
  {
   "cell_type": "markdown",
   "metadata": {},
   "source": [
    "### Вывод:\n",
    "- данные загружены и изучены\n",
    "- данные предобработаны (заполнены пропуски, изменены типы, удалены ненужные значения)\n",
    "- добавлен столбец с продажами \n",
    "\n",
    "Можно переходить к исследовательскому анализу."
   ]
  },
  {
   "cell_type": "markdown",
   "metadata": {},
   "source": [
    "## Исследовательский анализ данных \n",
    "\n",
    "<b>Стадия I. Анализ для выявления актуального периода</b>\n",
    "- определить, сколько игр выпускалось в разные годы. Важны ли данные за все периоды?\n",
    "- определить, как менялись продажи по платформам. \n",
    "- выбрать платформы с наибольшими суммарными продажами и построить распределение по годам. \n",
    "- определить характерный срок, за который появляются новые и исчезают старые платформы\n",
    "- определить актуальный период, данные за который помогут построить прогноз на 2017 год.\n",
    "\n",
    "<b>Стадия II. Анализ данных по актуальному периоду</b>\n",
    "- определить, какие платформы лидируют по продажам, какие растут и какие или падают. Выбрать несколько потенциально прибыльных платформ.\n",
    "- построить «ящик с усами» по глобальным продажам игр в разбивке по платформам. Описать результат.\n",
    "- определить, как влияют на продажи внутри одной популярной платформы отзывы пользователей и критиков. \n",
    "- построить диаграмму рассеяния и посчитайте корреляцию между отзывами и продажами. Сделать выводы.\n",
    "- соотнести выводы с продажами игр на других платформах.\n",
    "- посмотреть на общее распределение игр по жанрам. Описать самые прибыльные жанры. Определить, выделяются ли жанры с высокими и низкими продажами."
   ]
  },
  {
   "cell_type": "markdown",
   "metadata": {},
   "source": [
    "### Установление актуального периода"
   ]
  },
  {
   "cell_type": "markdown",
   "metadata": {},
   "source": [
    "#### Изучение количества выпущенных игр в разные годы"
   ]
  },
  {
   "cell_type": "code",
   "execution_count": 76,
   "metadata": {},
   "outputs": [
    {
     "data": {
      "text/plain": [
       "Text(0.5, 1.0, 'Динамика выпуска игр по годам')"
      ]
     },
     "execution_count": 76,
     "metadata": {},
     "output_type": "execute_result"
    },
    {
     "data": {
      "image/png": "[encoded data removed]",
      "text/plain": [
       "<Figure size 216x360 with 1 Axes>"
      ]
     },
     "metadata": {
      "needs_background": "light"
     },
     "output_type": "display_data"
    },
    {
     "data": {
      "image/png": "[encoded data removed]",
      "text/plain": [
       "<Figure size 432x288 with 1 Axes>"
      ]
     },
     "metadata": {
      "needs_background": "light"
     },
     "output_type": "display_data"
    }
   ],
   "source": [
    "# визуализируем кол-во игр по годам\n",
    "data.boxplot(column = 'year_of_release', figsize = (3,5))\n",
    "plt.title('Количество игр, выпущенных в разные годы')\n",
    "\n",
    "# посмотрим на кол-во игр в динамике\n",
    "data.groupby('year_of_release').agg({'name':'count'}).plot(grid = True, sharex = True)\n",
    "plt.title('Динамика выпуска игр по годам')"
   ]
  },
  {
   "cell_type": "markdown",
   "metadata": {},
   "source": [
    "<b>ВЫВОДЫ:</b>\n",
    "- выбросы ниже 1993 года\n",
    "- медиана - 2007 год\n",
    "- граница верхней нормы - 2016 год\n",
    "- диапазон Q2-Q3: 2003-2010 год\n",
    "\n",
    "Период \"роста\" с 1993 по 2007 с небольшими периодами упадка в 1997-1998, 2002-2004. После 2007-2008 года, когда наблюдалось плато, пошел период спада, довольно резкий и продлившийся до 2013 года. 2013-2014 год - небольшой рост, далее график уходит вниз, это мб обусловлено отсутствием всех необходимых данных за 2016 год.\n",
    "\n",
    "<b>Гипотеза:</b> судя по динамике, после пика в 2007-2008 производство стабильно идет на спад. Поэтому, вероятно, целесообразно учитывать данные после \"пикового\" периода. Гипотезу нужно будет подтвердить другими данными, например, \"сроком жизни\" платформ.\n",
    "Игры старше 1993 года можно не учитывать при анализе. "
   ]
  },
  {
   "cell_type": "code",
   "execution_count": 77,
   "metadata": {},
   "outputs": [
    {
     "name": "stdout",
     "output_type": "stream",
     "text": [
      "Игр выпуска 1993 года и позже: 16079\n"
     ]
    }
   ],
   "source": [
    "# удалим игры старше 1993 года\n",
    "data = data.query('year_of_release > 1993')\n",
    "print('Игр выпуска 1993 года и позже:', len(data))"
   ]
  },
  {
   "cell_type": "markdown",
   "metadata": {},
   "source": [
    "#### Определение динамики продаж по разным платформам"
   ]
  },
  {
   "cell_type": "code",
   "execution_count": 78,
   "metadata": {},
   "outputs": [
    {
     "data": {
      "text/html": [
       "<div>\n",
       "<style scoped>\n",
       "    .dataframe tbody tr th:only-of-type {\n",
       "        vertical-align: middle;\n",
       "    }\n",
       "\n",
       "    .dataframe tbody tr th {\n",
       "        vertical-align: top;\n",
       "    }\n",
       "\n",
       "    .dataframe thead th {\n",
       "        text-align: right;\n",
       "    }\n",
       "</style>\n",
       "<table border=\"1\" class=\"dataframe\">\n",
       "  <thead>\n",
       "    <tr style=\"text-align: right;\">\n",
       "      <th></th>\n",
       "      <th></th>\n",
       "      <th>total_sales</th>\n",
       "    </tr>\n",
       "    <tr>\n",
       "      <th>year_of_release</th>\n",
       "      <th>platform</th>\n",
       "      <th></th>\n",
       "    </tr>\n",
       "  </thead>\n",
       "  <tbody>\n",
       "    <tr>\n",
       "      <th>2004</th>\n",
       "      <th>PS2</th>\n",
       "      <td>211.81</td>\n",
       "    </tr>\n",
       "    <tr>\n",
       "      <th>2009</th>\n",
       "      <th>Wii</th>\n",
       "      <td>206.97</td>\n",
       "    </tr>\n",
       "    <tr>\n",
       "      <th>2002</th>\n",
       "      <th>PS2</th>\n",
       "      <td>205.38</td>\n",
       "    </tr>\n",
       "    <tr>\n",
       "      <th>2003</th>\n",
       "      <th>PS2</th>\n",
       "      <td>184.31</td>\n",
       "    </tr>\n",
       "    <tr>\n",
       "      <th>2008</th>\n",
       "      <th>Wii</th>\n",
       "      <td>171.32</td>\n",
       "    </tr>\n",
       "    <tr>\n",
       "      <th>2010</th>\n",
       "      <th>X360</th>\n",
       "      <td>170.03</td>\n",
       "    </tr>\n",
       "    <tr>\n",
       "      <th>1998</th>\n",
       "      <th>PS</th>\n",
       "      <td>169.49</td>\n",
       "    </tr>\n",
       "    <tr>\n",
       "      <th>2001</th>\n",
       "      <th>PS2</th>\n",
       "      <td>166.43</td>\n",
       "    </tr>\n",
       "    <tr>\n",
       "      <th>2005</th>\n",
       "      <th>PS2</th>\n",
       "      <td>160.66</td>\n",
       "    </tr>\n",
       "    <tr>\n",
       "      <th>2011</th>\n",
       "      <th>PS3</th>\n",
       "      <td>156.78</td>\n",
       "    </tr>\n",
       "  </tbody>\n",
       "</table>\n",
       "</div>"
      ],
      "text/plain": [
       "                          total_sales\n",
       "year_of_release platform             \n",
       "2004            PS2            211.81\n",
       "2009            Wii            206.97\n",
       "2002            PS2            205.38\n",
       "2003            PS2            184.31\n",
       "2008            Wii            171.32\n",
       "2010            X360           170.03\n",
       "1998            PS             169.49\n",
       "2001            PS2            166.43\n",
       "2005            PS2            160.66\n",
       "2011            PS3            156.78"
      ]
     },
     "metadata": {},
     "output_type": "display_data"
    },
    {
     "data": {
      "text/plain": [
       "<AxesSubplot:xlabel='year_of_release,platform'>"
      ]
     },
     "execution_count": 78,
     "metadata": {},
     "output_type": "execute_result"
    },
    {
     "data": {
      "image/png": "[encoded data removed]",
      "text/plain": [
       "<Figure size 2880x504 with 1 Axes>"
      ]
     },
     "metadata": {
      "needs_background": "light"
     },
     "output_type": "display_data"
    }
   ],
   "source": [
    "# аггрегируем сведения по годам и платформам \n",
    "display(data.groupby(['year_of_release', 'platform']).agg({'total_sales' : 'sum'}).sort_values(by = 'total_sales',\n",
    "                                                                                               ascending = False).head(10))\n",
    "# добавим визуализацию\n",
    "data.groupby(['year_of_release', 'platform']).agg({'total_sales' : 'sum'}).plot(kind = 'bar', figsize = (40,7))"
   ]
  },
  {
   "cell_type": "markdown",
   "metadata": {},
   "source": [
    "<b>ВЫВОД:</b> для почти всех платформ характерно нормальное распределение продаж, самые высокие продажи в середине периода существования платформы, с возрастающими значениями до середины и снижением к концу \"жизни\" платформы."
   ]
  },
  {
   "cell_type": "markdown",
   "metadata": {},
   "source": [
    "#### Выявление самых высокопродаваемых платформ "
   ]
  },
  {
   "cell_type": "code",
   "execution_count": 79,
   "metadata": {},
   "outputs": [
    {
     "data": {
      "text/plain": [
       "<AxesSubplot:xlabel='platform'>"
      ]
     },
     "metadata": {},
     "output_type": "display_data"
    },
    {
     "data": {
      "text/plain": [
       "Text(0.5, 1.0, 'Топ-10 высокопродаваемых платформ')"
      ]
     },
     "execution_count": 79,
     "metadata": {},
     "output_type": "execute_result"
    },
    {
     "data": {
      "image/png": "[encoded data removed]",
      "text/plain": [
       "<Figure size 432x288 with 1 Axes>"
      ]
     },
     "metadata": {
      "needs_background": "light"
     },
     "output_type": "display_data"
    }
   ],
   "source": [
    "# аггрегируем сведения по платформам без учета года \n",
    "display(data.groupby(['platform']).agg({'total_sales' : 'sum'}).sort_values(by = 'total_sales',\n",
    "                                                                                               ascending = False).head(10).plot(kind = 'bar'))\n",
    "plt.title('Топ-10 высокопродаваемых платформ')"
   ]
  },
  {
   "cell_type": "markdown",
   "metadata": {},
   "source": [
    "<b>ВЫВОД:</b> со значительным отрывом выявлено шесть лидеров:\n",
    "- PS2\n",
    "- X360\n",
    "- PS3\n",
    "- Wii\n",
    "- DS\n",
    "- PS"
   ]
  },
  {
   "cell_type": "code",
   "execution_count": 80,
   "metadata": {},
   "outputs": [
    {
     "data": {
      "text/plain": [
       "Text(0.5, 1.0, 'Динамика продаж топовых платформ по годам')"
      ]
     },
     "execution_count": 80,
     "metadata": {},
     "output_type": "execute_result"
    },
    {
     "data": {
      "image/png": "[encoded data removed]",
      "text/plain": [
       "<Figure size 2520x432 with 1 Axes>"
      ]
     },
     "metadata": {
      "needs_background": "light"
     },
     "output_type": "display_data"
    }
   ],
   "source": [
    "# отберем топовые платформы\n",
    "tops =  ['PS2', 'X360', 'PS3', 'Wii', 'DS', 'PS', 'PS4', 'GBA', 'PSP', '3DS']\n",
    "top_platforms = data.query('platform in @tops')\n",
    "\n",
    "# сгруппируем по годам и визуализируем\n",
    "top_platforms.groupby(['platform', 'year_of_release']).agg({'total_sales' :'sum'}).plot(kind = 'bar',\n",
    "                                                                                        figsize = (35,6))\n",
    "plt.title('Динамика продаж топовых платформ по годам', fontsize = 20)"
   ]
  },
  {
   "cell_type": "markdown",
   "metadata": {},
   "source": [
    "<b>ВЫВОДЫ:</b>\n",
    "- для всех платформ характерно нормальное распределение продаж\n",
    "- спад продаж наблюдается, когда на смену платформе приходит другая, более популярная\n",
    "- как правило, после появления новой платформы, старая уходит с рынка\n",
    "- на момент 2016 года игры выпустили 4 высокопродаваемых платформы."
   ]
  },
  {
   "cell_type": "markdown",
   "metadata": {},
   "source": [
    "#### Определение срока жизни платформ"
   ]
  },
  {
   "cell_type": "code",
   "execution_count": 81,
   "metadata": {},
   "outputs": [
    {
     "name": "stdout",
     "output_type": "stream",
     "text": [
      "Средний срок жизни платформы состаляет: 8.6 лет\n"
     ]
    },
    {
     "data": {
      "text/plain": [
       "Text(0.5, 1.0, 'Срок жизни платформ')"
      ]
     },
     "execution_count": 81,
     "metadata": {},
     "output_type": "execute_result"
    },
    {
     "data": {
      "image/png": "[encoded data removed]",
      "text/plain": [
       "<Figure size 504x216 with 1 Axes>"
      ]
     },
     "metadata": {
      "needs_background": "light"
     },
     "output_type": "display_data"
    }
   ],
   "source": [
    "# определим средний срок жизни платформы\n",
    "life_period = top_platforms.groupby('platform').agg({'year_of_release':'max'})\n",
    "life_period['min'] = top_platforms.groupby('platform').agg({'year_of_release':'min'}).astype('int64')\n",
    "life_period['period'] = life_period['year_of_release'] - life_period['min']\n",
    "print('Средний срок жизни платформы состаляет:', life_period['period'].mean(), 'лет')\n",
    "\n",
    "# добавим визуализацию\n",
    "life_period['period'].plot(kind = 'bar', figsize = (7,3))\n",
    "plt.title('Срок жизни платформ')"
   ]
  },
  {
   "cell_type": "markdown",
   "metadata": {},
   "source": [
    "<b>ВЫВОД:</b> средний срок жизни платформы - 8,6 лет. "
   ]
  },
  {
   "cell_type": "markdown",
   "metadata": {},
   "source": [
    "#### Определение актуального периода для прогноза продаж на 2017 \n",
    "<b>Логика действий:</b>\n",
    "- установлено, что средний срок жизни платформы - 8.6 лет\n",
    "- срок жизни может быть и больше (т.к. показатели снижают \"молодые\" платформы), но, в любом случае, платформа должна выпустить хотя бы одну игру на период 2016 года"
   ]
  },
  {
   "cell_type": "code",
   "execution_count": 82,
   "metadata": {},
   "outputs": [
    {
     "data": {
      "text/plain": [
       "['3DS', 'PS3', 'PS4', 'Wii', 'X360']"
      ]
     },
     "execution_count": 82,
     "metadata": {},
     "output_type": "execute_result"
    }
   ],
   "source": [
    "# выявим актуальные платформы\n",
    "modern_platforms = list(life_period[life_period['year_of_release'] > 2015].index)\n",
    "# проверим данные\n",
    "modern_platforms"
   ]
  },
  {
   "cell_type": "markdown",
   "metadata": {},
   "source": [
    "<b>ВЫВОД:</b> выделены пять актуальных платформ. Будем рассматривать данные по ним за последние 9 лет."
   ]
  },
  {
   "cell_type": "markdown",
   "metadata": {},
   "source": [
    "### Анализ данных по актуальному периоду"
   ]
  },
  {
   "cell_type": "markdown",
   "metadata": {},
   "source": [
    "#### Определение платформ-лидеров по продажах. Определение платформ с растущими и убывающими продажами"
   ]
  },
  {
   "cell_type": "code",
   "execution_count": 83,
   "metadata": {},
   "outputs": [
    {
     "name": "stdout",
     "output_type": "stream",
     "text": [
      "Наблюдений за актуальный период: 8130\n"
     ]
    }
   ],
   "source": [
    "relevant_period = data.query('year_of_release > 2007')\n",
    "#relevant_period = relevant_period.query('platform in @modern_platforms')\n",
    "print('Наблюдений за актуальный период:', len(relevant_period))"
   ]
  },
  {
   "cell_type": "code",
   "execution_count": 84,
   "metadata": {},
   "outputs": [
    {
     "data": {
      "text/plain": [
       "Text(0.5, 1.0, 'Динамика продаж топовых платформ за актуальный период')"
      ]
     },
     "execution_count": 84,
     "metadata": {},
     "output_type": "execute_result"
    },
    {
     "data": {
      "image/png": "[encoded data removed]",
      "text/plain": [
       "<Figure size 1080x360 with 1 Axes>"
      ]
     },
     "metadata": {
      "needs_background": "light"
     },
     "output_type": "display_data"
    }
   ],
   "source": [
    "relevant_pivot = relevant_period.pivot_table(index = 'platform', columns = 'year_of_release',\n",
    "                       values = 'total_sales', aggfunc = 'sum')\n",
    "relevant_pivot.plot(kind = 'bar', figsize = (15,5))\n",
    "plt.title('Динамика продаж топовых платформ за актуальный период')"
   ]
  },
  {
   "cell_type": "markdown",
   "metadata": {},
   "source": [
    "<b>ВЫВОД:</b> \n",
    "<u>Лидеры продаж:</u> '3DS', 'PS3', 'PS4', 'Wii', 'X360'\n",
    "\n",
    "<u>Растущие продажи:</u> PS4, Xone.\n",
    "\n",
    "<u>Спад продаж:</u> 3DS, PS3, Wii, X360 и все остальные\n",
    "\n",
    "<b>Гипотеза:</b> потенциально прибыльная платформа PS4. Явные \"антиплатформы\" с самыми резкими спадами - PS3 (т.к. есть более новая модель той же линейки), Wii (по той же причине), X360. "
   ]
  },
  {
   "cell_type": "markdown",
   "metadata": {},
   "source": [
    "#### Изучение глобальных продаж по платформам"
   ]
  },
  {
   "cell_type": "code",
   "execution_count": 85,
   "metadata": {},
   "outputs": [
    {
     "data": {
      "text/plain": [
       "<AxesSubplot:title={'center':'total_sales'}, xlabel='platform'>"
      ]
     },
     "execution_count": 85,
     "metadata": {},
     "output_type": "execute_result"
    },
    {
     "data": {
      "image/png": "[encoded data removed]",
      "text/plain": [
       "<Figure size 864x360 with 1 Axes>"
      ]
     },
     "metadata": {
      "needs_background": "light"
     },
     "output_type": "display_data"
    }
   ],
   "source": [
    "relevant_period.boxplot(column = 'total_sales', by = 'platform', \n",
    "                        figsize = (12,5), showfliers = False)"
   ]
  },
  {
   "cell_type": "markdown",
   "metadata": {},
   "source": [
    "<b>ВЫВОД:</b> свыше 2 млн начинаются выбросы. При этом размах нормальных значений для каждой из платформ составляет:\n",
    "- 3DS в пределах 0.75 млн\n",
    "- PC в пределах 0.4\n",
    "- PS3 в пределах 1.7 млн\n",
    "- PS4 в пределах 1.75 млн\n",
    "- PSV в пределах 0.27 млн\n",
    "- Wii в пределах 1 млн\n",
    "- WiiU в пределах 1.2 млн\n",
    "- X360 в пределах 1.75 млн\n",
    "- XOne в пределах 1.6 млн"
   ]
  },
  {
   "cell_type": "markdown",
   "metadata": {},
   "source": [
    "#### Изучение влияния отзывов пользователей и критиков на продажи  внутри одной популярной платформы\n",
    "*для анализа возьмем PS4, так как она в топе с растущими продажами и относительно \"молодая\"*"
   ]
  },
  {
   "cell_type": "code",
   "execution_count": 86,
   "metadata": {},
   "outputs": [
    {
     "data": {
      "text/html": [
       "<div>\n",
       "<style scoped>\n",
       "    .dataframe tbody tr th:only-of-type {\n",
       "        vertical-align: middle;\n",
       "    }\n",
       "\n",
       "    .dataframe tbody tr th {\n",
       "        vertical-align: top;\n",
       "    }\n",
       "\n",
       "    .dataframe thead th {\n",
       "        text-align: right;\n",
       "    }\n",
       "</style>\n",
       "<table border=\"1\" class=\"dataframe\">\n",
       "  <thead>\n",
       "    <tr style=\"text-align: right;\">\n",
       "      <th></th>\n",
       "      <th>total_sales</th>\n",
       "    </tr>\n",
       "  </thead>\n",
       "  <tbody>\n",
       "    <tr>\n",
       "      <th>year_of_release</th>\n",
       "      <td>-0.235032</td>\n",
       "    </tr>\n",
       "    <tr>\n",
       "      <th>na_sales</th>\n",
       "      <td>0.928160</td>\n",
       "    </tr>\n",
       "    <tr>\n",
       "      <th>eu_sales</th>\n",
       "      <td>0.958157</td>\n",
       "    </tr>\n",
       "    <tr>\n",
       "      <th>jp_sales</th>\n",
       "      <td>0.527129</td>\n",
       "    </tr>\n",
       "    <tr>\n",
       "      <th>other_sales</th>\n",
       "      <td>0.998051</td>\n",
       "    </tr>\n",
       "    <tr>\n",
       "      <th>critic_score</th>\n",
       "      <td>0.404833</td>\n",
       "    </tr>\n",
       "    <tr>\n",
       "      <th>user_score</th>\n",
       "      <td>-0.033020</td>\n",
       "    </tr>\n",
       "    <tr>\n",
       "      <th>total_sales</th>\n",
       "      <td>1.000000</td>\n",
       "    </tr>\n",
       "  </tbody>\n",
       "</table>\n",
       "</div>"
      ],
      "text/plain": [
       "                 total_sales\n",
       "year_of_release    -0.235032\n",
       "na_sales            0.928160\n",
       "eu_sales            0.958157\n",
       "jp_sales            0.527129\n",
       "other_sales         0.998051\n",
       "critic_score        0.404833\n",
       "user_score         -0.033020\n",
       "total_sales         1.000000"
      ]
     },
     "metadata": {},
     "output_type": "display_data"
    },
    {
     "data": {
      "text/plain": [
       "Text(0.5, 1.0, 'Корреляция продаж и отзывов пользователей для PS4')"
      ]
     },
     "execution_count": 86,
     "metadata": {},
     "output_type": "execute_result"
    },
    {
     "data": {
      "image/png": "[encoded data removed]",
      "text/plain": [
       "<Figure size 432x288 with 1 Axes>"
      ]
     },
     "metadata": {
      "needs_background": "light"
     },
     "output_type": "display_data"
    },
    {
     "data": {
      "image/png": "[encoded data removed]",
      "text/plain": [
       "<Figure size 432x288 with 1 Axes>"
      ]
     },
     "metadata": {
      "needs_background": "light"
     },
     "output_type": "display_data"
    }
   ],
   "source": [
    "# возьмем срез данных\n",
    "ps4_data = relevant_period[relevant_period['platform'] =='PS4']\n",
    "\n",
    "# оценим корреляцию отзывов и продаж\n",
    "display(pd.DataFrame(ps4_data.corr()['total_sales']))\n",
    "\n",
    "# добавим визуализацию\n",
    "ps4_data.plot(x = 'critic_score', y = 'total_sales', kind = 'scatter')\n",
    "plt.title('Корреляция продаж и отзывов критиков для PS4')\n",
    "ps4_data.plot(x = 'user_score', y = 'total_sales', kind = 'scatter')\n",
    "plt.title('Корреляция продаж и отзывов пользователей для PS4')"
   ]
  },
  {
   "cell_type": "markdown",
   "metadata": {},
   "source": [
    "<b>ВЫВОД:</b> корреляция продаж с отзывами критиков составляет 0.4, она слабо-умеренная. Корреляция продаж с отзывами пользователей -0.03, она почти отсутствует."
   ]
  },
  {
   "cell_type": "markdown",
   "metadata": {},
   "source": [
    "#### Изучение корреляции продаж и отзывов на других платформах."
   ]
  },
  {
   "cell_type": "code",
   "execution_count": 87,
   "metadata": {},
   "outputs": [
    {
     "data": {
      "text/html": [
       "<div>\n",
       "<style scoped>\n",
       "    .dataframe tbody tr th:only-of-type {\n",
       "        vertical-align: middle;\n",
       "    }\n",
       "\n",
       "    .dataframe tbody tr th {\n",
       "        vertical-align: top;\n",
       "    }\n",
       "\n",
       "    .dataframe thead th {\n",
       "        text-align: right;\n",
       "    }\n",
       "</style>\n",
       "<table border=\"1\" class=\"dataframe\">\n",
       "  <thead>\n",
       "    <tr style=\"text-align: right;\">\n",
       "      <th></th>\n",
       "      <th>total_sales</th>\n",
       "    </tr>\n",
       "  </thead>\n",
       "  <tbody>\n",
       "    <tr>\n",
       "      <th>year_of_release</th>\n",
       "      <td>-0.024248</td>\n",
       "    </tr>\n",
       "    <tr>\n",
       "      <th>na_sales</th>\n",
       "      <td>0.947169</td>\n",
       "    </tr>\n",
       "    <tr>\n",
       "      <th>eu_sales</th>\n",
       "      <td>0.935212</td>\n",
       "    </tr>\n",
       "    <tr>\n",
       "      <th>jp_sales</th>\n",
       "      <td>0.546961</td>\n",
       "    </tr>\n",
       "    <tr>\n",
       "      <th>other_sales</th>\n",
       "      <td>0.880170</td>\n",
       "    </tr>\n",
       "    <tr>\n",
       "      <th>critic_score</th>\n",
       "      <td>0.262554</td>\n",
       "    </tr>\n",
       "    <tr>\n",
       "      <th>user_score</th>\n",
       "      <td>0.103048</td>\n",
       "    </tr>\n",
       "    <tr>\n",
       "      <th>total_sales</th>\n",
       "      <td>1.000000</td>\n",
       "    </tr>\n",
       "  </tbody>\n",
       "</table>\n",
       "</div>"
      ],
      "text/plain": [
       "                 total_sales\n",
       "year_of_release    -0.024248\n",
       "na_sales            0.947169\n",
       "eu_sales            0.935212\n",
       "jp_sales            0.546961\n",
       "other_sales         0.880170\n",
       "critic_score        0.262554\n",
       "user_score          0.103048\n",
       "total_sales         1.000000"
      ]
     },
     "metadata": {},
     "output_type": "display_data"
    },
    {
     "data": {
      "text/plain": [
       "Text(0.5, 1.0, 'Корреляция продаж и отзывов критиков')"
      ]
     },
     "execution_count": 87,
     "metadata": {},
     "output_type": "execute_result"
    },
    {
     "data": {
      "image/png": "[encoded data removed]",
      "text/plain": [
       "<Figure size 432x288 with 1 Axes>"
      ]
     },
     "metadata": {
      "needs_background": "light"
     },
     "output_type": "display_data"
    },
    {
     "data": {
      "image/png": "[encoded data removed]",
      "text/plain": [
       "<Figure size 432x288 with 1 Axes>"
      ]
     },
     "metadata": {
      "needs_background": "light"
     },
     "output_type": "display_data"
    }
   ],
   "source": [
    "# возьмем срез данных\n",
    "other_platforms = relevant_period[relevant_period['platform'] !='PS4']\n",
    "display(pd.DataFrame(other_platforms.corr()['total_sales']))\n",
    "\n",
    "# добавим визуализацию\n",
    "other_platforms.plot(x = 'user_score', y = 'total_sales', kind = 'scatter')\n",
    "plt.title('Корреляция продаж и отзывов пользователей')\n",
    "other_platforms.plot(x = 'critic_score', y = 'total_sales', kind = 'scatter')\n",
    "plt.title('Корреляция продаж и отзывов критиков')"
   ]
  },
  {
   "cell_type": "markdown",
   "metadata": {},
   "source": [
    "<b>ВЫВОД:</b> в рамках остальных платформ наблюдается та же самая тенденция, что и для XOne: слабая корреляция между продажами и отзывами критиков и практически полное ее отсутствие в случае отзывов пользователей."
   ]
  },
  {
   "cell_type": "markdown",
   "metadata": {},
   "source": [
    "#### Изучение распределения игр по жанрам. Выделение наиболее прибыльных жанров. Выявление жанров с высокими и низкими продажами"
   ]
  },
  {
   "cell_type": "code",
   "execution_count": 88,
   "metadata": {},
   "outputs": [
    {
     "data": {
      "text/plain": [
       "Text(0.5, 1.0, 'Распределение кол-ва выпущенных игр и их продаж по жанрам')"
      ]
     },
     "execution_count": 88,
     "metadata": {},
     "output_type": "execute_result"
    },
    {
     "data": {
      "image/png": "[encoded data removed]",
      "text/plain": [
       "<Figure size 720x288 with 1 Axes>"
      ]
     },
     "metadata": {
      "needs_background": "light"
     },
     "output_type": "display_data"
    }
   ],
   "source": [
    "# аггрегируем данные и визуализируем их\n",
    "relevant_period.pivot_table(index = 'genre', values = ['total_sales', 'name'],\n",
    "                      aggfunc = {'total_sales':'sum', 'name':'count'}).plot(kind = 'bar', figsize = (10,4))\n",
    "plt.title('Распределение кол-ва выпущенных игр и их продаж по жанрам')"
   ]
  },
  {
   "cell_type": "markdown",
   "metadata": {},
   "source": [
    "<b>ВЫВОД:</b> топ-5 жанров по продажам:\n",
    "- action\n",
    "- shooter\n",
    "- role playing\n",
    "- sports\n",
    "- misc\n",
    "\n",
    "Жанры с самыми низкими продажами:\n",
    "- puzzle\n",
    "- strategy\n",
    "- adventure\n",
    "- simulation\n",
    "- fighting"
   ]
  },
  {
   "cell_type": "markdown",
   "metadata": {},
   "source": [
    "### Вывод:\n",
    "\n",
    "- На основании данных определен актуальный период исследования: 2009-2016 год. Установлено, что средний срок жизни платформы составляет 8,6 лет.\n",
    "\n",
    "- Лидеры продаж по платформам: 3DS, PS3, PS4, X360, XOne. При этом растущая тенденция продаж наблюдается только у двух платформ: PS4 и XOne. Платформы PC, PSV и WiiU характеризуются плавным падением продаж, резкий спад продаж наблюдается у платформ 3DS, PS3, Wii, X360. Возможная причина - появление более новой платформы в рамках одной линейки.\n",
    "\n",
    "<b>Гипотеза</b> потенциально прибыльные для развития платформы PS4 и XOne (т.к. у них растущие продажи и они в топ-5 лидеров по продажам).\n",
    "\n",
    "- Размах нормальных значений продаж для каждой из платформ составляет не более 0.5-1.75 млн копий. \n",
    "\n",
    "- для всех платформ наблюдается слабая корреляция между продажами и отзывами критиков и практически полное ее отсутствие в случае отзывов пользователей.\n",
    "\n",
    "- топ-5 жанров по продажам: action, shooter, role playing, sports, misc.\n",
    "\n",
    "- жанры с самыми низкими продажами: puzzle, strategy, adventure, simulation, fighting."
   ]
  },
  {
   "cell_type": "markdown",
   "metadata": {},
   "source": [
    "## Составление портрета пользователя каждого региона\n",
    "<b>Задачи:</b>\n",
    "\n",
    "Определить для пользователя каждого региона (NA, EU, JP):\n",
    "- самые популярные платформы (топ-5). Описать различия в долях продаж.\n",
    "- самые популярные жанры (топ-5). Пояснить разницу.\n",
    "- влияет ли рейтинг ESRB на продажи в отдельном регионе."
   ]
  },
  {
   "cell_type": "markdown",
   "metadata": {},
   "source": [
    "### Определение топ-5 платформ по регионам. Описание различий в продажах"
   ]
  },
  {
   "cell_type": "code",
   "execution_count": 89,
   "metadata": {},
   "outputs": [
    {
     "data": {
      "text/html": [
       "<div>\n",
       "<style scoped>\n",
       "    .dataframe tbody tr th:only-of-type {\n",
       "        vertical-align: middle;\n",
       "    }\n",
       "\n",
       "    .dataframe tbody tr th {\n",
       "        vertical-align: top;\n",
       "    }\n",
       "\n",
       "    .dataframe thead th {\n",
       "        text-align: right;\n",
       "    }\n",
       "</style>\n",
       "<table border=\"1\" class=\"dataframe\">\n",
       "  <thead>\n",
       "    <tr style=\"text-align: right;\">\n",
       "      <th></th>\n",
       "      <th>eu_sales</th>\n",
       "    </tr>\n",
       "    <tr>\n",
       "      <th>platform</th>\n",
       "      <th></th>\n",
       "    </tr>\n",
       "  </thead>\n",
       "  <tbody>\n",
       "    <tr>\n",
       "      <th>PS3</th>\n",
       "      <td>293.73</td>\n",
       "    </tr>\n",
       "    <tr>\n",
       "      <th>X360</th>\n",
       "      <td>234.88</td>\n",
       "    </tr>\n",
       "    <tr>\n",
       "      <th>Wii</th>\n",
       "      <td>170.74</td>\n",
       "    </tr>\n",
       "    <tr>\n",
       "      <th>PS4</th>\n",
       "      <td>141.09</td>\n",
       "    </tr>\n",
       "    <tr>\n",
       "      <th>PC</th>\n",
       "      <td>92.17</td>\n",
       "    </tr>\n",
       "  </tbody>\n",
       "</table>\n",
       "</div>"
      ],
      "text/plain": [
       "          eu_sales\n",
       "platform          \n",
       "PS3         293.73\n",
       "X360        234.88\n",
       "Wii         170.74\n",
       "PS4         141.09\n",
       "PC           92.17"
      ]
     },
     "metadata": {},
     "output_type": "display_data"
    },
    {
     "data": {
      "text/html": [
       "<div>\n",
       "<style scoped>\n",
       "    .dataframe tbody tr th:only-of-type {\n",
       "        vertical-align: middle;\n",
       "    }\n",
       "\n",
       "    .dataframe tbody tr th {\n",
       "        vertical-align: top;\n",
       "    }\n",
       "\n",
       "    .dataframe thead th {\n",
       "        text-align: right;\n",
       "    }\n",
       "</style>\n",
       "<table border=\"1\" class=\"dataframe\">\n",
       "  <thead>\n",
       "    <tr style=\"text-align: right;\">\n",
       "      <th></th>\n",
       "      <th>na_sales</th>\n",
       "    </tr>\n",
       "    <tr>\n",
       "      <th>platform</th>\n",
       "      <th></th>\n",
       "    </tr>\n",
       "  </thead>\n",
       "  <tbody>\n",
       "    <tr>\n",
       "      <th>X360</th>\n",
       "      <td>490.69</td>\n",
       "    </tr>\n",
       "    <tr>\n",
       "      <th>PS3</th>\n",
       "      <td>349.13</td>\n",
       "    </tr>\n",
       "    <tr>\n",
       "      <th>Wii</th>\n",
       "      <td>332.87</td>\n",
       "    </tr>\n",
       "    <tr>\n",
       "      <th>DS</th>\n",
       "      <td>198.73</td>\n",
       "    </tr>\n",
       "    <tr>\n",
       "      <th>PS4</th>\n",
       "      <td>108.74</td>\n",
       "    </tr>\n",
       "  </tbody>\n",
       "</table>\n",
       "</div>"
      ],
      "text/plain": [
       "          na_sales\n",
       "platform          \n",
       "X360        490.69\n",
       "PS3         349.13\n",
       "Wii         332.87\n",
       "DS          198.73\n",
       "PS4         108.74"
      ]
     },
     "metadata": {},
     "output_type": "display_data"
    },
    {
     "data": {
      "text/html": [
       "<div>\n",
       "<style scoped>\n",
       "    .dataframe tbody tr th:only-of-type {\n",
       "        vertical-align: middle;\n",
       "    }\n",
       "\n",
       "    .dataframe tbody tr th {\n",
       "        vertical-align: top;\n",
       "    }\n",
       "\n",
       "    .dataframe thead th {\n",
       "        text-align: right;\n",
       "    }\n",
       "</style>\n",
       "<table border=\"1\" class=\"dataframe\">\n",
       "  <thead>\n",
       "    <tr style=\"text-align: right;\">\n",
       "      <th></th>\n",
       "      <th>jp_sales</th>\n",
       "    </tr>\n",
       "    <tr>\n",
       "      <th>platform</th>\n",
       "      <th></th>\n",
       "    </tr>\n",
       "  </thead>\n",
       "  <tbody>\n",
       "    <tr>\n",
       "      <th>3DS</th>\n",
       "      <td>100.62</td>\n",
       "    </tr>\n",
       "    <tr>\n",
       "      <th>DS</th>\n",
       "      <td>76.12</td>\n",
       "    </tr>\n",
       "    <tr>\n",
       "      <th>PS3</th>\n",
       "      <td>74.11</td>\n",
       "    </tr>\n",
       "    <tr>\n",
       "      <th>PSP</th>\n",
       "      <td>60.46</td>\n",
       "    </tr>\n",
       "    <tr>\n",
       "      <th>Wii</th>\n",
       "      <td>47.01</td>\n",
       "    </tr>\n",
       "  </tbody>\n",
       "</table>\n",
       "</div>"
      ],
      "text/plain": [
       "          jp_sales\n",
       "platform          \n",
       "3DS         100.62\n",
       "DS           76.12\n",
       "PS3          74.11\n",
       "PSP          60.46\n",
       "Wii          47.01"
      ]
     },
     "metadata": {},
     "output_type": "display_data"
    }
   ],
   "source": [
    "# аггрегируем продажи по регионам\n",
    "values = ['eu_sales', 'na_sales', 'jp_sales']\n",
    "for value in values:\n",
    "    region_prefs = relevant_period.pivot_table(index = 'platform', values = value, aggfunc = 'sum').sort_values(by = value, ascending = False)\n",
    "    display(region_prefs[0:5])"
   ]
  },
  {
   "cell_type": "markdown",
   "metadata": {},
   "source": [
    "<b>ВЫВОД:</b> топ-5 Европы и США схож по составу и распеределению мест. В обоих случаях в топ-5 входят PS3 и X360, занимающие 1 и 2 места (в Европе более популярна PS3, в США Xbox), тройку лидеров замыкает Wii в обоих случаях. PS4 занимает 4 место в Европе и 5 в США, уступая DS. Пятерку европейских лидеров замыкает PC.\n",
    "Япония сильно отличается по составу и находится ближе к США, чем к Европе. Первое место - 3DS, второе - DS. Троку лидеров замыкает PS3. На 4 и 5 местах расположились PSP и Wii.\n",
    "\n",
    "<u>Различия продаж:</u> общая картина такова, что продажи в Японии самые маленькие, более чем в 2.5 раза меньше, чем в Европе. Лидирует США, опережая Европу примерно в полтора раза."
   ]
  },
  {
   "cell_type": "markdown",
   "metadata": {},
   "source": [
    "### Определение топ-5 жанров по регионам "
   ]
  },
  {
   "cell_type": "code",
   "execution_count": 90,
   "metadata": {},
   "outputs": [
    {
     "data": {
      "text/html": [
       "<div>\n",
       "<style scoped>\n",
       "    .dataframe tbody tr th:only-of-type {\n",
       "        vertical-align: middle;\n",
       "    }\n",
       "\n",
       "    .dataframe tbody tr th {\n",
       "        vertical-align: top;\n",
       "    }\n",
       "\n",
       "    .dataframe thead th {\n",
       "        text-align: right;\n",
       "    }\n",
       "</style>\n",
       "<table border=\"1\" class=\"dataframe\">\n",
       "  <thead>\n",
       "    <tr style=\"text-align: right;\">\n",
       "      <th></th>\n",
       "      <th>eu_sales</th>\n",
       "    </tr>\n",
       "    <tr>\n",
       "      <th>genre</th>\n",
       "      <th></th>\n",
       "    </tr>\n",
       "  </thead>\n",
       "  <tbody>\n",
       "    <tr>\n",
       "      <th>Action</th>\n",
       "      <td>310.59</td>\n",
       "    </tr>\n",
       "    <tr>\n",
       "      <th>Shooter</th>\n",
       "      <td>208.35</td>\n",
       "    </tr>\n",
       "    <tr>\n",
       "      <th>Sports</th>\n",
       "      <td>185.19</td>\n",
       "    </tr>\n",
       "    <tr>\n",
       "      <th>Misc</th>\n",
       "      <td>107.00</td>\n",
       "    </tr>\n",
       "    <tr>\n",
       "      <th>Role-Playing</th>\n",
       "      <td>94.46</td>\n",
       "    </tr>\n",
       "  </tbody>\n",
       "</table>\n",
       "</div>"
      ],
      "text/plain": [
       "              eu_sales\n",
       "genre                 \n",
       "Action          310.59\n",
       "Shooter         208.35\n",
       "Sports          185.19\n",
       "Misc            107.00\n",
       "Role-Playing     94.46"
      ]
     },
     "metadata": {},
     "output_type": "display_data"
    },
    {
     "data": {
      "text/html": [
       "<div>\n",
       "<style scoped>\n",
       "    .dataframe tbody tr th:only-of-type {\n",
       "        vertical-align: middle;\n",
       "    }\n",
       "\n",
       "    .dataframe tbody tr th {\n",
       "        vertical-align: top;\n",
       "    }\n",
       "\n",
       "    .dataframe thead th {\n",
       "        text-align: right;\n",
       "    }\n",
       "</style>\n",
       "<table border=\"1\" class=\"dataframe\">\n",
       "  <thead>\n",
       "    <tr style=\"text-align: right;\">\n",
       "      <th></th>\n",
       "      <th>na_sales</th>\n",
       "    </tr>\n",
       "    <tr>\n",
       "      <th>genre</th>\n",
       "      <th></th>\n",
       "    </tr>\n",
       "  </thead>\n",
       "  <tbody>\n",
       "    <tr>\n",
       "      <th>Action</th>\n",
       "      <td>433.74</td>\n",
       "    </tr>\n",
       "    <tr>\n",
       "      <th>Shooter</th>\n",
       "      <td>311.26</td>\n",
       "    </tr>\n",
       "    <tr>\n",
       "      <th>Sports</th>\n",
       "      <td>276.27</td>\n",
       "    </tr>\n",
       "    <tr>\n",
       "      <th>Misc</th>\n",
       "      <td>211.61</td>\n",
       "    </tr>\n",
       "    <tr>\n",
       "      <th>Role-Playing</th>\n",
       "      <td>155.81</td>\n",
       "    </tr>\n",
       "  </tbody>\n",
       "</table>\n",
       "</div>"
      ],
      "text/plain": [
       "              na_sales\n",
       "genre                 \n",
       "Action          433.74\n",
       "Shooter         311.26\n",
       "Sports          276.27\n",
       "Misc            211.61\n",
       "Role-Playing    155.81"
      ]
     },
     "metadata": {},
     "output_type": "display_data"
    },
    {
     "data": {
      "text/html": [
       "<div>\n",
       "<style scoped>\n",
       "    .dataframe tbody tr th:only-of-type {\n",
       "        vertical-align: middle;\n",
       "    }\n",
       "\n",
       "    .dataframe tbody tr th {\n",
       "        vertical-align: top;\n",
       "    }\n",
       "\n",
       "    .dataframe thead th {\n",
       "        text-align: right;\n",
       "    }\n",
       "</style>\n",
       "<table border=\"1\" class=\"dataframe\">\n",
       "  <thead>\n",
       "    <tr style=\"text-align: right;\">\n",
       "      <th></th>\n",
       "      <th>jp_sales</th>\n",
       "    </tr>\n",
       "    <tr>\n",
       "      <th>genre</th>\n",
       "      <th></th>\n",
       "    </tr>\n",
       "  </thead>\n",
       "  <tbody>\n",
       "    <tr>\n",
       "      <th>Role-Playing</th>\n",
       "      <td>138.12</td>\n",
       "    </tr>\n",
       "    <tr>\n",
       "      <th>Action</th>\n",
       "      <td>90.16</td>\n",
       "    </tr>\n",
       "    <tr>\n",
       "      <th>Misc</th>\n",
       "      <td>37.33</td>\n",
       "    </tr>\n",
       "    <tr>\n",
       "      <th>Sports</th>\n",
       "      <td>30.69</td>\n",
       "    </tr>\n",
       "    <tr>\n",
       "      <th>Adventure</th>\n",
       "      <td>23.36</td>\n",
       "    </tr>\n",
       "  </tbody>\n",
       "</table>\n",
       "</div>"
      ],
      "text/plain": [
       "              jp_sales\n",
       "genre                 \n",
       "Role-Playing    138.12\n",
       "Action           90.16\n",
       "Misc             37.33\n",
       "Sports           30.69\n",
       "Adventure        23.36"
      ]
     },
     "metadata": {},
     "output_type": "display_data"
    }
   ],
   "source": [
    "for value in values:\n",
    "    region_genre_prefs = relevant_period.pivot_table(index = 'genre', values = value, aggfunc = 'sum').sort_values(by = value, ascending = False)\n",
    "    display(region_genre_prefs[0:5])"
   ]
  },
  {
   "cell_type": "markdown",
   "metadata": {},
   "source": [
    "<b>ВЫВОД:</b> топ-5 в Европе и США полностью совпадает: 1 место - экшн, на 2 - шутеры, на 3 - спортивные игры, на 4 - Misc, на 5 -RPG.\n",
    "Японцы более всего предпочитают RPG, экшн и misc. Спортивные игры на 4 месте, на 5 жанр adventure."
   ]
  },
  {
   "cell_type": "markdown",
   "metadata": {},
   "source": [
    "### Установление влияния рейтинга ESRB на продажи в регионах"
   ]
  },
  {
   "cell_type": "code",
   "execution_count": 91,
   "metadata": {},
   "outputs": [
    {
     "data": {
      "text/html": [
       "<div>\n",
       "<style scoped>\n",
       "    .dataframe tbody tr th:only-of-type {\n",
       "        vertical-align: middle;\n",
       "    }\n",
       "\n",
       "    .dataframe tbody tr th {\n",
       "        vertical-align: top;\n",
       "    }\n",
       "\n",
       "    .dataframe thead th {\n",
       "        text-align: right;\n",
       "    }\n",
       "</style>\n",
       "<table border=\"1\" class=\"dataframe\">\n",
       "  <thead>\n",
       "    <tr style=\"text-align: right;\">\n",
       "      <th></th>\n",
       "      <th>eu_sales</th>\n",
       "    </tr>\n",
       "    <tr>\n",
       "      <th>rating</th>\n",
       "      <th></th>\n",
       "    </tr>\n",
       "  </thead>\n",
       "  <tbody>\n",
       "    <tr>\n",
       "      <th>E</th>\n",
       "      <td>426.42</td>\n",
       "    </tr>\n",
       "    <tr>\n",
       "      <th>M</th>\n",
       "      <td>383.84</td>\n",
       "    </tr>\n",
       "    <tr>\n",
       "      <th>T</th>\n",
       "      <td>255.47</td>\n",
       "    </tr>\n",
       "    <tr>\n",
       "      <th>E10+</th>\n",
       "      <td>144.53</td>\n",
       "    </tr>\n",
       "    <tr>\n",
       "      <th>RP</th>\n",
       "      <td>0.03</td>\n",
       "    </tr>\n",
       "    <tr>\n",
       "      <th>EC</th>\n",
       "      <td>0.00</td>\n",
       "    </tr>\n",
       "  </tbody>\n",
       "</table>\n",
       "</div>"
      ],
      "text/plain": [
       "        eu_sales\n",
       "rating          \n",
       "E         426.42\n",
       "M         383.84\n",
       "T         255.47\n",
       "E10+      144.53\n",
       "RP          0.03\n",
       "EC          0.00"
      ]
     },
     "metadata": {},
     "output_type": "display_data"
    },
    {
     "data": {
      "text/html": [
       "<div>\n",
       "<style scoped>\n",
       "    .dataframe tbody tr th:only-of-type {\n",
       "        vertical-align: middle;\n",
       "    }\n",
       "\n",
       "    .dataframe tbody tr th {\n",
       "        vertical-align: top;\n",
       "    }\n",
       "\n",
       "    .dataframe thead th {\n",
       "        text-align: right;\n",
       "    }\n",
       "</style>\n",
       "<table border=\"1\" class=\"dataframe\">\n",
       "  <thead>\n",
       "    <tr style=\"text-align: right;\">\n",
       "      <th></th>\n",
       "      <th>na_sales</th>\n",
       "    </tr>\n",
       "    <tr>\n",
       "      <th>rating</th>\n",
       "      <th></th>\n",
       "    </tr>\n",
       "  </thead>\n",
       "  <tbody>\n",
       "    <tr>\n",
       "      <th>E</th>\n",
       "      <td>628.40</td>\n",
       "    </tr>\n",
       "    <tr>\n",
       "      <th>M</th>\n",
       "      <td>529.86</td>\n",
       "    </tr>\n",
       "    <tr>\n",
       "      <th>T</th>\n",
       "      <td>403.19</td>\n",
       "    </tr>\n",
       "    <tr>\n",
       "      <th>E10+</th>\n",
       "      <td>251.88</td>\n",
       "    </tr>\n",
       "    <tr>\n",
       "      <th>EC</th>\n",
       "      <td>1.32</td>\n",
       "    </tr>\n",
       "    <tr>\n",
       "      <th>RP</th>\n",
       "      <td>0.00</td>\n",
       "    </tr>\n",
       "  </tbody>\n",
       "</table>\n",
       "</div>"
      ],
      "text/plain": [
       "        na_sales\n",
       "rating          \n",
       "E         628.40\n",
       "M         529.86\n",
       "T         403.19\n",
       "E10+      251.88\n",
       "EC          1.32\n",
       "RP          0.00"
      ]
     },
     "metadata": {},
     "output_type": "display_data"
    },
    {
     "data": {
      "text/html": [
       "<div>\n",
       "<style scoped>\n",
       "    .dataframe tbody tr th:only-of-type {\n",
       "        vertical-align: middle;\n",
       "    }\n",
       "\n",
       "    .dataframe tbody tr th {\n",
       "        vertical-align: top;\n",
       "    }\n",
       "\n",
       "    .dataframe thead th {\n",
       "        text-align: right;\n",
       "    }\n",
       "</style>\n",
       "<table border=\"1\" class=\"dataframe\">\n",
       "  <thead>\n",
       "    <tr style=\"text-align: right;\">\n",
       "      <th></th>\n",
       "      <th>jp_sales</th>\n",
       "    </tr>\n",
       "    <tr>\n",
       "      <th>rating</th>\n",
       "      <th></th>\n",
       "    </tr>\n",
       "  </thead>\n",
       "  <tbody>\n",
       "    <tr>\n",
       "      <th>T</th>\n",
       "      <td>208.62</td>\n",
       "    </tr>\n",
       "    <tr>\n",
       "      <th>E</th>\n",
       "      <td>151.76</td>\n",
       "    </tr>\n",
       "    <tr>\n",
       "      <th>M</th>\n",
       "      <td>41.23</td>\n",
       "    </tr>\n",
       "    <tr>\n",
       "      <th>E10+</th>\n",
       "      <td>25.67</td>\n",
       "    </tr>\n",
       "    <tr>\n",
       "      <th>EC</th>\n",
       "      <td>0.00</td>\n",
       "    </tr>\n",
       "    <tr>\n",
       "      <th>RP</th>\n",
       "      <td>0.00</td>\n",
       "    </tr>\n",
       "  </tbody>\n",
       "</table>\n",
       "</div>"
      ],
      "text/plain": [
       "        jp_sales\n",
       "rating          \n",
       "T         208.62\n",
       "E         151.76\n",
       "M          41.23\n",
       "E10+       25.67\n",
       "EC          0.00\n",
       "RP          0.00"
      ]
     },
     "metadata": {},
     "output_type": "display_data"
    }
   ],
   "source": [
    "for value in values:\n",
    "    region_rating_prefs = relevant_period.pivot_table(index = 'rating', values = value, aggfunc = 'sum').sort_values(by = value, ascending = False)\n",
    "    display(region_rating_prefs)"
   ]
  },
  {
   "cell_type": "markdown",
   "metadata": {},
   "source": [
    "<b>ВЫВОД:</b> рейтинг влияет на продажи. RP и EC нулевые во всех регионах, M, E и Т лидируют во всех регионах. В США и Европе картина совпадает: 1 место - Е, 2 место- М, 3 место - Т. В Японии E сдвигается на 2 место, а М на третье, 1 место занимает Т. Рейтинг Е10+ на 4 месте во всех трех регионах."
   ]
  },
  {
   "cell_type": "markdown",
   "metadata": {},
   "source": [
    "### Вывод:\n",
    "\n",
    "<b>Общий потртет американского геймера:</b>\n",
    "- предпочитает платформы: X360, PS3, Wii\n",
    "- является самым активным потребителем рынка, примерно в полтора раза опережая европейца и в пять раз - японца\n",
    "- предпочитает жанры action, шутеры и спортивные игры.\n",
    "- покупает игры рейтинга M,E, T\n",
    "\n",
    "<b>Общий потртет европейского геймера:</b>\n",
    "- предпочитает платформы: PS3, Х360 и Wii\n",
    "- играет примерно в 2.5 раза больше японца, но гораздно меньше, чем американец \n",
    "- предпочитает жанры action, шутеры и спортивные игры\n",
    "- покупает игры рейтинга M,E, T\n",
    "\n",
    "<b>Общий потртет японского геймера:</b>\n",
    "- предпочитает платформы: 3DS, DS, PS3\n",
    "- играет меньше всех\n",
    "- предпочитает жанры RPG, action и misc\n",
    "- покупает игры рейтинга E, T, M\n",
    "\n",
    "<b>Заключение:</b> менталитет и вкусы европейцев и американцев совпадают. Японцы являются собой совершенно другую ЦА, к которой нужен отдельный подход."
   ]
  },
  {
   "cell_type": "markdown",
   "metadata": {},
   "source": [
    "## Проверка гипотез:\n",
    "\n",
    "- средние пользовательские рейтинги платформ Xbox One и PC одинаковые;\n",
    "- средние пользовательские рейтинги жанров Action и Sports разные.\n",
    "\n",
    "<i>пороговое значение alpha 0.05</i>"
   ]
  },
  {
   "cell_type": "markdown",
   "metadata": {},
   "source": [
    "### Проверка гипотезы \"средние пользовательские рейтинги платформ Xbox One и PC одинаковые\"\n",
    "\n",
    "- H0: \"средние пользовательские рейтинги платформ Xbox One и PC одинаковые\"\n",
    "\n",
    "- H1: средние пользовательские рейтинги платформ Xbox One и PC не одинаковые"
   ]
  },
  {
   "cell_type": "code",
   "execution_count": 100,
   "metadata": {},
   "outputs": [
    {
     "name": "stdout",
     "output_type": "stream",
     "text": [
      "p-значение:  0.09018260346069149\n",
      "Нельзя отвергнуть нулевую гипотезу\n"
     ]
    }
   ],
   "source": [
    "# возьмем срезы данных\n",
    "pc_data = relevant_period[relevant_period['platform']=='PC'].dropna()\n",
    "xbox_data = relevant_period[relevant_period['platform']=='XOne'].dropna()\n",
    "\n",
    "alpha = 0.05\n",
    "results = st.ttest_ind(xbox_data['user_score'], pc_data['user_score'], equal_var = False)\n",
    "print('p-значение: ', results.pvalue)\n",
    "\n",
    "if results.pvalue < alpha:\n",
    "    print('Можно отвергнуть нулевую гипотезу') \n",
    "    if results.pvalue / 2 < alpha and xbox_data['user_score'].mean() > pc_data['user_score'].mean():\n",
    "        print('Рейтинг XOne больше')\n",
    "    else:\n",
    "        print('Рейтинг PC больше')\n",
    "else:\n",
    "    print('Нельзя отвергнуть нулевую гипотезу')"
   ]
  },
  {
   "cell_type": "markdown",
   "metadata": {},
   "source": [
    "<b>ВЫВОД:</b> гипотеза подтвердилась. Средние пользовательские рейтинги платформ Xbox One и PC одинаковые."
   ]
  },
  {
   "cell_type": "markdown",
   "metadata": {},
   "source": [
    "### Проверка гипотезы \"средние пользовательские рейтинги жанров Action и Sports разные\"\n",
    "\n",
    "H0: средние пользовательские рейтинги жанров Action и Sports одинаковые\n",
    "\n",
    "H1: средние пользовательские рейтинги жанров Action и Sports разные\n",
    "\n",
    "<i>пороговое значение alpha 0.05</i>"
   ]
  },
  {
   "cell_type": "code",
   "execution_count": 101,
   "metadata": {},
   "outputs": [
    {
     "name": "stdout",
     "output_type": "stream",
     "text": [
      "p-значение:  1.7298142421943026e-15\n",
      "Можно отвергнуть нулевую гипотезу\n",
      "Рейтинг жанра \"Action\" больше\n"
     ]
    }
   ],
   "source": [
    "action_data = relevant_period[relevant_period['genre']=='Action'].dropna()\n",
    "sports_data = relevant_period[relevant_period['genre']=='Sports'].dropna()\n",
    "alpha = 0.05\n",
    "\n",
    "results = st.ttest_ind(action_data['user_score'], sports_data['user_score'], equal_var = False)\n",
    "print('p-значение: ', results.pvalue)\n",
    "\n",
    "if results.pvalue < alpha:\n",
    "    print('Можно отвергнуть нулевую гипотезу') \n",
    "    if results.pvalue / 2 < alpha and action_data['user_score'].mean() > sports_data['user_score'].mean():\n",
    "        print('Рейтинг жанра \"Action\" больше')\n",
    "    else:\n",
    "        print('Рейтинг жанра \"Sports\" больше')\n",
    "else:\n",
    "    print('Нельзя отвергнуть гипотезу')"
   ]
  },
  {
   "cell_type": "markdown",
   "metadata": {},
   "source": [
    "<b>ВЫВОД:</b> рейтинги действительно не одинаковые, рейтинг жанра \"экшн\" больше, чем у жанра sports"
   ]
  },
  {
   "cell_type": "markdown",
   "metadata": {},
   "source": [
    "### Вывод:\n",
    "\n",
    "- обе гипотезы подтвердились в ходе одностороннего и двустороннего тестов"
   ]
  },
  {
   "cell_type": "markdown",
   "metadata": {},
   "source": [
    "## Общий вывод"
   ]
  },
  {
   "cell_type": "markdown",
   "metadata": {},
   "source": [
    "Потенциально популярный продукт характеризуется следующими особенностями:\n",
    "\n",
    "- должен быть ориентирован на европейско-американский сегмент рынка\n",
    "- должен быть выпущен на высокопродаваемой платформе с растущим числом продаж (PS4 или XOne)\n",
    "- должен быть в жанре action, shooter или sports\n",
    "- должен быть рейтинга Е или М"
   ]
  }
 ],
 "metadata": {
  "ExecuteTimeLog": [
   {
    "duration": 387,
    "start_time": "2022-01-10T19:00:05.223Z"
   },
   {
    "duration": 1473,
    "start_time": "2022-01-10T19:00:08.316Z"
   },
   {
    "duration": 382,
    "start_time": "2022-01-10T19:00:09.796Z"
   },
   {
    "duration": 76,
    "start_time": "2022-01-10T19:00:20.027Z"
   },
   {
    "duration": 115,
    "start_time": "2022-01-10T19:03:07.286Z"
   },
   {
    "duration": 372,
    "start_time": "2022-01-10T19:04:12.965Z"
   },
   {
    "duration": 74,
    "start_time": "2022-01-10T19:04:21.023Z"
   },
   {
    "duration": 154,
    "start_time": "2022-01-10T19:05:00.735Z"
   },
   {
    "duration": 88,
    "start_time": "2022-01-10T19:05:18.204Z"
   },
   {
    "duration": 73,
    "start_time": "2022-01-10T19:07:27.286Z"
   },
   {
    "duration": 100,
    "start_time": "2022-01-10T19:07:31.794Z"
   },
   {
    "duration": 402,
    "start_time": "2022-01-10T19:08:25.117Z"
   },
   {
    "duration": 440,
    "start_time": "2022-01-10T19:08:59.011Z"
   },
   {
    "duration": 71,
    "start_time": "2022-01-10T19:09:10.482Z"
   },
   {
    "duration": 404,
    "start_time": "2022-01-10T19:09:24.809Z"
   },
   {
    "duration": 562,
    "start_time": "2022-01-10T19:09:32.208Z"
   },
   {
    "duration": 593,
    "start_time": "2022-01-10T19:10:49.729Z"
   },
   {
    "duration": 1907,
    "start_time": "2022-01-10T19:11:05.417Z"
   },
   {
    "duration": 69,
    "start_time": "2022-01-10T19:12:14.592Z"
   },
   {
    "duration": 139,
    "start_time": "2022-01-10T19:12:30.964Z"
   },
   {
    "duration": 104,
    "start_time": "2022-01-10T19:14:27.117Z"
   },
   {
    "duration": 80,
    "start_time": "2022-01-10T19:15:36.821Z"
   },
   {
    "duration": 123,
    "start_time": "2022-01-10T19:16:27.077Z"
   },
   {
    "duration": 97,
    "start_time": "2022-01-10T19:17:31.834Z"
   },
   {
    "duration": 391,
    "start_time": "2022-01-10T19:17:47.151Z"
   },
   {
    "duration": 91,
    "start_time": "2022-01-10T19:17:58.986Z"
   },
   {
    "duration": 1559,
    "start_time": "2022-01-11T10:58:12.900Z"
   },
   {
    "duration": 120,
    "start_time": "2022-01-11T10:59:21.392Z"
   },
   {
    "duration": 100,
    "start_time": "2022-01-11T10:59:35.532Z"
   },
   {
    "duration": 120,
    "start_time": "2022-01-11T11:00:06.793Z"
   },
   {
    "duration": 8851,
    "start_time": "2022-01-11T11:07:22.954Z"
   },
   {
    "duration": -1242,
    "start_time": "2022-01-11T11:07:33.054Z"
   },
   {
    "duration": 4,
    "start_time": "2022-01-11T11:07:52.279Z"
   },
   {
    "duration": 115,
    "start_time": "2022-01-11T11:07:52.305Z"
   },
   {
    "duration": 313,
    "start_time": "2022-01-11T11:07:52.422Z"
   },
   {
    "duration": 6,
    "start_time": "2022-01-11T11:08:06.920Z"
   },
   {
    "duration": 357,
    "start_time": "2022-01-11T11:08:08.949Z"
   },
   {
    "duration": 298,
    "start_time": "2022-01-11T11:08:39.260Z"
   },
   {
    "duration": 301,
    "start_time": "2022-01-11T11:09:37.842Z"
   },
   {
    "duration": 8,
    "start_time": "2022-01-11T11:09:44.847Z"
   },
   {
    "duration": 31,
    "start_time": "2022-01-11T11:09:50.662Z"
   },
   {
    "duration": 44,
    "start_time": "2022-01-11T11:09:57.860Z"
   },
   {
    "duration": 299,
    "start_time": "2022-01-11T11:10:13.448Z"
   },
   {
    "duration": 35,
    "start_time": "2022-01-11T11:10:26.720Z"
   },
   {
    "duration": 17,
    "start_time": "2022-01-11T11:10:41.300Z"
   },
   {
    "duration": 11,
    "start_time": "2022-01-11T11:10:53.864Z"
   },
   {
    "duration": 7,
    "start_time": "2022-01-11T11:10:59.753Z"
   },
   {
    "duration": 11,
    "start_time": "2022-01-11T11:11:26.858Z"
   },
   {
    "duration": 20,
    "start_time": "2022-01-11T11:11:28.458Z"
   },
   {
    "duration": 8,
    "start_time": "2022-01-11T11:11:36.264Z"
   },
   {
    "duration": 20,
    "start_time": "2022-01-11T11:11:37.736Z"
   },
   {
    "duration": 320,
    "start_time": "2022-01-11T11:13:23.095Z"
   },
   {
    "duration": 326,
    "start_time": "2022-01-11T11:15:04.354Z"
   },
   {
    "duration": 116,
    "start_time": "2022-01-11T11:15:19.506Z"
   },
   {
    "duration": 102,
    "start_time": "2022-01-11T11:15:24.070Z"
   },
   {
    "duration": 97,
    "start_time": "2022-01-11T11:15:37.358Z"
   },
   {
    "duration": 211,
    "start_time": "2022-01-11T11:16:11.729Z"
   },
   {
    "duration": 104,
    "start_time": "2022-01-11T11:16:16.003Z"
   },
   {
    "duration": 54,
    "start_time": "2022-01-11T11:17:07.349Z"
   },
   {
    "duration": 19,
    "start_time": "2022-01-11T11:17:09.510Z"
   },
   {
    "duration": 13,
    "start_time": "2022-01-11T11:17:43.634Z"
   },
   {
    "duration": 4,
    "start_time": "2022-01-11T11:18:01.258Z"
   },
   {
    "duration": 116,
    "start_time": "2022-01-11T11:18:01.272Z"
   },
   {
    "duration": 8,
    "start_time": "2022-01-11T11:18:01.391Z"
   },
   {
    "duration": 44,
    "start_time": "2022-01-11T11:18:01.403Z"
   },
   {
    "duration": 42,
    "start_time": "2022-01-11T11:18:01.449Z"
   },
   {
    "duration": 123,
    "start_time": "2022-01-11T11:18:16.060Z"
   },
   {
    "duration": 28,
    "start_time": "2022-01-11T11:18:56.310Z"
   },
   {
    "duration": 15,
    "start_time": "2022-01-11T11:18:58.429Z"
   },
   {
    "duration": 107,
    "start_time": "2022-01-11T11:20:08.895Z"
   },
   {
    "duration": 154,
    "start_time": "2022-01-11T11:20:17.252Z"
   },
   {
    "duration": 104,
    "start_time": "2022-01-11T11:20:25.603Z"
   },
   {
    "duration": 33,
    "start_time": "2022-01-11T11:20:30.715Z"
   },
   {
    "duration": 1623,
    "start_time": "2022-01-11T11:22:57.338Z"
   },
   {
    "duration": 1639,
    "start_time": "2022-01-11T11:23:41.507Z"
   },
   {
    "duration": 44,
    "start_time": "2022-01-11T11:24:29.146Z"
   },
   {
    "duration": 1216,
    "start_time": "2022-01-11T11:24:53.801Z"
   },
   {
    "duration": 762,
    "start_time": "2022-01-11T11:25:37.444Z"
   },
   {
    "duration": 406,
    "start_time": "2022-01-11T11:25:50.464Z"
   },
   {
    "duration": 48,
    "start_time": "2022-01-11T11:25:58.573Z"
   },
   {
    "duration": 20,
    "start_time": "2022-01-11T11:26:01.265Z"
   },
   {
    "duration": 5,
    "start_time": "2022-01-11T11:28:21.040Z"
   },
   {
    "duration": 26,
    "start_time": "2022-01-11T11:28:22.656Z"
   },
   {
    "duration": 5,
    "start_time": "2022-01-11T11:28:33.778Z"
   },
   {
    "duration": 30,
    "start_time": "2022-01-11T11:28:38.017Z"
   },
   {
    "duration": 48,
    "start_time": "2022-01-11T11:34:29.099Z"
   },
   {
    "duration": 14,
    "start_time": "2022-01-11T11:37:23.078Z"
   },
   {
    "duration": 36,
    "start_time": "2022-01-11T11:37:27.990Z"
   },
   {
    "duration": 48,
    "start_time": "2022-01-11T11:37:37.452Z"
   },
   {
    "duration": 12,
    "start_time": "2022-01-11T11:37:46.813Z"
   },
   {
    "duration": 8,
    "start_time": "2022-01-11T11:38:25.444Z"
   },
   {
    "duration": 45,
    "start_time": "2022-01-11T11:38:29.182Z"
   },
   {
    "duration": 8,
    "start_time": "2022-01-11T11:39:10.551Z"
   },
   {
    "duration": 8,
    "start_time": "2022-01-11T11:39:26.453Z"
   },
   {
    "duration": 10,
    "start_time": "2022-01-11T11:39:32.335Z"
   },
   {
    "duration": 11,
    "start_time": "2022-01-11T11:39:50.104Z"
   },
   {
    "duration": 7,
    "start_time": "2022-01-11T11:40:08.552Z"
   },
   {
    "duration": 59,
    "start_time": "2022-01-11T11:40:17.060Z"
   },
   {
    "duration": 37,
    "start_time": "2022-01-11T11:40:24.970Z"
   },
   {
    "duration": 40,
    "start_time": "2022-01-11T11:40:57.257Z"
   },
   {
    "duration": 37,
    "start_time": "2022-01-11T11:41:13.183Z"
   },
   {
    "duration": 99,
    "start_time": "2022-01-11T11:42:15.848Z"
   },
   {
    "duration": 16,
    "start_time": "2022-01-11T11:43:05.990Z"
   },
   {
    "duration": 384,
    "start_time": "2022-01-11T11:43:15.235Z"
   },
   {
    "duration": 38,
    "start_time": "2022-01-11T11:43:18.260Z"
   },
   {
    "duration": 128,
    "start_time": "2022-01-11T11:45:34.386Z"
   },
   {
    "duration": 391,
    "start_time": "2022-01-11T11:45:40.795Z"
   },
   {
    "duration": 8,
    "start_time": "2022-01-11T11:46:46.924Z"
   },
   {
    "duration": 325,
    "start_time": "2022-01-11T11:46:56.371Z"
   },
   {
    "duration": 330,
    "start_time": "2022-01-11T11:47:11.184Z"
   },
   {
    "duration": 306,
    "start_time": "2022-01-11T11:47:12.649Z"
   },
   {
    "duration": 337,
    "start_time": "2022-01-11T11:47:23.572Z"
   },
   {
    "duration": 367,
    "start_time": "2022-01-11T11:48:41.428Z"
   },
   {
    "duration": 4,
    "start_time": "2022-01-11T11:48:51.214Z"
   },
   {
    "duration": 118,
    "start_time": "2022-01-11T11:48:51.239Z"
   },
   {
    "duration": 9,
    "start_time": "2022-01-11T11:48:51.359Z"
   },
   {
    "duration": 32,
    "start_time": "2022-01-11T11:48:51.374Z"
   },
   {
    "duration": 21,
    "start_time": "2022-01-11T11:48:51.408Z"
   },
   {
    "duration": 38,
    "start_time": "2022-01-11T11:48:53.505Z"
   },
   {
    "duration": 15,
    "start_time": "2022-01-11T11:49:23.498Z"
   },
   {
    "duration": 35,
    "start_time": "2022-01-11T11:49:25.970Z"
   },
   {
    "duration": 351,
    "start_time": "2022-01-11T11:49:54.606Z"
   },
   {
    "duration": 4,
    "start_time": "2022-01-11T11:49:57.302Z"
   },
   {
    "duration": 105,
    "start_time": "2022-01-11T11:49:57.320Z"
   },
   {
    "duration": 5,
    "start_time": "2022-01-11T11:49:57.428Z"
   },
   {
    "duration": 50,
    "start_time": "2022-01-11T11:49:57.437Z"
   },
   {
    "duration": 24,
    "start_time": "2022-01-11T11:49:57.491Z"
   },
   {
    "duration": 14,
    "start_time": "2022-01-11T11:49:58.932Z"
   },
   {
    "duration": 18,
    "start_time": "2022-01-11T11:50:04.583Z"
   },
   {
    "duration": 40,
    "start_time": "2022-01-11T11:50:06.351Z"
   },
   {
    "duration": 30,
    "start_time": "2022-01-11T11:50:15.231Z"
   },
   {
    "duration": 6,
    "start_time": "2022-01-11T11:50:32.095Z"
   },
   {
    "duration": 115,
    "start_time": "2022-01-11T11:50:32.110Z"
   },
   {
    "duration": 4,
    "start_time": "2022-01-11T11:50:32.228Z"
   },
   {
    "duration": 47,
    "start_time": "2022-01-11T11:50:32.237Z"
   },
   {
    "duration": 28,
    "start_time": "2022-01-11T11:50:32.287Z"
   },
   {
    "duration": 48,
    "start_time": "2022-01-11T11:50:34.634Z"
   },
   {
    "duration": 362,
    "start_time": "2022-01-11T11:51:26.393Z"
   },
   {
    "duration": 4,
    "start_time": "2022-01-11T11:51:32.494Z"
   },
   {
    "duration": 103,
    "start_time": "2022-01-11T11:51:32.513Z"
   },
   {
    "duration": 4,
    "start_time": "2022-01-11T11:51:32.619Z"
   },
   {
    "duration": 43,
    "start_time": "2022-01-11T11:51:32.625Z"
   },
   {
    "duration": 28,
    "start_time": "2022-01-11T11:51:32.672Z"
   },
   {
    "duration": 327,
    "start_time": "2022-01-11T11:51:34.817Z"
   },
   {
    "duration": 4,
    "start_time": "2022-01-11T11:54:23.505Z"
   },
   {
    "duration": 106,
    "start_time": "2022-01-11T11:54:23.512Z"
   },
   {
    "duration": 4,
    "start_time": "2022-01-11T11:54:23.621Z"
   },
   {
    "duration": 22,
    "start_time": "2022-01-11T11:54:23.628Z"
   },
   {
    "duration": 23,
    "start_time": "2022-01-11T11:54:23.668Z"
   },
   {
    "duration": 8378,
    "start_time": "2022-01-11T11:54:26.431Z"
   },
   {
    "duration": -1119,
    "start_time": "2022-01-11T11:54:35.931Z"
   },
   {
    "duration": 4,
    "start_time": "2022-01-11T11:54:51.262Z"
   },
   {
    "duration": 103,
    "start_time": "2022-01-11T11:54:51.273Z"
   },
   {
    "duration": 4,
    "start_time": "2022-01-11T11:54:51.379Z"
   },
   {
    "duration": 21,
    "start_time": "2022-01-11T11:54:51.386Z"
   },
   {
    "duration": 20,
    "start_time": "2022-01-11T11:54:51.410Z"
   },
   {
    "duration": 8001,
    "start_time": "2022-01-11T11:54:53.674Z"
   },
   {
    "duration": -981,
    "start_time": "2022-01-11T11:55:02.659Z"
   },
   {
    "duration": 337,
    "start_time": "2022-01-11T11:55:22.607Z"
   },
   {
    "duration": 4,
    "start_time": "2022-01-11T11:56:09.126Z"
   },
   {
    "duration": 97,
    "start_time": "2022-01-11T11:56:09.151Z"
   },
   {
    "duration": 18,
    "start_time": "2022-01-11T11:56:09.251Z"
   },
   {
    "duration": 27,
    "start_time": "2022-01-11T11:56:09.273Z"
   },
   {
    "duration": 21,
    "start_time": "2022-01-11T11:56:09.302Z"
   },
   {
    "duration": 326,
    "start_time": "2022-01-11T11:56:18.661Z"
   },
   {
    "duration": 4,
    "start_time": "2022-01-11T11:56:44.910Z"
   },
   {
    "duration": 102,
    "start_time": "2022-01-11T11:56:44.925Z"
   },
   {
    "duration": 5,
    "start_time": "2022-01-11T11:56:45.029Z"
   },
   {
    "duration": 36,
    "start_time": "2022-01-11T11:56:45.037Z"
   },
   {
    "duration": 22,
    "start_time": "2022-01-11T11:56:45.076Z"
   },
   {
    "duration": 379,
    "start_time": "2022-01-11T11:56:51.214Z"
   },
   {
    "duration": 12,
    "start_time": "2022-01-11T11:57:49.823Z"
   },
   {
    "duration": 31,
    "start_time": "2022-01-11T11:57:52.410Z"
   },
   {
    "duration": -977,
    "start_time": "2022-01-11T11:58:20.598Z"
   },
   {
    "duration": 4,
    "start_time": "2022-01-11T11:58:41.429Z"
   },
   {
    "duration": 120,
    "start_time": "2022-01-11T11:58:41.443Z"
   },
   {
    "duration": 24,
    "start_time": "2022-01-11T11:58:41.567Z"
   },
   {
    "duration": 31,
    "start_time": "2022-01-11T11:58:41.599Z"
   },
   {
    "duration": 24,
    "start_time": "2022-01-11T11:58:41.633Z"
   },
   {
    "duration": 14,
    "start_time": "2022-01-11T11:58:41.667Z"
   },
   {
    "duration": -885,
    "start_time": "2022-01-11T11:58:50.247Z"
   },
   {
    "duration": 39,
    "start_time": "2022-01-11T11:59:04.264Z"
   },
   {
    "duration": 114,
    "start_time": "2022-01-11T11:59:15.989Z"
   },
   {
    "duration": -886,
    "start_time": "2022-01-11T11:59:28.989Z"
   },
   {
    "duration": 8,
    "start_time": "2022-01-11T11:59:28.502Z"
   },
   {
    "duration": 8,
    "start_time": "2022-01-11T11:59:33.836Z"
   },
   {
    "duration": -885,
    "start_time": "2022-01-11T11:59:46.233Z"
   },
   {
    "duration": 8,
    "start_time": "2022-01-11T11:59:45.725Z"
   },
   {
    "duration": 16,
    "start_time": "2022-01-11T11:59:58.548Z"
   },
   {
    "duration": 332,
    "start_time": "2022-01-11T12:00:02.631Z"
   },
   {
    "duration": 16,
    "start_time": "2022-01-11T12:00:17.834Z"
   },
   {
    "duration": 19,
    "start_time": "2022-01-11T12:00:23.133Z"
   },
   {
    "duration": 306,
    "start_time": "2022-01-11T12:00:26.337Z"
   },
   {
    "duration": 4,
    "start_time": "2022-01-11T12:00:34.261Z"
   },
   {
    "duration": 103,
    "start_time": "2022-01-11T12:00:34.273Z"
   },
   {
    "duration": 5,
    "start_time": "2022-01-11T12:00:34.380Z"
   },
   {
    "duration": 23,
    "start_time": "2022-01-11T12:00:34.389Z"
   },
   {
    "duration": 22,
    "start_time": "2022-01-11T12:00:34.415Z"
   },
   {
    "duration": 16,
    "start_time": "2022-01-11T12:00:34.468Z"
   },
   {
    "duration": 32,
    "start_time": "2022-01-11T12:00:37.196Z"
   },
   {
    "duration": 5,
    "start_time": "2022-01-11T12:00:48.319Z"
   },
   {
    "duration": 35,
    "start_time": "2022-01-11T12:00:52.875Z"
   },
   {
    "duration": 4,
    "start_time": "2022-01-11T12:01:22.397Z"
   },
   {
    "duration": 129,
    "start_time": "2022-01-11T12:01:22.416Z"
   },
   {
    "duration": 5,
    "start_time": "2022-01-11T12:01:22.547Z"
   },
   {
    "duration": 25,
    "start_time": "2022-01-11T12:01:22.568Z"
   },
   {
    "duration": 23,
    "start_time": "2022-01-11T12:01:22.596Z"
   },
   {
    "duration": 6,
    "start_time": "2022-01-11T12:01:28.118Z"
   },
   {
    "duration": 3,
    "start_time": "2022-01-11T12:01:31.782Z"
   },
   {
    "duration": 4,
    "start_time": "2022-01-11T12:01:45.152Z"
   },
   {
    "duration": 4,
    "start_time": "2022-01-11T12:01:59.164Z"
   },
   {
    "duration": 286,
    "start_time": "2022-01-11T12:02:05.950Z"
   },
   {
    "duration": 309,
    "start_time": "2022-01-11T12:02:15.984Z"
   },
   {
    "duration": 5,
    "start_time": "2022-01-11T12:02:19.761Z"
   },
   {
    "duration": 115,
    "start_time": "2022-01-11T12:02:19.777Z"
   },
   {
    "duration": 5,
    "start_time": "2022-01-11T12:02:19.895Z"
   },
   {
    "duration": 21,
    "start_time": "2022-01-11T12:02:19.904Z"
   },
   {
    "duration": 62,
    "start_time": "2022-01-11T12:02:19.928Z"
   },
   {
    "duration": 11,
    "start_time": "2022-01-11T12:02:19.993Z"
   },
   {
    "duration": 37,
    "start_time": "2022-01-11T12:02:21.849Z"
   },
   {
    "duration": 5,
    "start_time": "2022-01-11T12:02:31.607Z"
   },
   {
    "duration": 36,
    "start_time": "2022-01-11T12:02:35.645Z"
   },
   {
    "duration": 5,
    "start_time": "2022-01-11T12:02:46.338Z"
   },
   {
    "duration": 4,
    "start_time": "2022-01-11T12:02:52.046Z"
   },
   {
    "duration": 345,
    "start_time": "2022-01-11T12:02:57.821Z"
   },
   {
    "duration": 4,
    "start_time": "2022-01-11T12:03:02.283Z"
   },
   {
    "duration": 97,
    "start_time": "2022-01-11T12:03:02.307Z"
   },
   {
    "duration": 4,
    "start_time": "2022-01-11T12:03:02.407Z"
   },
   {
    "duration": 21,
    "start_time": "2022-01-11T12:03:02.414Z"
   },
   {
    "duration": 47,
    "start_time": "2022-01-11T12:03:02.438Z"
   },
   {
    "duration": 23,
    "start_time": "2022-01-11T12:03:02.487Z"
   },
   {
    "duration": 4,
    "start_time": "2022-01-11T12:03:04.495Z"
   },
   {
    "duration": 30,
    "start_time": "2022-01-11T12:03:08.221Z"
   },
   {
    "duration": 33,
    "start_time": "2022-01-11T12:03:27.611Z"
   },
   {
    "duration": 31,
    "start_time": "2022-01-11T12:03:30.164Z"
   },
   {
    "duration": 4,
    "start_time": "2022-01-11T12:03:41.559Z"
   },
   {
    "duration": 121,
    "start_time": "2022-01-11T12:03:41.575Z"
   },
   {
    "duration": 4,
    "start_time": "2022-01-11T12:03:41.698Z"
   },
   {
    "duration": 21,
    "start_time": "2022-01-11T12:03:41.705Z"
   },
   {
    "duration": 46,
    "start_time": "2022-01-11T12:03:41.728Z"
   },
   {
    "duration": 14,
    "start_time": "2022-01-11T12:03:41.777Z"
   },
   {
    "duration": 30,
    "start_time": "2022-01-11T12:03:45.089Z"
   },
   {
    "duration": 32,
    "start_time": "2022-01-11T12:03:47.888Z"
   },
   {
    "duration": 8678,
    "start_time": "2022-01-11T12:04:06.778Z"
   },
   {
    "duration": 4,
    "start_time": "2022-01-11T12:05:27.010Z"
   },
   {
    "duration": 113,
    "start_time": "2022-01-11T12:05:27.026Z"
   },
   {
    "duration": 4,
    "start_time": "2022-01-11T12:05:27.142Z"
   },
   {
    "duration": 34,
    "start_time": "2022-01-11T12:05:27.149Z"
   },
   {
    "duration": 24,
    "start_time": "2022-01-11T12:05:27.186Z"
   },
   {
    "duration": 47,
    "start_time": "2022-01-11T12:05:29.746Z"
   },
   {
    "duration": -896,
    "start_time": "2022-01-11T12:06:11.923Z"
   },
   {
    "duration": 7,
    "start_time": "2022-01-11T12:06:11.725Z"
   },
   {
    "duration": 7,
    "start_time": "2022-01-11T12:06:15.745Z"
   },
   {
    "duration": 7,
    "start_time": "2022-01-11T12:06:22.924Z"
   },
   {
    "duration": 5,
    "start_time": "2022-01-11T12:06:50.865Z"
   },
   {
    "duration": 120,
    "start_time": "2022-01-11T12:06:50.873Z"
   },
   {
    "duration": 5,
    "start_time": "2022-01-11T12:06:50.996Z"
   },
   {
    "duration": 23,
    "start_time": "2022-01-11T12:06:51.004Z"
   },
   {
    "duration": 62,
    "start_time": "2022-01-11T12:06:51.029Z"
   },
   {
    "duration": 23,
    "start_time": "2022-01-11T12:06:53.280Z"
   },
   {
    "duration": 44,
    "start_time": "2022-01-11T12:06:55.673Z"
   },
   {
    "duration": -878,
    "start_time": "2022-01-11T12:07:08.708Z"
   },
   {
    "duration": 6,
    "start_time": "2022-01-11T12:07:13.508Z"
   },
   {
    "duration": 14,
    "start_time": "2022-01-11T12:07:16.615Z"
   },
   {
    "duration": 6,
    "start_time": "2022-01-11T12:07:21.676Z"
   },
   {
    "duration": 6,
    "start_time": "2022-01-11T12:07:24.455Z"
   },
   {
    "duration": -925,
    "start_time": "2022-01-11T12:07:33.784Z"
   },
   {
    "duration": 12,
    "start_time": "2022-01-11T12:07:35.372Z"
   },
   {
    "duration": 5,
    "start_time": "2022-01-11T12:07:38.812Z"
   },
   {
    "duration": 8,
    "start_time": "2022-01-11T12:08:13.512Z"
   },
   {
    "duration": 7,
    "start_time": "2022-01-11T12:08:18.416Z"
   },
   {
    "duration": 7,
    "start_time": "2022-01-11T12:08:23.153Z"
   },
   {
    "duration": 45,
    "start_time": "2022-01-11T12:08:26.741Z"
   },
   {
    "duration": 10,
    "start_time": "2022-01-11T12:08:45.688Z"
   },
   {
    "duration": 154,
    "start_time": "2022-01-11T12:08:45.722Z"
   },
   {
    "duration": 5,
    "start_time": "2022-01-11T12:08:45.881Z"
   },
   {
    "duration": 44,
    "start_time": "2022-01-11T12:08:45.890Z"
   },
   {
    "duration": 44,
    "start_time": "2022-01-11T12:08:45.937Z"
   },
   {
    "duration": 18,
    "start_time": "2022-01-11T12:08:45.985Z"
   },
   {
    "duration": 4,
    "start_time": "2022-01-11T12:08:46.006Z"
   },
   {
    "duration": 32,
    "start_time": "2022-01-11T12:08:49.709Z"
   },
   {
    "duration": -878,
    "start_time": "2022-01-11T12:09:09.183Z"
   },
   {
    "duration": 8,
    "start_time": "2022-01-11T12:09:10.560Z"
   },
   {
    "duration": 8,
    "start_time": "2022-01-11T12:09:30.997Z"
   },
   {
    "duration": 9,
    "start_time": "2022-01-11T12:09:34.067Z"
   },
   {
    "duration": 32,
    "start_time": "2022-01-11T12:09:58.118Z"
   },
   {
    "duration": 5,
    "start_time": "2022-01-11T12:10:16.798Z"
   },
   {
    "duration": 53,
    "start_time": "2022-01-11T12:10:18.912Z"
   },
   {
    "duration": 4,
    "start_time": "2022-01-11T12:10:25.472Z"
   },
   {
    "duration": 107,
    "start_time": "2022-01-11T12:10:25.488Z"
   },
   {
    "duration": 5,
    "start_time": "2022-01-11T12:10:25.598Z"
   },
   {
    "duration": 22,
    "start_time": "2022-01-11T12:10:25.607Z"
   },
   {
    "duration": 61,
    "start_time": "2022-01-11T12:10:25.632Z"
   },
   {
    "duration": 14,
    "start_time": "2022-01-11T12:10:25.696Z"
   },
   {
    "duration": 5,
    "start_time": "2022-01-11T12:10:28.106Z"
   },
   {
    "duration": 46,
    "start_time": "2022-01-11T12:10:30.039Z"
   },
   {
    "duration": 30,
    "start_time": "2022-01-11T12:10:44.210Z"
   },
   {
    "duration": 8,
    "start_time": "2022-01-11T12:10:47.733Z"
   },
   {
    "duration": 17,
    "start_time": "2022-01-11T12:11:27.428Z"
   },
   {
    "duration": 4,
    "start_time": "2022-01-11T12:11:46.232Z"
   },
   {
    "duration": 100,
    "start_time": "2022-01-11T12:11:46.263Z"
   },
   {
    "duration": 4,
    "start_time": "2022-01-11T12:11:46.366Z"
   },
   {
    "duration": 27,
    "start_time": "2022-01-11T12:11:46.374Z"
   },
   {
    "duration": 21,
    "start_time": "2022-01-11T12:11:46.404Z"
   },
   {
    "duration": 17,
    "start_time": "2022-01-11T12:11:51.181Z"
   },
   {
    "duration": 13,
    "start_time": "2022-01-11T12:12:50.076Z"
   },
   {
    "duration": 42,
    "start_time": "2022-01-11T12:18:50.757Z"
   },
   {
    "duration": 63,
    "start_time": "2022-01-11T12:22:50.177Z"
   },
   {
    "duration": 142,
    "start_time": "2022-01-11T12:23:19.568Z"
   },
   {
    "duration": 309,
    "start_time": "2022-01-11T12:23:23.882Z"
   },
   {
    "duration": 25,
    "start_time": "2022-01-11T12:23:32.695Z"
   },
   {
    "duration": 1015,
    "start_time": "2022-01-11T12:23:44.828Z"
   },
   {
    "duration": 28,
    "start_time": "2022-01-11T12:23:49.914Z"
   },
   {
    "duration": 13,
    "start_time": "2022-01-11T12:24:14.912Z"
   },
   {
    "duration": 15,
    "start_time": "2022-01-11T12:24:38.779Z"
   },
   {
    "duration": 23,
    "start_time": "2022-01-11T12:24:41.314Z"
   },
   {
    "duration": 13,
    "start_time": "2022-01-11T12:24:50.598Z"
   },
   {
    "duration": 11,
    "start_time": "2022-01-11T12:25:11.031Z"
   },
   {
    "duration": 14,
    "start_time": "2022-01-11T12:29:57.284Z"
   },
   {
    "duration": 32,
    "start_time": "2022-01-11T12:30:45.643Z"
   },
   {
    "duration": 13,
    "start_time": "2022-01-11T12:31:28.623Z"
   },
   {
    "duration": 34,
    "start_time": "2022-01-11T12:31:57.459Z"
   },
   {
    "duration": 10,
    "start_time": "2022-01-11T12:32:59.620Z"
   },
   {
    "duration": 25,
    "start_time": "2022-01-11T12:33:47.107Z"
   },
   {
    "duration": 322,
    "start_time": "2022-01-11T12:34:34.028Z"
   },
   {
    "duration": 364,
    "start_time": "2022-01-11T12:34:42.451Z"
   },
   {
    "duration": 699,
    "start_time": "2022-01-11T12:34:54.749Z"
   },
   {
    "duration": 25,
    "start_time": "2022-01-11T12:35:13.546Z"
   },
   {
    "duration": 29,
    "start_time": "2022-01-11T12:36:14.196Z"
   },
   {
    "duration": 349,
    "start_time": "2022-01-11T12:37:42.831Z"
   },
   {
    "duration": 353,
    "start_time": "2022-01-11T12:37:54.006Z"
   },
   {
    "duration": 339,
    "start_time": "2022-01-11T12:37:57.177Z"
   },
   {
    "duration": 318,
    "start_time": "2022-01-11T12:38:08.254Z"
   },
   {
    "duration": 332,
    "start_time": "2022-01-11T12:38:13.891Z"
   },
   {
    "duration": 334,
    "start_time": "2022-01-11T12:38:26.157Z"
   },
   {
    "duration": 324,
    "start_time": "2022-01-11T12:38:46.574Z"
   },
   {
    "duration": 344,
    "start_time": "2022-01-11T12:39:05.582Z"
   },
   {
    "duration": 333,
    "start_time": "2022-01-11T12:39:35.430Z"
   },
   {
    "duration": 370,
    "start_time": "2022-01-11T12:39:38.846Z"
   },
   {
    "duration": 41,
    "start_time": "2022-01-11T12:39:48.860Z"
   },
   {
    "duration": 25,
    "start_time": "2022-01-11T12:40:58.674Z"
   },
   {
    "duration": 12,
    "start_time": "2022-01-11T12:43:04.530Z"
   },
   {
    "duration": 16,
    "start_time": "2022-01-11T12:43:18.905Z"
   },
   {
    "duration": 379,
    "start_time": "2022-01-11T12:44:46.362Z"
   },
   {
    "duration": 17,
    "start_time": "2022-01-11T12:44:48.480Z"
   },
   {
    "duration": 16,
    "start_time": "2022-01-11T12:45:37.038Z"
   },
   {
    "duration": 27,
    "start_time": "2022-01-11T12:48:16.110Z"
   },
   {
    "duration": 21,
    "start_time": "2022-01-11T12:48:24.800Z"
   },
   {
    "duration": 25,
    "start_time": "2022-01-11T12:49:35.249Z"
   },
   {
    "duration": 103,
    "start_time": "2022-01-11T12:54:22.759Z"
   },
   {
    "duration": 114,
    "start_time": "2022-01-11T12:54:30.607Z"
   },
   {
    "duration": 29,
    "start_time": "2022-01-11T12:54:35.627Z"
   },
   {
    "duration": 18,
    "start_time": "2022-01-11T12:55:16.410Z"
   },
   {
    "duration": 19,
    "start_time": "2022-01-11T12:56:09.794Z"
   },
   {
    "duration": 407,
    "start_time": "2022-01-11T12:56:34.072Z"
   },
   {
    "duration": 309,
    "start_time": "2022-01-11T12:56:47.147Z"
   },
   {
    "duration": 15,
    "start_time": "2022-01-11T12:56:56.333Z"
   },
   {
    "duration": 18,
    "start_time": "2022-01-11T12:57:10.758Z"
   },
   {
    "duration": 1265,
    "start_time": "2022-01-11T12:57:25.812Z"
   },
   {
    "duration": 15,
    "start_time": "2022-01-11T12:57:39.716Z"
   },
   {
    "duration": 20,
    "start_time": "2022-01-11T12:58:07.460Z"
   },
   {
    "duration": 20,
    "start_time": "2022-01-11T13:00:06.522Z"
   },
   {
    "duration": 21,
    "start_time": "2022-01-11T13:01:15.724Z"
   },
   {
    "duration": 40,
    "start_time": "2022-01-11T13:01:39.533Z"
   },
   {
    "duration": 21,
    "start_time": "2022-01-11T13:02:46.407Z"
   },
   {
    "duration": 59,
    "start_time": "2022-01-11T13:04:51.387Z"
   },
   {
    "duration": 36,
    "start_time": "2022-01-11T13:14:39.851Z"
   },
   {
    "duration": 14,
    "start_time": "2022-01-11T13:15:08.793Z"
   },
   {
    "duration": 18,
    "start_time": "2022-01-11T13:15:49.220Z"
   },
   {
    "duration": 21,
    "start_time": "2022-01-11T13:16:21.124Z"
   },
   {
    "duration": 18,
    "start_time": "2022-01-11T13:16:27.273Z"
   },
   {
    "duration": 14,
    "start_time": "2022-01-11T13:16:39.287Z"
   },
   {
    "duration": -908,
    "start_time": "2022-01-11T13:19:32.076Z"
   },
   {
    "duration": 15,
    "start_time": "2022-01-11T13:19:40.315Z"
   },
   {
    "duration": 102,
    "start_time": "2022-01-11T13:22:48.509Z"
   },
   {
    "duration": 20,
    "start_time": "2022-01-11T13:22:54.328Z"
   },
   {
    "duration": 18,
    "start_time": "2022-01-11T13:33:08.949Z"
   },
   {
    "duration": 16,
    "start_time": "2022-01-11T13:33:30.338Z"
   },
   {
    "duration": 51,
    "start_time": "2022-01-11T13:34:21.498Z"
   },
   {
    "duration": 9,
    "start_time": "2022-01-11T13:37:44.062Z"
   },
   {
    "duration": 7,
    "start_time": "2022-01-11T13:38:13.282Z"
   },
   {
    "duration": 783,
    "start_time": "2022-01-11T13:39:41.426Z"
   },
   {
    "duration": 54,
    "start_time": "2022-01-11T13:39:59.847Z"
   },
   {
    "duration": 69,
    "start_time": "2022-01-11T13:40:12.821Z"
   },
   {
    "duration": 76,
    "start_time": "2022-01-11T13:40:39.235Z"
   },
   {
    "duration": 375,
    "start_time": "2022-01-11T13:41:20.535Z"
   },
   {
    "duration": 350,
    "start_time": "2022-01-11T13:42:45.158Z"
   },
   {
    "duration": 73,
    "start_time": "2022-01-11T13:42:51.926Z"
   },
   {
    "duration": 25,
    "start_time": "2022-01-11T13:43:31.176Z"
   },
   {
    "duration": 321,
    "start_time": "2022-01-11T13:44:16.242Z"
   },
   {
    "duration": 295,
    "start_time": "2022-01-11T13:45:11.704Z"
   },
   {
    "duration": 401,
    "start_time": "2022-01-11T13:45:29.884Z"
   },
   {
    "duration": 1545,
    "start_time": "2022-01-11T13:45:47.262Z"
   },
   {
    "duration": 312,
    "start_time": "2022-01-11T13:46:04.811Z"
   },
   {
    "duration": 77,
    "start_time": "2022-01-11T13:46:49.448Z"
   },
   {
    "duration": 384,
    "start_time": "2022-01-11T13:48:54.624Z"
   },
   {
    "duration": 79,
    "start_time": "2022-01-11T13:49:30.800Z"
   },
   {
    "duration": 351,
    "start_time": "2022-01-11T13:49:52.022Z"
   },
   {
    "duration": 121,
    "start_time": "2022-01-11T13:50:02.208Z"
   },
   {
    "duration": 98,
    "start_time": "2022-01-11T13:50:05.946Z"
   },
   {
    "duration": 332,
    "start_time": "2022-01-11T13:50:10.681Z"
   },
   {
    "duration": 102,
    "start_time": "2022-01-11T13:50:12.940Z"
   },
   {
    "duration": 65,
    "start_time": "2022-01-11T13:50:19.011Z"
   },
   {
    "duration": 72,
    "start_time": "2022-01-11T13:52:15.956Z"
   },
   {
    "duration": 112,
    "start_time": "2022-01-11T13:53:22.004Z"
   },
   {
    "duration": 335,
    "start_time": "2022-01-11T13:53:53.378Z"
   },
   {
    "duration": 16,
    "start_time": "2022-01-11T13:53:58.984Z"
   },
   {
    "duration": 78,
    "start_time": "2022-01-11T13:56:05.320Z"
   },
   {
    "duration": 74,
    "start_time": "2022-01-11T13:56:12.003Z"
   },
   {
    "duration": 76,
    "start_time": "2022-01-11T13:56:26.197Z"
   },
   {
    "duration": 388,
    "start_time": "2022-01-11T13:56:32.211Z"
   },
   {
    "duration": 362,
    "start_time": "2022-01-11T13:56:47.027Z"
   },
   {
    "duration": 73,
    "start_time": "2022-01-11T13:57:08.443Z"
   },
   {
    "duration": 77,
    "start_time": "2022-01-11T13:57:21.695Z"
   },
   {
    "duration": 6597,
    "start_time": "2022-01-11T13:57:27.145Z"
   },
   {
    "duration": 6334,
    "start_time": "2022-01-11T13:57:34.379Z"
   },
   {
    "duration": 5644,
    "start_time": "2022-01-11T13:58:03.115Z"
   },
   {
    "duration": 7501,
    "start_time": "2022-01-11T13:58:23.482Z"
   },
   {
    "duration": 92,
    "start_time": "2022-01-11T13:58:51.835Z"
   },
   {
    "duration": 97,
    "start_time": "2022-01-11T13:59:22.892Z"
   },
   {
    "duration": 72,
    "start_time": "2022-01-11T14:03:37.797Z"
   },
   {
    "duration": 41,
    "start_time": "2022-01-11T14:04:01.822Z"
   },
   {
    "duration": 27,
    "start_time": "2022-01-11T14:04:11.532Z"
   },
   {
    "duration": 687,
    "start_time": "2022-01-11T14:08:04.673Z"
   },
   {
    "duration": 2235,
    "start_time": "2022-01-11T14:08:12.881Z"
   },
   {
    "duration": 84,
    "start_time": "2022-01-11T14:08:18.498Z"
   },
   {
    "duration": 48,
    "start_time": "2022-01-11T14:08:54.334Z"
   },
   {
    "duration": 319,
    "start_time": "2022-01-11T14:09:30.810Z"
   },
   {
    "duration": 28,
    "start_time": "2022-01-11T14:09:38.522Z"
   },
   {
    "duration": 317,
    "start_time": "2022-01-11T14:09:54.662Z"
   },
   {
    "duration": 25,
    "start_time": "2022-01-11T14:09:59.756Z"
   },
   {
    "duration": 1191,
    "start_time": "2022-01-11T14:10:23.035Z"
   },
   {
    "duration": 5843,
    "start_time": "2022-01-11T14:10:51.880Z"
   },
   {
    "duration": 1309,
    "start_time": "2022-01-11T14:11:05.136Z"
   },
   {
    "duration": 32,
    "start_time": "2022-01-11T14:12:03.180Z"
   },
   {
    "duration": 31,
    "start_time": "2022-01-11T14:12:09.043Z"
   },
   {
    "duration": 47,
    "start_time": "2022-01-11T14:12:14.394Z"
   },
   {
    "duration": 339,
    "start_time": "2022-01-11T14:13:02.231Z"
   },
   {
    "duration": 315,
    "start_time": "2022-01-11T14:13:08.481Z"
   },
   {
    "duration": 101,
    "start_time": "2022-01-11T14:15:43.996Z"
   },
   {
    "duration": 105,
    "start_time": "2022-01-11T14:15:47.428Z"
   },
   {
    "duration": 19,
    "start_time": "2022-01-11T14:15:54.226Z"
   },
   {
    "duration": 49,
    "start_time": "2022-01-11T14:15:58.555Z"
   },
   {
    "duration": 1034,
    "start_time": "2022-01-11T14:19:44.676Z"
   },
   {
    "duration": 2340,
    "start_time": "2022-01-11T14:20:53.829Z"
   },
   {
    "duration": 1358,
    "start_time": "2022-01-11T14:22:00.016Z"
   },
   {
    "duration": 1410,
    "start_time": "2022-01-11T14:22:19.592Z"
   },
   {
    "duration": 1419,
    "start_time": "2022-01-11T14:22:42.837Z"
   },
   {
    "duration": 1032,
    "start_time": "2022-01-11T14:26:15.583Z"
   },
   {
    "duration": 1130,
    "start_time": "2022-01-11T14:26:26.768Z"
   },
   {
    "duration": 1049,
    "start_time": "2022-01-11T14:26:56.095Z"
   },
   {
    "duration": 97,
    "start_time": "2022-01-11T14:28:53.615Z"
   },
   {
    "duration": 1036,
    "start_time": "2022-01-11T14:29:03.390Z"
   },
   {
    "duration": 1388,
    "start_time": "2022-01-11T14:29:28.043Z"
   },
   {
    "duration": 1370,
    "start_time": "2022-01-11T14:30:03.226Z"
   },
   {
    "duration": 1000,
    "start_time": "2022-01-11T14:31:11.032Z"
   },
   {
    "duration": 1070,
    "start_time": "2022-01-11T14:31:29.827Z"
   },
   {
    "duration": 1034,
    "start_time": "2022-01-11T14:31:42.173Z"
   },
   {
    "duration": 1208,
    "start_time": "2022-01-11T14:32:19.785Z"
   },
   {
    "duration": 1044,
    "start_time": "2022-01-11T14:32:41.952Z"
   },
   {
    "duration": 1370,
    "start_time": "2022-01-11T14:33:49.257Z"
   },
   {
    "duration": 1335,
    "start_time": "2022-01-11T14:34:24.654Z"
   },
   {
    "duration": 1418,
    "start_time": "2022-01-11T14:34:30.152Z"
   },
   {
    "duration": 1045,
    "start_time": "2022-01-11T14:34:58.645Z"
   },
   {
    "duration": 1058,
    "start_time": "2022-01-11T14:35:20.894Z"
   },
   {
    "duration": 1030,
    "start_time": "2022-01-11T14:35:31.358Z"
   },
   {
    "duration": 1424,
    "start_time": "2022-01-11T14:37:05.623Z"
   },
   {
    "duration": 1341,
    "start_time": "2022-01-11T14:37:26.733Z"
   },
   {
    "duration": 1349,
    "start_time": "2022-01-11T14:37:50.136Z"
   },
   {
    "duration": 1389,
    "start_time": "2022-01-11T14:38:15.073Z"
   },
   {
    "duration": 100,
    "start_time": "2022-01-11T14:38:33.493Z"
   },
   {
    "duration": 1077,
    "start_time": "2022-01-11T14:38:38.246Z"
   },
   {
    "duration": 1153,
    "start_time": "2022-01-11T14:39:02.601Z"
   },
   {
    "duration": 1107,
    "start_time": "2022-01-11T14:39:38.108Z"
   },
   {
    "duration": 1539,
    "start_time": "2022-01-11T14:44:09.086Z"
   },
   {
    "duration": 1520,
    "start_time": "2022-01-11T14:44:40.622Z"
   },
   {
    "duration": 1058,
    "start_time": "2022-01-11T14:45:04.466Z"
   },
   {
    "duration": 1099,
    "start_time": "2022-01-11T14:45:10.624Z"
   },
   {
    "duration": 1087,
    "start_time": "2022-01-11T14:46:15.801Z"
   },
   {
    "duration": 1094,
    "start_time": "2022-01-11T14:46:22.401Z"
   },
   {
    "duration": 1057,
    "start_time": "2022-01-11T14:46:41.467Z"
   },
   {
    "duration": 78,
    "start_time": "2022-01-11T14:54:18.577Z"
   },
   {
    "duration": 376,
    "start_time": "2022-01-11T14:57:41.420Z"
   },
   {
    "duration": 356,
    "start_time": "2022-01-11T14:58:12.581Z"
   },
   {
    "duration": 393,
    "start_time": "2022-01-11T14:58:54.481Z"
   },
   {
    "duration": 54,
    "start_time": "2022-01-11T14:59:21.686Z"
   },
   {
    "duration": 32,
    "start_time": "2022-01-11T14:59:49.855Z"
   },
   {
    "duration": 108,
    "start_time": "2022-01-11T15:02:25.953Z"
   },
   {
    "duration": 411,
    "start_time": "2022-01-11T15:02:40.513Z"
   },
   {
    "duration": 136,
    "start_time": "2022-01-11T15:03:00.689Z"
   },
   {
    "duration": 151,
    "start_time": "2022-01-11T15:03:04.236Z"
   },
   {
    "duration": 1947,
    "start_time": "2022-01-11T15:04:29.657Z"
   },
   {
    "duration": 202,
    "start_time": "2022-01-11T15:04:43.355Z"
   },
   {
    "duration": 252,
    "start_time": "2022-01-11T15:05:00.402Z"
   },
   {
    "duration": 285,
    "start_time": "2022-01-11T15:06:27.616Z"
   },
   {
    "duration": 39,
    "start_time": "2022-01-11T15:07:41.071Z"
   },
   {
    "duration": 228,
    "start_time": "2022-01-11T15:09:10.606Z"
   },
   {
    "duration": 318,
    "start_time": "2022-01-11T15:10:45.009Z"
   },
   {
    "duration": 225,
    "start_time": "2022-01-11T15:10:54.407Z"
   },
   {
    "duration": 324,
    "start_time": "2022-01-11T15:11:21.804Z"
   },
   {
    "duration": 175,
    "start_time": "2022-01-11T15:11:33.123Z"
   },
   {
    "duration": 192,
    "start_time": "2022-01-11T15:14:38.895Z"
   },
   {
    "duration": 8,
    "start_time": "2022-01-11T15:16:20.290Z"
   },
   {
    "duration": 100,
    "start_time": "2022-01-11T15:16:27.737Z"
   },
   {
    "duration": 18,
    "start_time": "2022-01-11T15:16:30.383Z"
   },
   {
    "duration": 298,
    "start_time": "2022-01-11T19:31:59.694Z"
   },
   {
    "duration": 1517,
    "start_time": "2022-01-11T19:32:07.772Z"
   },
   {
    "duration": 90,
    "start_time": "2022-01-11T19:32:09.292Z"
   },
   {
    "duration": 3,
    "start_time": "2022-01-11T19:32:09.387Z"
   },
   {
    "duration": 19,
    "start_time": "2022-01-11T19:32:09.393Z"
   },
   {
    "duration": 21,
    "start_time": "2022-01-11T19:32:09.414Z"
   },
   {
    "duration": 45,
    "start_time": "2022-01-11T19:32:09.437Z"
   },
   {
    "duration": 991,
    "start_time": "2022-01-11T19:32:09.484Z"
   },
   {
    "duration": 43,
    "start_time": "2022-01-11T19:32:10.478Z"
   },
   {
    "duration": 150,
    "start_time": "2022-01-11T19:32:15.101Z"
   },
   {
    "duration": 159,
    "start_time": "2022-01-11T19:33:12.469Z"
   },
   {
    "duration": 614,
    "start_time": "2022-01-11T19:34:08.502Z"
   },
   {
    "duration": 154,
    "start_time": "2022-01-11T19:35:05.514Z"
   },
   {
    "duration": 290,
    "start_time": "2022-01-11T19:36:00.113Z"
   },
   {
    "duration": 216,
    "start_time": "2022-01-11T19:36:10.442Z"
   },
   {
    "duration": 140,
    "start_time": "2022-01-11T19:37:42.559Z"
   },
   {
    "duration": 126,
    "start_time": "2022-01-11T19:38:09.890Z"
   },
   {
    "duration": 122,
    "start_time": "2022-01-11T19:38:46.749Z"
   },
   {
    "duration": 287,
    "start_time": "2022-01-11T19:40:56.684Z"
   },
   {
    "duration": 90,
    "start_time": "2022-01-11T19:41:12.058Z"
   },
   {
    "duration": 95,
    "start_time": "2022-01-11T19:42:00.747Z"
   },
   {
    "duration": 81,
    "start_time": "2022-01-11T19:42:21.071Z"
   },
   {
    "duration": 326,
    "start_time": "2022-01-11T19:42:38.860Z"
   },
   {
    "duration": 698,
    "start_time": "2022-01-11T19:43:02.976Z"
   },
   {
    "duration": 95,
    "start_time": "2022-01-11T19:44:03.087Z"
   },
   {
    "duration": 283,
    "start_time": "2022-01-11T19:44:09.806Z"
   },
   {
    "duration": 277,
    "start_time": "2022-01-11T19:44:17.033Z"
   },
   {
    "duration": 91,
    "start_time": "2022-01-11T19:44:32.120Z"
   },
   {
    "duration": 120,
    "start_time": "2022-01-11T19:47:24.848Z"
   },
   {
    "duration": 91,
    "start_time": "2022-01-11T19:47:39.633Z"
   },
   {
    "duration": 92,
    "start_time": "2022-01-11T19:48:03.684Z"
   },
   {
    "duration": 94,
    "start_time": "2022-01-11T19:48:31.191Z"
   },
   {
    "duration": 6851,
    "start_time": "2022-01-11T19:51:30.740Z"
   },
   {
    "duration": 11,
    "start_time": "2022-01-11T19:51:46.155Z"
   },
   {
    "duration": 17,
    "start_time": "2022-01-11T19:53:37.096Z"
   },
   {
    "duration": 13,
    "start_time": "2022-01-11T19:55:26.250Z"
   },
   {
    "duration": 3,
    "start_time": "2022-01-11T19:57:25.364Z"
   },
   {
    "duration": 70,
    "start_time": "2022-01-11T19:57:25.379Z"
   },
   {
    "duration": 3,
    "start_time": "2022-01-11T19:57:25.451Z"
   },
   {
    "duration": 22,
    "start_time": "2022-01-11T19:57:25.456Z"
   },
   {
    "duration": 12,
    "start_time": "2022-01-11T19:57:25.480Z"
   },
   {
    "duration": 15,
    "start_time": "2022-01-11T19:57:25.494Z"
   },
   {
    "duration": 726,
    "start_time": "2022-01-11T19:57:25.511Z"
   },
   {
    "duration": 42,
    "start_time": "2022-01-11T19:57:26.239Z"
   },
   {
    "duration": 93,
    "start_time": "2022-01-11T19:57:26.283Z"
   },
   {
    "duration": 11,
    "start_time": "2022-01-11T19:57:26.378Z"
   },
   {
    "duration": 20,
    "start_time": "2022-01-11T19:57:26.390Z"
   },
   {
    "duration": 51,
    "start_time": "2022-01-11T19:57:26.411Z"
   },
   {
    "duration": 28,
    "start_time": "2022-01-11T19:57:26.464Z"
   },
   {
    "duration": 14,
    "start_time": "2022-01-11T19:57:26.494Z"
   },
   {
    "duration": 349,
    "start_time": "2022-01-11T20:03:31.886Z"
   },
   {
    "duration": 7417,
    "start_time": "2022-01-11T20:03:45.980Z"
   },
   {
    "duration": 362,
    "start_time": "2022-01-11T20:04:55.780Z"
   },
   {
    "duration": 524,
    "start_time": "2022-01-11T20:05:05.349Z"
   },
   {
    "duration": 886,
    "start_time": "2022-01-11T20:05:18.985Z"
   },
   {
    "duration": 1034,
    "start_time": "2022-01-11T20:05:41.742Z"
   },
   {
    "duration": 3,
    "start_time": "2022-01-11T20:06:03.702Z"
   },
   {
    "duration": 71,
    "start_time": "2022-01-11T20:06:03.712Z"
   },
   {
    "duration": 3,
    "start_time": "2022-01-11T20:06:03.786Z"
   },
   {
    "duration": 18,
    "start_time": "2022-01-11T20:06:03.792Z"
   },
   {
    "duration": 15,
    "start_time": "2022-01-11T20:06:03.812Z"
   },
   {
    "duration": 42,
    "start_time": "2022-01-11T20:06:03.829Z"
   },
   {
    "duration": 745,
    "start_time": "2022-01-11T20:06:03.872Z"
   },
   {
    "duration": 47,
    "start_time": "2022-01-11T20:06:04.620Z"
   },
   {
    "duration": 126,
    "start_time": "2022-01-11T20:06:04.669Z"
   },
   {
    "duration": 16,
    "start_time": "2022-01-11T20:06:04.797Z"
   },
   {
    "duration": 504,
    "start_time": "2022-01-11T20:06:08.335Z"
   },
   {
    "duration": 1031,
    "start_time": "2022-01-11T20:06:16.003Z"
   },
   {
    "duration": 1860,
    "start_time": "2022-01-11T20:07:16.591Z"
   },
   {
    "duration": 957,
    "start_time": "2022-01-11T20:08:37.825Z"
   },
   {
    "duration": 940,
    "start_time": "2022-01-11T20:10:21.266Z"
   },
   {
    "duration": 9,
    "start_time": "2022-01-11T20:15:39.575Z"
   },
   {
    "duration": 10,
    "start_time": "2022-01-11T20:15:48.512Z"
   },
   {
    "duration": 13,
    "start_time": "2022-01-11T20:16:01.528Z"
   },
   {
    "duration": 1042,
    "start_time": "2022-01-11T20:16:19.861Z"
   },
   {
    "duration": 933,
    "start_time": "2022-01-11T20:16:55.879Z"
   },
   {
    "duration": 819,
    "start_time": "2022-01-11T20:17:34.140Z"
   },
   {
    "duration": 942,
    "start_time": "2022-01-11T20:18:17.099Z"
   },
   {
    "duration": 6,
    "start_time": "2022-01-11T20:20:24.984Z"
   },
   {
    "duration": 3,
    "start_time": "2022-01-11T20:20:34.016Z"
   },
   {
    "duration": 69,
    "start_time": "2022-01-11T20:20:34.034Z"
   },
   {
    "duration": 3,
    "start_time": "2022-01-11T20:20:34.105Z"
   },
   {
    "duration": 15,
    "start_time": "2022-01-11T20:20:34.110Z"
   },
   {
    "duration": 36,
    "start_time": "2022-01-11T20:20:34.127Z"
   },
   {
    "duration": 11,
    "start_time": "2022-01-11T20:20:34.165Z"
   },
   {
    "duration": 722,
    "start_time": "2022-01-11T20:20:34.178Z"
   },
   {
    "duration": 26,
    "start_time": "2022-01-11T20:20:34.901Z"
   },
   {
    "duration": 102,
    "start_time": "2022-01-11T20:20:34.929Z"
   },
   {
    "duration": 13,
    "start_time": "2022-01-11T20:20:35.033Z"
   },
   {
    "duration": 19,
    "start_time": "2022-01-11T20:20:39.036Z"
   },
   {
    "duration": 436,
    "start_time": "2022-01-11T20:20:49.418Z"
   },
   {
    "duration": 288,
    "start_time": "2022-01-11T20:21:24.048Z"
   },
   {
    "duration": 295,
    "start_time": "2022-01-11T20:23:31.887Z"
   },
   {
    "duration": 300,
    "start_time": "2022-01-11T20:23:51.161Z"
   },
   {
    "duration": 288,
    "start_time": "2022-01-11T20:24:02.333Z"
   },
   {
    "duration": 299,
    "start_time": "2022-01-11T20:26:17.625Z"
   },
   {
    "duration": 23,
    "start_time": "2022-01-11T20:28:49.116Z"
   },
   {
    "duration": 9,
    "start_time": "2022-01-11T20:29:46.861Z"
   },
   {
    "duration": 242,
    "start_time": "2022-01-11T20:30:19.515Z"
   },
   {
    "duration": 217,
    "start_time": "2022-01-11T20:30:23.812Z"
   },
   {
    "duration": 536,
    "start_time": "2022-01-11T20:37:00.858Z"
   },
   {
    "duration": 501,
    "start_time": "2022-01-11T20:37:18.294Z"
   },
   {
    "duration": 720,
    "start_time": "2022-01-11T20:45:21.681Z"
   },
   {
    "duration": 727,
    "start_time": "2022-01-11T20:46:24.934Z"
   },
   {
    "duration": 700,
    "start_time": "2022-01-11T20:47:32.458Z"
   },
   {
    "duration": 784,
    "start_time": "2022-01-11T20:47:41.701Z"
   },
   {
    "duration": 673,
    "start_time": "2022-01-11T20:49:10.080Z"
   },
   {
    "duration": 696,
    "start_time": "2022-01-11T20:49:45.415Z"
   },
   {
    "duration": 109,
    "start_time": "2022-01-11T20:52:03.398Z"
   },
   {
    "duration": 717,
    "start_time": "2022-01-11T20:52:08.911Z"
   },
   {
    "duration": 721,
    "start_time": "2022-01-11T20:52:51.513Z"
   },
   {
    "duration": 755,
    "start_time": "2022-01-11T20:53:15.167Z"
   },
   {
    "duration": 719,
    "start_time": "2022-01-11T20:53:37.468Z"
   },
   {
    "duration": 717,
    "start_time": "2022-01-11T20:53:43.788Z"
   },
   {
    "duration": 738,
    "start_time": "2022-01-11T20:53:54.184Z"
   },
   {
    "duration": 730,
    "start_time": "2022-01-11T20:53:59.522Z"
   },
   {
    "duration": 780,
    "start_time": "2022-01-11T20:54:11.087Z"
   },
   {
    "duration": 709,
    "start_time": "2022-01-11T20:54:17.267Z"
   },
   {
    "duration": 764,
    "start_time": "2022-01-11T20:54:26.153Z"
   },
   {
    "duration": 681,
    "start_time": "2022-01-11T20:54:29.839Z"
   },
   {
    "duration": 81,
    "start_time": "2022-01-11T21:06:51.810Z"
   },
   {
    "duration": 643,
    "start_time": "2022-01-11T21:07:00.252Z"
   },
   {
    "duration": 634,
    "start_time": "2022-01-11T21:12:56.870Z"
   },
   {
    "duration": 706,
    "start_time": "2022-01-12T14:10:58.012Z"
   },
   {
    "duration": 1408,
    "start_time": "2022-01-12T14:11:09.180Z"
   },
   {
    "duration": 101,
    "start_time": "2022-01-12T14:11:10.590Z"
   },
   {
    "duration": 4,
    "start_time": "2022-01-12T14:11:10.694Z"
   },
   {
    "duration": 37,
    "start_time": "2022-01-12T14:11:10.701Z"
   },
   {
    "duration": 20,
    "start_time": "2022-01-12T14:11:10.741Z"
   },
   {
    "duration": 24,
    "start_time": "2022-01-12T14:11:10.764Z"
   },
   {
    "duration": 992,
    "start_time": "2022-01-12T14:11:10.790Z"
   },
   {
    "duration": 55,
    "start_time": "2022-01-12T14:11:11.785Z"
   },
   {
    "duration": 149,
    "start_time": "2022-01-12T14:11:11.843Z"
   },
   {
    "duration": 29,
    "start_time": "2022-01-12T14:11:11.994Z"
   },
   {
    "duration": 706,
    "start_time": "2022-01-12T14:11:12.026Z"
   },
   {
    "duration": 25,
    "start_time": "2022-01-12T14:11:21.270Z"
   },
   {
    "duration": 15,
    "start_time": "2022-01-12T14:11:38.551Z"
   },
   {
    "duration": 19,
    "start_time": "2022-01-12T14:19:02.475Z"
   },
   {
    "duration": 16,
    "start_time": "2022-01-12T14:21:06.836Z"
   },
   {
    "duration": 16,
    "start_time": "2022-01-12T14:21:19.083Z"
   },
   {
    "duration": 11,
    "start_time": "2022-01-12T14:21:35.834Z"
   },
   {
    "duration": 10,
    "start_time": "2022-01-12T14:21:54.049Z"
   },
   {
    "duration": 38,
    "start_time": "2022-01-12T14:22:02.179Z"
   },
   {
    "duration": 36,
    "start_time": "2022-01-12T14:22:21.650Z"
   },
   {
    "duration": 35,
    "start_time": "2022-01-12T14:22:44.469Z"
   },
   {
    "duration": 19,
    "start_time": "2022-01-12T14:28:29.445Z"
   },
   {
    "duration": 80,
    "start_time": "2022-01-12T14:30:08.508Z"
   },
   {
    "duration": 464,
    "start_time": "2022-01-12T14:30:29.614Z"
   },
   {
    "duration": 34,
    "start_time": "2022-01-12T14:30:36.463Z"
   },
   {
    "duration": 314,
    "start_time": "2022-01-12T14:31:43.443Z"
   },
   {
    "duration": 6,
    "start_time": "2022-01-12T14:33:18.354Z"
   },
   {
    "duration": 11140,
    "start_time": "2022-01-12T14:34:15.016Z"
   },
   {
    "duration": 7740,
    "start_time": "2022-01-12T14:34:35.381Z"
   },
   {
    "duration": 8471,
    "start_time": "2022-01-12T14:36:00.475Z"
   },
   {
    "duration": 60,
    "start_time": "2022-01-12T14:36:30.167Z"
   },
   {
    "duration": 66,
    "start_time": "2022-01-12T14:36:40.522Z"
   },
   {
    "duration": 996,
    "start_time": "2022-01-12T14:41:40.880Z"
   },
   {
    "duration": 818,
    "start_time": "2022-01-12T14:41:57.342Z"
   },
   {
    "duration": 846,
    "start_time": "2022-01-12T14:42:09.023Z"
   },
   {
    "duration": 775,
    "start_time": "2022-01-12T14:42:21.299Z"
   },
   {
    "duration": 826,
    "start_time": "2022-01-12T14:42:25.669Z"
   },
   {
    "duration": 770,
    "start_time": "2022-01-12T14:42:31.936Z"
   },
   {
    "duration": 1079,
    "start_time": "2022-01-12T14:43:26.096Z"
   },
   {
    "duration": 993,
    "start_time": "2022-01-12T14:45:47.408Z"
   },
   {
    "duration": 102,
    "start_time": "2022-01-12T14:51:04.461Z"
   },
   {
    "duration": 316,
    "start_time": "2022-01-12T14:51:12.973Z"
   },
   {
    "duration": 4,
    "start_time": "2022-01-12T14:51:26.727Z"
   },
   {
    "duration": 104,
    "start_time": "2022-01-12T14:51:26.739Z"
   },
   {
    "duration": 5,
    "start_time": "2022-01-12T14:51:26.846Z"
   },
   {
    "duration": 18,
    "start_time": "2022-01-12T14:51:26.854Z"
   },
   {
    "duration": 61,
    "start_time": "2022-01-12T14:51:26.875Z"
   },
   {
    "duration": 16,
    "start_time": "2022-01-12T14:51:26.939Z"
   },
   {
    "duration": 975,
    "start_time": "2022-01-12T14:51:26.957Z"
   },
   {
    "duration": 38,
    "start_time": "2022-01-12T14:51:27.935Z"
   },
   {
    "duration": 158,
    "start_time": "2022-01-12T14:51:27.976Z"
   },
   {
    "duration": 18,
    "start_time": "2022-01-12T14:51:28.136Z"
   },
   {
    "duration": 693,
    "start_time": "2022-01-12T14:51:28.156Z"
   },
   {
    "duration": 799,
    "start_time": "2022-01-12T14:51:28.851Z"
   },
   {
    "duration": 25,
    "start_time": "2022-01-12T14:51:29.652Z"
   },
   {
    "duration": 75,
    "start_time": "2022-01-12T14:51:29.679Z"
   },
   {
    "duration": 25,
    "start_time": "2022-01-12T14:51:29.756Z"
   },
   {
    "duration": 37,
    "start_time": "2022-01-12T14:52:12.266Z"
   },
   {
    "duration": 25,
    "start_time": "2022-01-12T14:52:34.061Z"
   },
   {
    "duration": 26,
    "start_time": "2022-01-12T15:13:16.546Z"
   },
   {
    "duration": 25,
    "start_time": "2022-01-12T15:22:52.156Z"
   },
   {
    "duration": 24,
    "start_time": "2022-01-12T15:25:39.442Z"
   },
   {
    "duration": 20,
    "start_time": "2022-01-12T15:25:48.446Z"
   },
   {
    "duration": 28,
    "start_time": "2022-01-12T15:26:03.516Z"
   },
   {
    "duration": 4,
    "start_time": "2022-01-12T15:26:25.142Z"
   },
   {
    "duration": 98,
    "start_time": "2022-01-12T15:26:25.201Z"
   },
   {
    "duration": 25,
    "start_time": "2022-01-12T15:26:25.303Z"
   },
   {
    "duration": 30,
    "start_time": "2022-01-12T15:26:25.332Z"
   },
   {
    "duration": 21,
    "start_time": "2022-01-12T15:26:25.365Z"
   },
   {
    "duration": 26,
    "start_time": "2022-01-12T15:26:25.424Z"
   },
   {
    "duration": 1050,
    "start_time": "2022-01-12T15:26:25.452Z"
   },
   {
    "duration": 52,
    "start_time": "2022-01-12T15:26:26.505Z"
   },
   {
    "duration": 163,
    "start_time": "2022-01-12T15:26:26.561Z"
   },
   {
    "duration": 17,
    "start_time": "2022-01-12T15:26:26.727Z"
   },
   {
    "duration": 742,
    "start_time": "2022-01-12T15:26:26.747Z"
   },
   {
    "duration": 944,
    "start_time": "2022-01-12T15:26:27.493Z"
   },
   {
    "duration": 26,
    "start_time": "2022-01-12T15:26:28.447Z"
   },
   {
    "duration": 79,
    "start_time": "2022-01-12T15:26:28.476Z"
   },
   {
    "duration": 27,
    "start_time": "2022-01-12T15:26:44.136Z"
   },
   {
    "duration": 22,
    "start_time": "2022-01-12T15:30:59.561Z"
   },
   {
    "duration": 13,
    "start_time": "2022-01-12T15:31:13.368Z"
   },
   {
    "duration": 340,
    "start_time": "2022-01-12T15:31:59.018Z"
   },
   {
    "duration": 12,
    "start_time": "2022-01-12T15:32:05.658Z"
   },
   {
    "duration": 2815,
    "start_time": "2022-01-12T15:39:04.295Z"
   },
   {
    "duration": 2602,
    "start_time": "2022-01-12T15:41:27.976Z"
   },
   {
    "duration": 1241,
    "start_time": "2022-01-12T15:44:07.905Z"
   },
   {
    "duration": 1443,
    "start_time": "2022-01-12T15:45:55.371Z"
   },
   {
    "duration": 1310,
    "start_time": "2022-01-12T15:51:14.309Z"
   },
   {
    "duration": 1288,
    "start_time": "2022-01-12T16:02:11.538Z"
   },
   {
    "duration": 1494,
    "start_time": "2022-01-12T16:02:45.038Z"
   },
   {
    "duration": 1217,
    "start_time": "2022-01-12T16:09:03.908Z"
   },
   {
    "duration": 1241,
    "start_time": "2022-01-12T16:09:18.911Z"
   },
   {
    "duration": 1253,
    "start_time": "2022-01-12T16:11:47.683Z"
   },
   {
    "duration": 1249,
    "start_time": "2022-01-12T16:12:05.545Z"
   },
   {
    "duration": 1316,
    "start_time": "2022-01-12T16:12:33.593Z"
   },
   {
    "duration": 5,
    "start_time": "2022-01-12T16:12:40.005Z"
   },
   {
    "duration": 88,
    "start_time": "2022-01-12T16:12:40.021Z"
   },
   {
    "duration": 5,
    "start_time": "2022-01-12T16:12:40.124Z"
   },
   {
    "duration": 23,
    "start_time": "2022-01-12T16:12:40.133Z"
   },
   {
    "duration": 22,
    "start_time": "2022-01-12T16:12:40.159Z"
   },
   {
    "duration": 53,
    "start_time": "2022-01-12T16:12:40.184Z"
   },
   {
    "duration": 973,
    "start_time": "2022-01-12T16:12:40.240Z"
   },
   {
    "duration": 36,
    "start_time": "2022-01-12T16:12:41.223Z"
   },
   {
    "duration": 149,
    "start_time": "2022-01-12T16:12:41.262Z"
   },
   {
    "duration": 24,
    "start_time": "2022-01-12T16:12:41.414Z"
   },
   {
    "duration": 670,
    "start_time": "2022-01-12T16:12:43.329Z"
   },
   {
    "duration": 572,
    "start_time": "2022-01-12T16:12:53.611Z"
   },
   {
    "duration": 5,
    "start_time": "2022-01-12T16:13:06.031Z"
   },
   {
    "duration": 90,
    "start_time": "2022-01-12T16:13:06.051Z"
   },
   {
    "duration": 4,
    "start_time": "2022-01-12T16:13:06.144Z"
   },
   {
    "duration": 22,
    "start_time": "2022-01-12T16:13:06.152Z"
   },
   {
    "duration": 19,
    "start_time": "2022-01-12T16:13:06.177Z"
   },
   {
    "duration": 17,
    "start_time": "2022-01-12T16:13:06.222Z"
   },
   {
    "duration": 1012,
    "start_time": "2022-01-12T16:13:06.241Z"
   },
   {
    "duration": 37,
    "start_time": "2022-01-12T16:13:07.255Z"
   },
   {
    "duration": 154,
    "start_time": "2022-01-12T16:13:07.296Z"
   },
   {
    "duration": 16,
    "start_time": "2022-01-12T16:13:07.453Z"
   },
   {
    "duration": 667,
    "start_time": "2022-01-12T16:13:07.472Z"
   },
   {
    "duration": 839,
    "start_time": "2022-01-12T16:13:08.142Z"
   },
   {
    "duration": 56,
    "start_time": "2022-01-12T16:13:08.984Z"
   },
   {
    "duration": 37,
    "start_time": "2022-01-12T16:13:09.043Z"
   },
   {
    "duration": 49,
    "start_time": "2022-01-12T16:13:09.082Z"
   },
   {
    "duration": 572,
    "start_time": "2022-01-12T16:13:11.126Z"
   },
   {
    "duration": 570,
    "start_time": "2022-01-12T16:14:00.075Z"
   },
   {
    "duration": 1233,
    "start_time": "2022-01-12T16:14:21.711Z"
   },
   {
    "duration": 7,
    "start_time": "2022-01-12T16:15:24.548Z"
   },
   {
    "duration": 12,
    "start_time": "2022-01-12T16:18:19.969Z"
   },
   {
    "duration": 2059,
    "start_time": "2022-01-12T16:21:46.701Z"
   },
   {
    "duration": 5282,
    "start_time": "2022-01-12T16:23:28.051Z"
   },
   {
    "duration": 1374,
    "start_time": "2022-01-12T16:23:37.772Z"
   },
   {
    "duration": 29,
    "start_time": "2022-01-12T16:26:05.633Z"
   },
   {
    "duration": 1491,
    "start_time": "2022-01-12T16:27:12.232Z"
   },
   {
    "duration": 30,
    "start_time": "2022-01-12T16:27:32.775Z"
   },
   {
    "duration": 955,
    "start_time": "2022-01-12T16:28:54.304Z"
   },
   {
    "duration": 29,
    "start_time": "2022-01-12T16:29:05.864Z"
   },
   {
    "duration": 5,
    "start_time": "2022-01-12T16:30:07.343Z"
   },
   {
    "duration": 90,
    "start_time": "2022-01-12T16:30:07.355Z"
   },
   {
    "duration": 4,
    "start_time": "2022-01-12T16:30:07.448Z"
   },
   {
    "duration": 20,
    "start_time": "2022-01-12T16:30:07.455Z"
   },
   {
    "duration": 57,
    "start_time": "2022-01-12T16:30:07.477Z"
   },
   {
    "duration": 19,
    "start_time": "2022-01-12T16:30:07.537Z"
   },
   {
    "duration": 1081,
    "start_time": "2022-01-12T16:30:07.560Z"
   },
   {
    "duration": 41,
    "start_time": "2022-01-12T16:30:08.644Z"
   },
   {
    "duration": 166,
    "start_time": "2022-01-12T16:30:08.690Z"
   },
   {
    "duration": 19,
    "start_time": "2022-01-12T16:30:08.859Z"
   },
   {
    "duration": 702,
    "start_time": "2022-01-12T16:30:08.881Z"
   },
   {
    "duration": 989,
    "start_time": "2022-01-12T16:30:09.586Z"
   },
   {
    "duration": 76,
    "start_time": "2022-01-12T16:30:10.582Z"
   },
   {
    "duration": 36,
    "start_time": "2022-01-12T16:30:10.660Z"
   },
   {
    "duration": 47,
    "start_time": "2022-01-12T16:30:10.699Z"
   },
   {
    "duration": 4653,
    "start_time": "2022-01-12T16:30:13.619Z"
   },
   {
    "duration": 55,
    "start_time": "2022-01-12T16:30:18.276Z"
   },
   {
    "duration": 405,
    "start_time": "2022-01-12T16:31:46.346Z"
   },
   {
    "duration": 5,
    "start_time": "2022-01-12T16:31:57.658Z"
   },
   {
    "duration": 6,
    "start_time": "2022-01-12T16:32:06.592Z"
   },
   {
    "duration": 58,
    "start_time": "2022-01-12T16:32:17.317Z"
   },
   {
    "duration": 27,
    "start_time": "2022-01-12T16:34:26.194Z"
   },
   {
    "duration": 329,
    "start_time": "2022-01-12T16:36:30.941Z"
   },
   {
    "duration": 9,
    "start_time": "2022-01-12T16:36:41.619Z"
   },
   {
    "duration": 9,
    "start_time": "2022-01-12T16:37:25.264Z"
   },
   {
    "duration": 10,
    "start_time": "2022-01-12T16:40:46.998Z"
   },
   {
    "duration": 10,
    "start_time": "2022-01-12T16:41:08.545Z"
   },
   {
    "duration": 348,
    "start_time": "2022-01-12T17:09:02.945Z"
   },
   {
    "duration": 5,
    "start_time": "2022-01-12T17:09:16.611Z"
   },
   {
    "duration": 90,
    "start_time": "2022-01-12T17:09:16.623Z"
   },
   {
    "duration": 9,
    "start_time": "2022-01-12T17:09:16.715Z"
   },
   {
    "duration": 17,
    "start_time": "2022-01-12T17:09:16.727Z"
   },
   {
    "duration": 20,
    "start_time": "2022-01-12T17:09:16.746Z"
   },
   {
    "duration": 59,
    "start_time": "2022-01-12T17:09:16.768Z"
   },
   {
    "duration": 973,
    "start_time": "2022-01-12T17:09:16.829Z"
   },
   {
    "duration": 51,
    "start_time": "2022-01-12T17:09:17.805Z"
   },
   {
    "duration": 155,
    "start_time": "2022-01-12T17:09:17.859Z"
   },
   {
    "duration": 21,
    "start_time": "2022-01-12T17:09:18.017Z"
   },
   {
    "duration": 814,
    "start_time": "2022-01-12T17:09:18.041Z"
   },
   {
    "duration": 826,
    "start_time": "2022-01-12T17:09:18.857Z"
   },
   {
    "duration": 52,
    "start_time": "2022-01-12T17:09:19.685Z"
   },
   {
    "duration": 41,
    "start_time": "2022-01-12T17:09:19.740Z"
   },
   {
    "duration": 48,
    "start_time": "2022-01-12T17:09:19.784Z"
   },
   {
    "duration": 4457,
    "start_time": "2022-01-12T17:09:19.835Z"
   },
   {
    "duration": 315,
    "start_time": "2022-01-12T17:09:29.134Z"
   },
   {
    "duration": 10,
    "start_time": "2022-01-12T17:09:44.564Z"
   },
   {
    "duration": 310,
    "start_time": "2022-01-12T17:10:12.682Z"
   },
   {
    "duration": 15,
    "start_time": "2022-01-12T17:10:20.663Z"
   },
   {
    "duration": 20,
    "start_time": "2022-01-12T17:10:32.032Z"
   },
   {
    "duration": 24,
    "start_time": "2022-01-12T17:11:08.925Z"
   },
   {
    "duration": 324,
    "start_time": "2022-01-12T17:12:06.978Z"
   },
   {
    "duration": 325,
    "start_time": "2022-01-12T17:12:20.716Z"
   },
   {
    "duration": 14,
    "start_time": "2022-01-12T17:13:13.288Z"
   },
   {
    "duration": 339,
    "start_time": "2022-01-12T17:17:31.825Z"
   },
   {
    "duration": 4098,
    "start_time": "2022-01-12T17:18:20.743Z"
   },
   {
    "duration": 6,
    "start_time": "2022-01-12T17:18:48.286Z"
   },
   {
    "duration": 33,
    "start_time": "2022-01-12T17:18:52.334Z"
   },
   {
    "duration": 4,
    "start_time": "2022-01-12T17:19:04.688Z"
   },
   {
    "duration": 31,
    "start_time": "2022-01-12T17:19:07.674Z"
   },
   {
    "duration": 7,
    "start_time": "2022-01-12T17:19:24.807Z"
   },
   {
    "duration": 32,
    "start_time": "2022-01-12T17:19:35.368Z"
   },
   {
    "duration": 5278,
    "start_time": "2022-01-12T17:20:00.891Z"
   },
   {
    "duration": 341,
    "start_time": "2022-01-12T17:20:48.684Z"
   },
   {
    "duration": 340,
    "start_time": "2022-01-12T17:22:55.401Z"
   },
   {
    "duration": 340,
    "start_time": "2022-01-12T17:23:16.955Z"
   },
   {
    "duration": 33,
    "start_time": "2022-01-12T17:23:21.002Z"
   },
   {
    "duration": 109,
    "start_time": "2022-01-12T17:23:42.863Z"
   },
   {
    "duration": 8,
    "start_time": "2022-01-12T17:23:49.072Z"
   },
   {
    "duration": 8,
    "start_time": "2022-01-12T17:24:01.479Z"
   },
   {
    "duration": 33,
    "start_time": "2022-01-12T17:24:12.236Z"
   },
   {
    "duration": 330,
    "start_time": "2022-01-12T17:24:41.014Z"
   },
   {
    "duration": 9,
    "start_time": "2022-01-12T17:24:46.876Z"
   },
   {
    "duration": 32,
    "start_time": "2022-01-12T17:24:49.263Z"
   },
   {
    "duration": 366,
    "start_time": "2022-01-12T17:25:19.896Z"
   },
   {
    "duration": 324,
    "start_time": "2022-01-12T17:26:02.259Z"
   },
   {
    "duration": 13,
    "start_time": "2022-01-12T17:31:46.556Z"
   },
   {
    "duration": 396,
    "start_time": "2022-01-12T18:37:40.152Z"
   },
   {
    "duration": 6,
    "start_time": "2022-01-12T18:38:08.117Z"
   },
   {
    "duration": 168,
    "start_time": "2022-01-12T18:38:08.126Z"
   },
   {
    "duration": 5,
    "start_time": "2022-01-12T18:38:08.297Z"
   },
   {
    "duration": 61,
    "start_time": "2022-01-12T18:38:08.304Z"
   },
   {
    "duration": 34,
    "start_time": "2022-01-12T18:38:08.368Z"
   },
   {
    "duration": 21,
    "start_time": "2022-01-12T18:38:08.405Z"
   },
   {
    "duration": 1035,
    "start_time": "2022-01-12T18:38:08.429Z"
   },
   {
    "duration": 65,
    "start_time": "2022-01-12T18:38:09.467Z"
   },
   {
    "duration": 206,
    "start_time": "2022-01-12T18:38:09.537Z"
   },
   {
    "duration": 23,
    "start_time": "2022-01-12T18:38:09.747Z"
   },
   {
    "duration": 713,
    "start_time": "2022-01-12T18:38:09.772Z"
   },
   {
    "duration": 977,
    "start_time": "2022-01-12T18:38:10.487Z"
   },
   {
    "duration": 57,
    "start_time": "2022-01-12T18:38:11.466Z"
   },
   {
    "duration": 39,
    "start_time": "2022-01-12T18:38:11.526Z"
   },
   {
    "duration": 26,
    "start_time": "2022-01-12T18:38:11.568Z"
   },
   {
    "duration": 5046,
    "start_time": "2022-01-12T18:38:11.596Z"
   },
   {
    "duration": 355,
    "start_time": "2022-01-12T18:38:16.645Z"
   },
   {
    "duration": 7,
    "start_time": "2022-01-12T18:39:12.011Z"
   },
   {
    "duration": 335,
    "start_time": "2022-01-12T18:40:16.724Z"
   },
   {
    "duration": 863,
    "start_time": "2022-01-12T18:47:29.590Z"
   },
   {
    "duration": 760,
    "start_time": "2022-01-12T18:48:06.601Z"
   },
   {
    "duration": 758,
    "start_time": "2022-01-12T18:48:20.546Z"
   },
   {
    "duration": 32,
    "start_time": "2022-01-12T18:48:39.496Z"
   },
   {
    "duration": 14,
    "start_time": "2022-01-12T18:51:35.306Z"
   },
   {
    "duration": 41,
    "start_time": "2022-01-12T18:51:48.488Z"
   },
   {
    "duration": 310,
    "start_time": "2022-01-12T19:03:57.452Z"
   },
   {
    "duration": 335,
    "start_time": "2022-01-12T19:04:31.939Z"
   },
   {
    "duration": 339,
    "start_time": "2022-01-12T19:05:01.029Z"
   },
   {
    "duration": 322,
    "start_time": "2022-01-12T19:05:37.667Z"
   },
   {
    "duration": 253,
    "start_time": "2022-01-12T19:08:05.179Z"
   },
   {
    "duration": 252,
    "start_time": "2022-01-12T19:08:29.302Z"
   },
   {
    "duration": 455,
    "start_time": "2022-01-12T19:09:01.008Z"
   },
   {
    "duration": 488,
    "start_time": "2022-01-12T19:13:25.317Z"
   },
   {
    "duration": 352,
    "start_time": "2022-01-12T19:13:41.494Z"
   },
   {
    "duration": 675,
    "start_time": "2022-01-12T19:14:22.289Z"
   },
   {
    "duration": 363,
    "start_time": "2022-01-12T19:14:29.228Z"
   },
   {
    "duration": 414,
    "start_time": "2022-01-12T19:16:25.623Z"
   },
   {
    "duration": 463,
    "start_time": "2022-01-12T19:26:22.155Z"
   },
   {
    "duration": 416,
    "start_time": "2022-01-12T19:26:35.480Z"
   },
   {
    "duration": 23,
    "start_time": "2022-01-12T19:27:31.851Z"
   },
   {
    "duration": 331,
    "start_time": "2022-01-12T19:27:52.058Z"
   },
   {
    "duration": 330,
    "start_time": "2022-01-12T19:29:33.842Z"
   },
   {
    "duration": 781,
    "start_time": "2022-01-12T19:29:53.773Z"
   },
   {
    "duration": 636,
    "start_time": "2022-01-12T19:30:05.613Z"
   },
   {
    "duration": 697,
    "start_time": "2022-01-12T19:30:20.838Z"
   },
   {
    "duration": 488,
    "start_time": "2022-01-12T19:30:41.942Z"
   },
   {
    "duration": 368,
    "start_time": "2022-01-12T19:30:46.512Z"
   },
   {
    "duration": 781,
    "start_time": "2022-01-12T19:31:25.361Z"
   },
   {
    "duration": 854,
    "start_time": "2022-01-12T19:32:10.494Z"
   },
   {
    "duration": 323,
    "start_time": "2022-01-12T19:32:20.066Z"
   },
   {
    "duration": 338,
    "start_time": "2022-01-12T19:32:41.190Z"
   },
   {
    "duration": 330,
    "start_time": "2022-01-12T19:33:38.404Z"
   },
   {
    "duration": 343,
    "start_time": "2022-01-12T19:35:37.228Z"
   },
   {
    "duration": 346,
    "start_time": "2022-01-12T19:36:02.691Z"
   },
   {
    "duration": 336,
    "start_time": "2022-01-12T19:36:10.211Z"
   },
   {
    "duration": 358,
    "start_time": "2022-01-12T19:36:15.030Z"
   },
   {
    "duration": 666,
    "start_time": "2022-01-12T19:36:48.841Z"
   },
   {
    "duration": 365,
    "start_time": "2022-01-12T19:41:20.524Z"
   },
   {
    "duration": 332,
    "start_time": "2022-01-12T19:41:56.191Z"
   },
   {
    "duration": 646,
    "start_time": "2022-01-12T19:42:04.910Z"
   },
   {
    "duration": 324,
    "start_time": "2022-01-12T19:42:08.829Z"
   },
   {
    "duration": 354,
    "start_time": "2022-01-12T19:45:45.011Z"
   },
   {
    "duration": 334,
    "start_time": "2022-01-12T19:45:56.692Z"
   },
   {
    "duration": 35,
    "start_time": "2022-01-12T19:46:38.134Z"
   },
   {
    "duration": 353,
    "start_time": "2022-01-12T19:47:02.293Z"
   },
   {
    "duration": 24,
    "start_time": "2022-01-12T19:47:18.290Z"
   },
   {
    "duration": 387,
    "start_time": "2022-01-12T19:47:22.730Z"
   },
   {
    "duration": 343,
    "start_time": "2022-01-12T19:47:33.648Z"
   },
   {
    "duration": 67,
    "start_time": "2022-01-12T19:56:46.712Z"
   },
   {
    "duration": 225,
    "start_time": "2022-01-12T19:58:01.469Z"
   },
   {
    "duration": 178,
    "start_time": "2022-01-12T19:58:08.994Z"
   },
   {
    "duration": 76,
    "start_time": "2022-01-12T19:58:20.799Z"
   },
   {
    "duration": 721,
    "start_time": "2022-01-12T19:58:55.474Z"
   },
   {
    "duration": 871,
    "start_time": "2022-01-12T20:00:36.701Z"
   },
   {
    "duration": 1351,
    "start_time": "2022-01-12T20:03:21.129Z"
   },
   {
    "duration": 983,
    "start_time": "2022-01-12T20:03:30.870Z"
   },
   {
    "duration": 1188,
    "start_time": "2022-01-12T20:03:59.892Z"
   },
   {
    "duration": 1588,
    "start_time": "2022-01-12T20:04:42.631Z"
   },
   {
    "duration": 9209,
    "start_time": "2022-01-12T20:04:55.642Z"
   },
   {
    "duration": 8,
    "start_time": "2022-01-12T20:05:45.150Z"
   },
   {
    "duration": 2312,
    "start_time": "2022-01-12T20:05:59.237Z"
   },
   {
    "duration": 1217,
    "start_time": "2022-01-12T20:06:16.811Z"
   },
   {
    "duration": 10570,
    "start_time": "2022-01-12T20:07:15.139Z"
   },
   {
    "duration": 10401,
    "start_time": "2022-01-12T20:07:58.723Z"
   },
   {
    "duration": 11095,
    "start_time": "2022-01-12T20:10:59.448Z"
   },
   {
    "duration": 10719,
    "start_time": "2022-01-12T20:11:21.520Z"
   },
   {
    "duration": 10669,
    "start_time": "2022-01-12T20:12:36.093Z"
   },
   {
    "duration": 340,
    "start_time": "2022-01-12T20:19:06.615Z"
   },
   {
    "duration": 378,
    "start_time": "2022-01-12T20:21:53.408Z"
   },
   {
    "duration": 1387,
    "start_time": "2022-01-12T20:22:32.715Z"
   },
   {
    "duration": 395,
    "start_time": "2022-01-12T20:23:07.805Z"
   },
   {
    "duration": 358,
    "start_time": "2022-01-12T20:23:20.513Z"
   },
   {
    "duration": 980,
    "start_time": "2022-01-12T20:24:14.160Z"
   },
   {
    "duration": 1287,
    "start_time": "2022-01-12T20:24:30.650Z"
   },
   {
    "duration": 799,
    "start_time": "2022-01-12T20:24:42.234Z"
   },
   {
    "duration": 602,
    "start_time": "2022-01-12T20:25:04.525Z"
   },
   {
    "duration": 345,
    "start_time": "2022-01-12T20:27:05.271Z"
   },
   {
    "duration": 370,
    "start_time": "2022-01-12T20:27:49.753Z"
   },
   {
    "duration": 584,
    "start_time": "2022-01-12T20:27:56.048Z"
   },
   {
    "duration": 339,
    "start_time": "2022-01-12T20:29:27.108Z"
   },
   {
    "duration": 4,
    "start_time": "2022-01-12T20:30:35.331Z"
   },
   {
    "duration": 91,
    "start_time": "2022-01-12T20:30:35.368Z"
   },
   {
    "duration": 5,
    "start_time": "2022-01-12T20:30:35.461Z"
   },
   {
    "duration": 24,
    "start_time": "2022-01-12T20:30:35.469Z"
   },
   {
    "duration": 54,
    "start_time": "2022-01-12T20:30:35.496Z"
   },
   {
    "duration": 23,
    "start_time": "2022-01-12T20:30:35.553Z"
   },
   {
    "duration": 1513,
    "start_time": "2022-01-12T20:30:35.580Z"
   },
   {
    "duration": 58,
    "start_time": "2022-01-12T20:30:37.097Z"
   },
   {
    "duration": 166,
    "start_time": "2022-01-12T20:30:37.157Z"
   },
   {
    "duration": 17,
    "start_time": "2022-01-12T20:30:37.326Z"
   },
   {
    "duration": 1293,
    "start_time": "2022-01-12T20:30:37.349Z"
   },
   {
    "duration": 1136,
    "start_time": "2022-01-12T20:30:38.646Z"
   },
   {
    "duration": 66,
    "start_time": "2022-01-12T20:30:39.786Z"
   },
   {
    "duration": 78,
    "start_time": "2022-01-12T20:30:39.854Z"
   },
   {
    "duration": 35,
    "start_time": "2022-01-12T20:30:39.935Z"
   },
   {
    "duration": 4845,
    "start_time": "2022-01-12T20:30:39.973Z"
   },
   {
    "duration": 11,
    "start_time": "2022-01-12T20:30:44.824Z"
   },
   {
    "duration": 332,
    "start_time": "2022-01-12T20:30:44.838Z"
   },
   {
    "duration": 344,
    "start_time": "2022-01-12T20:30:45.173Z"
   },
   {
    "duration": 394,
    "start_time": "2022-01-12T20:30:47.887Z"
   },
   {
    "duration": 376,
    "start_time": "2022-01-12T20:31:57.996Z"
   },
   {
    "duration": 316,
    "start_time": "2022-01-12T20:32:48.316Z"
   },
   {
    "duration": 5,
    "start_time": "2022-01-12T20:32:56.417Z"
   },
   {
    "duration": 4,
    "start_time": "2022-01-12T20:33:00.889Z"
   },
   {
    "duration": 96,
    "start_time": "2022-01-12T20:33:00.896Z"
   },
   {
    "duration": 4,
    "start_time": "2022-01-12T20:33:00.995Z"
   },
   {
    "duration": 37,
    "start_time": "2022-01-12T20:33:01.002Z"
   },
   {
    "duration": 21,
    "start_time": "2022-01-12T20:33:01.042Z"
   },
   {
    "duration": 226,
    "start_time": "2022-01-12T20:33:01.067Z"
   },
   {
    "duration": 1067,
    "start_time": "2022-01-12T20:33:01.296Z"
   },
   {
    "duration": 56,
    "start_time": "2022-01-12T20:33:02.367Z"
   },
   {
    "duration": 169,
    "start_time": "2022-01-12T20:33:02.426Z"
   },
   {
    "duration": 25,
    "start_time": "2022-01-12T20:33:02.599Z"
   },
   {
    "duration": 790,
    "start_time": "2022-01-12T20:33:02.627Z"
   },
   {
    "duration": 947,
    "start_time": "2022-01-12T20:33:03.424Z"
   },
   {
    "duration": 58,
    "start_time": "2022-01-12T20:33:04.373Z"
   },
   {
    "duration": 38,
    "start_time": "2022-01-12T20:33:04.433Z"
   },
   {
    "duration": 54,
    "start_time": "2022-01-12T20:33:04.473Z"
   },
   {
    "duration": 4842,
    "start_time": "2022-01-12T20:33:04.529Z"
   },
   {
    "duration": 12,
    "start_time": "2022-01-12T20:33:09.374Z"
   },
   {
    "duration": 338,
    "start_time": "2022-01-12T20:33:09.388Z"
   },
   {
    "duration": 513,
    "start_time": "2022-01-12T20:33:09.728Z"
   },
   {
    "duration": 1567,
    "start_time": "2022-01-12T20:33:10.244Z"
   },
   {
    "duration": 12,
    "start_time": "2022-01-12T20:33:11.813Z"
   },
   {
    "duration": 1846,
    "start_time": "2022-01-12T20:35:12.569Z"
   },
   {
    "duration": 2297,
    "start_time": "2022-01-12T20:36:03.636Z"
   },
   {
    "duration": 1994,
    "start_time": "2022-01-12T20:36:32.918Z"
   },
   {
    "duration": 69,
    "start_time": "2022-01-12T20:39:20.864Z"
   },
   {
    "duration": 68,
    "start_time": "2022-01-12T20:41:31.069Z"
   },
   {
    "duration": 34,
    "start_time": "2022-01-12T20:41:42.366Z"
   },
   {
    "duration": 259,
    "start_time": "2022-01-12T20:41:48.116Z"
   },
   {
    "duration": 24,
    "start_time": "2022-01-12T20:43:57.182Z"
   },
   {
    "duration": 480,
    "start_time": "2022-01-12T20:45:09.464Z"
   },
   {
    "duration": 397,
    "start_time": "2022-01-12T20:45:22.261Z"
   },
   {
    "duration": 361,
    "start_time": "2022-01-12T20:46:01.654Z"
   },
   {
    "duration": 30,
    "start_time": "2022-01-12T20:46:13.607Z"
   },
   {
    "duration": 37,
    "start_time": "2022-01-12T20:46:25.061Z"
   },
   {
    "duration": 228,
    "start_time": "2022-01-12T20:51:13.920Z"
   },
   {
    "duration": 15,
    "start_time": "2022-01-12T20:51:46.791Z"
   },
   {
    "duration": 13,
    "start_time": "2022-01-12T20:52:03.399Z"
   },
   {
    "duration": 347,
    "start_time": "2022-01-12T20:53:00.536Z"
   },
   {
    "duration": 25,
    "start_time": "2022-01-12T20:55:29.415Z"
   },
   {
    "duration": 17,
    "start_time": "2022-01-12T20:56:46.345Z"
   },
   {
    "duration": 396,
    "start_time": "2022-01-12T20:57:18.828Z"
   },
   {
    "duration": 25,
    "start_time": "2022-01-12T20:57:31.818Z"
   },
   {
    "duration": 17,
    "start_time": "2022-01-12T20:57:51.590Z"
   },
   {
    "duration": 22,
    "start_time": "2022-01-12T20:58:01.824Z"
   },
   {
    "duration": 25,
    "start_time": "2022-01-12T21:00:35.394Z"
   },
   {
    "duration": 21,
    "start_time": "2022-01-12T21:00:43.236Z"
   },
   {
    "duration": 106,
    "start_time": "2022-01-12T21:04:21.275Z"
   },
   {
    "duration": 49,
    "start_time": "2022-01-12T21:04:47.327Z"
   },
   {
    "duration": 72,
    "start_time": "2022-01-12T21:06:12.192Z"
   },
   {
    "duration": 699,
    "start_time": "2022-01-12T21:06:29.835Z"
   },
   {
    "duration": 763,
    "start_time": "2022-01-12T21:06:52.232Z"
   },
   {
    "duration": 71,
    "start_time": "2022-01-12T21:07:55.869Z"
   },
   {
    "duration": 81,
    "start_time": "2022-01-12T21:08:28.622Z"
   },
   {
    "duration": 819,
    "start_time": "2022-01-12T21:08:39.306Z"
   },
   {
    "duration": 694,
    "start_time": "2022-01-12T21:09:21.248Z"
   },
   {
    "duration": 600,
    "start_time": "2022-01-12T21:11:12.688Z"
   },
   {
    "duration": 2390,
    "start_time": "2022-01-12T21:12:39.600Z"
   },
   {
    "duration": 2569,
    "start_time": "2022-01-12T21:14:37.580Z"
   },
   {
    "duration": 3613,
    "start_time": "2022-01-12T21:14:56.037Z"
   },
   {
    "duration": 62,
    "start_time": "2022-01-12T21:15:25.684Z"
   },
   {
    "duration": 388,
    "start_time": "2022-01-12T21:16:18.035Z"
   },
   {
    "duration": 63,
    "start_time": "2022-01-12T21:16:55.135Z"
   },
   {
    "duration": 333,
    "start_time": "2022-01-12T21:18:05.835Z"
   },
   {
    "duration": 361,
    "start_time": "2022-01-12T21:18:32.544Z"
   },
   {
    "duration": 333,
    "start_time": "2022-01-12T21:18:46.067Z"
   },
   {
    "duration": 1903,
    "start_time": "2022-01-12T21:19:25.196Z"
   },
   {
    "duration": 3206,
    "start_time": "2022-01-12T21:19:42.490Z"
   },
   {
    "duration": 2018,
    "start_time": "2022-01-12T21:24:07.141Z"
   },
   {
    "duration": 362,
    "start_time": "2022-01-12T21:24:43.724Z"
   },
   {
    "duration": 47,
    "start_time": "2022-01-12T21:25:04.712Z"
   },
   {
    "duration": 344,
    "start_time": "2022-01-12T21:25:44.984Z"
   },
   {
    "duration": 631,
    "start_time": "2022-01-12T21:26:04.055Z"
   },
   {
    "duration": 298,
    "start_time": "2022-01-12T21:26:16.588Z"
   },
   {
    "duration": 7289,
    "start_time": "2022-01-12T21:26:27.139Z"
   },
   {
    "duration": 1477,
    "start_time": "2022-01-12T21:29:18.297Z"
   },
   {
    "duration": 102,
    "start_time": "2022-01-12T21:29:19.777Z"
   },
   {
    "duration": 4,
    "start_time": "2022-01-12T21:29:19.882Z"
   },
   {
    "duration": 23,
    "start_time": "2022-01-12T21:29:19.889Z"
   },
   {
    "duration": 25,
    "start_time": "2022-01-12T21:29:19.915Z"
   },
   {
    "duration": 18,
    "start_time": "2022-01-12T21:29:19.942Z"
   },
   {
    "duration": 1175,
    "start_time": "2022-01-12T21:29:19.963Z"
   },
   {
    "duration": 40,
    "start_time": "2022-01-12T21:29:21.142Z"
   },
   {
    "duration": 155,
    "start_time": "2022-01-12T21:29:21.185Z"
   },
   {
    "duration": 18,
    "start_time": "2022-01-12T21:29:21.342Z"
   },
   {
    "duration": 729,
    "start_time": "2022-01-12T21:29:21.362Z"
   },
   {
    "duration": 953,
    "start_time": "2022-01-12T21:29:22.094Z"
   },
   {
    "duration": 24,
    "start_time": "2022-01-12T21:29:23.049Z"
   },
   {
    "duration": 70,
    "start_time": "2022-01-12T21:29:23.075Z"
   },
   {
    "duration": 25,
    "start_time": "2022-01-12T21:29:23.147Z"
   },
   {
    "duration": 4922,
    "start_time": "2022-01-12T21:29:23.175Z"
   },
   {
    "duration": 27,
    "start_time": "2022-01-12T21:29:28.100Z"
   },
   {
    "duration": 316,
    "start_time": "2022-01-12T21:29:28.129Z"
   },
   {
    "duration": 326,
    "start_time": "2022-01-12T21:29:28.448Z"
   },
   {
    "duration": 1970,
    "start_time": "2022-01-12T21:29:28.776Z"
   },
   {
    "duration": 46,
    "start_time": "2022-01-12T21:29:30.748Z"
   },
   {
    "duration": 31,
    "start_time": "2022-01-12T21:29:30.796Z"
   },
   {
    "duration": -4,
    "start_time": "2022-01-12T21:31:05.274Z"
   },
   {
    "duration": 8017,
    "start_time": "2022-01-12T21:31:19.420Z"
   },
   {
    "duration": 2355,
    "start_time": "2022-01-12T21:31:54.802Z"
   },
   {
    "duration": 359,
    "start_time": "2022-01-12T21:33:19.861Z"
   },
   {
    "duration": 50,
    "start_time": "2022-01-12T21:33:26.811Z"
   },
   {
    "duration": 47,
    "start_time": "2022-01-12T21:34:09.686Z"
   },
   {
    "duration": 353,
    "start_time": "2022-01-12T21:34:53.063Z"
   },
   {
    "duration": 39,
    "start_time": "2022-01-12T21:35:14.457Z"
   },
   {
    "duration": 36,
    "start_time": "2022-01-12T21:37:25.400Z"
   },
   {
    "duration": 331,
    "start_time": "2022-01-12T21:37:58.788Z"
   },
   {
    "duration": 442,
    "start_time": "2022-01-12T21:38:24.713Z"
   },
   {
    "duration": 4,
    "start_time": "2022-01-12T21:38:42.433Z"
   },
   {
    "duration": 97,
    "start_time": "2022-01-12T21:38:42.447Z"
   },
   {
    "duration": 4,
    "start_time": "2022-01-12T21:38:42.547Z"
   },
   {
    "duration": 19,
    "start_time": "2022-01-12T21:38:42.554Z"
   },
   {
    "duration": 50,
    "start_time": "2022-01-12T21:38:42.576Z"
   },
   {
    "duration": 20,
    "start_time": "2022-01-12T21:38:42.629Z"
   },
   {
    "duration": 1021,
    "start_time": "2022-01-12T21:38:42.652Z"
   },
   {
    "duration": 56,
    "start_time": "2022-01-12T21:38:43.676Z"
   },
   {
    "duration": 151,
    "start_time": "2022-01-12T21:38:43.737Z"
   },
   {
    "duration": 19,
    "start_time": "2022-01-12T21:38:43.890Z"
   },
   {
    "duration": 681,
    "start_time": "2022-01-12T21:38:43.911Z"
   },
   {
    "duration": 987,
    "start_time": "2022-01-12T21:38:44.595Z"
   },
   {
    "duration": 53,
    "start_time": "2022-01-12T21:38:45.584Z"
   },
   {
    "duration": 38,
    "start_time": "2022-01-12T21:38:45.640Z"
   },
   {
    "duration": 48,
    "start_time": "2022-01-12T21:38:45.680Z"
   },
   {
    "duration": 4571,
    "start_time": "2022-01-12T21:38:45.731Z"
   },
   {
    "duration": 20,
    "start_time": "2022-01-12T21:38:50.304Z"
   },
   {
    "duration": 307,
    "start_time": "2022-01-12T21:38:50.327Z"
   },
   {
    "duration": 469,
    "start_time": "2022-01-12T21:38:50.637Z"
   },
   {
    "duration": 1981,
    "start_time": "2022-01-12T21:38:51.108Z"
   },
   {
    "duration": 388,
    "start_time": "2022-01-12T21:38:53.093Z"
   },
   {
    "duration": 35,
    "start_time": "2022-01-12T21:39:06.670Z"
   },
   {
    "duration": 26,
    "start_time": "2022-01-12T21:39:18.758Z"
   },
   {
    "duration": 38,
    "start_time": "2022-01-12T21:39:51.096Z"
   },
   {
    "duration": 543,
    "start_time": "2022-01-12T21:40:04.380Z"
   },
   {
    "duration": 355,
    "start_time": "2022-01-12T21:43:08.951Z"
   },
   {
    "duration": 6713,
    "start_time": "2022-01-12T21:43:17.372Z"
   },
   {
    "duration": 6162,
    "start_time": "2022-01-12T21:43:26.091Z"
   },
   {
    "duration": 338,
    "start_time": "2022-01-12T21:44:01.462Z"
   },
   {
    "duration": 1451,
    "start_time": "2022-01-12T21:45:57.872Z"
   },
   {
    "duration": 133,
    "start_time": "2022-01-12T21:45:59.327Z"
   },
   {
    "duration": 6,
    "start_time": "2022-01-12T21:45:59.465Z"
   },
   {
    "duration": 48,
    "start_time": "2022-01-12T21:45:59.476Z"
   },
   {
    "duration": 22,
    "start_time": "2022-01-12T21:45:59.527Z"
   },
   {
    "duration": 18,
    "start_time": "2022-01-12T21:45:59.551Z"
   },
   {
    "duration": 989,
    "start_time": "2022-01-12T21:45:59.571Z"
   },
   {
    "duration": 39,
    "start_time": "2022-01-12T21:46:00.563Z"
   },
   {
    "duration": 154,
    "start_time": "2022-01-12T21:46:00.606Z"
   },
   {
    "duration": 17,
    "start_time": "2022-01-12T21:46:00.763Z"
   },
   {
    "duration": 734,
    "start_time": "2022-01-12T21:46:00.783Z"
   },
   {
    "duration": 947,
    "start_time": "2022-01-12T21:46:01.523Z"
   },
   {
    "duration": 64,
    "start_time": "2022-01-12T21:46:02.473Z"
   },
   {
    "duration": 42,
    "start_time": "2022-01-12T21:46:02.540Z"
   },
   {
    "duration": 51,
    "start_time": "2022-01-12T21:46:02.585Z"
   },
   {
    "duration": 5251,
    "start_time": "2022-01-12T21:46:02.639Z"
   },
   {
    "duration": 12,
    "start_time": "2022-01-12T21:46:07.892Z"
   },
   {
    "duration": 333,
    "start_time": "2022-01-12T21:46:07.907Z"
   },
   {
    "duration": 335,
    "start_time": "2022-01-12T21:46:08.243Z"
   },
   {
    "duration": 2133,
    "start_time": "2022-01-12T21:46:08.581Z"
   },
   {
    "duration": 39,
    "start_time": "2022-01-12T21:46:10.723Z"
   },
   {
    "duration": 11,
    "start_time": "2022-01-12T21:46:10.765Z"
   },
   {
    "duration": 2328,
    "start_time": "2022-01-12T21:50:45.384Z"
   },
   {
    "duration": 1961,
    "start_time": "2022-01-12T21:51:14.559Z"
   },
   {
    "duration": 1714,
    "start_time": "2022-01-13T08:34:16.080Z"
   },
   {
    "duration": 107,
    "start_time": "2022-01-13T08:34:17.797Z"
   },
   {
    "duration": 4,
    "start_time": "2022-01-13T08:34:17.907Z"
   },
   {
    "duration": 20,
    "start_time": "2022-01-13T08:34:17.914Z"
   },
   {
    "duration": 21,
    "start_time": "2022-01-13T08:34:17.937Z"
   },
   {
    "duration": 14,
    "start_time": "2022-01-13T08:34:20.205Z"
   },
   {
    "duration": 18,
    "start_time": "2022-01-13T08:41:25.083Z"
   },
   {
    "duration": 99,
    "start_time": "2022-01-13T08:41:27.172Z"
   },
   {
    "duration": 5,
    "start_time": "2022-01-13T08:41:31.741Z"
   },
   {
    "duration": 20,
    "start_time": "2022-01-13T08:41:33.415Z"
   },
   {
    "duration": 18,
    "start_time": "2022-01-13T08:41:39.523Z"
   },
   {
    "duration": 20,
    "start_time": "2022-01-13T08:41:42.885Z"
   },
   {
    "duration": 15,
    "start_time": "2022-01-13T08:41:44.846Z"
   },
   {
    "duration": 455,
    "start_time": "2022-01-13T08:41:58.570Z"
   },
   {
    "duration": 328,
    "start_time": "2022-01-13T08:42:41.135Z"
   },
   {
    "duration": 4,
    "start_time": "2022-01-13T08:42:45.793Z"
   },
   {
    "duration": 110,
    "start_time": "2022-01-13T08:42:45.812Z"
   },
   {
    "duration": 4,
    "start_time": "2022-01-13T08:42:45.924Z"
   },
   {
    "duration": 36,
    "start_time": "2022-01-13T08:42:45.931Z"
   },
   {
    "duration": 31,
    "start_time": "2022-01-13T08:42:45.970Z"
   },
   {
    "duration": 41,
    "start_time": "2022-01-13T08:42:46.003Z"
   },
   {
    "duration": 1014,
    "start_time": "2022-01-13T08:42:49.058Z"
   },
   {
    "duration": 4,
    "start_time": "2022-01-13T08:46:13.774Z"
   },
   {
    "duration": 115,
    "start_time": "2022-01-13T08:46:13.786Z"
   },
   {
    "duration": 4,
    "start_time": "2022-01-13T08:46:13.904Z"
   },
   {
    "duration": 20,
    "start_time": "2022-01-13T08:46:13.911Z"
   },
   {
    "duration": 21,
    "start_time": "2022-01-13T08:46:13.934Z"
   },
   {
    "duration": 51,
    "start_time": "2022-01-13T08:46:13.958Z"
   },
   {
    "duration": 1225,
    "start_time": "2022-01-13T08:46:14.011Z"
   },
   {
    "duration": 39,
    "start_time": "2022-01-13T08:46:15.239Z"
   },
   {
    "duration": 146,
    "start_time": "2022-01-13T08:46:18.486Z"
   },
   {
    "duration": 1486,
    "start_time": "2022-01-13T08:49:38.169Z"
   },
   {
    "duration": 5951,
    "start_time": "2022-01-13T08:50:04.825Z"
   },
   {
    "duration": 12980,
    "start_time": "2022-01-13T08:50:34.910Z"
   },
   {
    "duration": 15690,
    "start_time": "2022-01-13T08:51:17.196Z"
   },
   {
    "duration": 884,
    "start_time": "2022-01-13T08:52:52.195Z"
   },
   {
    "duration": 15412,
    "start_time": "2022-01-13T08:53:08.127Z"
   },
   {
    "duration": 785,
    "start_time": "2022-01-13T08:53:24.164Z"
   },
   {
    "duration": 906,
    "start_time": "2022-01-13T08:54:35.258Z"
   },
   {
    "duration": 15366,
    "start_time": "2022-01-13T08:54:55.644Z"
   },
   {
    "duration": 15565,
    "start_time": "2022-01-13T08:56:46.363Z"
   },
   {
    "duration": 16387,
    "start_time": "2022-01-13T08:57:41.931Z"
   },
   {
    "duration": 797,
    "start_time": "2022-01-13T08:58:14.426Z"
   },
   {
    "duration": 15703,
    "start_time": "2022-01-13T08:58:41.489Z"
   },
   {
    "duration": -476,
    "start_time": "2022-01-13T08:59:48.633Z"
   },
   {
    "duration": 5,
    "start_time": "2022-01-13T08:59:53.737Z"
   },
   {
    "duration": 98,
    "start_time": "2022-01-13T08:59:53.754Z"
   },
   {
    "duration": 6,
    "start_time": "2022-01-13T08:59:53.855Z"
   },
   {
    "duration": 47,
    "start_time": "2022-01-13T08:59:53.865Z"
   },
   {
    "duration": 21,
    "start_time": "2022-01-13T08:59:53.914Z"
   },
   {
    "duration": 14,
    "start_time": "2022-01-13T08:59:53.937Z"
   },
   {
    "duration": 1157,
    "start_time": "2022-01-13T08:59:53.954Z"
   },
   {
    "duration": 42,
    "start_time": "2022-01-13T08:59:55.114Z"
   },
   {
    "duration": 825,
    "start_time": "2022-01-13T09:00:05.470Z"
   },
   {
    "duration": 16015,
    "start_time": "2022-01-13T09:00:35.214Z"
   },
   {
    "duration": 14040,
    "start_time": "2022-01-13T09:06:39.183Z"
   },
   {
    "duration": 13,
    "start_time": "2022-01-13T09:09:46.649Z"
   },
   {
    "duration": 19,
    "start_time": "2022-01-13T09:10:28.920Z"
   },
   {
    "duration": 5135,
    "start_time": "2022-01-13T09:11:11.714Z"
   },
   {
    "duration": 5479,
    "start_time": "2022-01-13T09:11:38.171Z"
   },
   {
    "duration": 5369,
    "start_time": "2022-01-13T09:11:48.021Z"
   },
   {
    "duration": 5999,
    "start_time": "2022-01-13T09:12:21.644Z"
   },
   {
    "duration": 10985,
    "start_time": "2022-01-13T09:12:44.401Z"
   },
   {
    "duration": 10132,
    "start_time": "2022-01-13T09:13:09.845Z"
   },
   {
    "duration": 1150,
    "start_time": "2022-01-13T09:13:38.205Z"
   },
   {
    "duration": 1093,
    "start_time": "2022-01-13T09:13:50.135Z"
   },
   {
    "duration": 735,
    "start_time": "2022-01-13T09:14:10.965Z"
   },
   {
    "duration": 14007,
    "start_time": "2022-01-13T09:15:21.818Z"
   },
   {
    "duration": 13651,
    "start_time": "2022-01-13T09:16:28.776Z"
   },
   {
    "duration": 21,
    "start_time": "2022-01-13T09:17:57.714Z"
   },
   {
    "duration": 13,
    "start_time": "2022-01-13T09:18:58.830Z"
   },
   {
    "duration": 16,
    "start_time": "2022-01-13T09:19:07.828Z"
   },
   {
    "duration": 834,
    "start_time": "2022-01-13T09:24:43.240Z"
   },
   {
    "duration": 386,
    "start_time": "2022-01-13T09:30:50.995Z"
   },
   {
    "duration": 5,
    "start_time": "2022-01-13T09:30:55.288Z"
   },
   {
    "duration": 116,
    "start_time": "2022-01-13T09:30:55.304Z"
   },
   {
    "duration": 6,
    "start_time": "2022-01-13T09:30:55.423Z"
   },
   {
    "duration": 38,
    "start_time": "2022-01-13T09:30:55.433Z"
   },
   {
    "duration": 43,
    "start_time": "2022-01-13T09:30:55.474Z"
   },
   {
    "duration": 22,
    "start_time": "2022-01-13T09:30:55.520Z"
   },
   {
    "duration": 1079,
    "start_time": "2022-01-13T09:30:55.545Z"
   },
   {
    "duration": 49,
    "start_time": "2022-01-13T09:30:56.627Z"
   },
   {
    "duration": 14698,
    "start_time": "2022-01-13T09:30:56.680Z"
   },
   {
    "duration": 31,
    "start_time": "2022-01-13T09:31:11.381Z"
   },
   {
    "duration": 45,
    "start_time": "2022-01-13T09:31:11.414Z"
   },
   {
    "duration": 38,
    "start_time": "2022-01-13T09:31:11.461Z"
   },
   {
    "duration": 743,
    "start_time": "2022-01-13T09:31:11.502Z"
   },
   {
    "duration": 823,
    "start_time": "2022-01-13T09:31:12.248Z"
   },
   {
    "duration": 46,
    "start_time": "2022-01-13T09:31:13.074Z"
   },
   {
    "duration": 42,
    "start_time": "2022-01-13T09:31:13.123Z"
   },
   {
    "duration": 44,
    "start_time": "2022-01-13T09:31:13.168Z"
   },
   {
    "duration": 29,
    "start_time": "2022-01-13T09:31:13.967Z"
   },
   {
    "duration": 30,
    "start_time": "2022-01-13T09:32:04.311Z"
   },
   {
    "duration": 8447,
    "start_time": "2022-01-13T09:40:21.181Z"
   },
   {
    "duration": 13,
    "start_time": "2022-01-13T09:40:36.345Z"
   },
   {
    "duration": 109,
    "start_time": "2022-01-13T09:44:13.190Z"
   },
   {
    "duration": 106,
    "start_time": "2022-01-13T09:44:30.440Z"
   },
   {
    "duration": 3332,
    "start_time": "2022-01-13T09:45:23.034Z"
   },
   {
    "duration": 5,
    "start_time": "2022-01-13T09:45:47.011Z"
   },
   {
    "duration": 107,
    "start_time": "2022-01-13T09:45:47.026Z"
   },
   {
    "duration": 5,
    "start_time": "2022-01-13T09:45:47.137Z"
   },
   {
    "duration": 27,
    "start_time": "2022-01-13T09:45:47.145Z"
   },
   {
    "duration": 47,
    "start_time": "2022-01-13T09:45:47.175Z"
   },
   {
    "duration": 17,
    "start_time": "2022-01-13T09:45:47.226Z"
   },
   {
    "duration": 1068,
    "start_time": "2022-01-13T09:45:47.246Z"
   },
   {
    "duration": 43,
    "start_time": "2022-01-13T09:45:48.318Z"
   },
   {
    "duration": 14097,
    "start_time": "2022-01-13T09:45:48.366Z"
   },
   {
    "duration": 21,
    "start_time": "2022-01-13T09:46:02.466Z"
   },
   {
    "duration": 27,
    "start_time": "2022-01-13T09:46:02.489Z"
   },
   {
    "duration": 25,
    "start_time": "2022-01-13T09:46:02.519Z"
   },
   {
    "duration": 743,
    "start_time": "2022-01-13T09:46:02.547Z"
   },
   {
    "duration": 775,
    "start_time": "2022-01-13T09:46:03.293Z"
   },
   {
    "duration": 44,
    "start_time": "2022-01-13T09:46:04.071Z"
   },
   {
    "duration": 44,
    "start_time": "2022-01-13T09:46:04.118Z"
   },
   {
    "duration": 60,
    "start_time": "2022-01-13T09:46:04.164Z"
   },
   {
    "duration": 13,
    "start_time": "2022-01-13T09:46:04.226Z"
   },
   {
    "duration": 751,
    "start_time": "2022-01-13T09:46:04.242Z"
   },
   {
    "duration": 2987,
    "start_time": "2022-01-13T09:46:08.132Z"
   },
   {
    "duration": 4,
    "start_time": "2022-01-13T09:46:19.701Z"
   },
   {
    "duration": 109,
    "start_time": "2022-01-13T09:46:19.712Z"
   },
   {
    "duration": 4,
    "start_time": "2022-01-13T09:46:19.824Z"
   },
   {
    "duration": 21,
    "start_time": "2022-01-13T09:46:19.831Z"
   },
   {
    "duration": 50,
    "start_time": "2022-01-13T09:46:19.855Z"
   },
   {
    "duration": 14,
    "start_time": "2022-01-13T09:46:19.907Z"
   },
   {
    "duration": 1086,
    "start_time": "2022-01-13T09:46:19.924Z"
   },
   {
    "duration": 42,
    "start_time": "2022-01-13T09:46:21.013Z"
   },
   {
    "duration": 13565,
    "start_time": "2022-01-13T09:46:21.059Z"
   },
   {
    "duration": 21,
    "start_time": "2022-01-13T09:46:34.628Z"
   },
   {
    "duration": 19,
    "start_time": "2022-01-13T09:46:34.652Z"
   },
   {
    "duration": 20,
    "start_time": "2022-01-13T09:46:34.702Z"
   },
   {
    "duration": 852,
    "start_time": "2022-01-13T09:46:34.726Z"
   },
   {
    "duration": 720,
    "start_time": "2022-01-13T09:46:35.580Z"
   },
   {
    "duration": 26,
    "start_time": "2022-01-13T09:46:36.302Z"
   },
   {
    "duration": 41,
    "start_time": "2022-01-13T09:46:36.331Z"
   },
   {
    "duration": 31,
    "start_time": "2022-01-13T09:46:36.400Z"
   },
   {
    "duration": 13,
    "start_time": "2022-01-13T09:46:36.433Z"
   },
   {
    "duration": 729,
    "start_time": "2022-01-13T09:46:37.257Z"
   },
   {
    "duration": 7,
    "start_time": "2022-01-13T09:49:46.726Z"
   },
   {
    "duration": 6,
    "start_time": "2022-01-13T09:50:08.916Z"
   },
   {
    "duration": 9041,
    "start_time": "2022-01-13T09:50:19.440Z"
   },
   {
    "duration": 7,
    "start_time": "2022-01-13T09:50:43.119Z"
   },
   {
    "duration": 9159,
    "start_time": "2022-01-13T09:50:49.227Z"
   },
   {
    "duration": 8728,
    "start_time": "2022-01-13T09:51:15.903Z"
   },
   {
    "duration": 1289,
    "start_time": "2022-01-13T09:51:41.762Z"
   },
   {
    "duration": 1307,
    "start_time": "2022-01-13T09:52:03.296Z"
   },
   {
    "duration": 2164,
    "start_time": "2022-01-13T09:54:53.773Z"
   },
   {
    "duration": 1206,
    "start_time": "2022-01-13T09:55:20.882Z"
   },
   {
    "duration": 1285,
    "start_time": "2022-01-13T09:56:04.222Z"
   },
   {
    "duration": 1242,
    "start_time": "2022-01-13T09:57:38.728Z"
   },
   {
    "duration": 1219,
    "start_time": "2022-01-13T10:00:27.018Z"
   },
   {
    "duration": 1307,
    "start_time": "2022-01-13T10:01:03.937Z"
   },
   {
    "duration": 646,
    "start_time": "2022-01-13T10:02:16.876Z"
   },
   {
    "duration": 5,
    "start_time": "2022-01-13T10:02:21.568Z"
   },
   {
    "duration": 105,
    "start_time": "2022-01-13T10:02:21.579Z"
   },
   {
    "duration": 18,
    "start_time": "2022-01-13T10:02:21.686Z"
   },
   {
    "duration": 29,
    "start_time": "2022-01-13T10:02:21.706Z"
   },
   {
    "duration": 62,
    "start_time": "2022-01-13T10:02:21.738Z"
   },
   {
    "duration": 16,
    "start_time": "2022-01-13T10:02:21.803Z"
   },
   {
    "duration": 1057,
    "start_time": "2022-01-13T10:02:21.821Z"
   },
   {
    "duration": 54,
    "start_time": "2022-01-13T10:02:22.882Z"
   },
   {
    "duration": 13720,
    "start_time": "2022-01-13T10:02:22.939Z"
   },
   {
    "duration": 21,
    "start_time": "2022-01-13T10:02:36.661Z"
   },
   {
    "duration": 33,
    "start_time": "2022-01-13T10:02:36.685Z"
   },
   {
    "duration": 20,
    "start_time": "2022-01-13T10:02:36.721Z"
   },
   {
    "duration": 750,
    "start_time": "2022-01-13T10:02:36.744Z"
   },
   {
    "duration": 726,
    "start_time": "2022-01-13T10:02:37.500Z"
   },
   {
    "duration": 25,
    "start_time": "2022-01-13T10:02:38.228Z"
   },
   {
    "duration": 72,
    "start_time": "2022-01-13T10:02:38.256Z"
   },
   {
    "duration": 33,
    "start_time": "2022-01-13T10:02:38.332Z"
   },
   {
    "duration": 40,
    "start_time": "2022-01-13T10:02:38.368Z"
   },
   {
    "duration": 679,
    "start_time": "2022-01-13T10:02:38.410Z"
   },
   {
    "duration": 694,
    "start_time": "2022-01-13T10:02:51.750Z"
   },
   {
    "duration": 4,
    "start_time": "2022-01-13T10:04:01.020Z"
   },
   {
    "duration": 109,
    "start_time": "2022-01-13T10:04:03.360Z"
   },
   {
    "duration": 9279,
    "start_time": "2022-01-13T10:06:28.700Z"
   },
   {
    "duration": 5,
    "start_time": "2022-01-13T10:07:06.542Z"
   },
   {
    "duration": 146,
    "start_time": "2022-01-13T10:07:06.554Z"
   },
   {
    "duration": 7,
    "start_time": "2022-01-13T10:07:06.704Z"
   },
   {
    "duration": 30,
    "start_time": "2022-01-13T10:07:06.715Z"
   },
   {
    "duration": 71,
    "start_time": "2022-01-13T10:07:06.749Z"
   },
   {
    "duration": 14,
    "start_time": "2022-01-13T10:07:06.823Z"
   },
   {
    "duration": 1139,
    "start_time": "2022-01-13T10:07:06.840Z"
   },
   {
    "duration": 53,
    "start_time": "2022-01-13T10:07:07.982Z"
   },
   {
    "duration": 13808,
    "start_time": "2022-01-13T10:07:08.041Z"
   },
   {
    "duration": 19,
    "start_time": "2022-01-13T10:07:21.852Z"
   },
   {
    "duration": 39,
    "start_time": "2022-01-13T10:07:21.874Z"
   },
   {
    "duration": 43,
    "start_time": "2022-01-13T10:07:21.916Z"
   },
   {
    "duration": 715,
    "start_time": "2022-01-13T10:07:21.963Z"
   },
   {
    "duration": 870,
    "start_time": "2022-01-13T10:07:22.680Z"
   },
   {
    "duration": 49,
    "start_time": "2022-01-13T10:07:23.553Z"
   },
   {
    "duration": 42,
    "start_time": "2022-01-13T10:07:23.605Z"
   },
   {
    "duration": 53,
    "start_time": "2022-01-13T10:07:23.650Z"
   },
   {
    "duration": 12,
    "start_time": "2022-01-13T10:07:23.705Z"
   },
   {
    "duration": 694,
    "start_time": "2022-01-13T10:07:23.720Z"
   },
   {
    "duration": 680,
    "start_time": "2022-01-13T10:07:24.416Z"
   },
   {
    "duration": 654,
    "start_time": "2022-01-13T10:07:37.123Z"
   },
   {
    "duration": 5,
    "start_time": "2022-01-13T10:08:11.437Z"
   },
   {
    "duration": 114,
    "start_time": "2022-01-13T10:08:11.452Z"
   },
   {
    "duration": 4,
    "start_time": "2022-01-13T10:08:11.569Z"
   },
   {
    "duration": 39,
    "start_time": "2022-01-13T10:08:11.577Z"
   },
   {
    "duration": 21,
    "start_time": "2022-01-13T10:08:11.619Z"
   },
   {
    "duration": 19,
    "start_time": "2022-01-13T10:08:11.642Z"
   },
   {
    "duration": 1100,
    "start_time": "2022-01-13T10:08:11.664Z"
   },
   {
    "duration": 59,
    "start_time": "2022-01-13T10:08:12.767Z"
   },
   {
    "duration": 13501,
    "start_time": "2022-01-13T10:08:12.832Z"
   },
   {
    "duration": 20,
    "start_time": "2022-01-13T10:08:26.336Z"
   },
   {
    "duration": 30,
    "start_time": "2022-01-13T10:08:26.358Z"
   },
   {
    "duration": 23,
    "start_time": "2022-01-13T10:08:26.401Z"
   },
   {
    "duration": 726,
    "start_time": "2022-01-13T10:08:26.427Z"
   },
   {
    "duration": 722,
    "start_time": "2022-01-13T10:08:27.155Z"
   },
   {
    "duration": 43,
    "start_time": "2022-01-13T10:08:27.879Z"
   },
   {
    "duration": 42,
    "start_time": "2022-01-13T10:08:27.925Z"
   },
   {
    "duration": 59,
    "start_time": "2022-01-13T10:08:27.970Z"
   },
   {
    "duration": 13,
    "start_time": "2022-01-13T10:08:28.031Z"
   },
   {
    "duration": 715,
    "start_time": "2022-01-13T10:08:28.047Z"
   },
   {
    "duration": 740,
    "start_time": "2022-01-13T10:08:56.253Z"
   },
   {
    "duration": 8362,
    "start_time": "2022-01-13T10:09:41.329Z"
   },
   {
    "duration": 8,
    "start_time": "2022-01-13T10:09:53.403Z"
   },
   {
    "duration": 7,
    "start_time": "2022-01-13T10:10:04.781Z"
   },
   {
    "duration": 2481,
    "start_time": "2022-01-13T10:11:21.174Z"
   },
   {
    "duration": 4356,
    "start_time": "2022-01-13T10:11:45.365Z"
   },
   {
    "duration": 4,
    "start_time": "2022-01-13T10:12:00.515Z"
   },
   {
    "duration": 129,
    "start_time": "2022-01-13T10:12:00.526Z"
   },
   {
    "duration": 5,
    "start_time": "2022-01-13T10:12:00.657Z"
   },
   {
    "duration": 49,
    "start_time": "2022-01-13T10:12:00.665Z"
   },
   {
    "duration": 23,
    "start_time": "2022-01-13T10:12:00.717Z"
   },
   {
    "duration": 34,
    "start_time": "2022-01-13T10:12:00.743Z"
   },
   {
    "duration": 1064,
    "start_time": "2022-01-13T10:12:00.779Z"
   },
   {
    "duration": 56,
    "start_time": "2022-01-13T10:12:01.846Z"
   },
   {
    "duration": 14645,
    "start_time": "2022-01-13T10:12:01.907Z"
   },
   {
    "duration": 21,
    "start_time": "2022-01-13T10:12:16.555Z"
   },
   {
    "duration": 41,
    "start_time": "2022-01-13T10:12:16.578Z"
   },
   {
    "duration": 19,
    "start_time": "2022-01-13T10:12:16.622Z"
   },
   {
    "duration": 860,
    "start_time": "2022-01-13T10:12:16.644Z"
   },
   {
    "duration": 769,
    "start_time": "2022-01-13T10:12:17.507Z"
   },
   {
    "duration": 43,
    "start_time": "2022-01-13T10:12:18.279Z"
   },
   {
    "duration": 40,
    "start_time": "2022-01-13T10:12:18.325Z"
   },
   {
    "duration": 61,
    "start_time": "2022-01-13T10:12:18.367Z"
   },
   {
    "duration": 18,
    "start_time": "2022-01-13T10:12:18.431Z"
   },
   {
    "duration": 733,
    "start_time": "2022-01-13T10:12:18.452Z"
   },
   {
    "duration": 2448,
    "start_time": "2022-01-13T10:12:19.187Z"
   },
   {
    "duration": 4,
    "start_time": "2022-01-13T10:13:30.710Z"
   },
   {
    "duration": 131,
    "start_time": "2022-01-13T10:13:30.722Z"
   },
   {
    "duration": 4,
    "start_time": "2022-01-13T10:13:30.856Z"
   },
   {
    "duration": 49,
    "start_time": "2022-01-13T10:13:30.863Z"
   },
   {
    "duration": 30,
    "start_time": "2022-01-13T10:13:30.915Z"
   },
   {
    "duration": 53,
    "start_time": "2022-01-13T10:13:30.948Z"
   },
   {
    "duration": 1171,
    "start_time": "2022-01-13T10:13:31.004Z"
   },
   {
    "duration": 60,
    "start_time": "2022-01-13T10:13:32.178Z"
   },
   {
    "duration": 14977,
    "start_time": "2022-01-13T10:13:32.242Z"
   },
   {
    "duration": 22,
    "start_time": "2022-01-13T10:13:47.223Z"
   },
   {
    "duration": 22,
    "start_time": "2022-01-13T10:13:47.248Z"
   },
   {
    "duration": 53,
    "start_time": "2022-01-13T10:13:47.272Z"
   },
   {
    "duration": 727,
    "start_time": "2022-01-13T10:13:47.328Z"
   },
   {
    "duration": 804,
    "start_time": "2022-01-13T10:13:48.059Z"
   },
   {
    "duration": 46,
    "start_time": "2022-01-13T10:13:48.865Z"
   },
   {
    "duration": 40,
    "start_time": "2022-01-13T10:13:48.914Z"
   },
   {
    "duration": 65,
    "start_time": "2022-01-13T10:13:48.957Z"
   },
   {
    "duration": 17,
    "start_time": "2022-01-13T10:13:49.025Z"
   },
   {
    "duration": 1394,
    "start_time": "2022-01-13T10:13:49.045Z"
   },
   {
    "duration": 3645,
    "start_time": "2022-01-13T10:14:24.667Z"
   },
   {
    "duration": 9,
    "start_time": "2022-01-13T10:16:50.005Z"
   },
   {
    "duration": 6,
    "start_time": "2022-01-13T10:16:54.582Z"
   },
   {
    "duration": 6,
    "start_time": "2022-01-13T10:17:21.214Z"
   },
   {
    "duration": 6,
    "start_time": "2022-01-13T10:17:35.359Z"
   },
   {
    "duration": 6,
    "start_time": "2022-01-13T10:18:03.831Z"
   },
   {
    "duration": 12,
    "start_time": "2022-01-13T10:21:58.895Z"
   },
   {
    "duration": 35,
    "start_time": "2022-01-13T10:22:04.919Z"
   },
   {
    "duration": 5,
    "start_time": "2022-01-13T10:28:42.833Z"
   },
   {
    "duration": 115,
    "start_time": "2022-01-13T10:28:42.851Z"
   },
   {
    "duration": 4,
    "start_time": "2022-01-13T10:28:42.968Z"
   },
   {
    "duration": 43,
    "start_time": "2022-01-13T10:28:42.975Z"
   },
   {
    "duration": 43,
    "start_time": "2022-01-13T10:28:43.020Z"
   },
   {
    "duration": 29,
    "start_time": "2022-01-13T10:28:43.065Z"
   },
   {
    "duration": 1072,
    "start_time": "2022-01-13T10:28:43.097Z"
   },
   {
    "duration": 58,
    "start_time": "2022-01-13T10:28:44.171Z"
   },
   {
    "duration": 13841,
    "start_time": "2022-01-13T10:28:44.234Z"
   },
   {
    "duration": 33,
    "start_time": "2022-01-13T10:28:58.078Z"
   },
   {
    "duration": 17,
    "start_time": "2022-01-13T10:28:58.114Z"
   },
   {
    "duration": 19,
    "start_time": "2022-01-13T10:28:58.133Z"
   },
   {
    "duration": 899,
    "start_time": "2022-01-13T10:28:58.154Z"
   },
   {
    "duration": 764,
    "start_time": "2022-01-13T10:28:59.056Z"
   },
   {
    "duration": 26,
    "start_time": "2022-01-13T10:28:59.823Z"
   },
   {
    "duration": 70,
    "start_time": "2022-01-13T10:28:59.852Z"
   },
   {
    "duration": 31,
    "start_time": "2022-01-13T10:28:59.925Z"
   },
   {
    "duration": 960,
    "start_time": "2022-01-13T10:28:59.958Z"
   },
   {
    "duration": 2466,
    "start_time": "2022-01-13T10:29:00.920Z"
   },
   {
    "duration": 41,
    "start_time": "2022-01-13T10:29:03.388Z"
   },
   {
    "duration": 332,
    "start_time": "2022-01-13T10:29:03.432Z"
   },
   {
    "duration": 371,
    "start_time": "2022-01-13T10:29:03.766Z"
   },
   {
    "duration": 2271,
    "start_time": "2022-01-13T10:29:04.140Z"
   },
   {
    "duration": 39,
    "start_time": "2022-01-13T10:29:06.415Z"
   },
   {
    "duration": 24,
    "start_time": "2022-01-13T10:32:55.884Z"
   },
   {
    "duration": 20,
    "start_time": "2022-01-13T10:34:05.675Z"
   },
   {
    "duration": 134,
    "start_time": "2022-01-13T10:35:29.566Z"
   },
   {
    "duration": 5,
    "start_time": "2022-01-13T10:35:52.397Z"
   },
   {
    "duration": 113,
    "start_time": "2022-01-13T10:35:52.409Z"
   },
   {
    "duration": 5,
    "start_time": "2022-01-13T10:35:52.525Z"
   },
   {
    "duration": 23,
    "start_time": "2022-01-13T10:35:52.533Z"
   },
   {
    "duration": 50,
    "start_time": "2022-01-13T10:35:52.559Z"
   },
   {
    "duration": 15,
    "start_time": "2022-01-13T10:35:52.612Z"
   },
   {
    "duration": 1056,
    "start_time": "2022-01-13T10:35:52.630Z"
   },
   {
    "duration": 51,
    "start_time": "2022-01-13T10:35:53.688Z"
   },
   {
    "duration": 13966,
    "start_time": "2022-01-13T10:35:53.743Z"
   },
   {
    "duration": 20,
    "start_time": "2022-01-13T10:36:07.714Z"
   },
   {
    "duration": 18,
    "start_time": "2022-01-13T10:36:07.736Z"
   },
   {
    "duration": 260,
    "start_time": "2022-01-13T10:36:07.757Z"
   },
   {
    "duration": 739,
    "start_time": "2022-01-13T10:36:08.020Z"
   },
   {
    "duration": 723,
    "start_time": "2022-01-13T10:36:08.762Z"
   },
   {
    "duration": 26,
    "start_time": "2022-01-13T10:36:09.501Z"
   },
   {
    "duration": 41,
    "start_time": "2022-01-13T10:36:09.529Z"
   },
   {
    "duration": 30,
    "start_time": "2022-01-13T10:36:09.600Z"
   },
   {
    "duration": 977,
    "start_time": "2022-01-13T10:36:09.632Z"
   },
   {
    "duration": 2455,
    "start_time": "2022-01-13T10:36:10.612Z"
   },
   {
    "duration": 49,
    "start_time": "2022-01-13T10:36:13.069Z"
   },
   {
    "duration": 326,
    "start_time": "2022-01-13T10:36:13.121Z"
   },
   {
    "duration": 357,
    "start_time": "2022-01-13T10:36:13.449Z"
   },
   {
    "duration": 2126,
    "start_time": "2022-01-13T10:36:13.808Z"
   },
   {
    "duration": 149,
    "start_time": "2022-01-13T10:36:15.939Z"
   },
   {
    "duration": 132,
    "start_time": "2022-01-13T10:36:30.442Z"
   },
   {
    "duration": 20,
    "start_time": "2022-01-13T10:36:54.536Z"
   },
   {
    "duration": 344,
    "start_time": "2022-01-13T10:37:13.919Z"
   },
   {
    "duration": 18,
    "start_time": "2022-01-13T10:37:39.354Z"
   },
   {
    "duration": 8195,
    "start_time": "2022-01-13T10:38:16.359Z"
   },
   {
    "duration": 22,
    "start_time": "2022-01-13T10:38:54.543Z"
   },
   {
    "duration": 25,
    "start_time": "2022-01-13T10:39:07.832Z"
   },
   {
    "duration": 24,
    "start_time": "2022-01-13T10:39:11.095Z"
   },
   {
    "duration": 21,
    "start_time": "2022-01-13T10:39:31.354Z"
   },
   {
    "duration": 20,
    "start_time": "2022-01-13T10:40:15.477Z"
   },
   {
    "duration": 38,
    "start_time": "2022-01-13T10:40:29.127Z"
   },
   {
    "duration": 50,
    "start_time": "2022-01-13T10:41:41.350Z"
   },
   {
    "duration": 347,
    "start_time": "2022-01-13T10:43:14.189Z"
   },
   {
    "duration": 65,
    "start_time": "2022-01-13T10:43:35.565Z"
   },
   {
    "duration": 50,
    "start_time": "2022-01-13T10:43:46.647Z"
   },
   {
    "duration": 313,
    "start_time": "2022-01-13T10:44:13.912Z"
   },
   {
    "duration": 473,
    "start_time": "2022-01-13T10:44:40.705Z"
   },
   {
    "duration": 322,
    "start_time": "2022-01-13T10:45:07.087Z"
   },
   {
    "duration": 540,
    "start_time": "2022-01-13T10:45:33.054Z"
   },
   {
    "duration": 397,
    "start_time": "2022-01-13T10:45:47.852Z"
   },
   {
    "duration": 44,
    "start_time": "2022-01-13T10:46:02.230Z"
   },
   {
    "duration": 55,
    "start_time": "2022-01-13T10:46:12.097Z"
   },
   {
    "duration": 73,
    "start_time": "2022-01-13T10:46:39.360Z"
   },
   {
    "duration": 5021,
    "start_time": "2022-01-13T10:46:57.842Z"
   },
   {
    "duration": 75,
    "start_time": "2022-01-13T10:47:23.740Z"
   },
   {
    "duration": 1629,
    "start_time": "2022-01-13T10:49:14.110Z"
   },
   {
    "duration": 116,
    "start_time": "2022-01-13T10:49:15.741Z"
   },
   {
    "duration": 4,
    "start_time": "2022-01-13T10:49:15.860Z"
   },
   {
    "duration": 37,
    "start_time": "2022-01-13T10:49:15.866Z"
   },
   {
    "duration": 21,
    "start_time": "2022-01-13T10:49:15.905Z"
   },
   {
    "duration": 14,
    "start_time": "2022-01-13T10:49:15.929Z"
   },
   {
    "duration": 1031,
    "start_time": "2022-01-13T10:49:15.946Z"
   },
   {
    "duration": 59,
    "start_time": "2022-01-13T10:49:16.981Z"
   },
   {
    "duration": 13273,
    "start_time": "2022-01-13T10:49:17.043Z"
   },
   {
    "duration": 20,
    "start_time": "2022-01-13T10:49:30.318Z"
   },
   {
    "duration": 22,
    "start_time": "2022-01-13T10:49:30.341Z"
   },
   {
    "duration": 45,
    "start_time": "2022-01-13T10:49:30.365Z"
   },
   {
    "duration": 727,
    "start_time": "2022-01-13T10:49:30.413Z"
   },
   {
    "duration": 712,
    "start_time": "2022-01-13T10:49:31.143Z"
   },
   {
    "duration": 45,
    "start_time": "2022-01-13T10:49:31.857Z"
   },
   {
    "duration": 39,
    "start_time": "2022-01-13T10:49:31.904Z"
   },
   {
    "duration": 29,
    "start_time": "2022-01-13T10:49:31.945Z"
   },
   {
    "duration": 1014,
    "start_time": "2022-01-13T10:49:31.976Z"
   },
   {
    "duration": 2489,
    "start_time": "2022-01-13T10:49:32.992Z"
   },
   {
    "duration": 44,
    "start_time": "2022-01-13T10:49:35.484Z"
   },
   {
    "duration": 331,
    "start_time": "2022-01-13T10:49:35.531Z"
   },
   {
    "duration": 358,
    "start_time": "2022-01-13T10:49:35.865Z"
   },
   {
    "duration": 2105,
    "start_time": "2022-01-13T10:49:36.228Z"
   },
   {
    "duration": 4950,
    "start_time": "2022-01-13T10:49:38.336Z"
   },
   {
    "duration": 750,
    "start_time": "2022-01-13T10:49:50.016Z"
   },
   {
    "duration": 458,
    "start_time": "2022-01-13T10:50:04.657Z"
   },
   {
    "duration": 43,
    "start_time": "2022-01-13T10:50:26.256Z"
   },
   {
    "duration": 426,
    "start_time": "2022-01-13T10:50:33.637Z"
   },
   {
    "duration": 340,
    "start_time": "2022-01-13T10:51:10.062Z"
   },
   {
    "duration": 4893,
    "start_time": "2022-01-13T10:51:35.625Z"
   },
   {
    "duration": 74,
    "start_time": "2022-01-13T10:52:13.440Z"
   },
   {
    "duration": -452,
    "start_time": "2022-01-13T10:52:49.281Z"
   },
   {
    "duration": 5,
    "start_time": "2022-01-13T10:52:50.889Z"
   },
   {
    "duration": 122,
    "start_time": "2022-01-13T10:52:50.901Z"
   },
   {
    "duration": 5,
    "start_time": "2022-01-13T10:52:51.026Z"
   },
   {
    "duration": 32,
    "start_time": "2022-01-13T10:52:51.034Z"
   },
   {
    "duration": 43,
    "start_time": "2022-01-13T10:52:51.069Z"
   },
   {
    "duration": 60,
    "start_time": "2022-01-13T10:52:51.115Z"
   },
   {
    "duration": 1027,
    "start_time": "2022-01-13T10:52:51.178Z"
   },
   {
    "duration": 45,
    "start_time": "2022-01-13T10:52:52.208Z"
   },
   {
    "duration": 13937,
    "start_time": "2022-01-13T10:52:52.258Z"
   },
   {
    "duration": 20,
    "start_time": "2022-01-13T10:53:06.201Z"
   },
   {
    "duration": 18,
    "start_time": "2022-01-13T10:53:06.223Z"
   },
   {
    "duration": 19,
    "start_time": "2022-01-13T10:53:06.243Z"
   },
   {
    "duration": 765,
    "start_time": "2022-01-13T10:53:06.264Z"
   },
   {
    "duration": 713,
    "start_time": "2022-01-13T10:53:07.033Z"
   },
   {
    "duration": 26,
    "start_time": "2022-01-13T10:53:07.748Z"
   },
   {
    "duration": 62,
    "start_time": "2022-01-13T10:53:07.776Z"
   },
   {
    "duration": 31,
    "start_time": "2022-01-13T10:53:07.840Z"
   },
   {
    "duration": 1094,
    "start_time": "2022-01-13T10:53:07.901Z"
   },
   {
    "duration": 2489,
    "start_time": "2022-01-13T10:53:09.001Z"
   },
   {
    "duration": 42,
    "start_time": "2022-01-13T10:53:11.492Z"
   },
   {
    "duration": 331,
    "start_time": "2022-01-13T10:53:11.536Z"
   },
   {
    "duration": 360,
    "start_time": "2022-01-13T10:53:11.870Z"
   },
   {
    "duration": 2263,
    "start_time": "2022-01-13T10:53:12.233Z"
   },
   {
    "duration": 7912,
    "start_time": "2022-01-13T10:53:14.502Z"
   },
   {
    "duration": 386,
    "start_time": "2022-01-13T10:53:34.264Z"
   },
   {
    "duration": 74,
    "start_time": "2022-01-13T10:53:41.800Z"
   },
   {
    "duration": -434,
    "start_time": "2022-01-13T10:54:06.761Z"
   },
   {
    "duration": 71,
    "start_time": "2022-01-13T10:54:13.912Z"
   },
   {
    "duration": 8609,
    "start_time": "2022-01-13T10:54:33.034Z"
   },
   {
    "duration": 8079,
    "start_time": "2022-01-13T10:54:56.213Z"
   },
   {
    "duration": 8,
    "start_time": "2022-01-13T10:55:26.314Z"
   },
   {
    "duration": 7,
    "start_time": "2022-01-13T10:55:44.845Z"
   },
   {
    "duration": 329,
    "start_time": "2022-01-13T10:56:00.978Z"
   },
   {
    "duration": -425,
    "start_time": "2022-01-13T10:56:41.092Z"
   },
   {
    "duration": 8004,
    "start_time": "2022-01-13T10:56:45.591Z"
   },
   {
    "duration": 8557,
    "start_time": "2022-01-13T10:57:17.481Z"
   },
   {
    "duration": 53,
    "start_time": "2022-01-13T10:57:46.494Z"
   },
   {
    "duration": 5,
    "start_time": "2022-01-13T10:57:57.712Z"
   },
   {
    "duration": 336,
    "start_time": "2022-01-13T10:58:12.369Z"
   },
   {
    "duration": 10,
    "start_time": "2022-01-13T10:58:33.310Z"
   },
   {
    "duration": 319,
    "start_time": "2022-01-13T10:58:50.556Z"
   },
   {
    "duration": 433,
    "start_time": "2022-01-13T10:59:05.011Z"
   },
   {
    "duration": 4376,
    "start_time": "2022-01-13T11:00:07.886Z"
   },
   {
    "duration": 4924,
    "start_time": "2022-01-13T11:00:44.176Z"
   },
   {
    "duration": 6304,
    "start_time": "2022-01-13T11:01:13.462Z"
   },
   {
    "duration": 3265,
    "start_time": "2022-01-13T11:02:31.515Z"
   },
   {
    "duration": -427,
    "start_time": "2022-01-13T11:03:55.067Z"
   },
   {
    "duration": 46,
    "start_time": "2022-01-13T11:04:24.208Z"
   },
   {
    "duration": 3043,
    "start_time": "2022-01-13T11:06:02.369Z"
   },
   {
    "duration": 5018,
    "start_time": "2022-01-13T11:06:21.068Z"
   },
   {
    "duration": 4835,
    "start_time": "2022-01-13T11:17:41.279Z"
   },
   {
    "duration": 3364,
    "start_time": "2022-01-13T11:18:12.930Z"
   },
   {
    "duration": 18238,
    "start_time": "2022-01-13T11:19:09.950Z"
   },
   {
    "duration": 357,
    "start_time": "2022-01-13T11:21:12.738Z"
   },
   {
    "duration": 7878,
    "start_time": "2022-01-13T11:21:36.182Z"
   },
   {
    "duration": 130,
    "start_time": "2022-01-13T11:33:52.978Z"
   },
   {
    "duration": 54,
    "start_time": "2022-01-13T11:34:00.990Z"
   },
   {
    "duration": -397,
    "start_time": "2022-01-13T11:35:36.281Z"
   },
   {
    "duration": 344,
    "start_time": "2022-01-13T11:35:47.347Z"
   },
   {
    "duration": 8756,
    "start_time": "2022-01-13T11:36:40.177Z"
   },
   {
    "duration": 419,
    "start_time": "2022-01-13T11:38:55.428Z"
   },
   {
    "duration": 749,
    "start_time": "2022-01-13T11:39:27.109Z"
   },
   {
    "duration": 693,
    "start_time": "2022-01-13T11:39:42.862Z"
   },
   {
    "duration": 435,
    "start_time": "2022-01-13T11:40:05.775Z"
   },
   {
    "duration": 55,
    "start_time": "2022-01-13T11:44:43.352Z"
   },
   {
    "duration": 40,
    "start_time": "2022-01-13T11:44:56.445Z"
   },
   {
    "duration": 350,
    "start_time": "2022-01-13T11:45:04.434Z"
   },
   {
    "duration": 318,
    "start_time": "2022-01-13T11:45:20.685Z"
   },
   {
    "duration": 52,
    "start_time": "2022-01-13T11:45:30.576Z"
   },
   {
    "duration": 377,
    "start_time": "2022-01-13T11:45:59.295Z"
   },
   {
    "duration": -408,
    "start_time": "2022-01-13T11:46:27.823Z"
   },
   {
    "duration": 52,
    "start_time": "2022-01-13T11:46:37.643Z"
   },
   {
    "duration": 571,
    "start_time": "2022-01-13T11:46:51.458Z"
   },
   {
    "duration": 599,
    "start_time": "2022-01-13T11:47:02.841Z"
   },
   {
    "duration": 916,
    "start_time": "2022-01-13T11:47:18.958Z"
   },
   {
    "duration": 898,
    "start_time": "2022-01-13T11:47:31.267Z"
   },
   {
    "duration": 352,
    "start_time": "2022-01-13T11:47:41.670Z"
   },
   {
    "duration": 355,
    "start_time": "2022-01-13T11:47:49.848Z"
   },
   {
    "duration": 442,
    "start_time": "2022-01-13T11:48:38.998Z"
   },
   {
    "duration": 1660,
    "start_time": "2022-01-13T11:52:34.554Z"
   },
   {
    "duration": 130,
    "start_time": "2022-01-13T11:52:36.217Z"
   },
   {
    "duration": 5,
    "start_time": "2022-01-13T11:52:36.350Z"
   },
   {
    "duration": 20,
    "start_time": "2022-01-13T11:52:36.357Z"
   },
   {
    "duration": 29,
    "start_time": "2022-01-13T11:52:36.401Z"
   },
   {
    "duration": 13,
    "start_time": "2022-01-13T11:52:36.432Z"
   },
   {
    "duration": 1114,
    "start_time": "2022-01-13T11:52:36.448Z"
   },
   {
    "duration": 64,
    "start_time": "2022-01-13T11:52:37.568Z"
   },
   {
    "duration": 13697,
    "start_time": "2022-01-13T11:52:37.636Z"
   },
   {
    "duration": 21,
    "start_time": "2022-01-13T11:52:51.336Z"
   },
   {
    "duration": 49,
    "start_time": "2022-01-13T11:52:51.360Z"
   },
   {
    "duration": 19,
    "start_time": "2022-01-13T11:52:51.412Z"
   },
   {
    "duration": 752,
    "start_time": "2022-01-13T11:52:51.433Z"
   },
   {
    "duration": 763,
    "start_time": "2022-01-13T11:52:52.188Z"
   },
   {
    "duration": 51,
    "start_time": "2022-01-13T11:52:52.954Z"
   },
   {
    "duration": 41,
    "start_time": "2022-01-13T11:52:53.007Z"
   },
   {
    "duration": 61,
    "start_time": "2022-01-13T11:52:53.052Z"
   },
   {
    "duration": 1024,
    "start_time": "2022-01-13T11:52:53.116Z"
   },
   {
    "duration": 2494,
    "start_time": "2022-01-13T11:52:54.143Z"
   },
   {
    "duration": 37,
    "start_time": "2022-01-13T11:52:56.640Z"
   },
   {
    "duration": 331,
    "start_time": "2022-01-13T11:52:56.680Z"
   },
   {
    "duration": 364,
    "start_time": "2022-01-13T11:52:57.014Z"
   },
   {
    "duration": 2325,
    "start_time": "2022-01-13T11:52:57.382Z"
   },
   {
    "duration": 512,
    "start_time": "2022-01-13T11:52:59.710Z"
   },
   {
    "duration": -528,
    "start_time": "2022-01-13T11:53:00.753Z"
   },
   {
    "duration": 357,
    "start_time": "2022-01-13T11:53:16.628Z"
   },
   {
    "duration": 3284,
    "start_time": "2022-01-13T11:54:12.954Z"
   },
   {
    "duration": 18840,
    "start_time": "2022-01-13T11:55:24.564Z"
   },
   {
    "duration": 3488,
    "start_time": "2022-01-13T11:56:04.671Z"
   },
   {
    "duration": 2213,
    "start_time": "2022-01-13T11:56:16.480Z"
   },
   {
    "duration": 14846,
    "start_time": "2022-01-13T11:56:23.585Z"
   },
   {
    "duration": 8704,
    "start_time": "2022-01-13T11:56:45.438Z"
   },
   {
    "duration": 7667,
    "start_time": "2022-01-13T11:59:26.706Z"
   },
   {
    "duration": 7674,
    "start_time": "2022-01-13T11:59:42.149Z"
   },
   {
    "duration": 7615,
    "start_time": "2022-01-13T12:01:22.507Z"
   },
   {
    "duration": 11,
    "start_time": "2022-01-13T12:08:53.911Z"
   },
   {
    "duration": 27,
    "start_time": "2022-01-13T12:08:59.487Z"
   },
   {
    "duration": 7833,
    "start_time": "2022-01-13T12:09:48.578Z"
   },
   {
    "duration": -408,
    "start_time": "2022-01-13T12:10:53.705Z"
   },
   {
    "duration": 8231,
    "start_time": "2022-01-13T12:12:09.069Z"
   },
   {
    "duration": 1612,
    "start_time": "2022-01-13T12:12:21.902Z"
   },
   {
    "duration": 121,
    "start_time": "2022-01-13T12:12:23.517Z"
   },
   {
    "duration": 6,
    "start_time": "2022-01-13T12:12:23.642Z"
   },
   {
    "duration": 21,
    "start_time": "2022-01-13T12:12:23.651Z"
   },
   {
    "duration": 23,
    "start_time": "2022-01-13T12:12:23.702Z"
   },
   {
    "duration": 16,
    "start_time": "2022-01-13T12:12:23.728Z"
   },
   {
    "duration": 1042,
    "start_time": "2022-01-13T12:12:23.746Z"
   },
   {
    "duration": 46,
    "start_time": "2022-01-13T12:12:24.801Z"
   },
   {
    "duration": 13983,
    "start_time": "2022-01-13T12:12:24.850Z"
   },
   {
    "duration": 22,
    "start_time": "2022-01-13T12:12:38.835Z"
   },
   {
    "duration": 41,
    "start_time": "2022-01-13T12:12:38.859Z"
   },
   {
    "duration": 18,
    "start_time": "2022-01-13T12:12:38.903Z"
   },
   {
    "duration": 746,
    "start_time": "2022-01-13T12:12:38.924Z"
   },
   {
    "duration": 748,
    "start_time": "2022-01-13T12:12:39.672Z"
   },
   {
    "duration": 26,
    "start_time": "2022-01-13T12:12:40.422Z"
   },
   {
    "duration": 75,
    "start_time": "2022-01-13T12:12:40.451Z"
   },
   {
    "duration": 31,
    "start_time": "2022-01-13T12:12:40.529Z"
   },
   {
    "duration": 1100,
    "start_time": "2022-01-13T12:12:40.563Z"
   },
   {
    "duration": 2698,
    "start_time": "2022-01-13T12:12:41.665Z"
   },
   {
    "duration": 48,
    "start_time": "2022-01-13T12:12:44.366Z"
   },
   {
    "duration": 313,
    "start_time": "2022-01-13T12:12:44.416Z"
   },
   {
    "duration": 371,
    "start_time": "2022-01-13T12:12:44.731Z"
   },
   {
    "duration": 2181,
    "start_time": "2022-01-13T12:12:45.107Z"
   },
   {
    "duration": 7652,
    "start_time": "2022-01-13T12:12:47.291Z"
   },
   {
    "duration": -429,
    "start_time": "2022-01-13T12:13:06.654Z"
   },
   {
    "duration": 350,
    "start_time": "2022-01-13T12:13:23.684Z"
   },
   {
    "duration": 366,
    "start_time": "2022-01-13T12:13:41.021Z"
   },
   {
    "duration": 6,
    "start_time": "2022-01-13T12:13:58.217Z"
   },
   {
    "duration": 109,
    "start_time": "2022-01-13T12:13:58.239Z"
   },
   {
    "duration": 4,
    "start_time": "2022-01-13T12:13:58.351Z"
   },
   {
    "duration": 21,
    "start_time": "2022-01-13T12:13:58.358Z"
   },
   {
    "duration": 22,
    "start_time": "2022-01-13T12:13:58.402Z"
   },
   {
    "duration": 13,
    "start_time": "2022-01-13T12:13:58.427Z"
   },
   {
    "duration": 1061,
    "start_time": "2022-01-13T12:13:58.443Z"
   },
   {
    "duration": 42,
    "start_time": "2022-01-13T12:13:59.507Z"
   },
   {
    "duration": 14256,
    "start_time": "2022-01-13T12:13:59.555Z"
   },
   {
    "duration": 20,
    "start_time": "2022-01-13T12:14:13.814Z"
   },
   {
    "duration": 16,
    "start_time": "2022-01-13T12:14:13.836Z"
   },
   {
    "duration": 50,
    "start_time": "2022-01-13T12:14:13.854Z"
   },
   {
    "duration": 730,
    "start_time": "2022-01-13T12:14:13.907Z"
   },
   {
    "duration": 718,
    "start_time": "2022-01-13T12:14:14.640Z"
   },
   {
    "duration": 48,
    "start_time": "2022-01-13T12:14:15.361Z"
   },
   {
    "duration": 41,
    "start_time": "2022-01-13T12:14:15.411Z"
   },
   {
    "duration": 54,
    "start_time": "2022-01-13T12:14:15.455Z"
   },
   {
    "duration": 1134,
    "start_time": "2022-01-13T12:14:15.511Z"
   },
   {
    "duration": 2481,
    "start_time": "2022-01-13T12:14:16.647Z"
   },
   {
    "duration": 34,
    "start_time": "2022-01-13T12:14:19.131Z"
   },
   {
    "duration": 348,
    "start_time": "2022-01-13T12:14:19.167Z"
   },
   {
    "duration": 389,
    "start_time": "2022-01-13T12:14:19.518Z"
   },
   {
    "duration": 2433,
    "start_time": "2022-01-13T12:14:19.910Z"
   },
   {
    "duration": 7619,
    "start_time": "2022-01-13T12:14:22.349Z"
   },
   {
    "duration": -412,
    "start_time": "2022-01-13T12:14:38.747Z"
   },
   {
    "duration": 352,
    "start_time": "2022-01-13T12:14:38.939Z"
   },
   {
    "duration": 521,
    "start_time": "2022-01-13T12:15:09.913Z"
   },
   {
    "duration": 358,
    "start_time": "2022-01-13T12:15:20.299Z"
   },
   {
    "duration": 317,
    "start_time": "2022-01-13T12:15:26.175Z"
   },
   {
    "duration": 9744,
    "start_time": "2022-01-13T12:15:43.568Z"
   },
   {
    "duration": 16,
    "start_time": "2022-01-13T12:16:17.481Z"
   },
   {
    "duration": 14,
    "start_time": "2022-01-13T12:16:27.853Z"
   },
   {
    "duration": 10,
    "start_time": "2022-01-13T12:16:54.192Z"
   },
   {
    "duration": 8,
    "start_time": "2022-01-13T12:17:22.784Z"
   },
   {
    "duration": 18,
    "start_time": "2022-01-13T12:17:30.034Z"
   },
   {
    "duration": 15,
    "start_time": "2022-01-13T12:18:12.122Z"
   },
   {
    "duration": 17,
    "start_time": "2022-01-13T12:18:18.890Z"
   },
   {
    "duration": 345,
    "start_time": "2022-01-13T12:18:43.838Z"
   },
   {
    "duration": 364,
    "start_time": "2022-01-13T12:19:14.948Z"
   },
   {
    "duration": 14,
    "start_time": "2022-01-13T12:19:22.169Z"
   },
   {
    "duration": 17,
    "start_time": "2022-01-13T12:19:26.602Z"
   },
   {
    "duration": 17,
    "start_time": "2022-01-13T12:19:40.737Z"
   },
   {
    "duration": 17,
    "start_time": "2022-01-13T12:19:43.195Z"
   },
   {
    "duration": 12,
    "start_time": "2022-01-13T12:19:59.190Z"
   },
   {
    "duration": 17,
    "start_time": "2022-01-13T12:20:41.118Z"
   },
   {
    "duration": 17,
    "start_time": "2022-01-13T12:20:44.651Z"
   },
   {
    "duration": 5,
    "start_time": "2022-01-13T12:21:15.236Z"
   },
   {
    "duration": 108,
    "start_time": "2022-01-13T12:21:15.247Z"
   },
   {
    "duration": 5,
    "start_time": "2022-01-13T12:21:15.357Z"
   },
   {
    "duration": 44,
    "start_time": "2022-01-13T12:21:15.365Z"
   },
   {
    "duration": 23,
    "start_time": "2022-01-13T12:21:15.413Z"
   },
   {
    "duration": 14,
    "start_time": "2022-01-13T12:21:15.438Z"
   },
   {
    "duration": 1148,
    "start_time": "2022-01-13T12:21:15.454Z"
   },
   {
    "duration": 41,
    "start_time": "2022-01-13T12:21:16.605Z"
   },
   {
    "duration": 13837,
    "start_time": "2022-01-13T12:21:16.649Z"
   },
   {
    "duration": 25,
    "start_time": "2022-01-13T12:21:30.489Z"
   },
   {
    "duration": 41,
    "start_time": "2022-01-13T12:21:30.516Z"
   },
   {
    "duration": 24,
    "start_time": "2022-01-13T12:21:30.559Z"
   },
   {
    "duration": 731,
    "start_time": "2022-01-13T12:21:30.586Z"
   },
   {
    "duration": 720,
    "start_time": "2022-01-13T12:21:31.320Z"
   },
   {
    "duration": 27,
    "start_time": "2022-01-13T12:21:32.044Z"
   },
   {
    "duration": 70,
    "start_time": "2022-01-13T12:21:32.073Z"
   },
   {
    "duration": 63,
    "start_time": "2022-01-13T12:21:32.146Z"
   },
   {
    "duration": 1019,
    "start_time": "2022-01-13T12:21:32.212Z"
   },
   {
    "duration": 2454,
    "start_time": "2022-01-13T12:21:33.233Z"
   },
   {
    "duration": 43,
    "start_time": "2022-01-13T12:21:35.690Z"
   },
   {
    "duration": 340,
    "start_time": "2022-01-13T12:21:35.736Z"
   },
   {
    "duration": 396,
    "start_time": "2022-01-13T12:21:36.080Z"
   },
   {
    "duration": 2207,
    "start_time": "2022-01-13T12:21:36.479Z"
   },
   {
    "duration": 7536,
    "start_time": "2022-01-13T12:21:38.690Z"
   },
   {
    "duration": 18,
    "start_time": "2022-01-13T12:21:52.798Z"
   },
   {
    "duration": 15,
    "start_time": "2022-01-13T12:21:57.954Z"
   },
   {
    "duration": 18,
    "start_time": "2022-01-13T12:21:59.476Z"
   },
   {
    "duration": 22,
    "start_time": "2022-01-13T12:22:32.155Z"
   },
   {
    "duration": 17,
    "start_time": "2022-01-13T12:22:35.440Z"
   },
   {
    "duration": 11,
    "start_time": "2022-01-13T12:23:10.027Z"
   },
   {
    "duration": 14,
    "start_time": "2022-01-13T12:23:59.619Z"
   },
   {
    "duration": 11,
    "start_time": "2022-01-13T12:24:04.791Z"
   },
   {
    "duration": 14,
    "start_time": "2022-01-13T12:24:30.717Z"
   },
   {
    "duration": 332,
    "start_time": "2022-01-13T12:24:49.065Z"
   },
   {
    "duration": 327,
    "start_time": "2022-01-13T12:24:51.571Z"
   },
   {
    "duration": 14,
    "start_time": "2022-01-13T12:24:54.673Z"
   },
   {
    "duration": 12,
    "start_time": "2022-01-13T12:25:26.595Z"
   },
   {
    "duration": 17,
    "start_time": "2022-01-13T12:25:36.216Z"
   },
   {
    "duration": 7907,
    "start_time": "2022-01-13T12:26:26.041Z"
   },
   {
    "duration": 16,
    "start_time": "2022-01-13T12:26:36.385Z"
   },
   {
    "duration": 380,
    "start_time": "2022-01-13T12:26:49.271Z"
   },
   {
    "duration": 371,
    "start_time": "2022-01-13T12:27:32.143Z"
   },
   {
    "duration": 370,
    "start_time": "2022-01-13T12:27:42.870Z"
   },
   {
    "duration": 24,
    "start_time": "2022-01-13T12:28:03.043Z"
   },
   {
    "duration": 371,
    "start_time": "2022-01-13T12:28:22.096Z"
   },
   {
    "duration": 409,
    "start_time": "2022-01-13T12:28:40.450Z"
   },
   {
    "duration": 6,
    "start_time": "2022-01-13T12:29:23.801Z"
   },
   {
    "duration": 340,
    "start_time": "2022-01-13T12:30:13.505Z"
   },
   {
    "duration": 370,
    "start_time": "2022-01-13T12:30:38.428Z"
   },
   {
    "duration": 8013,
    "start_time": "2022-01-13T12:31:20.583Z"
   },
   {
    "duration": 8076,
    "start_time": "2022-01-13T12:31:39.298Z"
   },
   {
    "duration": 8954,
    "start_time": "2022-01-13T12:31:49.885Z"
   },
   {
    "duration": 19,
    "start_time": "2022-01-13T12:32:12.208Z"
   },
   {
    "duration": 346,
    "start_time": "2022-01-13T12:32:49.536Z"
   },
   {
    "duration": 10794,
    "start_time": "2022-01-13T12:33:20.545Z"
   },
   {
    "duration": -608,
    "start_time": "2022-01-13T12:33:31.950Z"
   },
   {
    "duration": 14,
    "start_time": "2022-01-13T12:33:43.518Z"
   },
   {
    "duration": 353,
    "start_time": "2022-01-13T12:34:00.021Z"
   },
   {
    "duration": -420,
    "start_time": "2022-01-13T12:36:08.171Z"
   },
   {
    "duration": 636,
    "start_time": "2022-01-13T12:36:21.480Z"
   },
   {
    "duration": 21,
    "start_time": "2022-01-13T12:37:09.924Z"
   },
   {
    "duration": 343,
    "start_time": "2022-01-13T12:38:39.776Z"
   },
   {
    "duration": 351,
    "start_time": "2022-01-13T12:39:03.652Z"
   },
   {
    "duration": 6349,
    "start_time": "2022-01-13T12:39:38.583Z"
   },
   {
    "duration": 6515,
    "start_time": "2022-01-13T12:39:58.052Z"
   },
   {
    "duration": 11,
    "start_time": "2022-01-13T12:40:11.879Z"
   },
   {
    "duration": 11,
    "start_time": "2022-01-13T12:40:24.548Z"
   },
   {
    "duration": 338,
    "start_time": "2022-01-13T12:41:15.437Z"
   },
   {
    "duration": 23,
    "start_time": "2022-01-13T12:41:30.871Z"
   },
   {
    "duration": 25,
    "start_time": "2022-01-13T12:43:14.528Z"
   },
   {
    "duration": 310,
    "start_time": "2022-01-13T12:44:23.132Z"
   },
   {
    "duration": 395,
    "start_time": "2022-01-13T12:44:33.153Z"
   },
   {
    "duration": 24,
    "start_time": "2022-01-13T12:45:16.030Z"
   },
   {
    "duration": 9,
    "start_time": "2022-01-13T12:45:58.259Z"
   },
   {
    "duration": 6,
    "start_time": "2022-01-13T12:46:06.814Z"
   },
   {
    "duration": 341,
    "start_time": "2022-01-13T14:38:03.732Z"
   },
   {
    "duration": 5,
    "start_time": "2022-01-13T14:38:28.776Z"
   },
   {
    "duration": 107,
    "start_time": "2022-01-13T14:38:28.801Z"
   },
   {
    "duration": 4,
    "start_time": "2022-01-13T14:38:28.911Z"
   },
   {
    "duration": 20,
    "start_time": "2022-01-13T14:38:32.378Z"
   },
   {
    "duration": 20,
    "start_time": "2022-01-13T14:44:51.754Z"
   },
   {
    "duration": 10,
    "start_time": "2022-01-13T14:44:55.021Z"
   },
   {
    "duration": 315,
    "start_time": "2022-01-13T14:46:41.144Z"
   },
   {
    "duration": 26,
    "start_time": "2022-01-13T14:47:08.563Z"
   },
   {
    "duration": 348,
    "start_time": "2022-01-13T14:47:47.894Z"
   },
   {
    "duration": 40,
    "start_time": "2022-01-13T14:48:30.959Z"
   },
   {
    "duration": 18,
    "start_time": "2022-01-13T14:49:23.975Z"
   },
   {
    "duration": 144,
    "start_time": "2022-01-13T14:55:11.340Z"
   },
   {
    "duration": 1138,
    "start_time": "2022-01-13T15:01:35.405Z"
   },
   {
    "duration": 1536,
    "start_time": "2022-01-13T17:12:49.823Z"
   },
   {
    "duration": 1317,
    "start_time": "2022-01-13T17:13:13.338Z"
   },
   {
    "duration": 1555,
    "start_time": "2022-01-13T17:13:31.372Z"
   },
   {
    "duration": 5,
    "start_time": "2022-01-13T17:13:53.048Z"
   },
   {
    "duration": 136,
    "start_time": "2022-01-13T17:13:53.082Z"
   },
   {
    "duration": 5,
    "start_time": "2022-01-13T17:13:53.221Z"
   },
   {
    "duration": 21,
    "start_time": "2022-01-13T17:13:53.231Z"
   },
   {
    "duration": 60,
    "start_time": "2022-01-13T17:13:53.256Z"
   },
   {
    "duration": 16,
    "start_time": "2022-01-13T17:13:53.319Z"
   },
   {
    "duration": 4198,
    "start_time": "2022-01-13T17:14:35.702Z"
   },
   {
    "duration": 13070,
    "start_time": "2022-01-13T17:15:55.040Z"
   },
   {
    "duration": 12103,
    "start_time": "2022-01-13T17:16:18.734Z"
   },
   {
    "duration": 11875,
    "start_time": "2022-01-13T17:17:17.911Z"
   },
   {
    "duration": 4520,
    "start_time": "2022-01-13T17:18:26.667Z"
   },
   {
    "duration": 5,
    "start_time": "2022-01-13T17:18:55.556Z"
   },
   {
    "duration": 113,
    "start_time": "2022-01-13T17:18:55.577Z"
   },
   {
    "duration": 8,
    "start_time": "2022-01-13T17:18:55.693Z"
   },
   {
    "duration": 22,
    "start_time": "2022-01-13T17:18:55.704Z"
   },
   {
    "duration": 25,
    "start_time": "2022-01-13T17:18:55.729Z"
   },
   {
    "duration": 50,
    "start_time": "2022-01-13T17:18:55.756Z"
   },
   {
    "duration": 3569,
    "start_time": "2022-01-13T17:19:00.773Z"
   },
   {
    "duration": 128,
    "start_time": "2022-01-13T17:22:44.026Z"
   },
   {
    "duration": 44,
    "start_time": "2022-01-13T17:24:00.378Z"
   },
   {
    "duration": 206,
    "start_time": "2022-01-13T17:26:24.886Z"
   },
   {
    "duration": 176,
    "start_time": "2022-01-13T17:28:02.554Z"
   },
   {
    "duration": 16,
    "start_time": "2022-01-13T17:29:33.144Z"
   },
   {
    "duration": 17,
    "start_time": "2022-01-13T17:30:47.305Z"
   },
   {
    "duration": 18,
    "start_time": "2022-01-13T17:34:18.092Z"
   },
   {
    "duration": 690,
    "start_time": "2022-01-13T17:37:06.485Z"
   },
   {
    "duration": 888,
    "start_time": "2022-01-13T18:21:26.426Z"
   },
   {
    "duration": 37,
    "start_time": "2022-01-13T18:24:15.246Z"
   },
   {
    "duration": 45,
    "start_time": "2022-01-13T18:25:37.027Z"
   },
   {
    "duration": 45,
    "start_time": "2022-01-13T18:25:51.566Z"
   },
   {
    "duration": 762,
    "start_time": "2022-01-13T18:26:31.670Z"
   },
   {
    "duration": 878,
    "start_time": "2022-01-13T18:28:28.364Z"
   },
   {
    "duration": 861,
    "start_time": "2022-01-13T18:28:35.706Z"
   },
   {
    "duration": 6,
    "start_time": "2022-01-13T18:28:43.573Z"
   },
   {
    "duration": 128,
    "start_time": "2022-01-13T18:28:43.586Z"
   },
   {
    "duration": 4,
    "start_time": "2022-01-13T18:28:43.717Z"
   },
   {
    "duration": 21,
    "start_time": "2022-01-13T18:28:43.724Z"
   },
   {
    "duration": 61,
    "start_time": "2022-01-13T18:28:43.747Z"
   },
   {
    "duration": 16,
    "start_time": "2022-01-13T18:28:43.811Z"
   },
   {
    "duration": 3703,
    "start_time": "2022-01-13T18:28:43.831Z"
   },
   {
    "duration": 194,
    "start_time": "2022-01-13T18:28:47.536Z"
   },
   {
    "duration": 18,
    "start_time": "2022-01-13T18:28:47.734Z"
   },
   {
    "duration": 49,
    "start_time": "2022-01-13T18:28:47.755Z"
   },
   {
    "duration": 722,
    "start_time": "2022-01-13T18:28:47.806Z"
   },
   {
    "duration": 718,
    "start_time": "2022-01-13T18:28:56.436Z"
   },
   {
    "duration": 720,
    "start_time": "2022-01-13T18:30:13.213Z"
   },
   {
    "duration": 1456,
    "start_time": "2022-01-13T18:30:40.745Z"
   },
   {
    "duration": 116,
    "start_time": "2022-01-13T18:30:42.204Z"
   },
   {
    "duration": 5,
    "start_time": "2022-01-13T18:30:42.324Z"
   },
   {
    "duration": 26,
    "start_time": "2022-01-13T18:30:42.332Z"
   },
   {
    "duration": 45,
    "start_time": "2022-01-13T18:30:42.361Z"
   },
   {
    "duration": 21,
    "start_time": "2022-01-13T18:30:42.409Z"
   },
   {
    "duration": 3384,
    "start_time": "2022-01-13T18:30:42.433Z"
   },
   {
    "duration": 182,
    "start_time": "2022-01-13T18:30:45.819Z"
   },
   {
    "duration": 18,
    "start_time": "2022-01-13T18:30:46.005Z"
   },
   {
    "duration": 35,
    "start_time": "2022-01-13T18:30:46.026Z"
   },
   {
    "duration": 704,
    "start_time": "2022-01-13T18:30:46.063Z"
   },
   {
    "duration": 775,
    "start_time": "2022-01-13T18:30:46.770Z"
   },
   {
    "duration": 35,
    "start_time": "2022-01-13T18:30:47.547Z"
   },
   {
    "duration": 443,
    "start_time": "2022-01-13T18:30:47.585Z"
   },
   {
    "duration": 25,
    "start_time": "2022-01-13T18:30:48.030Z"
   },
   {
    "duration": 67,
    "start_time": "2022-01-13T18:30:48.058Z"
   },
   {
    "duration": 31,
    "start_time": "2022-01-13T18:30:48.128Z"
   },
   {
    "duration": 1089,
    "start_time": "2022-01-13T18:30:48.163Z"
   },
   {
    "duration": 2413,
    "start_time": "2022-01-13T18:30:49.255Z"
   },
   {
    "duration": 53,
    "start_time": "2022-01-13T18:30:51.670Z"
   },
   {
    "duration": 317,
    "start_time": "2022-01-13T18:30:51.725Z"
   },
   {
    "duration": 383,
    "start_time": "2022-01-13T18:30:52.045Z"
   },
   {
    "duration": 2169,
    "start_time": "2022-01-13T18:30:52.432Z"
   },
   {
    "duration": 8072,
    "start_time": "2022-01-13T18:30:54.604Z"
   },
   {
    "duration": 38,
    "start_time": "2022-01-13T18:31:02.679Z"
   },
   {
    "duration": 6,
    "start_time": "2022-01-13T18:31:02.719Z"
   },
   {
    "duration": 4,
    "start_time": "2022-01-13T18:31:17.537Z"
   },
   {
    "duration": 38,
    "start_time": "2022-01-13T18:31:31.036Z"
   },
   {
    "duration": 4,
    "start_time": "2022-01-13T18:31:33.926Z"
   },
   {
    "duration": 6,
    "start_time": "2022-01-13T18:32:15.694Z"
   },
   {
    "duration": 6,
    "start_time": "2022-01-13T18:32:29.193Z"
   },
   {
    "duration": 109,
    "start_time": "2022-01-13T18:32:29.209Z"
   },
   {
    "duration": 4,
    "start_time": "2022-01-13T18:32:29.321Z"
   },
   {
    "duration": 22,
    "start_time": "2022-01-13T18:32:29.328Z"
   },
   {
    "duration": 50,
    "start_time": "2022-01-13T18:32:29.353Z"
   },
   {
    "duration": 16,
    "start_time": "2022-01-13T18:32:29.406Z"
   },
   {
    "duration": 3368,
    "start_time": "2022-01-13T18:32:29.424Z"
   },
   {
    "duration": 206,
    "start_time": "2022-01-13T18:32:32.802Z"
   },
   {
    "duration": 18,
    "start_time": "2022-01-13T18:32:33.010Z"
   },
   {
    "duration": 25,
    "start_time": "2022-01-13T18:32:33.030Z"
   },
   {
    "duration": 727,
    "start_time": "2022-01-13T18:32:33.058Z"
   },
   {
    "duration": 5,
    "start_time": "2022-01-13T18:32:42.483Z"
   },
   {
    "duration": 15,
    "start_time": "2022-01-13T18:33:13.450Z"
   },
   {
    "duration": 5,
    "start_time": "2022-01-13T18:34:01.362Z"
   },
   {
    "duration": 5,
    "start_time": "2022-01-13T18:34:09.146Z"
   },
   {
    "duration": 17,
    "start_time": "2022-01-13T18:34:23.471Z"
   },
   {
    "duration": 19479,
    "start_time": "2022-01-13T18:34:48.027Z"
   },
   {
    "duration": 30166,
    "start_time": "2022-01-13T18:35:45.401Z"
   },
   {
    "duration": 5,
    "start_time": "2022-01-13T18:36:57.363Z"
   },
   {
    "duration": 419,
    "start_time": "2022-01-13T18:38:05.001Z"
   },
   {
    "duration": 409,
    "start_time": "2022-01-13T18:38:58.710Z"
   },
   {
    "duration": -854,
    "start_time": "2022-01-13T18:39:19.954Z"
   },
   {
    "duration": 5,
    "start_time": "2022-01-13T18:39:25.028Z"
   },
   {
    "duration": 115,
    "start_time": "2022-01-13T18:39:25.042Z"
   },
   {
    "duration": 6,
    "start_time": "2022-01-13T18:39:25.161Z"
   },
   {
    "duration": 48,
    "start_time": "2022-01-13T18:39:25.170Z"
   },
   {
    "duration": 22,
    "start_time": "2022-01-13T18:39:25.221Z"
   },
   {
    "duration": 14,
    "start_time": "2022-01-13T18:39:25.245Z"
   },
   {
    "duration": 3425,
    "start_time": "2022-01-13T18:39:25.261Z"
   },
   {
    "duration": 185,
    "start_time": "2022-01-13T18:39:28.689Z"
   },
   {
    "duration": 27,
    "start_time": "2022-01-13T18:39:28.878Z"
   },
   {
    "duration": 21,
    "start_time": "2022-01-13T18:39:28.908Z"
   },
   {
    "duration": 732,
    "start_time": "2022-01-13T18:39:28.932Z"
   },
   {
    "duration": 432,
    "start_time": "2022-01-13T18:39:30.497Z"
   },
   {
    "duration": 14,
    "start_time": "2022-01-13T18:39:34.507Z"
   },
   {
    "duration": 544,
    "start_time": "2022-01-13T18:39:40.963Z"
   },
   {
    "duration": 1123,
    "start_time": "2022-01-13T18:40:18.956Z"
   },
   {
    "duration": 41,
    "start_time": "2022-01-13T18:40:59.748Z"
   },
   {
    "duration": 330,
    "start_time": "2022-01-13T18:41:23.681Z"
   },
   {
    "duration": 1557,
    "start_time": "2022-01-13T18:44:47.621Z"
   },
   {
    "duration": 119,
    "start_time": "2022-01-13T18:44:49.181Z"
   },
   {
    "duration": 4,
    "start_time": "2022-01-13T18:44:49.304Z"
   },
   {
    "duration": 30,
    "start_time": "2022-01-13T18:44:49.311Z"
   },
   {
    "duration": 25,
    "start_time": "2022-01-13T18:44:49.344Z"
   },
   {
    "duration": 19,
    "start_time": "2022-01-13T18:44:49.402Z"
   },
   {
    "duration": 4331,
    "start_time": "2022-01-13T18:44:49.424Z"
   },
   {
    "duration": 244,
    "start_time": "2022-01-13T18:44:53.760Z"
   },
   {
    "duration": 18,
    "start_time": "2022-01-13T18:44:54.007Z"
   },
   {
    "duration": 29,
    "start_time": "2022-01-13T18:44:54.028Z"
   },
   {
    "duration": 752,
    "start_time": "2022-01-13T18:44:54.060Z"
   },
   {
    "duration": 46,
    "start_time": "2022-01-13T18:44:58.102Z"
   },
   {
    "duration": 102,
    "start_time": "2022-01-13T18:50:53.933Z"
   },
   {
    "duration": 121,
    "start_time": "2022-01-13T18:51:00.573Z"
   },
   {
    "duration": 902,
    "start_time": "2022-01-13T18:51:30.725Z"
   },
   {
    "duration": 570,
    "start_time": "2022-01-13T18:54:21.923Z"
   },
   {
    "duration": 571,
    "start_time": "2022-01-13T18:54:25.132Z"
   },
   {
    "duration": 588,
    "start_time": "2022-01-13T18:54:36.383Z"
   },
   {
    "duration": 108,
    "start_time": "2022-01-13T18:55:10.246Z"
   },
   {
    "duration": 1218,
    "start_time": "2022-01-13T18:55:25.972Z"
   },
   {
    "duration": 580,
    "start_time": "2022-01-13T18:56:07.564Z"
   },
   {
    "duration": 340,
    "start_time": "2022-01-13T18:58:42.026Z"
   },
   {
    "duration": 358,
    "start_time": "2022-01-13T18:59:14.029Z"
   },
   {
    "duration": 14,
    "start_time": "2022-01-13T18:59:34.463Z"
   },
   {
    "duration": 47,
    "start_time": "2022-01-13T19:00:27.924Z"
   },
   {
    "duration": 14,
    "start_time": "2022-01-13T19:01:03.194Z"
   },
   {
    "duration": 8654,
    "start_time": "2022-01-13T19:02:35.137Z"
   },
   {
    "duration": 2162,
    "start_time": "2022-01-13T19:05:56.424Z"
   },
   {
    "duration": 1343,
    "start_time": "2022-01-13T19:07:14.958Z"
   },
   {
    "duration": 118,
    "start_time": "2022-01-13T19:09:21.025Z"
   },
   {
    "duration": 1303,
    "start_time": "2022-01-13T19:09:24.923Z"
   },
   {
    "duration": 112,
    "start_time": "2022-01-13T19:12:21.788Z"
   },
   {
    "duration": 37,
    "start_time": "2022-01-13T19:12:25.852Z"
   },
   {
    "duration": 9,
    "start_time": "2022-01-13T19:14:01.615Z"
   },
   {
    "duration": 28,
    "start_time": "2022-01-13T19:20:41.057Z"
   },
   {
    "duration": 27,
    "start_time": "2022-01-13T19:21:00.740Z"
   },
   {
    "duration": 345,
    "start_time": "2022-01-13T19:22:36.743Z"
   },
   {
    "duration": 25,
    "start_time": "2022-01-13T19:22:56.524Z"
   },
   {
    "duration": 614,
    "start_time": "2022-01-13T19:31:09.464Z"
   },
   {
    "duration": 5,
    "start_time": "2022-01-13T19:31:21.856Z"
   },
   {
    "duration": 113,
    "start_time": "2022-01-13T19:31:21.868Z"
   },
   {
    "duration": 17,
    "start_time": "2022-01-13T19:31:21.984Z"
   },
   {
    "duration": 21,
    "start_time": "2022-01-13T19:31:22.004Z"
   },
   {
    "duration": 22,
    "start_time": "2022-01-13T19:31:22.027Z"
   },
   {
    "duration": 49,
    "start_time": "2022-01-13T19:31:22.052Z"
   },
   {
    "duration": 3261,
    "start_time": "2022-01-13T19:31:22.104Z"
   },
   {
    "duration": 189,
    "start_time": "2022-01-13T19:31:25.367Z"
   },
   {
    "duration": 17,
    "start_time": "2022-01-13T19:31:25.561Z"
   },
   {
    "duration": 36,
    "start_time": "2022-01-13T19:31:25.581Z"
   },
   {
    "duration": 758,
    "start_time": "2022-01-13T19:31:25.619Z"
   },
   {
    "duration": 9,
    "start_time": "2022-01-13T19:31:26.379Z"
   },
   {
    "duration": 26,
    "start_time": "2022-01-13T19:31:26.401Z"
   },
   {
    "duration": 70,
    "start_time": "2022-01-13T19:31:26.430Z"
   },
   {
    "duration": 30,
    "start_time": "2022-01-13T19:31:26.503Z"
   },
   {
    "duration": 992,
    "start_time": "2022-01-13T19:31:29.051Z"
   },
   {
    "duration": 2548,
    "start_time": "2022-01-13T19:34:44.406Z"
   },
   {
    "duration": 39,
    "start_time": "2022-01-13T19:37:29.077Z"
   },
   {
    "duration": 7,
    "start_time": "2022-01-13T19:38:00.480Z"
   },
   {
    "duration": 116,
    "start_time": "2022-01-13T19:53:55.351Z"
   },
   {
    "duration": 314,
    "start_time": "2022-01-13T19:54:43.598Z"
   },
   {
    "duration": 337,
    "start_time": "2022-01-13T19:54:54.078Z"
   },
   {
    "duration": 469,
    "start_time": "2022-01-13T19:57:51.762Z"
   },
   {
    "duration": 120,
    "start_time": "2022-01-13T20:03:10.401Z"
   },
   {
    "duration": 1274,
    "start_time": "2022-01-13T20:07:14.367Z"
   },
   {
    "duration": 69,
    "start_time": "2022-01-13T20:08:02.594Z"
   },
   {
    "duration": 5217,
    "start_time": "2022-01-13T20:08:39.826Z"
   },
   {
    "duration": 5278,
    "start_time": "2022-01-13T20:09:06.044Z"
   },
   {
    "duration": 5859,
    "start_time": "2022-01-13T20:09:44.303Z"
   },
   {
    "duration": 5991,
    "start_time": "2022-01-13T20:10:01.488Z"
   },
   {
    "duration": 6413,
    "start_time": "2022-01-13T20:10:19.609Z"
   },
   {
    "duration": 5467,
    "start_time": "2022-01-13T20:10:50.766Z"
   },
   {
    "duration": 5544,
    "start_time": "2022-01-13T20:12:00.443Z"
   },
   {
    "duration": 5685,
    "start_time": "2022-01-13T20:12:30.081Z"
   },
   {
    "duration": 5856,
    "start_time": "2022-01-13T20:12:58.749Z"
   },
   {
    "duration": 5173,
    "start_time": "2022-01-13T20:13:13.903Z"
   },
   {
    "duration": 5735,
    "start_time": "2022-01-13T20:13:27.496Z"
   },
   {
    "duration": 6285,
    "start_time": "2022-01-13T20:14:00.244Z"
   },
   {
    "duration": 6580,
    "start_time": "2022-01-13T20:19:04.714Z"
   },
   {
    "duration": 350,
    "start_time": "2022-01-13T20:22:15.146Z"
   },
   {
    "duration": 57,
    "start_time": "2022-01-13T20:25:41.976Z"
   },
   {
    "duration": 483,
    "start_time": "2022-01-13T20:27:44.380Z"
   },
   {
    "duration": 82,
    "start_time": "2022-01-13T20:29:13.289Z"
   },
   {
    "duration": 20,
    "start_time": "2022-01-13T20:29:21.963Z"
   },
   {
    "duration": 5399,
    "start_time": "2022-01-13T20:33:25.721Z"
   },
   {
    "duration": 22,
    "start_time": "2022-01-13T20:46:35.319Z"
   },
   {
    "duration": 25,
    "start_time": "2022-01-13T20:50:29.937Z"
   },
   {
    "duration": 20,
    "start_time": "2022-01-13T20:51:23.317Z"
   },
   {
    "duration": 17,
    "start_time": "2022-01-13T20:51:35.377Z"
   },
   {
    "duration": 17,
    "start_time": "2022-01-13T20:51:43.055Z"
   },
   {
    "duration": 777,
    "start_time": "2022-01-13T20:51:55.555Z"
   },
   {
    "duration": 5,
    "start_time": "2022-01-13T20:52:01.929Z"
   },
   {
    "duration": 122,
    "start_time": "2022-01-13T20:52:01.948Z"
   },
   {
    "duration": 6,
    "start_time": "2022-01-13T20:52:02.074Z"
   },
   {
    "duration": 27,
    "start_time": "2022-01-13T20:52:02.104Z"
   },
   {
    "duration": 23,
    "start_time": "2022-01-13T20:52:02.135Z"
   },
   {
    "duration": 55,
    "start_time": "2022-01-13T20:52:02.161Z"
   },
   {
    "duration": 3578,
    "start_time": "2022-01-13T20:52:02.219Z"
   },
   {
    "duration": 215,
    "start_time": "2022-01-13T20:52:05.802Z"
   },
   {
    "duration": 18,
    "start_time": "2022-01-13T20:52:06.023Z"
   },
   {
    "duration": 21,
    "start_time": "2022-01-13T20:52:06.045Z"
   },
   {
    "duration": 805,
    "start_time": "2022-01-13T20:52:06.069Z"
   },
   {
    "duration": 10,
    "start_time": "2022-01-13T20:52:06.876Z"
   },
   {
    "duration": 39,
    "start_time": "2022-01-13T20:52:06.888Z"
   },
   {
    "duration": 42,
    "start_time": "2022-01-13T20:52:06.930Z"
   },
   {
    "duration": 58,
    "start_time": "2022-01-13T20:52:06.975Z"
   },
   {
    "duration": 1090,
    "start_time": "2022-01-13T20:52:07.035Z"
   },
   {
    "duration": 2682,
    "start_time": "2022-01-13T20:52:08.128Z"
   },
   {
    "duration": 9,
    "start_time": "2022-01-13T20:52:10.813Z"
   },
   {
    "duration": 309,
    "start_time": "2022-01-13T20:52:10.824Z"
   },
   {
    "duration": 388,
    "start_time": "2022-01-13T20:52:11.135Z"
   },
   {
    "duration": 6953,
    "start_time": "2022-01-13T20:52:11.525Z"
   },
   {
    "duration": 38,
    "start_time": "2022-01-13T20:52:18.481Z"
   },
   {
    "duration": 30,
    "start_time": "2022-01-13T20:52:18.522Z"
   },
   {
    "duration": 28,
    "start_time": "2022-01-13T20:52:34.904Z"
   },
   {
    "duration": 19,
    "start_time": "2022-01-13T20:52:55.837Z"
   },
   {
    "duration": 4,
    "start_time": "2022-01-13T20:53:34.185Z"
   },
   {
    "duration": 124,
    "start_time": "2022-01-13T20:53:34.207Z"
   },
   {
    "duration": 6,
    "start_time": "2022-01-13T20:53:34.334Z"
   },
   {
    "duration": 28,
    "start_time": "2022-01-13T20:53:34.342Z"
   },
   {
    "duration": 36,
    "start_time": "2022-01-13T20:53:34.372Z"
   },
   {
    "duration": 14,
    "start_time": "2022-01-13T20:53:34.419Z"
   },
   {
    "duration": 3532,
    "start_time": "2022-01-13T20:53:34.436Z"
   },
   {
    "duration": 208,
    "start_time": "2022-01-13T20:53:37.971Z"
   },
   {
    "duration": 34,
    "start_time": "2022-01-13T20:53:38.182Z"
   },
   {
    "duration": 20,
    "start_time": "2022-01-13T20:53:38.219Z"
   },
   {
    "duration": 800,
    "start_time": "2022-01-13T20:53:38.242Z"
   },
   {
    "duration": 10,
    "start_time": "2022-01-13T20:53:39.045Z"
   },
   {
    "duration": 26,
    "start_time": "2022-01-13T20:53:39.058Z"
   },
   {
    "duration": 50,
    "start_time": "2022-01-13T20:53:39.104Z"
   },
   {
    "duration": 58,
    "start_time": "2022-01-13T20:53:39.158Z"
   },
   {
    "duration": 1070,
    "start_time": "2022-01-13T20:53:39.219Z"
   },
   {
    "duration": 2792,
    "start_time": "2022-01-13T20:53:40.292Z"
   },
   {
    "duration": 13,
    "start_time": "2022-01-13T20:53:43.087Z"
   },
   {
    "duration": 289,
    "start_time": "2022-01-13T20:53:43.104Z"
   },
   {
    "duration": 413,
    "start_time": "2022-01-13T20:53:43.400Z"
   },
   {
    "duration": 8344,
    "start_time": "2022-01-13T20:53:43.816Z"
   },
   {
    "duration": 22,
    "start_time": "2022-01-13T20:53:52.163Z"
   },
   {
    "duration": 28,
    "start_time": "2022-01-13T20:53:52.188Z"
   },
   {
    "duration": 10,
    "start_time": "2022-01-13T20:53:52.220Z"
   },
   {
    "duration": 10,
    "start_time": "2022-01-13T20:54:00.211Z"
   },
   {
    "duration": 9,
    "start_time": "2022-01-13T20:54:08.479Z"
   },
   {
    "duration": 9,
    "start_time": "2022-01-13T20:54:12.930Z"
   },
   {
    "duration": 19,
    "start_time": "2022-01-13T20:55:09.942Z"
   },
   {
    "duration": 1522,
    "start_time": "2022-01-14T18:26:59.954Z"
   },
   {
    "duration": 112,
    "start_time": "2022-01-14T18:27:01.479Z"
   },
   {
    "duration": 4,
    "start_time": "2022-01-14T18:27:01.594Z"
   },
   {
    "duration": 21,
    "start_time": "2022-01-14T18:27:01.601Z"
   },
   {
    "duration": 47,
    "start_time": "2022-01-14T18:27:01.624Z"
   },
   {
    "duration": 17,
    "start_time": "2022-01-14T18:27:01.673Z"
   },
   {
    "duration": 3084,
    "start_time": "2022-01-14T18:27:01.693Z"
   },
   {
    "duration": 187,
    "start_time": "2022-01-14T18:27:04.783Z"
   },
   {
    "duration": 18,
    "start_time": "2022-01-14T18:27:04.975Z"
   },
   {
    "duration": 21,
    "start_time": "2022-01-14T18:27:04.995Z"
   },
   {
    "duration": 726,
    "start_time": "2022-01-14T18:27:05.019Z"
   },
   {
    "duration": 16,
    "start_time": "2022-01-14T18:27:05.748Z"
   },
   {
    "duration": 25,
    "start_time": "2022-01-14T18:27:05.766Z"
   },
   {
    "duration": 75,
    "start_time": "2022-01-14T18:27:05.793Z"
   },
   {
    "duration": 32,
    "start_time": "2022-01-14T18:27:05.871Z"
   },
   {
    "duration": 991,
    "start_time": "2022-01-14T18:27:05.906Z"
   },
   {
    "duration": 2443,
    "start_time": "2022-01-14T18:27:06.900Z"
   },
   {
    "duration": 19,
    "start_time": "2022-01-14T18:27:09.345Z"
   },
   {
    "duration": 264,
    "start_time": "2022-01-14T18:27:09.367Z"
   },
   {
    "duration": 369,
    "start_time": "2022-01-14T18:27:09.634Z"
   },
   {
    "duration": 6895,
    "start_time": "2022-01-14T18:27:10.005Z"
   },
   {
    "duration": 24,
    "start_time": "2022-01-14T18:27:16.902Z"
   },
   {
    "duration": 35,
    "start_time": "2022-01-14T18:27:16.930Z"
   },
   {
    "duration": 381,
    "start_time": "2022-01-14T18:27:45.256Z"
   },
   {
    "duration": 5082,
    "start_time": "2022-01-14T18:28:05.732Z"
   },
   {
    "duration": 31,
    "start_time": "2022-01-14T18:31:28.961Z"
   },
   {
    "duration": 43,
    "start_time": "2022-01-14T18:31:38.450Z"
   },
   {
    "duration": 1550,
    "start_time": "2022-01-14T18:31:54.016Z"
   },
   {
    "duration": 1704,
    "start_time": "2022-01-14T18:32:46.121Z"
   },
   {
    "duration": 398,
    "start_time": "2022-01-14T18:35:45.180Z"
   },
   {
    "duration": 1891,
    "start_time": "2022-01-14T18:36:20.145Z"
   },
   {
    "duration": 355,
    "start_time": "2022-01-14T18:36:48.381Z"
   },
   {
    "duration": 1429,
    "start_time": "2022-01-14T18:37:04.596Z"
   },
   {
    "duration": 1480,
    "start_time": "2022-01-14T18:39:38.711Z"
   },
   {
    "duration": 6462,
    "start_time": "2022-01-14T18:40:08.403Z"
   },
   {
    "duration": 6624,
    "start_time": "2022-01-14T18:40:38.077Z"
   },
   {
    "duration": 6402,
    "start_time": "2022-01-14T18:41:02.314Z"
   },
   {
    "duration": 55,
    "start_time": "2022-01-14T18:45:25.841Z"
   },
   {
    "duration": 544,
    "start_time": "2022-01-14T18:47:30.965Z"
   },
   {
    "duration": -697,
    "start_time": "2022-01-14T18:57:19.463Z"
   },
   {
    "duration": -777,
    "start_time": "2022-01-14T18:57:19.640Z"
   },
   {
    "duration": -787,
    "start_time": "2022-01-14T18:57:19.652Z"
   },
   {
    "duration": -797,
    "start_time": "2022-01-14T18:57:19.663Z"
   },
   {
    "duration": -806,
    "start_time": "2022-01-14T18:57:19.674Z"
   },
   {
    "duration": -816,
    "start_time": "2022-01-14T18:57:19.685Z"
   },
   {
    "duration": -826,
    "start_time": "2022-01-14T18:57:19.696Z"
   },
   {
    "duration": -836,
    "start_time": "2022-01-14T18:57:19.708Z"
   },
   {
    "duration": -877,
    "start_time": "2022-01-14T18:57:19.750Z"
   },
   {
    "duration": -889,
    "start_time": "2022-01-14T18:57:19.764Z"
   },
   {
    "duration": -899,
    "start_time": "2022-01-14T18:57:19.775Z"
   },
   {
    "duration": -911,
    "start_time": "2022-01-14T18:57:19.788Z"
   },
   {
    "duration": -920,
    "start_time": "2022-01-14T18:57:19.799Z"
   },
   {
    "duration": -934,
    "start_time": "2022-01-14T18:57:19.815Z"
   },
   {
    "duration": -944,
    "start_time": "2022-01-14T18:57:19.826Z"
   },
   {
    "duration": -955,
    "start_time": "2022-01-14T18:57:19.839Z"
   },
   {
    "duration": -1005,
    "start_time": "2022-01-14T18:57:19.890Z"
   },
   {
    "duration": -1017,
    "start_time": "2022-01-14T18:57:19.903Z"
   },
   {
    "duration": -1029,
    "start_time": "2022-01-14T18:57:19.916Z"
   },
   {
    "duration": -1043,
    "start_time": "2022-01-14T18:57:19.931Z"
   },
   {
    "duration": -1054,
    "start_time": "2022-01-14T18:57:19.944Z"
   },
   {
    "duration": -1064,
    "start_time": "2022-01-14T18:57:19.955Z"
   },
   {
    "duration": -1072,
    "start_time": "2022-01-14T18:57:19.964Z"
   },
   {
    "duration": 5,
    "start_time": "2022-01-14T18:57:36.508Z"
   },
   {
    "duration": 124,
    "start_time": "2022-01-14T18:57:36.519Z"
   },
   {
    "duration": 18,
    "start_time": "2022-01-14T18:57:36.646Z"
   },
   {
    "duration": 21,
    "start_time": "2022-01-14T18:57:36.667Z"
   },
   {
    "duration": 30,
    "start_time": "2022-01-14T18:57:36.692Z"
   },
   {
    "duration": 50,
    "start_time": "2022-01-14T18:57:36.726Z"
   },
   {
    "duration": 3538,
    "start_time": "2022-01-14T18:57:36.779Z"
   },
   {
    "duration": 189,
    "start_time": "2022-01-14T18:57:40.321Z"
   },
   {
    "duration": 16,
    "start_time": "2022-01-14T18:57:40.516Z"
   },
   {
    "duration": 46,
    "start_time": "2022-01-14T18:57:40.536Z"
   },
   {
    "duration": 804,
    "start_time": "2022-01-14T18:57:40.585Z"
   },
   {
    "duration": 10,
    "start_time": "2022-01-14T18:57:41.392Z"
   },
   {
    "duration": 25,
    "start_time": "2022-01-14T18:57:41.404Z"
   },
   {
    "duration": 44,
    "start_time": "2022-01-14T18:57:41.464Z"
   },
   {
    "duration": 53,
    "start_time": "2022-01-14T18:57:41.511Z"
   },
   {
    "duration": 1002,
    "start_time": "2022-01-14T18:57:41.567Z"
   },
   {
    "duration": 2637,
    "start_time": "2022-01-14T18:57:42.571Z"
   },
   {
    "duration": 6,
    "start_time": "2022-01-14T18:57:45.211Z"
   },
   {
    "duration": 506,
    "start_time": "2022-01-14T18:57:45.220Z"
   },
   {
    "duration": 604,
    "start_time": "2022-01-14T18:57:45.729Z"
   },
   {
    "duration": 9710,
    "start_time": "2022-01-14T18:57:46.336Z"
   },
   {
    "duration": 1388,
    "start_time": "2022-01-14T18:58:03.221Z"
   },
   {
    "duration": 1507,
    "start_time": "2022-01-14T19:00:12.626Z"
   },
   {
    "duration": 1647,
    "start_time": "2022-01-14T19:03:36.854Z"
   },
   {
    "duration": 1516,
    "start_time": "2022-01-14T19:03:51.084Z"
   },
   {
    "duration": 84,
    "start_time": "2022-01-14T19:09:44.470Z"
   },
   {
    "duration": 11,
    "start_time": "2022-01-14T19:12:20.816Z"
   },
   {
    "duration": 9,
    "start_time": "2022-01-14T19:12:35.696Z"
   },
   {
    "duration": 19,
    "start_time": "2022-01-14T19:12:41.806Z"
   },
   {
    "duration": 29,
    "start_time": "2022-01-14T19:12:55.996Z"
   },
   {
    "duration": 11,
    "start_time": "2022-01-14T19:13:00.972Z"
   },
   {
    "duration": 215,
    "start_time": "2022-01-14T19:13:00.999Z"
   },
   {
    "duration": 26,
    "start_time": "2022-01-14T19:13:01.232Z"
   },
   {
    "duration": 54,
    "start_time": "2022-01-14T19:13:01.268Z"
   },
   {
    "duration": 64,
    "start_time": "2022-01-14T19:13:01.326Z"
   },
   {
    "duration": 23,
    "start_time": "2022-01-14T19:13:01.393Z"
   },
   {
    "duration": 3578,
    "start_time": "2022-01-14T19:13:01.420Z"
   },
   {
    "duration": 190,
    "start_time": "2022-01-14T19:13:05.001Z"
   },
   {
    "duration": 17,
    "start_time": "2022-01-14T19:13:05.195Z"
   },
   {
    "duration": 48,
    "start_time": "2022-01-14T19:13:05.215Z"
   },
   {
    "duration": 718,
    "start_time": "2022-01-14T19:13:05.265Z"
   },
   {
    "duration": 11,
    "start_time": "2022-01-14T19:13:05.986Z"
   },
   {
    "duration": 27,
    "start_time": "2022-01-14T19:13:06.000Z"
   },
   {
    "duration": 79,
    "start_time": "2022-01-14T19:13:06.030Z"
   },
   {
    "duration": 52,
    "start_time": "2022-01-14T19:13:06.112Z"
   },
   {
    "duration": 1016,
    "start_time": "2022-01-14T19:13:06.167Z"
   },
   {
    "duration": 2953,
    "start_time": "2022-01-14T19:13:07.185Z"
   },
   {
    "duration": 7,
    "start_time": "2022-01-14T19:13:10.140Z"
   },
   {
    "duration": 305,
    "start_time": "2022-01-14T19:13:10.150Z"
   },
   {
    "duration": 401,
    "start_time": "2022-01-14T19:13:10.463Z"
   },
   {
    "duration": 6558,
    "start_time": "2022-01-14T19:13:10.867Z"
   },
   {
    "duration": 1708,
    "start_time": "2022-01-14T19:13:17.429Z"
   },
   {
    "duration": 47,
    "start_time": "2022-01-14T19:13:19.141Z"
   },
   {
    "duration": 485,
    "start_time": "2022-01-14T19:13:54.735Z"
   },
   {
    "duration": 309,
    "start_time": "2022-01-14T19:13:59.000Z"
   },
   {
    "duration": 893,
    "start_time": "2022-01-14T19:14:11.440Z"
   },
   {
    "duration": 453,
    "start_time": "2022-01-14T19:15:03.050Z"
   },
   {
    "duration": 477,
    "start_time": "2022-01-14T19:16:14.412Z"
   },
   {
    "duration": 5,
    "start_time": "2022-01-14T19:18:41.794Z"
   },
   {
    "duration": 106,
    "start_time": "2022-01-14T19:18:41.816Z"
   },
   {
    "duration": 4,
    "start_time": "2022-01-14T19:18:41.925Z"
   },
   {
    "duration": 41,
    "start_time": "2022-01-14T19:18:41.932Z"
   },
   {
    "duration": 20,
    "start_time": "2022-01-14T19:18:41.976Z"
   },
   {
    "duration": 13,
    "start_time": "2022-01-14T19:18:41.998Z"
   },
   {
    "duration": 3334,
    "start_time": "2022-01-14T19:18:42.014Z"
   },
   {
    "duration": 199,
    "start_time": "2022-01-14T19:18:45.351Z"
   },
   {
    "duration": 16,
    "start_time": "2022-01-14T19:18:45.563Z"
   },
   {
    "duration": 21,
    "start_time": "2022-01-14T19:18:45.583Z"
   },
   {
    "duration": 731,
    "start_time": "2022-01-14T19:18:45.606Z"
   },
   {
    "duration": 27,
    "start_time": "2022-01-14T19:18:46.340Z"
   },
   {
    "duration": 26,
    "start_time": "2022-01-14T19:18:46.370Z"
   },
   {
    "duration": 69,
    "start_time": "2022-01-14T19:18:46.398Z"
   },
   {
    "duration": 31,
    "start_time": "2022-01-14T19:18:46.470Z"
   },
   {
    "duration": 1026,
    "start_time": "2022-01-14T19:18:46.503Z"
   },
   {
    "duration": 2733,
    "start_time": "2022-01-14T19:18:47.531Z"
   },
   {
    "duration": 7,
    "start_time": "2022-01-14T19:18:50.266Z"
   },
   {
    "duration": 284,
    "start_time": "2022-01-14T19:18:50.275Z"
   },
   {
    "duration": 367,
    "start_time": "2022-01-14T19:18:50.562Z"
   },
   {
    "duration": 6448,
    "start_time": "2022-01-14T19:18:50.932Z"
   },
   {
    "duration": 1695,
    "start_time": "2022-01-14T19:18:57.382Z"
   },
   {
    "duration": 478,
    "start_time": "2022-01-14T19:19:03.773Z"
   },
   {
    "duration": 83,
    "start_time": "2022-01-14T19:27:21.728Z"
   },
   {
    "duration": 294,
    "start_time": "2022-01-14T19:31:08.954Z"
   },
   {
    "duration": 18,
    "start_time": "2022-01-14T19:31:14.110Z"
   },
   {
    "duration": 7,
    "start_time": "2022-01-14T19:37:46.815Z"
   },
   {
    "duration": 15,
    "start_time": "2022-01-14T19:38:04.650Z"
   },
   {
    "duration": 17,
    "start_time": "2022-01-14T19:38:30.699Z"
   },
   {
    "duration": 14,
    "start_time": "2022-01-14T19:39:10.273Z"
   },
   {
    "duration": 16,
    "start_time": "2022-01-14T19:39:21.647Z"
   },
   {
    "duration": 13,
    "start_time": "2022-01-14T19:40:00.969Z"
   },
   {
    "duration": 7,
    "start_time": "2022-01-14T19:40:10.929Z"
   },
   {
    "duration": 5,
    "start_time": "2022-01-14T19:40:33.124Z"
   },
   {
    "duration": 104,
    "start_time": "2022-01-14T19:40:33.165Z"
   },
   {
    "duration": 4,
    "start_time": "2022-01-14T19:40:33.273Z"
   },
   {
    "duration": 20,
    "start_time": "2022-01-14T19:40:33.280Z"
   },
   {
    "duration": 21,
    "start_time": "2022-01-14T19:40:33.303Z"
   },
   {
    "duration": 14,
    "start_time": "2022-01-14T19:40:33.376Z"
   },
   {
    "duration": 3204,
    "start_time": "2022-01-14T19:40:33.397Z"
   },
   {
    "duration": 182,
    "start_time": "2022-01-14T19:40:36.604Z"
   },
   {
    "duration": 17,
    "start_time": "2022-01-14T19:40:36.789Z"
   },
   {
    "duration": 21,
    "start_time": "2022-01-14T19:40:36.809Z"
   },
   {
    "duration": 732,
    "start_time": "2022-01-14T19:40:36.832Z"
   },
   {
    "duration": 7,
    "start_time": "2022-01-14T19:40:37.567Z"
   },
   {
    "duration": 25,
    "start_time": "2022-01-14T19:40:37.576Z"
   },
   {
    "duration": 72,
    "start_time": "2022-01-14T19:40:37.604Z"
   },
   {
    "duration": 29,
    "start_time": "2022-01-14T19:40:37.679Z"
   },
   {
    "duration": 1113,
    "start_time": "2022-01-14T19:40:37.711Z"
   },
   {
    "duration": 2693,
    "start_time": "2022-01-14T19:40:38.826Z"
   },
   {
    "duration": 6,
    "start_time": "2022-01-14T19:40:41.521Z"
   },
   {
    "duration": 270,
    "start_time": "2022-01-14T19:40:41.529Z"
   },
   {
    "duration": 353,
    "start_time": "2022-01-14T19:40:41.801Z"
   },
   {
    "duration": 6233,
    "start_time": "2022-01-14T19:40:42.157Z"
   },
   {
    "duration": 1480,
    "start_time": "2022-01-14T19:40:48.393Z"
   },
   {
    "duration": 481,
    "start_time": "2022-01-14T19:40:49.875Z"
   },
   {
    "duration": 7,
    "start_time": "2022-01-14T19:40:50.363Z"
   },
   {
    "duration": 7,
    "start_time": "2022-01-14T19:41:06.184Z"
   },
   {
    "duration": 7,
    "start_time": "2022-01-14T19:41:12.876Z"
   },
   {
    "duration": 17,
    "start_time": "2022-01-14T19:41:36.885Z"
   },
   {
    "duration": 8,
    "start_time": "2022-01-14T19:42:09.738Z"
   },
   {
    "duration": 14,
    "start_time": "2022-01-14T19:42:28.828Z"
   },
   {
    "duration": 15,
    "start_time": "2022-01-14T19:42:37.571Z"
   },
   {
    "duration": 290,
    "start_time": "2022-01-14T19:42:49.800Z"
   },
   {
    "duration": 283,
    "start_time": "2022-01-14T19:43:18.571Z"
   },
   {
    "duration": 17,
    "start_time": "2022-01-14T19:43:40.460Z"
   },
   {
    "duration": 15,
    "start_time": "2022-01-14T19:43:45.924Z"
   },
   {
    "duration": 11,
    "start_time": "2022-01-14T19:44:09.377Z"
   },
   {
    "duration": 277,
    "start_time": "2022-01-14T19:44:43.482Z"
   },
   {
    "duration": 23,
    "start_time": "2022-01-14T19:45:15.557Z"
   },
   {
    "duration": 15,
    "start_time": "2022-01-14T19:46:15.083Z"
   },
   {
    "duration": 15,
    "start_time": "2022-01-14T19:47:01.776Z"
   },
   {
    "duration": 301,
    "start_time": "2022-01-14T19:50:59.550Z"
   },
   {
    "duration": 82,
    "start_time": "2022-01-14T19:51:08.897Z"
   },
   {
    "duration": 8,
    "start_time": "2022-01-14T19:51:13.764Z"
   },
   {
    "duration": 10,
    "start_time": "2022-01-14T19:51:26.205Z"
   },
   {
    "duration": 256,
    "start_time": "2022-01-14T19:51:50.517Z"
   },
   {
    "duration": 10,
    "start_time": "2022-01-14T19:52:04.394Z"
   },
   {
    "duration": 49,
    "start_time": "2022-01-14T19:53:31.584Z"
   },
   {
    "duration": 56,
    "start_time": "2022-01-14T19:54:14.881Z"
   },
   {
    "duration": 20,
    "start_time": "2022-01-14T19:59:46.157Z"
   },
   {
    "duration": 172,
    "start_time": "2022-01-14T20:05:21.082Z"
   },
   {
    "duration": 92,
    "start_time": "2022-01-14T20:05:28.478Z"
   },
   {
    "duration": 34,
    "start_time": "2022-01-14T20:05:34.874Z"
   },
   {
    "duration": 535,
    "start_time": "2022-01-14T20:05:59.938Z"
   },
   {
    "duration": 649,
    "start_time": "2022-01-14T20:06:20.647Z"
   },
   {
    "duration": 652,
    "start_time": "2022-01-14T20:07:05.859Z"
   },
   {
    "duration": 632,
    "start_time": "2022-01-14T20:07:31.905Z"
   },
   {
    "duration": 249,
    "start_time": "2022-01-14T20:14:51.955Z"
   },
   {
    "duration": 734,
    "start_time": "2022-01-14T20:15:00.243Z"
   },
   {
    "duration": 7,
    "start_time": "2022-01-14T20:15:06.747Z"
   },
   {
    "duration": 275,
    "start_time": "2022-01-14T20:15:49.131Z"
   },
   {
    "duration": 240,
    "start_time": "2022-01-14T20:16:08.667Z"
   },
   {
    "duration": 5,
    "start_time": "2022-01-14T20:16:26.031Z"
   },
   {
    "duration": 24,
    "start_time": "2022-01-14T20:16:48.174Z"
   },
   {
    "duration": 637,
    "start_time": "2022-01-14T20:16:56.044Z"
   },
   {
    "duration": 369,
    "start_time": "2022-01-14T20:17:06.617Z"
   },
   {
    "duration": 54,
    "start_time": "2022-01-14T20:18:34.315Z"
   },
   {
    "duration": 18,
    "start_time": "2022-01-14T20:43:07.572Z"
   },
   {
    "duration": 37,
    "start_time": "2022-01-14T20:44:56.660Z"
   },
   {
    "duration": 238,
    "start_time": "2022-01-14T20:47:11.064Z"
   },
   {
    "duration": 15,
    "start_time": "2022-01-14T20:47:28.475Z"
   },
   {
    "duration": 9,
    "start_time": "2022-01-14T20:47:42.594Z"
   },
   {
    "duration": 5,
    "start_time": "2022-01-14T20:48:57.293Z"
   },
   {
    "duration": 283,
    "start_time": "2022-01-14T20:52:13.716Z"
   },
   {
    "duration": 3843,
    "start_time": "2022-01-14T20:52:41.087Z"
   },
   {
    "duration": 4862,
    "start_time": "2022-01-14T20:54:08.760Z"
   },
   {
    "duration": 3510,
    "start_time": "2022-01-14T20:54:54.990Z"
   },
   {
    "duration": 3760,
    "start_time": "2022-01-14T20:55:36.032Z"
   },
   {
    "duration": 1059,
    "start_time": "2022-01-14T20:55:53.261Z"
   },
   {
    "duration": 2739,
    "start_time": "2022-01-14T20:56:18.052Z"
   },
   {
    "duration": 1810,
    "start_time": "2022-01-14T21:08:11.786Z"
   },
   {
    "duration": 445,
    "start_time": "2022-01-14T21:08:56.417Z"
   },
   {
    "duration": 1936,
    "start_time": "2022-01-14T21:13:14.526Z"
   },
   {
    "duration": 360,
    "start_time": "2022-01-14T21:14:51.770Z"
   },
   {
    "duration": 675,
    "start_time": "2022-01-14T21:16:05.879Z"
   },
   {
    "duration": 713,
    "start_time": "2022-01-14T21:16:13.492Z"
   },
   {
    "duration": 667,
    "start_time": "2022-01-14T21:16:27.071Z"
   },
   {
    "duration": 664,
    "start_time": "2022-01-14T21:17:45.229Z"
   },
   {
    "duration": 5365,
    "start_time": "2022-01-14T21:19:31.543Z"
   },
   {
    "duration": 5579,
    "start_time": "2022-01-14T21:19:44.003Z"
   },
   {
    "duration": 41,
    "start_time": "2022-01-14T21:20:00.688Z"
   },
   {
    "duration": 48,
    "start_time": "2022-01-14T21:20:06.121Z"
   },
   {
    "duration": 20,
    "start_time": "2022-01-14T21:20:17.796Z"
   },
   {
    "duration": 22,
    "start_time": "2022-01-14T21:20:57.721Z"
   },
   {
    "duration": 42,
    "start_time": "2022-01-14T21:21:21.791Z"
   },
   {
    "duration": 21,
    "start_time": "2022-01-14T21:21:50.872Z"
   },
   {
    "duration": 27,
    "start_time": "2022-01-14T21:22:13.906Z"
   },
   {
    "duration": 21,
    "start_time": "2022-01-14T21:22:39.831Z"
   },
   {
    "duration": 22,
    "start_time": "2022-01-14T21:23:22.687Z"
   },
   {
    "duration": 81,
    "start_time": "2022-01-14T21:23:52.136Z"
   },
   {
    "duration": 420,
    "start_time": "2022-01-14T21:24:11.094Z"
   },
   {
    "duration": 86,
    "start_time": "2022-01-14T21:25:22.562Z"
   },
   {
    "duration": 268,
    "start_time": "2022-01-14T21:32:10.635Z"
   },
   {
    "duration": 84,
    "start_time": "2022-01-14T21:37:37.160Z"
   },
   {
    "duration": 42,
    "start_time": "2022-01-14T21:38:21.130Z"
   },
   {
    "duration": 22,
    "start_time": "2022-01-14T21:38:35.054Z"
   },
   {
    "duration": 60,
    "start_time": "2022-01-14T21:38:59.543Z"
   },
   {
    "duration": 20,
    "start_time": "2022-01-14T21:39:25.273Z"
   },
   {
    "duration": 15,
    "start_time": "2022-01-14T21:39:51.921Z"
   },
   {
    "duration": 286,
    "start_time": "2022-01-14T21:41:31.389Z"
   },
   {
    "duration": 260,
    "start_time": "2022-01-14T21:42:29.610Z"
   },
   {
    "duration": 26,
    "start_time": "2022-01-14T21:42:46.442Z"
   },
   {
    "duration": 5880,
    "start_time": "2022-01-14T21:43:22.161Z"
   },
   {
    "duration": 25,
    "start_time": "2022-01-14T21:43:44.314Z"
   },
   {
    "duration": 26,
    "start_time": "2022-01-14T21:43:53.779Z"
   },
   {
    "duration": 24,
    "start_time": "2022-01-14T21:44:12.815Z"
   },
   {
    "duration": 25,
    "start_time": "2022-01-14T21:45:10.054Z"
   },
   {
    "duration": 24,
    "start_time": "2022-01-14T21:46:06.684Z"
   },
   {
    "duration": 25,
    "start_time": "2022-01-14T21:46:58.594Z"
   },
   {
    "duration": 24,
    "start_time": "2022-01-14T21:47:34.965Z"
   },
   {
    "duration": 24,
    "start_time": "2022-01-14T21:48:10.971Z"
   },
   {
    "duration": 603,
    "start_time": "2022-01-14T21:48:49.694Z"
   },
   {
    "duration": 271,
    "start_time": "2022-01-14T21:49:01.529Z"
   },
   {
    "duration": 432,
    "start_time": "2022-01-14T21:49:42.201Z"
   },
   {
    "duration": 893,
    "start_time": "2022-01-14T21:50:16.840Z"
   },
   {
    "duration": 5233,
    "start_time": "2022-01-14T21:51:24.532Z"
   },
   {
    "duration": 1272,
    "start_time": "2022-01-14T21:51:37.314Z"
   },
   {
    "duration": 1743,
    "start_time": "2022-01-14T21:52:00.008Z"
   },
   {
    "duration": -665,
    "start_time": "2022-01-14T21:56:38.420Z"
   },
   {
    "duration": -678,
    "start_time": "2022-01-14T21:56:38.434Z"
   },
   {
    "duration": -693,
    "start_time": "2022-01-14T21:56:38.451Z"
   },
   {
    "duration": 1481,
    "start_time": "2022-01-14T21:56:46.457Z"
   },
   {
    "duration": 113,
    "start_time": "2022-01-14T21:56:47.941Z"
   },
   {
    "duration": 4,
    "start_time": "2022-01-14T21:56:48.063Z"
   },
   {
    "duration": 21,
    "start_time": "2022-01-14T21:56:48.070Z"
   },
   {
    "duration": 21,
    "start_time": "2022-01-14T21:56:48.093Z"
   },
   {
    "duration": 12,
    "start_time": "2022-01-14T21:56:48.116Z"
   },
   {
    "duration": 3295,
    "start_time": "2022-01-14T21:56:48.131Z"
   },
   {
    "duration": 189,
    "start_time": "2022-01-14T21:56:51.432Z"
   },
   {
    "duration": 18,
    "start_time": "2022-01-14T21:56:51.625Z"
   },
   {
    "duration": 34,
    "start_time": "2022-01-14T21:56:51.645Z"
   },
   {
    "duration": 807,
    "start_time": "2022-01-14T21:56:51.682Z"
   },
   {
    "duration": 8,
    "start_time": "2022-01-14T21:56:52.491Z"
   },
   {
    "duration": 26,
    "start_time": "2022-01-14T21:56:52.501Z"
   },
   {
    "duration": 71,
    "start_time": "2022-01-14T21:56:52.530Z"
   },
   {
    "duration": 29,
    "start_time": "2022-01-14T21:56:52.604Z"
   },
   {
    "duration": 1061,
    "start_time": "2022-01-14T21:56:52.635Z"
   },
   {
    "duration": 2809,
    "start_time": "2022-01-14T21:56:53.699Z"
   },
   {
    "duration": 7,
    "start_time": "2022-01-14T21:56:56.510Z"
   },
   {
    "duration": 274,
    "start_time": "2022-01-14T21:56:56.519Z"
   },
   {
    "duration": 341,
    "start_time": "2022-01-14T21:56:56.795Z"
   },
   {
    "duration": 6881,
    "start_time": "2022-01-14T21:56:57.139Z"
   },
   {
    "duration": 1625,
    "start_time": "2022-01-14T21:57:04.022Z"
   },
   {
    "duration": 506,
    "start_time": "2022-01-14T21:57:05.651Z"
   },
   {
    "duration": 21,
    "start_time": "2022-01-14T21:57:06.163Z"
   },
   {
    "duration": 647,
    "start_time": "2022-01-14T21:57:06.186Z"
   },
   {
    "duration": 27,
    "start_time": "2022-01-14T21:57:06.836Z"
   },
   {
    "duration": 770,
    "start_time": "2022-01-14T21:57:06.866Z"
   },
   {
    "duration": -777,
    "start_time": "2022-01-14T21:57:08.415Z"
   },
   {
    "duration": -799,
    "start_time": "2022-01-14T21:57:08.439Z"
   },
   {
    "duration": 15,
    "start_time": "2022-01-14T21:57:56.009Z"
   },
   {
    "duration": 642,
    "start_time": "2022-01-14T21:58:12.912Z"
   },
   {
    "duration": 699,
    "start_time": "2022-01-14T21:59:02.049Z"
   },
   {
    "duration": 4,
    "start_time": "2022-01-14T21:59:19.894Z"
   },
   {
    "duration": 1828,
    "start_time": "2022-01-14T21:59:27.097Z"
   },
   {
    "duration": 255,
    "start_time": "2022-01-14T21:59:34.917Z"
   },
   {
    "duration": 263,
    "start_time": "2022-01-14T21:59:58.198Z"
   },
   {
    "duration": 314,
    "start_time": "2022-01-14T22:01:28.900Z"
   },
   {
    "duration": 1479,
    "start_time": "2022-01-14T22:03:30.265Z"
   },
   {
    "duration": 116,
    "start_time": "2022-01-14T22:03:31.747Z"
   },
   {
    "duration": 4,
    "start_time": "2022-01-14T22:03:31.866Z"
   },
   {
    "duration": 20,
    "start_time": "2022-01-14T22:03:31.873Z"
   },
   {
    "duration": 22,
    "start_time": "2022-01-14T22:03:31.895Z"
   },
   {
    "duration": 49,
    "start_time": "2022-01-14T22:03:31.920Z"
   },
   {
    "duration": 3173,
    "start_time": "2022-01-14T22:03:31.971Z"
   },
   {
    "duration": 182,
    "start_time": "2022-01-14T22:03:35.150Z"
   },
   {
    "duration": 28,
    "start_time": "2022-01-14T22:03:35.336Z"
   },
   {
    "duration": 23,
    "start_time": "2022-01-14T22:03:35.367Z"
   },
   {
    "duration": 764,
    "start_time": "2022-01-14T22:03:35.392Z"
   },
   {
    "duration": 8,
    "start_time": "2022-01-14T22:03:36.162Z"
   },
   {
    "duration": 25,
    "start_time": "2022-01-14T22:03:36.173Z"
   },
   {
    "duration": 71,
    "start_time": "2022-01-14T22:03:36.200Z"
   },
   {
    "duration": 28,
    "start_time": "2022-01-14T22:03:36.274Z"
   },
   {
    "duration": 999,
    "start_time": "2022-01-14T22:03:36.305Z"
   },
   {
    "duration": 2697,
    "start_time": "2022-01-14T22:03:37.307Z"
   },
   {
    "duration": 7,
    "start_time": "2022-01-14T22:03:40.006Z"
   },
   {
    "duration": 277,
    "start_time": "2022-01-14T22:03:40.015Z"
   },
   {
    "duration": 353,
    "start_time": "2022-01-14T22:03:40.294Z"
   },
   {
    "duration": 6347,
    "start_time": "2022-01-14T22:03:40.649Z"
   },
   {
    "duration": 1583,
    "start_time": "2022-01-14T22:03:46.998Z"
   },
   {
    "duration": 486,
    "start_time": "2022-01-14T22:03:48.587Z"
   },
   {
    "duration": 21,
    "start_time": "2022-01-14T22:03:49.076Z"
   },
   {
    "duration": 672,
    "start_time": "2022-01-14T22:03:49.099Z"
   },
   {
    "duration": 14,
    "start_time": "2022-01-14T22:03:49.774Z"
   },
   {
    "duration": 5,
    "start_time": "2022-01-14T22:03:49.791Z"
   },
   {
    "duration": 87,
    "start_time": "2022-01-14T22:03:49.799Z"
   },
   {
    "duration": -1010,
    "start_time": "2022-01-14T22:03:50.899Z"
   },
   {
    "duration": -1033,
    "start_time": "2022-01-14T22:03:50.924Z"
   },
   {
    "duration": 30,
    "start_time": "2022-01-14T22:05:31.947Z"
   },
   {
    "duration": 4,
    "start_time": "2022-01-14T22:05:31.981Z"
   },
   {
    "duration": 120,
    "start_time": "2022-01-14T22:05:31.988Z"
   },
   {
    "duration": 4,
    "start_time": "2022-01-14T22:05:32.111Z"
   },
   {
    "duration": 20,
    "start_time": "2022-01-14T22:05:32.117Z"
   },
   {
    "duration": 21,
    "start_time": "2022-01-14T22:05:32.163Z"
   },
   {
    "duration": 13,
    "start_time": "2022-01-14T22:05:32.188Z"
   },
   {
    "duration": 3381,
    "start_time": "2022-01-14T22:05:32.205Z"
   },
   {
    "duration": 184,
    "start_time": "2022-01-14T22:05:35.589Z"
   },
   {
    "duration": 16,
    "start_time": "2022-01-14T22:05:35.776Z"
   },
   {
    "duration": 23,
    "start_time": "2022-01-14T22:05:35.794Z"
   },
   {
    "duration": 752,
    "start_time": "2022-01-14T22:05:35.819Z"
   },
   {
    "duration": 10,
    "start_time": "2022-01-14T22:05:36.574Z"
   },
   {
    "duration": 27,
    "start_time": "2022-01-14T22:05:36.587Z"
   },
   {
    "duration": 81,
    "start_time": "2022-01-14T22:05:36.617Z"
   },
   {
    "duration": 30,
    "start_time": "2022-01-14T22:05:36.701Z"
   },
   {
    "duration": 1031,
    "start_time": "2022-01-14T22:05:36.733Z"
   },
   {
    "duration": 2484,
    "start_time": "2022-01-14T22:05:37.766Z"
   },
   {
    "duration": 13,
    "start_time": "2022-01-14T22:05:40.252Z"
   },
   {
    "duration": 257,
    "start_time": "2022-01-14T22:05:40.267Z"
   },
   {
    "duration": 354,
    "start_time": "2022-01-14T22:05:40.527Z"
   },
   {
    "duration": 6645,
    "start_time": "2022-01-14T22:05:40.886Z"
   },
   {
    "duration": 1534,
    "start_time": "2022-01-14T22:05:47.533Z"
   },
   {
    "duration": 638,
    "start_time": "2022-01-14T22:05:49.069Z"
   },
   {
    "duration": 21,
    "start_time": "2022-01-14T22:05:49.710Z"
   },
   {
    "duration": 672,
    "start_time": "2022-01-14T22:05:49.734Z"
   },
   {
    "duration": 14,
    "start_time": "2022-01-14T22:05:50.409Z"
   },
   {
    "duration": 11,
    "start_time": "2022-01-14T22:05:50.425Z"
   },
   {
    "duration": 36,
    "start_time": "2022-01-14T22:05:50.438Z"
   },
   {
    "duration": 359,
    "start_time": "2022-01-14T22:05:50.476Z"
   },
   {
    "duration": 341,
    "start_time": "2022-01-14T22:07:45.853Z"
   },
   {
    "duration": 395,
    "start_time": "2022-01-15T11:41:47.175Z"
   },
   {
    "duration": 1446,
    "start_time": "2022-01-15T11:41:52.535Z"
   },
   {
    "duration": 102,
    "start_time": "2022-01-15T11:41:53.984Z"
   },
   {
    "duration": 4,
    "start_time": "2022-01-15T11:41:54.089Z"
   },
   {
    "duration": 38,
    "start_time": "2022-01-15T11:41:54.096Z"
   },
   {
    "duration": 21,
    "start_time": "2022-01-15T11:41:54.137Z"
   },
   {
    "duration": 14,
    "start_time": "2022-01-15T11:41:54.160Z"
   },
   {
    "duration": 3192,
    "start_time": "2022-01-15T11:41:54.177Z"
   },
   {
    "duration": 172,
    "start_time": "2022-01-15T11:41:57.373Z"
   },
   {
    "duration": 15,
    "start_time": "2022-01-15T11:41:57.548Z"
   },
   {
    "duration": 25,
    "start_time": "2022-01-15T11:41:57.565Z"
   },
   {
    "duration": 671,
    "start_time": "2022-01-15T11:41:57.592Z"
   },
   {
    "duration": 9,
    "start_time": "2022-01-15T11:41:58.265Z"
   },
   {
    "duration": 50,
    "start_time": "2022-01-15T11:41:58.276Z"
   },
   {
    "duration": 42,
    "start_time": "2022-01-15T11:41:58.328Z"
   },
   {
    "duration": 53,
    "start_time": "2022-01-15T11:41:58.372Z"
   },
   {
    "duration": 909,
    "start_time": "2022-01-15T11:41:58.427Z"
   },
   {
    "duration": 2358,
    "start_time": "2022-01-15T11:41:59.339Z"
   },
   {
    "duration": 8,
    "start_time": "2022-01-15T11:42:01.700Z"
   },
   {
    "duration": 270,
    "start_time": "2022-01-15T11:42:01.722Z"
   },
   {
    "duration": 343,
    "start_time": "2022-01-15T11:42:01.995Z"
   },
   {
    "duration": 6084,
    "start_time": "2022-01-15T11:42:02.341Z"
   },
   {
    "duration": 1423,
    "start_time": "2022-01-15T11:42:08.428Z"
   },
   {
    "duration": 483,
    "start_time": "2022-01-15T11:42:09.855Z"
   },
   {
    "duration": 23,
    "start_time": "2022-01-15T11:42:10.341Z"
   },
   {
    "duration": 671,
    "start_time": "2022-01-15T11:42:10.367Z"
   },
   {
    "duration": 3699,
    "start_time": "2022-01-15T11:42:19.094Z"
   },
   {
    "duration": 412,
    "start_time": "2022-01-15T11:42:55.219Z"
   },
   {
    "duration": 398,
    "start_time": "2022-01-15T11:43:35.480Z"
   },
   {
    "duration": 1984,
    "start_time": "2022-01-15T11:43:56.983Z"
   },
   {
    "duration": 442,
    "start_time": "2022-01-15T11:45:55.335Z"
   },
   {
    "duration": 583,
    "start_time": "2022-01-15T11:46:26.464Z"
   },
   {
    "duration": 691,
    "start_time": "2022-01-15T11:47:41.651Z"
   },
   {
    "duration": 472,
    "start_time": "2022-01-15T11:48:48.362Z"
   },
   {
    "duration": 523,
    "start_time": "2022-01-15T11:49:10.752Z"
   },
   {
    "duration": 839,
    "start_time": "2022-01-15T11:49:23.498Z"
   },
   {
    "duration": 642,
    "start_time": "2022-01-15T11:49:37.007Z"
   },
   {
    "duration": 19,
    "start_time": "2022-01-15T11:53:35.796Z"
   },
   {
    "duration": 569,
    "start_time": "2022-01-15T11:54:24.275Z"
   },
   {
    "duration": 18,
    "start_time": "2022-01-15T11:54:43.481Z"
   },
   {
    "duration": 740,
    "start_time": "2022-01-15T11:56:34.867Z"
   },
   {
    "duration": 940,
    "start_time": "2022-01-15T12:05:18.054Z"
   },
   {
    "duration": 707,
    "start_time": "2022-01-15T12:05:44.806Z"
   },
   {
    "duration": 20,
    "start_time": "2022-01-15T12:15:20.101Z"
   },
   {
    "duration": 858,
    "start_time": "2022-01-15T12:23:09.905Z"
   },
   {
    "duration": 25,
    "start_time": "2022-01-15T12:23:32.345Z"
   },
   {
    "duration": 20,
    "start_time": "2022-01-15T12:24:59.421Z"
   },
   {
    "duration": 24,
    "start_time": "2022-01-15T12:25:29.072Z"
   },
   {
    "duration": 24,
    "start_time": "2022-01-15T12:30:50.516Z"
   },
   {
    "duration": 878,
    "start_time": "2022-01-15T12:31:18.197Z"
   },
   {
    "duration": 371,
    "start_time": "2022-01-15T13:12:37.990Z"
   },
   {
    "duration": 318,
    "start_time": "2022-01-15T13:15:15.584Z"
   },
   {
    "duration": 711,
    "start_time": "2022-01-15T13:15:23.146Z"
   },
   {
    "duration": 331,
    "start_time": "2022-01-15T13:15:52.101Z"
   },
   {
    "duration": 7248,
    "start_time": "2022-01-15T13:15:59.452Z"
   },
   {
    "duration": 305,
    "start_time": "2022-01-15T13:17:31.256Z"
   },
   {
    "duration": 319,
    "start_time": "2022-01-15T13:18:07.433Z"
   },
   {
    "duration": 335,
    "start_time": "2022-01-15T13:18:40.918Z"
   },
   {
    "duration": 1554,
    "start_time": "2022-01-15T13:19:17.563Z"
   },
   {
    "duration": 564,
    "start_time": "2022-01-15T13:19:24.405Z"
   },
   {
    "duration": 423,
    "start_time": "2022-01-15T13:19:37.029Z"
   },
   {
    "duration": 350,
    "start_time": "2022-01-15T13:20:01.460Z"
   },
   {
    "duration": 413,
    "start_time": "2022-01-15T13:20:11.062Z"
   },
   {
    "duration": 948,
    "start_time": "2022-01-15T13:20:45.691Z"
   },
   {
    "duration": 749,
    "start_time": "2022-01-15T13:21:04.608Z"
   },
   {
    "duration": 700,
    "start_time": "2022-01-15T13:23:43.718Z"
   },
   {
    "duration": 300,
    "start_time": "2022-01-15T13:23:59.690Z"
   },
   {
    "duration": 98,
    "start_time": "2022-01-15T13:25:31.886Z"
   },
   {
    "duration": 113,
    "start_time": "2022-01-15T13:25:49.367Z"
   },
   {
    "duration": 100,
    "start_time": "2022-01-15T13:25:56.174Z"
   },
   {
    "duration": 115,
    "start_time": "2022-01-15T13:26:17.809Z"
   },
   {
    "duration": 433,
    "start_time": "2022-01-15T13:26:26.041Z"
   },
   {
    "duration": 356,
    "start_time": "2022-01-15T13:27:02.232Z"
   },
   {
    "duration": 316,
    "start_time": "2022-01-16T07:33:45.782Z"
   },
   {
    "duration": 1044,
    "start_time": "2022-01-16T07:33:51.431Z"
   },
   {
    "duration": 67,
    "start_time": "2022-01-16T07:33:52.476Z"
   },
   {
    "duration": 2,
    "start_time": "2022-01-16T07:33:52.545Z"
   },
   {
    "duration": 14,
    "start_time": "2022-01-16T07:33:52.549Z"
   },
   {
    "duration": 12,
    "start_time": "2022-01-16T07:33:52.564Z"
   },
   {
    "duration": 7,
    "start_time": "2022-01-16T07:33:52.577Z"
   },
   {
    "duration": 1981,
    "start_time": "2022-01-16T07:33:52.585Z"
   },
   {
    "duration": 98,
    "start_time": "2022-01-16T07:33:54.568Z"
   },
   {
    "duration": 9,
    "start_time": "2022-01-16T07:33:54.667Z"
   },
   {
    "duration": 14,
    "start_time": "2022-01-16T07:33:54.678Z"
   },
   {
    "duration": 386,
    "start_time": "2022-01-16T07:33:54.693Z"
   },
   {
    "duration": 104,
    "start_time": "2022-01-16T07:33:59.864Z"
   },
   {
    "duration": 6082,
    "start_time": "2022-01-16T07:34:32.990Z"
   },
   {
    "duration": 233,
    "start_time": "2022-01-16T07:35:32.724Z"
   },
   {
    "duration": 5776,
    "start_time": "2022-01-16T07:35:35.862Z"
   },
   {
    "duration": 5849,
    "start_time": "2022-01-16T07:35:57.711Z"
   },
   {
    "duration": 8,
    "start_time": "2022-01-16T07:36:31.059Z"
   },
   {
    "duration": 7,
    "start_time": "2022-01-16T07:36:38.749Z"
   },
   {
    "duration": 6158,
    "start_time": "2022-01-16T07:36:57.799Z"
   },
   {
    "duration": 5989,
    "start_time": "2022-01-16T07:38:14.041Z"
   },
   {
    "duration": 9,
    "start_time": "2022-01-16T07:38:58.537Z"
   },
   {
    "duration": 5536,
    "start_time": "2022-01-16T07:40:36.068Z"
   },
   {
    "duration": 6555,
    "start_time": "2022-01-16T07:40:56.431Z"
   },
   {
    "duration": 123,
    "start_time": "2022-01-16T07:41:32.470Z"
   },
   {
    "duration": 128,
    "start_time": "2022-01-16T07:42:10.774Z"
   },
   {
    "duration": 7,
    "start_time": "2022-01-16T07:42:42.651Z"
   },
   {
    "duration": 3,
    "start_time": "2022-01-16T07:42:52.723Z"
   },
   {
    "duration": 68,
    "start_time": "2022-01-16T07:42:52.741Z"
   },
   {
    "duration": 4,
    "start_time": "2022-01-16T07:42:52.811Z"
   },
   {
    "duration": 13,
    "start_time": "2022-01-16T07:42:52.817Z"
   },
   {
    "duration": 14,
    "start_time": "2022-01-16T07:42:52.832Z"
   },
   {
    "duration": 9,
    "start_time": "2022-01-16T07:42:52.848Z"
   },
   {
    "duration": 1979,
    "start_time": "2022-01-16T07:42:52.858Z"
   },
   {
    "duration": 105,
    "start_time": "2022-01-16T07:42:54.839Z"
   },
   {
    "duration": 11,
    "start_time": "2022-01-16T07:42:54.946Z"
   },
   {
    "duration": 14,
    "start_time": "2022-01-16T07:42:54.958Z"
   },
   {
    "duration": 369,
    "start_time": "2022-01-16T07:42:54.974Z"
   },
   {
    "duration": 8,
    "start_time": "2022-01-16T07:43:09.610Z"
   },
   {
    "duration": 8,
    "start_time": "2022-01-16T07:44:41.110Z"
   },
   {
    "duration": 913,
    "start_time": "2022-01-16T07:46:18.190Z"
   },
   {
    "duration": 1442,
    "start_time": "2022-01-16T07:47:14.944Z"
   },
   {
    "duration": 1545,
    "start_time": "2022-01-16T07:47:25.049Z"
   },
   {
    "duration": 924,
    "start_time": "2022-01-16T07:49:02.085Z"
   },
   {
    "duration": 1240,
    "start_time": "2022-01-16T07:49:50.646Z"
   },
   {
    "duration": 20,
    "start_time": "2022-01-16T07:50:25.047Z"
   },
   {
    "duration": 6,
    "start_time": "2022-01-16T07:50:50.292Z"
   },
   {
    "duration": 147,
    "start_time": "2022-01-16T07:51:06.340Z"
   },
   {
    "duration": 4,
    "start_time": "2022-01-16T07:51:12.000Z"
   },
   {
    "duration": 2128,
    "start_time": "2022-01-16T07:51:48.931Z"
   },
   {
    "duration": 5841,
    "start_time": "2022-01-16T07:51:55.460Z"
   },
   {
    "duration": 6709,
    "start_time": "2022-01-16T07:52:10.662Z"
   },
   {
    "duration": 5824,
    "start_time": "2022-01-16T07:53:05.123Z"
   },
   {
    "duration": 6361,
    "start_time": "2022-01-16T07:53:28.118Z"
   },
   {
    "duration": 727,
    "start_time": "2022-01-16T07:55:38.787Z"
   },
   {
    "duration": 786,
    "start_time": "2022-01-16T07:55:49.736Z"
   },
   {
    "duration": 5936,
    "start_time": "2022-01-16T07:56:09.172Z"
   },
   {
    "duration": 5858,
    "start_time": "2022-01-16T07:57:10.173Z"
   },
   {
    "duration": 3664,
    "start_time": "2022-01-16T07:58:17.941Z"
   },
   {
    "duration": 5741,
    "start_time": "2022-01-16T07:58:26.692Z"
   },
   {
    "duration": 982,
    "start_time": "2022-01-16T08:00:27.580Z"
   },
   {
    "duration": 1846,
    "start_time": "2022-01-16T08:01:16.507Z"
   },
   {
    "duration": 5912,
    "start_time": "2022-01-16T08:03:26.604Z"
   },
   {
    "duration": 5959,
    "start_time": "2022-01-16T08:09:14.764Z"
   },
   {
    "duration": 52,
    "start_time": "2022-01-16T08:09:25.957Z"
   },
   {
    "duration": 53,
    "start_time": "2022-01-16T08:09:38.021Z"
   },
   {
    "duration": 14,
    "start_time": "2022-01-16T08:10:04.417Z"
   },
   {
    "duration": 15,
    "start_time": "2022-01-16T08:10:36.771Z"
   },
   {
    "duration": 10,
    "start_time": "2022-01-16T08:14:45.485Z"
   },
   {
    "duration": 3,
    "start_time": "2022-01-16T08:14:51.645Z"
   },
   {
    "duration": 66,
    "start_time": "2022-01-16T08:14:51.662Z"
   },
   {
    "duration": 2,
    "start_time": "2022-01-16T08:14:51.730Z"
   },
   {
    "duration": 14,
    "start_time": "2022-01-16T08:14:51.734Z"
   },
   {
    "duration": 12,
    "start_time": "2022-01-16T08:14:51.749Z"
   },
   {
    "duration": 8,
    "start_time": "2022-01-16T08:14:51.762Z"
   },
   {
    "duration": 2003,
    "start_time": "2022-01-16T08:14:51.772Z"
   },
   {
    "duration": 99,
    "start_time": "2022-01-16T08:14:53.777Z"
   },
   {
    "duration": 10,
    "start_time": "2022-01-16T08:14:53.878Z"
   },
   {
    "duration": 24,
    "start_time": "2022-01-16T08:14:53.890Z"
   },
   {
    "duration": 10,
    "start_time": "2022-01-16T08:14:53.916Z"
   },
   {
    "duration": 4,
    "start_time": "2022-01-16T08:17:56.447Z"
   },
   {
    "duration": 7,
    "start_time": "2022-01-16T08:18:12.220Z"
   },
   {
    "duration": 5,
    "start_time": "2022-01-16T08:18:19.581Z"
   },
   {
    "duration": 253,
    "start_time": "2022-01-16T08:31:25.067Z"
   },
   {
    "duration": 230,
    "start_time": "2022-01-16T08:31:31.207Z"
   },
   {
    "duration": 7,
    "start_time": "2022-01-16T08:31:39.479Z"
   },
   {
    "duration": 10,
    "start_time": "2022-01-16T08:32:02.959Z"
   },
   {
    "duration": 10,
    "start_time": "2022-01-16T08:32:21.133Z"
   },
   {
    "duration": 12,
    "start_time": "2022-01-16T08:33:41.032Z"
   },
   {
    "duration": 25,
    "start_time": "2022-01-16T08:34:09.047Z"
   },
   {
    "duration": 12,
    "start_time": "2022-01-16T08:35:21.135Z"
   },
   {
    "duration": 25,
    "start_time": "2022-01-16T08:35:29.034Z"
   },
   {
    "duration": 21,
    "start_time": "2022-01-16T08:35:54.028Z"
   },
   {
    "duration": 476,
    "start_time": "2022-01-16T08:37:06.838Z"
   },
   {
    "duration": 1254,
    "start_time": "2022-01-16T08:37:33.381Z"
   },
   {
    "duration": 6,
    "start_time": "2022-01-16T08:37:44.898Z"
   },
   {
    "duration": 248,
    "start_time": "2022-01-16T08:39:51.733Z"
   },
   {
    "duration": 3,
    "start_time": "2022-01-16T08:39:57.261Z"
   },
   {
    "duration": 64,
    "start_time": "2022-01-16T08:39:57.278Z"
   },
   {
    "duration": 3,
    "start_time": "2022-01-16T08:39:57.344Z"
   },
   {
    "duration": 13,
    "start_time": "2022-01-16T08:39:57.349Z"
   },
   {
    "duration": 13,
    "start_time": "2022-01-16T08:39:57.363Z"
   },
   {
    "duration": 36,
    "start_time": "2022-01-16T08:39:57.377Z"
   },
   {
    "duration": 1971,
    "start_time": "2022-01-16T08:39:57.415Z"
   },
   {
    "duration": 103,
    "start_time": "2022-01-16T08:39:59.387Z"
   },
   {
    "duration": 9,
    "start_time": "2022-01-16T08:39:59.491Z"
   },
   {
    "duration": 19,
    "start_time": "2022-01-16T08:39:59.501Z"
   },
   {
    "duration": 9,
    "start_time": "2022-01-16T08:39:59.522Z"
   },
   {
    "duration": 13,
    "start_time": "2022-01-16T08:39:59.533Z"
   },
   {
    "duration": 15,
    "start_time": "2022-01-16T08:39:59.547Z"
   },
   {
    "duration": 54,
    "start_time": "2022-01-16T08:39:59.563Z"
   },
   {
    "duration": 16,
    "start_time": "2022-01-16T08:39:59.619Z"
   },
   {
    "duration": 491,
    "start_time": "2022-01-16T08:39:59.637Z"
   },
   {
    "duration": 1260,
    "start_time": "2022-01-16T08:40:00.130Z"
   },
   {
    "duration": 4,
    "start_time": "2022-01-16T08:40:01.391Z"
   },
   {
    "duration": 153,
    "start_time": "2022-01-16T08:40:01.397Z"
   },
   {
    "duration": 202,
    "start_time": "2022-01-16T08:40:01.552Z"
   },
   {
    "duration": 3468,
    "start_time": "2022-01-16T08:40:01.756Z"
   },
   {
    "duration": 837,
    "start_time": "2022-01-16T08:40:05.226Z"
   },
   {
    "duration": 274,
    "start_time": "2022-01-16T08:40:06.065Z"
   },
   {
    "duration": 13,
    "start_time": "2022-01-16T08:40:06.340Z"
   },
   {
    "duration": 359,
    "start_time": "2022-01-16T08:40:15.005Z"
   },
   {
    "duration": 412,
    "start_time": "2022-01-16T08:41:31.200Z"
   },
   {
    "duration": 12,
    "start_time": "2022-01-16T08:41:58.256Z"
   },
   {
    "duration": 2,
    "start_time": "2022-01-16T08:45:10.887Z"
   },
   {
    "duration": 62,
    "start_time": "2022-01-16T08:45:10.903Z"
   },
   {
    "duration": 3,
    "start_time": "2022-01-16T08:45:10.966Z"
   },
   {
    "duration": 12,
    "start_time": "2022-01-16T08:45:10.971Z"
   },
   {
    "duration": 28,
    "start_time": "2022-01-16T08:45:10.985Z"
   },
   {
    "duration": 7,
    "start_time": "2022-01-16T08:45:11.014Z"
   },
   {
    "duration": 2081,
    "start_time": "2022-01-16T08:45:11.023Z"
   },
   {
    "duration": 98,
    "start_time": "2022-01-16T08:45:13.106Z"
   },
   {
    "duration": 13,
    "start_time": "2022-01-16T08:45:13.206Z"
   },
   {
    "duration": 11,
    "start_time": "2022-01-16T08:45:13.220Z"
   },
   {
    "duration": 10,
    "start_time": "2022-01-16T08:45:13.232Z"
   },
   {
    "duration": 15,
    "start_time": "2022-01-16T08:45:13.243Z"
   },
   {
    "duration": 14,
    "start_time": "2022-01-16T08:45:13.260Z"
   },
   {
    "duration": 58,
    "start_time": "2022-01-16T08:45:13.275Z"
   },
   {
    "duration": 17,
    "start_time": "2022-01-16T08:45:13.334Z"
   },
   {
    "duration": 496,
    "start_time": "2022-01-16T08:45:13.352Z"
   },
   {
    "duration": 1247,
    "start_time": "2022-01-16T08:45:13.850Z"
   },
   {
    "duration": 12,
    "start_time": "2022-01-16T08:45:15.100Z"
   },
   {
    "duration": 142,
    "start_time": "2022-01-16T08:45:15.114Z"
   },
   {
    "duration": 204,
    "start_time": "2022-01-16T08:45:15.257Z"
   },
   {
    "duration": 3373,
    "start_time": "2022-01-16T08:45:15.462Z"
   },
   {
    "duration": 933,
    "start_time": "2022-01-16T08:45:18.836Z"
   },
   {
    "duration": 263,
    "start_time": "2022-01-16T08:45:19.770Z"
   },
   {
    "duration": 14,
    "start_time": "2022-01-16T08:45:20.034Z"
   },
   {
    "duration": 360,
    "start_time": "2022-01-16T08:45:20.049Z"
   },
   {
    "duration": 407,
    "start_time": "2022-01-16T08:45:20.412Z"
   },
   {
    "duration": 12,
    "start_time": "2022-01-16T08:45:20.820Z"
   },
   {
    "duration": 14,
    "start_time": "2022-01-16T08:45:20.834Z"
   },
   {
    "duration": 525,
    "start_time": "2022-01-16T08:45:55.018Z"
   },
   {
    "duration": 251,
    "start_time": "2022-01-16T08:46:55.247Z"
   },
   {
    "duration": 473,
    "start_time": "2022-01-16T08:47:08.652Z"
   },
   {
    "duration": 463,
    "start_time": "2022-01-16T08:47:26.102Z"
   },
   {
    "duration": 215,
    "start_time": "2022-01-16T08:48:20.610Z"
   },
   {
    "duration": 491,
    "start_time": "2022-01-16T08:50:31.240Z"
   },
   {
    "duration": 207,
    "start_time": "2022-01-16T08:55:45.114Z"
   },
   {
    "duration": 226,
    "start_time": "2022-01-16T08:56:06.215Z"
   },
   {
    "duration": 213,
    "start_time": "2022-01-16T08:57:32.740Z"
   },
   {
    "duration": 214,
    "start_time": "2022-01-16T08:57:41.448Z"
   },
   {
    "duration": 4,
    "start_time": "2022-01-16T09:17:57.897Z"
   },
   {
    "duration": 8,
    "start_time": "2022-01-16T09:20:28.352Z"
   },
   {
    "duration": 14,
    "start_time": "2022-01-16T09:20:38.272Z"
   },
   {
    "duration": 231,
    "start_time": "2022-01-16T09:21:40.022Z"
   },
   {
    "duration": 15,
    "start_time": "2022-01-16T09:22:54.411Z"
   },
   {
    "duration": 13,
    "start_time": "2022-01-16T09:23:17.557Z"
   },
   {
    "duration": 124,
    "start_time": "2022-01-16T09:23:29.921Z"
   },
   {
    "duration": 19,
    "start_time": "2022-01-16T09:28:49.660Z"
   },
   {
    "duration": 29,
    "start_time": "2022-01-16T09:29:15.191Z"
   },
   {
    "duration": 29,
    "start_time": "2022-01-16T09:30:03.633Z"
   },
   {
    "duration": 25,
    "start_time": "2022-01-16T09:33:12.664Z"
   },
   {
    "duration": 28,
    "start_time": "2022-01-16T09:33:55.337Z"
   },
   {
    "duration": 75,
    "start_time": "2022-01-16T09:56:37.617Z"
   },
   {
    "duration": 27,
    "start_time": "2022-01-16T10:04:17.023Z"
   },
   {
    "duration": 28,
    "start_time": "2022-01-16T10:04:43.952Z"
   },
   {
    "duration": 28,
    "start_time": "2022-01-16T10:04:57.333Z"
   },
   {
    "duration": 21,
    "start_time": "2022-01-16T10:23:30.923Z"
   },
   {
    "duration": 12,
    "start_time": "2022-01-16T10:25:58.284Z"
   },
   {
    "duration": 3,
    "start_time": "2022-01-16T10:26:52.929Z"
   },
   {
    "duration": 68,
    "start_time": "2022-01-16T10:26:52.973Z"
   },
   {
    "duration": 3,
    "start_time": "2022-01-16T10:26:53.042Z"
   },
   {
    "duration": 13,
    "start_time": "2022-01-16T10:26:53.047Z"
   },
   {
    "duration": 12,
    "start_time": "2022-01-16T10:26:53.062Z"
   },
   {
    "duration": 9,
    "start_time": "2022-01-16T10:26:53.076Z"
   },
   {
    "duration": 2117,
    "start_time": "2022-01-16T10:26:53.086Z"
   },
   {
    "duration": 112,
    "start_time": "2022-01-16T10:26:55.205Z"
   },
   {
    "duration": 10,
    "start_time": "2022-01-16T10:26:55.319Z"
   },
   {
    "duration": 14,
    "start_time": "2022-01-16T10:26:55.331Z"
   },
   {
    "duration": 10,
    "start_time": "2022-01-16T10:26:55.347Z"
   },
   {
    "duration": 20,
    "start_time": "2022-01-16T10:26:55.359Z"
   },
   {
    "duration": 41,
    "start_time": "2022-01-16T10:26:55.381Z"
   },
   {
    "duration": 26,
    "start_time": "2022-01-16T10:26:55.423Z"
   },
   {
    "duration": 19,
    "start_time": "2022-01-16T10:26:55.450Z"
   },
   {
    "duration": 535,
    "start_time": "2022-01-16T10:26:55.470Z"
   },
   {
    "duration": 1331,
    "start_time": "2022-01-16T10:26:56.007Z"
   },
   {
    "duration": 4,
    "start_time": "2022-01-16T10:26:57.339Z"
   },
   {
    "duration": 150,
    "start_time": "2022-01-16T10:26:57.345Z"
   },
   {
    "duration": 204,
    "start_time": "2022-01-16T10:26:57.496Z"
   },
   {
    "duration": 3417,
    "start_time": "2022-01-16T10:26:57.701Z"
   },
   {
    "duration": 983,
    "start_time": "2022-01-16T10:27:01.120Z"
   },
   {
    "duration": 263,
    "start_time": "2022-01-16T10:27:02.104Z"
   },
   {
    "duration": 13,
    "start_time": "2022-01-16T10:27:02.370Z"
   },
   {
    "duration": 359,
    "start_time": "2022-01-16T10:27:02.385Z"
   },
   {
    "duration": 414,
    "start_time": "2022-01-16T10:27:02.746Z"
   },
   {
    "duration": 13,
    "start_time": "2022-01-16T10:27:03.162Z"
   },
   {
    "duration": 12,
    "start_time": "2022-01-16T10:27:03.177Z"
   },
   {
    "duration": 447,
    "start_time": "2022-01-16T10:27:03.191Z"
   },
   {
    "duration": 515,
    "start_time": "2022-01-16T10:27:03.640Z"
   },
   {
    "duration": 225,
    "start_time": "2022-01-16T10:27:04.157Z"
   },
   {
    "duration": 37,
    "start_time": "2022-01-16T10:27:04.383Z"
   },
   {
    "duration": 25,
    "start_time": "2022-01-16T10:27:04.422Z"
   },
   {
    "duration": 26,
    "start_time": "2022-01-16T10:27:04.449Z"
   },
   {
    "duration": 21,
    "start_time": "2022-01-16T10:27:09.762Z"
   },
   {
    "duration": 7,
    "start_time": "2022-01-16T10:32:16.027Z"
   },
   {
    "duration": 21,
    "start_time": "2022-01-16T10:32:42.119Z"
   },
   {
    "duration": 22,
    "start_time": "2022-01-16T10:33:16.411Z"
   },
   {
    "duration": 7,
    "start_time": "2022-01-16T10:33:56.666Z"
   },
   {
    "duration": 6,
    "start_time": "2022-01-16T10:34:12.597Z"
   },
   {
    "duration": 4,
    "start_time": "2022-01-16T10:36:38.418Z"
   },
   {
    "duration": 8,
    "start_time": "2022-01-16T10:36:55.367Z"
   },
   {
    "duration": 4,
    "start_time": "2022-01-16T10:38:10.359Z"
   },
   {
    "duration": 4,
    "start_time": "2022-01-16T10:38:24.842Z"
   },
   {
    "duration": 11,
    "start_time": "2022-01-16T10:46:55.984Z"
   },
   {
    "duration": 4,
    "start_time": "2022-01-16T10:48:22.167Z"
   },
   {
    "duration": 4,
    "start_time": "2022-01-16T10:48:28.302Z"
   },
   {
    "duration": 9,
    "start_time": "2022-01-16T10:58:52.012Z"
   },
   {
    "duration": 3,
    "start_time": "2022-01-16T12:01:52.483Z"
   },
   {
    "duration": 89,
    "start_time": "2022-01-16T12:01:52.530Z"
   },
   {
    "duration": 4,
    "start_time": "2022-01-16T12:01:52.621Z"
   },
   {
    "duration": 13,
    "start_time": "2022-01-16T12:01:52.627Z"
   },
   {
    "duration": 14,
    "start_time": "2022-01-16T12:01:52.642Z"
   },
   {
    "duration": 8,
    "start_time": "2022-01-16T12:01:52.658Z"
   },
   {
    "duration": 2095,
    "start_time": "2022-01-16T12:01:52.668Z"
   },
   {
    "duration": 113,
    "start_time": "2022-01-16T12:01:54.765Z"
   },
   {
    "duration": 10,
    "start_time": "2022-01-16T12:01:54.880Z"
   },
   {
    "duration": 24,
    "start_time": "2022-01-16T12:01:54.892Z"
   },
   {
    "duration": 2,
    "start_time": "2022-01-16T12:01:54.917Z"
   },
   {
    "duration": 19,
    "start_time": "2022-01-16T12:01:54.921Z"
   },
   {
    "duration": 16,
    "start_time": "2022-01-16T12:01:54.942Z"
   },
   {
    "duration": 53,
    "start_time": "2022-01-16T12:01:54.960Z"
   },
   {
    "duration": 19,
    "start_time": "2022-01-16T12:01:55.015Z"
   },
   {
    "duration": 555,
    "start_time": "2022-01-16T12:01:55.036Z"
   },
   {
    "duration": 1398,
    "start_time": "2022-01-16T12:01:55.593Z"
   },
   {
    "duration": 5,
    "start_time": "2022-01-16T12:01:56.992Z"
   },
   {
    "duration": 174,
    "start_time": "2022-01-16T12:01:56.998Z"
   },
   {
    "duration": 364,
    "start_time": "2022-01-16T12:01:57.174Z"
   },
   {
    "duration": 3822,
    "start_time": "2022-01-16T12:01:57.540Z"
   },
   {
    "duration": 842,
    "start_time": "2022-01-16T12:02:01.363Z"
   },
   {
    "duration": 261,
    "start_time": "2022-01-16T12:02:02.206Z"
   },
   {
    "duration": 13,
    "start_time": "2022-01-16T12:02:02.469Z"
   },
   {
    "duration": 580,
    "start_time": "2022-01-16T12:02:02.483Z"
   },
   {
    "duration": 408,
    "start_time": "2022-01-16T12:02:03.065Z"
   },
   {
    "duration": 11,
    "start_time": "2022-01-16T12:02:03.474Z"
   },
   {
    "duration": 27,
    "start_time": "2022-01-16T12:02:03.486Z"
   },
   {
    "duration": 426,
    "start_time": "2022-01-16T12:02:03.515Z"
   },
   {
    "duration": 511,
    "start_time": "2022-01-16T12:02:03.943Z"
   },
   {
    "duration": 231,
    "start_time": "2022-01-16T12:02:04.456Z"
   },
   {
    "duration": 35,
    "start_time": "2022-01-16T12:02:04.688Z"
   },
   {
    "duration": 25,
    "start_time": "2022-01-16T12:02:04.725Z"
   },
   {
    "duration": 27,
    "start_time": "2022-01-16T12:02:04.752Z"
   },
   {
    "duration": 36,
    "start_time": "2022-01-16T12:02:04.780Z"
   },
   {
    "duration": 10,
    "start_time": "2022-01-16T12:02:04.818Z"
   },
   {
    "duration": 1762,
    "start_time": "2022-05-13T18:12:17.720Z"
   },
   {
    "duration": 101,
    "start_time": "2022-05-13T18:12:49.702Z"
   },
   {
    "duration": 74,
    "start_time": "2022-05-13T18:13:17.105Z"
   },
   {
    "duration": 72,
    "start_time": "2022-05-13T18:15:56.347Z"
   },
   {
    "duration": 165,
    "start_time": "2022-05-13T18:17:57.083Z"
   },
   {
    "duration": 33,
    "start_time": "2022-05-13T18:18:03.137Z"
   },
   {
    "duration": 47,
    "start_time": "2022-05-13T18:18:13.150Z"
   },
   {
    "duration": 39,
    "start_time": "2022-05-13T18:18:22.602Z"
   },
   {
    "duration": 429,
    "start_time": "2022-05-13T18:18:26.067Z"
   },
   {
    "duration": 412,
    "start_time": "2022-05-13T18:18:44.507Z"
   },
   {
    "duration": 409,
    "start_time": "2022-05-13T18:19:18.452Z"
   },
   {
    "duration": 306,
    "start_time": "2022-05-13T18:19:49.081Z"
   },
   {
    "duration": 428,
    "start_time": "2022-05-13T18:20:16.648Z"
   },
   {
    "duration": 34,
    "start_time": "2022-05-13T18:20:29.763Z"
   },
   {
    "duration": 418,
    "start_time": "2022-05-13T18:21:08.818Z"
   },
   {
    "duration": 438,
    "start_time": "2022-05-13T18:21:33.188Z"
   },
   {
    "duration": 40,
    "start_time": "2022-05-13T18:21:45.938Z"
   },
   {
    "duration": 35,
    "start_time": "2022-05-13T18:21:51.448Z"
   },
   {
    "duration": 35,
    "start_time": "2022-05-13T18:22:06.286Z"
   },
   {
    "duration": 432,
    "start_time": "2022-05-13T18:22:25.533Z"
   },
   {
    "duration": 37,
    "start_time": "2022-05-13T18:22:43.879Z"
   },
   {
    "duration": 38,
    "start_time": "2022-05-13T18:22:51.756Z"
   },
   {
    "duration": 633,
    "start_time": "2022-05-13T18:22:56.916Z"
   },
   {
    "duration": 466,
    "start_time": "2022-05-13T18:23:07.099Z"
   },
   {
    "duration": 8,
    "start_time": "2022-05-13T18:27:56.552Z"
   },
   {
    "duration": 7,
    "start_time": "2022-05-13T18:28:12.540Z"
   },
   {
    "duration": 4,
    "start_time": "2022-05-13T18:29:10.105Z"
   },
   {
    "duration": 6,
    "start_time": "2022-05-13T18:29:18.053Z"
   },
   {
    "duration": 6,
    "start_time": "2022-05-13T18:29:25.479Z"
   },
   {
    "duration": 13,
    "start_time": "2022-05-13T18:30:11.824Z"
   },
   {
    "duration": 11,
    "start_time": "2022-05-13T18:30:23.044Z"
   },
   {
    "duration": 550,
    "start_time": "2022-05-13T18:30:28.500Z"
   },
   {
    "duration": 835,
    "start_time": "2022-05-13T18:30:39.895Z"
   },
   {
    "duration": 4,
    "start_time": "2022-05-13T18:31:44.109Z"
   },
   {
    "duration": 6,
    "start_time": "2022-05-13T18:31:51.086Z"
   },
   {
    "duration": 4,
    "start_time": "2022-05-13T18:32:09.264Z"
   },
   {
    "duration": 6,
    "start_time": "2022-05-13T18:32:15.264Z"
   },
   {
    "duration": 6,
    "start_time": "2022-05-13T18:32:29.737Z"
   },
   {
    "duration": 12,
    "start_time": "2022-05-13T18:33:19.769Z"
   },
   {
    "duration": 12,
    "start_time": "2022-05-13T18:33:32.634Z"
   },
   {
    "duration": 581,
    "start_time": "2022-05-13T18:36:10.041Z"
   },
   {
    "duration": 13,
    "start_time": "2022-05-13T18:37:03.486Z"
   },
   {
    "duration": 7,
    "start_time": "2022-05-13T18:37:47.755Z"
   },
   {
    "duration": 7,
    "start_time": "2022-05-13T18:37:56.490Z"
   },
   {
    "duration": 7,
    "start_time": "2022-05-13T18:38:06.798Z"
   },
   {
    "duration": 17,
    "start_time": "2022-05-13T18:39:25.412Z"
   },
   {
    "duration": 17,
    "start_time": "2022-05-13T18:39:34.137Z"
   },
   {
    "duration": 22,
    "start_time": "2022-05-13T18:39:54.959Z"
   },
   {
    "duration": 12,
    "start_time": "2022-05-13T18:40:10.329Z"
   },
   {
    "duration": 16,
    "start_time": "2022-05-13T18:42:20.732Z"
   },
   {
    "duration": 22,
    "start_time": "2022-05-13T18:42:30.289Z"
   },
   {
    "duration": 24,
    "start_time": "2022-05-13T18:42:39.589Z"
   },
   {
    "duration": 6,
    "start_time": "2022-05-13T18:42:45.560Z"
   },
   {
    "duration": 101,
    "start_time": "2022-05-13T18:42:45.572Z"
   },
   {
    "duration": 706,
    "start_time": "2022-05-13T18:42:45.681Z"
   },
   {
    "duration": 8,
    "start_time": "2022-05-13T18:42:46.389Z"
   },
   {
    "duration": 18,
    "start_time": "2022-05-13T18:42:49.937Z"
   },
   {
    "duration": 16,
    "start_time": "2022-05-13T18:43:02.020Z"
   },
   {
    "duration": 27,
    "start_time": "2022-05-13T18:43:19.786Z"
   },
   {
    "duration": 4,
    "start_time": "2022-05-13T18:43:27.502Z"
   },
   {
    "duration": 70,
    "start_time": "2022-05-13T18:43:27.513Z"
   },
   {
    "duration": 441,
    "start_time": "2022-05-13T18:43:27.585Z"
   },
   {
    "duration": 8,
    "start_time": "2022-05-13T18:43:28.028Z"
   },
   {
    "duration": 21,
    "start_time": "2022-05-13T18:43:30.949Z"
   },
   {
    "duration": 16,
    "start_time": "2022-05-13T18:43:43.445Z"
   },
   {
    "duration": 15,
    "start_time": "2022-05-13T18:44:09.663Z"
   },
   {
    "duration": 5,
    "start_time": "2022-05-13T18:45:01.898Z"
   },
   {
    "duration": 101,
    "start_time": "2022-05-13T18:45:01.911Z"
   },
   {
    "duration": 468,
    "start_time": "2022-05-13T18:45:02.015Z"
   },
   {
    "duration": 8,
    "start_time": "2022-05-13T18:45:02.485Z"
   },
   {
    "duration": 32,
    "start_time": "2022-05-13T18:45:11.630Z"
   },
   {
    "duration": 16,
    "start_time": "2022-05-13T18:45:24.642Z"
   },
   {
    "duration": 10,
    "start_time": "2022-05-13T18:47:41.361Z"
   },
   {
    "duration": 5,
    "start_time": "2022-05-13T18:47:52.726Z"
   },
   {
    "duration": 4,
    "start_time": "2022-05-13T18:48:08.733Z"
   },
   {
    "duration": 80,
    "start_time": "2022-05-13T18:48:08.746Z"
   },
   {
    "duration": 668,
    "start_time": "2022-05-13T18:48:08.829Z"
   },
   {
    "duration": 8,
    "start_time": "2022-05-13T18:48:09.500Z"
   },
   {
    "duration": 19,
    "start_time": "2022-05-13T18:48:27.042Z"
   },
   {
    "duration": 15,
    "start_time": "2022-05-13T18:51:08.047Z"
   },
   {
    "duration": 19,
    "start_time": "2022-05-13T19:00:28.006Z"
   },
   {
    "duration": 18,
    "start_time": "2022-05-13T19:00:49.986Z"
   },
   {
    "duration": 3440,
    "start_time": "2022-05-13T19:09:17.485Z"
   },
   {
    "duration": 11,
    "start_time": "2022-05-13T19:09:52.798Z"
   },
   {
    "duration": 11,
    "start_time": "2022-05-13T19:10:03.239Z"
   },
   {
    "duration": 13,
    "start_time": "2022-05-13T19:14:05.191Z"
   },
   {
    "duration": 30,
    "start_time": "2022-05-13T19:14:12.901Z"
   },
   {
    "duration": 142,
    "start_time": "2022-05-13T19:15:08.508Z"
   },
   {
    "duration": 23,
    "start_time": "2022-05-13T19:15:18.337Z"
   },
   {
    "duration": 21,
    "start_time": "2022-05-13T19:15:47.050Z"
   },
   {
    "duration": 29,
    "start_time": "2022-05-13T19:15:51.944Z"
   },
   {
    "duration": 22,
    "start_time": "2022-05-13T19:15:58.601Z"
   },
   {
    "duration": 15,
    "start_time": "2022-05-13T19:16:11.244Z"
   },
   {
    "duration": 15,
    "start_time": "2022-05-13T19:16:18.284Z"
   },
   {
    "duration": 28,
    "start_time": "2022-05-13T19:16:24.772Z"
   },
   {
    "duration": 26,
    "start_time": "2022-05-13T19:16:31.575Z"
   },
   {
    "duration": 13,
    "start_time": "2022-05-13T19:17:21.210Z"
   },
   {
    "duration": 16,
    "start_time": "2022-05-13T19:18:07.609Z"
   },
   {
    "duration": 19,
    "start_time": "2022-05-13T19:18:41.549Z"
   },
   {
    "duration": 15,
    "start_time": "2022-05-13T19:18:56.808Z"
   },
   {
    "duration": 21,
    "start_time": "2022-05-13T19:23:04.418Z"
   },
   {
    "duration": 34,
    "start_time": "2022-05-13T19:27:01.976Z"
   },
   {
    "duration": 54,
    "start_time": "2022-05-13T19:27:14.060Z"
   },
   {
    "duration": 40,
    "start_time": "2022-05-13T19:27:43.737Z"
   },
   {
    "duration": 39,
    "start_time": "2022-05-13T19:28:02.765Z"
   },
   {
    "duration": 54,
    "start_time": "2022-05-13T19:28:12.193Z"
   },
   {
    "duration": 73,
    "start_time": "2022-05-13T19:28:43.215Z"
   },
   {
    "duration": 49,
    "start_time": "2022-05-13T19:28:53.730Z"
   },
   {
    "duration": 37,
    "start_time": "2022-05-13T19:29:11.119Z"
   },
   {
    "duration": 35,
    "start_time": "2022-05-13T19:29:34.226Z"
   },
   {
    "duration": 33,
    "start_time": "2022-05-13T19:29:37.881Z"
   },
   {
    "duration": 26,
    "start_time": "2022-05-13T19:29:45.807Z"
   },
   {
    "duration": 22,
    "start_time": "2022-05-13T19:31:23.338Z"
   },
   {
    "duration": 27,
    "start_time": "2022-05-13T19:31:34.446Z"
   },
   {
    "duration": 20,
    "start_time": "2022-05-13T19:31:37.913Z"
   },
   {
    "duration": 21,
    "start_time": "2022-05-13T19:31:44.638Z"
   },
   {
    "duration": 25,
    "start_time": "2022-05-13T19:31:49.505Z"
   },
   {
    "duration": 25,
    "start_time": "2022-05-13T19:32:15.669Z"
   },
   {
    "duration": 23,
    "start_time": "2022-05-13T19:32:25.138Z"
   },
   {
    "duration": 29,
    "start_time": "2022-05-13T19:32:34.045Z"
   },
   {
    "duration": 28,
    "start_time": "2022-05-13T19:32:36.624Z"
   },
   {
    "duration": 22,
    "start_time": "2022-05-13T19:32:41.549Z"
   },
   {
    "duration": 20,
    "start_time": "2022-05-13T19:32:46.593Z"
   },
   {
    "duration": 48,
    "start_time": "2022-05-13T19:33:30.242Z"
   },
   {
    "duration": 36,
    "start_time": "2022-05-13T19:33:52.604Z"
   },
   {
    "duration": 41,
    "start_time": "2022-05-13T19:35:17.928Z"
   },
   {
    "duration": 59,
    "start_time": "2022-05-13T19:35:32.783Z"
   },
   {
    "duration": 47,
    "start_time": "2022-05-13T19:37:48.443Z"
   },
   {
    "duration": 53,
    "start_time": "2022-05-13T19:37:56.621Z"
   },
   {
    "duration": 51,
    "start_time": "2022-05-13T19:41:08.757Z"
   },
   {
    "duration": 65,
    "start_time": "2022-05-13T19:41:22.168Z"
   },
   {
    "duration": 2335,
    "start_time": "2022-05-13T19:44:19.298Z"
   },
   {
    "duration": 36,
    "start_time": "2022-05-13T19:44:43.666Z"
   },
   {
    "duration": 43,
    "start_time": "2022-05-13T19:45:15.487Z"
   },
   {
    "duration": 62,
    "start_time": "2022-05-13T19:45:38.745Z"
   },
   {
    "duration": 28,
    "start_time": "2022-05-13T19:45:46.281Z"
   },
   {
    "duration": 17,
    "start_time": "2022-05-13T19:45:54.830Z"
   },
   {
    "duration": 4,
    "start_time": "2022-05-13T19:47:49.718Z"
   },
   {
    "duration": 85,
    "start_time": "2022-05-13T19:47:49.732Z"
   },
   {
    "duration": 470,
    "start_time": "2022-05-13T19:47:49.820Z"
   },
   {
    "duration": 10,
    "start_time": "2022-05-13T19:47:50.294Z"
   },
   {
    "duration": 43,
    "start_time": "2022-05-13T19:47:50.307Z"
   },
   {
    "duration": 25,
    "start_time": "2022-05-13T19:47:58.361Z"
   },
   {
    "duration": 35,
    "start_time": "2022-05-13T19:49:09.220Z"
   },
   {
    "duration": 22,
    "start_time": "2022-05-13T19:49:34.229Z"
   },
   {
    "duration": 36,
    "start_time": "2022-05-13T19:49:44.502Z"
   },
   {
    "duration": 22,
    "start_time": "2022-05-13T19:49:51.710Z"
   },
   {
    "duration": 720,
    "start_time": "2022-05-13T19:52:32.357Z"
   },
   {
    "duration": 312,
    "start_time": "2022-05-13T19:52:36.950Z"
   },
   {
    "duration": 509,
    "start_time": "2022-05-13T19:53:10.910Z"
   },
   {
    "duration": 306,
    "start_time": "2022-05-13T19:53:31.595Z"
   },
   {
    "duration": 19,
    "start_time": "2022-05-13T19:55:29.324Z"
   },
   {
    "duration": 10,
    "start_time": "2022-05-13T19:55:41.584Z"
   },
   {
    "duration": 11,
    "start_time": "2022-05-13T19:55:44.916Z"
   },
   {
    "duration": 2134,
    "start_time": "2022-05-13T19:56:18.134Z"
   },
   {
    "duration": 7,
    "start_time": "2022-05-13T19:56:49.093Z"
   },
   {
    "duration": 9,
    "start_time": "2022-05-13T19:57:15.311Z"
   },
   {
    "duration": 11,
    "start_time": "2022-05-13T19:57:22.255Z"
   },
   {
    "duration": 13,
    "start_time": "2022-05-13T19:57:30.888Z"
   },
   {
    "duration": 2097,
    "start_time": "2022-05-13T19:58:39.232Z"
   },
   {
    "duration": 12,
    "start_time": "2022-05-13T19:59:01.805Z"
   },
   {
    "duration": 14,
    "start_time": "2022-05-13T19:59:31.569Z"
   },
   {
    "duration": 16,
    "start_time": "2022-05-13T20:00:57.160Z"
   },
   {
    "duration": 2195,
    "start_time": "2022-05-13T20:01:14.078Z"
   },
   {
    "duration": 17,
    "start_time": "2022-05-13T20:01:51.385Z"
   },
   {
    "duration": 9,
    "start_time": "2022-05-13T20:02:05.661Z"
   },
   {
    "duration": 10,
    "start_time": "2022-05-13T20:02:36.875Z"
   },
   {
    "duration": 17,
    "start_time": "2022-05-13T20:02:46.997Z"
   },
   {
    "duration": 24,
    "start_time": "2022-05-13T20:03:04.081Z"
   },
   {
    "duration": 20,
    "start_time": "2022-05-13T20:05:04.631Z"
   },
   {
    "duration": 356,
    "start_time": "2022-05-13T20:27:05.261Z"
   },
   {
    "duration": 17,
    "start_time": "2022-05-13T20:29:00.683Z"
   },
   {
    "duration": 21,
    "start_time": "2022-05-13T20:29:27.297Z"
   },
   {
    "duration": 17,
    "start_time": "2022-05-13T20:29:41.095Z"
   },
   {
    "duration": 23,
    "start_time": "2022-05-13T20:30:00.397Z"
   },
   {
    "duration": 20,
    "start_time": "2022-05-13T20:30:32.033Z"
   },
   {
    "duration": 20,
    "start_time": "2022-05-13T20:31:10.161Z"
   },
   {
    "duration": 20,
    "start_time": "2022-05-13T20:31:17.855Z"
   },
   {
    "duration": 2180,
    "start_time": "2022-05-13T20:32:26.815Z"
   },
   {
    "duration": 1662,
    "start_time": "2022-05-13T20:33:27.569Z"
   },
   {
    "duration": 326,
    "start_time": "2022-05-13T20:36:58.138Z"
   },
   {
    "duration": 46,
    "start_time": "2022-05-13T20:42:09.658Z"
   },
   {
    "duration": 4,
    "start_time": "2022-05-13T20:42:32.506Z"
   },
   {
    "duration": 82,
    "start_time": "2022-05-13T20:42:32.517Z"
   },
   {
    "duration": 682,
    "start_time": "2022-05-13T20:42:32.602Z"
   },
   {
    "duration": 14,
    "start_time": "2022-05-13T20:42:33.287Z"
   },
   {
    "duration": 25,
    "start_time": "2022-05-13T20:42:33.305Z"
   },
   {
    "duration": 487,
    "start_time": "2022-05-13T20:42:33.333Z"
   },
   {
    "duration": 21,
    "start_time": "2022-05-13T20:42:33.823Z"
   },
   {
    "duration": 323,
    "start_time": "2022-05-13T20:42:37.625Z"
   },
   {
    "duration": 28,
    "start_time": "2022-05-13T20:43:51.952Z"
   },
   {
    "duration": 5,
    "start_time": "2022-05-13T20:43:57.947Z"
   },
   {
    "duration": 74,
    "start_time": "2022-05-13T20:43:57.968Z"
   },
   {
    "duration": 482,
    "start_time": "2022-05-13T20:43:58.045Z"
   },
   {
    "duration": 9,
    "start_time": "2022-05-13T20:43:58.529Z"
   },
   {
    "duration": 40,
    "start_time": "2022-05-13T20:43:58.542Z"
   },
   {
    "duration": 834,
    "start_time": "2022-05-13T20:43:58.585Z"
   },
   {
    "duration": 21,
    "start_time": "2022-05-13T20:43:59.421Z"
   },
   {
    "duration": 320,
    "start_time": "2022-05-13T20:44:02.426Z"
   },
   {
    "duration": 5,
    "start_time": "2022-05-13T20:44:29.674Z"
   },
   {
    "duration": 82,
    "start_time": "2022-05-13T20:44:29.685Z"
   },
   {
    "duration": 490,
    "start_time": "2022-05-13T20:44:29.770Z"
   },
   {
    "duration": 17,
    "start_time": "2022-05-13T20:44:30.264Z"
   },
   {
    "duration": 34,
    "start_time": "2022-05-13T20:44:30.286Z"
   },
   {
    "duration": 466,
    "start_time": "2022-05-13T20:44:30.323Z"
   },
   {
    "duration": 24,
    "start_time": "2022-05-13T20:44:30.791Z"
   },
   {
    "duration": 2349,
    "start_time": "2022-05-13T20:44:35.399Z"
   },
   {
    "duration": 2227,
    "start_time": "2022-05-13T20:50:49.704Z"
   },
   {
    "duration": 2238,
    "start_time": "2022-05-13T20:51:54.777Z"
   },
   {
    "duration": 24,
    "start_time": "2022-05-13T20:52:31.962Z"
   },
   {
    "duration": 2128,
    "start_time": "2022-05-13T20:55:10.470Z"
   },
   {
    "duration": 1906,
    "start_time": "2022-05-13T20:55:37.144Z"
   },
   {
    "duration": 243,
    "start_time": "2022-05-13T20:55:45.450Z"
   },
   {
    "duration": 131,
    "start_time": "2022-05-13T20:55:55.298Z"
   },
   {
    "duration": 137,
    "start_time": "2022-05-13T20:56:19.295Z"
   },
   {
    "duration": 135,
    "start_time": "2022-05-13T20:56:45.193Z"
   },
   {
    "duration": 152,
    "start_time": "2022-05-13T20:56:56.710Z"
   },
   {
    "duration": 220,
    "start_time": "2022-05-13T20:57:20.329Z"
   },
   {
    "duration": 154,
    "start_time": "2022-05-13T20:57:42.919Z"
   },
   {
    "duration": 147,
    "start_time": "2022-05-13T20:58:30.006Z"
   },
   {
    "duration": 7,
    "start_time": "2022-05-13T20:58:35.537Z"
   },
   {
    "duration": 87,
    "start_time": "2022-05-13T20:58:35.553Z"
   },
   {
    "duration": 709,
    "start_time": "2022-05-13T20:58:35.643Z"
   },
   {
    "duration": 11,
    "start_time": "2022-05-13T20:58:36.355Z"
   },
   {
    "duration": 25,
    "start_time": "2022-05-13T20:58:36.385Z"
   },
   {
    "duration": 784,
    "start_time": "2022-05-13T20:58:36.413Z"
   },
   {
    "duration": 26,
    "start_time": "2022-05-13T20:58:37.203Z"
   },
   {
    "duration": 23,
    "start_time": "2022-05-13T20:58:37.231Z"
   },
   {
    "duration": 142,
    "start_time": "2022-05-13T20:58:43.210Z"
   },
   {
    "duration": 53,
    "start_time": "2022-05-13T21:01:12.466Z"
   },
   {
    "duration": 36,
    "start_time": "2022-05-13T21:02:36.957Z"
   },
   {
    "duration": 3509,
    "start_time": "2022-05-13T21:03:12.508Z"
   },
   {
    "duration": 335,
    "start_time": "2022-05-13T21:05:50.825Z"
   },
   {
    "duration": 5,
    "start_time": "2022-05-13T21:07:19.105Z"
   },
   {
    "duration": 81,
    "start_time": "2022-05-13T21:07:19.119Z"
   },
   {
    "duration": 600,
    "start_time": "2022-05-13T21:07:19.203Z"
   },
   {
    "duration": 8,
    "start_time": "2022-05-13T21:07:19.807Z"
   },
   {
    "duration": 20,
    "start_time": "2022-05-13T21:07:19.818Z"
   },
   {
    "duration": 572,
    "start_time": "2022-05-13T21:07:19.841Z"
   },
   {
    "duration": 24,
    "start_time": "2022-05-13T21:07:20.416Z"
   },
   {
    "duration": 56,
    "start_time": "2022-05-13T21:07:20.443Z"
   },
   {
    "duration": 29,
    "start_time": "2022-05-13T21:07:23.545Z"
   },
   {
    "duration": 159,
    "start_time": "2022-05-13T21:09:13.431Z"
   },
   {
    "duration": 5,
    "start_time": "2022-05-13T21:09:22.409Z"
   },
   {
    "duration": 79,
    "start_time": "2022-05-13T21:09:22.428Z"
   },
   {
    "duration": 489,
    "start_time": "2022-05-13T21:09:22.511Z"
   },
   {
    "duration": 8,
    "start_time": "2022-05-13T21:09:23.003Z"
   },
   {
    "duration": 18,
    "start_time": "2022-05-13T21:09:23.014Z"
   },
   {
    "duration": 475,
    "start_time": "2022-05-13T21:09:23.034Z"
   },
   {
    "duration": 21,
    "start_time": "2022-05-13T21:09:23.512Z"
   },
   {
    "duration": 21,
    "start_time": "2022-05-13T21:09:23.535Z"
   },
   {
    "duration": 141,
    "start_time": "2022-05-13T21:09:53.928Z"
   },
   {
    "duration": 344,
    "start_time": "2022-05-13T21:11:25.244Z"
   },
   {
    "duration": 5,
    "start_time": "2022-05-13T21:11:32.459Z"
   },
   {
    "duration": 91,
    "start_time": "2022-05-13T21:11:32.474Z"
   },
   {
    "duration": 484,
    "start_time": "2022-05-13T21:11:32.568Z"
   },
   {
    "duration": 7,
    "start_time": "2022-05-13T21:11:33.054Z"
   },
   {
    "duration": 47,
    "start_time": "2022-05-13T21:11:33.064Z"
   },
   {
    "duration": 458,
    "start_time": "2022-05-13T21:11:33.113Z"
   },
   {
    "duration": 31,
    "start_time": "2022-05-13T21:11:33.574Z"
   },
   {
    "duration": 27,
    "start_time": "2022-05-13T21:11:33.607Z"
   },
   {
    "duration": 341,
    "start_time": "2022-05-13T21:11:45.949Z"
   },
   {
    "duration": 19,
    "start_time": "2022-05-13T21:13:00.461Z"
   },
   {
    "duration": 419,
    "start_time": "2022-05-13T21:13:03.466Z"
   },
   {
    "duration": 1889,
    "start_time": "2022-05-13T21:13:12.233Z"
   },
   {
    "duration": 4,
    "start_time": "2022-05-13T21:13:22.572Z"
   },
   {
    "duration": 85,
    "start_time": "2022-05-13T21:13:22.586Z"
   },
   {
    "duration": 482,
    "start_time": "2022-05-13T21:13:22.674Z"
   },
   {
    "duration": 7,
    "start_time": "2022-05-13T21:13:23.158Z"
   },
   {
    "duration": 38,
    "start_time": "2022-05-13T21:13:23.169Z"
   },
   {
    "duration": 452,
    "start_time": "2022-05-13T21:13:23.210Z"
   },
   {
    "duration": 34,
    "start_time": "2022-05-13T21:13:23.664Z"
   },
   {
    "duration": 39,
    "start_time": "2022-05-13T21:13:23.701Z"
   },
   {
    "duration": 348,
    "start_time": "2022-05-13T21:13:23.742Z"
   },
   {
    "duration": 28,
    "start_time": "2022-05-13T21:13:24.092Z"
   },
   {
    "duration": 10,
    "start_time": "2022-05-13T21:17:53.220Z"
   },
   {
    "duration": 14,
    "start_time": "2022-05-13T21:18:00.591Z"
   },
   {
    "duration": 5,
    "start_time": "2022-05-13T21:18:08.007Z"
   },
   {
    "duration": 78,
    "start_time": "2022-05-13T21:18:08.015Z"
   },
   {
    "duration": 474,
    "start_time": "2022-05-13T21:18:08.099Z"
   },
   {
    "duration": 12,
    "start_time": "2022-05-13T21:18:08.576Z"
   },
   {
    "duration": 41,
    "start_time": "2022-05-13T21:18:08.590Z"
   },
   {
    "duration": 459,
    "start_time": "2022-05-13T21:18:08.634Z"
   },
   {
    "duration": 28,
    "start_time": "2022-05-13T21:18:09.095Z"
   },
   {
    "duration": 20,
    "start_time": "2022-05-13T21:18:09.125Z"
   },
   {
    "duration": 16,
    "start_time": "2022-05-13T21:18:14.383Z"
   },
   {
    "duration": 5,
    "start_time": "2022-05-13T21:20:47.737Z"
   },
   {
    "duration": 82,
    "start_time": "2022-05-13T21:20:47.749Z"
   },
   {
    "duration": 488,
    "start_time": "2022-05-13T21:20:47.834Z"
   },
   {
    "duration": 7,
    "start_time": "2022-05-13T21:20:48.325Z"
   },
   {
    "duration": 20,
    "start_time": "2022-05-13T21:20:48.335Z"
   },
   {
    "duration": 486,
    "start_time": "2022-05-13T21:20:48.357Z"
   },
   {
    "duration": 39,
    "start_time": "2022-05-13T21:20:48.845Z"
   },
   {
    "duration": 22,
    "start_time": "2022-05-13T21:20:48.891Z"
   },
   {
    "duration": 11,
    "start_time": "2022-05-13T21:20:52.470Z"
   },
   {
    "duration": 22,
    "start_time": "2022-05-13T21:21:52.303Z"
   },
   {
    "duration": 18,
    "start_time": "2022-05-13T21:22:01.854Z"
   },
   {
    "duration": 23,
    "start_time": "2022-05-13T21:24:17.331Z"
   },
   {
    "duration": 22,
    "start_time": "2022-05-13T21:25:20.405Z"
   },
   {
    "duration": 10,
    "start_time": "2022-05-13T21:26:24.678Z"
   },
   {
    "duration": 81,
    "start_time": "2022-05-13T21:26:24.703Z"
   },
   {
    "duration": 492,
    "start_time": "2022-05-13T21:26:24.791Z"
   },
   {
    "duration": 10,
    "start_time": "2022-05-13T21:26:25.286Z"
   },
   {
    "duration": 30,
    "start_time": "2022-05-13T21:26:25.306Z"
   },
   {
    "duration": 462,
    "start_time": "2022-05-13T21:26:25.338Z"
   },
   {
    "duration": 23,
    "start_time": "2022-05-13T21:26:25.804Z"
   },
   {
    "duration": 25,
    "start_time": "2022-05-13T21:26:30.967Z"
   },
   {
    "duration": 10,
    "start_time": "2022-05-13T21:27:04.904Z"
   },
   {
    "duration": 5,
    "start_time": "2022-05-13T21:28:13.642Z"
   },
   {
    "duration": 80,
    "start_time": "2022-05-13T21:28:13.656Z"
   },
   {
    "duration": 2367,
    "start_time": "2022-05-13T21:28:18.337Z"
   },
   {
    "duration": 5,
    "start_time": "2022-05-13T21:28:53.823Z"
   },
   {
    "duration": 85,
    "start_time": "2022-05-13T21:28:53.836Z"
   },
   {
    "duration": 499,
    "start_time": "2022-05-13T21:28:53.924Z"
   },
   {
    "duration": 9,
    "start_time": "2022-05-13T21:28:54.426Z"
   },
   {
    "duration": 46,
    "start_time": "2022-05-13T21:28:54.439Z"
   },
   {
    "duration": 13,
    "start_time": "2022-05-13T21:29:01.831Z"
   },
   {
    "duration": 1469,
    "start_time": "2022-05-14T09:47:41.706Z"
   },
   {
    "duration": 68,
    "start_time": "2022-05-14T09:47:43.177Z"
   },
   {
    "duration": 334,
    "start_time": "2022-05-14T09:47:43.247Z"
   },
   {
    "duration": 6,
    "start_time": "2022-05-14T09:47:43.584Z"
   },
   {
    "duration": 18,
    "start_time": "2022-05-14T09:47:43.591Z"
   },
   {
    "duration": 265,
    "start_time": "2022-05-14T09:47:43.611Z"
   },
   {
    "duration": 18,
    "start_time": "2022-05-14T09:47:43.877Z"
   },
   {
    "duration": 14,
    "start_time": "2022-05-14T09:47:47.129Z"
   },
   {
    "duration": 3,
    "start_time": "2022-05-14T09:53:54.255Z"
   },
   {
    "duration": 56,
    "start_time": "2022-05-14T09:53:54.270Z"
   },
   {
    "duration": 306,
    "start_time": "2022-05-14T09:53:54.328Z"
   },
   {
    "duration": 5,
    "start_time": "2022-05-14T09:53:54.636Z"
   },
   {
    "duration": 14,
    "start_time": "2022-05-14T09:53:54.642Z"
   },
   {
    "duration": 253,
    "start_time": "2022-05-14T09:53:58.271Z"
   },
   {
    "duration": 10,
    "start_time": "2022-05-14T09:54:54.961Z"
   },
   {
    "duration": 8,
    "start_time": "2022-05-14T09:55:31.314Z"
   },
   {
    "duration": 13,
    "start_time": "2022-05-14T09:56:47.715Z"
   },
   {
    "duration": 15,
    "start_time": "2022-05-14T09:56:56.782Z"
   },
   {
    "duration": 15,
    "start_time": "2022-05-14T09:57:51.266Z"
   },
   {
    "duration": 14,
    "start_time": "2022-05-14T09:58:08.581Z"
   },
   {
    "duration": 3,
    "start_time": "2022-05-14T09:58:12.739Z"
   },
   {
    "duration": 73,
    "start_time": "2022-05-14T09:58:12.751Z"
   },
   {
    "duration": 308,
    "start_time": "2022-05-14T09:58:12.826Z"
   },
   {
    "duration": 5,
    "start_time": "2022-05-14T09:58:13.136Z"
   },
   {
    "duration": 15,
    "start_time": "2022-05-14T09:58:13.144Z"
   },
   {
    "duration": 266,
    "start_time": "2022-05-14T09:58:13.162Z"
   },
   {
    "duration": 16,
    "start_time": "2022-05-14T09:58:16.280Z"
   },
   {
    "duration": 15,
    "start_time": "2022-05-14T09:58:48.127Z"
   },
   {
    "duration": 4625,
    "start_time": "2022-05-14T10:08:07.046Z"
   },
   {
    "duration": 4,
    "start_time": "2022-05-14T10:08:29.238Z"
   },
   {
    "duration": 65,
    "start_time": "2022-05-14T10:08:29.251Z"
   },
   {
    "duration": 304,
    "start_time": "2022-05-14T10:08:29.319Z"
   },
   {
    "duration": 5,
    "start_time": "2022-05-14T10:08:29.633Z"
   },
   {
    "duration": 14,
    "start_time": "2022-05-14T10:08:29.640Z"
   },
   {
    "duration": 262,
    "start_time": "2022-05-14T10:08:29.656Z"
   },
   {
    "duration": 26,
    "start_time": "2022-05-14T10:08:29.919Z"
   },
   {
    "duration": 15,
    "start_time": "2022-05-14T10:08:29.947Z"
   },
   {
    "duration": 4422,
    "start_time": "2022-05-14T10:08:47.730Z"
   },
   {
    "duration": 1355,
    "start_time": "2022-05-14T10:09:32.433Z"
   },
   {
    "duration": 1371,
    "start_time": "2022-05-14T10:10:44.300Z"
   },
   {
    "duration": 1360,
    "start_time": "2022-05-14T10:10:56.628Z"
   },
   {
    "duration": 4,
    "start_time": "2022-05-14T10:11:32.444Z"
   },
   {
    "duration": 56,
    "start_time": "2022-05-14T10:11:32.466Z"
   },
   {
    "duration": 306,
    "start_time": "2022-05-14T10:11:32.524Z"
   },
   {
    "duration": 6,
    "start_time": "2022-05-14T10:11:32.831Z"
   },
   {
    "duration": 23,
    "start_time": "2022-05-14T10:11:32.839Z"
   },
   {
    "duration": 261,
    "start_time": "2022-05-14T10:11:32.863Z"
   },
   {
    "duration": 22,
    "start_time": "2022-05-14T10:11:37.533Z"
   },
   {
    "duration": 6,
    "start_time": "2022-05-14T10:11:47.960Z"
   },
   {
    "duration": 15,
    "start_time": "2022-05-14T10:12:32.215Z"
   },
   {
    "duration": 14,
    "start_time": "2022-05-14T10:12:42.037Z"
   },
   {
    "duration": 1364,
    "start_time": "2022-05-14T10:13:15.734Z"
   },
   {
    "duration": 1395,
    "start_time": "2022-05-14T10:14:29.218Z"
   },
   {
    "duration": 19,
    "start_time": "2022-05-14T10:16:59.833Z"
   },
   {
    "duration": 8,
    "start_time": "2022-05-14T10:18:00.950Z"
   },
   {
    "duration": 9,
    "start_time": "2022-05-14T10:18:42.197Z"
   },
   {
    "duration": 6,
    "start_time": "2022-05-14T10:18:56.072Z"
   },
   {
    "duration": 136,
    "start_time": "2022-05-14T10:20:47.661Z"
   },
   {
    "duration": 5,
    "start_time": "2022-05-14T10:20:52.439Z"
   },
   {
    "duration": 14,
    "start_time": "2022-05-14T10:21:19.463Z"
   },
   {
    "duration": 3,
    "start_time": "2022-05-14T10:21:26.879Z"
   },
   {
    "duration": 72,
    "start_time": "2022-05-14T10:21:26.896Z"
   },
   {
    "duration": 325,
    "start_time": "2022-05-14T10:21:26.970Z"
   },
   {
    "duration": 6,
    "start_time": "2022-05-14T10:21:27.297Z"
   },
   {
    "duration": 29,
    "start_time": "2022-05-14T10:21:27.305Z"
   },
   {
    "duration": 257,
    "start_time": "2022-05-14T10:21:27.336Z"
   },
   {
    "duration": 19,
    "start_time": "2022-05-14T10:21:27.595Z"
   },
   {
    "duration": 32,
    "start_time": "2022-05-14T10:21:27.615Z"
   },
   {
    "duration": 1414,
    "start_time": "2022-05-14T10:21:27.649Z"
   },
   {
    "duration": 8,
    "start_time": "2022-05-14T10:21:29.065Z"
   },
   {
    "duration": 20,
    "start_time": "2022-05-14T10:22:53.610Z"
   },
   {
    "duration": 23,
    "start_time": "2022-05-14T10:23:25.585Z"
   },
   {
    "duration": 10,
    "start_time": "2022-05-14T10:25:34.060Z"
   },
   {
    "duration": 20,
    "start_time": "2022-05-14T10:27:35.297Z"
   },
   {
    "duration": 185,
    "start_time": "2022-05-14T10:32:26.016Z"
   },
   {
    "duration": 162,
    "start_time": "2022-05-14T10:32:30.533Z"
   },
   {
    "duration": 136,
    "start_time": "2022-05-14T10:32:36.270Z"
   },
   {
    "duration": 154,
    "start_time": "2022-05-14T10:33:00.560Z"
   },
   {
    "duration": 179,
    "start_time": "2022-05-14T10:44:06.288Z"
   },
   {
    "duration": 329,
    "start_time": "2022-05-14T10:44:15.316Z"
   },
   {
    "duration": 365,
    "start_time": "2022-05-14T10:44:29.927Z"
   },
   {
    "duration": 377,
    "start_time": "2022-05-14T10:47:07.495Z"
   },
   {
    "duration": 344,
    "start_time": "2022-05-14T10:47:15.173Z"
   },
   {
    "duration": 358,
    "start_time": "2022-05-14T10:48:38.269Z"
   },
   {
    "duration": 323,
    "start_time": "2022-05-14T10:48:46.196Z"
   },
   {
    "duration": 20,
    "start_time": "2022-05-14T10:48:53.377Z"
   },
   {
    "duration": 370,
    "start_time": "2022-05-14T10:48:58.521Z"
   },
   {
    "duration": 423,
    "start_time": "2022-05-14T10:49:07.064Z"
   },
   {
    "duration": 340,
    "start_time": "2022-05-14T10:49:11.187Z"
   },
   {
    "duration": 475,
    "start_time": "2022-05-14T10:49:22.808Z"
   },
   {
    "duration": 419,
    "start_time": "2022-05-14T10:49:48.104Z"
   },
   {
    "duration": 477,
    "start_time": "2022-05-14T10:50:03.706Z"
   },
   {
    "duration": 307,
    "start_time": "2022-05-14T10:50:11.882Z"
   },
   {
    "duration": 335,
    "start_time": "2022-05-14T10:50:18.563Z"
   },
   {
    "duration": 352,
    "start_time": "2022-05-14T10:50:30.360Z"
   },
   {
    "duration": 463,
    "start_time": "2022-05-14T10:53:21.861Z"
   },
   {
    "duration": 448,
    "start_time": "2022-05-14T10:53:26.779Z"
   },
   {
    "duration": 349,
    "start_time": "2022-05-14T10:54:03.959Z"
   },
   {
    "duration": 10,
    "start_time": "2022-05-14T10:57:11.984Z"
   },
   {
    "duration": 131,
    "start_time": "2022-05-14T10:57:36.167Z"
   },
   {
    "duration": 4,
    "start_time": "2022-05-14T10:57:46.878Z"
   },
   {
    "duration": 72,
    "start_time": "2022-05-14T10:57:46.890Z"
   },
   {
    "duration": 366,
    "start_time": "2022-05-14T10:57:46.964Z"
   },
   {
    "duration": 6,
    "start_time": "2022-05-14T10:57:47.332Z"
   },
   {
    "duration": 40,
    "start_time": "2022-05-14T10:57:47.341Z"
   },
   {
    "duration": 306,
    "start_time": "2022-05-14T10:57:47.384Z"
   },
   {
    "duration": 18,
    "start_time": "2022-05-14T10:57:47.693Z"
   },
   {
    "duration": 34,
    "start_time": "2022-05-14T10:57:47.713Z"
   },
   {
    "duration": 1657,
    "start_time": "2022-05-14T10:57:47.749Z"
   },
   {
    "duration": 36,
    "start_time": "2022-05-14T10:57:49.408Z"
   },
   {
    "duration": 24,
    "start_time": "2022-05-14T10:57:49.448Z"
   },
   {
    "duration": 8,
    "start_time": "2022-05-14T10:57:49.474Z"
   },
   {
    "duration": 20,
    "start_time": "2022-05-14T10:57:49.484Z"
   },
   {
    "duration": 382,
    "start_time": "2022-05-14T10:57:49.506Z"
   },
   {
    "duration": 147,
    "start_time": "2022-05-14T10:57:50.441Z"
   },
   {
    "duration": 81,
    "start_time": "2022-05-14T10:58:01.425Z"
   },
   {
    "duration": 12,
    "start_time": "2022-05-14T10:58:16.494Z"
   },
   {
    "duration": 9,
    "start_time": "2022-05-14T10:59:42.003Z"
   },
   {
    "duration": 12,
    "start_time": "2022-05-14T10:59:50.467Z"
   },
   {
    "duration": 37,
    "start_time": "2022-05-14T11:00:13.375Z"
   },
   {
    "duration": 4,
    "start_time": "2022-05-14T11:00:26.262Z"
   },
   {
    "duration": 80,
    "start_time": "2022-05-14T11:00:26.293Z"
   },
   {
    "duration": 391,
    "start_time": "2022-05-14T11:00:26.375Z"
   },
   {
    "duration": 5,
    "start_time": "2022-05-14T11:00:26.768Z"
   },
   {
    "duration": 16,
    "start_time": "2022-05-14T11:00:26.775Z"
   },
   {
    "duration": 304,
    "start_time": "2022-05-14T11:00:26.792Z"
   },
   {
    "duration": 18,
    "start_time": "2022-05-14T11:00:27.098Z"
   },
   {
    "duration": 31,
    "start_time": "2022-05-14T11:00:27.118Z"
   },
   {
    "duration": 1716,
    "start_time": "2022-05-14T11:00:27.153Z"
   },
   {
    "duration": 20,
    "start_time": "2022-05-14T11:00:28.873Z"
   },
   {
    "duration": 17,
    "start_time": "2022-05-14T11:00:28.895Z"
   },
   {
    "duration": 15,
    "start_time": "2022-05-14T11:00:28.936Z"
   },
   {
    "duration": 37,
    "start_time": "2022-05-14T11:00:28.953Z"
   },
   {
    "duration": 389,
    "start_time": "2022-05-14T11:00:28.992Z"
   },
   {
    "duration": 13,
    "start_time": "2022-05-14T11:00:29.683Z"
   },
   {
    "duration": 4,
    "start_time": "2022-05-14T11:01:07.791Z"
   },
   {
    "duration": 71,
    "start_time": "2022-05-14T11:01:07.826Z"
   },
   {
    "duration": 369,
    "start_time": "2022-05-14T11:01:07.899Z"
   },
   {
    "duration": 7,
    "start_time": "2022-05-14T11:01:08.270Z"
   },
   {
    "duration": 20,
    "start_time": "2022-05-14T11:01:08.279Z"
   },
   {
    "duration": 403,
    "start_time": "2022-05-14T11:01:08.303Z"
   },
   {
    "duration": 27,
    "start_time": "2022-05-14T11:01:08.708Z"
   },
   {
    "duration": 24,
    "start_time": "2022-05-14T11:01:08.737Z"
   },
   {
    "duration": 1729,
    "start_time": "2022-05-14T11:01:08.763Z"
   },
   {
    "duration": 19,
    "start_time": "2022-05-14T11:01:10.494Z"
   },
   {
    "duration": 42,
    "start_time": "2022-05-14T11:01:10.515Z"
   },
   {
    "duration": 15,
    "start_time": "2022-05-14T11:01:10.559Z"
   },
   {
    "duration": 20,
    "start_time": "2022-05-14T11:01:10.576Z"
   },
   {
    "duration": 392,
    "start_time": "2022-05-14T11:01:10.598Z"
   },
   {
    "duration": 29,
    "start_time": "2022-05-14T11:01:10.993Z"
   },
   {
    "duration": 19,
    "start_time": "2022-05-14T11:01:34.191Z"
   },
   {
    "duration": 11,
    "start_time": "2022-05-14T11:01:47.338Z"
   },
   {
    "duration": 13,
    "start_time": "2022-05-14T11:01:53.835Z"
   },
   {
    "duration": 30,
    "start_time": "2022-05-14T11:03:39.447Z"
   },
   {
    "duration": 3,
    "start_time": "2022-05-14T11:03:43.382Z"
   },
   {
    "duration": 64,
    "start_time": "2022-05-14T11:03:43.404Z"
   },
   {
    "duration": 357,
    "start_time": "2022-05-14T11:03:43.470Z"
   },
   {
    "duration": 9,
    "start_time": "2022-05-14T11:03:43.834Z"
   },
   {
    "duration": 30,
    "start_time": "2022-05-14T11:03:43.845Z"
   },
   {
    "duration": 286,
    "start_time": "2022-05-14T11:03:43.878Z"
   },
   {
    "duration": 18,
    "start_time": "2022-05-14T11:03:44.167Z"
   },
   {
    "duration": 15,
    "start_time": "2022-05-14T11:03:44.187Z"
   },
   {
    "duration": 1570,
    "start_time": "2022-05-14T11:03:44.204Z"
   },
   {
    "duration": 18,
    "start_time": "2022-05-14T11:03:45.776Z"
   },
   {
    "duration": 16,
    "start_time": "2022-05-14T11:03:45.795Z"
   },
   {
    "duration": 32,
    "start_time": "2022-05-14T11:03:45.814Z"
   },
   {
    "duration": 38,
    "start_time": "2022-05-14T11:03:45.848Z"
   },
   {
    "duration": 369,
    "start_time": "2022-05-14T11:03:45.888Z"
   },
   {
    "duration": 10,
    "start_time": "2022-05-14T11:03:47.860Z"
   },
   {
    "duration": 10,
    "start_time": "2022-05-14T11:04:19.346Z"
   },
   {
    "duration": 12,
    "start_time": "2022-05-14T11:05:32.347Z"
   },
   {
    "duration": 26,
    "start_time": "2022-05-14T11:05:49.294Z"
   },
   {
    "duration": 12,
    "start_time": "2022-05-14T11:06:14.055Z"
   },
   {
    "duration": 16,
    "start_time": "2022-05-14T11:06:26.836Z"
   },
   {
    "duration": 13,
    "start_time": "2022-05-14T11:06:39.803Z"
   },
   {
    "duration": 17,
    "start_time": "2022-05-14T11:06:58.658Z"
   },
   {
    "duration": 17,
    "start_time": "2022-05-14T11:07:21.003Z"
   },
   {
    "duration": 7207,
    "start_time": "2022-05-14T11:07:31.460Z"
   },
   {
    "duration": 15,
    "start_time": "2022-05-14T11:08:09.861Z"
   },
   {
    "duration": 3357,
    "start_time": "2022-05-14T11:08:18.870Z"
   },
   {
    "duration": 3465,
    "start_time": "2022-05-14T11:08:32.262Z"
   },
   {
    "duration": 3308,
    "start_time": "2022-05-14T11:09:36.082Z"
   },
   {
    "duration": 3663,
    "start_time": "2022-05-14T11:09:49.116Z"
   },
   {
    "duration": 3206,
    "start_time": "2022-05-14T11:10:09.283Z"
   },
   {
    "duration": 3415,
    "start_time": "2022-05-14T11:10:18.216Z"
   },
   {
    "duration": 3285,
    "start_time": "2022-05-14T11:10:33.221Z"
   },
   {
    "duration": 3304,
    "start_time": "2022-05-14T11:10:54.630Z"
   },
   {
    "duration": 3528,
    "start_time": "2022-05-14T11:11:16.853Z"
   },
   {
    "duration": 3331,
    "start_time": "2022-05-14T11:12:01.306Z"
   },
   {
    "duration": 3311,
    "start_time": "2022-05-14T11:12:12.587Z"
   },
   {
    "duration": 3275,
    "start_time": "2022-05-14T11:12:36.502Z"
   },
   {
    "duration": 17,
    "start_time": "2022-05-14T11:13:39.877Z"
   },
   {
    "duration": 3601,
    "start_time": "2022-05-14T11:13:51.092Z"
   },
   {
    "duration": 3269,
    "start_time": "2022-05-14T11:14:06.440Z"
   },
   {
    "duration": 3280,
    "start_time": "2022-05-14T11:14:19.534Z"
   },
   {
    "duration": 3271,
    "start_time": "2022-05-14T11:15:24.582Z"
   },
   {
    "duration": 3247,
    "start_time": "2022-05-14T11:15:38.443Z"
   },
   {
    "duration": 3561,
    "start_time": "2022-05-14T11:16:40.922Z"
   },
   {
    "duration": 3279,
    "start_time": "2022-05-14T11:17:10.802Z"
   },
   {
    "duration": 3289,
    "start_time": "2022-05-14T11:17:32.528Z"
   },
   {
    "duration": 3399,
    "start_time": "2022-05-14T11:18:04.624Z"
   },
   {
    "duration": 13,
    "start_time": "2022-05-14T11:24:50.003Z"
   },
   {
    "duration": 12,
    "start_time": "2022-05-14T11:24:58.181Z"
   },
   {
    "duration": 172,
    "start_time": "2022-05-14T11:25:51.498Z"
   },
   {
    "duration": 181,
    "start_time": "2022-05-14T11:26:13.570Z"
   },
   {
    "duration": 32,
    "start_time": "2022-05-14T11:33:37.709Z"
   },
   {
    "duration": 9,
    "start_time": "2022-05-14T11:33:48.826Z"
   },
   {
    "duration": 22,
    "start_time": "2022-05-14T11:34:09.991Z"
   },
   {
    "duration": 9,
    "start_time": "2022-05-14T11:34:16.241Z"
   },
   {
    "duration": 16,
    "start_time": "2022-05-14T11:35:32.669Z"
   },
   {
    "duration": 28,
    "start_time": "2022-05-14T11:35:52.921Z"
   },
   {
    "duration": 1644,
    "start_time": "2022-05-14T11:36:07.019Z"
   },
   {
    "duration": 1921,
    "start_time": "2022-05-14T11:36:27.532Z"
   },
   {
    "duration": 2238,
    "start_time": "2022-05-14T11:36:50.954Z"
   },
   {
    "duration": 1828,
    "start_time": "2022-05-14T11:38:16.602Z"
   },
   {
    "duration": 1794,
    "start_time": "2022-05-14T11:39:28.678Z"
   },
   {
    "duration": 145,
    "start_time": "2022-05-14T11:43:20.097Z"
   },
   {
    "duration": 12,
    "start_time": "2022-05-14T11:43:27.673Z"
   },
   {
    "duration": 12,
    "start_time": "2022-05-14T11:43:56.399Z"
   },
   {
    "duration": 12,
    "start_time": "2022-05-14T11:44:39.146Z"
   },
   {
    "duration": 18,
    "start_time": "2022-05-14T11:45:31.394Z"
   },
   {
    "duration": 141,
    "start_time": "2022-05-14T11:46:42.329Z"
   },
   {
    "duration": 38,
    "start_time": "2022-05-14T11:46:47.422Z"
   },
   {
    "duration": 12,
    "start_time": "2022-05-14T11:47:15.427Z"
   },
   {
    "duration": 11,
    "start_time": "2022-05-14T11:48:12.121Z"
   },
   {
    "duration": 17,
    "start_time": "2022-05-14T11:48:16.240Z"
   },
   {
    "duration": 167,
    "start_time": "2022-05-14T11:49:25.964Z"
   },
   {
    "duration": 142,
    "start_time": "2022-05-14T11:49:43.146Z"
   },
   {
    "duration": 10,
    "start_time": "2022-05-14T11:49:52.261Z"
   },
   {
    "duration": 29,
    "start_time": "2022-05-14T11:50:25.270Z"
   },
   {
    "duration": 3,
    "start_time": "2022-05-14T11:50:48.056Z"
   },
   {
    "duration": 56,
    "start_time": "2022-05-14T11:50:48.065Z"
   },
   {
    "duration": 330,
    "start_time": "2022-05-14T11:50:48.123Z"
   },
   {
    "duration": 5,
    "start_time": "2022-05-14T11:50:48.455Z"
   },
   {
    "duration": 15,
    "start_time": "2022-05-14T11:50:48.462Z"
   },
   {
    "duration": 275,
    "start_time": "2022-05-14T11:50:48.479Z"
   },
   {
    "duration": 18,
    "start_time": "2022-05-14T11:50:48.756Z"
   },
   {
    "duration": 15,
    "start_time": "2022-05-14T11:50:48.776Z"
   },
   {
    "duration": 1427,
    "start_time": "2022-05-14T11:50:48.793Z"
   },
   {
    "duration": 27,
    "start_time": "2022-05-14T11:50:50.222Z"
   },
   {
    "duration": 17,
    "start_time": "2022-05-14T11:50:50.252Z"
   },
   {
    "duration": 29,
    "start_time": "2022-05-14T11:50:50.271Z"
   },
   {
    "duration": 41,
    "start_time": "2022-05-14T11:50:50.301Z"
   },
   {
    "duration": 323,
    "start_time": "2022-05-14T11:50:50.344Z"
   },
   {
    "duration": 9,
    "start_time": "2022-05-14T11:50:50.669Z"
   },
   {
    "duration": 3471,
    "start_time": "2022-05-14T11:50:50.679Z"
   },
   {
    "duration": 212,
    "start_time": "2022-05-14T11:50:54.152Z"
   },
   {
    "duration": 1813,
    "start_time": "2022-05-14T11:50:54.365Z"
   },
   {
    "duration": 23,
    "start_time": "2022-05-14T11:50:56.181Z"
   },
   {
    "duration": 18,
    "start_time": "2022-05-14T11:51:07.029Z"
   },
   {
    "duration": 24,
    "start_time": "2022-05-14T11:52:31.683Z"
   },
   {
    "duration": 15,
    "start_time": "2022-05-14T11:52:49.674Z"
   },
   {
    "duration": 129,
    "start_time": "2022-05-14T11:53:04.539Z"
   },
   {
    "duration": 15,
    "start_time": "2022-05-14T11:53:14.104Z"
   },
   {
    "duration": 14,
    "start_time": "2022-05-14T11:53:25.898Z"
   },
   {
    "duration": 14,
    "start_time": "2022-05-14T11:53:36.600Z"
   },
   {
    "duration": 14,
    "start_time": "2022-05-14T11:53:41.631Z"
   },
   {
    "duration": 19,
    "start_time": "2022-05-14T11:53:45.513Z"
   },
   {
    "duration": 15,
    "start_time": "2022-05-14T11:54:07.443Z"
   },
   {
    "duration": 13,
    "start_time": "2022-05-14T11:54:36.771Z"
   },
   {
    "duration": 15,
    "start_time": "2022-05-14T11:54:50.853Z"
   },
   {
    "duration": 14,
    "start_time": "2022-05-14T11:54:53.783Z"
   },
   {
    "duration": 161,
    "start_time": "2022-05-14T11:55:14.808Z"
   },
   {
    "duration": 166,
    "start_time": "2022-05-14T11:55:46.354Z"
   },
   {
    "duration": 134,
    "start_time": "2022-05-14T11:55:59.734Z"
   },
   {
    "duration": 165,
    "start_time": "2022-05-14T11:56:03.489Z"
   },
   {
    "duration": 178,
    "start_time": "2022-05-14T11:57:45.820Z"
   },
   {
    "duration": 153,
    "start_time": "2022-05-14T11:58:11.462Z"
   },
   {
    "duration": 9,
    "start_time": "2022-05-14T12:03:55.727Z"
   },
   {
    "duration": 73,
    "start_time": "2022-05-14T20:06:36.949Z"
   },
   {
    "duration": 1837,
    "start_time": "2022-05-14T20:06:41.663Z"
   },
   {
    "duration": 87,
    "start_time": "2022-05-14T20:06:43.502Z"
   },
   {
    "duration": 414,
    "start_time": "2022-05-14T20:06:43.591Z"
   },
   {
    "duration": 7,
    "start_time": "2022-05-14T20:06:44.008Z"
   },
   {
    "duration": 21,
    "start_time": "2022-05-14T20:06:44.017Z"
   },
   {
    "duration": 390,
    "start_time": "2022-05-14T20:06:44.041Z"
   },
   {
    "duration": 23,
    "start_time": "2022-05-14T20:06:44.434Z"
   },
   {
    "duration": 44,
    "start_time": "2022-05-14T20:06:44.459Z"
   },
   {
    "duration": 2351,
    "start_time": "2022-05-14T20:06:44.505Z"
   },
   {
    "duration": 43,
    "start_time": "2022-05-14T20:06:46.860Z"
   },
   {
    "duration": 21,
    "start_time": "2022-05-14T20:06:46.906Z"
   },
   {
    "duration": 12,
    "start_time": "2022-05-14T20:06:46.930Z"
   },
   {
    "duration": 56,
    "start_time": "2022-05-14T20:06:46.944Z"
   },
   {
    "duration": 438,
    "start_time": "2022-05-14T20:06:47.002Z"
   },
   {
    "duration": 13,
    "start_time": "2022-05-14T20:06:47.442Z"
   },
   {
    "duration": 4549,
    "start_time": "2022-05-14T20:06:47.457Z"
   },
   {
    "duration": 252,
    "start_time": "2022-05-14T20:06:52.008Z"
   },
   {
    "duration": 2259,
    "start_time": "2022-05-14T20:06:52.262Z"
   },
   {
    "duration": 228,
    "start_time": "2022-05-14T20:06:54.523Z"
   },
   {
    "duration": 8,
    "start_time": "2022-05-14T20:06:54.754Z"
   },
   {
    "duration": 8,
    "start_time": "2022-05-14T20:08:11.708Z"
   },
   {
    "duration": 134,
    "start_time": "2022-05-14T20:10:59.030Z"
   },
   {
    "duration": 28,
    "start_time": "2022-05-14T20:11:07.766Z"
   },
   {
    "duration": 13,
    "start_time": "2022-05-14T20:11:25.222Z"
   },
   {
    "duration": 8,
    "start_time": "2022-05-14T20:13:21.050Z"
   },
   {
    "duration": 12,
    "start_time": "2022-05-14T20:16:43.768Z"
   },
   {
    "duration": 12,
    "start_time": "2022-05-14T20:17:26.191Z"
   },
   {
    "duration": 48,
    "start_time": "2022-05-14T20:17:33.575Z"
   },
   {
    "duration": 19,
    "start_time": "2022-05-14T20:18:09.811Z"
   },
   {
    "duration": 30,
    "start_time": "2022-05-14T20:32:47.654Z"
   },
   {
    "duration": 548,
    "start_time": "2022-05-14T20:32:59.963Z"
   },
   {
    "duration": 4,
    "start_time": "2022-05-14T20:34:42.080Z"
   },
   {
    "duration": 79,
    "start_time": "2022-05-14T20:34:42.092Z"
   },
   {
    "duration": 454,
    "start_time": "2022-05-14T20:34:42.173Z"
   },
   {
    "duration": 8,
    "start_time": "2022-05-14T20:34:42.630Z"
   },
   {
    "duration": 19,
    "start_time": "2022-05-14T20:34:42.641Z"
   },
   {
    "duration": 434,
    "start_time": "2022-05-14T20:34:42.662Z"
   },
   {
    "duration": 25,
    "start_time": "2022-05-14T20:34:43.099Z"
   },
   {
    "duration": 18,
    "start_time": "2022-05-14T20:34:43.126Z"
   },
   {
    "duration": 2584,
    "start_time": "2022-05-14T20:34:43.146Z"
   },
   {
    "duration": 24,
    "start_time": "2022-05-14T20:34:45.732Z"
   },
   {
    "duration": 55,
    "start_time": "2022-05-14T20:34:45.759Z"
   },
   {
    "duration": 12,
    "start_time": "2022-05-14T20:34:45.817Z"
   },
   {
    "duration": 25,
    "start_time": "2022-05-14T20:34:45.831Z"
   },
   {
    "duration": 496,
    "start_time": "2022-05-14T20:34:45.859Z"
   },
   {
    "duration": 11,
    "start_time": "2022-05-14T20:34:46.358Z"
   },
   {
    "duration": 4609,
    "start_time": "2022-05-14T20:34:46.371Z"
   },
   {
    "duration": 262,
    "start_time": "2022-05-14T20:34:50.983Z"
   },
   {
    "duration": 2407,
    "start_time": "2022-05-14T20:34:51.247Z"
   },
   {
    "duration": 233,
    "start_time": "2022-05-14T20:34:53.656Z"
   },
   {
    "duration": 9,
    "start_time": "2022-05-14T20:34:53.894Z"
   },
   {
    "duration": 648,
    "start_time": "2022-05-14T20:34:53.911Z"
   },
   {
    "duration": 541,
    "start_time": "2022-05-14T20:35:29.057Z"
   },
   {
    "duration": 505,
    "start_time": "2022-05-14T20:35:35.071Z"
   },
   {
    "duration": 5,
    "start_time": "2022-05-14T20:39:09.813Z"
   },
   {
    "duration": 70,
    "start_time": "2022-05-14T20:39:09.824Z"
   },
   {
    "duration": 631,
    "start_time": "2022-05-14T20:39:09.898Z"
   },
   {
    "duration": 9,
    "start_time": "2022-05-14T20:39:10.531Z"
   },
   {
    "duration": 48,
    "start_time": "2022-05-14T20:39:10.544Z"
   },
   {
    "duration": 528,
    "start_time": "2022-05-14T20:39:10.595Z"
   },
   {
    "duration": 21,
    "start_time": "2022-05-14T20:39:11.125Z"
   },
   {
    "duration": 47,
    "start_time": "2022-05-14T20:39:11.148Z"
   },
   {
    "duration": 3259,
    "start_time": "2022-05-14T20:39:11.197Z"
   },
   {
    "duration": 42,
    "start_time": "2022-05-14T20:39:14.458Z"
   },
   {
    "duration": 23,
    "start_time": "2022-05-14T20:39:14.503Z"
   },
   {
    "duration": 12,
    "start_time": "2022-05-14T20:39:14.528Z"
   },
   {
    "duration": 57,
    "start_time": "2022-05-14T20:39:14.542Z"
   },
   {
    "duration": 436,
    "start_time": "2022-05-14T20:39:14.602Z"
   },
   {
    "duration": 11,
    "start_time": "2022-05-14T20:39:15.041Z"
   },
   {
    "duration": 4566,
    "start_time": "2022-05-14T20:39:15.054Z"
   },
   {
    "duration": 416,
    "start_time": "2022-05-14T20:39:19.622Z"
   },
   {
    "duration": 2440,
    "start_time": "2022-05-14T20:39:20.041Z"
   },
   {
    "duration": 245,
    "start_time": "2022-05-14T20:39:22.484Z"
   },
   {
    "duration": 7,
    "start_time": "2022-05-14T20:39:22.732Z"
   },
   {
    "duration": 12,
    "start_time": "2022-05-14T20:39:22.743Z"
   },
   {
    "duration": 750,
    "start_time": "2022-05-14T20:39:22.757Z"
   },
   {
    "duration": 5,
    "start_time": "2022-05-14T20:41:25.157Z"
   },
   {
    "duration": 284,
    "start_time": "2022-05-14T20:43:07.329Z"
   },
   {
    "duration": 635,
    "start_time": "2022-05-14T20:43:18.248Z"
   },
   {
    "duration": 510,
    "start_time": "2022-05-14T20:43:29.656Z"
   },
   {
    "duration": 177,
    "start_time": "2022-05-14T20:43:49.736Z"
   },
   {
    "duration": 438,
    "start_time": "2022-05-14T20:44:09.576Z"
   },
   {
    "duration": 593,
    "start_time": "2022-05-14T20:44:17.602Z"
   },
   {
    "duration": 388,
    "start_time": "2022-05-14T20:44:26.432Z"
   },
   {
    "duration": 412,
    "start_time": "2022-05-14T20:44:34.928Z"
   },
   {
    "duration": 390,
    "start_time": "2022-05-14T20:44:41.045Z"
   },
   {
    "duration": 441,
    "start_time": "2022-05-14T20:44:55.646Z"
   },
   {
    "duration": 418,
    "start_time": "2022-05-14T20:45:04.575Z"
   },
   {
    "duration": 21,
    "start_time": "2022-05-14T20:51:34.648Z"
   },
   {
    "duration": 20,
    "start_time": "2022-05-14T20:51:58.896Z"
   },
   {
    "duration": 32,
    "start_time": "2022-05-14T20:52:31.556Z"
   },
   {
    "duration": 26,
    "start_time": "2022-05-14T20:52:35.428Z"
   },
   {
    "duration": 15,
    "start_time": "2022-05-14T20:52:58.353Z"
   },
   {
    "duration": 13,
    "start_time": "2022-05-14T20:53:10.257Z"
   },
   {
    "duration": 453,
    "start_time": "2022-05-14T20:55:33.699Z"
   },
   {
    "duration": 432,
    "start_time": "2022-05-14T21:00:02.117Z"
   },
   {
    "duration": 13,
    "start_time": "2022-05-14T21:02:03.419Z"
   },
   {
    "duration": 348,
    "start_time": "2022-05-14T21:02:15.388Z"
   },
   {
    "duration": 334,
    "start_time": "2022-05-14T21:02:42.133Z"
   },
   {
    "duration": 317,
    "start_time": "2022-05-14T21:02:47.476Z"
   },
   {
    "duration": 332,
    "start_time": "2022-05-14T21:03:04.086Z"
   },
   {
    "duration": 333,
    "start_time": "2022-05-14T21:03:18.258Z"
   },
   {
    "duration": 830,
    "start_time": "2022-05-14T21:04:29.149Z"
   },
   {
    "duration": 755,
    "start_time": "2022-05-14T21:04:34.469Z"
   },
   {
    "duration": 52,
    "start_time": "2022-05-15T08:11:32.534Z"
   },
   {
    "duration": 1415,
    "start_time": "2022-05-15T08:11:38.253Z"
   },
   {
    "duration": 76,
    "start_time": "2022-05-15T08:11:39.670Z"
   },
   {
    "duration": 326,
    "start_time": "2022-05-15T08:11:39.748Z"
   },
   {
    "duration": 6,
    "start_time": "2022-05-15T08:11:40.076Z"
   },
   {
    "duration": 16,
    "start_time": "2022-05-15T08:11:40.085Z"
   },
   {
    "duration": 257,
    "start_time": "2022-05-15T08:11:40.103Z"
   },
   {
    "duration": 19,
    "start_time": "2022-05-15T08:11:40.363Z"
   },
   {
    "duration": 15,
    "start_time": "2022-05-15T08:11:40.384Z"
   },
   {
    "duration": 1387,
    "start_time": "2022-05-15T08:11:40.401Z"
   },
   {
    "duration": 18,
    "start_time": "2022-05-15T08:11:41.790Z"
   },
   {
    "duration": 38,
    "start_time": "2022-05-15T08:11:41.810Z"
   },
   {
    "duration": 9,
    "start_time": "2022-05-15T08:11:41.850Z"
   },
   {
    "duration": 19,
    "start_time": "2022-05-15T08:11:41.861Z"
   },
   {
    "duration": 331,
    "start_time": "2022-05-15T08:11:41.882Z"
   },
   {
    "duration": 19,
    "start_time": "2022-05-15T08:11:42.214Z"
   },
   {
    "duration": 3419,
    "start_time": "2022-05-15T08:11:42.235Z"
   },
   {
    "duration": 173,
    "start_time": "2022-05-15T08:11:45.655Z"
   },
   {
    "duration": 1726,
    "start_time": "2022-05-15T08:11:45.834Z"
   },
   {
    "duration": 163,
    "start_time": "2022-05-15T08:11:47.562Z"
   },
   {
    "duration": 11,
    "start_time": "2022-05-15T08:11:47.726Z"
   },
   {
    "duration": 7,
    "start_time": "2022-05-15T08:11:50.000Z"
   },
   {
    "duration": 494,
    "start_time": "2022-05-15T08:11:57.956Z"
   },
   {
    "duration": 321,
    "start_time": "2022-05-15T08:13:25.473Z"
   },
   {
    "duration": 3,
    "start_time": "2022-05-15T08:13:38.268Z"
   },
   {
    "duration": 55,
    "start_time": "2022-05-15T08:13:38.290Z"
   },
   {
    "duration": 325,
    "start_time": "2022-05-15T08:13:38.347Z"
   },
   {
    "duration": 5,
    "start_time": "2022-05-15T08:13:38.674Z"
   },
   {
    "duration": 17,
    "start_time": "2022-05-15T08:13:38.682Z"
   },
   {
    "duration": 274,
    "start_time": "2022-05-15T08:13:38.701Z"
   },
   {
    "duration": 19,
    "start_time": "2022-05-15T08:13:38.977Z"
   },
   {
    "duration": 42,
    "start_time": "2022-05-15T08:13:38.998Z"
   },
   {
    "duration": 1324,
    "start_time": "2022-05-15T08:13:39.042Z"
   },
   {
    "duration": 18,
    "start_time": "2022-05-15T08:13:40.369Z"
   },
   {
    "duration": 16,
    "start_time": "2022-05-15T08:13:40.389Z"
   },
   {
    "duration": 34,
    "start_time": "2022-05-15T08:13:40.407Z"
   },
   {
    "duration": 29,
    "start_time": "2022-05-15T08:13:40.443Z"
   },
   {
    "duration": 316,
    "start_time": "2022-05-15T08:13:40.474Z"
   },
   {
    "duration": 8,
    "start_time": "2022-05-15T08:13:40.791Z"
   },
   {
    "duration": 3403,
    "start_time": "2022-05-15T08:13:40.801Z"
   },
   {
    "duration": 193,
    "start_time": "2022-05-15T08:13:44.205Z"
   },
   {
    "duration": 1749,
    "start_time": "2022-05-15T08:13:44.401Z"
   },
   {
    "duration": 176,
    "start_time": "2022-05-15T08:13:46.152Z"
   },
   {
    "duration": 8,
    "start_time": "2022-05-15T08:13:46.330Z"
   },
   {
    "duration": 9,
    "start_time": "2022-05-15T08:13:46.340Z"
   },
   {
    "duration": 626,
    "start_time": "2022-05-15T08:13:46.350Z"
   },
   {
    "duration": 301,
    "start_time": "2022-05-15T08:13:46.978Z"
   },
   {
    "duration": 333,
    "start_time": "2022-05-15T08:13:47.280Z"
   },
   {
    "duration": 354,
    "start_time": "2022-05-15T08:13:47.616Z"
   },
   {
    "duration": 266,
    "start_time": "2022-05-15T08:13:50.535Z"
   },
   {
    "duration": 70,
    "start_time": "2022-05-15T08:15:49.389Z"
   },
   {
    "duration": 40,
    "start_time": "2022-05-15T08:16:00.532Z"
   },
   {
    "duration": 36,
    "start_time": "2022-05-15T08:24:18.010Z"
   },
   {
    "duration": 37,
    "start_time": "2022-05-15T08:29:41.689Z"
   },
   {
    "duration": 10,
    "start_time": "2022-05-15T08:39:14.154Z"
   },
   {
    "duration": 10,
    "start_time": "2022-05-15T08:39:34.640Z"
   },
   {
    "duration": 26,
    "start_time": "2022-05-15T08:40:50.685Z"
   },
   {
    "duration": 16,
    "start_time": "2022-05-15T08:40:59.517Z"
   },
   {
    "duration": 7,
    "start_time": "2022-05-15T08:41:04.152Z"
   },
   {
    "duration": 15,
    "start_time": "2022-05-15T08:41:30.045Z"
   },
   {
    "duration": 6,
    "start_time": "2022-05-15T08:41:34.360Z"
   },
   {
    "duration": 13,
    "start_time": "2022-05-15T08:42:11.652Z"
   },
   {
    "duration": 3,
    "start_time": "2022-05-15T08:42:15.605Z"
   },
   {
    "duration": 58,
    "start_time": "2022-05-15T08:42:15.618Z"
   },
   {
    "duration": 334,
    "start_time": "2022-05-15T08:42:15.678Z"
   },
   {
    "duration": 21,
    "start_time": "2022-05-15T08:42:16.014Z"
   },
   {
    "duration": 14,
    "start_time": "2022-05-15T08:42:16.037Z"
   },
   {
    "duration": 253,
    "start_time": "2022-05-15T08:42:16.053Z"
   },
   {
    "duration": 32,
    "start_time": "2022-05-15T08:42:16.307Z"
   },
   {
    "duration": 14,
    "start_time": "2022-05-15T08:42:16.340Z"
   },
   {
    "duration": 1302,
    "start_time": "2022-05-15T08:42:16.356Z"
   },
   {
    "duration": 18,
    "start_time": "2022-05-15T08:42:17.659Z"
   },
   {
    "duration": 17,
    "start_time": "2022-05-15T08:42:17.680Z"
   },
   {
    "duration": 36,
    "start_time": "2022-05-15T08:42:17.699Z"
   },
   {
    "duration": 19,
    "start_time": "2022-05-15T08:42:17.737Z"
   },
   {
    "duration": 327,
    "start_time": "2022-05-15T08:42:17.759Z"
   },
   {
    "duration": 8,
    "start_time": "2022-05-15T08:42:18.088Z"
   },
   {
    "duration": 3425,
    "start_time": "2022-05-15T08:42:18.098Z"
   },
   {
    "duration": 197,
    "start_time": "2022-05-15T08:42:21.524Z"
   },
   {
    "duration": 1732,
    "start_time": "2022-05-15T08:42:21.723Z"
   },
   {
    "duration": 165,
    "start_time": "2022-05-15T08:42:23.457Z"
   },
   {
    "duration": 11,
    "start_time": "2022-05-15T08:42:23.624Z"
   },
   {
    "duration": 10,
    "start_time": "2022-05-15T08:42:23.637Z"
   },
   {
    "duration": 499,
    "start_time": "2022-05-15T08:42:23.649Z"
   },
   {
    "duration": 301,
    "start_time": "2022-05-15T08:42:24.150Z"
   },
   {
    "duration": 329,
    "start_time": "2022-05-15T08:42:24.453Z"
   },
   {
    "duration": 324,
    "start_time": "2022-05-15T08:42:24.784Z"
   },
   {
    "duration": 255,
    "start_time": "2022-05-15T08:42:25.110Z"
   },
   {
    "duration": 36,
    "start_time": "2022-05-15T08:42:25.367Z"
   },
   {
    "duration": 56,
    "start_time": "2022-05-15T08:42:25.405Z"
   },
   {
    "duration": 36,
    "start_time": "2022-05-15T08:42:25.465Z"
   },
   {
    "duration": 15,
    "start_time": "2022-05-15T08:42:31.569Z"
   },
   {
    "duration": 5,
    "start_time": "2022-05-15T08:43:35.738Z"
   },
   {
    "duration": 4,
    "start_time": "2022-05-15T08:43:43.177Z"
   },
   {
    "duration": 6,
    "start_time": "2022-05-15T08:43:53.098Z"
   },
   {
    "duration": 5,
    "start_time": "2022-05-15T08:44:12.006Z"
   },
   {
    "duration": 6,
    "start_time": "2022-05-15T08:44:27.563Z"
   },
   {
    "duration": 6,
    "start_time": "2022-05-15T08:44:39.810Z"
   },
   {
    "duration": 9,
    "start_time": "2022-05-15T08:44:51.368Z"
   },
   {
    "duration": 14,
    "start_time": "2022-05-15T08:46:13.000Z"
   },
   {
    "duration": 16,
    "start_time": "2022-05-15T08:49:50.880Z"
   }
  ],
  "kernelspec": {
   "display_name": "Python 3 (ipykernel)",
   "language": "python",
   "name": "python3"
  },
  "language_info": {
   "codemirror_mode": {
    "name": "ipython",
    "version": 3
   },
   "file_extension": ".py",
   "mimetype": "text/x-python",
   "name": "python",
   "nbconvert_exporter": "python",
   "pygments_lexer": "ipython3",
   "version": "3.9.5"
  },
  "toc": {
   "base_numbering": 1,
   "nav_menu": {},
   "number_sections": true,
   "sideBar": true,
   "skip_h1_title": true,
   "title_cell": "Table of Contents",
   "title_sidebar": "Contents",
   "toc_cell": false,
   "toc_position": {},
   "toc_section_display": true,
   "toc_window_display": false
  }
 },
 "nbformat": 4,
 "nbformat_minor": 2
}
