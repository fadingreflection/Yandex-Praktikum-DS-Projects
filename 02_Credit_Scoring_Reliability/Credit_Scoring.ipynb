{
 "cells": [
  {
   "cell_type": "markdown",
   "metadata": {},
   "source": [
    "# Исследование надёжности заёмщиков\n",
    "\n",
    "Заказчик — кредитный отдел банка. Нужно разобраться, влияет ли семейное положение и количество детей клиента на факт погашения кредита в срок. Входные данные от банка — статистика о платёжеспособности клиентов.\n",
    "\n",
    "Результаты исследования будут учтены при построении модели **кредитного скоринга** — специальной системы, которая оценивает способность потенциального заёмщика вернуть кредит банку."
   ]
  },
  {
   "cell_type": "markdown",
   "metadata": {},
   "source": [
    "## Шаг 1. Загрузка данных и изучение общей информации"
   ]
  },
  {
   "cell_type": "code",
   "execution_count": 1,
   "metadata": {},
   "outputs": [],
   "source": [
    "import pandas as pd\n",
    "from matplotlib import pyplot as plt\n",
    "import seaborn as sns\n",
    "from pymystem3 import Mystem\n",
    "import collections\n",
    "from collections import Counter"
   ]
  },
  {
   "cell_type": "code",
   "execution_count": 2,
   "metadata": {},
   "outputs": [
    {
     "data": {
      "text/html": [
       "<div>\n",
       "<style scoped>\n",
       "    .dataframe tbody tr th:only-of-type {\n",
       "        vertical-align: middle;\n",
       "    }\n",
       "\n",
       "    .dataframe tbody tr th {\n",
       "        vertical-align: top;\n",
       "    }\n",
       "\n",
       "    .dataframe thead th {\n",
       "        text-align: right;\n",
       "    }\n",
       "</style>\n",
       "<table border=\"1\" class=\"dataframe\">\n",
       "  <thead>\n",
       "    <tr style=\"text-align: right;\">\n",
       "      <th></th>\n",
       "      <th>children</th>\n",
       "      <th>days_employed</th>\n",
       "      <th>dob_years</th>\n",
       "      <th>education</th>\n",
       "      <th>education_id</th>\n",
       "      <th>family_status</th>\n",
       "      <th>family_status_id</th>\n",
       "      <th>gender</th>\n",
       "      <th>income_type</th>\n",
       "      <th>debt</th>\n",
       "      <th>total_income</th>\n",
       "      <th>purpose</th>\n",
       "    </tr>\n",
       "  </thead>\n",
       "  <tbody>\n",
       "    <tr>\n",
       "      <th>0</th>\n",
       "      <td>1</td>\n",
       "      <td>-8437.673028</td>\n",
       "      <td>42</td>\n",
       "      <td>высшее</td>\n",
       "      <td>0</td>\n",
       "      <td>женат / замужем</td>\n",
       "      <td>0</td>\n",
       "      <td>F</td>\n",
       "      <td>сотрудник</td>\n",
       "      <td>0</td>\n",
       "      <td>253875.639453</td>\n",
       "      <td>покупка жилья</td>\n",
       "    </tr>\n",
       "    <tr>\n",
       "      <th>1</th>\n",
       "      <td>1</td>\n",
       "      <td>-4024.803754</td>\n",
       "      <td>36</td>\n",
       "      <td>среднее</td>\n",
       "      <td>1</td>\n",
       "      <td>женат / замужем</td>\n",
       "      <td>0</td>\n",
       "      <td>F</td>\n",
       "      <td>сотрудник</td>\n",
       "      <td>0</td>\n",
       "      <td>112080.014102</td>\n",
       "      <td>приобретение автомобиля</td>\n",
       "    </tr>\n",
       "    <tr>\n",
       "      <th>2</th>\n",
       "      <td>0</td>\n",
       "      <td>-5623.422610</td>\n",
       "      <td>33</td>\n",
       "      <td>Среднее</td>\n",
       "      <td>1</td>\n",
       "      <td>женат / замужем</td>\n",
       "      <td>0</td>\n",
       "      <td>M</td>\n",
       "      <td>сотрудник</td>\n",
       "      <td>0</td>\n",
       "      <td>145885.952297</td>\n",
       "      <td>покупка жилья</td>\n",
       "    </tr>\n",
       "    <tr>\n",
       "      <th>3</th>\n",
       "      <td>3</td>\n",
       "      <td>-4124.747207</td>\n",
       "      <td>32</td>\n",
       "      <td>среднее</td>\n",
       "      <td>1</td>\n",
       "      <td>женат / замужем</td>\n",
       "      <td>0</td>\n",
       "      <td>M</td>\n",
       "      <td>сотрудник</td>\n",
       "      <td>0</td>\n",
       "      <td>267628.550329</td>\n",
       "      <td>дополнительное образование</td>\n",
       "    </tr>\n",
       "    <tr>\n",
       "      <th>4</th>\n",
       "      <td>0</td>\n",
       "      <td>340266.072047</td>\n",
       "      <td>53</td>\n",
       "      <td>среднее</td>\n",
       "      <td>1</td>\n",
       "      <td>гражданский брак</td>\n",
       "      <td>1</td>\n",
       "      <td>F</td>\n",
       "      <td>пенсионер</td>\n",
       "      <td>0</td>\n",
       "      <td>158616.077870</td>\n",
       "      <td>сыграть свадьбу</td>\n",
       "    </tr>\n",
       "  </tbody>\n",
       "</table>\n",
       "</div>"
      ],
      "text/plain": [
       "   children  days_employed  dob_years education  education_id  \\\n",
       "0         1   -8437.673028         42    высшее             0   \n",
       "1         1   -4024.803754         36   среднее             1   \n",
       "2         0   -5623.422610         33   Среднее             1   \n",
       "3         3   -4124.747207         32   среднее             1   \n",
       "4         0  340266.072047         53   среднее             1   \n",
       "\n",
       "      family_status  family_status_id gender income_type  debt   total_income  \\\n",
       "0   женат / замужем                 0      F   сотрудник     0  253875.639453   \n",
       "1   женат / замужем                 0      F   сотрудник     0  112080.014102   \n",
       "2   женат / замужем                 0      M   сотрудник     0  145885.952297   \n",
       "3   женат / замужем                 0      M   сотрудник     0  267628.550329   \n",
       "4  гражданский брак                 1      F   пенсионер     0  158616.077870   \n",
       "\n",
       "                      purpose  \n",
       "0               покупка жилья  \n",
       "1     приобретение автомобиля  \n",
       "2               покупка жилья  \n",
       "3  дополнительное образование  \n",
       "4             сыграть свадьбу  "
      ]
     },
     "metadata": {},
     "output_type": "display_data"
    },
    {
     "name": "stdout",
     "output_type": "stream",
     "text": [
      "<class 'pandas.core.frame.DataFrame'>\n",
      "RangeIndex: 21525 entries, 0 to 21524\n",
      "Data columns (total 12 columns):\n",
      " #   Column            Non-Null Count  Dtype  \n",
      "---  ------            --------------  -----  \n",
      " 0   children          21525 non-null  int64  \n",
      " 1   days_employed     19351 non-null  float64\n",
      " 2   dob_years         21525 non-null  int64  \n",
      " 3   education         21525 non-null  object \n",
      " 4   education_id      21525 non-null  int64  \n",
      " 5   family_status     21525 non-null  object \n",
      " 6   family_status_id  21525 non-null  int64  \n",
      " 7   gender            21525 non-null  object \n",
      " 8   income_type       21525 non-null  object \n",
      " 9   debt              21525 non-null  int64  \n",
      " 10  total_income      19351 non-null  float64\n",
      " 11  purpose           21525 non-null  object \n",
      "dtypes: float64(2), int64(5), object(5)\n",
      "memory usage: 2.0+ MB\n"
     ]
    }
   ],
   "source": [
    "data = pd.read_csv('/datasets/data.csv')\n",
    "display(data.head(5))\n",
    "data.info()"
   ]
  },
  {
   "cell_type": "markdown",
   "metadata": {},
   "source": [
    "**Вывод**"
   ]
  },
  {
   "cell_type": "markdown",
   "metadata": {},
   "source": [
    "1)Уже при первом взгляде на таблицу заметны следующие проблемы:\n",
    "- отрицательные числа в столбце days_employed\n",
    "- слишком большие числа с столбце days_employed в группе пенсионеров\n",
    "- разный регистр слов в столбце education\n",
    "- информация показывает более двух тысяч пропусков в столбцах days_employed и total_income\n",
    "\n",
    "2)Постановка задач исследования включает работу со столбцами:\n",
    "- children\n",
    "- family_status\n",
    "- family_status_id\n",
    "- debt\n",
    "- total_income\n",
    "- purpose\n",
    "\n",
    "Однако все же можно \"причесать\" всю таблицу, приведя слова к единому регистру и по мере возможности разобравшись, что произошло в days_employed. \n",
    "Моя гипотеза: ошибки в регистре слов - следствие человеческого фактора. Клиенты вводили данные как попало. Ошибки в days_employed носят технический характер. Среднее значение рабочих дней таково, что пенсионеры проработали около тысячи лет на душу. Однако, если это не рабочие дни, а рабочие часы, ситуация становится более реалистичной.\n",
    "Ситуация с пропусками в столбце с доходом хуже - надо понять, чем эти пропуски заполнить.\n"
   ]
  },
  {
   "cell_type": "markdown",
   "metadata": {},
   "source": [
    "## Шаг 2. Предобработка данных"
   ]
  },
  {
   "cell_type": "markdown",
   "metadata": {},
   "source": [
    "### Обработка пропусков"
   ]
  },
  {
   "cell_type": "code",
   "execution_count": 3,
   "metadata": {},
   "outputs": [
    {
     "data": {
      "text/plain": [
       "children               0\n",
       "days_employed       2174\n",
       "dob_years              0\n",
       "education              0\n",
       "education_id           0\n",
       "family_status          0\n",
       "family_status_id       0\n",
       "gender                 0\n",
       "income_type            0\n",
       "debt                   0\n",
       "total_income        2174\n",
       "purpose                0\n",
       "dtype: int64"
      ]
     },
     "metadata": {},
     "output_type": "display_data"
    }
   ],
   "source": [
    "# выводим инфу о кол-ве пропусков\n",
    "display(data.isna().sum())"
   ]
  },
  {
   "cell_type": "markdown",
   "metadata": {},
   "source": [
    "<b>Промежуточный вывод:</b> пропуски в двух столбцах - days_employed и total_income, их количество одинаково, следовательно, можно предположить,что это одни и те же клиенты. Целесообразно заполнить пропуски в зависимости от типа дохода клиента"
   ]
  },
  {
   "cell_type": "code",
   "execution_count": 4,
   "metadata": {},
   "outputs": [
    {
     "name": "stdout",
     "output_type": "stream",
     "text": [
      "children               0\n",
      "days_employed          0\n",
      "dob_years              0\n",
      "education              0\n",
      "education_id           0\n",
      "family_status          0\n",
      "family_status_id       0\n",
      "gender                 0\n",
      "income_type            0\n",
      "debt                   0\n",
      "total_income        2174\n",
      "purpose                0\n",
      "dtype: int64\n"
     ]
    },
    {
     "data": {
      "text/plain": [
       "<AxesSubplot:title={'center':'Размах дней занятости'}>"
      ]
     },
     "execution_count": 4,
     "metadata": {},
     "output_type": "execute_result"
    },
    {
     "data": {
      "image/png": "[encoded data removed]",
      "text/plain": [
       "<Figure size 216x360 with 1 Axes>"
      ]
     },
     "metadata": {
      "needs_background": "light"
     },
     "output_type": "display_data"
    }
   ],
   "source": [
    "# уберем отрицательные значения в днях занятости\n",
    "data['days_employed'] = abs(data['days_employed']) \n",
    "\n",
    "# заменим пропуски в днях занятости\n",
    "data['days_employed'] = data.groupby('income_type')['days_employed'].apply(lambda x: x.fillna(x.median()))\n",
    "print(data.isna().sum())\n",
    "\n",
    "# визуализируем размах дней занятости\n",
    "plt.title('Размах дней занятости')\n",
    "data['days_employed'].plot(kind = 'box', figsize = (3,5))"
   ]
  },
  {
   "cell_type": "markdown",
   "metadata": {},
   "source": [
    "<b>Промежуточный вывод:</b> в верхней границе четко видны аномалии. Моя гипотеза все еще предполагает ошибочный подсчет рабочих часов, а не дней. Заменим значения."
   ]
  },
  {
   "cell_type": "code",
   "execution_count": 5,
   "metadata": {},
   "outputs": [
    {
     "data": {
      "text/plain": [
       "<AxesSubplot:title={'center':'Размах дней занятости после преобразований'}>"
      ]
     },
     "execution_count": 5,
     "metadata": {},
     "output_type": "execute_result"
    },
    {
     "data": {
      "image/png": "[encoded data removed]",
      "text/plain": [
       "<Figure size 216x360 with 1 Axes>"
      ]
     },
     "metadata": {
      "needs_background": "light"
     },
     "output_type": "display_data"
    }
   ],
   "source": [
    "#создадим ф-цию превращения часов в дни\n",
    "def hours_to_days(row):\n",
    "    income_type = row['income_type']\n",
    "    days_employed = row['days_employed']\n",
    "    if income_type == 'пенсионер':\n",
    "        days = int(days_employed // 24)\n",
    "        return days\n",
    "    else:\n",
    "        return days_employed\n",
    "\n",
    "#и применяем ее к каждой строке датафрейма\n",
    "data['days_employed'] = data.apply(hours_to_days, axis = 1)\n",
    "\n",
    "# визуализируем размах дней занятости\n",
    "plt.title('Размах дней занятости после преобразований')\n",
    "data['days_employed'].plot(kind = 'box', figsize = (3,5))"
   ]
  },
  {
   "cell_type": "code",
   "execution_count": 6,
   "metadata": {},
   "outputs": [
    {
     "name": "stdout",
     "output_type": "stream",
     "text": [
      "income_type\n",
      "безработный        366413.652744\n",
      "в декрете            3296.759962\n",
      "госслужащий          2689.368353\n",
      "компаньон            1547.382223\n",
      "пенсионер           15217.000000\n",
      "предприниматель       520.848083\n",
      "сотрудник            1574.202821\n",
      "студент               578.751554\n",
      "Name: days_employed, dtype: float64\n"
     ]
    },
    {
     "data": {
      "text/html": [
       "<div>\n",
       "<style scoped>\n",
       "    .dataframe tbody tr th:only-of-type {\n",
       "        vertical-align: middle;\n",
       "    }\n",
       "\n",
       "    .dataframe tbody tr th {\n",
       "        vertical-align: top;\n",
       "    }\n",
       "\n",
       "    .dataframe thead th {\n",
       "        text-align: right;\n",
       "    }\n",
       "</style>\n",
       "<table border=\"1\" class=\"dataframe\">\n",
       "  <thead>\n",
       "    <tr style=\"text-align: right;\">\n",
       "      <th></th>\n",
       "      <th>children</th>\n",
       "      <th>days_employed</th>\n",
       "      <th>dob_years</th>\n",
       "      <th>education</th>\n",
       "      <th>education_id</th>\n",
       "      <th>family_status</th>\n",
       "      <th>family_status_id</th>\n",
       "      <th>gender</th>\n",
       "      <th>income_type</th>\n",
       "      <th>debt</th>\n",
       "      <th>total_income</th>\n",
       "      <th>purpose</th>\n",
       "    </tr>\n",
       "  </thead>\n",
       "  <tbody>\n",
       "    <tr>\n",
       "      <th>3133</th>\n",
       "      <td>1</td>\n",
       "      <td>337524.466835</td>\n",
       "      <td>31</td>\n",
       "      <td>среднее</td>\n",
       "      <td>1</td>\n",
       "      <td>женат / замужем</td>\n",
       "      <td>0</td>\n",
       "      <td>M</td>\n",
       "      <td>безработный</td>\n",
       "      <td>1</td>\n",
       "      <td>59956.991984</td>\n",
       "      <td>покупка жилья для сдачи</td>\n",
       "    </tr>\n",
       "    <tr>\n",
       "      <th>14798</th>\n",
       "      <td>0</td>\n",
       "      <td>395302.838654</td>\n",
       "      <td>45</td>\n",
       "      <td>Высшее</td>\n",
       "      <td>0</td>\n",
       "      <td>гражданский брак</td>\n",
       "      <td>1</td>\n",
       "      <td>F</td>\n",
       "      <td>безработный</td>\n",
       "      <td>0</td>\n",
       "      <td>202722.511368</td>\n",
       "      <td>ремонт жилью</td>\n",
       "    </tr>\n",
       "  </tbody>\n",
       "</table>\n",
       "</div>"
      ],
      "text/plain": [
       "       children  days_employed  dob_years education  education_id  \\\n",
       "3133          1  337524.466835         31   среднее             1   \n",
       "14798         0  395302.838654         45    Высшее             0   \n",
       "\n",
       "          family_status  family_status_id gender  income_type  debt  \\\n",
       "3133    женат / замужем                 0      M  безработный     1   \n",
       "14798  гражданский брак                 1      F  безработный     0   \n",
       "\n",
       "        total_income                  purpose  \n",
       "3133    59956.991984  покупка жилья для сдачи  \n",
       "14798  202722.511368             ремонт жилью  "
      ]
     },
     "metadata": {},
     "output_type": "display_data"
    }
   ],
   "source": [
    "# вычислим категорию оставшихся аномалий\n",
    "print(data.groupby('income_type')['days_employed'].median())\n",
    "display(data[data['income_type'] == 'безработный'])\n",
    "\n",
    "# удалим двух безработных\n",
    "data.drop(data[data.income_type == 'безработный'].index, inplace = True)"
   ]
  },
  {
   "cell_type": "code",
   "execution_count": 7,
   "metadata": {},
   "outputs": [
    {
     "data": {
      "text/html": [
       "<div>\n",
       "<style scoped>\n",
       "    .dataframe tbody tr th:only-of-type {\n",
       "        vertical-align: middle;\n",
       "    }\n",
       "\n",
       "    .dataframe tbody tr th {\n",
       "        vertical-align: top;\n",
       "    }\n",
       "\n",
       "    .dataframe thead th {\n",
       "        text-align: right;\n",
       "    }\n",
       "</style>\n",
       "<table border=\"1\" class=\"dataframe\">\n",
       "  <thead>\n",
       "    <tr style=\"text-align: right;\">\n",
       "      <th></th>\n",
       "      <th>children</th>\n",
       "      <th>days_employed</th>\n",
       "      <th>dob_years</th>\n",
       "      <th>education</th>\n",
       "      <th>education_id</th>\n",
       "      <th>family_status</th>\n",
       "      <th>family_status_id</th>\n",
       "      <th>gender</th>\n",
       "      <th>income_type</th>\n",
       "      <th>debt</th>\n",
       "      <th>total_income</th>\n",
       "      <th>purpose</th>\n",
       "    </tr>\n",
       "  </thead>\n",
       "  <tbody>\n",
       "    <tr>\n",
       "      <th>0</th>\n",
       "      <td>1</td>\n",
       "      <td>8437.673028</td>\n",
       "      <td>42</td>\n",
       "      <td>высшее</td>\n",
       "      <td>0</td>\n",
       "      <td>женат / замужем</td>\n",
       "      <td>0</td>\n",
       "      <td>F</td>\n",
       "      <td>сотрудник</td>\n",
       "      <td>0</td>\n",
       "      <td>253875.639453</td>\n",
       "      <td>покупка жилья</td>\n",
       "    </tr>\n",
       "    <tr>\n",
       "      <th>1</th>\n",
       "      <td>1</td>\n",
       "      <td>4024.803754</td>\n",
       "      <td>36</td>\n",
       "      <td>среднее</td>\n",
       "      <td>1</td>\n",
       "      <td>женат / замужем</td>\n",
       "      <td>0</td>\n",
       "      <td>F</td>\n",
       "      <td>сотрудник</td>\n",
       "      <td>0</td>\n",
       "      <td>112080.014102</td>\n",
       "      <td>приобретение автомобиля</td>\n",
       "    </tr>\n",
       "    <tr>\n",
       "      <th>2</th>\n",
       "      <td>0</td>\n",
       "      <td>5623.422610</td>\n",
       "      <td>33</td>\n",
       "      <td>Среднее</td>\n",
       "      <td>1</td>\n",
       "      <td>женат / замужем</td>\n",
       "      <td>0</td>\n",
       "      <td>M</td>\n",
       "      <td>сотрудник</td>\n",
       "      <td>0</td>\n",
       "      <td>145885.952297</td>\n",
       "      <td>покупка жилья</td>\n",
       "    </tr>\n",
       "    <tr>\n",
       "      <th>3</th>\n",
       "      <td>3</td>\n",
       "      <td>4124.747207</td>\n",
       "      <td>32</td>\n",
       "      <td>среднее</td>\n",
       "      <td>1</td>\n",
       "      <td>женат / замужем</td>\n",
       "      <td>0</td>\n",
       "      <td>M</td>\n",
       "      <td>сотрудник</td>\n",
       "      <td>0</td>\n",
       "      <td>267628.550329</td>\n",
       "      <td>дополнительное образование</td>\n",
       "    </tr>\n",
       "    <tr>\n",
       "      <th>4</th>\n",
       "      <td>0</td>\n",
       "      <td>14177.000000</td>\n",
       "      <td>53</td>\n",
       "      <td>среднее</td>\n",
       "      <td>1</td>\n",
       "      <td>гражданский брак</td>\n",
       "      <td>1</td>\n",
       "      <td>F</td>\n",
       "      <td>пенсионер</td>\n",
       "      <td>0</td>\n",
       "      <td>158616.077870</td>\n",
       "      <td>сыграть свадьбу</td>\n",
       "    </tr>\n",
       "  </tbody>\n",
       "</table>\n",
       "</div>"
      ],
      "text/plain": [
       "   children  days_employed  dob_years education  education_id  \\\n",
       "0         1    8437.673028         42    высшее             0   \n",
       "1         1    4024.803754         36   среднее             1   \n",
       "2         0    5623.422610         33   Среднее             1   \n",
       "3         3    4124.747207         32   среднее             1   \n",
       "4         0   14177.000000         53   среднее             1   \n",
       "\n",
       "      family_status  family_status_id gender income_type  debt   total_income  \\\n",
       "0   женат / замужем                 0      F   сотрудник     0  253875.639453   \n",
       "1   женат / замужем                 0      F   сотрудник     0  112080.014102   \n",
       "2   женат / замужем                 0      M   сотрудник     0  145885.952297   \n",
       "3   женат / замужем                 0      M   сотрудник     0  267628.550329   \n",
       "4  гражданский брак                 1      F   пенсионер     0  158616.077870   \n",
       "\n",
       "                      purpose  \n",
       "0               покупка жилья  \n",
       "1     приобретение автомобиля  \n",
       "2               покупка жилья  \n",
       "3  дополнительное образование  \n",
       "4             сыграть свадьбу  "
      ]
     },
     "execution_count": 7,
     "metadata": {},
     "output_type": "execute_result"
    }
   ],
   "source": [
    "# поправим индексацию и проверим данные\n",
    "data = data.reset_index(drop =True)\n",
    "data.head(5)"
   ]
  },
  {
   "cell_type": "code",
   "execution_count": 8,
   "metadata": {},
   "outputs": [
    {
     "data": {
      "image/png": "[encoded data removed]",
      "text/plain": [
       "<Figure size 432x288 with 1 Axes>"
      ]
     },
     "metadata": {
      "needs_background": "light"
     },
     "output_type": "display_data"
    },
    {
     "data": {
      "text/plain": [
       "Text(0.5, 1.0, 'Медианный доход представителей каждой категории')"
      ]
     },
     "execution_count": 8,
     "metadata": {},
     "output_type": "execute_result"
    },
    {
     "data": {
      "image/png": "[encoded data removed]",
      "text/plain": [
       "<Figure size 432x288 with 1 Axes>"
      ]
     },
     "metadata": {
      "needs_background": "light"
     },
     "output_type": "display_data"
    }
   ],
   "source": [
    "#посмотрим на количество всех лиц по категориям дохода\n",
    "data.groupby('income_type')['total_income'].count().plot(kind = 'bar')\n",
    "plt.title('Количество представителей каждой категории доходности')\n",
    "plt.show()\n",
    "\n",
    "#и на медианный доход по категориям\n",
    "data.groupby('income_type')['total_income'].median().plot(kind = 'bar')\n",
    "plt.title('Медианный доход представителей каждой категории')"
   ]
  },
  {
   "cell_type": "markdown",
   "metadata": {},
   "source": [
    "<b>Промежуточный вывод:</b> предприниматели, декретные матери и студенты представляют слишком мелкую выборку, которая даже не видна на графике номер 1. Зато доход у них есть, причем у предпринимателей - огромный. Выглядит скорее как выброс, а не как тенденция, поэтому от этих данных лучше избавиться - они слишком незначительны по количеству, но могут сильно сдвинуть результаты."
   ]
  },
  {
   "cell_type": "code",
   "execution_count": 9,
   "metadata": {},
   "outputs": [
    {
     "data": {
      "text/plain": [
       "сотрудник      11119\n",
       "компаньон       5085\n",
       "пенсионер       3856\n",
       "госслужащий     1459\n",
       "Name: income_type, dtype: int64"
      ]
     },
     "execution_count": 9,
     "metadata": {},
     "output_type": "execute_result"
    }
   ],
   "source": [
    "# удалим аномальные и малозначимые категории\n",
    "employments = ['предприниматель', 'в декрете', 'студент']\n",
    "data = data[~data.income_type.isin(employments)]\n",
    "\n",
    "# проверим изменения\n",
    "data['income_type'].value_counts()"
   ]
  },
  {
   "cell_type": "markdown",
   "metadata": {},
   "source": [
    "Осталось заполнить пропуски с доходом"
   ]
  },
  {
   "cell_type": "code",
   "execution_count": 10,
   "metadata": {},
   "outputs": [
    {
     "name": "stdout",
     "output_type": "stream",
     "text": [
      "children            0\n",
      "days_employed       0\n",
      "dob_years           0\n",
      "education           0\n",
      "education_id        0\n",
      "family_status       0\n",
      "family_status_id    0\n",
      "gender              0\n",
      "income_type         0\n",
      "debt                0\n",
      "total_income        0\n",
      "purpose             0\n",
      "dtype: int64\n"
     ]
    },
    {
     "data": {
      "text/plain": [
       "Text(0.5, 1.0, 'Доход разных категорий граждан')"
      ]
     },
     "execution_count": 10,
     "metadata": {},
     "output_type": "execute_result"
    },
    {
     "data": {
      "image/png": "[encoded data removed]",
      "text/plain": [
       "<Figure size 432x288 with 1 Axes>"
      ]
     },
     "metadata": {
      "needs_background": "light"
     },
     "output_type": "display_data"
    }
   ],
   "source": [
    "# заменим пропуски в днях занятости\n",
    "data['total_income'] = data.groupby('income_type')['total_income'].apply(lambda x: x.fillna(x.median()))\n",
    "print(data.isna().sum())\n",
    "\n",
    "# визуализируем данные \n",
    "data.groupby('income_type')['total_income'].median().plot(kind = 'bar')\n",
    "plt.title('Доход разных категорий граждан')"
   ]
  },
  {
   "cell_type": "code",
   "execution_count": 11,
   "metadata": {},
   "outputs": [
    {
     "data": {
      "text/plain": [
       "children            0\n",
       "days_employed       0\n",
       "dob_years           0\n",
       "education           0\n",
       "education_id        0\n",
       "family_status       0\n",
       "family_status_id    0\n",
       "gender              0\n",
       "income_type         0\n",
       "debt                0\n",
       "total_income        0\n",
       "purpose             0\n",
       "dtype: int64"
      ]
     },
     "execution_count": 11,
     "metadata": {},
     "output_type": "execute_result"
    }
   ],
   "source": [
    "# убедимся, что пропусков более нет\n",
    "data.isna().sum()"
   ]
  },
  {
   "cell_type": "markdown",
   "metadata": {},
   "source": [
    "**Вывод**"
   ]
  },
  {
   "cell_type": "markdown",
   "metadata": {},
   "source": [
    "Все пропуски из таблицы убраны, но проблемы все еще остались. \n",
    "Проблемы в столбцах:\n",
    "- education\n",
    "- days_employed\n",
    "- total_income\n",
    "\n",
    "Нужно:\n",
    "- привести значения в education к единому регистру\n",
    "- заменить данные в столбце days_employed на int (убрать минусы, повысить читаемость)\n",
    "- в столбце total_income привести все значения к целочисленным, повысив читаемость кода"
   ]
  },
  {
   "cell_type": "markdown",
   "metadata": {},
   "source": [
    "### Замена типа данных"
   ]
  },
  {
   "cell_type": "code",
   "execution_count": 12,
   "metadata": {},
   "outputs": [
    {
     "data": {
      "text/html": [
       "<div>\n",
       "<style scoped>\n",
       "    .dataframe tbody tr th:only-of-type {\n",
       "        vertical-align: middle;\n",
       "    }\n",
       "\n",
       "    .dataframe tbody tr th {\n",
       "        vertical-align: top;\n",
       "    }\n",
       "\n",
       "    .dataframe thead th {\n",
       "        text-align: right;\n",
       "    }\n",
       "</style>\n",
       "<table border=\"1\" class=\"dataframe\">\n",
       "  <thead>\n",
       "    <tr style=\"text-align: right;\">\n",
       "      <th></th>\n",
       "      <th>children</th>\n",
       "      <th>days_employed</th>\n",
       "      <th>dob_years</th>\n",
       "      <th>education</th>\n",
       "      <th>education_id</th>\n",
       "      <th>family_status</th>\n",
       "      <th>family_status_id</th>\n",
       "      <th>gender</th>\n",
       "      <th>income_type</th>\n",
       "      <th>debt</th>\n",
       "      <th>total_income</th>\n",
       "      <th>purpose</th>\n",
       "    </tr>\n",
       "  </thead>\n",
       "  <tbody>\n",
       "    <tr>\n",
       "      <th>0</th>\n",
       "      <td>1</td>\n",
       "      <td>8437</td>\n",
       "      <td>42</td>\n",
       "      <td>высшее</td>\n",
       "      <td>0</td>\n",
       "      <td>женат / замужем</td>\n",
       "      <td>0</td>\n",
       "      <td>F</td>\n",
       "      <td>сотрудник</td>\n",
       "      <td>0</td>\n",
       "      <td>253875</td>\n",
       "      <td>покупка жилья</td>\n",
       "    </tr>\n",
       "    <tr>\n",
       "      <th>1</th>\n",
       "      <td>1</td>\n",
       "      <td>4024</td>\n",
       "      <td>36</td>\n",
       "      <td>среднее</td>\n",
       "      <td>1</td>\n",
       "      <td>женат / замужем</td>\n",
       "      <td>0</td>\n",
       "      <td>F</td>\n",
       "      <td>сотрудник</td>\n",
       "      <td>0</td>\n",
       "      <td>112080</td>\n",
       "      <td>приобретение автомобиля</td>\n",
       "    </tr>\n",
       "    <tr>\n",
       "      <th>2</th>\n",
       "      <td>0</td>\n",
       "      <td>5623</td>\n",
       "      <td>33</td>\n",
       "      <td>Среднее</td>\n",
       "      <td>1</td>\n",
       "      <td>женат / замужем</td>\n",
       "      <td>0</td>\n",
       "      <td>M</td>\n",
       "      <td>сотрудник</td>\n",
       "      <td>0</td>\n",
       "      <td>145885</td>\n",
       "      <td>покупка жилья</td>\n",
       "    </tr>\n",
       "  </tbody>\n",
       "</table>\n",
       "</div>"
      ],
      "text/plain": [
       "   children  days_employed  dob_years education  education_id  \\\n",
       "0         1           8437         42    высшее             0   \n",
       "1         1           4024         36   среднее             1   \n",
       "2         0           5623         33   Среднее             1   \n",
       "\n",
       "     family_status  family_status_id gender income_type  debt  total_income  \\\n",
       "0  женат / замужем                 0      F   сотрудник     0        253875   \n",
       "1  женат / замужем                 0      F   сотрудник     0        112080   \n",
       "2  женат / замужем                 0      M   сотрудник     0        145885   \n",
       "\n",
       "                   purpose  \n",
       "0            покупка жилья  \n",
       "1  приобретение автомобиля  \n",
       "2            покупка жилья  "
      ]
     },
     "execution_count": 12,
     "metadata": {},
     "output_type": "execute_result"
    }
   ],
   "source": [
    "#меняем данные float в income_type и days_employed  на целочисленные \n",
    "data['total_income'] = data['total_income'].astype('int')\n",
    "data['days_employed'] = data['days_employed'].astype('int')\n",
    "data.head(3)"
   ]
  },
  {
   "cell_type": "markdown",
   "metadata": {},
   "source": [
    "**Вывод**\n",
    "\n",
    "Теперь таблица более читаема. Целочисленные значения содержатся в столбцах с общих доходом и днями занятости. \n",
    "Осталось привести в порядок столбец с образованием - об этом ниже."
   ]
  },
  {
   "cell_type": "markdown",
   "metadata": {},
   "source": [
    "### Обработка дубликатов"
   ]
  },
  {
   "cell_type": "code",
   "execution_count": 13,
   "metadata": {},
   "outputs": [
    {
     "data": {
      "text/plain": [
       " 0     14145\n",
       " 1      4817\n",
       " 2      2054\n",
       " 3       330\n",
       " 20       76\n",
       "-1        47\n",
       " 4        41\n",
       " 5         9\n",
       "Name: children, dtype: int64"
      ]
     },
     "metadata": {},
     "output_type": "display_data"
    },
    {
     "data": {
      "text/plain": [
       "F      14233\n",
       "M       7285\n",
       "XNA        1\n",
       "Name: gender, dtype: int64"
      ]
     },
     "metadata": {},
     "output_type": "display_data"
    },
    {
     "data": {
      "text/plain": [
       "среднее                13749\n",
       "высшее                  4715\n",
       "СРЕДНЕЕ                  771\n",
       "Среднее                  711\n",
       "неоконченное высшее      668\n",
       "ВЫСШЕЕ                   274\n",
       "Высшее                   267\n",
       "начальное                250\n",
       "Неоконченное высшее       47\n",
       "НЕОКОНЧЕННОЕ ВЫСШЕЕ       29\n",
       "Name: education, dtype: int64"
      ]
     },
     "metadata": {},
     "output_type": "display_data"
    },
    {
     "data": {
      "text/plain": [
       "1    15231\n",
       "0     5256\n",
       "2      744\n",
       "3      282\n",
       "4        6\n",
       "Name: education_id, dtype: int64"
      ]
     },
     "metadata": {},
     "output_type": "display_data"
    },
    {
     "data": {
      "text/plain": [
       "женат / замужем          12377\n",
       "гражданский брак          4175\n",
       "Не женат / не замужем     2812\n",
       "в разводе                 1195\n",
       "вдовец / вдова             960\n",
       "Name: family_status, dtype: int64"
      ]
     },
     "metadata": {},
     "output_type": "display_data"
    },
    {
     "data": {
      "text/plain": [
       "0    12377\n",
       "1     4175\n",
       "4     2812\n",
       "3     1195\n",
       "2      960\n",
       "Name: family_status_id, dtype: int64"
      ]
     },
     "metadata": {},
     "output_type": "display_data"
    },
    {
     "data": {
      "text/plain": [
       "сотрудник      11119\n",
       "компаньон       5085\n",
       "пенсионер       3856\n",
       "госслужащий     1459\n",
       "Name: income_type, dtype: int64"
      ]
     },
     "metadata": {},
     "output_type": "display_data"
    },
    {
     "data": {
      "text/plain": [
       "свадьба                                  797\n",
       "на проведение свадьбы                    776\n",
       "сыграть свадьбу                          774\n",
       "операции с недвижимостью                 676\n",
       "покупка коммерческой недвижимости        664\n",
       "операции с жильем                        653\n",
       "покупка жилья для сдачи                  652\n",
       "операции с коммерческой недвижимостью    651\n",
       "жилье                                    647\n",
       "покупка жилья                            647\n",
       "Name: purpose, dtype: int64"
      ]
     },
     "metadata": {},
     "output_type": "display_data"
    },
    {
     "data": {
      "text/plain": [
       "0    19780\n",
       "1     1739\n",
       "Name: debt, dtype: int64"
      ]
     },
     "metadata": {},
     "output_type": "display_data"
    }
   ],
   "source": [
    "columns = ['children', 'gender', 'education', 'education_id', \n",
    "           'family_status', 'family_status_id', 'income_type', 'purpose', 'debt']\n",
    "for column in columns: \n",
    "    display(data[column].value_counts().head(10))\n",
    "\n",
    "# заменим аномальные значения и приведем строки к единому регистру\n",
    "data = data[data['gender'] != 'XNA']\n",
    "data['education'] = data.education.str.lower()\n",
    "data['children'] = data['children'].replace([-1, 20],[1,2])\n"
   ]
  },
  {
   "cell_type": "code",
   "execution_count": 14,
   "metadata": {},
   "outputs": [
    {
     "name": "stdout",
     "output_type": "stream",
     "text": [
      "71\n",
      "0\n"
     ]
    }
   ],
   "source": [
    "# ищем дубликаты\n",
    "print(data.duplicated().sum())\n",
    "\n",
    "# и удаляем их\n",
    "data = data.drop_duplicates().reset_index(drop = True)\n",
    "\n",
    "#проверяем датасет\n",
    "print(data.duplicated().sum())"
   ]
  },
  {
   "cell_type": "markdown",
   "metadata": {},
   "source": [
    "**Вывод**\n",
    "\n",
    "Сначала мы привели [education] к единому регистру, устраненили неизвестный пол и внесли исправления в кол-во детей. После этого выявили 71 дубликат и удалили все.\n",
    "Таблица полностью заполнена, приведена к единому стилю и очищена от дубликатов.\n",
    "Осталось создать классификацию клиентов по целям кредита."
   ]
  },
  {
   "cell_type": "markdown",
   "metadata": {},
   "source": [
    "### Лемматизация"
   ]
  },
  {
   "cell_type": "code",
   "execution_count": 15,
   "metadata": {},
   "outputs": [
    {
     "data": {
      "text/plain": [
       "0                 [покупка,  , жилье, \\n]\n",
       "1       [приобретение,  , автомобиль, \\n]\n",
       "2                 [покупка,  , жилье, \\n]\n",
       "3    [дополнительный,  , образование, \\n]\n",
       "4               [сыграть,  , свадьба, \\n]\n",
       "Name: lemmas, dtype: object"
      ]
     },
     "execution_count": 15,
     "metadata": {},
     "output_type": "execute_result"
    }
   ],
   "source": [
    "# лемматизируем цели кредита\n",
    "m = Mystem()\n",
    "lemmas = []\n",
    "for purpose in data['purpose']:\n",
    "    lemmas.append(m.lemmatize(purpose))\n",
    "\n",
    "#в датафрейме создаем столбец с леммами, он потребуется для категоризации\n",
    "data['lemmas'] = lemmas\n",
    "data['lemmas'].head(5)"
   ]
  },
  {
   "cell_type": "code",
   "execution_count": 16,
   "metadata": {},
   "outputs": [
    {
     "data": {
      "text/plain": [
       "[(' ', 33559),\n",
       " ('\\n', 21447),\n",
       " ('недвижимость', 6348),\n",
       " ('покупка', 5894),\n",
       " ('жилье', 4458),\n",
       " ('автомобиль', 4305),\n",
       " ('образование', 4013),\n",
       " ('с', 2918),\n",
       " ('операция', 2604),\n",
       " ('свадьба', 2323)]"
      ]
     },
     "metadata": {},
     "output_type": "display_data"
    }
   ],
   "source": [
    "# выводим топ-10 значений\n",
    "lemm_list = []\n",
    "for row in lemmas:\n",
    "    lemm_list += row\n",
    "\n",
    "frequencies = Counter(lemm_list)\n",
    "display(frequencies.most_common(10))"
   ]
  },
  {
   "cell_type": "markdown",
   "metadata": {},
   "source": [
    "<b>Промежуточный вывод:</b> топовые смысловые категории: жилье/недвижимость, автомобиль, образование, свадьба"
   ]
  },
  {
   "cell_type": "code",
   "execution_count": 17,
   "metadata": {},
   "outputs": [
    {
     "data": {
      "text/html": [
       "<div>\n",
       "<style scoped>\n",
       "    .dataframe tbody tr th:only-of-type {\n",
       "        vertical-align: middle;\n",
       "    }\n",
       "\n",
       "    .dataframe tbody tr th {\n",
       "        vertical-align: top;\n",
       "    }\n",
       "\n",
       "    .dataframe thead th {\n",
       "        text-align: right;\n",
       "    }\n",
       "</style>\n",
       "<table border=\"1\" class=\"dataframe\">\n",
       "  <thead>\n",
       "    <tr style=\"text-align: right;\">\n",
       "      <th></th>\n",
       "      <th>children</th>\n",
       "      <th>days_employed</th>\n",
       "      <th>dob_years</th>\n",
       "      <th>education</th>\n",
       "      <th>education_id</th>\n",
       "      <th>family_status</th>\n",
       "      <th>family_status_id</th>\n",
       "      <th>gender</th>\n",
       "      <th>income_type</th>\n",
       "      <th>debt</th>\n",
       "      <th>total_income</th>\n",
       "      <th>purpose</th>\n",
       "      <th>purpose_id</th>\n",
       "    </tr>\n",
       "  </thead>\n",
       "  <tbody>\n",
       "    <tr>\n",
       "      <th>0</th>\n",
       "      <td>1</td>\n",
       "      <td>8437</td>\n",
       "      <td>42</td>\n",
       "      <td>высшее</td>\n",
       "      <td>0</td>\n",
       "      <td>женат / замужем</td>\n",
       "      <td>0</td>\n",
       "      <td>F</td>\n",
       "      <td>сотрудник</td>\n",
       "      <td>0</td>\n",
       "      <td>253875</td>\n",
       "      <td>покупка жилья</td>\n",
       "      <td>3</td>\n",
       "    </tr>\n",
       "    <tr>\n",
       "      <th>1</th>\n",
       "      <td>1</td>\n",
       "      <td>4024</td>\n",
       "      <td>36</td>\n",
       "      <td>среднее</td>\n",
       "      <td>1</td>\n",
       "      <td>женат / замужем</td>\n",
       "      <td>0</td>\n",
       "      <td>F</td>\n",
       "      <td>сотрудник</td>\n",
       "      <td>0</td>\n",
       "      <td>112080</td>\n",
       "      <td>приобретение автомобиля</td>\n",
       "      <td>0</td>\n",
       "    </tr>\n",
       "    <tr>\n",
       "      <th>2</th>\n",
       "      <td>0</td>\n",
       "      <td>5623</td>\n",
       "      <td>33</td>\n",
       "      <td>среднее</td>\n",
       "      <td>1</td>\n",
       "      <td>женат / замужем</td>\n",
       "      <td>0</td>\n",
       "      <td>M</td>\n",
       "      <td>сотрудник</td>\n",
       "      <td>0</td>\n",
       "      <td>145885</td>\n",
       "      <td>покупка жилья</td>\n",
       "      <td>3</td>\n",
       "    </tr>\n",
       "  </tbody>\n",
       "</table>\n",
       "</div>"
      ],
      "text/plain": [
       "   children  days_employed  dob_years education  education_id  \\\n",
       "0         1           8437         42    высшее             0   \n",
       "1         1           4024         36   среднее             1   \n",
       "2         0           5623         33   среднее             1   \n",
       "\n",
       "     family_status  family_status_id gender income_type  debt  total_income  \\\n",
       "0  женат / замужем                 0      F   сотрудник     0        253875   \n",
       "1  женат / замужем                 0      F   сотрудник     0        112080   \n",
       "2  женат / замужем                 0      M   сотрудник     0        145885   \n",
       "\n",
       "                   purpose  purpose_id  \n",
       "0            покупка жилья           3  \n",
       "1  приобретение автомобиля           0  \n",
       "2            покупка жилья           3  "
      ]
     },
     "metadata": {},
     "output_type": "display_data"
    }
   ],
   "source": [
    "# разбиваем цели кредита на 4 категории\n",
    "# каждой присваиваем номер \n",
    "\n",
    "purpose_id = []\n",
    "for row in data['lemmas']:\n",
    "    if 'автомобиль' in row:\n",
    "        purpose_id.append(0)\n",
    "    elif 'образование' in row:\n",
    "         purpose_id.append(1)\n",
    "    elif 'свадьба' in row:\n",
    "         purpose_id.append(2)\n",
    "    elif 'жилье' or 'недвижимость' in row:\n",
    "         purpose_id.append(3)\n",
    "\n",
    "data['purpose_id'] = purpose_id\n",
    "\n",
    "#столбец с леммами больше не нужен - его можно удалить\n",
    "data = data.drop('lemmas', axis=1)\n",
    "\n",
    "#проверяем датафрейм\n",
    "display(data.head(3))"
   ]
  },
  {
   "cell_type": "markdown",
   "metadata": {},
   "source": [
    "**Вывод**\n",
    "\n",
    "В датафрейме появился столбец с идентификатором кредитных целей. Это упростит нам работу."
   ]
  },
  {
   "cell_type": "markdown",
   "metadata": {},
   "source": [
    "### Категоризация данных"
   ]
  },
  {
   "cell_type": "code",
   "execution_count": 18,
   "metadata": {},
   "outputs": [
    {
     "data": {
      "text/plain": [
       "<AxesSubplot:title={'center':'Зависимость наличия долга от типа занятости'}, xlabel='debt,income_type'>"
      ]
     },
     "execution_count": 18,
     "metadata": {},
     "output_type": "execute_result"
    },
    {
     "data": {
      "image/png": "[encoded data removed]",
      "text/plain": [
       "<Figure size 432x288 with 1 Axes>"
      ]
     },
     "metadata": {
      "needs_background": "light"
     },
     "output_type": "display_data"
    }
   ],
   "source": [
    "data.groupby('debt')['income_type'].value_counts().plot(kind = 'bar',\n",
    "                                                        title = 'Зависимость наличия долга от типа занятости')"
   ]
  },
  {
   "cell_type": "markdown",
   "metadata": {},
   "source": [
    "<b>Промежуточный вывод:</b> не-должников больше, среди них лидеры - сотрудники. Впрочем, по количеству долгов лидируют они же. Остальные категории также идут ровно - где больше не должников, там больше должников, соответственно. Здесь, скорее всего, играет фактор численности представителей."
   ]
  },
  {
   "cell_type": "markdown",
   "metadata": {},
   "source": [
    "## Шаг 3. Ответьте на вопросы"
   ]
  },
  {
   "cell_type": "markdown",
   "metadata": {},
   "source": [
    "- Есть ли зависимость между наличием детей и возвратом кредита в срок?"
   ]
  },
  {
   "cell_type": "code",
   "execution_count": 19,
   "metadata": {},
   "outputs": [
    {
     "name": "stdout",
     "output_type": "stream",
     "text": [
      "Доля лиц, у которых есть долг и нет детей, составляет: 0.6112708453133985 среди всех должников\n",
      "Доля лиц, у которых нет долга и нет детей, составляет: 0.6607976456261416 среди всех не должников\n"
     ]
    },
    {
     "data": {
      "image/png": "[encoded data removed]",
      "text/plain": [
       "<Figure size 360x360 with 1 Axes>"
      ]
     },
     "metadata": {
      "needs_background": "light"
     },
     "output_type": "display_data"
    }
   ],
   "source": [
    "data.groupby('debt')['children'].value_counts().plot(kind = 'bar', title = 'Взаимосвязь наличия долга и количества детей',\n",
    "                                                     figsize = (5,5))\n",
    "\n",
    "# посмотрим на долевые соотношения должников с детьми и без\n",
    "print('Доля лиц, у которых есть долг и нет детей, составляет:', \n",
    "      data[(data['debt']!=0) & (data['children'] ==0)]['children'].count() / data[data['debt']!=0]['children'].count(), 'среди всех должников')\n",
    "\n",
    "print('Доля лиц, у которых нет долга и нет детей, составляет:', \n",
    "      data[(data['debt']==0) & (data['children'] ==0)]['children'].count() / data[data['debt']==0]['children'].count(), 'среди всех не должников')"
   ]
  },
  {
   "cell_type": "markdown",
   "metadata": {},
   "source": [
    "**Вывод**"
   ]
  },
  {
   "cell_type": "markdown",
   "metadata": {},
   "source": [
    "Взаимосвязи практически нет."
   ]
  },
  {
   "cell_type": "markdown",
   "metadata": {},
   "source": [
    "- Есть ли зависимость между семейным положением и возвратом кредита в срок?"
   ]
  },
  {
   "cell_type": "code",
   "execution_count": 20,
   "metadata": {},
   "outputs": [
    {
     "data": {
      "text/plain": [
       "<AxesSubplot:title={'center':'Взаимосвязь наличия долга и семейного положения'}, xlabel='debt,family_status_id'>"
      ]
     },
     "execution_count": 20,
     "metadata": {},
     "output_type": "execute_result"
    },
    {
     "data": {
      "image/png": "[encoded data removed]",
      "text/plain": [
       "<Figure size 360x360 with 1 Axes>"
      ]
     },
     "metadata": {
      "needs_background": "light"
     },
     "output_type": "display_data"
    }
   ],
   "source": [
    "data.groupby('debt')['family_status_id'].value_counts().plot(kind = 'bar', title = 'Взаимосвязь наличия долга и семейного положения',\n",
    "                                                     figsize = (5,5))"
   ]
  },
  {
   "cell_type": "code",
   "execution_count": 21,
   "metadata": {},
   "outputs": [
    {
     "data": {
      "text/plain": [
       "<AxesSubplot:title={'center':'Доля должников по различным категориям граждан'}>"
      ]
     },
     "execution_count": 21,
     "metadata": {},
     "output_type": "execute_result"
    },
    {
     "data": {
      "image/png": "[encoded data removed]",
      "text/plain": [
       "<Figure size 432x288 with 1 Axes>"
      ]
     },
     "metadata": {
      "needs_background": "light"
     },
     "output_type": "display_data"
    }
   ],
   "source": [
    "# подсчитаем соотношение должников по категориям\n",
    "columns = ['брак', 'гражд. брак', 'вдовцы', 'развод', 'не в браке']\n",
    "results = []\n",
    "for i in range(5):\n",
    "    results.append(data[(data['debt']==1) & (data['family_status_id'] == i)]['family_status_id'].count() /\n",
    "                   data[(data['debt']>=0) & (data['family_status_id'] == i)]['family_status_id'].count())\n",
    "\n",
    "# визуализируем данные\n",
    "plt.title('Доля должников по различным категориям граждан')\n",
    "sns.barplot(x = columns, y = results)"
   ]
  },
  {
   "cell_type": "markdown",
   "metadata": {},
   "source": [
    "**Вывод**\n",
    "\n",
    "Взаимосвязь между семейным положением и уплатой долга есть. Самая надежная категория плательщиков - вдовцы, за ними следуют люди в разводе, после этого - граждане, состоящие в браке. Две наиболее рискованные категории - лица, состоящие в гражданском браке, и не состоящие в браке вовсе."
   ]
  },
  {
   "cell_type": "markdown",
   "metadata": {},
   "source": [
    "- Есть ли зависимость между уровнем дохода и возвратом кредита в срок?"
   ]
  },
  {
   "cell_type": "code",
   "execution_count": 22,
   "metadata": {},
   "outputs": [
    {
     "data": {
      "image/png": "[encoded data removed]",
      "text/plain": [
       "<Figure size 360x360 with 1 Axes>"
      ]
     },
     "metadata": {
      "needs_background": "light"
     },
     "output_type": "display_data"
    },
    {
     "data": {
      "text/plain": [
       "<AxesSubplot:title={'center':'Взаимосвязь наличия долга и среднего дохода'}, xlabel='debt'>"
      ]
     },
     "execution_count": 22,
     "metadata": {},
     "output_type": "execute_result"
    },
    {
     "data": {
      "image/png": "[encoded data removed]",
      "text/plain": [
       "<Figure size 360x360 with 1 Axes>"
      ]
     },
     "metadata": {
      "needs_background": "light"
     },
     "output_type": "display_data"
    }
   ],
   "source": [
    "data.groupby('debt')['total_income'].median().plot(kind = 'bar', title = 'Взаимосвязь наличия долга и медианного дохода',\n",
    "                                                     figsize = (5,5))\n",
    "plt.show()\n",
    "data.groupby('debt')['total_income'].mean().plot(kind = 'bar', title = 'Взаимосвязь наличия долга и среднего дохода',\n",
    "                                                     figsize = (5,5))"
   ]
  },
  {
   "cell_type": "markdown",
   "metadata": {},
   "source": [
    "**Вывод**"
   ]
  },
  {
   "cell_type": "markdown",
   "metadata": {},
   "source": [
    "Зависимости почти нет."
   ]
  },
  {
   "cell_type": "markdown",
   "metadata": {},
   "source": [
    "- Как разные цели кредита влияют на его возврат в срок?"
   ]
  },
  {
   "cell_type": "code",
   "execution_count": 23,
   "metadata": {},
   "outputs": [
    {
     "data": {
      "text/plain": [
       "<AxesSubplot:title={'center':'Доля должников по различным категориям целей кредита'}>"
      ]
     },
     "execution_count": 23,
     "metadata": {},
     "output_type": "execute_result"
    },
    {
     "data": {
      "image/png": "[encoded data removed]",
      "text/plain": [
       "<Figure size 432x288 with 1 Axes>"
      ]
     },
     "metadata": {
      "needs_background": "light"
     },
     "output_type": "display_data"
    }
   ],
   "source": [
    "#с помощью цикла пройдем по категориям целей кредита\n",
    "#и соберем сведения о должниках, не должниках и проценте невыплат\n",
    "# подсчитаем соотношение должников по категориям\n",
    "columns = ['авто', 'образование', 'свадьба', 'жилье']\n",
    "results = []\n",
    "for i in range(4):\n",
    "    results.append(data[(data['debt']==1) & (data['purpose_id'] == i)]['purpose_id'].count() /\n",
    "                   data[(data['debt']>=0) & (data['purpose_id'] == i)]['purpose_id'].count())\n",
    "\n",
    "# визуализируем данные\n",
    "plt.title('Доля должников по различным категориям целей кредита')\n",
    "sns.barplot(x = columns, y = results)"
   ]
  },
  {
   "cell_type": "markdown",
   "metadata": {},
   "source": [
    "**Вывод**\n",
    "\n",
    "Самые добросовестные плательщики - те, которые берут кредит на жилье и свадьбы. Процент невыплат среди кредитов в категории \"авто\" и \"образование\" выше.\n",
    "Зависимость возврата кредита в срок от его цели прослеживается."
   ]
  },
  {
   "cell_type": "markdown",
   "metadata": {},
   "source": [
    "## Шаг 4. Общий вывод"
   ]
  },
  {
   "cell_type": "markdown",
   "metadata": {},
   "source": [
    "На основании анализа таблицы и составленных диаграмм, можно сделать следующие выводы:\n",
    "\n",
    "- уровень дохода клиента и наличие детей незначительно влияют на возможность невыплаты клиентом долга\n",
    "- лица, не состоящие в браке или состоящие в гражданском браке, с большим шансом не выплатят кредит, чем лица, состоящие или состоявшие в браке (разведенные или вдовцы)\n",
    "- наиболее \"безопасно\" выдавать кредиты на жилье или свадьбы, кредиты на покупку авто или получение образования с большим шансом не будут выплачены."
   ]
  },
  {
   "cell_type": "markdown",
   "metadata": {},
   "source": [
    "## Чек-лист готовности проекта\n",
    "\n",
    "Поставьте 'x' в выполненных пунктах. Далее нажмите Shift+Enter."
   ]
  },
  {
   "cell_type": "markdown",
   "metadata": {},
   "source": [
    "- [x]  открыт файл;\n",
    "- [x]  файл изучен;\n",
    "- [x]  определены пропущенные значения;\n",
    "- [x]  заполнены пропущенные значения;\n",
    "- [x]  есть пояснение, какие пропущенные значения обнаружены;\n",
    "- [x]  описаны возможные причины появления пропусков в данных;\n",
    "- [x]  объяснено, по какому принципу заполнены пропуски;\n",
    "- [x]  заменен вещественный тип данных на целочисленный;\n",
    "- [x]  есть пояснение, какой метод используется для изменения типа данных и почему;\n",
    "- [x]  удалены дубликаты;\n",
    "- [x]  есть пояснение, какой метод используется для поиска и удаления дубликатов;\n",
    "- [x]  описаны возможные причины появления дубликатов в данных;\n",
    "- [x]  выделены леммы в значениях столбца с целями получения кредита;\n",
    "- [x]  описан процесс лемматизации;\n",
    "- [x]  данные категоризированы;\n",
    "- [x]  есть объяснение принципа категоризации данных;\n",
    "- [x]  есть ответ на вопрос: \"Есть ли зависимость между наличием детей и возвратом кредита в срок?\";\n",
    "- [x]  есть ответ на вопрос: \"Есть ли зависимость между семейным положением и возвратом кредита в срок?\";\n",
    "- [x]  есть ответ на вопрос: \"Есть ли зависимость между уровнем дохода и возвратом кредита в срок?\";\n",
    "- [x]  есть ответ на вопрос: \"Как разные цели кредита влияют на его возврат в срок?\";\n",
    "- [x]  в каждом этапе есть выводы;\n",
    "- [x]  есть общий вывод."
   ]
  },
  {
   "cell_type": "code",
   "execution_count": null,
   "metadata": {},
   "outputs": [],
   "source": []
  }
 ],
 "metadata": {
  "ExecuteTimeLog": [
   {
    "duration": 914,
    "start_time": "2021-11-25T18:32:05.796Z"
   },
   {
    "duration": 64,
    "start_time": "2021-11-25T18:34:44.637Z"
   },
   {
    "duration": 92,
    "start_time": "2021-11-25T18:34:52.778Z"
   },
   {
    "duration": 82,
    "start_time": "2021-11-25T18:35:07.643Z"
   },
   {
    "duration": 83,
    "start_time": "2021-11-25T18:37:52.163Z"
   },
   {
    "duration": 95,
    "start_time": "2021-11-25T18:41:52.654Z"
   },
   {
    "duration": 39,
    "start_time": "2021-11-25T18:46:03.101Z"
   },
   {
    "duration": 94,
    "start_time": "2021-11-25T18:47:06.524Z"
   },
   {
    "duration": 498,
    "start_time": "2021-11-25T18:47:53.441Z"
   },
   {
    "duration": 43,
    "start_time": "2021-11-25T18:48:02.931Z"
   },
   {
    "duration": 40,
    "start_time": "2021-11-25T18:48:28.752Z"
   },
   {
    "duration": 35,
    "start_time": "2021-11-25T18:48:50.694Z"
   },
   {
    "duration": 38,
    "start_time": "2021-11-25T18:49:36.663Z"
   },
   {
    "duration": 94,
    "start_time": "2021-11-25T18:50:09.494Z"
   },
   {
    "duration": 89,
    "start_time": "2021-11-25T18:50:31.121Z"
   },
   {
    "duration": 41,
    "start_time": "2021-11-25T18:50:43.935Z"
   },
   {
    "duration": 101,
    "start_time": "2021-11-25T18:51:25.558Z"
   },
   {
    "duration": 123,
    "start_time": "2021-11-25T18:52:22.855Z"
   },
   {
    "duration": 116,
    "start_time": "2021-11-25T18:52:47.987Z"
   },
   {
    "duration": 102,
    "start_time": "2021-11-25T18:54:28.267Z"
   },
   {
    "duration": 69,
    "start_time": "2021-11-25T18:54:47.842Z"
   },
   {
    "duration": 19,
    "start_time": "2021-11-25T18:55:18.780Z"
   },
   {
    "duration": 15,
    "start_time": "2021-11-25T18:55:22.516Z"
   },
   {
    "duration": 18,
    "start_time": "2021-11-25T18:55:55.667Z"
   },
   {
    "duration": 100,
    "start_time": "2021-11-25T18:56:21.545Z"
   },
   {
    "duration": 13,
    "start_time": "2021-11-25T18:56:30.787Z"
   },
   {
    "duration": 13,
    "start_time": "2021-11-25T18:56:39.112Z"
   },
   {
    "duration": 28,
    "start_time": "2021-11-25T18:57:15.393Z"
   },
   {
    "duration": 25,
    "start_time": "2021-11-25T18:57:46.190Z"
   },
   {
    "duration": 16,
    "start_time": "2021-11-25T18:57:53.732Z"
   },
   {
    "duration": 101,
    "start_time": "2021-11-25T18:58:02.397Z"
   },
   {
    "duration": 28,
    "start_time": "2021-11-25T18:58:15.085Z"
   },
   {
    "duration": 343,
    "start_time": "2021-11-25T19:09:03.718Z"
   },
   {
    "duration": 8674,
    "start_time": "2021-11-25T19:11:06.149Z"
   },
   {
    "duration": 2477,
    "start_time": "2021-11-25T19:13:26.901Z"
   },
   {
    "duration": 2413,
    "start_time": "2021-11-25T19:14:38.568Z"
   },
   {
    "duration": 346,
    "start_time": "2021-11-25T19:16:48.281Z"
   },
   {
    "duration": 116,
    "start_time": "2021-11-25T19:18:00.631Z"
   },
   {
    "duration": 18,
    "start_time": "2021-11-25T19:18:25.503Z"
   },
   {
    "duration": 23,
    "start_time": "2021-11-25T19:19:22.453Z"
   },
   {
    "duration": 121,
    "start_time": "2021-11-25T19:23:23.133Z"
   },
   {
    "duration": 361,
    "start_time": "2021-11-25T19:23:33.152Z"
   },
   {
    "duration": 340,
    "start_time": "2021-11-25T19:23:55.237Z"
   },
   {
    "duration": 326,
    "start_time": "2021-11-25T19:26:43.636Z"
   },
   {
    "duration": 13,
    "start_time": "2021-11-25T19:29:31.478Z"
   },
   {
    "duration": 11,
    "start_time": "2021-11-25T19:29:37.206Z"
   },
   {
    "duration": 22,
    "start_time": "2021-11-25T19:31:26.620Z"
   },
   {
    "duration": 24,
    "start_time": "2021-11-25T19:31:36.678Z"
   },
   {
    "duration": 28,
    "start_time": "2021-11-25T19:31:48.736Z"
   },
   {
    "duration": 28,
    "start_time": "2021-11-25T19:33:34.875Z"
   },
   {
    "duration": 380,
    "start_time": "2021-11-25T19:34:57.731Z"
   },
   {
    "duration": 399,
    "start_time": "2021-11-25T19:35:17.504Z"
   },
   {
    "duration": 51,
    "start_time": "2021-11-25T19:37:08.787Z"
   },
   {
    "duration": 54,
    "start_time": "2021-11-25T19:42:47.944Z"
   },
   {
    "duration": 56,
    "start_time": "2021-11-25T19:43:01.772Z"
   },
   {
    "duration": 52,
    "start_time": "2021-11-25T19:43:23.217Z"
   },
   {
    "duration": 26,
    "start_time": "2021-11-25T19:43:46.113Z"
   },
   {
    "duration": 104,
    "start_time": "2021-11-25T19:43:52.208Z"
   },
   {
    "duration": 30,
    "start_time": "2021-11-25T19:43:59.895Z"
   },
   {
    "duration": 53,
    "start_time": "2021-11-25T19:44:07.874Z"
   },
   {
    "duration": 389,
    "start_time": "2021-11-25T19:47:52.194Z"
   },
   {
    "duration": 401,
    "start_time": "2021-11-25T19:48:14.529Z"
   },
   {
    "duration": 128,
    "start_time": "2021-11-25T19:48:29.274Z"
   },
   {
    "duration": 381,
    "start_time": "2021-11-25T19:48:36.709Z"
   },
   {
    "duration": 372,
    "start_time": "2021-11-25T19:48:52.548Z"
   },
   {
    "duration": 51,
    "start_time": "2021-11-25T19:49:05.712Z"
   },
   {
    "duration": 3360,
    "start_time": "2021-11-25T19:49:49.870Z"
   },
   {
    "duration": 72,
    "start_time": "2021-11-25T19:50:41.823Z"
   },
   {
    "duration": 292,
    "start_time": "2021-11-26T08:07:49.838Z"
   },
   {
    "duration": 666,
    "start_time": "2021-11-26T08:07:59.491Z"
   },
   {
    "duration": 22,
    "start_time": "2021-11-26T08:08:00.159Z"
   },
   {
    "duration": 41,
    "start_time": "2021-11-26T08:08:00.182Z"
   },
   {
    "duration": 48,
    "start_time": "2021-11-26T08:08:38.881Z"
   },
   {
    "duration": 320,
    "start_time": "2021-11-26T08:10:24.824Z"
   },
   {
    "duration": 64,
    "start_time": "2021-11-26T08:10:46.557Z"
   },
   {
    "duration": 51,
    "start_time": "2021-11-26T08:11:59.651Z"
   },
   {
    "duration": 74,
    "start_time": "2021-11-26T08:12:33.804Z"
   },
   {
    "duration": 21,
    "start_time": "2021-11-26T08:12:33.880Z"
   },
   {
    "duration": 68,
    "start_time": "2021-11-26T08:12:33.903Z"
   },
   {
    "duration": 43,
    "start_time": "2021-11-26T08:14:06.044Z"
   },
   {
    "duration": 213,
    "start_time": "2021-11-26T10:15:51.758Z"
   },
   {
    "duration": 633,
    "start_time": "2021-11-26T10:16:02.780Z"
   },
   {
    "duration": 18,
    "start_time": "2021-11-26T10:16:03.415Z"
   },
   {
    "duration": 29,
    "start_time": "2021-11-26T10:16:03.435Z"
   },
   {
    "duration": 72,
    "start_time": "2021-11-26T10:16:42.539Z"
   },
   {
    "duration": 21,
    "start_time": "2021-11-26T10:16:52.493Z"
   },
   {
    "duration": 33,
    "start_time": "2021-11-26T10:17:08.065Z"
   },
   {
    "duration": 45,
    "start_time": "2021-11-26T10:17:40.861Z"
   },
   {
    "duration": 231,
    "start_time": "2021-11-26T10:18:42.310Z"
   },
   {
    "duration": 62,
    "start_time": "2021-11-26T10:19:08.105Z"
   },
   {
    "duration": 37,
    "start_time": "2021-11-26T10:19:15.251Z"
   },
   {
    "duration": 35,
    "start_time": "2021-11-26T10:19:42.873Z"
   },
   {
    "duration": 39,
    "start_time": "2021-11-26T10:20:10.565Z"
   },
   {
    "duration": 50,
    "start_time": "2021-11-26T10:20:24.707Z"
   },
   {
    "duration": 28,
    "start_time": "2021-11-26T10:21:38.455Z"
   },
   {
    "duration": 29,
    "start_time": "2021-11-26T10:21:57.389Z"
   },
   {
    "duration": 27,
    "start_time": "2021-11-26T10:22:14.817Z"
   },
   {
    "duration": 26,
    "start_time": "2021-11-26T10:22:40.171Z"
   },
   {
    "duration": 27,
    "start_time": "2021-11-26T10:23:20.514Z"
   },
   {
    "duration": 500,
    "start_time": "2021-11-26T10:23:50.967Z"
   },
   {
    "duration": 27,
    "start_time": "2021-11-26T10:24:48.127Z"
   },
   {
    "duration": 29,
    "start_time": "2021-11-26T10:25:18.262Z"
   },
   {
    "duration": 20,
    "start_time": "2021-11-26T10:25:40.009Z"
   },
   {
    "duration": 19,
    "start_time": "2021-11-26T10:26:40.986Z"
   },
   {
    "duration": 15,
    "start_time": "2021-11-26T10:26:56.332Z"
   },
   {
    "duration": 15,
    "start_time": "2021-11-26T10:27:09.671Z"
   },
   {
    "duration": 17,
    "start_time": "2021-11-26T10:27:26.204Z"
   },
   {
    "duration": 20,
    "start_time": "2021-11-26T10:28:22.301Z"
   },
   {
    "duration": 11,
    "start_time": "2021-11-26T10:28:43.778Z"
   },
   {
    "duration": 76,
    "start_time": "2021-11-26T10:28:56.794Z"
   },
   {
    "duration": 20,
    "start_time": "2021-11-26T10:29:15.765Z"
   },
   {
    "duration": 14,
    "start_time": "2021-11-26T10:29:31.795Z"
   },
   {
    "duration": 8,
    "start_time": "2021-11-26T10:29:59.997Z"
   },
   {
    "duration": 9,
    "start_time": "2021-11-26T10:30:21.382Z"
   },
   {
    "duration": 26,
    "start_time": "2021-11-26T10:31:07.102Z"
   },
   {
    "duration": 4375,
    "start_time": "2021-11-26T10:32:57.385Z"
   },
   {
    "duration": 4221,
    "start_time": "2021-11-26T10:33:23.391Z"
   },
   {
    "duration": 4203,
    "start_time": "2021-11-26T10:34:12.019Z"
   },
   {
    "duration": 5288,
    "start_time": "2021-11-26T10:34:29.181Z"
   },
   {
    "duration": 4455,
    "start_time": "2021-11-26T10:35:35.312Z"
   },
   {
    "duration": 4383,
    "start_time": "2021-11-26T10:35:51.929Z"
   },
   {
    "duration": 26,
    "start_time": "2021-11-26T10:36:11.354Z"
   },
   {
    "duration": 74,
    "start_time": "2021-11-26T10:37:09.119Z"
   },
   {
    "duration": 22,
    "start_time": "2021-11-26T10:37:39.702Z"
   },
   {
    "duration": 25,
    "start_time": "2021-11-26T10:37:52.860Z"
   },
   {
    "duration": 31,
    "start_time": "2021-11-26T10:39:23.478Z"
   },
   {
    "duration": 35,
    "start_time": "2021-11-26T10:39:32.241Z"
   },
   {
    "duration": 32,
    "start_time": "2021-11-26T10:39:58.306Z"
   },
   {
    "duration": 91,
    "start_time": "2021-11-26T10:40:05.638Z"
   },
   {
    "duration": 21,
    "start_time": "2021-11-26T10:40:05.732Z"
   },
   {
    "duration": 53,
    "start_time": "2021-11-26T10:40:05.755Z"
   },
   {
    "duration": 4299,
    "start_time": "2021-11-26T10:41:20.282Z"
   },
   {
    "duration": 57,
    "start_time": "2021-11-26T10:41:43.109Z"
   },
   {
    "duration": 47,
    "start_time": "2021-11-26T10:42:15.112Z"
   },
   {
    "duration": 69,
    "start_time": "2021-11-26T10:43:22.575Z"
   },
   {
    "duration": 53,
    "start_time": "2021-11-26T10:43:47.999Z"
   },
   {
    "duration": 78,
    "start_time": "2021-11-26T10:43:57.628Z"
   },
   {
    "duration": 20,
    "start_time": "2021-11-26T10:43:57.708Z"
   },
   {
    "duration": 106,
    "start_time": "2021-11-26T10:43:57.730Z"
   },
   {
    "duration": 44,
    "start_time": "2021-11-26T10:44:48.542Z"
   },
   {
    "duration": 83,
    "start_time": "2021-11-26T10:45:02.067Z"
   },
   {
    "duration": 22,
    "start_time": "2021-11-26T10:45:02.152Z"
   },
   {
    "duration": 69,
    "start_time": "2021-11-26T10:45:02.177Z"
   },
   {
    "duration": 1559,
    "start_time": "2021-11-26T10:45:20.113Z"
   },
   {
    "duration": 21,
    "start_time": "2021-11-26T10:45:21.674Z"
   },
   {
    "duration": 37,
    "start_time": "2021-11-26T10:45:21.697Z"
   },
   {
    "duration": 3,
    "start_time": "2021-11-26T10:46:48.536Z"
   },
   {
    "duration": 11,
    "start_time": "2021-11-26T10:46:54.507Z"
   },
   {
    "duration": 78,
    "start_time": "2021-11-26T10:47:00.359Z"
   },
   {
    "duration": 22,
    "start_time": "2021-11-26T10:47:00.440Z"
   },
   {
    "duration": 28,
    "start_time": "2021-11-26T10:47:00.465Z"
   },
   {
    "duration": 85,
    "start_time": "2021-11-26T10:47:49.191Z"
   },
   {
    "duration": 25,
    "start_time": "2021-11-26T10:47:49.278Z"
   },
   {
    "duration": 32,
    "start_time": "2021-11-26T10:47:52.307Z"
   },
   {
    "duration": 37,
    "start_time": "2021-11-26T10:48:39.382Z"
   },
   {
    "duration": 52,
    "start_time": "2021-11-26T10:49:57.012Z"
   },
   {
    "duration": 33,
    "start_time": "2021-11-26T10:50:10.449Z"
   },
   {
    "duration": 42,
    "start_time": "2021-11-26T10:50:28.782Z"
   },
   {
    "duration": 212,
    "start_time": "2021-11-26T10:50:41.247Z"
   },
   {
    "duration": 75,
    "start_time": "2021-11-26T10:50:52.312Z"
   },
   {
    "duration": 21,
    "start_time": "2021-11-26T10:50:52.389Z"
   },
   {
    "duration": 41,
    "start_time": "2021-11-26T10:51:02.500Z"
   },
   {
    "duration": 52,
    "start_time": "2021-11-26T10:52:29.760Z"
   },
   {
    "duration": 44,
    "start_time": "2021-11-26T10:52:52.167Z"
   },
   {
    "duration": 104,
    "start_time": "2021-11-26T10:52:58.674Z"
   },
   {
    "duration": 21,
    "start_time": "2021-11-26T10:52:58.792Z"
   },
   {
    "duration": 45,
    "start_time": "2021-11-26T10:52:58.900Z"
   },
   {
    "duration": 66,
    "start_time": "2021-11-26T10:54:41.436Z"
   },
   {
    "duration": 105,
    "start_time": "2021-11-26T10:55:13.499Z"
   },
   {
    "duration": 56,
    "start_time": "2021-11-26T11:06:14.269Z"
   },
   {
    "duration": 72,
    "start_time": "2021-11-26T11:06:39.037Z"
   },
   {
    "duration": 19,
    "start_time": "2021-11-26T11:06:39.111Z"
   },
   {
    "duration": 80,
    "start_time": "2021-11-26T11:06:58.219Z"
   },
   {
    "duration": 21,
    "start_time": "2021-11-26T11:06:58.301Z"
   },
   {
    "duration": 45,
    "start_time": "2021-11-26T11:07:07.064Z"
   },
   {
    "duration": 187,
    "start_time": "2021-11-26T11:28:11.057Z"
   },
   {
    "duration": 3155,
    "start_time": "2021-11-26T11:33:52.004Z"
   },
   {
    "duration": 8515,
    "start_time": "2021-11-26T11:34:03.635Z"
   },
   {
    "duration": 181,
    "start_time": "2021-11-26T11:41:17.342Z"
   },
   {
    "duration": 7,
    "start_time": "2021-11-26T11:41:47.733Z"
   },
   {
    "duration": 347,
    "start_time": "2021-11-26T11:44:02.214Z"
   },
   {
    "duration": 4165,
    "start_time": "2021-11-26T11:47:05.670Z"
   },
   {
    "duration": 4295,
    "start_time": "2021-11-26T11:47:34.434Z"
   },
   {
    "duration": 54,
    "start_time": "2021-11-26T11:48:04.953Z"
   },
   {
    "duration": 77,
    "start_time": "2021-11-26T11:48:23.259Z"
   },
   {
    "duration": 20,
    "start_time": "2021-11-26T11:48:23.338Z"
   },
   {
    "duration": 78,
    "start_time": "2021-11-26T11:48:23.360Z"
   },
   {
    "duration": 50,
    "start_time": "2021-11-26T11:53:56.435Z"
   },
   {
    "duration": 57,
    "start_time": "2021-11-26T11:54:22.418Z"
   },
   {
    "duration": 62,
    "start_time": "2021-11-26T11:54:58.258Z"
   },
   {
    "duration": 77,
    "start_time": "2021-11-26T11:55:10.422Z"
   },
   {
    "duration": 21,
    "start_time": "2021-11-26T11:55:10.501Z"
   },
   {
    "duration": 77,
    "start_time": "2021-11-26T11:55:10.538Z"
   },
   {
    "duration": 172,
    "start_time": "2021-11-26T12:02:59.582Z"
   },
   {
    "duration": 22,
    "start_time": "2021-11-26T12:03:06.680Z"
   },
   {
    "duration": 19,
    "start_time": "2021-11-26T12:04:04.207Z"
   },
   {
    "duration": 13,
    "start_time": "2021-11-26T12:08:13.398Z"
   },
   {
    "duration": 15,
    "start_time": "2021-11-26T12:13:01.857Z"
   },
   {
    "duration": 14,
    "start_time": "2021-11-26T12:13:25.269Z"
   },
   {
    "duration": 50,
    "start_time": "2021-11-26T12:14:38.666Z"
   },
   {
    "duration": 70,
    "start_time": "2021-11-26T12:14:41.564Z"
   },
   {
    "duration": 20,
    "start_time": "2021-11-26T12:14:41.636Z"
   },
   {
    "duration": 71,
    "start_time": "2021-11-26T12:14:41.658Z"
   },
   {
    "duration": 8196,
    "start_time": "2021-11-26T12:14:41.730Z"
   },
   {
    "duration": 17,
    "start_time": "2021-11-26T12:14:49.929Z"
   },
   {
    "duration": 178,
    "start_time": "2021-11-26T12:14:49.948Z"
   },
   {
    "duration": 14,
    "start_time": "2021-11-26T12:16:49.277Z"
   },
   {
    "duration": 9,
    "start_time": "2021-11-26T12:24:01.511Z"
   },
   {
    "duration": 11,
    "start_time": "2021-11-26T12:24:45.011Z"
   },
   {
    "duration": 11,
    "start_time": "2021-11-26T12:28:19.600Z"
   },
   {
    "duration": 232,
    "start_time": "2021-11-26T12:31:01.749Z"
   },
   {
    "duration": 72,
    "start_time": "2021-11-26T12:31:13.240Z"
   },
   {
    "duration": 19,
    "start_time": "2021-11-26T12:31:13.314Z"
   },
   {
    "duration": 175,
    "start_time": "2021-11-26T12:31:13.335Z"
   },
   {
    "duration": -2885,
    "start_time": "2021-11-26T12:31:16.397Z"
   },
   {
    "duration": -2947,
    "start_time": "2021-11-26T12:31:16.460Z"
   },
   {
    "duration": -3052,
    "start_time": "2021-11-26T12:31:16.566Z"
   },
   {
    "duration": -3112,
    "start_time": "2021-11-26T12:31:16.627Z"
   },
   {
    "duration": 6,
    "start_time": "2021-11-26T12:31:35.149Z"
   },
   {
    "duration": 61,
    "start_time": "2021-11-26T12:31:44.142Z"
   },
   {
    "duration": 8484,
    "start_time": "2021-11-26T12:31:51.366Z"
   },
   {
    "duration": 45,
    "start_time": "2021-11-26T12:31:59.852Z"
   },
   {
    "duration": 12,
    "start_time": "2021-11-26T12:32:21.146Z"
   },
   {
    "duration": 10,
    "start_time": "2021-11-26T12:33:58.195Z"
   },
   {
    "duration": 10,
    "start_time": "2021-11-26T12:34:11.957Z"
   },
   {
    "duration": 72,
    "start_time": "2021-11-26T12:34:37.636Z"
   },
   {
    "duration": 22,
    "start_time": "2021-11-26T12:34:37.710Z"
   },
   {
    "duration": 5,
    "start_time": "2021-11-26T12:34:37.733Z"
   },
   {
    "duration": 82,
    "start_time": "2021-11-26T12:34:37.740Z"
   },
   {
    "duration": 8287,
    "start_time": "2021-11-26T12:34:37.824Z"
   },
   {
    "duration": 19,
    "start_time": "2021-11-26T12:34:46.113Z"
   },
   {
    "duration": 10,
    "start_time": "2021-11-26T12:34:46.133Z"
   },
   {
    "duration": 4,
    "start_time": "2021-11-26T12:35:12.337Z"
   },
   {
    "duration": 4,
    "start_time": "2021-11-26T12:35:17.260Z"
   },
   {
    "duration": 6,
    "start_time": "2021-11-26T12:35:45.187Z"
   },
   {
    "duration": 60,
    "start_time": "2021-11-26T12:35:53.984Z"
   },
   {
    "duration": 8008,
    "start_time": "2021-11-26T12:35:54.054Z"
   },
   {
    "duration": 44,
    "start_time": "2021-11-26T12:36:02.064Z"
   },
   {
    "duration": 10,
    "start_time": "2021-11-26T12:36:02.110Z"
   },
   {
    "duration": 3822,
    "start_time": "2021-11-26T12:45:42.120Z"
   },
   {
    "duration": 38,
    "start_time": "2021-11-26T12:48:34.903Z"
   },
   {
    "duration": -1463,
    "start_time": "2021-11-26T12:50:34.076Z"
   },
   {
    "duration": -1479,
    "start_time": "2021-11-26T12:50:34.093Z"
   },
   {
    "duration": -1500,
    "start_time": "2021-11-26T12:50:34.116Z"
   },
   {
    "duration": -1532,
    "start_time": "2021-11-26T12:50:34.149Z"
   },
   {
    "duration": -1550,
    "start_time": "2021-11-26T12:50:34.172Z"
   },
   {
    "duration": -1569,
    "start_time": "2021-11-26T12:50:34.192Z"
   },
   {
    "duration": -1587,
    "start_time": "2021-11-26T12:50:34.213Z"
   },
   {
    "duration": -1604,
    "start_time": "2021-11-26T12:50:34.232Z"
   },
   {
    "duration": 16,
    "start_time": "2021-11-26T12:51:11.361Z"
   },
   {
    "duration": 45120,
    "start_time": "2021-11-26T12:51:20.825Z"
   },
   {
    "duration": 881,
    "start_time": "2021-11-26T12:52:54.263Z"
   },
   {
    "duration": 174,
    "start_time": "2021-11-26T12:53:33.669Z"
   },
   {
    "duration": 885,
    "start_time": "2021-11-26T12:53:48.822Z"
   },
   {
    "duration": 887,
    "start_time": "2021-11-26T12:54:59.901Z"
   },
   {
    "duration": 891,
    "start_time": "2021-11-26T12:55:21.474Z"
   },
   {
    "duration": 3637,
    "start_time": "2021-11-26T12:56:27.091Z"
   },
   {
    "duration": 3668,
    "start_time": "2021-11-26T12:56:46.573Z"
   },
   {
    "duration": 80,
    "start_time": "2021-11-26T12:56:56.692Z"
   },
   {
    "duration": 29,
    "start_time": "2021-11-26T12:56:56.774Z"
   },
   {
    "duration": 6,
    "start_time": "2021-11-26T12:56:57.366Z"
   },
   {
    "duration": 86,
    "start_time": "2021-11-26T12:56:57.374Z"
   },
   {
    "duration": 3493,
    "start_time": "2021-11-26T12:56:57.462Z"
   },
   {
    "duration": 37,
    "start_time": "2021-11-26T12:57:00.957Z"
   },
   {
    "duration": 12,
    "start_time": "2021-11-26T12:57:00.996Z"
   },
   {
    "duration": 7,
    "start_time": "2021-11-26T12:57:01.010Z"
   },
   {
    "duration": 910,
    "start_time": "2021-11-26T12:58:31.123Z"
   },
   {
    "duration": 3450,
    "start_time": "2021-11-26T12:59:37.901Z"
   },
   {
    "duration": 10476,
    "start_time": "2021-11-26T13:02:17.840Z"
   },
   {
    "duration": 3981,
    "start_time": "2021-11-26T13:03:15.494Z"
   },
   {
    "duration": 3975,
    "start_time": "2021-11-26T13:05:10.108Z"
   },
   {
    "duration": 4511,
    "start_time": "2021-11-26T13:05:29.915Z"
   },
   {
    "duration": 24,
    "start_time": "2021-11-26T13:18:35.500Z"
   },
   {
    "duration": 229,
    "start_time": "2021-11-26T13:19:14.683Z"
   },
   {
    "duration": 170,
    "start_time": "2021-11-26T13:19:24.726Z"
   },
   {
    "duration": 20,
    "start_time": "2021-11-26T13:21:24.244Z"
   },
   {
    "duration": 36,
    "start_time": "2021-11-26T13:22:02.664Z"
   },
   {
    "duration": 24,
    "start_time": "2021-11-26T13:22:23.542Z"
   },
   {
    "duration": 12,
    "start_time": "2021-11-26T13:23:18.324Z"
   },
   {
    "duration": 14,
    "start_time": "2021-11-26T13:23:56.557Z"
   },
   {
    "duration": 14,
    "start_time": "2021-11-26T13:24:08.334Z"
   },
   {
    "duration": 12,
    "start_time": "2021-11-26T13:24:14.843Z"
   },
   {
    "duration": 12,
    "start_time": "2021-11-26T13:24:26.933Z"
   },
   {
    "duration": 78,
    "start_time": "2021-11-26T13:24:45.249Z"
   },
   {
    "duration": 21,
    "start_time": "2021-11-26T13:24:45.329Z"
   },
   {
    "duration": 6,
    "start_time": "2021-11-26T13:24:45.353Z"
   },
   {
    "duration": 90,
    "start_time": "2021-11-26T13:24:45.361Z"
   },
   {
    "duration": 3691,
    "start_time": "2021-11-26T13:24:45.453Z"
   },
   {
    "duration": 21,
    "start_time": "2021-11-26T13:24:49.146Z"
   },
   {
    "duration": 36,
    "start_time": "2021-11-26T13:24:49.169Z"
   },
   {
    "duration": 12,
    "start_time": "2021-11-26T13:24:49.208Z"
   },
   {
    "duration": 24,
    "start_time": "2021-11-26T13:24:49.222Z"
   },
   {
    "duration": 11,
    "start_time": "2021-11-26T13:26:08.026Z"
   },
   {
    "duration": 13,
    "start_time": "2021-11-26T13:26:19.749Z"
   },
   {
    "duration": 12,
    "start_time": "2021-11-26T13:26:24.525Z"
   },
   {
    "duration": 11,
    "start_time": "2021-11-26T13:26:43.980Z"
   },
   {
    "duration": 11,
    "start_time": "2021-11-26T13:27:09.352Z"
   },
   {
    "duration": 17,
    "start_time": "2021-11-26T13:27:31.237Z"
   },
   {
    "duration": 19,
    "start_time": "2021-11-26T13:28:14.657Z"
   },
   {
    "duration": 43,
    "start_time": "2021-11-26T13:29:24.946Z"
   },
   {
    "duration": 27,
    "start_time": "2021-11-26T13:30:00.007Z"
   },
   {
    "duration": 3783,
    "start_time": "2021-11-26T13:56:26.055Z"
   },
   {
    "duration": 3812,
    "start_time": "2021-11-26T13:56:58.842Z"
   },
   {
    "duration": 3612,
    "start_time": "2021-11-26T14:00:57.858Z"
   },
   {
    "duration": 77,
    "start_time": "2021-11-26T14:02:41.794Z"
   },
   {
    "duration": 23,
    "start_time": "2021-11-26T14:02:41.873Z"
   },
   {
    "duration": 6,
    "start_time": "2021-11-26T14:02:41.898Z"
   },
   {
    "duration": 56,
    "start_time": "2021-11-26T14:02:41.905Z"
   },
   {
    "duration": 3473,
    "start_time": "2021-11-26T14:02:41.993Z"
   },
   {
    "duration": 35,
    "start_time": "2021-11-26T14:02:45.468Z"
   },
   {
    "duration": 30,
    "start_time": "2021-11-26T14:02:45.505Z"
   },
   {
    "duration": 10,
    "start_time": "2021-11-26T14:02:45.537Z"
   },
   {
    "duration": 2,
    "start_time": "2021-11-26T14:02:45.549Z"
   },
   {
    "duration": 247,
    "start_time": "2021-11-26T14:06:04.931Z"
   },
   {
    "duration": 233,
    "start_time": "2021-11-26T14:06:15.266Z"
   },
   {
    "duration": 240,
    "start_time": "2021-11-26T14:06:34.883Z"
   },
   {
    "duration": 82,
    "start_time": "2021-11-26T14:06:58.693Z"
   },
   {
    "duration": 85,
    "start_time": "2021-11-26T14:07:22.499Z"
   },
   {
    "duration": 77,
    "start_time": "2021-11-26T14:08:24.940Z"
   },
   {
    "duration": 62,
    "start_time": "2021-11-26T14:09:15.097Z"
   },
   {
    "duration": 75,
    "start_time": "2021-11-26T14:09:44.489Z"
   },
   {
    "duration": 75,
    "start_time": "2021-11-26T14:10:17.159Z"
   },
   {
    "duration": 70,
    "start_time": "2021-11-26T14:10:25.525Z"
   },
   {
    "duration": 75,
    "start_time": "2021-11-26T14:11:40.568Z"
   },
   {
    "duration": 85,
    "start_time": "2021-11-26T14:12:49.852Z"
   },
   {
    "duration": 112,
    "start_time": "2021-11-26T14:13:08.799Z"
   },
   {
    "duration": 95,
    "start_time": "2021-11-26T14:13:41.126Z"
   },
   {
    "duration": 117,
    "start_time": "2021-11-26T14:14:28.476Z"
   },
   {
    "duration": 3674,
    "start_time": "2021-11-26T14:14:46.607Z"
   },
   {
    "duration": 23,
    "start_time": "2021-11-26T14:15:03.548Z"
   },
   {
    "duration": 33,
    "start_time": "2021-11-26T14:15:23.179Z"
   },
   {
    "duration": 24,
    "start_time": "2021-11-26T14:15:33.544Z"
   },
   {
    "duration": 12,
    "start_time": "2021-11-26T14:15:40.737Z"
   },
   {
    "duration": 10,
    "start_time": "2021-11-26T14:18:05.141Z"
   },
   {
    "duration": 14,
    "start_time": "2021-11-26T14:20:13.925Z"
   },
   {
    "duration": 6,
    "start_time": "2021-11-26T14:21:52.320Z"
   },
   {
    "duration": 19,
    "start_time": "2021-11-26T14:24:48.928Z"
   },
   {
    "duration": 18,
    "start_time": "2021-11-26T14:25:10.713Z"
   },
   {
    "duration": 18,
    "start_time": "2021-11-26T14:26:02.628Z"
   },
   {
    "duration": 18,
    "start_time": "2021-11-26T14:26:27.063Z"
   },
   {
    "duration": 12,
    "start_time": "2021-11-26T14:26:47.349Z"
   },
   {
    "duration": 18,
    "start_time": "2021-11-26T14:27:31.310Z"
   },
   {
    "duration": 25,
    "start_time": "2021-11-26T14:29:01.815Z"
   },
   {
    "duration": 6,
    "start_time": "2021-11-26T14:30:16.713Z"
   },
   {
    "duration": 802,
    "start_time": "2021-11-26T19:22:03.279Z"
   },
   {
    "duration": 640,
    "start_time": "2021-11-26T19:25:19.802Z"
   },
   {
    "duration": 596,
    "start_time": "2021-11-26T19:25:56.006Z"
   },
   {
    "duration": 565,
    "start_time": "2021-11-26T19:27:45.770Z"
   },
   {
    "duration": 275,
    "start_time": "2021-11-26T19:28:14.336Z"
   },
   {
    "duration": 616,
    "start_time": "2021-11-26T19:28:34.829Z"
   },
   {
    "duration": 589,
    "start_time": "2021-11-26T19:30:37.846Z"
   },
   {
    "duration": 603,
    "start_time": "2021-11-26T19:30:57.818Z"
   },
   {
    "duration": 638,
    "start_time": "2021-11-26T19:36:05.867Z"
   },
   {
    "duration": 19,
    "start_time": "2021-11-26T19:36:06.506Z"
   },
   {
    "duration": 6,
    "start_time": "2021-11-26T19:36:06.527Z"
   },
   {
    "duration": 106,
    "start_time": "2021-11-26T19:36:06.535Z"
   },
   {
    "duration": 3388,
    "start_time": "2021-11-26T19:36:06.643Z"
   },
   {
    "duration": 21,
    "start_time": "2021-11-26T19:36:10.033Z"
   },
   {
    "duration": 1136,
    "start_time": "2021-11-26T19:36:10.055Z"
   },
   {
    "duration": 623,
    "start_time": "2021-11-26T19:36:11.194Z"
   },
   {
    "duration": 217,
    "start_time": "2021-11-26T19:38:23.321Z"
   },
   {
    "duration": 166,
    "start_time": "2021-11-26T19:38:42.243Z"
   },
   {
    "duration": 594,
    "start_time": "2021-11-26T19:38:50.027Z"
   },
   {
    "duration": 21,
    "start_time": "2021-11-26T19:38:59.797Z"
   },
   {
    "duration": 7,
    "start_time": "2021-11-26T19:39:05.053Z"
   },
   {
    "duration": 86,
    "start_time": "2021-11-26T19:39:11.370Z"
   },
   {
    "duration": 3644,
    "start_time": "2021-11-26T19:39:20.917Z"
   },
   {
    "duration": 20,
    "start_time": "2021-11-26T19:39:30.865Z"
   },
   {
    "duration": 1116,
    "start_time": "2021-11-26T19:39:43.764Z"
   },
   {
    "duration": 591,
    "start_time": "2021-11-26T19:39:53.280Z"
   },
   {
    "duration": 217,
    "start_time": "2021-11-26T19:41:33.194Z"
   },
   {
    "duration": 637,
    "start_time": "2021-11-26T19:41:33.701Z"
   },
   {
    "duration": 18,
    "start_time": "2021-11-26T19:41:34.340Z"
   },
   {
    "duration": 6,
    "start_time": "2021-11-26T19:41:34.360Z"
   },
   {
    "duration": 135,
    "start_time": "2021-11-26T19:41:34.368Z"
   },
   {
    "duration": 3369,
    "start_time": "2021-11-26T19:41:34.505Z"
   },
   {
    "duration": 26,
    "start_time": "2021-11-26T19:41:37.876Z"
   },
   {
    "duration": 1082,
    "start_time": "2021-11-26T19:41:37.904Z"
   },
   {
    "duration": 616,
    "start_time": "2021-11-26T19:41:38.989Z"
   },
   {
    "duration": 610,
    "start_time": "2021-11-26T19:47:58.919Z"
   },
   {
    "duration": 19,
    "start_time": "2021-11-26T19:47:59.532Z"
   },
   {
    "duration": 5,
    "start_time": "2021-11-26T19:47:59.553Z"
   },
   {
    "duration": 131,
    "start_time": "2021-11-26T19:47:59.560Z"
   },
   {
    "duration": 3420,
    "start_time": "2021-11-26T19:47:59.693Z"
   },
   {
    "duration": 19,
    "start_time": "2021-11-26T19:48:03.114Z"
   },
   {
    "duration": 1165,
    "start_time": "2021-11-26T19:48:03.134Z"
   },
   {
    "duration": 461,
    "start_time": "2021-11-26T19:48:04.301Z"
   },
   {
    "duration": -89,
    "start_time": "2021-11-26T19:48:04.853Z"
   },
   {
    "duration": -157,
    "start_time": "2021-11-26T19:48:04.922Z"
   },
   {
    "duration": 319,
    "start_time": "2021-11-26T19:48:27.979Z"
   },
   {
    "duration": 304,
    "start_time": "2021-11-26T19:50:07.500Z"
   },
   {
    "duration": 615,
    "start_time": "2021-11-26T19:50:24.864Z"
   },
   {
    "duration": 606,
    "start_time": "2021-11-26T19:53:41.172Z"
   },
   {
    "duration": 605,
    "start_time": "2021-11-26T19:55:47.627Z"
   },
   {
    "duration": 19,
    "start_time": "2021-11-26T19:55:48.234Z"
   },
   {
    "duration": 7,
    "start_time": "2021-11-26T19:55:48.256Z"
   },
   {
    "duration": 141,
    "start_time": "2021-11-26T19:55:48.265Z"
   },
   {
    "duration": 3358,
    "start_time": "2021-11-26T19:55:48.407Z"
   },
   {
    "duration": 31,
    "start_time": "2021-11-26T19:55:51.767Z"
   },
   {
    "duration": 1099,
    "start_time": "2021-11-26T19:55:51.799Z"
   },
   {
    "duration": 603,
    "start_time": "2021-11-26T19:55:52.901Z"
   },
   {
    "duration": 5,
    "start_time": "2021-11-26T19:55:53.506Z"
   },
   {
    "duration": 17,
    "start_time": "2021-11-26T19:55:53.513Z"
   },
   {
    "duration": 599,
    "start_time": "2021-11-26T19:56:44.006Z"
   },
   {
    "duration": 9,
    "start_time": "2021-11-26T20:04:08.856Z"
   },
   {
    "duration": 56,
    "start_time": "2021-11-26T20:11:04.599Z"
   },
   {
    "duration": 613,
    "start_time": "2021-11-26T20:11:30.048Z"
   },
   {
    "duration": 679,
    "start_time": "2021-11-26T20:11:58.506Z"
   },
   {
    "duration": 28,
    "start_time": "2021-11-26T20:17:40.857Z"
   },
   {
    "duration": 278,
    "start_time": "2021-11-26T20:27:42.495Z"
   },
   {
    "duration": 200,
    "start_time": "2021-11-26T20:28:08.106Z"
   },
   {
    "duration": 214,
    "start_time": "2021-11-26T20:29:01.104Z"
   },
   {
    "duration": 198,
    "start_time": "2021-11-26T20:29:30.578Z"
   },
   {
    "duration": 193,
    "start_time": "2021-11-26T20:32:17.166Z"
   },
   {
    "duration": 623,
    "start_time": "2021-11-26T20:32:46.859Z"
   },
   {
    "duration": 20,
    "start_time": "2021-11-26T20:32:47.483Z"
   },
   {
    "duration": 5,
    "start_time": "2021-11-26T20:32:47.505Z"
   },
   {
    "duration": 110,
    "start_time": "2021-11-26T20:32:47.512Z"
   },
   {
    "duration": 3429,
    "start_time": "2021-11-26T20:32:47.623Z"
   },
   {
    "duration": 20,
    "start_time": "2021-11-26T20:32:51.054Z"
   },
   {
    "duration": 23,
    "start_time": "2021-11-26T20:32:51.077Z"
   },
   {
    "duration": 259,
    "start_time": "2021-11-26T20:32:51.103Z"
   },
   {
    "duration": -150,
    "start_time": "2021-11-26T20:32:51.514Z"
   },
   {
    "duration": -159,
    "start_time": "2021-11-26T20:32:51.525Z"
   },
   {
    "duration": 209,
    "start_time": "2021-11-26T20:33:48.223Z"
   },
   {
    "duration": 688,
    "start_time": "2021-11-26T20:34:05.575Z"
   },
   {
    "duration": 174,
    "start_time": "2021-11-26T20:35:11.761Z"
   },
   {
    "duration": 182,
    "start_time": "2021-11-26T20:36:21.554Z"
   },
   {
    "duration": 4,
    "start_time": "2021-11-26T20:39:30.301Z"
   },
   {
    "duration": 7,
    "start_time": "2021-11-26T20:40:26.454Z"
   },
   {
    "duration": 8,
    "start_time": "2021-11-26T20:41:51.291Z"
   },
   {
    "duration": 10,
    "start_time": "2021-11-26T20:42:41.429Z"
   },
   {
    "duration": 9,
    "start_time": "2021-11-26T20:42:56.439Z"
   },
   {
    "duration": 14,
    "start_time": "2021-11-26T20:44:28.048Z"
   },
   {
    "duration": 11,
    "start_time": "2021-11-26T20:44:53.758Z"
   },
   {
    "duration": 9,
    "start_time": "2021-11-26T20:45:03.706Z"
   },
   {
    "duration": 125,
    "start_time": "2021-11-26T20:46:46.669Z"
   },
   {
    "duration": 243,
    "start_time": "2021-11-26T20:47:26.311Z"
   },
   {
    "duration": 173,
    "start_time": "2021-11-26T20:48:18.758Z"
   },
   {
    "duration": 427,
    "start_time": "2021-11-26T20:53:54.533Z"
   },
   {
    "duration": 318,
    "start_time": "2021-11-26T20:54:04.133Z"
   },
   {
    "duration": 415,
    "start_time": "2021-11-26T20:54:57.745Z"
   },
   {
    "duration": 319,
    "start_time": "2021-11-26T20:55:22.521Z"
   },
   {
    "duration": 136,
    "start_time": "2021-11-26T20:56:49.379Z"
   },
   {
    "duration": 331,
    "start_time": "2021-11-26T21:01:33.206Z"
   },
   {
    "duration": 330,
    "start_time": "2021-11-26T21:02:19.197Z"
   },
   {
    "duration": 331,
    "start_time": "2021-11-26T21:03:01.446Z"
   },
   {
    "duration": 55,
    "start_time": "2021-11-26T21:04:13.220Z"
   },
   {
    "duration": 438,
    "start_time": "2021-11-26T21:04:22.635Z"
   },
   {
    "duration": 426,
    "start_time": "2021-11-26T21:07:22.200Z"
   },
   {
    "duration": 329,
    "start_time": "2021-11-26T21:09:00.756Z"
   },
   {
    "duration": 135,
    "start_time": "2021-11-26T21:09:27.874Z"
   },
   {
    "duration": 187,
    "start_time": "2021-11-26T21:11:40.665Z"
   },
   {
    "duration": 131,
    "start_time": "2021-11-26T21:12:18.938Z"
   },
   {
    "duration": 160,
    "start_time": "2021-11-26T21:13:23.558Z"
   },
   {
    "duration": 145,
    "start_time": "2021-11-26T21:13:34.503Z"
   },
   {
    "duration": 163,
    "start_time": "2021-11-26T21:14:13.587Z"
   },
   {
    "duration": 151,
    "start_time": "2021-11-26T21:14:33.795Z"
   },
   {
    "duration": 146,
    "start_time": "2021-11-26T21:14:39.328Z"
   },
   {
    "duration": 154,
    "start_time": "2021-11-26T21:14:49.717Z"
   },
   {
    "duration": 228,
    "start_time": "2021-11-26T21:15:01.630Z"
   },
   {
    "duration": 154,
    "start_time": "2021-11-26T21:15:09.712Z"
   },
   {
    "duration": 174,
    "start_time": "2021-11-26T21:15:28.249Z"
   },
   {
    "duration": 129,
    "start_time": "2021-11-26T21:15:50.396Z"
   },
   {
    "duration": 136,
    "start_time": "2021-11-26T21:15:58.257Z"
   },
   {
    "duration": 73,
    "start_time": "2021-11-26T21:16:05.394Z"
   },
   {
    "duration": 20,
    "start_time": "2021-11-26T21:16:05.739Z"
   },
   {
    "duration": 5,
    "start_time": "2021-11-26T21:16:05.760Z"
   },
   {
    "duration": 83,
    "start_time": "2021-11-26T21:16:05.767Z"
   },
   {
    "duration": 3292,
    "start_time": "2021-11-26T21:16:05.851Z"
   },
   {
    "duration": 27,
    "start_time": "2021-11-26T21:16:09.145Z"
   },
   {
    "duration": 146,
    "start_time": "2021-11-26T21:16:09.174Z"
   },
   {
    "duration": 187,
    "start_time": "2021-11-26T21:16:09.322Z"
   },
   {
    "duration": 146,
    "start_time": "2021-11-26T21:16:09.510Z"
   },
   {
    "duration": 38,
    "start_time": "2021-11-26T21:16:09.658Z"
   },
   {
    "duration": 7,
    "start_time": "2021-11-26T21:16:57.120Z"
   },
   {
    "duration": 55,
    "start_time": "2021-11-26T21:39:23.318Z"
   },
   {
    "duration": 202,
    "start_time": "2021-11-26T21:39:32.092Z"
   },
   {
    "duration": 72,
    "start_time": "2021-11-26T21:39:52.577Z"
   },
   {
    "duration": 19,
    "start_time": "2021-11-26T21:39:52.651Z"
   },
   {
    "duration": 21,
    "start_time": "2021-11-26T21:39:52.672Z"
   },
   {
    "duration": 118,
    "start_time": "2021-11-26T21:39:52.695Z"
   },
   {
    "duration": 3415,
    "start_time": "2021-11-26T21:39:52.814Z"
   },
   {
    "duration": 28,
    "start_time": "2021-11-26T21:39:56.231Z"
   },
   {
    "duration": 141,
    "start_time": "2021-11-26T21:39:56.260Z"
   },
   {
    "duration": 188,
    "start_time": "2021-11-26T21:39:56.403Z"
   },
   {
    "duration": 6,
    "start_time": "2021-11-26T21:39:56.593Z"
   },
   {
    "duration": 187,
    "start_time": "2021-11-26T21:39:56.601Z"
   },
   {
    "duration": 589,
    "start_time": "2021-11-26T21:40:15.831Z"
   },
   {
    "duration": 19,
    "start_time": "2021-11-26T21:40:16.422Z"
   },
   {
    "duration": 6,
    "start_time": "2021-11-26T21:40:16.442Z"
   },
   {
    "duration": 104,
    "start_time": "2021-11-26T21:40:16.450Z"
   },
   {
    "duration": 3297,
    "start_time": "2021-11-26T21:40:16.556Z"
   },
   {
    "duration": 18,
    "start_time": "2021-11-26T21:40:19.856Z"
   },
   {
    "duration": 670,
    "start_time": "2021-11-26T21:40:19.875Z"
   },
   {
    "duration": 181,
    "start_time": "2021-11-26T21:40:20.548Z"
   },
   {
    "duration": 7,
    "start_time": "2021-11-26T21:40:20.730Z"
   },
   {
    "duration": 303,
    "start_time": "2021-11-26T21:40:20.739Z"
   },
   {
    "duration": 161,
    "start_time": "2021-11-26T21:40:37.068Z"
   },
   {
    "duration": 73,
    "start_time": "2021-11-26T21:42:29.300Z"
   },
   {
    "duration": 73,
    "start_time": "2021-11-26T21:43:27.242Z"
   },
   {
    "duration": 78,
    "start_time": "2021-11-26T21:44:14.107Z"
   },
   {
    "duration": 79,
    "start_time": "2021-11-26T21:44:51.655Z"
   },
   {
    "duration": 84,
    "start_time": "2021-11-26T21:46:00.760Z"
   },
   {
    "duration": 83,
    "start_time": "2021-11-26T21:46:30.250Z"
   },
   {
    "duration": 72,
    "start_time": "2021-11-26T21:47:00.868Z"
   },
   {
    "duration": 176,
    "start_time": "2021-11-26T21:48:48.915Z"
   },
   {
    "duration": 237,
    "start_time": "2021-11-26T21:52:07.840Z"
   },
   {
    "duration": 908,
    "start_time": "2021-11-27T11:13:53.189Z"
   },
   {
    "duration": 99,
    "start_time": "2021-11-27T11:18:34.436Z"
   },
   {
    "duration": 787,
    "start_time": "2021-11-27T11:20:47.116Z"
   },
   {
    "duration": 679,
    "start_time": "2021-11-27T11:21:03.046Z"
   },
   {
    "duration": 448,
    "start_time": "2021-11-27T11:21:50.297Z"
   },
   {
    "duration": 104,
    "start_time": "2021-11-27T11:22:45.273Z"
   },
   {
    "duration": 106,
    "start_time": "2021-11-27T11:23:20.060Z"
   },
   {
    "duration": 108,
    "start_time": "2021-11-27T11:29:55.349Z"
   },
   {
    "duration": 180,
    "start_time": "2021-11-27T11:31:20.065Z"
   },
   {
    "duration": 105,
    "start_time": "2021-11-27T11:31:29.956Z"
   },
   {
    "duration": 100,
    "start_time": "2021-11-27T11:32:10.624Z"
   },
   {
    "duration": 16,
    "start_time": "2021-11-27T11:33:04.442Z"
   },
   {
    "duration": 18,
    "start_time": "2021-11-27T11:33:08.153Z"
   },
   {
    "duration": 15,
    "start_time": "2021-11-27T11:33:26.761Z"
   },
   {
    "duration": 441,
    "start_time": "2021-11-27T11:33:36.470Z"
   },
   {
    "duration": 876,
    "start_time": "2021-11-27T11:33:48.127Z"
   },
   {
    "duration": 16,
    "start_time": "2021-11-27T11:33:54.190Z"
   },
   {
    "duration": 19,
    "start_time": "2021-11-27T11:34:00.598Z"
   },
   {
    "duration": 15,
    "start_time": "2021-11-27T11:34:31.798Z"
   },
   {
    "duration": 19,
    "start_time": "2021-11-27T11:34:46.381Z"
   },
   {
    "duration": 13,
    "start_time": "2021-11-27T11:34:56.919Z"
   },
   {
    "duration": 101,
    "start_time": "2021-11-27T11:35:10.838Z"
   },
   {
    "duration": 13,
    "start_time": "2021-11-27T11:35:19.109Z"
   },
   {
    "duration": 386,
    "start_time": "2021-11-27T11:37:38.322Z"
   },
   {
    "duration": 32,
    "start_time": "2021-11-27T11:37:50.205Z"
   },
   {
    "duration": 110,
    "start_time": "2021-11-27T11:39:29.492Z"
   },
   {
    "duration": 35,
    "start_time": "2021-11-27T11:55:11.994Z"
   },
   {
    "duration": 31,
    "start_time": "2021-11-27T11:55:18.024Z"
   },
   {
    "duration": 60,
    "start_time": "2021-11-27T11:57:22.525Z"
   },
   {
    "duration": 127,
    "start_time": "2021-11-27T11:59:16.373Z"
   },
   {
    "duration": 435,
    "start_time": "2021-11-27T12:06:54.736Z"
   },
   {
    "duration": 414,
    "start_time": "2021-11-27T12:07:13.335Z"
   },
   {
    "duration": 404,
    "start_time": "2021-11-27T12:07:39.698Z"
   },
   {
    "duration": 83,
    "start_time": "2021-11-27T12:07:48.915Z"
   },
   {
    "duration": 363,
    "start_time": "2021-11-27T12:08:44.432Z"
   },
   {
    "duration": 366,
    "start_time": "2021-11-27T12:09:13.592Z"
   },
   {
    "duration": 994,
    "start_time": "2021-11-27T12:09:45.484Z"
   },
   {
    "duration": 419,
    "start_time": "2021-11-27T12:10:46.749Z"
   },
   {
    "duration": 39,
    "start_time": "2021-11-27T12:13:13.411Z"
   },
   {
    "duration": 49,
    "start_time": "2021-11-27T12:14:43.713Z"
   },
   {
    "duration": 64,
    "start_time": "2021-11-27T12:18:38.988Z"
   },
   {
    "duration": 478,
    "start_time": "2021-11-27T12:30:51.251Z"
   },
   {
    "duration": 445,
    "start_time": "2021-11-27T12:33:27.621Z"
   },
   {
    "duration": 414,
    "start_time": "2021-11-27T12:36:53.252Z"
   },
   {
    "duration": 496,
    "start_time": "2021-11-27T12:37:25.331Z"
   },
   {
    "duration": 417,
    "start_time": "2021-11-27T12:37:59.259Z"
   },
   {
    "duration": 107,
    "start_time": "2021-11-27T12:38:07.607Z"
   },
   {
    "duration": 901,
    "start_time": "2021-11-27T12:38:15.751Z"
   },
   {
    "duration": 448,
    "start_time": "2021-11-27T12:39:21.045Z"
   },
   {
    "duration": 383,
    "start_time": "2021-11-27T15:48:26.993Z"
   },
   {
    "duration": 696,
    "start_time": "2021-11-27T15:48:39.924Z"
   },
   {
    "duration": 417,
    "start_time": "2021-11-27T15:48:46.137Z"
   },
   {
    "duration": 385,
    "start_time": "2021-11-27T15:50:54.446Z"
   },
   {
    "duration": 438,
    "start_time": "2021-11-27T15:52:10.321Z"
   },
   {
    "duration": 116,
    "start_time": "2021-11-27T15:55:25.836Z"
   },
   {
    "duration": 169,
    "start_time": "2021-11-27T15:55:35.590Z"
   },
   {
    "duration": 125,
    "start_time": "2021-11-27T16:00:29.355Z"
   },
   {
    "duration": 88,
    "start_time": "2021-11-27T16:00:45.656Z"
   },
   {
    "duration": 116,
    "start_time": "2021-11-27T16:00:51.233Z"
   },
   {
    "duration": 114,
    "start_time": "2021-11-27T16:01:24.987Z"
   },
   {
    "duration": 829,
    "start_time": "2021-11-27T16:01:56.415Z"
   },
   {
    "duration": 126,
    "start_time": "2021-11-27T16:03:22.962Z"
   },
   {
    "duration": 121,
    "start_time": "2021-11-27T16:04:25.312Z"
   },
   {
    "duration": 115,
    "start_time": "2021-11-27T16:05:11.163Z"
   },
   {
    "duration": 49,
    "start_time": "2021-11-27T16:05:42.982Z"
   },
   {
    "duration": 457,
    "start_time": "2021-11-27T16:07:36.372Z"
   },
   {
    "duration": 444,
    "start_time": "2021-11-27T16:09:28.799Z"
   },
   {
    "duration": 385,
    "start_time": "2021-11-27T16:10:23.316Z"
   },
   {
    "duration": 391,
    "start_time": "2021-11-27T16:12:02.448Z"
   },
   {
    "duration": 397,
    "start_time": "2021-11-27T16:15:40.512Z"
   },
   {
    "duration": 430,
    "start_time": "2021-11-27T16:16:05.715Z"
   },
   {
    "duration": 374,
    "start_time": "2021-11-27T16:17:56.038Z"
   },
   {
    "duration": 482,
    "start_time": "2021-11-27T16:20:47.538Z"
   },
   {
    "duration": 22,
    "start_time": "2021-11-27T16:23:36.255Z"
   },
   {
    "duration": 3755,
    "start_time": "2021-11-27T16:35:06.107Z"
   },
   {
    "duration": 126,
    "start_time": "2021-11-27T16:36:23.700Z"
   },
   {
    "duration": 114,
    "start_time": "2021-11-27T16:37:23.799Z"
   },
   {
    "duration": 21,
    "start_time": "2021-11-27T16:38:12.445Z"
   },
   {
    "duration": 1396,
    "start_time": "2021-11-27T16:38:31.417Z"
   },
   {
    "duration": 1599,
    "start_time": "2021-11-27T16:39:30.833Z"
   },
   {
    "duration": 21,
    "start_time": "2021-11-27T16:40:17.755Z"
   },
   {
    "duration": 1433,
    "start_time": "2021-11-27T16:41:42.651Z"
   },
   {
    "duration": 2467,
    "start_time": "2021-11-27T16:46:14.646Z"
   },
   {
    "duration": 79,
    "start_time": "2021-11-27T16:46:48.418Z"
   },
   {
    "duration": 18,
    "start_time": "2021-11-27T16:46:55.258Z"
   },
   {
    "duration": 8,
    "start_time": "2021-11-27T16:47:03.904Z"
   },
   {
    "duration": 18,
    "start_time": "2021-11-27T16:47:32.955Z"
   },
   {
    "duration": 85,
    "start_time": "2021-11-27T16:47:39.281Z"
   },
   {
    "duration": 19,
    "start_time": "2021-11-27T16:47:43.909Z"
   },
   {
    "duration": 7,
    "start_time": "2021-11-27T16:47:49.641Z"
   },
   {
    "duration": 9,
    "start_time": "2021-11-27T16:49:23.691Z"
   },
   {
    "duration": 352,
    "start_time": "2021-11-27T16:52:01.879Z"
   },
   {
    "duration": 455,
    "start_time": "2021-11-27T16:52:25.662Z"
   },
   {
    "duration": 341,
    "start_time": "2021-11-27T16:53:24.989Z"
   },
   {
    "duration": 349,
    "start_time": "2021-11-27T16:55:14.740Z"
   },
   {
    "duration": 10,
    "start_time": "2021-11-27T16:57:00.833Z"
   },
   {
    "duration": 9,
    "start_time": "2021-11-27T16:57:23.891Z"
   },
   {
    "duration": 9,
    "start_time": "2021-11-27T16:58:22.783Z"
   },
   {
    "duration": 15,
    "start_time": "2021-11-27T17:01:31.554Z"
   },
   {
    "duration": 15,
    "start_time": "2021-11-27T17:01:56.492Z"
   },
   {
    "duration": 376,
    "start_time": "2021-11-27T17:04:27.122Z"
   },
   {
    "duration": 21,
    "start_time": "2021-11-27T17:05:22.506Z"
   },
   {
    "duration": 19,
    "start_time": "2021-11-27T17:08:03.407Z"
   },
   {
    "duration": 19,
    "start_time": "2021-11-27T17:08:27.330Z"
   },
   {
    "duration": 373,
    "start_time": "2021-11-27T17:09:23.164Z"
   },
   {
    "duration": 15,
    "start_time": "2021-11-27T17:09:44.670Z"
   },
   {
    "duration": 361,
    "start_time": "2021-11-27T17:11:20.033Z"
   },
   {
    "duration": 362,
    "start_time": "2021-11-27T17:13:36.763Z"
   },
   {
    "duration": 24,
    "start_time": "2021-11-27T17:17:35.541Z"
   },
   {
    "duration": 26,
    "start_time": "2021-11-27T17:18:25.932Z"
   },
   {
    "duration": 14,
    "start_time": "2021-11-27T17:19:54.024Z"
   },
   {
    "duration": 16,
    "start_time": "2021-11-27T17:20:13.675Z"
   },
   {
    "duration": 395,
    "start_time": "2021-11-27T17:22:48.798Z"
   },
   {
    "duration": 363,
    "start_time": "2021-11-27T17:24:35.845Z"
   },
   {
    "duration": 464,
    "start_time": "2021-11-27T17:27:23.139Z"
   },
   {
    "duration": 349,
    "start_time": "2021-11-27T17:29:35.340Z"
   },
   {
    "duration": 79,
    "start_time": "2021-11-27T17:29:49.600Z"
   },
   {
    "duration": 18,
    "start_time": "2021-11-27T17:29:55.441Z"
   },
   {
    "duration": 372,
    "start_time": "2021-11-27T17:30:01.496Z"
   },
   {
    "duration": 15,
    "start_time": "2021-11-27T17:30:58.069Z"
   },
   {
    "duration": 396,
    "start_time": "2021-11-27T17:32:27.220Z"
   },
   {
    "duration": 12,
    "start_time": "2021-11-27T17:35:28.682Z"
   },
   {
    "duration": 27,
    "start_time": "2021-11-27T17:37:49.357Z"
   },
   {
    "duration": 22,
    "start_time": "2021-11-27T17:38:18.673Z"
   },
   {
    "duration": 39,
    "start_time": "2021-11-27T17:39:47.203Z"
   },
   {
    "duration": 37,
    "start_time": "2021-11-27T17:43:35.808Z"
   },
   {
    "duration": 394,
    "start_time": "2021-11-27T17:43:53.942Z"
   },
   {
    "duration": 42,
    "start_time": "2021-11-27T17:44:20.407Z"
   },
   {
    "duration": 45,
    "start_time": "2021-11-27T17:46:01.539Z"
   },
   {
    "duration": 25,
    "start_time": "2021-11-27T17:46:59.212Z"
   },
   {
    "duration": 60,
    "start_time": "2021-11-27T17:47:04.616Z"
   },
   {
    "duration": 47,
    "start_time": "2021-11-27T17:47:25.225Z"
   },
   {
    "duration": 429,
    "start_time": "2021-11-27T17:47:56.401Z"
   },
   {
    "duration": 18,
    "start_time": "2021-11-27T17:48:26.308Z"
   },
   {
    "duration": 367,
    "start_time": "2021-11-27T17:48:35.140Z"
   },
   {
    "duration": 87,
    "start_time": "2021-11-27T17:49:28.986Z"
   },
   {
    "duration": 42,
    "start_time": "2021-11-27T17:49:29.075Z"
   },
   {
    "duration": 52,
    "start_time": "2021-11-27T17:49:29.119Z"
   },
   {
    "duration": 592,
    "start_time": "2021-11-27T17:50:16.347Z"
   },
   {
    "duration": 80,
    "start_time": "2021-11-27T17:50:41.228Z"
   },
   {
    "duration": 26,
    "start_time": "2021-11-27T17:50:41.310Z"
   },
   {
    "duration": 449,
    "start_time": "2021-11-27T17:50:54.136Z"
   },
   {
    "duration": 357,
    "start_time": "2021-11-27T17:51:19.299Z"
   },
   {
    "duration": 117,
    "start_time": "2021-11-27T17:51:28.374Z"
   },
   {
    "duration": 29,
    "start_time": "2021-11-27T17:51:28.493Z"
   },
   {
    "duration": 431,
    "start_time": "2021-11-27T17:51:28.525Z"
   },
   {
    "duration": 394,
    "start_time": "2021-11-27T17:52:34.025Z"
   },
   {
    "duration": 348,
    "start_time": "2021-11-27T17:52:40.549Z"
   },
   {
    "duration": 79,
    "start_time": "2021-11-27T17:52:46.363Z"
   },
   {
    "duration": 19,
    "start_time": "2021-11-27T17:52:46.444Z"
   },
   {
    "duration": 413,
    "start_time": "2021-11-27T17:52:46.465Z"
   },
   {
    "duration": 364,
    "start_time": "2021-11-27T17:52:59.575Z"
   },
   {
    "duration": 83,
    "start_time": "2021-11-27T17:53:05.557Z"
   },
   {
    "duration": 21,
    "start_time": "2021-11-27T17:53:05.642Z"
   },
   {
    "duration": 403,
    "start_time": "2021-11-27T17:53:05.665Z"
   },
   {
    "duration": 114,
    "start_time": "2021-11-27T17:54:01.007Z"
   },
   {
    "duration": 18,
    "start_time": "2021-11-27T17:54:06.280Z"
   },
   {
    "duration": 842,
    "start_time": "2021-11-27T17:54:11.623Z"
   },
   {
    "duration": 364,
    "start_time": "2021-11-27T17:54:43.777Z"
   },
   {
    "duration": 78,
    "start_time": "2021-11-27T17:55:02.907Z"
   },
   {
    "duration": 21,
    "start_time": "2021-11-27T17:55:09.094Z"
   },
   {
    "duration": 374,
    "start_time": "2021-11-27T17:55:18.013Z"
   },
   {
    "duration": 378,
    "start_time": "2021-11-27T17:55:51.849Z"
   },
   {
    "duration": 346,
    "start_time": "2021-11-27T17:56:05.083Z"
   },
   {
    "duration": 84,
    "start_time": "2021-11-27T17:56:10.169Z"
   },
   {
    "duration": 20,
    "start_time": "2021-11-27T17:56:15.084Z"
   },
   {
    "duration": 394,
    "start_time": "2021-11-27T17:56:20.239Z"
   },
   {
    "duration": 389,
    "start_time": "2021-11-27T17:56:53.738Z"
   },
   {
    "duration": 75,
    "start_time": "2021-11-27T17:57:00.379Z"
   },
   {
    "duration": 19,
    "start_time": "2021-11-27T17:57:04.791Z"
   },
   {
    "duration": 390,
    "start_time": "2021-11-27T17:57:09.451Z"
   },
   {
    "duration": 338,
    "start_time": "2021-11-27T17:58:47.710Z"
   },
   {
    "duration": 77,
    "start_time": "2021-11-27T17:59:19.519Z"
   },
   {
    "duration": 19,
    "start_time": "2021-11-27T17:59:24.430Z"
   },
   {
    "duration": 875,
    "start_time": "2021-11-27T17:59:36.356Z"
   },
   {
    "duration": 397,
    "start_time": "2021-11-27T18:00:15.148Z"
   },
   {
    "duration": 299,
    "start_time": "2021-11-27T18:00:23.860Z"
   },
   {
    "duration": 20,
    "start_time": "2021-11-27T18:00:28.277Z"
   },
   {
    "duration": 35,
    "start_time": "2021-11-27T18:00:33.488Z"
   },
   {
    "duration": 379,
    "start_time": "2021-11-27T18:02:20.409Z"
   },
   {
    "duration": 81,
    "start_time": "2021-11-27T18:02:25.538Z"
   },
   {
    "duration": 24,
    "start_time": "2021-11-27T18:02:25.621Z"
   },
   {
    "duration": 78,
    "start_time": "2021-11-27T18:02:25.648Z"
   },
   {
    "duration": 372,
    "start_time": "2021-11-27T18:02:28.190Z"
   },
   {
    "duration": 44,
    "start_time": "2021-11-27T18:03:59.990Z"
   },
   {
    "duration": 9695,
    "start_time": "2021-11-27T18:04:22.586Z"
   },
   {
    "duration": 9823,
    "start_time": "2021-11-27T18:05:12.937Z"
   },
   {
    "duration": -71,
    "start_time": "2021-11-27T18:05:41.710Z"
   },
   {
    "duration": -90,
    "start_time": "2021-11-27T18:05:41.730Z"
   },
   {
    "duration": -108,
    "start_time": "2021-11-27T18:05:41.748Z"
   },
   {
    "duration": 85,
    "start_time": "2021-11-27T18:05:42.238Z"
   },
   {
    "duration": 9098,
    "start_time": "2021-11-27T18:06:00.871Z"
   },
   {
    "duration": 30,
    "start_time": "2021-11-27T18:08:05.656Z"
   },
   {
    "duration": 79,
    "start_time": "2021-11-27T18:08:14.303Z"
   },
   {
    "duration": 26,
    "start_time": "2021-11-27T18:08:14.384Z"
   },
   {
    "duration": 36,
    "start_time": "2021-11-27T18:08:14.412Z"
   },
   {
    "duration": 32,
    "start_time": "2021-11-27T18:08:18.090Z"
   },
   {
    "duration": 464,
    "start_time": "2021-11-27T18:14:58.368Z"
   },
   {
    "duration": 86,
    "start_time": "2021-11-27T18:16:03.370Z"
   },
   {
    "duration": 18,
    "start_time": "2021-11-27T18:16:03.458Z"
   },
   {
    "duration": 444,
    "start_time": "2021-11-27T18:16:03.478Z"
   },
   {
    "duration": 368,
    "start_time": "2021-11-27T18:16:06.045Z"
   },
   {
    "duration": 8582,
    "start_time": "2021-11-27T18:18:13.959Z"
   },
   {
    "duration": 80,
    "start_time": "2021-11-27T18:18:37.478Z"
   },
   {
    "duration": 17,
    "start_time": "2021-11-27T18:18:42.098Z"
   },
   {
    "duration": 8604,
    "start_time": "2021-11-27T18:18:46.905Z"
   },
   {
    "duration": 9594,
    "start_time": "2021-11-27T18:19:03.316Z"
   },
   {
    "duration": 9633,
    "start_time": "2021-11-27T18:23:54.404Z"
   },
   {
    "duration": 11570,
    "start_time": "2021-11-27T18:24:12.582Z"
   },
   {
    "duration": 6946,
    "start_time": "2021-11-27T18:25:48.605Z"
   },
   {
    "duration": 715,
    "start_time": "2021-11-27T18:28:30.320Z"
   },
   {
    "duration": 74,
    "start_time": "2021-11-27T18:28:31.784Z"
   },
   {
    "duration": 18,
    "start_time": "2021-11-27T18:28:37.730Z"
   },
   {
    "duration": 66782,
    "start_time": "2021-11-27T18:28:43.034Z"
   },
   {
    "duration": 64485,
    "start_time": "2021-11-27T18:29:53.952Z"
   },
   {
    "duration": 121,
    "start_time": "2021-11-27T18:46:05.031Z"
   },
   {
    "duration": 115,
    "start_time": "2021-11-27T18:46:33.414Z"
   },
   {
    "duration": 426,
    "start_time": "2021-11-27T18:51:46.235Z"
   },
   {
    "duration": 61,
    "start_time": "2021-11-27T18:52:26.964Z"
   },
   {
    "duration": 378,
    "start_time": "2021-11-27T18:55:55.302Z"
   },
   {
    "duration": 77,
    "start_time": "2021-11-27T18:56:31.440Z"
   },
   {
    "duration": 24,
    "start_time": "2021-11-27T18:56:36.159Z"
   },
   {
    "duration": 394,
    "start_time": "2021-11-27T18:56:40.686Z"
   },
   {
    "duration": 349,
    "start_time": "2021-11-27T18:57:52.211Z"
   },
   {
    "duration": 377,
    "start_time": "2021-11-27T18:58:18.991Z"
   },
   {
    "duration": 374,
    "start_time": "2021-11-27T18:59:40.906Z"
   },
   {
    "duration": 75,
    "start_time": "2021-11-27T19:00:39.059Z"
   },
   {
    "duration": 17,
    "start_time": "2021-11-27T19:00:46.691Z"
   },
   {
    "duration": 178,
    "start_time": "2021-11-27T19:11:13.449Z"
   },
   {
    "duration": 112,
    "start_time": "2021-11-27T19:11:25.354Z"
   },
   {
    "duration": 368,
    "start_time": "2021-11-27T19:11:33.542Z"
   },
   {
    "duration": 2707,
    "start_time": "2021-11-27T19:14:07.926Z"
   },
   {
    "duration": 2660,
    "start_time": "2021-11-27T19:14:48.892Z"
   },
   {
    "duration": 2521,
    "start_time": "2021-11-27T19:15:54.335Z"
   },
   {
    "duration": 2633,
    "start_time": "2021-11-27T19:17:23.460Z"
   },
   {
    "duration": 71,
    "start_time": "2021-11-27T19:18:07.685Z"
   },
   {
    "duration": 58,
    "start_time": "2021-11-27T19:18:20.116Z"
   },
   {
    "duration": 62,
    "start_time": "2021-11-27T19:19:37.209Z"
   },
   {
    "duration": 59,
    "start_time": "2021-11-27T19:20:59.079Z"
   },
   {
    "duration": 58,
    "start_time": "2021-11-27T19:22:45.452Z"
   },
   {
    "duration": 59,
    "start_time": "2021-11-27T19:23:20.257Z"
   },
   {
    "duration": 58,
    "start_time": "2021-11-27T19:23:53.357Z"
   },
   {
    "duration": 62,
    "start_time": "2021-11-27T19:24:12.994Z"
   },
   {
    "duration": 69,
    "start_time": "2021-11-27T19:31:48.164Z"
   },
   {
    "duration": 117,
    "start_time": "2021-11-27T19:36:05.452Z"
   },
   {
    "duration": 81,
    "start_time": "2021-11-27T19:38:36.629Z"
   },
   {
    "duration": 4796,
    "start_time": "2021-11-27T19:39:43.124Z"
   },
   {
    "duration": 78,
    "start_time": "2021-11-27T19:40:19.764Z"
   },
   {
    "duration": 21,
    "start_time": "2021-11-27T19:40:24.535Z"
   },
   {
    "duration": 4670,
    "start_time": "2021-11-27T19:40:30.201Z"
   },
   {
    "duration": -14,
    "start_time": "2021-11-27T19:41:37.133Z"
   },
   {
    "duration": 76,
    "start_time": "2021-11-27T19:41:39.671Z"
   },
   {
    "duration": 18,
    "start_time": "2021-11-27T19:41:39.748Z"
   },
   {
    "duration": 89,
    "start_time": "2021-11-27T19:41:39.768Z"
   },
   {
    "duration": 69,
    "start_time": "2021-11-27T19:41:42.030Z"
   },
   {
    "duration": 67,
    "start_time": "2021-11-27T19:44:30.885Z"
   },
   {
    "duration": 25,
    "start_time": "2021-11-27T19:45:24.289Z"
   },
   {
    "duration": 66,
    "start_time": "2021-11-27T19:45:32.148Z"
   },
   {
    "duration": 369,
    "start_time": "2021-11-27T19:46:49.277Z"
   },
   {
    "duration": 20,
    "start_time": "2021-11-27T19:46:58.388Z"
   },
   {
    "duration": 58,
    "start_time": "2021-11-27T19:47:03.662Z"
   },
   {
    "duration": 337,
    "start_time": "2021-11-27T19:47:21.319Z"
   },
   {
    "duration": 79,
    "start_time": "2021-11-27T19:47:27.157Z"
   },
   {
    "duration": 17,
    "start_time": "2021-11-27T19:47:32.865Z"
   },
   {
    "duration": 85,
    "start_time": "2021-11-27T19:49:07.153Z"
   },
   {
    "duration": 82,
    "start_time": "2021-11-27T19:50:24.683Z"
   },
   {
    "duration": 76,
    "start_time": "2021-11-27T19:50:55.568Z"
   },
   {
    "duration": 77,
    "start_time": "2021-11-27T19:51:14.595Z"
   },
   {
    "duration": 99,
    "start_time": "2021-11-27T19:51:46.194Z"
   },
   {
    "duration": 22,
    "start_time": "2021-11-27T19:51:46.306Z"
   },
   {
    "duration": 59,
    "start_time": "2021-11-27T19:51:50.384Z"
   },
   {
    "duration": 114,
    "start_time": "2021-11-27T20:00:46.731Z"
   },
   {
    "duration": 79,
    "start_time": "2021-11-27T20:00:54.847Z"
   },
   {
    "duration": 19,
    "start_time": "2021-11-27T20:00:54.928Z"
   },
   {
    "duration": 159,
    "start_time": "2021-11-27T20:00:54.949Z"
   },
   {
    "duration": 127,
    "start_time": "2021-11-27T20:00:58.066Z"
   },
   {
    "duration": 77,
    "start_time": "2021-11-27T20:01:08.240Z"
   },
   {
    "duration": 19,
    "start_time": "2021-11-27T20:01:12.960Z"
   },
   {
    "duration": 275,
    "start_time": "2021-11-27T20:01:17.866Z"
   },
   {
    "duration": 107,
    "start_time": "2021-11-27T20:01:33.753Z"
   },
   {
    "duration": 122,
    "start_time": "2021-11-27T20:01:50.072Z"
   },
   {
    "duration": 80,
    "start_time": "2021-11-27T20:02:05.606Z"
   },
   {
    "duration": 18,
    "start_time": "2021-11-27T20:02:11.363Z"
   },
   {
    "duration": 127,
    "start_time": "2021-11-27T20:02:16.761Z"
   },
   {
    "duration": 81,
    "start_time": "2021-11-27T20:03:46.728Z"
   },
   {
    "duration": 18,
    "start_time": "2021-11-27T20:03:51.922Z"
   },
   {
    "duration": 117,
    "start_time": "2021-11-27T20:03:57.566Z"
   },
   {
    "duration": 125,
    "start_time": "2021-11-27T20:04:26.696Z"
   },
   {
    "duration": 117,
    "start_time": "2021-11-27T20:05:10.139Z"
   },
   {
    "duration": 115,
    "start_time": "2021-11-27T20:05:46.988Z"
   },
   {
    "duration": 129,
    "start_time": "2021-11-27T20:06:21.163Z"
   },
   {
    "duration": 46,
    "start_time": "2021-11-27T20:06:35.658Z"
   },
   {
    "duration": 470,
    "start_time": "2021-11-27T20:09:24.373Z"
   },
   {
    "duration": 63,
    "start_time": "2021-11-27T20:10:09.800Z"
   },
   {
    "duration": 51,
    "start_time": "2021-11-27T20:11:13.233Z"
   },
   {
    "duration": 97,
    "start_time": "2021-11-27T20:12:18.515Z"
   },
   {
    "duration": 79,
    "start_time": "2021-11-27T20:23:08.492Z"
   },
   {
    "duration": 36,
    "start_time": "2021-11-27T20:23:08.572Z"
   },
   {
    "duration": 789,
    "start_time": "2021-11-27T20:25:39.134Z"
   },
   {
    "duration": 386,
    "start_time": "2021-11-27T20:31:28.580Z"
   },
   {
    "duration": 85,
    "start_time": "2021-11-27T20:31:49.219Z"
   },
   {
    "duration": 18,
    "start_time": "2021-11-27T20:31:57.204Z"
   },
   {
    "duration": 424,
    "start_time": "2021-11-27T20:32:02.201Z"
   },
   {
    "duration": 129,
    "start_time": "2021-11-27T20:38:06.566Z"
   },
   {
    "duration": 384,
    "start_time": "2021-11-27T20:38:18.722Z"
   },
   {
    "duration": 380,
    "start_time": "2021-11-27T20:59:01.519Z"
   },
   {
    "duration": 85,
    "start_time": "2021-11-27T20:59:25.248Z"
   },
   {
    "duration": 19,
    "start_time": "2021-11-27T20:59:29.946Z"
   },
   {
    "duration": 364,
    "start_time": "2021-11-27T20:59:34.602Z"
   },
   {
    "duration": 368,
    "start_time": "2021-11-27T21:00:12.878Z"
   },
   {
    "duration": 90,
    "start_time": "2021-11-27T21:00:34.455Z"
   },
   {
    "duration": 19,
    "start_time": "2021-11-27T21:00:34.547Z"
   },
   {
    "duration": 426,
    "start_time": "2021-11-27T21:00:34.568Z"
   },
   {
    "duration": 62,
    "start_time": "2021-11-27T21:02:16.176Z"
   },
   {
    "duration": 67,
    "start_time": "2021-11-27T21:02:48.212Z"
   },
   {
    "duration": 56,
    "start_time": "2021-11-27T21:04:41.453Z"
   },
   {
    "duration": 73,
    "start_time": "2021-11-27T21:05:35.596Z"
   },
   {
    "duration": 74,
    "start_time": "2021-11-27T21:07:38.635Z"
   },
   {
    "duration": 101,
    "start_time": "2021-11-27T21:08:37.807Z"
   },
   {
    "duration": 81,
    "start_time": "2021-11-27T21:09:30.223Z"
   },
   {
    "duration": 404,
    "start_time": "2021-11-27T21:10:41.099Z"
   },
   {
    "duration": 56,
    "start_time": "2021-11-27T21:11:08.163Z"
   },
   {
    "duration": 61,
    "start_time": "2021-11-27T21:11:23.359Z"
   },
   {
    "duration": 5106,
    "start_time": "2021-11-27T21:11:50.199Z"
   },
   {
    "duration": 4528,
    "start_time": "2021-11-27T21:12:17.926Z"
   },
   {
    "duration": 90,
    "start_time": "2021-11-27T21:12:27.874Z"
   },
   {
    "duration": 17,
    "start_time": "2021-11-27T21:12:27.966Z"
   },
   {
    "duration": 5099,
    "start_time": "2021-11-27T21:12:27.985Z"
   },
   {
    "duration": 384,
    "start_time": "2021-11-27T21:13:25.519Z"
   },
   {
    "duration": 720,
    "start_time": "2021-11-27T21:13:32.939Z"
   },
   {
    "duration": 18,
    "start_time": "2021-11-27T21:13:38.331Z"
   },
   {
    "duration": 4447,
    "start_time": "2021-11-27T21:13:43.135Z"
   },
   {
    "duration": 54,
    "start_time": "2021-11-27T21:14:22.928Z"
   },
   {
    "duration": 75,
    "start_time": "2021-11-27T21:14:37.999Z"
   },
   {
    "duration": 119,
    "start_time": "2021-11-27T21:14:55.504Z"
   },
   {
    "duration": 53,
    "start_time": "2021-11-27T21:15:32.558Z"
   },
   {
    "duration": 70,
    "start_time": "2021-11-27T21:29:19.815Z"
   },
   {
    "duration": 368,
    "start_time": "2021-11-27T21:34:17.402Z"
   },
   {
    "duration": 381,
    "start_time": "2021-11-27T21:34:52.063Z"
   },
   {
    "duration": 76,
    "start_time": "2021-11-27T21:35:19.095Z"
   },
   {
    "duration": 2087,
    "start_time": "2021-11-27T21:35:25.789Z"
   },
   {
    "duration": 410,
    "start_time": "2021-11-27T21:36:35.179Z"
   },
   {
    "duration": 76,
    "start_time": "2021-11-27T21:37:16.487Z"
   },
   {
    "duration": 364,
    "start_time": "2021-11-27T21:37:23.234Z"
   },
   {
    "duration": 53,
    "start_time": "2021-11-27T21:38:10.500Z"
   },
   {
    "duration": 53,
    "start_time": "2021-11-27T21:53:32.118Z"
   },
   {
    "duration": 117,
    "start_time": "2021-11-27T22:07:23.245Z"
   },
   {
    "duration": 378,
    "start_time": "2021-11-27T22:07:38.721Z"
   },
   {
    "duration": 399,
    "start_time": "2021-11-27T22:08:03.944Z"
   },
   {
    "duration": 443,
    "start_time": "2021-11-27T22:09:12.240Z"
   },
   {
    "duration": 760,
    "start_time": "2021-11-27T22:10:14.058Z"
   },
   {
    "duration": 75,
    "start_time": "2021-11-27T22:11:26.446Z"
   },
   {
    "duration": 741,
    "start_time": "2021-11-27T22:11:34.650Z"
   },
   {
    "duration": 405,
    "start_time": "2021-11-27T22:13:34.026Z"
   },
   {
    "duration": 427,
    "start_time": "2021-11-27T22:13:55.890Z"
   },
   {
    "duration": 430,
    "start_time": "2021-11-27T22:15:19.517Z"
   },
   {
    "duration": 75,
    "start_time": "2021-11-27T22:15:36.397Z"
   },
   {
    "duration": 403,
    "start_time": "2021-11-27T22:15:41.834Z"
   },
   {
    "duration": 353,
    "start_time": "2021-11-27T22:19:16.188Z"
   },
   {
    "duration": 375,
    "start_time": "2021-11-27T22:22:38.818Z"
   },
   {
    "duration": 413,
    "start_time": "2021-11-27T22:24:14.142Z"
   },
   {
    "duration": 366,
    "start_time": "2021-11-27T22:24:56.589Z"
   },
   {
    "duration": 120,
    "start_time": "2021-11-27T22:25:24.089Z"
   },
   {
    "duration": 373,
    "start_time": "2021-11-27T22:25:49.885Z"
   },
   {
    "duration": 380,
    "start_time": "2021-11-27T22:26:03.537Z"
   },
   {
    "duration": 72,
    "start_time": "2021-11-27T22:26:58.143Z"
   },
   {
    "duration": 458,
    "start_time": "2021-11-27T22:26:58.217Z"
   },
   {
    "duration": 381,
    "start_time": "2021-11-27T22:27:22.030Z"
   },
   {
    "duration": 72,
    "start_time": "2021-11-27T22:27:28.900Z"
   },
   {
    "duration": 8924,
    "start_time": "2021-11-27T22:27:28.974Z"
   },
   {
    "duration": 367,
    "start_time": "2021-11-27T22:28:49.829Z"
   },
   {
    "duration": 75,
    "start_time": "2021-11-27T22:28:56.632Z"
   },
   {
    "duration": 435,
    "start_time": "2021-11-27T22:28:56.709Z"
   },
   {
    "duration": 412,
    "start_time": "2021-11-27T22:31:25.152Z"
   },
   {
    "duration": 80,
    "start_time": "2021-11-27T22:31:29.663Z"
   },
   {
    "duration": 426,
    "start_time": "2021-11-27T22:31:29.745Z"
   },
   {
    "duration": 55,
    "start_time": "2021-11-27T22:33:18.710Z"
   },
   {
    "duration": 9,
    "start_time": "2021-11-27T22:34:19.345Z"
   },
   {
    "duration": 84,
    "start_time": "2021-11-27T22:35:19.563Z"
   },
   {
    "duration": 77,
    "start_time": "2021-11-27T22:37:29.609Z"
   },
   {
    "duration": 439,
    "start_time": "2021-11-27T22:37:29.688Z"
   },
   {
    "duration": 11,
    "start_time": "2021-11-27T22:37:30.130Z"
   },
   {
    "duration": 116,
    "start_time": "2021-11-27T22:37:30.143Z"
   },
   {
    "duration": 3895,
    "start_time": "2021-11-27T22:37:30.261Z"
   },
   {
    "duration": 18,
    "start_time": "2021-11-27T22:37:34.158Z"
   },
   {
    "duration": 708,
    "start_time": "2021-11-27T22:37:34.177Z"
   },
   {
    "duration": 197,
    "start_time": "2021-11-27T22:37:34.887Z"
   },
   {
    "duration": 7,
    "start_time": "2021-11-27T22:37:35.085Z"
   },
   {
    "duration": 195,
    "start_time": "2021-11-27T22:37:35.093Z"
   },
   {
    "duration": 613,
    "start_time": "2021-11-27T22:46:23.029Z"
   },
   {
    "duration": 78,
    "start_time": "2021-11-27T22:46:40.024Z"
   },
   {
    "duration": 427,
    "start_time": "2021-11-27T22:46:40.104Z"
   },
   {
    "duration": 425,
    "start_time": "2021-11-27T22:46:45.340Z"
   },
   {
    "duration": 78,
    "start_time": "2021-11-27T22:46:50.709Z"
   },
   {
    "duration": 427,
    "start_time": "2021-11-27T22:46:50.790Z"
   },
   {
    "duration": 81,
    "start_time": "2021-11-27T22:47:03.982Z"
   },
   {
    "duration": 410,
    "start_time": "2021-11-27T22:47:10.422Z"
   },
   {
    "duration": 417,
    "start_time": "2021-11-27T22:52:30.967Z"
   },
   {
    "duration": 76,
    "start_time": "2021-11-27T22:52:36.988Z"
   },
   {
    "duration": 431,
    "start_time": "2021-11-27T22:52:37.066Z"
   },
   {
    "duration": 305,
    "start_time": "2021-11-28T10:50:19.718Z"
   },
   {
    "duration": 647,
    "start_time": "2021-11-28T10:50:26.074Z"
   },
   {
    "duration": 420,
    "start_time": "2021-11-28T10:50:32.565Z"
   },
   {
    "duration": 404,
    "start_time": "2021-11-28T10:52:07.323Z"
   },
   {
    "duration": 132,
    "start_time": "2021-11-28T10:53:06.155Z"
   },
   {
    "duration": 404,
    "start_time": "2021-11-28T10:53:12.609Z"
   },
   {
    "duration": 362,
    "start_time": "2021-11-28T10:58:27.350Z"
   },
   {
    "duration": 72,
    "start_time": "2021-11-28T10:59:08.703Z"
   },
   {
    "duration": 316,
    "start_time": "2021-11-28T10:59:14.823Z"
   },
   {
    "duration": 91,
    "start_time": "2021-11-28T10:59:47.840Z"
   },
   {
    "duration": 406,
    "start_time": "2021-11-28T11:01:07.379Z"
   },
   {
    "duration": 90,
    "start_time": "2021-11-28T11:01:19.165Z"
   },
   {
    "duration": 409,
    "start_time": "2021-11-28T11:01:25.979Z"
   },
   {
    "duration": 10,
    "start_time": "2021-11-28T11:10:49.493Z"
   },
   {
    "duration": 360,
    "start_time": "2021-11-28T11:11:51.676Z"
   },
   {
    "duration": 91,
    "start_time": "2021-11-28T11:12:09.176Z"
   },
   {
    "duration": 1045,
    "start_time": "2021-11-28T11:12:47.984Z"
   },
   {
    "duration": 1079,
    "start_time": "2021-11-28T11:13:17.733Z"
   },
   {
    "duration": 73,
    "start_time": "2021-11-28T11:13:41.106Z"
   },
   {
    "duration": 415,
    "start_time": "2021-11-28T11:13:47.162Z"
   },
   {
    "duration": 343,
    "start_time": "2021-11-28T11:14:34.678Z"
   },
   {
    "duration": 348,
    "start_time": "2021-11-28T11:15:23.374Z"
   },
   {
    "duration": 642,
    "start_time": "2021-11-28T11:15:50.748Z"
   },
   {
    "duration": 366,
    "start_time": "2021-11-28T11:16:25.635Z"
   },
   {
    "duration": 367,
    "start_time": "2021-11-28T11:17:20.378Z"
   },
   {
    "duration": 347,
    "start_time": "2021-11-28T11:19:46.613Z"
   },
   {
    "duration": 363,
    "start_time": "2021-11-28T11:21:23.272Z"
   },
   {
    "duration": 373,
    "start_time": "2021-11-28T11:22:23.531Z"
   },
   {
    "duration": 371,
    "start_time": "2021-11-28T11:23:02.514Z"
   },
   {
    "duration": 74,
    "start_time": "2021-11-28T11:23:26.105Z"
   },
   {
    "duration": 431,
    "start_time": "2021-11-28T11:23:32.178Z"
   },
   {
    "duration": 406,
    "start_time": "2021-11-28T11:23:47.086Z"
   },
   {
    "duration": 71,
    "start_time": "2021-11-28T11:24:16.912Z"
   },
   {
    "duration": 428,
    "start_time": "2021-11-28T11:24:16.985Z"
   },
   {
    "duration": 349,
    "start_time": "2021-11-28T11:24:19.996Z"
   },
   {
    "duration": 354,
    "start_time": "2021-11-28T11:25:00.623Z"
   },
   {
    "duration": 72,
    "start_time": "2021-11-28T11:25:21.483Z"
   },
   {
    "duration": 400,
    "start_time": "2021-11-28T11:25:27.725Z"
   },
   {
    "duration": 348,
    "start_time": "2021-11-28T11:25:34.749Z"
   },
   {
    "duration": 72,
    "start_time": "2021-11-28T11:26:07.670Z"
   },
   {
    "duration": 410,
    "start_time": "2021-11-28T11:26:07.744Z"
   },
   {
    "duration": 341,
    "start_time": "2021-11-28T11:26:11.224Z"
   },
   {
    "duration": 86,
    "start_time": "2021-11-28T11:32:09.570Z"
   },
   {
    "duration": 109,
    "start_time": "2021-11-28T11:35:38.664Z"
   },
   {
    "duration": 79,
    "start_time": "2021-11-28T11:36:51.982Z"
   },
   {
    "duration": 454,
    "start_time": "2021-11-28T11:36:52.063Z"
   },
   {
    "duration": 383,
    "start_time": "2021-11-28T11:36:52.519Z"
   },
   {
    "duration": 116,
    "start_time": "2021-11-28T11:36:52.904Z"
   },
   {
    "duration": 116,
    "start_time": "2021-11-28T11:36:56.194Z"
   },
   {
    "duration": 75,
    "start_time": "2021-11-28T11:37:12.235Z"
   },
   {
    "duration": 415,
    "start_time": "2021-11-28T11:37:19.070Z"
   },
   {
    "duration": 77,
    "start_time": "2021-11-28T11:38:26.758Z"
   },
   {
    "duration": 417,
    "start_time": "2021-11-28T11:38:35.240Z"
   },
   {
    "duration": 406,
    "start_time": "2021-11-28T11:41:07.449Z"
   },
   {
    "duration": 76,
    "start_time": "2021-11-28T11:41:13.629Z"
   },
   {
    "duration": 416,
    "start_time": "2021-11-28T11:41:20.638Z"
   },
   {
    "duration": 411,
    "start_time": "2021-11-28T11:41:41.179Z"
   },
   {
    "duration": 74,
    "start_time": "2021-11-28T11:41:43.353Z"
   },
   {
    "duration": 427,
    "start_time": "2021-11-28T11:41:43.429Z"
   },
   {
    "duration": 400,
    "start_time": "2021-11-28T11:41:46.356Z"
   },
   {
    "duration": 74,
    "start_time": "2021-11-28T11:41:51.014Z"
   },
   {
    "duration": 431,
    "start_time": "2021-11-28T11:41:51.090Z"
   },
   {
    "duration": 368,
    "start_time": "2021-11-28T11:42:47.190Z"
   },
   {
    "duration": 111,
    "start_time": "2021-11-28T11:43:21.672Z"
   },
   {
    "duration": 3395,
    "start_time": "2021-11-28T11:47:52.863Z"
   },
   {
    "duration": 4026,
    "start_time": "2021-11-28T11:50:19.252Z"
   },
   {
    "duration": 5363,
    "start_time": "2021-11-28T11:50:28.930Z"
   },
   {
    "duration": 3701,
    "start_time": "2021-11-28T11:50:56.992Z"
   },
   {
    "duration": 3800,
    "start_time": "2021-11-28T11:51:15.644Z"
   },
   {
    "duration": 417,
    "start_time": "2021-11-28T11:56:26.934Z"
   },
   {
    "duration": 12,
    "start_time": "2021-11-28T11:56:37.928Z"
   },
   {
    "duration": 748,
    "start_time": "2021-11-28T11:56:44.060Z"
   },
   {
    "duration": 123,
    "start_time": "2021-11-28T11:57:06.288Z"
   },
   {
    "duration": 167,
    "start_time": "2021-11-28T12:02:31.234Z"
   },
   {
    "duration": 7,
    "start_time": "2021-11-28T12:05:28.294Z"
   },
   {
    "duration": 83,
    "start_time": "2021-11-28T12:08:39.780Z"
   },
   {
    "duration": 7,
    "start_time": "2021-11-28T12:14:00.268Z"
   },
   {
    "duration": 89,
    "start_time": "2021-11-28T12:14:55.979Z"
   },
   {
    "duration": 158,
    "start_time": "2021-11-28T12:15:10.834Z"
   },
   {
    "duration": 146,
    "start_time": "2021-11-28T12:15:48.857Z"
   },
   {
    "duration": 216,
    "start_time": "2021-11-28T12:16:45.460Z"
   },
   {
    "duration": 147,
    "start_time": "2021-11-28T12:17:19.605Z"
   },
   {
    "duration": 141,
    "start_time": "2021-11-28T12:20:14.961Z"
   },
   {
    "duration": 157,
    "start_time": "2021-11-28T12:20:26.451Z"
   },
   {
    "duration": 152,
    "start_time": "2021-11-28T12:20:50.695Z"
   },
   {
    "duration": 152,
    "start_time": "2021-11-28T12:21:16.339Z"
   },
   {
    "duration": 77,
    "start_time": "2021-11-28T12:49:09.806Z"
   },
   {
    "duration": 434,
    "start_time": "2021-11-28T12:49:09.885Z"
   },
   {
    "duration": 377,
    "start_time": "2021-11-28T12:49:10.321Z"
   },
   {
    "duration": 146,
    "start_time": "2021-11-28T12:49:10.700Z"
   },
   {
    "duration": 3661,
    "start_time": "2021-11-28T12:49:10.849Z"
   },
   {
    "duration": 15,
    "start_time": "2021-11-28T12:49:14.512Z"
   },
   {
    "duration": 160,
    "start_time": "2021-11-28T12:49:14.529Z"
   },
   {
    "duration": 182,
    "start_time": "2021-11-28T12:49:14.691Z"
   },
   {
    "duration": 243,
    "start_time": "2021-11-28T12:49:14.875Z"
   },
   {
    "duration": 166,
    "start_time": "2021-11-28T12:49:15.119Z"
   },
   {
    "duration": 704,
    "start_time": "2021-11-29T05:40:20.959Z"
   },
   {
    "duration": 426,
    "start_time": "2021-11-29T05:40:21.665Z"
   },
   {
    "duration": 383,
    "start_time": "2021-11-29T05:40:22.093Z"
   },
   {
    "duration": 140,
    "start_time": "2021-11-29T05:40:22.478Z"
   },
   {
    "duration": 3867,
    "start_time": "2021-11-29T05:40:22.620Z"
   },
   {
    "duration": 12,
    "start_time": "2021-11-29T05:40:26.490Z"
   },
   {
    "duration": 729,
    "start_time": "2021-11-29T05:40:26.504Z"
   },
   {
    "duration": 195,
    "start_time": "2021-11-29T05:40:27.235Z"
   },
   {
    "duration": 185,
    "start_time": "2021-11-29T05:40:27.432Z"
   },
   {
    "duration": 194,
    "start_time": "2021-11-29T05:40:27.619Z"
   },
   {
    "duration": 336,
    "start_time": "2021-11-29T08:20:40.716Z"
   },
   {
    "duration": 603,
    "start_time": "2021-11-29T08:20:48.107Z"
   },
   {
    "duration": 38,
    "start_time": "2021-11-29T08:20:54.261Z"
   },
   {
    "duration": 37,
    "start_time": "2021-11-29T08:21:42.542Z"
   },
   {
    "duration": 268,
    "start_time": "2021-11-29T08:25:59.520Z"
   },
   {
    "duration": 318,
    "start_time": "2021-11-29T08:26:19.841Z"
   },
   {
    "duration": 40,
    "start_time": "2021-11-29T08:27:45.514Z"
   },
   {
    "duration": 40,
    "start_time": "2021-11-29T08:38:16.055Z"
   },
   {
    "duration": 40,
    "start_time": "2021-11-29T08:38:36.184Z"
   },
   {
    "duration": 39,
    "start_time": "2021-11-29T08:43:46.626Z"
   },
   {
    "duration": 39,
    "start_time": "2021-11-29T08:44:13.366Z"
   },
   {
    "duration": 256,
    "start_time": "2021-11-29T08:45:39.385Z"
   },
   {
    "duration": 264,
    "start_time": "2021-11-29T08:46:35.379Z"
   },
   {
    "duration": 6107,
    "start_time": "2021-11-29T08:47:09.890Z"
   },
   {
    "duration": 154,
    "start_time": "2021-11-29T08:48:04.104Z"
   },
   {
    "duration": 5914,
    "start_time": "2021-11-29T08:48:36.301Z"
   },
   {
    "duration": 76,
    "start_time": "2021-11-29T08:50:05.988Z"
   },
   {
    "duration": 98,
    "start_time": "2021-11-29T08:51:39.920Z"
   },
   {
    "duration": 98,
    "start_time": "2021-11-29T09:08:26.223Z"
   },
   {
    "duration": 142,
    "start_time": "2021-11-29T09:12:22.324Z"
   },
   {
    "duration": 66,
    "start_time": "2021-11-29T09:12:34.803Z"
   },
   {
    "duration": 79,
    "start_time": "2021-11-29T09:12:40.296Z"
   },
   {
    "duration": 102,
    "start_time": "2021-11-29T09:13:08.799Z"
   },
   {
    "duration": 94,
    "start_time": "2021-11-29T09:14:36.565Z"
   },
   {
    "duration": 79,
    "start_time": "2021-11-29T09:16:35.662Z"
   },
   {
    "duration": 104,
    "start_time": "2021-11-29T09:18:59.694Z"
   },
   {
    "duration": 87,
    "start_time": "2021-11-29T09:19:15.578Z"
   },
   {
    "duration": 76,
    "start_time": "2021-11-29T09:19:21.170Z"
   },
   {
    "duration": 83,
    "start_time": "2021-11-29T09:19:48.342Z"
   },
   {
    "duration": 644,
    "start_time": "2021-11-29T09:20:14.259Z"
   },
   {
    "duration": 105,
    "start_time": "2021-11-29T09:20:19.466Z"
   },
   {
    "duration": 119,
    "start_time": "2021-11-29T09:20:42.988Z"
   },
   {
    "duration": 88,
    "start_time": "2021-11-29T09:21:08.345Z"
   },
   {
    "duration": 96,
    "start_time": "2021-11-29T09:21:26.032Z"
   },
   {
    "duration": 96,
    "start_time": "2021-11-29T09:23:32.730Z"
   },
   {
    "duration": 38,
    "start_time": "2021-11-29T09:25:41.516Z"
   },
   {
    "duration": 38,
    "start_time": "2021-11-29T09:25:57.582Z"
   },
   {
    "duration": 499,
    "start_time": "2021-11-29T09:29:29.219Z"
   },
   {
    "duration": 386,
    "start_time": "2021-11-29T09:33:53.982Z"
   },
   {
    "duration": 389,
    "start_time": "2021-11-29T09:34:28.371Z"
   },
   {
    "duration": 374,
    "start_time": "2021-11-29T09:39:15.465Z"
   },
   {
    "duration": 4133,
    "start_time": "2021-11-29T09:48:43.012Z"
   },
   {
    "duration": 67,
    "start_time": "2021-11-29T09:49:06.166Z"
   },
   {
    "duration": 430,
    "start_time": "2021-11-29T09:49:13.012Z"
   },
   {
    "duration": 7105,
    "start_time": "2021-11-29T09:49:38.703Z"
   },
   {
    "duration": 68,
    "start_time": "2021-11-29T09:50:34.589Z"
   },
   {
    "duration": 7127,
    "start_time": "2021-11-29T09:50:40.348Z"
   },
   {
    "duration": 501,
    "start_time": "2021-11-29T09:53:18.271Z"
   },
   {
    "duration": 250,
    "start_time": "2021-11-29T09:54:16.300Z"
   },
   {
    "duration": 67,
    "start_time": "2021-11-29T09:54:34.631Z"
   },
   {
    "duration": 367,
    "start_time": "2021-11-29T09:54:40.916Z"
   },
   {
    "duration": 236,
    "start_time": "2021-11-29T10:03:13.377Z"
   },
   {
    "duration": 72,
    "start_time": "2021-11-29T10:03:40.642Z"
   },
   {
    "duration": 763,
    "start_time": "2021-11-29T10:03:50.233Z"
   },
   {
    "duration": 309,
    "start_time": "2021-11-29T10:04:22.080Z"
   },
   {
    "duration": 71,
    "start_time": "2021-11-29T10:04:31.019Z"
   },
   {
    "duration": 695,
    "start_time": "2021-11-29T10:04:35.779Z"
   },
   {
    "duration": 251,
    "start_time": "2021-11-29T10:06:08.246Z"
   },
   {
    "duration": 74,
    "start_time": "2021-11-29T10:06:30.222Z"
   },
   {
    "duration": 683,
    "start_time": "2021-11-29T10:06:38.126Z"
   },
   {
    "duration": 262,
    "start_time": "2021-11-29T10:08:07.162Z"
   },
   {
    "duration": 70,
    "start_time": "2021-11-29T10:08:35.426Z"
   },
   {
    "duration": 681,
    "start_time": "2021-11-29T10:08:43.354Z"
   },
   {
    "duration": 246,
    "start_time": "2021-11-29T10:10:43.405Z"
   },
   {
    "duration": 70,
    "start_time": "2021-11-29T10:10:55.119Z"
   },
   {
    "duration": 711,
    "start_time": "2021-11-29T10:11:01.287Z"
   },
   {
    "duration": 381,
    "start_time": "2021-11-29T10:11:37.007Z"
   },
   {
    "duration": 71,
    "start_time": "2021-11-29T10:11:47.070Z"
   },
   {
    "duration": 693,
    "start_time": "2021-11-29T10:11:47.143Z"
   },
   {
    "duration": 69,
    "start_time": "2021-11-29T10:11:52.690Z"
   },
   {
    "duration": 696,
    "start_time": "2021-11-29T10:11:59.539Z"
   },
   {
    "duration": 285,
    "start_time": "2021-11-29T10:14:39.666Z"
   },
   {
    "duration": 70,
    "start_time": "2021-11-29T10:14:46.954Z"
   },
   {
    "duration": 822,
    "start_time": "2021-11-29T10:14:52.745Z"
   },
   {
    "duration": 79,
    "start_time": "2021-11-29T10:17:44.614Z"
   },
   {
    "duration": 73,
    "start_time": "2021-11-29T10:18:00.229Z"
   },
   {
    "duration": 1031,
    "start_time": "2021-11-29T10:18:04.774Z"
   },
   {
    "duration": 69,
    "start_time": "2021-11-29T10:19:00.033Z"
   },
   {
    "duration": 1033,
    "start_time": "2021-11-29T10:19:06.874Z"
   },
   {
    "duration": 277,
    "start_time": "2021-11-29T10:21:30.922Z"
   },
   {
    "duration": 69,
    "start_time": "2021-11-29T10:21:42.879Z"
   },
   {
    "duration": 361,
    "start_time": "2021-11-29T10:21:44.090Z"
   },
   {
    "duration": 69,
    "start_time": "2021-11-29T10:21:53.758Z"
   },
   {
    "duration": 1153,
    "start_time": "2021-11-29T10:21:59.790Z"
   },
   {
    "duration": 366,
    "start_time": "2021-11-29T10:25:57.630Z"
   },
   {
    "duration": 252,
    "start_time": "2021-11-29T10:27:07.729Z"
   },
   {
    "duration": 81,
    "start_time": "2021-11-29T10:27:19.247Z"
   },
   {
    "duration": 1061,
    "start_time": "2021-11-29T10:27:19.329Z"
   },
   {
    "duration": 317,
    "start_time": "2021-11-29T10:28:09.514Z"
   },
   {
    "duration": 91,
    "start_time": "2021-11-29T10:28:13.607Z"
   },
   {
    "duration": 1188,
    "start_time": "2021-11-29T10:28:13.700Z"
   },
   {
    "duration": 294,
    "start_time": "2021-11-29T10:28:16.821Z"
   },
   {
    "duration": 70,
    "start_time": "2021-11-29T10:28:23.439Z"
   },
   {
    "duration": 1068,
    "start_time": "2021-11-29T10:28:23.511Z"
   },
   {
    "duration": 252,
    "start_time": "2021-11-29T10:33:36.008Z"
   },
   {
    "duration": 69,
    "start_time": "2021-11-29T10:33:41.984Z"
   },
   {
    "duration": 1196,
    "start_time": "2021-11-29T10:33:42.055Z"
   },
   {
    "duration": 306,
    "start_time": "2021-11-29T10:36:53.418Z"
   },
   {
    "duration": 68,
    "start_time": "2021-11-29T10:37:04.879Z"
   },
   {
    "duration": 68,
    "start_time": "2021-11-29T10:37:32.008Z"
   },
   {
    "duration": 1148,
    "start_time": "2021-11-29T10:37:37.879Z"
   },
   {
    "duration": 250,
    "start_time": "2021-11-29T10:40:38.068Z"
   },
   {
    "duration": 68,
    "start_time": "2021-11-29T10:40:45.136Z"
   },
   {
    "duration": 1039,
    "start_time": "2021-11-29T10:40:45.312Z"
   },
   {
    "duration": 294,
    "start_time": "2021-11-29T10:48:25.193Z"
   },
   {
    "duration": 68,
    "start_time": "2021-11-29T10:48:29.380Z"
   },
   {
    "duration": 844,
    "start_time": "2021-11-29T10:48:29.449Z"
   },
   {
    "duration": 69,
    "start_time": "2021-11-29T10:49:02.257Z"
   },
   {
    "duration": 789,
    "start_time": "2021-11-29T10:50:12.484Z"
   },
   {
    "duration": 66,
    "start_time": "2021-11-29T10:50:20.292Z"
   },
   {
    "duration": 806,
    "start_time": "2021-11-29T10:50:25.988Z"
   },
   {
    "duration": 244,
    "start_time": "2021-11-29T10:50:36.049Z"
   },
   {
    "duration": 70,
    "start_time": "2021-11-29T10:50:45.645Z"
   },
   {
    "duration": 770,
    "start_time": "2021-11-29T10:50:50.514Z"
   },
   {
    "duration": -1498,
    "start_time": "2021-11-29T10:51:45.626Z"
   },
   {
    "duration": -1561,
    "start_time": "2021-11-29T10:51:45.690Z"
   },
   {
    "duration": 686,
    "start_time": "2021-11-29T10:52:23.860Z"
   },
   {
    "duration": 1077,
    "start_time": "2021-11-29T10:52:29.611Z"
   },
   {
    "duration": 314,
    "start_time": "2021-11-29T10:54:00.560Z"
   },
   {
    "duration": 67,
    "start_time": "2021-11-29T10:54:05.539Z"
   },
   {
    "duration": 1063,
    "start_time": "2021-11-29T10:54:05.609Z"
   },
   {
    "duration": 285,
    "start_time": "2021-11-29T10:55:22.692Z"
   },
   {
    "duration": 66,
    "start_time": "2021-11-29T10:55:25.980Z"
   },
   {
    "duration": 1043,
    "start_time": "2021-11-29T10:55:26.053Z"
   },
   {
    "duration": 255,
    "start_time": "2021-11-29T11:00:07.987Z"
   },
   {
    "duration": 70,
    "start_time": "2021-11-29T11:00:11.676Z"
   },
   {
    "duration": 838,
    "start_time": "2021-11-29T11:00:11.789Z"
   },
   {
    "duration": 70,
    "start_time": "2021-11-29T11:06:00.333Z"
   },
   {
    "duration": 1056,
    "start_time": "2021-11-29T11:06:03.667Z"
   },
   {
    "duration": 282,
    "start_time": "2021-11-29T11:13:11.577Z"
   },
   {
    "duration": 67,
    "start_time": "2021-11-29T11:13:15.200Z"
   },
   {
    "duration": 1057,
    "start_time": "2021-11-29T11:13:15.339Z"
   },
   {
    "duration": 254,
    "start_time": "2021-11-29T11:15:03.019Z"
   },
   {
    "duration": 70,
    "start_time": "2021-11-29T11:15:07.524Z"
   },
   {
    "duration": 1081,
    "start_time": "2021-11-29T11:15:07.595Z"
   },
   {
    "duration": 254,
    "start_time": "2021-11-29T11:20:16.599Z"
   },
   {
    "duration": 69,
    "start_time": "2021-11-29T11:20:21.594Z"
   },
   {
    "duration": 1106,
    "start_time": "2021-11-29T11:20:21.665Z"
   },
   {
    "duration": 348,
    "start_time": "2021-11-29T11:22:12.360Z"
   },
   {
    "duration": 72,
    "start_time": "2021-11-29T11:22:14.954Z"
   },
   {
    "duration": 1095,
    "start_time": "2021-11-29T11:22:15.028Z"
   },
   {
    "duration": 319,
    "start_time": "2021-11-29T11:22:35.373Z"
   },
   {
    "duration": 67,
    "start_time": "2021-11-29T11:22:39.608Z"
   },
   {
    "duration": 1062,
    "start_time": "2021-11-29T11:22:39.677Z"
   },
   {
    "duration": 67,
    "start_time": "2021-11-29T11:26:50.617Z"
   },
   {
    "duration": 99,
    "start_time": "2021-11-29T11:26:53.913Z"
   },
   {
    "duration": 88,
    "start_time": "2021-11-29T11:27:15.866Z"
   },
   {
    "duration": 77,
    "start_time": "2021-11-29T11:27:40.722Z"
   },
   {
    "duration": 67,
    "start_time": "2021-11-29T11:27:44.268Z"
   },
   {
    "duration": 85,
    "start_time": "2021-11-29T11:27:44.350Z"
   },
   {
    "duration": 1131,
    "start_time": "2021-11-29T11:28:09.627Z"
   },
   {
    "duration": 264,
    "start_time": "2021-11-29T11:30:51.534Z"
   },
   {
    "duration": 68,
    "start_time": "2021-11-29T11:30:56.557Z"
   },
   {
    "duration": 786,
    "start_time": "2021-11-29T11:30:56.627Z"
   },
   {
    "duration": 258,
    "start_time": "2021-11-29T11:32:05.822Z"
   },
   {
    "duration": 98,
    "start_time": "2021-11-29T11:32:09.577Z"
   },
   {
    "duration": 1525,
    "start_time": "2021-11-29T11:32:09.677Z"
   },
   {
    "duration": 279,
    "start_time": "2021-11-29T11:35:29.601Z"
   },
   {
    "duration": 69,
    "start_time": "2021-11-29T11:35:33.795Z"
   },
   {
    "duration": 1051,
    "start_time": "2021-11-29T11:35:33.866Z"
   },
   {
    "duration": 283,
    "start_time": "2021-11-29T11:39:06.955Z"
   },
   {
    "duration": 68,
    "start_time": "2021-11-29T11:39:09.735Z"
   },
   {
    "duration": 770,
    "start_time": "2021-11-29T11:39:09.805Z"
   },
   {
    "duration": 291,
    "start_time": "2021-11-29T11:40:18.642Z"
   },
   {
    "duration": 67,
    "start_time": "2021-11-29T11:40:22.482Z"
   },
   {
    "duration": 717,
    "start_time": "2021-11-29T11:40:22.550Z"
   },
   {
    "duration": 667,
    "start_time": "2021-11-29T11:43:04.013Z"
   },
   {
    "duration": 68,
    "start_time": "2021-11-29T11:43:11.255Z"
   },
   {
    "duration": 709,
    "start_time": "2021-11-29T11:43:11.324Z"
   },
   {
    "duration": 98,
    "start_time": "2021-11-29T11:44:58.604Z"
   },
   {
    "duration": 67,
    "start_time": "2021-11-29T11:45:05.611Z"
   },
   {
    "duration": 83,
    "start_time": "2021-11-29T11:45:05.680Z"
   },
   {
    "duration": 77,
    "start_time": "2021-11-29T11:45:51.009Z"
   },
   {
    "duration": 74,
    "start_time": "2021-11-29T11:45:55.263Z"
   },
   {
    "duration": 130,
    "start_time": "2021-11-29T11:45:55.339Z"
   },
   {
    "duration": 98,
    "start_time": "2021-11-29T11:45:59.994Z"
   },
   {
    "duration": 69,
    "start_time": "2021-11-29T11:46:22.085Z"
   },
   {
    "duration": 84,
    "start_time": "2021-11-29T11:46:27.870Z"
   },
   {
    "duration": 81,
    "start_time": "2021-11-29T11:47:06.255Z"
   },
   {
    "duration": 1022,
    "start_time": "2021-11-29T11:48:23.652Z"
   },
   {
    "duration": 79,
    "start_time": "2021-11-29T11:49:43.330Z"
   },
   {
    "duration": 1019,
    "start_time": "2021-11-29T11:50:00.593Z"
   },
   {
    "duration": 69,
    "start_time": "2021-11-29T11:50:05.693Z"
   },
   {
    "duration": 1044,
    "start_time": "2021-11-29T11:50:05.764Z"
   },
   {
    "duration": 1129,
    "start_time": "2021-11-29T11:51:45.448Z"
   },
   {
    "duration": 71,
    "start_time": "2021-11-29T11:51:52.302Z"
   },
   {
    "duration": 1061,
    "start_time": "2021-11-29T11:51:52.375Z"
   },
   {
    "duration": 4,
    "start_time": "2021-11-29T11:56:42.882Z"
   },
   {
    "duration": 78,
    "start_time": "2021-11-29T12:01:08.780Z"
   },
   {
    "duration": 95,
    "start_time": "2021-11-29T12:01:55.303Z"
   },
   {
    "duration": 78,
    "start_time": "2021-11-29T12:02:22.372Z"
   },
   {
    "duration": 69,
    "start_time": "2021-11-29T12:02:39.725Z"
   },
   {
    "duration": 1102,
    "start_time": "2021-11-29T12:02:39.795Z"
   },
   {
    "duration": 5,
    "start_time": "2021-11-29T12:02:40.898Z"
   },
   {
    "duration": 92,
    "start_time": "2021-11-29T12:02:40.904Z"
   },
   {
    "duration": 94,
    "start_time": "2021-11-29T12:29:30.049Z"
   },
   {
    "duration": 922,
    "start_time": "2021-11-29T12:30:00.699Z"
   },
   {
    "duration": 457,
    "start_time": "2021-11-29T12:33:55.280Z"
   },
   {
    "duration": 73,
    "start_time": "2021-11-29T12:34:03.179Z"
   },
   {
    "duration": 501,
    "start_time": "2021-11-29T12:34:03.255Z"
   },
   {
    "duration": 1018,
    "start_time": "2021-11-29T12:35:45.289Z"
   },
   {
    "duration": 70,
    "start_time": "2021-11-29T12:35:49.760Z"
   },
   {
    "duration": 467,
    "start_time": "2021-11-29T12:35:49.832Z"
   },
   {
    "duration": 284,
    "start_time": "2021-11-29T12:38:56.679Z"
   },
   {
    "duration": 70,
    "start_time": "2021-11-29T12:39:00.267Z"
   },
   {
    "duration": 467,
    "start_time": "2021-11-29T12:39:00.339Z"
   },
   {
    "duration": 261,
    "start_time": "2021-11-29T12:40:49.414Z"
   },
   {
    "duration": 917,
    "start_time": "2021-11-29T12:40:53.536Z"
   },
   {
    "duration": -1885,
    "start_time": "2021-11-29T12:40:56.341Z"
   },
   {
    "duration": -1907,
    "start_time": "2021-11-29T12:40:56.364Z"
   },
   {
    "duration": -1925,
    "start_time": "2021-11-29T12:40:56.383Z"
   },
   {
    "duration": -2006,
    "start_time": "2021-11-29T12:40:56.466Z"
   },
   {
    "duration": -2025,
    "start_time": "2021-11-29T12:40:56.487Z"
   },
   {
    "duration": -2042,
    "start_time": "2021-11-29T12:40:56.505Z"
   },
   {
    "duration": -2052,
    "start_time": "2021-11-29T12:40:56.516Z"
   },
   {
    "duration": 72,
    "start_time": "2021-11-29T12:40:57.087Z"
   },
   {
    "duration": 713,
    "start_time": "2021-11-29T12:40:57.161Z"
   },
   {
    "duration": -1570,
    "start_time": "2021-11-29T12:40:59.446Z"
   },
   {
    "duration": -1589,
    "start_time": "2021-11-29T12:40:59.466Z"
   },
   {
    "duration": -1599,
    "start_time": "2021-11-29T12:40:59.477Z"
   },
   {
    "duration": -1613,
    "start_time": "2021-11-29T12:40:59.492Z"
   },
   {
    "duration": -1625,
    "start_time": "2021-11-29T12:40:59.505Z"
   },
   {
    "duration": -1664,
    "start_time": "2021-11-29T12:40:59.545Z"
   },
   {
    "duration": -1677,
    "start_time": "2021-11-29T12:40:59.559Z"
   },
   {
    "duration": -1690,
    "start_time": "2021-11-29T12:40:59.573Z"
   },
   {
    "duration": 251,
    "start_time": "2021-11-29T12:42:14.466Z"
   },
   {
    "duration": 71,
    "start_time": "2021-11-29T12:42:18.398Z"
   },
   {
    "duration": 443,
    "start_time": "2021-11-29T12:42:18.471Z"
   },
   {
    "duration": 269,
    "start_time": "2021-11-29T12:44:00.643Z"
   },
   {
    "duration": 70,
    "start_time": "2021-11-29T12:44:03.997Z"
   },
   {
    "duration": 773,
    "start_time": "2021-11-29T12:44:04.069Z"
   },
   {
    "duration": 262,
    "start_time": "2021-11-29T12:44:27.807Z"
   },
   {
    "duration": 72,
    "start_time": "2021-11-29T12:44:30.717Z"
   },
   {
    "duration": 1060,
    "start_time": "2021-11-29T12:44:30.791Z"
   },
   {
    "duration": 4462,
    "start_time": "2021-11-29T12:47:54.857Z"
   },
   {
    "duration": 75,
    "start_time": "2021-11-29T12:48:00.595Z"
   },
   {
    "duration": 1075,
    "start_time": "2021-11-29T12:48:00.672Z"
   },
   {
    "duration": 4,
    "start_time": "2021-11-29T12:48:01.749Z"
   },
   {
    "duration": 99,
    "start_time": "2021-11-29T12:48:01.754Z"
   },
   {
    "duration": 4101,
    "start_time": "2021-11-29T12:49:35.808Z"
   },
   {
    "duration": 78,
    "start_time": "2021-11-29T12:49:43.302Z"
   },
   {
    "duration": 1079,
    "start_time": "2021-11-29T12:49:43.382Z"
   },
   {
    "duration": 4,
    "start_time": "2021-11-29T12:49:44.463Z"
   },
   {
    "duration": 126,
    "start_time": "2021-11-29T12:49:44.469Z"
   },
   {
    "duration": 4352,
    "start_time": "2021-11-29T12:49:47.013Z"
   },
   {
    "duration": 4474,
    "start_time": "2021-11-29T12:50:19.238Z"
   },
   {
    "duration": 4584,
    "start_time": "2021-11-29T12:51:43.149Z"
   },
   {
    "duration": 4427,
    "start_time": "2021-11-29T12:52:50.841Z"
   },
   {
    "duration": 4258,
    "start_time": "2021-11-29T12:53:21.328Z"
   },
   {
    "duration": 116,
    "start_time": "2021-11-29T12:53:34.003Z"
   },
   {
    "duration": 1176,
    "start_time": "2021-11-29T12:53:34.121Z"
   },
   {
    "duration": 4,
    "start_time": "2021-11-29T12:53:35.299Z"
   },
   {
    "duration": 140,
    "start_time": "2021-11-29T12:53:35.305Z"
   },
   {
    "duration": 4975,
    "start_time": "2021-11-29T12:53:35.447Z"
   },
   {
    "duration": 4521,
    "start_time": "2021-11-29T12:54:50.732Z"
   },
   {
    "duration": 3959,
    "start_time": "2021-11-29T12:56:06.388Z"
   },
   {
    "duration": 4031,
    "start_time": "2021-11-29T12:56:59.318Z"
   },
   {
    "duration": 9824,
    "start_time": "2021-11-29T13:01:16.806Z"
   },
   {
    "duration": 3885,
    "start_time": "2021-11-29T13:04:36.101Z"
   },
   {
    "duration": 3495,
    "start_time": "2021-11-29T13:14:19.469Z"
   },
   {
    "duration": 3688,
    "start_time": "2021-11-29T13:15:25.898Z"
   },
   {
    "duration": 3433,
    "start_time": "2021-11-29T13:16:38.660Z"
   },
   {
    "duration": 3549,
    "start_time": "2021-11-29T13:17:58.532Z"
   },
   {
    "duration": 3322,
    "start_time": "2021-11-29T13:18:28.631Z"
   },
   {
    "duration": 3680,
    "start_time": "2021-11-29T13:22:20.501Z"
   },
   {
    "duration": 3629,
    "start_time": "2021-11-29T13:23:27.762Z"
   },
   {
    "duration": 3328,
    "start_time": "2021-11-29T13:25:15.608Z"
   },
   {
    "duration": 3259,
    "start_time": "2021-11-29T13:26:22.190Z"
   },
   {
    "duration": 3606,
    "start_time": "2021-11-29T13:27:07.916Z"
   },
   {
    "duration": 3346,
    "start_time": "2021-11-29T13:29:32.457Z"
   },
   {
    "duration": 3684,
    "start_time": "2021-11-29T13:33:11.090Z"
   },
   {
    "duration": 3210,
    "start_time": "2021-11-29T13:35:05.452Z"
   },
   {
    "duration": 3450,
    "start_time": "2021-11-29T13:38:01.811Z"
   },
   {
    "duration": 3360,
    "start_time": "2021-11-29T13:38:26.307Z"
   },
   {
    "duration": 3339,
    "start_time": "2021-11-29T13:40:58.676Z"
   },
   {
    "duration": 3353,
    "start_time": "2021-11-29T13:42:20.608Z"
   },
   {
    "duration": 3475,
    "start_time": "2021-11-29T13:42:51.565Z"
   },
   {
    "duration": 74,
    "start_time": "2021-11-29T13:45:10.062Z"
   },
   {
    "duration": 1190,
    "start_time": "2021-11-29T13:45:10.137Z"
   },
   {
    "duration": 4,
    "start_time": "2021-11-29T13:45:11.330Z"
   },
   {
    "duration": 98,
    "start_time": "2021-11-29T13:45:11.336Z"
   },
   {
    "duration": 3322,
    "start_time": "2021-11-29T13:45:11.436Z"
   },
   {
    "duration": 10,
    "start_time": "2021-11-29T13:45:14.760Z"
   },
   {
    "duration": 631,
    "start_time": "2021-11-29T13:45:14.771Z"
   },
   {
    "duration": 165,
    "start_time": "2021-11-29T13:45:15.404Z"
   },
   {
    "duration": 141,
    "start_time": "2021-11-29T13:45:15.571Z"
   },
   {
    "duration": 158,
    "start_time": "2021-11-29T13:45:15.713Z"
   },
   {
    "duration": 155,
    "start_time": "2021-11-29T14:13:29.167Z"
   },
   {
    "duration": 476,
    "start_time": "2021-11-29T14:13:59.661Z"
   },
   {
    "duration": 8422,
    "start_time": "2021-11-29T14:16:41.985Z"
   },
   {
    "duration": 627,
    "start_time": "2021-11-29T14:20:48.907Z"
   },
   {
    "duration": 96,
    "start_time": "2021-11-29T14:22:18.341Z"
   },
   {
    "duration": 5637,
    "start_time": "2021-11-29T14:23:02.505Z"
   },
   {
    "duration": 1053,
    "start_time": "2021-11-29T14:25:00.047Z"
   },
   {
    "duration": 68,
    "start_time": "2021-11-29T14:25:11.630Z"
   },
   {
    "duration": 1117,
    "start_time": "2021-11-29T14:25:11.700Z"
   },
   {
    "duration": 4,
    "start_time": "2021-11-29T14:25:12.819Z"
   },
   {
    "duration": 104,
    "start_time": "2021-11-29T14:25:12.825Z"
   },
   {
    "duration": 3579,
    "start_time": "2021-11-29T14:25:12.931Z"
   },
   {
    "duration": 13,
    "start_time": "2021-11-29T14:25:16.511Z"
   },
   {
    "duration": 145,
    "start_time": "2021-11-29T14:25:16.525Z"
   },
   {
    "duration": 163,
    "start_time": "2021-11-29T14:25:16.673Z"
   },
   {
    "duration": 149,
    "start_time": "2021-11-29T14:25:16.838Z"
   },
   {
    "duration": 161,
    "start_time": "2021-11-29T14:25:16.989Z"
   },
   {
    "duration": 1070,
    "start_time": "2021-11-29T14:30:25.084Z"
   },
   {
    "duration": 68,
    "start_time": "2021-11-29T14:30:48.844Z"
   },
   {
    "duration": 1192,
    "start_time": "2021-11-29T14:30:49.031Z"
   },
   {
    "duration": 69,
    "start_time": "2021-11-29T14:35:14.328Z"
   },
   {
    "duration": 5748,
    "start_time": "2021-11-29T14:36:30.172Z"
   },
   {
    "duration": 1083,
    "start_time": "2021-11-29T14:37:22.044Z"
   },
   {
    "duration": 1054,
    "start_time": "2021-11-29T14:37:52.577Z"
   },
   {
    "duration": 103,
    "start_time": "2021-11-29T14:38:06.470Z"
   },
   {
    "duration": 1812,
    "start_time": "2021-11-29T14:38:06.576Z"
   },
   {
    "duration": 73,
    "start_time": "2021-11-29T14:47:41.812Z"
   },
   {
    "duration": 1131,
    "start_time": "2021-11-29T14:47:41.888Z"
   },
   {
    "duration": 23,
    "start_time": "2021-11-29T14:47:43.032Z"
   },
   {
    "duration": 223,
    "start_time": "2021-11-29T14:47:43.064Z"
   },
   {
    "duration": 3509,
    "start_time": "2021-11-29T14:47:43.289Z"
   },
   {
    "duration": 12,
    "start_time": "2021-11-29T14:47:46.800Z"
   },
   {
    "duration": 131,
    "start_time": "2021-11-29T14:47:46.814Z"
   },
   {
    "duration": 166,
    "start_time": "2021-11-29T14:47:46.947Z"
   },
   {
    "duration": 152,
    "start_time": "2021-11-29T14:47:47.115Z"
   },
   {
    "duration": 150,
    "start_time": "2021-11-29T14:47:47.269Z"
   },
   {
    "duration": 1839,
    "start_time": "2021-11-29T18:58:54.550Z"
   },
   {
    "duration": 652,
    "start_time": "2021-11-29T18:59:50.508Z"
   },
   {
    "duration": 699,
    "start_time": "2021-11-29T19:02:15.902Z"
   },
   {
    "duration": 679,
    "start_time": "2021-11-29T19:04:22.847Z"
   },
   {
    "duration": 631,
    "start_time": "2021-11-29T19:05:38.807Z"
   },
   {
    "duration": 767,
    "start_time": "2021-11-29T19:06:19.436Z"
   },
   {
    "duration": 641,
    "start_time": "2021-11-29T19:07:17.767Z"
   },
   {
    "duration": 1126,
    "start_time": "2021-11-29T19:08:44.379Z"
   },
   {
    "duration": 635,
    "start_time": "2021-11-29T19:10:05.651Z"
   },
   {
    "duration": 887,
    "start_time": "2021-11-29T19:10:52.837Z"
   },
   {
    "duration": 817,
    "start_time": "2021-11-29T19:11:17.256Z"
   },
   {
    "duration": 664,
    "start_time": "2021-11-29T19:12:51.592Z"
   },
   {
    "duration": 2331,
    "start_time": "2021-11-29T19:14:30.707Z"
   },
   {
    "duration": 757,
    "start_time": "2021-11-29T19:17:39.539Z"
   },
   {
    "duration": 653,
    "start_time": "2021-11-29T19:18:59.024Z"
   },
   {
    "duration": 124,
    "start_time": "2021-11-29T19:20:17.024Z"
   },
   {
    "duration": 1043,
    "start_time": "2021-11-29T19:20:56.376Z"
   },
   {
    "duration": 679,
    "start_time": "2021-11-29T19:25:24.362Z"
   },
   {
    "duration": 772,
    "start_time": "2021-11-29T19:28:41.951Z"
   },
   {
    "duration": 744,
    "start_time": "2021-11-29T19:39:09.887Z"
   },
   {
    "duration": 782,
    "start_time": "2021-11-29T19:39:51.755Z"
   },
   {
    "duration": 751,
    "start_time": "2021-11-29T19:41:12.496Z"
   },
   {
    "duration": 1932,
    "start_time": "2021-11-30T19:43:33.017Z"
   },
   {
    "duration": 546,
    "start_time": "2021-11-30T19:58:34.405Z"
   },
   {
    "duration": 535,
    "start_time": "2021-11-30T19:59:15.768Z"
   },
   {
    "duration": 815,
    "start_time": "2021-11-30T19:59:57.280Z"
   },
   {
    "duration": 823,
    "start_time": "2021-11-30T20:01:45.870Z"
   },
   {
    "duration": 7104,
    "start_time": "2021-11-30T20:09:06.062Z"
   },
   {
    "duration": 120,
    "start_time": "2021-11-30T20:10:09.485Z"
   },
   {
    "duration": 104,
    "start_time": "2021-11-30T20:11:13.123Z"
   },
   {
    "duration": 7903,
    "start_time": "2021-11-30T20:11:50.604Z"
   },
   {
    "duration": 7533,
    "start_time": "2021-11-30T20:14:16.422Z"
   },
   {
    "duration": 100,
    "start_time": "2021-11-30T20:15:26.608Z"
   },
   {
    "duration": 253,
    "start_time": "2021-11-30T20:16:22.095Z"
   },
   {
    "duration": 1290,
    "start_time": "2021-11-30T20:18:38.212Z"
   },
   {
    "duration": 76,
    "start_time": "2022-05-10T13:32:29.761Z"
   },
   {
    "duration": 1712,
    "start_time": "2022-05-10T13:32:35.647Z"
   },
   {
    "duration": 160,
    "start_time": "2022-05-10T13:32:37.361Z"
   },
   {
    "duration": 0,
    "start_time": "2022-05-10T13:32:37.523Z"
   },
   {
    "duration": 0,
    "start_time": "2022-05-10T13:32:37.524Z"
   },
   {
    "duration": 0,
    "start_time": "2022-05-10T13:32:37.526Z"
   },
   {
    "duration": 0,
    "start_time": "2022-05-10T13:32:37.527Z"
   },
   {
    "duration": 0,
    "start_time": "2022-05-10T13:32:37.529Z"
   },
   {
    "duration": 0,
    "start_time": "2022-05-10T13:32:37.530Z"
   },
   {
    "duration": 0,
    "start_time": "2022-05-10T13:32:37.531Z"
   },
   {
    "duration": 0,
    "start_time": "2022-05-10T13:32:37.533Z"
   },
   {
    "duration": 0,
    "start_time": "2022-05-10T13:32:37.534Z"
   },
   {
    "duration": 0,
    "start_time": "2022-05-10T13:32:37.548Z"
   },
   {
    "duration": 0,
    "start_time": "2022-05-10T13:32:37.548Z"
   },
   {
    "duration": 0,
    "start_time": "2022-05-10T13:32:37.550Z"
   },
   {
    "duration": 148,
    "start_time": "2022-05-10T13:33:35.751Z"
   },
   {
    "duration": 3,
    "start_time": "2022-05-10T13:33:50.912Z"
   },
   {
    "duration": 125,
    "start_time": "2022-05-10T13:33:50.924Z"
   },
   {
    "duration": 13,
    "start_time": "2022-05-10T13:33:51.053Z"
   },
   {
    "duration": 168,
    "start_time": "2022-05-10T13:33:51.068Z"
   },
   {
    "duration": 337,
    "start_time": "2022-05-10T13:33:51.238Z"
   },
   {
    "duration": 21,
    "start_time": "2022-05-10T13:33:51.577Z"
   },
   {
    "duration": 12,
    "start_time": "2022-05-10T13:33:51.600Z"
   },
   {
    "duration": 296,
    "start_time": "2022-05-10T13:33:51.613Z"
   },
   {
    "duration": 11,
    "start_time": "2022-05-10T13:33:51.911Z"
   },
   {
    "duration": 164,
    "start_time": "2022-05-10T13:33:51.923Z"
   },
   {
    "duration": 10,
    "start_time": "2022-05-10T13:33:52.090Z"
   },
   {
    "duration": 20,
    "start_time": "2022-05-10T13:33:52.102Z"
   },
   {
    "duration": 93,
    "start_time": "2022-05-10T13:33:52.123Z"
   },
   {
    "duration": 83,
    "start_time": "2022-05-10T13:33:52.218Z"
   },
   {
    "duration": 5342,
    "start_time": "2022-05-10T13:33:52.303Z"
   },
   {
    "duration": 34,
    "start_time": "2022-05-10T13:33:57.652Z"
   },
   {
    "duration": 53,
    "start_time": "2022-05-10T13:33:57.688Z"
   },
   {
    "duration": 311,
    "start_time": "2022-05-10T13:33:57.743Z"
   },
   {
    "duration": 210,
    "start_time": "2022-05-10T13:33:58.056Z"
   },
   {
    "duration": 174,
    "start_time": "2022-05-10T13:33:58.268Z"
   },
   {
    "duration": 163,
    "start_time": "2022-05-10T13:33:58.449Z"
   },
   {
    "duration": 121,
    "start_time": "2022-05-10T13:37:22.309Z"
   },
   {
    "duration": 1442,
    "start_time": "2022-05-10T13:38:46.634Z"
   },
   {
    "duration": 179,
    "start_time": "2022-05-10T13:38:48.079Z"
   },
   {
    "duration": 20,
    "start_time": "2022-05-10T13:38:48.263Z"
   },
   {
    "duration": 197,
    "start_time": "2022-05-10T13:38:48.285Z"
   },
   {
    "duration": 449,
    "start_time": "2022-05-10T13:38:48.484Z"
   },
   {
    "duration": 33,
    "start_time": "2022-05-10T13:38:48.936Z"
   },
   {
    "duration": 17,
    "start_time": "2022-05-10T13:38:48.973Z"
   },
   {
    "duration": 377,
    "start_time": "2022-05-10T13:38:48.991Z"
   },
   {
    "duration": 14,
    "start_time": "2022-05-10T13:38:49.370Z"
   },
   {
    "duration": 226,
    "start_time": "2022-05-10T13:38:49.387Z"
   },
   {
    "duration": 15,
    "start_time": "2022-05-10T13:38:49.615Z"
   },
   {
    "duration": 25,
    "start_time": "2022-05-10T13:38:49.632Z"
   },
   {
    "duration": 89,
    "start_time": "2022-05-10T13:38:49.659Z"
   },
   {
    "duration": 79,
    "start_time": "2022-05-10T13:38:49.750Z"
   },
   {
    "duration": 5141,
    "start_time": "2022-05-10T13:38:49.831Z"
   },
   {
    "duration": 26,
    "start_time": "2022-05-10T13:38:54.975Z"
   },
   {
    "duration": 31,
    "start_time": "2022-05-10T13:38:55.003Z"
   },
   {
    "duration": 334,
    "start_time": "2022-05-10T13:38:55.056Z"
   },
   {
    "duration": 235,
    "start_time": "2022-05-10T13:38:55.392Z"
   },
   {
    "duration": 198,
    "start_time": "2022-05-10T13:38:55.629Z"
   },
   {
    "duration": 181,
    "start_time": "2022-05-10T13:38:55.829Z"
   },
   {
    "duration": 314,
    "start_time": "2022-05-10T13:38:56.012Z"
   },
   {
    "duration": 206,
    "start_time": "2022-05-10T13:38:56.328Z"
   }
  ],
  "kernelspec": {
   "display_name": "Python 3 (ipykernel)",
   "language": "python",
   "name": "python3"
  },
  "language_info": {
   "codemirror_mode": {
    "name": "ipython",
    "version": 3
   },
   "file_extension": ".py",
   "mimetype": "text/x-python",
   "name": "python",
   "nbconvert_exporter": "python",
   "pygments_lexer": "ipython3",
   "version": "3.9.5"
  },
  "toc": {
   "base_numbering": 1,
   "nav_menu": {},
   "number_sections": true,
   "sideBar": true,
   "skip_h1_title": true,
   "title_cell": "Table of Contents",
   "title_sidebar": "Contents",
   "toc_cell": false,
   "toc_position": {},
   "toc_section_display": true,
   "toc_window_display": false
  }
 },
 "nbformat": 4,
 "nbformat_minor": 2
}
